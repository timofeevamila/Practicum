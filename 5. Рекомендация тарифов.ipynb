{
 "cells": [
  {
   "cell_type": "markdown",
   "metadata": {},
   "source": [
    "# Рекомендация тарифов"
   ]
  },
  {
   "cell_type": "markdown",
   "metadata": {},
   "source": [
    "В вашем распоряжении данные о поведении клиентов, которые уже перешли на эти тарифы (из проекта курса «Статистический анализ данных»). Нужно построить модель для задачи классификации, которая выберет подходящий тариф. Предобработка данных не понадобится — вы её уже сделали.\n",
    "\n",
    "Постройте модель с максимально большим значением *accuracy*. Чтобы сдать проект успешно, нужно довести долю правильных ответов по крайней мере до 0.75. Проверьте *accuracy* на тестовой выборке самостоятельно."
   ]
  },
  {
   "cell_type": "markdown",
   "metadata": {},
   "source": [
    "## Изучение данных из файла\n",
    "\n",
    "Импортируем библиотеки, с которыми будем работать"
   ]
  },
  {
   "cell_type": "code",
   "execution_count": 1,
   "metadata": {},
   "outputs": [],
   "source": [
    "import pandas as pd\n",
    "\n",
    "from sklearn.model_selection import train_test_split\n",
    "from sklearn.tree import DecisionTreeClassifier\n",
    "from sklearn.metrics import accuracy_score\n",
    "from sklearn.ensemble import RandomForestClassifier\n",
    "from sklearn.linear_model import LogisticRegression\n",
    "from sklearn.dummy import DummyClassifier\n",
    "import seaborn as sbn\n",
    "import matplotlib.pyplot as plt\n",
    "\n",
    "import warnings\n",
    "warnings.filterwarnings('ignore')"
   ]
  },
  {
   "cell_type": "markdown",
   "metadata": {},
   "source": [
    "Сохраняем данные в переменную `df`"
   ]
  },
  {
   "cell_type": "code",
   "execution_count": 2,
   "metadata": {},
   "outputs": [
    {
     "data": {
      "text/html": [
       "<div>\n",
       "<style scoped>\n",
       "    .dataframe tbody tr th:only-of-type {\n",
       "        vertical-align: middle;\n",
       "    }\n",
       "\n",
       "    .dataframe tbody tr th {\n",
       "        vertical-align: top;\n",
       "    }\n",
       "\n",
       "    .dataframe thead th {\n",
       "        text-align: right;\n",
       "    }\n",
       "</style>\n",
       "<table border=\"1\" class=\"dataframe\">\n",
       "  <thead>\n",
       "    <tr style=\"text-align: right;\">\n",
       "      <th></th>\n",
       "      <th>calls</th>\n",
       "      <th>minutes</th>\n",
       "      <th>messages</th>\n",
       "      <th>mb_used</th>\n",
       "      <th>is_ultra</th>\n",
       "    </tr>\n",
       "  </thead>\n",
       "  <tbody>\n",
       "    <tr>\n",
       "      <td>0</td>\n",
       "      <td>40.0</td>\n",
       "      <td>311.90</td>\n",
       "      <td>83.0</td>\n",
       "      <td>19915.42</td>\n",
       "      <td>0</td>\n",
       "    </tr>\n",
       "    <tr>\n",
       "      <td>1</td>\n",
       "      <td>85.0</td>\n",
       "      <td>516.75</td>\n",
       "      <td>56.0</td>\n",
       "      <td>22696.96</td>\n",
       "      <td>0</td>\n",
       "    </tr>\n",
       "    <tr>\n",
       "      <td>2</td>\n",
       "      <td>77.0</td>\n",
       "      <td>467.66</td>\n",
       "      <td>86.0</td>\n",
       "      <td>21060.45</td>\n",
       "      <td>0</td>\n",
       "    </tr>\n",
       "    <tr>\n",
       "      <td>3</td>\n",
       "      <td>106.0</td>\n",
       "      <td>745.53</td>\n",
       "      <td>81.0</td>\n",
       "      <td>8437.39</td>\n",
       "      <td>1</td>\n",
       "    </tr>\n",
       "    <tr>\n",
       "      <td>4</td>\n",
       "      <td>66.0</td>\n",
       "      <td>418.74</td>\n",
       "      <td>1.0</td>\n",
       "      <td>14502.75</td>\n",
       "      <td>0</td>\n",
       "    </tr>\n",
       "    <tr>\n",
       "      <td>...</td>\n",
       "      <td>...</td>\n",
       "      <td>...</td>\n",
       "      <td>...</td>\n",
       "      <td>...</td>\n",
       "      <td>...</td>\n",
       "    </tr>\n",
       "    <tr>\n",
       "      <td>3209</td>\n",
       "      <td>122.0</td>\n",
       "      <td>910.98</td>\n",
       "      <td>20.0</td>\n",
       "      <td>35124.90</td>\n",
       "      <td>1</td>\n",
       "    </tr>\n",
       "    <tr>\n",
       "      <td>3210</td>\n",
       "      <td>25.0</td>\n",
       "      <td>190.36</td>\n",
       "      <td>0.0</td>\n",
       "      <td>3275.61</td>\n",
       "      <td>0</td>\n",
       "    </tr>\n",
       "    <tr>\n",
       "      <td>3211</td>\n",
       "      <td>97.0</td>\n",
       "      <td>634.44</td>\n",
       "      <td>70.0</td>\n",
       "      <td>13974.06</td>\n",
       "      <td>0</td>\n",
       "    </tr>\n",
       "    <tr>\n",
       "      <td>3212</td>\n",
       "      <td>64.0</td>\n",
       "      <td>462.32</td>\n",
       "      <td>90.0</td>\n",
       "      <td>31239.78</td>\n",
       "      <td>0</td>\n",
       "    </tr>\n",
       "    <tr>\n",
       "      <td>3213</td>\n",
       "      <td>80.0</td>\n",
       "      <td>566.09</td>\n",
       "      <td>6.0</td>\n",
       "      <td>29480.52</td>\n",
       "      <td>1</td>\n",
       "    </tr>\n",
       "  </tbody>\n",
       "</table>\n",
       "<p>3214 rows × 5 columns</p>\n",
       "</div>"
      ],
      "text/plain": [
       "      calls  minutes  messages   mb_used  is_ultra\n",
       "0      40.0   311.90      83.0  19915.42         0\n",
       "1      85.0   516.75      56.0  22696.96         0\n",
       "2      77.0   467.66      86.0  21060.45         0\n",
       "3     106.0   745.53      81.0   8437.39         1\n",
       "4      66.0   418.74       1.0  14502.75         0\n",
       "...     ...      ...       ...       ...       ...\n",
       "3209  122.0   910.98      20.0  35124.90         1\n",
       "3210   25.0   190.36       0.0   3275.61         0\n",
       "3211   97.0   634.44      70.0  13974.06         0\n",
       "3212   64.0   462.32      90.0  31239.78         0\n",
       "3213   80.0   566.09       6.0  29480.52         1\n",
       "\n",
       "[3214 rows x 5 columns]"
      ]
     },
     "execution_count": 2,
     "metadata": {},
     "output_type": "execute_result"
    }
   ],
   "source": [
    "df = pd.read_csv('/datasets/users_behavior.csv')\n",
    "df"
   ]
  },
  {
   "cell_type": "markdown",
   "metadata": {},
   "source": [
    "Всего в датафрейме 3214 строк и 5 колонок. \n",
    "\n",
    "Каждый объект в наборе данных — это информация о поведении одного пользователя за месяц. Известно:\n",
    "* `сalls` — количество звонков,\n",
    "* `minutes` — суммарная длительность звонков в минутах,\n",
    "* `messages` — количество sms-сообщений,\n",
    "* `mb_used` — израсходованный интернет-трафик в Мб,\n",
    "* `is_ultra` — каким тарифом пользовался в течение месяца («Ультра» — 1, «Смарт» — 0)\n",
    "\n",
    "Посмотрим общую информацию о данных"
   ]
  },
  {
   "cell_type": "code",
   "execution_count": 3,
   "metadata": {},
   "outputs": [
    {
     "name": "stdout",
     "output_type": "stream",
     "text": [
      "<class 'pandas.core.frame.DataFrame'>\n",
      "RangeIndex: 3214 entries, 0 to 3213\n",
      "Data columns (total 5 columns):\n",
      "calls       3214 non-null float64\n",
      "minutes     3214 non-null float64\n",
      "messages    3214 non-null float64\n",
      "mb_used     3214 non-null float64\n",
      "is_ultra    3214 non-null int64\n",
      "dtypes: float64(4), int64(1)\n",
      "memory usage: 125.7 KB\n"
     ]
    }
   ],
   "source": [
    "df.info()"
   ]
  },
  {
   "cell_type": "markdown",
   "metadata": {},
   "source": [
    "Посмотрим описательную статистику по каждому столбцу датафрейма"
   ]
  },
  {
   "cell_type": "code",
   "execution_count": 4,
   "metadata": {},
   "outputs": [
    {
     "data": {
      "text/html": [
       "<div>\n",
       "<style scoped>\n",
       "    .dataframe tbody tr th:only-of-type {\n",
       "        vertical-align: middle;\n",
       "    }\n",
       "\n",
       "    .dataframe tbody tr th {\n",
       "        vertical-align: top;\n",
       "    }\n",
       "\n",
       "    .dataframe thead th {\n",
       "        text-align: right;\n",
       "    }\n",
       "</style>\n",
       "<table border=\"1\" class=\"dataframe\">\n",
       "  <thead>\n",
       "    <tr style=\"text-align: right;\">\n",
       "      <th></th>\n",
       "      <th>calls</th>\n",
       "      <th>minutes</th>\n",
       "      <th>messages</th>\n",
       "      <th>mb_used</th>\n",
       "      <th>is_ultra</th>\n",
       "    </tr>\n",
       "  </thead>\n",
       "  <tbody>\n",
       "    <tr>\n",
       "      <td>count</td>\n",
       "      <td>3214.000000</td>\n",
       "      <td>3214.000000</td>\n",
       "      <td>3214.000000</td>\n",
       "      <td>3214.000000</td>\n",
       "      <td>3214.000000</td>\n",
       "    </tr>\n",
       "    <tr>\n",
       "      <td>mean</td>\n",
       "      <td>63.038892</td>\n",
       "      <td>438.208787</td>\n",
       "      <td>38.281269</td>\n",
       "      <td>17207.673836</td>\n",
       "      <td>0.306472</td>\n",
       "    </tr>\n",
       "    <tr>\n",
       "      <td>std</td>\n",
       "      <td>33.236368</td>\n",
       "      <td>234.569872</td>\n",
       "      <td>36.148326</td>\n",
       "      <td>7570.968246</td>\n",
       "      <td>0.461100</td>\n",
       "    </tr>\n",
       "    <tr>\n",
       "      <td>min</td>\n",
       "      <td>0.000000</td>\n",
       "      <td>0.000000</td>\n",
       "      <td>0.000000</td>\n",
       "      <td>0.000000</td>\n",
       "      <td>0.000000</td>\n",
       "    </tr>\n",
       "    <tr>\n",
       "      <td>25%</td>\n",
       "      <td>40.000000</td>\n",
       "      <td>274.575000</td>\n",
       "      <td>9.000000</td>\n",
       "      <td>12491.902500</td>\n",
       "      <td>0.000000</td>\n",
       "    </tr>\n",
       "    <tr>\n",
       "      <td>50%</td>\n",
       "      <td>62.000000</td>\n",
       "      <td>430.600000</td>\n",
       "      <td>30.000000</td>\n",
       "      <td>16943.235000</td>\n",
       "      <td>0.000000</td>\n",
       "    </tr>\n",
       "    <tr>\n",
       "      <td>75%</td>\n",
       "      <td>82.000000</td>\n",
       "      <td>571.927500</td>\n",
       "      <td>57.000000</td>\n",
       "      <td>21424.700000</td>\n",
       "      <td>1.000000</td>\n",
       "    </tr>\n",
       "    <tr>\n",
       "      <td>max</td>\n",
       "      <td>244.000000</td>\n",
       "      <td>1632.060000</td>\n",
       "      <td>224.000000</td>\n",
       "      <td>49745.730000</td>\n",
       "      <td>1.000000</td>\n",
       "    </tr>\n",
       "  </tbody>\n",
       "</table>\n",
       "</div>"
      ],
      "text/plain": [
       "             calls      minutes     messages       mb_used     is_ultra\n",
       "count  3214.000000  3214.000000  3214.000000   3214.000000  3214.000000\n",
       "mean     63.038892   438.208787    38.281269  17207.673836     0.306472\n",
       "std      33.236368   234.569872    36.148326   7570.968246     0.461100\n",
       "min       0.000000     0.000000     0.000000      0.000000     0.000000\n",
       "25%      40.000000   274.575000     9.000000  12491.902500     0.000000\n",
       "50%      62.000000   430.600000    30.000000  16943.235000     0.000000\n",
       "75%      82.000000   571.927500    57.000000  21424.700000     1.000000\n",
       "max     244.000000  1632.060000   224.000000  49745.730000     1.000000"
      ]
     },
     "execution_count": 4,
     "metadata": {},
     "output_type": "execute_result"
    }
   ],
   "source": [
    "df.describe()"
   ]
  },
  {
   "cell_type": "markdown",
   "metadata": {},
   "source": [
    "В таблице \"Данные о поведении клиентов\" 3214 объектов. Пропущенных значений нет.\n",
    "В столбцах `calls` и `messages` содержится целочисленная информация. Заменим тип данных в них на `int16` для уменьшения занимаемого места."
   ]
  },
  {
   "cell_type": "code",
   "execution_count": 5,
   "metadata": {},
   "outputs": [],
   "source": [
    "df['calls'] = df['calls'].astype('int16')\n",
    "df['messages'] = df['messages'].astype('int16')"
   ]
  },
  {
   "cell_type": "markdown",
   "metadata": {},
   "source": [
    "Проведем корреляционный анализ факторов, для этого посчитаем коэффициент корреляции Пирсона."
   ]
  },
  {
   "cell_type": "code",
   "execution_count": 6,
   "metadata": {
    "scrolled": true
   },
   "outputs": [
    {
     "data": {
      "text/html": [
       "<div>\n",
       "<style scoped>\n",
       "    .dataframe tbody tr th:only-of-type {\n",
       "        vertical-align: middle;\n",
       "    }\n",
       "\n",
       "    .dataframe tbody tr th {\n",
       "        vertical-align: top;\n",
       "    }\n",
       "\n",
       "    .dataframe thead th {\n",
       "        text-align: right;\n",
       "    }\n",
       "</style>\n",
       "<table border=\"1\" class=\"dataframe\">\n",
       "  <thead>\n",
       "    <tr style=\"text-align: right;\">\n",
       "      <th></th>\n",
       "      <th>calls</th>\n",
       "      <th>minutes</th>\n",
       "      <th>messages</th>\n",
       "      <th>mb_used</th>\n",
       "      <th>is_ultra</th>\n",
       "    </tr>\n",
       "  </thead>\n",
       "  <tbody>\n",
       "    <tr>\n",
       "      <td>calls</td>\n",
       "      <td>1.00</td>\n",
       "      <td>0.98</td>\n",
       "      <td>0.18</td>\n",
       "      <td>0.29</td>\n",
       "      <td>0.21</td>\n",
       "    </tr>\n",
       "    <tr>\n",
       "      <td>minutes</td>\n",
       "      <td>0.98</td>\n",
       "      <td>1.00</td>\n",
       "      <td>0.17</td>\n",
       "      <td>0.28</td>\n",
       "      <td>0.21</td>\n",
       "    </tr>\n",
       "    <tr>\n",
       "      <td>messages</td>\n",
       "      <td>0.18</td>\n",
       "      <td>0.17</td>\n",
       "      <td>1.00</td>\n",
       "      <td>0.20</td>\n",
       "      <td>0.20</td>\n",
       "    </tr>\n",
       "    <tr>\n",
       "      <td>mb_used</td>\n",
       "      <td>0.29</td>\n",
       "      <td>0.28</td>\n",
       "      <td>0.20</td>\n",
       "      <td>1.00</td>\n",
       "      <td>0.20</td>\n",
       "    </tr>\n",
       "    <tr>\n",
       "      <td>is_ultra</td>\n",
       "      <td>0.21</td>\n",
       "      <td>0.21</td>\n",
       "      <td>0.20</td>\n",
       "      <td>0.20</td>\n",
       "      <td>1.00</td>\n",
       "    </tr>\n",
       "  </tbody>\n",
       "</table>\n",
       "</div>"
      ],
      "text/plain": [
       "          calls  minutes  messages  mb_used  is_ultra\n",
       "calls      1.00     0.98      0.18     0.29      0.21\n",
       "minutes    0.98     1.00      0.17     0.28      0.21\n",
       "messages   0.18     0.17      1.00     0.20      0.20\n",
       "mb_used    0.29     0.28      0.20     1.00      0.20\n",
       "is_ultra   0.21     0.21      0.20     0.20      1.00"
      ]
     },
     "execution_count": 6,
     "metadata": {},
     "output_type": "execute_result"
    }
   ],
   "source": [
    "corr_matrix = df.corr().round(2)\n",
    "corr_matrix"
   ]
  },
  {
   "cell_type": "code",
   "execution_count": 7,
   "metadata": {
    "scrolled": false
   },
   "outputs": [
    {
     "data": {
      "image/png": "[encoded data removed]",
      "text/plain": [
       "<Figure size 764.5x720 with 20 Axes>"
      ]
     },
     "metadata": {
      "needs_background": "light"
     },
     "output_type": "display_data"
    }
   ],
   "source": [
    "sbn.pairplot(df, vars = ['calls', 'minutes', 'messages', 'mb_used'], hue = 'is_ultra')\n",
    "plt.show()"
   ]
  },
  {
   "cell_type": "markdown",
   "metadata": {},
   "source": [
    "Как мы видим, звонки и минуты мультиколлинеарны, поэтому исключим из модели один из этих признаков, например, звонки.\n",
    "\n",
    "Нам нужно построить модель для задачи классификации. Для этого разделим исходные данные на выборки."
   ]
  },
  {
   "cell_type": "markdown",
   "metadata": {},
   "source": [
    "## Разделение исходных данных на выборки"
   ]
  },
  {
   "cell_type": "markdown",
   "metadata": {},
   "source": [
    "Для начала выделим в исходных данных:\n",
    "* **признаки**: minutes, messages, mb_used\n",
    "* **целевой признак**: is_ultra"
   ]
  },
  {
   "cell_type": "code",
   "execution_count": 8,
   "metadata": {},
   "outputs": [],
   "source": [
    "features = df.drop(['calls','is_ultra'], axis=1)\n",
    "target = df['is_ultra']"
   ]
  },
  {
   "cell_type": "markdown",
   "metadata": {},
   "source": [
    "Разделим данные на обучающую, валидационную и тестовую выборки в пропорции 3:1:1 соответственно (60% на обучающию и по 20% данных на валидационную и тестовую выборки)"
   ]
  },
  {
   "cell_type": "code",
   "execution_count": null,
   "metadata": {
    "scrolled": false
   },
   "outputs": [],
   "source": [
    "df_train, df_valid = train_test_split(df, train_size=0.6, test_size=0.4, random_state=12345)\n",
    "df_valid, df_test = train_test_split(df_valid, test_size=0.5, random_state=12345)\n",
    "\n",
    "print('Размер обучающей выборки', df_train.shape)\n",
    "print('Размер валидационной выборки', df_valid.shape)\n",
    "print('Размер тестовой выборки', df_test.shape)"
   ]
  },
  {
   "cell_type": "markdown",
   "metadata": {},
   "source": [
    "Составим таблицы признаков и целевого признака для каждой выборки."
   ]
  },
  {
   "cell_type": "code",
   "execution_count": 10,
   "metadata": {},
   "outputs": [],
   "source": [
    "features_train = df_train.drop(['calls','is_ultra'], axis=1)\n",
    "target_train = df_train['is_ultra']\n",
    "features_valid = df_valid.drop(['calls','is_ultra'], axis=1)\n",
    "target_valid = df_valid['is_ultra']\n",
    "features_test = df_test.drop(['calls','is_ultra'], axis=1)\n",
    "target_test = df_test['is_ultra']"
   ]
  },
  {
   "cell_type": "markdown",
   "metadata": {},
   "source": [
    "Мы разделили данные по принципу 60/20/20:\n",
    "\n",
    "1. обучение проведем на данных `df_train`;\n",
    "2. проверку модели - на данных `df_valid`;\n",
    "3. лучшую модель по результатам проверки применим на данных `df_test`."
   ]
  },
  {
   "cell_type": "markdown",
   "metadata": {},
   "source": [
    "## Исследование моделей"
   ]
  },
  {
   "cell_type": "markdown",
   "metadata": {},
   "source": [
    "### Дерево решений\n",
    "\n",
    "Начнем с модели \"Дерево решений\" DecisionTreeClassifier. Изменим в цикле гиперпараметр `max_depth`. Критерием проверки качества модели будет точность `accuracy`."
   ]
  },
  {
   "cell_type": "code",
   "execution_count": 11,
   "metadata": {},
   "outputs": [
    {
     "name": "stdout",
     "output_type": "stream",
     "text": [
      "Лучшая глубина дерева 4 Лучшая точность 0.7884914463452566\n"
     ]
    }
   ],
   "source": [
    "best_depth = 0\n",
    "best_accuracy = 0\n",
    "\n",
    "for depth in range(1, 10):\n",
    "    # инициализируем модель решающего дерева\n",
    "    model = DecisionTreeClassifier(random_state=12345, max_depth=depth)\n",
    "    \n",
    "    # обучаем модель\n",
    "    model.fit(features_train, target_train)\n",
    "    \n",
    "    # находим предсказания на валидационной выборке\n",
    "    predictions_valid = model.predict(features_valid)\n",
    "    accuracy = accuracy_score(target_valid, predictions_valid)\n",
    "    \n",
    "    if accuracy > best_accuracy:\n",
    "        best_depth = depth\n",
    "        best_accuracy = accuracy\n",
    "        \n",
    "print('Лучшая глубина дерева', best_depth,'Лучшая точность', best_accuracy)"
   ]
  },
  {
   "cell_type": "markdown",
   "metadata": {},
   "source": [
    "Модель \"Дерево решений\" с точностью 0,7885 удволетворяет условиям задачи. Перейдем к модели \"Случайный лес\"."
   ]
  },
  {
   "cell_type": "markdown",
   "metadata": {},
   "source": [
    "### Случайный лес"
   ]
  },
  {
   "cell_type": "markdown",
   "metadata": {},
   "source": [
    "1. Инициируем модель \"Случайный лес\" RandomForestClassifier\n",
    "\n",
    "2. Выделим гиперпараметры для настройки модели:\n",
    " * `n_estimators` - число «деревьев» в «случайном лесу»;\n",
    " * `max_depth` - максимальная глубина деревьев;\n",
    " * `min_samples_leaf` - минимальное количество объектов в листьях;\n",
    "\n",
    "\n",
    "3. Критерием проверки качества модели будет точность `accuracy`."
   ]
  },
  {
   "cell_type": "code",
   "execution_count": 12,
   "metadata": {},
   "outputs": [
    {
     "name": "stdout",
     "output_type": "stream",
     "text": [
      "Accuracy наилучшей модели на валидационной выборке: 0.7993779160186625 Количество деревьев: 20 Максимальная глубина: 10 Минимальное число объектов в листьях: 10\n"
     ]
    }
   ],
   "source": [
    "best_model = None\n",
    "best_result = 0\n",
    "best_est = 0\n",
    "best_depth = 0\n",
    "best_min_samples_leaf = 0\n",
    "\n",
    "# количество деревьев: от 10 до 50 с шагом 10\n",
    "for est in range(10, 51, 10):\n",
    "    \n",
    "    # максимальная глубина от 1 до 10\n",
    "    for depth in range (1, 11):\n",
    "        \n",
    "        # минимальное число объектов в листьях от 1 до 10\n",
    "        for min_samples_leaf in range (1, 11):\n",
    "            \n",
    "            # инициализируем модель случайного леса\n",
    "            model = RandomForestClassifier(random_state=12345, n_estimators=est, max_depth=depth) \n",
    "            \n",
    "            # обучаем модель на тренировочной выборке\n",
    "            model.fit(features_train, target_train) \n",
    "            \n",
    "            # проверяем качество модели на валидационной выборке\n",
    "            result = model.score(features_valid, target_valid) \n",
    "            \n",
    "            if result > best_result:\n",
    "                best_model = model \n",
    "                best_result = model.score(features_valid, target_valid) \n",
    "                best_est = est\n",
    "                best_depth = depth\n",
    "                best_min_samples_leaf = min_samples_leaf\n",
    "            \n",
    "print('Accuracy наилучшей модели на валидационной выборке:', best_result, \n",
    "      'Количество деревьев:', best_est, \n",
    "      'Максимальная глубина:', depth,\n",
    "      'Минимальное число объектов в листьях:', min_samples_leaf)"
   ]
  },
  {
   "cell_type": "markdown",
   "metadata": {},
   "source": [
    "Точность модели \"Случайный лес\" выше на 1,12% по сравнению с моделью \"Решающее дерево\". "
   ]
  },
  {
   "cell_type": "markdown",
   "metadata": {},
   "source": [
    "### Логистическая регрессия"
   ]
  },
  {
   "cell_type": "markdown",
   "metadata": {},
   "source": [
    "Инициализируем модель логистической регрессии с параметром `random_state=12345`"
   ]
  },
  {
   "cell_type": "code",
   "execution_count": 13,
   "metadata": {},
   "outputs": [
    {
     "name": "stdout",
     "output_type": "stream",
     "text": [
      "Accuracy модели логистической регрессии на валидационной выборке: 0.7076205287713841\n"
     ]
    }
   ],
   "source": [
    "model = LogisticRegression(random_state=12345) \n",
    "\n",
    "# обучим модель на тренировочной выборке\n",
    "model.fit(features_train, target_train) \n",
    "\n",
    "# получим метрику качества модели на валидационной выборке\n",
    "result = model.score(features_valid, target_valid) \n",
    "\n",
    "print(\"Accuracy модели логистической регрессии на валидационной выборке:\", result)"
   ]
  },
  {
   "cell_type": "markdown",
   "metadata": {},
   "source": [
    "Самая низкая точность классификации у модели логистической регрессии. \n",
    "\n",
    "Проверим модель \"Случайный лес\", которая показала лучшую точность `accuracy`, на тестовой выборке."
   ]
  },
  {
   "cell_type": "markdown",
   "metadata": {},
   "source": [
    "## Проверка модели на тестовой выборке"
   ]
  },
  {
   "cell_type": "markdown",
   "metadata": {},
   "source": [
    "Наилучшая точность: 0.7994\n",
    "Парамтеры модели: \n",
    "* n_estimators = 40\n",
    "* max_depth = 10\n",
    "* min_samples_leaf = 10\n",
    "\n",
    "Проверим точность модели на тестовой выборке"
   ]
  },
  {
   "cell_type": "code",
   "execution_count": 14,
   "metadata": {},
   "outputs": [
    {
     "data": {
      "text/plain": [
       "0.80248833592535"
      ]
     },
     "execution_count": 14,
     "metadata": {},
     "output_type": "execute_result"
    }
   ],
   "source": [
    "model = RandomForestClassifier(random_state=12345, n_estimators=40, max_depth=10) \n",
    "\n",
    "# обучение модели на тренировочной выборке\n",
    "model.fit(features_train, target_train) \n",
    "\n",
    "# проверяем качество модели на тестовой выборке\n",
    "result = model.score(features_test, target_test) \n",
    "\n",
    "result"
   ]
  },
  {
   "cell_type": "markdown",
   "metadata": {},
   "source": [
    "Мы проанализировали три модели классификации:\n",
    "1. Дерево решений,\n",
    "2. Случайный лес,\n",
    "3. Логистическая регрессия.\n",
    "\n",
    "Лучшую точность `accuracy` показала модель \"Случайный лес\":\n",
    "* `accuracy` на тренировочной выборке: 0,7994\n",
    "* `accuracy` на тестовой выборке: 0,8025.\n",
    "\n",
    "Разница между точностью на тестовой и тренировочной выборках составляет всего 0,31%."
   ]
  },
  {
   "cell_type": "markdown",
   "metadata": {},
   "source": [
    "## Проверка модели на адекватность"
   ]
  },
  {
   "cell_type": "markdown",
   "metadata": {},
   "source": [
    "Оценить адекватность модели можно используя классификатор DummyClassifier со стратегией most_frequent, которая всегда предсказывает наиболее частую метку в обучающем наборе."
   ]
  },
  {
   "cell_type": "code",
   "execution_count": 15,
   "metadata": {},
   "outputs": [
    {
     "data": {
      "text/plain": [
       "0.6842923794712286"
      ]
     },
     "execution_count": 15,
     "metadata": {},
     "output_type": "execute_result"
    }
   ],
   "source": [
    "clf = DummyClassifier(strategy='most_frequent', random_state=0)\n",
    "clf.fit(features_train, target_train)\n",
    "clf.score(features_test, target_test)"
   ]
  },
  {
   "cell_type": "markdown",
   "metadata": {},
   "source": [
    "Точность модели \"Случайный лес\" (accuracy = 0.80) выше, чем точность, полученная с DummyClassifier (accuracy = 0.68)."
   ]
  },
  {
   "cell_type": "markdown",
   "metadata": {},
   "source": [
    "## Общий вывод"
   ]
  },
  {
   "cell_type": "markdown",
   "metadata": {},
   "source": [
    "Для решения поставленной задачи мы изучили файл с данными, разделили исходные данные на три выборки:\n",
    "1. обучающую,\n",
    "2. валидационную,\n",
    "3. тестовую.\n",
    "\n",
    "Исследовали три модели классификации:\n",
    "* Дерево решений,\n",
    "* Случайный лес,\n",
    "* Логистическая регрессия.\n",
    "\n",
    "Наилучшую точность (accuracy) получили для модели \"Случайный лес\", проверили модель на тестовой выборке, оценили адекватность модели."
   ]
  }
 ],
 "metadata": {
  "ExecuteTimeLog": [
   {
    "duration": 1624,
    "start_time": "2022-02-22T15:43:43.690Z"
   },
   {
    "duration": 69,
    "start_time": "2022-02-22T15:45:27.858Z"
   },
   {
    "duration": 42,
    "start_time": "2022-02-22T16:46:05.925Z"
   },
   {
    "duration": 11,
    "start_time": "2022-02-22T16:49:29.105Z"
   },
   {
    "duration": 37,
    "start_time": "2022-02-22T16:49:37.625Z"
   },
   {
    "duration": 549,
    "start_time": "2022-02-22T16:49:55.514Z"
   },
   {
    "duration": 291,
    "start_time": "2022-02-23T17:04:14.251Z"
   },
   {
    "duration": 1867,
    "start_time": "2022-02-23T17:04:28.171Z"
   },
   {
    "duration": 78,
    "start_time": "2022-02-23T17:04:30.891Z"
   },
   {
    "duration": 13,
    "start_time": "2022-02-23T17:04:32.819Z"
   },
   {
    "duration": 37,
    "start_time": "2022-02-23T17:04:34.437Z"
   },
   {
    "duration": 392,
    "start_time": "2022-02-23T17:04:36.270Z"
   },
   {
    "duration": 6,
    "start_time": "2022-02-23T17:04:49.515Z"
   },
   {
    "duration": 9,
    "start_time": "2022-02-23T17:05:47.402Z"
   },
   {
    "duration": 10,
    "start_time": "2022-02-23T17:07:00.456Z"
   },
   {
    "duration": 226,
    "start_time": "2022-02-24T12:13:45.333Z"
   },
   {
    "duration": 1127,
    "start_time": "2022-02-24T12:13:50.225Z"
   },
   {
    "duration": 29,
    "start_time": "2022-02-24T12:13:51.354Z"
   },
   {
    "duration": 6,
    "start_time": "2022-02-24T12:13:51.385Z"
   },
   {
    "duration": 22,
    "start_time": "2022-02-24T12:13:51.393Z"
   },
   {
    "duration": 4,
    "start_time": "2022-02-24T12:13:51.416Z"
   },
   {
    "duration": 4,
    "start_time": "2022-02-24T12:13:51.429Z"
   },
   {
    "duration": 283,
    "start_time": "2022-02-24T12:13:51.434Z"
   },
   {
    "duration": 85,
    "start_time": "2022-02-24T12:13:51.634Z"
   },
   {
    "duration": 71,
    "start_time": "2022-02-24T12:13:51.649Z"
   },
   {
    "duration": 1132,
    "start_time": "2022-02-24T12:14:53.298Z"
   },
   {
    "duration": 25,
    "start_time": "2022-02-24T12:14:59.361Z"
   },
   {
    "duration": 7,
    "start_time": "2022-02-24T12:15:01.547Z"
   },
   {
    "duration": 23,
    "start_time": "2022-02-24T12:15:03.002Z"
   },
   {
    "duration": 5,
    "start_time": "2022-02-24T12:15:04.713Z"
   },
   {
    "duration": 4,
    "start_time": "2022-02-24T12:15:06.409Z"
   },
   {
    "duration": 283,
    "start_time": "2022-02-24T12:15:08.459Z"
   },
   {
    "duration": 173,
    "start_time": "2022-02-24T12:16:05.801Z"
   },
   {
    "duration": 207,
    "start_time": "2022-02-24T12:16:33.080Z"
   },
   {
    "duration": 209,
    "start_time": "2022-02-24T12:18:25.014Z"
   },
   {
    "duration": 189,
    "start_time": "2022-02-24T12:19:38.693Z"
   },
   {
    "duration": 181,
    "start_time": "2022-02-24T12:21:59.859Z"
   },
   {
    "duration": 1184,
    "start_time": "2022-02-24T12:22:15.424Z"
   },
   {
    "duration": 28,
    "start_time": "2022-02-24T12:22:16.610Z"
   },
   {
    "duration": 7,
    "start_time": "2022-02-24T12:22:16.641Z"
   },
   {
    "duration": 22,
    "start_time": "2022-02-24T12:22:16.650Z"
   },
   {
    "duration": 5,
    "start_time": "2022-02-24T12:22:16.674Z"
   },
   {
    "duration": 6,
    "start_time": "2022-02-24T12:22:16.680Z"
   },
   {
    "duration": 342,
    "start_time": "2022-02-24T12:22:16.688Z"
   },
   {
    "duration": 90,
    "start_time": "2022-02-24T12:22:16.941Z"
   },
   {
    "duration": 90,
    "start_time": "2022-02-24T12:22:16.942Z"
   },
   {
    "duration": 221,
    "start_time": "2022-02-24T12:22:38.665Z"
   },
   {
    "duration": 181,
    "start_time": "2022-02-24T12:22:42.834Z"
   },
   {
    "duration": 181,
    "start_time": "2022-02-24T12:24:12.353Z"
   },
   {
    "duration": 182,
    "start_time": "2022-02-24T12:26:40.590Z"
   },
   {
    "duration": 192,
    "start_time": "2022-02-24T12:26:49.238Z"
   },
   {
    "duration": 181,
    "start_time": "2022-02-24T12:26:53.510Z"
   },
   {
    "duration": 1166,
    "start_time": "2022-02-24T12:28:20.080Z"
   },
   {
    "duration": 25,
    "start_time": "2022-02-24T12:28:21.248Z"
   },
   {
    "duration": 7,
    "start_time": "2022-02-24T12:28:21.275Z"
   },
   {
    "duration": 28,
    "start_time": "2022-02-24T12:28:21.284Z"
   },
   {
    "duration": 5,
    "start_time": "2022-02-24T12:28:21.330Z"
   },
   {
    "duration": 10,
    "start_time": "2022-02-24T12:28:21.337Z"
   },
   {
    "duration": 282,
    "start_time": "2022-02-24T12:28:21.348Z"
   },
   {
    "duration": 82,
    "start_time": "2022-02-24T12:28:21.549Z"
   },
   {
    "duration": 82,
    "start_time": "2022-02-24T12:28:21.550Z"
   },
   {
    "duration": 246,
    "start_time": "2022-02-24T12:28:44.383Z"
   },
   {
    "duration": 191,
    "start_time": "2022-02-24T12:28:59.422Z"
   },
   {
    "duration": 206,
    "start_time": "2022-02-24T12:31:20.803Z"
   },
   {
    "duration": 1145,
    "start_time": "2022-02-24T12:31:24.581Z"
   },
   {
    "duration": 25,
    "start_time": "2022-02-24T12:31:25.729Z"
   },
   {
    "duration": 6,
    "start_time": "2022-02-24T12:31:25.756Z"
   },
   {
    "duration": 25,
    "start_time": "2022-02-24T12:31:25.764Z"
   },
   {
    "duration": 2,
    "start_time": "2022-02-24T12:31:25.791Z"
   },
   {
    "duration": 8,
    "start_time": "2022-02-24T12:31:25.795Z"
   },
   {
    "duration": 334,
    "start_time": "2022-02-24T12:31:25.805Z"
   },
   {
    "duration": 72,
    "start_time": "2022-02-24T12:31:26.069Z"
   },
   {
    "duration": 68,
    "start_time": "2022-02-24T12:31:26.074Z"
   },
   {
    "duration": 68,
    "start_time": "2022-02-24T12:31:26.075Z"
   },
   {
    "duration": 4,
    "start_time": "2022-02-24T12:31:46.548Z"
   },
   {
    "duration": 5,
    "start_time": "2022-02-24T12:31:48.876Z"
   },
   {
    "duration": 252,
    "start_time": "2022-02-24T12:31:55.196Z"
   },
   {
    "duration": 1229,
    "start_time": "2022-02-24T12:32:52.716Z"
   },
   {
    "duration": 29,
    "start_time": "2022-02-24T12:32:53.947Z"
   },
   {
    "duration": 7,
    "start_time": "2022-02-24T12:32:53.978Z"
   },
   {
    "duration": 21,
    "start_time": "2022-02-24T12:32:53.987Z"
   },
   {
    "duration": 20,
    "start_time": "2022-02-24T12:32:54.010Z"
   },
   {
    "duration": 2,
    "start_time": "2022-02-24T12:32:54.031Z"
   },
   {
    "duration": 324,
    "start_time": "2022-02-24T12:32:54.035Z"
   },
   {
    "duration": 59,
    "start_time": "2022-02-24T12:32:54.302Z"
   },
   {
    "duration": 57,
    "start_time": "2022-02-24T12:32:54.305Z"
   },
   {
    "duration": 53,
    "start_time": "2022-02-24T12:32:54.310Z"
   },
   {
    "duration": 8,
    "start_time": "2022-02-24T12:33:43.387Z"
   },
   {
    "duration": 10,
    "start_time": "2022-02-24T12:34:05.996Z"
   },
   {
    "duration": 10,
    "start_time": "2022-02-24T12:35:22.826Z"
   },
   {
    "duration": 17,
    "start_time": "2022-02-24T12:56:07.636Z"
   },
   {
    "duration": 20,
    "start_time": "2022-02-24T12:59:03.745Z"
   },
   {
    "duration": 13,
    "start_time": "2022-02-24T12:59:54.249Z"
   },
   {
    "duration": 1171,
    "start_time": "2022-02-24T13:16:42.332Z"
   },
   {
    "duration": 29,
    "start_time": "2022-02-24T13:16:43.505Z"
   },
   {
    "duration": 6,
    "start_time": "2022-02-24T13:16:43.536Z"
   },
   {
    "duration": 24,
    "start_time": "2022-02-24T13:16:43.544Z"
   },
   {
    "duration": 3,
    "start_time": "2022-02-24T13:16:43.570Z"
   },
   {
    "duration": 6,
    "start_time": "2022-02-24T13:16:43.575Z"
   },
   {
    "duration": 16,
    "start_time": "2022-02-24T13:16:43.583Z"
   },
   {
    "duration": 1142,
    "start_time": "2022-02-24T13:21:45.828Z"
   },
   {
    "duration": 25,
    "start_time": "2022-02-24T13:21:46.972Z"
   },
   {
    "duration": 5,
    "start_time": "2022-02-24T13:21:46.999Z"
   },
   {
    "duration": 33,
    "start_time": "2022-02-24T13:21:47.006Z"
   },
   {
    "duration": 4,
    "start_time": "2022-02-24T13:21:47.040Z"
   },
   {
    "duration": 6,
    "start_time": "2022-02-24T13:21:47.045Z"
   },
   {
    "duration": 13,
    "start_time": "2022-02-24T13:21:47.052Z"
   },
   {
    "duration": 281,
    "start_time": "2022-02-24T13:21:47.067Z"
   },
   {
    "duration": 12,
    "start_time": "2022-02-24T13:22:21.373Z"
   },
   {
    "duration": 29,
    "start_time": "2022-02-24T13:33:03.249Z"
   },
   {
    "duration": 171,
    "start_time": "2022-02-24T13:34:57.023Z"
   },
   {
    "duration": 1127,
    "start_time": "2022-02-24T13:35:42.119Z"
   },
   {
    "duration": 30,
    "start_time": "2022-02-24T13:35:43.248Z"
   },
   {
    "duration": 6,
    "start_time": "2022-02-24T13:35:43.282Z"
   },
   {
    "duration": 24,
    "start_time": "2022-02-24T13:35:43.289Z"
   },
   {
    "duration": 16,
    "start_time": "2022-02-24T13:35:43.315Z"
   },
   {
    "duration": 6,
    "start_time": "2022-02-24T13:35:43.333Z"
   },
   {
    "duration": 13,
    "start_time": "2022-02-24T13:35:43.341Z"
   },
   {
    "duration": 27,
    "start_time": "2022-02-24T13:35:43.355Z"
   },
   {
    "duration": 271,
    "start_time": "2022-02-24T13:35:43.383Z"
   },
   {
    "duration": 239,
    "start_time": "2022-02-24T13:52:30.230Z"
   },
   {
    "duration": 65,
    "start_time": "2022-02-24T14:22:29.727Z"
   },
   {
    "duration": 262,
    "start_time": "2022-02-24T14:22:49.750Z"
   },
   {
    "duration": 3309,
    "start_time": "2022-02-24T14:23:01.871Z"
   },
   {
    "duration": 3328,
    "start_time": "2022-02-24T14:24:14.567Z"
   },
   {
    "duration": 1146,
    "start_time": "2022-02-24T14:31:47.058Z"
   },
   {
    "duration": 25,
    "start_time": "2022-02-24T14:31:48.206Z"
   },
   {
    "duration": 7,
    "start_time": "2022-02-24T14:31:48.232Z"
   },
   {
    "duration": 26,
    "start_time": "2022-02-24T14:31:48.241Z"
   },
   {
    "duration": 3,
    "start_time": "2022-02-24T14:31:48.268Z"
   },
   {
    "duration": 6,
    "start_time": "2022-02-24T14:31:48.273Z"
   },
   {
    "duration": 15,
    "start_time": "2022-02-24T14:31:48.281Z"
   },
   {
    "duration": 48,
    "start_time": "2022-02-24T14:31:48.298Z"
   },
   {
    "duration": 3294,
    "start_time": "2022-02-24T14:31:48.348Z"
   },
   {
    "duration": 18,
    "start_time": "2022-02-24T14:32:58.101Z"
   },
   {
    "duration": 1167,
    "start_time": "2022-02-24T14:39:58.758Z"
   },
   {
    "duration": 29,
    "start_time": "2022-02-24T14:39:59.927Z"
   },
   {
    "duration": 6,
    "start_time": "2022-02-24T14:39:59.957Z"
   },
   {
    "duration": 23,
    "start_time": "2022-02-24T14:39:59.965Z"
   },
   {
    "duration": 5,
    "start_time": "2022-02-24T14:39:59.990Z"
   },
   {
    "duration": 8,
    "start_time": "2022-02-24T14:39:59.997Z"
   },
   {
    "duration": 30,
    "start_time": "2022-02-24T14:40:00.007Z"
   },
   {
    "duration": 33,
    "start_time": "2022-02-24T14:40:00.039Z"
   },
   {
    "duration": 3332,
    "start_time": "2022-02-24T14:40:00.074Z"
   },
   {
    "duration": 23,
    "start_time": "2022-02-24T14:40:03.408Z"
   },
   {
    "duration": 54,
    "start_time": "2022-02-24T14:52:21.890Z"
   },
   {
    "duration": 287,
    "start_time": "2022-02-24T14:53:14.408Z"
   },
   {
    "duration": 183,
    "start_time": "2022-02-24T14:53:53.816Z"
   },
   {
    "duration": 178,
    "start_time": "2022-02-24T14:54:36.055Z"
   },
   {
    "duration": 47,
    "start_time": "2022-02-24T14:55:04.934Z"
   },
   {
    "duration": 27336,
    "start_time": "2022-02-24T15:01:57.728Z"
   },
   {
    "duration": 3348,
    "start_time": "2022-02-24T15:02:34.325Z"
   },
   {
    "duration": 125,
    "start_time": "2022-02-24T15:09:45.881Z"
   },
   {
    "duration": 1199,
    "start_time": "2022-02-24T15:33:44.709Z"
   },
   {
    "duration": 24,
    "start_time": "2022-02-24T15:33:45.910Z"
   },
   {
    "duration": 6,
    "start_time": "2022-02-24T15:33:45.936Z"
   },
   {
    "duration": 30,
    "start_time": "2022-02-24T15:33:45.945Z"
   },
   {
    "duration": 4,
    "start_time": "2022-02-24T15:33:45.976Z"
   },
   {
    "duration": 8,
    "start_time": "2022-02-24T15:33:45.982Z"
   },
   {
    "duration": 11,
    "start_time": "2022-02-24T15:33:45.992Z"
   },
   {
    "duration": 45,
    "start_time": "2022-02-24T15:33:46.031Z"
   },
   {
    "duration": 3387,
    "start_time": "2022-02-24T15:33:46.078Z"
   },
   {
    "duration": 14,
    "start_time": "2022-02-24T15:33:49.467Z"
   },
   {
    "duration": 143,
    "start_time": "2022-02-24T15:33:49.483Z"
   },
   {
    "duration": 126,
    "start_time": "2022-02-24T15:37:22.981Z"
   },
   {
    "duration": 121,
    "start_time": "2022-02-24T15:39:27.636Z"
   },
   {
    "duration": 1073,
    "start_time": "2022-02-24T20:13:31.272Z"
   },
   {
    "duration": 23,
    "start_time": "2022-02-24T20:13:32.347Z"
   },
   {
    "duration": 7,
    "start_time": "2022-02-24T20:13:32.373Z"
   },
   {
    "duration": 32,
    "start_time": "2022-02-24T20:13:32.382Z"
   },
   {
    "duration": 17,
    "start_time": "2022-02-24T20:13:32.416Z"
   },
   {
    "duration": 14,
    "start_time": "2022-02-24T20:13:32.435Z"
   },
   {
    "duration": 17,
    "start_time": "2022-02-24T20:13:32.451Z"
   },
   {
    "duration": 49,
    "start_time": "2022-02-24T20:13:32.470Z"
   },
   {
    "duration": 3298,
    "start_time": "2022-02-24T20:13:32.530Z"
   },
   {
    "duration": 13,
    "start_time": "2022-02-24T20:13:35.830Z"
   },
   {
    "duration": 136,
    "start_time": "2022-02-24T20:13:35.845Z"
   },
   {
    "duration": 301,
    "start_time": "2022-02-24T20:30:40.883Z"
   },
   {
    "duration": 6,
    "start_time": "2022-02-24T20:31:18.947Z"
   },
   {
    "duration": 35921,
    "start_time": "2022-02-24T21:00:06.674Z"
   },
   {
    "duration": 35451,
    "start_time": "2022-02-24T21:01:49.001Z"
   },
   {
    "duration": 1126,
    "start_time": "2022-02-24T21:04:41.371Z"
   },
   {
    "duration": 27,
    "start_time": "2022-02-24T21:04:42.500Z"
   },
   {
    "duration": 17,
    "start_time": "2022-02-24T21:04:42.530Z"
   },
   {
    "duration": 25,
    "start_time": "2022-02-24T21:04:42.549Z"
   },
   {
    "duration": 3,
    "start_time": "2022-02-24T21:04:42.576Z"
   },
   {
    "duration": 5,
    "start_time": "2022-02-24T21:04:42.581Z"
   },
   {
    "duration": 11,
    "start_time": "2022-02-24T21:04:42.588Z"
   },
   {
    "duration": 82,
    "start_time": "2022-02-24T21:04:42.601Z"
   },
   {
    "duration": 35276,
    "start_time": "2022-02-24T21:04:42.685Z"
   },
   {
    "duration": 13,
    "start_time": "2022-02-24T21:05:17.963Z"
   },
   {
    "duration": 143,
    "start_time": "2022-02-24T21:05:17.977Z"
   },
   {
    "duration": 21,
    "start_time": "2022-02-24T21:05:18.122Z"
   },
   {
    "duration": 13,
    "start_time": "2022-02-24T21:30:54.598Z"
   },
   {
    "duration": 6,
    "start_time": "2022-02-24T21:31:52.694Z"
   },
   {
    "duration": 310,
    "start_time": "2022-02-24T21:32:38.677Z"
   },
   {
    "duration": 8,
    "start_time": "2022-02-24T21:32:46.676Z"
   },
   {
    "duration": 1145,
    "start_time": "2022-02-24T21:32:50.999Z"
   },
   {
    "duration": 26,
    "start_time": "2022-02-24T21:32:52.146Z"
   },
   {
    "duration": 7,
    "start_time": "2022-02-24T21:32:52.176Z"
   },
   {
    "duration": 46,
    "start_time": "2022-02-24T21:32:52.184Z"
   },
   {
    "duration": 4,
    "start_time": "2022-02-24T21:32:52.232Z"
   },
   {
    "duration": 6,
    "start_time": "2022-02-24T21:32:52.238Z"
   },
   {
    "duration": 11,
    "start_time": "2022-02-24T21:32:52.246Z"
   },
   {
    "duration": 5,
    "start_time": "2022-02-24T21:32:52.259Z"
   },
   {
    "duration": 74,
    "start_time": "2022-02-24T21:32:52.266Z"
   },
   {
    "duration": 33816,
    "start_time": "2022-02-24T21:32:52.341Z"
   },
   {
    "duration": 12,
    "start_time": "2022-02-24T21:33:26.159Z"
   },
   {
    "duration": 140,
    "start_time": "2022-02-24T21:33:26.173Z"
   },
   {
    "duration": 5,
    "start_time": "2022-02-24T21:33:26.315Z"
   },
   {
    "duration": 1200,
    "start_time": "2022-02-24T22:15:32.620Z"
   },
   {
    "duration": 25,
    "start_time": "2022-02-24T22:15:33.822Z"
   },
   {
    "duration": 7,
    "start_time": "2022-02-24T22:15:33.849Z"
   },
   {
    "duration": 28,
    "start_time": "2022-02-24T22:15:33.858Z"
   },
   {
    "duration": 4,
    "start_time": "2022-02-24T22:15:33.887Z"
   },
   {
    "duration": 6,
    "start_time": "2022-02-24T22:15:33.893Z"
   },
   {
    "duration": 31,
    "start_time": "2022-02-24T22:15:33.901Z"
   },
   {
    "duration": 7,
    "start_time": "2022-02-24T22:15:33.934Z"
   },
   {
    "duration": 48,
    "start_time": "2022-02-24T22:15:33.943Z"
   },
   {
    "duration": 34269,
    "start_time": "2022-02-24T22:15:33.992Z"
   },
   {
    "duration": 12,
    "start_time": "2022-02-24T22:16:08.263Z"
   },
   {
    "duration": 131,
    "start_time": "2022-02-24T22:16:08.277Z"
   },
   {
    "duration": 5,
    "start_time": "2022-02-24T22:16:08.410Z"
   },
   {
    "duration": 1023,
    "start_time": "2022-02-24T22:17:13.948Z"
   },
   {
    "duration": 29,
    "start_time": "2022-02-24T22:17:14.973Z"
   },
   {
    "duration": 7,
    "start_time": "2022-02-24T22:17:15.008Z"
   },
   {
    "duration": 35,
    "start_time": "2022-02-24T22:17:15.017Z"
   },
   {
    "duration": 4,
    "start_time": "2022-02-24T22:17:15.054Z"
   },
   {
    "duration": 8,
    "start_time": "2022-02-24T22:17:15.060Z"
   },
   {
    "duration": 8,
    "start_time": "2022-02-24T22:17:15.071Z"
   },
   {
    "duration": 6,
    "start_time": "2022-02-24T22:17:15.081Z"
   },
   {
    "duration": 75,
    "start_time": "2022-02-24T22:17:15.089Z"
   },
   {
    "duration": 33364,
    "start_time": "2022-02-24T22:17:15.166Z"
   },
   {
    "duration": 11,
    "start_time": "2022-02-24T22:17:48.532Z"
   },
   {
    "duration": 133,
    "start_time": "2022-02-24T22:17:48.545Z"
   },
   {
    "duration": 5,
    "start_time": "2022-02-24T22:17:48.680Z"
   },
   {
    "duration": 993,
    "start_time": "2022-02-24T22:19:15.668Z"
   },
   {
    "duration": 27,
    "start_time": "2022-02-24T22:19:16.663Z"
   },
   {
    "duration": 7,
    "start_time": "2022-02-24T22:19:16.693Z"
   },
   {
    "duration": 39,
    "start_time": "2022-02-24T22:19:16.702Z"
   },
   {
    "duration": 5,
    "start_time": "2022-02-24T22:19:16.743Z"
   },
   {
    "duration": 5,
    "start_time": "2022-02-24T22:19:16.750Z"
   },
   {
    "duration": 8,
    "start_time": "2022-02-24T22:19:16.757Z"
   },
   {
    "duration": 7,
    "start_time": "2022-02-24T22:19:16.767Z"
   },
   {
    "duration": 78,
    "start_time": "2022-02-24T22:19:16.775Z"
   },
   {
    "duration": 33124,
    "start_time": "2022-02-24T22:19:16.855Z"
   },
   {
    "duration": 13,
    "start_time": "2022-02-24T22:19:49.981Z"
   },
   {
    "duration": 141,
    "start_time": "2022-02-24T22:19:49.996Z"
   },
   {
    "duration": 5,
    "start_time": "2022-02-24T22:19:50.139Z"
   },
   {
    "duration": 216,
    "start_time": "2022-02-25T06:34:33.302Z"
   },
   {
    "duration": 1007,
    "start_time": "2022-02-25T06:34:42.165Z"
   },
   {
    "duration": 32,
    "start_time": "2022-02-25T06:34:44.973Z"
   },
   {
    "duration": 6,
    "start_time": "2022-02-25T06:34:46.815Z"
   },
   {
    "duration": 25,
    "start_time": "2022-02-25T06:34:48.380Z"
   },
   {
    "duration": 4,
    "start_time": "2022-02-25T06:34:49.957Z"
   },
   {
    "duration": 10,
    "start_time": "2022-02-25T06:34:50.875Z"
   },
   {
    "duration": 13,
    "start_time": "2022-02-25T06:35:36.964Z"
   },
   {
    "duration": 5,
    "start_time": "2022-02-25T06:36:32.444Z"
   },
   {
    "duration": 12,
    "start_time": "2022-02-25T06:36:39.523Z"
   },
   {
    "duration": 1250,
    "start_time": "2022-02-25T07:27:22.396Z"
   },
   {
    "duration": 24,
    "start_time": "2022-02-25T07:27:23.648Z"
   },
   {
    "duration": 6,
    "start_time": "2022-02-25T07:27:23.674Z"
   },
   {
    "duration": 38,
    "start_time": "2022-02-25T07:27:23.682Z"
   },
   {
    "duration": 4,
    "start_time": "2022-02-25T07:27:23.722Z"
   },
   {
    "duration": 14,
    "start_time": "2022-02-25T07:27:23.728Z"
   },
   {
    "duration": 4,
    "start_time": "2022-02-25T07:27:23.743Z"
   },
   {
    "duration": 9,
    "start_time": "2022-02-25T07:27:23.749Z"
   },
   {
    "duration": 5,
    "start_time": "2022-02-25T07:27:23.760Z"
   },
   {
    "duration": 77,
    "start_time": "2022-02-25T07:27:23.766Z"
   },
   {
    "duration": 34902,
    "start_time": "2022-02-25T07:27:23.845Z"
   },
   {
    "duration": 15,
    "start_time": "2022-02-25T07:27:58.748Z"
   },
   {
    "duration": 147,
    "start_time": "2022-02-25T07:27:58.764Z"
   },
   {
    "duration": 9,
    "start_time": "2022-02-25T07:27:58.913Z"
   },
   {
    "duration": 12065,
    "start_time": "2022-02-25T07:28:25.934Z"
   },
   {
    "duration": 9664,
    "start_time": "2022-02-25T07:28:47.582Z"
   },
   {
    "duration": 10686,
    "start_time": "2022-02-25T07:29:34.605Z"
   },
   {
    "duration": 8134,
    "start_time": "2022-02-25T07:33:49.913Z"
   },
   {
    "duration": 10293,
    "start_time": "2022-02-25T07:34:03.945Z"
   },
   {
    "duration": 6834,
    "start_time": "2022-02-25T07:37:16.037Z"
   },
   {
    "duration": 4,
    "start_time": "2022-02-25T08:03:43.210Z"
   },
   {
    "duration": 1252,
    "start_time": "2022-02-25T08:04:09.958Z"
   },
   {
    "duration": 26,
    "start_time": "2022-02-25T08:04:11.212Z"
   },
   {
    "duration": 6,
    "start_time": "2022-02-25T08:04:11.240Z"
   },
   {
    "duration": 25,
    "start_time": "2022-02-25T08:04:11.248Z"
   },
   {
    "duration": 4,
    "start_time": "2022-02-25T08:04:11.275Z"
   },
   {
    "duration": 39,
    "start_time": "2022-02-25T08:04:11.281Z"
   },
   {
    "duration": 6578,
    "start_time": "2022-02-25T08:04:11.322Z"
   },
   {
    "duration": 4,
    "start_time": "2022-02-25T08:04:17.903Z"
   },
   {
    "duration": 8,
    "start_time": "2022-02-25T08:04:17.919Z"
   },
   {
    "duration": 7,
    "start_time": "2022-02-25T08:04:17.929Z"
   },
   {
    "duration": 47,
    "start_time": "2022-02-25T08:04:17.938Z"
   },
   {
    "duration": 28500,
    "start_time": "2022-02-25T08:04:17.987Z"
   },
   {
    "duration": 8,
    "start_time": "2022-02-25T08:04:46.489Z"
   },
   {
    "duration": 112,
    "start_time": "2022-02-25T08:04:46.499Z"
   },
   {
    "duration": 10,
    "start_time": "2022-02-25T08:04:46.613Z"
   },
   {
    "duration": 1160,
    "start_time": "2022-02-25T08:17:52.224Z"
   },
   {
    "duration": 26,
    "start_time": "2022-02-25T08:17:53.386Z"
   },
   {
    "duration": 10,
    "start_time": "2022-02-25T08:17:53.414Z"
   },
   {
    "duration": 26,
    "start_time": "2022-02-25T08:17:53.426Z"
   },
   {
    "duration": 4,
    "start_time": "2022-02-25T08:17:53.454Z"
   },
   {
    "duration": 12,
    "start_time": "2022-02-25T08:17:53.460Z"
   },
   {
    "duration": 6373,
    "start_time": "2022-02-25T08:17:53.474Z"
   },
   {
    "duration": 4,
    "start_time": "2022-02-25T08:17:59.850Z"
   },
   {
    "duration": 11,
    "start_time": "2022-02-25T08:17:59.856Z"
   },
   {
    "duration": 9,
    "start_time": "2022-02-25T08:17:59.868Z"
   },
   {
    "duration": 70,
    "start_time": "2022-02-25T08:17:59.879Z"
   },
   {
    "duration": 28947,
    "start_time": "2022-02-25T08:17:59.950Z"
   },
   {
    "duration": 9,
    "start_time": "2022-02-25T08:18:28.899Z"
   },
   {
    "duration": 110,
    "start_time": "2022-02-25T08:18:28.920Z"
   },
   {
    "duration": 6,
    "start_time": "2022-02-25T08:18:29.031Z"
   },
   {
    "duration": 334,
    "start_time": "2022-03-09T08:26:14.541Z"
   },
   {
    "duration": 1124,
    "start_time": "2022-03-09T08:26:21.593Z"
   },
   {
    "duration": 40,
    "start_time": "2022-03-09T08:26:22.719Z"
   },
   {
    "duration": 5,
    "start_time": "2022-03-09T08:26:22.763Z"
   },
   {
    "duration": 21,
    "start_time": "2022-03-09T08:26:22.770Z"
   },
   {
    "duration": 3,
    "start_time": "2022-03-09T08:26:22.793Z"
   },
   {
    "duration": 11,
    "start_time": "2022-03-09T08:26:22.798Z"
   },
   {
    "duration": 5833,
    "start_time": "2022-03-09T08:26:22.811Z"
   },
   {
    "duration": 3,
    "start_time": "2022-03-09T08:26:28.646Z"
   },
   {
    "duration": 8,
    "start_time": "2022-03-09T08:26:28.651Z"
   },
   {
    "duration": 5,
    "start_time": "2022-03-09T08:26:28.661Z"
   },
   {
    "duration": 66,
    "start_time": "2022-03-09T08:26:28.667Z"
   },
   {
    "duration": 25738,
    "start_time": "2022-03-09T08:26:28.734Z"
   },
   {
    "duration": 8,
    "start_time": "2022-03-09T08:26:54.474Z"
   },
   {
    "duration": 99,
    "start_time": "2022-03-09T08:26:54.484Z"
   },
   {
    "duration": 18,
    "start_time": "2022-03-09T08:26:54.584Z"
   }
  ],
  "kernelspec": {
   "display_name": "Python 3 (ipykernel)",
   "language": "python",
   "name": "python3"
  },
  "language_info": {
   "codemirror_mode": {
    "name": "ipython",
    "version": 3
   },
   "file_extension": ".py",
   "mimetype": "text/x-python",
   "name": "python",
   "nbconvert_exporter": "python",
   "pygments_lexer": "ipython3",
   "version": "3.9.12"
  },
  "toc": {
   "base_numbering": 1,
   "nav_menu": {},
   "number_sections": true,
   "sideBar": true,
   "skip_h1_title": true,
   "title_cell": "Table of Contents",
   "title_sidebar": "Contents",
   "toc_cell": false,
   "toc_position": {
    "height": "calc(100% - 180px)",
    "left": "10px",
    "top": "150px",
    "width": "366.391px"
   },
   "toc_section_display": true,
   "toc_window_display": false
  }
 },
 "nbformat": 4,
 "nbformat_minor": 2
}
