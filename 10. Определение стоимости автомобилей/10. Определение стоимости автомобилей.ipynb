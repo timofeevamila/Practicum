{
 "cells": [
  {
   "cell_type": "markdown",
   "metadata": {},
   "source": [
    "# Определение стоимости автомобилей"
   ]
  },
  {
   "cell_type": "markdown",
   "metadata": {},
   "source": [
    "Сервис по продаже автомобилей с пробегом «Не бит, не крашен» разрабатывает приложение для привлечения новых клиентов. В нём можно быстро узнать рыночную стоимость своего автомобиля. В вашем распоряжении исторические данные: технические характеристики, комплектации и цены автомобилей. Вам нужно построить модель для определения стоимости. \n",
    "\n",
    "Заказчику важны:\n",
    "\n",
    "- качество предсказания;\n",
    "- скорость предсказания;\n",
    "- время обучения."
   ]
  },
  {
   "cell_type": "markdown",
   "metadata": {},
   "source": [
    "## Подготовка данных"
   ]
  },
  {
   "cell_type": "markdown",
   "metadata": {},
   "source": [
    "### Изучение данных из файла"
   ]
  },
  {
   "cell_type": "markdown",
   "metadata": {},
   "source": [
    "Импортируем библиотеки, с которыми будем работать"
   ]
  },
  {
   "cell_type": "code",
   "execution_count": 2,
   "metadata": {},
   "outputs": [],
   "source": [
    "import pandas as pd\n",
    "import numpy as np\n",
    "import seaborn as sbn\n",
    "import matplotlib.pyplot as plt\n",
    "import lightgbm as lgb\n",
    "from sklearn.preprocessing import OrdinalEncoder\n",
    "from sklearn.preprocessing import StandardScaler\n",
    "from sklearn.model_selection import train_test_split\n",
    "from sklearn.linear_model import LinearRegression\n",
    "from sklearn.tree import DecisionTreeRegressor\n",
    "from sklearn.ensemble import RandomForestRegressor\n",
    "from sklearn.model_selection import cross_val_score\n",
    "from sklearn.model_selection import GridSearchCV\n",
    "from lightgbm import LGBMRegressor\n",
    "from sklearn.metrics import mean_squared_error\n",
    "from sklearn.dummy import DummyRegressor\n",
    "import time\n",
    "import warnings\n",
    "warnings.filterwarnings('ignore')"
   ]
  },
  {
   "cell_type": "markdown",
   "metadata": {},
   "source": [
    "Сохраним данные в переменную `df` и посмотрим первые 5 строк датасета:"
   ]
  },
  {
   "cell_type": "code",
   "execution_count": 3,
   "metadata": {
    "scrolled": true
   },
   "outputs": [
    {
     "data": {
      "text/html": [
       "<div>\n",
       "<style scoped>\n",
       "    .dataframe tbody tr th:only-of-type {\n",
       "        vertical-align: middle;\n",
       "    }\n",
       "\n",
       "    .dataframe tbody tr th {\n",
       "        vertical-align: top;\n",
       "    }\n",
       "\n",
       "    .dataframe thead th {\n",
       "        text-align: right;\n",
       "    }\n",
       "</style>\n",
       "<table border=\"1\" class=\"dataframe\">\n",
       "  <thead>\n",
       "    <tr style=\"text-align: right;\">\n",
       "      <th></th>\n",
       "      <th>DateCrawled</th>\n",
       "      <th>Price</th>\n",
       "      <th>VehicleType</th>\n",
       "      <th>RegistrationYear</th>\n",
       "      <th>Gearbox</th>\n",
       "      <th>Power</th>\n",
       "      <th>Model</th>\n",
       "      <th>Kilometer</th>\n",
       "      <th>RegistrationMonth</th>\n",
       "      <th>FuelType</th>\n",
       "      <th>Brand</th>\n",
       "      <th>NotRepaired</th>\n",
       "      <th>DateCreated</th>\n",
       "      <th>NumberOfPictures</th>\n",
       "      <th>PostalCode</th>\n",
       "      <th>LastSeen</th>\n",
       "    </tr>\n",
       "  </thead>\n",
       "  <tbody>\n",
       "    <tr>\n",
       "      <th>0</th>\n",
       "      <td>2016-03-24 11:52:17</td>\n",
       "      <td>480</td>\n",
       "      <td>NaN</td>\n",
       "      <td>1993</td>\n",
       "      <td>manual</td>\n",
       "      <td>0</td>\n",
       "      <td>golf</td>\n",
       "      <td>150000</td>\n",
       "      <td>0</td>\n",
       "      <td>petrol</td>\n",
       "      <td>volkswagen</td>\n",
       "      <td>NaN</td>\n",
       "      <td>2016-03-24 00:00:00</td>\n",
       "      <td>0</td>\n",
       "      <td>70435</td>\n",
       "      <td>2016-04-07 03:16:57</td>\n",
       "    </tr>\n",
       "    <tr>\n",
       "      <th>1</th>\n",
       "      <td>2016-03-24 10:58:45</td>\n",
       "      <td>18300</td>\n",
       "      <td>coupe</td>\n",
       "      <td>2011</td>\n",
       "      <td>manual</td>\n",
       "      <td>190</td>\n",
       "      <td>NaN</td>\n",
       "      <td>125000</td>\n",
       "      <td>5</td>\n",
       "      <td>gasoline</td>\n",
       "      <td>audi</td>\n",
       "      <td>yes</td>\n",
       "      <td>2016-03-24 00:00:00</td>\n",
       "      <td>0</td>\n",
       "      <td>66954</td>\n",
       "      <td>2016-04-07 01:46:50</td>\n",
       "    </tr>\n",
       "    <tr>\n",
       "      <th>2</th>\n",
       "      <td>2016-03-14 12:52:21</td>\n",
       "      <td>9800</td>\n",
       "      <td>suv</td>\n",
       "      <td>2004</td>\n",
       "      <td>auto</td>\n",
       "      <td>163</td>\n",
       "      <td>grand</td>\n",
       "      <td>125000</td>\n",
       "      <td>8</td>\n",
       "      <td>gasoline</td>\n",
       "      <td>jeep</td>\n",
       "      <td>NaN</td>\n",
       "      <td>2016-03-14 00:00:00</td>\n",
       "      <td>0</td>\n",
       "      <td>90480</td>\n",
       "      <td>2016-04-05 12:47:46</td>\n",
       "    </tr>\n",
       "    <tr>\n",
       "      <th>3</th>\n",
       "      <td>2016-03-17 16:54:04</td>\n",
       "      <td>1500</td>\n",
       "      <td>small</td>\n",
       "      <td>2001</td>\n",
       "      <td>manual</td>\n",
       "      <td>75</td>\n",
       "      <td>golf</td>\n",
       "      <td>150000</td>\n",
       "      <td>6</td>\n",
       "      <td>petrol</td>\n",
       "      <td>volkswagen</td>\n",
       "      <td>no</td>\n",
       "      <td>2016-03-17 00:00:00</td>\n",
       "      <td>0</td>\n",
       "      <td>91074</td>\n",
       "      <td>2016-03-17 17:40:17</td>\n",
       "    </tr>\n",
       "    <tr>\n",
       "      <th>4</th>\n",
       "      <td>2016-03-31 17:25:20</td>\n",
       "      <td>3600</td>\n",
       "      <td>small</td>\n",
       "      <td>2008</td>\n",
       "      <td>manual</td>\n",
       "      <td>69</td>\n",
       "      <td>fabia</td>\n",
       "      <td>90000</td>\n",
       "      <td>7</td>\n",
       "      <td>gasoline</td>\n",
       "      <td>skoda</td>\n",
       "      <td>no</td>\n",
       "      <td>2016-03-31 00:00:00</td>\n",
       "      <td>0</td>\n",
       "      <td>60437</td>\n",
       "      <td>2016-04-06 10:17:21</td>\n",
       "    </tr>\n",
       "  </tbody>\n",
       "</table>\n",
       "</div>"
      ],
      "text/plain": [
       "           DateCrawled  Price VehicleType  RegistrationYear Gearbox  Power  \\\n",
       "0  2016-03-24 11:52:17    480         NaN              1993  manual      0   \n",
       "1  2016-03-24 10:58:45  18300       coupe              2011  manual    190   \n",
       "2  2016-03-14 12:52:21   9800         suv              2004    auto    163   \n",
       "3  2016-03-17 16:54:04   1500       small              2001  manual     75   \n",
       "4  2016-03-31 17:25:20   3600       small              2008  manual     69   \n",
       "\n",
       "   Model  Kilometer  RegistrationMonth  FuelType       Brand NotRepaired  \\\n",
       "0   golf     150000                  0    petrol  volkswagen         NaN   \n",
       "1    NaN     125000                  5  gasoline        audi         yes   \n",
       "2  grand     125000                  8  gasoline        jeep         NaN   \n",
       "3   golf     150000                  6    petrol  volkswagen          no   \n",
       "4  fabia      90000                  7  gasoline       skoda          no   \n",
       "\n",
       "           DateCreated  NumberOfPictures  PostalCode             LastSeen  \n",
       "0  2016-03-24 00:00:00                 0       70435  2016-04-07 03:16:57  \n",
       "1  2016-03-24 00:00:00                 0       66954  2016-04-07 01:46:50  \n",
       "2  2016-03-14 00:00:00                 0       90480  2016-04-05 12:47:46  \n",
       "3  2016-03-17 00:00:00                 0       91074  2016-03-17 17:40:17  \n",
       "4  2016-03-31 00:00:00                 0       60437  2016-04-06 10:17:21  "
      ]
     },
     "execution_count": 3,
     "metadata": {},
     "output_type": "execute_result"
    }
   ],
   "source": [
    "try:\n",
    "    df = pd.read_csv('autos.csv')\n",
    "except:\n",
    "    df = pd.read_csv('/datasets/autos.csv')\n",
    "df.head()"
   ]
  },
  {
   "cell_type": "markdown",
   "metadata": {},
   "source": [
    "Посмотрим описательную статистику по каждому столбцу датафрейма:"
   ]
  },
  {
   "cell_type": "code",
   "execution_count": 4,
   "metadata": {},
   "outputs": [
    {
     "data": {
      "text/html": [
       "<div>\n",
       "<style scoped>\n",
       "    .dataframe tbody tr th:only-of-type {\n",
       "        vertical-align: middle;\n",
       "    }\n",
       "\n",
       "    .dataframe tbody tr th {\n",
       "        vertical-align: top;\n",
       "    }\n",
       "\n",
       "    .dataframe thead th {\n",
       "        text-align: right;\n",
       "    }\n",
       "</style>\n",
       "<table border=\"1\" class=\"dataframe\">\n",
       "  <thead>\n",
       "    <tr style=\"text-align: right;\">\n",
       "      <th></th>\n",
       "      <th>Price</th>\n",
       "      <th>RegistrationYear</th>\n",
       "      <th>Power</th>\n",
       "      <th>Kilometer</th>\n",
       "      <th>RegistrationMonth</th>\n",
       "      <th>NumberOfPictures</th>\n",
       "      <th>PostalCode</th>\n",
       "    </tr>\n",
       "  </thead>\n",
       "  <tbody>\n",
       "    <tr>\n",
       "      <th>count</th>\n",
       "      <td>354369.000000</td>\n",
       "      <td>354369.000000</td>\n",
       "      <td>354369.000000</td>\n",
       "      <td>354369.000000</td>\n",
       "      <td>354369.000000</td>\n",
       "      <td>354369.0</td>\n",
       "      <td>354369.000000</td>\n",
       "    </tr>\n",
       "    <tr>\n",
       "      <th>mean</th>\n",
       "      <td>4416.656776</td>\n",
       "      <td>2004.234448</td>\n",
       "      <td>110.094337</td>\n",
       "      <td>128211.172535</td>\n",
       "      <td>5.714645</td>\n",
       "      <td>0.0</td>\n",
       "      <td>50508.689087</td>\n",
       "    </tr>\n",
       "    <tr>\n",
       "      <th>std</th>\n",
       "      <td>4514.158514</td>\n",
       "      <td>90.227958</td>\n",
       "      <td>189.850405</td>\n",
       "      <td>37905.341530</td>\n",
       "      <td>3.726421</td>\n",
       "      <td>0.0</td>\n",
       "      <td>25783.096248</td>\n",
       "    </tr>\n",
       "    <tr>\n",
       "      <th>min</th>\n",
       "      <td>0.000000</td>\n",
       "      <td>1000.000000</td>\n",
       "      <td>0.000000</td>\n",
       "      <td>5000.000000</td>\n",
       "      <td>0.000000</td>\n",
       "      <td>0.0</td>\n",
       "      <td>1067.000000</td>\n",
       "    </tr>\n",
       "    <tr>\n",
       "      <th>25%</th>\n",
       "      <td>1050.000000</td>\n",
       "      <td>1999.000000</td>\n",
       "      <td>69.000000</td>\n",
       "      <td>125000.000000</td>\n",
       "      <td>3.000000</td>\n",
       "      <td>0.0</td>\n",
       "      <td>30165.000000</td>\n",
       "    </tr>\n",
       "    <tr>\n",
       "      <th>50%</th>\n",
       "      <td>2700.000000</td>\n",
       "      <td>2003.000000</td>\n",
       "      <td>105.000000</td>\n",
       "      <td>150000.000000</td>\n",
       "      <td>6.000000</td>\n",
       "      <td>0.0</td>\n",
       "      <td>49413.000000</td>\n",
       "    </tr>\n",
       "    <tr>\n",
       "      <th>75%</th>\n",
       "      <td>6400.000000</td>\n",
       "      <td>2008.000000</td>\n",
       "      <td>143.000000</td>\n",
       "      <td>150000.000000</td>\n",
       "      <td>9.000000</td>\n",
       "      <td>0.0</td>\n",
       "      <td>71083.000000</td>\n",
       "    </tr>\n",
       "    <tr>\n",
       "      <th>max</th>\n",
       "      <td>20000.000000</td>\n",
       "      <td>9999.000000</td>\n",
       "      <td>20000.000000</td>\n",
       "      <td>150000.000000</td>\n",
       "      <td>12.000000</td>\n",
       "      <td>0.0</td>\n",
       "      <td>99998.000000</td>\n",
       "    </tr>\n",
       "  </tbody>\n",
       "</table>\n",
       "</div>"
      ],
      "text/plain": [
       "               Price  RegistrationYear          Power      Kilometer  \\\n",
       "count  354369.000000     354369.000000  354369.000000  354369.000000   \n",
       "mean     4416.656776       2004.234448     110.094337  128211.172535   \n",
       "std      4514.158514         90.227958     189.850405   37905.341530   \n",
       "min         0.000000       1000.000000       0.000000    5000.000000   \n",
       "25%      1050.000000       1999.000000      69.000000  125000.000000   \n",
       "50%      2700.000000       2003.000000     105.000000  150000.000000   \n",
       "75%      6400.000000       2008.000000     143.000000  150000.000000   \n",
       "max     20000.000000       9999.000000   20000.000000  150000.000000   \n",
       "\n",
       "       RegistrationMonth  NumberOfPictures     PostalCode  \n",
       "count      354369.000000          354369.0  354369.000000  \n",
       "mean            5.714645               0.0   50508.689087  \n",
       "std             3.726421               0.0   25783.096248  \n",
       "min             0.000000               0.0    1067.000000  \n",
       "25%             3.000000               0.0   30165.000000  \n",
       "50%             6.000000               0.0   49413.000000  \n",
       "75%             9.000000               0.0   71083.000000  \n",
       "max            12.000000               0.0   99998.000000  "
      ]
     },
     "execution_count": 4,
     "metadata": {},
     "output_type": "execute_result"
    }
   ],
   "source": [
    "df.describe()"
   ]
  },
  {
   "cell_type": "markdown",
   "metadata": {},
   "source": [
    "Видим выбросы и аномальные значения в некоторых столбцах, обработаем их в процессе предобработки данных. Начнем со стиля заголовков.\n",
    "Приведем названия столбцов в нижний регистр:"
   ]
  },
  {
   "cell_type": "markdown",
   "metadata": {},
   "source": [
    "### Стиль заголовков"
   ]
  },
  {
   "cell_type": "code",
   "execution_count": 5,
   "metadata": {
    "scrolled": true
   },
   "outputs": [
    {
     "data": {
      "text/html": [
       "<div>\n",
       "<style scoped>\n",
       "    .dataframe tbody tr th:only-of-type {\n",
       "        vertical-align: middle;\n",
       "    }\n",
       "\n",
       "    .dataframe tbody tr th {\n",
       "        vertical-align: top;\n",
       "    }\n",
       "\n",
       "    .dataframe thead th {\n",
       "        text-align: right;\n",
       "    }\n",
       "</style>\n",
       "<table border=\"1\" class=\"dataframe\">\n",
       "  <thead>\n",
       "    <tr style=\"text-align: right;\">\n",
       "      <th></th>\n",
       "      <th>datecrawled</th>\n",
       "      <th>price</th>\n",
       "      <th>vehicletype</th>\n",
       "      <th>registrationyear</th>\n",
       "      <th>gearbox</th>\n",
       "      <th>power</th>\n",
       "      <th>model</th>\n",
       "      <th>kilometer</th>\n",
       "      <th>registrationmonth</th>\n",
       "      <th>fueltype</th>\n",
       "      <th>brand</th>\n",
       "      <th>notrepaired</th>\n",
       "      <th>datecreated</th>\n",
       "      <th>numberofpictures</th>\n",
       "      <th>postalcode</th>\n",
       "      <th>lastseen</th>\n",
       "    </tr>\n",
       "  </thead>\n",
       "  <tbody>\n",
       "    <tr>\n",
       "      <th>0</th>\n",
       "      <td>2016-03-24 11:52:17</td>\n",
       "      <td>480</td>\n",
       "      <td>NaN</td>\n",
       "      <td>1993</td>\n",
       "      <td>manual</td>\n",
       "      <td>0</td>\n",
       "      <td>golf</td>\n",
       "      <td>150000</td>\n",
       "      <td>0</td>\n",
       "      <td>petrol</td>\n",
       "      <td>volkswagen</td>\n",
       "      <td>NaN</td>\n",
       "      <td>2016-03-24 00:00:00</td>\n",
       "      <td>0</td>\n",
       "      <td>70435</td>\n",
       "      <td>2016-04-07 03:16:57</td>\n",
       "    </tr>\n",
       "    <tr>\n",
       "      <th>1</th>\n",
       "      <td>2016-03-24 10:58:45</td>\n",
       "      <td>18300</td>\n",
       "      <td>coupe</td>\n",
       "      <td>2011</td>\n",
       "      <td>manual</td>\n",
       "      <td>190</td>\n",
       "      <td>NaN</td>\n",
       "      <td>125000</td>\n",
       "      <td>5</td>\n",
       "      <td>gasoline</td>\n",
       "      <td>audi</td>\n",
       "      <td>yes</td>\n",
       "      <td>2016-03-24 00:00:00</td>\n",
       "      <td>0</td>\n",
       "      <td>66954</td>\n",
       "      <td>2016-04-07 01:46:50</td>\n",
       "    </tr>\n",
       "    <tr>\n",
       "      <th>2</th>\n",
       "      <td>2016-03-14 12:52:21</td>\n",
       "      <td>9800</td>\n",
       "      <td>suv</td>\n",
       "      <td>2004</td>\n",
       "      <td>auto</td>\n",
       "      <td>163</td>\n",
       "      <td>grand</td>\n",
       "      <td>125000</td>\n",
       "      <td>8</td>\n",
       "      <td>gasoline</td>\n",
       "      <td>jeep</td>\n",
       "      <td>NaN</td>\n",
       "      <td>2016-03-14 00:00:00</td>\n",
       "      <td>0</td>\n",
       "      <td>90480</td>\n",
       "      <td>2016-04-05 12:47:46</td>\n",
       "    </tr>\n",
       "    <tr>\n",
       "      <th>3</th>\n",
       "      <td>2016-03-17 16:54:04</td>\n",
       "      <td>1500</td>\n",
       "      <td>small</td>\n",
       "      <td>2001</td>\n",
       "      <td>manual</td>\n",
       "      <td>75</td>\n",
       "      <td>golf</td>\n",
       "      <td>150000</td>\n",
       "      <td>6</td>\n",
       "      <td>petrol</td>\n",
       "      <td>volkswagen</td>\n",
       "      <td>no</td>\n",
       "      <td>2016-03-17 00:00:00</td>\n",
       "      <td>0</td>\n",
       "      <td>91074</td>\n",
       "      <td>2016-03-17 17:40:17</td>\n",
       "    </tr>\n",
       "    <tr>\n",
       "      <th>4</th>\n",
       "      <td>2016-03-31 17:25:20</td>\n",
       "      <td>3600</td>\n",
       "      <td>small</td>\n",
       "      <td>2008</td>\n",
       "      <td>manual</td>\n",
       "      <td>69</td>\n",
       "      <td>fabia</td>\n",
       "      <td>90000</td>\n",
       "      <td>7</td>\n",
       "      <td>gasoline</td>\n",
       "      <td>skoda</td>\n",
       "      <td>no</td>\n",
       "      <td>2016-03-31 00:00:00</td>\n",
       "      <td>0</td>\n",
       "      <td>60437</td>\n",
       "      <td>2016-04-06 10:17:21</td>\n",
       "    </tr>\n",
       "  </tbody>\n",
       "</table>\n",
       "</div>"
      ],
      "text/plain": [
       "           datecrawled  price vehicletype  registrationyear gearbox  power  \\\n",
       "0  2016-03-24 11:52:17    480         NaN              1993  manual      0   \n",
       "1  2016-03-24 10:58:45  18300       coupe              2011  manual    190   \n",
       "2  2016-03-14 12:52:21   9800         suv              2004    auto    163   \n",
       "3  2016-03-17 16:54:04   1500       small              2001  manual     75   \n",
       "4  2016-03-31 17:25:20   3600       small              2008  manual     69   \n",
       "\n",
       "   model  kilometer  registrationmonth  fueltype       brand notrepaired  \\\n",
       "0   golf     150000                  0    petrol  volkswagen         NaN   \n",
       "1    NaN     125000                  5  gasoline        audi         yes   \n",
       "2  grand     125000                  8  gasoline        jeep         NaN   \n",
       "3   golf     150000                  6    petrol  volkswagen          no   \n",
       "4  fabia      90000                  7  gasoline       skoda          no   \n",
       "\n",
       "           datecreated  numberofpictures  postalcode             lastseen  \n",
       "0  2016-03-24 00:00:00                 0       70435  2016-04-07 03:16:57  \n",
       "1  2016-03-24 00:00:00                 0       66954  2016-04-07 01:46:50  \n",
       "2  2016-03-14 00:00:00                 0       90480  2016-04-05 12:47:46  \n",
       "3  2016-03-17 00:00:00                 0       91074  2016-03-17 17:40:17  \n",
       "4  2016-03-31 00:00:00                 0       60437  2016-04-06 10:17:21  "
      ]
     },
     "execution_count": 5,
     "metadata": {},
     "output_type": "execute_result"
    }
   ],
   "source": [
    "df.columns = df.columns.str.lower()\n",
    "df.head()"
   ]
  },
  {
   "cell_type": "markdown",
   "metadata": {},
   "source": [
    "Переименуем столбцы в соответствии со змеиным стилем:"
   ]
  },
  {
   "cell_type": "code",
   "execution_count": 6,
   "metadata": {},
   "outputs": [],
   "source": [
    "df = df.rename(columns={'datecrawled': 'date_crawled', \n",
    "                        'vehicletype': 'vehicle_type',\n",
    "                       'registrationyear' : 'registration_year',\n",
    "                       'registrationmonth' : 'registration_month',\n",
    "                       'fueltype' : 'fuel_type',\n",
    "                       'notrepaired' : 'not_repaired',\n",
    "                       'datecreated' : 'date_created',\n",
    "                       'numberofpictures' : 'number_of_pictures',\n",
    "                       'postalcode' : 'postal_code',\n",
    "                       'lastseen' : 'last_seen'})"
   ]
  },
  {
   "cell_type": "markdown",
   "metadata": {},
   "source": [
    "### Дубликаты"
   ]
  },
  {
   "cell_type": "markdown",
   "metadata": {},
   "source": [
    "Проверим наличие дубликатов в датасете и удалим их:"
   ]
  },
  {
   "cell_type": "code",
   "execution_count": 7,
   "metadata": {},
   "outputs": [
    {
     "data": {
      "text/plain": [
       "4"
      ]
     },
     "execution_count": 7,
     "metadata": {},
     "output_type": "execute_result"
    }
   ],
   "source": [
    "df.duplicated().sum()"
   ]
  },
  {
   "cell_type": "code",
   "execution_count": 8,
   "metadata": {},
   "outputs": [],
   "source": [
    "df = df.drop_duplicates()"
   ]
  },
  {
   "cell_type": "markdown",
   "metadata": {},
   "source": [
    "Удалили дубликаты, теперь посмотрим на пропуски."
   ]
  },
  {
   "cell_type": "markdown",
   "metadata": {},
   "source": [
    "### Пропуски значений"
   ]
  },
  {
   "cell_type": "code",
   "execution_count": 9,
   "metadata": {
    "scrolled": false
   },
   "outputs": [
    {
     "data": {
      "text/plain": [
       "date_crawled              0\n",
       "price                     0\n",
       "vehicle_type          37490\n",
       "registration_year         0\n",
       "gearbox               19833\n",
       "power                     0\n",
       "model                 19705\n",
       "kilometer                 0\n",
       "registration_month        0\n",
       "fuel_type             32895\n",
       "brand                     0\n",
       "not_repaired          71154\n",
       "date_created              0\n",
       "number_of_pictures        0\n",
       "postal_code               0\n",
       "last_seen                 0\n",
       "dtype: int64"
      ]
     },
     "execution_count": 9,
     "metadata": {},
     "output_type": "execute_result"
    }
   ],
   "source": [
    "df.isna().sum()"
   ]
  },
  {
   "cell_type": "markdown",
   "metadata": {},
   "source": [
    "Пропущенные значения есть в 5 столбцах:\n",
    "* тип автомобильного кузова, \n",
    "* тип коробки передач,\n",
    "* модель автомобиля,\n",
    "* тип топлива,\n",
    "* была машина в ремонте или нет.  \n",
    "\n",
    "Посмотрим на уникальные значения в столбце \"Тип автомобильного кузова\":"
   ]
  },
  {
   "cell_type": "code",
   "execution_count": 10,
   "metadata": {
    "scrolled": false
   },
   "outputs": [
    {
     "data": {
      "text/plain": [
       "sedan          91457\n",
       "small          79830\n",
       "wagon          65165\n",
       "bus            28775\n",
       "convertible    20203\n",
       "coupe          16161\n",
       "suv            11996\n",
       "other           3288\n",
       "Name: vehicle_type, dtype: int64"
      ]
     },
     "execution_count": 10,
     "metadata": {},
     "output_type": "execute_result"
    }
   ],
   "source": [
    "df['vehicle_type'].value_counts()"
   ]
  },
  {
   "cell_type": "markdown",
   "metadata": {},
   "source": [
    "У нас нет инструментов, чтобы достоверно восстановить пропущенные значения, поэтому исключим эти строки из анализа:"
   ]
  },
  {
   "cell_type": "code",
   "execution_count": 11,
   "metadata": {},
   "outputs": [
    {
     "data": {
      "text/plain": [
       "date_crawled              0\n",
       "price                     0\n",
       "vehicle_type              0\n",
       "registration_year         0\n",
       "gearbox                9863\n",
       "power                     0\n",
       "model                 12877\n",
       "kilometer                 0\n",
       "registration_month        0\n",
       "fuel_type             15600\n",
       "brand                     0\n",
       "not_repaired          50583\n",
       "date_created              0\n",
       "number_of_pictures        0\n",
       "postal_code               0\n",
       "last_seen                 0\n",
       "dtype: int64"
      ]
     },
     "execution_count": 11,
     "metadata": {},
     "output_type": "execute_result"
    }
   ],
   "source": [
    "df = df.dropna(subset=['vehicle_type'])\n",
    "df.isna().sum()"
   ]
  },
  {
   "cell_type": "markdown",
   "metadata": {},
   "source": [
    "Посмотрим уникальные значения столбца \"Тип коробки передач\":"
   ]
  },
  {
   "cell_type": "code",
   "execution_count": 12,
   "metadata": {
    "scrolled": false
   },
   "outputs": [
    {
     "data": {
      "text/plain": [
       "manual    244727\n",
       "auto       62285\n",
       "Name: gearbox, dtype: int64"
      ]
     },
     "execution_count": 12,
     "metadata": {},
     "output_type": "execute_result"
    }
   ],
   "source": [
    "df['gearbox'].value_counts()"
   ]
  },
  {
   "cell_type": "markdown",
   "metadata": {},
   "source": [
    "Попробуем заменить пропуски на наиболее часто встречающееся значение - manual (ручная коробка передач)."
   ]
  },
  {
   "cell_type": "code",
   "execution_count": 13,
   "metadata": {
    "scrolled": true
   },
   "outputs": [
    {
     "data": {
      "text/plain": [
       "date_crawled              0\n",
       "price                     0\n",
       "vehicle_type              0\n",
       "registration_year         0\n",
       "gearbox                   0\n",
       "power                     0\n",
       "model                 12877\n",
       "kilometer                 0\n",
       "registration_month        0\n",
       "fuel_type             15600\n",
       "brand                     0\n",
       "not_repaired          50583\n",
       "date_created              0\n",
       "number_of_pictures        0\n",
       "postal_code               0\n",
       "last_seen                 0\n",
       "dtype: int64"
      ]
     },
     "execution_count": 13,
     "metadata": {},
     "output_type": "execute_result"
    }
   ],
   "source": [
    "df['gearbox'] = df['gearbox'].fillna(value='manual')\n",
    "df.isna().sum()"
   ]
  },
  {
   "cell_type": "markdown",
   "metadata": {},
   "source": [
    "Посмотрим на значения в столбце \"Модель\":"
   ]
  },
  {
   "cell_type": "code",
   "execution_count": 14,
   "metadata": {
    "scrolled": false
   },
   "outputs": [
    {
     "data": {
      "text/plain": [
       "array(['100', '145', '147', '156', '159', '1_reihe', '1er', '200',\n",
       "       '2_reihe', '300c', '3_reihe', '3er', '4_reihe', '500', '5_reihe',\n",
       "       '5er', '601', '6_reihe', '6er', '7er', '80', '850', '90', '900',\n",
       "       '9000', '911', 'a1', 'a2', 'a3', 'a4', 'a5', 'a6', 'a8',\n",
       "       'a_klasse', 'accord', 'agila', 'alhambra', 'almera', 'altea',\n",
       "       'amarok', 'antara', 'arosa', 'astra', 'auris', 'avensis', 'aveo',\n",
       "       'aygo', 'b_klasse', 'b_max', 'beetle', 'berlingo', 'bora',\n",
       "       'boxster', 'bravo', 'c1', 'c2', 'c3', 'c4', 'c5', 'c_klasse',\n",
       "       'c_max', 'c_reihe', 'caddy', 'calibra', 'captiva', 'carisma',\n",
       "       'carnival', 'cayenne', 'cc', 'ceed', 'charade', 'cherokee',\n",
       "       'citigo', 'civic', 'cl', 'clio', 'clk', 'clubman', 'colt', 'combo',\n",
       "       'cooper', 'cordoba', 'corolla', 'corsa', 'cr_reihe', 'croma',\n",
       "       'crossfire', 'cuore', 'cx_reihe', 'defender', 'delta', 'discovery',\n",
       "       'doblo', 'ducato', 'duster', 'e_klasse', 'elefantino', 'eos',\n",
       "       'escort', 'espace', 'exeo', 'fabia', 'fiesta', 'focus', 'forester',\n",
       "       'forfour', 'fortwo', 'fox', 'freelander', 'fusion', 'g_klasse',\n",
       "       'galant', 'galaxy', 'getz', 'gl', 'glk', 'golf', 'grand', 'i3',\n",
       "       'i_reihe', 'ibiza', 'impreza', 'insignia', 'jazz', 'jetta',\n",
       "       'jimny', 'juke', 'justy', 'ka', 'kadett', 'kaefer', 'kalina',\n",
       "       'kalos', 'kangoo', 'kappa', 'kuga', 'laguna', 'lancer', 'lanos',\n",
       "       'legacy', 'leon', 'lodgy', 'logan', 'lupo', 'lybra', 'm_klasse',\n",
       "       'm_reihe', 'materia', 'matiz', 'megane', 'meriva', 'micra', 'mii',\n",
       "       'modus', 'mondeo', 'move', 'musa', 'mustang', 'mx_reihe', 'navara',\n",
       "       'niva', 'note', 'nubira', 'octavia', 'omega', 'one', 'other',\n",
       "       'outlander', 'pajero', 'panda', 'passat', 'phaeton', 'picanto',\n",
       "       'polo', 'primera', 'ptcruiser', 'punto', 'q3', 'q5', 'q7',\n",
       "       'qashqai', 'r19', 'range_rover', 'range_rover_evoque',\n",
       "       'range_rover_sport', 'rangerover', 'rav', 'rio', 'roadster',\n",
       "       'roomster', 'rx_reihe', 's60', 's_klasse', 's_max', 's_type',\n",
       "       'samara', 'sandero', 'santa', 'scenic', 'scirocco', 'seicento',\n",
       "       'serie_1', 'serie_2', 'serie_3', 'sharan', 'signum', 'sirion',\n",
       "       'sl', 'slk', 'sorento', 'spark', 'spider', 'sportage', 'sprinter',\n",
       "       'stilo', 'superb', 'swift', 'terios', 'tigra', 'tiguan', 'toledo',\n",
       "       'touareg', 'touran', 'transit', 'transporter', 'tt', 'tucson',\n",
       "       'twingo', 'up', 'v40', 'v50', 'v60', 'v70', 'v_klasse', 'vectra',\n",
       "       'verso', 'viano', 'vito', 'vivaro', 'voyager', 'wrangler',\n",
       "       'x_reihe', 'x_trail', 'x_type', 'xc_reihe', 'yaris', 'yeti',\n",
       "       'ypsilon', 'z_reihe', 'zafira', nan], dtype=object)"
      ]
     },
     "execution_count": 14,
     "metadata": {},
     "output_type": "execute_result"
    }
   ],
   "source": [
    "df['model'].sort_values().unique()"
   ]
  },
  {
   "cell_type": "markdown",
   "metadata": {},
   "source": [
    "У нас нет инструментов, чтобы достоверно восстановить пропущенные значения, поэтому исключим эти строки из анализа:"
   ]
  },
  {
   "cell_type": "code",
   "execution_count": 15,
   "metadata": {
    "scrolled": false
   },
   "outputs": [
    {
     "data": {
      "text/plain": [
       "date_crawled              0\n",
       "price                     0\n",
       "vehicle_type              0\n",
       "registration_year         0\n",
       "gearbox                   0\n",
       "power                     0\n",
       "model                     0\n",
       "kilometer                 0\n",
       "registration_month        0\n",
       "fuel_type             12751\n",
       "brand                     0\n",
       "not_repaired          46005\n",
       "date_created              0\n",
       "number_of_pictures        0\n",
       "postal_code               0\n",
       "last_seen                 0\n",
       "dtype: int64"
      ]
     },
     "execution_count": 15,
     "metadata": {},
     "output_type": "execute_result"
    }
   ],
   "source": [
    "df = df.dropna(subset=['model'])\n",
    "df.isna().sum()"
   ]
  },
  {
   "cell_type": "markdown",
   "metadata": {},
   "source": [
    "Посмотрим на пропуски в столбце \"Тип топлива\":"
   ]
  },
  {
   "cell_type": "code",
   "execution_count": 16,
   "metadata": {
    "scrolled": true
   },
   "outputs": [
    {
     "data": {
      "text/plain": [
       "petrol      194156\n",
       "gasoline     91515\n",
       "lpg           4698\n",
       "cng            501\n",
       "hybrid         194\n",
       "other          119\n",
       "electric        64\n",
       "Name: fuel_type, dtype: int64"
      ]
     },
     "execution_count": 16,
     "metadata": {},
     "output_type": "execute_result"
    }
   ],
   "source": [
    "df['fuel_type'].value_counts()"
   ]
  },
  {
   "cell_type": "markdown",
   "metadata": {},
   "source": [
    "Заменим пропуски на наиболее часто встречающийся вариант - petrol (бензин):"
   ]
  },
  {
   "cell_type": "code",
   "execution_count": 17,
   "metadata": {
    "scrolled": true
   },
   "outputs": [
    {
     "data": {
      "text/plain": [
       "date_crawled              0\n",
       "price                     0\n",
       "vehicle_type              0\n",
       "registration_year         0\n",
       "gearbox                   0\n",
       "power                     0\n",
       "model                     0\n",
       "kilometer                 0\n",
       "registration_month        0\n",
       "fuel_type                 0\n",
       "brand                     0\n",
       "not_repaired          46005\n",
       "date_created              0\n",
       "number_of_pictures        0\n",
       "postal_code               0\n",
       "last_seen                 0\n",
       "dtype: int64"
      ]
     },
     "execution_count": 17,
     "metadata": {},
     "output_type": "execute_result"
    }
   ],
   "source": [
    "df['fuel_type'] = df['fuel_type'].fillna(value='petrol')\n",
    "df.isna().sum()"
   ]
  },
  {
   "cell_type": "markdown",
   "metadata": {},
   "source": [
    "Предположим, что владельцы не указывали никаких данных о ремонте в случаях, когда ремонта не было. Исходя из этого предположения, заменим пропуски в столбце \"Была машина в ремонте или нет\" на вариант \"нет\":"
   ]
  },
  {
   "cell_type": "code",
   "execution_count": 18,
   "metadata": {
    "scrolled": false
   },
   "outputs": [
    {
     "data": {
      "text/plain": [
       "no     227603\n",
       "yes     30390\n",
       "Name: not_repaired, dtype: int64"
      ]
     },
     "execution_count": 18,
     "metadata": {},
     "output_type": "execute_result"
    }
   ],
   "source": [
    "df['not_repaired'].value_counts()"
   ]
  },
  {
   "cell_type": "code",
   "execution_count": 19,
   "metadata": {
    "scrolled": false
   },
   "outputs": [
    {
     "name": "stdout",
     "output_type": "stream",
     "text": [
      "<class 'pandas.core.frame.DataFrame'>\n",
      "Int64Index: 303998 entries, 2 to 354368\n",
      "Data columns (total 16 columns):\n",
      " #   Column              Non-Null Count   Dtype \n",
      "---  ------              --------------   ----- \n",
      " 0   date_crawled        303998 non-null  object\n",
      " 1   price               303998 non-null  int64 \n",
      " 2   vehicle_type        303998 non-null  object\n",
      " 3   registration_year   303998 non-null  int64 \n",
      " 4   gearbox             303998 non-null  object\n",
      " 5   power               303998 non-null  int64 \n",
      " 6   model               303998 non-null  object\n",
      " 7   kilometer           303998 non-null  int64 \n",
      " 8   registration_month  303998 non-null  int64 \n",
      " 9   fuel_type           303998 non-null  object\n",
      " 10  brand               303998 non-null  object\n",
      " 11  not_repaired        303998 non-null  object\n",
      " 12  date_created        303998 non-null  object\n",
      " 13  number_of_pictures  303998 non-null  int64 \n",
      " 14  postal_code         303998 non-null  int64 \n",
      " 15  last_seen           303998 non-null  object\n",
      "dtypes: int64(7), object(9)\n",
      "memory usage: 39.4+ MB\n"
     ]
    }
   ],
   "source": [
    "df['not_repaired'] = df['not_repaired'].fillna(value='no')\n",
    "df.info()"
   ]
  },
  {
   "cell_type": "markdown",
   "metadata": {},
   "source": [
    "Удалим столбцы, которые не имеют существенного влияния на целевой признак - цену автомобиля:\n",
    "* дата скачивания анкеты из базы,\n",
    "* год регистрации автомобиля,\n",
    "* месяц регистрации автомобиля,\n",
    "* дата создания анкеты,\n",
    "* количество фотографий автомобиля,\n",
    "* почтовый индекс владельца анкеты (пользователя),\n",
    "* дата последней активности пользователя:"
   ]
  },
  {
   "cell_type": "code",
   "execution_count": 20,
   "metadata": {
    "scrolled": true
   },
   "outputs": [
    {
     "name": "stdout",
     "output_type": "stream",
     "text": [
      "<class 'pandas.core.frame.DataFrame'>\n",
      "Int64Index: 303998 entries, 2 to 354368\n",
      "Data columns (total 9 columns):\n",
      " #   Column        Non-Null Count   Dtype \n",
      "---  ------        --------------   ----- \n",
      " 0   price         303998 non-null  int64 \n",
      " 1   vehicle_type  303998 non-null  object\n",
      " 2   gearbox       303998 non-null  object\n",
      " 3   power         303998 non-null  int64 \n",
      " 4   model         303998 non-null  object\n",
      " 5   kilometer     303998 non-null  int64 \n",
      " 6   fuel_type     303998 non-null  object\n",
      " 7   brand         303998 non-null  object\n",
      " 8   not_repaired  303998 non-null  object\n",
      "dtypes: int64(3), object(6)\n",
      "memory usage: 23.2+ MB\n"
     ]
    }
   ],
   "source": [
    "df = df.drop(['date_crawled', 'registration_year','registration_month', 'date_created', 'number_of_pictures',\n",
    "              'postal_code', 'last_seen'], 1)\n",
    "df.info()"
   ]
  },
  {
   "cell_type": "markdown",
   "metadata": {},
   "source": [
    "### Аномальные значения"
   ]
  },
  {
   "cell_type": "markdown",
   "metadata": {},
   "source": [
    "Посмотрим на выбросы и аномальные значения:"
   ]
  },
  {
   "cell_type": "code",
   "execution_count": 21,
   "metadata": {},
   "outputs": [
    {
     "data": {
      "text/html": [
       "<div>\n",
       "<style scoped>\n",
       "    .dataframe tbody tr th:only-of-type {\n",
       "        vertical-align: middle;\n",
       "    }\n",
       "\n",
       "    .dataframe tbody tr th {\n",
       "        vertical-align: top;\n",
       "    }\n",
       "\n",
       "    .dataframe thead th {\n",
       "        text-align: right;\n",
       "    }\n",
       "</style>\n",
       "<table border=\"1\" class=\"dataframe\">\n",
       "  <thead>\n",
       "    <tr style=\"text-align: right;\">\n",
       "      <th></th>\n",
       "      <th>price</th>\n",
       "      <th>power</th>\n",
       "      <th>kilometer</th>\n",
       "    </tr>\n",
       "  </thead>\n",
       "  <tbody>\n",
       "    <tr>\n",
       "      <th>count</th>\n",
       "      <td>303998.000000</td>\n",
       "      <td>303998.000000</td>\n",
       "      <td>303998.000000</td>\n",
       "    </tr>\n",
       "    <tr>\n",
       "      <th>mean</th>\n",
       "      <td>4711.228321</td>\n",
       "      <td>115.162731</td>\n",
       "      <td>128452.703636</td>\n",
       "    </tr>\n",
       "    <tr>\n",
       "      <th>std</th>\n",
       "      <td>4592.428261</td>\n",
       "      <td>179.546750</td>\n",
       "      <td>36822.041948</td>\n",
       "    </tr>\n",
       "    <tr>\n",
       "      <th>min</th>\n",
       "      <td>0.000000</td>\n",
       "      <td>0.000000</td>\n",
       "      <td>5000.000000</td>\n",
       "    </tr>\n",
       "    <tr>\n",
       "      <th>25%</th>\n",
       "      <td>1250.000000</td>\n",
       "      <td>75.000000</td>\n",
       "      <td>125000.000000</td>\n",
       "    </tr>\n",
       "    <tr>\n",
       "      <th>50%</th>\n",
       "      <td>2999.000000</td>\n",
       "      <td>107.000000</td>\n",
       "      <td>150000.000000</td>\n",
       "    </tr>\n",
       "    <tr>\n",
       "      <th>75%</th>\n",
       "      <td>6890.000000</td>\n",
       "      <td>144.000000</td>\n",
       "      <td>150000.000000</td>\n",
       "    </tr>\n",
       "    <tr>\n",
       "      <th>max</th>\n",
       "      <td>20000.000000</td>\n",
       "      <td>20000.000000</td>\n",
       "      <td>150000.000000</td>\n",
       "    </tr>\n",
       "  </tbody>\n",
       "</table>\n",
       "</div>"
      ],
      "text/plain": [
       "               price          power      kilometer\n",
       "count  303998.000000  303998.000000  303998.000000\n",
       "mean     4711.228321     115.162731  128452.703636\n",
       "std      4592.428261     179.546750   36822.041948\n",
       "min         0.000000       0.000000    5000.000000\n",
       "25%      1250.000000      75.000000  125000.000000\n",
       "50%      2999.000000     107.000000  150000.000000\n",
       "75%      6890.000000     144.000000  150000.000000\n",
       "max     20000.000000   20000.000000  150000.000000"
      ]
     },
     "execution_count": 21,
     "metadata": {},
     "output_type": "execute_result"
    }
   ],
   "source": [
    "df.describe()"
   ]
  },
  {
   "cell_type": "markdown",
   "metadata": {},
   "source": [
    "Построим гистограмму \"Цена автомобиля\":"
   ]
  },
  {
   "cell_type": "code",
   "execution_count": 22,
   "metadata": {},
   "outputs": [
    {
     "data": {
      "image/png": "[encoded data removed]",
      "text/plain": [
       "<Figure size 1080x360 with 1 Axes>"
      ]
     },
     "metadata": {
      "needs_background": "light"
     },
     "output_type": "display_data"
    }
   ],
   "source": [
    "df['price'].plot(\n",
    "    kind='hist',\n",
    "    alpha=1.0,\n",
    "    title='Цена автомобиля (евро)',\n",
    "    grid=True,\n",
    "    figsize=(15,5),\n",
    "    fontsize=10)\n",
    "plt.xlabel('Цена автомобиля (евро)')\n",
    "plt.ylabel('Количество объявлений (шт.)')\n",
    "plt.show()"
   ]
  },
  {
   "cell_type": "code",
   "execution_count": 23,
   "metadata": {
    "scrolled": true
   },
   "outputs": [
    {
     "data": {
      "image/png": "[encoded data removed]",
      "text/plain": [
       "<Figure size 432x288 with 1 Axes>"
      ]
     },
     "metadata": {
      "needs_background": "light"
     },
     "output_type": "display_data"
    }
   ],
   "source": [
    "sbn.boxplot(df.price)\n",
    "plt.title('Цена автомобиля')\n",
    "plt.xlim(0, 7500)\n",
    "plt.xlabel('Цена автомобиля (евро)')\n",
    "plt.show()"
   ]
  },
  {
   "cell_type": "markdown",
   "metadata": {},
   "source": [
    "Цена автомобиля - целевой признак и передавать в модель данные с нулевой ценой нецелесообразно. Удалим все значения, равные нулю:"
   ]
  },
  {
   "cell_type": "code",
   "execution_count": 24,
   "metadata": {
    "scrolled": true
   },
   "outputs": [
    {
     "data": {
      "text/plain": [
       "count    297906.000000\n",
       "mean       4807.570130\n",
       "std        4588.955575\n",
       "min           1.000000\n",
       "25%        1300.000000\n",
       "50%        3100.000000\n",
       "75%        6950.000000\n",
       "max       20000.000000\n",
       "Name: price, dtype: float64"
      ]
     },
     "execution_count": 24,
     "metadata": {},
     "output_type": "execute_result"
    }
   ],
   "source": [
    "df = df[(df['price'] != 0)]\n",
    "df['price'].describe()"
   ]
  },
  {
   "cell_type": "markdown",
   "metadata": {},
   "source": [
    "Построим гистограмму \"Мощность автомобиля\":"
   ]
  },
  {
   "cell_type": "code",
   "execution_count": 25,
   "metadata": {},
   "outputs": [
    {
     "data": {
      "image/png": "[encoded data removed]",
      "text/plain": [
       "<Figure size 1080x360 with 1 Axes>"
      ]
     },
     "metadata": {
      "needs_background": "light"
     },
     "output_type": "display_data"
    }
   ],
   "source": [
    "df['power'].plot(\n",
    "    kind='hist',\n",
    "    alpha=1.0,\n",
    "    bins=500,\n",
    "    title='Мощность автомобиля (л.с.)',\n",
    "    grid=True,\n",
    "    figsize=(15,5),\n",
    "    fontsize=10)\n",
    "plt.xlabel('Мощность (л.с.)')\n",
    "plt.ylabel('Количество объявлений (шт.)')\n",
    "plt.show()"
   ]
  },
  {
   "cell_type": "code",
   "execution_count": 26,
   "metadata": {
    "scrolled": true
   },
   "outputs": [
    {
     "data": {
      "image/png": "[encoded data removed]",
      "text/plain": [
       "<Figure size 432x288 with 1 Axes>"
      ]
     },
     "metadata": {
      "needs_background": "light"
     },
     "output_type": "display_data"
    }
   ],
   "source": [
    "sbn.boxplot(df.power)\n",
    "plt.title('Мощность автомобиля (л.с.)')\n",
    "plt.xlim(0, 300)\n",
    "plt.xlabel('Мощность автомобиля (л.с.)')\n",
    "plt.show()"
   ]
  },
  {
   "cell_type": "markdown",
   "metadata": {},
   "source": [
    "На графиках мы видим выбросы, которые появились вероятнее всего из-за ошибок пользователей при заполнении объявлений, поэтому удалим данные с мощностью автомобиля менее 5 лошадиных сил и более 250 лошадиных сил:"
   ]
  },
  {
   "cell_type": "code",
   "execution_count": 27,
   "metadata": {},
   "outputs": [
    {
     "data": {
      "text/plain": [
       "count    269076.000000\n",
       "mean        116.722551\n",
       "std          45.264665\n",
       "min           6.000000\n",
       "25%          75.000000\n",
       "50%         110.000000\n",
       "75%         145.000000\n",
       "max         249.000000\n",
       "Name: power, dtype: float64"
      ]
     },
     "execution_count": 27,
     "metadata": {},
     "output_type": "execute_result"
    }
   ],
   "source": [
    "df = df[(df['power'] > 5) & (df['power'] < 250)]\n",
    "df['power'].describe()"
   ]
  },
  {
   "cell_type": "markdown",
   "metadata": {},
   "source": [
    "Построим гистограмму \"Пробег\":"
   ]
  },
  {
   "cell_type": "code",
   "execution_count": 28,
   "metadata": {
    "scrolled": false
   },
   "outputs": [
    {
     "data": {
      "image/png": "[encoded data removed]",
      "text/plain": [
       "<Figure size 1080x360 with 1 Axes>"
      ]
     },
     "metadata": {
      "needs_background": "light"
     },
     "output_type": "display_data"
    }
   ],
   "source": [
    "df['kilometer'].plot(\n",
    "    kind='hist',\n",
    "    alpha=1.0,\n",
    "    title='Пробег (км)',\n",
    "    grid=True,\n",
    "    figsize=(15,5),\n",
    "    fontsize=10)\n",
    "plt.xlabel('Пробег (км)')\n",
    "plt.ylabel('Количество объявлений (шт.)')\n",
    "plt.show()"
   ]
  },
  {
   "cell_type": "markdown",
   "metadata": {},
   "source": [
    "Явных аномалий и выбросов мы не видим, в основном все машины с пробегом более 120 тыс.км., что нормально для сервиса по продаже подержанных авто."
   ]
  },
  {
   "cell_type": "markdown",
   "metadata": {},
   "source": [
    "### Вывод"
   ]
  },
  {
   "cell_type": "markdown",
   "metadata": {},
   "source": [
    "В ходе подготовки данных мы обнаружили несколько проблем:\n",
    "\n",
    "- столбцы с бесполезной информацией,\n",
    "- нарушения в стиле заголовков,\n",
    "- пропущенные значения,\n",
    "- дубликаты,\n",
    "- выбросы и аномальные значения.\n",
    "\n",
    "\n",
    "Мы исправили заголовки, чтобы упростить работу с таблицей, удалили лишние столбцы. \n",
    "\n",
    "Удалили пропущенные значения в столбцах \"Тип автомобильного кузова\", \"Модель автомобиля\", поскольку восстановить их достоверно невозможно. В столбцах \"Тип коробки передач\", \"Тип топлива\" и \"Была машина в ремонте или нет\" сделали замену пропусков на наиболее часто встречающееся значение.\n",
    "\n",
    "Теперь данные готовы к дальнейшей работе."
   ]
  },
  {
   "cell_type": "markdown",
   "metadata": {},
   "source": [
    "## Обучение моделей"
   ]
  },
  {
   "cell_type": "markdown",
   "metadata": {},
   "source": [
    "### Мультиколлинеарность\n",
    "Проведем корреляционный анализ факторов, для этого посчитаем коэффициент корреляции Пирсона."
   ]
  },
  {
   "cell_type": "code",
   "execution_count": 29,
   "metadata": {
    "scrolled": true
   },
   "outputs": [
    {
     "data": {
      "text/html": [
       "<div>\n",
       "<style scoped>\n",
       "    .dataframe tbody tr th:only-of-type {\n",
       "        vertical-align: middle;\n",
       "    }\n",
       "\n",
       "    .dataframe tbody tr th {\n",
       "        vertical-align: top;\n",
       "    }\n",
       "\n",
       "    .dataframe thead th {\n",
       "        text-align: right;\n",
       "    }\n",
       "</style>\n",
       "<table border=\"1\" class=\"dataframe\">\n",
       "  <thead>\n",
       "    <tr style=\"text-align: right;\">\n",
       "      <th></th>\n",
       "      <th>price</th>\n",
       "      <th>power</th>\n",
       "      <th>kilometer</th>\n",
       "    </tr>\n",
       "  </thead>\n",
       "  <tbody>\n",
       "    <tr>\n",
       "      <th>price</th>\n",
       "      <td>1.00</td>\n",
       "      <td>0.49</td>\n",
       "      <td>-0.41</td>\n",
       "    </tr>\n",
       "    <tr>\n",
       "      <th>power</th>\n",
       "      <td>0.49</td>\n",
       "      <td>1.00</td>\n",
       "      <td>0.12</td>\n",
       "    </tr>\n",
       "    <tr>\n",
       "      <th>kilometer</th>\n",
       "      <td>-0.41</td>\n",
       "      <td>0.12</td>\n",
       "      <td>1.00</td>\n",
       "    </tr>\n",
       "  </tbody>\n",
       "</table>\n",
       "</div>"
      ],
      "text/plain": [
       "           price  power  kilometer\n",
       "price       1.00   0.49      -0.41\n",
       "power       0.49   1.00       0.12\n",
       "kilometer  -0.41   0.12       1.00"
      ]
     },
     "execution_count": 29,
     "metadata": {},
     "output_type": "execute_result"
    }
   ],
   "source": [
    "corr_matrix = df.corr().round(2)\n",
    "corr_matrix"
   ]
  },
  {
   "cell_type": "code",
   "execution_count": 30,
   "metadata": {
    "scrolled": true
   },
   "outputs": [
    {
     "data": {
      "image/png": "[encoded data removed]",
      "text/plain": [
       "<Figure size 432x288 with 2 Axes>"
      ]
     },
     "metadata": {
      "needs_background": "light"
     },
     "output_type": "display_data"
    }
   ],
   "source": [
    "sbn.heatmap(corr_matrix, \n",
    "            annot=True, \n",
    "            cmap='Blues')\n",
    "plt.show()"
   ]
  },
  {
   "cell_type": "markdown",
   "metadata": {},
   "source": [
    "Наблюдаем среднюю положительную корреляцию между мощностью автомобиля и ценой, а также среднюю отрицательную корреляцию между пробегом и ценой - чем больше пробег, тем дешевле автомобиль. Удалять никакие признаки не будем, поскольку сильной корреляции не выявили.  \n",
    "Категориальные признаки преобразуем с помощью метода Ordinal Encoding, для этого сначала создадим копию нашего датафрейма и сохраним в переменную `df_ordinal`:"
   ]
  },
  {
   "cell_type": "code",
   "execution_count": 31,
   "metadata": {},
   "outputs": [],
   "source": [
    "df_ordinal = df.copy()"
   ]
  },
  {
   "cell_type": "code",
   "execution_count": 32,
   "metadata": {
    "scrolled": false
   },
   "outputs": [
    {
     "data": {
      "text/html": [
       "<div>\n",
       "<style scoped>\n",
       "    .dataframe tbody tr th:only-of-type {\n",
       "        vertical-align: middle;\n",
       "    }\n",
       "\n",
       "    .dataframe tbody tr th {\n",
       "        vertical-align: top;\n",
       "    }\n",
       "\n",
       "    .dataframe thead th {\n",
       "        text-align: right;\n",
       "    }\n",
       "</style>\n",
       "<table border=\"1\" class=\"dataframe\">\n",
       "  <thead>\n",
       "    <tr style=\"text-align: right;\">\n",
       "      <th></th>\n",
       "      <th>price</th>\n",
       "      <th>vehicle_type</th>\n",
       "      <th>gearbox</th>\n",
       "      <th>power</th>\n",
       "      <th>model</th>\n",
       "      <th>kilometer</th>\n",
       "      <th>fuel_type</th>\n",
       "      <th>brand</th>\n",
       "      <th>not_repaired</th>\n",
       "    </tr>\n",
       "  </thead>\n",
       "  <tbody>\n",
       "    <tr>\n",
       "      <th>2</th>\n",
       "      <td>9800</td>\n",
       "      <td>6.0</td>\n",
       "      <td>0.0</td>\n",
       "      <td>163</td>\n",
       "      <td>117.0</td>\n",
       "      <td>125000</td>\n",
       "      <td>2.0</td>\n",
       "      <td>14.0</td>\n",
       "      <td>0.0</td>\n",
       "    </tr>\n",
       "    <tr>\n",
       "      <th>3</th>\n",
       "      <td>1500</td>\n",
       "      <td>5.0</td>\n",
       "      <td>1.0</td>\n",
       "      <td>75</td>\n",
       "      <td>116.0</td>\n",
       "      <td>150000</td>\n",
       "      <td>6.0</td>\n",
       "      <td>37.0</td>\n",
       "      <td>0.0</td>\n",
       "    </tr>\n",
       "    <tr>\n",
       "      <th>4</th>\n",
       "      <td>3600</td>\n",
       "      <td>5.0</td>\n",
       "      <td>1.0</td>\n",
       "      <td>69</td>\n",
       "      <td>101.0</td>\n",
       "      <td>90000</td>\n",
       "      <td>2.0</td>\n",
       "      <td>31.0</td>\n",
       "      <td>0.0</td>\n",
       "    </tr>\n",
       "    <tr>\n",
       "      <th>5</th>\n",
       "      <td>650</td>\n",
       "      <td>4.0</td>\n",
       "      <td>1.0</td>\n",
       "      <td>102</td>\n",
       "      <td>11.0</td>\n",
       "      <td>150000</td>\n",
       "      <td>6.0</td>\n",
       "      <td>2.0</td>\n",
       "      <td>1.0</td>\n",
       "    </tr>\n",
       "    <tr>\n",
       "      <th>6</th>\n",
       "      <td>2200</td>\n",
       "      <td>1.0</td>\n",
       "      <td>1.0</td>\n",
       "      <td>109</td>\n",
       "      <td>8.0</td>\n",
       "      <td>150000</td>\n",
       "      <td>6.0</td>\n",
       "      <td>25.0</td>\n",
       "      <td>0.0</td>\n",
       "    </tr>\n",
       "    <tr>\n",
       "      <th>...</th>\n",
       "      <td>...</td>\n",
       "      <td>...</td>\n",
       "      <td>...</td>\n",
       "      <td>...</td>\n",
       "      <td>...</td>\n",
       "      <td>...</td>\n",
       "      <td>...</td>\n",
       "      <td>...</td>\n",
       "      <td>...</td>\n",
       "    </tr>\n",
       "    <tr>\n",
       "      <th>354359</th>\n",
       "      <td>7900</td>\n",
       "      <td>4.0</td>\n",
       "      <td>1.0</td>\n",
       "      <td>140</td>\n",
       "      <td>116.0</td>\n",
       "      <td>150000</td>\n",
       "      <td>2.0</td>\n",
       "      <td>37.0</td>\n",
       "      <td>0.0</td>\n",
       "    </tr>\n",
       "    <tr>\n",
       "      <th>354362</th>\n",
       "      <td>3200</td>\n",
       "      <td>4.0</td>\n",
       "      <td>1.0</td>\n",
       "      <td>225</td>\n",
       "      <td>140.0</td>\n",
       "      <td>150000</td>\n",
       "      <td>6.0</td>\n",
       "      <td>30.0</td>\n",
       "      <td>1.0</td>\n",
       "    </tr>\n",
       "    <tr>\n",
       "      <th>354366</th>\n",
       "      <td>1199</td>\n",
       "      <td>1.0</td>\n",
       "      <td>0.0</td>\n",
       "      <td>101</td>\n",
       "      <td>106.0</td>\n",
       "      <td>125000</td>\n",
       "      <td>6.0</td>\n",
       "      <td>32.0</td>\n",
       "      <td>0.0</td>\n",
       "    </tr>\n",
       "    <tr>\n",
       "      <th>354367</th>\n",
       "      <td>9200</td>\n",
       "      <td>0.0</td>\n",
       "      <td>1.0</td>\n",
       "      <td>102</td>\n",
       "      <td>222.0</td>\n",
       "      <td>150000</td>\n",
       "      <td>2.0</td>\n",
       "      <td>37.0</td>\n",
       "      <td>0.0</td>\n",
       "    </tr>\n",
       "    <tr>\n",
       "      <th>354368</th>\n",
       "      <td>3400</td>\n",
       "      <td>7.0</td>\n",
       "      <td>1.0</td>\n",
       "      <td>100</td>\n",
       "      <td>116.0</td>\n",
       "      <td>150000</td>\n",
       "      <td>2.0</td>\n",
       "      <td>37.0</td>\n",
       "      <td>0.0</td>\n",
       "    </tr>\n",
       "  </tbody>\n",
       "</table>\n",
       "<p>269076 rows × 9 columns</p>\n",
       "</div>"
      ],
      "text/plain": [
       "        price  vehicle_type  gearbox  power  model  kilometer  fuel_type  \\\n",
       "2        9800           6.0      0.0    163  117.0     125000        2.0   \n",
       "3        1500           5.0      1.0     75  116.0     150000        6.0   \n",
       "4        3600           5.0      1.0     69  101.0      90000        2.0   \n",
       "5         650           4.0      1.0    102   11.0     150000        6.0   \n",
       "6        2200           1.0      1.0    109    8.0     150000        6.0   \n",
       "...       ...           ...      ...    ...    ...        ...        ...   \n",
       "354359   7900           4.0      1.0    140  116.0     150000        2.0   \n",
       "354362   3200           4.0      1.0    225  140.0     150000        6.0   \n",
       "354366   1199           1.0      0.0    101  106.0     125000        6.0   \n",
       "354367   9200           0.0      1.0    102  222.0     150000        2.0   \n",
       "354368   3400           7.0      1.0    100  116.0     150000        2.0   \n",
       "\n",
       "        brand  not_repaired  \n",
       "2        14.0           0.0  \n",
       "3        37.0           0.0  \n",
       "4        31.0           0.0  \n",
       "5         2.0           1.0  \n",
       "6        25.0           0.0  \n",
       "...       ...           ...  \n",
       "354359   37.0           0.0  \n",
       "354362   30.0           1.0  \n",
       "354366   32.0           0.0  \n",
       "354367   37.0           0.0  \n",
       "354368   37.0           0.0  \n",
       "\n",
       "[269076 rows x 9 columns]"
      ]
     },
     "execution_count": 32,
     "metadata": {},
     "output_type": "execute_result"
    }
   ],
   "source": [
    "category = ['vehicle_type', 'gearbox', 'model', 'fuel_type', 'brand', 'not_repaired']\n",
    "encoder = OrdinalEncoder()\n",
    "df_ordinal[category] = encoder.fit_transform(df_ordinal[category])\n",
    "df_ordinal"
   ]
  },
  {
   "cell_type": "markdown",
   "metadata": {},
   "source": [
    "Теперь выделим в исходных данных:\n",
    "* **признаки**: vehicle_type, gearbox, power, model, kilometer, fuel_type, brand, not_repaired\n",
    "* **целевой признак**: price"
   ]
  },
  {
   "cell_type": "code",
   "execution_count": 33,
   "metadata": {},
   "outputs": [],
   "source": [
    "features = df_ordinal.drop(['price'], axis=1)\n",
    "target = df_ordinal['price']"
   ]
  },
  {
   "cell_type": "markdown",
   "metadata": {},
   "source": [
    "Разделим данные на обучающую и тестовую выборки в соотношении 75:25"
   ]
  },
  {
   "cell_type": "code",
   "execution_count": 34,
   "metadata": {},
   "outputs": [],
   "source": [
    "features_train, features_test, target_train, target_test = train_test_split(features, \n",
    "                                                                            target, \n",
    "                                                                            test_size=0.25, \n",
    "                                                                            random_state=12345)"
   ]
  },
  {
   "cell_type": "markdown",
   "metadata": {},
   "source": [
    "Приведём численные признаки к одному масштабу."
   ]
  },
  {
   "cell_type": "code",
   "execution_count": 35,
   "metadata": {},
   "outputs": [
    {
     "name": "stdout",
     "output_type": "stream",
     "text": [
      "(201807, 8)\n",
      "(67269, 8)\n"
     ]
    }
   ],
   "source": [
    "numeric = ['power', 'kilometer']\n",
    "\n",
    "scaler = StandardScaler()\n",
    "scaler.fit(features_train[numeric])\n",
    "features_train[numeric] = scaler.transform(features_train[numeric])\n",
    "features_test[numeric] = scaler.transform(features_test[numeric])\n",
    "\n",
    "print(features_train.shape)\n",
    "print(features_test.shape)"
   ]
  },
  {
   "cell_type": "markdown",
   "metadata": {},
   "source": [
    "Удалим лишние переменные, чтобы освободить память и вычислительные мощности для более быстрого обучения:"
   ]
  },
  {
   "cell_type": "code",
   "execution_count": 36,
   "metadata": {},
   "outputs": [],
   "source": [
    "del df_ordinal\n",
    "del features\n",
    "del target"
   ]
  },
  {
   "cell_type": "markdown",
   "metadata": {},
   "source": [
    "### Модель линейной регрессии\n",
    "Для оценки качества модели линейной регрессии используем кросс-валидацию."
   ]
  },
  {
   "cell_type": "code",
   "execution_count": 37,
   "metadata": {
    "scrolled": true
   },
   "outputs": [
    {
     "name": "stdout",
     "output_type": "stream",
     "text": [
      "RMSE линейной регрессии: -3045.893791824984\n",
      "\n",
      "CPU times: user 374 ms, sys: 524 ms, total: 898 ms\n",
      "Wall time: 870 ms\n"
     ]
    }
   ],
   "source": [
    "%%time\n",
    "\n",
    "mse_linreg = cross_val_score(LinearRegression(), features_train, target_train, cv=5, scoring = 'neg_root_mean_squared_error')\n",
    "#rmse_linreg = np.mean(np.sqrt(np.abs(mse_linreg)))\n",
    "rmse_linreg = mse_linreg.mean()\n",
    "# predictions = linreg.predict(features_valid)\n",
    "print('RMSE линейной регрессии:', rmse_linreg)\n",
    "print()"
   ]
  },
  {
   "cell_type": "markdown",
   "metadata": {},
   "source": [
    "### Модель решающего дерева"
   ]
  },
  {
   "cell_type": "code",
   "execution_count": 38,
   "metadata": {},
   "outputs": [
    {
     "name": "stdout",
     "output_type": "stream",
     "text": [
      "Лучшие параметры модели решающего дерева: {'max_depth': 10, 'min_samples_split': 8}\n",
      "\n",
      "RMSE решающего дерева: -2488.870125369635\n",
      "\n",
      "CPU times: user 5.22 s, sys: 32.1 ms, total: 5.25 s\n",
      "Wall time: 5.28 s\n"
     ]
    }
   ],
   "source": [
    "%%time\n",
    "\n",
    "# задаем параметры для модуля GridSearch \n",
    "param_grid = {\n",
    " 'max_depth': [1, 10],\n",
    " 'min_samples_split': [8, 10, 12],\n",
    " }\n",
    "\n",
    "# инициализируем модель\n",
    "dt_reg = DecisionTreeRegressor(random_state=12345)\n",
    "\n",
    "# ищем лучшие параметры \n",
    "grid_dt = GridSearchCV(estimator = dt_reg, \n",
    "                       param_grid = param_grid, \n",
    "                       cv= 5, \n",
    "                       n_jobs = -1, \n",
    "                       scoring = 'neg_root_mean_squared_error') \n",
    "\n",
    "# обучаем модель на тренировочных данных\n",
    "grid_dt.fit(features_train, target_train)\n",
    "\n",
    "# получаем лучшие параметры модели\n",
    "print('Лучшие параметры модели решающего дерева:', grid_dt.best_params_)\n",
    "print()\n",
    "\n",
    "# получаем лучшую оценку \n",
    "best_score = grid_dt.best_score_.mean()\n",
    "print('RMSE решающего дерева:', best_score)\n",
    "print()"
   ]
  },
  {
   "cell_type": "markdown",
   "metadata": {},
   "source": [
    "### Модель случайного леса"
   ]
  },
  {
   "cell_type": "code",
   "execution_count": 39,
   "metadata": {},
   "outputs": [
    {
     "name": "stdout",
     "output_type": "stream",
     "text": [
      "Лучшие параметры модели случайного леса: {'max_depth': 10, 'n_estimators': 200}\n",
      "\n",
      "RMSE случайного леса: -2488.870125369635\n",
      "\n",
      "CPU times: user 6min 17s, sys: 370 ms, total: 6min 18s\n",
      "Wall time: 6min 18s\n"
     ]
    }
   ],
   "source": [
    "%%time\n",
    "\n",
    "# задаем параметры для модуля GridSearch \n",
    "param_grid = {\n",
    " 'max_depth': [1, 10],\n",
    " 'n_estimators': [100, 200]\n",
    "}\n",
    "\n",
    "# инициализируем модель\n",
    "forest_reg = RandomForestRegressor(random_state=12345)\n",
    "\n",
    "# ищем лучшие параметры \n",
    "grid_forest = GridSearchCV(estimator = forest_reg, \n",
    "                            param_grid = param_grid, \n",
    "                            cv= 5, \n",
    "                            n_jobs = -1, \n",
    "                            scoring='neg_root_mean_squared_error') \n",
    "\n",
    "# обучаем модель на тренировочных данных\n",
    "grid_forest.fit(features_train, target_train)\n",
    "\n",
    "# получаем лучшие параметры модели\n",
    "print('Лучшие параметры модели случайного леса:', grid_forest.best_params_)\n",
    "print()\n",
    "\n",
    "# получаем лучшую оценку \n",
    "best_score_forest = grid_forest.best_score_\n",
    "rmse_forest = best_score.mean()\n",
    "print('RMSE случайного леса:', rmse_forest)\n",
    "print()"
   ]
  },
  {
   "cell_type": "markdown",
   "metadata": {},
   "source": [
    "### LightGBM"
   ]
  },
  {
   "cell_type": "markdown",
   "metadata": {},
   "source": [
    "Для модели градиентного бустинга не подойдут кодированные признаки, поэтому поменяем тип данных в категориальных признаках, для этого создадим копию исходного датасета:"
   ]
  },
  {
   "cell_type": "code",
   "execution_count": 40,
   "metadata": {
    "scrolled": true
   },
   "outputs": [],
   "source": [
    "df_lgbm = df.copy()"
   ]
  },
  {
   "cell_type": "code",
   "execution_count": 41,
   "metadata": {
    "scrolled": false
   },
   "outputs": [
    {
     "name": "stdout",
     "output_type": "stream",
     "text": [
      "<class 'pandas.core.frame.DataFrame'>\n",
      "Int64Index: 269076 entries, 2 to 354368\n",
      "Data columns (total 9 columns):\n",
      " #   Column        Non-Null Count   Dtype   \n",
      "---  ------        --------------   -----   \n",
      " 0   price         269076 non-null  int64   \n",
      " 1   vehicle_type  269076 non-null  category\n",
      " 2   gearbox       269076 non-null  category\n",
      " 3   power         269076 non-null  int64   \n",
      " 4   model         269076 non-null  category\n",
      " 5   kilometer     269076 non-null  int64   \n",
      " 6   fuel_type     269076 non-null  category\n",
      " 7   brand         269076 non-null  category\n",
      " 8   not_repaired  269076 non-null  category\n",
      "dtypes: category(6), int64(3)\n",
      "memory usage: 10.0 MB\n"
     ]
    }
   ],
   "source": [
    "# меняем тип данных на category\n",
    "categorial_columns = ['vehicle_type', 'gearbox', 'model', 'fuel_type', 'brand', 'not_repaired']\n",
    "df_lgbm[categorial_columns] = df_lgbm[categorial_columns].astype('category')\n",
    "df_lgbm.info()"
   ]
  },
  {
   "cell_type": "code",
   "execution_count": 42,
   "metadata": {},
   "outputs": [
    {
     "data": {
      "text/html": [
       "<div>\n",
       "<style scoped>\n",
       "    .dataframe tbody tr th:only-of-type {\n",
       "        vertical-align: middle;\n",
       "    }\n",
       "\n",
       "    .dataframe tbody tr th {\n",
       "        vertical-align: top;\n",
       "    }\n",
       "\n",
       "    .dataframe thead th {\n",
       "        text-align: right;\n",
       "    }\n",
       "</style>\n",
       "<table border=\"1\" class=\"dataframe\">\n",
       "  <thead>\n",
       "    <tr style=\"text-align: right;\">\n",
       "      <th></th>\n",
       "      <th>price</th>\n",
       "      <th>vehicle_type</th>\n",
       "      <th>gearbox</th>\n",
       "      <th>power</th>\n",
       "      <th>model</th>\n",
       "      <th>kilometer</th>\n",
       "      <th>fuel_type</th>\n",
       "      <th>brand</th>\n",
       "      <th>not_repaired</th>\n",
       "    </tr>\n",
       "  </thead>\n",
       "  <tbody>\n",
       "    <tr>\n",
       "      <th>2</th>\n",
       "      <td>9800</td>\n",
       "      <td>suv</td>\n",
       "      <td>auto</td>\n",
       "      <td>163</td>\n",
       "      <td>grand</td>\n",
       "      <td>125000</td>\n",
       "      <td>gasoline</td>\n",
       "      <td>jeep</td>\n",
       "      <td>no</td>\n",
       "    </tr>\n",
       "    <tr>\n",
       "      <th>3</th>\n",
       "      <td>1500</td>\n",
       "      <td>small</td>\n",
       "      <td>manual</td>\n",
       "      <td>75</td>\n",
       "      <td>golf</td>\n",
       "      <td>150000</td>\n",
       "      <td>petrol</td>\n",
       "      <td>volkswagen</td>\n",
       "      <td>no</td>\n",
       "    </tr>\n",
       "    <tr>\n",
       "      <th>4</th>\n",
       "      <td>3600</td>\n",
       "      <td>small</td>\n",
       "      <td>manual</td>\n",
       "      <td>69</td>\n",
       "      <td>fabia</td>\n",
       "      <td>90000</td>\n",
       "      <td>gasoline</td>\n",
       "      <td>skoda</td>\n",
       "      <td>no</td>\n",
       "    </tr>\n",
       "    <tr>\n",
       "      <th>5</th>\n",
       "      <td>650</td>\n",
       "      <td>sedan</td>\n",
       "      <td>manual</td>\n",
       "      <td>102</td>\n",
       "      <td>3er</td>\n",
       "      <td>150000</td>\n",
       "      <td>petrol</td>\n",
       "      <td>bmw</td>\n",
       "      <td>yes</td>\n",
       "    </tr>\n",
       "    <tr>\n",
       "      <th>6</th>\n",
       "      <td>2200</td>\n",
       "      <td>convertible</td>\n",
       "      <td>manual</td>\n",
       "      <td>109</td>\n",
       "      <td>2_reihe</td>\n",
       "      <td>150000</td>\n",
       "      <td>petrol</td>\n",
       "      <td>peugeot</td>\n",
       "      <td>no</td>\n",
       "    </tr>\n",
       "    <tr>\n",
       "      <th>...</th>\n",
       "      <td>...</td>\n",
       "      <td>...</td>\n",
       "      <td>...</td>\n",
       "      <td>...</td>\n",
       "      <td>...</td>\n",
       "      <td>...</td>\n",
       "      <td>...</td>\n",
       "      <td>...</td>\n",
       "      <td>...</td>\n",
       "    </tr>\n",
       "    <tr>\n",
       "      <th>354359</th>\n",
       "      <td>7900</td>\n",
       "      <td>sedan</td>\n",
       "      <td>manual</td>\n",
       "      <td>140</td>\n",
       "      <td>golf</td>\n",
       "      <td>150000</td>\n",
       "      <td>gasoline</td>\n",
       "      <td>volkswagen</td>\n",
       "      <td>no</td>\n",
       "    </tr>\n",
       "    <tr>\n",
       "      <th>354362</th>\n",
       "      <td>3200</td>\n",
       "      <td>sedan</td>\n",
       "      <td>manual</td>\n",
       "      <td>225</td>\n",
       "      <td>leon</td>\n",
       "      <td>150000</td>\n",
       "      <td>petrol</td>\n",
       "      <td>seat</td>\n",
       "      <td>yes</td>\n",
       "    </tr>\n",
       "    <tr>\n",
       "      <th>354366</th>\n",
       "      <td>1199</td>\n",
       "      <td>convertible</td>\n",
       "      <td>auto</td>\n",
       "      <td>101</td>\n",
       "      <td>fortwo</td>\n",
       "      <td>125000</td>\n",
       "      <td>petrol</td>\n",
       "      <td>smart</td>\n",
       "      <td>no</td>\n",
       "    </tr>\n",
       "    <tr>\n",
       "      <th>354367</th>\n",
       "      <td>9200</td>\n",
       "      <td>bus</td>\n",
       "      <td>manual</td>\n",
       "      <td>102</td>\n",
       "      <td>transporter</td>\n",
       "      <td>150000</td>\n",
       "      <td>gasoline</td>\n",
       "      <td>volkswagen</td>\n",
       "      <td>no</td>\n",
       "    </tr>\n",
       "    <tr>\n",
       "      <th>354368</th>\n",
       "      <td>3400</td>\n",
       "      <td>wagon</td>\n",
       "      <td>manual</td>\n",
       "      <td>100</td>\n",
       "      <td>golf</td>\n",
       "      <td>150000</td>\n",
       "      <td>gasoline</td>\n",
       "      <td>volkswagen</td>\n",
       "      <td>no</td>\n",
       "    </tr>\n",
       "  </tbody>\n",
       "</table>\n",
       "<p>269076 rows × 9 columns</p>\n",
       "</div>"
      ],
      "text/plain": [
       "        price vehicle_type gearbox  power        model  kilometer fuel_type  \\\n",
       "2        9800          suv    auto    163        grand     125000  gasoline   \n",
       "3        1500        small  manual     75         golf     150000    petrol   \n",
       "4        3600        small  manual     69        fabia      90000  gasoline   \n",
       "5         650        sedan  manual    102          3er     150000    petrol   \n",
       "6        2200  convertible  manual    109      2_reihe     150000    petrol   \n",
       "...       ...          ...     ...    ...          ...        ...       ...   \n",
       "354359   7900        sedan  manual    140         golf     150000  gasoline   \n",
       "354362   3200        sedan  manual    225         leon     150000    petrol   \n",
       "354366   1199  convertible    auto    101       fortwo     125000    petrol   \n",
       "354367   9200          bus  manual    102  transporter     150000  gasoline   \n",
       "354368   3400        wagon  manual    100         golf     150000  gasoline   \n",
       "\n",
       "             brand not_repaired  \n",
       "2             jeep           no  \n",
       "3       volkswagen           no  \n",
       "4            skoda           no  \n",
       "5              bmw          yes  \n",
       "6          peugeot           no  \n",
       "...            ...          ...  \n",
       "354359  volkswagen           no  \n",
       "354362        seat          yes  \n",
       "354366       smart           no  \n",
       "354367  volkswagen           no  \n",
       "354368  volkswagen           no  \n",
       "\n",
       "[269076 rows x 9 columns]"
      ]
     },
     "execution_count": 42,
     "metadata": {},
     "output_type": "execute_result"
    }
   ],
   "source": [
    "df_lgbm"
   ]
  },
  {
   "cell_type": "markdown",
   "metadata": {},
   "source": [
    "Выделим признаки и целевой признак:"
   ]
  },
  {
   "cell_type": "code",
   "execution_count": 41,
   "metadata": {},
   "outputs": [],
   "source": [
    "features_lgbm = df_lgbm.drop(['price'], axis=1)\n",
    "target_lgbm = df_lgbm['price']"
   ]
  },
  {
   "cell_type": "markdown",
   "metadata": {},
   "source": [
    "Разделим данные на обучающую и тестовую выборки в соотношении 75:25"
   ]
  },
  {
   "cell_type": "code",
   "execution_count": 42,
   "metadata": {},
   "outputs": [],
   "source": [
    "features_train_lgbm, features_test_lgbm, target_train_lgbm, target_test_lgbm = train_test_split(features_lgbm, \n",
    "                                                                            target_lgbm, \n",
    "                                                                            test_size=0.25, \n",
    "                                                                            random_state=12345)"
   ]
  },
  {
   "cell_type": "markdown",
   "metadata": {},
   "source": [
    "Приведём численные признаки к одному масштабу:"
   ]
  },
  {
   "cell_type": "code",
   "execution_count": 43,
   "metadata": {},
   "outputs": [],
   "source": [
    "numeric = ['power', 'kilometer']\n",
    "\n",
    "scaler = StandardScaler()\n",
    "scaler.fit(features_train_lgbm[numeric])\n",
    "features_train_lgbm[numeric] = scaler.transform(features_train_lgbm[numeric])\n",
    "features_test_lgbm[numeric] = scaler.transform(features_test_lgbm[numeric])"
   ]
  },
  {
   "cell_type": "markdown",
   "metadata": {},
   "source": [
    "Удалим лишние переменные, чтобы освободить память и вычислительные мощности для более быстрого обучения:"
   ]
  },
  {
   "cell_type": "code",
   "execution_count": 44,
   "metadata": {},
   "outputs": [],
   "source": [
    "del df_lgbm\n",
    "del features_lgbm\n",
    "del target_lgbm"
   ]
  },
  {
   "cell_type": "markdown",
   "metadata": {},
   "source": [
    "*Стоит отметить, что время обучения модели при работе локально составляет около 16 секунд. При работе в среде Практикума время обучения варьируется от 2 до 40 минут в лучшем случае*"
   ]
  },
  {
   "cell_type": "code",
   "execution_count": 45,
   "metadata": {
    "scrolled": false
   },
   "outputs": [
    {
     "name": "stdout",
     "output_type": "stream",
     "text": [
      "Fitting 5 folds for each of 15 candidates, totalling 75 fits\n",
      "[CV 1/5; 1/15] START max_depth=10, n_estimators=10..............................\n",
      "[CV 1/5; 1/15] END ............max_depth=10, n_estimators=10; total time=   0.8s\n",
      "[CV 2/5; 1/15] START max_depth=10, n_estimators=10..............................\n",
      "[CV 2/5; 1/15] END ............max_depth=10, n_estimators=10; total time=   0.8s\n",
      "[CV 3/5; 1/15] START max_depth=10, n_estimators=10..............................\n",
      "[CV 3/5; 1/15] END ............max_depth=10, n_estimators=10; total time=   0.8s\n",
      "[CV 4/5; 1/15] START max_depth=10, n_estimators=10..............................\n",
      "[CV 4/5; 1/15] END ............max_depth=10, n_estimators=10; total time=   0.8s\n",
      "[CV 5/5; 1/15] START max_depth=10, n_estimators=10..............................\n",
      "[CV 5/5; 1/15] END ............max_depth=10, n_estimators=10; total time=   0.7s\n",
      "[CV 1/5; 2/15] START max_depth=10, n_estimators=20..............................\n",
      "[CV 1/5; 2/15] END ............max_depth=10, n_estimators=20; total time=   1.2s\n",
      "[CV 2/5; 2/15] START max_depth=10, n_estimators=20..............................\n",
      "[CV 2/5; 2/15] END ............max_depth=10, n_estimators=20; total time=   1.2s\n",
      "[CV 3/5; 2/15] START max_depth=10, n_estimators=20..............................\n",
      "[CV 3/5; 2/15] END ............max_depth=10, n_estimators=20; total time=   1.2s\n",
      "[CV 4/5; 2/15] START max_depth=10, n_estimators=20..............................\n",
      "[CV 4/5; 2/15] END ............max_depth=10, n_estimators=20; total time=   1.3s\n",
      "[CV 5/5; 2/15] START max_depth=10, n_estimators=20..............................\n",
      "[CV 5/5; 2/15] END ............max_depth=10, n_estimators=20; total time=   1.2s\n",
      "[CV 1/5; 3/15] START max_depth=10, n_estimators=30..............................\n",
      "[CV 1/5; 3/15] END ............max_depth=10, n_estimators=30; total time=   1.6s\n",
      "[CV 2/5; 3/15] START max_depth=10, n_estimators=30..............................\n",
      "[CV 2/5; 3/15] END ............max_depth=10, n_estimators=30; total time=   1.7s\n",
      "[CV 3/5; 3/15] START max_depth=10, n_estimators=30..............................\n",
      "[CV 3/5; 3/15] END ............max_depth=10, n_estimators=30; total time=   1.6s\n",
      "[CV 4/5; 3/15] START max_depth=10, n_estimators=30..............................\n",
      "[CV 4/5; 3/15] END ............max_depth=10, n_estimators=30; total time=   1.7s\n",
      "[CV 5/5; 3/15] START max_depth=10, n_estimators=30..............................\n",
      "[CV 5/5; 3/15] END ............max_depth=10, n_estimators=30; total time=   1.5s\n",
      "[CV 1/5; 4/15] START max_depth=10, n_estimators=40..............................\n",
      "[CV 1/5; 4/15] END ............max_depth=10, n_estimators=40; total time=   2.3s\n",
      "[CV 2/5; 4/15] START max_depth=10, n_estimators=40..............................\n",
      "[CV 2/5; 4/15] END ............max_depth=10, n_estimators=40; total time=   1.9s\n",
      "[CV 3/5; 4/15] START max_depth=10, n_estimators=40..............................\n",
      "[CV 3/5; 4/15] END ............max_depth=10, n_estimators=40; total time=   2.0s\n",
      "[CV 4/5; 4/15] START max_depth=10, n_estimators=40..............................\n",
      "[CV 4/5; 4/15] END ............max_depth=10, n_estimators=40; total time=   2.1s\n",
      "[CV 5/5; 4/15] START max_depth=10, n_estimators=40..............................\n",
      "[CV 5/5; 4/15] END ............max_depth=10, n_estimators=40; total time=   1.9s\n",
      "[CV 1/5; 5/15] START max_depth=10, n_estimators=50..............................\n",
      "[CV 1/5; 5/15] END ............max_depth=10, n_estimators=50; total time=   2.2s\n",
      "[CV 2/5; 5/15] START max_depth=10, n_estimators=50..............................\n",
      "[CV 2/5; 5/15] END ............max_depth=10, n_estimators=50; total time=   2.2s\n",
      "[CV 3/5; 5/15] START max_depth=10, n_estimators=50..............................\n",
      "[CV 3/5; 5/15] END ............max_depth=10, n_estimators=50; total time=   2.4s\n",
      "[CV 4/5; 5/15] START max_depth=10, n_estimators=50..............................\n",
      "[CV 4/5; 5/15] END ............max_depth=10, n_estimators=50; total time=   2.3s\n",
      "[CV 5/5; 5/15] START max_depth=10, n_estimators=50..............................\n",
      "[CV 5/5; 5/15] END ............max_depth=10, n_estimators=50; total time=   2.4s\n",
      "[CV 1/5; 6/15] START max_depth=15, n_estimators=10..............................\n",
      "[CV 1/5; 6/15] END ............max_depth=15, n_estimators=10; total time=   0.8s\n",
      "[CV 2/5; 6/15] START max_depth=15, n_estimators=10..............................\n",
      "[CV 2/5; 6/15] END ............max_depth=15, n_estimators=10; total time=   0.8s\n",
      "[CV 3/5; 6/15] START max_depth=15, n_estimators=10..............................\n",
      "[CV 3/5; 6/15] END ............max_depth=15, n_estimators=10; total time=   0.8s\n",
      "[CV 4/5; 6/15] START max_depth=15, n_estimators=10..............................\n",
      "[CV 4/5; 6/15] END ............max_depth=15, n_estimators=10; total time=   0.8s\n",
      "[CV 5/5; 6/15] START max_depth=15, n_estimators=10..............................\n",
      "[CV 5/5; 6/15] END ............max_depth=15, n_estimators=10; total time=   0.8s\n",
      "[CV 1/5; 7/15] START max_depth=15, n_estimators=20..............................\n",
      "[CV 1/5; 7/15] END ............max_depth=15, n_estimators=20; total time=   1.2s\n",
      "[CV 2/5; 7/15] START max_depth=15, n_estimators=20..............................\n",
      "[CV 2/5; 7/15] END ............max_depth=15, n_estimators=20; total time=   1.3s\n",
      "[CV 3/5; 7/15] START max_depth=15, n_estimators=20..............................\n",
      "[CV 3/5; 7/15] END ............max_depth=15, n_estimators=20; total time=   1.2s\n",
      "[CV 4/5; 7/15] START max_depth=15, n_estimators=20..............................\n",
      "[CV 4/5; 7/15] END ............max_depth=15, n_estimators=20; total time=   1.3s\n",
      "[CV 5/5; 7/15] START max_depth=15, n_estimators=20..............................\n",
      "[CV 5/5; 7/15] END ............max_depth=15, n_estimators=20; total time=   1.2s\n",
      "[CV 1/5; 8/15] START max_depth=15, n_estimators=30..............................\n",
      "[CV 1/5; 8/15] END ............max_depth=15, n_estimators=30; total time=   1.9s\n",
      "[CV 2/5; 8/15] START max_depth=15, n_estimators=30..............................\n",
      "[CV 2/5; 8/15] END ............max_depth=15, n_estimators=30; total time=   1.6s\n",
      "[CV 3/5; 8/15] START max_depth=15, n_estimators=30..............................\n",
      "[CV 3/5; 8/15] END ............max_depth=15, n_estimators=30; total time=   1.7s\n",
      "[CV 4/5; 8/15] START max_depth=15, n_estimators=30..............................\n",
      "[CV 4/5; 8/15] END ............max_depth=15, n_estimators=30; total time=   1.6s\n",
      "[CV 5/5; 8/15] START max_depth=15, n_estimators=30..............................\n",
      "[CV 5/5; 8/15] END ............max_depth=15, n_estimators=30; total time=   1.6s\n",
      "[CV 1/5; 9/15] START max_depth=15, n_estimators=40..............................\n",
      "[CV 1/5; 9/15] END ............max_depth=15, n_estimators=40; total time=   1.9s\n",
      "[CV 2/5; 9/15] START max_depth=15, n_estimators=40..............................\n",
      "[CV 2/5; 9/15] END ............max_depth=15, n_estimators=40; total time=   2.4s\n",
      "[CV 3/5; 9/15] START max_depth=15, n_estimators=40..............................\n",
      "[CV 3/5; 9/15] END ............max_depth=15, n_estimators=40; total time=   2.1s\n",
      "[CV 4/5; 9/15] START max_depth=15, n_estimators=40..............................\n",
      "[CV 4/5; 9/15] END ............max_depth=15, n_estimators=40; total time=   2.6s\n",
      "[CV 5/5; 9/15] START max_depth=15, n_estimators=40..............................\n",
      "[CV 5/5; 9/15] END ............max_depth=15, n_estimators=40; total time=   2.0s\n",
      "[CV 1/5; 10/15] START max_depth=15, n_estimators=50.............................\n",
      "[CV 1/5; 10/15] END ...........max_depth=15, n_estimators=50; total time=   2.8s\n",
      "[CV 2/5; 10/15] START max_depth=15, n_estimators=50.............................\n",
      "[CV 2/5; 10/15] END ...........max_depth=15, n_estimators=50; total time=   2.3s\n",
      "[CV 3/5; 10/15] START max_depth=15, n_estimators=50.............................\n",
      "[CV 3/5; 10/15] END ...........max_depth=15, n_estimators=50; total time=   2.7s\n",
      "[CV 4/5; 10/15] START max_depth=15, n_estimators=50.............................\n",
      "[CV 4/5; 10/15] END ...........max_depth=15, n_estimators=50; total time=   2.5s\n",
      "[CV 5/5; 10/15] START max_depth=15, n_estimators=50.............................\n",
      "[CV 5/5; 10/15] END ...........max_depth=15, n_estimators=50; total time=   2.4s\n",
      "[CV 1/5; 11/15] START max_depth=20, n_estimators=10.............................\n",
      "[CV 1/5; 11/15] END ...........max_depth=20, n_estimators=10; total time=   0.9s\n",
      "[CV 2/5; 11/15] START max_depth=20, n_estimators=10.............................\n",
      "[CV 2/5; 11/15] END ...........max_depth=20, n_estimators=10; total time=   0.9s\n",
      "[CV 3/5; 11/15] START max_depth=20, n_estimators=10.............................\n",
      "[CV 3/5; 11/15] END ...........max_depth=20, n_estimators=10; total time=   0.8s\n",
      "[CV 4/5; 11/15] START max_depth=20, n_estimators=10.............................\n",
      "[CV 4/5; 11/15] END ...........max_depth=20, n_estimators=10; total time=   0.8s\n",
      "[CV 5/5; 11/15] START max_depth=20, n_estimators=10.............................\n",
      "[CV 5/5; 11/15] END ...........max_depth=20, n_estimators=10; total time=   0.8s\n",
      "[CV 1/5; 12/15] START max_depth=20, n_estimators=20.............................\n",
      "[CV 1/5; 12/15] END ...........max_depth=20, n_estimators=20; total time=   1.2s\n",
      "[CV 2/5; 12/15] START max_depth=20, n_estimators=20.............................\n",
      "[CV 2/5; 12/15] END ...........max_depth=20, n_estimators=20; total time=   1.2s\n",
      "[CV 3/5; 12/15] START max_depth=20, n_estimators=20.............................\n",
      "[CV 3/5; 12/15] END ...........max_depth=20, n_estimators=20; total time=   1.2s\n",
      "[CV 4/5; 12/15] START max_depth=20, n_estimators=20.............................\n",
      "[CV 4/5; 12/15] END ...........max_depth=20, n_estimators=20; total time=   1.2s\n",
      "[CV 5/5; 12/15] START max_depth=20, n_estimators=20.............................\n",
      "[CV 5/5; 12/15] END ...........max_depth=20, n_estimators=20; total time=   1.2s\n",
      "[CV 1/5; 13/15] START max_depth=20, n_estimators=30.............................\n",
      "[CV 1/5; 13/15] END ...........max_depth=20, n_estimators=30; total time=   1.9s\n",
      "[CV 2/5; 13/15] START max_depth=20, n_estimators=30.............................\n",
      "[CV 2/5; 13/15] END ...........max_depth=20, n_estimators=30; total time=   2.6s\n",
      "[CV 3/5; 13/15] START max_depth=20, n_estimators=30.............................\n",
      "[CV 3/5; 13/15] END ...........max_depth=20, n_estimators=30; total time=   1.8s\n",
      "[CV 4/5; 13/15] START max_depth=20, n_estimators=30.............................\n",
      "[CV 4/5; 13/15] END ...........max_depth=20, n_estimators=30; total time=   1.6s\n",
      "[CV 5/5; 13/15] START max_depth=20, n_estimators=30.............................\n",
      "[CV 5/5; 13/15] END ...........max_depth=20, n_estimators=30; total time=   1.6s\n",
      "[CV 1/5; 14/15] START max_depth=20, n_estimators=40.............................\n",
      "[CV 1/5; 14/15] END ...........max_depth=20, n_estimators=40; total time=   2.0s\n",
      "[CV 2/5; 14/15] START max_depth=20, n_estimators=40.............................\n",
      "[CV 2/5; 14/15] END ...........max_depth=20, n_estimators=40; total time=   1.9s\n",
      "[CV 3/5; 14/15] START max_depth=20, n_estimators=40.............................\n",
      "[CV 3/5; 14/15] END ...........max_depth=20, n_estimators=40; total time=   2.1s\n",
      "[CV 4/5; 14/15] START max_depth=20, n_estimators=40.............................\n",
      "[CV 4/5; 14/15] END ...........max_depth=20, n_estimators=40; total time=   2.6s\n",
      "[CV 5/5; 14/15] START max_depth=20, n_estimators=40.............................\n",
      "[CV 5/5; 14/15] END ...........max_depth=20, n_estimators=40; total time=   2.0s\n",
      "[CV 1/5; 15/15] START max_depth=20, n_estimators=50.............................\n",
      "[CV 1/5; 15/15] END ...........max_depth=20, n_estimators=50; total time=   2.4s\n",
      "[CV 2/5; 15/15] START max_depth=20, n_estimators=50.............................\n",
      "[CV 2/5; 15/15] END ...........max_depth=20, n_estimators=50; total time=   2.3s\n",
      "[CV 3/5; 15/15] START max_depth=20, n_estimators=50.............................\n",
      "[CV 3/5; 15/15] END ...........max_depth=20, n_estimators=50; total time=   2.3s\n",
      "[CV 4/5; 15/15] START max_depth=20, n_estimators=50.............................\n",
      "[CV 4/5; 15/15] END ...........max_depth=20, n_estimators=50; total time=   2.4s\n",
      "[CV 5/5; 15/15] START max_depth=20, n_estimators=50.............................\n",
      "[CV 5/5; 15/15] END ...........max_depth=20, n_estimators=50; total time=   2.3s\n",
      "Лучшие параметры модели LGBMR: {'max_depth': 15, 'n_estimators': 50}\n",
      "\n",
      "RMSE для модели LGBMR: -2259.5690163670038\n",
      "\n",
      "CPU times: user 2min 4s, sys: 634 ms, total: 2min 4s\n",
      "Wall time: 2min 7s\n"
     ]
    }
   ],
   "source": [
    "%%time\n",
    "# задаем параметры для модуля GridSearch \n",
    "param_grid = {'max_depth': range(10, 21, 5),\n",
    "              'n_estimators': range(10, 51, 10)}\n",
    "  \n",
    "# инициализируем модель\n",
    "model = LGBMRegressor(learning_rate = 0.1, n_jobs = -1, random_state=12345)\n",
    "# model = LGBMRegressor(n_jobs = -1, random_state=12345)\n",
    "\n",
    "# ищем лучшие параметры \n",
    "grid_model = GridSearchCV(estimator = model, \n",
    "                            param_grid = param_grid, \n",
    "                            cv= 5, \n",
    "                            n_jobs = -1, \n",
    "                            scoring='neg_root_mean_squared_error',\n",
    "                            verbose = 10) \n",
    "\n",
    "# обучаем модель на тренировочных данных\n",
    "grid_model.fit(features_train_lgbm, target_train_lgbm)\n",
    "\n",
    "# получаем лучшие параметры модели\n",
    "print('Лучшие параметры модели LGBMR:', grid_model.best_params_)\n",
    "print()\n",
    "\n",
    "# получаем лучшую оценку\n",
    "best_score_lgbm = grid_model.best_score_\n",
    "rmse_lgbm = best_score_lgbm.mean()\n",
    "print('RMSE для модели LGBMR:', rmse_lgbm)\n",
    "print()"
   ]
  },
  {
   "cell_type": "markdown",
   "metadata": {},
   "source": [
    "Итак мы обучили 4 модели, теперь проверим их работу на тестовой выборке и сравним полученные результаты."
   ]
  },
  {
   "cell_type": "markdown",
   "metadata": {},
   "source": [
    "## Анализ моделей"
   ]
  },
  {
   "cell_type": "markdown",
   "metadata": {},
   "source": [
    "Создадим пустые списки:\n",
    "* время обучения,\n",
    "* скорость предсказания,\n",
    "* качество предсказания:"
   ]
  },
  {
   "cell_type": "code",
   "execution_count": 46,
   "metadata": {},
   "outputs": [],
   "source": [
    "training_time = []\n",
    "prediction_speed = []\n",
    "prediction_quality = []"
   ]
  },
  {
   "cell_type": "markdown",
   "metadata": {},
   "source": [
    "Обучим модели на тестовых выборках, найдем для каждой модели время обучения, скорость предсказания, качество предсказания:"
   ]
  },
  {
   "cell_type": "markdown",
   "metadata": {},
   "source": [
    "### Модель линейной регрессии"
   ]
  },
  {
   "cell_type": "code",
   "execution_count": 47,
   "metadata": {},
   "outputs": [],
   "source": [
    "# инициализируем модель \n",
    "linreg = LinearRegression()"
   ]
  },
  {
   "cell_type": "code",
   "execution_count": 48,
   "metadata": {
    "scrolled": true
   },
   "outputs": [
    {
     "name": "stdout",
     "output_type": "stream",
     "text": [
      "Время обучения модели линейной регрессии: 0.08533763885498047\n"
     ]
    }
   ],
   "source": [
    "# обучаем модель на тренировочной выборке\n",
    "st = time.time()\n",
    "linreg.fit(features_train, target_train)\n",
    "et = time.time()\n",
    "elapsed_time_linreg = et - st\n",
    "training_time.append(elapsed_time_linreg)\n",
    "print('Время обучения модели линейной регрессии:', elapsed_time_linreg)"
   ]
  },
  {
   "cell_type": "code",
   "execution_count": 49,
   "metadata": {
    "scrolled": true
   },
   "outputs": [
    {
     "name": "stdout",
     "output_type": "stream",
     "text": [
      "Скорость предсказания модели линейной регрессии: 0.004705667495727539\n"
     ]
    }
   ],
   "source": [
    "# находим предсказания на тестовой выборке\n",
    "st = time.time()\n",
    "predictions_linreg = linreg.predict(features_test)\n",
    "et = time.time()\n",
    "elapsed_time_linreg_pred = et - st\n",
    "prediction_speed.append(elapsed_time_linreg_pred)\n",
    "print('Скорость предсказания модели линейной регрессии:', elapsed_time_linreg_pred)"
   ]
  },
  {
   "cell_type": "code",
   "execution_count": 50,
   "metadata": {},
   "outputs": [
    {
     "name": "stdout",
     "output_type": "stream",
     "text": [
      "RMSE линейной регрессии: 3064.8751613804366\n"
     ]
    }
   ],
   "source": [
    "# оцениваем модель\n",
    "rmse_linreg_test = mean_squared_error(target_test, predictions_linreg)**0.5\n",
    "prediction_quality.append(rmse_linreg_test)\n",
    "print('RMSE линейной регрессии:', rmse_linreg_test)"
   ]
  },
  {
   "cell_type": "markdown",
   "metadata": {},
   "source": [
    "### Модель решающего дерева\n",
    "\n",
    "Лучшие параметры модели решающего дерева: {'max_depth': 10, 'min_samples_split': 8}"
   ]
  },
  {
   "cell_type": "code",
   "execution_count": 51,
   "metadata": {
    "scrolled": true
   },
   "outputs": [],
   "source": [
    "# инициализируем модель\n",
    "dt_reg = DecisionTreeRegressor(random_state=12345, max_depth = 10, min_samples_split = 8)"
   ]
  },
  {
   "cell_type": "code",
   "execution_count": 52,
   "metadata": {},
   "outputs": [
    {
     "name": "stdout",
     "output_type": "stream",
     "text": [
      "Время обучения модели решающего дерева: 0.25532031059265137 секунд\n"
     ]
    }
   ],
   "source": [
    "# обучаем модель на тренировочной выборке\n",
    "st = time.time()\n",
    "dt_reg.fit(features_train, target_train)\n",
    "et = time.time()\n",
    "elapsed_time_dt = et - st\n",
    "training_time.append(elapsed_time_dt)\n",
    "print('Время обучения модели решающего дерева:', elapsed_time_dt, 'секунд')"
   ]
  },
  {
   "cell_type": "code",
   "execution_count": 53,
   "metadata": {
    "scrolled": true
   },
   "outputs": [
    {
     "name": "stdout",
     "output_type": "stream",
     "text": [
      "Скорость предсказания модели решающего дерева: 0.008150100708007812 секунд\n"
     ]
    }
   ],
   "source": [
    "# находим предсказания на тестовой выборке\n",
    "st = time.time()\n",
    "predictions_dt = dt_reg.predict(features_test)\n",
    "et = time.time()\n",
    "elapsed_time_dt_pred = et - st\n",
    "prediction_speed.append(elapsed_time_dt_pred)\n",
    "print('Скорость предсказания модели решающего дерева:', elapsed_time_dt_pred, 'секунд')"
   ]
  },
  {
   "cell_type": "code",
   "execution_count": 54,
   "metadata": {},
   "outputs": [
    {
     "name": "stdout",
     "output_type": "stream",
     "text": [
      "RMSE решающего дерева: 2482.156336477641\n"
     ]
    }
   ],
   "source": [
    "# оцениваем модель\n",
    "rmse_dt_test = mean_squared_error(target_test, predictions_dt)**0.5\n",
    "prediction_quality.append(rmse_dt_test)\n",
    "print('RMSE решающего дерева:', rmse_dt_test)"
   ]
  },
  {
   "cell_type": "markdown",
   "metadata": {},
   "source": [
    "### Модель случайного леса\n",
    "Лучшие параметры модели случайного леса: {'max_depth': 10, 'n_estimators': 200}"
   ]
  },
  {
   "cell_type": "code",
   "execution_count": 55,
   "metadata": {
    "scrolled": true
   },
   "outputs": [],
   "source": [
    "# инициализируем модель\n",
    "forest_reg = RandomForestRegressor(random_state=12345, max_depth = 10, n_estimators = 200)"
   ]
  },
  {
   "cell_type": "code",
   "execution_count": 56,
   "metadata": {},
   "outputs": [
    {
     "name": "stdout",
     "output_type": "stream",
     "text": [
      "Время обучения модели случайного леса: 32.64129376411438 секунд\n"
     ]
    }
   ],
   "source": [
    "# обучаем модель на тренировочной выборке\n",
    "st = time.time()\n",
    "forest_reg.fit(features_train, target_train)\n",
    "et = time.time()\n",
    "elapsed_time_forest = et - st\n",
    "training_time.append(elapsed_time_forest)\n",
    "print('Время обучения модели случайного леса:', elapsed_time_forest, 'секунд')"
   ]
  },
  {
   "cell_type": "code",
   "execution_count": 57,
   "metadata": {
    "scrolled": true
   },
   "outputs": [
    {
     "name": "stdout",
     "output_type": "stream",
     "text": [
      "Скорость предсказания модели случайного леса: 1.056225299835205 секунд\n"
     ]
    }
   ],
   "source": [
    "# находим предсказания на тестовой выборке\n",
    "st = time.time()\n",
    "predictions_forest = forest_reg.predict(features_test)\n",
    "et = time.time()\n",
    "elapsed_time_forest_pred = et - st\n",
    "prediction_speed.append(elapsed_time_forest_pred)\n",
    "print('Скорость предсказания модели случайного леса:', elapsed_time_forest_pred, 'секунд')"
   ]
  },
  {
   "cell_type": "code",
   "execution_count": 58,
   "metadata": {},
   "outputs": [
    {
     "name": "stdout",
     "output_type": "stream",
     "text": [
      "RMSE случайного леса: 2399.0665458568396\n"
     ]
    }
   ],
   "source": [
    "# оцениваем модель\n",
    "rmse_forest_test = mean_squared_error(target_test, predictions_forest)**0.5\n",
    "prediction_quality.append(rmse_forest_test)\n",
    "print('RMSE случайного леса:', rmse_forest_test)"
   ]
  },
  {
   "cell_type": "markdown",
   "metadata": {},
   "source": [
    "### LightGBM\n",
    "Лучшие параметры модели LGBMR: {'max_depth': 20, 'n_estimators': 50}"
   ]
  },
  {
   "cell_type": "code",
   "execution_count": 59,
   "metadata": {
    "scrolled": true
   },
   "outputs": [],
   "source": [
    "# инициализируем модель\n",
    "model_LGBM = LGBMRegressor(learning_rate = 0.1, n_jobs = -1, random_state=12345, max_depth = 15, n_estimators = 50)"
   ]
  },
  {
   "cell_type": "code",
   "execution_count": 60,
   "metadata": {},
   "outputs": [
    {
     "name": "stdout",
     "output_type": "stream",
     "text": [
      "Время обучения модели LGBMR: 2.426097869873047 секунд\n"
     ]
    }
   ],
   "source": [
    "# обучаем модель на тренировочной выборке\n",
    "st = time.time()\n",
    "model_LGBM.fit(features_train_lgbm, target_train_lgbm)\n",
    "et = time.time()\n",
    "elapsed_time_lgbm = et - st\n",
    "training_time.append(elapsed_time_lgbm)\n",
    "print('Время обучения модели LGBMR:', elapsed_time_lgbm, 'секунд')"
   ]
  },
  {
   "cell_type": "code",
   "execution_count": 61,
   "metadata": {
    "scrolled": true
   },
   "outputs": [
    {
     "name": "stdout",
     "output_type": "stream",
     "text": [
      "Скорость предсказания модели LGBMR: 0.39732813835144043 секунд\n"
     ]
    }
   ],
   "source": [
    "# находим предсказания на тестовой выборке\n",
    "st = time.time()\n",
    "predictions_LGBM = model_LGBM.predict(features_test_lgbm)\n",
    "et = time.time()\n",
    "elapsed_time_lgbm_pred = et - st\n",
    "prediction_speed.append(elapsed_time_lgbm_pred)\n",
    "print('Скорость предсказания модели LGBMR:', elapsed_time_lgbm_pred, 'секунд')"
   ]
  },
  {
   "cell_type": "code",
   "execution_count": 62,
   "metadata": {},
   "outputs": [
    {
     "name": "stdout",
     "output_type": "stream",
     "text": [
      "RMSE для модели LGBMR: 2253.34309878118\n"
     ]
    }
   ],
   "source": [
    "# оцениваем модель\n",
    "rmse_LGBM_test = mean_squared_error(target_test_lgbm, predictions_LGBM)**0.5\n",
    "prediction_quality.append(rmse_LGBM_test)\n",
    "print('RMSE для модели LGBMR:', rmse_LGBM_test)"
   ]
  },
  {
   "cell_type": "markdown",
   "metadata": {},
   "source": [
    "### Константная модель"
   ]
  },
  {
   "cell_type": "markdown",
   "metadata": {},
   "source": [
    "Проверим модели на адекватность с помощью константной модели DummyRegressor."
   ]
  },
  {
   "cell_type": "code",
   "execution_count": 63,
   "metadata": {
    "scrolled": true
   },
   "outputs": [],
   "source": [
    "# инициализируем модель\n",
    "const = DummyRegressor(strategy='median')"
   ]
  },
  {
   "cell_type": "code",
   "execution_count": 64,
   "metadata": {},
   "outputs": [
    {
     "name": "stdout",
     "output_type": "stream",
     "text": [
      "Время обучения константной модели: 0.0029075145721435547 секунд\n"
     ]
    }
   ],
   "source": [
    "# обучаем модель на тренировочных данных\n",
    "st = time.time()\n",
    "const.fit(features_train, target_train)\n",
    "et = time.time()\n",
    "elapsed_time_const = et - st\n",
    "training_time.append(elapsed_time_const)\n",
    "print('Время обучения константной модели:', elapsed_time_const, 'секунд')"
   ]
  },
  {
   "cell_type": "code",
   "execution_count": 65,
   "metadata": {},
   "outputs": [
    {
     "name": "stdout",
     "output_type": "stream",
     "text": [
      "Скорость предсказания константной модели: 0.0006594657897949219 секунд\n"
     ]
    }
   ],
   "source": [
    "# находим предсказания на тестовой выборке\n",
    "st = time.time()\n",
    "predictions_const = const.predict(features_test)\n",
    "et = time.time()\n",
    "elapsed_time_const_pred = et - st\n",
    "prediction_speed.append(elapsed_time_const_pred)\n",
    "print('Скорость предсказания константной модели:', elapsed_time_const_pred, 'секунд')"
   ]
  },
  {
   "cell_type": "code",
   "execution_count": 66,
   "metadata": {},
   "outputs": [
    {
     "name": "stdout",
     "output_type": "stream",
     "text": [
      "RMSE для константной модели: 4813.565401402809\n"
     ]
    }
   ],
   "source": [
    "# оцениваем модель\n",
    "rmse_const = mean_squared_error(target_test, predictions_const)**0.5\n",
    "prediction_quality.append(rmse_const)\n",
    "print('RMSE для константной модели:', rmse_const)"
   ]
  },
  {
   "cell_type": "markdown",
   "metadata": {},
   "source": [
    "Для наглядного сравнения добавим полученные данные в таблицу и сохраним ее в переменную `df_models`."
   ]
  },
  {
   "cell_type": "code",
   "execution_count": 67,
   "metadata": {
    "scrolled": true
   },
   "outputs": [
    {
     "data": {
      "text/html": [
       "<div>\n",
       "<style scoped>\n",
       "    .dataframe tbody tr th:only-of-type {\n",
       "        vertical-align: middle;\n",
       "    }\n",
       "\n",
       "    .dataframe tbody tr th {\n",
       "        vertical-align: top;\n",
       "    }\n",
       "\n",
       "    .dataframe thead th {\n",
       "        text-align: right;\n",
       "    }\n",
       "</style>\n",
       "<table border=\"1\" class=\"dataframe\">\n",
       "  <thead>\n",
       "    <tr style=\"text-align: right;\">\n",
       "      <th></th>\n",
       "      <th>Время обучения</th>\n",
       "      <th>Скорость предсказания</th>\n",
       "      <th>Качество предсказания</th>\n",
       "    </tr>\n",
       "  </thead>\n",
       "  <tbody>\n",
       "    <tr>\n",
       "      <th>Линейная регрессия</th>\n",
       "      <td>0.085338</td>\n",
       "      <td>0.004706</td>\n",
       "      <td>3064.875161</td>\n",
       "    </tr>\n",
       "    <tr>\n",
       "      <th>Дерево решений</th>\n",
       "      <td>0.255320</td>\n",
       "      <td>0.008150</td>\n",
       "      <td>2482.156336</td>\n",
       "    </tr>\n",
       "    <tr>\n",
       "      <th>Случайный лес</th>\n",
       "      <td>32.641294</td>\n",
       "      <td>1.056225</td>\n",
       "      <td>2399.066546</td>\n",
       "    </tr>\n",
       "    <tr>\n",
       "      <th>LightGBM</th>\n",
       "      <td>2.426098</td>\n",
       "      <td>0.397328</td>\n",
       "      <td>2253.343099</td>\n",
       "    </tr>\n",
       "    <tr>\n",
       "      <th>Константная модель</th>\n",
       "      <td>0.002908</td>\n",
       "      <td>0.000659</td>\n",
       "      <td>4813.565401</td>\n",
       "    </tr>\n",
       "  </tbody>\n",
       "</table>\n",
       "</div>"
      ],
      "text/plain": [
       "                    Время обучения  Скорость предсказания  \\\n",
       "Линейная регрессия        0.085338               0.004706   \n",
       "Дерево решений            0.255320               0.008150   \n",
       "Случайный лес            32.641294               1.056225   \n",
       "LightGBM                  2.426098               0.397328   \n",
       "Константная модель        0.002908               0.000659   \n",
       "\n",
       "                    Качество предсказания  \n",
       "Линейная регрессия            3064.875161  \n",
       "Дерево решений                2482.156336  \n",
       "Случайный лес                 2399.066546  \n",
       "LightGBM                      2253.343099  \n",
       "Константная модель            4813.565401  "
      ]
     },
     "execution_count": 67,
     "metadata": {},
     "output_type": "execute_result"
    }
   ],
   "source": [
    "df_models = pd.DataFrame([training_time, prediction_speed, prediction_quality],\n",
    "             index=['Время обучения', 'Скорость предсказания', 'Качество предсказания'],\n",
    "             columns=['Линейная регрессия', 'Дерево решений', 'Случайный лес', 'LightGBM', 'Константная модель'])\n",
    "df_models.T"
   ]
  },
  {
   "cell_type": "markdown",
   "metadata": {},
   "source": [
    "### Вывод"
   ]
  },
  {
   "cell_type": "markdown",
   "metadata": {},
   "source": [
    "Как мы видим, самые точные предсказания получили у модели LightGBM с гиперпараметрами 'max_depth': 20, 'n_estimators': 50. По сравнению с константной моделью RMSE модели градиентного бустинга LightGBM в два раза меньше."
   ]
  },
  {
   "cell_type": "markdown",
   "metadata": {},
   "source": [
    "## Общий вывод"
   ]
  },
  {
   "cell_type": "markdown",
   "metadata": {},
   "source": [
    "Объект нашего исследования - исторические данные: технические характеристики,  комплектации и цены автомобилей.\n",
    "\n",
    "В ходе предобработки мы подготовили данные к моделированию:\n",
    "- исправили заголовки, чтобы упростить работу с таблицей,\n",
    "- удалили столбцы с бесполезной информацией,\n",
    "- заполнили пропущенные значения,\n",
    "- избавились от выбросов и аномальных значений, \n",
    "- удалили дубликаты.\n",
    "\n",
    "Для решения поставленной задачи мы создали копию исходного датасета, закодировали категориальные признаки, разделили данные на две выборки:\n",
    "1. обучающую,\n",
    "2. тестовую.\n",
    "\n",
    "Обучили и проверили модели линейной регрессии, решающего дерева и случайного леса.\n",
    "\n",
    "Для обучения модели LightGBM мы создали копию исходного датасета, изменили тип данных в столбцах с категориальными признаками, разделили разделили данные на две выборки:\n",
    "1. обучающую,\n",
    "2. тестовую.\n",
    "\n",
    "По результатам обучения мы проверили все модели на тестовых выборках и сравнили с константной моделью. Самые точные предсказания получили с помощью модели LightGBM, для которой RMSE на тестовой выборке: 2253. Константная модель оказалась хуже в два раза, RMSE на тестовой выборке: 4813.\n",
    "\n",
    "Подведём итог нашей работы - рекомендация для сервиса по продаже автомобилей с пробегом \"Не бит, не крашен\":\n",
    "1. обратить внимание на процессы сбора и хранения данных и подумать о причинах возникновения пропущенных значений;\n",
    "\n",
    "2. сделать акцент на объявлениях с указанной нулевой ценой автомобиля, выяснить возможные причины таких объявлений. Возможно стоит изменить настройки, чтобы у пользователей не было возможности публиковать объявления с нулевой ценой;\n",
    "\n",
    "3. для разработки мобильного приложения для привлечения новых клиентов использовать модель градиентного бустинга LightGBM с характеристиками:\n",
    "    * max_depth = 20\n",
    "    * n_estimators = 50. "
   ]
  }
 ],
 "metadata": {
  "ExecuteTimeLog": [
   {
    "duration": 1815,
    "start_time": "2022-05-05T06:31:01.903Z"
   },
   {
    "duration": 122,
    "start_time": "2022-05-05T06:31:34.099Z"
   },
   {
    "duration": 1090,
    "start_time": "2022-05-05T06:32:01.186Z"
   },
   {
    "duration": 51,
    "start_time": "2022-05-05T10:36:11.389Z"
   },
   {
    "duration": 4,
    "start_time": "2022-05-05T10:39:55.487Z"
   },
   {
    "duration": 901,
    "start_time": "2022-05-05T10:39:55.494Z"
   },
   {
    "duration": 90,
    "start_time": "2022-05-05T10:39:56.396Z"
   },
   {
    "duration": 4,
    "start_time": "2022-05-05T10:39:56.488Z"
   },
   {
    "duration": 1436,
    "start_time": "2022-05-05T10:43:40.781Z"
   },
   {
    "duration": 859,
    "start_time": "2022-05-05T10:43:42.219Z"
   },
   {
    "duration": 148,
    "start_time": "2022-05-05T10:43:43.079Z"
   },
   {
    "duration": 5,
    "start_time": "2022-05-05T10:43:43.228Z"
   },
   {
    "duration": 3,
    "start_time": "2022-05-05T10:43:57.272Z"
   },
   {
    "duration": 22,
    "start_time": "2022-05-05T10:44:00.376Z"
   },
   {
    "duration": 128,
    "start_time": "2022-05-05T10:44:26.256Z"
   },
   {
    "duration": 10,
    "start_time": "2022-05-05T10:44:29.639Z"
   },
   {
    "duration": 34,
    "start_time": "2022-05-05T10:44:46.503Z"
   },
   {
    "duration": 81,
    "start_time": "2022-05-05T14:30:03.877Z"
   },
   {
    "duration": 2255,
    "start_time": "2022-05-05T14:30:09.218Z"
   },
   {
    "duration": 1418,
    "start_time": "2022-05-05T14:30:11.475Z"
   },
   {
    "duration": 165,
    "start_time": "2022-05-05T14:30:12.894Z"
   },
   {
    "duration": 32,
    "start_time": "2022-05-05T14:30:13.061Z"
   },
   {
    "duration": 36,
    "start_time": "2022-05-05T14:30:13.094Z"
   },
   {
    "duration": 36,
    "start_time": "2022-05-05T14:30:13.155Z"
   },
   {
    "duration": 47,
    "start_time": "2022-05-05T14:30:50.264Z"
   },
   {
    "duration": 47,
    "start_time": "2022-05-05T14:31:59.765Z"
   },
   {
    "duration": 35,
    "start_time": "2022-05-05T14:32:14.220Z"
   },
   {
    "duration": 41,
    "start_time": "2022-05-05T14:33:36.644Z"
   },
   {
    "duration": 36,
    "start_time": "2022-05-05T14:33:49.923Z"
   },
   {
    "duration": 54,
    "start_time": "2022-05-05T14:34:00.346Z"
   },
   {
    "duration": 122,
    "start_time": "2022-05-05T14:36:38.296Z"
   },
   {
    "duration": 444,
    "start_time": "2022-05-05T14:39:25.349Z"
   },
   {
    "duration": 1618,
    "start_time": "2022-05-05T14:39:34.219Z"
   },
   {
    "duration": 863,
    "start_time": "2022-05-05T14:39:35.839Z"
   },
   {
    "duration": 144,
    "start_time": "2022-05-05T14:39:36.704Z"
   },
   {
    "duration": 21,
    "start_time": "2022-05-05T14:39:36.854Z"
   },
   {
    "duration": 145,
    "start_time": "2022-05-05T14:39:36.877Z"
   },
   {
    "duration": 463,
    "start_time": "2022-05-05T14:39:37.023Z"
   },
   {
    "duration": 33,
    "start_time": "2022-05-05T14:39:37.488Z"
   },
   {
    "duration": 48,
    "start_time": "2022-05-05T14:39:37.523Z"
   },
   {
    "duration": 44,
    "start_time": "2022-05-05T14:39:37.573Z"
   },
   {
    "duration": 52,
    "start_time": "2022-05-05T14:39:37.619Z"
   },
   {
    "duration": 56,
    "start_time": "2022-05-05T14:39:37.673Z"
   },
   {
    "duration": 15,
    "start_time": "2022-05-05T14:39:58.068Z"
   },
   {
    "duration": 504,
    "start_time": "2022-05-05T14:40:02.683Z"
   },
   {
    "duration": 1559,
    "start_time": "2022-05-05T14:40:07.382Z"
   },
   {
    "duration": 930,
    "start_time": "2022-05-05T14:40:08.943Z"
   },
   {
    "duration": 96,
    "start_time": "2022-05-05T14:40:09.874Z"
   },
   {
    "duration": 22,
    "start_time": "2022-05-05T14:40:09.972Z"
   },
   {
    "duration": 146,
    "start_time": "2022-05-05T14:40:09.995Z"
   },
   {
    "duration": 518,
    "start_time": "2022-05-05T14:40:10.143Z"
   },
   {
    "duration": 34,
    "start_time": "2022-05-05T14:40:10.662Z"
   },
   {
    "duration": 33,
    "start_time": "2022-05-05T14:40:10.698Z"
   },
   {
    "duration": 52,
    "start_time": "2022-05-05T14:40:10.733Z"
   },
   {
    "duration": 33,
    "start_time": "2022-05-05T14:40:10.788Z"
   },
   {
    "duration": 51,
    "start_time": "2022-05-05T14:40:10.823Z"
   },
   {
    "duration": 8,
    "start_time": "2022-05-05T14:43:47.864Z"
   },
   {
    "duration": 6,
    "start_time": "2022-05-05T14:44:51.160Z"
   },
   {
    "duration": 62,
    "start_time": "2022-05-05T14:44:56.559Z"
   },
   {
    "duration": 35,
    "start_time": "2022-05-05T14:45:29.215Z"
   },
   {
    "duration": 344,
    "start_time": "2022-05-05T14:45:44.615Z"
   },
   {
    "duration": 34,
    "start_time": "2022-05-05T14:46:53.381Z"
   },
   {
    "duration": 25,
    "start_time": "2022-05-05T14:49:16.332Z"
   },
   {
    "duration": 38,
    "start_time": "2022-05-05T14:49:24.675Z"
   },
   {
    "duration": 37,
    "start_time": "2022-05-05T14:49:45.403Z"
   },
   {
    "duration": 43,
    "start_time": "2022-05-05T14:50:30.970Z"
   },
   {
    "duration": 133,
    "start_time": "2022-05-05T14:50:45.009Z"
   },
   {
    "duration": 34,
    "start_time": "2022-05-05T14:51:01.833Z"
   },
   {
    "duration": 41,
    "start_time": "2022-05-05T14:51:06.442Z"
   },
   {
    "duration": 40,
    "start_time": "2022-05-05T14:51:20.380Z"
   },
   {
    "duration": 43,
    "start_time": "2022-05-05T14:51:35.344Z"
   },
   {
    "duration": 39,
    "start_time": "2022-05-05T14:55:23.965Z"
   },
   {
    "duration": 34,
    "start_time": "2022-05-05T14:55:50.252Z"
   },
   {
    "duration": 35,
    "start_time": "2022-05-05T14:57:23.204Z"
   },
   {
    "duration": 28,
    "start_time": "2022-05-05T14:57:35.602Z"
   },
   {
    "duration": 34,
    "start_time": "2022-05-05T14:58:39.705Z"
   },
   {
    "duration": 25,
    "start_time": "2022-05-05T15:48:45.528Z"
   },
   {
    "duration": 4,
    "start_time": "2022-05-05T15:48:56.934Z"
   },
   {
    "duration": 25,
    "start_time": "2022-05-05T15:49:02.934Z"
   },
   {
    "duration": 9,
    "start_time": "2022-05-05T15:49:09.390Z"
   },
   {
    "duration": 545,
    "start_time": "2022-05-05T18:59:23.931Z"
   },
   {
    "duration": 1682,
    "start_time": "2022-05-05T18:59:29.431Z"
   },
   {
    "duration": 1459,
    "start_time": "2022-05-05T18:59:31.115Z"
   },
   {
    "duration": 137,
    "start_time": "2022-05-05T18:59:32.576Z"
   },
   {
    "duration": 23,
    "start_time": "2022-05-05T18:59:32.716Z"
   },
   {
    "duration": 171,
    "start_time": "2022-05-05T18:59:32.741Z"
   },
   {
    "duration": 508,
    "start_time": "2022-05-05T18:59:32.914Z"
   },
   {
    "duration": 38,
    "start_time": "2022-05-05T18:59:33.424Z"
   },
   {
    "duration": 73,
    "start_time": "2022-05-05T18:59:33.464Z"
   },
   {
    "duration": 355,
    "start_time": "2022-05-05T18:59:33.539Z"
   },
   {
    "duration": 40,
    "start_time": "2022-05-05T18:59:33.897Z"
   },
   {
    "duration": 63,
    "start_time": "2022-05-05T18:59:33.956Z"
   },
   {
    "duration": 8,
    "start_time": "2022-05-05T18:59:34.021Z"
   },
   {
    "duration": 65,
    "start_time": "2022-05-05T18:59:34.031Z"
   },
   {
    "duration": 39,
    "start_time": "2022-05-05T18:59:34.098Z"
   },
   {
    "duration": 2,
    "start_time": "2022-05-05T19:39:25.498Z"
   },
   {
    "duration": 288,
    "start_time": "2022-05-05T19:41:46.928Z"
   },
   {
    "duration": 584,
    "start_time": "2022-05-05T19:53:00.117Z"
   },
   {
    "duration": 21,
    "start_time": "2022-05-05T19:56:08.923Z"
   },
   {
    "duration": 613,
    "start_time": "2022-05-05T20:05:23.735Z"
   },
   {
    "duration": 203,
    "start_time": "2022-05-05T20:05:30.959Z"
   },
   {
    "duration": 146,
    "start_time": "2022-05-05T20:10:01.372Z"
   },
   {
    "duration": 308,
    "start_time": "2022-05-05T20:10:45.850Z"
   },
   {
    "duration": 135,
    "start_time": "2022-05-05T20:11:26.769Z"
   },
   {
    "duration": 43,
    "start_time": "2022-05-05T20:20:48.050Z"
   },
   {
    "duration": 29,
    "start_time": "2022-05-05T20:21:18.896Z"
   },
   {
    "duration": 194,
    "start_time": "2022-05-05T20:21:26.719Z"
   },
   {
    "duration": 147,
    "start_time": "2022-05-05T20:26:47.234Z"
   },
   {
    "duration": 158,
    "start_time": "2022-05-05T20:27:02.186Z"
   },
   {
    "duration": 32,
    "start_time": "2022-05-05T20:30:16.671Z"
   },
   {
    "duration": 128,
    "start_time": "2022-05-05T20:31:05.517Z"
   },
   {
    "duration": 1756,
    "start_time": "2022-05-05T20:31:19.329Z"
   },
   {
    "duration": 987,
    "start_time": "2022-05-05T20:31:21.087Z"
   },
   {
    "duration": 146,
    "start_time": "2022-05-05T20:31:22.076Z"
   },
   {
    "duration": 13,
    "start_time": "2022-05-05T20:31:22.224Z"
   },
   {
    "duration": 164,
    "start_time": "2022-05-05T20:31:22.239Z"
   },
   {
    "duration": 539,
    "start_time": "2022-05-05T20:31:22.404Z"
   },
   {
    "duration": 573,
    "start_time": "2022-05-05T20:31:22.945Z"
   },
   {
    "duration": 44,
    "start_time": "2022-05-05T20:31:23.520Z"
   },
   {
    "duration": 215,
    "start_time": "2022-05-05T20:31:23.566Z"
   },
   {
    "duration": 32,
    "start_time": "2022-05-05T20:31:23.784Z"
   },
   {
    "duration": 178,
    "start_time": "2022-05-05T20:31:23.818Z"
   },
   {
    "duration": 508,
    "start_time": "2022-05-05T20:31:23.998Z"
   },
   {
    "duration": 2,
    "start_time": "2022-05-05T20:31:24.508Z"
   },
   {
    "duration": 325,
    "start_time": "2022-05-05T20:31:24.512Z"
   },
   {
    "duration": 55,
    "start_time": "2022-05-05T20:31:24.839Z"
   },
   {
    "duration": 150,
    "start_time": "2022-05-05T20:31:24.896Z"
   },
   {
    "duration": 44,
    "start_time": "2022-05-05T20:31:25.048Z"
   },
   {
    "duration": 202,
    "start_time": "2022-05-05T20:31:25.094Z"
   },
   {
    "duration": 157,
    "start_time": "2022-05-05T20:31:25.299Z"
   },
   {
    "duration": 119,
    "start_time": "2022-05-05T20:31:25.458Z"
   },
   {
    "duration": 3,
    "start_time": "2022-05-05T20:31:25.579Z"
   },
   {
    "duration": 1691,
    "start_time": "2022-05-05T20:38:47.121Z"
   },
   {
    "duration": 1262,
    "start_time": "2022-05-05T20:38:48.815Z"
   },
   {
    "duration": 143,
    "start_time": "2022-05-05T20:38:50.081Z"
   },
   {
    "duration": 13,
    "start_time": "2022-05-05T20:38:50.226Z"
   },
   {
    "duration": 54,
    "start_time": "2022-05-05T20:38:50.241Z"
   },
   {
    "duration": 149,
    "start_time": "2022-05-05T20:38:50.298Z"
   },
   {
    "duration": 548,
    "start_time": "2022-05-05T20:38:50.454Z"
   },
   {
    "duration": 868,
    "start_time": "2022-05-05T20:38:51.004Z"
   },
   {
    "duration": 2548,
    "start_time": "2022-05-05T20:38:51.874Z"
   },
   {
    "duration": 0,
    "start_time": "2022-05-05T20:38:54.425Z"
   },
   {
    "duration": 0,
    "start_time": "2022-05-05T20:38:54.426Z"
   },
   {
    "duration": 0,
    "start_time": "2022-05-05T20:38:54.427Z"
   },
   {
    "duration": 0,
    "start_time": "2022-05-05T20:38:54.429Z"
   },
   {
    "duration": 0,
    "start_time": "2022-05-05T20:38:54.430Z"
   },
   {
    "duration": 0,
    "start_time": "2022-05-05T20:38:54.430Z"
   },
   {
    "duration": 0,
    "start_time": "2022-05-05T20:38:54.431Z"
   },
   {
    "duration": 0,
    "start_time": "2022-05-05T20:38:54.433Z"
   },
   {
    "duration": 0,
    "start_time": "2022-05-05T20:38:54.434Z"
   },
   {
    "duration": 0,
    "start_time": "2022-05-05T20:38:54.435Z"
   },
   {
    "duration": 0,
    "start_time": "2022-05-05T20:38:54.436Z"
   },
   {
    "duration": 0,
    "start_time": "2022-05-05T20:38:54.437Z"
   },
   {
    "duration": 0,
    "start_time": "2022-05-05T20:38:54.438Z"
   },
   {
    "duration": 1540,
    "start_time": "2022-05-05T20:41:52.999Z"
   },
   {
    "duration": 954,
    "start_time": "2022-05-05T20:41:54.541Z"
   },
   {
    "duration": 152,
    "start_time": "2022-05-05T20:41:55.496Z"
   },
   {
    "duration": 14,
    "start_time": "2022-05-05T20:41:55.651Z"
   },
   {
    "duration": 67,
    "start_time": "2022-05-05T20:41:55.667Z"
   },
   {
    "duration": 561,
    "start_time": "2022-05-05T20:41:55.735Z"
   },
   {
    "duration": 599,
    "start_time": "2022-05-05T20:41:56.298Z"
   },
   {
    "duration": 141,
    "start_time": "2022-05-05T20:41:56.899Z"
   },
   {
    "duration": 51,
    "start_time": "2022-05-05T20:41:57.041Z"
   },
   {
    "duration": 210,
    "start_time": "2022-05-05T20:41:57.095Z"
   },
   {
    "duration": 30,
    "start_time": "2022-05-05T20:41:57.307Z"
   },
   {
    "duration": 160,
    "start_time": "2022-05-05T20:41:57.339Z"
   },
   {
    "duration": 294,
    "start_time": "2022-05-05T20:41:57.500Z"
   },
   {
    "duration": 2,
    "start_time": "2022-05-05T20:41:57.797Z"
   },
   {
    "duration": 200,
    "start_time": "2022-05-05T20:41:57.801Z"
   },
   {
    "duration": 31,
    "start_time": "2022-05-05T20:41:58.003Z"
   },
   {
    "duration": 159,
    "start_time": "2022-05-05T20:41:58.036Z"
   },
   {
    "duration": 30,
    "start_time": "2022-05-05T20:41:58.197Z"
   },
   {
    "duration": 211,
    "start_time": "2022-05-05T20:41:58.230Z"
   },
   {
    "duration": 163,
    "start_time": "2022-05-05T20:41:58.444Z"
   },
   {
    "duration": 121,
    "start_time": "2022-05-05T20:41:58.610Z"
   },
   {
    "duration": 3,
    "start_time": "2022-05-05T20:41:58.733Z"
   },
   {
    "duration": 39,
    "start_time": "2022-05-05T20:46:47.413Z"
   },
   {
    "duration": 434,
    "start_time": "2022-05-05T20:49:06.411Z"
   },
   {
    "duration": 323,
    "start_time": "2022-05-05T20:49:17.178Z"
   },
   {
    "duration": 240,
    "start_time": "2022-05-05T20:50:29.850Z"
   },
   {
    "duration": 243,
    "start_time": "2022-05-05T20:50:58.217Z"
   },
   {
    "duration": 201,
    "start_time": "2022-05-05T20:51:28.560Z"
   },
   {
    "duration": 129,
    "start_time": "2022-05-05T20:52:02.288Z"
   },
   {
    "duration": 237,
    "start_time": "2022-05-05T20:52:19.064Z"
   },
   {
    "duration": 214,
    "start_time": "2022-05-05T20:52:32.159Z"
   },
   {
    "duration": 45,
    "start_time": "2022-05-05T20:54:50.238Z"
   },
   {
    "duration": 30,
    "start_time": "2022-05-05T20:55:03.742Z"
   },
   {
    "duration": 209,
    "start_time": "2022-05-05T20:55:09.333Z"
   },
   {
    "duration": 136,
    "start_time": "2022-05-05T20:55:20.717Z"
   },
   {
    "duration": 301,
    "start_time": "2022-05-05T20:55:23.924Z"
   },
   {
    "duration": 69,
    "start_time": "2022-05-05T20:55:45.732Z"
   },
   {
    "duration": 218,
    "start_time": "2022-05-05T20:56:00.924Z"
   },
   {
    "duration": 167,
    "start_time": "2022-05-05T20:57:04.986Z"
   },
   {
    "duration": 19,
    "start_time": "2022-05-05T20:57:08.930Z"
   },
   {
    "duration": 16,
    "start_time": "2022-05-05T20:57:17.274Z"
   },
   {
    "duration": 2038,
    "start_time": "2022-05-05T20:57:24.992Z"
   },
   {
    "duration": 1002,
    "start_time": "2022-05-05T20:57:27.033Z"
   },
   {
    "duration": 101,
    "start_time": "2022-05-05T20:57:28.037Z"
   },
   {
    "duration": 19,
    "start_time": "2022-05-05T20:57:28.140Z"
   },
   {
    "duration": 74,
    "start_time": "2022-05-05T20:57:28.162Z"
   },
   {
    "duration": 534,
    "start_time": "2022-05-05T20:57:28.238Z"
   },
   {
    "duration": 597,
    "start_time": "2022-05-05T20:57:28.775Z"
   },
   {
    "duration": 146,
    "start_time": "2022-05-05T20:57:29.374Z"
   },
   {
    "duration": 70,
    "start_time": "2022-05-05T20:57:29.523Z"
   },
   {
    "duration": 332,
    "start_time": "2022-05-05T20:57:29.596Z"
   },
   {
    "duration": 56,
    "start_time": "2022-05-05T20:57:29.930Z"
   },
   {
    "duration": 259,
    "start_time": "2022-05-05T20:57:29.988Z"
   },
   {
    "duration": 323,
    "start_time": "2022-05-05T20:57:30.256Z"
   },
   {
    "duration": 3,
    "start_time": "2022-05-05T20:57:30.580Z"
   },
   {
    "duration": 221,
    "start_time": "2022-05-05T20:57:30.585Z"
   },
   {
    "duration": 63,
    "start_time": "2022-05-05T20:57:30.808Z"
   },
   {
    "duration": 230,
    "start_time": "2022-05-05T20:57:30.872Z"
   },
   {
    "duration": 59,
    "start_time": "2022-05-05T20:57:31.104Z"
   },
   {
    "duration": 262,
    "start_time": "2022-05-05T20:57:31.165Z"
   },
   {
    "duration": 159,
    "start_time": "2022-05-05T20:57:31.428Z"
   },
   {
    "duration": 120,
    "start_time": "2022-05-05T20:57:31.588Z"
   },
   {
    "duration": 47,
    "start_time": "2022-05-05T20:57:31.709Z"
   },
   {
    "duration": 3,
    "start_time": "2022-05-05T20:57:31.758Z"
   },
   {
    "duration": 256,
    "start_time": "2022-05-05T20:57:31.763Z"
   },
   {
    "duration": 163,
    "start_time": "2022-05-05T20:57:32.022Z"
   },
   {
    "duration": 90,
    "start_time": "2022-05-05T20:57:32.187Z"
   },
   {
    "duration": 3,
    "start_time": "2022-05-05T20:57:32.279Z"
   },
   {
    "duration": 4,
    "start_time": "2022-05-05T21:01:25.378Z"
   },
   {
    "duration": 144,
    "start_time": "2022-05-05T21:02:13.056Z"
   },
   {
    "duration": 2596,
    "start_time": "2022-05-05T21:02:20.016Z"
   },
   {
    "duration": 65,
    "start_time": "2022-05-05T21:02:30.961Z"
   },
   {
    "duration": 1652,
    "start_time": "2022-05-05T21:03:14.141Z"
   },
   {
    "duration": 993,
    "start_time": "2022-05-05T21:03:15.795Z"
   },
   {
    "duration": 150,
    "start_time": "2022-05-05T21:03:16.790Z"
   },
   {
    "duration": 28,
    "start_time": "2022-05-05T21:03:16.942Z"
   },
   {
    "duration": 57,
    "start_time": "2022-05-05T21:03:16.972Z"
   },
   {
    "duration": 556,
    "start_time": "2022-05-05T21:03:17.031Z"
   },
   {
    "duration": 598,
    "start_time": "2022-05-05T21:03:17.589Z"
   },
   {
    "duration": 145,
    "start_time": "2022-05-05T21:03:18.188Z"
   },
   {
    "duration": 52,
    "start_time": "2022-05-05T21:03:18.335Z"
   },
   {
    "duration": 207,
    "start_time": "2022-05-05T21:03:18.390Z"
   },
   {
    "duration": 33,
    "start_time": "2022-05-05T21:03:18.598Z"
   },
   {
    "duration": 167,
    "start_time": "2022-05-05T21:03:18.632Z"
   },
   {
    "duration": 292,
    "start_time": "2022-05-05T21:03:18.800Z"
   },
   {
    "duration": 3,
    "start_time": "2022-05-05T21:03:19.094Z"
   },
   {
    "duration": 199,
    "start_time": "2022-05-05T21:03:19.098Z"
   },
   {
    "duration": 32,
    "start_time": "2022-05-05T21:03:19.299Z"
   },
   {
    "duration": 253,
    "start_time": "2022-05-05T21:03:19.333Z"
   },
   {
    "duration": 51,
    "start_time": "2022-05-05T21:03:19.589Z"
   },
   {
    "duration": 338,
    "start_time": "2022-05-05T21:03:19.654Z"
   },
   {
    "duration": 159,
    "start_time": "2022-05-05T21:03:19.993Z"
   },
   {
    "duration": 115,
    "start_time": "2022-05-05T21:03:20.154Z"
   },
   {
    "duration": 42,
    "start_time": "2022-05-05T21:03:20.271Z"
   },
   {
    "duration": 2,
    "start_time": "2022-05-05T21:03:20.315Z"
   },
   {
    "duration": 267,
    "start_time": "2022-05-05T21:03:20.319Z"
   },
   {
    "duration": 146,
    "start_time": "2022-05-05T21:03:20.588Z"
   },
   {
    "duration": 4,
    "start_time": "2022-05-05T21:03:20.736Z"
   },
   {
    "duration": 85,
    "start_time": "2022-05-05T21:03:20.742Z"
   },
   {
    "duration": 2,
    "start_time": "2022-05-05T21:03:20.831Z"
   },
   {
    "duration": 54,
    "start_time": "2022-05-05T21:03:33.166Z"
   },
   {
    "duration": 1639,
    "start_time": "2022-05-05T21:04:35.883Z"
   },
   {
    "duration": 971,
    "start_time": "2022-05-05T21:04:37.524Z"
   },
   {
    "duration": 163,
    "start_time": "2022-05-05T21:04:38.497Z"
   },
   {
    "duration": 17,
    "start_time": "2022-05-05T21:04:38.662Z"
   },
   {
    "duration": 77,
    "start_time": "2022-05-05T21:04:38.681Z"
   },
   {
    "duration": 531,
    "start_time": "2022-05-05T21:04:38.760Z"
   },
   {
    "duration": 591,
    "start_time": "2022-05-05T21:04:39.292Z"
   },
   {
    "duration": 143,
    "start_time": "2022-05-05T21:04:39.885Z"
   },
   {
    "duration": 52,
    "start_time": "2022-05-05T21:04:40.030Z"
   },
   {
    "duration": 217,
    "start_time": "2022-05-05T21:04:40.085Z"
   },
   {
    "duration": 34,
    "start_time": "2022-05-05T21:04:40.303Z"
   },
   {
    "duration": 167,
    "start_time": "2022-05-05T21:04:40.338Z"
   },
   {
    "duration": 313,
    "start_time": "2022-05-05T21:04:40.507Z"
   },
   {
    "duration": 2,
    "start_time": "2022-05-05T21:04:40.822Z"
   },
   {
    "duration": 202,
    "start_time": "2022-05-05T21:04:40.825Z"
   },
   {
    "duration": 38,
    "start_time": "2022-05-05T21:04:41.029Z"
   },
   {
    "duration": 142,
    "start_time": "2022-05-05T21:04:41.068Z"
   },
   {
    "duration": 30,
    "start_time": "2022-05-05T21:04:41.211Z"
   },
   {
    "duration": 215,
    "start_time": "2022-05-05T21:04:41.243Z"
   },
   {
    "duration": 157,
    "start_time": "2022-05-05T21:04:41.463Z"
   },
   {
    "duration": 118,
    "start_time": "2022-05-05T21:04:41.622Z"
   },
   {
    "duration": 48,
    "start_time": "2022-05-05T21:04:41.742Z"
   },
   {
    "duration": 3,
    "start_time": "2022-05-05T21:04:41.792Z"
   },
   {
    "duration": 254,
    "start_time": "2022-05-05T21:04:41.797Z"
   },
   {
    "duration": 141,
    "start_time": "2022-05-05T21:04:42.053Z"
   },
   {
    "duration": 4,
    "start_time": "2022-05-05T21:04:42.196Z"
   },
   {
    "duration": 33,
    "start_time": "2022-05-05T21:04:42.202Z"
   },
   {
    "duration": 54,
    "start_time": "2022-05-05T21:04:42.238Z"
   },
   {
    "duration": 3,
    "start_time": "2022-05-05T21:04:42.294Z"
   },
   {
    "duration": 111,
    "start_time": "2022-05-05T21:06:12.773Z"
   },
   {
    "duration": 109,
    "start_time": "2022-05-05T21:12:29.631Z"
   },
   {
    "duration": 201,
    "start_time": "2022-05-05T21:12:52.062Z"
   },
   {
    "duration": 266,
    "start_time": "2022-05-05T21:13:09.550Z"
   },
   {
    "duration": 411,
    "start_time": "2022-05-05T21:13:18.157Z"
   },
   {
    "duration": 415,
    "start_time": "2022-05-05T21:13:27.198Z"
   },
   {
    "duration": 202,
    "start_time": "2022-05-05T21:14:04.981Z"
   },
   {
    "duration": 111,
    "start_time": "2022-05-05T21:14:09.470Z"
   },
   {
    "duration": 29,
    "start_time": "2022-05-05T21:15:48.548Z"
   },
   {
    "duration": 37,
    "start_time": "2022-05-05T21:16:01.203Z"
   },
   {
    "duration": 1996,
    "start_time": "2022-05-05T21:17:03.295Z"
   },
   {
    "duration": 1096,
    "start_time": "2022-05-05T21:17:05.293Z"
   },
   {
    "duration": 167,
    "start_time": "2022-05-05T21:17:06.391Z"
   },
   {
    "duration": 18,
    "start_time": "2022-05-05T21:17:06.561Z"
   },
   {
    "duration": 81,
    "start_time": "2022-05-05T21:17:06.581Z"
   },
   {
    "duration": 567,
    "start_time": "2022-05-05T21:17:06.664Z"
   },
   {
    "duration": 643,
    "start_time": "2022-05-05T21:17:07.233Z"
   },
   {
    "duration": 145,
    "start_time": "2022-05-05T21:17:07.878Z"
   },
   {
    "duration": 57,
    "start_time": "2022-05-05T21:17:08.025Z"
   },
   {
    "duration": 222,
    "start_time": "2022-05-05T21:17:08.086Z"
   },
   {
    "duration": 32,
    "start_time": "2022-05-05T21:17:08.310Z"
   },
   {
    "duration": 159,
    "start_time": "2022-05-05T21:17:08.356Z"
   },
   {
    "duration": 298,
    "start_time": "2022-05-05T21:17:08.517Z"
   },
   {
    "duration": 3,
    "start_time": "2022-05-05T21:17:08.817Z"
   },
   {
    "duration": 201,
    "start_time": "2022-05-05T21:17:08.821Z"
   },
   {
    "duration": 36,
    "start_time": "2022-05-05T21:17:09.023Z"
   },
   {
    "duration": 153,
    "start_time": "2022-05-05T21:17:09.061Z"
   },
   {
    "duration": 40,
    "start_time": "2022-05-05T21:17:09.215Z"
   },
   {
    "duration": 214,
    "start_time": "2022-05-05T21:17:09.258Z"
   },
   {
    "duration": 159,
    "start_time": "2022-05-05T21:17:09.474Z"
   },
   {
    "duration": 112,
    "start_time": "2022-05-05T21:17:09.634Z"
   },
   {
    "duration": 47,
    "start_time": "2022-05-05T21:17:09.748Z"
   },
   {
    "duration": 2,
    "start_time": "2022-05-05T21:17:09.797Z"
   },
   {
    "duration": 250,
    "start_time": "2022-05-05T21:17:09.801Z"
   },
   {
    "duration": 124,
    "start_time": "2022-05-05T21:17:10.053Z"
   },
   {
    "duration": 41,
    "start_time": "2022-05-05T21:17:10.179Z"
   },
   {
    "duration": 3,
    "start_time": "2022-05-05T21:17:10.222Z"
   },
   {
    "duration": 337,
    "start_time": "2022-05-05T21:17:54.681Z"
   },
   {
    "duration": 127,
    "start_time": "2022-05-05T21:18:40.960Z"
   },
   {
    "duration": 114,
    "start_time": "2022-05-05T21:19:20.727Z"
   },
   {
    "duration": 280,
    "start_time": "2022-05-05T21:19:30.065Z"
   },
   {
    "duration": 122,
    "start_time": "2022-05-05T21:22:05.437Z"
   },
   {
    "duration": 442,
    "start_time": "2022-05-05T21:22:29.868Z"
   },
   {
    "duration": 311,
    "start_time": "2022-05-05T21:22:35.348Z"
   },
   {
    "duration": 886,
    "start_time": "2022-05-05T21:22:39.672Z"
   },
   {
    "duration": 1569,
    "start_time": "2022-05-05T21:22:53.444Z"
   },
   {
    "duration": 209,
    "start_time": "2022-05-05T21:23:00.524Z"
   },
   {
    "duration": 313,
    "start_time": "2022-05-05T21:23:07.756Z"
   },
   {
    "duration": 1096,
    "start_time": "2022-05-05T21:23:11.827Z"
   },
   {
    "duration": 40,
    "start_time": "2022-05-05T21:24:24.034Z"
   },
   {
    "duration": 36,
    "start_time": "2022-05-05T21:24:53.968Z"
   },
   {
    "duration": 42,
    "start_time": "2022-05-05T21:25:25.858Z"
   },
   {
    "duration": 741,
    "start_time": "2022-05-05T21:28:34.071Z"
   },
   {
    "duration": 208,
    "start_time": "2022-05-05T21:28:45.550Z"
   },
   {
    "duration": 190,
    "start_time": "2022-05-05T21:38:32.956Z"
   },
   {
    "duration": 31,
    "start_time": "2022-05-05T21:46:17.166Z"
   },
   {
    "duration": 374,
    "start_time": "2022-05-05T21:47:05.227Z"
   },
   {
    "duration": 18,
    "start_time": "2022-05-05T21:48:51.461Z"
   },
   {
    "duration": 2252,
    "start_time": "2022-05-10T20:45:40.567Z"
   },
   {
    "duration": 1178,
    "start_time": "2022-05-10T20:45:42.822Z"
   },
   {
    "duration": 128,
    "start_time": "2022-05-10T20:45:44.002Z"
   },
   {
    "duration": 20,
    "start_time": "2022-05-10T20:45:44.133Z"
   },
   {
    "duration": 89,
    "start_time": "2022-05-10T20:45:44.155Z"
   },
   {
    "duration": 704,
    "start_time": "2022-05-10T20:45:44.246Z"
   },
   {
    "duration": 934,
    "start_time": "2022-05-10T20:45:44.952Z"
   },
   {
    "duration": 168,
    "start_time": "2022-05-10T20:45:45.888Z"
   },
   {
    "duration": 45,
    "start_time": "2022-05-10T20:45:46.058Z"
   },
   {
    "duration": 266,
    "start_time": "2022-05-10T20:45:46.127Z"
   },
   {
    "duration": 45,
    "start_time": "2022-05-10T20:45:46.395Z"
   },
   {
    "duration": 184,
    "start_time": "2022-05-10T20:45:46.442Z"
   },
   {
    "duration": 376,
    "start_time": "2022-05-10T20:45:46.628Z"
   },
   {
    "duration": 4,
    "start_time": "2022-05-10T20:45:47.007Z"
   },
   {
    "duration": 251,
    "start_time": "2022-05-10T20:45:47.025Z"
   },
   {
    "duration": 49,
    "start_time": "2022-05-10T20:45:47.278Z"
   },
   {
    "duration": 174,
    "start_time": "2022-05-10T20:45:47.329Z"
   },
   {
    "duration": 41,
    "start_time": "2022-05-10T20:45:47.505Z"
   },
   {
    "duration": 248,
    "start_time": "2022-05-10T20:45:47.548Z"
   },
   {
    "duration": 188,
    "start_time": "2022-05-10T20:45:47.799Z"
   },
   {
    "duration": 158,
    "start_time": "2022-05-10T20:45:47.989Z"
   },
   {
    "duration": 54,
    "start_time": "2022-05-10T20:45:48.150Z"
   },
   {
    "duration": 373,
    "start_time": "2022-05-10T20:45:48.225Z"
   },
   {
    "duration": 191,
    "start_time": "2022-05-10T20:45:48.601Z"
   },
   {
    "duration": 81,
    "start_time": "2022-05-10T20:45:48.795Z"
   },
   {
    "duration": 1422,
    "start_time": "2022-05-10T20:45:48.879Z"
   },
   {
    "duration": 192,
    "start_time": "2022-05-10T20:45:50.303Z"
   },
   {
    "duration": 65,
    "start_time": "2022-05-10T20:45:50.502Z"
   },
   {
    "duration": 355,
    "start_time": "2022-05-10T20:45:50.570Z"
   },
   {
    "duration": 28,
    "start_time": "2022-05-10T20:45:50.928Z"
   },
   {
    "duration": 499,
    "start_time": "2022-05-10T20:45:50.959Z"
   },
   {
    "duration": 5,
    "start_time": "2022-05-10T20:45:51.460Z"
   },
   {
    "duration": 745,
    "start_time": "2022-05-10T21:09:03.320Z"
   },
   {
    "duration": 1998,
    "start_time": "2022-05-10T21:10:52.944Z"
   },
   {
    "duration": 1202,
    "start_time": "2022-05-10T21:10:54.945Z"
   },
   {
    "duration": 131,
    "start_time": "2022-05-10T21:10:56.150Z"
   },
   {
    "duration": 21,
    "start_time": "2022-05-10T21:10:56.284Z"
   },
   {
    "duration": 80,
    "start_time": "2022-05-10T21:10:56.307Z"
   },
   {
    "duration": 863,
    "start_time": "2022-05-10T21:10:56.389Z"
   },
   {
    "duration": 820,
    "start_time": "2022-05-10T21:10:57.254Z"
   },
   {
    "duration": 166,
    "start_time": "2022-05-10T21:10:58.077Z"
   },
   {
    "duration": 44,
    "start_time": "2022-05-10T21:10:58.246Z"
   },
   {
    "duration": 274,
    "start_time": "2022-05-10T21:10:58.293Z"
   },
   {
    "duration": 39,
    "start_time": "2022-05-10T21:10:58.569Z"
   },
   {
    "duration": 173,
    "start_time": "2022-05-10T21:10:58.624Z"
   },
   {
    "duration": 358,
    "start_time": "2022-05-10T21:10:58.799Z"
   },
   {
    "duration": 4,
    "start_time": "2022-05-10T21:10:59.159Z"
   },
   {
    "duration": 250,
    "start_time": "2022-05-10T21:10:59.165Z"
   },
   {
    "duration": 41,
    "start_time": "2022-05-10T21:10:59.417Z"
   },
   {
    "duration": 182,
    "start_time": "2022-05-10T21:10:59.461Z"
   },
   {
    "duration": 38,
    "start_time": "2022-05-10T21:10:59.645Z"
   },
   {
    "duration": 247,
    "start_time": "2022-05-10T21:10:59.685Z"
   },
   {
    "duration": 177,
    "start_time": "2022-05-10T21:10:59.934Z"
   },
   {
    "duration": 148,
    "start_time": "2022-05-10T21:11:00.113Z"
   },
   {
    "duration": 65,
    "start_time": "2022-05-10T21:11:00.263Z"
   },
   {
    "duration": 361,
    "start_time": "2022-05-10T21:11:00.331Z"
   },
   {
    "duration": 180,
    "start_time": "2022-05-10T21:11:00.694Z"
   },
   {
    "duration": 76,
    "start_time": "2022-05-10T21:11:00.876Z"
   },
   {
    "duration": 1542,
    "start_time": "2022-05-10T21:11:00.955Z"
   },
   {
    "duration": 186,
    "start_time": "2022-05-10T21:11:02.499Z"
   },
   {
    "duration": 72,
    "start_time": "2022-05-10T21:11:02.690Z"
   },
   {
    "duration": 334,
    "start_time": "2022-05-10T21:11:02.764Z"
   },
   {
    "duration": 39,
    "start_time": "2022-05-10T21:11:03.100Z"
   },
   {
    "duration": 451,
    "start_time": "2022-05-10T21:11:03.141Z"
   },
   {
    "duration": 734,
    "start_time": "2022-05-10T21:11:03.595Z"
   },
   {
    "duration": 4,
    "start_time": "2022-05-10T21:11:04.331Z"
   },
   {
    "duration": 711,
    "start_time": "2022-05-10T21:11:16.687Z"
   },
   {
    "duration": 27,
    "start_time": "2022-05-10T21:11:56.399Z"
   },
   {
    "duration": 2177,
    "start_time": "2022-05-10T21:12:34.988Z"
   },
   {
    "duration": 1379,
    "start_time": "2022-05-10T21:12:37.168Z"
   },
   {
    "duration": 140,
    "start_time": "2022-05-10T21:12:38.550Z"
   },
   {
    "duration": 31,
    "start_time": "2022-05-10T21:12:38.693Z"
   },
   {
    "duration": 73,
    "start_time": "2022-05-10T21:12:38.727Z"
   },
   {
    "duration": 799,
    "start_time": "2022-05-10T21:12:38.802Z"
   },
   {
    "duration": 844,
    "start_time": "2022-05-10T21:12:39.603Z"
   },
   {
    "duration": 163,
    "start_time": "2022-05-10T21:12:40.449Z"
   },
   {
    "duration": 45,
    "start_time": "2022-05-10T21:12:40.625Z"
   },
   {
    "duration": 276,
    "start_time": "2022-05-10T21:12:40.675Z"
   },
   {
    "duration": 40,
    "start_time": "2022-05-10T21:12:40.953Z"
   },
   {
    "duration": 182,
    "start_time": "2022-05-10T21:12:40.995Z"
   },
   {
    "duration": 367,
    "start_time": "2022-05-10T21:12:41.179Z"
   },
   {
    "duration": 4,
    "start_time": "2022-05-10T21:12:41.548Z"
   },
   {
    "duration": 246,
    "start_time": "2022-05-10T21:12:41.554Z"
   },
   {
    "duration": 44,
    "start_time": "2022-05-10T21:12:41.802Z"
   },
   {
    "duration": 177,
    "start_time": "2022-05-10T21:12:41.848Z"
   },
   {
    "duration": 38,
    "start_time": "2022-05-10T21:12:42.027Z"
   },
   {
    "duration": 247,
    "start_time": "2022-05-10T21:12:42.067Z"
   },
   {
    "duration": 186,
    "start_time": "2022-05-10T21:12:42.316Z"
   },
   {
    "duration": 143,
    "start_time": "2022-05-10T21:12:42.505Z"
   },
   {
    "duration": 51,
    "start_time": "2022-05-10T21:12:42.651Z"
   },
   {
    "duration": 389,
    "start_time": "2022-05-10T21:12:42.704Z"
   },
   {
    "duration": 185,
    "start_time": "2022-05-10T21:12:43.096Z"
   },
   {
    "duration": 80,
    "start_time": "2022-05-10T21:12:43.284Z"
   },
   {
    "duration": 1494,
    "start_time": "2022-05-10T21:12:43.367Z"
   },
   {
    "duration": 191,
    "start_time": "2022-05-10T21:12:44.864Z"
   },
   {
    "duration": 71,
    "start_time": "2022-05-10T21:12:45.062Z"
   },
   {
    "duration": 343,
    "start_time": "2022-05-10T21:12:45.136Z"
   },
   {
    "duration": 45,
    "start_time": "2022-05-10T21:12:45.482Z"
   },
   {
    "duration": 378,
    "start_time": "2022-05-10T21:12:45.530Z"
   },
   {
    "duration": 90,
    "start_time": "2022-05-10T21:12:45.911Z"
   },
   {
    "duration": 737,
    "start_time": "2022-05-10T21:12:46.004Z"
   },
   {
    "duration": 29,
    "start_time": "2022-05-10T21:12:46.744Z"
   },
   {
    "duration": 4,
    "start_time": "2022-05-10T21:12:46.775Z"
   },
   {
    "duration": 108,
    "start_time": "2022-05-10T21:13:36.941Z"
   },
   {
    "duration": 97,
    "start_time": "2022-05-10T21:13:42.838Z"
   },
   {
    "duration": 755,
    "start_time": "2022-05-10T21:19:12.688Z"
   },
   {
    "duration": 2052,
    "start_time": "2022-05-10T21:19:20.801Z"
   },
   {
    "duration": 1245,
    "start_time": "2022-05-10T21:19:22.856Z"
   },
   {
    "duration": 191,
    "start_time": "2022-05-10T21:19:24.103Z"
   },
   {
    "duration": 30,
    "start_time": "2022-05-10T21:19:24.297Z"
   },
   {
    "duration": 70,
    "start_time": "2022-05-10T21:19:24.329Z"
   },
   {
    "duration": 797,
    "start_time": "2022-05-10T21:19:24.402Z"
   },
   {
    "duration": 813,
    "start_time": "2022-05-10T21:19:25.202Z"
   },
   {
    "duration": 162,
    "start_time": "2022-05-10T21:19:26.018Z"
   },
   {
    "duration": 60,
    "start_time": "2022-05-10T21:19:26.182Z"
   },
   {
    "duration": 269,
    "start_time": "2022-05-10T21:19:26.246Z"
   },
   {
    "duration": 39,
    "start_time": "2022-05-10T21:19:26.517Z"
   },
   {
    "duration": 183,
    "start_time": "2022-05-10T21:19:26.558Z"
   },
   {
    "duration": 469,
    "start_time": "2022-05-10T21:19:26.744Z"
   },
   {
    "duration": 9,
    "start_time": "2022-05-10T21:19:27.216Z"
   },
   {
    "duration": 258,
    "start_time": "2022-05-10T21:19:27.227Z"
   },
   {
    "duration": 43,
    "start_time": "2022-05-10T21:19:27.487Z"
   },
   {
    "duration": 174,
    "start_time": "2022-05-10T21:19:27.532Z"
   },
   {
    "duration": 43,
    "start_time": "2022-05-10T21:19:27.708Z"
   },
   {
    "duration": 242,
    "start_time": "2022-05-10T21:19:27.753Z"
   },
   {
    "duration": 181,
    "start_time": "2022-05-10T21:19:27.997Z"
   },
   {
    "duration": 148,
    "start_time": "2022-05-10T21:19:28.180Z"
   },
   {
    "duration": 52,
    "start_time": "2022-05-10T21:19:28.330Z"
   },
   {
    "duration": 379,
    "start_time": "2022-05-10T21:19:28.384Z"
   },
   {
    "duration": 180,
    "start_time": "2022-05-10T21:19:28.765Z"
   },
   {
    "duration": 77,
    "start_time": "2022-05-10T21:19:28.947Z"
   },
   {
    "duration": 1419,
    "start_time": "2022-05-10T21:19:29.026Z"
   },
   {
    "duration": 189,
    "start_time": "2022-05-10T21:19:30.447Z"
   },
   {
    "duration": 55,
    "start_time": "2022-05-10T21:19:30.640Z"
   },
   {
    "duration": 349,
    "start_time": "2022-05-10T21:19:30.697Z"
   },
   {
    "duration": 28,
    "start_time": "2022-05-10T21:19:31.048Z"
   },
   {
    "duration": 402,
    "start_time": "2022-05-10T21:19:31.078Z"
   },
   {
    "duration": 103,
    "start_time": "2022-05-10T21:19:31.482Z"
   },
   {
    "duration": 816,
    "start_time": "2022-05-10T21:19:31.587Z"
   },
   {
    "duration": 0,
    "start_time": "2022-05-10T21:19:32.406Z"
   },
   {
    "duration": 0,
    "start_time": "2022-05-10T21:19:32.407Z"
   },
   {
    "duration": 84,
    "start_time": "2022-05-10T21:40:05.816Z"
   },
   {
    "duration": 617,
    "start_time": "2022-05-10T21:43:03.022Z"
   },
   {
    "duration": 636,
    "start_time": "2022-05-10T21:43:39.381Z"
   },
   {
    "duration": 611,
    "start_time": "2022-05-10T21:45:52.891Z"
   },
   {
    "duration": 14,
    "start_time": "2022-05-10T21:53:02.491Z"
   },
   {
    "duration": 625,
    "start_time": "2022-05-10T21:53:03.755Z"
   },
   {
    "duration": 25,
    "start_time": "2022-05-10T21:56:22.088Z"
   },
   {
    "duration": 13,
    "start_time": "2022-05-10T21:56:56.047Z"
   },
   {
    "duration": 613,
    "start_time": "2022-05-10T21:56:57.761Z"
   },
   {
    "duration": 4,
    "start_time": "2022-05-10T21:59:08.022Z"
   },
   {
    "duration": 4,
    "start_time": "2022-05-10T21:59:10.325Z"
   },
   {
    "duration": 3,
    "start_time": "2022-05-10T21:59:15.340Z"
   },
   {
    "duration": 293,
    "start_time": "2022-05-10T22:00:26.675Z"
   },
   {
    "duration": 40,
    "start_time": "2022-05-10T22:01:10.194Z"
   },
   {
    "duration": 39,
    "start_time": "2022-05-10T22:06:11.686Z"
   },
   {
    "duration": 595,
    "start_time": "2022-05-10T22:07:07.252Z"
   },
   {
    "duration": 1190,
    "start_time": "2022-05-10T22:22:32.039Z"
   },
   {
    "duration": 2009,
    "start_time": "2022-05-10T22:22:55.211Z"
   },
   {
    "duration": 1278,
    "start_time": "2022-05-10T22:22:57.223Z"
   },
   {
    "duration": 127,
    "start_time": "2022-05-10T22:22:58.504Z"
   },
   {
    "duration": 21,
    "start_time": "2022-05-10T22:22:58.634Z"
   },
   {
    "duration": 82,
    "start_time": "2022-05-10T22:22:58.658Z"
   },
   {
    "duration": 799,
    "start_time": "2022-05-10T22:22:58.742Z"
   },
   {
    "duration": 884,
    "start_time": "2022-05-10T22:22:59.543Z"
   },
   {
    "duration": 183,
    "start_time": "2022-05-10T22:23:00.429Z"
   },
   {
    "duration": 50,
    "start_time": "2022-05-10T22:23:00.625Z"
   },
   {
    "duration": 290,
    "start_time": "2022-05-10T22:23:00.679Z"
   },
   {
    "duration": 40,
    "start_time": "2022-05-10T22:23:00.971Z"
   },
   {
    "duration": 174,
    "start_time": "2022-05-10T22:23:01.025Z"
   },
   {
    "duration": 423,
    "start_time": "2022-05-10T22:23:01.201Z"
   },
   {
    "duration": 4,
    "start_time": "2022-05-10T22:23:01.627Z"
   },
   {
    "duration": 261,
    "start_time": "2022-05-10T22:23:01.633Z"
   },
   {
    "duration": 41,
    "start_time": "2022-05-10T22:23:01.896Z"
   },
   {
    "duration": 200,
    "start_time": "2022-05-10T22:23:01.939Z"
   },
   {
    "duration": 38,
    "start_time": "2022-05-10T22:23:02.141Z"
   },
   {
    "duration": 351,
    "start_time": "2022-05-10T22:23:02.182Z"
   },
   {
    "duration": 241,
    "start_time": "2022-05-10T22:23:02.535Z"
   },
   {
    "duration": 151,
    "start_time": "2022-05-10T22:23:02.778Z"
   },
   {
    "duration": 58,
    "start_time": "2022-05-10T22:23:02.931Z"
   },
   {
    "duration": 419,
    "start_time": "2022-05-10T22:23:02.991Z"
   },
   {
    "duration": 206,
    "start_time": "2022-05-10T22:23:03.413Z"
   },
   {
    "duration": 58,
    "start_time": "2022-05-10T22:23:03.624Z"
   },
   {
    "duration": 1656,
    "start_time": "2022-05-10T22:23:03.684Z"
   },
   {
    "duration": 209,
    "start_time": "2022-05-10T22:23:05.342Z"
   },
   {
    "duration": 70,
    "start_time": "2022-05-10T22:23:05.556Z"
   },
   {
    "duration": 350,
    "start_time": "2022-05-10T22:23:05.628Z"
   },
   {
    "duration": 29,
    "start_time": "2022-05-10T22:23:05.980Z"
   },
   {
    "duration": 411,
    "start_time": "2022-05-10T22:23:06.025Z"
   },
   {
    "duration": 4,
    "start_time": "2022-05-10T22:23:06.438Z"
   },
   {
    "duration": 34,
    "start_time": "2022-05-10T22:23:06.444Z"
   },
   {
    "duration": 1305,
    "start_time": "2022-05-10T22:23:06.480Z"
   },
   {
    "duration": 4,
    "start_time": "2022-05-10T22:23:07.787Z"
   },
   {
    "duration": 104,
    "start_time": "2022-05-10T22:23:07.794Z"
   },
   {
    "duration": 4,
    "start_time": "2022-05-10T22:23:07.901Z"
   },
   {
    "duration": 196,
    "start_time": "2022-05-10T22:24:34.528Z"
   },
   {
    "duration": 851,
    "start_time": "2022-05-10T22:24:40.183Z"
   },
   {
    "duration": 846,
    "start_time": "2022-05-10T22:25:02.204Z"
   },
   {
    "duration": 5,
    "start_time": "2022-05-10T22:26:59.525Z"
   },
   {
    "duration": 7,
    "start_time": "2022-05-10T22:30:39.858Z"
   },
   {
    "duration": 2080,
    "start_time": "2022-05-10T22:30:45.036Z"
   },
   {
    "duration": 1286,
    "start_time": "2022-05-10T22:30:47.119Z"
   },
   {
    "duration": 198,
    "start_time": "2022-05-10T22:30:48.407Z"
   },
   {
    "duration": 38,
    "start_time": "2022-05-10T22:30:48.608Z"
   },
   {
    "duration": 87,
    "start_time": "2022-05-10T22:30:48.649Z"
   },
   {
    "duration": 843,
    "start_time": "2022-05-10T22:30:48.738Z"
   },
   {
    "duration": 925,
    "start_time": "2022-05-10T22:30:49.584Z"
   },
   {
    "duration": 178,
    "start_time": "2022-05-10T22:30:50.512Z"
   },
   {
    "duration": 58,
    "start_time": "2022-05-10T22:30:50.693Z"
   },
   {
    "duration": 291,
    "start_time": "2022-05-10T22:30:50.755Z"
   },
   {
    "duration": 39,
    "start_time": "2022-05-10T22:30:51.048Z"
   },
   {
    "duration": 202,
    "start_time": "2022-05-10T22:30:51.089Z"
   },
   {
    "duration": 387,
    "start_time": "2022-05-10T22:30:51.293Z"
   },
   {
    "duration": 4,
    "start_time": "2022-05-10T22:30:51.683Z"
   },
   {
    "duration": 284,
    "start_time": "2022-05-10T22:30:51.690Z"
   },
   {
    "duration": 39,
    "start_time": "2022-05-10T22:30:51.976Z"
   },
   {
    "duration": 203,
    "start_time": "2022-05-10T22:30:52.031Z"
   },
   {
    "duration": 39,
    "start_time": "2022-05-10T22:30:52.237Z"
   },
   {
    "duration": 267,
    "start_time": "2022-05-10T22:30:52.278Z"
   },
   {
    "duration": 186,
    "start_time": "2022-05-10T22:30:52.548Z"
   },
   {
    "duration": 154,
    "start_time": "2022-05-10T22:30:52.737Z"
   },
   {
    "duration": 65,
    "start_time": "2022-05-10T22:30:52.893Z"
   },
   {
    "duration": 406,
    "start_time": "2022-05-10T22:30:52.961Z"
   },
   {
    "duration": 196,
    "start_time": "2022-05-10T22:30:53.369Z"
   },
   {
    "duration": 76,
    "start_time": "2022-05-10T22:30:53.567Z"
   },
   {
    "duration": 1480,
    "start_time": "2022-05-10T22:30:53.646Z"
   },
   {
    "duration": 211,
    "start_time": "2022-05-10T22:30:55.129Z"
   },
   {
    "duration": 60,
    "start_time": "2022-05-10T22:30:55.344Z"
   },
   {
    "duration": 381,
    "start_time": "2022-05-10T22:30:55.406Z"
   },
   {
    "duration": 49,
    "start_time": "2022-05-10T22:30:55.789Z"
   },
   {
    "duration": 407,
    "start_time": "2022-05-10T22:30:55.843Z"
   },
   {
    "duration": 15,
    "start_time": "2022-05-10T22:30:56.253Z"
   },
   {
    "duration": 1414,
    "start_time": "2022-05-10T22:30:56.270Z"
   },
   {
    "duration": 3,
    "start_time": "2022-05-10T22:30:57.686Z"
   },
   {
    "duration": 8,
    "start_time": "2022-05-10T22:30:57.691Z"
   },
   {
    "duration": 24,
    "start_time": "2022-05-10T22:30:57.701Z"
   },
   {
    "duration": 2055,
    "start_time": "2022-05-10T22:52:01.259Z"
   },
   {
    "duration": 1366,
    "start_time": "2022-05-10T22:52:03.317Z"
   },
   {
    "duration": 202,
    "start_time": "2022-05-10T22:52:04.685Z"
   },
   {
    "duration": 33,
    "start_time": "2022-05-10T22:52:04.891Z"
   },
   {
    "duration": 74,
    "start_time": "2022-05-10T22:52:04.928Z"
   },
   {
    "duration": 903,
    "start_time": "2022-05-10T22:52:05.005Z"
   },
   {
    "duration": 937,
    "start_time": "2022-05-10T22:52:05.911Z"
   },
   {
    "duration": 179,
    "start_time": "2022-05-10T22:52:06.851Z"
   },
   {
    "duration": 50,
    "start_time": "2022-05-10T22:52:07.033Z"
   },
   {
    "duration": 293,
    "start_time": "2022-05-10T22:52:07.088Z"
   },
   {
    "duration": 50,
    "start_time": "2022-05-10T22:52:07.384Z"
   },
   {
    "duration": 198,
    "start_time": "2022-05-10T22:52:07.437Z"
   },
   {
    "duration": 384,
    "start_time": "2022-05-10T22:52:07.638Z"
   },
   {
    "duration": 9,
    "start_time": "2022-05-10T22:52:08.026Z"
   },
   {
    "duration": 262,
    "start_time": "2022-05-10T22:52:08.039Z"
   },
   {
    "duration": 51,
    "start_time": "2022-05-10T22:52:08.303Z"
   },
   {
    "duration": 190,
    "start_time": "2022-05-10T22:52:08.357Z"
   },
   {
    "duration": 37,
    "start_time": "2022-05-10T22:52:08.549Z"
   },
   {
    "duration": 262,
    "start_time": "2022-05-10T22:52:08.588Z"
   },
   {
    "duration": 193,
    "start_time": "2022-05-10T22:52:08.852Z"
   },
   {
    "duration": 150,
    "start_time": "2022-05-10T22:52:09.048Z"
   },
   {
    "duration": 63,
    "start_time": "2022-05-10T22:52:09.200Z"
   },
   {
    "duration": 390,
    "start_time": "2022-05-10T22:52:09.265Z"
   },
   {
    "duration": 190,
    "start_time": "2022-05-10T22:52:09.657Z"
   },
   {
    "duration": 57,
    "start_time": "2022-05-10T22:52:09.849Z"
   },
   {
    "duration": 1496,
    "start_time": "2022-05-10T22:52:09.908Z"
   },
   {
    "duration": 200,
    "start_time": "2022-05-10T22:52:11.406Z"
   },
   {
    "duration": 72,
    "start_time": "2022-05-10T22:52:11.611Z"
   },
   {
    "duration": 358,
    "start_time": "2022-05-10T22:52:11.685Z"
   },
   {
    "duration": 29,
    "start_time": "2022-05-10T22:52:12.046Z"
   },
   {
    "duration": 438,
    "start_time": "2022-05-10T22:52:12.077Z"
   },
   {
    "duration": 192,
    "start_time": "2022-05-10T22:52:12.517Z"
   },
   {
    "duration": 0,
    "start_time": "2022-05-10T22:52:12.712Z"
   },
   {
    "duration": 0,
    "start_time": "2022-05-10T22:52:12.713Z"
   },
   {
    "duration": 0,
    "start_time": "2022-05-10T22:52:12.716Z"
   },
   {
    "duration": 0,
    "start_time": "2022-05-10T22:52:12.725Z"
   },
   {
    "duration": 0,
    "start_time": "2022-05-10T22:52:12.727Z"
   },
   {
    "duration": 0,
    "start_time": "2022-05-10T22:52:12.729Z"
   },
   {
    "duration": 666,
    "start_time": "2022-05-10T22:52:34.205Z"
   },
   {
    "duration": 673,
    "start_time": "2022-05-10T22:56:04.513Z"
   },
   {
    "duration": 13,
    "start_time": "2022-05-10T23:00:16.661Z"
   },
   {
    "duration": 1452,
    "start_time": "2022-05-10T23:00:20.396Z"
   },
   {
    "duration": 27,
    "start_time": "2022-05-10T23:02:04.706Z"
   },
   {
    "duration": 48,
    "start_time": "2022-05-10T23:06:17.373Z"
   },
   {
    "duration": 43,
    "start_time": "2022-05-10T23:06:23.949Z"
   },
   {
    "duration": 46,
    "start_time": "2022-05-10T23:06:28.101Z"
   },
   {
    "duration": 117,
    "start_time": "2022-05-10T23:09:12.267Z"
   },
   {
    "duration": 2026,
    "start_time": "2022-05-10T23:17:35.361Z"
   },
   {
    "duration": 1305,
    "start_time": "2022-05-10T23:17:37.390Z"
   },
   {
    "duration": 189,
    "start_time": "2022-05-10T23:17:38.698Z"
   },
   {
    "duration": 21,
    "start_time": "2022-05-10T23:17:38.890Z"
   },
   {
    "duration": 72,
    "start_time": "2022-05-10T23:17:38.924Z"
   },
   {
    "duration": 852,
    "start_time": "2022-05-10T23:17:38.998Z"
   },
   {
    "duration": 893,
    "start_time": "2022-05-10T23:17:39.852Z"
   },
   {
    "duration": 179,
    "start_time": "2022-05-10T23:17:40.747Z"
   },
   {
    "duration": 52,
    "start_time": "2022-05-10T23:17:40.928Z"
   },
   {
    "duration": 307,
    "start_time": "2022-05-10T23:17:40.984Z"
   },
   {
    "duration": 56,
    "start_time": "2022-05-10T23:17:41.294Z"
   },
   {
    "duration": 180,
    "start_time": "2022-05-10T23:17:41.352Z"
   },
   {
    "duration": 401,
    "start_time": "2022-05-10T23:17:41.536Z"
   },
   {
    "duration": 4,
    "start_time": "2022-05-10T23:17:41.940Z"
   },
   {
    "duration": 267,
    "start_time": "2022-05-10T23:17:41.947Z"
   },
   {
    "duration": 49,
    "start_time": "2022-05-10T23:17:42.216Z"
   },
   {
    "duration": 187,
    "start_time": "2022-05-10T23:17:42.266Z"
   },
   {
    "duration": 38,
    "start_time": "2022-05-10T23:17:42.456Z"
   },
   {
    "duration": 267,
    "start_time": "2022-05-10T23:17:42.496Z"
   },
   {
    "duration": 187,
    "start_time": "2022-05-10T23:17:42.765Z"
   },
   {
    "duration": 155,
    "start_time": "2022-05-10T23:17:42.954Z"
   },
   {
    "duration": 67,
    "start_time": "2022-05-10T23:17:43.112Z"
   },
   {
    "duration": 390,
    "start_time": "2022-05-10T23:17:43.181Z"
   },
   {
    "duration": 188,
    "start_time": "2022-05-10T23:17:43.573Z"
   },
   {
    "duration": 72,
    "start_time": "2022-05-10T23:17:43.763Z"
   },
   {
    "duration": 1455,
    "start_time": "2022-05-10T23:17:43.837Z"
   },
   {
    "duration": 198,
    "start_time": "2022-05-10T23:17:45.294Z"
   },
   {
    "duration": 76,
    "start_time": "2022-05-10T23:17:45.497Z"
   },
   {
    "duration": 355,
    "start_time": "2022-05-10T23:17:45.575Z"
   },
   {
    "duration": 29,
    "start_time": "2022-05-10T23:17:45.933Z"
   },
   {
    "duration": 454,
    "start_time": "2022-05-10T23:17:45.964Z"
   },
   {
    "duration": 19,
    "start_time": "2022-05-10T23:17:46.421Z"
   },
   {
    "duration": 1319,
    "start_time": "2022-05-10T23:17:46.442Z"
   },
   {
    "duration": 18,
    "start_time": "2022-05-10T23:17:47.763Z"
   },
   {
    "duration": 69,
    "start_time": "2022-05-10T23:17:47.783Z"
   },
   {
    "duration": 4,
    "start_time": "2022-05-10T23:17:47.854Z"
   },
   {
    "duration": 11,
    "start_time": "2022-05-10T23:17:47.860Z"
   },
   {
    "duration": 15,
    "start_time": "2022-05-10T23:17:47.873Z"
   },
   {
    "duration": 171,
    "start_time": "2022-05-10T23:19:16.645Z"
   },
   {
    "duration": 2963,
    "start_time": "2022-05-10T23:19:47.582Z"
   },
   {
    "duration": 1464,
    "start_time": "2022-05-10T23:19:50.548Z"
   },
   {
    "duration": 210,
    "start_time": "2022-05-10T23:19:52.014Z"
   },
   {
    "duration": 22,
    "start_time": "2022-05-10T23:19:52.227Z"
   },
   {
    "duration": 90,
    "start_time": "2022-05-10T23:19:52.251Z"
   },
   {
    "duration": 775,
    "start_time": "2022-05-10T23:19:52.344Z"
   },
   {
    "duration": 859,
    "start_time": "2022-05-10T23:19:53.125Z"
   },
   {
    "duration": 168,
    "start_time": "2022-05-10T23:19:53.986Z"
   },
   {
    "duration": 43,
    "start_time": "2022-05-10T23:19:54.156Z"
   },
   {
    "duration": 250,
    "start_time": "2022-05-10T23:19:54.224Z"
   },
   {
    "duration": 49,
    "start_time": "2022-05-10T23:19:54.476Z"
   },
   {
    "duration": 179,
    "start_time": "2022-05-10T23:19:54.527Z"
   },
   {
    "duration": 382,
    "start_time": "2022-05-10T23:19:54.709Z"
   },
   {
    "duration": 4,
    "start_time": "2022-05-10T23:19:55.093Z"
   },
   {
    "duration": 242,
    "start_time": "2022-05-10T23:19:55.099Z"
   },
   {
    "duration": 39,
    "start_time": "2022-05-10T23:19:55.343Z"
   },
   {
    "duration": 180,
    "start_time": "2022-05-10T23:19:55.384Z"
   },
   {
    "duration": 58,
    "start_time": "2022-05-10T23:19:55.566Z"
   },
   {
    "duration": 232,
    "start_time": "2022-05-10T23:19:55.626Z"
   },
   {
    "duration": 176,
    "start_time": "2022-05-10T23:19:55.860Z"
   },
   {
    "duration": 139,
    "start_time": "2022-05-10T23:19:56.038Z"
   },
   {
    "duration": 63,
    "start_time": "2022-05-10T23:19:56.180Z"
   },
   {
    "duration": 360,
    "start_time": "2022-05-10T23:19:56.245Z"
   },
   {
    "duration": 178,
    "start_time": "2022-05-10T23:19:56.607Z"
   },
   {
    "duration": 65,
    "start_time": "2022-05-10T23:19:56.787Z"
   },
   {
    "duration": 1362,
    "start_time": "2022-05-10T23:19:56.854Z"
   },
   {
    "duration": 190,
    "start_time": "2022-05-10T23:19:58.218Z"
   },
   {
    "duration": 59,
    "start_time": "2022-05-10T23:19:58.413Z"
   },
   {
    "duration": 330,
    "start_time": "2022-05-10T23:19:58.474Z"
   },
   {
    "duration": 35,
    "start_time": "2022-05-10T23:19:58.806Z"
   },
   {
    "duration": 379,
    "start_time": "2022-05-10T23:19:58.843Z"
   },
   {
    "duration": 13,
    "start_time": "2022-05-10T23:19:59.224Z"
   },
   {
    "duration": 1221,
    "start_time": "2022-05-10T23:19:59.239Z"
   },
   {
    "duration": 18,
    "start_time": "2022-05-10T23:20:00.462Z"
   },
   {
    "duration": 62,
    "start_time": "2022-05-10T23:20:00.483Z"
   },
   {
    "duration": 144,
    "start_time": "2022-05-10T23:20:00.547Z"
   },
   {
    "duration": 3,
    "start_time": "2022-05-10T23:20:00.693Z"
   },
   {
    "duration": 21,
    "start_time": "2022-05-10T23:20:00.698Z"
   },
   {
    "duration": 13,
    "start_time": "2022-05-10T23:20:00.721Z"
   },
   {
    "duration": 68,
    "start_time": "2022-05-10T23:26:45.084Z"
   },
   {
    "duration": 3,
    "start_time": "2022-05-10T23:27:23.973Z"
   },
   {
    "duration": 45,
    "start_time": "2022-05-10T23:27:26.940Z"
   },
   {
    "duration": 258,
    "start_time": "2022-05-12T11:03:16.126Z"
   },
   {
    "duration": 2353,
    "start_time": "2022-05-12T11:03:59.123Z"
   },
   {
    "duration": 6521,
    "start_time": "2022-05-12T11:04:01.480Z"
   },
   {
    "duration": 179,
    "start_time": "2022-05-12T11:04:08.004Z"
   },
   {
    "duration": 25,
    "start_time": "2022-05-12T11:04:08.186Z"
   },
   {
    "duration": 72,
    "start_time": "2022-05-12T11:04:08.227Z"
   },
   {
    "duration": 759,
    "start_time": "2022-05-12T11:04:08.301Z"
   },
   {
    "duration": 866,
    "start_time": "2022-05-12T11:04:09.062Z"
   },
   {
    "duration": 177,
    "start_time": "2022-05-12T11:04:09.931Z"
   },
   {
    "duration": 53,
    "start_time": "2022-05-12T11:04:10.125Z"
   },
   {
    "duration": 293,
    "start_time": "2022-05-12T11:04:10.182Z"
   },
   {
    "duration": 52,
    "start_time": "2022-05-12T11:04:10.477Z"
   },
   {
    "duration": 237,
    "start_time": "2022-05-12T11:04:10.531Z"
   },
   {
    "duration": 441,
    "start_time": "2022-05-12T11:04:10.770Z"
   },
   {
    "duration": 12,
    "start_time": "2022-05-12T11:04:11.214Z"
   },
   {
    "duration": 254,
    "start_time": "2022-05-12T11:04:11.231Z"
   },
   {
    "duration": 48,
    "start_time": "2022-05-12T11:04:11.487Z"
   },
   {
    "duration": 189,
    "start_time": "2022-05-12T11:04:11.538Z"
   },
   {
    "duration": 45,
    "start_time": "2022-05-12T11:04:11.729Z"
   },
   {
    "duration": 274,
    "start_time": "2022-05-12T11:04:11.777Z"
   },
   {
    "duration": 201,
    "start_time": "2022-05-12T11:04:12.054Z"
   },
   {
    "duration": 166,
    "start_time": "2022-05-12T11:04:12.258Z"
   },
   {
    "duration": 65,
    "start_time": "2022-05-12T11:04:12.427Z"
   },
   {
    "duration": 409,
    "start_time": "2022-05-12T11:04:12.494Z"
   },
   {
    "duration": 195,
    "start_time": "2022-05-12T11:04:12.905Z"
   },
   {
    "duration": 64,
    "start_time": "2022-05-12T11:04:13.102Z"
   },
   {
    "duration": 1495,
    "start_time": "2022-05-12T11:04:13.169Z"
   },
   {
    "duration": 205,
    "start_time": "2022-05-12T11:04:14.666Z"
   },
   {
    "duration": 65,
    "start_time": "2022-05-12T11:04:14.876Z"
   },
   {
    "duration": 361,
    "start_time": "2022-05-12T11:04:14.943Z"
   },
   {
    "duration": 39,
    "start_time": "2022-05-12T11:04:15.306Z"
   },
   {
    "duration": 494,
    "start_time": "2022-05-12T11:04:15.348Z"
   },
   {
    "duration": 13,
    "start_time": "2022-05-12T11:04:15.845Z"
   },
   {
    "duration": 1235,
    "start_time": "2022-05-12T11:04:15.861Z"
   },
   {
    "duration": 38,
    "start_time": "2022-05-12T11:04:17.098Z"
   },
   {
    "duration": 48,
    "start_time": "2022-05-12T11:04:17.138Z"
   },
   {
    "duration": 154,
    "start_time": "2022-05-12T11:04:17.188Z"
   },
   {
    "duration": 183,
    "start_time": "2022-05-12T11:04:17.344Z"
   },
   {
    "duration": 0,
    "start_time": "2022-05-12T11:04:17.530Z"
   },
   {
    "duration": 0,
    "start_time": "2022-05-12T11:04:17.533Z"
   },
   {
    "duration": 0,
    "start_time": "2022-05-12T11:04:17.536Z"
   },
   {
    "duration": 0,
    "start_time": "2022-05-12T11:04:17.537Z"
   },
   {
    "duration": 3,
    "start_time": "2022-05-12T11:06:54.331Z"
   },
   {
    "duration": 1042,
    "start_time": "2022-05-12T11:06:55.514Z"
   },
   {
    "duration": 888,
    "start_time": "2022-05-12T11:07:11.067Z"
   },
   {
    "duration": 2547,
    "start_time": "2022-05-12T11:15:20.943Z"
   },
   {
    "duration": 2471,
    "start_time": "2022-05-12T11:15:23.493Z"
   },
   {
    "duration": 467,
    "start_time": "2022-05-12T11:15:25.965Z"
   },
   {
    "duration": 30,
    "start_time": "2022-05-12T11:15:26.438Z"
   },
   {
    "duration": 180,
    "start_time": "2022-05-12T11:15:26.471Z"
   },
   {
    "duration": 1488,
    "start_time": "2022-05-12T11:15:26.654Z"
   },
   {
    "duration": 1012,
    "start_time": "2022-05-12T11:15:28.144Z"
   },
   {
    "duration": 182,
    "start_time": "2022-05-12T11:15:29.158Z"
   },
   {
    "duration": 45,
    "start_time": "2022-05-12T11:15:29.342Z"
   },
   {
    "duration": 302,
    "start_time": "2022-05-12T11:15:29.391Z"
   },
   {
    "duration": 53,
    "start_time": "2022-05-12T11:15:29.695Z"
   },
   {
    "duration": 199,
    "start_time": "2022-05-12T11:15:29.751Z"
   },
   {
    "duration": 419,
    "start_time": "2022-05-12T11:15:29.953Z"
   },
   {
    "duration": 4,
    "start_time": "2022-05-12T11:15:30.374Z"
   },
   {
    "duration": 275,
    "start_time": "2022-05-12T11:15:30.380Z"
   },
   {
    "duration": 39,
    "start_time": "2022-05-12T11:15:30.657Z"
   },
   {
    "duration": 191,
    "start_time": "2022-05-12T11:15:30.698Z"
   },
   {
    "duration": 56,
    "start_time": "2022-05-12T11:15:30.892Z"
   },
   {
    "duration": 355,
    "start_time": "2022-05-12T11:15:30.950Z"
   },
   {
    "duration": 200,
    "start_time": "2022-05-12T11:15:31.307Z"
   },
   {
    "duration": 193,
    "start_time": "2022-05-12T11:15:31.509Z"
   },
   {
    "duration": 74,
    "start_time": "2022-05-12T11:15:31.705Z"
   },
   {
    "duration": 463,
    "start_time": "2022-05-12T11:15:31.782Z"
   },
   {
    "duration": 196,
    "start_time": "2022-05-12T11:15:32.247Z"
   },
   {
    "duration": 57,
    "start_time": "2022-05-12T11:15:32.445Z"
   },
   {
    "duration": 1482,
    "start_time": "2022-05-12T11:15:32.504Z"
   },
   {
    "duration": 192,
    "start_time": "2022-05-12T11:15:33.989Z"
   },
   {
    "duration": 65,
    "start_time": "2022-05-12T11:15:34.186Z"
   },
   {
    "duration": 343,
    "start_time": "2022-05-12T11:15:34.253Z"
   },
   {
    "duration": 52,
    "start_time": "2022-05-12T11:15:34.599Z"
   },
   {
    "duration": 606,
    "start_time": "2022-05-12T11:15:34.654Z"
   },
   {
    "duration": 13,
    "start_time": "2022-05-12T11:15:35.262Z"
   },
   {
    "duration": 1303,
    "start_time": "2022-05-12T11:15:35.277Z"
   },
   {
    "duration": 20,
    "start_time": "2022-05-12T11:15:36.582Z"
   },
   {
    "duration": 70,
    "start_time": "2022-05-12T11:15:36.605Z"
   },
   {
    "duration": 224,
    "start_time": "2022-05-12T11:15:36.678Z"
   },
   {
    "duration": 19,
    "start_time": "2022-05-12T11:15:36.905Z"
   },
   {
    "duration": 1102,
    "start_time": "2022-05-12T11:15:36.927Z"
   },
   {
    "duration": 4,
    "start_time": "2022-05-12T11:15:38.032Z"
   },
   {
    "duration": 33,
    "start_time": "2022-05-12T11:15:38.038Z"
   },
   {
    "duration": 8,
    "start_time": "2022-05-12T11:15:38.073Z"
   },
   {
    "duration": 550,
    "start_time": "2022-05-12T11:40:05.567Z"
   },
   {
    "duration": 2522,
    "start_time": "2022-05-12T11:40:33.718Z"
   },
   {
    "duration": 1238,
    "start_time": "2022-05-12T11:40:36.242Z"
   },
   {
    "duration": 185,
    "start_time": "2022-05-12T11:40:37.483Z"
   },
   {
    "duration": 21,
    "start_time": "2022-05-12T11:40:37.671Z"
   },
   {
    "duration": 90,
    "start_time": "2022-05-12T11:40:37.696Z"
   },
   {
    "duration": 775,
    "start_time": "2022-05-12T11:40:37.788Z"
   },
   {
    "duration": 867,
    "start_time": "2022-05-12T11:40:38.566Z"
   },
   {
    "duration": 165,
    "start_time": "2022-05-12T11:40:39.435Z"
   },
   {
    "duration": 64,
    "start_time": "2022-05-12T11:40:39.602Z"
   },
   {
    "duration": 274,
    "start_time": "2022-05-12T11:40:39.668Z"
   },
   {
    "duration": 40,
    "start_time": "2022-05-12T11:40:39.944Z"
   },
   {
    "duration": 187,
    "start_time": "2022-05-12T11:40:39.986Z"
   },
   {
    "duration": 368,
    "start_time": "2022-05-12T11:40:40.175Z"
   },
   {
    "duration": 3,
    "start_time": "2022-05-12T11:40:40.548Z"
   },
   {
    "duration": 263,
    "start_time": "2022-05-12T11:40:40.554Z"
   },
   {
    "duration": 43,
    "start_time": "2022-05-12T11:40:40.820Z"
   },
   {
    "duration": 185,
    "start_time": "2022-05-12T11:40:40.866Z"
   },
   {
    "duration": 38,
    "start_time": "2022-05-12T11:40:41.055Z"
   },
   {
    "duration": 252,
    "start_time": "2022-05-12T11:40:41.096Z"
   },
   {
    "duration": 186,
    "start_time": "2022-05-12T11:40:41.351Z"
   },
   {
    "duration": 148,
    "start_time": "2022-05-12T11:40:41.540Z"
   },
   {
    "duration": 64,
    "start_time": "2022-05-12T11:40:41.690Z"
   },
   {
    "duration": 363,
    "start_time": "2022-05-12T11:40:41.757Z"
   },
   {
    "duration": 183,
    "start_time": "2022-05-12T11:40:42.124Z"
   },
   {
    "duration": 73,
    "start_time": "2022-05-12T11:40:42.309Z"
   },
   {
    "duration": 1395,
    "start_time": "2022-05-12T11:40:42.384Z"
   },
   {
    "duration": 193,
    "start_time": "2022-05-12T11:40:43.781Z"
   },
   {
    "duration": 71,
    "start_time": "2022-05-12T11:40:43.977Z"
   },
   {
    "duration": 326,
    "start_time": "2022-05-12T11:40:44.050Z"
   },
   {
    "duration": 26,
    "start_time": "2022-05-12T11:40:44.379Z"
   },
   {
    "duration": 381,
    "start_time": "2022-05-12T11:40:44.407Z"
   },
   {
    "duration": 13,
    "start_time": "2022-05-12T11:40:44.791Z"
   },
   {
    "duration": 1249,
    "start_time": "2022-05-12T11:40:44.806Z"
   },
   {
    "duration": 18,
    "start_time": "2022-05-12T11:40:46.057Z"
   },
   {
    "duration": 62,
    "start_time": "2022-05-12T11:40:46.077Z"
   },
   {
    "duration": 147,
    "start_time": "2022-05-12T11:40:46.142Z"
   },
   {
    "duration": 4,
    "start_time": "2022-05-12T11:40:46.291Z"
   },
   {
    "duration": 927,
    "start_time": "2022-05-12T11:40:46.297Z"
   },
   {
    "duration": 5800,
    "start_time": "2022-05-12T11:40:47.228Z"
   },
   {
    "duration": 4,
    "start_time": "2022-05-12T11:40:53.030Z"
   },
   {
    "duration": 11,
    "start_time": "2022-05-12T11:40:53.039Z"
   },
   {
    "duration": 10,
    "start_time": "2022-05-12T11:40:53.052Z"
   },
   {
    "duration": 5761,
    "start_time": "2022-05-12T11:41:49.438Z"
   },
   {
    "duration": 2979333,
    "start_time": "2022-05-12T11:45:28.785Z"
   },
   {
    "duration": 75,
    "start_time": "2022-05-12T15:04:16.499Z"
   },
   {
    "duration": 2430,
    "start_time": "2022-05-12T15:04:22.122Z"
   },
   {
    "duration": 1394,
    "start_time": "2022-05-12T15:04:24.555Z"
   },
   {
    "duration": 178,
    "start_time": "2022-05-12T15:04:25.951Z"
   },
   {
    "duration": 22,
    "start_time": "2022-05-12T15:04:26.131Z"
   },
   {
    "duration": 86,
    "start_time": "2022-05-12T15:04:26.155Z"
   },
   {
    "duration": 707,
    "start_time": "2022-05-12T15:04:26.244Z"
   },
   {
    "duration": 813,
    "start_time": "2022-05-12T15:04:26.954Z"
   },
   {
    "duration": 175,
    "start_time": "2022-05-12T15:04:27.769Z"
   },
   {
    "duration": 56,
    "start_time": "2022-05-12T15:04:27.946Z"
   },
   {
    "duration": 325,
    "start_time": "2022-05-12T15:04:28.006Z"
   },
   {
    "duration": 41,
    "start_time": "2022-05-12T15:04:28.333Z"
   },
   {
    "duration": 197,
    "start_time": "2022-05-12T15:04:28.376Z"
   },
   {
    "duration": 450,
    "start_time": "2022-05-12T15:04:28.576Z"
   },
   {
    "duration": 3,
    "start_time": "2022-05-12T15:04:29.028Z"
   },
   {
    "duration": 252,
    "start_time": "2022-05-12T15:04:29.033Z"
   },
   {
    "duration": 45,
    "start_time": "2022-05-12T15:04:29.287Z"
   },
   {
    "duration": 172,
    "start_time": "2022-05-12T15:04:29.334Z"
   },
   {
    "duration": 42,
    "start_time": "2022-05-12T15:04:29.509Z"
   },
   {
    "duration": 246,
    "start_time": "2022-05-12T15:04:29.554Z"
   },
   {
    "duration": 184,
    "start_time": "2022-05-12T15:04:29.803Z"
   },
   {
    "duration": 145,
    "start_time": "2022-05-12T15:04:29.990Z"
   },
   {
    "duration": 53,
    "start_time": "2022-05-12T15:04:30.138Z"
   },
   {
    "duration": 392,
    "start_time": "2022-05-12T15:04:30.194Z"
   },
   {
    "duration": 185,
    "start_time": "2022-05-12T15:04:30.588Z"
   },
   {
    "duration": 73,
    "start_time": "2022-05-12T15:04:30.775Z"
   },
   {
    "duration": 1451,
    "start_time": "2022-05-12T15:04:30.851Z"
   },
   {
    "duration": 190,
    "start_time": "2022-05-12T15:04:32.304Z"
   },
   {
    "duration": 69,
    "start_time": "2022-05-12T15:04:32.499Z"
   },
   {
    "duration": 332,
    "start_time": "2022-05-12T15:04:32.570Z"
   },
   {
    "duration": 38,
    "start_time": "2022-05-12T15:04:32.904Z"
   },
   {
    "duration": 484,
    "start_time": "2022-05-12T15:04:32.944Z"
   },
   {
    "duration": 13,
    "start_time": "2022-05-12T15:04:33.431Z"
   },
   {
    "duration": 1165,
    "start_time": "2022-05-12T15:04:33.446Z"
   },
   {
    "duration": 26,
    "start_time": "2022-05-12T15:04:34.613Z"
   },
   {
    "duration": 38,
    "start_time": "2022-05-12T15:04:34.642Z"
   },
   {
    "duration": 155,
    "start_time": "2022-05-12T15:04:34.682Z"
   },
   {
    "duration": 4,
    "start_time": "2022-05-12T15:04:34.839Z"
   },
   {
    "duration": 1078,
    "start_time": "2022-05-12T15:04:34.845Z"
   },
   {
    "duration": 2715,
    "start_time": "2022-05-12T15:04:35.927Z"
   },
   {
    "duration": 2046,
    "start_time": "2022-05-12T15:04:47.240Z"
   },
   {
    "duration": 1352,
    "start_time": "2022-05-12T15:04:49.288Z"
   },
   {
    "duration": 161,
    "start_time": "2022-05-12T15:04:50.642Z"
   },
   {
    "duration": 24,
    "start_time": "2022-05-12T15:04:50.806Z"
   },
   {
    "duration": 62,
    "start_time": "2022-05-12T15:04:50.832Z"
   },
   {
    "duration": 732,
    "start_time": "2022-05-12T15:04:50.896Z"
   },
   {
    "duration": 796,
    "start_time": "2022-05-12T15:04:51.630Z"
   },
   {
    "duration": 154,
    "start_time": "2022-05-12T15:04:52.428Z"
   },
   {
    "duration": 54,
    "start_time": "2022-05-12T15:04:52.585Z"
   },
   {
    "duration": 249,
    "start_time": "2022-05-12T15:04:52.643Z"
   },
   {
    "duration": 47,
    "start_time": "2022-05-12T15:04:52.894Z"
   },
   {
    "duration": 175,
    "start_time": "2022-05-12T15:04:52.943Z"
   },
   {
    "duration": 380,
    "start_time": "2022-05-12T15:04:53.124Z"
   },
   {
    "duration": 3,
    "start_time": "2022-05-12T15:04:53.507Z"
   },
   {
    "duration": 243,
    "start_time": "2022-05-12T15:04:53.512Z"
   },
   {
    "duration": 40,
    "start_time": "2022-05-12T15:04:53.757Z"
   },
   {
    "duration": 173,
    "start_time": "2022-05-12T15:04:53.799Z"
   },
   {
    "duration": 52,
    "start_time": "2022-05-12T15:04:53.975Z"
   },
   {
    "duration": 236,
    "start_time": "2022-05-12T15:04:54.029Z"
   },
   {
    "duration": 174,
    "start_time": "2022-05-12T15:04:54.267Z"
   },
   {
    "duration": 145,
    "start_time": "2022-05-12T15:04:54.443Z"
   },
   {
    "duration": 64,
    "start_time": "2022-05-12T15:04:54.590Z"
   },
   {
    "duration": 365,
    "start_time": "2022-05-12T15:04:54.656Z"
   },
   {
    "duration": 177,
    "start_time": "2022-05-12T15:04:55.025Z"
   },
   {
    "duration": 80,
    "start_time": "2022-05-12T15:04:55.204Z"
   },
   {
    "duration": 1360,
    "start_time": "2022-05-12T15:04:55.286Z"
   },
   {
    "duration": 185,
    "start_time": "2022-05-12T15:04:56.648Z"
   },
   {
    "duration": 53,
    "start_time": "2022-05-12T15:04:56.838Z"
   },
   {
    "duration": 355,
    "start_time": "2022-05-12T15:04:56.894Z"
   },
   {
    "duration": 29,
    "start_time": "2022-05-12T15:04:57.252Z"
   },
   {
    "duration": 403,
    "start_time": "2022-05-12T15:04:57.284Z"
   },
   {
    "duration": 35,
    "start_time": "2022-05-12T15:04:57.689Z"
   },
   {
    "duration": 1173,
    "start_time": "2022-05-12T15:04:57.727Z"
   },
   {
    "duration": 31,
    "start_time": "2022-05-12T15:04:58.903Z"
   },
   {
    "duration": 40,
    "start_time": "2022-05-12T15:04:58.936Z"
   },
   {
    "duration": 155,
    "start_time": "2022-05-12T15:04:58.979Z"
   },
   {
    "duration": 3,
    "start_time": "2022-05-12T15:04:59.137Z"
   },
   {
    "duration": 988,
    "start_time": "2022-05-12T15:04:59.142Z"
   },
   {
    "duration": 5873,
    "start_time": "2022-05-12T15:05:00.134Z"
   },
   {
    "duration": 4,
    "start_time": "2022-05-12T15:05:06.009Z"
   },
   {
    "duration": 17,
    "start_time": "2022-05-12T15:05:06.025Z"
   },
   {
    "duration": 262,
    "start_time": "2022-05-12T15:05:06.045Z"
   },
   {
    "duration": 15,
    "start_time": "2022-05-12T15:05:06.309Z"
   },
   {
    "duration": 402679,
    "start_time": "2022-05-12T15:06:36.438Z"
   },
   {
    "duration": 896,
    "start_time": "2022-05-12T19:25:47.362Z"
   },
   {
    "duration": 911,
    "start_time": "2022-05-12T19:26:00.913Z"
   },
   {
    "duration": 908,
    "start_time": "2022-05-12T19:26:35.156Z"
   },
   {
    "duration": 5880,
    "start_time": "2022-05-12T19:27:19.188Z"
   },
   {
    "duration": 387214,
    "start_time": "2022-05-12T19:28:16.387Z"
   },
   {
    "duration": 172,
    "start_time": "2022-05-12T21:18:18.770Z"
   },
   {
    "duration": 2192,
    "start_time": "2022-05-12T21:18:30.604Z"
   },
   {
    "duration": 1248,
    "start_time": "2022-05-12T21:18:32.799Z"
   },
   {
    "duration": 199,
    "start_time": "2022-05-12T21:18:34.050Z"
   },
   {
    "duration": 23,
    "start_time": "2022-05-12T21:18:34.253Z"
   },
   {
    "duration": 89,
    "start_time": "2022-05-12T21:18:34.279Z"
   },
   {
    "duration": 783,
    "start_time": "2022-05-12T21:18:34.371Z"
   },
   {
    "duration": 841,
    "start_time": "2022-05-12T21:18:35.157Z"
   },
   {
    "duration": 165,
    "start_time": "2022-05-12T21:18:36.001Z"
   },
   {
    "duration": 59,
    "start_time": "2022-05-12T21:18:36.168Z"
   },
   {
    "duration": 266,
    "start_time": "2022-05-12T21:18:36.231Z"
   },
   {
    "duration": 48,
    "start_time": "2022-05-12T21:18:36.500Z"
   },
   {
    "duration": 182,
    "start_time": "2022-05-12T21:18:36.551Z"
   },
   {
    "duration": 405,
    "start_time": "2022-05-12T21:18:36.735Z"
   },
   {
    "duration": 4,
    "start_time": "2022-05-12T21:18:37.142Z"
   },
   {
    "duration": 280,
    "start_time": "2022-05-12T21:18:37.149Z"
   },
   {
    "duration": 39,
    "start_time": "2022-05-12T21:18:37.431Z"
   },
   {
    "duration": 189,
    "start_time": "2022-05-12T21:18:37.472Z"
   },
   {
    "duration": 39,
    "start_time": "2022-05-12T21:18:37.663Z"
   },
   {
    "duration": 248,
    "start_time": "2022-05-12T21:18:37.704Z"
   },
   {
    "duration": 184,
    "start_time": "2022-05-12T21:18:37.954Z"
   },
   {
    "duration": 143,
    "start_time": "2022-05-12T21:18:38.140Z"
   },
   {
    "duration": 66,
    "start_time": "2022-05-12T21:18:38.285Z"
   },
   {
    "duration": 370,
    "start_time": "2022-05-12T21:18:38.353Z"
   },
   {
    "duration": 190,
    "start_time": "2022-05-12T21:18:38.725Z"
   },
   {
    "duration": 65,
    "start_time": "2022-05-12T21:18:38.917Z"
   },
   {
    "duration": 1412,
    "start_time": "2022-05-12T21:18:38.984Z"
   },
   {
    "duration": 196,
    "start_time": "2022-05-12T21:18:40.398Z"
   },
   {
    "duration": 67,
    "start_time": "2022-05-12T21:18:40.599Z"
   },
   {
    "duration": 335,
    "start_time": "2022-05-12T21:18:40.668Z"
   },
   {
    "duration": 32,
    "start_time": "2022-05-12T21:18:41.005Z"
   },
   {
    "duration": 448,
    "start_time": "2022-05-12T21:18:41.039Z"
   },
   {
    "duration": 13,
    "start_time": "2022-05-12T21:18:41.489Z"
   },
   {
    "duration": 1270,
    "start_time": "2022-05-12T21:18:41.504Z"
   },
   {
    "duration": 17,
    "start_time": "2022-05-12T21:18:42.777Z"
   },
   {
    "duration": 57,
    "start_time": "2022-05-12T21:18:42.796Z"
   },
   {
    "duration": 141,
    "start_time": "2022-05-12T21:18:42.855Z"
   },
   {
    "duration": 4,
    "start_time": "2022-05-12T21:18:42.998Z"
   },
   {
    "duration": 858,
    "start_time": "2022-05-12T21:18:43.004Z"
   },
   {
    "duration": 5738,
    "start_time": "2022-05-12T21:18:43.927Z"
   },
   {
    "duration": 394954,
    "start_time": "2022-05-12T21:18:49.667Z"
   },
   {
    "duration": 27,
    "start_time": "2022-05-12T21:25:24.625Z"
   },
   {
    "duration": 276,
    "start_time": "2022-05-12T21:25:24.655Z"
   },
   {
    "duration": 10,
    "start_time": "2022-05-12T21:25:24.933Z"
   },
   {
    "duration": 44,
    "start_time": "2022-05-12T21:25:24.946Z"
   },
   {
    "duration": 141,
    "start_time": "2022-05-12T21:25:24.992Z"
   },
   {
    "duration": 109493,
    "start_time": "2022-05-12T21:25:25.135Z"
   },
   {
    "duration": 472180,
    "start_time": "2022-05-12T21:28:53.649Z"
   },
   {
    "duration": 610802,
    "start_time": "2022-05-12T21:37:50.725Z"
   },
   {
    "duration": 595315,
    "start_time": "2022-05-12T21:48:48.919Z"
   },
   {
    "duration": 2722,
    "start_time": "2022-05-13T07:27:21.605Z"
   },
   {
    "duration": 1993,
    "start_time": "2022-05-13T07:27:24.330Z"
   },
   {
    "duration": 186,
    "start_time": "2022-05-13T07:27:26.328Z"
   },
   {
    "duration": 31,
    "start_time": "2022-05-13T07:27:26.519Z"
   },
   {
    "duration": 67,
    "start_time": "2022-05-13T07:27:26.552Z"
   },
   {
    "duration": 878,
    "start_time": "2022-05-13T07:27:26.622Z"
   },
   {
    "duration": 867,
    "start_time": "2022-05-13T07:27:27.503Z"
   },
   {
    "duration": 148,
    "start_time": "2022-05-13T07:27:28.372Z"
   },
   {
    "duration": 51,
    "start_time": "2022-05-13T07:27:28.525Z"
   },
   {
    "duration": 348,
    "start_time": "2022-05-13T07:27:28.579Z"
   },
   {
    "duration": 61,
    "start_time": "2022-05-13T07:27:28.929Z"
   },
   {
    "duration": 266,
    "start_time": "2022-05-13T07:27:28.992Z"
   },
   {
    "duration": 604,
    "start_time": "2022-05-13T07:27:29.261Z"
   },
   {
    "duration": 3,
    "start_time": "2022-05-13T07:27:29.868Z"
   },
   {
    "duration": 210,
    "start_time": "2022-05-13T07:27:29.873Z"
   },
   {
    "duration": 36,
    "start_time": "2022-05-13T07:27:30.085Z"
   },
   {
    "duration": 150,
    "start_time": "2022-05-13T07:27:30.143Z"
   },
   {
    "duration": 68,
    "start_time": "2022-05-13T07:27:30.296Z"
   },
   {
    "duration": 355,
    "start_time": "2022-05-13T07:27:30.366Z"
   },
   {
    "duration": 198,
    "start_time": "2022-05-13T07:27:30.724Z"
   },
   {
    "duration": 181,
    "start_time": "2022-05-13T07:27:30.925Z"
   },
   {
    "duration": 85,
    "start_time": "2022-05-13T07:27:31.109Z"
   },
   {
    "duration": 253,
    "start_time": "2022-05-13T07:27:31.196Z"
   },
   {
    "duration": 205,
    "start_time": "2022-05-13T07:27:31.452Z"
   },
   {
    "duration": 59,
    "start_time": "2022-05-13T07:27:31.660Z"
   },
   {
    "duration": 1550,
    "start_time": "2022-05-13T07:27:31.721Z"
   },
   {
    "duration": 196,
    "start_time": "2022-05-13T07:27:33.277Z"
   },
   {
    "duration": 44,
    "start_time": "2022-05-13T07:27:33.475Z"
   },
   {
    "duration": 244,
    "start_time": "2022-05-13T07:27:33.522Z"
   },
   {
    "duration": 26,
    "start_time": "2022-05-13T07:27:33.768Z"
   },
   {
    "duration": 463,
    "start_time": "2022-05-13T07:27:33.797Z"
   },
   {
    "duration": 10,
    "start_time": "2022-05-13T07:27:34.262Z"
   },
   {
    "duration": 1078,
    "start_time": "2022-05-13T07:27:34.274Z"
   },
   {
    "duration": 16,
    "start_time": "2022-05-13T07:27:35.355Z"
   },
   {
    "duration": 68,
    "start_time": "2022-05-13T07:27:35.374Z"
   },
   {
    "duration": 112,
    "start_time": "2022-05-13T07:27:35.445Z"
   },
   {
    "duration": 4,
    "start_time": "2022-05-13T07:27:35.559Z"
   },
   {
    "duration": 899,
    "start_time": "2022-05-13T07:27:35.564Z"
   },
   {
    "duration": 5294,
    "start_time": "2022-05-13T07:27:36.465Z"
   },
   {
    "duration": 449982,
    "start_time": "2022-05-13T07:27:41.761Z"
   },
   {
    "duration": 11,
    "start_time": "2022-05-13T07:35:11.745Z"
   },
   {
    "duration": 221,
    "start_time": "2022-05-13T07:35:11.759Z"
   },
   {
    "duration": 10,
    "start_time": "2022-05-13T07:35:11.982Z"
   },
   {
    "duration": 50,
    "start_time": "2022-05-13T07:35:11.994Z"
   },
   {
    "duration": 171,
    "start_time": "2022-05-13T07:35:12.047Z"
   },
   {
    "duration": 312141,
    "start_time": "2022-05-13T07:35:12.220Z"
   },
   {
    "duration": 1806,
    "start_time": "2022-05-13T08:12:51.675Z"
   },
   {
    "duration": 1018,
    "start_time": "2022-05-13T08:12:53.484Z"
   },
   {
    "duration": 106,
    "start_time": "2022-05-13T08:12:54.504Z"
   },
   {
    "duration": 14,
    "start_time": "2022-05-13T08:12:54.612Z"
   },
   {
    "duration": 66,
    "start_time": "2022-05-13T08:12:54.628Z"
   },
   {
    "duration": 524,
    "start_time": "2022-05-13T08:12:54.696Z"
   },
   {
    "duration": 595,
    "start_time": "2022-05-13T08:12:55.223Z"
   },
   {
    "duration": 172,
    "start_time": "2022-05-13T08:12:55.820Z"
   },
   {
    "duration": 62,
    "start_time": "2022-05-13T08:12:55.994Z"
   },
   {
    "duration": 236,
    "start_time": "2022-05-13T08:12:56.061Z"
   },
   {
    "duration": 31,
    "start_time": "2022-05-13T08:12:56.299Z"
   },
   {
    "duration": 169,
    "start_time": "2022-05-13T08:12:56.349Z"
   },
   {
    "duration": 399,
    "start_time": "2022-05-13T08:12:56.520Z"
   },
   {
    "duration": 5,
    "start_time": "2022-05-13T08:12:56.924Z"
   },
   {
    "duration": 244,
    "start_time": "2022-05-13T08:12:56.930Z"
   },
   {
    "duration": 33,
    "start_time": "2022-05-13T08:12:57.176Z"
   },
   {
    "duration": 212,
    "start_time": "2022-05-13T08:12:57.211Z"
   },
   {
    "duration": 51,
    "start_time": "2022-05-13T08:12:57.425Z"
   },
   {
    "duration": 227,
    "start_time": "2022-05-13T08:12:57.478Z"
   },
   {
    "duration": 174,
    "start_time": "2022-05-13T08:12:57.707Z"
   },
   {
    "duration": 127,
    "start_time": "2022-05-13T08:12:57.882Z"
   },
   {
    "duration": 62,
    "start_time": "2022-05-13T08:12:58.011Z"
   },
   {
    "duration": 239,
    "start_time": "2022-05-13T08:12:58.075Z"
   },
   {
    "duration": 140,
    "start_time": "2022-05-13T08:12:58.316Z"
   },
   {
    "duration": 44,
    "start_time": "2022-05-13T08:12:58.458Z"
   },
   {
    "duration": 1036,
    "start_time": "2022-05-13T08:12:58.503Z"
   },
   {
    "duration": 180,
    "start_time": "2022-05-13T08:12:59.545Z"
   },
   {
    "duration": 61,
    "start_time": "2022-05-13T08:12:59.727Z"
   },
   {
    "duration": 317,
    "start_time": "2022-05-13T08:12:59.791Z"
   },
   {
    "duration": 47,
    "start_time": "2022-05-13T08:13:00.109Z"
   },
   {
    "duration": 275,
    "start_time": "2022-05-13T08:13:00.159Z"
   },
   {
    "duration": 16,
    "start_time": "2022-05-13T08:13:00.436Z"
   },
   {
    "duration": 1014,
    "start_time": "2022-05-13T08:13:00.455Z"
   },
   {
    "duration": 14,
    "start_time": "2022-05-13T08:13:01.471Z"
   },
   {
    "duration": 43,
    "start_time": "2022-05-13T08:13:01.487Z"
   },
   {
    "duration": 122,
    "start_time": "2022-05-13T08:13:01.532Z"
   },
   {
    "duration": 6,
    "start_time": "2022-05-13T08:13:01.656Z"
   },
   {
    "duration": 987,
    "start_time": "2022-05-13T08:13:01.664Z"
   },
   {
    "duration": 5074,
    "start_time": "2022-05-13T08:13:02.653Z"
   },
   {
    "duration": 400371,
    "start_time": "2022-05-13T08:13:07.729Z"
   },
   {
    "duration": 9,
    "start_time": "2022-05-13T08:19:48.104Z"
   },
   {
    "duration": 203,
    "start_time": "2022-05-13T08:19:48.115Z"
   },
   {
    "duration": 8,
    "start_time": "2022-05-13T08:19:48.320Z"
   },
   {
    "duration": 49,
    "start_time": "2022-05-13T08:19:48.330Z"
   },
   {
    "duration": 122,
    "start_time": "2022-05-13T08:19:48.381Z"
   },
   {
    "duration": 1932829,
    "start_time": "2022-05-13T08:19:48.505Z"
   },
   {
    "duration": 6208,
    "start_time": "2022-05-13T09:31:03.792Z"
   },
   {
    "duration": 2983,
    "start_time": "2022-05-13T09:31:22.972Z"
   },
   {
    "duration": 1792,
    "start_time": "2022-05-13T09:31:25.958Z"
   },
   {
    "duration": 206,
    "start_time": "2022-05-13T09:31:27.754Z"
   },
   {
    "duration": 31,
    "start_time": "2022-05-13T09:31:27.963Z"
   },
   {
    "duration": 128,
    "start_time": "2022-05-13T09:31:27.998Z"
   },
   {
    "duration": 884,
    "start_time": "2022-05-13T09:31:28.130Z"
   },
   {
    "duration": 909,
    "start_time": "2022-05-13T09:31:29.017Z"
   },
   {
    "duration": 394,
    "start_time": "2022-05-13T09:31:29.930Z"
   },
   {
    "duration": 206,
    "start_time": "2022-05-13T09:31:30.329Z"
   },
   {
    "duration": 407,
    "start_time": "2022-05-13T09:31:30.537Z"
   },
   {
    "duration": 87,
    "start_time": "2022-05-13T09:31:30.947Z"
   },
   {
    "duration": 455,
    "start_time": "2022-05-13T09:31:31.041Z"
   },
   {
    "duration": 755,
    "start_time": "2022-05-13T09:31:31.499Z"
   },
   {
    "duration": 4,
    "start_time": "2022-05-13T09:31:32.267Z"
   },
   {
    "duration": 531,
    "start_time": "2022-05-13T09:31:32.278Z"
   },
   {
    "duration": 87,
    "start_time": "2022-05-13T09:31:32.815Z"
   },
   {
    "duration": 342,
    "start_time": "2022-05-13T09:31:32.905Z"
   },
   {
    "duration": 76,
    "start_time": "2022-05-13T09:31:33.254Z"
   },
   {
    "duration": 485,
    "start_time": "2022-05-13T09:31:33.337Z"
   },
   {
    "duration": 314,
    "start_time": "2022-05-13T09:31:33.824Z"
   },
   {
    "duration": 197,
    "start_time": "2022-05-13T09:31:34.142Z"
   },
   {
    "duration": 59,
    "start_time": "2022-05-13T09:31:34.345Z"
   },
   {
    "duration": 452,
    "start_time": "2022-05-13T09:31:34.410Z"
   },
   {
    "duration": 218,
    "start_time": "2022-05-13T09:31:34.864Z"
   },
   {
    "duration": 80,
    "start_time": "2022-05-13T09:31:35.091Z"
   },
   {
    "duration": 1698,
    "start_time": "2022-05-13T09:31:35.180Z"
   },
   {
    "duration": 203,
    "start_time": "2022-05-13T09:31:36.887Z"
   },
   {
    "duration": 67,
    "start_time": "2022-05-13T09:31:37.099Z"
   },
   {
    "duration": 483,
    "start_time": "2022-05-13T09:31:37.173Z"
   },
   {
    "duration": 47,
    "start_time": "2022-05-13T09:31:37.663Z"
   },
   {
    "duration": 518,
    "start_time": "2022-05-13T09:31:37.717Z"
   },
   {
    "duration": 16,
    "start_time": "2022-05-13T09:31:38.237Z"
   },
   {
    "duration": 1561,
    "start_time": "2022-05-13T09:31:38.261Z"
   },
   {
    "duration": 31,
    "start_time": "2022-05-13T09:31:39.824Z"
   },
   {
    "duration": 167,
    "start_time": "2022-05-13T09:31:39.858Z"
   },
   {
    "duration": 224,
    "start_time": "2022-05-13T09:31:40.027Z"
   },
   {
    "duration": 3,
    "start_time": "2022-05-13T09:31:40.254Z"
   },
   {
    "duration": 1077,
    "start_time": "2022-05-13T09:31:40.260Z"
   },
   {
    "duration": 6580,
    "start_time": "2022-05-13T09:31:41.338Z"
   },
   {
    "duration": 470895,
    "start_time": "2022-05-13T09:31:47.922Z"
   },
   {
    "duration": 42,
    "start_time": "2022-05-13T09:39:38.825Z"
   },
   {
    "duration": 244,
    "start_time": "2022-05-13T09:39:38.869Z"
   },
   {
    "duration": 9,
    "start_time": "2022-05-13T09:39:39.115Z"
   },
   {
    "duration": 75,
    "start_time": "2022-05-13T09:39:39.126Z"
   },
   {
    "duration": 171,
    "start_time": "2022-05-13T09:39:39.203Z"
   },
   {
    "duration": 8684717,
    "start_time": "2022-05-13T09:39:39.376Z"
   },
   {
    "duration": 3803578,
    "start_time": "2022-05-13T12:30:21.576Z"
   },
   {
    "duration": 14,
    "start_time": "2022-05-13T13:43:43.185Z"
   },
   {
    "duration": 243,
    "start_time": "2022-05-13T13:43:58.936Z"
   },
   {
    "duration": 144,
    "start_time": "2022-05-13T13:49:48.553Z"
   },
   {
    "duration": 269,
    "start_time": "2022-05-13T13:49:55.554Z"
   },
   {
    "duration": 4,
    "start_time": "2022-05-13T13:50:07.962Z"
   },
   {
    "duration": 258,
    "start_time": "2022-05-13T13:50:11.290Z"
   },
   {
    "duration": 44,
    "start_time": "2022-05-13T13:50:24.914Z"
   },
   {
    "duration": 37,
    "start_time": "2022-05-13T13:50:40.961Z"
   },
   {
    "duration": 8,
    "start_time": "2022-05-13T13:50:47.969Z"
   },
   {
    "duration": 9,
    "start_time": "2022-05-13T13:51:01.209Z"
   },
   {
    "duration": 248,
    "start_time": "2022-05-13T13:53:57.534Z"
   },
   {
    "duration": 13,
    "start_time": "2022-05-13T13:55:02.197Z"
   },
   {
    "duration": 15,
    "start_time": "2022-05-13T13:55:12.187Z"
   },
   {
    "duration": 34502,
    "start_time": "2022-05-13T13:56:33.300Z"
   },
   {
    "duration": 1075,
    "start_time": "2022-05-13T13:57:36.523Z"
   },
   {
    "duration": 2228,
    "start_time": "2022-05-13T13:59:24.320Z"
   },
   {
    "duration": 199,
    "start_time": "2022-05-13T14:00:22.456Z"
   },
   {
    "duration": 5,
    "start_time": "2022-05-13T14:06:17.049Z"
   },
   {
    "duration": 28,
    "start_time": "2022-05-13T14:06:18.786Z"
   },
   {
    "duration": 80,
    "start_time": "2022-05-13T14:06:22.474Z"
   },
   {
    "duration": 136603,
    "start_time": "2022-05-13T14:06:30.443Z"
   },
   {
    "duration": 6,
    "start_time": "2022-05-13T14:12:29.554Z"
   },
   {
    "duration": 27,
    "start_time": "2022-05-13T14:12:30.819Z"
   },
   {
    "duration": 84,
    "start_time": "2022-05-13T14:12:32.173Z"
   },
   {
    "duration": 134980,
    "start_time": "2022-05-13T14:12:33.868Z"
   },
   {
    "duration": 2580,
    "start_time": "2022-05-13T14:23:43.065Z"
   },
   {
    "duration": 2470,
    "start_time": "2022-05-13T14:24:13.880Z"
   },
   {
    "duration": 345,
    "start_time": "2022-05-13T14:24:18.999Z"
   },
   {
    "duration": 169,
    "start_time": "2022-05-13T14:25:28.591Z"
   },
   {
    "duration": 4910,
    "start_time": "2022-05-13T14:25:48.911Z"
   },
   {
    "duration": 130239,
    "start_time": "2022-05-13T14:25:57.405Z"
   },
   {
    "duration": 135709,
    "start_time": "2022-05-13T14:28:38.540Z"
   },
   {
    "duration": 1521,
    "start_time": "2022-05-13T14:33:26.605Z"
   },
   {
    "duration": 843,
    "start_time": "2022-05-13T14:33:28.128Z"
   },
   {
    "duration": 136,
    "start_time": "2022-05-13T14:33:28.973Z"
   },
   {
    "duration": 12,
    "start_time": "2022-05-13T14:33:29.111Z"
   },
   {
    "duration": 63,
    "start_time": "2022-05-13T14:33:29.125Z"
   },
   {
    "duration": 471,
    "start_time": "2022-05-13T14:33:29.190Z"
   },
   {
    "duration": 1011,
    "start_time": "2022-05-13T14:33:29.663Z"
   },
   {
    "duration": 268,
    "start_time": "2022-05-13T14:33:30.676Z"
   },
   {
    "duration": 33,
    "start_time": "2022-05-13T14:33:30.946Z"
   },
   {
    "duration": 338,
    "start_time": "2022-05-13T14:33:30.982Z"
   },
   {
    "duration": 37,
    "start_time": "2022-05-13T14:33:31.322Z"
   },
   {
    "duration": 133,
    "start_time": "2022-05-13T14:33:31.361Z"
   },
   {
    "duration": 255,
    "start_time": "2022-05-13T14:33:31.495Z"
   },
   {
    "duration": 2,
    "start_time": "2022-05-13T14:33:31.752Z"
   },
   {
    "duration": 169,
    "start_time": "2022-05-13T14:33:31.756Z"
   },
   {
    "duration": 37,
    "start_time": "2022-05-13T14:33:31.927Z"
   },
   {
    "duration": 128,
    "start_time": "2022-05-13T14:33:31.966Z"
   },
   {
    "duration": 28,
    "start_time": "2022-05-13T14:33:32.096Z"
   },
   {
    "duration": 175,
    "start_time": "2022-05-13T14:33:32.125Z"
   },
   {
    "duration": 136,
    "start_time": "2022-05-13T14:33:32.301Z"
   },
   {
    "duration": 105,
    "start_time": "2022-05-13T14:33:32.438Z"
   },
   {
    "duration": 35,
    "start_time": "2022-05-13T14:33:32.544Z"
   },
   {
    "duration": 206,
    "start_time": "2022-05-13T14:33:32.580Z"
   },
   {
    "duration": 100,
    "start_time": "2022-05-13T14:33:32.788Z"
   },
   {
    "duration": 37,
    "start_time": "2022-05-13T14:33:32.890Z"
   },
   {
    "duration": 762,
    "start_time": "2022-05-13T14:33:32.929Z"
   },
   {
    "duration": 104,
    "start_time": "2022-05-13T14:33:33.692Z"
   },
   {
    "duration": 44,
    "start_time": "2022-05-13T14:33:33.800Z"
   },
   {
    "duration": 180,
    "start_time": "2022-05-13T14:33:33.845Z"
   },
   {
    "duration": 29,
    "start_time": "2022-05-13T14:33:34.027Z"
   },
   {
    "duration": 249,
    "start_time": "2022-05-13T14:33:34.058Z"
   },
   {
    "duration": 9,
    "start_time": "2022-05-13T14:33:34.309Z"
   },
   {
    "duration": 813,
    "start_time": "2022-05-13T14:33:34.319Z"
   },
   {
    "duration": 20,
    "start_time": "2022-05-13T14:33:35.134Z"
   },
   {
    "duration": 33,
    "start_time": "2022-05-13T14:33:35.156Z"
   },
   {
    "duration": 103,
    "start_time": "2022-05-13T14:33:35.190Z"
   },
   {
    "duration": 2,
    "start_time": "2022-05-13T14:33:35.295Z"
   },
   {
    "duration": 249,
    "start_time": "2022-05-13T14:33:35.300Z"
   },
   {
    "duration": 4044,
    "start_time": "2022-05-13T14:33:35.551Z"
   },
   {
    "duration": 284991,
    "start_time": "2022-05-13T14:33:39.600Z"
   },
   {
    "duration": 9,
    "start_time": "2022-05-13T14:38:24.593Z"
   },
   {
    "duration": 166,
    "start_time": "2022-05-13T14:38:24.604Z"
   },
   {
    "duration": 5,
    "start_time": "2022-05-13T14:38:24.771Z"
   },
   {
    "duration": 37,
    "start_time": "2022-05-13T14:38:24.777Z"
   },
   {
    "duration": 92,
    "start_time": "2022-05-13T14:38:24.816Z"
   },
   {
    "duration": 181034,
    "start_time": "2022-05-13T14:38:24.910Z"
   },
   {
    "duration": 39,
    "start_time": "2022-05-13T14:41:25.945Z"
   },
   {
    "duration": 61,
    "start_time": "2022-05-13T14:41:25.986Z"
   },
   {
    "duration": 430,
    "start_time": "2022-05-13T14:41:26.050Z"
   },
   {
    "duration": 14,
    "start_time": "2022-05-13T14:41:26.481Z"
   },
   {
    "duration": 37706,
    "start_time": "2022-05-13T14:41:26.496Z"
   },
   {
    "duration": 1154,
    "start_time": "2022-05-13T14:42:04.204Z"
   },
   {
    "duration": 2590,
    "start_time": "2022-05-13T14:42:05.360Z"
   },
   {
    "duration": 405,
    "start_time": "2022-05-13T14:42:07.952Z"
   },
   {
    "duration": 171010,
    "start_time": "2022-05-13T15:06:54.214Z"
   },
   {
    "duration": 3960,
    "start_time": "2022-05-13T15:14:53.348Z"
   },
   {
    "duration": 261617,
    "start_time": "2022-05-13T15:15:31.271Z"
   },
   {
    "duration": 163,
    "start_time": "2022-05-13T15:19:52.890Z"
   },
   {
    "duration": 1691,
    "start_time": "2022-05-13T15:21:05.436Z"
   },
   {
    "duration": 938,
    "start_time": "2022-05-13T15:21:07.129Z"
   },
   {
    "duration": 155,
    "start_time": "2022-05-13T15:21:08.069Z"
   },
   {
    "duration": 18,
    "start_time": "2022-05-13T15:21:08.227Z"
   },
   {
    "duration": 83,
    "start_time": "2022-05-13T15:21:08.247Z"
   },
   {
    "duration": 501,
    "start_time": "2022-05-13T15:21:08.332Z"
   },
   {
    "duration": 654,
    "start_time": "2022-05-13T15:21:08.834Z"
   },
   {
    "duration": 128,
    "start_time": "2022-05-13T15:21:09.490Z"
   },
   {
    "duration": 42,
    "start_time": "2022-05-13T15:21:09.620Z"
   },
   {
    "duration": 195,
    "start_time": "2022-05-13T15:21:09.665Z"
   },
   {
    "duration": 31,
    "start_time": "2022-05-13T15:21:09.862Z"
   },
   {
    "duration": 249,
    "start_time": "2022-05-13T15:21:09.895Z"
   },
   {
    "duration": 595,
    "start_time": "2022-05-13T15:21:10.145Z"
   },
   {
    "duration": 2,
    "start_time": "2022-05-13T15:21:10.742Z"
   },
   {
    "duration": 291,
    "start_time": "2022-05-13T15:21:10.746Z"
   },
   {
    "duration": 50,
    "start_time": "2022-05-13T15:21:11.042Z"
   },
   {
    "duration": 176,
    "start_time": "2022-05-13T15:21:11.093Z"
   },
   {
    "duration": 28,
    "start_time": "2022-05-13T15:21:11.271Z"
   },
   {
    "duration": 186,
    "start_time": "2022-05-13T15:21:11.300Z"
   },
   {
    "duration": 134,
    "start_time": "2022-05-13T15:21:11.488Z"
   },
   {
    "duration": 107,
    "start_time": "2022-05-13T15:21:11.625Z"
   },
   {
    "duration": 40,
    "start_time": "2022-05-13T15:21:11.733Z"
   },
   {
    "duration": 336,
    "start_time": "2022-05-13T15:21:11.775Z"
   },
   {
    "duration": 181,
    "start_time": "2022-05-13T15:21:12.114Z"
   },
   {
    "duration": 63,
    "start_time": "2022-05-13T15:21:12.298Z"
   },
   {
    "duration": 1420,
    "start_time": "2022-05-13T15:21:12.364Z"
   },
   {
    "duration": 187,
    "start_time": "2022-05-13T15:21:13.786Z"
   },
   {
    "duration": 41,
    "start_time": "2022-05-13T15:21:13.976Z"
   },
   {
    "duration": 226,
    "start_time": "2022-05-13T15:21:14.019Z"
   },
   {
    "duration": 24,
    "start_time": "2022-05-13T15:21:14.248Z"
   },
   {
    "duration": 285,
    "start_time": "2022-05-13T15:21:14.274Z"
   },
   {
    "duration": 11,
    "start_time": "2022-05-13T15:21:14.562Z"
   },
   {
    "duration": 944,
    "start_time": "2022-05-13T15:21:14.575Z"
   },
   {
    "duration": 24,
    "start_time": "2022-05-13T15:21:15.521Z"
   },
   {
    "duration": 70,
    "start_time": "2022-05-13T15:21:15.547Z"
   },
   {
    "duration": 163,
    "start_time": "2022-05-13T15:21:15.619Z"
   },
   {
    "duration": 4,
    "start_time": "2022-05-13T15:21:15.784Z"
   },
   {
    "duration": 382,
    "start_time": "2022-05-13T15:21:15.790Z"
   },
   {
    "duration": 6531,
    "start_time": "2022-05-13T15:21:16.174Z"
   },
   {
    "duration": 331187,
    "start_time": "2022-05-13T15:21:22.707Z"
   },
   {
    "duration": 17,
    "start_time": "2022-05-13T15:26:53.896Z"
   },
   {
    "duration": 168,
    "start_time": "2022-05-13T15:26:53.915Z"
   },
   {
    "duration": 5,
    "start_time": "2022-05-13T15:26:54.085Z"
   },
   {
    "duration": 61,
    "start_time": "2022-05-13T15:26:54.091Z"
   },
   {
    "duration": 108,
    "start_time": "2022-05-13T15:26:54.154Z"
   },
   {
    "duration": 523884,
    "start_time": "2022-05-13T15:26:54.264Z"
   },
   {
    "duration": 104,
    "start_time": "2022-05-13T15:35:38.150Z"
   },
   {
    "duration": 92,
    "start_time": "2022-05-13T15:35:38.255Z"
   },
   {
    "duration": 386,
    "start_time": "2022-05-13T15:35:38.350Z"
   },
   {
    "duration": 17,
    "start_time": "2022-05-13T15:35:38.738Z"
   },
   {
    "duration": 40845,
    "start_time": "2022-05-13T15:35:38.757Z"
   },
   {
    "duration": 1164,
    "start_time": "2022-05-13T15:36:19.604Z"
   },
   {
    "duration": 3075,
    "start_time": "2022-05-13T15:36:20.769Z"
   },
   {
    "duration": 401,
    "start_time": "2022-05-13T15:36:23.846Z"
   },
   {
    "duration": 8,
    "start_time": "2022-05-13T15:36:24.248Z"
   },
   {
    "duration": 14,
    "start_time": "2022-05-13T15:36:24.258Z"
   },
   {
    "duration": 7,
    "start_time": "2022-05-13T15:37:00.906Z"
   },
   {
    "duration": 757375,
    "start_time": "2022-05-13T15:41:04.679Z"
   },
   {
    "duration": 345597,
    "start_time": "2022-05-13T16:03:24.546Z"
   },
   {
    "duration": 146593,
    "start_time": "2022-05-13T16:10:54.158Z"
   },
   {
    "duration": 325,
    "start_time": "2022-05-13T16:13:33.620Z"
   },
   {
    "duration": 296,
    "start_time": "2022-05-13T16:13:40.380Z"
   },
   {
    "duration": 174,
    "start_time": "2022-05-13T16:15:33.043Z"
   },
   {
    "duration": 1836,
    "start_time": "2022-05-13T16:18:30.588Z"
   },
   {
    "duration": 1052,
    "start_time": "2022-05-13T16:18:32.426Z"
   },
   {
    "duration": 149,
    "start_time": "2022-05-13T16:18:33.480Z"
   },
   {
    "duration": 155,
    "start_time": "2022-05-13T16:18:33.633Z"
   },
   {
    "duration": 58,
    "start_time": "2022-05-13T16:18:33.790Z"
   },
   {
    "duration": 624,
    "start_time": "2022-05-13T16:18:33.852Z"
   },
   {
    "duration": 743,
    "start_time": "2022-05-13T16:18:34.478Z"
   },
   {
    "duration": 159,
    "start_time": "2022-05-13T16:18:35.223Z"
   },
   {
    "duration": 55,
    "start_time": "2022-05-13T16:18:35.384Z"
   },
   {
    "duration": 339,
    "start_time": "2022-05-13T16:18:35.443Z"
   },
   {
    "duration": 72,
    "start_time": "2022-05-13T16:18:35.785Z"
   },
   {
    "duration": 20,
    "start_time": "2022-05-13T16:18:35.860Z"
   },
   {
    "duration": 265,
    "start_time": "2022-05-13T16:18:35.882Z"
   },
   {
    "duration": 363,
    "start_time": "2022-05-13T16:18:36.149Z"
   },
   {
    "duration": 283,
    "start_time": "2022-05-13T16:18:36.513Z"
   },
   {
    "duration": 53,
    "start_time": "2022-05-13T16:18:36.797Z"
   },
   {
    "duration": 16,
    "start_time": "2022-05-13T16:18:36.853Z"
   },
   {
    "duration": 183,
    "start_time": "2022-05-13T16:18:36.871Z"
   },
   {
    "duration": 30,
    "start_time": "2022-05-13T16:18:37.057Z"
   },
   {
    "duration": 197,
    "start_time": "2022-05-13T16:18:37.089Z"
   },
   {
    "duration": 3,
    "start_time": "2022-05-13T16:18:37.289Z"
   },
   {
    "duration": 171,
    "start_time": "2022-05-13T16:18:37.294Z"
   },
   {
    "duration": 113,
    "start_time": "2022-05-13T16:18:37.467Z"
   },
   {
    "duration": 37,
    "start_time": "2022-05-13T16:18:37.582Z"
   },
   {
    "duration": 266,
    "start_time": "2022-05-13T16:18:37.621Z"
   },
   {
    "duration": 116,
    "start_time": "2022-05-13T16:18:37.890Z"
   },
   {
    "duration": 54,
    "start_time": "2022-05-13T16:18:38.009Z"
   },
   {
    "duration": 1125,
    "start_time": "2022-05-13T16:18:38.069Z"
   },
   {
    "duration": 157,
    "start_time": "2022-05-13T16:18:39.196Z"
   },
   {
    "duration": 38,
    "start_time": "2022-05-13T16:18:39.356Z"
   },
   {
    "duration": 221,
    "start_time": "2022-05-13T16:18:39.396Z"
   },
   {
    "duration": 40,
    "start_time": "2022-05-13T16:18:39.619Z"
   },
   {
    "duration": 408,
    "start_time": "2022-05-13T16:18:39.662Z"
   },
   {
    "duration": 12,
    "start_time": "2022-05-13T16:18:40.074Z"
   },
   {
    "duration": 1031,
    "start_time": "2022-05-13T16:18:40.088Z"
   },
   {
    "duration": 31,
    "start_time": "2022-05-13T16:18:41.121Z"
   },
   {
    "duration": 55,
    "start_time": "2022-05-13T16:18:41.154Z"
   },
   {
    "duration": 169,
    "start_time": "2022-05-13T16:18:41.211Z"
   },
   {
    "duration": 5,
    "start_time": "2022-05-13T16:18:41.382Z"
   },
   {
    "duration": 1256,
    "start_time": "2022-05-13T16:18:41.389Z"
   },
   {
    "duration": 6022,
    "start_time": "2022-05-13T16:18:42.649Z"
   },
   {
    "duration": 342405,
    "start_time": "2022-05-13T16:18:48.675Z"
   },
   {
    "duration": 9,
    "start_time": "2022-05-13T16:24:31.082Z"
   },
   {
    "duration": 169,
    "start_time": "2022-05-13T16:24:31.093Z"
   },
   {
    "duration": 6,
    "start_time": "2022-05-13T16:24:31.264Z"
   },
   {
    "duration": 38,
    "start_time": "2022-05-13T16:24:31.272Z"
   },
   {
    "duration": 92,
    "start_time": "2022-05-13T16:24:31.312Z"
   },
   {
    "duration": 1226145,
    "start_time": "2022-05-13T16:24:31.406Z"
   },
   {
    "duration": 110,
    "start_time": "2022-05-13T16:44:57.553Z"
   },
   {
    "duration": 78,
    "start_time": "2022-05-13T16:44:57.665Z"
   },
   {
    "duration": 310,
    "start_time": "2022-05-13T16:44:57.746Z"
   },
   {
    "duration": 11,
    "start_time": "2022-05-13T16:44:58.058Z"
   },
   {
    "duration": 29746,
    "start_time": "2022-05-13T16:44:58.071Z"
   },
   {
    "duration": 959,
    "start_time": "2022-05-13T16:45:27.819Z"
   },
   {
    "duration": 1871,
    "start_time": "2022-05-13T16:45:28.781Z"
   },
   {
    "duration": 299,
    "start_time": "2022-05-13T16:45:30.654Z"
   },
   {
    "duration": 9,
    "start_time": "2022-05-13T16:45:30.955Z"
   },
   {
    "duration": 78,
    "start_time": "2022-05-13T16:45:30.965Z"
   },
   {
    "duration": 3168,
    "start_time": "2022-05-13T16:55:38.760Z"
   },
   {
    "duration": 1147,
    "start_time": "2022-05-13T16:55:41.931Z"
   },
   {
    "duration": 161,
    "start_time": "2022-05-13T16:55:43.083Z"
   },
   {
    "duration": 15,
    "start_time": "2022-05-13T16:55:43.246Z"
   },
   {
    "duration": 81,
    "start_time": "2022-05-13T16:55:43.264Z"
   },
   {
    "duration": 654,
    "start_time": "2022-05-13T16:55:43.348Z"
   },
   {
    "duration": 815,
    "start_time": "2022-05-13T16:55:44.004Z"
   },
   {
    "duration": 229,
    "start_time": "2022-05-13T16:55:44.821Z"
   },
   {
    "duration": 36,
    "start_time": "2022-05-13T16:55:45.054Z"
   },
   {
    "duration": 213,
    "start_time": "2022-05-13T16:55:45.092Z"
   },
   {
    "duration": 40,
    "start_time": "2022-05-13T16:55:45.307Z"
   },
   {
    "duration": 143,
    "start_time": "2022-05-13T16:55:45.348Z"
   },
   {
    "duration": 2,
    "start_time": "2022-05-13T16:55:45.493Z"
   },
   {
    "duration": 275,
    "start_time": "2022-05-13T16:55:45.497Z"
   },
   {
    "duration": 184,
    "start_time": "2022-05-13T16:55:45.774Z"
   },
   {
    "duration": 30,
    "start_time": "2022-05-13T16:55:45.960Z"
   },
   {
    "duration": 152,
    "start_time": "2022-05-13T16:55:45.992Z"
   },
   {
    "duration": 3,
    "start_time": "2022-05-13T16:55:46.145Z"
   },
   {
    "duration": 32,
    "start_time": "2022-05-13T16:55:46.149Z"
   },
   {
    "duration": 195,
    "start_time": "2022-05-13T16:55:46.182Z"
   },
   {
    "duration": 142,
    "start_time": "2022-05-13T16:55:46.379Z"
   },
   {
    "duration": 3,
    "start_time": "2022-05-13T16:55:46.522Z"
   },
   {
    "duration": 118,
    "start_time": "2022-05-13T16:55:46.526Z"
   },
   {
    "duration": 39,
    "start_time": "2022-05-13T16:55:46.646Z"
   },
   {
    "duration": 225,
    "start_time": "2022-05-13T16:55:46.686Z"
   },
   {
    "duration": 111,
    "start_time": "2022-05-13T16:55:46.913Z"
   },
   {
    "duration": 47,
    "start_time": "2022-05-13T16:55:47.029Z"
   },
   {
    "duration": 787,
    "start_time": "2022-05-13T16:55:47.078Z"
   },
   {
    "duration": 118,
    "start_time": "2022-05-13T16:55:47.867Z"
   },
   {
    "duration": 40,
    "start_time": "2022-05-13T16:55:47.987Z"
   },
   {
    "duration": 197,
    "start_time": "2022-05-13T16:55:48.029Z"
   },
   {
    "duration": 25,
    "start_time": "2022-05-13T16:55:48.228Z"
   },
   {
    "duration": 258,
    "start_time": "2022-05-13T16:55:48.255Z"
   },
   {
    "duration": 9,
    "start_time": "2022-05-13T16:55:48.515Z"
   },
   {
    "duration": 857,
    "start_time": "2022-05-13T16:55:48.526Z"
   },
   {
    "duration": 15,
    "start_time": "2022-05-13T16:55:49.385Z"
   },
   {
    "duration": 75,
    "start_time": "2022-05-13T16:55:49.401Z"
   },
   {
    "duration": 185,
    "start_time": "2022-05-13T16:55:49.479Z"
   },
   {
    "duration": 3,
    "start_time": "2022-05-13T16:55:49.667Z"
   },
   {
    "duration": 1075,
    "start_time": "2022-05-13T16:55:49.672Z"
   },
   {
    "duration": 4461,
    "start_time": "2022-05-13T16:55:50.749Z"
   },
   {
    "duration": 358551,
    "start_time": "2022-05-13T16:55:55.212Z"
   },
   {
    "duration": 16,
    "start_time": "2022-05-13T17:01:53.765Z"
   },
   {
    "duration": 178,
    "start_time": "2022-05-13T17:01:53.783Z"
   },
   {
    "duration": 5,
    "start_time": "2022-05-13T17:01:53.963Z"
   },
   {
    "duration": 36,
    "start_time": "2022-05-13T17:01:53.970Z"
   },
   {
    "duration": 114,
    "start_time": "2022-05-13T17:01:54.007Z"
   },
   {
    "duration": 2296627,
    "start_time": "2022-05-13T17:01:54.123Z"
   },
   {
    "duration": 114,
    "start_time": "2022-05-13T17:40:10.752Z"
   },
   {
    "duration": 77,
    "start_time": "2022-05-13T17:40:10.869Z"
   },
   {
    "duration": 537,
    "start_time": "2022-05-13T17:40:10.949Z"
   },
   {
    "duration": 16,
    "start_time": "2022-05-13T17:40:11.488Z"
   },
   {
    "duration": 59495,
    "start_time": "2022-05-13T17:40:11.506Z"
   },
   {
    "duration": 1558,
    "start_time": "2022-05-13T17:41:11.004Z"
   },
   {
    "duration": 37586,
    "start_time": "2022-05-13T17:41:12.565Z"
   },
   {
    "duration": 314,
    "start_time": "2022-05-13T17:41:50.152Z"
   },
   {
    "duration": 76,
    "start_time": "2022-05-13T17:41:50.468Z"
   },
   {
    "duration": 6,
    "start_time": "2022-05-13T17:41:50.546Z"
   },
   {
    "duration": 45349,
    "start_time": "2022-05-13T19:08:33.041Z"
   },
   {
    "duration": 90296,
    "start_time": "2022-05-13T19:09:22.724Z"
   },
   {
    "duration": 2620,
    "start_time": "2022-05-13T19:18:30.036Z"
   },
   {
    "duration": 1647,
    "start_time": "2022-05-13T19:18:32.662Z"
   },
   {
    "duration": 181,
    "start_time": "2022-05-13T19:18:34.310Z"
   },
   {
    "duration": 15,
    "start_time": "2022-05-13T19:18:34.495Z"
   },
   {
    "duration": 83,
    "start_time": "2022-05-13T19:18:34.512Z"
   },
   {
    "duration": 763,
    "start_time": "2022-05-13T19:18:34.597Z"
   },
   {
    "duration": 851,
    "start_time": "2022-05-13T19:18:35.363Z"
   },
   {
    "duration": 235,
    "start_time": "2022-05-13T19:18:36.217Z"
   },
   {
    "duration": 73,
    "start_time": "2022-05-13T19:18:36.454Z"
   },
   {
    "duration": 223,
    "start_time": "2022-05-13T19:18:36.530Z"
   },
   {
    "duration": 43,
    "start_time": "2022-05-13T19:18:36.755Z"
   },
   {
    "duration": 216,
    "start_time": "2022-05-13T19:18:36.800Z"
   },
   {
    "duration": 3,
    "start_time": "2022-05-13T19:18:37.017Z"
   },
   {
    "duration": 289,
    "start_time": "2022-05-13T19:18:37.021Z"
   },
   {
    "duration": 202,
    "start_time": "2022-05-13T19:18:37.312Z"
   },
   {
    "duration": 42,
    "start_time": "2022-05-13T19:18:37.515Z"
   },
   {
    "duration": 142,
    "start_time": "2022-05-13T19:18:37.559Z"
   },
   {
    "duration": 3,
    "start_time": "2022-05-13T19:18:37.703Z"
   },
   {
    "duration": 69,
    "start_time": "2022-05-13T19:18:37.708Z"
   },
   {
    "duration": 318,
    "start_time": "2022-05-13T19:18:37.780Z"
   },
   {
    "duration": 239,
    "start_time": "2022-05-13T19:18:38.101Z"
   },
   {
    "duration": 4,
    "start_time": "2022-05-13T19:18:38.341Z"
   },
   {
    "duration": 133,
    "start_time": "2022-05-13T19:18:38.347Z"
   },
   {
    "duration": 39,
    "start_time": "2022-05-13T19:18:38.482Z"
   },
   {
    "duration": 286,
    "start_time": "2022-05-13T19:18:38.523Z"
   },
   {
    "duration": 135,
    "start_time": "2022-05-13T19:18:38.811Z"
   },
   {
    "duration": 54,
    "start_time": "2022-05-13T19:18:38.949Z"
   },
   {
    "duration": 986,
    "start_time": "2022-05-13T19:18:39.007Z"
   },
   {
    "duration": 127,
    "start_time": "2022-05-13T19:18:39.995Z"
   },
   {
    "duration": 57,
    "start_time": "2022-05-13T19:18:40.123Z"
   },
   {
    "duration": 246,
    "start_time": "2022-05-13T19:18:40.182Z"
   },
   {
    "duration": 49,
    "start_time": "2022-05-13T19:18:40.429Z"
   },
   {
    "duration": 325,
    "start_time": "2022-05-13T19:18:40.481Z"
   },
   {
    "duration": 9,
    "start_time": "2022-05-13T19:18:40.808Z"
   },
   {
    "duration": 990,
    "start_time": "2022-05-13T19:18:40.818Z"
   },
   {
    "duration": 14,
    "start_time": "2022-05-13T19:18:41.810Z"
   },
   {
    "duration": 67,
    "start_time": "2022-05-13T19:18:41.827Z"
   },
   {
    "duration": 138,
    "start_time": "2022-05-13T19:18:41.896Z"
   },
   {
    "duration": 7,
    "start_time": "2022-05-13T19:18:42.036Z"
   },
   {
    "duration": 1102,
    "start_time": "2022-05-13T19:18:42.046Z"
   },
   {
    "duration": 6114,
    "start_time": "2022-05-13T19:18:43.151Z"
   },
   {
    "duration": 376263,
    "start_time": "2022-05-13T19:18:49.267Z"
   },
   {
    "duration": 31,
    "start_time": "2022-05-13T19:25:05.532Z"
   },
   {
    "duration": 173,
    "start_time": "2022-05-13T19:25:05.564Z"
   },
   {
    "duration": 141,
    "start_time": "2022-05-13T19:25:05.743Z"
   },
   {
    "duration": 0,
    "start_time": "2022-05-13T19:25:05.886Z"
   },
   {
    "duration": 0,
    "start_time": "2022-05-13T19:25:05.888Z"
   },
   {
    "duration": 0,
    "start_time": "2022-05-13T19:25:05.889Z"
   },
   {
    "duration": 0,
    "start_time": "2022-05-13T19:25:05.891Z"
   },
   {
    "duration": 0,
    "start_time": "2022-05-13T19:25:05.892Z"
   },
   {
    "duration": 0,
    "start_time": "2022-05-13T19:25:05.893Z"
   },
   {
    "duration": 0,
    "start_time": "2022-05-13T19:25:05.894Z"
   },
   {
    "duration": 0,
    "start_time": "2022-05-13T19:25:05.895Z"
   },
   {
    "duration": 0,
    "start_time": "2022-05-13T19:25:05.896Z"
   },
   {
    "duration": 0,
    "start_time": "2022-05-13T19:25:05.898Z"
   },
   {
    "duration": 0,
    "start_time": "2022-05-13T19:25:05.900Z"
   },
   {
    "duration": 0,
    "start_time": "2022-05-13T19:25:05.901Z"
   },
   {
    "duration": 0,
    "start_time": "2022-05-13T19:25:05.902Z"
   },
   {
    "duration": 6,
    "start_time": "2022-05-13T19:29:14.687Z"
   },
   {
    "duration": 46,
    "start_time": "2022-05-13T19:29:16.765Z"
   },
   {
    "duration": 123,
    "start_time": "2022-05-13T19:29:17.775Z"
   },
   {
    "duration": 1447699,
    "start_time": "2022-05-13T19:29:19.570Z"
   },
   {
    "duration": 13573,
    "start_time": "2022-05-13T19:53:55.673Z"
   },
   {
    "duration": 1107494,
    "start_time": "2022-05-13T19:54:18.976Z"
   },
   {
    "duration": 10,
    "start_time": "2022-05-13T20:13:10.579Z"
   },
   {
    "duration": 3,
    "start_time": "2022-05-13T20:13:15.267Z"
   },
   {
    "duration": 3,
    "start_time": "2022-05-13T20:13:17.964Z"
   },
   {
    "duration": 885,
    "start_time": "2022-05-13T20:13:20.460Z"
   },
   {
    "duration": 5118,
    "start_time": "2022-05-13T20:13:23.988Z"
   },
   {
    "duration": 314728,
    "start_time": "2022-05-13T20:13:33.003Z"
   },
   {
    "duration": 3,
    "start_time": "2022-05-13T20:19:40.919Z"
   },
   {
    "duration": 9,
    "start_time": "2022-05-13T20:19:50.302Z"
   },
   {
    "duration": 181,
    "start_time": "2022-05-13T20:19:51.888Z"
   },
   {
    "duration": 5,
    "start_time": "2022-05-13T20:19:54.727Z"
   },
   {
    "duration": 29,
    "start_time": "2022-05-13T20:19:55.563Z"
   },
   {
    "duration": 92,
    "start_time": "2022-05-13T20:19:56.383Z"
   },
   {
    "duration": 3,
    "start_time": "2022-05-13T20:19:57.510Z"
   },
   {
    "duration": 110460,
    "start_time": "2022-05-13T20:19:59.176Z"
   },
   {
    "duration": 10,
    "start_time": "2022-05-13T20:26:17.087Z"
   },
   {
    "duration": 7,
    "start_time": "2022-05-13T20:26:25.342Z"
   },
   {
    "duration": 1145,
    "start_time": "2022-05-13T20:26:25.351Z"
   },
   {
    "duration": 92,
    "start_time": "2022-05-13T20:26:26.498Z"
   },
   {
    "duration": 13,
    "start_time": "2022-05-13T20:26:26.593Z"
   },
   {
    "duration": 65,
    "start_time": "2022-05-13T20:26:26.607Z"
   },
   {
    "duration": 481,
    "start_time": "2022-05-13T20:26:26.674Z"
   },
   {
    "duration": 554,
    "start_time": "2022-05-13T20:26:27.157Z"
   },
   {
    "duration": 144,
    "start_time": "2022-05-13T20:26:27.714Z"
   },
   {
    "duration": 36,
    "start_time": "2022-05-13T20:26:27.862Z"
   },
   {
    "duration": 197,
    "start_time": "2022-05-13T20:26:27.900Z"
   },
   {
    "duration": 30,
    "start_time": "2022-05-13T20:26:28.099Z"
   },
   {
    "duration": 168,
    "start_time": "2022-05-13T20:26:28.143Z"
   },
   {
    "duration": 3,
    "start_time": "2022-05-13T20:26:28.312Z"
   },
   {
    "duration": 303,
    "start_time": "2022-05-13T20:26:28.316Z"
   },
   {
    "duration": 188,
    "start_time": "2022-05-13T20:26:28.621Z"
   },
   {
    "duration": 42,
    "start_time": "2022-05-13T20:26:28.811Z"
   },
   {
    "duration": 140,
    "start_time": "2022-05-13T20:26:28.856Z"
   },
   {
    "duration": 3,
    "start_time": "2022-05-13T20:26:28.997Z"
   },
   {
    "duration": 42,
    "start_time": "2022-05-13T20:26:29.002Z"
   },
   {
    "duration": 202,
    "start_time": "2022-05-13T20:26:29.046Z"
   },
   {
    "duration": 149,
    "start_time": "2022-05-13T20:26:29.249Z"
   },
   {
    "duration": 3,
    "start_time": "2022-05-13T20:26:29.400Z"
   },
   {
    "duration": 119,
    "start_time": "2022-05-13T20:26:29.404Z"
   },
   {
    "duration": 45,
    "start_time": "2022-05-13T20:26:29.528Z"
   },
   {
    "duration": 213,
    "start_time": "2022-05-13T20:26:29.575Z"
   },
   {
    "duration": 113,
    "start_time": "2022-05-13T20:26:29.790Z"
   },
   {
    "duration": 40,
    "start_time": "2022-05-13T20:26:29.905Z"
   },
   {
    "duration": 750,
    "start_time": "2022-05-13T20:26:29.950Z"
   },
   {
    "duration": 115,
    "start_time": "2022-05-13T20:26:30.702Z"
   },
   {
    "duration": 45,
    "start_time": "2022-05-13T20:26:30.819Z"
   },
   {
    "duration": 205,
    "start_time": "2022-05-13T20:26:30.866Z"
   },
   {
    "duration": 30,
    "start_time": "2022-05-13T20:26:31.074Z"
   },
   {
    "duration": 421,
    "start_time": "2022-05-13T20:26:31.107Z"
   },
   {
    "duration": 18,
    "start_time": "2022-05-13T20:26:31.530Z"
   },
   {
    "duration": 923,
    "start_time": "2022-05-13T20:26:31.550Z"
   },
   {
    "duration": 14,
    "start_time": "2022-05-13T20:26:32.475Z"
   },
   {
    "duration": 55,
    "start_time": "2022-05-13T20:26:32.491Z"
   },
   {
    "duration": 84,
    "start_time": "2022-05-13T20:26:32.547Z"
   },
   {
    "duration": 2,
    "start_time": "2022-05-13T20:26:35.935Z"
   },
   {
    "duration": 13,
    "start_time": "2022-05-13T20:26:50.151Z"
   },
   {
    "duration": 6,
    "start_time": "2022-05-13T20:27:29.989Z"
   },
   {
    "duration": 863,
    "start_time": "2022-05-13T20:27:29.997Z"
   },
   {
    "duration": 91,
    "start_time": "2022-05-13T20:27:30.861Z"
   },
   {
    "duration": 16,
    "start_time": "2022-05-13T20:27:30.958Z"
   },
   {
    "duration": 55,
    "start_time": "2022-05-13T20:27:30.976Z"
   },
   {
    "duration": 461,
    "start_time": "2022-05-13T20:27:31.033Z"
   },
   {
    "duration": 526,
    "start_time": "2022-05-13T20:27:31.495Z"
   },
   {
    "duration": 159,
    "start_time": "2022-05-13T20:27:32.023Z"
   },
   {
    "duration": 36,
    "start_time": "2022-05-13T20:27:32.184Z"
   },
   {
    "duration": 220,
    "start_time": "2022-05-13T20:27:32.222Z"
   },
   {
    "duration": 37,
    "start_time": "2022-05-13T20:27:32.445Z"
   },
   {
    "duration": 191,
    "start_time": "2022-05-13T20:27:32.483Z"
   },
   {
    "duration": 2,
    "start_time": "2022-05-13T20:27:32.676Z"
   },
   {
    "duration": 306,
    "start_time": "2022-05-13T20:27:32.680Z"
   },
   {
    "duration": 195,
    "start_time": "2022-05-13T20:27:32.987Z"
   },
   {
    "duration": 30,
    "start_time": "2022-05-13T20:27:33.184Z"
   },
   {
    "duration": 139,
    "start_time": "2022-05-13T20:27:33.215Z"
   },
   {
    "duration": 4,
    "start_time": "2022-05-13T20:27:33.356Z"
   },
   {
    "duration": 42,
    "start_time": "2022-05-13T20:27:33.361Z"
   },
   {
    "duration": 213,
    "start_time": "2022-05-13T20:27:33.404Z"
   },
   {
    "duration": 160,
    "start_time": "2022-05-13T20:27:33.618Z"
   },
   {
    "duration": 3,
    "start_time": "2022-05-13T20:27:33.780Z"
   },
   {
    "duration": 118,
    "start_time": "2022-05-13T20:27:33.785Z"
   },
   {
    "duration": 42,
    "start_time": "2022-05-13T20:27:33.905Z"
   },
   {
    "duration": 211,
    "start_time": "2022-05-13T20:27:33.949Z"
   },
   {
    "duration": 111,
    "start_time": "2022-05-13T20:27:34.163Z"
   },
   {
    "duration": 38,
    "start_time": "2022-05-13T20:27:34.277Z"
   },
   {
    "duration": 950,
    "start_time": "2022-05-13T20:27:34.318Z"
   },
   {
    "duration": 113,
    "start_time": "2022-05-13T20:27:35.270Z"
   },
   {
    "duration": 32,
    "start_time": "2022-05-13T20:27:35.384Z"
   },
   {
    "duration": 204,
    "start_time": "2022-05-13T20:27:35.418Z"
   },
   {
    "duration": 31,
    "start_time": "2022-05-13T20:27:35.624Z"
   },
   {
    "duration": 407,
    "start_time": "2022-05-13T20:27:35.657Z"
   },
   {
    "duration": 8,
    "start_time": "2022-05-13T20:27:36.066Z"
   },
   {
    "duration": 903,
    "start_time": "2022-05-13T20:27:36.076Z"
   },
   {
    "duration": 13,
    "start_time": "2022-05-13T20:27:36.981Z"
   },
   {
    "duration": 59,
    "start_time": "2022-05-13T20:27:36.996Z"
   },
   {
    "duration": 84,
    "start_time": "2022-05-13T20:27:37.059Z"
   },
   {
    "duration": 3,
    "start_time": "2022-05-13T20:27:37.147Z"
   },
   {
    "duration": 17,
    "start_time": "2022-05-13T20:27:37.151Z"
   },
   {
    "duration": 807,
    "start_time": "2022-05-13T20:27:37.170Z"
   },
   {
    "duration": 5244,
    "start_time": "2022-05-13T20:27:37.979Z"
   },
   {
    "duration": 355352,
    "start_time": "2022-05-13T20:27:43.225Z"
   },
   {
    "duration": 11,
    "start_time": "2022-05-13T20:33:38.579Z"
   },
   {
    "duration": 188,
    "start_time": "2022-05-13T20:33:38.592Z"
   },
   {
    "duration": 5,
    "start_time": "2022-05-13T20:33:38.781Z"
   },
   {
    "duration": 29,
    "start_time": "2022-05-13T20:33:38.788Z"
   },
   {
    "duration": 117,
    "start_time": "2022-05-13T20:33:38.818Z"
   },
   {
    "duration": 3,
    "start_time": "2022-05-13T20:44:31.206Z"
   },
   {
    "duration": 103038,
    "start_time": "2022-05-13T20:44:32.815Z"
   },
   {
    "duration": 39,
    "start_time": "2022-05-13T20:46:29.870Z"
   },
   {
    "duration": 12,
    "start_time": "2022-05-13T20:46:31.528Z"
   },
   {
    "duration": 279,
    "start_time": "2022-05-13T20:46:33.581Z"
   },
   {
    "duration": 13,
    "start_time": "2022-05-13T20:46:39.233Z"
   },
   {
    "duration": 36559,
    "start_time": "2022-05-13T20:46:40.701Z"
   },
   {
    "duration": 1114,
    "start_time": "2022-05-13T20:47:22.754Z"
   },
   {
    "duration": 118576,
    "start_time": "2022-05-13T20:47:26.274Z"
   },
   {
    "duration": 279,
    "start_time": "2022-05-13T20:49:29.088Z"
   },
   {
    "duration": 120829,
    "start_time": "2022-05-13T20:49:39.824Z"
   },
   {
    "duration": 373,
    "start_time": "2022-05-13T20:52:31.388Z"
   },
   {
    "duration": 9,
    "start_time": "2022-05-13T20:52:35.379Z"
   },
   {
    "duration": 7,
    "start_time": "2022-05-13T20:52:37.604Z"
   },
   {
    "duration": 67073,
    "start_time": "2022-05-13T20:56:11.449Z"
   },
   {
    "duration": 584140,
    "start_time": "2022-05-13T21:04:39.804Z"
   },
   {
    "duration": 2565,
    "start_time": "2022-05-13T21:15:24.996Z"
   },
   {
    "duration": 271,
    "start_time": "2022-05-13T21:15:29.684Z"
   },
   {
    "duration": 4239368,
    "start_time": "2022-05-13T21:21:54.582Z"
   },
   {
    "duration": 1201874,
    "start_time": "2022-05-13T22:34:18.779Z"
   },
   {
    "duration": 3,
    "start_time": "2022-05-13T23:00:17.475Z"
   },
   {
    "duration": 13,
    "start_time": "2022-05-13T23:00:18.732Z"
   },
   {
    "duration": 5,
    "start_time": "2022-05-13T23:00:22.412Z"
   },
   {
    "duration": 47,
    "start_time": "2022-05-13T23:00:26.028Z"
   },
   {
    "duration": 14,
    "start_time": "2022-05-13T23:00:32.171Z"
   },
   {
    "duration": 5,
    "start_time": "2022-05-13T23:00:33.963Z"
   },
   {
    "duration": 3,
    "start_time": "2022-05-13T23:00:36.324Z"
   },
   {
    "duration": 294,
    "start_time": "2022-05-13T23:00:38.220Z"
   },
   {
    "duration": 19,
    "start_time": "2022-05-13T23:00:39.532Z"
   },
   {
    "duration": 4,
    "start_time": "2022-05-13T23:00:41.125Z"
   },
   {
    "duration": 259,
    "start_time": "2022-05-13T23:01:20.475Z"
   },
   {
    "duration": 13,
    "start_time": "2022-05-13T23:01:25.940Z"
   },
   {
    "duration": 5,
    "start_time": "2022-05-13T23:02:45.858Z"
   },
   {
    "duration": 2,
    "start_time": "2022-05-13T23:02:49.106Z"
   },
   {
    "duration": 36584,
    "start_time": "2022-05-13T23:02:58.890Z"
   },
   {
    "duration": 1156,
    "start_time": "2022-05-13T23:03:50.450Z"
   },
   {
    "duration": 5,
    "start_time": "2022-05-13T23:03:57.560Z"
   },
   {
    "duration": 3,
    "start_time": "2022-05-13T23:04:03.120Z"
   },
   {
    "duration": 2832,
    "start_time": "2022-05-13T23:04:12.812Z"
   },
   {
    "duration": 376,
    "start_time": "2022-05-13T23:04:21.168Z"
   },
   {
    "duration": 5,
    "start_time": "2022-05-13T23:04:23.719Z"
   },
   {
    "duration": 3,
    "start_time": "2022-05-13T23:04:28.271Z"
   },
   {
    "duration": 8,
    "start_time": "2022-05-13T23:04:40.703Z"
   },
   {
    "duration": 5,
    "start_time": "2022-05-13T23:04:43.015Z"
   },
   {
    "duration": 5,
    "start_time": "2022-05-13T23:04:46.431Z"
   },
   {
    "duration": 3,
    "start_time": "2022-05-13T23:28:51.689Z"
   },
   {
    "duration": 36,
    "start_time": "2022-05-13T23:29:05.687Z"
   },
   {
    "duration": 36,
    "start_time": "2022-05-13T23:29:10.887Z"
   },
   {
    "duration": 3,
    "start_time": "2022-05-13T23:35:05.009Z"
   },
   {
    "duration": 3,
    "start_time": "2022-05-13T23:35:06.089Z"
   },
   {
    "duration": 36,
    "start_time": "2022-05-13T23:35:06.978Z"
   },
   {
    "duration": 8,
    "start_time": "2022-05-13T23:35:08.329Z"
   },
   {
    "duration": 4,
    "start_time": "2022-05-13T23:35:09.338Z"
   },
   {
    "duration": 3,
    "start_time": "2022-05-13T23:35:11.057Z"
   },
   {
    "duration": 265,
    "start_time": "2022-05-13T23:35:11.809Z"
   },
   {
    "duration": 13,
    "start_time": "2022-05-13T23:35:13.424Z"
   },
   {
    "duration": 5,
    "start_time": "2022-05-13T23:35:14.840Z"
   },
   {
    "duration": 3,
    "start_time": "2022-05-13T23:35:16.673Z"
   },
   {
    "duration": 12496,
    "start_time": "2022-05-13T23:35:18.170Z"
   },
   {
    "duration": 0,
    "start_time": "2022-05-13T23:35:30.668Z"
   },
   {
    "duration": 33946,
    "start_time": "2022-05-13T23:35:32.426Z"
   },
   {
    "duration": 1069,
    "start_time": "2022-05-13T23:36:10.160Z"
   },
   {
    "duration": 5,
    "start_time": "2022-05-13T23:36:13.327Z"
   },
   {
    "duration": 4,
    "start_time": "2022-05-13T23:36:15.456Z"
   },
   {
    "duration": 2360,
    "start_time": "2022-05-13T23:36:18.385Z"
   },
   {
    "duration": 399,
    "start_time": "2022-05-13T23:36:22.144Z"
   },
   {
    "duration": 5,
    "start_time": "2022-05-13T23:36:24.416Z"
   },
   {
    "duration": 3,
    "start_time": "2022-05-13T23:36:27.608Z"
   },
   {
    "duration": 6,
    "start_time": "2022-05-13T23:36:28.640Z"
   },
   {
    "duration": 4,
    "start_time": "2022-05-13T23:36:29.840Z"
   },
   {
    "duration": 5,
    "start_time": "2022-05-13T23:36:31.471Z"
   },
   {
    "duration": 3,
    "start_time": "2022-05-13T23:37:44.031Z"
   },
   {
    "duration": 9,
    "start_time": "2022-05-13T23:38:28.726Z"
   },
   {
    "duration": 4,
    "start_time": "2022-05-13T23:38:33.716Z"
   },
   {
    "duration": 10,
    "start_time": "2022-05-13T23:38:40.589Z"
   },
   {
    "duration": 4,
    "start_time": "2022-05-13T23:38:43.973Z"
   },
   {
    "duration": 10,
    "start_time": "2022-05-13T23:41:19.539Z"
   },
   {
    "duration": 10,
    "start_time": "2022-05-13T23:42:19.099Z"
   },
   {
    "duration": 9,
    "start_time": "2022-05-13T23:42:22.906Z"
   },
   {
    "duration": 15,
    "start_time": "2022-05-13T23:43:28.010Z"
   },
   {
    "duration": 14,
    "start_time": "2022-05-13T23:43:31.019Z"
   },
   {
    "duration": 10,
    "start_time": "2022-05-13T23:43:41.145Z"
   },
   {
    "duration": 11,
    "start_time": "2022-05-13T23:44:00.096Z"
   },
   {
    "duration": 9,
    "start_time": "2022-05-13T23:44:08.577Z"
   },
   {
    "duration": 11,
    "start_time": "2022-05-14T00:00:51.320Z"
   },
   {
    "duration": 5,
    "start_time": "2022-05-14T00:00:55.840Z"
   },
   {
    "duration": 11,
    "start_time": "2022-05-14T00:01:01.176Z"
   },
   {
    "duration": 12,
    "start_time": "2022-05-14T00:01:24.344Z"
   },
   {
    "duration": 13,
    "start_time": "2022-05-14T00:02:05.640Z"
   },
   {
    "duration": 12,
    "start_time": "2022-05-14T00:02:08.111Z"
   },
   {
    "duration": 12,
    "start_time": "2022-05-14T00:02:08.855Z"
   },
   {
    "duration": 14,
    "start_time": "2022-05-14T00:02:09.432Z"
   },
   {
    "duration": 12,
    "start_time": "2022-05-14T00:03:02.686Z"
   },
   {
    "duration": 12,
    "start_time": "2022-05-14T00:03:04.853Z"
   },
   {
    "duration": 13,
    "start_time": "2022-05-14T00:03:05.893Z"
   },
   {
    "duration": 1760,
    "start_time": "2022-05-14T00:08:30.324Z"
   },
   {
    "duration": 908,
    "start_time": "2022-05-14T00:08:32.086Z"
   },
   {
    "duration": 96,
    "start_time": "2022-05-14T00:08:32.996Z"
   },
   {
    "duration": 13,
    "start_time": "2022-05-14T00:08:33.095Z"
   },
   {
    "duration": 71,
    "start_time": "2022-05-14T00:08:33.109Z"
   },
   {
    "duration": 479,
    "start_time": "2022-05-14T00:08:33.181Z"
   },
   {
    "duration": 510,
    "start_time": "2022-05-14T00:08:33.662Z"
   },
   {
    "duration": 130,
    "start_time": "2022-05-14T00:08:34.174Z"
   },
   {
    "duration": 43,
    "start_time": "2022-05-14T00:08:34.306Z"
   },
   {
    "duration": 198,
    "start_time": "2022-05-14T00:08:34.353Z"
   },
   {
    "duration": 30,
    "start_time": "2022-05-14T00:08:34.558Z"
   },
   {
    "duration": 137,
    "start_time": "2022-05-14T00:08:34.589Z"
   },
   {
    "duration": 3,
    "start_time": "2022-05-14T00:08:34.727Z"
   },
   {
    "duration": 277,
    "start_time": "2022-05-14T00:08:34.746Z"
   },
   {
    "duration": 191,
    "start_time": "2022-05-14T00:08:35.024Z"
   },
   {
    "duration": 38,
    "start_time": "2022-05-14T00:08:35.217Z"
   },
   {
    "duration": 145,
    "start_time": "2022-05-14T00:08:35.257Z"
   },
   {
    "duration": 2,
    "start_time": "2022-05-14T00:08:35.403Z"
   },
   {
    "duration": 38,
    "start_time": "2022-05-14T00:08:35.406Z"
   },
   {
    "duration": 213,
    "start_time": "2022-05-14T00:08:35.446Z"
   },
   {
    "duration": 137,
    "start_time": "2022-05-14T00:08:35.661Z"
   },
   {
    "duration": 3,
    "start_time": "2022-05-14T00:08:35.799Z"
   },
   {
    "duration": 115,
    "start_time": "2022-05-14T00:08:35.803Z"
   },
   {
    "duration": 49,
    "start_time": "2022-05-14T00:08:35.920Z"
   },
   {
    "duration": 214,
    "start_time": "2022-05-14T00:08:35.971Z"
   },
   {
    "duration": 108,
    "start_time": "2022-05-14T00:08:36.187Z"
   },
   {
    "duration": 38,
    "start_time": "2022-05-14T00:08:36.297Z"
   },
   {
    "duration": 815,
    "start_time": "2022-05-14T00:08:36.342Z"
   },
   {
    "duration": 106,
    "start_time": "2022-05-14T00:08:37.159Z"
   },
   {
    "duration": 48,
    "start_time": "2022-05-14T00:08:37.267Z"
   },
   {
    "duration": 208,
    "start_time": "2022-05-14T00:08:37.317Z"
   },
   {
    "duration": 30,
    "start_time": "2022-05-14T00:08:37.527Z"
   },
   {
    "duration": 267,
    "start_time": "2022-05-14T00:08:37.559Z"
   },
   {
    "duration": 18,
    "start_time": "2022-05-14T00:08:37.828Z"
   },
   {
    "duration": 928,
    "start_time": "2022-05-14T00:08:37.849Z"
   },
   {
    "duration": 14,
    "start_time": "2022-05-14T00:08:38.778Z"
   },
   {
    "duration": 49,
    "start_time": "2022-05-14T00:08:38.794Z"
   },
   {
    "duration": 87,
    "start_time": "2022-05-14T00:08:38.847Z"
   },
   {
    "duration": 10,
    "start_time": "2022-05-14T00:08:38.935Z"
   },
   {
    "duration": 8,
    "start_time": "2022-05-14T00:08:38.947Z"
   },
   {
    "duration": 831,
    "start_time": "2022-05-14T00:08:38.957Z"
   },
   {
    "duration": 4521,
    "start_time": "2022-05-14T00:08:39.859Z"
   },
   {
    "duration": 279617,
    "start_time": "2022-05-14T00:08:44.382Z"
   },
   {
    "duration": 18,
    "start_time": "2022-05-14T00:13:24.001Z"
   },
   {
    "duration": 164,
    "start_time": "2022-05-14T00:13:24.020Z"
   },
   {
    "duration": 5,
    "start_time": "2022-05-14T00:13:24.185Z"
   },
   {
    "duration": 31,
    "start_time": "2022-05-14T00:13:24.192Z"
   },
   {
    "duration": 94,
    "start_time": "2022-05-14T00:13:24.225Z"
   },
   {
    "duration": 2,
    "start_time": "2022-05-14T00:13:24.321Z"
   },
   {
    "duration": 125530,
    "start_time": "2022-05-14T00:13:24.325Z"
   },
   {
    "duration": 86,
    "start_time": "2022-05-14T00:15:29.857Z"
   },
   {
    "duration": 3,
    "start_time": "2022-05-14T00:15:29.945Z"
   },
   {
    "duration": 46,
    "start_time": "2022-05-14T00:15:29.950Z"
   },
   {
    "duration": 54,
    "start_time": "2022-05-14T00:15:29.998Z"
   },
   {
    "duration": 191,
    "start_time": "2022-05-14T00:15:30.055Z"
   },
   {
    "duration": 14,
    "start_time": "2022-05-14T00:15:30.248Z"
   },
   {
    "duration": 262,
    "start_time": "2022-05-14T00:15:30.263Z"
   },
   {
    "duration": 17,
    "start_time": "2022-05-14T00:15:30.526Z"
   },
   {
    "duration": 16,
    "start_time": "2022-05-14T00:15:30.544Z"
   },
   {
    "duration": 54,
    "start_time": "2022-05-14T00:15:30.562Z"
   },
   {
    "duration": 34334,
    "start_time": "2022-05-14T00:15:30.618Z"
   },
   {
    "duration": 1083,
    "start_time": "2022-05-14T00:16:04.954Z"
   },
   {
    "duration": 6,
    "start_time": "2022-05-14T00:16:06.039Z"
   },
   {
    "duration": 23,
    "start_time": "2022-05-14T00:16:06.047Z"
   },
   {
    "duration": 2376,
    "start_time": "2022-05-14T00:16:06.072Z"
   },
   {
    "duration": 402,
    "start_time": "2022-05-14T00:16:08.450Z"
   },
   {
    "duration": 6,
    "start_time": "2022-05-14T00:16:08.854Z"
   },
   {
    "duration": 6,
    "start_time": "2022-05-14T00:16:08.862Z"
   },
   {
    "duration": 75,
    "start_time": "2022-05-14T00:16:08.869Z"
   },
   {
    "duration": 5,
    "start_time": "2022-05-14T00:16:08.946Z"
   },
   {
    "duration": 7,
    "start_time": "2022-05-14T00:16:08.953Z"
   },
   {
    "duration": 12,
    "start_time": "2022-05-14T00:16:08.962Z"
   },
   {
    "duration": 1467,
    "start_time": "2022-05-14T01:52:33.652Z"
   },
   {
    "duration": 853,
    "start_time": "2022-05-14T01:52:35.121Z"
   },
   {
    "duration": 120,
    "start_time": "2022-05-14T01:52:35.975Z"
   },
   {
    "duration": 12,
    "start_time": "2022-05-14T01:52:36.096Z"
   },
   {
    "duration": 75,
    "start_time": "2022-05-14T01:52:36.109Z"
   },
   {
    "duration": 463,
    "start_time": "2022-05-14T01:52:36.186Z"
   },
   {
    "duration": 519,
    "start_time": "2022-05-14T01:52:36.650Z"
   },
   {
    "duration": 120,
    "start_time": "2022-05-14T01:52:37.171Z"
   },
   {
    "duration": 46,
    "start_time": "2022-05-14T01:52:37.293Z"
   },
   {
    "duration": 194,
    "start_time": "2022-05-14T01:52:37.342Z"
   },
   {
    "duration": 29,
    "start_time": "2022-05-14T01:52:37.538Z"
   },
   {
    "duration": 143,
    "start_time": "2022-05-14T01:52:37.568Z"
   },
   {
    "duration": 243,
    "start_time": "2022-05-14T01:52:37.713Z"
   },
   {
    "duration": 167,
    "start_time": "2022-05-14T01:52:37.957Z"
   },
   {
    "duration": 33,
    "start_time": "2022-05-14T01:52:38.125Z"
   },
   {
    "duration": 123,
    "start_time": "2022-05-14T01:52:38.159Z"
   },
   {
    "duration": 27,
    "start_time": "2022-05-14T01:52:38.284Z"
   },
   {
    "duration": 134,
    "start_time": "2022-05-14T01:52:38.313Z"
   },
   {
    "duration": 102,
    "start_time": "2022-05-14T01:52:38.449Z"
   },
   {
    "duration": 33,
    "start_time": "2022-05-14T01:52:38.553Z"
   },
   {
    "duration": 212,
    "start_time": "2022-05-14T01:52:38.588Z"
   },
   {
    "duration": 93,
    "start_time": "2022-05-14T01:52:38.802Z"
   },
   {
    "duration": 51,
    "start_time": "2022-05-14T01:52:38.897Z"
   },
   {
    "duration": 732,
    "start_time": "2022-05-14T01:52:38.949Z"
   },
   {
    "duration": 114,
    "start_time": "2022-05-14T01:52:39.683Z"
   },
   {
    "duration": 32,
    "start_time": "2022-05-14T01:52:39.799Z"
   },
   {
    "duration": 180,
    "start_time": "2022-05-14T01:52:39.832Z"
   },
   {
    "duration": 30,
    "start_time": "2022-05-14T01:52:40.016Z"
   },
   {
    "duration": 255,
    "start_time": "2022-05-14T01:52:40.047Z"
   },
   {
    "duration": 14,
    "start_time": "2022-05-14T01:52:40.303Z"
   },
   {
    "duration": 852,
    "start_time": "2022-05-14T01:52:40.319Z"
   },
   {
    "duration": 13,
    "start_time": "2022-05-14T01:52:41.173Z"
   },
   {
    "duration": 31,
    "start_time": "2022-05-14T01:52:41.188Z"
   },
   {
    "duration": 99,
    "start_time": "2022-05-14T01:52:41.221Z"
   },
   {
    "duration": 2,
    "start_time": "2022-05-14T01:52:41.322Z"
   },
   {
    "duration": 849,
    "start_time": "2022-05-14T01:52:41.326Z"
   },
   {
    "duration": 4039,
    "start_time": "2022-05-14T01:52:42.178Z"
   },
   {
    "duration": 269848,
    "start_time": "2022-05-14T01:52:46.219Z"
   },
   {
    "duration": 9,
    "start_time": "2022-05-14T01:57:16.068Z"
   },
   {
    "duration": 153,
    "start_time": "2022-05-14T01:57:16.079Z"
   },
   {
    "duration": 10,
    "start_time": "2022-05-14T01:57:16.234Z"
   },
   {
    "duration": 47,
    "start_time": "2022-05-14T01:57:16.245Z"
   },
   {
    "duration": 81,
    "start_time": "2022-05-14T01:57:16.294Z"
   },
   {
    "duration": 2,
    "start_time": "2022-05-14T01:57:16.377Z"
   },
   {
    "duration": 127070,
    "start_time": "2022-05-14T01:57:16.381Z"
   },
   {
    "duration": 3,
    "start_time": "2022-05-14T01:59:23.452Z"
   },
   {
    "duration": 7,
    "start_time": "2022-05-14T01:59:23.457Z"
   },
   {
    "duration": 92,
    "start_time": "2022-05-14T01:59:23.466Z"
   },
   {
    "duration": 13,
    "start_time": "2022-05-14T01:59:23.559Z"
   },
   {
    "duration": 103,
    "start_time": "2022-05-14T01:59:23.644Z"
   },
   {
    "duration": 5,
    "start_time": "2022-05-14T01:59:23.749Z"
   },
   {
    "duration": 261,
    "start_time": "2022-05-14T01:59:23.755Z"
   },
   {
    "duration": 11,
    "start_time": "2022-05-14T01:59:24.018Z"
   },
   {
    "duration": 14,
    "start_time": "2022-05-14T01:59:24.031Z"
   },
   {
    "duration": 11,
    "start_time": "2022-05-14T01:59:24.046Z"
   },
   {
    "duration": 32650,
    "start_time": "2022-05-14T01:59:24.058Z"
   },
   {
    "duration": 1060,
    "start_time": "2022-05-14T01:59:56.709Z"
   },
   {
    "duration": 4,
    "start_time": "2022-05-14T01:59:57.771Z"
   },
   {
    "duration": 21,
    "start_time": "2022-05-14T01:59:57.776Z"
   },
   {
    "duration": 2450,
    "start_time": "2022-05-14T01:59:57.798Z"
   },
   {
    "duration": 402,
    "start_time": "2022-05-14T02:00:00.249Z"
   },
   {
    "duration": 4,
    "start_time": "2022-05-14T02:00:00.653Z"
   },
   {
    "duration": 37,
    "start_time": "2022-05-14T02:00:00.659Z"
   },
   {
    "duration": 59,
    "start_time": "2022-05-14T02:00:00.697Z"
   },
   {
    "duration": 23,
    "start_time": "2022-05-14T02:00:00.758Z"
   },
   {
    "duration": 76,
    "start_time": "2022-05-14T02:00:00.783Z"
   },
   {
    "duration": 58,
    "start_time": "2022-05-14T02:00:00.861Z"
   },
   {
    "duration": 50,
    "start_time": "2022-07-28T13:12:41.955Z"
   },
   {
    "duration": 1767,
    "start_time": "2022-07-28T13:12:54.149Z"
   },
   {
    "duration": 3362,
    "start_time": "2022-07-28T13:12:55.918Z"
   },
   {
    "duration": 172,
    "start_time": "2022-07-28T13:12:59.282Z"
   },
   {
    "duration": 15,
    "start_time": "2022-07-28T13:12:59.456Z"
   },
   {
    "duration": 78,
    "start_time": "2022-07-28T13:12:59.473Z"
   },
   {
    "duration": 598,
    "start_time": "2022-07-28T13:12:59.553Z"
   },
   {
    "duration": 666,
    "start_time": "2022-07-28T13:13:00.153Z"
   },
   {
    "duration": 126,
    "start_time": "2022-07-28T13:13:00.821Z"
   },
   {
    "duration": 51,
    "start_time": "2022-07-28T13:13:00.949Z"
   },
   {
    "duration": 213,
    "start_time": "2022-07-28T13:13:01.009Z"
   },
   {
    "duration": 34,
    "start_time": "2022-07-28T13:13:01.224Z"
   },
   {
    "duration": 167,
    "start_time": "2022-07-28T13:13:01.262Z"
   },
   {
    "duration": 353,
    "start_time": "2022-07-28T13:13:01.431Z"
   },
   {
    "duration": 167,
    "start_time": "2022-07-28T13:13:01.786Z"
   },
   {
    "duration": 39,
    "start_time": "2022-07-28T13:13:01.954Z"
   },
   {
    "duration": 145,
    "start_time": "2022-07-28T13:13:01.995Z"
   },
   {
    "duration": 28,
    "start_time": "2022-07-28T13:13:02.142Z"
   },
   {
    "duration": 190,
    "start_time": "2022-07-28T13:13:02.172Z"
   },
   {
    "duration": 179,
    "start_time": "2022-07-28T13:13:02.365Z"
   },
   {
    "duration": 79,
    "start_time": "2022-07-28T13:13:02.546Z"
   },
   {
    "duration": 259,
    "start_time": "2022-07-28T13:13:02.627Z"
   },
   {
    "duration": 137,
    "start_time": "2022-07-28T13:13:02.887Z"
   },
   {
    "duration": 36,
    "start_time": "2022-07-28T13:13:03.025Z"
   },
   {
    "duration": 1012,
    "start_time": "2022-07-28T13:13:03.063Z"
   },
   {
    "duration": 160,
    "start_time": "2022-07-28T13:13:04.077Z"
   },
   {
    "duration": 37,
    "start_time": "2022-07-28T13:13:04.239Z"
   },
   {
    "duration": 272,
    "start_time": "2022-07-28T13:13:04.277Z"
   },
   {
    "duration": 23,
    "start_time": "2022-07-28T13:13:04.553Z"
   },
   {
    "duration": 367,
    "start_time": "2022-07-28T13:13:04.578Z"
   },
   {
    "duration": 10,
    "start_time": "2022-07-28T13:13:04.947Z"
   },
   {
    "duration": 940,
    "start_time": "2022-07-28T13:13:04.959Z"
   },
   {
    "duration": 17,
    "start_time": "2022-07-28T13:13:05.904Z"
   },
   {
    "duration": 98,
    "start_time": "2022-07-28T13:13:05.922Z"
   },
   {
    "duration": 110,
    "start_time": "2022-07-28T13:13:06.022Z"
   },
   {
    "duration": 3,
    "start_time": "2022-07-28T13:13:06.134Z"
   },
   {
    "duration": 885,
    "start_time": "2022-07-28T13:13:06.139Z"
   },
   {
    "duration": 5371,
    "start_time": "2022-07-28T13:13:07.026Z"
   },
   {
    "duration": 378928,
    "start_time": "2022-07-28T13:13:12.398Z"
   },
   {
    "duration": 19,
    "start_time": "2022-07-28T13:19:31.327Z"
   },
   {
    "duration": 195,
    "start_time": "2022-07-28T13:19:31.348Z"
   },
   {
    "duration": 30,
    "start_time": "2022-07-28T13:19:31.544Z"
   }
  ],
  "kernelspec": {
   "display_name": "Python 3 (ipykernel)",
   "language": "python",
   "name": "python3"
  },
  "language_info": {
   "codemirror_mode": {
    "name": "ipython",
    "version": 3
   },
   "file_extension": ".py",
   "mimetype": "text/x-python",
   "name": "python",
   "nbconvert_exporter": "python",
   "pygments_lexer": "ipython3",
   "version": "3.9.12"
  },
  "toc": {
   "base_numbering": 1,
   "nav_menu": {},
   "number_sections": true,
   "sideBar": true,
   "skip_h1_title": true,
   "title_cell": "Table of Contents",
   "title_sidebar": "Contents",
   "toc_cell": false,
   "toc_position": {
    "height": "calc(100% - 180px)",
    "left": "10px",
    "top": "150px",
    "width": "366.391px"
   },
   "toc_section_display": true,
   "toc_window_display": true
  }
 },
 "nbformat": 4,
 "nbformat_minor": 2
}
