{
 "cells": [
  {
   "cell_type": "markdown",
   "id": "c3209c69",
   "metadata": {},
   "source": [
    "# Прогнозирование оттока клиентов\n",
    "\n",
    "Оператор связи «Ниединогоразрыва.ком» хочет научиться прогнозировать отток клиентов. Если выяснится, что пользователь планирует уйти, ему будут предложены промокоды и специальные условия. Команда оператора собрала персональные данные о некоторых клиентах, информацию об их тарифах и договорах.\n",
    "\n",
    "**Описание услуг**\n",
    "\n",
    "Оператор предоставляет два основных типа услуг: \n",
    "\n",
    "1. Стационарную телефонную связь. Возможно подключение телефонного аппарата к нескольким линиям одновременно.\n",
    "2. Интернет. Подключение может быть двух типов: через телефонную линию (DSL*,* от англ. *digital subscriber line*, «цифровая абонентская линия») или оптоволоконный кабель (*Fiber optic*).  \n",
    "\n",
    "Также доступны такие услуги:\n",
    "\n",
    "- Интернет-безопасность: антивирус (*DeviceProtection*) и блокировка небезопасных сайтов (*OnlineSecurity*);\n",
    "- Выделенная линия технической поддержки (*TechSupport*);\n",
    "- Облачное хранилище файлов для резервного копирования данных (*OnlineBackup*);\n",
    "- Стриминговое телевидение (*StreamingTV*) и каталог фильмов (*StreamingMovies*).\n",
    "\n",
    "За услуги клиенты могут платить каждый месяц или заключить договор на 1–2 года. Доступны различные способы расчёта и возможность получения электронного чека.\n",
    "\n",
    "**Описание данных**\n",
    "\n",
    "Данные состоят из файлов, полученных из разных источников:\n",
    "\n",
    "- `contract.csv` — информация о договоре;\n",
    "- `personal.csv` — персональные данные клиента;\n",
    "- `internet.csv` — информация об интернет-услугах;\n",
    "- `phone.csv` — информация об услугах телефонии.\n",
    "\n",
    "Во всех файлах столбец `customerID` содержит код клиента.\n",
    "\n",
    "Информация о договорах актуальна на 1 февраля 2020"
   ]
  },
  {
   "cell_type": "markdown",
   "id": "79d7a5cd",
   "metadata": {},
   "source": [
    "# Примерный план решения задачи\n",
    "1. Изучить и предобработать данные, провести исследовательский анализ данных\n",
    "2. Отобрать и подготовить признаки\n",
    "3. Разделить данные на выборки, подобрать гиперпараметры моделей, обучить модели\n",
    "4. Проанализировать модели\n",
    "5. Сделать вывод\n",
    "6. Подготовить отчет"
   ]
  },
  {
   "cell_type": "markdown",
   "id": "d6a30594",
   "metadata": {},
   "source": [
    "# Подготовка данных"
   ]
  },
  {
   "cell_type": "markdown",
   "id": "aaa2ebcf",
   "metadata": {},
   "source": [
    "## Изучение данных из файла\n",
    "Импортируем библиотеки, с которыми будем работать"
   ]
  },
  {
   "cell_type": "code",
   "execution_count": 1,
   "id": "f14177ac",
   "metadata": {},
   "outputs": [],
   "source": [
    "import pandas as pd\n",
    "import numpy as np\n",
    "import matplotlib.pyplot as plt\n",
    "import seaborn as sbn\n",
    "\n",
    "from sklearn.model_selection import train_test_split, cross_val_score, GridSearchCV\n",
    "from sklearn.preprocessing import StandardScaler\n",
    "from sklearn.linear_model import LogisticRegression\n",
    "from sklearn.tree import DecisionTreeClassifier\n",
    "from sklearn.ensemble import RandomForestClassifier\n",
    "from lightgbm import LGBMClassifier\n",
    "from sklearn.metrics import roc_auc_score, accuracy_score, roc_curve\n",
    "\n",
    "from sklearn.preprocessing import OrdinalEncoder\n",
    "from sklearn.preprocessing import StandardScaler\n",
    "\n",
    "import warnings\n",
    "warnings.filterwarnings('ignore')"
   ]
  },
  {
   "cell_type": "markdown",
   "id": "28b6a1d7",
   "metadata": {},
   "source": [
    "Работать будем с несколькими источниками данных, поэтому сохраняем:\n",
    "* информацию о договорах в переменную `contract`,\n",
    "* персональные данные клиентов в переменную `personal`,\n",
    "* информацию об интернет-услугах в переменную `internet`,\n",
    "* информацию об услугах телефонии в переменную `phone`."
   ]
  },
  {
   "cell_type": "code",
   "execution_count": 2,
   "id": "78d9b969",
   "metadata": {},
   "outputs": [],
   "source": [
    "try:\n",
    "    contract = pd.read_csv('contract.csv', index_col='customerID')\n",
    "    personal = pd.read_csv('personal.csv', index_col='customerID')\n",
    "    internet = pd.read_csv('internet.csv', index_col='customerID')\n",
    "    phone = pd.read_csv('phone.csv', index_col='customerID')\n",
    "except:\n",
    "    contract = pd.read_csv('/datasets/final_provider/contract.csv', index_col='customerID')\n",
    "    personal = pd.read_csv('/datasets/final_provider/personal.csv', index_col='customerID')\n",
    "    internet = pd.read_csv('/datasets/final_provider/internet.csv', index_col='customerID')\n",
    "    phone = pd.read_csv('/datasets/final_provider/phone.csv', index_col='customerID')"
   ]
  },
  {
   "cell_type": "markdown",
   "id": "e7d48f05",
   "metadata": {},
   "source": [
    "Данные для анализа представлена в 4 таблицах, посмотрим подробную информацию о каждой таблице.\n",
    "\n",
    "**Информация о договорах**\n",
    "\n",
    "Доступные данные:\n",
    "1. customerID — идентификационный номер клиента\n",
    "2. BeginDate — дата начала договора\n",
    "3. EndDate — дата окончания договора\n",
    "4. Type — тип оплаты: ежемесячно, раз в год, раз в два года\n",
    "5. PaperlessBilling — безбумажное выставление счетов\n",
    "6. PaymentMethod — способ оплаты\n",
    "7. MonthlyCharges — ежемесячные платежи\n",
    "8. TotalCharges — общая сумма платежей"
   ]
  },
  {
   "cell_type": "code",
   "execution_count": 3,
   "id": "b69f4a50",
   "metadata": {},
   "outputs": [
    {
     "data": {
      "text/html": [
       "<div>\n",
       "<style scoped>\n",
       "    .dataframe tbody tr th:only-of-type {\n",
       "        vertical-align: middle;\n",
       "    }\n",
       "\n",
       "    .dataframe tbody tr th {\n",
       "        vertical-align: top;\n",
       "    }\n",
       "\n",
       "    .dataframe thead th {\n",
       "        text-align: right;\n",
       "    }\n",
       "</style>\n",
       "<table border=\"1\" class=\"dataframe\">\n",
       "  <thead>\n",
       "    <tr style=\"text-align: right;\">\n",
       "      <th></th>\n",
       "      <th>BeginDate</th>\n",
       "      <th>EndDate</th>\n",
       "      <th>Type</th>\n",
       "      <th>PaperlessBilling</th>\n",
       "      <th>PaymentMethod</th>\n",
       "      <th>MonthlyCharges</th>\n",
       "      <th>TotalCharges</th>\n",
       "    </tr>\n",
       "    <tr>\n",
       "      <th>customerID</th>\n",
       "      <th></th>\n",
       "      <th></th>\n",
       "      <th></th>\n",
       "      <th></th>\n",
       "      <th></th>\n",
       "      <th></th>\n",
       "      <th></th>\n",
       "    </tr>\n",
       "  </thead>\n",
       "  <tbody>\n",
       "    <tr>\n",
       "      <th>7590-VHVEG</th>\n",
       "      <td>2020-01-01</td>\n",
       "      <td>No</td>\n",
       "      <td>Month-to-month</td>\n",
       "      <td>Yes</td>\n",
       "      <td>Electronic check</td>\n",
       "      <td>29.85</td>\n",
       "      <td>29.85</td>\n",
       "    </tr>\n",
       "    <tr>\n",
       "      <th>5575-GNVDE</th>\n",
       "      <td>2017-04-01</td>\n",
       "      <td>No</td>\n",
       "      <td>One year</td>\n",
       "      <td>No</td>\n",
       "      <td>Mailed check</td>\n",
       "      <td>56.95</td>\n",
       "      <td>1889.5</td>\n",
       "    </tr>\n",
       "    <tr>\n",
       "      <th>3668-QPYBK</th>\n",
       "      <td>2019-10-01</td>\n",
       "      <td>2019-12-01 00:00:00</td>\n",
       "      <td>Month-to-month</td>\n",
       "      <td>Yes</td>\n",
       "      <td>Mailed check</td>\n",
       "      <td>53.85</td>\n",
       "      <td>108.15</td>\n",
       "    </tr>\n",
       "    <tr>\n",
       "      <th>7795-CFOCW</th>\n",
       "      <td>2016-05-01</td>\n",
       "      <td>No</td>\n",
       "      <td>One year</td>\n",
       "      <td>No</td>\n",
       "      <td>Bank transfer (automatic)</td>\n",
       "      <td>42.30</td>\n",
       "      <td>1840.75</td>\n",
       "    </tr>\n",
       "    <tr>\n",
       "      <th>9237-HQITU</th>\n",
       "      <td>2019-09-01</td>\n",
       "      <td>2019-11-01 00:00:00</td>\n",
       "      <td>Month-to-month</td>\n",
       "      <td>Yes</td>\n",
       "      <td>Electronic check</td>\n",
       "      <td>70.70</td>\n",
       "      <td>151.65</td>\n",
       "    </tr>\n",
       "    <tr>\n",
       "      <th>...</th>\n",
       "      <td>...</td>\n",
       "      <td>...</td>\n",
       "      <td>...</td>\n",
       "      <td>...</td>\n",
       "      <td>...</td>\n",
       "      <td>...</td>\n",
       "      <td>...</td>\n",
       "    </tr>\n",
       "    <tr>\n",
       "      <th>6840-RESVB</th>\n",
       "      <td>2018-02-01</td>\n",
       "      <td>No</td>\n",
       "      <td>One year</td>\n",
       "      <td>Yes</td>\n",
       "      <td>Mailed check</td>\n",
       "      <td>84.80</td>\n",
       "      <td>1990.5</td>\n",
       "    </tr>\n",
       "    <tr>\n",
       "      <th>2234-XADUH</th>\n",
       "      <td>2014-02-01</td>\n",
       "      <td>No</td>\n",
       "      <td>One year</td>\n",
       "      <td>Yes</td>\n",
       "      <td>Credit card (automatic)</td>\n",
       "      <td>103.20</td>\n",
       "      <td>7362.9</td>\n",
       "    </tr>\n",
       "    <tr>\n",
       "      <th>4801-JZAZL</th>\n",
       "      <td>2019-03-01</td>\n",
       "      <td>No</td>\n",
       "      <td>Month-to-month</td>\n",
       "      <td>Yes</td>\n",
       "      <td>Electronic check</td>\n",
       "      <td>29.60</td>\n",
       "      <td>346.45</td>\n",
       "    </tr>\n",
       "    <tr>\n",
       "      <th>8361-LTMKD</th>\n",
       "      <td>2019-07-01</td>\n",
       "      <td>2019-11-01 00:00:00</td>\n",
       "      <td>Month-to-month</td>\n",
       "      <td>Yes</td>\n",
       "      <td>Mailed check</td>\n",
       "      <td>74.40</td>\n",
       "      <td>306.6</td>\n",
       "    </tr>\n",
       "    <tr>\n",
       "      <th>3186-AJIEK</th>\n",
       "      <td>2014-08-01</td>\n",
       "      <td>No</td>\n",
       "      <td>Two year</td>\n",
       "      <td>Yes</td>\n",
       "      <td>Bank transfer (automatic)</td>\n",
       "      <td>105.65</td>\n",
       "      <td>6844.5</td>\n",
       "    </tr>\n",
       "  </tbody>\n",
       "</table>\n",
       "<p>7043 rows × 7 columns</p>\n",
       "</div>"
      ],
      "text/plain": [
       "             BeginDate              EndDate            Type PaperlessBilling  \\\n",
       "customerID                                                                     \n",
       "7590-VHVEG  2020-01-01                   No  Month-to-month              Yes   \n",
       "5575-GNVDE  2017-04-01                   No        One year               No   \n",
       "3668-QPYBK  2019-10-01  2019-12-01 00:00:00  Month-to-month              Yes   \n",
       "7795-CFOCW  2016-05-01                   No        One year               No   \n",
       "9237-HQITU  2019-09-01  2019-11-01 00:00:00  Month-to-month              Yes   \n",
       "...                ...                  ...             ...              ...   \n",
       "6840-RESVB  2018-02-01                   No        One year              Yes   \n",
       "2234-XADUH  2014-02-01                   No        One year              Yes   \n",
       "4801-JZAZL  2019-03-01                   No  Month-to-month              Yes   \n",
       "8361-LTMKD  2019-07-01  2019-11-01 00:00:00  Month-to-month              Yes   \n",
       "3186-AJIEK  2014-08-01                   No        Two year              Yes   \n",
       "\n",
       "                        PaymentMethod  MonthlyCharges TotalCharges  \n",
       "customerID                                                          \n",
       "7590-VHVEG           Electronic check           29.85        29.85  \n",
       "5575-GNVDE               Mailed check           56.95       1889.5  \n",
       "3668-QPYBK               Mailed check           53.85       108.15  \n",
       "7795-CFOCW  Bank transfer (automatic)           42.30      1840.75  \n",
       "9237-HQITU           Electronic check           70.70       151.65  \n",
       "...                               ...             ...          ...  \n",
       "6840-RESVB               Mailed check           84.80       1990.5  \n",
       "2234-XADUH    Credit card (automatic)          103.20       7362.9  \n",
       "4801-JZAZL           Electronic check           29.60       346.45  \n",
       "8361-LTMKD               Mailed check           74.40        306.6  \n",
       "3186-AJIEK  Bank transfer (automatic)          105.65       6844.5  \n",
       "\n",
       "[7043 rows x 7 columns]"
      ]
     },
     "execution_count": 3,
     "metadata": {},
     "output_type": "execute_result"
    }
   ],
   "source": [
    "contract"
   ]
  },
  {
   "cell_type": "code",
   "execution_count": 4,
   "id": "12a46e2b",
   "metadata": {},
   "outputs": [
    {
     "name": "stdout",
     "output_type": "stream",
     "text": [
      "<class 'pandas.core.frame.DataFrame'>\n",
      "Index: 7043 entries, 7590-VHVEG to 3186-AJIEK\n",
      "Data columns (total 7 columns):\n",
      " #   Column            Non-Null Count  Dtype  \n",
      "---  ------            --------------  -----  \n",
      " 0   BeginDate         7043 non-null   object \n",
      " 1   EndDate           7043 non-null   object \n",
      " 2   Type              7043 non-null   object \n",
      " 3   PaperlessBilling  7043 non-null   object \n",
      " 4   PaymentMethod     7043 non-null   object \n",
      " 5   MonthlyCharges    7043 non-null   float64\n",
      " 6   TotalCharges      7043 non-null   object \n",
      "dtypes: float64(1), object(6)\n",
      "memory usage: 440.2+ KB\n"
     ]
    }
   ],
   "source": [
    "contract.info()"
   ]
  },
  {
   "cell_type": "code",
   "execution_count": 5,
   "id": "fbc82b39",
   "metadata": {
    "scrolled": false
   },
   "outputs": [
    {
     "data": {
      "text/html": [
       "<div>\n",
       "<style scoped>\n",
       "    .dataframe tbody tr th:only-of-type {\n",
       "        vertical-align: middle;\n",
       "    }\n",
       "\n",
       "    .dataframe tbody tr th {\n",
       "        vertical-align: top;\n",
       "    }\n",
       "\n",
       "    .dataframe thead th {\n",
       "        text-align: right;\n",
       "    }\n",
       "</style>\n",
       "<table border=\"1\" class=\"dataframe\">\n",
       "  <thead>\n",
       "    <tr style=\"text-align: right;\">\n",
       "      <th></th>\n",
       "      <th>MonthlyCharges</th>\n",
       "    </tr>\n",
       "  </thead>\n",
       "  <tbody>\n",
       "    <tr>\n",
       "      <th>count</th>\n",
       "      <td>7043.000000</td>\n",
       "    </tr>\n",
       "    <tr>\n",
       "      <th>mean</th>\n",
       "      <td>64.761692</td>\n",
       "    </tr>\n",
       "    <tr>\n",
       "      <th>std</th>\n",
       "      <td>30.090047</td>\n",
       "    </tr>\n",
       "    <tr>\n",
       "      <th>min</th>\n",
       "      <td>18.250000</td>\n",
       "    </tr>\n",
       "    <tr>\n",
       "      <th>25%</th>\n",
       "      <td>35.500000</td>\n",
       "    </tr>\n",
       "    <tr>\n",
       "      <th>50%</th>\n",
       "      <td>70.350000</td>\n",
       "    </tr>\n",
       "    <tr>\n",
       "      <th>75%</th>\n",
       "      <td>89.850000</td>\n",
       "    </tr>\n",
       "    <tr>\n",
       "      <th>max</th>\n",
       "      <td>118.750000</td>\n",
       "    </tr>\n",
       "  </tbody>\n",
       "</table>\n",
       "</div>"
      ],
      "text/plain": [
       "       MonthlyCharges\n",
       "count     7043.000000\n",
       "mean        64.761692\n",
       "std         30.090047\n",
       "min         18.250000\n",
       "25%         35.500000\n",
       "50%         70.350000\n",
       "75%         89.850000\n",
       "max        118.750000"
      ]
     },
     "execution_count": 5,
     "metadata": {},
     "output_type": "execute_result"
    }
   ],
   "source": [
    "contract.describe()"
   ]
  },
  {
   "cell_type": "markdown",
   "id": "db97eb0a",
   "metadata": {},
   "source": [
    "В таблице представлены данные по 7 043 клиентам, пропусков в данных нет.\n",
    "\n",
    "Посмотрим следующую таблицу.\n",
    "\n",
    "**Персональные данные клиентов**\n",
    "\n",
    "Доступные данные:\n",
    "1. customerID — идентификационный номер клиента\n",
    "2. gender — пол клиента\n",
    "3. SeniorCitizen — является ли клиент пожилым гражданином\n",
    "4. Partner — состоит ли клиент в браке\n",
    "5. Dependents — есть ли у клиента члены семьи на иждивении"
   ]
  },
  {
   "cell_type": "code",
   "execution_count": 6,
   "id": "5e4284a0",
   "metadata": {
    "scrolled": false
   },
   "outputs": [
    {
     "data": {
      "text/html": [
       "<div>\n",
       "<style scoped>\n",
       "    .dataframe tbody tr th:only-of-type {\n",
       "        vertical-align: middle;\n",
       "    }\n",
       "\n",
       "    .dataframe tbody tr th {\n",
       "        vertical-align: top;\n",
       "    }\n",
       "\n",
       "    .dataframe thead th {\n",
       "        text-align: right;\n",
       "    }\n",
       "</style>\n",
       "<table border=\"1\" class=\"dataframe\">\n",
       "  <thead>\n",
       "    <tr style=\"text-align: right;\">\n",
       "      <th></th>\n",
       "      <th>gender</th>\n",
       "      <th>SeniorCitizen</th>\n",
       "      <th>Partner</th>\n",
       "      <th>Dependents</th>\n",
       "    </tr>\n",
       "    <tr>\n",
       "      <th>customerID</th>\n",
       "      <th></th>\n",
       "      <th></th>\n",
       "      <th></th>\n",
       "      <th></th>\n",
       "    </tr>\n",
       "  </thead>\n",
       "  <tbody>\n",
       "    <tr>\n",
       "      <th>7590-VHVEG</th>\n",
       "      <td>Female</td>\n",
       "      <td>0</td>\n",
       "      <td>Yes</td>\n",
       "      <td>No</td>\n",
       "    </tr>\n",
       "    <tr>\n",
       "      <th>5575-GNVDE</th>\n",
       "      <td>Male</td>\n",
       "      <td>0</td>\n",
       "      <td>No</td>\n",
       "      <td>No</td>\n",
       "    </tr>\n",
       "    <tr>\n",
       "      <th>3668-QPYBK</th>\n",
       "      <td>Male</td>\n",
       "      <td>0</td>\n",
       "      <td>No</td>\n",
       "      <td>No</td>\n",
       "    </tr>\n",
       "    <tr>\n",
       "      <th>7795-CFOCW</th>\n",
       "      <td>Male</td>\n",
       "      <td>0</td>\n",
       "      <td>No</td>\n",
       "      <td>No</td>\n",
       "    </tr>\n",
       "    <tr>\n",
       "      <th>9237-HQITU</th>\n",
       "      <td>Female</td>\n",
       "      <td>0</td>\n",
       "      <td>No</td>\n",
       "      <td>No</td>\n",
       "    </tr>\n",
       "    <tr>\n",
       "      <th>...</th>\n",
       "      <td>...</td>\n",
       "      <td>...</td>\n",
       "      <td>...</td>\n",
       "      <td>...</td>\n",
       "    </tr>\n",
       "    <tr>\n",
       "      <th>6840-RESVB</th>\n",
       "      <td>Male</td>\n",
       "      <td>0</td>\n",
       "      <td>Yes</td>\n",
       "      <td>Yes</td>\n",
       "    </tr>\n",
       "    <tr>\n",
       "      <th>2234-XADUH</th>\n",
       "      <td>Female</td>\n",
       "      <td>0</td>\n",
       "      <td>Yes</td>\n",
       "      <td>Yes</td>\n",
       "    </tr>\n",
       "    <tr>\n",
       "      <th>4801-JZAZL</th>\n",
       "      <td>Female</td>\n",
       "      <td>0</td>\n",
       "      <td>Yes</td>\n",
       "      <td>Yes</td>\n",
       "    </tr>\n",
       "    <tr>\n",
       "      <th>8361-LTMKD</th>\n",
       "      <td>Male</td>\n",
       "      <td>1</td>\n",
       "      <td>Yes</td>\n",
       "      <td>No</td>\n",
       "    </tr>\n",
       "    <tr>\n",
       "      <th>3186-AJIEK</th>\n",
       "      <td>Male</td>\n",
       "      <td>0</td>\n",
       "      <td>No</td>\n",
       "      <td>No</td>\n",
       "    </tr>\n",
       "  </tbody>\n",
       "</table>\n",
       "<p>7043 rows × 4 columns</p>\n",
       "</div>"
      ],
      "text/plain": [
       "            gender  SeniorCitizen Partner Dependents\n",
       "customerID                                          \n",
       "7590-VHVEG  Female              0     Yes         No\n",
       "5575-GNVDE    Male              0      No         No\n",
       "3668-QPYBK    Male              0      No         No\n",
       "7795-CFOCW    Male              0      No         No\n",
       "9237-HQITU  Female              0      No         No\n",
       "...            ...            ...     ...        ...\n",
       "6840-RESVB    Male              0     Yes        Yes\n",
       "2234-XADUH  Female              0     Yes        Yes\n",
       "4801-JZAZL  Female              0     Yes        Yes\n",
       "8361-LTMKD    Male              1     Yes         No\n",
       "3186-AJIEK    Male              0      No         No\n",
       "\n",
       "[7043 rows x 4 columns]"
      ]
     },
     "execution_count": 6,
     "metadata": {},
     "output_type": "execute_result"
    }
   ],
   "source": [
    "personal"
   ]
  },
  {
   "cell_type": "code",
   "execution_count": 7,
   "id": "d11a39b2",
   "metadata": {},
   "outputs": [
    {
     "name": "stdout",
     "output_type": "stream",
     "text": [
      "<class 'pandas.core.frame.DataFrame'>\n",
      "Index: 7043 entries, 7590-VHVEG to 3186-AJIEK\n",
      "Data columns (total 4 columns):\n",
      " #   Column         Non-Null Count  Dtype \n",
      "---  ------         --------------  ----- \n",
      " 0   gender         7043 non-null   object\n",
      " 1   SeniorCitizen  7043 non-null   int64 \n",
      " 2   Partner        7043 non-null   object\n",
      " 3   Dependents     7043 non-null   object\n",
      "dtypes: int64(1), object(3)\n",
      "memory usage: 275.1+ KB\n"
     ]
    }
   ],
   "source": [
    "personal.info()"
   ]
  },
  {
   "cell_type": "code",
   "execution_count": 8,
   "id": "2b890ae5",
   "metadata": {
    "scrolled": false
   },
   "outputs": [
    {
     "data": {
      "text/html": [
       "<div>\n",
       "<style scoped>\n",
       "    .dataframe tbody tr th:only-of-type {\n",
       "        vertical-align: middle;\n",
       "    }\n",
       "\n",
       "    .dataframe tbody tr th {\n",
       "        vertical-align: top;\n",
       "    }\n",
       "\n",
       "    .dataframe thead th {\n",
       "        text-align: right;\n",
       "    }\n",
       "</style>\n",
       "<table border=\"1\" class=\"dataframe\">\n",
       "  <thead>\n",
       "    <tr style=\"text-align: right;\">\n",
       "      <th></th>\n",
       "      <th>SeniorCitizen</th>\n",
       "    </tr>\n",
       "  </thead>\n",
       "  <tbody>\n",
       "    <tr>\n",
       "      <th>count</th>\n",
       "      <td>7043.000000</td>\n",
       "    </tr>\n",
       "    <tr>\n",
       "      <th>mean</th>\n",
       "      <td>0.162147</td>\n",
       "    </tr>\n",
       "    <tr>\n",
       "      <th>std</th>\n",
       "      <td>0.368612</td>\n",
       "    </tr>\n",
       "    <tr>\n",
       "      <th>min</th>\n",
       "      <td>0.000000</td>\n",
       "    </tr>\n",
       "    <tr>\n",
       "      <th>25%</th>\n",
       "      <td>0.000000</td>\n",
       "    </tr>\n",
       "    <tr>\n",
       "      <th>50%</th>\n",
       "      <td>0.000000</td>\n",
       "    </tr>\n",
       "    <tr>\n",
       "      <th>75%</th>\n",
       "      <td>0.000000</td>\n",
       "    </tr>\n",
       "    <tr>\n",
       "      <th>max</th>\n",
       "      <td>1.000000</td>\n",
       "    </tr>\n",
       "  </tbody>\n",
       "</table>\n",
       "</div>"
      ],
      "text/plain": [
       "       SeniorCitizen\n",
       "count    7043.000000\n",
       "mean        0.162147\n",
       "std         0.368612\n",
       "min         0.000000\n",
       "25%         0.000000\n",
       "50%         0.000000\n",
       "75%         0.000000\n",
       "max         1.000000"
      ]
     },
     "execution_count": 8,
     "metadata": {},
     "output_type": "execute_result"
    }
   ],
   "source": [
    "personal.describe()"
   ]
  },
  {
   "cell_type": "markdown",
   "id": "9a08ae6a",
   "metadata": {},
   "source": [
    "В таблице о клиентах 7 043 строки, пропущенных значений нет.\n",
    "\n",
    "Посмотрим следующую таблицу.\n",
    "\n",
    "**Информация об интернет-услугах**\n",
    "\n",
    "Доступные данные:\n",
    "1. customerID — идентификационный номер клиента\n",
    "2. InternetService — тип интернет-соединения\n",
    "3. OnlineSecurity — блокировка небезопасных сайтов\n",
    "4. OnlineBackup — облачное хранилище файлов для резервного копирования данных\n",
    "5. DeviceProtection — антивирус\n",
    "6. TechSupport — выделенная линия технической поддержки\n",
    "7. StreamingTV — стриминговое телевидение\n",
    "8. StreamingMovies — каталог фильмов"
   ]
  },
  {
   "cell_type": "code",
   "execution_count": 9,
   "id": "a086cfe0",
   "metadata": {},
   "outputs": [
    {
     "data": {
      "text/html": [
       "<div>\n",
       "<style scoped>\n",
       "    .dataframe tbody tr th:only-of-type {\n",
       "        vertical-align: middle;\n",
       "    }\n",
       "\n",
       "    .dataframe tbody tr th {\n",
       "        vertical-align: top;\n",
       "    }\n",
       "\n",
       "    .dataframe thead th {\n",
       "        text-align: right;\n",
       "    }\n",
       "</style>\n",
       "<table border=\"1\" class=\"dataframe\">\n",
       "  <thead>\n",
       "    <tr style=\"text-align: right;\">\n",
       "      <th></th>\n",
       "      <th>InternetService</th>\n",
       "      <th>OnlineSecurity</th>\n",
       "      <th>OnlineBackup</th>\n",
       "      <th>DeviceProtection</th>\n",
       "      <th>TechSupport</th>\n",
       "      <th>StreamingTV</th>\n",
       "      <th>StreamingMovies</th>\n",
       "    </tr>\n",
       "    <tr>\n",
       "      <th>customerID</th>\n",
       "      <th></th>\n",
       "      <th></th>\n",
       "      <th></th>\n",
       "      <th></th>\n",
       "      <th></th>\n",
       "      <th></th>\n",
       "      <th></th>\n",
       "    </tr>\n",
       "  </thead>\n",
       "  <tbody>\n",
       "    <tr>\n",
       "      <th>7590-VHVEG</th>\n",
       "      <td>DSL</td>\n",
       "      <td>No</td>\n",
       "      <td>Yes</td>\n",
       "      <td>No</td>\n",
       "      <td>No</td>\n",
       "      <td>No</td>\n",
       "      <td>No</td>\n",
       "    </tr>\n",
       "    <tr>\n",
       "      <th>5575-GNVDE</th>\n",
       "      <td>DSL</td>\n",
       "      <td>Yes</td>\n",
       "      <td>No</td>\n",
       "      <td>Yes</td>\n",
       "      <td>No</td>\n",
       "      <td>No</td>\n",
       "      <td>No</td>\n",
       "    </tr>\n",
       "    <tr>\n",
       "      <th>3668-QPYBK</th>\n",
       "      <td>DSL</td>\n",
       "      <td>Yes</td>\n",
       "      <td>Yes</td>\n",
       "      <td>No</td>\n",
       "      <td>No</td>\n",
       "      <td>No</td>\n",
       "      <td>No</td>\n",
       "    </tr>\n",
       "    <tr>\n",
       "      <th>7795-CFOCW</th>\n",
       "      <td>DSL</td>\n",
       "      <td>Yes</td>\n",
       "      <td>No</td>\n",
       "      <td>Yes</td>\n",
       "      <td>Yes</td>\n",
       "      <td>No</td>\n",
       "      <td>No</td>\n",
       "    </tr>\n",
       "    <tr>\n",
       "      <th>9237-HQITU</th>\n",
       "      <td>Fiber optic</td>\n",
       "      <td>No</td>\n",
       "      <td>No</td>\n",
       "      <td>No</td>\n",
       "      <td>No</td>\n",
       "      <td>No</td>\n",
       "      <td>No</td>\n",
       "    </tr>\n",
       "    <tr>\n",
       "      <th>...</th>\n",
       "      <td>...</td>\n",
       "      <td>...</td>\n",
       "      <td>...</td>\n",
       "      <td>...</td>\n",
       "      <td>...</td>\n",
       "      <td>...</td>\n",
       "      <td>...</td>\n",
       "    </tr>\n",
       "    <tr>\n",
       "      <th>6840-RESVB</th>\n",
       "      <td>DSL</td>\n",
       "      <td>Yes</td>\n",
       "      <td>No</td>\n",
       "      <td>Yes</td>\n",
       "      <td>Yes</td>\n",
       "      <td>Yes</td>\n",
       "      <td>Yes</td>\n",
       "    </tr>\n",
       "    <tr>\n",
       "      <th>2234-XADUH</th>\n",
       "      <td>Fiber optic</td>\n",
       "      <td>No</td>\n",
       "      <td>Yes</td>\n",
       "      <td>Yes</td>\n",
       "      <td>No</td>\n",
       "      <td>Yes</td>\n",
       "      <td>Yes</td>\n",
       "    </tr>\n",
       "    <tr>\n",
       "      <th>4801-JZAZL</th>\n",
       "      <td>DSL</td>\n",
       "      <td>Yes</td>\n",
       "      <td>No</td>\n",
       "      <td>No</td>\n",
       "      <td>No</td>\n",
       "      <td>No</td>\n",
       "      <td>No</td>\n",
       "    </tr>\n",
       "    <tr>\n",
       "      <th>8361-LTMKD</th>\n",
       "      <td>Fiber optic</td>\n",
       "      <td>No</td>\n",
       "      <td>No</td>\n",
       "      <td>No</td>\n",
       "      <td>No</td>\n",
       "      <td>No</td>\n",
       "      <td>No</td>\n",
       "    </tr>\n",
       "    <tr>\n",
       "      <th>3186-AJIEK</th>\n",
       "      <td>Fiber optic</td>\n",
       "      <td>Yes</td>\n",
       "      <td>No</td>\n",
       "      <td>Yes</td>\n",
       "      <td>Yes</td>\n",
       "      <td>Yes</td>\n",
       "      <td>Yes</td>\n",
       "    </tr>\n",
       "  </tbody>\n",
       "</table>\n",
       "<p>5517 rows × 7 columns</p>\n",
       "</div>"
      ],
      "text/plain": [
       "           InternetService OnlineSecurity OnlineBackup DeviceProtection  \\\n",
       "customerID                                                                \n",
       "7590-VHVEG             DSL             No          Yes               No   \n",
       "5575-GNVDE             DSL            Yes           No              Yes   \n",
       "3668-QPYBK             DSL            Yes          Yes               No   \n",
       "7795-CFOCW             DSL            Yes           No              Yes   \n",
       "9237-HQITU     Fiber optic             No           No               No   \n",
       "...                    ...            ...          ...              ...   \n",
       "6840-RESVB             DSL            Yes           No              Yes   \n",
       "2234-XADUH     Fiber optic             No          Yes              Yes   \n",
       "4801-JZAZL             DSL            Yes           No               No   \n",
       "8361-LTMKD     Fiber optic             No           No               No   \n",
       "3186-AJIEK     Fiber optic            Yes           No              Yes   \n",
       "\n",
       "           TechSupport StreamingTV StreamingMovies  \n",
       "customerID                                          \n",
       "7590-VHVEG          No          No              No  \n",
       "5575-GNVDE          No          No              No  \n",
       "3668-QPYBK          No          No              No  \n",
       "7795-CFOCW         Yes          No              No  \n",
       "9237-HQITU          No          No              No  \n",
       "...                ...         ...             ...  \n",
       "6840-RESVB         Yes         Yes             Yes  \n",
       "2234-XADUH          No         Yes             Yes  \n",
       "4801-JZAZL          No          No              No  \n",
       "8361-LTMKD          No          No              No  \n",
       "3186-AJIEK         Yes         Yes             Yes  \n",
       "\n",
       "[5517 rows x 7 columns]"
      ]
     },
     "execution_count": 9,
     "metadata": {},
     "output_type": "execute_result"
    }
   ],
   "source": [
    "internet"
   ]
  },
  {
   "cell_type": "code",
   "execution_count": 10,
   "id": "75b70361",
   "metadata": {},
   "outputs": [
    {
     "name": "stdout",
     "output_type": "stream",
     "text": [
      "<class 'pandas.core.frame.DataFrame'>\n",
      "Index: 5517 entries, 7590-VHVEG to 3186-AJIEK\n",
      "Data columns (total 7 columns):\n",
      " #   Column            Non-Null Count  Dtype \n",
      "---  ------            --------------  ----- \n",
      " 0   InternetService   5517 non-null   object\n",
      " 1   OnlineSecurity    5517 non-null   object\n",
      " 2   OnlineBackup      5517 non-null   object\n",
      " 3   DeviceProtection  5517 non-null   object\n",
      " 4   TechSupport       5517 non-null   object\n",
      " 5   StreamingTV       5517 non-null   object\n",
      " 6   StreamingMovies   5517 non-null   object\n",
      "dtypes: object(7)\n",
      "memory usage: 344.8+ KB\n"
     ]
    }
   ],
   "source": [
    "internet.info()"
   ]
  },
  {
   "cell_type": "code",
   "execution_count": 11,
   "id": "85f14994",
   "metadata": {
    "scrolled": false
   },
   "outputs": [
    {
     "data": {
      "text/html": [
       "<div>\n",
       "<style scoped>\n",
       "    .dataframe tbody tr th:only-of-type {\n",
       "        vertical-align: middle;\n",
       "    }\n",
       "\n",
       "    .dataframe tbody tr th {\n",
       "        vertical-align: top;\n",
       "    }\n",
       "\n",
       "    .dataframe thead th {\n",
       "        text-align: right;\n",
       "    }\n",
       "</style>\n",
       "<table border=\"1\" class=\"dataframe\">\n",
       "  <thead>\n",
       "    <tr style=\"text-align: right;\">\n",
       "      <th></th>\n",
       "      <th>InternetService</th>\n",
       "      <th>OnlineSecurity</th>\n",
       "      <th>OnlineBackup</th>\n",
       "      <th>DeviceProtection</th>\n",
       "      <th>TechSupport</th>\n",
       "      <th>StreamingTV</th>\n",
       "      <th>StreamingMovies</th>\n",
       "    </tr>\n",
       "  </thead>\n",
       "  <tbody>\n",
       "    <tr>\n",
       "      <th>count</th>\n",
       "      <td>5517</td>\n",
       "      <td>5517</td>\n",
       "      <td>5517</td>\n",
       "      <td>5517</td>\n",
       "      <td>5517</td>\n",
       "      <td>5517</td>\n",
       "      <td>5517</td>\n",
       "    </tr>\n",
       "    <tr>\n",
       "      <th>unique</th>\n",
       "      <td>2</td>\n",
       "      <td>2</td>\n",
       "      <td>2</td>\n",
       "      <td>2</td>\n",
       "      <td>2</td>\n",
       "      <td>2</td>\n",
       "      <td>2</td>\n",
       "    </tr>\n",
       "    <tr>\n",
       "      <th>top</th>\n",
       "      <td>Fiber optic</td>\n",
       "      <td>No</td>\n",
       "      <td>No</td>\n",
       "      <td>No</td>\n",
       "      <td>No</td>\n",
       "      <td>No</td>\n",
       "      <td>No</td>\n",
       "    </tr>\n",
       "    <tr>\n",
       "      <th>freq</th>\n",
       "      <td>3096</td>\n",
       "      <td>3498</td>\n",
       "      <td>3088</td>\n",
       "      <td>3095</td>\n",
       "      <td>3473</td>\n",
       "      <td>2810</td>\n",
       "      <td>2785</td>\n",
       "    </tr>\n",
       "  </tbody>\n",
       "</table>\n",
       "</div>"
      ],
      "text/plain": [
       "       InternetService OnlineSecurity OnlineBackup DeviceProtection  \\\n",
       "count             5517           5517         5517             5517   \n",
       "unique               2              2            2                2   \n",
       "top        Fiber optic             No           No               No   \n",
       "freq              3096           3498         3088             3095   \n",
       "\n",
       "       TechSupport StreamingTV StreamingMovies  \n",
       "count         5517        5517            5517  \n",
       "unique           2           2               2  \n",
       "top             No          No              No  \n",
       "freq          3473        2810            2785  "
      ]
     },
     "execution_count": 11,
     "metadata": {},
     "output_type": "execute_result"
    }
   ],
   "source": [
    "internet.describe()"
   ]
  },
  {
   "cell_type": "markdown",
   "id": "c42a32fd",
   "metadata": {},
   "source": [
    "Интернет-услугами пользуются 5 517 клиентов, пропущенных значений в таблице нет.\n",
    "\n",
    "Посмотрим следующую таблицу.\n",
    "\n",
    "**Информация об услугах телефонии**\n",
    "\n",
    "Доступные данные:\n",
    "1. customerID — идентификационный номер клиента\n",
    "2. MultipleLines — подключено ли несколько телефонных линий одновременно"
   ]
  },
  {
   "cell_type": "code",
   "execution_count": 12,
   "id": "bec1a0c6",
   "metadata": {},
   "outputs": [
    {
     "data": {
      "text/html": [
       "<div>\n",
       "<style scoped>\n",
       "    .dataframe tbody tr th:only-of-type {\n",
       "        vertical-align: middle;\n",
       "    }\n",
       "\n",
       "    .dataframe tbody tr th {\n",
       "        vertical-align: top;\n",
       "    }\n",
       "\n",
       "    .dataframe thead th {\n",
       "        text-align: right;\n",
       "    }\n",
       "</style>\n",
       "<table border=\"1\" class=\"dataframe\">\n",
       "  <thead>\n",
       "    <tr style=\"text-align: right;\">\n",
       "      <th></th>\n",
       "      <th>MultipleLines</th>\n",
       "    </tr>\n",
       "    <tr>\n",
       "      <th>customerID</th>\n",
       "      <th></th>\n",
       "    </tr>\n",
       "  </thead>\n",
       "  <tbody>\n",
       "    <tr>\n",
       "      <th>5575-GNVDE</th>\n",
       "      <td>No</td>\n",
       "    </tr>\n",
       "    <tr>\n",
       "      <th>3668-QPYBK</th>\n",
       "      <td>No</td>\n",
       "    </tr>\n",
       "    <tr>\n",
       "      <th>9237-HQITU</th>\n",
       "      <td>No</td>\n",
       "    </tr>\n",
       "    <tr>\n",
       "      <th>9305-CDSKC</th>\n",
       "      <td>Yes</td>\n",
       "    </tr>\n",
       "    <tr>\n",
       "      <th>1452-KIOVK</th>\n",
       "      <td>Yes</td>\n",
       "    </tr>\n",
       "    <tr>\n",
       "      <th>...</th>\n",
       "      <td>...</td>\n",
       "    </tr>\n",
       "    <tr>\n",
       "      <th>2569-WGERO</th>\n",
       "      <td>No</td>\n",
       "    </tr>\n",
       "    <tr>\n",
       "      <th>6840-RESVB</th>\n",
       "      <td>Yes</td>\n",
       "    </tr>\n",
       "    <tr>\n",
       "      <th>2234-XADUH</th>\n",
       "      <td>Yes</td>\n",
       "    </tr>\n",
       "    <tr>\n",
       "      <th>8361-LTMKD</th>\n",
       "      <td>Yes</td>\n",
       "    </tr>\n",
       "    <tr>\n",
       "      <th>3186-AJIEK</th>\n",
       "      <td>No</td>\n",
       "    </tr>\n",
       "  </tbody>\n",
       "</table>\n",
       "<p>6361 rows × 1 columns</p>\n",
       "</div>"
      ],
      "text/plain": [
       "           MultipleLines\n",
       "customerID              \n",
       "5575-GNVDE            No\n",
       "3668-QPYBK            No\n",
       "9237-HQITU            No\n",
       "9305-CDSKC           Yes\n",
       "1452-KIOVK           Yes\n",
       "...                  ...\n",
       "2569-WGERO            No\n",
       "6840-RESVB           Yes\n",
       "2234-XADUH           Yes\n",
       "8361-LTMKD           Yes\n",
       "3186-AJIEK            No\n",
       "\n",
       "[6361 rows x 1 columns]"
      ]
     },
     "execution_count": 12,
     "metadata": {},
     "output_type": "execute_result"
    }
   ],
   "source": [
    "phone"
   ]
  },
  {
   "cell_type": "code",
   "execution_count": 13,
   "id": "29fb1ab8",
   "metadata": {},
   "outputs": [
    {
     "name": "stdout",
     "output_type": "stream",
     "text": [
      "<class 'pandas.core.frame.DataFrame'>\n",
      "Index: 6361 entries, 5575-GNVDE to 3186-AJIEK\n",
      "Data columns (total 1 columns):\n",
      " #   Column         Non-Null Count  Dtype \n",
      "---  ------         --------------  ----- \n",
      " 0   MultipleLines  6361 non-null   object\n",
      "dtypes: object(1)\n",
      "memory usage: 99.4+ KB\n"
     ]
    }
   ],
   "source": [
    "phone.info()"
   ]
  },
  {
   "cell_type": "code",
   "execution_count": 14,
   "id": "83c3d312",
   "metadata": {},
   "outputs": [
    {
     "data": {
      "text/html": [
       "<div>\n",
       "<style scoped>\n",
       "    .dataframe tbody tr th:only-of-type {\n",
       "        vertical-align: middle;\n",
       "    }\n",
       "\n",
       "    .dataframe tbody tr th {\n",
       "        vertical-align: top;\n",
       "    }\n",
       "\n",
       "    .dataframe thead th {\n",
       "        text-align: right;\n",
       "    }\n",
       "</style>\n",
       "<table border=\"1\" class=\"dataframe\">\n",
       "  <thead>\n",
       "    <tr style=\"text-align: right;\">\n",
       "      <th></th>\n",
       "      <th>MultipleLines</th>\n",
       "    </tr>\n",
       "  </thead>\n",
       "  <tbody>\n",
       "    <tr>\n",
       "      <th>count</th>\n",
       "      <td>6361</td>\n",
       "    </tr>\n",
       "    <tr>\n",
       "      <th>unique</th>\n",
       "      <td>2</td>\n",
       "    </tr>\n",
       "    <tr>\n",
       "      <th>top</th>\n",
       "      <td>No</td>\n",
       "    </tr>\n",
       "    <tr>\n",
       "      <th>freq</th>\n",
       "      <td>3390</td>\n",
       "    </tr>\n",
       "  </tbody>\n",
       "</table>\n",
       "</div>"
      ],
      "text/plain": [
       "       MultipleLines\n",
       "count           6361\n",
       "unique             2\n",
       "top               No\n",
       "freq            3390"
      ]
     },
     "execution_count": 14,
     "metadata": {},
     "output_type": "execute_result"
    }
   ],
   "source": [
    "phone.describe()"
   ]
  },
  {
   "cell_type": "markdown",
   "id": "2a79d56f",
   "metadata": {},
   "source": [
    "Услугами телефонии пользуются 6 361 клиент, пропущенных значений в таблице нет."
   ]
  },
  {
   "cell_type": "markdown",
   "id": "1f7b89e9",
   "metadata": {},
   "source": [
    "### Стиль заголовков\n",
    "Приведем названия столбцов к хорошему стилю - напишем в нижнем регистре snake case."
   ]
  },
  {
   "cell_type": "code",
   "execution_count": 15,
   "id": "8cc79ed2",
   "metadata": {},
   "outputs": [
    {
     "data": {
      "text/html": [
       "<div>\n",
       "<style scoped>\n",
       "    .dataframe tbody tr th:only-of-type {\n",
       "        vertical-align: middle;\n",
       "    }\n",
       "\n",
       "    .dataframe tbody tr th {\n",
       "        vertical-align: top;\n",
       "    }\n",
       "\n",
       "    .dataframe thead th {\n",
       "        text-align: right;\n",
       "    }\n",
       "</style>\n",
       "<table border=\"1\" class=\"dataframe\">\n",
       "  <thead>\n",
       "    <tr style=\"text-align: right;\">\n",
       "      <th></th>\n",
       "      <th>begin_date</th>\n",
       "      <th>end_date</th>\n",
       "      <th>type</th>\n",
       "      <th>paperless_billing</th>\n",
       "      <th>payment_method</th>\n",
       "      <th>monthly_charges</th>\n",
       "      <th>total_charges</th>\n",
       "    </tr>\n",
       "    <tr>\n",
       "      <th>customerID</th>\n",
       "      <th></th>\n",
       "      <th></th>\n",
       "      <th></th>\n",
       "      <th></th>\n",
       "      <th></th>\n",
       "      <th></th>\n",
       "      <th></th>\n",
       "    </tr>\n",
       "  </thead>\n",
       "  <tbody>\n",
       "    <tr>\n",
       "      <th>7590-VHVEG</th>\n",
       "      <td>2020-01-01</td>\n",
       "      <td>No</td>\n",
       "      <td>Month-to-month</td>\n",
       "      <td>Yes</td>\n",
       "      <td>Electronic check</td>\n",
       "      <td>29.85</td>\n",
       "      <td>29.85</td>\n",
       "    </tr>\n",
       "    <tr>\n",
       "      <th>5575-GNVDE</th>\n",
       "      <td>2017-04-01</td>\n",
       "      <td>No</td>\n",
       "      <td>One year</td>\n",
       "      <td>No</td>\n",
       "      <td>Mailed check</td>\n",
       "      <td>56.95</td>\n",
       "      <td>1889.5</td>\n",
       "    </tr>\n",
       "    <tr>\n",
       "      <th>3668-QPYBK</th>\n",
       "      <td>2019-10-01</td>\n",
       "      <td>2019-12-01 00:00:00</td>\n",
       "      <td>Month-to-month</td>\n",
       "      <td>Yes</td>\n",
       "      <td>Mailed check</td>\n",
       "      <td>53.85</td>\n",
       "      <td>108.15</td>\n",
       "    </tr>\n",
       "    <tr>\n",
       "      <th>7795-CFOCW</th>\n",
       "      <td>2016-05-01</td>\n",
       "      <td>No</td>\n",
       "      <td>One year</td>\n",
       "      <td>No</td>\n",
       "      <td>Bank transfer (automatic)</td>\n",
       "      <td>42.30</td>\n",
       "      <td>1840.75</td>\n",
       "    </tr>\n",
       "    <tr>\n",
       "      <th>9237-HQITU</th>\n",
       "      <td>2019-09-01</td>\n",
       "      <td>2019-11-01 00:00:00</td>\n",
       "      <td>Month-to-month</td>\n",
       "      <td>Yes</td>\n",
       "      <td>Electronic check</td>\n",
       "      <td>70.70</td>\n",
       "      <td>151.65</td>\n",
       "    </tr>\n",
       "  </tbody>\n",
       "</table>\n",
       "</div>"
      ],
      "text/plain": [
       "            begin_date             end_date            type paperless_billing  \\\n",
       "customerID                                                                      \n",
       "7590-VHVEG  2020-01-01                   No  Month-to-month               Yes   \n",
       "5575-GNVDE  2017-04-01                   No        One year                No   \n",
       "3668-QPYBK  2019-10-01  2019-12-01 00:00:00  Month-to-month               Yes   \n",
       "7795-CFOCW  2016-05-01                   No        One year                No   \n",
       "9237-HQITU  2019-09-01  2019-11-01 00:00:00  Month-to-month               Yes   \n",
       "\n",
       "                       payment_method  monthly_charges total_charges  \n",
       "customerID                                                            \n",
       "7590-VHVEG           Electronic check            29.85         29.85  \n",
       "5575-GNVDE               Mailed check            56.95        1889.5  \n",
       "3668-QPYBK               Mailed check            53.85        108.15  \n",
       "7795-CFOCW  Bank transfer (automatic)            42.30       1840.75  \n",
       "9237-HQITU           Electronic check            70.70        151.65  "
      ]
     },
     "execution_count": 15,
     "metadata": {},
     "output_type": "execute_result"
    }
   ],
   "source": [
    "contract.columns = contract.columns.str.lower()\n",
    "contract = contract.rename(columns={'begindate':'begin_date',\n",
    "                                   'enddate':'end_date',\n",
    "                                   'paperlessbilling':'paperless_billing',\n",
    "                                   'paymentmethod':'payment_method',\n",
    "                                   'monthlycharges':'monthly_charges',\n",
    "                                   'totalcharges':'total_charges'})\n",
    "contract.head()"
   ]
  },
  {
   "cell_type": "code",
   "execution_count": 16,
   "id": "062958c4",
   "metadata": {},
   "outputs": [
    {
     "data": {
      "text/html": [
       "<div>\n",
       "<style scoped>\n",
       "    .dataframe tbody tr th:only-of-type {\n",
       "        vertical-align: middle;\n",
       "    }\n",
       "\n",
       "    .dataframe tbody tr th {\n",
       "        vertical-align: top;\n",
       "    }\n",
       "\n",
       "    .dataframe thead th {\n",
       "        text-align: right;\n",
       "    }\n",
       "</style>\n",
       "<table border=\"1\" class=\"dataframe\">\n",
       "  <thead>\n",
       "    <tr style=\"text-align: right;\">\n",
       "      <th></th>\n",
       "      <th>internet_service</th>\n",
       "      <th>online_security</th>\n",
       "      <th>online_backup</th>\n",
       "      <th>device_protection</th>\n",
       "      <th>tech_support</th>\n",
       "      <th>streaming_tv</th>\n",
       "      <th>streaming_movies</th>\n",
       "    </tr>\n",
       "    <tr>\n",
       "      <th>customerID</th>\n",
       "      <th></th>\n",
       "      <th></th>\n",
       "      <th></th>\n",
       "      <th></th>\n",
       "      <th></th>\n",
       "      <th></th>\n",
       "      <th></th>\n",
       "    </tr>\n",
       "  </thead>\n",
       "  <tbody>\n",
       "    <tr>\n",
       "      <th>7590-VHVEG</th>\n",
       "      <td>DSL</td>\n",
       "      <td>No</td>\n",
       "      <td>Yes</td>\n",
       "      <td>No</td>\n",
       "      <td>No</td>\n",
       "      <td>No</td>\n",
       "      <td>No</td>\n",
       "    </tr>\n",
       "    <tr>\n",
       "      <th>5575-GNVDE</th>\n",
       "      <td>DSL</td>\n",
       "      <td>Yes</td>\n",
       "      <td>No</td>\n",
       "      <td>Yes</td>\n",
       "      <td>No</td>\n",
       "      <td>No</td>\n",
       "      <td>No</td>\n",
       "    </tr>\n",
       "    <tr>\n",
       "      <th>3668-QPYBK</th>\n",
       "      <td>DSL</td>\n",
       "      <td>Yes</td>\n",
       "      <td>Yes</td>\n",
       "      <td>No</td>\n",
       "      <td>No</td>\n",
       "      <td>No</td>\n",
       "      <td>No</td>\n",
       "    </tr>\n",
       "    <tr>\n",
       "      <th>7795-CFOCW</th>\n",
       "      <td>DSL</td>\n",
       "      <td>Yes</td>\n",
       "      <td>No</td>\n",
       "      <td>Yes</td>\n",
       "      <td>Yes</td>\n",
       "      <td>No</td>\n",
       "      <td>No</td>\n",
       "    </tr>\n",
       "    <tr>\n",
       "      <th>9237-HQITU</th>\n",
       "      <td>Fiber optic</td>\n",
       "      <td>No</td>\n",
       "      <td>No</td>\n",
       "      <td>No</td>\n",
       "      <td>No</td>\n",
       "      <td>No</td>\n",
       "      <td>No</td>\n",
       "    </tr>\n",
       "  </tbody>\n",
       "</table>\n",
       "</div>"
      ],
      "text/plain": [
       "           internet_service online_security online_backup device_protection  \\\n",
       "customerID                                                                    \n",
       "7590-VHVEG              DSL              No           Yes                No   \n",
       "5575-GNVDE              DSL             Yes            No               Yes   \n",
       "3668-QPYBK              DSL             Yes           Yes                No   \n",
       "7795-CFOCW              DSL             Yes            No               Yes   \n",
       "9237-HQITU      Fiber optic              No            No                No   \n",
       "\n",
       "           tech_support streaming_tv streaming_movies  \n",
       "customerID                                             \n",
       "7590-VHVEG           No           No               No  \n",
       "5575-GNVDE           No           No               No  \n",
       "3668-QPYBK           No           No               No  \n",
       "7795-CFOCW          Yes           No               No  \n",
       "9237-HQITU           No           No               No  "
      ]
     },
     "execution_count": 16,
     "metadata": {},
     "output_type": "execute_result"
    }
   ],
   "source": [
    "internet.columns = internet.columns.str.lower()\n",
    "internet = internet.rename(columns={'internetservice':'internet_service',\n",
    "                                   'onlinesecurity':'online_security',\n",
    "                                   'onlinebackup':'online_backup',\n",
    "                                   'deviceprotection':'device_protection',\n",
    "                                   'techsupport':'tech_support',\n",
    "                                   'streamingtv':'streaming_tv',\n",
    "                                   'streamingmovies':'streaming_movies'})\n",
    "internet.head()"
   ]
  },
  {
   "cell_type": "code",
   "execution_count": 17,
   "id": "fee6ca9d",
   "metadata": {},
   "outputs": [
    {
     "data": {
      "text/html": [
       "<div>\n",
       "<style scoped>\n",
       "    .dataframe tbody tr th:only-of-type {\n",
       "        vertical-align: middle;\n",
       "    }\n",
       "\n",
       "    .dataframe tbody tr th {\n",
       "        vertical-align: top;\n",
       "    }\n",
       "\n",
       "    .dataframe thead th {\n",
       "        text-align: right;\n",
       "    }\n",
       "</style>\n",
       "<table border=\"1\" class=\"dataframe\">\n",
       "  <thead>\n",
       "    <tr style=\"text-align: right;\">\n",
       "      <th></th>\n",
       "      <th>gender</th>\n",
       "      <th>senior_citizen</th>\n",
       "      <th>partner</th>\n",
       "      <th>dependents</th>\n",
       "    </tr>\n",
       "    <tr>\n",
       "      <th>customerID</th>\n",
       "      <th></th>\n",
       "      <th></th>\n",
       "      <th></th>\n",
       "      <th></th>\n",
       "    </tr>\n",
       "  </thead>\n",
       "  <tbody>\n",
       "    <tr>\n",
       "      <th>7590-VHVEG</th>\n",
       "      <td>Female</td>\n",
       "      <td>0</td>\n",
       "      <td>Yes</td>\n",
       "      <td>No</td>\n",
       "    </tr>\n",
       "    <tr>\n",
       "      <th>5575-GNVDE</th>\n",
       "      <td>Male</td>\n",
       "      <td>0</td>\n",
       "      <td>No</td>\n",
       "      <td>No</td>\n",
       "    </tr>\n",
       "    <tr>\n",
       "      <th>3668-QPYBK</th>\n",
       "      <td>Male</td>\n",
       "      <td>0</td>\n",
       "      <td>No</td>\n",
       "      <td>No</td>\n",
       "    </tr>\n",
       "    <tr>\n",
       "      <th>7795-CFOCW</th>\n",
       "      <td>Male</td>\n",
       "      <td>0</td>\n",
       "      <td>No</td>\n",
       "      <td>No</td>\n",
       "    </tr>\n",
       "    <tr>\n",
       "      <th>9237-HQITU</th>\n",
       "      <td>Female</td>\n",
       "      <td>0</td>\n",
       "      <td>No</td>\n",
       "      <td>No</td>\n",
       "    </tr>\n",
       "  </tbody>\n",
       "</table>\n",
       "</div>"
      ],
      "text/plain": [
       "            gender  senior_citizen partner dependents\n",
       "customerID                                           \n",
       "7590-VHVEG  Female               0     Yes         No\n",
       "5575-GNVDE    Male               0      No         No\n",
       "3668-QPYBK    Male               0      No         No\n",
       "7795-CFOCW    Male               0      No         No\n",
       "9237-HQITU  Female               0      No         No"
      ]
     },
     "execution_count": 17,
     "metadata": {},
     "output_type": "execute_result"
    }
   ],
   "source": [
    "personal.columns = personal.columns.str.lower()\n",
    "personal = personal.rename(columns={'seniorcitizen':'senior_citizen'})\n",
    "personal.head()"
   ]
  },
  {
   "cell_type": "code",
   "execution_count": 18,
   "id": "84d7c612",
   "metadata": {},
   "outputs": [
    {
     "data": {
      "text/html": [
       "<div>\n",
       "<style scoped>\n",
       "    .dataframe tbody tr th:only-of-type {\n",
       "        vertical-align: middle;\n",
       "    }\n",
       "\n",
       "    .dataframe tbody tr th {\n",
       "        vertical-align: top;\n",
       "    }\n",
       "\n",
       "    .dataframe thead th {\n",
       "        text-align: right;\n",
       "    }\n",
       "</style>\n",
       "<table border=\"1\" class=\"dataframe\">\n",
       "  <thead>\n",
       "    <tr style=\"text-align: right;\">\n",
       "      <th></th>\n",
       "      <th>multiple_lines</th>\n",
       "    </tr>\n",
       "    <tr>\n",
       "      <th>customerID</th>\n",
       "      <th></th>\n",
       "    </tr>\n",
       "  </thead>\n",
       "  <tbody>\n",
       "    <tr>\n",
       "      <th>5575-GNVDE</th>\n",
       "      <td>No</td>\n",
       "    </tr>\n",
       "    <tr>\n",
       "      <th>3668-QPYBK</th>\n",
       "      <td>No</td>\n",
       "    </tr>\n",
       "    <tr>\n",
       "      <th>9237-HQITU</th>\n",
       "      <td>No</td>\n",
       "    </tr>\n",
       "    <tr>\n",
       "      <th>9305-CDSKC</th>\n",
       "      <td>Yes</td>\n",
       "    </tr>\n",
       "    <tr>\n",
       "      <th>1452-KIOVK</th>\n",
       "      <td>Yes</td>\n",
       "    </tr>\n",
       "    <tr>\n",
       "      <th>...</th>\n",
       "      <td>...</td>\n",
       "    </tr>\n",
       "    <tr>\n",
       "      <th>2569-WGERO</th>\n",
       "      <td>No</td>\n",
       "    </tr>\n",
       "    <tr>\n",
       "      <th>6840-RESVB</th>\n",
       "      <td>Yes</td>\n",
       "    </tr>\n",
       "    <tr>\n",
       "      <th>2234-XADUH</th>\n",
       "      <td>Yes</td>\n",
       "    </tr>\n",
       "    <tr>\n",
       "      <th>8361-LTMKD</th>\n",
       "      <td>Yes</td>\n",
       "    </tr>\n",
       "    <tr>\n",
       "      <th>3186-AJIEK</th>\n",
       "      <td>No</td>\n",
       "    </tr>\n",
       "  </tbody>\n",
       "</table>\n",
       "<p>6361 rows × 1 columns</p>\n",
       "</div>"
      ],
      "text/plain": [
       "           multiple_lines\n",
       "customerID               \n",
       "5575-GNVDE             No\n",
       "3668-QPYBK             No\n",
       "9237-HQITU             No\n",
       "9305-CDSKC            Yes\n",
       "1452-KIOVK            Yes\n",
       "...                   ...\n",
       "2569-WGERO             No\n",
       "6840-RESVB            Yes\n",
       "2234-XADUH            Yes\n",
       "8361-LTMKD            Yes\n",
       "3186-AJIEK             No\n",
       "\n",
       "[6361 rows x 1 columns]"
      ]
     },
     "execution_count": 18,
     "metadata": {},
     "output_type": "execute_result"
    }
   ],
   "source": [
    "phone = phone.rename(columns={'MultipleLines':'multiple_lines'})\n",
    "phone"
   ]
  },
  {
   "cell_type": "markdown",
   "id": "08962608",
   "metadata": {},
   "source": [
    "### Объединение таблиц"
   ]
  },
  {
   "cell_type": "code",
   "execution_count": 19,
   "id": "2e192d37",
   "metadata": {},
   "outputs": [
    {
     "data": {
      "text/html": [
       "<div>\n",
       "<style scoped>\n",
       "    .dataframe tbody tr th:only-of-type {\n",
       "        vertical-align: middle;\n",
       "    }\n",
       "\n",
       "    .dataframe tbody tr th {\n",
       "        vertical-align: top;\n",
       "    }\n",
       "\n",
       "    .dataframe thead th {\n",
       "        text-align: right;\n",
       "    }\n",
       "</style>\n",
       "<table border=\"1\" class=\"dataframe\">\n",
       "  <thead>\n",
       "    <tr style=\"text-align: right;\">\n",
       "      <th></th>\n",
       "      <th>begin_date</th>\n",
       "      <th>end_date</th>\n",
       "      <th>type</th>\n",
       "      <th>paperless_billing</th>\n",
       "      <th>payment_method</th>\n",
       "      <th>monthly_charges</th>\n",
       "      <th>total_charges</th>\n",
       "      <th>gender</th>\n",
       "      <th>senior_citizen</th>\n",
       "      <th>partner</th>\n",
       "      <th>dependents</th>\n",
       "      <th>internet_service</th>\n",
       "      <th>online_security</th>\n",
       "      <th>online_backup</th>\n",
       "      <th>device_protection</th>\n",
       "      <th>tech_support</th>\n",
       "      <th>streaming_tv</th>\n",
       "      <th>streaming_movies</th>\n",
       "      <th>multiple_lines</th>\n",
       "    </tr>\n",
       "    <tr>\n",
       "      <th>customerID</th>\n",
       "      <th></th>\n",
       "      <th></th>\n",
       "      <th></th>\n",
       "      <th></th>\n",
       "      <th></th>\n",
       "      <th></th>\n",
       "      <th></th>\n",
       "      <th></th>\n",
       "      <th></th>\n",
       "      <th></th>\n",
       "      <th></th>\n",
       "      <th></th>\n",
       "      <th></th>\n",
       "      <th></th>\n",
       "      <th></th>\n",
       "      <th></th>\n",
       "      <th></th>\n",
       "      <th></th>\n",
       "      <th></th>\n",
       "    </tr>\n",
       "  </thead>\n",
       "  <tbody>\n",
       "    <tr>\n",
       "      <th>7590-VHVEG</th>\n",
       "      <td>2020-01-01</td>\n",
       "      <td>No</td>\n",
       "      <td>Month-to-month</td>\n",
       "      <td>Yes</td>\n",
       "      <td>Electronic check</td>\n",
       "      <td>29.85</td>\n",
       "      <td>29.85</td>\n",
       "      <td>Female</td>\n",
       "      <td>0</td>\n",
       "      <td>Yes</td>\n",
       "      <td>No</td>\n",
       "      <td>DSL</td>\n",
       "      <td>No</td>\n",
       "      <td>Yes</td>\n",
       "      <td>No</td>\n",
       "      <td>No</td>\n",
       "      <td>No</td>\n",
       "      <td>No</td>\n",
       "      <td>NaN</td>\n",
       "    </tr>\n",
       "    <tr>\n",
       "      <th>5575-GNVDE</th>\n",
       "      <td>2017-04-01</td>\n",
       "      <td>No</td>\n",
       "      <td>One year</td>\n",
       "      <td>No</td>\n",
       "      <td>Mailed check</td>\n",
       "      <td>56.95</td>\n",
       "      <td>1889.5</td>\n",
       "      <td>Male</td>\n",
       "      <td>0</td>\n",
       "      <td>No</td>\n",
       "      <td>No</td>\n",
       "      <td>DSL</td>\n",
       "      <td>Yes</td>\n",
       "      <td>No</td>\n",
       "      <td>Yes</td>\n",
       "      <td>No</td>\n",
       "      <td>No</td>\n",
       "      <td>No</td>\n",
       "      <td>No</td>\n",
       "    </tr>\n",
       "    <tr>\n",
       "      <th>3668-QPYBK</th>\n",
       "      <td>2019-10-01</td>\n",
       "      <td>2019-12-01 00:00:00</td>\n",
       "      <td>Month-to-month</td>\n",
       "      <td>Yes</td>\n",
       "      <td>Mailed check</td>\n",
       "      <td>53.85</td>\n",
       "      <td>108.15</td>\n",
       "      <td>Male</td>\n",
       "      <td>0</td>\n",
       "      <td>No</td>\n",
       "      <td>No</td>\n",
       "      <td>DSL</td>\n",
       "      <td>Yes</td>\n",
       "      <td>Yes</td>\n",
       "      <td>No</td>\n",
       "      <td>No</td>\n",
       "      <td>No</td>\n",
       "      <td>No</td>\n",
       "      <td>No</td>\n",
       "    </tr>\n",
       "    <tr>\n",
       "      <th>7795-CFOCW</th>\n",
       "      <td>2016-05-01</td>\n",
       "      <td>No</td>\n",
       "      <td>One year</td>\n",
       "      <td>No</td>\n",
       "      <td>Bank transfer (automatic)</td>\n",
       "      <td>42.30</td>\n",
       "      <td>1840.75</td>\n",
       "      <td>Male</td>\n",
       "      <td>0</td>\n",
       "      <td>No</td>\n",
       "      <td>No</td>\n",
       "      <td>DSL</td>\n",
       "      <td>Yes</td>\n",
       "      <td>No</td>\n",
       "      <td>Yes</td>\n",
       "      <td>Yes</td>\n",
       "      <td>No</td>\n",
       "      <td>No</td>\n",
       "      <td>NaN</td>\n",
       "    </tr>\n",
       "    <tr>\n",
       "      <th>9237-HQITU</th>\n",
       "      <td>2019-09-01</td>\n",
       "      <td>2019-11-01 00:00:00</td>\n",
       "      <td>Month-to-month</td>\n",
       "      <td>Yes</td>\n",
       "      <td>Electronic check</td>\n",
       "      <td>70.70</td>\n",
       "      <td>151.65</td>\n",
       "      <td>Female</td>\n",
       "      <td>0</td>\n",
       "      <td>No</td>\n",
       "      <td>No</td>\n",
       "      <td>Fiber optic</td>\n",
       "      <td>No</td>\n",
       "      <td>No</td>\n",
       "      <td>No</td>\n",
       "      <td>No</td>\n",
       "      <td>No</td>\n",
       "      <td>No</td>\n",
       "      <td>No</td>\n",
       "    </tr>\n",
       "  </tbody>\n",
       "</table>\n",
       "</div>"
      ],
      "text/plain": [
       "            begin_date             end_date            type paperless_billing  \\\n",
       "customerID                                                                      \n",
       "7590-VHVEG  2020-01-01                   No  Month-to-month               Yes   \n",
       "5575-GNVDE  2017-04-01                   No        One year                No   \n",
       "3668-QPYBK  2019-10-01  2019-12-01 00:00:00  Month-to-month               Yes   \n",
       "7795-CFOCW  2016-05-01                   No        One year                No   \n",
       "9237-HQITU  2019-09-01  2019-11-01 00:00:00  Month-to-month               Yes   \n",
       "\n",
       "                       payment_method  monthly_charges total_charges  gender  \\\n",
       "customerID                                                                     \n",
       "7590-VHVEG           Electronic check            29.85         29.85  Female   \n",
       "5575-GNVDE               Mailed check            56.95        1889.5    Male   \n",
       "3668-QPYBK               Mailed check            53.85        108.15    Male   \n",
       "7795-CFOCW  Bank transfer (automatic)            42.30       1840.75    Male   \n",
       "9237-HQITU           Electronic check            70.70        151.65  Female   \n",
       "\n",
       "            senior_citizen partner dependents internet_service  \\\n",
       "customerID                                                       \n",
       "7590-VHVEG               0     Yes         No              DSL   \n",
       "5575-GNVDE               0      No         No              DSL   \n",
       "3668-QPYBK               0      No         No              DSL   \n",
       "7795-CFOCW               0      No         No              DSL   \n",
       "9237-HQITU               0      No         No      Fiber optic   \n",
       "\n",
       "           online_security online_backup device_protection tech_support  \\\n",
       "customerID                                                                \n",
       "7590-VHVEG              No           Yes                No           No   \n",
       "5575-GNVDE             Yes            No               Yes           No   \n",
       "3668-QPYBK             Yes           Yes                No           No   \n",
       "7795-CFOCW             Yes            No               Yes          Yes   \n",
       "9237-HQITU              No            No                No           No   \n",
       "\n",
       "           streaming_tv streaming_movies multiple_lines  \n",
       "customerID                                               \n",
       "7590-VHVEG           No               No            NaN  \n",
       "5575-GNVDE           No               No             No  \n",
       "3668-QPYBK           No               No             No  \n",
       "7795-CFOCW           No               No            NaN  \n",
       "9237-HQITU           No               No             No  "
      ]
     },
     "execution_count": 19,
     "metadata": {},
     "output_type": "execute_result"
    }
   ],
   "source": [
    "df = contract.merge(personal, \n",
    "                    how='left', on='customerID').merge(internet, \n",
    "                    how='left', on='customerID').merge(phone, \n",
    "                    how='left', on='customerID') \n",
    "df.head()"
   ]
  },
  {
   "cell_type": "code",
   "execution_count": 20,
   "id": "4ddd0a71",
   "metadata": {
    "scrolled": false
   },
   "outputs": [
    {
     "name": "stdout",
     "output_type": "stream",
     "text": [
      "<class 'pandas.core.frame.DataFrame'>\n",
      "Index: 7043 entries, 7590-VHVEG to 3186-AJIEK\n",
      "Data columns (total 19 columns):\n",
      " #   Column             Non-Null Count  Dtype  \n",
      "---  ------             --------------  -----  \n",
      " 0   begin_date         7043 non-null   object \n",
      " 1   end_date           7043 non-null   object \n",
      " 2   type               7043 non-null   object \n",
      " 3   paperless_billing  7043 non-null   object \n",
      " 4   payment_method     7043 non-null   object \n",
      " 5   monthly_charges    7043 non-null   float64\n",
      " 6   total_charges      7043 non-null   object \n",
      " 7   gender             7043 non-null   object \n",
      " 8   senior_citizen     7043 non-null   int64  \n",
      " 9   partner            7043 non-null   object \n",
      " 10  dependents         7043 non-null   object \n",
      " 11  internet_service   5517 non-null   object \n",
      " 12  online_security    5517 non-null   object \n",
      " 13  online_backup      5517 non-null   object \n",
      " 14  device_protection  5517 non-null   object \n",
      " 15  tech_support       5517 non-null   object \n",
      " 16  streaming_tv       5517 non-null   object \n",
      " 17  streaming_movies   5517 non-null   object \n",
      " 18  multiple_lines     6361 non-null   object \n",
      "dtypes: float64(1), int64(1), object(17)\n",
      "memory usage: 1.1+ MB\n"
     ]
    }
   ],
   "source": [
    "df.info()"
   ]
  },
  {
   "cell_type": "markdown",
   "id": "75d746d2",
   "metadata": {},
   "source": [
    "После объединения в итоговой таблице появились пропуски в столбцах с услугами, потому что некоторые клиенты пользуются ограниченным количеством услуг. Посмотрим на значения в столбце \"Тип интернет-соединения\":"
   ]
  },
  {
   "cell_type": "code",
   "execution_count": 21,
   "id": "5b6c668a",
   "metadata": {},
   "outputs": [
    {
     "data": {
      "text/plain": [
       "Fiber optic    3096\n",
       "DSL            2421\n",
       "Name: internet_service, dtype: int64"
      ]
     },
     "execution_count": 21,
     "metadata": {},
     "output_type": "execute_result"
    }
   ],
   "source": [
    "df['internet_service'].value_counts()"
   ]
  },
  {
   "cell_type": "markdown",
   "id": "aa1cf80c",
   "metadata": {},
   "source": [
    "Количество клиентов, которые подключены через телефонную линию и количество клиентов, которые подключены через оптоволоконный кабель, почти 50/50. У оставшихся 1 526 клиентов тип соединения не указан. Поскольку у нас нет возможности достоверно восстановить информацию, заменим пропущенные значения на `unknown`:"
   ]
  },
  {
   "cell_type": "code",
   "execution_count": 22,
   "id": "9f29238f",
   "metadata": {},
   "outputs": [
    {
     "data": {
      "text/plain": [
       "Fiber optic    3096\n",
       "DSL            2421\n",
       "unknown        1526\n",
       "Name: internet_service, dtype: int64"
      ]
     },
     "execution_count": 22,
     "metadata": {},
     "output_type": "execute_result"
    }
   ],
   "source": [
    "df['internet_service'] = df['internet_service'].fillna('unknown')\n",
    "df['internet_service'].value_counts()"
   ]
  },
  {
   "cell_type": "markdown",
   "id": "51170826",
   "metadata": {},
   "source": [
    "Пропуски в остальных столбцах заменим на значение \"No\"."
   ]
  },
  {
   "cell_type": "code",
   "execution_count": 23,
   "id": "c3b1374d",
   "metadata": {},
   "outputs": [
    {
     "name": "stdout",
     "output_type": "stream",
     "text": [
      "<class 'pandas.core.frame.DataFrame'>\n",
      "Index: 7043 entries, 7590-VHVEG to 3186-AJIEK\n",
      "Data columns (total 19 columns):\n",
      " #   Column             Non-Null Count  Dtype  \n",
      "---  ------             --------------  -----  \n",
      " 0   begin_date         7043 non-null   object \n",
      " 1   end_date           7043 non-null   object \n",
      " 2   type               7043 non-null   object \n",
      " 3   paperless_billing  7043 non-null   object \n",
      " 4   payment_method     7043 non-null   object \n",
      " 5   monthly_charges    7043 non-null   float64\n",
      " 6   total_charges      7043 non-null   object \n",
      " 7   gender             7043 non-null   object \n",
      " 8   senior_citizen     7043 non-null   int64  \n",
      " 9   partner            7043 non-null   object \n",
      " 10  dependents         7043 non-null   object \n",
      " 11  internet_service   7043 non-null   object \n",
      " 12  online_security    7043 non-null   object \n",
      " 13  online_backup      7043 non-null   object \n",
      " 14  device_protection  7043 non-null   object \n",
      " 15  tech_support       7043 non-null   object \n",
      " 16  streaming_tv       7043 non-null   object \n",
      " 17  streaming_movies   7043 non-null   object \n",
      " 18  multiple_lines     7043 non-null   object \n",
      "dtypes: float64(1), int64(1), object(17)\n",
      "memory usage: 1.1+ MB\n"
     ]
    }
   ],
   "source": [
    "df = df.fillna('No')\n",
    "df.info()"
   ]
  },
  {
   "cell_type": "markdown",
   "id": "708dd531",
   "metadata": {},
   "source": [
    "Пропущенных значений в таблице больше нет, теперь посмотрим тип данных, особенно в столбцах с датами."
   ]
  },
  {
   "cell_type": "markdown",
   "id": "fb282629",
   "metadata": {},
   "source": [
    "### Изменение типов данных\n",
    "Выделим в отдельный столбец целевой признак - ушел клиент или нет в зависимости от значения в столбце \"Дата окончания договора\", поменяем тип данных на числовой:"
   ]
  },
  {
   "cell_type": "code",
   "execution_count": 24,
   "id": "c83b3a6d",
   "metadata": {
    "scrolled": false
   },
   "outputs": [
    {
     "data": {
      "text/html": [
       "<div>\n",
       "<style scoped>\n",
       "    .dataframe tbody tr th:only-of-type {\n",
       "        vertical-align: middle;\n",
       "    }\n",
       "\n",
       "    .dataframe tbody tr th {\n",
       "        vertical-align: top;\n",
       "    }\n",
       "\n",
       "    .dataframe thead th {\n",
       "        text-align: right;\n",
       "    }\n",
       "</style>\n",
       "<table border=\"1\" class=\"dataframe\">\n",
       "  <thead>\n",
       "    <tr style=\"text-align: right;\">\n",
       "      <th>customerID</th>\n",
       "      <th>7622-NXQZR</th>\n",
       "      <th>6946-LMSQS</th>\n",
       "      <th>3716-BDVDB</th>\n",
       "      <th>2108-GLPQB</th>\n",
       "      <th>4390-KYULV</th>\n",
       "    </tr>\n",
       "  </thead>\n",
       "  <tbody>\n",
       "    <tr>\n",
       "      <th>begin_date</th>\n",
       "      <td>2017-10-01</td>\n",
       "      <td>2017-12-01</td>\n",
       "      <td>2019-12-01</td>\n",
       "      <td>2018-01-01</td>\n",
       "      <td>2019-08-01</td>\n",
       "    </tr>\n",
       "    <tr>\n",
       "      <th>end_date</th>\n",
       "      <td>No</td>\n",
       "      <td>2020-01-01 00:00:00</td>\n",
       "      <td>2020-01-01 00:00:00</td>\n",
       "      <td>No</td>\n",
       "      <td>2019-11-01 00:00:00</td>\n",
       "    </tr>\n",
       "    <tr>\n",
       "      <th>type</th>\n",
       "      <td>Month-to-month</td>\n",
       "      <td>One year</td>\n",
       "      <td>Month-to-month</td>\n",
       "      <td>Month-to-month</td>\n",
       "      <td>Month-to-month</td>\n",
       "    </tr>\n",
       "    <tr>\n",
       "      <th>paperless_billing</th>\n",
       "      <td>Yes</td>\n",
       "      <td>Yes</td>\n",
       "      <td>Yes</td>\n",
       "      <td>No</td>\n",
       "      <td>Yes</td>\n",
       "    </tr>\n",
       "    <tr>\n",
       "      <th>payment_method</th>\n",
       "      <td>Credit card (automatic)</td>\n",
       "      <td>Electronic check</td>\n",
       "      <td>Electronic check</td>\n",
       "      <td>Credit card (automatic)</td>\n",
       "      <td>Credit card (automatic)</td>\n",
       "    </tr>\n",
       "    <tr>\n",
       "      <th>monthly_charges</th>\n",
       "      <td>30.1</td>\n",
       "      <td>89.05</td>\n",
       "      <td>69.1</td>\n",
       "      <td>55.55</td>\n",
       "      <td>20.55</td>\n",
       "    </tr>\n",
       "    <tr>\n",
       "      <th>total_charges</th>\n",
       "      <td>810.85</td>\n",
       "      <td>2177.45</td>\n",
       "      <td>69.1</td>\n",
       "      <td>1405.3</td>\n",
       "      <td>51.15</td>\n",
       "    </tr>\n",
       "    <tr>\n",
       "      <th>gender</th>\n",
       "      <td>Male</td>\n",
       "      <td>Male</td>\n",
       "      <td>Male</td>\n",
       "      <td>Male</td>\n",
       "      <td>Male</td>\n",
       "    </tr>\n",
       "    <tr>\n",
       "      <th>senior_citizen</th>\n",
       "      <td>0</td>\n",
       "      <td>1</td>\n",
       "      <td>0</td>\n",
       "      <td>0</td>\n",
       "      <td>0</td>\n",
       "    </tr>\n",
       "    <tr>\n",
       "      <th>partner</th>\n",
       "      <td>No</td>\n",
       "      <td>Yes</td>\n",
       "      <td>No</td>\n",
       "      <td>Yes</td>\n",
       "      <td>Yes</td>\n",
       "    </tr>\n",
       "    <tr>\n",
       "      <th>dependents</th>\n",
       "      <td>No</td>\n",
       "      <td>No</td>\n",
       "      <td>No</td>\n",
       "      <td>No</td>\n",
       "      <td>No</td>\n",
       "    </tr>\n",
       "    <tr>\n",
       "      <th>internet_service</th>\n",
       "      <td>DSL</td>\n",
       "      <td>Fiber optic</td>\n",
       "      <td>Fiber optic</td>\n",
       "      <td>DSL</td>\n",
       "      <td>unknown</td>\n",
       "    </tr>\n",
       "    <tr>\n",
       "      <th>online_security</th>\n",
       "      <td>No</td>\n",
       "      <td>Yes</td>\n",
       "      <td>No</td>\n",
       "      <td>No</td>\n",
       "      <td>No</td>\n",
       "    </tr>\n",
       "    <tr>\n",
       "      <th>online_backup</th>\n",
       "      <td>No</td>\n",
       "      <td>No</td>\n",
       "      <td>No</td>\n",
       "      <td>No</td>\n",
       "      <td>No</td>\n",
       "    </tr>\n",
       "    <tr>\n",
       "      <th>device_protection</th>\n",
       "      <td>No</td>\n",
       "      <td>No</td>\n",
       "      <td>No</td>\n",
       "      <td>Yes</td>\n",
       "      <td>No</td>\n",
       "    </tr>\n",
       "    <tr>\n",
       "      <th>tech_support</th>\n",
       "      <td>Yes</td>\n",
       "      <td>No</td>\n",
       "      <td>No</td>\n",
       "      <td>No</td>\n",
       "      <td>No</td>\n",
       "    </tr>\n",
       "    <tr>\n",
       "      <th>streaming_tv</th>\n",
       "      <td>No</td>\n",
       "      <td>No</td>\n",
       "      <td>No</td>\n",
       "      <td>No</td>\n",
       "      <td>No</td>\n",
       "    </tr>\n",
       "    <tr>\n",
       "      <th>streaming_movies</th>\n",
       "      <td>No</td>\n",
       "      <td>Yes</td>\n",
       "      <td>No</td>\n",
       "      <td>No</td>\n",
       "      <td>No</td>\n",
       "    </tr>\n",
       "    <tr>\n",
       "      <th>multiple_lines</th>\n",
       "      <td>No</td>\n",
       "      <td>Yes</td>\n",
       "      <td>No</td>\n",
       "      <td>Yes</td>\n",
       "      <td>No</td>\n",
       "    </tr>\n",
       "    <tr>\n",
       "      <th>customer_loss</th>\n",
       "      <td>0</td>\n",
       "      <td>1</td>\n",
       "      <td>1</td>\n",
       "      <td>0</td>\n",
       "      <td>1</td>\n",
       "    </tr>\n",
       "  </tbody>\n",
       "</table>\n",
       "</div>"
      ],
      "text/plain": [
       "customerID                      7622-NXQZR           6946-LMSQS  \\\n",
       "begin_date                      2017-10-01           2017-12-01   \n",
       "end_date                                No  2020-01-01 00:00:00   \n",
       "type                        Month-to-month             One year   \n",
       "paperless_billing                      Yes                  Yes   \n",
       "payment_method     Credit card (automatic)     Electronic check   \n",
       "monthly_charges                       30.1                89.05   \n",
       "total_charges                       810.85              2177.45   \n",
       "gender                                Male                 Male   \n",
       "senior_citizen                           0                    1   \n",
       "partner                                 No                  Yes   \n",
       "dependents                              No                   No   \n",
       "internet_service                       DSL          Fiber optic   \n",
       "online_security                         No                  Yes   \n",
       "online_backup                           No                   No   \n",
       "device_protection                       No                   No   \n",
       "tech_support                           Yes                   No   \n",
       "streaming_tv                            No                   No   \n",
       "streaming_movies                        No                  Yes   \n",
       "multiple_lines                          No                  Yes   \n",
       "customer_loss                            0                    1   \n",
       "\n",
       "customerID                  3716-BDVDB               2108-GLPQB  \\\n",
       "begin_date                  2019-12-01               2018-01-01   \n",
       "end_date           2020-01-01 00:00:00                       No   \n",
       "type                    Month-to-month           Month-to-month   \n",
       "paperless_billing                  Yes                       No   \n",
       "payment_method        Electronic check  Credit card (automatic)   \n",
       "monthly_charges                   69.1                    55.55   \n",
       "total_charges                     69.1                   1405.3   \n",
       "gender                            Male                     Male   \n",
       "senior_citizen                       0                        0   \n",
       "partner                             No                      Yes   \n",
       "dependents                          No                       No   \n",
       "internet_service           Fiber optic                      DSL   \n",
       "online_security                     No                       No   \n",
       "online_backup                       No                       No   \n",
       "device_protection                   No                      Yes   \n",
       "tech_support                        No                       No   \n",
       "streaming_tv                        No                       No   \n",
       "streaming_movies                    No                       No   \n",
       "multiple_lines                      No                      Yes   \n",
       "customer_loss                        1                        0   \n",
       "\n",
       "customerID                      4390-KYULV  \n",
       "begin_date                      2019-08-01  \n",
       "end_date               2019-11-01 00:00:00  \n",
       "type                        Month-to-month  \n",
       "paperless_billing                      Yes  \n",
       "payment_method     Credit card (automatic)  \n",
       "monthly_charges                      20.55  \n",
       "total_charges                        51.15  \n",
       "gender                                Male  \n",
       "senior_citizen                           0  \n",
       "partner                                Yes  \n",
       "dependents                              No  \n",
       "internet_service                   unknown  \n",
       "online_security                         No  \n",
       "online_backup                           No  \n",
       "device_protection                       No  \n",
       "tech_support                            No  \n",
       "streaming_tv                            No  \n",
       "streaming_movies                        No  \n",
       "multiple_lines                          No  \n",
       "customer_loss                            1  "
      ]
     },
     "execution_count": 24,
     "metadata": {},
     "output_type": "execute_result"
    }
   ],
   "source": [
    "df['customer_loss'] = (df['end_date'] != 'No').astype('int')\n",
    "df.sample(5).T"
   ]
  },
  {
   "cell_type": "markdown",
   "id": "95d91ce8",
   "metadata": {},
   "source": [
    "Для действующих клиентов заменим значение `No` в столбце \"Дата окончания договора\" на дату выгрузки, т.е. 1 февраля 2020 года:"
   ]
  },
  {
   "cell_type": "code",
   "execution_count": 25,
   "id": "de6f6b06",
   "metadata": {},
   "outputs": [
    {
     "data": {
      "text/html": [
       "<div>\n",
       "<style scoped>\n",
       "    .dataframe tbody tr th:only-of-type {\n",
       "        vertical-align: middle;\n",
       "    }\n",
       "\n",
       "    .dataframe tbody tr th {\n",
       "        vertical-align: top;\n",
       "    }\n",
       "\n",
       "    .dataframe thead th {\n",
       "        text-align: right;\n",
       "    }\n",
       "</style>\n",
       "<table border=\"1\" class=\"dataframe\">\n",
       "  <thead>\n",
       "    <tr style=\"text-align: right;\">\n",
       "      <th>customerID</th>\n",
       "      <th>6341-JVQGF</th>\n",
       "      <th>2519-ERQOJ</th>\n",
       "      <th>0022-TCJCI</th>\n",
       "      <th>6356-ELRKD</th>\n",
       "      <th>5099-BAILX</th>\n",
       "    </tr>\n",
       "  </thead>\n",
       "  <tbody>\n",
       "    <tr>\n",
       "      <th>begin_date</th>\n",
       "      <td>2017-07-01</td>\n",
       "      <td>2017-05-01</td>\n",
       "      <td>2016-03-01</td>\n",
       "      <td>2019-11-01</td>\n",
       "      <td>2016-03-01</td>\n",
       "    </tr>\n",
       "    <tr>\n",
       "      <th>end_date</th>\n",
       "      <td>2020-02-01</td>\n",
       "      <td>2020-02-01</td>\n",
       "      <td>2019-12-01 00:00:00</td>\n",
       "      <td>2019-12-01 00:00:00</td>\n",
       "      <td>2019-10-01 00:00:00</td>\n",
       "    </tr>\n",
       "    <tr>\n",
       "      <th>type</th>\n",
       "      <td>One year</td>\n",
       "      <td>Month-to-month</td>\n",
       "      <td>One year</td>\n",
       "      <td>Month-to-month</td>\n",
       "      <td>Month-to-month</td>\n",
       "    </tr>\n",
       "    <tr>\n",
       "      <th>paperless_billing</th>\n",
       "      <td>Yes</td>\n",
       "      <td>Yes</td>\n",
       "      <td>No</td>\n",
       "      <td>Yes</td>\n",
       "      <td>Yes</td>\n",
       "    </tr>\n",
       "    <tr>\n",
       "      <th>payment_method</th>\n",
       "      <td>Mailed check</td>\n",
       "      <td>Electronic check</td>\n",
       "      <td>Credit card (automatic)</td>\n",
       "      <td>Electronic check</td>\n",
       "      <td>Bank transfer (automatic)</td>\n",
       "    </tr>\n",
       "    <tr>\n",
       "      <th>monthly_charges</th>\n",
       "      <td>81.15</td>\n",
       "      <td>54.6</td>\n",
       "      <td>62.7</td>\n",
       "      <td>95.6</td>\n",
       "      <td>110.75</td>\n",
       "    </tr>\n",
       "    <tr>\n",
       "      <th>total_charges</th>\n",
       "      <td>2545.75</td>\n",
       "      <td>1803.7</td>\n",
       "      <td>2791.5</td>\n",
       "      <td>95.6</td>\n",
       "      <td>4687.9</td>\n",
       "    </tr>\n",
       "    <tr>\n",
       "      <th>gender</th>\n",
       "      <td>Female</td>\n",
       "      <td>Male</td>\n",
       "      <td>Male</td>\n",
       "      <td>Female</td>\n",
       "      <td>Male</td>\n",
       "    </tr>\n",
       "    <tr>\n",
       "      <th>senior_citizen</th>\n",
       "      <td>0</td>\n",
       "      <td>1</td>\n",
       "      <td>1</td>\n",
       "      <td>0</td>\n",
       "      <td>1</td>\n",
       "    </tr>\n",
       "    <tr>\n",
       "      <th>partner</th>\n",
       "      <td>Yes</td>\n",
       "      <td>No</td>\n",
       "      <td>No</td>\n",
       "      <td>No</td>\n",
       "      <td>Yes</td>\n",
       "    </tr>\n",
       "    <tr>\n",
       "      <th>dependents</th>\n",
       "      <td>Yes</td>\n",
       "      <td>No</td>\n",
       "      <td>No</td>\n",
       "      <td>No</td>\n",
       "      <td>Yes</td>\n",
       "    </tr>\n",
       "    <tr>\n",
       "      <th>internet_service</th>\n",
       "      <td>DSL</td>\n",
       "      <td>DSL</td>\n",
       "      <td>DSL</td>\n",
       "      <td>Fiber optic</td>\n",
       "      <td>Fiber optic</td>\n",
       "    </tr>\n",
       "    <tr>\n",
       "      <th>online_security</th>\n",
       "      <td>Yes</td>\n",
       "      <td>No</td>\n",
       "      <td>Yes</td>\n",
       "      <td>Yes</td>\n",
       "      <td>No</td>\n",
       "    </tr>\n",
       "    <tr>\n",
       "      <th>online_backup</th>\n",
       "      <td>No</td>\n",
       "      <td>No</td>\n",
       "      <td>No</td>\n",
       "      <td>No</td>\n",
       "      <td>Yes</td>\n",
       "    </tr>\n",
       "    <tr>\n",
       "      <th>device_protection</th>\n",
       "      <td>Yes</td>\n",
       "      <td>Yes</td>\n",
       "      <td>Yes</td>\n",
       "      <td>No</td>\n",
       "      <td>Yes</td>\n",
       "    </tr>\n",
       "    <tr>\n",
       "      <th>tech_support</th>\n",
       "      <td>Yes</td>\n",
       "      <td>Yes</td>\n",
       "      <td>No</td>\n",
       "      <td>No</td>\n",
       "      <td>Yes</td>\n",
       "    </tr>\n",
       "    <tr>\n",
       "      <th>streaming_tv</th>\n",
       "      <td>Yes</td>\n",
       "      <td>Yes</td>\n",
       "      <td>No</td>\n",
       "      <td>Yes</td>\n",
       "      <td>Yes</td>\n",
       "    </tr>\n",
       "    <tr>\n",
       "      <th>streaming_movies</th>\n",
       "      <td>Yes</td>\n",
       "      <td>Yes</td>\n",
       "      <td>Yes</td>\n",
       "      <td>Yes</td>\n",
       "      <td>Yes</td>\n",
       "    </tr>\n",
       "    <tr>\n",
       "      <th>multiple_lines</th>\n",
       "      <td>No</td>\n",
       "      <td>No</td>\n",
       "      <td>No</td>\n",
       "      <td>No</td>\n",
       "      <td>Yes</td>\n",
       "    </tr>\n",
       "    <tr>\n",
       "      <th>customer_loss</th>\n",
       "      <td>0</td>\n",
       "      <td>0</td>\n",
       "      <td>1</td>\n",
       "      <td>1</td>\n",
       "      <td>1</td>\n",
       "    </tr>\n",
       "  </tbody>\n",
       "</table>\n",
       "</div>"
      ],
      "text/plain": [
       "customerID           6341-JVQGF        2519-ERQOJ               0022-TCJCI  \\\n",
       "begin_date           2017-07-01        2017-05-01               2016-03-01   \n",
       "end_date             2020-02-01        2020-02-01      2019-12-01 00:00:00   \n",
       "type                   One year    Month-to-month                 One year   \n",
       "paperless_billing           Yes               Yes                       No   \n",
       "payment_method     Mailed check  Electronic check  Credit card (automatic)   \n",
       "monthly_charges           81.15              54.6                     62.7   \n",
       "total_charges           2545.75            1803.7                   2791.5   \n",
       "gender                   Female              Male                     Male   \n",
       "senior_citizen                0                 1                        1   \n",
       "partner                     Yes                No                       No   \n",
       "dependents                  Yes                No                       No   \n",
       "internet_service            DSL               DSL                      DSL   \n",
       "online_security             Yes                No                      Yes   \n",
       "online_backup                No                No                       No   \n",
       "device_protection           Yes               Yes                      Yes   \n",
       "tech_support                Yes               Yes                       No   \n",
       "streaming_tv                Yes               Yes                       No   \n",
       "streaming_movies            Yes               Yes                      Yes   \n",
       "multiple_lines               No                No                       No   \n",
       "customer_loss                 0                 0                        1   \n",
       "\n",
       "customerID                  6356-ELRKD                 5099-BAILX  \n",
       "begin_date                  2019-11-01                 2016-03-01  \n",
       "end_date           2019-12-01 00:00:00        2019-10-01 00:00:00  \n",
       "type                    Month-to-month             Month-to-month  \n",
       "paperless_billing                  Yes                        Yes  \n",
       "payment_method        Electronic check  Bank transfer (automatic)  \n",
       "monthly_charges                   95.6                     110.75  \n",
       "total_charges                     95.6                     4687.9  \n",
       "gender                          Female                       Male  \n",
       "senior_citizen                       0                          1  \n",
       "partner                             No                        Yes  \n",
       "dependents                          No                        Yes  \n",
       "internet_service           Fiber optic                Fiber optic  \n",
       "online_security                    Yes                         No  \n",
       "online_backup                       No                        Yes  \n",
       "device_protection                   No                        Yes  \n",
       "tech_support                        No                        Yes  \n",
       "streaming_tv                       Yes                        Yes  \n",
       "streaming_movies                   Yes                        Yes  \n",
       "multiple_lines                      No                        Yes  \n",
       "customer_loss                        1                          1  "
      ]
     },
     "execution_count": 25,
     "metadata": {},
     "output_type": "execute_result"
    }
   ],
   "source": [
    "df.loc[(df['end_date'] == 'No'), 'end_date'] = '2020-02-01'\n",
    "df.sample(5).T"
   ]
  },
  {
   "cell_type": "markdown",
   "id": "84fa485e",
   "metadata": {},
   "source": [
    "Изменим типы данных в столбцах \"Дата начала договора\" и \"Дата окончания договора\" на тип `datetime`:"
   ]
  },
  {
   "cell_type": "code",
   "execution_count": 26,
   "id": "724747d2",
   "metadata": {
    "scrolled": false
   },
   "outputs": [],
   "source": [
    "df['begin_date'] = pd.to_datetime(df['begin_date'])\n",
    "df['end_date'] = pd.to_datetime(df['end_date'])"
   ]
  },
  {
   "cell_type": "markdown",
   "id": "7b8b6a43",
   "metadata": {},
   "source": [
    "В отдельном столбце посчитаем продолжительность пользования услугами компании:"
   ]
  },
  {
   "cell_type": "code",
   "execution_count": 27,
   "id": "eb665567",
   "metadata": {
    "scrolled": false
   },
   "outputs": [
    {
     "data": {
      "text/html": [
       "<div>\n",
       "<style scoped>\n",
       "    .dataframe tbody tr th:only-of-type {\n",
       "        vertical-align: middle;\n",
       "    }\n",
       "\n",
       "    .dataframe tbody tr th {\n",
       "        vertical-align: top;\n",
       "    }\n",
       "\n",
       "    .dataframe thead th {\n",
       "        text-align: right;\n",
       "    }\n",
       "</style>\n",
       "<table border=\"1\" class=\"dataframe\">\n",
       "  <thead>\n",
       "    <tr style=\"text-align: right;\">\n",
       "      <th>customerID</th>\n",
       "      <th>1345-GKDZZ</th>\n",
       "      <th>1302-TPUBN</th>\n",
       "      <th>1848-LBZHY</th>\n",
       "      <th>7964-VEXDG</th>\n",
       "      <th>1142-WACZW</th>\n",
       "    </tr>\n",
       "  </thead>\n",
       "  <tbody>\n",
       "    <tr>\n",
       "      <th>begin_date</th>\n",
       "      <td>2019-08-01 00:00:00</td>\n",
       "      <td>2014-08-01 00:00:00</td>\n",
       "      <td>2019-07-01 00:00:00</td>\n",
       "      <td>2018-05-01 00:00:00</td>\n",
       "      <td>2019-08-01 00:00:00</td>\n",
       "    </tr>\n",
       "    <tr>\n",
       "      <th>end_date</th>\n",
       "      <td>2020-02-01 00:00:00</td>\n",
       "      <td>2020-02-01 00:00:00</td>\n",
       "      <td>2020-02-01 00:00:00</td>\n",
       "      <td>2020-02-01 00:00:00</td>\n",
       "      <td>2019-10-01 00:00:00</td>\n",
       "    </tr>\n",
       "    <tr>\n",
       "      <th>type</th>\n",
       "      <td>Month-to-month</td>\n",
       "      <td>Two year</td>\n",
       "      <td>Month-to-month</td>\n",
       "      <td>Month-to-month</td>\n",
       "      <td>Month-to-month</td>\n",
       "    </tr>\n",
       "    <tr>\n",
       "      <th>paperless_billing</th>\n",
       "      <td>No</td>\n",
       "      <td>No</td>\n",
       "      <td>Yes</td>\n",
       "      <td>No</td>\n",
       "      <td>No</td>\n",
       "    </tr>\n",
       "    <tr>\n",
       "      <th>payment_method</th>\n",
       "      <td>Mailed check</td>\n",
       "      <td>Bank transfer (automatic)</td>\n",
       "      <td>Bank transfer (automatic)</td>\n",
       "      <td>Electronic check</td>\n",
       "      <td>Bank transfer (automatic)</td>\n",
       "    </tr>\n",
       "    <tr>\n",
       "      <th>monthly_charges</th>\n",
       "      <td>19.55</td>\n",
       "      <td>19.35</td>\n",
       "      <td>50.3</td>\n",
       "      <td>80.35</td>\n",
       "      <td>29.85</td>\n",
       "    </tr>\n",
       "    <tr>\n",
       "      <th>total_charges</th>\n",
       "      <td>128.6</td>\n",
       "      <td>1240.8</td>\n",
       "      <td>355.1</td>\n",
       "      <td>1747.2</td>\n",
       "      <td>75.6</td>\n",
       "    </tr>\n",
       "    <tr>\n",
       "      <th>gender</th>\n",
       "      <td>Male</td>\n",
       "      <td>Male</td>\n",
       "      <td>Female</td>\n",
       "      <td>Male</td>\n",
       "      <td>Male</td>\n",
       "    </tr>\n",
       "    <tr>\n",
       "      <th>senior_citizen</th>\n",
       "      <td>0</td>\n",
       "      <td>0</td>\n",
       "      <td>0</td>\n",
       "      <td>0</td>\n",
       "      <td>0</td>\n",
       "    </tr>\n",
       "    <tr>\n",
       "      <th>partner</th>\n",
       "      <td>No</td>\n",
       "      <td>No</td>\n",
       "      <td>Yes</td>\n",
       "      <td>No</td>\n",
       "      <td>No</td>\n",
       "    </tr>\n",
       "    <tr>\n",
       "      <th>dependents</th>\n",
       "      <td>Yes</td>\n",
       "      <td>No</td>\n",
       "      <td>No</td>\n",
       "      <td>Yes</td>\n",
       "      <td>No</td>\n",
       "    </tr>\n",
       "    <tr>\n",
       "      <th>internet_service</th>\n",
       "      <td>unknown</td>\n",
       "      <td>unknown</td>\n",
       "      <td>DSL</td>\n",
       "      <td>Fiber optic</td>\n",
       "      <td>DSL</td>\n",
       "    </tr>\n",
       "    <tr>\n",
       "      <th>online_security</th>\n",
       "      <td>No</td>\n",
       "      <td>No</td>\n",
       "      <td>Yes</td>\n",
       "      <td>Yes</td>\n",
       "      <td>No</td>\n",
       "    </tr>\n",
       "    <tr>\n",
       "      <th>online_backup</th>\n",
       "      <td>No</td>\n",
       "      <td>No</td>\n",
       "      <td>No</td>\n",
       "      <td>No</td>\n",
       "      <td>No</td>\n",
       "    </tr>\n",
       "    <tr>\n",
       "      <th>device_protection</th>\n",
       "      <td>No</td>\n",
       "      <td>No</td>\n",
       "      <td>No</td>\n",
       "      <td>No</td>\n",
       "      <td>No</td>\n",
       "    </tr>\n",
       "    <tr>\n",
       "      <th>tech_support</th>\n",
       "      <td>No</td>\n",
       "      <td>No</td>\n",
       "      <td>No</td>\n",
       "      <td>No</td>\n",
       "      <td>Yes</td>\n",
       "    </tr>\n",
       "    <tr>\n",
       "      <th>streaming_tv</th>\n",
       "      <td>No</td>\n",
       "      <td>No</td>\n",
       "      <td>No</td>\n",
       "      <td>No</td>\n",
       "      <td>No</td>\n",
       "    </tr>\n",
       "    <tr>\n",
       "      <th>streaming_movies</th>\n",
       "      <td>No</td>\n",
       "      <td>No</td>\n",
       "      <td>No</td>\n",
       "      <td>No</td>\n",
       "      <td>No</td>\n",
       "    </tr>\n",
       "    <tr>\n",
       "      <th>multiple_lines</th>\n",
       "      <td>No</td>\n",
       "      <td>No</td>\n",
       "      <td>No</td>\n",
       "      <td>Yes</td>\n",
       "      <td>No</td>\n",
       "    </tr>\n",
       "    <tr>\n",
       "      <th>customer_loss</th>\n",
       "      <td>0</td>\n",
       "      <td>0</td>\n",
       "      <td>0</td>\n",
       "      <td>0</td>\n",
       "      <td>1</td>\n",
       "    </tr>\n",
       "    <tr>\n",
       "      <th>duration</th>\n",
       "      <td>184</td>\n",
       "      <td>2010</td>\n",
       "      <td>215</td>\n",
       "      <td>641</td>\n",
       "      <td>61</td>\n",
       "    </tr>\n",
       "  </tbody>\n",
       "</table>\n",
       "</div>"
      ],
      "text/plain": [
       "customerID                  1345-GKDZZ                 1302-TPUBN  \\\n",
       "begin_date         2019-08-01 00:00:00        2014-08-01 00:00:00   \n",
       "end_date           2020-02-01 00:00:00        2020-02-01 00:00:00   \n",
       "type                    Month-to-month                   Two year   \n",
       "paperless_billing                   No                         No   \n",
       "payment_method            Mailed check  Bank transfer (automatic)   \n",
       "monthly_charges                  19.55                      19.35   \n",
       "total_charges                    128.6                     1240.8   \n",
       "gender                            Male                       Male   \n",
       "senior_citizen                       0                          0   \n",
       "partner                             No                         No   \n",
       "dependents                         Yes                         No   \n",
       "internet_service               unknown                    unknown   \n",
       "online_security                     No                         No   \n",
       "online_backup                       No                         No   \n",
       "device_protection                   No                         No   \n",
       "tech_support                        No                         No   \n",
       "streaming_tv                        No                         No   \n",
       "streaming_movies                    No                         No   \n",
       "multiple_lines                      No                         No   \n",
       "customer_loss                        0                          0   \n",
       "duration                           184                       2010   \n",
       "\n",
       "customerID                        1848-LBZHY           7964-VEXDG  \\\n",
       "begin_date               2019-07-01 00:00:00  2018-05-01 00:00:00   \n",
       "end_date                 2020-02-01 00:00:00  2020-02-01 00:00:00   \n",
       "type                          Month-to-month       Month-to-month   \n",
       "paperless_billing                        Yes                   No   \n",
       "payment_method     Bank transfer (automatic)     Electronic check   \n",
       "monthly_charges                         50.3                80.35   \n",
       "total_charges                          355.1               1747.2   \n",
       "gender                                Female                 Male   \n",
       "senior_citizen                             0                    0   \n",
       "partner                                  Yes                   No   \n",
       "dependents                                No                  Yes   \n",
       "internet_service                         DSL          Fiber optic   \n",
       "online_security                          Yes                  Yes   \n",
       "online_backup                             No                   No   \n",
       "device_protection                         No                   No   \n",
       "tech_support                              No                   No   \n",
       "streaming_tv                              No                   No   \n",
       "streaming_movies                          No                   No   \n",
       "multiple_lines                            No                  Yes   \n",
       "customer_loss                              0                    0   \n",
       "duration                                 215                  641   \n",
       "\n",
       "customerID                        1142-WACZW  \n",
       "begin_date               2019-08-01 00:00:00  \n",
       "end_date                 2019-10-01 00:00:00  \n",
       "type                          Month-to-month  \n",
       "paperless_billing                         No  \n",
       "payment_method     Bank transfer (automatic)  \n",
       "monthly_charges                        29.85  \n",
       "total_charges                           75.6  \n",
       "gender                                  Male  \n",
       "senior_citizen                             0  \n",
       "partner                                   No  \n",
       "dependents                                No  \n",
       "internet_service                         DSL  \n",
       "online_security                           No  \n",
       "online_backup                             No  \n",
       "device_protection                         No  \n",
       "tech_support                             Yes  \n",
       "streaming_tv                              No  \n",
       "streaming_movies                          No  \n",
       "multiple_lines                            No  \n",
       "customer_loss                              1  \n",
       "duration                                  61  "
      ]
     },
     "execution_count": 27,
     "metadata": {},
     "output_type": "execute_result"
    }
   ],
   "source": [
    "df['duration'] = (pd.to_datetime(df['end_date']) - df['begin_date']).dt.days\n",
    "df.sample(5).T"
   ]
  },
  {
   "cell_type": "markdown",
   "id": "6e44d0bf",
   "metadata": {},
   "source": [
    "При попытке преобразовать тип в столбце \"Общая сумма платежей\" в числовой, получили ошибку из-за незаполненных ячеек, посмотрим на них:"
   ]
  },
  {
   "cell_type": "code",
   "execution_count": 28,
   "id": "644ddfc4",
   "metadata": {},
   "outputs": [
    {
     "data": {
      "text/html": [
       "<div>\n",
       "<style scoped>\n",
       "    .dataframe tbody tr th:only-of-type {\n",
       "        vertical-align: middle;\n",
       "    }\n",
       "\n",
       "    .dataframe tbody tr th {\n",
       "        vertical-align: top;\n",
       "    }\n",
       "\n",
       "    .dataframe thead th {\n",
       "        text-align: right;\n",
       "    }\n",
       "</style>\n",
       "<table border=\"1\" class=\"dataframe\">\n",
       "  <thead>\n",
       "    <tr style=\"text-align: right;\">\n",
       "      <th></th>\n",
       "      <th>begin_date</th>\n",
       "      <th>end_date</th>\n",
       "      <th>type</th>\n",
       "      <th>paperless_billing</th>\n",
       "      <th>payment_method</th>\n",
       "      <th>monthly_charges</th>\n",
       "      <th>total_charges</th>\n",
       "      <th>gender</th>\n",
       "      <th>senior_citizen</th>\n",
       "      <th>partner</th>\n",
       "      <th>...</th>\n",
       "      <th>internet_service</th>\n",
       "      <th>online_security</th>\n",
       "      <th>online_backup</th>\n",
       "      <th>device_protection</th>\n",
       "      <th>tech_support</th>\n",
       "      <th>streaming_tv</th>\n",
       "      <th>streaming_movies</th>\n",
       "      <th>multiple_lines</th>\n",
       "      <th>customer_loss</th>\n",
       "      <th>duration</th>\n",
       "    </tr>\n",
       "    <tr>\n",
       "      <th>customerID</th>\n",
       "      <th></th>\n",
       "      <th></th>\n",
       "      <th></th>\n",
       "      <th></th>\n",
       "      <th></th>\n",
       "      <th></th>\n",
       "      <th></th>\n",
       "      <th></th>\n",
       "      <th></th>\n",
       "      <th></th>\n",
       "      <th></th>\n",
       "      <th></th>\n",
       "      <th></th>\n",
       "      <th></th>\n",
       "      <th></th>\n",
       "      <th></th>\n",
       "      <th></th>\n",
       "      <th></th>\n",
       "      <th></th>\n",
       "      <th></th>\n",
       "      <th></th>\n",
       "    </tr>\n",
       "  </thead>\n",
       "  <tbody>\n",
       "    <tr>\n",
       "      <th>4472-LVYGI</th>\n",
       "      <td>2020-02-01</td>\n",
       "      <td>2020-02-01</td>\n",
       "      <td>Two year</td>\n",
       "      <td>Yes</td>\n",
       "      <td>Bank transfer (automatic)</td>\n",
       "      <td>52.55</td>\n",
       "      <td></td>\n",
       "      <td>Female</td>\n",
       "      <td>0</td>\n",
       "      <td>Yes</td>\n",
       "      <td>...</td>\n",
       "      <td>DSL</td>\n",
       "      <td>Yes</td>\n",
       "      <td>No</td>\n",
       "      <td>Yes</td>\n",
       "      <td>Yes</td>\n",
       "      <td>Yes</td>\n",
       "      <td>No</td>\n",
       "      <td>No</td>\n",
       "      <td>0</td>\n",
       "      <td>0</td>\n",
       "    </tr>\n",
       "    <tr>\n",
       "      <th>3115-CZMZD</th>\n",
       "      <td>2020-02-01</td>\n",
       "      <td>2020-02-01</td>\n",
       "      <td>Two year</td>\n",
       "      <td>No</td>\n",
       "      <td>Mailed check</td>\n",
       "      <td>20.25</td>\n",
       "      <td></td>\n",
       "      <td>Male</td>\n",
       "      <td>0</td>\n",
       "      <td>No</td>\n",
       "      <td>...</td>\n",
       "      <td>unknown</td>\n",
       "      <td>No</td>\n",
       "      <td>No</td>\n",
       "      <td>No</td>\n",
       "      <td>No</td>\n",
       "      <td>No</td>\n",
       "      <td>No</td>\n",
       "      <td>No</td>\n",
       "      <td>0</td>\n",
       "      <td>0</td>\n",
       "    </tr>\n",
       "    <tr>\n",
       "      <th>5709-LVOEQ</th>\n",
       "      <td>2020-02-01</td>\n",
       "      <td>2020-02-01</td>\n",
       "      <td>Two year</td>\n",
       "      <td>No</td>\n",
       "      <td>Mailed check</td>\n",
       "      <td>80.85</td>\n",
       "      <td></td>\n",
       "      <td>Female</td>\n",
       "      <td>0</td>\n",
       "      <td>Yes</td>\n",
       "      <td>...</td>\n",
       "      <td>DSL</td>\n",
       "      <td>Yes</td>\n",
       "      <td>Yes</td>\n",
       "      <td>Yes</td>\n",
       "      <td>No</td>\n",
       "      <td>Yes</td>\n",
       "      <td>Yes</td>\n",
       "      <td>No</td>\n",
       "      <td>0</td>\n",
       "      <td>0</td>\n",
       "    </tr>\n",
       "    <tr>\n",
       "      <th>4367-NUYAO</th>\n",
       "      <td>2020-02-01</td>\n",
       "      <td>2020-02-01</td>\n",
       "      <td>Two year</td>\n",
       "      <td>No</td>\n",
       "      <td>Mailed check</td>\n",
       "      <td>25.75</td>\n",
       "      <td></td>\n",
       "      <td>Male</td>\n",
       "      <td>0</td>\n",
       "      <td>Yes</td>\n",
       "      <td>...</td>\n",
       "      <td>unknown</td>\n",
       "      <td>No</td>\n",
       "      <td>No</td>\n",
       "      <td>No</td>\n",
       "      <td>No</td>\n",
       "      <td>No</td>\n",
       "      <td>No</td>\n",
       "      <td>Yes</td>\n",
       "      <td>0</td>\n",
       "      <td>0</td>\n",
       "    </tr>\n",
       "    <tr>\n",
       "      <th>1371-DWPAZ</th>\n",
       "      <td>2020-02-01</td>\n",
       "      <td>2020-02-01</td>\n",
       "      <td>Two year</td>\n",
       "      <td>No</td>\n",
       "      <td>Credit card (automatic)</td>\n",
       "      <td>56.05</td>\n",
       "      <td></td>\n",
       "      <td>Female</td>\n",
       "      <td>0</td>\n",
       "      <td>Yes</td>\n",
       "      <td>...</td>\n",
       "      <td>DSL</td>\n",
       "      <td>Yes</td>\n",
       "      <td>Yes</td>\n",
       "      <td>Yes</td>\n",
       "      <td>Yes</td>\n",
       "      <td>Yes</td>\n",
       "      <td>No</td>\n",
       "      <td>No</td>\n",
       "      <td>0</td>\n",
       "      <td>0</td>\n",
       "    </tr>\n",
       "    <tr>\n",
       "      <th>7644-OMVMY</th>\n",
       "      <td>2020-02-01</td>\n",
       "      <td>2020-02-01</td>\n",
       "      <td>Two year</td>\n",
       "      <td>No</td>\n",
       "      <td>Mailed check</td>\n",
       "      <td>19.85</td>\n",
       "      <td></td>\n",
       "      <td>Male</td>\n",
       "      <td>0</td>\n",
       "      <td>Yes</td>\n",
       "      <td>...</td>\n",
       "      <td>unknown</td>\n",
       "      <td>No</td>\n",
       "      <td>No</td>\n",
       "      <td>No</td>\n",
       "      <td>No</td>\n",
       "      <td>No</td>\n",
       "      <td>No</td>\n",
       "      <td>No</td>\n",
       "      <td>0</td>\n",
       "      <td>0</td>\n",
       "    </tr>\n",
       "    <tr>\n",
       "      <th>3213-VVOLG</th>\n",
       "      <td>2020-02-01</td>\n",
       "      <td>2020-02-01</td>\n",
       "      <td>Two year</td>\n",
       "      <td>No</td>\n",
       "      <td>Mailed check</td>\n",
       "      <td>25.35</td>\n",
       "      <td></td>\n",
       "      <td>Male</td>\n",
       "      <td>0</td>\n",
       "      <td>Yes</td>\n",
       "      <td>...</td>\n",
       "      <td>unknown</td>\n",
       "      <td>No</td>\n",
       "      <td>No</td>\n",
       "      <td>No</td>\n",
       "      <td>No</td>\n",
       "      <td>No</td>\n",
       "      <td>No</td>\n",
       "      <td>Yes</td>\n",
       "      <td>0</td>\n",
       "      <td>0</td>\n",
       "    </tr>\n",
       "    <tr>\n",
       "      <th>2520-SGTTA</th>\n",
       "      <td>2020-02-01</td>\n",
       "      <td>2020-02-01</td>\n",
       "      <td>Two year</td>\n",
       "      <td>No</td>\n",
       "      <td>Mailed check</td>\n",
       "      <td>20.00</td>\n",
       "      <td></td>\n",
       "      <td>Female</td>\n",
       "      <td>0</td>\n",
       "      <td>Yes</td>\n",
       "      <td>...</td>\n",
       "      <td>unknown</td>\n",
       "      <td>No</td>\n",
       "      <td>No</td>\n",
       "      <td>No</td>\n",
       "      <td>No</td>\n",
       "      <td>No</td>\n",
       "      <td>No</td>\n",
       "      <td>No</td>\n",
       "      <td>0</td>\n",
       "      <td>0</td>\n",
       "    </tr>\n",
       "    <tr>\n",
       "      <th>2923-ARZLG</th>\n",
       "      <td>2020-02-01</td>\n",
       "      <td>2020-02-01</td>\n",
       "      <td>One year</td>\n",
       "      <td>Yes</td>\n",
       "      <td>Mailed check</td>\n",
       "      <td>19.70</td>\n",
       "      <td></td>\n",
       "      <td>Male</td>\n",
       "      <td>0</td>\n",
       "      <td>Yes</td>\n",
       "      <td>...</td>\n",
       "      <td>unknown</td>\n",
       "      <td>No</td>\n",
       "      <td>No</td>\n",
       "      <td>No</td>\n",
       "      <td>No</td>\n",
       "      <td>No</td>\n",
       "      <td>No</td>\n",
       "      <td>No</td>\n",
       "      <td>0</td>\n",
       "      <td>0</td>\n",
       "    </tr>\n",
       "    <tr>\n",
       "      <th>4075-WKNIU</th>\n",
       "      <td>2020-02-01</td>\n",
       "      <td>2020-02-01</td>\n",
       "      <td>Two year</td>\n",
       "      <td>No</td>\n",
       "      <td>Mailed check</td>\n",
       "      <td>73.35</td>\n",
       "      <td></td>\n",
       "      <td>Female</td>\n",
       "      <td>0</td>\n",
       "      <td>Yes</td>\n",
       "      <td>...</td>\n",
       "      <td>DSL</td>\n",
       "      <td>No</td>\n",
       "      <td>Yes</td>\n",
       "      <td>Yes</td>\n",
       "      <td>Yes</td>\n",
       "      <td>Yes</td>\n",
       "      <td>No</td>\n",
       "      <td>Yes</td>\n",
       "      <td>0</td>\n",
       "      <td>0</td>\n",
       "    </tr>\n",
       "    <tr>\n",
       "      <th>2775-SEFEE</th>\n",
       "      <td>2020-02-01</td>\n",
       "      <td>2020-02-01</td>\n",
       "      <td>Two year</td>\n",
       "      <td>Yes</td>\n",
       "      <td>Bank transfer (automatic)</td>\n",
       "      <td>61.90</td>\n",
       "      <td></td>\n",
       "      <td>Male</td>\n",
       "      <td>0</td>\n",
       "      <td>No</td>\n",
       "      <td>...</td>\n",
       "      <td>DSL</td>\n",
       "      <td>Yes</td>\n",
       "      <td>Yes</td>\n",
       "      <td>No</td>\n",
       "      <td>Yes</td>\n",
       "      <td>No</td>\n",
       "      <td>No</td>\n",
       "      <td>Yes</td>\n",
       "      <td>0</td>\n",
       "      <td>0</td>\n",
       "    </tr>\n",
       "  </tbody>\n",
       "</table>\n",
       "<p>11 rows × 21 columns</p>\n",
       "</div>"
      ],
      "text/plain": [
       "           begin_date   end_date      type paperless_billing  \\\n",
       "customerID                                                     \n",
       "4472-LVYGI 2020-02-01 2020-02-01  Two year               Yes   \n",
       "3115-CZMZD 2020-02-01 2020-02-01  Two year                No   \n",
       "5709-LVOEQ 2020-02-01 2020-02-01  Two year                No   \n",
       "4367-NUYAO 2020-02-01 2020-02-01  Two year                No   \n",
       "1371-DWPAZ 2020-02-01 2020-02-01  Two year                No   \n",
       "7644-OMVMY 2020-02-01 2020-02-01  Two year                No   \n",
       "3213-VVOLG 2020-02-01 2020-02-01  Two year                No   \n",
       "2520-SGTTA 2020-02-01 2020-02-01  Two year                No   \n",
       "2923-ARZLG 2020-02-01 2020-02-01  One year               Yes   \n",
       "4075-WKNIU 2020-02-01 2020-02-01  Two year                No   \n",
       "2775-SEFEE 2020-02-01 2020-02-01  Two year               Yes   \n",
       "\n",
       "                       payment_method  monthly_charges total_charges  gender  \\\n",
       "customerID                                                                     \n",
       "4472-LVYGI  Bank transfer (automatic)            52.55                Female   \n",
       "3115-CZMZD               Mailed check            20.25                  Male   \n",
       "5709-LVOEQ               Mailed check            80.85                Female   \n",
       "4367-NUYAO               Mailed check            25.75                  Male   \n",
       "1371-DWPAZ    Credit card (automatic)            56.05                Female   \n",
       "7644-OMVMY               Mailed check            19.85                  Male   \n",
       "3213-VVOLG               Mailed check            25.35                  Male   \n",
       "2520-SGTTA               Mailed check            20.00                Female   \n",
       "2923-ARZLG               Mailed check            19.70                  Male   \n",
       "4075-WKNIU               Mailed check            73.35                Female   \n",
       "2775-SEFEE  Bank transfer (automatic)            61.90                  Male   \n",
       "\n",
       "            senior_citizen partner  ... internet_service online_security  \\\n",
       "customerID                          ...                                    \n",
       "4472-LVYGI               0     Yes  ...              DSL             Yes   \n",
       "3115-CZMZD               0      No  ...          unknown              No   \n",
       "5709-LVOEQ               0     Yes  ...              DSL             Yes   \n",
       "4367-NUYAO               0     Yes  ...          unknown              No   \n",
       "1371-DWPAZ               0     Yes  ...              DSL             Yes   \n",
       "7644-OMVMY               0     Yes  ...          unknown              No   \n",
       "3213-VVOLG               0     Yes  ...          unknown              No   \n",
       "2520-SGTTA               0     Yes  ...          unknown              No   \n",
       "2923-ARZLG               0     Yes  ...          unknown              No   \n",
       "4075-WKNIU               0     Yes  ...              DSL              No   \n",
       "2775-SEFEE               0      No  ...              DSL             Yes   \n",
       "\n",
       "           online_backup device_protection tech_support streaming_tv  \\\n",
       "customerID                                                             \n",
       "4472-LVYGI            No               Yes          Yes          Yes   \n",
       "3115-CZMZD            No                No           No           No   \n",
       "5709-LVOEQ           Yes               Yes           No          Yes   \n",
       "4367-NUYAO            No                No           No           No   \n",
       "1371-DWPAZ           Yes               Yes          Yes          Yes   \n",
       "7644-OMVMY            No                No           No           No   \n",
       "3213-VVOLG            No                No           No           No   \n",
       "2520-SGTTA            No                No           No           No   \n",
       "2923-ARZLG            No                No           No           No   \n",
       "4075-WKNIU           Yes               Yes          Yes          Yes   \n",
       "2775-SEFEE           Yes                No          Yes           No   \n",
       "\n",
       "           streaming_movies multiple_lines customer_loss  duration  \n",
       "customerID                                                          \n",
       "4472-LVYGI               No             No             0         0  \n",
       "3115-CZMZD               No             No             0         0  \n",
       "5709-LVOEQ              Yes             No             0         0  \n",
       "4367-NUYAO               No            Yes             0         0  \n",
       "1371-DWPAZ               No             No             0         0  \n",
       "7644-OMVMY               No             No             0         0  \n",
       "3213-VVOLG               No            Yes             0         0  \n",
       "2520-SGTTA               No             No             0         0  \n",
       "2923-ARZLG               No             No             0         0  \n",
       "4075-WKNIU               No            Yes             0         0  \n",
       "2775-SEFEE               No            Yes             0         0  \n",
       "\n",
       "[11 rows x 21 columns]"
      ]
     },
     "execution_count": 28,
     "metadata": {},
     "output_type": "execute_result"
    }
   ],
   "source": [
    "df[df['total_charges'] == ' ']"
   ]
  },
  {
   "cell_type": "markdown",
   "id": "35ebf14e",
   "metadata": {},
   "source": [
    "Всего у 11 клиентов нет данных об общей сумме платежей, мы видим, что это те клиенты, которые пользуются услугами компании меньше месяца. Поскольку это новые клиенты и еще ничего не успели заплатить, заполним нулями пустые значения в столбце \"Общая сумма платежей\":"
   ]
  },
  {
   "cell_type": "code",
   "execution_count": 29,
   "id": "4ec069d4",
   "metadata": {},
   "outputs": [
    {
     "name": "stdout",
     "output_type": "stream",
     "text": [
      "<class 'pandas.core.frame.DataFrame'>\n",
      "Index: 7043 entries, 7590-VHVEG to 3186-AJIEK\n",
      "Data columns (total 21 columns):\n",
      " #   Column             Non-Null Count  Dtype         \n",
      "---  ------             --------------  -----         \n",
      " 0   begin_date         7043 non-null   datetime64[ns]\n",
      " 1   end_date           7043 non-null   datetime64[ns]\n",
      " 2   type               7043 non-null   object        \n",
      " 3   paperless_billing  7043 non-null   object        \n",
      " 4   payment_method     7043 non-null   object        \n",
      " 5   monthly_charges    7043 non-null   float64       \n",
      " 6   total_charges      7043 non-null   float64       \n",
      " 7   gender             7043 non-null   object        \n",
      " 8   senior_citizen     7043 non-null   int64         \n",
      " 9   partner            7043 non-null   object        \n",
      " 10  dependents         7043 non-null   object        \n",
      " 11  internet_service   7043 non-null   object        \n",
      " 12  online_security    7043 non-null   object        \n",
      " 13  online_backup      7043 non-null   object        \n",
      " 14  device_protection  7043 non-null   object        \n",
      " 15  tech_support       7043 non-null   object        \n",
      " 16  streaming_tv       7043 non-null   object        \n",
      " 17  streaming_movies   7043 non-null   object        \n",
      " 18  multiple_lines     7043 non-null   object        \n",
      " 19  customer_loss      7043 non-null   int32         \n",
      " 20  duration           7043 non-null   int64         \n",
      "dtypes: datetime64[ns](2), float64(2), int32(1), int64(2), object(14)\n",
      "memory usage: 1.2+ MB\n"
     ]
    }
   ],
   "source": [
    "df['total_charges'] = df['total_charges'].replace([' '], ['0'])\n",
    "df['total_charges'] = df['total_charges'].astype('float64')\n",
    "df.info()"
   ]
  },
  {
   "cell_type": "markdown",
   "id": "b59564ff",
   "metadata": {},
   "source": [
    "В остальных столбцах не будем менять тип данных, потому что на этапе подготовки признаков мы будем менять значения на 0 и 1. "
   ]
  },
  {
   "cell_type": "markdown",
   "id": "4c621596",
   "metadata": {},
   "source": [
    "## Исследовательский анализ данных\n",
    "Проанализируем ушедших клиентов:"
   ]
  },
  {
   "cell_type": "code",
   "execution_count": 30,
   "id": "f95b2b57",
   "metadata": {
    "scrolled": false
   },
   "outputs": [
    {
     "data": {
      "text/plain": [
       "0    0.73463\n",
       "1    0.26537\n",
       "Name: customer_loss, dtype: float64"
      ]
     },
     "execution_count": 30,
     "metadata": {},
     "output_type": "execute_result"
    }
   ],
   "source": [
    "df['customer_loss'].value_counts(normalize=True)"
   ]
  },
  {
   "cell_type": "markdown",
   "id": "c2fba7cf",
   "metadata": {},
   "source": [
    "26,5% клиентов прекратили пользоваться услугами компании. Построим график распределения числа ушедших клиентов от даты окончания договора:"
   ]
  },
  {
   "cell_type": "code",
   "execution_count": 31,
   "id": "518f42a0",
   "metadata": {
    "scrolled": false
   },
   "outputs": [
    {
     "data": {
      "image/png": "[encoded data removed]",
      "text/plain": [
       "<Figure size 1080x504 with 1 Axes>"
      ]
     },
     "metadata": {
      "needs_background": "light"
     },
     "output_type": "display_data"
    }
   ],
   "source": [
    "df.loc[df['end_date']  != '2020-02-01', 'end_date'].value_counts().plot(style='o-', grid=True,figsize=(15, 7))\n",
    "plt.title('Распределение числа ушедших клиентов от даты окончания договора')\n",
    "plt.xlabel('Дата окончания договора', fontsize=12)\n",
    "plt.ylabel('Количество пользователей, шт.', fontsize=12)\n",
    "plt.show()"
   ]
  },
  {
   "cell_type": "markdown",
   "id": "c458e19f",
   "metadata": {},
   "source": [
    "На графике видим пик ушедших клиентов в ноябре 2019 года, возможно в этот период увеличилась стоимость услуг, после чего клиенты уходили. Посмотрим теперь на распределение числа новых клиентов:"
   ]
  },
  {
   "cell_type": "code",
   "execution_count": 32,
   "id": "f70fa3cb",
   "metadata": {},
   "outputs": [
    {
     "data": {
      "image/png": "[encoded data removed]",
      "text/plain": [
       "<Figure size 1080x504 with 1 Axes>"
      ]
     },
     "metadata": {
      "needs_background": "light"
     },
     "output_type": "display_data"
    }
   ],
   "source": [
    "df['begin_date'].value_counts().plot(style='o-', grid=True,figsize=(15, 7))\n",
    "plt.title('Распределение числа новых клиентов от даты начала договора')\n",
    "plt.xlabel('Дата начала договора', fontsize=12)\n",
    "plt.ylabel('Количество пользователей, шт.', fontsize=12)\n",
    "plt.show()"
   ]
  },
  {
   "cell_type": "markdown",
   "id": "701e02ae",
   "metadata": {},
   "source": [
    "На графике видим резкий рост числа пользователей в начале 2014 года, скорее всего это связано с рекламными акциями для привлечения новых клиентов. Далее идет равномерный рост числа пользователей до середины 2019 года - около 80 клиентов в месяц. Резкое падение числа новых клиентов в феврале 2020 года связано с тем, что выгрузка данных проводилась 1 февраля 2020 года."
   ]
  },
  {
   "cell_type": "code",
   "execution_count": 33,
   "id": "2c6a6bc6",
   "metadata": {},
   "outputs": [
    {
     "data": {
      "image/png": "[encoded data removed]",
      "text/plain": [
       "<Figure size 864x432 with 1 Axes>"
      ]
     },
     "metadata": {
      "needs_background": "light"
     },
     "output_type": "display_data"
    }
   ],
   "source": [
    "df['monthly_charges'].plot(kind='hist',\n",
    "                           alpha=.5,\n",
    "                           figsize=(12, 6),\n",
    "                           grid=True,\n",
    "                           bins=70,\n",
    "                           color=\"skyblue\",\n",
    "                           edgecolor=\"black\")\n",
    "plt.title('Ежемесячные платежи (у.е.)', fontsize=15, y=1)\n",
    "plt.xlabel('Сумма ежемесячных платежей (у.е.)', fontsize=12)\n",
    "plt.ylabel('Количество пользователей, шт.', fontsize=12)\n",
    "plt.show()"
   ]
  },
  {
   "cell_type": "code",
   "execution_count": 34,
   "id": "09909767",
   "metadata": {
    "scrolled": true
   },
   "outputs": [
    {
     "data": {
      "text/plain": [
       "count    7043.000000\n",
       "mean       64.761692\n",
       "std        30.090047\n",
       "min        18.250000\n",
       "25%        35.500000\n",
       "50%        70.350000\n",
       "75%        89.850000\n",
       "max       118.750000\n",
       "Name: monthly_charges, dtype: float64"
      ]
     },
     "execution_count": 34,
     "metadata": {},
     "output_type": "execute_result"
    }
   ],
   "source": [
    "df['monthly_charges'].describe()"
   ]
  },
  {
   "cell_type": "markdown",
   "id": "f6501bf8",
   "metadata": {},
   "source": [
    "На графике мы видим, что клиенты предпочитают пользоваться дешевыми услугами."
   ]
  },
  {
   "cell_type": "code",
   "execution_count": 35,
   "id": "156f84d3",
   "metadata": {},
   "outputs": [
    {
     "data": {
      "image/png": "[encoded data removed]",
      "text/plain": [
       "<Figure size 864x432 with 1 Axes>"
      ]
     },
     "metadata": {
      "needs_background": "light"
     },
     "output_type": "display_data"
    }
   ],
   "source": [
    "df['total_charges'].plot(kind='hist',\n",
    "                           alpha=.5,\n",
    "                           figsize=(12, 6),\n",
    "                           grid=True,\n",
    "                           bins=70,\n",
    "                           color=\"skyblue\",\n",
    "                           edgecolor=\"black\")\n",
    "plt.title('Общая сумма платежей платежи (у.е.)', fontsize=15, y=1)\n",
    "plt.xlabel('Общая сумма платежей платежей (у.е.)', fontsize=12)\n",
    "plt.ylabel('Количество пользователей, шт.', fontsize=12)\n",
    "plt.show()"
   ]
  },
  {
   "cell_type": "code",
   "execution_count": 36,
   "id": "1fa0cc09",
   "metadata": {
    "scrolled": true
   },
   "outputs": [
    {
     "data": {
      "text/plain": [
       "count    7043.000000\n",
       "mean     2279.734304\n",
       "std      2266.794470\n",
       "min         0.000000\n",
       "25%       398.550000\n",
       "50%      1394.550000\n",
       "75%      3786.600000\n",
       "max      8684.800000\n",
       "Name: total_charges, dtype: float64"
      ]
     },
     "execution_count": 36,
     "metadata": {},
     "output_type": "execute_result"
    }
   ],
   "source": [
    "df['total_charges'].describe()"
   ]
  },
  {
   "cell_type": "code",
   "execution_count": 37,
   "id": "1b519c8c",
   "metadata": {
    "scrolled": false
   },
   "outputs": [
    {
     "data": {
      "image/png": "[encoded data removed]",
      "text/plain": [
       "<Figure size 864x432 with 1 Axes>"
      ]
     },
     "metadata": {
      "needs_background": "light"
     },
     "output_type": "display_data"
    }
   ],
   "source": [
    "df['duration'].plot(kind='hist',\n",
    "                           alpha=.5,\n",
    "                           figsize=(12, 6),\n",
    "                           grid=True,\n",
    "                           bins=100,\n",
    "                           color=\"skyblue\",\n",
    "                           edgecolor=\"black\")\n",
    "plt.title('Продолжительность пользования услугами компании', fontsize=15, y=1)\n",
    "plt.xlabel('Продолжительность пользования услугами компании (дней)', fontsize=12)\n",
    "plt.ylabel('Количество пользователей, шт.', fontsize=12)\n",
    "plt.show()"
   ]
  },
  {
   "cell_type": "code",
   "execution_count": 38,
   "id": "4e578fcb",
   "metadata": {},
   "outputs": [
    {
     "data": {
      "text/plain": [
       "count    7043.000000\n",
       "mean      985.996166\n",
       "std       747.587844\n",
       "min         0.000000\n",
       "25%       273.000000\n",
       "50%       883.000000\n",
       "75%      1676.000000\n",
       "max      2191.000000\n",
       "Name: duration, dtype: float64"
      ]
     },
     "execution_count": 38,
     "metadata": {},
     "output_type": "execute_result"
    }
   ],
   "source": [
    "df['duration'].describe()"
   ]
  },
  {
   "cell_type": "markdown",
   "id": "0d6e1103",
   "metadata": {},
   "source": [
    "На графике мы видим, что многие клиенты пользуются услугами менее 100 дней. Также видим, что есть преданные клиенты, которые годами пользуются услугами компании."
   ]
  },
  {
   "cell_type": "markdown",
   "id": "f7e89a84",
   "metadata": {},
   "source": [
    "# Отбор и подготовка признаков\n",
    "Удалим столбцы с датой из таблицы, чтобы избежать утечки данных:"
   ]
  },
  {
   "cell_type": "code",
   "execution_count": 39,
   "id": "91ecf527",
   "metadata": {
    "scrolled": false
   },
   "outputs": [
    {
     "name": "stdout",
     "output_type": "stream",
     "text": [
      "<class 'pandas.core.frame.DataFrame'>\n",
      "Index: 7043 entries, 7590-VHVEG to 3186-AJIEK\n",
      "Data columns (total 19 columns):\n",
      " #   Column             Non-Null Count  Dtype  \n",
      "---  ------             --------------  -----  \n",
      " 0   type               7043 non-null   object \n",
      " 1   paperless_billing  7043 non-null   object \n",
      " 2   payment_method     7043 non-null   object \n",
      " 3   monthly_charges    7043 non-null   float64\n",
      " 4   total_charges      7043 non-null   float64\n",
      " 5   gender             7043 non-null   object \n",
      " 6   senior_citizen     7043 non-null   int64  \n",
      " 7   partner            7043 non-null   object \n",
      " 8   dependents         7043 non-null   object \n",
      " 9   internet_service   7043 non-null   object \n",
      " 10  online_security    7043 non-null   object \n",
      " 11  online_backup      7043 non-null   object \n",
      " 12  device_protection  7043 non-null   object \n",
      " 13  tech_support       7043 non-null   object \n",
      " 14  streaming_tv       7043 non-null   object \n",
      " 15  streaming_movies   7043 non-null   object \n",
      " 16  multiple_lines     7043 non-null   object \n",
      " 17  customer_loss      7043 non-null   int32  \n",
      " 18  duration           7043 non-null   int64  \n",
      "dtypes: float64(2), int32(1), int64(2), object(14)\n",
      "memory usage: 1.0+ MB\n"
     ]
    }
   ],
   "source": [
    "df = df.drop(['begin_date', 'end_date'], 1)\n",
    "df.info()"
   ]
  },
  {
   "cell_type": "markdown",
   "id": "0bab097a",
   "metadata": {},
   "source": [
    "Проверим количественные признаки на мультиколлинеарность"
   ]
  },
  {
   "cell_type": "code",
   "execution_count": 40,
   "id": "9e9ad2b6",
   "metadata": {},
   "outputs": [],
   "source": [
    "numeric = ['monthly_charges', 'total_charges', 'duration']"
   ]
  },
  {
   "cell_type": "code",
   "execution_count": 41,
   "id": "54bc849d",
   "metadata": {
    "scrolled": true
   },
   "outputs": [
    {
     "data": {
      "text/html": [
       "<div>\n",
       "<style scoped>\n",
       "    .dataframe tbody tr th:only-of-type {\n",
       "        vertical-align: middle;\n",
       "    }\n",
       "\n",
       "    .dataframe tbody tr th {\n",
       "        vertical-align: top;\n",
       "    }\n",
       "\n",
       "    .dataframe thead th {\n",
       "        text-align: right;\n",
       "    }\n",
       "</style>\n",
       "<table border=\"1\" class=\"dataframe\">\n",
       "  <thead>\n",
       "    <tr style=\"text-align: right;\">\n",
       "      <th></th>\n",
       "      <th>monthly_charges</th>\n",
       "      <th>total_charges</th>\n",
       "      <th>duration</th>\n",
       "    </tr>\n",
       "  </thead>\n",
       "  <tbody>\n",
       "    <tr>\n",
       "      <th>monthly_charges</th>\n",
       "      <td>1.000000</td>\n",
       "      <td>0.651174</td>\n",
       "      <td>0.247754</td>\n",
       "    </tr>\n",
       "    <tr>\n",
       "      <th>total_charges</th>\n",
       "      <td>0.651174</td>\n",
       "      <td>1.000000</td>\n",
       "      <td>0.826109</td>\n",
       "    </tr>\n",
       "    <tr>\n",
       "      <th>duration</th>\n",
       "      <td>0.247754</td>\n",
       "      <td>0.826109</td>\n",
       "      <td>1.000000</td>\n",
       "    </tr>\n",
       "  </tbody>\n",
       "</table>\n",
       "</div>"
      ],
      "text/plain": [
       "                 monthly_charges  total_charges  duration\n",
       "monthly_charges         1.000000       0.651174  0.247754\n",
       "total_charges           0.651174       1.000000  0.826109\n",
       "duration                0.247754       0.826109  1.000000"
      ]
     },
     "execution_count": 41,
     "metadata": {},
     "output_type": "execute_result"
    }
   ],
   "source": [
    "corr_matrix = df[numeric].corr()\n",
    "corr_matrix"
   ]
  },
  {
   "cell_type": "code",
   "execution_count": 42,
   "id": "2145f900",
   "metadata": {},
   "outputs": [
    {
     "data": {
      "image/png": "[encoded data removed]",
      "text/plain": [
       "<Figure size 432x288 with 2 Axes>"
      ]
     },
     "metadata": {
      "needs_background": "light"
     },
     "output_type": "display_data"
    }
   ],
   "source": [
    "sbn.heatmap(corr_matrix, \n",
    "            annot=True, \n",
    "            cmap='Blues')\n",
    "plt.show()"
   ]
  },
  {
   "cell_type": "markdown",
   "id": "5f72e6c2",
   "metadata": {},
   "source": [
    "Наблюдаем сильную корреляцию 0,83 между признаками \"Общая сумма оплаты\" и \"Продолжительность пользования услугами компании\". Довольно логично - чем дольше клиент пользуется услугами, тем больше общая сумма, которую он приносит компании. Удалим признак \"Общая сумма оплаты\":"
   ]
  },
  {
   "cell_type": "code",
   "execution_count": 43,
   "id": "a4e6318c",
   "metadata": {},
   "outputs": [],
   "source": [
    "df = df.drop('total_charges', 1)"
   ]
  },
  {
   "cell_type": "markdown",
   "id": "5694d8ba",
   "metadata": {},
   "source": [
    "Осталось два количественных признака:"
   ]
  },
  {
   "cell_type": "code",
   "execution_count": 44,
   "id": "00293a6e",
   "metadata": {},
   "outputs": [],
   "source": [
    "numeric = ['monthly_charges', 'duration']"
   ]
  },
  {
   "cell_type": "markdown",
   "id": "9d68f8d3",
   "metadata": {},
   "source": [
    "Категориальные признаки преобразуем с помощью метода One-Hot Encoding:"
   ]
  },
  {
   "cell_type": "code",
   "execution_count": 45,
   "id": "5a0e9749",
   "metadata": {},
   "outputs": [
    {
     "data": {
      "text/html": [
       "<div>\n",
       "<style scoped>\n",
       "    .dataframe tbody tr th:only-of-type {\n",
       "        vertical-align: middle;\n",
       "    }\n",
       "\n",
       "    .dataframe tbody tr th {\n",
       "        vertical-align: top;\n",
       "    }\n",
       "\n",
       "    .dataframe thead th {\n",
       "        text-align: right;\n",
       "    }\n",
       "</style>\n",
       "<table border=\"1\" class=\"dataframe\">\n",
       "  <thead>\n",
       "    <tr style=\"text-align: right;\">\n",
       "      <th>customerID</th>\n",
       "      <th>5397-TUPSH</th>\n",
       "      <th>1915-IOFGU</th>\n",
       "      <th>4299-SIMNS</th>\n",
       "      <th>0924-BJCRC</th>\n",
       "      <th>3301-VKTGC</th>\n",
       "    </tr>\n",
       "  </thead>\n",
       "  <tbody>\n",
       "    <tr>\n",
       "      <th>monthly_charges</th>\n",
       "      <td>70.95</td>\n",
       "      <td>70.5</td>\n",
       "      <td>81.15</td>\n",
       "      <td>89.45</td>\n",
       "      <td>85.5</td>\n",
       "    </tr>\n",
       "    <tr>\n",
       "      <th>senior_citizen</th>\n",
       "      <td>1.00</td>\n",
       "      <td>0.0</td>\n",
       "      <td>0.00</td>\n",
       "      <td>1.00</td>\n",
       "      <td>0.0</td>\n",
       "    </tr>\n",
       "    <tr>\n",
       "      <th>customer_loss</th>\n",
       "      <td>0.00</td>\n",
       "      <td>1.0</td>\n",
       "      <td>0.00</td>\n",
       "      <td>0.00</td>\n",
       "      <td>0.0</td>\n",
       "    </tr>\n",
       "    <tr>\n",
       "      <th>duration</th>\n",
       "      <td>1979.00</td>\n",
       "      <td>30.0</td>\n",
       "      <td>276.00</td>\n",
       "      <td>1826.00</td>\n",
       "      <td>2071.0</td>\n",
       "    </tr>\n",
       "    <tr>\n",
       "      <th>type_One year</th>\n",
       "      <td>1.00</td>\n",
       "      <td>0.0</td>\n",
       "      <td>0.00</td>\n",
       "      <td>0.00</td>\n",
       "      <td>1.0</td>\n",
       "    </tr>\n",
       "    <tr>\n",
       "      <th>type_Two year</th>\n",
       "      <td>0.00</td>\n",
       "      <td>0.0</td>\n",
       "      <td>0.00</td>\n",
       "      <td>0.00</td>\n",
       "      <td>0.0</td>\n",
       "    </tr>\n",
       "    <tr>\n",
       "      <th>paperless_billing_Yes</th>\n",
       "      <td>1.00</td>\n",
       "      <td>0.0</td>\n",
       "      <td>1.00</td>\n",
       "      <td>0.00</td>\n",
       "      <td>1.0</td>\n",
       "    </tr>\n",
       "    <tr>\n",
       "      <th>payment_method_Credit card (automatic)</th>\n",
       "      <td>0.00</td>\n",
       "      <td>0.0</td>\n",
       "      <td>0.00</td>\n",
       "      <td>0.00</td>\n",
       "      <td>0.0</td>\n",
       "    </tr>\n",
       "    <tr>\n",
       "      <th>payment_method_Electronic check</th>\n",
       "      <td>0.00</td>\n",
       "      <td>1.0</td>\n",
       "      <td>1.00</td>\n",
       "      <td>1.00</td>\n",
       "      <td>0.0</td>\n",
       "    </tr>\n",
       "    <tr>\n",
       "      <th>payment_method_Mailed check</th>\n",
       "      <td>0.00</td>\n",
       "      <td>0.0</td>\n",
       "      <td>0.00</td>\n",
       "      <td>0.00</td>\n",
       "      <td>0.0</td>\n",
       "    </tr>\n",
       "    <tr>\n",
       "      <th>gender_Male</th>\n",
       "      <td>1.00</td>\n",
       "      <td>0.0</td>\n",
       "      <td>1.00</td>\n",
       "      <td>0.00</td>\n",
       "      <td>1.0</td>\n",
       "    </tr>\n",
       "    <tr>\n",
       "      <th>partner_Yes</th>\n",
       "      <td>1.00</td>\n",
       "      <td>0.0</td>\n",
       "      <td>0.00</td>\n",
       "      <td>1.00</td>\n",
       "      <td>1.0</td>\n",
       "    </tr>\n",
       "    <tr>\n",
       "      <th>dependents_Yes</th>\n",
       "      <td>0.00</td>\n",
       "      <td>0.0</td>\n",
       "      <td>0.00</td>\n",
       "      <td>0.00</td>\n",
       "      <td>1.0</td>\n",
       "    </tr>\n",
       "    <tr>\n",
       "      <th>internet_service_Fiber optic</th>\n",
       "      <td>1.00</td>\n",
       "      <td>1.0</td>\n",
       "      <td>1.00</td>\n",
       "      <td>1.00</td>\n",
       "      <td>1.0</td>\n",
       "    </tr>\n",
       "    <tr>\n",
       "      <th>internet_service_unknown</th>\n",
       "      <td>0.00</td>\n",
       "      <td>0.0</td>\n",
       "      <td>0.00</td>\n",
       "      <td>0.00</td>\n",
       "      <td>0.0</td>\n",
       "    </tr>\n",
       "    <tr>\n",
       "      <th>online_security_Yes</th>\n",
       "      <td>0.00</td>\n",
       "      <td>0.0</td>\n",
       "      <td>1.00</td>\n",
       "      <td>0.00</td>\n",
       "      <td>1.0</td>\n",
       "    </tr>\n",
       "    <tr>\n",
       "      <th>online_backup_Yes</th>\n",
       "      <td>0.00</td>\n",
       "      <td>0.0</td>\n",
       "      <td>0.00</td>\n",
       "      <td>1.00</td>\n",
       "      <td>1.0</td>\n",
       "    </tr>\n",
       "    <tr>\n",
       "      <th>device_protection_Yes</th>\n",
       "      <td>0.00</td>\n",
       "      <td>0.0</td>\n",
       "      <td>0.00</td>\n",
       "      <td>0.00</td>\n",
       "      <td>0.0</td>\n",
       "    </tr>\n",
       "    <tr>\n",
       "      <th>tech_support_Yes</th>\n",
       "      <td>0.00</td>\n",
       "      <td>0.0</td>\n",
       "      <td>0.00</td>\n",
       "      <td>0.00</td>\n",
       "      <td>0.0</td>\n",
       "    </tr>\n",
       "    <tr>\n",
       "      <th>streaming_tv_Yes</th>\n",
       "      <td>0.00</td>\n",
       "      <td>0.0</td>\n",
       "      <td>0.00</td>\n",
       "      <td>0.00</td>\n",
       "      <td>0.0</td>\n",
       "    </tr>\n",
       "    <tr>\n",
       "      <th>streaming_movies_Yes</th>\n",
       "      <td>0.00</td>\n",
       "      <td>0.0</td>\n",
       "      <td>0.00</td>\n",
       "      <td>1.00</td>\n",
       "      <td>0.0</td>\n",
       "    </tr>\n",
       "    <tr>\n",
       "      <th>multiple_lines_Yes</th>\n",
       "      <td>0.00</td>\n",
       "      <td>0.0</td>\n",
       "      <td>1.00</td>\n",
       "      <td>1.00</td>\n",
       "      <td>1.0</td>\n",
       "    </tr>\n",
       "  </tbody>\n",
       "</table>\n",
       "</div>"
      ],
      "text/plain": [
       "customerID                              5397-TUPSH  1915-IOFGU  4299-SIMNS  \\\n",
       "monthly_charges                              70.95        70.5       81.15   \n",
       "senior_citizen                                1.00         0.0        0.00   \n",
       "customer_loss                                 0.00         1.0        0.00   \n",
       "duration                                   1979.00        30.0      276.00   \n",
       "type_One year                                 1.00         0.0        0.00   \n",
       "type_Two year                                 0.00         0.0        0.00   \n",
       "paperless_billing_Yes                         1.00         0.0        1.00   \n",
       "payment_method_Credit card (automatic)        0.00         0.0        0.00   \n",
       "payment_method_Electronic check               0.00         1.0        1.00   \n",
       "payment_method_Mailed check                   0.00         0.0        0.00   \n",
       "gender_Male                                   1.00         0.0        1.00   \n",
       "partner_Yes                                   1.00         0.0        0.00   \n",
       "dependents_Yes                                0.00         0.0        0.00   \n",
       "internet_service_Fiber optic                  1.00         1.0        1.00   \n",
       "internet_service_unknown                      0.00         0.0        0.00   \n",
       "online_security_Yes                           0.00         0.0        1.00   \n",
       "online_backup_Yes                             0.00         0.0        0.00   \n",
       "device_protection_Yes                         0.00         0.0        0.00   \n",
       "tech_support_Yes                              0.00         0.0        0.00   \n",
       "streaming_tv_Yes                              0.00         0.0        0.00   \n",
       "streaming_movies_Yes                          0.00         0.0        0.00   \n",
       "multiple_lines_Yes                            0.00         0.0        1.00   \n",
       "\n",
       "customerID                              0924-BJCRC  3301-VKTGC  \n",
       "monthly_charges                              89.45        85.5  \n",
       "senior_citizen                                1.00         0.0  \n",
       "customer_loss                                 0.00         0.0  \n",
       "duration                                   1826.00      2071.0  \n",
       "type_One year                                 0.00         1.0  \n",
       "type_Two year                                 0.00         0.0  \n",
       "paperless_billing_Yes                         0.00         1.0  \n",
       "payment_method_Credit card (automatic)        0.00         0.0  \n",
       "payment_method_Electronic check               1.00         0.0  \n",
       "payment_method_Mailed check                   0.00         0.0  \n",
       "gender_Male                                   0.00         1.0  \n",
       "partner_Yes                                   1.00         1.0  \n",
       "dependents_Yes                                0.00         1.0  \n",
       "internet_service_Fiber optic                  1.00         1.0  \n",
       "internet_service_unknown                      0.00         0.0  \n",
       "online_security_Yes                           0.00         1.0  \n",
       "online_backup_Yes                             1.00         1.0  \n",
       "device_protection_Yes                         0.00         0.0  \n",
       "tech_support_Yes                              0.00         0.0  \n",
       "streaming_tv_Yes                              0.00         0.0  \n",
       "streaming_movies_Yes                          1.00         0.0  \n",
       "multiple_lines_Yes                            1.00         1.0  "
      ]
     },
     "execution_count": 45,
     "metadata": {},
     "output_type": "execute_result"
    }
   ],
   "source": [
    "df_ohe=pd.get_dummies(df, drop_first=True)\n",
    "df_ohe.sample(5).T"
   ]
  },
  {
   "cell_type": "markdown",
   "id": "e58bae82",
   "metadata": {},
   "source": [
    "Признаки подготовили, переходим к обучению моделей."
   ]
  },
  {
   "cell_type": "markdown",
   "id": "8072f9cc",
   "metadata": {},
   "source": [
    "# Обучение моделей"
   ]
  },
  {
   "cell_type": "markdown",
   "id": "cfc9771a",
   "metadata": {},
   "source": [
    "Выделим признаки и целевой признак в разные переменные:"
   ]
  },
  {
   "cell_type": "code",
   "execution_count": 46,
   "id": "2d5e8d7f",
   "metadata": {},
   "outputs": [],
   "source": [
    "features = df_ohe.drop(['customer_loss'], axis=1)\n",
    "target = df_ohe['customer_loss']"
   ]
  },
  {
   "cell_type": "markdown",
   "id": "b39830ce",
   "metadata": {},
   "source": [
    "Разделим данные на обучающую и тестовую выборки в соотношении 80:20"
   ]
  },
  {
   "cell_type": "code",
   "execution_count": 47,
   "id": "63d4623c",
   "metadata": {},
   "outputs": [],
   "source": [
    "features_train, features_test, target_train, target_test = train_test_split(features, \n",
    "                                                                            target, \n",
    "                                                                            test_size=0.2, \n",
    "                                                                            random_state=250722)"
   ]
  },
  {
   "cell_type": "markdown",
   "id": "9aae3d78",
   "metadata": {},
   "source": [
    "Приведём численные признаки к одному масштабу."
   ]
  },
  {
   "cell_type": "code",
   "execution_count": 48,
   "id": "b70ff4c7",
   "metadata": {},
   "outputs": [
    {
     "name": "stdout",
     "output_type": "stream",
     "text": [
      "(5634, 21)\n",
      "(1409, 21)\n"
     ]
    }
   ],
   "source": [
    "numeric = ['monthly_charges', 'duration']\n",
    "\n",
    "scaler = StandardScaler()\n",
    "scaler.fit(features_train[numeric])\n",
    "features_train[numeric] = scaler.transform(features_train[numeric])\n",
    "features_test[numeric] = scaler.transform(features_test[numeric])\n",
    "\n",
    "print(features_train.shape)\n",
    "print(features_test.shape)"
   ]
  },
  {
   "cell_type": "markdown",
   "id": "74b4f2ba",
   "metadata": {},
   "source": [
    "Удалим лишние переменные, чтобы освободить память и вычислительные мощности для более быстрого обучения:"
   ]
  },
  {
   "cell_type": "code",
   "execution_count": 49,
   "id": "3cd1276c",
   "metadata": {},
   "outputs": [],
   "source": [
    "del df_ohe\n",
    "del features\n",
    "del target"
   ]
  },
  {
   "cell_type": "markdown",
   "id": "cb807ce3",
   "metadata": {},
   "source": [
    "## Модель логистической регрессии"
   ]
  },
  {
   "cell_type": "code",
   "execution_count": 50,
   "id": "6455764e",
   "metadata": {
    "scrolled": false
   },
   "outputs": [
    {
     "name": "stdout",
     "output_type": "stream",
     "text": [
      "\n",
      "Лучшие параметры модели логистической регрессии: {'C': 100, 'max_iter': 100, 'solver': 'saga'}\n",
      "\n",
      "ROC_AUC модели логистической регрессии на тренировочной выборке: 0.84\n",
      "\n",
      "CPU times: total: 219 ms\n",
      "Wall time: 2.03 s\n"
     ]
    }
   ],
   "source": [
    "%%time\n",
    "# инициализируем модель\n",
    "logreg = LogisticRegression(random_state = 250722, class_weight = 'balanced')\n",
    "\n",
    "# задаем параметры для модуля GridSearch\n",
    "param_grid = {'C': [10,100], 'solver':['liblinear', 'saga'], 'max_iter':[100,200]}\n",
    "\n",
    "# ищем лучшие параметры \n",
    "logreg_grid = GridSearchCV(logreg, param_grid, cv = 5, n_jobs = -1, scoring = 'roc_auc')\n",
    "\n",
    "# обучаем модель на тренировочных данных\n",
    "logreg_grid.fit(features_train, target_train)\n",
    "\n",
    "# получаем лучшие параметры модели\n",
    "print()\n",
    "print('Лучшие параметры модели логистической регрессии:', logreg_grid.best_params_)\n",
    "print()\n",
    "\n",
    "# получаем оценку ROC_AUC\n",
    "print('ROC_AUC модели логистической регрессии на тренировочной выборке:', logreg_grid.best_score_.round(2))\n",
    "print()"
   ]
  },
  {
   "cell_type": "markdown",
   "id": "ec2ba9c8",
   "metadata": {},
   "source": [
    "## Модель решающего дерева"
   ]
  },
  {
   "cell_type": "code",
   "execution_count": 51,
   "id": "4c114e7e",
   "metadata": {
    "scrolled": false
   },
   "outputs": [
    {
     "name": "stdout",
     "output_type": "stream",
     "text": [
      "\n",
      "Лучшие параметры модели решающего дерева: {'max_depth': 10, 'min_samples_split': 16}\n",
      "\n",
      "ROC_AUC модели решающего дерева на тренировочной выборке: 0.83\n",
      "\n",
      "CPU times: total: 234 ms\n",
      "Wall time: 429 ms\n"
     ]
    }
   ],
   "source": [
    "%%time\n",
    "\n",
    "# инициализируем модель\n",
    "dt = DecisionTreeClassifier(random_state=250722, class_weight = 'balanced')\n",
    "\n",
    "# задаем параметры для модуля GridSearch \n",
    "param_grid = {'max_depth': [1, 10, 20], 'min_samples_split': [8, 10, 12, 14, 16]}\n",
    "\n",
    "# ищем лучшие параметры \n",
    "dt_grid = GridSearchCV(estimator = dt, param_grid = param_grid, cv= 5, n_jobs = -1, scoring = 'roc_auc') \n",
    "\n",
    "# обучаем модель на тренировочных данных\n",
    "dt_grid.fit(features_train, target_train)\n",
    "\n",
    "# получаем лучшие параметры модели\n",
    "print()\n",
    "print('Лучшие параметры модели решающего дерева:', dt_grid.best_params_)\n",
    "print()\n",
    "\n",
    "# получаем оценку ROC_AUC\n",
    "print('ROC_AUC модели решающего дерева на тренировочной выборке:', dt_grid.best_score_.round(2))\n",
    "print()"
   ]
  },
  {
   "cell_type": "markdown",
   "id": "bb04c839",
   "metadata": {},
   "source": [
    "## Случайный лес"
   ]
  },
  {
   "cell_type": "code",
   "execution_count": 52,
   "id": "33e2969e",
   "metadata": {},
   "outputs": [
    {
     "name": "stdout",
     "output_type": "stream",
     "text": [
      "\n",
      "Лучшие параметры модели случайного леса: {'max_depth': 10, 'n_estimators': 200}\n",
      "\n",
      "ROC_AUC модели случайного леса на тренировочной выборке: 0.85\n",
      "\n",
      "CPU times: total: 781 ms\n",
      "Wall time: 3.42 s\n"
     ]
    }
   ],
   "source": [
    "%%time\n",
    "\n",
    "# инициализируем модель\n",
    "rf = RandomForestClassifier(random_state=250722, class_weight = None)\n",
    "\n",
    "# задаем параметры для модуля GridSearch \n",
    "param_grid = {'max_depth': [1, 10, 20], 'n_estimators': [100, 200]}\n",
    "\n",
    "# ищем лучшие параметры \n",
    "rf_grid = GridSearchCV(estimator = rf, param_grid = param_grid, cv= 5, n_jobs = -1, scoring = 'roc_auc') \n",
    "\n",
    "# обучаем модель на тренировочных данных\n",
    "rf_grid.fit(features_train, target_train)\n",
    "\n",
    "# получаем лучшие параметры модели\n",
    "print()\n",
    "print('Лучшие параметры модели случайного леса:', rf_grid.best_params_)\n",
    "print()\n",
    "\n",
    "# получаем оценку ROC_AUC\n",
    "print('ROC_AUC модели случайного леса на тренировочной выборке:', rf_grid.best_score_.round(2))\n",
    "print()"
   ]
  },
  {
   "cell_type": "markdown",
   "id": "5e1978c5",
   "metadata": {},
   "source": [
    "## LightGBM"
   ]
  },
  {
   "cell_type": "markdown",
   "id": "5665b4a1",
   "metadata": {},
   "source": [
    "Для модели градиентного бустинга не подойдут кодированные признаки, поэтому поменяем тип данных в категориальных признаках, для этого создадим копию исходного датасета:"
   ]
  },
  {
   "cell_type": "code",
   "execution_count": 53,
   "id": "4066eb4c",
   "metadata": {},
   "outputs": [],
   "source": [
    "df_lgbm = df.copy()"
   ]
  },
  {
   "cell_type": "code",
   "execution_count": 54,
   "id": "6c85d3b3",
   "metadata": {},
   "outputs": [
    {
     "name": "stdout",
     "output_type": "stream",
     "text": [
      "<class 'pandas.core.frame.DataFrame'>\n",
      "Index: 7043 entries, 7590-VHVEG to 3186-AJIEK\n",
      "Data columns (total 18 columns):\n",
      " #   Column             Non-Null Count  Dtype   \n",
      "---  ------             --------------  -----   \n",
      " 0   type               7043 non-null   category\n",
      " 1   paperless_billing  7043 non-null   category\n",
      " 2   payment_method     7043 non-null   category\n",
      " 3   monthly_charges    7043 non-null   float64 \n",
      " 4   gender             7043 non-null   category\n",
      " 5   senior_citizen     7043 non-null   category\n",
      " 6   partner            7043 non-null   category\n",
      " 7   dependents         7043 non-null   category\n",
      " 8   internet_service   7043 non-null   category\n",
      " 9   online_security    7043 non-null   category\n",
      " 10  online_backup      7043 non-null   category\n",
      " 11  device_protection  7043 non-null   category\n",
      " 12  tech_support       7043 non-null   category\n",
      " 13  streaming_tv       7043 non-null   category\n",
      " 14  streaming_movies   7043 non-null   category\n",
      " 15  multiple_lines     7043 non-null   category\n",
      " 16  customer_loss      7043 non-null   int32   \n",
      " 17  duration           7043 non-null   int64   \n",
      "dtypes: category(15), float64(1), int32(1), int64(1)\n",
      "memory usage: 555.7+ KB\n"
     ]
    }
   ],
   "source": [
    "# меняем тип данных на category\n",
    "categorial_columns = ['type', \n",
    "            'paperless_billing', \n",
    "            'payment_method', \n",
    "            'gender', 'senior_citizen', \n",
    "            'partner', \n",
    "            'dependents', \n",
    "            'internet_service', \n",
    "            'online_security', \n",
    "            'online_backup', \n",
    "            'device_protection', \n",
    "            'tech_support', \n",
    "            'streaming_tv', \n",
    "            'streaming_movies', \n",
    "            'multiple_lines']\n",
    "df_lgbm[categorial_columns] = df_lgbm[categorial_columns].astype('category')\n",
    "df_lgbm.info()"
   ]
  },
  {
   "cell_type": "code",
   "execution_count": 55,
   "id": "63780948",
   "metadata": {},
   "outputs": [],
   "source": [
    "features_lgbm = df_lgbm.drop(['customer_loss'], axis=1)\n",
    "target_lgbm = df_lgbm['customer_loss']"
   ]
  },
  {
   "cell_type": "markdown",
   "id": "e25a367b",
   "metadata": {},
   "source": [
    "Разделим данные на обучающую и тестовую выборки в соотношении 80:20"
   ]
  },
  {
   "cell_type": "code",
   "execution_count": 56,
   "id": "af63daf8",
   "metadata": {},
   "outputs": [],
   "source": [
    "features_train_lgbm, features_test_lgbm, target_train_lgbm, target_test_lgbm = train_test_split(features_lgbm, \n",
    "                                                                            target_lgbm, \n",
    "                                                                            test_size=0.2, \n",
    "                                                                            random_state=250722)"
   ]
  },
  {
   "cell_type": "markdown",
   "id": "f759a897",
   "metadata": {},
   "source": [
    "Приведём численные признаки к одному масштабу:"
   ]
  },
  {
   "cell_type": "code",
   "execution_count": 57,
   "id": "1bfe5824",
   "metadata": {},
   "outputs": [],
   "source": [
    "numeric = ['monthly_charges', 'duration']\n",
    "\n",
    "scaler = StandardScaler()\n",
    "scaler.fit(features_train_lgbm[numeric])\n",
    "features_train_lgbm[numeric] = scaler.transform(features_train_lgbm[numeric])\n",
    "features_test_lgbm[numeric] = scaler.transform(features_test_lgbm[numeric])"
   ]
  },
  {
   "cell_type": "markdown",
   "id": "76a44e43",
   "metadata": {},
   "source": [
    "Удалим лишние переменные, чтобы освободить память и вычислительные мощности для более быстрого обучения:"
   ]
  },
  {
   "cell_type": "code",
   "execution_count": 58,
   "id": "48ed9eb1",
   "metadata": {},
   "outputs": [],
   "source": [
    "del df_lgbm\n",
    "del features_lgbm\n",
    "del target_lgbm"
   ]
  },
  {
   "cell_type": "code",
   "execution_count": 59,
   "id": "85acf91b",
   "metadata": {
    "scrolled": false
   },
   "outputs": [
    {
     "name": "stdout",
     "output_type": "stream",
     "text": [
      "Fitting 5 folds for each of 90 candidates, totalling 450 fits\n",
      "\n",
      "Лучшие параметры модели LGBMC: {'learning_rate': 0.3, 'max_depth': 10, 'n_estimators': 50, 'num_leaves': 20}\n",
      "\n",
      "ROC_AUC модели LGBMC на тренировочной выборке: 0.9\n",
      "\n",
      "CPU times: total: 1.73 s\n",
      "Wall time: 7.39 s\n"
     ]
    }
   ],
   "source": [
    "%%time\n",
    "# инициализируем модель\n",
    "model = LGBMClassifier(random_state=250722, class_weight = 'balanced')\n",
    "\n",
    "# задаем параметры для модуля GridSearch \n",
    "param_grid = {'num_leaves': range(20, 60, 20),\n",
    "              'max_depth': range(10, 31, 10),\n",
    "              'n_estimators': range(10, 51, 10), \n",
    "              'learning_rate': [0.01, 0.1, 0.3]}\n",
    "  \n",
    "# ищем лучшие параметры \n",
    "lgbm_model = GridSearchCV(estimator = model, param_grid = param_grid, cv= 5, n_jobs = -1, scoring= 'roc_auc', verbose = 10) \n",
    "\n",
    "# обучаем модель на тренировочных данных\n",
    "lgbm_model.fit(features_train_lgbm, target_train_lgbm)\n",
    "\n",
    "# получаем лучшие параметры модели\n",
    "print()\n",
    "print('Лучшие параметры модели LGBMC:', lgbm_model.best_params_)\n",
    "print()\n",
    "\n",
    "# # получаем оценку ROC_AUC\n",
    "print('ROC_AUC модели LGBMC на тренировочной выборке:', lgbm_model.best_score_.round(2))\n",
    "print()"
   ]
  },
  {
   "cell_type": "markdown",
   "id": "57a240e6",
   "metadata": {},
   "source": [
    "# Анализ моделей"
   ]
  },
  {
   "cell_type": "markdown",
   "id": "51eb58f7",
   "metadata": {},
   "source": [
    "Создадим пустые списки:\n",
    "* значение метрики ROC_AUC,\n",
    "* значение метрики accuracy:"
   ]
  },
  {
   "cell_type": "code",
   "execution_count": 60,
   "id": "67a2f89d",
   "metadata": {},
   "outputs": [],
   "source": [
    "roc_auc_test = []\n",
    "accuracy_test = []"
   ]
  },
  {
   "cell_type": "markdown",
   "id": "4dbcaecc",
   "metadata": {},
   "source": [
    "Обучим модели на тестовых выборках, найдем для каждой модели нужные метрики качества:"
   ]
  },
  {
   "cell_type": "markdown",
   "id": "4ca4a6dd",
   "metadata": {},
   "source": [
    "## Модель логистической регрессии\n",
    "Лучшие параметры модели логистической регрессии: {'C': 10, 'max_iter': 100, 'solver': 'liblinear'}"
   ]
  },
  {
   "cell_type": "code",
   "execution_count": 61,
   "id": "07b17b80",
   "metadata": {
    "scrolled": true
   },
   "outputs": [
    {
     "name": "stdout",
     "output_type": "stream",
     "text": [
      "ROC-AUC модели логистической регрессии на тестовой выборке: 0.85\n",
      "\n",
      "Accuracy модели логистической регрессии на тестовой выборке: 0.76\n",
      "\n"
     ]
    }
   ],
   "source": [
    "lr = LogisticRegression(random_state = 250722, class_weight = 'balanced', C = 10, max_iter = 100, solver = 'liblinear')\n",
    "\n",
    "# обучаем модель на тренировочной выборке\n",
    "lr.fit(features_train, target_train) \n",
    "\n",
    "# находим предсказания на тестовой выборке\n",
    "predictions_test = lr.predict(features_test)\n",
    "\n",
    "# находим вероятности класса \"1\"\n",
    "probabilities_test = lr.predict_proba(features_test)\n",
    "probabilities_one_test = probabilities_test[:, 1]\n",
    "\n",
    "# находим метрику auc_roc и accuracy\n",
    "roc_auc_lr = roc_auc_score(target_test, probabilities_one_test)\n",
    "roc_auc_test.append(roc_auc_lr.round(2))\n",
    "accuracy_lr = accuracy_score(target_test, predictions_test)\n",
    "accuracy_test.append(accuracy_lr.round(2))\n",
    "\n",
    "print('ROC-AUC модели логистической регрессии на тестовой выборке:', roc_auc_lr.round(2))\n",
    "print()\n",
    "print('Accuracy модели логистической регрессии на тестовой выборке:', accuracy_lr.round(2))\n",
    "print()"
   ]
  },
  {
   "cell_type": "markdown",
   "id": "386a678b",
   "metadata": {},
   "source": [
    "## Модель решающего дерева\n",
    "Лучшие параметры модели решающего дерева: {'max_depth': 10, 'min_samples_split': 16}"
   ]
  },
  {
   "cell_type": "code",
   "execution_count": 62,
   "id": "bb318539",
   "metadata": {},
   "outputs": [
    {
     "name": "stdout",
     "output_type": "stream",
     "text": [
      "ROC-AUC модели решающего дерева на тестовой выборке: 0.83\n",
      "\n",
      "Accuracy модели решающего дерева на тестовой выборке: 0.76\n",
      "\n"
     ]
    }
   ],
   "source": [
    "dt = DecisionTreeClassifier(random_state=250722, class_weight = 'balanced', max_depth = 10, min_samples_split = 16)\n",
    "\n",
    "# обучаем модель на тренировочной выборке\n",
    "dt.fit(features_train, target_train) \n",
    "\n",
    "# находим предсказания на тестовой выборке\n",
    "predictions_test = dt.predict(features_test)\n",
    "\n",
    "# находим вероятности класса \"1\"\n",
    "probabilities_test = dt.predict_proba(features_test)\n",
    "probabilities_one_test = probabilities_test[:, 1]\n",
    "\n",
    "# находим метрику auc_roc и accuracy\n",
    "roc_auc_dt = roc_auc_score(target_test, probabilities_one_test)\n",
    "roc_auc_test.append(roc_auc_dt.round(2))\n",
    "accuracy_dt = accuracy_score(target_test, predictions_test)\n",
    "accuracy_test.append(accuracy_dt.round(2))\n",
    "\n",
    "print('ROC-AUC модели решающего дерева на тестовой выборке:', roc_auc_dt.round(2))\n",
    "print()\n",
    "print('Accuracy модели решающего дерева на тестовой выборке:', accuracy_dt.round(2))\n",
    "print()"
   ]
  },
  {
   "cell_type": "markdown",
   "id": "a8fe6899",
   "metadata": {},
   "source": [
    "## Модель случайного леса\n",
    "Лучшие параметры модели случайного леса: {'max_depth': 10, 'n_estimators': 100}"
   ]
  },
  {
   "cell_type": "code",
   "execution_count": 63,
   "id": "b6f84f0b",
   "metadata": {
    "scrolled": true
   },
   "outputs": [
    {
     "name": "stdout",
     "output_type": "stream",
     "text": [
      "ROC-AUC модели случайного леса на тестовой выборке: 0.87\n",
      "\n",
      "Accuracy модели случайного леса на тестовой выборке: 0.83\n",
      "\n"
     ]
    }
   ],
   "source": [
    "rf = RandomForestClassifier(random_state=250722, class_weight = None, max_depth = 10, n_estimators = 100)\n",
    "\n",
    "# обучаем модель на тренировочной выборке\n",
    "rf.fit(features_train, target_train) \n",
    "\n",
    "# находим предсказания на тестовой выборке\n",
    "predictions_test = rf.predict(features_test)\n",
    "\n",
    "# находим вероятности класса \"1\"\n",
    "probabilities_test = rf.predict_proba(features_test)\n",
    "probabilities_one_test = probabilities_test[:, 1]\n",
    "\n",
    "# находим метрику auc_roc и accuracy\n",
    "roc_auc_rf = roc_auc_score(target_test, probabilities_one_test)\n",
    "roc_auc_test.append(roc_auc_rf.round(2))\n",
    "accuracy_rf = accuracy_score(target_test, predictions_test)\n",
    "accuracy_test.append(accuracy_rf.round(2))\n",
    "\n",
    "print('ROC-AUC модели случайного леса на тестовой выборке:', roc_auc_rf.round(2))\n",
    "print()\n",
    "print('Accuracy модели случайного леса на тестовой выборке:', accuracy_rf.round(2))\n",
    "print()"
   ]
  },
  {
   "cell_type": "markdown",
   "id": "6324e916",
   "metadata": {},
   "source": [
    "## Модель LGBMClassifier\n",
    "Лучшие параметры модели LGBMC: {'learning_rate': 0.3, 'max_depth': 10, 'n_estimators': 50, 'num_leaves': 20}"
   ]
  },
  {
   "cell_type": "code",
   "execution_count": 64,
   "id": "8e429a24",
   "metadata": {
    "scrolled": true
   },
   "outputs": [
    {
     "name": "stdout",
     "output_type": "stream",
     "text": [
      "ROC-AUC модели LGBMC на тестовой выборке: 0.91\n",
      "\n",
      "Accuracy модели LGBMC на тестовой выборке: 0.84\n",
      "\n"
     ]
    }
   ],
   "source": [
    "model = LGBMClassifier(random_state=250722, \n",
    "                       class_weight = 'balanced', \n",
    "                       learning_rate = 0.3, \n",
    "                       max_depth = 10, \n",
    "                       n_estimators = 50, \n",
    "                       num_leaves = 20)\n",
    "\n",
    "# обучаем модель на тренировочной выборке\n",
    "model.fit(features_train_lgbm, target_train_lgbm) \n",
    "\n",
    "# находим предсказания на тестовой выборке\n",
    "predictions_test = model.predict(features_test_lgbm)\n",
    "\n",
    "probabilities_test = model.predict_proba(features_test_lgbm)\n",
    "probabilities_one_test = probabilities_test[:, 1]\n",
    "\n",
    "roc_auc_lgbm = roc_auc_score(target_test_lgbm, probabilities_one_test)\n",
    "roc_auc_test.append(roc_auc_lgbm.round(2))\n",
    "accuracy_lgbm = accuracy_score(target_test_lgbm, predictions_test)\n",
    "accuracy_test.append(accuracy_lgbm.round(2))\n",
    "\n",
    "fpr_forest_test, tpr_forest_test, thresholds = roc_curve(target_test_lgbm, probabilities_one_test)\n",
    "\n",
    "print('ROC-AUC модели LGBMC на тестовой выборке:', roc_auc_lgbm.round(2))\n",
    "print()\n",
    "print('Accuracy модели LGBMC на тестовой выборке:', accuracy_lgbm.round(2))\n",
    "print()"
   ]
  },
  {
   "cell_type": "markdown",
   "id": "33093381",
   "metadata": {},
   "source": [
    "Построим график ROC-кривой для модели LGBM:"
   ]
  },
  {
   "cell_type": "code",
   "execution_count": 65,
   "id": "2f464b5e",
   "metadata": {},
   "outputs": [
    {
     "data": {
      "image/png": "[encoded data removed]",
      "text/plain": [
       "<Figure size 864x504 with 1 Axes>"
      ]
     },
     "metadata": {
      "needs_background": "light"
     },
     "output_type": "display_data"
    }
   ],
   "source": [
    "plt.figure(figsize=[12,7])\n",
    "plt.plot(fpr_forest_test, tpr_forest_test, label = 'Модель LGBM')\n",
    "plt.plot([0, 1], [0, 1], linestyle='--', label = 'Случайная модель')\n",
    "\n",
    "plt.xlabel('False Positive Rate', fontsize = 12)\n",
    "plt.ylabel('True Positive Rate', fontsize = 12)\n",
    "\n",
    "plt.ylim([0.0, 1.0])\n",
    "plt.xlim([0.0, 1.0])\n",
    "\n",
    "plt.title('ROC-кривая модели LGBM на тестовой выборке')\n",
    "plt.legend()\n",
    "\n",
    "plt.show()"
   ]
  },
  {
   "cell_type": "markdown",
   "id": "a9f0a176",
   "metadata": {},
   "source": [
    "Для наглядного сравнения добавим полученные данные в таблицу и сохраним ее в переменную `df_models`."
   ]
  },
  {
   "cell_type": "code",
   "execution_count": 66,
   "id": "8726dfe0",
   "metadata": {
    "scrolled": false
   },
   "outputs": [
    {
     "data": {
      "text/html": [
       "<div>\n",
       "<style scoped>\n",
       "    .dataframe tbody tr th:only-of-type {\n",
       "        vertical-align: middle;\n",
       "    }\n",
       "\n",
       "    .dataframe tbody tr th {\n",
       "        vertical-align: top;\n",
       "    }\n",
       "\n",
       "    .dataframe thead th {\n",
       "        text-align: right;\n",
       "    }\n",
       "</style>\n",
       "<table border=\"1\" class=\"dataframe\">\n",
       "  <thead>\n",
       "    <tr style=\"text-align: right;\">\n",
       "      <th></th>\n",
       "      <th>Значение метрики ROC-AUC</th>\n",
       "      <th>Значение метрики accuracy</th>\n",
       "    </tr>\n",
       "  </thead>\n",
       "  <tbody>\n",
       "    <tr>\n",
       "      <th>Логистическая регрессия</th>\n",
       "      <td>0.85</td>\n",
       "      <td>0.76</td>\n",
       "    </tr>\n",
       "    <tr>\n",
       "      <th>Дерево решений</th>\n",
       "      <td>0.83</td>\n",
       "      <td>0.76</td>\n",
       "    </tr>\n",
       "    <tr>\n",
       "      <th>Случайный лес</th>\n",
       "      <td>0.87</td>\n",
       "      <td>0.83</td>\n",
       "    </tr>\n",
       "    <tr>\n",
       "      <th>LightGBMC</th>\n",
       "      <td>0.91</td>\n",
       "      <td>0.84</td>\n",
       "    </tr>\n",
       "  </tbody>\n",
       "</table>\n",
       "</div>"
      ],
      "text/plain": [
       "                         Значение метрики ROC-AUC  Значение метрики accuracy\n",
       "Логистическая регрессия                      0.85                       0.76\n",
       "Дерево решений                               0.83                       0.76\n",
       "Случайный лес                                0.87                       0.83\n",
       "LightGBMC                                    0.91                       0.84"
      ]
     },
     "execution_count": 66,
     "metadata": {},
     "output_type": "execute_result"
    }
   ],
   "source": [
    "df_models = pd.DataFrame([roc_auc_test, accuracy_test],\n",
    "             index=['Значение метрики ROC-AUC', 'Значение метрики accuracy'],\n",
    "             columns=['Логистическая регрессия', 'Дерево решений', 'Случайный лес', 'LightGBMC'])\n",
    "df_models.T"
   ]
  },
  {
   "cell_type": "markdown",
   "id": "9a37da3a",
   "metadata": {},
   "source": [
    "Посмотрим какие признаки оказывают наибольшее влияние на отток клиентов:"
   ]
  },
  {
   "cell_type": "code",
   "execution_count": 67,
   "id": "c1683d44",
   "metadata": {
    "scrolled": false
   },
   "outputs": [
    {
     "data": {
      "image/png": "[encoded data removed]",
      "text/plain": [
       "<Figure size 864x432 with 1 Axes>"
      ]
     },
     "metadata": {
      "needs_background": "light"
     },
     "output_type": "display_data"
    }
   ],
   "source": [
    "feature_imp = pd.DataFrame(sorted(zip(model.feature_importances_,features_train_lgbm.columns)), columns=['Важность','Признак'])\n",
    "\n",
    "plt.figure(figsize=(12, 6))\n",
    "sbn.barplot(x=\"Признак\", y=\"Важность\", data=feature_imp.sort_values(by=\"Важность\", ascending=False))\n",
    "plt.title('Важность факторов для модели LGBM')\n",
    "plt.xticks(rotation=45, fontsize=10) \n",
    "plt.show()"
   ]
  },
  {
   "cell_type": "markdown",
   "id": "5ad38796",
   "metadata": {},
   "source": [
    "На графике видим, что наибольшее влияние на отток пользователей оказывают два признака:\n",
    "* продолжительность пользования услугами компании\n",
    "* сумма ежемесячных платежей"
   ]
  },
  {
   "cell_type": "markdown",
   "id": "bc2acb51",
   "metadata": {},
   "source": [
    "## Вывод\n",
    "\n",
    "Мы провели тестроивание моделей, самые точные предсказания получили у модели LightGBM с гиперпараметрами:\n",
    "* `learning_rate = 0.3`,\n",
    "* `max_depth = 10,`\n",
    "* `n_estimators = 50`,\n",
    "* `num_leaves = 20`.  \n",
    "\n",
    "При этом все модели удовлетворяют минимальным требованиям задачи ROC_AUC >= 0.75."
   ]
  },
  {
   "cell_type": "markdown",
   "id": "817a370d",
   "metadata": {},
   "source": [
    "# Общий вывод"
   ]
  },
  {
   "cell_type": "markdown",
   "id": "ccf409d0",
   "metadata": {},
   "source": [
    "Объект нашего исследования - данные оператора связи «Ниединогоразрыва.ком»: \n",
    "1. информация о договорах,  \n",
    "2. персональные данные клиентов,\n",
    "3. информация об интернет-услугах,\n",
    "4. информация об услугах телефонии.\n",
    "\n",
    "В ходе предобработки мы подготовили данные к моделированию:\n",
    "- исправили заголовки, чтобы упростить работу с таблицами,\n",
    "- объединили данные, полученные из разных источников в одну таблицу,\n",
    "- изменили типы данных,\n",
    "- заполнили пропущенные значения.\n",
    "\n",
    "Для решения поставленной задачи мы создали копию исходного датасета, закодировали категориальные признаки, разделили данные на две выборки:\n",
    "1. обучающую (80%),\n",
    "2. тестовую (20%).\n",
    "\n",
    "Обучили и проверили модели логистической регрессии, решающего дерева и случайного леса.\n",
    "\n",
    "Для обучения модели градиентного бустинга LightGBM мы создали копию исходного датасета, изменили тип данных в столбцах с категориальными признаками, разделили разделили данные на две выборки:\n",
    "1. обучающую (80%),\n",
    "2. тестовую (20%).\n",
    "\n",
    "По результатам обучения мы проверили все модели на тестовых выборках. Самые точные предсказания получили с помощью модели LightGBM, для которой значение метрики ROC_AUC на тестовой выборке = 0,91. \n",
    "\n",
    "Подведём итог нашей работы - рекомендация для оператора связи «Ниединогоразрыва.ком»:\n",
    "1. обратить внимание на пользователей, которые перестают пользоваться услугами менее чем через 100 дней после заключения договора, возможно причина в условиях рекламных кампаний для привлечения новых пользователей;\n",
    "\n",
    "2. проанализировать события в ноябре 2019 года, когда наблюдается пик ухода пользователей, выяснить возможные причины;\n",
    "\n",
    "3. для прогнозирования оттока клиентов и удержания их с помощью промокодов и специальных условий, использовать модель градиентного бустинга LightGBM с характеристиками:\n",
    "    * learning_rate = 0.3\n",
    "    * max_depth = 10\n",
    "    * n_estimators = 50\n",
    "    * num_leaves = 20. "
   ]
  },
  {
   "cell_type": "markdown",
   "id": "b1cb5561",
   "metadata": {},
   "source": [
    "# Отчёт по проекту \"Прогнозирование оттока клиентов\" для оператора связи «Ниединогоразрыва.ком» "
   ]
  },
  {
   "cell_type": "markdown",
   "id": "30adaf9d",
   "metadata": {},
   "source": [
    "В ходе работы мы чётко следовали намеченному плану, выполнили каждый пункт:\n",
    "1. Изучили и предобработали данные, провели исследовательский анализ данных\n",
    "2. Отобрали и подготовили признаки\n",
    "3. Разделили данные на выборки, подобрали гиперпараметры моделей, обучили модели\n",
    "4. Проанализировали результаты работы моделей\n",
    "5. Сделали вывод\n",
    "\n",
    "Важно отметить, что без трудностей не обошлось. Исследовательский анализ данных и отбор признаков - самые важные и трудные пункты плана. Для решения этих задач мы использовали различные инструменты:\n",
    "* средствами библиотеки `matplotlib.pyplot` мы строили наглядные графики для визуализации данных об ушедших клиентах\n",
    "* проверили данные на мультиколлинеарность признаков и удалили признак, сильно коррелирующий с другим признаком\n",
    "* категориальные признаки кодировали методом One-Hot Encoding.\n",
    "\n",
    "Стоит сделать акцент на ключевых шагах в решении задачи:\n",
    "- четкое следование плану\n",
    "- внимательное изучение данных\n",
    "- подготовка данных к обучению моделей\n",
    "- подбор гиперпараметров моделей при обучении\n",
    "- обучение и анализ разных моделей.\n",
    "\n",
    "В результате проведенной работы мы получили итоговую модель для прогнозирования оттока клиентов оператора связи \"Ниединогоразрыва.ком\". Лучший результат для модели градиентного бустинга LGBM на тестовой выборке - значение метрики ROC-AUC 0.91 и значение метрики accuracy 0.84."
   ]
  }
 ],
 "metadata": {
  "ExecuteTimeLog": [
   {
    "duration": 2799,
    "start_time": "2022-07-30T08:14:19.040Z"
   },
   {
    "duration": 329,
    "start_time": "2022-07-30T08:14:21.840Z"
   },
   {
    "duration": 18,
    "start_time": "2022-07-30T08:14:22.171Z"
   },
   {
    "duration": 23,
    "start_time": "2022-07-30T08:14:22.190Z"
   },
   {
    "duration": 13,
    "start_time": "2022-07-30T08:14:22.214Z"
   },
   {
    "duration": 10,
    "start_time": "2022-07-30T08:14:22.229Z"
   },
   {
    "duration": 12,
    "start_time": "2022-07-30T08:14:22.240Z"
   },
   {
    "duration": 11,
    "start_time": "2022-07-30T08:14:22.253Z"
   },
   {
    "duration": 11,
    "start_time": "2022-07-30T08:14:22.265Z"
   },
   {
    "duration": 11,
    "start_time": "2022-07-30T08:14:22.307Z"
   },
   {
    "duration": 34,
    "start_time": "2022-07-30T08:14:22.524Z"
   },
   {
    "duration": 8,
    "start_time": "2022-07-30T08:14:22.874Z"
   },
   {
    "duration": 9,
    "start_time": "2022-07-30T08:14:23.050Z"
   },
   {
    "duration": 10,
    "start_time": "2022-07-30T08:14:23.201Z"
   },
   {
    "duration": 12,
    "start_time": "2022-07-30T08:14:24.525Z"
   },
   {
    "duration": 11,
    "start_time": "2022-07-30T08:14:24.804Z"
   },
   {
    "duration": 8,
    "start_time": "2022-07-30T08:14:25.143Z"
   },
   {
    "duration": 8,
    "start_time": "2022-07-30T08:14:25.334Z"
   },
   {
    "duration": 39,
    "start_time": "2022-07-30T08:14:25.705Z"
   },
   {
    "duration": 16,
    "start_time": "2022-07-30T08:14:25.904Z"
   },
   {
    "duration": 6,
    "start_time": "2022-07-30T08:14:26.274Z"
   },
   {
    "duration": 7,
    "start_time": "2022-07-30T08:14:26.684Z"
   },
   {
    "duration": 26,
    "start_time": "2022-07-30T08:14:27.037Z"
   },
   {
    "duration": 15,
    "start_time": "2022-07-30T08:14:27.540Z"
   },
   {
    "duration": 15,
    "start_time": "2022-07-30T08:14:27.899Z"
   },
   {
    "duration": 10,
    "start_time": "2022-07-30T08:14:28.251Z"
   },
   {
    "duration": 20,
    "start_time": "2022-07-30T08:14:28.571Z"
   },
   {
    "duration": 29,
    "start_time": "2022-07-30T08:14:28.859Z"
   },
   {
    "duration": 18,
    "start_time": "2022-07-30T08:14:29.237Z"
   },
   {
    "duration": 6,
    "start_time": "2022-07-30T08:14:29.700Z"
   },
   {
    "duration": 266,
    "start_time": "2022-07-30T08:14:30.852Z"
   },
   {
    "duration": 182,
    "start_time": "2022-07-30T08:14:31.822Z"
   },
   {
    "duration": 328,
    "start_time": "2022-07-30T08:14:32.547Z"
   },
   {
    "duration": 9,
    "start_time": "2022-07-30T08:14:32.877Z"
   },
   {
    "duration": 215,
    "start_time": "2022-07-30T08:14:33.064Z"
   },
   {
    "duration": 8,
    "start_time": "2022-07-30T08:14:33.280Z"
   },
   {
    "duration": 265,
    "start_time": "2022-07-30T08:14:33.396Z"
   },
   {
    "duration": 7,
    "start_time": "2022-07-30T08:14:33.663Z"
   },
   {
    "duration": 17,
    "start_time": "2022-07-30T08:14:34.032Z"
   },
   {
    "duration": 3,
    "start_time": "2022-07-30T08:14:34.799Z"
   },
   {
    "duration": 10,
    "start_time": "2022-07-30T08:14:35.108Z"
   },
   {
    "duration": 376,
    "start_time": "2022-07-30T08:14:35.196Z"
   },
   {
    "duration": 5,
    "start_time": "2022-07-30T08:14:35.740Z"
   },
   {
    "duration": 3,
    "start_time": "2022-07-30T08:14:36.880Z"
   },
   {
    "duration": 4,
    "start_time": "2022-07-30T08:14:37.044Z"
   },
   {
    "duration": 74,
    "start_time": "2022-07-30T08:14:37.059Z"
   },
   {
    "duration": 5,
    "start_time": "2022-07-30T08:40:27.262Z"
   },
   {
    "duration": 7,
    "start_time": "2022-07-30T08:40:28.056Z"
   },
   {
    "duration": 15,
    "start_time": "2022-07-30T08:40:29.346Z"
   },
   {
    "duration": 3,
    "start_time": "2022-07-30T08:40:30.290Z"
   },
   {
    "duration": 7350,
    "start_time": "2022-07-30T08:40:31.590Z"
   },
   {
    "duration": 4,
    "start_time": "2022-07-30T08:40:58.276Z"
   },
   {
    "duration": 266,
    "start_time": "2022-07-30T08:41:52.803Z"
   },
   {
    "duration": 1038,
    "start_time": "2022-07-30T08:41:57.139Z"
   },
   {
    "duration": 5,
    "start_time": "2022-07-30T08:42:08.897Z"
   },
   {
    "duration": 99,
    "start_time": "2022-07-30T08:54:34.829Z"
   },
   {
    "duration": 1648,
    "start_time": "2022-07-30T08:54:40.967Z"
   },
   {
    "duration": 391,
    "start_time": "2022-07-30T08:54:42.618Z"
   },
   {
    "duration": 19,
    "start_time": "2022-07-30T08:54:43.010Z"
   },
   {
    "duration": 13,
    "start_time": "2022-07-30T08:54:43.031Z"
   },
   {
    "duration": 25,
    "start_time": "2022-07-30T08:54:43.045Z"
   },
   {
    "duration": 11,
    "start_time": "2022-07-30T08:54:43.072Z"
   },
   {
    "duration": 11,
    "start_time": "2022-07-30T08:54:43.098Z"
   },
   {
    "duration": 12,
    "start_time": "2022-07-30T08:54:43.110Z"
   },
   {
    "duration": 13,
    "start_time": "2022-07-30T08:54:43.124Z"
   },
   {
    "duration": 12,
    "start_time": "2022-07-30T08:54:43.139Z"
   },
   {
    "duration": 60,
    "start_time": "2022-07-30T08:54:43.153Z"
   },
   {
    "duration": 9,
    "start_time": "2022-07-30T08:54:43.214Z"
   },
   {
    "duration": 10,
    "start_time": "2022-07-30T08:54:43.225Z"
   },
   {
    "duration": 12,
    "start_time": "2022-07-30T08:54:43.237Z"
   },
   {
    "duration": 15,
    "start_time": "2022-07-30T08:54:43.251Z"
   },
   {
    "duration": 13,
    "start_time": "2022-07-30T08:54:43.298Z"
   },
   {
    "duration": 12,
    "start_time": "2022-07-30T08:54:43.312Z"
   },
   {
    "duration": 10,
    "start_time": "2022-07-30T08:54:43.325Z"
   },
   {
    "duration": 66,
    "start_time": "2022-07-30T08:54:43.337Z"
   },
   {
    "duration": 16,
    "start_time": "2022-07-30T08:54:43.404Z"
   },
   {
    "duration": 6,
    "start_time": "2022-07-30T08:54:43.422Z"
   },
   {
    "duration": 8,
    "start_time": "2022-07-30T08:54:43.429Z"
   },
   {
    "duration": 28,
    "start_time": "2022-07-30T08:54:43.439Z"
   },
   {
    "duration": 43,
    "start_time": "2022-07-30T08:54:43.469Z"
   },
   {
    "duration": 15,
    "start_time": "2022-07-30T08:54:43.514Z"
   },
   {
    "duration": 12,
    "start_time": "2022-07-30T08:54:43.531Z"
   },
   {
    "duration": 55,
    "start_time": "2022-07-30T08:54:43.545Z"
   },
   {
    "duration": 28,
    "start_time": "2022-07-30T08:54:43.604Z"
   },
   {
    "duration": 20,
    "start_time": "2022-07-30T08:54:43.634Z"
   },
   {
    "duration": 6,
    "start_time": "2022-07-30T08:54:43.656Z"
   },
   {
    "duration": 338,
    "start_time": "2022-07-30T08:54:43.664Z"
   },
   {
    "duration": 255,
    "start_time": "2022-07-30T08:54:44.004Z"
   },
   {
    "duration": 309,
    "start_time": "2022-07-30T08:54:44.260Z"
   },
   {
    "duration": 10,
    "start_time": "2022-07-30T08:54:44.571Z"
   },
   {
    "duration": 257,
    "start_time": "2022-07-30T08:54:44.584Z"
   },
   {
    "duration": 8,
    "start_time": "2022-07-30T08:54:44.843Z"
   },
   {
    "duration": 273,
    "start_time": "2022-07-30T08:54:44.853Z"
   },
   {
    "duration": 7,
    "start_time": "2022-07-30T08:54:45.128Z"
   },
   {
    "duration": 18,
    "start_time": "2022-07-30T08:54:45.137Z"
   },
   {
    "duration": 2,
    "start_time": "2022-07-30T08:54:45.157Z"
   },
   {
    "duration": 16,
    "start_time": "2022-07-30T08:54:45.161Z"
   },
   {
    "duration": 350,
    "start_time": "2022-07-30T08:54:45.179Z"
   },
   {
    "duration": 5,
    "start_time": "2022-07-30T08:54:45.531Z"
   },
   {
    "duration": 4,
    "start_time": "2022-07-30T08:54:45.538Z"
   },
   {
    "duration": 8,
    "start_time": "2022-07-30T08:54:45.544Z"
   },
   {
    "duration": 87,
    "start_time": "2022-07-30T08:54:45.554Z"
   },
   {
    "duration": 6,
    "start_time": "2022-07-30T08:54:45.643Z"
   },
   {
    "duration": 11,
    "start_time": "2022-07-30T08:54:45.650Z"
   },
   {
    "duration": 24,
    "start_time": "2022-07-30T08:54:45.663Z"
   },
   {
    "duration": 3,
    "start_time": "2022-07-30T08:54:45.699Z"
   },
   {
    "duration": 7004,
    "start_time": "2022-07-30T08:54:45.703Z"
   },
   {
    "duration": 2300,
    "start_time": "2022-07-30T08:54:52.799Z"
   },
   {
    "duration": 16368,
    "start_time": "2022-07-30T08:54:55.101Z"
   },
   {
    "duration": 4,
    "start_time": "2022-07-30T08:55:11.470Z"
   },
   {
    "duration": 64,
    "start_time": "2022-07-30T08:55:11.475Z"
   },
   {
    "duration": 3,
    "start_time": "2022-07-30T08:55:11.541Z"
   },
   {
    "duration": 12,
    "start_time": "2022-07-30T08:55:11.546Z"
   },
   {
    "duration": 16,
    "start_time": "2022-07-30T08:55:11.560Z"
   },
   {
    "duration": 3,
    "start_time": "2022-07-30T08:55:11.598Z"
   },
   {
    "duration": 525603,
    "start_time": "2022-07-30T08:55:11.602Z"
   },
   {
    "duration": 3,
    "start_time": "2022-07-30T09:03:57.207Z"
   },
   {
    "duration": 117,
    "start_time": "2022-07-30T09:03:57.211Z"
   },
   {
    "duration": 120,
    "start_time": "2022-07-30T09:03:57.399Z"
   },
   {
    "duration": 497,
    "start_time": "2022-07-30T09:03:57.521Z"
   },
   {
    "duration": 584,
    "start_time": "2022-07-30T09:03:58.019Z"
   },
   {
    "duration": 9,
    "start_time": "2022-07-30T09:03:58.605Z"
   },
   {
    "duration": 49,
    "start_time": "2022-07-30T19:07:45.514Z"
   },
   {
    "duration": 2,
    "start_time": "2022-07-30T19:08:11.686Z"
   },
   {
    "duration": 1515,
    "start_time": "2022-07-30T19:10:33.482Z"
   },
   {
    "duration": 318,
    "start_time": "2022-07-30T19:10:34.999Z"
   },
   {
    "duration": 19,
    "start_time": "2022-07-30T19:10:35.319Z"
   },
   {
    "duration": 13,
    "start_time": "2022-07-30T19:10:35.340Z"
   },
   {
    "duration": 14,
    "start_time": "2022-07-30T19:10:35.354Z"
   },
   {
    "duration": 11,
    "start_time": "2022-07-30T19:10:35.369Z"
   },
   {
    "duration": 12,
    "start_time": "2022-07-30T19:10:35.382Z"
   },
   {
    "duration": 12,
    "start_time": "2022-07-30T19:10:35.395Z"
   },
   {
    "duration": 35,
    "start_time": "2022-07-30T19:10:35.409Z"
   },
   {
    "duration": 17,
    "start_time": "2022-07-30T19:10:35.447Z"
   },
   {
    "duration": 27,
    "start_time": "2022-07-30T19:10:35.466Z"
   },
   {
    "duration": 7,
    "start_time": "2022-07-30T19:10:35.494Z"
   },
   {
    "duration": 37,
    "start_time": "2022-07-30T19:10:35.502Z"
   },
   {
    "duration": 11,
    "start_time": "2022-07-30T19:10:35.541Z"
   },
   {
    "duration": 14,
    "start_time": "2022-07-30T19:10:35.554Z"
   },
   {
    "duration": 13,
    "start_time": "2022-07-30T19:10:35.570Z"
   },
   {
    "duration": 8,
    "start_time": "2022-07-30T19:10:35.584Z"
   },
   {
    "duration": 9,
    "start_time": "2022-07-30T19:10:35.594Z"
   },
   {
    "duration": 72,
    "start_time": "2022-07-30T19:10:35.604Z"
   },
   {
    "duration": 16,
    "start_time": "2022-07-30T19:10:35.677Z"
   },
   {
    "duration": 9,
    "start_time": "2022-07-30T19:10:35.695Z"
   },
   {
    "duration": 8,
    "start_time": "2022-07-30T19:10:35.705Z"
   },
   {
    "duration": 43,
    "start_time": "2022-07-30T19:10:35.714Z"
   },
   {
    "duration": 15,
    "start_time": "2022-07-30T19:10:35.759Z"
   },
   {
    "duration": 12,
    "start_time": "2022-07-30T19:10:35.776Z"
   },
   {
    "duration": 8,
    "start_time": "2022-07-30T19:10:35.790Z"
   },
   {
    "duration": 48,
    "start_time": "2022-07-30T19:10:35.800Z"
   },
   {
    "duration": 22,
    "start_time": "2022-07-30T19:10:35.851Z"
   },
   {
    "duration": 17,
    "start_time": "2022-07-30T19:10:35.875Z"
   },
   {
    "duration": 5,
    "start_time": "2022-07-30T19:10:35.894Z"
   },
   {
    "duration": 365,
    "start_time": "2022-07-30T19:10:35.900Z"
   },
   {
    "duration": 178,
    "start_time": "2022-07-30T19:10:36.267Z"
   },
   {
    "duration": 241,
    "start_time": "2022-07-30T19:10:36.447Z"
   },
   {
    "duration": 7,
    "start_time": "2022-07-30T19:10:36.690Z"
   },
   {
    "duration": 230,
    "start_time": "2022-07-30T19:10:36.699Z"
   },
   {
    "duration": 11,
    "start_time": "2022-07-30T19:10:36.931Z"
   },
   {
    "duration": 273,
    "start_time": "2022-07-30T19:10:36.943Z"
   },
   {
    "duration": 8,
    "start_time": "2022-07-30T19:10:37.218Z"
   },
   {
    "duration": 16,
    "start_time": "2022-07-30T19:10:37.236Z"
   },
   {
    "duration": 2,
    "start_time": "2022-07-30T19:10:37.254Z"
   },
   {
    "duration": 12,
    "start_time": "2022-07-30T19:10:37.258Z"
   },
   {
    "duration": 335,
    "start_time": "2022-07-30T19:10:37.272Z"
   },
   {
    "duration": 5,
    "start_time": "2022-07-30T19:10:37.608Z"
   },
   {
    "duration": 6,
    "start_time": "2022-07-30T19:10:37.614Z"
   },
   {
    "duration": 51,
    "start_time": "2022-07-30T19:10:37.621Z"
   },
   {
    "duration": 4,
    "start_time": "2022-07-30T19:11:21.584Z"
   },
   {
    "duration": 7,
    "start_time": "2022-07-30T19:11:24.489Z"
   },
   {
    "duration": 15,
    "start_time": "2022-07-30T19:11:26.848Z"
   },
   {
    "duration": 3,
    "start_time": "2022-07-30T19:11:45.543Z"
   },
   {
    "duration": 7602,
    "start_time": "2022-07-30T19:12:09.637Z"
   },
   {
    "duration": 52,
    "start_time": "2022-07-31T09:44:37.305Z"
   },
   {
    "duration": 1793,
    "start_time": "2022-07-31T09:44:45.138Z"
   },
   {
    "duration": 388,
    "start_time": "2022-07-31T09:44:46.933Z"
   },
   {
    "duration": 28,
    "start_time": "2022-07-31T09:44:47.323Z"
   },
   {
    "duration": 16,
    "start_time": "2022-07-31T09:44:47.354Z"
   },
   {
    "duration": 14,
    "start_time": "2022-07-31T09:44:47.373Z"
   },
   {
    "duration": 14,
    "start_time": "2022-07-31T09:44:47.403Z"
   },
   {
    "duration": 15,
    "start_time": "2022-07-31T09:44:47.419Z"
   },
   {
    "duration": 16,
    "start_time": "2022-07-31T09:44:47.436Z"
   },
   {
    "duration": 17,
    "start_time": "2022-07-31T09:44:47.454Z"
   },
   {
    "duration": 32,
    "start_time": "2022-07-31T09:44:47.474Z"
   },
   {
    "duration": 32,
    "start_time": "2022-07-31T09:44:47.509Z"
   },
   {
    "duration": 10,
    "start_time": "2022-07-31T09:44:47.543Z"
   },
   {
    "duration": 17,
    "start_time": "2022-07-31T09:44:47.555Z"
   },
   {
    "duration": 31,
    "start_time": "2022-07-31T09:44:47.574Z"
   },
   {
    "duration": 14,
    "start_time": "2022-07-31T09:44:47.607Z"
   },
   {
    "duration": 16,
    "start_time": "2022-07-31T09:44:47.622Z"
   },
   {
    "duration": 17,
    "start_time": "2022-07-31T09:44:47.640Z"
   },
   {
    "duration": 13,
    "start_time": "2022-07-31T09:44:47.659Z"
   },
   {
    "duration": 81,
    "start_time": "2022-07-31T09:44:47.674Z"
   },
   {
    "duration": 17,
    "start_time": "2022-07-31T09:44:47.757Z"
   },
   {
    "duration": 6,
    "start_time": "2022-07-31T09:44:47.775Z"
   },
   {
    "duration": 28,
    "start_time": "2022-07-31T09:44:47.783Z"
   },
   {
    "duration": 33,
    "start_time": "2022-07-31T09:44:47.813Z"
   },
   {
    "duration": 18,
    "start_time": "2022-07-31T09:44:47.848Z"
   },
   {
    "duration": 49,
    "start_time": "2022-07-31T09:44:47.868Z"
   },
   {
    "duration": 67,
    "start_time": "2022-07-31T09:44:47.919Z"
   },
   {
    "duration": 44,
    "start_time": "2022-07-31T09:44:47.988Z"
   },
   {
    "duration": 26,
    "start_time": "2022-07-31T09:44:48.037Z"
   },
   {
    "duration": 31,
    "start_time": "2022-07-31T09:44:48.064Z"
   },
   {
    "duration": 11,
    "start_time": "2022-07-31T09:44:48.097Z"
   },
   {
    "duration": 325,
    "start_time": "2022-07-31T09:44:48.109Z"
   },
   {
    "duration": 299,
    "start_time": "2022-07-31T09:45:40.942Z"
   },
   {
    "duration": 275,
    "start_time": "2022-07-31T09:48:48.840Z"
   },
   {
    "duration": 8,
    "start_time": "2022-07-31T09:48:51.337Z"
   },
   {
    "duration": 236,
    "start_time": "2022-07-31T09:48:52.946Z"
   },
   {
    "duration": 10,
    "start_time": "2022-07-31T09:48:54.920Z"
   },
   {
    "duration": 315,
    "start_time": "2022-07-31T09:48:59.463Z"
   },
   {
    "duration": 11,
    "start_time": "2022-07-31T09:49:01.738Z"
   },
   {
    "duration": 19,
    "start_time": "2022-07-31T09:49:03.895Z"
   },
   {
    "duration": 3,
    "start_time": "2022-07-31T09:49:06.784Z"
   },
   {
    "duration": 10,
    "start_time": "2022-07-31T09:49:09.319Z"
   },
   {
    "duration": 371,
    "start_time": "2022-07-31T09:49:10.538Z"
   },
   {
    "duration": 172,
    "start_time": "2022-07-31T11:03:15.933Z"
   },
   {
    "duration": 5,
    "start_time": "2022-07-31T11:03:43.374Z"
   },
   {
    "duration": 144,
    "start_time": "2022-07-31T11:03:43.382Z"
   },
   {
    "duration": 15,
    "start_time": "2022-07-31T11:03:43.528Z"
   },
   {
    "duration": 22,
    "start_time": "2022-07-31T11:03:43.546Z"
   },
   {
    "duration": 12,
    "start_time": "2022-07-31T11:03:43.570Z"
   },
   {
    "duration": 20,
    "start_time": "2022-07-31T11:03:43.584Z"
   },
   {
    "duration": 12,
    "start_time": "2022-07-31T11:03:43.605Z"
   },
   {
    "duration": 17,
    "start_time": "2022-07-31T11:03:43.618Z"
   },
   {
    "duration": 17,
    "start_time": "2022-07-31T11:03:43.638Z"
   },
   {
    "duration": 18,
    "start_time": "2022-07-31T11:03:43.658Z"
   },
   {
    "duration": 25,
    "start_time": "2022-07-31T11:03:43.705Z"
   },
   {
    "duration": 20,
    "start_time": "2022-07-31T11:03:43.732Z"
   },
   {
    "duration": 12,
    "start_time": "2022-07-31T11:03:43.754Z"
   },
   {
    "duration": 15,
    "start_time": "2022-07-31T11:03:43.767Z"
   },
   {
    "duration": 33,
    "start_time": "2022-07-31T11:03:43.784Z"
   },
   {
    "duration": 13,
    "start_time": "2022-07-31T11:03:43.819Z"
   },
   {
    "duration": 17,
    "start_time": "2022-07-31T11:03:43.834Z"
   },
   {
    "duration": 12,
    "start_time": "2022-07-31T11:03:43.853Z"
   },
   {
    "duration": 67,
    "start_time": "2022-07-31T11:03:43.867Z"
   },
   {
    "duration": 16,
    "start_time": "2022-07-31T11:03:43.936Z"
   },
   {
    "duration": 5,
    "start_time": "2022-07-31T11:03:43.954Z"
   },
   {
    "duration": 12,
    "start_time": "2022-07-31T11:03:43.961Z"
   },
   {
    "duration": 48,
    "start_time": "2022-07-31T11:03:43.974Z"
   },
   {
    "duration": 17,
    "start_time": "2022-07-31T11:03:44.026Z"
   },
   {
    "duration": 14,
    "start_time": "2022-07-31T11:03:44.045Z"
   },
   {
    "duration": 9,
    "start_time": "2022-07-31T11:03:44.061Z"
   },
   {
    "duration": 55,
    "start_time": "2022-07-31T11:03:44.072Z"
   },
   {
    "duration": 32,
    "start_time": "2022-07-31T11:03:44.129Z"
   },
   {
    "duration": 48,
    "start_time": "2022-07-31T11:03:44.163Z"
   },
   {
    "duration": 8,
    "start_time": "2022-07-31T11:03:44.213Z"
   },
   {
    "duration": 269,
    "start_time": "2022-07-31T11:03:44.223Z"
   },
   {
    "duration": 213,
    "start_time": "2022-07-31T11:03:44.494Z"
   },
   {
    "duration": 360,
    "start_time": "2022-07-31T11:03:44.709Z"
   },
   {
    "duration": 8,
    "start_time": "2022-07-31T11:03:45.071Z"
   },
   {
    "duration": 241,
    "start_time": "2022-07-31T11:03:45.081Z"
   },
   {
    "duration": 11,
    "start_time": "2022-07-31T11:03:45.324Z"
   },
   {
    "duration": 320,
    "start_time": "2022-07-31T11:03:45.338Z"
   },
   {
    "duration": 11,
    "start_time": "2022-07-31T11:03:45.660Z"
   },
   {
    "duration": 38,
    "start_time": "2022-07-31T11:03:45.674Z"
   },
   {
    "duration": 2,
    "start_time": "2022-07-31T11:03:45.715Z"
   },
   {
    "duration": 20,
    "start_time": "2022-07-31T11:03:45.719Z"
   },
   {
    "duration": 334,
    "start_time": "2022-07-31T11:03:45.741Z"
   },
   {
    "duration": 5,
    "start_time": "2022-07-31T11:03:46.077Z"
   },
   {
    "duration": 6,
    "start_time": "2022-07-31T11:03:46.083Z"
   },
   {
    "duration": 49,
    "start_time": "2022-07-31T11:03:46.091Z"
   },
   {
    "duration": 6,
    "start_time": "2022-07-31T11:03:46.142Z"
   },
   {
    "duration": 9,
    "start_time": "2022-07-31T11:03:46.149Z"
   },
   {
    "duration": 18,
    "start_time": "2022-07-31T11:03:46.160Z"
   },
   {
    "duration": 3,
    "start_time": "2022-07-31T11:03:46.204Z"
   },
   {
    "duration": 7220,
    "start_time": "2022-07-31T11:03:46.209Z"
   },
   {
    "duration": 1377,
    "start_time": "2022-07-31T11:04:12.801Z"
   },
   {
    "duration": 17365,
    "start_time": "2022-07-31T11:05:12.441Z"
   },
   {
    "duration": 80,
    "start_time": "2022-07-31T11:06:11.520Z"
   },
   {
    "duration": 4,
    "start_time": "2022-07-31T11:06:27.134Z"
   },
   {
    "duration": 154,
    "start_time": "2022-07-31T11:06:27.140Z"
   },
   {
    "duration": 23,
    "start_time": "2022-07-31T11:06:27.296Z"
   },
   {
    "duration": 13,
    "start_time": "2022-07-31T11:06:27.321Z"
   },
   {
    "duration": 12,
    "start_time": "2022-07-31T11:06:27.336Z"
   },
   {
    "duration": 11,
    "start_time": "2022-07-31T11:06:27.349Z"
   },
   {
    "duration": 13,
    "start_time": "2022-07-31T11:06:27.362Z"
   },
   {
    "duration": 35,
    "start_time": "2022-07-31T11:06:27.376Z"
   },
   {
    "duration": 24,
    "start_time": "2022-07-31T11:06:27.420Z"
   },
   {
    "duration": 14,
    "start_time": "2022-07-31T11:06:27.446Z"
   },
   {
    "duration": 32,
    "start_time": "2022-07-31T11:06:27.462Z"
   },
   {
    "duration": 28,
    "start_time": "2022-07-31T11:06:27.504Z"
   },
   {
    "duration": 16,
    "start_time": "2022-07-31T11:06:27.534Z"
   },
   {
    "duration": 14,
    "start_time": "2022-07-31T11:06:27.554Z"
   },
   {
    "duration": 14,
    "start_time": "2022-07-31T11:06:27.570Z"
   },
   {
    "duration": 27,
    "start_time": "2022-07-31T11:06:27.586Z"
   },
   {
    "duration": 25,
    "start_time": "2022-07-31T11:06:27.618Z"
   },
   {
    "duration": 14,
    "start_time": "2022-07-31T11:06:27.645Z"
   },
   {
    "duration": 38,
    "start_time": "2022-07-31T11:06:27.661Z"
   },
   {
    "duration": 25,
    "start_time": "2022-07-31T11:06:27.705Z"
   },
   {
    "duration": 8,
    "start_time": "2022-07-31T11:06:27.732Z"
   },
   {
    "duration": 9,
    "start_time": "2022-07-31T11:06:27.742Z"
   },
   {
    "duration": 23,
    "start_time": "2022-07-31T11:06:27.753Z"
   },
   {
    "duration": 47,
    "start_time": "2022-07-31T11:06:27.777Z"
   },
   {
    "duration": 16,
    "start_time": "2022-07-31T11:06:27.825Z"
   },
   {
    "duration": 9,
    "start_time": "2022-07-31T11:06:27.842Z"
   },
   {
    "duration": 21,
    "start_time": "2022-07-31T11:06:27.852Z"
   },
   {
    "duration": 57,
    "start_time": "2022-07-31T11:06:27.874Z"
   },
   {
    "duration": 18,
    "start_time": "2022-07-31T11:06:27.933Z"
   },
   {
    "duration": 7,
    "start_time": "2022-07-31T11:06:27.953Z"
   },
   {
    "duration": 226,
    "start_time": "2022-07-31T11:06:27.961Z"
   },
   {
    "duration": 295,
    "start_time": "2022-07-31T11:06:28.188Z"
   },
   {
    "duration": 266,
    "start_time": "2022-07-31T11:06:28.485Z"
   },
   {
    "duration": 9,
    "start_time": "2022-07-31T11:06:28.753Z"
   },
   {
    "duration": 255,
    "start_time": "2022-07-31T11:06:28.764Z"
   },
   {
    "duration": 9,
    "start_time": "2022-07-31T11:06:29.021Z"
   },
   {
    "duration": 296,
    "start_time": "2022-07-31T11:06:29.032Z"
   },
   {
    "duration": 8,
    "start_time": "2022-07-31T11:06:29.329Z"
   },
   {
    "duration": 18,
    "start_time": "2022-07-31T11:06:29.339Z"
   },
   {
    "duration": 2,
    "start_time": "2022-07-31T11:06:29.359Z"
   },
   {
    "duration": 9,
    "start_time": "2022-07-31T11:06:29.365Z"
   },
   {
    "duration": 335,
    "start_time": "2022-07-31T11:06:29.376Z"
   },
   {
    "duration": 5,
    "start_time": "2022-07-31T11:06:29.713Z"
   },
   {
    "duration": 16,
    "start_time": "2022-07-31T11:06:29.721Z"
   },
   {
    "duration": 75,
    "start_time": "2022-07-31T11:06:29.739Z"
   },
   {
    "duration": 5,
    "start_time": "2022-07-31T11:06:29.815Z"
   },
   {
    "duration": 26,
    "start_time": "2022-07-31T11:06:29.822Z"
   },
   {
    "duration": 17,
    "start_time": "2022-07-31T11:06:29.850Z"
   },
   {
    "duration": 11,
    "start_time": "2022-07-31T11:06:29.869Z"
   },
   {
    "duration": 6926,
    "start_time": "2022-07-31T11:06:29.882Z"
   },
   {
    "duration": 1694,
    "start_time": "2022-07-31T11:06:36.815Z"
   },
   {
    "duration": 15898,
    "start_time": "2022-07-31T11:06:38.520Z"
   },
   {
    "duration": 3,
    "start_time": "2022-07-31T11:06:54.420Z"
   },
   {
    "duration": 41,
    "start_time": "2022-07-31T11:06:54.425Z"
   },
   {
    "duration": 4,
    "start_time": "2022-07-31T11:06:54.468Z"
   },
   {
    "duration": 13,
    "start_time": "2022-07-31T11:06:54.473Z"
   },
   {
    "duration": 32,
    "start_time": "2022-07-31T11:06:54.488Z"
   },
   {
    "duration": 6,
    "start_time": "2022-07-31T11:06:54.522Z"
   },
   {
    "duration": 3017988,
    "start_time": "2022-07-31T11:06:54.530Z"
   }
  ],
  "kernelspec": {
   "display_name": "Python 3 (ipykernel)",
   "language": "python",
   "name": "python3"
  },
  "language_info": {
   "codemirror_mode": {
    "name": "ipython",
    "version": 3
   },
   "file_extension": ".py",
   "mimetype": "text/x-python",
   "name": "python",
   "nbconvert_exporter": "python",
   "pygments_lexer": "ipython3",
   "version": "3.9.12"
  },
  "toc": {
   "base_numbering": 1,
   "nav_menu": {},
   "number_sections": true,
   "sideBar": true,
   "skip_h1_title": false,
   "title_cell": "Table of Contents",
   "title_sidebar": "Contents",
   "toc_cell": false,
   "toc_position": {
    "height": "calc(100% - 180px)",
    "left": "10px",
    "top": "150px",
    "width": "329.938px"
   },
   "toc_section_display": true,
   "toc_window_display": true
  }
 },
 "nbformat": 4,
 "nbformat_minor": 5
}
