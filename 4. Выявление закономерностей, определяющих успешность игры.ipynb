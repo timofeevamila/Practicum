{
 "cells": [
  {
   "cell_type": "markdown",
   "metadata": {},
   "source": [
    "# Выявление закономерностей, определяющих успешность игры\n",
    "\n",
    "Интернет-магазине «Стримчик» продаёт по всему миру компьютерные игры. Из открытых источников доступны исторические данные о продажах игр, оценки пользователей и экспертов, жанры и платформы (например, Xbox или PlayStation). Цель проекта - выявить определяющие успешность игры закономерности. Это позволит сделать ставку на потенциально популярный продукт и спланировать рекламные кампании.\n",
    "Для исследования предоставлены данные до 2016 г.\n",
    "В наборе данных попадается аббревиатура ESRB (Entertainment Software Rating Board) — это ассоциация, определяющая возрастной рейтинг компьютерных игр. ESRB оценивает игровой контент и присваивает ему подходящую возрастную категорию, например, «Для взрослых», «Для детей младшего возраста» или «Для подростков»."
   ]
  },
  {
   "cell_type": "markdown",
   "metadata": {},
   "source": [
    "## Изучение данных из файла\n",
    "\n",
    "Импортируем библиотеки, с которыми будем работать"
   ]
  },
  {
   "cell_type": "code",
   "execution_count": 1,
   "metadata": {},
   "outputs": [],
   "source": [
    "import pandas as pd\n",
    "import matplotlib.pyplot as plt\n",
    "import seaborn as sns\n",
    "import numpy as np\n",
    "from datetime import datetime\n",
    "from scipy import stats as st\n",
    "import warnings"
   ]
  },
  {
   "cell_type": "markdown",
   "metadata": {},
   "source": [
    "Сохраняем данные в переменную df"
   ]
  },
  {
   "cell_type": "code",
   "execution_count": 2,
   "metadata": {},
   "outputs": [
    {
     "data": {
      "text/html": [
       "<div>\n",
       "<style scoped>\n",
       "    .dataframe tbody tr th:only-of-type {\n",
       "        vertical-align: middle;\n",
       "    }\n",
       "\n",
       "    .dataframe tbody tr th {\n",
       "        vertical-align: top;\n",
       "    }\n",
       "\n",
       "    .dataframe thead th {\n",
       "        text-align: right;\n",
       "    }\n",
       "</style>\n",
       "<table border=\"1\" class=\"dataframe\">\n",
       "  <thead>\n",
       "    <tr style=\"text-align: right;\">\n",
       "      <th></th>\n",
       "      <th>Name</th>\n",
       "      <th>Platform</th>\n",
       "      <th>Year_of_Release</th>\n",
       "      <th>Genre</th>\n",
       "      <th>NA_sales</th>\n",
       "      <th>EU_sales</th>\n",
       "      <th>JP_sales</th>\n",
       "      <th>Other_sales</th>\n",
       "      <th>Critic_Score</th>\n",
       "      <th>User_Score</th>\n",
       "      <th>Rating</th>\n",
       "    </tr>\n",
       "  </thead>\n",
       "  <tbody>\n",
       "    <tr>\n",
       "      <td>0</td>\n",
       "      <td>Wii Sports</td>\n",
       "      <td>Wii</td>\n",
       "      <td>2006.0</td>\n",
       "      <td>Sports</td>\n",
       "      <td>41.36</td>\n",
       "      <td>28.96</td>\n",
       "      <td>3.77</td>\n",
       "      <td>8.45</td>\n",
       "      <td>76.0</td>\n",
       "      <td>8</td>\n",
       "      <td>E</td>\n",
       "    </tr>\n",
       "    <tr>\n",
       "      <td>1</td>\n",
       "      <td>Super Mario Bros.</td>\n",
       "      <td>NES</td>\n",
       "      <td>1985.0</td>\n",
       "      <td>Platform</td>\n",
       "      <td>29.08</td>\n",
       "      <td>3.58</td>\n",
       "      <td>6.81</td>\n",
       "      <td>0.77</td>\n",
       "      <td>NaN</td>\n",
       "      <td>NaN</td>\n",
       "      <td>NaN</td>\n",
       "    </tr>\n",
       "    <tr>\n",
       "      <td>2</td>\n",
       "      <td>Mario Kart Wii</td>\n",
       "      <td>Wii</td>\n",
       "      <td>2008.0</td>\n",
       "      <td>Racing</td>\n",
       "      <td>15.68</td>\n",
       "      <td>12.76</td>\n",
       "      <td>3.79</td>\n",
       "      <td>3.29</td>\n",
       "      <td>82.0</td>\n",
       "      <td>8.3</td>\n",
       "      <td>E</td>\n",
       "    </tr>\n",
       "    <tr>\n",
       "      <td>3</td>\n",
       "      <td>Wii Sports Resort</td>\n",
       "      <td>Wii</td>\n",
       "      <td>2009.0</td>\n",
       "      <td>Sports</td>\n",
       "      <td>15.61</td>\n",
       "      <td>10.93</td>\n",
       "      <td>3.28</td>\n",
       "      <td>2.95</td>\n",
       "      <td>80.0</td>\n",
       "      <td>8</td>\n",
       "      <td>E</td>\n",
       "    </tr>\n",
       "    <tr>\n",
       "      <td>4</td>\n",
       "      <td>Pokemon Red/Pokemon Blue</td>\n",
       "      <td>GB</td>\n",
       "      <td>1996.0</td>\n",
       "      <td>Role-Playing</td>\n",
       "      <td>11.27</td>\n",
       "      <td>8.89</td>\n",
       "      <td>10.22</td>\n",
       "      <td>1.00</td>\n",
       "      <td>NaN</td>\n",
       "      <td>NaN</td>\n",
       "      <td>NaN</td>\n",
       "    </tr>\n",
       "    <tr>\n",
       "      <td>5</td>\n",
       "      <td>Tetris</td>\n",
       "      <td>GB</td>\n",
       "      <td>1989.0</td>\n",
       "      <td>Puzzle</td>\n",
       "      <td>23.20</td>\n",
       "      <td>2.26</td>\n",
       "      <td>4.22</td>\n",
       "      <td>0.58</td>\n",
       "      <td>NaN</td>\n",
       "      <td>NaN</td>\n",
       "      <td>NaN</td>\n",
       "    </tr>\n",
       "    <tr>\n",
       "      <td>6</td>\n",
       "      <td>New Super Mario Bros.</td>\n",
       "      <td>DS</td>\n",
       "      <td>2006.0</td>\n",
       "      <td>Platform</td>\n",
       "      <td>11.28</td>\n",
       "      <td>9.14</td>\n",
       "      <td>6.50</td>\n",
       "      <td>2.88</td>\n",
       "      <td>89.0</td>\n",
       "      <td>8.5</td>\n",
       "      <td>E</td>\n",
       "    </tr>\n",
       "    <tr>\n",
       "      <td>7</td>\n",
       "      <td>Wii Play</td>\n",
       "      <td>Wii</td>\n",
       "      <td>2006.0</td>\n",
       "      <td>Misc</td>\n",
       "      <td>13.96</td>\n",
       "      <td>9.18</td>\n",
       "      <td>2.93</td>\n",
       "      <td>2.84</td>\n",
       "      <td>58.0</td>\n",
       "      <td>6.6</td>\n",
       "      <td>E</td>\n",
       "    </tr>\n",
       "    <tr>\n",
       "      <td>8</td>\n",
       "      <td>New Super Mario Bros. Wii</td>\n",
       "      <td>Wii</td>\n",
       "      <td>2009.0</td>\n",
       "      <td>Platform</td>\n",
       "      <td>14.44</td>\n",
       "      <td>6.94</td>\n",
       "      <td>4.70</td>\n",
       "      <td>2.24</td>\n",
       "      <td>87.0</td>\n",
       "      <td>8.4</td>\n",
       "      <td>E</td>\n",
       "    </tr>\n",
       "    <tr>\n",
       "      <td>9</td>\n",
       "      <td>Duck Hunt</td>\n",
       "      <td>NES</td>\n",
       "      <td>1984.0</td>\n",
       "      <td>Shooter</td>\n",
       "      <td>26.93</td>\n",
       "      <td>0.63</td>\n",
       "      <td>0.28</td>\n",
       "      <td>0.47</td>\n",
       "      <td>NaN</td>\n",
       "      <td>NaN</td>\n",
       "      <td>NaN</td>\n",
       "    </tr>\n",
       "  </tbody>\n",
       "</table>\n",
       "</div>"
      ],
      "text/plain": [
       "                        Name Platform  Year_of_Release         Genre  \\\n",
       "0                 Wii Sports      Wii           2006.0        Sports   \n",
       "1          Super Mario Bros.      NES           1985.0      Platform   \n",
       "2             Mario Kart Wii      Wii           2008.0        Racing   \n",
       "3          Wii Sports Resort      Wii           2009.0        Sports   \n",
       "4   Pokemon Red/Pokemon Blue       GB           1996.0  Role-Playing   \n",
       "5                     Tetris       GB           1989.0        Puzzle   \n",
       "6      New Super Mario Bros.       DS           2006.0      Platform   \n",
       "7                   Wii Play      Wii           2006.0          Misc   \n",
       "8  New Super Mario Bros. Wii      Wii           2009.0      Platform   \n",
       "9                  Duck Hunt      NES           1984.0       Shooter   \n",
       "\n",
       "   NA_sales  EU_sales  JP_sales  Other_sales  Critic_Score User_Score Rating  \n",
       "0     41.36     28.96      3.77         8.45          76.0          8      E  \n",
       "1     29.08      3.58      6.81         0.77           NaN        NaN    NaN  \n",
       "2     15.68     12.76      3.79         3.29          82.0        8.3      E  \n",
       "3     15.61     10.93      3.28         2.95          80.0          8      E  \n",
       "4     11.27      8.89     10.22         1.00           NaN        NaN    NaN  \n",
       "5     23.20      2.26      4.22         0.58           NaN        NaN    NaN  \n",
       "6     11.28      9.14      6.50         2.88          89.0        8.5      E  \n",
       "7     13.96      9.18      2.93         2.84          58.0        6.6      E  \n",
       "8     14.44      6.94      4.70         2.24          87.0        8.4      E  \n",
       "9     26.93      0.63      0.28         0.47           NaN        NaN    NaN  "
      ]
     },
     "metadata": {},
     "output_type": "display_data"
    }
   ],
   "source": [
    "df = pd.read_csv('/datasets/games.csv')\n",
    "display(df.head(10))"
   ]
  },
  {
   "cell_type": "markdown",
   "metadata": {},
   "source": [
    "Посмотрим общую информацию о данных"
   ]
  },
  {
   "cell_type": "code",
   "execution_count": 3,
   "metadata": {},
   "outputs": [
    {
     "name": "stdout",
     "output_type": "stream",
     "text": [
      "<class 'pandas.core.frame.DataFrame'>\n",
      "RangeIndex: 16715 entries, 0 to 16714\n",
      "Data columns (total 11 columns):\n",
      "Name               16713 non-null object\n",
      "Platform           16715 non-null object\n",
      "Year_of_Release    16446 non-null float64\n",
      "Genre              16713 non-null object\n",
      "NA_sales           16715 non-null float64\n",
      "EU_sales           16715 non-null float64\n",
      "JP_sales           16715 non-null float64\n",
      "Other_sales        16715 non-null float64\n",
      "Critic_Score       8137 non-null float64\n",
      "User_Score         10014 non-null object\n",
      "Rating             9949 non-null object\n",
      "dtypes: float64(6), object(5)\n",
      "memory usage: 1.4+ MB\n"
     ]
    }
   ],
   "source": [
    "df.info()"
   ]
  },
  {
   "cell_type": "markdown",
   "metadata": {},
   "source": [
    "Посмотрим описательную статистику по каждому столбцу датафрейма"
   ]
  },
  {
   "cell_type": "code",
   "execution_count": 4,
   "metadata": {},
   "outputs": [
    {
     "data": {
      "text/html": [
       "<div>\n",
       "<style scoped>\n",
       "    .dataframe tbody tr th:only-of-type {\n",
       "        vertical-align: middle;\n",
       "    }\n",
       "\n",
       "    .dataframe tbody tr th {\n",
       "        vertical-align: top;\n",
       "    }\n",
       "\n",
       "    .dataframe thead th {\n",
       "        text-align: right;\n",
       "    }\n",
       "</style>\n",
       "<table border=\"1\" class=\"dataframe\">\n",
       "  <thead>\n",
       "    <tr style=\"text-align: right;\">\n",
       "      <th></th>\n",
       "      <th>Year_of_Release</th>\n",
       "      <th>NA_sales</th>\n",
       "      <th>EU_sales</th>\n",
       "      <th>JP_sales</th>\n",
       "      <th>Other_sales</th>\n",
       "      <th>Critic_Score</th>\n",
       "    </tr>\n",
       "  </thead>\n",
       "  <tbody>\n",
       "    <tr>\n",
       "      <td>count</td>\n",
       "      <td>16446.000000</td>\n",
       "      <td>16715.000000</td>\n",
       "      <td>16715.000000</td>\n",
       "      <td>16715.000000</td>\n",
       "      <td>16715.000000</td>\n",
       "      <td>8137.000000</td>\n",
       "    </tr>\n",
       "    <tr>\n",
       "      <td>mean</td>\n",
       "      <td>2006.484616</td>\n",
       "      <td>0.263377</td>\n",
       "      <td>0.145060</td>\n",
       "      <td>0.077617</td>\n",
       "      <td>0.047342</td>\n",
       "      <td>68.967679</td>\n",
       "    </tr>\n",
       "    <tr>\n",
       "      <td>std</td>\n",
       "      <td>5.877050</td>\n",
       "      <td>0.813604</td>\n",
       "      <td>0.503339</td>\n",
       "      <td>0.308853</td>\n",
       "      <td>0.186731</td>\n",
       "      <td>13.938165</td>\n",
       "    </tr>\n",
       "    <tr>\n",
       "      <td>min</td>\n",
       "      <td>1980.000000</td>\n",
       "      <td>0.000000</td>\n",
       "      <td>0.000000</td>\n",
       "      <td>0.000000</td>\n",
       "      <td>0.000000</td>\n",
       "      <td>13.000000</td>\n",
       "    </tr>\n",
       "    <tr>\n",
       "      <td>25%</td>\n",
       "      <td>2003.000000</td>\n",
       "      <td>0.000000</td>\n",
       "      <td>0.000000</td>\n",
       "      <td>0.000000</td>\n",
       "      <td>0.000000</td>\n",
       "      <td>60.000000</td>\n",
       "    </tr>\n",
       "    <tr>\n",
       "      <td>50%</td>\n",
       "      <td>2007.000000</td>\n",
       "      <td>0.080000</td>\n",
       "      <td>0.020000</td>\n",
       "      <td>0.000000</td>\n",
       "      <td>0.010000</td>\n",
       "      <td>71.000000</td>\n",
       "    </tr>\n",
       "    <tr>\n",
       "      <td>75%</td>\n",
       "      <td>2010.000000</td>\n",
       "      <td>0.240000</td>\n",
       "      <td>0.110000</td>\n",
       "      <td>0.040000</td>\n",
       "      <td>0.030000</td>\n",
       "      <td>79.000000</td>\n",
       "    </tr>\n",
       "    <tr>\n",
       "      <td>max</td>\n",
       "      <td>2016.000000</td>\n",
       "      <td>41.360000</td>\n",
       "      <td>28.960000</td>\n",
       "      <td>10.220000</td>\n",
       "      <td>10.570000</td>\n",
       "      <td>98.000000</td>\n",
       "    </tr>\n",
       "  </tbody>\n",
       "</table>\n",
       "</div>"
      ],
      "text/plain": [
       "       Year_of_Release      NA_sales      EU_sales      JP_sales  \\\n",
       "count     16446.000000  16715.000000  16715.000000  16715.000000   \n",
       "mean       2006.484616      0.263377      0.145060      0.077617   \n",
       "std           5.877050      0.813604      0.503339      0.308853   \n",
       "min        1980.000000      0.000000      0.000000      0.000000   \n",
       "25%        2003.000000      0.000000      0.000000      0.000000   \n",
       "50%        2007.000000      0.080000      0.020000      0.000000   \n",
       "75%        2010.000000      0.240000      0.110000      0.040000   \n",
       "max        2016.000000     41.360000     28.960000     10.220000   \n",
       "\n",
       "        Other_sales  Critic_Score  \n",
       "count  16715.000000   8137.000000  \n",
       "mean       0.047342     68.967679  \n",
       "std        0.186731     13.938165  \n",
       "min        0.000000     13.000000  \n",
       "25%        0.000000     60.000000  \n",
       "50%        0.010000     71.000000  \n",
       "75%        0.030000     79.000000  \n",
       "max       10.570000     98.000000  "
      ]
     },
     "execution_count": 4,
     "metadata": {},
     "output_type": "execute_result"
    }
   ],
   "source": [
    "df.describe()"
   ]
  },
  {
   "cell_type": "markdown",
   "metadata": {},
   "source": [
    "### Вывод\n",
    "\n",
    "В таблице \"Данные о продажах игр\" 16715 строк и 11 столбцов. В 5 столбцах тип данных - object, в 6 столбцах - float64.\n",
    "Для дальнейшей работы с таблицей нужно привести названия столбцов к единому стилю. Количество значений в столбцах различается. Значит, в данных есть пропущенные значения. "
   ]
  },
  {
   "cell_type": "markdown",
   "metadata": {},
   "source": [
    "## Предобработка данных"
   ]
  },
  {
   "cell_type": "markdown",
   "metadata": {},
   "source": [
    "### Стиль заголовков\n",
    "\n",
    "Посмотрим названия столбцов нашей таблицы"
   ]
  },
  {
   "cell_type": "code",
   "execution_count": 5,
   "metadata": {},
   "outputs": [
    {
     "data": {
      "text/plain": [
       "Index(['Name', 'Platform', 'Year_of_Release', 'Genre', 'NA_sales', 'EU_sales',\n",
       "       'JP_sales', 'Other_sales', 'Critic_Score', 'User_Score', 'Rating'],\n",
       "      dtype='object')"
      ]
     },
     "execution_count": 5,
     "metadata": {},
     "output_type": "execute_result"
    }
   ],
   "source": [
    "df.columns"
   ]
  },
  {
   "cell_type": "markdown",
   "metadata": {},
   "source": [
    "Приведем названия столбцов к нижнему регистру."
   ]
  },
  {
   "cell_type": "code",
   "execution_count": 6,
   "metadata": {},
   "outputs": [
    {
     "data": {
      "text/html": [
       "<div>\n",
       "<style scoped>\n",
       "    .dataframe tbody tr th:only-of-type {\n",
       "        vertical-align: middle;\n",
       "    }\n",
       "\n",
       "    .dataframe tbody tr th {\n",
       "        vertical-align: top;\n",
       "    }\n",
       "\n",
       "    .dataframe thead th {\n",
       "        text-align: right;\n",
       "    }\n",
       "</style>\n",
       "<table border=\"1\" class=\"dataframe\">\n",
       "  <thead>\n",
       "    <tr style=\"text-align: right;\">\n",
       "      <th></th>\n",
       "      <th>name</th>\n",
       "      <th>platform</th>\n",
       "      <th>year_of_release</th>\n",
       "      <th>genre</th>\n",
       "      <th>na_sales</th>\n",
       "      <th>eu_sales</th>\n",
       "      <th>jp_sales</th>\n",
       "      <th>other_sales</th>\n",
       "      <th>critic_score</th>\n",
       "      <th>user_score</th>\n",
       "      <th>rating</th>\n",
       "    </tr>\n",
       "  </thead>\n",
       "  <tbody>\n",
       "    <tr>\n",
       "      <td>0</td>\n",
       "      <td>Wii Sports</td>\n",
       "      <td>Wii</td>\n",
       "      <td>2006.0</td>\n",
       "      <td>Sports</td>\n",
       "      <td>41.36</td>\n",
       "      <td>28.96</td>\n",
       "      <td>3.77</td>\n",
       "      <td>8.45</td>\n",
       "      <td>76.0</td>\n",
       "      <td>8</td>\n",
       "      <td>E</td>\n",
       "    </tr>\n",
       "    <tr>\n",
       "      <td>1</td>\n",
       "      <td>Super Mario Bros.</td>\n",
       "      <td>NES</td>\n",
       "      <td>1985.0</td>\n",
       "      <td>Platform</td>\n",
       "      <td>29.08</td>\n",
       "      <td>3.58</td>\n",
       "      <td>6.81</td>\n",
       "      <td>0.77</td>\n",
       "      <td>NaN</td>\n",
       "      <td>NaN</td>\n",
       "      <td>NaN</td>\n",
       "    </tr>\n",
       "    <tr>\n",
       "      <td>2</td>\n",
       "      <td>Mario Kart Wii</td>\n",
       "      <td>Wii</td>\n",
       "      <td>2008.0</td>\n",
       "      <td>Racing</td>\n",
       "      <td>15.68</td>\n",
       "      <td>12.76</td>\n",
       "      <td>3.79</td>\n",
       "      <td>3.29</td>\n",
       "      <td>82.0</td>\n",
       "      <td>8.3</td>\n",
       "      <td>E</td>\n",
       "    </tr>\n",
       "    <tr>\n",
       "      <td>3</td>\n",
       "      <td>Wii Sports Resort</td>\n",
       "      <td>Wii</td>\n",
       "      <td>2009.0</td>\n",
       "      <td>Sports</td>\n",
       "      <td>15.61</td>\n",
       "      <td>10.93</td>\n",
       "      <td>3.28</td>\n",
       "      <td>2.95</td>\n",
       "      <td>80.0</td>\n",
       "      <td>8</td>\n",
       "      <td>E</td>\n",
       "    </tr>\n",
       "    <tr>\n",
       "      <td>4</td>\n",
       "      <td>Pokemon Red/Pokemon Blue</td>\n",
       "      <td>GB</td>\n",
       "      <td>1996.0</td>\n",
       "      <td>Role-Playing</td>\n",
       "      <td>11.27</td>\n",
       "      <td>8.89</td>\n",
       "      <td>10.22</td>\n",
       "      <td>1.00</td>\n",
       "      <td>NaN</td>\n",
       "      <td>NaN</td>\n",
       "      <td>NaN</td>\n",
       "    </tr>\n",
       "    <tr>\n",
       "      <td>...</td>\n",
       "      <td>...</td>\n",
       "      <td>...</td>\n",
       "      <td>...</td>\n",
       "      <td>...</td>\n",
       "      <td>...</td>\n",
       "      <td>...</td>\n",
       "      <td>...</td>\n",
       "      <td>...</td>\n",
       "      <td>...</td>\n",
       "      <td>...</td>\n",
       "      <td>...</td>\n",
       "    </tr>\n",
       "    <tr>\n",
       "      <td>16710</td>\n",
       "      <td>Samurai Warriors: Sanada Maru</td>\n",
       "      <td>PS3</td>\n",
       "      <td>2016.0</td>\n",
       "      <td>Action</td>\n",
       "      <td>0.00</td>\n",
       "      <td>0.00</td>\n",
       "      <td>0.01</td>\n",
       "      <td>0.00</td>\n",
       "      <td>NaN</td>\n",
       "      <td>NaN</td>\n",
       "      <td>NaN</td>\n",
       "    </tr>\n",
       "    <tr>\n",
       "      <td>16711</td>\n",
       "      <td>LMA Manager 2007</td>\n",
       "      <td>X360</td>\n",
       "      <td>2006.0</td>\n",
       "      <td>Sports</td>\n",
       "      <td>0.00</td>\n",
       "      <td>0.01</td>\n",
       "      <td>0.00</td>\n",
       "      <td>0.00</td>\n",
       "      <td>NaN</td>\n",
       "      <td>NaN</td>\n",
       "      <td>NaN</td>\n",
       "    </tr>\n",
       "    <tr>\n",
       "      <td>16712</td>\n",
       "      <td>Haitaka no Psychedelica</td>\n",
       "      <td>PSV</td>\n",
       "      <td>2016.0</td>\n",
       "      <td>Adventure</td>\n",
       "      <td>0.00</td>\n",
       "      <td>0.00</td>\n",
       "      <td>0.01</td>\n",
       "      <td>0.00</td>\n",
       "      <td>NaN</td>\n",
       "      <td>NaN</td>\n",
       "      <td>NaN</td>\n",
       "    </tr>\n",
       "    <tr>\n",
       "      <td>16713</td>\n",
       "      <td>Spirits &amp; Spells</td>\n",
       "      <td>GBA</td>\n",
       "      <td>2003.0</td>\n",
       "      <td>Platform</td>\n",
       "      <td>0.01</td>\n",
       "      <td>0.00</td>\n",
       "      <td>0.00</td>\n",
       "      <td>0.00</td>\n",
       "      <td>NaN</td>\n",
       "      <td>NaN</td>\n",
       "      <td>NaN</td>\n",
       "    </tr>\n",
       "    <tr>\n",
       "      <td>16714</td>\n",
       "      <td>Winning Post 8 2016</td>\n",
       "      <td>PSV</td>\n",
       "      <td>2016.0</td>\n",
       "      <td>Simulation</td>\n",
       "      <td>0.00</td>\n",
       "      <td>0.00</td>\n",
       "      <td>0.01</td>\n",
       "      <td>0.00</td>\n",
       "      <td>NaN</td>\n",
       "      <td>NaN</td>\n",
       "      <td>NaN</td>\n",
       "    </tr>\n",
       "  </tbody>\n",
       "</table>\n",
       "<p>16715 rows × 11 columns</p>\n",
       "</div>"
      ],
      "text/plain": [
       "                                name platform  year_of_release         genre  \\\n",
       "0                         Wii Sports      Wii           2006.0        Sports   \n",
       "1                  Super Mario Bros.      NES           1985.0      Platform   \n",
       "2                     Mario Kart Wii      Wii           2008.0        Racing   \n",
       "3                  Wii Sports Resort      Wii           2009.0        Sports   \n",
       "4           Pokemon Red/Pokemon Blue       GB           1996.0  Role-Playing   \n",
       "...                              ...      ...              ...           ...   \n",
       "16710  Samurai Warriors: Sanada Maru      PS3           2016.0        Action   \n",
       "16711               LMA Manager 2007     X360           2006.0        Sports   \n",
       "16712        Haitaka no Psychedelica      PSV           2016.0     Adventure   \n",
       "16713               Spirits & Spells      GBA           2003.0      Platform   \n",
       "16714            Winning Post 8 2016      PSV           2016.0    Simulation   \n",
       "\n",
       "       na_sales  eu_sales  jp_sales  other_sales  critic_score user_score  \\\n",
       "0         41.36     28.96      3.77         8.45          76.0          8   \n",
       "1         29.08      3.58      6.81         0.77           NaN        NaN   \n",
       "2         15.68     12.76      3.79         3.29          82.0        8.3   \n",
       "3         15.61     10.93      3.28         2.95          80.0          8   \n",
       "4         11.27      8.89     10.22         1.00           NaN        NaN   \n",
       "...         ...       ...       ...          ...           ...        ...   \n",
       "16710      0.00      0.00      0.01         0.00           NaN        NaN   \n",
       "16711      0.00      0.01      0.00         0.00           NaN        NaN   \n",
       "16712      0.00      0.00      0.01         0.00           NaN        NaN   \n",
       "16713      0.01      0.00      0.00         0.00           NaN        NaN   \n",
       "16714      0.00      0.00      0.01         0.00           NaN        NaN   \n",
       "\n",
       "      rating  \n",
       "0          E  \n",
       "1        NaN  \n",
       "2          E  \n",
       "3          E  \n",
       "4        NaN  \n",
       "...      ...  \n",
       "16710    NaN  \n",
       "16711    NaN  \n",
       "16712    NaN  \n",
       "16713    NaN  \n",
       "16714    NaN  \n",
       "\n",
       "[16715 rows x 11 columns]"
      ]
     },
     "execution_count": 6,
     "metadata": {},
     "output_type": "execute_result"
    }
   ],
   "source": [
    "df.columns = df.columns.str.lower()\n",
    "df"
   ]
  },
  {
   "cell_type": "markdown",
   "metadata": {},
   "source": [
    "### Пропуски значений\n",
    "\n",
    "Посчитаем количество пропущенных значений в каждом из столбцов датафрейма."
   ]
  },
  {
   "cell_type": "code",
   "execution_count": 7,
   "metadata": {},
   "outputs": [
    {
     "data": {
      "text/plain": [
       "name                  2\n",
       "platform              0\n",
       "year_of_release     269\n",
       "genre                 2\n",
       "na_sales              0\n",
       "eu_sales              0\n",
       "jp_sales              0\n",
       "other_sales           0\n",
       "critic_score       8578\n",
       "user_score         6701\n",
       "rating             6766\n",
       "dtype: int64"
      ]
     },
     "execution_count": 7,
     "metadata": {},
     "output_type": "execute_result"
    }
   ],
   "source": [
    "df.isna().sum()"
   ]
  },
  {
   "cell_type": "markdown",
   "metadata": {},
   "source": [
    "В столбце \"Название игры\" есть два пропущенных значения, посмотрим на строки без названий игры."
   ]
  },
  {
   "cell_type": "code",
   "execution_count": 8,
   "metadata": {},
   "outputs": [
    {
     "data": {
      "text/html": [
       "<div>\n",
       "<style scoped>\n",
       "    .dataframe tbody tr th:only-of-type {\n",
       "        vertical-align: middle;\n",
       "    }\n",
       "\n",
       "    .dataframe tbody tr th {\n",
       "        vertical-align: top;\n",
       "    }\n",
       "\n",
       "    .dataframe thead th {\n",
       "        text-align: right;\n",
       "    }\n",
       "</style>\n",
       "<table border=\"1\" class=\"dataframe\">\n",
       "  <thead>\n",
       "    <tr style=\"text-align: right;\">\n",
       "      <th></th>\n",
       "      <th>name</th>\n",
       "      <th>platform</th>\n",
       "      <th>year_of_release</th>\n",
       "      <th>genre</th>\n",
       "      <th>na_sales</th>\n",
       "      <th>eu_sales</th>\n",
       "      <th>jp_sales</th>\n",
       "      <th>other_sales</th>\n",
       "      <th>critic_score</th>\n",
       "      <th>user_score</th>\n",
       "      <th>rating</th>\n",
       "    </tr>\n",
       "  </thead>\n",
       "  <tbody>\n",
       "    <tr>\n",
       "      <td>659</td>\n",
       "      <td>NaN</td>\n",
       "      <td>GEN</td>\n",
       "      <td>1993.0</td>\n",
       "      <td>NaN</td>\n",
       "      <td>1.78</td>\n",
       "      <td>0.53</td>\n",
       "      <td>0.00</td>\n",
       "      <td>0.08</td>\n",
       "      <td>NaN</td>\n",
       "      <td>NaN</td>\n",
       "      <td>NaN</td>\n",
       "    </tr>\n",
       "    <tr>\n",
       "      <td>14244</td>\n",
       "      <td>NaN</td>\n",
       "      <td>GEN</td>\n",
       "      <td>1993.0</td>\n",
       "      <td>NaN</td>\n",
       "      <td>0.00</td>\n",
       "      <td>0.00</td>\n",
       "      <td>0.03</td>\n",
       "      <td>0.00</td>\n",
       "      <td>NaN</td>\n",
       "      <td>NaN</td>\n",
       "      <td>NaN</td>\n",
       "    </tr>\n",
       "  </tbody>\n",
       "</table>\n",
       "</div>"
      ],
      "text/plain": [
       "      name platform  year_of_release genre  na_sales  eu_sales  jp_sales  \\\n",
       "659    NaN      GEN           1993.0   NaN      1.78      0.53      0.00   \n",
       "14244  NaN      GEN           1993.0   NaN      0.00      0.00      0.03   \n",
       "\n",
       "       other_sales  critic_score user_score rating  \n",
       "659           0.08           NaN        NaN    NaN  \n",
       "14244         0.00           NaN        NaN    NaN  "
      ]
     },
     "execution_count": 8,
     "metadata": {},
     "output_type": "execute_result"
    }
   ],
   "source": [
    "df[df['name'].isna()]"
   ]
  },
  {
   "cell_type": "markdown",
   "metadata": {},
   "source": [
    "Про эти загадочные две игры известно очень мало:\n",
    "* платформа, на которой вышли игры\n",
    "* год выпуска \n",
    "* продажи по регионам.\n",
    "\n",
    "Удалим эти две строки, поскольку они не несут никакой существенной информации для целей исследования."
   ]
  },
  {
   "cell_type": "code",
   "execution_count": 9,
   "metadata": {},
   "outputs": [
    {
     "data": {
      "text/plain": [
       "name                  0\n",
       "platform              0\n",
       "year_of_release     269\n",
       "genre                 0\n",
       "na_sales              0\n",
       "eu_sales              0\n",
       "jp_sales              0\n",
       "other_sales           0\n",
       "critic_score       8576\n",
       "user_score         6699\n",
       "rating             6764\n",
       "dtype: int64"
      ]
     },
     "execution_count": 9,
     "metadata": {},
     "output_type": "execute_result"
    }
   ],
   "source": [
    "df = df.dropna(subset=['name'])\n",
    "df.isna().sum()"
   ]
  },
  {
   "cell_type": "markdown",
   "metadata": {},
   "source": [
    "Теперь посмотрим на несколько строк с пропущенными значениями в столбце \"Год выпуска\". "
   ]
  },
  {
   "cell_type": "code",
   "execution_count": 10,
   "metadata": {},
   "outputs": [
    {
     "data": {
      "text/html": [
       "<div>\n",
       "<style scoped>\n",
       "    .dataframe tbody tr th:only-of-type {\n",
       "        vertical-align: middle;\n",
       "    }\n",
       "\n",
       "    .dataframe tbody tr th {\n",
       "        vertical-align: top;\n",
       "    }\n",
       "\n",
       "    .dataframe thead th {\n",
       "        text-align: right;\n",
       "    }\n",
       "</style>\n",
       "<table border=\"1\" class=\"dataframe\">\n",
       "  <thead>\n",
       "    <tr style=\"text-align: right;\">\n",
       "      <th></th>\n",
       "      <th>name</th>\n",
       "      <th>platform</th>\n",
       "      <th>year_of_release</th>\n",
       "      <th>genre</th>\n",
       "      <th>na_sales</th>\n",
       "      <th>eu_sales</th>\n",
       "      <th>jp_sales</th>\n",
       "      <th>other_sales</th>\n",
       "      <th>critic_score</th>\n",
       "      <th>user_score</th>\n",
       "      <th>rating</th>\n",
       "    </tr>\n",
       "  </thead>\n",
       "  <tbody>\n",
       "    <tr>\n",
       "      <td>14126</td>\n",
       "      <td>Housekeeping</td>\n",
       "      <td>DS</td>\n",
       "      <td>NaN</td>\n",
       "      <td>Action</td>\n",
       "      <td>0.00</td>\n",
       "      <td>0.00</td>\n",
       "      <td>0.04</td>\n",
       "      <td>0.00</td>\n",
       "      <td>NaN</td>\n",
       "      <td>NaN</td>\n",
       "      <td>NaN</td>\n",
       "    </tr>\n",
       "    <tr>\n",
       "      <td>7210</td>\n",
       "      <td>LEGO Harry Potter: Years 5-7</td>\n",
       "      <td>PC</td>\n",
       "      <td>NaN</td>\n",
       "      <td>Action</td>\n",
       "      <td>0.05</td>\n",
       "      <td>0.14</td>\n",
       "      <td>0.00</td>\n",
       "      <td>0.03</td>\n",
       "      <td>80.0</td>\n",
       "      <td>8.5</td>\n",
       "      <td>E10+</td>\n",
       "    </tr>\n",
       "    <tr>\n",
       "      <td>4818</td>\n",
       "      <td>LEGO Harry Potter: Years 5-7</td>\n",
       "      <td>3DS</td>\n",
       "      <td>NaN</td>\n",
       "      <td>Action</td>\n",
       "      <td>0.18</td>\n",
       "      <td>0.19</td>\n",
       "      <td>0.00</td>\n",
       "      <td>0.03</td>\n",
       "      <td>71.0</td>\n",
       "      <td>6.5</td>\n",
       "      <td>E10+</td>\n",
       "    </tr>\n",
       "    <tr>\n",
       "      <td>8740</td>\n",
       "      <td>Home Run</td>\n",
       "      <td>2600</td>\n",
       "      <td>NaN</td>\n",
       "      <td>Sports</td>\n",
       "      <td>0.14</td>\n",
       "      <td>0.01</td>\n",
       "      <td>0.00</td>\n",
       "      <td>0.00</td>\n",
       "      <td>NaN</td>\n",
       "      <td>NaN</td>\n",
       "      <td>NaN</td>\n",
       "    </tr>\n",
       "    <tr>\n",
       "      <td>14749</td>\n",
       "      <td>Tom and Jerry in War of the Whiskers</td>\n",
       "      <td>XB</td>\n",
       "      <td>NaN</td>\n",
       "      <td>Fighting</td>\n",
       "      <td>0.02</td>\n",
       "      <td>0.01</td>\n",
       "      <td>0.00</td>\n",
       "      <td>0.00</td>\n",
       "      <td>NaN</td>\n",
       "      <td>NaN</td>\n",
       "      <td>NaN</td>\n",
       "    </tr>\n",
       "    <tr>\n",
       "      <td>1699</td>\n",
       "      <td>Hitman 2: Silent Assassin</td>\n",
       "      <td>XB</td>\n",
       "      <td>NaN</td>\n",
       "      <td>Action</td>\n",
       "      <td>0.76</td>\n",
       "      <td>0.38</td>\n",
       "      <td>0.00</td>\n",
       "      <td>0.05</td>\n",
       "      <td>84.0</td>\n",
       "      <td>8</td>\n",
       "      <td>M</td>\n",
       "    </tr>\n",
       "    <tr>\n",
       "      <td>14950</td>\n",
       "      <td>Combat Wings: The Great Battles of WWII</td>\n",
       "      <td>Wii</td>\n",
       "      <td>NaN</td>\n",
       "      <td>Simulation</td>\n",
       "      <td>0.02</td>\n",
       "      <td>0.00</td>\n",
       "      <td>0.00</td>\n",
       "      <td>0.00</td>\n",
       "      <td>NaN</td>\n",
       "      <td>NaN</td>\n",
       "      <td>NaN</td>\n",
       "    </tr>\n",
       "    <tr>\n",
       "      <td>9380</td>\n",
       "      <td>Transworld Surf</td>\n",
       "      <td>XB</td>\n",
       "      <td>NaN</td>\n",
       "      <td>Sports</td>\n",
       "      <td>0.10</td>\n",
       "      <td>0.03</td>\n",
       "      <td>0.00</td>\n",
       "      <td>0.00</td>\n",
       "      <td>76.0</td>\n",
       "      <td>tbd</td>\n",
       "      <td>T</td>\n",
       "    </tr>\n",
       "    <tr>\n",
       "      <td>15816</td>\n",
       "      <td>Without Warning</td>\n",
       "      <td>XB</td>\n",
       "      <td>NaN</td>\n",
       "      <td>Shooter</td>\n",
       "      <td>0.01</td>\n",
       "      <td>0.00</td>\n",
       "      <td>0.00</td>\n",
       "      <td>0.00</td>\n",
       "      <td>45.0</td>\n",
       "      <td>2</td>\n",
       "      <td>M</td>\n",
       "    </tr>\n",
       "    <tr>\n",
       "      <td>12734</td>\n",
       "      <td>Mobile Ops: The One Year War</td>\n",
       "      <td>X360</td>\n",
       "      <td>NaN</td>\n",
       "      <td>Simulation</td>\n",
       "      <td>0.00</td>\n",
       "      <td>0.00</td>\n",
       "      <td>0.06</td>\n",
       "      <td>0.00</td>\n",
       "      <td>NaN</td>\n",
       "      <td>NaN</td>\n",
       "      <td>NaN</td>\n",
       "    </tr>\n",
       "  </tbody>\n",
       "</table>\n",
       "</div>"
      ],
      "text/plain": [
       "                                          name platform  year_of_release  \\\n",
       "14126                             Housekeeping       DS              NaN   \n",
       "7210              LEGO Harry Potter: Years 5-7       PC              NaN   \n",
       "4818              LEGO Harry Potter: Years 5-7      3DS              NaN   \n",
       "8740                                  Home Run     2600              NaN   \n",
       "14749     Tom and Jerry in War of the Whiskers       XB              NaN   \n",
       "1699                 Hitman 2: Silent Assassin       XB              NaN   \n",
       "14950  Combat Wings: The Great Battles of WWII      Wii              NaN   \n",
       "9380                           Transworld Surf       XB              NaN   \n",
       "15816                          Without Warning       XB              NaN   \n",
       "12734             Mobile Ops: The One Year War     X360              NaN   \n",
       "\n",
       "            genre  na_sales  eu_sales  jp_sales  other_sales  critic_score  \\\n",
       "14126      Action      0.00      0.00      0.04         0.00           NaN   \n",
       "7210       Action      0.05      0.14      0.00         0.03          80.0   \n",
       "4818       Action      0.18      0.19      0.00         0.03          71.0   \n",
       "8740       Sports      0.14      0.01      0.00         0.00           NaN   \n",
       "14749    Fighting      0.02      0.01      0.00         0.00           NaN   \n",
       "1699       Action      0.76      0.38      0.00         0.05          84.0   \n",
       "14950  Simulation      0.02      0.00      0.00         0.00           NaN   \n",
       "9380       Sports      0.10      0.03      0.00         0.00          76.0   \n",
       "15816     Shooter      0.01      0.00      0.00         0.00          45.0   \n",
       "12734  Simulation      0.00      0.00      0.06         0.00           NaN   \n",
       "\n",
       "      user_score rating  \n",
       "14126        NaN    NaN  \n",
       "7210         8.5   E10+  \n",
       "4818         6.5   E10+  \n",
       "8740         NaN    NaN  \n",
       "14749        NaN    NaN  \n",
       "1699           8      M  \n",
       "14950        NaN    NaN  \n",
       "9380         tbd      T  \n",
       "15816          2      M  \n",
       "12734        NaN    NaN  "
      ]
     },
     "execution_count": 10,
     "metadata": {},
     "output_type": "execute_result"
    }
   ],
   "source": [
    "df[df['year_of_release'].isna()].sample(10)"
   ]
  },
  {
   "cell_type": "markdown",
   "metadata": {},
   "source": [
    "Всего пропусков в столбце \"Год выпуска\" 269. Восстановить такие данные достоверно мы не можем, поэтому удалим строки без указания года выпуска игры."
   ]
  },
  {
   "cell_type": "code",
   "execution_count": 11,
   "metadata": {
    "scrolled": true
   },
   "outputs": [
    {
     "data": {
      "text/plain": [
       "name                  0\n",
       "platform              0\n",
       "year_of_release       0\n",
       "genre                 0\n",
       "na_sales              0\n",
       "eu_sales              0\n",
       "jp_sales              0\n",
       "other_sales           0\n",
       "critic_score       8461\n",
       "user_score         6605\n",
       "rating             6676\n",
       "dtype: int64"
      ]
     },
     "execution_count": 11,
     "metadata": {},
     "output_type": "execute_result"
    }
   ],
   "source": [
    "df = df.dropna(subset=['year_of_release'])\n",
    "df.isna().sum()"
   ]
  },
  {
   "cell_type": "markdown",
   "metadata": {},
   "source": [
    "Посмотрим на значения рейтинга от организации ESRB."
   ]
  },
  {
   "cell_type": "code",
   "execution_count": 12,
   "metadata": {
    "scrolled": true
   },
   "outputs": [
    {
     "data": {
      "text/plain": [
       "E       3921\n",
       "T       2905\n",
       "M       1536\n",
       "E10+    1393\n",
       "EC         8\n",
       "K-A        3\n",
       "RP         1\n",
       "AO         1\n",
       "Name: rating, dtype: int64"
      ]
     },
     "execution_count": 12,
     "metadata": {},
     "output_type": "execute_result"
    }
   ],
   "source": [
    "df['rating'].value_counts()"
   ]
  },
  {
   "cell_type": "markdown",
   "metadata": {},
   "source": [
    "Рейтинговая доска развлекательного программного обеспечения (ESRB) была основана и начала оценивать игры в 1994 году. Это саморегулируемая организация, которая присваивает возрастные рейтинги и рейтинги контента и обеспечивает соблюдение принятых в отрасли руководящих принципов рекламы компьютерных и видеоигр в Соединенных Штатах и Канаде.\n",
    "\n",
    "Рейтинг \"K-A\" (Kids to Adults) для детей и взрослых: Игры, содержащие контент, подходящий для широкой аудитории. Этот рейтинг использовался до 1998 года, когда он был переименован в E. \n",
    "\n",
    "Рейтинг \"RP\" (Rating Pending) рейтинг ожидается: Продукт был отправлен в ESRB и ожидает присвоение рейтинга. Данный логотип используется только на рекламных презентациях и в демо-версиях игр до официального релиза.\n",
    "\n",
    "Заменим значения K-A на E в столбце \"Рейтинг от организации ESRB\", а значения RP на \"unknown\"."
   ]
  },
  {
   "cell_type": "code",
   "execution_count": 13,
   "metadata": {
    "scrolled": true
   },
   "outputs": [
    {
     "data": {
      "text/plain": [
       "E          3924\n",
       "T          2905\n",
       "M          1536\n",
       "E10+       1393\n",
       "EC            8\n",
       "unknown       1\n",
       "AO            1\n",
       "Name: rating, dtype: int64"
      ]
     },
     "execution_count": 13,
     "metadata": {},
     "output_type": "execute_result"
    }
   ],
   "source": [
    "disct_replace = {'K-A': 'E', 'RP': 'unknown'}\n",
    "\n",
    "df['rating'] = df['rating'].replace(disct_replace)\n",
    "df['rating'].value_counts()"
   ]
  },
  {
   "cell_type": "markdown",
   "metadata": {},
   "source": [
    "В столбце \"Рейтинг ассоциации ESRB\" заменим пропуски на \"unknown\". "
   ]
  },
  {
   "cell_type": "code",
   "execution_count": 14,
   "metadata": {
    "scrolled": true
   },
   "outputs": [
    {
     "data": {
      "text/plain": [
       "unknown    6677\n",
       "E          3924\n",
       "T          2905\n",
       "M          1536\n",
       "E10+       1393\n",
       "EC            8\n",
       "AO            1\n",
       "Name: rating, dtype: int64"
      ]
     },
     "execution_count": 14,
     "metadata": {},
     "output_type": "execute_result"
    }
   ],
   "source": [
    "df['rating'] = df['rating'].fillna('unknown')\n",
    "\n",
    "df['rating'].value_counts()"
   ]
  },
  {
   "cell_type": "markdown",
   "metadata": {},
   "source": [
    "Посмотрим на значения в столбце \"Оценка пользователей\"."
   ]
  },
  {
   "cell_type": "code",
   "execution_count": 15,
   "metadata": {},
   "outputs": [
    {
     "data": {
      "text/plain": [
       "tbd    2376\n",
       "7.8     322\n",
       "8       285\n",
       "8.2     276\n",
       "8.3     252\n",
       "       ... \n",
       "0.9       2\n",
       "1.5       2\n",
       "0.3       2\n",
       "9.7       1\n",
       "0         1\n",
       "Name: user_score, Length: 96, dtype: int64"
      ]
     },
     "execution_count": 15,
     "metadata": {},
     "output_type": "execute_result"
    }
   ],
   "source": [
    "df['user_score'].value_counts()"
   ]
  },
  {
   "cell_type": "markdown",
   "metadata": {},
   "source": [
    "Оценка \"tbd\" (to be determined - для определения) - означает, что на момент сбора данных не было оценки для игры. Заменим все значения \"tbd\" на NaN."
   ]
  },
  {
   "cell_type": "code",
   "execution_count": 16,
   "metadata": {
    "scrolled": true
   },
   "outputs": [
    {
     "data": {
      "text/plain": [
       "name                  0\n",
       "platform              0\n",
       "year_of_release       0\n",
       "genre                 0\n",
       "na_sales              0\n",
       "eu_sales              0\n",
       "jp_sales              0\n",
       "other_sales           0\n",
       "critic_score       8461\n",
       "user_score         8981\n",
       "rating                0\n",
       "dtype: int64"
      ]
     },
     "execution_count": 16,
     "metadata": {},
     "output_type": "execute_result"
    }
   ],
   "source": [
    "df.loc[df['user_score'] == \"tbd\", 'user_score'] = np.nan\n",
    "df.isna().sum()"
   ]
  },
  {
   "cell_type": "markdown",
   "metadata": {},
   "source": [
    "Пропущенные данные об оценках критиков и оценках пользователей также не можем достоверно восстановить на основе имеющейся информации, поэтому оставим без изменения эти строки. Вероятно пропуски в оценках появились при сборе информации. "
   ]
  },
  {
   "cell_type": "markdown",
   "metadata": {},
   "source": [
    "### Тип данных\n",
    "\n",
    "Заменим тип данных на категориальный в столбцах:\n",
    "* \"Название игры\",\n",
    "* \"Платформа\",\n",
    "* \"Жанр игры\", \n",
    "* \"Рейтинг от организцаии ESRB\"\n",
    "\n",
    "В столбце \"Год выпуска\" заменим тип данных на целочисленный, потому что год не может быть дробным.\n",
    "\n",
    "В столбце \"Оценка пользователей\" заменим тип данных на вещественный."
   ]
  },
  {
   "cell_type": "code",
   "execution_count": 17,
   "metadata": {},
   "outputs": [
    {
     "name": "stdout",
     "output_type": "stream",
     "text": [
      "<class 'pandas.core.frame.DataFrame'>\n",
      "Int64Index: 16444 entries, 0 to 16714\n",
      "Data columns (total 11 columns):\n",
      "name               16444 non-null category\n",
      "platform           16444 non-null category\n",
      "year_of_release    16444 non-null int64\n",
      "genre              16444 non-null category\n",
      "na_sales           16444 non-null float64\n",
      "eu_sales           16444 non-null float64\n",
      "jp_sales           16444 non-null float64\n",
      "other_sales        16444 non-null float64\n",
      "critic_score       7983 non-null float64\n",
      "user_score         7463 non-null float16\n",
      "rating             16444 non-null category\n",
      "dtypes: category(4), float16(1), float64(5), int64(1)\n",
      "memory usage: 1.4 MB\n"
     ]
    }
   ],
   "source": [
    "df['name'] = df['name'].astype('category')\n",
    "df['platform'] = df['platform'].astype('category')\n",
    "df['genre'] = df['genre'].astype('category')\n",
    "df['rating'] = df['rating'].astype('category')\n",
    "df['year_of_release'] = df['year_of_release'].astype('int64')\n",
    "df['user_score'] = df['user_score'].astype('float16')\n",
    "\n",
    "# проверка замены\n",
    "df.info()"
   ]
  },
  {
   "cell_type": "markdown",
   "metadata": {},
   "source": [
    "### Дубликаты"
   ]
  },
  {
   "cell_type": "code",
   "execution_count": 18,
   "metadata": {},
   "outputs": [
    {
     "data": {
      "text/plain": [
       "0"
      ]
     },
     "execution_count": 18,
     "metadata": {},
     "output_type": "execute_result"
    }
   ],
   "source": [
    "# проверка на дубликаты\n",
    "df.duplicated().sum()"
   ]
  },
  {
   "cell_type": "markdown",
   "metadata": {},
   "source": [
    "Явных дубликатов нет, проверим на неявные дубликаты столбец \"Название платформы\"."
   ]
  },
  {
   "cell_type": "code",
   "execution_count": 19,
   "metadata": {},
   "outputs": [
    {
     "data": {
      "text/plain": [
       "PS2     2127\n",
       "DS      2121\n",
       "PS3     1306\n",
       "Wii     1286\n",
       "X360    1232\n",
       "PSP     1193\n",
       "PS      1190\n",
       "PC       957\n",
       "GBA      811\n",
       "XB       803\n",
       "GC       542\n",
       "3DS      512\n",
       "PSV      429\n",
       "PS4      392\n",
       "N64      316\n",
       "XOne     247\n",
       "SNES     239\n",
       "SAT      173\n",
       "WiiU     147\n",
       "2600     116\n",
       "NES       98\n",
       "GB        97\n",
       "DC        52\n",
       "GEN       27\n",
       "NG        12\n",
       "SCD        6\n",
       "WS         6\n",
       "3DO        3\n",
       "TG16       2\n",
       "PCFX       1\n",
       "GG         1\n",
       "Name: platform, dtype: int64"
      ]
     },
     "execution_count": 19,
     "metadata": {},
     "output_type": "execute_result"
    }
   ],
   "source": [
    "df['platform'].value_counts()"
   ]
  },
  {
   "cell_type": "markdown",
   "metadata": {},
   "source": [
    "Посмотрим есть ли неявные дубликаты в столбце \"Жанр игры\"."
   ]
  },
  {
   "cell_type": "code",
   "execution_count": 20,
   "metadata": {
    "scrolled": true
   },
   "outputs": [
    {
     "data": {
      "text/plain": [
       "Action          3307\n",
       "Sports          2306\n",
       "Misc            1721\n",
       "Role-Playing    1481\n",
       "Shooter         1296\n",
       "Adventure       1293\n",
       "Racing          1226\n",
       "Platform         878\n",
       "Simulation       857\n",
       "Fighting         837\n",
       "Strategy         673\n",
       "Puzzle           569\n",
       "Name: genre, dtype: int64"
      ]
     },
     "execution_count": 20,
     "metadata": {},
     "output_type": "execute_result"
    }
   ],
   "source": [
    "df['genre'].value_counts()"
   ]
  },
  {
   "cell_type": "markdown",
   "metadata": {},
   "source": [
    "Все названия жанров уникальны. "
   ]
  },
  {
   "cell_type": "markdown",
   "metadata": {},
   "source": [
    "### Дополнительные расчёты\n",
    "\n",
    "Посчитаем суммарные продажи во всех регионах и запишем их в отдельный столбец \"Общий объем продаж\"."
   ]
  },
  {
   "cell_type": "code",
   "execution_count": 21,
   "metadata": {},
   "outputs": [
    {
     "data": {
      "text/html": [
       "<div>\n",
       "<style scoped>\n",
       "    .dataframe tbody tr th:only-of-type {\n",
       "        vertical-align: middle;\n",
       "    }\n",
       "\n",
       "    .dataframe tbody tr th {\n",
       "        vertical-align: top;\n",
       "    }\n",
       "\n",
       "    .dataframe thead th {\n",
       "        text-align: right;\n",
       "    }\n",
       "</style>\n",
       "<table border=\"1\" class=\"dataframe\">\n",
       "  <thead>\n",
       "    <tr style=\"text-align: right;\">\n",
       "      <th></th>\n",
       "      <th>name</th>\n",
       "      <th>platform</th>\n",
       "      <th>year_of_release</th>\n",
       "      <th>genre</th>\n",
       "      <th>na_sales</th>\n",
       "      <th>eu_sales</th>\n",
       "      <th>jp_sales</th>\n",
       "      <th>other_sales</th>\n",
       "      <th>critic_score</th>\n",
       "      <th>user_score</th>\n",
       "      <th>rating</th>\n",
       "      <th>total_sales</th>\n",
       "    </tr>\n",
       "  </thead>\n",
       "  <tbody>\n",
       "    <tr>\n",
       "      <td>10866</td>\n",
       "      <td>Bladestorm: The Hundred Years' War</td>\n",
       "      <td>X360</td>\n",
       "      <td>2007</td>\n",
       "      <td>Action</td>\n",
       "      <td>0.08</td>\n",
       "      <td>0.01</td>\n",
       "      <td>0.0</td>\n",
       "      <td>0.01</td>\n",
       "      <td>63.0</td>\n",
       "      <td>6.800781</td>\n",
       "      <td>T</td>\n",
       "      <td>0.10</td>\n",
       "    </tr>\n",
       "    <tr>\n",
       "      <td>9376</td>\n",
       "      <td>NHL 2K9</td>\n",
       "      <td>PS2</td>\n",
       "      <td>2008</td>\n",
       "      <td>Sports</td>\n",
       "      <td>0.07</td>\n",
       "      <td>0.05</td>\n",
       "      <td>0.0</td>\n",
       "      <td>0.02</td>\n",
       "      <td>NaN</td>\n",
       "      <td>6.699219</td>\n",
       "      <td>E10+</td>\n",
       "      <td>0.14</td>\n",
       "    </tr>\n",
       "    <tr>\n",
       "      <td>1795</td>\n",
       "      <td>Royal Palace of White Sword and The City of Ge...</td>\n",
       "      <td>PS2</td>\n",
       "      <td>2005</td>\n",
       "      <td>Role-Playing</td>\n",
       "      <td>0.00</td>\n",
       "      <td>0.51</td>\n",
       "      <td>0.0</td>\n",
       "      <td>0.62</td>\n",
       "      <td>NaN</td>\n",
       "      <td>NaN</td>\n",
       "      <td>unknown</td>\n",
       "      <td>1.13</td>\n",
       "    </tr>\n",
       "    <tr>\n",
       "      <td>11603</td>\n",
       "      <td>Horrid Henry's Horrid Adventure</td>\n",
       "      <td>DS</td>\n",
       "      <td>2010</td>\n",
       "      <td>Adventure</td>\n",
       "      <td>0.00</td>\n",
       "      <td>0.07</td>\n",
       "      <td>0.0</td>\n",
       "      <td>0.01</td>\n",
       "      <td>NaN</td>\n",
       "      <td>NaN</td>\n",
       "      <td>unknown</td>\n",
       "      <td>0.08</td>\n",
       "    </tr>\n",
       "    <tr>\n",
       "      <td>4047</td>\n",
       "      <td>Backyard Baseball</td>\n",
       "      <td>PS2</td>\n",
       "      <td>2004</td>\n",
       "      <td>Sports</td>\n",
       "      <td>0.24</td>\n",
       "      <td>0.19</td>\n",
       "      <td>0.0</td>\n",
       "      <td>0.06</td>\n",
       "      <td>NaN</td>\n",
       "      <td>7.199219</td>\n",
       "      <td>E</td>\n",
       "      <td>0.49</td>\n",
       "    </tr>\n",
       "  </tbody>\n",
       "</table>\n",
       "</div>"
      ],
      "text/plain": [
       "                                                    name platform  \\\n",
       "10866                 Bladestorm: The Hundred Years' War     X360   \n",
       "9376                                             NHL 2K9      PS2   \n",
       "1795   Royal Palace of White Sword and The City of Ge...      PS2   \n",
       "11603                    Horrid Henry's Horrid Adventure       DS   \n",
       "4047                                   Backyard Baseball      PS2   \n",
       "\n",
       "       year_of_release         genre  na_sales  eu_sales  jp_sales  \\\n",
       "10866             2007        Action      0.08      0.01       0.0   \n",
       "9376              2008        Sports      0.07      0.05       0.0   \n",
       "1795              2005  Role-Playing      0.00      0.51       0.0   \n",
       "11603             2010     Adventure      0.00      0.07       0.0   \n",
       "4047              2004        Sports      0.24      0.19       0.0   \n",
       "\n",
       "       other_sales  critic_score  user_score   rating  total_sales  \n",
       "10866         0.01          63.0    6.800781        T         0.10  \n",
       "9376          0.02           NaN    6.699219     E10+         0.14  \n",
       "1795          0.62           NaN         NaN  unknown         1.13  \n",
       "11603         0.01           NaN         NaN  unknown         0.08  \n",
       "4047          0.06           NaN    7.199219        E         0.49  "
      ]
     },
     "execution_count": 21,
     "metadata": {},
     "output_type": "execute_result"
    }
   ],
   "source": [
    "df['total_sales'] = df['na_sales'] + df['eu_sales'] + df['jp_sales'] + df['other_sales']\n",
    "df.sample(5)"
   ]
  },
  {
   "cell_type": "markdown",
   "metadata": {},
   "source": [
    "### Вывод\n",
    "\n",
    "В ходе предобработки данных мы обнаружили несколько проблем:\n",
    "\n",
    "- нарушения в стиле заголовков,\n",
    "- пропущенные значения,\n",
    "- некорректный тип данных.\n",
    "\n",
    "Мы исправили заголовки, чтобы упростить работу с таблицей, заменили тип данных. \n",
    "\n",
    "Пропущенные значения в столбцах с оценками пользователей и критиков восстановить достоверно невозможно, данные оставили без изменений.\n",
    "\n",
    "Теперь данные готовы к дальнейшему анализу."
   ]
  },
  {
   "cell_type": "markdown",
   "metadata": {},
   "source": [
    "## Исследовательский анализ данных"
   ]
  },
  {
   "cell_type": "markdown",
   "metadata": {},
   "source": [
    "### Количество выпущенных игр в разные годы"
   ]
  },
  {
   "cell_type": "markdown",
   "metadata": {},
   "source": [
    "Посмотрим сколько игр выпустили в разные годы и насколько важны данные за все периоды. Построим график \"Количество выпущенных игр по годам\"."
   ]
  },
  {
   "cell_type": "code",
   "execution_count": 22,
   "metadata": {},
   "outputs": [
    {
     "data": {
      "image/png": "[encoded data removed]",
      "text/plain": [
       "<Figure size 1080x432 with 1 Axes>"
      ]
     },
     "metadata": {
      "needs_background": "light"
     },
     "output_type": "display_data"
    }
   ],
   "source": [
    "(df.pivot_table(index='year_of_release', values='name', aggfunc='count').plot(kind='bar', figsize=(15, 6)))\n",
    "\n",
    "plt.xlabel('Год выпуска игры')\n",
    "plt.ylabel('Выпущенные игры (шт.)')\n",
    "plt.title('Количество выпущенных игр по данным за 1980-2016 г.г.')\n",
    "plt.show()"
   ]
  },
  {
   "cell_type": "markdown",
   "metadata": {},
   "source": [
    "Как мы видим на графике в 1990-х годах началось активное развитие игровой индустрии - количество выпущенных игр растет с каждым годом, пик популярности приходится на 2008-2009 годы. К 2016 году наблюдаем снижение популярности видеоиг, возможно это связано с развитием индустрии мобильных игр."
   ]
  },
  {
   "cell_type": "markdown",
   "metadata": {},
   "source": [
    "### Изменение продаж по платформам"
   ]
  },
  {
   "cell_type": "markdown",
   "metadata": {},
   "source": [
    "Посмотрим как менялись продажи по платформам, для этого построим график \"Продажи в разбивке по платформам\"."
   ]
  },
  {
   "cell_type": "code",
   "execution_count": 23,
   "metadata": {},
   "outputs": [
    {
     "data": {
      "image/png": "[encoded data removed]",
      "text/plain": [
       "<Figure size 1080x504 with 1 Axes>"
      ]
     },
     "metadata": {
      "needs_background": "light"
     },
     "output_type": "display_data"
    }
   ],
   "source": [
    "platform_sales = df.pivot_table(index='platform', \n",
    "                           values='total_sales', \n",
    "                           aggfunc='sum').sort_values(by='total_sales',ascending=False)\n",
    "platform_sales.plot(kind='bar', figsize=(15, 7))\n",
    "\n",
    "plt.xlabel('Название платформы')\n",
    "plt.ylabel('Количество проданных копий (млн.)')\n",
    "plt.title('Продажи в разбивке по платформам по данным за 1980-2016 г.г.')\n",
    "plt.show()"
   ]
  },
  {
   "cell_type": "markdown",
   "metadata": {},
   "source": [
    "Выберем платформы с наибольшими суммарными продажами."
   ]
  },
  {
   "cell_type": "code",
   "execution_count": 24,
   "metadata": {
    "scrolled": false
   },
   "outputs": [
    {
     "data": {
      "text/html": [
       "<div>\n",
       "<style scoped>\n",
       "    .dataframe tbody tr th:only-of-type {\n",
       "        vertical-align: middle;\n",
       "    }\n",
       "\n",
       "    .dataframe tbody tr th {\n",
       "        vertical-align: top;\n",
       "    }\n",
       "\n",
       "    .dataframe thead th {\n",
       "        text-align: right;\n",
       "    }\n",
       "</style>\n",
       "<table border=\"1\" class=\"dataframe\">\n",
       "  <thead>\n",
       "    <tr style=\"text-align: right;\">\n",
       "      <th></th>\n",
       "      <th>total_sales</th>\n",
       "    </tr>\n",
       "    <tr>\n",
       "      <th>platform</th>\n",
       "      <th></th>\n",
       "    </tr>\n",
       "  </thead>\n",
       "  <tbody>\n",
       "    <tr>\n",
       "      <td>PS2</td>\n",
       "      <td>1233.56</td>\n",
       "    </tr>\n",
       "    <tr>\n",
       "      <td>X360</td>\n",
       "      <td>961.24</td>\n",
       "    </tr>\n",
       "    <tr>\n",
       "      <td>PS3</td>\n",
       "      <td>931.34</td>\n",
       "    </tr>\n",
       "    <tr>\n",
       "      <td>Wii</td>\n",
       "      <td>891.18</td>\n",
       "    </tr>\n",
       "    <tr>\n",
       "      <td>DS</td>\n",
       "      <td>802.78</td>\n",
       "    </tr>\n",
       "    <tr>\n",
       "      <td>PS</td>\n",
       "      <td>727.58</td>\n",
       "    </tr>\n",
       "  </tbody>\n",
       "</table>\n",
       "</div>"
      ],
      "text/plain": [
       "          total_sales\n",
       "platform             \n",
       "PS2           1233.56\n",
       "X360           961.24\n",
       "PS3            931.34\n",
       "Wii            891.18\n",
       "DS             802.78\n",
       "PS             727.58"
      ]
     },
     "execution_count": 24,
     "metadata": {},
     "output_type": "execute_result"
    }
   ],
   "source": [
    "top_platforms = platform_sales.groupby('platform')['total_sales'].agg(sum).sort_values(ascending=False).head(6).reset_index()\n",
    "top_platforms_list = list(top_platforms['platform'])\n",
    "platform_sales.query('platform in @top_platforms_list')"
   ]
  },
  {
   "cell_type": "markdown",
   "metadata": {},
   "source": [
    "Построим график \"Распределение продаж на каждой платформе по годам\"."
   ]
  },
  {
   "cell_type": "code",
   "execution_count": 25,
   "metadata": {
    "scrolled": false
   },
   "outputs": [
    {
     "data": {
      "image/png": "[encoded data removed]",
      "text/plain": [
       "<Figure size 1152x576 with 1 Axes>"
      ]
     },
     "metadata": {
      "needs_background": "light"
     },
     "output_type": "display_data"
    }
   ],
   "source": [
    "df.query('platform in @top_platforms_list').pivot_table(index='year_of_release', columns='platform',\n",
    "                                values='total_sales',aggfunc=(\"sum\")).plot(grid=True,\n",
    "                                    figsize=(16, 8), fontsize=(14))\n",
    "plt.xlabel('Год выпуска игры на платформе')\n",
    "plt.ylabel('Количество проданных копий (млн.)')\n",
    "plt.title('Распределение продаж на каждой платформе по годам')\n",
    "plt.show()"
   ]
  },
  {
   "cell_type": "markdown",
   "metadata": {},
   "source": [
    "Наибольшие суммарные продажи наблюдаем у 6 игровых платформ:\n",
    "1. PS2,\n",
    "2. X360,\n",
    "3. Wii,\n",
    "4. PS3,\n",
    "5. DS,\n",
    "6. PS.\n",
    "\n",
    "Судя по графику, в начале 2000-х годов платформа PS2 была на пике популярности. Далее наблюдаем спад в продажах, связанный скорее всего с выходом игр на новых платформах. \n",
    "\n",
    "Посмотрим за какой актуальный срок появляются и исчезают новые платформы, для этого построим сводную таблицу по названию платформы и по годам, в которых выпускались игры на этой платформе."
   ]
  },
  {
   "cell_type": "code",
   "execution_count": 26,
   "metadata": {
    "scrolled": false
   },
   "outputs": [
    {
     "data": {
      "text/html": [
       "<div>\n",
       "<style scoped>\n",
       "    .dataframe tbody tr th:only-of-type {\n",
       "        vertical-align: middle;\n",
       "    }\n",
       "\n",
       "    .dataframe tbody tr th {\n",
       "        vertical-align: top;\n",
       "    }\n",
       "\n",
       "    .dataframe thead th {\n",
       "        text-align: right;\n",
       "    }\n",
       "</style>\n",
       "<table border=\"1\" class=\"dataframe\">\n",
       "  <thead>\n",
       "    <tr style=\"text-align: right;\">\n",
       "      <th></th>\n",
       "      <th>platform</th>\n",
       "      <th>year_of_release</th>\n",
       "      <th>critic_score</th>\n",
       "      <th>eu_sales</th>\n",
       "      <th>genre</th>\n",
       "      <th>jp_sales</th>\n",
       "      <th>na_sales</th>\n",
       "      <th>name</th>\n",
       "      <th>other_sales</th>\n",
       "      <th>rating</th>\n",
       "      <th>total_sales</th>\n",
       "      <th>user_score</th>\n",
       "    </tr>\n",
       "  </thead>\n",
       "  <tbody>\n",
       "    <tr>\n",
       "      <td>0</td>\n",
       "      <td>2600</td>\n",
       "      <td>1980</td>\n",
       "      <td>0.0</td>\n",
       "      <td>9.0</td>\n",
       "      <td>9.0</td>\n",
       "      <td>9.0</td>\n",
       "      <td>9.0</td>\n",
       "      <td>9.0</td>\n",
       "      <td>9.0</td>\n",
       "      <td>9.0</td>\n",
       "      <td>9.0</td>\n",
       "      <td>0.0</td>\n",
       "    </tr>\n",
       "    <tr>\n",
       "      <td>1</td>\n",
       "      <td>2600</td>\n",
       "      <td>1981</td>\n",
       "      <td>0.0</td>\n",
       "      <td>46.0</td>\n",
       "      <td>46.0</td>\n",
       "      <td>46.0</td>\n",
       "      <td>46.0</td>\n",
       "      <td>46.0</td>\n",
       "      <td>46.0</td>\n",
       "      <td>46.0</td>\n",
       "      <td>46.0</td>\n",
       "      <td>0.0</td>\n",
       "    </tr>\n",
       "    <tr>\n",
       "      <td>2</td>\n",
       "      <td>2600</td>\n",
       "      <td>1982</td>\n",
       "      <td>0.0</td>\n",
       "      <td>36.0</td>\n",
       "      <td>36.0</td>\n",
       "      <td>36.0</td>\n",
       "      <td>36.0</td>\n",
       "      <td>36.0</td>\n",
       "      <td>36.0</td>\n",
       "      <td>36.0</td>\n",
       "      <td>36.0</td>\n",
       "      <td>0.0</td>\n",
       "    </tr>\n",
       "    <tr>\n",
       "      <td>3</td>\n",
       "      <td>2600</td>\n",
       "      <td>1983</td>\n",
       "      <td>0.0</td>\n",
       "      <td>11.0</td>\n",
       "      <td>11.0</td>\n",
       "      <td>11.0</td>\n",
       "      <td>11.0</td>\n",
       "      <td>11.0</td>\n",
       "      <td>11.0</td>\n",
       "      <td>11.0</td>\n",
       "      <td>11.0</td>\n",
       "      <td>0.0</td>\n",
       "    </tr>\n",
       "    <tr>\n",
       "      <td>4</td>\n",
       "      <td>2600</td>\n",
       "      <td>1984</td>\n",
       "      <td>0.0</td>\n",
       "      <td>1.0</td>\n",
       "      <td>1.0</td>\n",
       "      <td>1.0</td>\n",
       "      <td>1.0</td>\n",
       "      <td>1.0</td>\n",
       "      <td>1.0</td>\n",
       "      <td>1.0</td>\n",
       "      <td>1.0</td>\n",
       "      <td>0.0</td>\n",
       "    </tr>\n",
       "    <tr>\n",
       "      <td>...</td>\n",
       "      <td>...</td>\n",
       "      <td>...</td>\n",
       "      <td>...</td>\n",
       "      <td>...</td>\n",
       "      <td>...</td>\n",
       "      <td>...</td>\n",
       "      <td>...</td>\n",
       "      <td>...</td>\n",
       "      <td>...</td>\n",
       "      <td>...</td>\n",
       "      <td>...</td>\n",
       "      <td>...</td>\n",
       "    </tr>\n",
       "    <tr>\n",
       "      <td>233</td>\n",
       "      <td>XB</td>\n",
       "      <td>2008</td>\n",
       "      <td>0.0</td>\n",
       "      <td>1.0</td>\n",
       "      <td>1.0</td>\n",
       "      <td>1.0</td>\n",
       "      <td>1.0</td>\n",
       "      <td>1.0</td>\n",
       "      <td>1.0</td>\n",
       "      <td>1.0</td>\n",
       "      <td>1.0</td>\n",
       "      <td>1.0</td>\n",
       "    </tr>\n",
       "    <tr>\n",
       "      <td>234</td>\n",
       "      <td>XOne</td>\n",
       "      <td>2013</td>\n",
       "      <td>14.0</td>\n",
       "      <td>19.0</td>\n",
       "      <td>19.0</td>\n",
       "      <td>19.0</td>\n",
       "      <td>19.0</td>\n",
       "      <td>19.0</td>\n",
       "      <td>19.0</td>\n",
       "      <td>19.0</td>\n",
       "      <td>19.0</td>\n",
       "      <td>17.0</td>\n",
       "    </tr>\n",
       "    <tr>\n",
       "      <td>235</td>\n",
       "      <td>XOne</td>\n",
       "      <td>2014</td>\n",
       "      <td>43.0</td>\n",
       "      <td>61.0</td>\n",
       "      <td>61.0</td>\n",
       "      <td>61.0</td>\n",
       "      <td>61.0</td>\n",
       "      <td>61.0</td>\n",
       "      <td>61.0</td>\n",
       "      <td>61.0</td>\n",
       "      <td>61.0</td>\n",
       "      <td>44.0</td>\n",
       "    </tr>\n",
       "    <tr>\n",
       "      <td>236</td>\n",
       "      <td>XOne</td>\n",
       "      <td>2015</td>\n",
       "      <td>52.0</td>\n",
       "      <td>80.0</td>\n",
       "      <td>80.0</td>\n",
       "      <td>80.0</td>\n",
       "      <td>80.0</td>\n",
       "      <td>80.0</td>\n",
       "      <td>80.0</td>\n",
       "      <td>80.0</td>\n",
       "      <td>80.0</td>\n",
       "      <td>55.0</td>\n",
       "    </tr>\n",
       "    <tr>\n",
       "      <td>237</td>\n",
       "      <td>XOne</td>\n",
       "      <td>2016</td>\n",
       "      <td>60.0</td>\n",
       "      <td>87.0</td>\n",
       "      <td>87.0</td>\n",
       "      <td>87.0</td>\n",
       "      <td>87.0</td>\n",
       "      <td>87.0</td>\n",
       "      <td>87.0</td>\n",
       "      <td>87.0</td>\n",
       "      <td>87.0</td>\n",
       "      <td>66.0</td>\n",
       "    </tr>\n",
       "  </tbody>\n",
       "</table>\n",
       "<p>238 rows × 12 columns</p>\n",
       "</div>"
      ],
      "text/plain": [
       "    platform  year_of_release  critic_score  eu_sales  genre  jp_sales  \\\n",
       "0       2600             1980           0.0       9.0    9.0       9.0   \n",
       "1       2600             1981           0.0      46.0   46.0      46.0   \n",
       "2       2600             1982           0.0      36.0   36.0      36.0   \n",
       "3       2600             1983           0.0      11.0   11.0      11.0   \n",
       "4       2600             1984           0.0       1.0    1.0       1.0   \n",
       "..       ...              ...           ...       ...    ...       ...   \n",
       "233       XB             2008           0.0       1.0    1.0       1.0   \n",
       "234     XOne             2013          14.0      19.0   19.0      19.0   \n",
       "235     XOne             2014          43.0      61.0   61.0      61.0   \n",
       "236     XOne             2015          52.0      80.0   80.0      80.0   \n",
       "237     XOne             2016          60.0      87.0   87.0      87.0   \n",
       "\n",
       "     na_sales  name  other_sales  rating  total_sales  user_score  \n",
       "0         9.0   9.0          9.0     9.0          9.0         0.0  \n",
       "1        46.0  46.0         46.0    46.0         46.0         0.0  \n",
       "2        36.0  36.0         36.0    36.0         36.0         0.0  \n",
       "3        11.0  11.0         11.0    11.0         11.0         0.0  \n",
       "4         1.0   1.0          1.0     1.0          1.0         0.0  \n",
       "..        ...   ...          ...     ...          ...         ...  \n",
       "233       1.0   1.0          1.0     1.0          1.0         1.0  \n",
       "234      19.0  19.0         19.0    19.0         19.0        17.0  \n",
       "235      61.0  61.0         61.0    61.0         61.0        44.0  \n",
       "236      80.0  80.0         80.0    80.0         80.0        55.0  \n",
       "237      87.0  87.0         87.0    87.0         87.0        66.0  \n",
       "\n",
       "[238 rows x 12 columns]"
      ]
     },
     "execution_count": 26,
     "metadata": {},
     "output_type": "execute_result"
    }
   ],
   "source": [
    "current_term = df.pivot_table(index=('platform','year_of_release'), aggfunc=('count')).reset_index()\n",
    "current_term"
   ]
  },
  {
   "cell_type": "markdown",
   "metadata": {},
   "source": [
    "Теперь сгруппируем данные и узнаем продолжительность жизни каждой из платформ."
   ]
  },
  {
   "cell_type": "code",
   "execution_count": 27,
   "metadata": {},
   "outputs": [
    {
     "data": {
      "text/html": [
       "<div>\n",
       "<style scoped>\n",
       "    .dataframe tbody tr th:only-of-type {\n",
       "        vertical-align: middle;\n",
       "    }\n",
       "\n",
       "    .dataframe tbody tr th {\n",
       "        vertical-align: top;\n",
       "    }\n",
       "\n",
       "    .dataframe thead th {\n",
       "        text-align: right;\n",
       "    }\n",
       "</style>\n",
       "<table border=\"1\" class=\"dataframe\">\n",
       "  <thead>\n",
       "    <tr style=\"text-align: right;\">\n",
       "      <th></th>\n",
       "      <th>platform</th>\n",
       "      <th>year_of_release</th>\n",
       "    </tr>\n",
       "  </thead>\n",
       "  <tbody>\n",
       "    <tr>\n",
       "      <td>0</td>\n",
       "      <td>2600</td>\n",
       "      <td>10</td>\n",
       "    </tr>\n",
       "    <tr>\n",
       "      <td>1</td>\n",
       "      <td>3DO</td>\n",
       "      <td>2</td>\n",
       "    </tr>\n",
       "    <tr>\n",
       "      <td>2</td>\n",
       "      <td>3DS</td>\n",
       "      <td>6</td>\n",
       "    </tr>\n",
       "    <tr>\n",
       "      <td>3</td>\n",
       "      <td>DC</td>\n",
       "      <td>7</td>\n",
       "    </tr>\n",
       "    <tr>\n",
       "      <td>4</td>\n",
       "      <td>DS</td>\n",
       "      <td>11</td>\n",
       "    </tr>\n",
       "    <tr>\n",
       "      <td>5</td>\n",
       "      <td>GB</td>\n",
       "      <td>13</td>\n",
       "    </tr>\n",
       "    <tr>\n",
       "      <td>6</td>\n",
       "      <td>GBA</td>\n",
       "      <td>8</td>\n",
       "    </tr>\n",
       "    <tr>\n",
       "      <td>7</td>\n",
       "      <td>GC</td>\n",
       "      <td>7</td>\n",
       "    </tr>\n",
       "    <tr>\n",
       "      <td>8</td>\n",
       "      <td>GEN</td>\n",
       "      <td>5</td>\n",
       "    </tr>\n",
       "    <tr>\n",
       "      <td>9</td>\n",
       "      <td>GG</td>\n",
       "      <td>1</td>\n",
       "    </tr>\n",
       "    <tr>\n",
       "      <td>10</td>\n",
       "      <td>N64</td>\n",
       "      <td>7</td>\n",
       "    </tr>\n",
       "    <tr>\n",
       "      <td>11</td>\n",
       "      <td>NES</td>\n",
       "      <td>12</td>\n",
       "    </tr>\n",
       "    <tr>\n",
       "      <td>12</td>\n",
       "      <td>NG</td>\n",
       "      <td>4</td>\n",
       "    </tr>\n",
       "    <tr>\n",
       "      <td>13</td>\n",
       "      <td>PC</td>\n",
       "      <td>26</td>\n",
       "    </tr>\n",
       "    <tr>\n",
       "      <td>14</td>\n",
       "      <td>PCFX</td>\n",
       "      <td>1</td>\n",
       "    </tr>\n",
       "    <tr>\n",
       "      <td>15</td>\n",
       "      <td>PS</td>\n",
       "      <td>10</td>\n",
       "    </tr>\n",
       "    <tr>\n",
       "      <td>16</td>\n",
       "      <td>PS2</td>\n",
       "      <td>12</td>\n",
       "    </tr>\n",
       "    <tr>\n",
       "      <td>17</td>\n",
       "      <td>PS3</td>\n",
       "      <td>11</td>\n",
       "    </tr>\n",
       "    <tr>\n",
       "      <td>18</td>\n",
       "      <td>PS4</td>\n",
       "      <td>4</td>\n",
       "    </tr>\n",
       "    <tr>\n",
       "      <td>19</td>\n",
       "      <td>PSP</td>\n",
       "      <td>12</td>\n",
       "    </tr>\n",
       "    <tr>\n",
       "      <td>20</td>\n",
       "      <td>PSV</td>\n",
       "      <td>6</td>\n",
       "    </tr>\n",
       "    <tr>\n",
       "      <td>21</td>\n",
       "      <td>SAT</td>\n",
       "      <td>6</td>\n",
       "    </tr>\n",
       "    <tr>\n",
       "      <td>22</td>\n",
       "      <td>SCD</td>\n",
       "      <td>2</td>\n",
       "    </tr>\n",
       "    <tr>\n",
       "      <td>23</td>\n",
       "      <td>SNES</td>\n",
       "      <td>10</td>\n",
       "    </tr>\n",
       "    <tr>\n",
       "      <td>24</td>\n",
       "      <td>TG16</td>\n",
       "      <td>1</td>\n",
       "    </tr>\n",
       "    <tr>\n",
       "      <td>25</td>\n",
       "      <td>WS</td>\n",
       "      <td>3</td>\n",
       "    </tr>\n",
       "    <tr>\n",
       "      <td>26</td>\n",
       "      <td>Wii</td>\n",
       "      <td>11</td>\n",
       "    </tr>\n",
       "    <tr>\n",
       "      <td>27</td>\n",
       "      <td>WiiU</td>\n",
       "      <td>5</td>\n",
       "    </tr>\n",
       "    <tr>\n",
       "      <td>28</td>\n",
       "      <td>X360</td>\n",
       "      <td>12</td>\n",
       "    </tr>\n",
       "    <tr>\n",
       "      <td>29</td>\n",
       "      <td>XB</td>\n",
       "      <td>9</td>\n",
       "    </tr>\n",
       "    <tr>\n",
       "      <td>30</td>\n",
       "      <td>XOne</td>\n",
       "      <td>4</td>\n",
       "    </tr>\n",
       "  </tbody>\n",
       "</table>\n",
       "</div>"
      ],
      "text/plain": [
       "   platform  year_of_release\n",
       "0      2600               10\n",
       "1       3DO                2\n",
       "2       3DS                6\n",
       "3        DC                7\n",
       "4        DS               11\n",
       "5        GB               13\n",
       "6       GBA                8\n",
       "7        GC                7\n",
       "8       GEN                5\n",
       "9        GG                1\n",
       "10      N64                7\n",
       "11      NES               12\n",
       "12       NG                4\n",
       "13       PC               26\n",
       "14     PCFX                1\n",
       "15       PS               10\n",
       "16      PS2               12\n",
       "17      PS3               11\n",
       "18      PS4                4\n",
       "19      PSP               12\n",
       "20      PSV                6\n",
       "21      SAT                6\n",
       "22      SCD                2\n",
       "23     SNES               10\n",
       "24     TG16                1\n",
       "25       WS                3\n",
       "26      Wii               11\n",
       "27     WiiU                5\n",
       "28     X360               12\n",
       "29       XB                9\n",
       "30     XOne                4"
      ]
     },
     "execution_count": 27,
     "metadata": {},
     "output_type": "execute_result"
    }
   ],
   "source": [
    "current_term = current_term.groupby('platform')['year_of_release'].agg('count').reset_index()\n",
    "current_term"
   ]
  },
  {
   "cell_type": "markdown",
   "metadata": {},
   "source": [
    "Найдем среднее значение - за какой характерный срок появляются новые и исчезают старые платформы."
   ]
  },
  {
   "cell_type": "code",
   "execution_count": 28,
   "metadata": {
    "scrolled": true
   },
   "outputs": [
    {
     "data": {
      "text/plain": [
       "7.0"
      ]
     },
     "execution_count": 28,
     "metadata": {},
     "output_type": "execute_result"
    }
   ],
   "source": [
    "current_term['year_of_release'].median()"
   ]
  },
  {
   "cell_type": "markdown",
   "metadata": {},
   "source": [
    "**Жизненный цикл одной платформы в среднем составляет 7 лет.**\n",
    "С учетом того, что средний жизненный цикл одной платформы составляет 7 лет и что за 2016 год у нас есть неполные данные, возьмём для анализа период с 2013 по 2015 годы включительно. Данные за предыдущие годы учитывать в работе не будем, поэтому создадим отдельную таблицу с данными актуального периода и сохраним её в переменную df_current."
   ]
  },
  {
   "cell_type": "code",
   "execution_count": 29,
   "metadata": {
    "scrolled": false
   },
   "outputs": [
    {
     "data": {
      "text/html": [
       "<div>\n",
       "<style scoped>\n",
       "    .dataframe tbody tr th:only-of-type {\n",
       "        vertical-align: middle;\n",
       "    }\n",
       "\n",
       "    .dataframe tbody tr th {\n",
       "        vertical-align: top;\n",
       "    }\n",
       "\n",
       "    .dataframe thead th {\n",
       "        text-align: right;\n",
       "    }\n",
       "</style>\n",
       "<table border=\"1\" class=\"dataframe\">\n",
       "  <thead>\n",
       "    <tr style=\"text-align: right;\">\n",
       "      <th></th>\n",
       "      <th>name</th>\n",
       "      <th>platform</th>\n",
       "      <th>year_of_release</th>\n",
       "      <th>genre</th>\n",
       "      <th>na_sales</th>\n",
       "      <th>eu_sales</th>\n",
       "      <th>jp_sales</th>\n",
       "      <th>other_sales</th>\n",
       "      <th>critic_score</th>\n",
       "      <th>user_score</th>\n",
       "      <th>rating</th>\n",
       "      <th>total_sales</th>\n",
       "    </tr>\n",
       "  </thead>\n",
       "  <tbody>\n",
       "    <tr>\n",
       "      <td>16</td>\n",
       "      <td>Grand Theft Auto V</td>\n",
       "      <td>PS3</td>\n",
       "      <td>2013</td>\n",
       "      <td>Action</td>\n",
       "      <td>7.02</td>\n",
       "      <td>9.09</td>\n",
       "      <td>0.98</td>\n",
       "      <td>3.96</td>\n",
       "      <td>97.0</td>\n",
       "      <td>8.203125</td>\n",
       "      <td>M</td>\n",
       "      <td>21.05</td>\n",
       "    </tr>\n",
       "    <tr>\n",
       "      <td>23</td>\n",
       "      <td>Grand Theft Auto V</td>\n",
       "      <td>X360</td>\n",
       "      <td>2013</td>\n",
       "      <td>Action</td>\n",
       "      <td>9.66</td>\n",
       "      <td>5.14</td>\n",
       "      <td>0.06</td>\n",
       "      <td>1.41</td>\n",
       "      <td>97.0</td>\n",
       "      <td>8.101562</td>\n",
       "      <td>M</td>\n",
       "      <td>16.27</td>\n",
       "    </tr>\n",
       "    <tr>\n",
       "      <td>31</td>\n",
       "      <td>Call of Duty: Black Ops 3</td>\n",
       "      <td>PS4</td>\n",
       "      <td>2015</td>\n",
       "      <td>Shooter</td>\n",
       "      <td>6.03</td>\n",
       "      <td>5.86</td>\n",
       "      <td>0.36</td>\n",
       "      <td>2.38</td>\n",
       "      <td>NaN</td>\n",
       "      <td>NaN</td>\n",
       "      <td>unknown</td>\n",
       "      <td>14.63</td>\n",
       "    </tr>\n",
       "    <tr>\n",
       "      <td>33</td>\n",
       "      <td>Pokemon X/Pokemon Y</td>\n",
       "      <td>3DS</td>\n",
       "      <td>2013</td>\n",
       "      <td>Role-Playing</td>\n",
       "      <td>5.28</td>\n",
       "      <td>4.19</td>\n",
       "      <td>4.35</td>\n",
       "      <td>0.78</td>\n",
       "      <td>NaN</td>\n",
       "      <td>NaN</td>\n",
       "      <td>unknown</td>\n",
       "      <td>14.60</td>\n",
       "    </tr>\n",
       "    <tr>\n",
       "      <td>42</td>\n",
       "      <td>Grand Theft Auto V</td>\n",
       "      <td>PS4</td>\n",
       "      <td>2014</td>\n",
       "      <td>Action</td>\n",
       "      <td>3.96</td>\n",
       "      <td>6.31</td>\n",
       "      <td>0.38</td>\n",
       "      <td>1.97</td>\n",
       "      <td>97.0</td>\n",
       "      <td>8.296875</td>\n",
       "      <td>M</td>\n",
       "      <td>12.62</td>\n",
       "    </tr>\n",
       "    <tr>\n",
       "      <td>...</td>\n",
       "      <td>...</td>\n",
       "      <td>...</td>\n",
       "      <td>...</td>\n",
       "      <td>...</td>\n",
       "      <td>...</td>\n",
       "      <td>...</td>\n",
       "      <td>...</td>\n",
       "      <td>...</td>\n",
       "      <td>...</td>\n",
       "      <td>...</td>\n",
       "      <td>...</td>\n",
       "      <td>...</td>\n",
       "    </tr>\n",
       "    <tr>\n",
       "      <td>16668</td>\n",
       "      <td>Fujiko F. Fujio Characters: Great Assembly! Sl...</td>\n",
       "      <td>3DS</td>\n",
       "      <td>2014</td>\n",
       "      <td>Action</td>\n",
       "      <td>0.00</td>\n",
       "      <td>0.00</td>\n",
       "      <td>0.01</td>\n",
       "      <td>0.00</td>\n",
       "      <td>NaN</td>\n",
       "      <td>NaN</td>\n",
       "      <td>unknown</td>\n",
       "      <td>0.01</td>\n",
       "    </tr>\n",
       "    <tr>\n",
       "      <td>16674</td>\n",
       "      <td>Tsukigime Ranko's Longest Day</td>\n",
       "      <td>PS3</td>\n",
       "      <td>2014</td>\n",
       "      <td>Action</td>\n",
       "      <td>0.00</td>\n",
       "      <td>0.01</td>\n",
       "      <td>0.00</td>\n",
       "      <td>0.00</td>\n",
       "      <td>NaN</td>\n",
       "      <td>NaN</td>\n",
       "      <td>unknown</td>\n",
       "      <td>0.01</td>\n",
       "    </tr>\n",
       "    <tr>\n",
       "      <td>16682</td>\n",
       "      <td>Grisaia no Kajitsu: La Fruit de la Grisaia</td>\n",
       "      <td>PSP</td>\n",
       "      <td>2013</td>\n",
       "      <td>Adventure</td>\n",
       "      <td>0.00</td>\n",
       "      <td>0.00</td>\n",
       "      <td>0.01</td>\n",
       "      <td>0.00</td>\n",
       "      <td>NaN</td>\n",
       "      <td>NaN</td>\n",
       "      <td>unknown</td>\n",
       "      <td>0.01</td>\n",
       "    </tr>\n",
       "    <tr>\n",
       "      <td>16692</td>\n",
       "      <td>Metal Gear Solid V: Ground Zeroes</td>\n",
       "      <td>PC</td>\n",
       "      <td>2014</td>\n",
       "      <td>Action</td>\n",
       "      <td>0.00</td>\n",
       "      <td>0.01</td>\n",
       "      <td>0.00</td>\n",
       "      <td>0.00</td>\n",
       "      <td>80.0</td>\n",
       "      <td>7.601562</td>\n",
       "      <td>M</td>\n",
       "      <td>0.01</td>\n",
       "    </tr>\n",
       "    <tr>\n",
       "      <td>16707</td>\n",
       "      <td>Aiyoku no Eustia</td>\n",
       "      <td>PSV</td>\n",
       "      <td>2014</td>\n",
       "      <td>Misc</td>\n",
       "      <td>0.00</td>\n",
       "      <td>0.00</td>\n",
       "      <td>0.01</td>\n",
       "      <td>0.00</td>\n",
       "      <td>NaN</td>\n",
       "      <td>NaN</td>\n",
       "      <td>unknown</td>\n",
       "      <td>0.01</td>\n",
       "    </tr>\n",
       "  </tbody>\n",
       "</table>\n",
       "<p>1731 rows × 12 columns</p>\n",
       "</div>"
      ],
      "text/plain": [
       "                                                    name platform  \\\n",
       "16                                    Grand Theft Auto V      PS3   \n",
       "23                                    Grand Theft Auto V     X360   \n",
       "31                             Call of Duty: Black Ops 3      PS4   \n",
       "33                                   Pokemon X/Pokemon Y      3DS   \n",
       "42                                    Grand Theft Auto V      PS4   \n",
       "...                                                  ...      ...   \n",
       "16668  Fujiko F. Fujio Characters: Great Assembly! Sl...      3DS   \n",
       "16674                      Tsukigime Ranko's Longest Day      PS3   \n",
       "16682         Grisaia no Kajitsu: La Fruit de la Grisaia      PSP   \n",
       "16692                  Metal Gear Solid V: Ground Zeroes       PC   \n",
       "16707                                   Aiyoku no Eustia      PSV   \n",
       "\n",
       "       year_of_release         genre  na_sales  eu_sales  jp_sales  \\\n",
       "16                2013        Action      7.02      9.09      0.98   \n",
       "23                2013        Action      9.66      5.14      0.06   \n",
       "31                2015       Shooter      6.03      5.86      0.36   \n",
       "33                2013  Role-Playing      5.28      4.19      4.35   \n",
       "42                2014        Action      3.96      6.31      0.38   \n",
       "...                ...           ...       ...       ...       ...   \n",
       "16668             2014        Action      0.00      0.00      0.01   \n",
       "16674             2014        Action      0.00      0.01      0.00   \n",
       "16682             2013     Adventure      0.00      0.00      0.01   \n",
       "16692             2014        Action      0.00      0.01      0.00   \n",
       "16707             2014          Misc      0.00      0.00      0.01   \n",
       "\n",
       "       other_sales  critic_score  user_score   rating  total_sales  \n",
       "16            3.96          97.0    8.203125        M        21.05  \n",
       "23            1.41          97.0    8.101562        M        16.27  \n",
       "31            2.38           NaN         NaN  unknown        14.63  \n",
       "33            0.78           NaN         NaN  unknown        14.60  \n",
       "42            1.97          97.0    8.296875        M        12.62  \n",
       "...            ...           ...         ...      ...          ...  \n",
       "16668         0.00           NaN         NaN  unknown         0.01  \n",
       "16674         0.00           NaN         NaN  unknown         0.01  \n",
       "16682         0.00           NaN         NaN  unknown         0.01  \n",
       "16692         0.00          80.0    7.601562        M         0.01  \n",
       "16707         0.00           NaN         NaN  unknown         0.01  \n",
       "\n",
       "[1731 rows x 12 columns]"
      ]
     },
     "execution_count": 29,
     "metadata": {},
     "output_type": "execute_result"
    }
   ],
   "source": [
    "df_current = df[(df['year_of_release'] >= 2013) & (df['year_of_release'] <= 2015)]\n",
    "df_current"
   ]
  },
  {
   "cell_type": "markdown",
   "metadata": {},
   "source": [
    "Рассмотрим какие платформы лидируют по продажам, растут или падают."
   ]
  },
  {
   "cell_type": "markdown",
   "metadata": {},
   "source": [
    "### Потенциально прибыльные платформы"
   ]
  },
  {
   "cell_type": "markdown",
   "metadata": {},
   "source": [
    "Построим график \"Продажи в разбивке по платформам\"."
   ]
  },
  {
   "cell_type": "code",
   "execution_count": 30,
   "metadata": {},
   "outputs": [
    {
     "data": {
      "image/png": "[encoded data removed]",
      "text/plain": [
       "<Figure size 1080x576 with 1 Axes>"
      ]
     },
     "metadata": {
      "needs_background": "light"
     },
     "output_type": "display_data"
    }
   ],
   "source": [
    "df_current.pivot_table(index='year_of_release', columns='platform',\n",
    "                                values='total_sales',aggfunc=('sum')).plot(grid=True,\n",
    "                                    figsize=(15, 8), fontsize=(14))\n",
    "plt.xticks([2013, 2014, 2015])\n",
    "plt.xlabel('Год выпуска игры на платформе')\n",
    "plt.ylabel('Количество проданных копий (млн.)')\n",
    "plt.title('Продажи в разбивке по платформам за период 2013-2015 г.г.')\n",
    "plt.show()"
   ]
  },
  {
   "cell_type": "markdown",
   "metadata": {},
   "source": [
    "Как мы видим на графике к 2015 году продажи по всем игровым платформам идут на спад. Это связано и с жизненным циклом платформы и с появлением новых платформ PS4 и XOne, продажи которых стартовали с 22 и 17 млн.проданных копий соответственно. Будем считать эти две платформы потенциально прибыльными, продажи которых продолжат расти."
   ]
  },
  {
   "cell_type": "markdown",
   "metadata": {},
   "source": [
    "### Глобальные продажи игр в разбивке по платформам"
   ]
  },
  {
   "cell_type": "markdown",
   "metadata": {},
   "source": [
    "Построим график \"ящик с усами\" по глобальным продажам игр в разбивке по платформам."
   ]
  },
  {
   "cell_type": "code",
   "execution_count": 31,
   "metadata": {
    "scrolled": false
   },
   "outputs": [
    {
     "data": {
      "image/png": "[encoded data removed]",
      "text/plain": [
       "<Figure size 1080x504 with 1 Axes>"
      ]
     },
     "metadata": {
      "needs_background": "light"
     },
     "output_type": "display_data"
    }
   ],
   "source": [
    "warnings.filterwarnings(\"ignore\", category=np.VisibleDeprecationWarning)\n",
    "\n",
    "df_current.pivot_table(index='name',\n",
    "                      columns='platform', \n",
    "                      values='total_sales',\n",
    "                      aggfunc='sum').plot(kind='box', figsize=(15, 7))\n",
    "\n",
    "plt.xlabel('Название платформы')\n",
    "plt.ylabel('Количество проданных копий (млн.)')\n",
    "plt.title('Глобальные продажи в разбивке по платформам за период 2013-2015 г.г.')\n",
    "plt.show()"
   ]
  },
  {
   "cell_type": "markdown",
   "metadata": {},
   "source": [
    "Как мы видим на графике много значений выбиваются у самых популярных платформ. Ограничим значения по оси У для удобного визуального восприятия."
   ]
  },
  {
   "cell_type": "code",
   "execution_count": 32,
   "metadata": {
    "scrolled": false
   },
   "outputs": [
    {
     "data": {
      "image/png": "[encoded data removed]",
      "text/plain": [
       "<Figure size 1080x504 with 1 Axes>"
      ]
     },
     "metadata": {
      "needs_background": "light"
     },
     "output_type": "display_data"
    }
   ],
   "source": [
    "df_current.pivot_table(index='name',\n",
    "                      columns='platform', \n",
    "                      values='total_sales',\n",
    "                      aggfunc='sum').plot(kind='box', figsize=(15, 7), ylim = (0,3))\n",
    "\n",
    "plt.xlabel('Название платформы')\n",
    "plt.ylabel('Количество проданных копий (млн.)')\n",
    "plt.title('Глобальные продажи в разбивке по платформам за период 2013-2015 г.г.')\n",
    "plt.show()"
   ]
  },
  {
   "cell_type": "markdown",
   "metadata": {},
   "source": [
    "Судя по графику, лидеры по глобальным продажам - PS4, XOne и Wii. Менее популярные платформы: PSP и PSV."
   ]
  },
  {
   "cell_type": "markdown",
   "metadata": {},
   "source": [
    "### Взаимосвязь отзывов и продаж на одной из популярных платформ - PS4"
   ]
  },
  {
   "cell_type": "markdown",
   "metadata": {},
   "source": [
    "Посмотрим как влияют на продажи внутри одной популярной платформы отзывы пользователей и критиков. Для этого сделаем отбор по платформе и сохраним данные в переменную df_PS4."
   ]
  },
  {
   "cell_type": "code",
   "execution_count": 33,
   "metadata": {},
   "outputs": [
    {
     "data": {
      "text/html": [
       "<div>\n",
       "<style scoped>\n",
       "    .dataframe tbody tr th:only-of-type {\n",
       "        vertical-align: middle;\n",
       "    }\n",
       "\n",
       "    .dataframe tbody tr th {\n",
       "        vertical-align: top;\n",
       "    }\n",
       "\n",
       "    .dataframe thead th {\n",
       "        text-align: right;\n",
       "    }\n",
       "</style>\n",
       "<table border=\"1\" class=\"dataframe\">\n",
       "  <thead>\n",
       "    <tr style=\"text-align: right;\">\n",
       "      <th></th>\n",
       "      <th>name</th>\n",
       "      <th>platform</th>\n",
       "      <th>year_of_release</th>\n",
       "      <th>genre</th>\n",
       "      <th>na_sales</th>\n",
       "      <th>eu_sales</th>\n",
       "      <th>jp_sales</th>\n",
       "      <th>other_sales</th>\n",
       "      <th>critic_score</th>\n",
       "      <th>user_score</th>\n",
       "      <th>rating</th>\n",
       "      <th>total_sales</th>\n",
       "    </tr>\n",
       "  </thead>\n",
       "  <tbody>\n",
       "    <tr>\n",
       "      <td>31</td>\n",
       "      <td>Call of Duty: Black Ops 3</td>\n",
       "      <td>PS4</td>\n",
       "      <td>2015</td>\n",
       "      <td>Shooter</td>\n",
       "      <td>6.03</td>\n",
       "      <td>5.86</td>\n",
       "      <td>0.36</td>\n",
       "      <td>2.38</td>\n",
       "      <td>NaN</td>\n",
       "      <td>NaN</td>\n",
       "      <td>unknown</td>\n",
       "      <td>14.63</td>\n",
       "    </tr>\n",
       "    <tr>\n",
       "      <td>42</td>\n",
       "      <td>Grand Theft Auto V</td>\n",
       "      <td>PS4</td>\n",
       "      <td>2014</td>\n",
       "      <td>Action</td>\n",
       "      <td>3.96</td>\n",
       "      <td>6.31</td>\n",
       "      <td>0.38</td>\n",
       "      <td>1.97</td>\n",
       "      <td>97.0</td>\n",
       "      <td>8.296875</td>\n",
       "      <td>M</td>\n",
       "      <td>12.62</td>\n",
       "    </tr>\n",
       "    <tr>\n",
       "      <td>77</td>\n",
       "      <td>FIFA 16</td>\n",
       "      <td>PS4</td>\n",
       "      <td>2015</td>\n",
       "      <td>Sports</td>\n",
       "      <td>1.12</td>\n",
       "      <td>6.12</td>\n",
       "      <td>0.06</td>\n",
       "      <td>1.28</td>\n",
       "      <td>82.0</td>\n",
       "      <td>4.300781</td>\n",
       "      <td>E</td>\n",
       "      <td>8.58</td>\n",
       "    </tr>\n",
       "    <tr>\n",
       "      <td>87</td>\n",
       "      <td>Star Wars Battlefront (2015)</td>\n",
       "      <td>PS4</td>\n",
       "      <td>2015</td>\n",
       "      <td>Shooter</td>\n",
       "      <td>2.99</td>\n",
       "      <td>3.49</td>\n",
       "      <td>0.22</td>\n",
       "      <td>1.28</td>\n",
       "      <td>NaN</td>\n",
       "      <td>NaN</td>\n",
       "      <td>unknown</td>\n",
       "      <td>7.98</td>\n",
       "    </tr>\n",
       "    <tr>\n",
       "      <td>92</td>\n",
       "      <td>Call of Duty: Advanced Warfare</td>\n",
       "      <td>PS4</td>\n",
       "      <td>2014</td>\n",
       "      <td>Shooter</td>\n",
       "      <td>2.81</td>\n",
       "      <td>3.48</td>\n",
       "      <td>0.14</td>\n",
       "      <td>1.23</td>\n",
       "      <td>83.0</td>\n",
       "      <td>5.699219</td>\n",
       "      <td>M</td>\n",
       "      <td>7.66</td>\n",
       "    </tr>\n",
       "    <tr>\n",
       "      <td>...</td>\n",
       "      <td>...</td>\n",
       "      <td>...</td>\n",
       "      <td>...</td>\n",
       "      <td>...</td>\n",
       "      <td>...</td>\n",
       "      <td>...</td>\n",
       "      <td>...</td>\n",
       "      <td>...</td>\n",
       "      <td>...</td>\n",
       "      <td>...</td>\n",
       "      <td>...</td>\n",
       "      <td>...</td>\n",
       "    </tr>\n",
       "    <tr>\n",
       "      <td>15556</td>\n",
       "      <td>Natsuiro High School: Seishun Hakusho</td>\n",
       "      <td>PS4</td>\n",
       "      <td>2015</td>\n",
       "      <td>Action</td>\n",
       "      <td>0.00</td>\n",
       "      <td>0.00</td>\n",
       "      <td>0.02</td>\n",
       "      <td>0.00</td>\n",
       "      <td>NaN</td>\n",
       "      <td>NaN</td>\n",
       "      <td>unknown</td>\n",
       "      <td>0.02</td>\n",
       "    </tr>\n",
       "    <tr>\n",
       "      <td>15762</td>\n",
       "      <td>Rabbids Invasion: The Interactive TV Show</td>\n",
       "      <td>PS4</td>\n",
       "      <td>2014</td>\n",
       "      <td>Misc</td>\n",
       "      <td>0.00</td>\n",
       "      <td>0.01</td>\n",
       "      <td>0.00</td>\n",
       "      <td>0.00</td>\n",
       "      <td>NaN</td>\n",
       "      <td>NaN</td>\n",
       "      <td>unknown</td>\n",
       "      <td>0.01</td>\n",
       "    </tr>\n",
       "    <tr>\n",
       "      <td>15943</td>\n",
       "      <td>Professional Farmer 2016</td>\n",
       "      <td>PS4</td>\n",
       "      <td>2015</td>\n",
       "      <td>Action</td>\n",
       "      <td>0.00</td>\n",
       "      <td>0.01</td>\n",
       "      <td>0.00</td>\n",
       "      <td>0.00</td>\n",
       "      <td>NaN</td>\n",
       "      <td>NaN</td>\n",
       "      <td>unknown</td>\n",
       "      <td>0.01</td>\n",
       "    </tr>\n",
       "    <tr>\n",
       "      <td>16158</td>\n",
       "      <td>Raven's Cry</td>\n",
       "      <td>PS4</td>\n",
       "      <td>2015</td>\n",
       "      <td>Role-Playing</td>\n",
       "      <td>0.00</td>\n",
       "      <td>0.01</td>\n",
       "      <td>0.00</td>\n",
       "      <td>0.00</td>\n",
       "      <td>NaN</td>\n",
       "      <td>NaN</td>\n",
       "      <td>unknown</td>\n",
       "      <td>0.01</td>\n",
       "    </tr>\n",
       "    <tr>\n",
       "      <td>16398</td>\n",
       "      <td>Chaos;Child</td>\n",
       "      <td>PS4</td>\n",
       "      <td>2015</td>\n",
       "      <td>Adventure</td>\n",
       "      <td>0.00</td>\n",
       "      <td>0.00</td>\n",
       "      <td>0.01</td>\n",
       "      <td>0.00</td>\n",
       "      <td>NaN</td>\n",
       "      <td>NaN</td>\n",
       "      <td>unknown</td>\n",
       "      <td>0.01</td>\n",
       "    </tr>\n",
       "  </tbody>\n",
       "</table>\n",
       "<p>228 rows × 12 columns</p>\n",
       "</div>"
      ],
      "text/plain": [
       "                                            name platform  year_of_release  \\\n",
       "31                     Call of Duty: Black Ops 3      PS4             2015   \n",
       "42                            Grand Theft Auto V      PS4             2014   \n",
       "77                                       FIFA 16      PS4             2015   \n",
       "87                  Star Wars Battlefront (2015)      PS4             2015   \n",
       "92                Call of Duty: Advanced Warfare      PS4             2014   \n",
       "...                                          ...      ...              ...   \n",
       "15556      Natsuiro High School: Seishun Hakusho      PS4             2015   \n",
       "15762  Rabbids Invasion: The Interactive TV Show      PS4             2014   \n",
       "15943                   Professional Farmer 2016      PS4             2015   \n",
       "16158                                Raven's Cry      PS4             2015   \n",
       "16398                                Chaos;Child      PS4             2015   \n",
       "\n",
       "              genre  na_sales  eu_sales  jp_sales  other_sales  critic_score  \\\n",
       "31          Shooter      6.03      5.86      0.36         2.38           NaN   \n",
       "42           Action      3.96      6.31      0.38         1.97          97.0   \n",
       "77           Sports      1.12      6.12      0.06         1.28          82.0   \n",
       "87          Shooter      2.99      3.49      0.22         1.28           NaN   \n",
       "92          Shooter      2.81      3.48      0.14         1.23          83.0   \n",
       "...             ...       ...       ...       ...          ...           ...   \n",
       "15556        Action      0.00      0.00      0.02         0.00           NaN   \n",
       "15762          Misc      0.00      0.01      0.00         0.00           NaN   \n",
       "15943        Action      0.00      0.01      0.00         0.00           NaN   \n",
       "16158  Role-Playing      0.00      0.01      0.00         0.00           NaN   \n",
       "16398     Adventure      0.00      0.00      0.01         0.00           NaN   \n",
       "\n",
       "       user_score   rating  total_sales  \n",
       "31            NaN  unknown        14.63  \n",
       "42       8.296875        M        12.62  \n",
       "77       4.300781        E         8.58  \n",
       "87            NaN  unknown         7.98  \n",
       "92       5.699219        M         7.66  \n",
       "...           ...      ...          ...  \n",
       "15556         NaN  unknown         0.02  \n",
       "15762         NaN  unknown         0.01  \n",
       "15943         NaN  unknown         0.01  \n",
       "16158         NaN  unknown         0.01  \n",
       "16398         NaN  unknown         0.01  \n",
       "\n",
       "[228 rows x 12 columns]"
      ]
     },
     "execution_count": 33,
     "metadata": {},
     "output_type": "execute_result"
    }
   ],
   "source": [
    "df_PS4 = df_current[df_current['platform'] == 'PS4']\n",
    "df_PS4"
   ]
  },
  {
   "cell_type": "markdown",
   "metadata": {},
   "source": [
    "Построим диаграмму рассеяния \"Зависимость глобальных продаж игр на платформе PS4 от оценок критиков и пользователей\"."
   ]
  },
  {
   "cell_type": "code",
   "execution_count": 34,
   "metadata": {},
   "outputs": [
    {
     "data": {
      "image/png": "[encoded data removed]",
      "text/plain": [
       "<Figure size 720x360 with 2 Axes>"
      ]
     },
     "metadata": {
      "needs_background": "light"
     },
     "output_type": "display_data"
    }
   ],
   "source": [
    "ax = sns.pairplot(df_PS4,                                \n",
    "                  x_vars=['critic_score','user_score'],    \n",
    "                  y_vars=['total_sales'],\n",
    "                  kind='scatter',\n",
    "                  height=5)\n",
    "\n",
    "plt.title(\"Зависимость глобальных продаж игр на платформе PS4 от отзывов\", size=14)\n",
    "plt.show()"
   ]
  },
  {
   "cell_type": "markdown",
   "metadata": {},
   "source": [
    "Посчитаем коэффициент корреляции Пирсона между отзывами и продажами."
   ]
  },
  {
   "cell_type": "code",
   "execution_count": 35,
   "metadata": {
    "scrolled": false
   },
   "outputs": [
    {
     "data": {
      "text/plain": [
       "total_sales     1.000000\n",
       "critic_score    0.431848\n",
       "user_score      0.024142\n",
       "Name: total_sales, dtype: float64"
      ]
     },
     "execution_count": 35,
     "metadata": {},
     "output_type": "execute_result"
    }
   ],
   "source": [
    "df_PS4[['total_sales', 'critic_score','user_score']].corr()['total_sales']"
   ]
  },
  {
   "cell_type": "markdown",
   "metadata": {},
   "source": [
    "На графике видно, что есть небольшая положительная корреляция между глобальными продажами игр на платформе PS4 и отзывами критиков. Коэффициент корреляции Пирсона, равный 0,43 также подтверждает эту зависимость.\n",
    "А вот между глобальными продажами игр на платформе PS4 и отзывами пользователей корреляцию мы не видим. Это значит, что возможная взаимосвязь носит более сложный нелинейный характер или отсутсвует совсем. Коэффициент корреляции Пирсона в данном случае составляет 0,02."
   ]
  },
  {
   "cell_type": "markdown",
   "metadata": {},
   "source": [
    "### Взаимосвязь отзывов и продаж на остальных платформах"
   ]
  },
  {
   "cell_type": "markdown",
   "metadata": {},
   "source": [
    "Теперь осмотрим как влияют на продажи отзывы пользователей и критиков по остальным платформам. Для этого сделаем отбор по всем платформам, кроме рассмотренной ранее PS4 и сохраним данные в переменную df_other."
   ]
  },
  {
   "cell_type": "code",
   "execution_count": 36,
   "metadata": {},
   "outputs": [
    {
     "data": {
      "text/html": [
       "<div>\n",
       "<style scoped>\n",
       "    .dataframe tbody tr th:only-of-type {\n",
       "        vertical-align: middle;\n",
       "    }\n",
       "\n",
       "    .dataframe tbody tr th {\n",
       "        vertical-align: top;\n",
       "    }\n",
       "\n",
       "    .dataframe thead th {\n",
       "        text-align: right;\n",
       "    }\n",
       "</style>\n",
       "<table border=\"1\" class=\"dataframe\">\n",
       "  <thead>\n",
       "    <tr style=\"text-align: right;\">\n",
       "      <th></th>\n",
       "      <th>name</th>\n",
       "      <th>platform</th>\n",
       "      <th>year_of_release</th>\n",
       "      <th>genre</th>\n",
       "      <th>na_sales</th>\n",
       "      <th>eu_sales</th>\n",
       "      <th>jp_sales</th>\n",
       "      <th>other_sales</th>\n",
       "      <th>critic_score</th>\n",
       "      <th>user_score</th>\n",
       "      <th>rating</th>\n",
       "      <th>total_sales</th>\n",
       "    </tr>\n",
       "  </thead>\n",
       "  <tbody>\n",
       "    <tr>\n",
       "      <td>16</td>\n",
       "      <td>Grand Theft Auto V</td>\n",
       "      <td>PS3</td>\n",
       "      <td>2013</td>\n",
       "      <td>Action</td>\n",
       "      <td>7.02</td>\n",
       "      <td>9.09</td>\n",
       "      <td>0.98</td>\n",
       "      <td>3.96</td>\n",
       "      <td>97.0</td>\n",
       "      <td>8.203125</td>\n",
       "      <td>M</td>\n",
       "      <td>21.05</td>\n",
       "    </tr>\n",
       "    <tr>\n",
       "      <td>23</td>\n",
       "      <td>Grand Theft Auto V</td>\n",
       "      <td>X360</td>\n",
       "      <td>2013</td>\n",
       "      <td>Action</td>\n",
       "      <td>9.66</td>\n",
       "      <td>5.14</td>\n",
       "      <td>0.06</td>\n",
       "      <td>1.41</td>\n",
       "      <td>97.0</td>\n",
       "      <td>8.101562</td>\n",
       "      <td>M</td>\n",
       "      <td>16.27</td>\n",
       "    </tr>\n",
       "    <tr>\n",
       "      <td>33</td>\n",
       "      <td>Pokemon X/Pokemon Y</td>\n",
       "      <td>3DS</td>\n",
       "      <td>2013</td>\n",
       "      <td>Role-Playing</td>\n",
       "      <td>5.28</td>\n",
       "      <td>4.19</td>\n",
       "      <td>4.35</td>\n",
       "      <td>0.78</td>\n",
       "      <td>NaN</td>\n",
       "      <td>NaN</td>\n",
       "      <td>unknown</td>\n",
       "      <td>14.60</td>\n",
       "    </tr>\n",
       "    <tr>\n",
       "      <td>47</td>\n",
       "      <td>Pokemon Omega Ruby/Pokemon Alpha Sapphire</td>\n",
       "      <td>3DS</td>\n",
       "      <td>2014</td>\n",
       "      <td>Role-Playing</td>\n",
       "      <td>4.35</td>\n",
       "      <td>3.49</td>\n",
       "      <td>3.10</td>\n",
       "      <td>0.74</td>\n",
       "      <td>NaN</td>\n",
       "      <td>NaN</td>\n",
       "      <td>unknown</td>\n",
       "      <td>11.68</td>\n",
       "    </tr>\n",
       "    <tr>\n",
       "      <td>60</td>\n",
       "      <td>Call of Duty: Ghosts</td>\n",
       "      <td>X360</td>\n",
       "      <td>2013</td>\n",
       "      <td>Shooter</td>\n",
       "      <td>6.73</td>\n",
       "      <td>2.56</td>\n",
       "      <td>0.04</td>\n",
       "      <td>0.91</td>\n",
       "      <td>73.0</td>\n",
       "      <td>2.599609</td>\n",
       "      <td>M</td>\n",
       "      <td>10.24</td>\n",
       "    </tr>\n",
       "    <tr>\n",
       "      <td>...</td>\n",
       "      <td>...</td>\n",
       "      <td>...</td>\n",
       "      <td>...</td>\n",
       "      <td>...</td>\n",
       "      <td>...</td>\n",
       "      <td>...</td>\n",
       "      <td>...</td>\n",
       "      <td>...</td>\n",
       "      <td>...</td>\n",
       "      <td>...</td>\n",
       "      <td>...</td>\n",
       "      <td>...</td>\n",
       "    </tr>\n",
       "    <tr>\n",
       "      <td>16668</td>\n",
       "      <td>Fujiko F. Fujio Characters: Great Assembly! Sl...</td>\n",
       "      <td>3DS</td>\n",
       "      <td>2014</td>\n",
       "      <td>Action</td>\n",
       "      <td>0.00</td>\n",
       "      <td>0.00</td>\n",
       "      <td>0.01</td>\n",
       "      <td>0.00</td>\n",
       "      <td>NaN</td>\n",
       "      <td>NaN</td>\n",
       "      <td>unknown</td>\n",
       "      <td>0.01</td>\n",
       "    </tr>\n",
       "    <tr>\n",
       "      <td>16674</td>\n",
       "      <td>Tsukigime Ranko's Longest Day</td>\n",
       "      <td>PS3</td>\n",
       "      <td>2014</td>\n",
       "      <td>Action</td>\n",
       "      <td>0.00</td>\n",
       "      <td>0.01</td>\n",
       "      <td>0.00</td>\n",
       "      <td>0.00</td>\n",
       "      <td>NaN</td>\n",
       "      <td>NaN</td>\n",
       "      <td>unknown</td>\n",
       "      <td>0.01</td>\n",
       "    </tr>\n",
       "    <tr>\n",
       "      <td>16682</td>\n",
       "      <td>Grisaia no Kajitsu: La Fruit de la Grisaia</td>\n",
       "      <td>PSP</td>\n",
       "      <td>2013</td>\n",
       "      <td>Adventure</td>\n",
       "      <td>0.00</td>\n",
       "      <td>0.00</td>\n",
       "      <td>0.01</td>\n",
       "      <td>0.00</td>\n",
       "      <td>NaN</td>\n",
       "      <td>NaN</td>\n",
       "      <td>unknown</td>\n",
       "      <td>0.01</td>\n",
       "    </tr>\n",
       "    <tr>\n",
       "      <td>16692</td>\n",
       "      <td>Metal Gear Solid V: Ground Zeroes</td>\n",
       "      <td>PC</td>\n",
       "      <td>2014</td>\n",
       "      <td>Action</td>\n",
       "      <td>0.00</td>\n",
       "      <td>0.01</td>\n",
       "      <td>0.00</td>\n",
       "      <td>0.00</td>\n",
       "      <td>80.0</td>\n",
       "      <td>7.601562</td>\n",
       "      <td>M</td>\n",
       "      <td>0.01</td>\n",
       "    </tr>\n",
       "    <tr>\n",
       "      <td>16707</td>\n",
       "      <td>Aiyoku no Eustia</td>\n",
       "      <td>PSV</td>\n",
       "      <td>2014</td>\n",
       "      <td>Misc</td>\n",
       "      <td>0.00</td>\n",
       "      <td>0.00</td>\n",
       "      <td>0.01</td>\n",
       "      <td>0.00</td>\n",
       "      <td>NaN</td>\n",
       "      <td>NaN</td>\n",
       "      <td>unknown</td>\n",
       "      <td>0.01</td>\n",
       "    </tr>\n",
       "  </tbody>\n",
       "</table>\n",
       "<p>1503 rows × 12 columns</p>\n",
       "</div>"
      ],
      "text/plain": [
       "                                                    name platform  \\\n",
       "16                                    Grand Theft Auto V      PS3   \n",
       "23                                    Grand Theft Auto V     X360   \n",
       "33                                   Pokemon X/Pokemon Y      3DS   \n",
       "47             Pokemon Omega Ruby/Pokemon Alpha Sapphire      3DS   \n",
       "60                                  Call of Duty: Ghosts     X360   \n",
       "...                                                  ...      ...   \n",
       "16668  Fujiko F. Fujio Characters: Great Assembly! Sl...      3DS   \n",
       "16674                      Tsukigime Ranko's Longest Day      PS3   \n",
       "16682         Grisaia no Kajitsu: La Fruit de la Grisaia      PSP   \n",
       "16692                  Metal Gear Solid V: Ground Zeroes       PC   \n",
       "16707                                   Aiyoku no Eustia      PSV   \n",
       "\n",
       "       year_of_release         genre  na_sales  eu_sales  jp_sales  \\\n",
       "16                2013        Action      7.02      9.09      0.98   \n",
       "23                2013        Action      9.66      5.14      0.06   \n",
       "33                2013  Role-Playing      5.28      4.19      4.35   \n",
       "47                2014  Role-Playing      4.35      3.49      3.10   \n",
       "60                2013       Shooter      6.73      2.56      0.04   \n",
       "...                ...           ...       ...       ...       ...   \n",
       "16668             2014        Action      0.00      0.00      0.01   \n",
       "16674             2014        Action      0.00      0.01      0.00   \n",
       "16682             2013     Adventure      0.00      0.00      0.01   \n",
       "16692             2014        Action      0.00      0.01      0.00   \n",
       "16707             2014          Misc      0.00      0.00      0.01   \n",
       "\n",
       "       other_sales  critic_score  user_score   rating  total_sales  \n",
       "16            3.96          97.0    8.203125        M        21.05  \n",
       "23            1.41          97.0    8.101562        M        16.27  \n",
       "33            0.78           NaN         NaN  unknown        14.60  \n",
       "47            0.74           NaN         NaN  unknown        11.68  \n",
       "60            0.91          73.0    2.599609        M        10.24  \n",
       "...            ...           ...         ...      ...          ...  \n",
       "16668         0.00           NaN         NaN  unknown         0.01  \n",
       "16674         0.00           NaN         NaN  unknown         0.01  \n",
       "16682         0.00           NaN         NaN  unknown         0.01  \n",
       "16692         0.00          80.0    7.601562        M         0.01  \n",
       "16707         0.00           NaN         NaN  unknown         0.01  \n",
       "\n",
       "[1503 rows x 12 columns]"
      ]
     },
     "execution_count": 36,
     "metadata": {},
     "output_type": "execute_result"
    }
   ],
   "source": [
    "df_other = df_current[df_current['platform'] != 'PS4']\n",
    "df_other"
   ]
  },
  {
   "cell_type": "markdown",
   "metadata": {},
   "source": [
    "Построим диаграмму рассеяния \"Зависимость глобальных продаж игр от оценок критиков и пользователей на всех платформах, кроме PS4\"."
   ]
  },
  {
   "cell_type": "code",
   "execution_count": 37,
   "metadata": {
    "scrolled": false
   },
   "outputs": [
    {
     "data": {
      "image/png": "[encoded data removed]",
      "text/plain": [
       "<Figure size 720x360 with 2 Axes>"
      ]
     },
     "metadata": {
      "needs_background": "light"
     },
     "output_type": "display_data"
    }
   ],
   "source": [
    "ax = sns.pairplot(df_other,                                \n",
    "                  x_vars=['critic_score','user_score'],    \n",
    "                  y_vars=['total_sales'],\n",
    "                  kind='scatter',\n",
    "                  height=5)\n",
    "\n",
    "plt.title(\"Зависимость глобальных продаж игр от отзывов\", size=14)\n",
    "plt.show()"
   ]
  },
  {
   "cell_type": "markdown",
   "metadata": {},
   "source": [
    "Посчитаем коэффициент корреляции Пирсона между отзывами и продажами по всем платформам, кроме PS4."
   ]
  },
  {
   "cell_type": "code",
   "execution_count": 38,
   "metadata": {},
   "outputs": [
    {
     "data": {
      "text/plain": [
       "total_sales     1.000000\n",
       "critic_score    0.303300\n",
       "user_score     -0.001857\n",
       "Name: total_sales, dtype: float64"
      ]
     },
     "execution_count": 38,
     "metadata": {},
     "output_type": "execute_result"
    }
   ],
   "source": [
    "df_other[['total_sales', 'critic_score','user_score']].corr()['total_sales']"
   ]
  },
  {
   "cell_type": "markdown",
   "metadata": {},
   "source": [
    "На графике видно, что есть слабая положительная корреляция между глобальными продажами игр и отзывами критиков. Коэффициент корреляции Пирсона, равный 0,29 также подтверждает эту зависимость.\n",
    "А вот между глобальными продажами игр и отзывами пользователей корреляцию мы не видим. Это значит, что возможная взаимосвязь носит более сложный нелинейный характер или отсутсвует совсем. Коэффициент корреляции Пирсона в данном случае составляет 0,08.\n",
    "\n",
    "Можем сделать вывод, что оценки критиков и пользователей не имеют существенного влияния на глобальные продажи как на популярной платформе PS4, так и на остальных платформах."
   ]
  },
  {
   "cell_type": "markdown",
   "metadata": {},
   "source": [
    "### Общее распределение игр по жанрам"
   ]
  },
  {
   "cell_type": "markdown",
   "metadata": {},
   "source": [
    "Посмотрим распределение игр по жанрам. Для этого построим график \"Продажи в разбивке по жанрам за период 2009-2015 г.г.\", возьмем для расчета медиану по столбцу \"Общие продажи\"."
   ]
  },
  {
   "cell_type": "code",
   "execution_count": 39,
   "metadata": {
    "scrolled": false
   },
   "outputs": [
    {
     "data": {
      "image/png": "[encoded data removed]",
      "text/plain": [
       "<Figure size 1080x504 with 1 Axes>"
      ]
     },
     "metadata": {
      "needs_background": "light"
     },
     "output_type": "display_data"
    }
   ],
   "source": [
    "df_current.pivot_table(index='genre', \n",
    "                           values='total_sales', \n",
    "                           aggfunc='median').sort_values(by='total_sales',ascending=False).plot(kind='bar', figsize=(15, 7))\n",
    "\n",
    "plt.xlabel('Жанр')\n",
    "plt.ylabel('Количество проданных копий (млн.)')\n",
    "plt.title('Продажи в разбивке по жанрам за период 2013-2015 г.г.')\n",
    "plt.show()"
   ]
  },
  {
   "cell_type": "markdown",
   "metadata": {},
   "source": [
    "Судя по графику самые прибыльные жанры:\n",
    "\n",
    "* Shooter,\n",
    "* Sports,\n",
    "* Platform,\n",
    "* Racing,\n",
    "* Misc.\n",
    "\n",
    "Геймеры всего мира обожают стрелялки (более полумиллиона проданных копий в этом жанре), на втором месте спортивные игры, на третьем - платформеры. В основном предпочитают динамичные, легкие и впечатляющие игры. Стратегии и пазлы оказались наименее прибыльными."
   ]
  },
  {
   "cell_type": "markdown",
   "metadata": {},
   "source": [
    "### Вывод"
   ]
  },
  {
   "cell_type": "markdown",
   "metadata": {},
   "source": [
    "1. После 2011 года наблюдаем спад интереса к компьютерным играм, возможно это связано с развитием рынка мобильных игр. \n",
    "\n",
    "2. В период с  2013 по 2015 г. лидирует PS4. \n",
    "\n",
    "3. Среди жанров самые популярные это стрелялки-шутеры и спортивные игры. \n",
    "\n",
    "4. Отзывы как критиков так и пользователей не имеют значительного влияния на продажи."
   ]
  },
  {
   "cell_type": "markdown",
   "metadata": {},
   "source": [
    "## Портрет пользователя каждого региона: Северная Америка, Европа, Япония"
   ]
  },
  {
   "cell_type": "markdown",
   "metadata": {},
   "source": [
    "### ТОП-5 популярных платформ"
   ]
  },
  {
   "cell_type": "markdown",
   "metadata": {},
   "source": [
    "Определим популярные платформы для каждого региона."
   ]
  },
  {
   "cell_type": "code",
   "execution_count": 40,
   "metadata": {},
   "outputs": [
    {
     "data": {
      "image/png": "[encoded data removed]",
      "text/plain": [
       "<Figure size 1224x360 with 3 Axes>"
      ]
     },
     "metadata": {
      "needs_background": "light"
     },
     "output_type": "display_data"
    }
   ],
   "source": [
    "fig = plt.figure(figsize = (17, 5))\n",
    "fig.suptitle('ТОП-5 популярных платформ по регионам по данным за 2013-2015 г.г.', fontsize=15, y=1)\n",
    "\n",
    "ax_1 = fig.add_subplot(1, 3, 1)\n",
    "ax_2 = fig.add_subplot(1, 3, 2)\n",
    "ax_3 = fig.add_subplot(1, 3, 3)\n",
    "\n",
    "ax_1.set(title = 'Популярные платформы Северной Америки')\n",
    "ax_1.set(xlabel = 'Платформа')\n",
    "ax_1.set(ylabel = 'Количество проданных копий (млн.)')\n",
    "ax_2.set(title = 'Популярные платформы Европы')\n",
    "ax_3.set(title = 'Популярные платформы Японии')\n",
    "\n",
    "df_current.pivot_table(index='platform', values='na_sales', aggfunc='median').sort_values(by='na_sales', \n",
    "                                                  ascending=False).head(5).plot(kind='bar', y='na_sales', ax=ax_1)\n",
    "df_current.pivot_table(index='platform', values='eu_sales', aggfunc='median').sort_values(by='eu_sales', \n",
    "                                                  ascending=False).head(5).plot(kind='bar', y='eu_sales', ax=ax_2)      \n",
    "df_current.pivot_table(index='platform', values='jp_sales', aggfunc='median').sort_values(by='jp_sales', \n",
    "                                                  ascending=False).head(5).plot(kind='bar', y='jp_sales', ax=ax_3)                                   \n",
    "                                   \n",
    "plt.show()\n"
   ]
  },
  {
   "cell_type": "markdown",
   "metadata": {},
   "source": [
    "На американском рынке лидером является XOne, на втором месте X360, далее PS4, WiiU и PS3.\n",
    "\n",
    "В Европе с небольшим отрывом лидером становится PS4, на втором месте XOne, на третьем X360 и четвертое место, можно сказать делят DS и Wii.\n",
    "\n",
    "На японском рынке ситуация отличается сильнее: возглавляет пятерку лидеров 3DS с суммарными продажами почти в три раза больше, чем у PS3 и PSV, расположенных на втором  и третьем месте соответственно. Популярная в Америке XOne даже не вошла в пятерку лидеров Японии. А вот популярная в Европе PS4 делит четвертое место с PSP среди японских геймеров."
   ]
  },
  {
   "cell_type": "markdown",
   "metadata": {},
   "source": [
    "### ТОП-5 популярных жанров"
   ]
  },
  {
   "cell_type": "markdown",
   "metadata": {},
   "source": [
    "Рассмотрим теперь лидеров по жанрам в разных регионах."
   ]
  },
  {
   "cell_type": "code",
   "execution_count": 41,
   "metadata": {
    "scrolled": false
   },
   "outputs": [
    {
     "data": {
      "image/png": "[encoded data removed]",
      "text/plain": [
       "<Figure size 1224x360 with 3 Axes>"
      ]
     },
     "metadata": {
      "needs_background": "light"
     },
     "output_type": "display_data"
    }
   ],
   "source": [
    "fig = plt.figure(figsize = (17, 5))\n",
    "fig.suptitle('ТОП-5 популярных жанров по регионам по данным за 2013-2015 г.', fontsize=15, y=1)\n",
    "\n",
    "ax_1 = fig.add_subplot(1, 3, 1)\n",
    "ax_2 = fig.add_subplot(1, 3, 2)\n",
    "ax_3 = fig.add_subplot(1, 3, 3)\n",
    "\n",
    "ax_1.set(title = 'Популярные жанры Северной Америки')\n",
    "ax_1.set(xlabel = 'Жанр игры')\n",
    "ax_1.set(ylabel = 'Продажи')\n",
    "ax_2.set(title = 'Популярные жанры Европы')\n",
    "ax_3.set(title = 'Популярные жанры Японии')\n",
    "\n",
    "df_current.pivot_table(index='genre', values='na_sales', aggfunc='median').sort_values(by='na_sales', \n",
    "                                                  ascending=False).head(5).plot(kind='bar', y='na_sales', ax=ax_1)\n",
    "df_current.pivot_table(index='genre', values='eu_sales', aggfunc='median').sort_values(by='eu_sales', \n",
    "                                                  ascending=False).head(5).plot(kind='bar', y='eu_sales', ax=ax_2)      \n",
    "df_current.pivot_table(index='genre', values='jp_sales', aggfunc='median').sort_values(by='jp_sales', \n",
    "                                                  ascending=False).head(5).plot(kind='bar', y='jp_sales', ax=ax_3)                                   \n",
    "                                   \n",
    "plt.show()\n"
   ]
  },
  {
   "cell_type": "markdown",
   "metadata": {},
   "source": [
    "На америнском и европейском рынках пользователи предпочитают стрелялки, а вот в Японии картина совсем другая - лидером являются ролевые игры. Менее популярные жанры в Америке - платформеры, спортивные игры, а драки и гонки закрывают пятерку лидеров.\n",
    "\n",
    "В Еврое платформеры и гонки одинаково популярны, за ними следуют симуляции и спортивные игры. \n",
    "\n",
    "В Японии предпочтения более разношерстные - драки и пазлы примерно на одном уровне, и менее популярны аркады и экшн."
   ]
  },
  {
   "cell_type": "markdown",
   "metadata": {},
   "source": [
    "### Влияние рейтинга ESRB на продажи в отдельном регионе"
   ]
  },
  {
   "cell_type": "markdown",
   "metadata": {},
   "source": [
    "Посмотрим влияет ли рейтинг ESRB на продажи в отдельном регионе."
   ]
  },
  {
   "cell_type": "code",
   "execution_count": 42,
   "metadata": {
    "scrolled": false
   },
   "outputs": [
    {
     "data": {
      "image/png": "[encoded data removed]",
      "text/plain": [
       "<Figure size 1296x432 with 3 Axes>"
      ]
     },
     "metadata": {
      "needs_background": "light"
     },
     "output_type": "display_data"
    }
   ],
   "source": [
    "fig = plt.figure(figsize = (18, 6))\n",
    "fig.suptitle('Влияние рейтинга ESRB на продажи в регионах', fontsize=15, y=1)\n",
    "\n",
    "ax_1 = fig.add_subplot(1, 3, 1)\n",
    "ax_2 = fig.add_subplot(1, 3, 2)\n",
    "ax_3 = fig.add_subplot(1, 3, 3)\n",
    "\n",
    "ax_1.set(title = 'Продажи игр в Северной Америки')\n",
    "ax_1.set(ylabel = 'Продажи')\n",
    "\n",
    "ax_2.set(title = 'Продажи игр в Европе')\n",
    "ax_2.set(ylabel = 'Продажи')\n",
    "\n",
    "ax_3.set(title = 'Продажи игр в Японии')\n",
    "ax_3.set(ylabel = 'Продажи')\n",
    "\n",
    "df_current.pivot_table(index='rating', values='na_sales', aggfunc='median').plot(kind='bar', y='na_sales', ax=ax_1)\n",
    "df_current.pivot_table(index='rating', values='eu_sales', aggfunc='median').plot(kind='bar', y='eu_sales', ax=ax_2)      \n",
    "df_current.pivot_table(index='rating', values='jp_sales', aggfunc='median').plot(kind='bar', y='jp_sales', ax=ax_3)                                   \n",
    "\n",
    "plt.show()\n"
   ]
  },
  {
   "cell_type": "markdown",
   "metadata": {},
   "source": [
    "Пользователи из Европы и Америки снова предпочитают схожие по рейтингу игры. А в Японии снова неожиданные результаты. Игры с рейтингом \"Для взрослых\" лидируют в Европе и Америке, следом идут игры с рейтингом \"Для всех старше 10 лет\". В Японии же одинаковы по популярности игры без рейтинга, который мы отметили \"unlnown\" и игры для подростков."
   ]
  },
  {
   "cell_type": "markdown",
   "metadata": {},
   "source": [
    "### Вывод"
   ]
  },
  {
   "cell_type": "markdown",
   "metadata": {},
   "source": [
    "По результатам исследования мы видим сходство между европейскими и американскими игроками и существенные отличия от японских любителей компьютерных игр. Вероятнее всего это можно объяснить культурными отличиями страны и особенностями менталита."
   ]
  },
  {
   "cell_type": "markdown",
   "metadata": {},
   "source": [
    "## Проверка гипотез"
   ]
  },
  {
   "cell_type": "markdown",
   "metadata": {},
   "source": [
    "Поверим гипотезу \"Средние пользовательские рейтинги платформ Xbox One и PC одинаковые\". Для этого сформулируем нулевую гипотезу, исходя из равенства средних двух генеральных совокупностей:\n",
    "\n",
    "Н0: Средний пользовательский рейтинг платформ Xbox One и PC не различается,  \n",
    "H1: Средний пользовательский рейтинг платформ Xbox One и PC различается.\n",
    "\n",
    "Для проверки гипотезы используем специальный метод - t-тест, который не требует нормального распределения для генеральных совокупностей."
   ]
  },
  {
   "cell_type": "code",
   "execution_count": 43,
   "metadata": {
    "scrolled": true
   },
   "outputs": [
    {
     "name": "stdout",
     "output_type": "stream",
     "text": [
      "p-значение:  0.2881578219297118\n",
      "Не получилось отвергнуть нулевую гипотезу\n"
     ]
    }
   ],
   "source": [
    "df_xone = df_current[(df_current['platform'] == 'XOne')&(df_current['user_score'] >= 0)]\n",
    "df_pc = df_current[(df_current['platform'] == 'PC')&(df_current['user_score'] >= 0)]\n",
    "\n",
    "alpha = .05\n",
    "results = st.ttest_ind(df_xone['user_score'], df_pc['user_score'], equal_var=False)\n",
    "\n",
    "print('p-значение: ', results.pvalue)\n",
    "\n",
    "if results.pvalue < alpha:\n",
    "    print(\"Отвергаем нулевую гипотезу\")\n",
    "else:\n",
    "    print(\"Не получилось отвергнуть нулевую гипотезу\") "
   ]
  },
  {
   "cell_type": "markdown",
   "metadata": {},
   "source": [
    "Статистически у нас есть основания предполагать, что нулевая гипотеза верна, а значит средний пользовательский рейтинг платформы Xbox One совпадает с рейтингом платформы PC.\n",
    "\n",
    "Поверим теперь гипотезу \"Средние пользовательские рейтинги жанров Action и Sports разные\". Для этого сформулируем нулевую гипотезу, исходя из равенства средних двух генеральных совокупностей:\n",
    "\n",
    "Н0: Средний пользовательский рейтинг жанров Action и Sports не различается,  \n",
    "H1: Средний пользовательский рейтинг жанров Action и Sports различается.\n",
    "\n",
    "Для проверки гипотезы используем специальный метод - t-тест, который не требует нормального распределения для генеральных совокупностей."
   ]
  },
  {
   "cell_type": "code",
   "execution_count": 44,
   "metadata": {
    "scrolled": false
   },
   "outputs": [
    {
     "name": "stdout",
     "output_type": "stream",
     "text": [
      "p-значение:  3.3508080447599743e-19\n",
      "Отвергаем нулевую гипотезу\n"
     ]
    }
   ],
   "source": [
    "df_action = df_current[(df_current['genre'] == 'Action')&(df_current['user_score'] >= 0)]\n",
    "df_sports = df_current[(df_current['genre'] == 'Sports')&(df_current['user_score'] >= 0)]\n",
    "\n",
    "alpha = .05\n",
    "results = st.ttest_ind(df_action['user_score'], df_sports['user_score'], equal_var=False)\n",
    "\n",
    "print('p-значение: ', results.pvalue)\n",
    "\n",
    "if results.pvalue < alpha:\n",
    "    print(\"Отвергаем нулевую гипотезу\")\n",
    "else:\n",
    "    print(\"Не получилось отвергнуть нулевую гипотезу\") "
   ]
  },
  {
   "cell_type": "markdown",
   "metadata": {},
   "source": [
    "Статистически у нас есть основания предполагать, что нулевая гипотеза не верна, а значит средний пользовательский рейтинг жанра Action отличается от рейтинга жанра Sports."
   ]
  },
  {
   "cell_type": "markdown",
   "metadata": {},
   "source": [
    "## Общий вывод"
   ]
  },
  {
   "cell_type": "markdown",
   "metadata": {},
   "source": [
    "Объект нашего исследования - исторические данные интернет-магазина \"Стримчик\" о продажах игр, оценки пользователей и экспертов, жанры и платформы.\n",
    "\n",
    "Предобработка данных обнаружила 3 проблемы:\n",
    "1. нарушения в стиле заголовков,\n",
    "2. пропущенные значения,\n",
    "3. некорректный тип данных.\n",
    "\n",
    "Самые критичные ошибки данных мы исправили:\n",
    "* привели названия столбцов к нижнему регистру, \n",
    "* поменяли типы данных.\n",
    "\n",
    "Сделали дополнительные расчёты и добавили их в столбец \"Общий объём продаж\".\n",
    "\n",
    "Таким образом, исследование проводили в 5 этапов:\n",
    " 1. Обзор данных.\n",
    " 2. Предобработка данных.\n",
    " 3. Исследовательский анализ данных.\n",
    " 4. Составление портрета аудитории для разных регионов.\n",
    " 5. Проверка гипотез.\n",
    "\n",
    "По результатам исследования данных о продажах компьютерных игр, мы установили, что:\n",
    "* Рынок компьютерных игр развивается с 80-х годов, активный рост пришелся на середину 90-х годов, что связано с развитием технологий, сопутствующих компьютерным играм. В 2000-х в индустрии компьютерных игр нет стабильности, новые компании неожиданно появляются на рынке и также быстро исчезают с него. Значительный спад в продажах компьютерных игр наблюдается с 2011 года, что вероятно связано с развитием игр для мобильных платформ.\n",
    "* Потенциально популярные платформы - PS4 и XOne.\n",
    "* Оценки критиков и пользователей не имеют сильного влияния на продажи.\n",
    "* Самые популярные жанры - Action и Shooter, а самые непопулярные жанры - Puzzle и Strategy.\n",
    "\n",
    "Выводы по результатам составления портретов пользовательской аудитории:\n",
    "1. наибольшие продажи приходятся на Северную Америку, здесь самая популярная платформа - X360, самый популярнй жанр - Action;\n",
    "2. в Европе игроки предпочитают платформу PS3 и также как в Америке популярный жанр это Action;\n",
    "3. Японцы же выбирают игровую платформу 3DS и их любимый жанр - Role-Playing.\n",
    "\n",
    "Подведём итоги нашей работы - несколько рекомендаций для интернет-магазина \"Стримчик\":\n",
    "* следить за актуальностью платформы, на которой выходит игра (PS4, XOne);\n",
    "* на сайте и в рекламных кампаниях сделать акцент на популярные жанры - экшен, шутеры, спортивные и ролевые игры,\n",
    "* учитывать географическое положение игроков, так пользователи из Японии имеют иные предпочтения, чем в Европе и Америке."
   ]
  }
 ],
 "metadata": {
  "ExecuteTimeLog": [
   {
    "duration": 1442,
    "start_time": "2022-02-09T06:19:06.483Z"
   },
   {
    "duration": 68,
    "start_time": "2022-02-09T06:19:35.499Z"
   },
   {
    "duration": 18,
    "start_time": "2022-02-09T06:20:09.290Z"
   },
   {
    "duration": 41,
    "start_time": "2022-02-09T06:20:33.491Z"
   },
   {
    "duration": 122,
    "start_time": "2022-02-09T06:20:44.671Z"
   },
   {
    "duration": 208,
    "start_time": "2022-02-09T06:20:48.754Z"
   },
   {
    "duration": 5,
    "start_time": "2022-02-09T06:25:04.343Z"
   },
   {
    "duration": 4,
    "start_time": "2022-02-09T06:25:42.813Z"
   },
   {
    "duration": 32,
    "start_time": "2022-02-09T06:25:55.879Z"
   },
   {
    "duration": 11,
    "start_time": "2022-02-09T06:29:11.762Z"
   },
   {
    "duration": 20,
    "start_time": "2022-02-09T06:29:40.656Z"
   },
   {
    "duration": 21,
    "start_time": "2022-02-09T06:29:46.553Z"
   },
   {
    "duration": 19,
    "start_time": "2022-02-09T06:30:23.680Z"
   },
   {
    "duration": 25,
    "start_time": "2022-02-09T06:30:49.288Z"
   },
   {
    "duration": 20,
    "start_time": "2022-02-09T06:31:19.319Z"
   },
   {
    "duration": 22,
    "start_time": "2022-02-09T06:31:42.671Z"
   },
   {
    "duration": 12,
    "start_time": "2022-02-09T06:32:03.903Z"
   },
   {
    "duration": 20,
    "start_time": "2022-02-09T06:32:23.895Z"
   },
   {
    "duration": 41,
    "start_time": "2022-02-09T06:33:07.478Z"
   },
   {
    "duration": 106,
    "start_time": "2022-02-09T06:33:25.077Z"
   },
   {
    "duration": 23,
    "start_time": "2022-02-09T06:33:43.572Z"
   },
   {
    "duration": 9,
    "start_time": "2022-02-09T06:34:04.749Z"
   },
   {
    "duration": 6,
    "start_time": "2022-02-09T06:34:46.540Z"
   },
   {
    "duration": 508,
    "start_time": "2022-02-09T06:34:59.868Z"
   },
   {
    "duration": 670,
    "start_time": "2022-02-09T06:35:09.732Z"
   },
   {
    "duration": 621,
    "start_time": "2022-02-09T06:35:33.323Z"
   },
   {
    "duration": 23,
    "start_time": "2022-02-09T06:35:41.882Z"
   },
   {
    "duration": 930,
    "start_time": "2022-02-09T06:35:50.187Z"
   },
   {
    "duration": 188,
    "start_time": "2022-02-09T06:58:48.035Z"
   },
   {
    "duration": 196,
    "start_time": "2022-02-09T06:59:26.513Z"
   },
   {
    "duration": 867,
    "start_time": "2022-02-09T07:11:33.045Z"
   },
   {
    "duration": 251,
    "start_time": "2022-02-09T07:11:53.555Z"
   },
   {
    "duration": 1257,
    "start_time": "2022-02-09T07:14:19.646Z"
   },
   {
    "duration": 1083,
    "start_time": "2022-02-09T07:14:49.065Z"
   },
   {
    "duration": 1026,
    "start_time": "2022-02-09T07:15:02.889Z"
   },
   {
    "duration": 1470,
    "start_time": "2022-02-09T07:15:46.433Z"
   },
   {
    "duration": 1076,
    "start_time": "2022-02-09T07:15:59.479Z"
   },
   {
    "duration": 1528,
    "start_time": "2022-02-09T07:18:18.774Z"
   },
   {
    "duration": 1081,
    "start_time": "2022-02-09T07:18:29.981Z"
   },
   {
    "duration": 10847,
    "start_time": "2022-02-09T07:18:41.796Z"
   },
   {
    "duration": 348,
    "start_time": "2022-02-09T07:29:32.872Z"
   },
   {
    "duration": 356,
    "start_time": "2022-02-09T07:36:33.938Z"
   },
   {
    "duration": 10107,
    "start_time": "2022-02-09T08:33:52.448Z"
   },
   {
    "duration": 1485,
    "start_time": "2022-02-09T08:34:13.100Z"
   },
   {
    "duration": 89,
    "start_time": "2022-02-09T08:34:14.588Z"
   },
   {
    "duration": 19,
    "start_time": "2022-02-09T08:34:14.681Z"
   },
   {
    "duration": 86,
    "start_time": "2022-02-09T08:34:14.704Z"
   },
   {
    "duration": 1825,
    "start_time": "2022-02-09T08:34:14.793Z"
   },
   {
    "duration": -191,
    "start_time": "2022-02-09T08:34:16.813Z"
   },
   {
    "duration": -192,
    "start_time": "2022-02-09T08:34:16.815Z"
   },
   {
    "duration": -193,
    "start_time": "2022-02-09T08:34:16.817Z"
   },
   {
    "duration": -192,
    "start_time": "2022-02-09T08:34:16.818Z"
   },
   {
    "duration": -192,
    "start_time": "2022-02-09T08:34:16.819Z"
   },
   {
    "duration": -211,
    "start_time": "2022-02-09T08:34:16.839Z"
   },
   {
    "duration": -214,
    "start_time": "2022-02-09T08:34:16.843Z"
   },
   {
    "duration": -214,
    "start_time": "2022-02-09T08:34:16.845Z"
   },
   {
    "duration": -214,
    "start_time": "2022-02-09T08:34:16.846Z"
   },
   {
    "duration": -215,
    "start_time": "2022-02-09T08:34:16.848Z"
   },
   {
    "duration": -215,
    "start_time": "2022-02-09T08:34:16.850Z"
   },
   {
    "duration": -216,
    "start_time": "2022-02-09T08:34:16.852Z"
   },
   {
    "duration": -221,
    "start_time": "2022-02-09T08:34:16.858Z"
   },
   {
    "duration": -201,
    "start_time": "2022-02-09T08:34:16.859Z"
   },
   {
    "duration": -201,
    "start_time": "2022-02-09T08:34:16.861Z"
   },
   {
    "duration": -201,
    "start_time": "2022-02-09T08:34:16.862Z"
   },
   {
    "duration": -201,
    "start_time": "2022-02-09T08:34:16.863Z"
   },
   {
    "duration": -201,
    "start_time": "2022-02-09T08:34:16.865Z"
   },
   {
    "duration": -202,
    "start_time": "2022-02-09T08:34:16.867Z"
   },
   {
    "duration": -204,
    "start_time": "2022-02-09T08:34:16.870Z"
   },
   {
    "duration": -207,
    "start_time": "2022-02-09T08:34:16.875Z"
   },
   {
    "duration": -208,
    "start_time": "2022-02-09T08:34:16.877Z"
   },
   {
    "duration": 1416,
    "start_time": "2022-02-09T08:34:42.204Z"
   },
   {
    "duration": 68,
    "start_time": "2022-02-09T08:34:43.622Z"
   },
   {
    "duration": 13,
    "start_time": "2022-02-09T08:34:43.693Z"
   },
   {
    "duration": 57,
    "start_time": "2022-02-09T08:34:43.709Z"
   },
   {
    "duration": 3,
    "start_time": "2022-02-09T08:34:43.768Z"
   },
   {
    "duration": 626,
    "start_time": "2022-02-09T08:34:43.773Z"
   },
   {
    "duration": 3,
    "start_time": "2022-02-09T08:34:44.402Z"
   },
   {
    "duration": 6,
    "start_time": "2022-02-09T08:34:44.408Z"
   },
   {
    "duration": 56,
    "start_time": "2022-02-09T08:34:44.416Z"
   },
   {
    "duration": 11,
    "start_time": "2022-02-09T08:34:44.474Z"
   },
   {
    "duration": 19,
    "start_time": "2022-02-09T08:34:44.488Z"
   },
   {
    "duration": 50,
    "start_time": "2022-02-09T08:34:44.510Z"
   },
   {
    "duration": 22,
    "start_time": "2022-02-09T08:34:44.563Z"
   },
   {
    "duration": 17,
    "start_time": "2022-02-09T08:34:44.588Z"
   },
   {
    "duration": 13,
    "start_time": "2022-02-09T08:34:44.607Z"
   },
   {
    "duration": 9,
    "start_time": "2022-02-09T08:34:44.660Z"
   },
   {
    "duration": 16,
    "start_time": "2022-02-09T08:34:44.672Z"
   },
   {
    "duration": 40,
    "start_time": "2022-02-09T08:34:44.690Z"
   },
   {
    "duration": 31,
    "start_time": "2022-02-09T08:34:44.759Z"
   },
   {
    "duration": 28,
    "start_time": "2022-02-09T08:34:44.793Z"
   },
   {
    "duration": 39,
    "start_time": "2022-02-09T08:34:44.824Z"
   },
   {
    "duration": 6,
    "start_time": "2022-02-09T08:34:44.866Z"
   },
   {
    "duration": 454,
    "start_time": "2022-02-09T08:34:44.877Z"
   },
   {
    "duration": 675,
    "start_time": "2022-02-09T08:34:45.334Z"
   },
   {
    "duration": 672,
    "start_time": "2022-02-09T08:34:46.011Z"
   },
   {
    "duration": 22,
    "start_time": "2022-02-09T08:34:46.685Z"
   },
   {
    "duration": 493,
    "start_time": "2022-02-09T08:34:46.710Z"
   },
   {
    "duration": 26484,
    "start_time": "2022-02-09T08:35:31.650Z"
   },
   {
    "duration": 1681,
    "start_time": "2022-02-09T08:36:02.478Z"
   },
   {
    "duration": 68,
    "start_time": "2022-02-09T08:36:04.162Z"
   },
   {
    "duration": 25,
    "start_time": "2022-02-09T08:36:04.234Z"
   },
   {
    "duration": 43,
    "start_time": "2022-02-09T08:36:04.262Z"
   },
   {
    "duration": 3,
    "start_time": "2022-02-09T08:36:04.308Z"
   },
   {
    "duration": 463,
    "start_time": "2022-02-09T08:36:04.313Z"
   },
   {
    "duration": 3,
    "start_time": "2022-02-09T08:36:04.778Z"
   },
   {
    "duration": 9,
    "start_time": "2022-02-09T08:36:04.785Z"
   },
   {
    "duration": 33,
    "start_time": "2022-02-09T08:36:04.798Z"
   },
   {
    "duration": 38,
    "start_time": "2022-02-09T08:36:04.833Z"
   },
   {
    "duration": 22,
    "start_time": "2022-02-09T08:36:04.873Z"
   },
   {
    "duration": 22,
    "start_time": "2022-02-09T08:36:04.898Z"
   },
   {
    "duration": 23,
    "start_time": "2022-02-09T08:36:04.960Z"
   },
   {
    "duration": 19,
    "start_time": "2022-02-09T08:36:04.985Z"
   },
   {
    "duration": 15,
    "start_time": "2022-02-09T08:36:05.006Z"
   },
   {
    "duration": 49,
    "start_time": "2022-02-09T08:36:05.023Z"
   },
   {
    "duration": 23,
    "start_time": "2022-02-09T08:36:05.074Z"
   },
   {
    "duration": 85,
    "start_time": "2022-02-09T08:36:05.100Z"
   },
   {
    "duration": 82,
    "start_time": "2022-02-09T08:36:05.188Z"
   },
   {
    "duration": 22,
    "start_time": "2022-02-09T08:36:05.273Z"
   },
   {
    "duration": 64,
    "start_time": "2022-02-09T08:36:05.297Z"
   },
   {
    "duration": 18,
    "start_time": "2022-02-09T08:36:05.363Z"
   },
   {
    "duration": 902,
    "start_time": "2022-02-09T08:36:05.388Z"
   },
   {
    "duration": 699,
    "start_time": "2022-02-09T08:36:06.293Z"
   },
   {
    "duration": 664,
    "start_time": "2022-02-09T08:36:06.996Z"
   },
   {
    "duration": 23,
    "start_time": "2022-02-09T08:36:07.662Z"
   },
   {
    "duration": 1356,
    "start_time": "2022-02-09T08:36:07.687Z"
   },
   {
    "duration": 1460,
    "start_time": "2022-02-09T08:36:43.350Z"
   },
   {
    "duration": 72,
    "start_time": "2022-02-09T08:36:44.813Z"
   },
   {
    "duration": 15,
    "start_time": "2022-02-09T08:36:44.888Z"
   },
   {
    "duration": 77,
    "start_time": "2022-02-09T08:36:44.907Z"
   },
   {
    "duration": 3,
    "start_time": "2022-02-09T08:36:44.987Z"
   },
   {
    "duration": 509,
    "start_time": "2022-02-09T08:36:44.993Z"
   },
   {
    "duration": -195,
    "start_time": "2022-02-09T08:36:45.701Z"
   },
   {
    "duration": -196,
    "start_time": "2022-02-09T08:36:45.703Z"
   },
   {
    "duration": -195,
    "start_time": "2022-02-09T08:36:45.704Z"
   },
   {
    "duration": -195,
    "start_time": "2022-02-09T08:36:45.706Z"
   },
   {
    "duration": -196,
    "start_time": "2022-02-09T08:36:45.708Z"
   },
   {
    "duration": -198,
    "start_time": "2022-02-09T08:36:45.712Z"
   },
   {
    "duration": -199,
    "start_time": "2022-02-09T08:36:45.714Z"
   },
   {
    "duration": -198,
    "start_time": "2022-02-09T08:36:45.715Z"
   },
   {
    "duration": -198,
    "start_time": "2022-02-09T08:36:45.716Z"
   },
   {
    "duration": -198,
    "start_time": "2022-02-09T08:36:45.718Z"
   },
   {
    "duration": -197,
    "start_time": "2022-02-09T08:36:45.719Z"
   },
   {
    "duration": -203,
    "start_time": "2022-02-09T08:36:45.726Z"
   },
   {
    "duration": -202,
    "start_time": "2022-02-09T08:36:45.727Z"
   },
   {
    "duration": -200,
    "start_time": "2022-02-09T08:36:45.728Z"
   },
   {
    "duration": -200,
    "start_time": "2022-02-09T08:36:45.729Z"
   },
   {
    "duration": -210,
    "start_time": "2022-02-09T08:36:45.741Z"
   },
   {
    "duration": -212,
    "start_time": "2022-02-09T08:36:45.744Z"
   },
   {
    "duration": -211,
    "start_time": "2022-02-09T08:36:45.745Z"
   },
   {
    "duration": -213,
    "start_time": "2022-02-09T08:36:45.748Z"
   },
   {
    "duration": -215,
    "start_time": "2022-02-09T08:36:45.751Z"
   },
   {
    "duration": -214,
    "start_time": "2022-02-09T08:36:45.752Z"
   },
   {
    "duration": 770,
    "start_time": "2022-02-09T08:37:06.925Z"
   },
   {
    "duration": 417,
    "start_time": "2022-02-09T08:37:22.479Z"
   },
   {
    "duration": 429,
    "start_time": "2022-02-09T08:37:41.300Z"
   },
   {
    "duration": 1589,
    "start_time": "2022-02-09T08:54:14.330Z"
   },
   {
    "duration": 73,
    "start_time": "2022-02-09T08:54:15.921Z"
   },
   {
    "duration": 15,
    "start_time": "2022-02-09T08:54:15.997Z"
   },
   {
    "duration": 64,
    "start_time": "2022-02-09T08:54:16.016Z"
   },
   {
    "duration": 3,
    "start_time": "2022-02-09T08:54:16.083Z"
   },
   {
    "duration": 894,
    "start_time": "2022-02-09T08:54:16.088Z"
   },
   {
    "duration": 7,
    "start_time": "2022-02-09T08:54:16.985Z"
   },
   {
    "duration": 92,
    "start_time": "2022-02-09T08:54:16.998Z"
   },
   {
    "duration": 68,
    "start_time": "2022-02-09T08:54:17.094Z"
   },
   {
    "duration": 19,
    "start_time": "2022-02-09T08:54:17.165Z"
   },
   {
    "duration": 74,
    "start_time": "2022-02-09T08:54:17.187Z"
   },
   {
    "duration": 22,
    "start_time": "2022-02-09T08:54:17.263Z"
   },
   {
    "duration": 18,
    "start_time": "2022-02-09T08:54:17.287Z"
   },
   {
    "duration": 15,
    "start_time": "2022-02-09T08:54:17.359Z"
   },
   {
    "duration": 10,
    "start_time": "2022-02-09T08:54:17.377Z"
   },
   {
    "duration": 71,
    "start_time": "2022-02-09T08:54:17.390Z"
   },
   {
    "duration": 99,
    "start_time": "2022-02-09T08:54:17.464Z"
   },
   {
    "duration": 43,
    "start_time": "2022-02-09T08:54:17.566Z"
   },
   {
    "duration": 50,
    "start_time": "2022-02-09T08:54:17.611Z"
   },
   {
    "duration": 9,
    "start_time": "2022-02-09T08:54:17.663Z"
   },
   {
    "duration": 5,
    "start_time": "2022-02-09T08:54:17.674Z"
   },
   {
    "duration": 442,
    "start_time": "2022-02-09T08:54:17.682Z"
   },
   {
    "duration": 700,
    "start_time": "2022-02-09T08:54:18.129Z"
   },
   {
    "duration": 788,
    "start_time": "2022-02-09T08:54:18.832Z"
   },
   {
    "duration": 20,
    "start_time": "2022-02-09T08:54:19.623Z"
   },
   {
    "duration": 507,
    "start_time": "2022-02-09T08:54:19.659Z"
   },
   {
    "duration": 389,
    "start_time": "2022-02-09T09:04:41.130Z"
   },
   {
    "duration": 380,
    "start_time": "2022-02-09T09:05:22.418Z"
   },
   {
    "duration": 5,
    "start_time": "2022-02-09T09:05:37.681Z"
   },
   {
    "duration": 377,
    "start_time": "2022-02-09T10:14:47.026Z"
   },
   {
    "duration": 1531,
    "start_time": "2022-02-09T10:14:54.709Z"
   },
   {
    "duration": 73,
    "start_time": "2022-02-09T10:14:56.243Z"
   },
   {
    "duration": 14,
    "start_time": "2022-02-09T10:14:56.319Z"
   },
   {
    "duration": 63,
    "start_time": "2022-02-09T10:14:56.336Z"
   },
   {
    "duration": 3,
    "start_time": "2022-02-09T10:14:56.402Z"
   },
   {
    "duration": 462,
    "start_time": "2022-02-09T10:14:56.407Z"
   },
   {
    "duration": 5,
    "start_time": "2022-02-09T10:14:56.872Z"
   },
   {
    "duration": 34,
    "start_time": "2022-02-09T10:14:56.879Z"
   },
   {
    "duration": 11,
    "start_time": "2022-02-09T10:14:56.918Z"
   },
   {
    "duration": 46,
    "start_time": "2022-02-09T10:14:56.932Z"
   },
   {
    "duration": 18,
    "start_time": "2022-02-09T10:14:56.980Z"
   },
   {
    "duration": 21,
    "start_time": "2022-02-09T10:14:57.000Z"
   },
   {
    "duration": 52,
    "start_time": "2022-02-09T10:14:57.023Z"
   },
   {
    "duration": 13,
    "start_time": "2022-02-09T10:14:57.077Z"
   },
   {
    "duration": 9,
    "start_time": "2022-02-09T10:14:57.092Z"
   },
   {
    "duration": 15,
    "start_time": "2022-02-09T10:14:57.104Z"
   },
   {
    "duration": 41,
    "start_time": "2022-02-09T10:14:57.160Z"
   },
   {
    "duration": 31,
    "start_time": "2022-02-09T10:14:57.204Z"
   },
   {
    "duration": 40,
    "start_time": "2022-02-09T10:14:57.238Z"
   },
   {
    "duration": 9,
    "start_time": "2022-02-09T10:14:57.280Z"
   },
   {
    "duration": 15,
    "start_time": "2022-02-09T10:14:57.291Z"
   },
   {
    "duration": 455,
    "start_time": "2022-02-09T10:14:57.309Z"
   },
   {
    "duration": 803,
    "start_time": "2022-02-09T10:14:57.766Z"
   },
   {
    "duration": 647,
    "start_time": "2022-02-09T10:14:58.572Z"
   },
   {
    "duration": 503,
    "start_time": "2022-02-09T10:14:59.221Z"
   },
   {
    "duration": -311,
    "start_time": "2022-02-09T10:15:00.038Z"
   },
   {
    "duration": -311,
    "start_time": "2022-02-09T10:15:00.039Z"
   },
   {
    "duration": 22,
    "start_time": "2022-02-09T10:15:31.908Z"
   },
   {
    "duration": 11,
    "start_time": "2022-02-09T10:15:38.363Z"
   },
   {
    "duration": 534,
    "start_time": "2022-02-09T10:15:54.804Z"
   },
   {
    "duration": 21,
    "start_time": "2022-02-09T10:16:00.523Z"
   },
   {
    "duration": 382,
    "start_time": "2022-02-09T10:16:29.926Z"
   },
   {
    "duration": 26,
    "start_time": "2022-02-09T10:17:37.617Z"
   },
   {
    "duration": 565,
    "start_time": "2022-02-09T10:17:55.394Z"
   },
   {
    "duration": 3,
    "start_time": "2022-02-09T10:19:19.928Z"
   },
   {
    "duration": 398,
    "start_time": "2022-02-09T10:19:37.768Z"
   },
   {
    "duration": 974,
    "start_time": "2022-02-09T10:19:47.551Z"
   },
   {
    "duration": 410,
    "start_time": "2022-02-09T10:20:44.174Z"
   },
   {
    "duration": 1534,
    "start_time": "2022-02-09T10:20:52.647Z"
   },
   {
    "duration": 11,
    "start_time": "2022-02-09T10:21:44.581Z"
   },
   {
    "duration": 699,
    "start_time": "2022-02-09T10:22:18.548Z"
   },
   {
    "duration": 681,
    "start_time": "2022-02-09T10:22:37.748Z"
   },
   {
    "duration": 701,
    "start_time": "2022-02-09T10:24:58.658Z"
   },
   {
    "duration": 720,
    "start_time": "2022-02-09T10:34:24.504Z"
   },
   {
    "duration": 23,
    "start_time": "2022-02-09T12:40:41.120Z"
   },
   {
    "duration": 11,
    "start_time": "2022-02-09T12:40:43.998Z"
   },
   {
    "duration": 707,
    "start_time": "2022-02-09T12:40:47.911Z"
   },
   {
    "duration": 709,
    "start_time": "2022-02-09T12:40:58.742Z"
   },
   {
    "duration": 792,
    "start_time": "2022-02-09T12:41:06.399Z"
   },
   {
    "duration": 140,
    "start_time": "2022-02-09T12:44:48.082Z"
   },
   {
    "duration": 87,
    "start_time": "2022-02-09T12:44:53.834Z"
   },
   {
    "duration": 615,
    "start_time": "2022-02-09T12:46:50.848Z"
   },
   {
    "duration": 611,
    "start_time": "2022-02-09T12:47:25.377Z"
   },
   {
    "duration": 762,
    "start_time": "2022-02-09T12:47:46.080Z"
   },
   {
    "duration": 617,
    "start_time": "2022-02-09T12:48:00.072Z"
   },
   {
    "duration": 5,
    "start_time": "2022-02-09T12:50:14.061Z"
   },
   {
    "duration": 615,
    "start_time": "2022-02-09T12:50:38.501Z"
   },
   {
    "duration": 11,
    "start_time": "2022-02-09T12:50:41.508Z"
   },
   {
    "duration": 94,
    "start_time": "2022-02-09T12:51:38.970Z"
   },
   {
    "duration": 91,
    "start_time": "2022-02-09T15:59:01.636Z"
   },
   {
    "duration": 64,
    "start_time": "2022-02-09T16:03:57.462Z"
   },
   {
    "duration": 9,
    "start_time": "2022-02-09T16:04:23.366Z"
   },
   {
    "duration": 7,
    "start_time": "2022-02-09T16:05:11.508Z"
   },
   {
    "duration": 17,
    "start_time": "2022-02-09T16:05:16.940Z"
   },
   {
    "duration": 6,
    "start_time": "2022-02-09T16:05:27.564Z"
   },
   {
    "duration": 3,
    "start_time": "2022-02-09T16:05:44.076Z"
   },
   {
    "duration": 6,
    "start_time": "2022-02-09T16:05:45.797Z"
   },
   {
    "duration": 1456,
    "start_time": "2022-02-09T16:05:55.561Z"
   },
   {
    "duration": 66,
    "start_time": "2022-02-09T16:05:57.020Z"
   },
   {
    "duration": 13,
    "start_time": "2022-02-09T16:05:57.089Z"
   },
   {
    "duration": 58,
    "start_time": "2022-02-09T16:05:57.104Z"
   },
   {
    "duration": 3,
    "start_time": "2022-02-09T16:05:57.164Z"
   },
   {
    "duration": 434,
    "start_time": "2022-02-09T16:05:57.171Z"
   },
   {
    "duration": 5,
    "start_time": "2022-02-09T16:05:57.608Z"
   },
   {
    "duration": 50,
    "start_time": "2022-02-09T16:05:57.616Z"
   },
   {
    "duration": 11,
    "start_time": "2022-02-09T16:05:57.669Z"
   },
   {
    "duration": 20,
    "start_time": "2022-02-09T16:05:57.684Z"
   },
   {
    "duration": 57,
    "start_time": "2022-02-09T16:05:57.707Z"
   },
   {
    "duration": 22,
    "start_time": "2022-02-09T16:05:57.767Z"
   },
   {
    "duration": 20,
    "start_time": "2022-02-09T16:05:57.792Z"
   },
   {
    "duration": 52,
    "start_time": "2022-02-09T16:05:57.814Z"
   },
   {
    "duration": 10,
    "start_time": "2022-02-09T16:05:57.869Z"
   },
   {
    "duration": 37,
    "start_time": "2022-02-09T16:05:57.882Z"
   },
   {
    "duration": 66,
    "start_time": "2022-02-09T16:05:57.922Z"
   },
   {
    "duration": 30,
    "start_time": "2022-02-09T16:05:57.993Z"
   },
   {
    "duration": 38,
    "start_time": "2022-02-09T16:05:58.026Z"
   },
   {
    "duration": 9,
    "start_time": "2022-02-09T16:05:58.066Z"
   },
   {
    "duration": 5,
    "start_time": "2022-02-09T16:05:58.077Z"
   },
   {
    "duration": 451,
    "start_time": "2022-02-09T16:05:58.084Z"
   },
   {
    "duration": 686,
    "start_time": "2022-02-09T16:05:58.537Z"
   },
   {
    "duration": 623,
    "start_time": "2022-02-09T16:05:59.225Z"
   },
   {
    "duration": 25,
    "start_time": "2022-02-09T16:05:59.850Z"
   },
   {
    "duration": 10,
    "start_time": "2022-02-09T16:05:59.878Z"
   },
   {
    "duration": 747,
    "start_time": "2022-02-09T16:05:59.891Z"
   },
   {
    "duration": 69,
    "start_time": "2022-02-09T16:06:00.641Z"
   },
   {
    "duration": 4,
    "start_time": "2022-02-09T16:06:00.714Z"
   },
   {
    "duration": 9,
    "start_time": "2022-02-09T16:06:00.721Z"
   },
   {
    "duration": 129,
    "start_time": "2022-02-09T16:06:00.732Z"
   },
   {
    "duration": 750,
    "start_time": "2022-02-09T16:06:00.864Z"
   },
   {
    "duration": 11,
    "start_time": "2022-02-09T16:06:01.617Z"
   },
   {
    "duration": 5,
    "start_time": "2022-02-09T16:06:01.630Z"
   },
   {
    "duration": 15,
    "start_time": "2022-02-09T16:13:21.764Z"
   },
   {
    "duration": 6,
    "start_time": "2022-02-09T16:13:25.155Z"
   },
   {
    "duration": 16,
    "start_time": "2022-02-09T16:14:02.396Z"
   },
   {
    "duration": 4,
    "start_time": "2022-02-09T16:16:22.256Z"
   },
   {
    "duration": 1448,
    "start_time": "2022-02-09T16:16:29.596Z"
   },
   {
    "duration": 73,
    "start_time": "2022-02-09T16:16:31.047Z"
   },
   {
    "duration": 17,
    "start_time": "2022-02-09T16:16:31.124Z"
   },
   {
    "duration": 46,
    "start_time": "2022-02-09T16:16:31.161Z"
   },
   {
    "duration": 4,
    "start_time": "2022-02-09T16:16:31.209Z"
   },
   {
    "duration": 470,
    "start_time": "2022-02-09T16:16:31.215Z"
   },
   {
    "duration": 6,
    "start_time": "2022-02-09T16:16:31.687Z"
   },
   {
    "duration": 31,
    "start_time": "2022-02-09T16:16:31.696Z"
   },
   {
    "duration": 38,
    "start_time": "2022-02-09T16:16:31.730Z"
   },
   {
    "duration": 25,
    "start_time": "2022-02-09T16:16:31.771Z"
   },
   {
    "duration": 21,
    "start_time": "2022-02-09T16:16:31.799Z"
   },
   {
    "duration": 52,
    "start_time": "2022-02-09T16:16:31.822Z"
   },
   {
    "duration": 21,
    "start_time": "2022-02-09T16:16:31.876Z"
   },
   {
    "duration": 14,
    "start_time": "2022-02-09T16:16:31.899Z"
   },
   {
    "duration": 45,
    "start_time": "2022-02-09T16:16:31.916Z"
   },
   {
    "duration": 19,
    "start_time": "2022-02-09T16:16:31.964Z"
   },
   {
    "duration": 40,
    "start_time": "2022-02-09T16:16:31.985Z"
   },
   {
    "duration": 52,
    "start_time": "2022-02-09T16:16:32.028Z"
   },
   {
    "duration": 22,
    "start_time": "2022-02-09T16:16:32.083Z"
   },
   {
    "duration": 9,
    "start_time": "2022-02-09T16:16:32.109Z"
   },
   {
    "duration": 41,
    "start_time": "2022-02-09T16:16:32.120Z"
   },
   {
    "duration": 466,
    "start_time": "2022-02-09T16:16:32.163Z"
   },
   {
    "duration": 699,
    "start_time": "2022-02-09T16:16:32.633Z"
   },
   {
    "duration": 647,
    "start_time": "2022-02-09T16:16:33.335Z"
   },
   {
    "duration": 21,
    "start_time": "2022-02-09T16:16:33.985Z"
   },
   {
    "duration": 10,
    "start_time": "2022-02-09T16:16:34.008Z"
   },
   {
    "duration": 823,
    "start_time": "2022-02-09T16:16:34.021Z"
   },
   {
    "duration": 13,
    "start_time": "2022-02-09T16:16:34.847Z"
   },
   {
    "duration": 19,
    "start_time": "2022-02-09T16:16:34.863Z"
   },
   {
    "duration": 15,
    "start_time": "2022-02-09T16:16:34.885Z"
   },
   {
    "duration": 5,
    "start_time": "2022-02-09T16:16:34.902Z"
   },
   {
    "duration": 128,
    "start_time": "2022-02-09T16:16:34.910Z"
   },
   {
    "duration": 656,
    "start_time": "2022-02-09T16:16:35.040Z"
   },
   {
    "duration": 12,
    "start_time": "2022-02-09T16:16:35.699Z"
   },
   {
    "duration": 5,
    "start_time": "2022-02-09T16:16:35.713Z"
   },
   {
    "duration": 1446,
    "start_time": "2022-02-09T16:23:18.078Z"
   },
   {
    "duration": 69,
    "start_time": "2022-02-09T16:23:19.526Z"
   },
   {
    "duration": 26,
    "start_time": "2022-02-09T16:23:19.601Z"
   },
   {
    "duration": 59,
    "start_time": "2022-02-09T16:23:19.630Z"
   },
   {
    "duration": 3,
    "start_time": "2022-02-09T16:23:19.692Z"
   },
   {
    "duration": 448,
    "start_time": "2022-02-09T16:23:19.698Z"
   },
   {
    "duration": 12,
    "start_time": "2022-02-09T16:23:20.150Z"
   },
   {
    "duration": 31,
    "start_time": "2022-02-09T16:23:20.164Z"
   },
   {
    "duration": 14,
    "start_time": "2022-02-09T16:23:20.197Z"
   },
   {
    "duration": 53,
    "start_time": "2022-02-09T16:23:20.214Z"
   },
   {
    "duration": 17,
    "start_time": "2022-02-09T16:23:20.269Z"
   },
   {
    "duration": 21,
    "start_time": "2022-02-09T16:23:20.289Z"
   },
   {
    "duration": 54,
    "start_time": "2022-02-09T16:23:20.312Z"
   },
   {
    "duration": 13,
    "start_time": "2022-02-09T16:23:20.368Z"
   },
   {
    "duration": 10,
    "start_time": "2022-02-09T16:23:20.383Z"
   },
   {
    "duration": 18,
    "start_time": "2022-02-09T16:23:20.395Z"
   },
   {
    "duration": 75,
    "start_time": "2022-02-09T16:23:20.416Z"
   },
   {
    "duration": 30,
    "start_time": "2022-02-09T16:23:20.493Z"
   },
   {
    "duration": 37,
    "start_time": "2022-02-09T16:23:20.525Z"
   },
   {
    "duration": 8,
    "start_time": "2022-02-09T16:23:20.564Z"
   },
   {
    "duration": 4,
    "start_time": "2022-02-09T16:23:20.575Z"
   },
   {
    "duration": 596,
    "start_time": "2022-02-09T16:23:20.584Z"
   },
   {
    "duration": 728,
    "start_time": "2022-02-09T16:23:21.183Z"
   },
   {
    "duration": 651,
    "start_time": "2022-02-09T16:23:21.914Z"
   },
   {
    "duration": 22,
    "start_time": "2022-02-09T16:23:22.568Z"
   },
   {
    "duration": 12,
    "start_time": "2022-02-09T16:23:22.593Z"
   },
   {
    "duration": 752,
    "start_time": "2022-02-09T16:23:22.608Z"
   },
   {
    "duration": 3,
    "start_time": "2022-02-09T16:23:23.362Z"
   },
   {
    "duration": 17,
    "start_time": "2022-02-09T16:23:23.368Z"
   },
   {
    "duration": 15,
    "start_time": "2022-02-09T16:23:23.388Z"
   },
   {
    "duration": 5,
    "start_time": "2022-02-09T16:23:23.406Z"
   },
   {
    "duration": 124,
    "start_time": "2022-02-09T16:23:23.413Z"
   },
   {
    "duration": 641,
    "start_time": "2022-02-09T16:23:23.539Z"
   },
   {
    "duration": 10,
    "start_time": "2022-02-09T16:23:24.183Z"
   },
   {
    "duration": 3,
    "start_time": "2022-02-09T16:23:24.196Z"
   },
   {
    "duration": 130,
    "start_time": "2022-02-09T16:27:17.720Z"
   },
   {
    "duration": 15,
    "start_time": "2022-02-09T16:27:21.951Z"
   },
   {
    "duration": 5,
    "start_time": "2022-02-09T16:27:26.159Z"
   },
   {
    "duration": 90,
    "start_time": "2022-02-09T16:27:53.215Z"
   },
   {
    "duration": 58,
    "start_time": "2022-02-09T16:29:12.718Z"
   },
   {
    "duration": 31,
    "start_time": "2022-02-09T16:35:03.480Z"
   },
   {
    "duration": 16,
    "start_time": "2022-02-09T16:35:30.663Z"
   },
   {
    "duration": 2386,
    "start_time": "2022-02-09T16:35:48.234Z"
   },
   {
    "duration": 71,
    "start_time": "2022-02-09T16:35:50.622Z"
   },
   {
    "duration": 19,
    "start_time": "2022-02-09T16:35:50.698Z"
   },
   {
    "duration": 60,
    "start_time": "2022-02-09T16:35:50.719Z"
   },
   {
    "duration": 3,
    "start_time": "2022-02-09T16:35:50.782Z"
   },
   {
    "duration": 556,
    "start_time": "2022-02-09T16:35:50.787Z"
   },
   {
    "duration": 13,
    "start_time": "2022-02-09T16:35:51.346Z"
   },
   {
    "duration": 31,
    "start_time": "2022-02-09T16:35:51.364Z"
   },
   {
    "duration": 16,
    "start_time": "2022-02-09T16:35:51.399Z"
   },
   {
    "duration": 59,
    "start_time": "2022-02-09T16:35:51.418Z"
   },
   {
    "duration": 21,
    "start_time": "2022-02-09T16:35:51.479Z"
   },
   {
    "duration": 23,
    "start_time": "2022-02-09T16:35:51.502Z"
   },
   {
    "duration": 19,
    "start_time": "2022-02-09T16:35:51.559Z"
   },
   {
    "duration": 15,
    "start_time": "2022-02-09T16:35:51.580Z"
   },
   {
    "duration": 11,
    "start_time": "2022-02-09T16:35:51.598Z"
   },
   {
    "duration": 53,
    "start_time": "2022-02-09T16:35:51.612Z"
   },
   {
    "duration": 44,
    "start_time": "2022-02-09T16:35:51.668Z"
   },
   {
    "duration": 60,
    "start_time": "2022-02-09T16:35:51.715Z"
   },
   {
    "duration": 22,
    "start_time": "2022-02-09T16:35:51.777Z"
   },
   {
    "duration": 9,
    "start_time": "2022-02-09T16:35:51.803Z"
   },
   {
    "duration": 8,
    "start_time": "2022-02-09T16:35:51.814Z"
   },
   {
    "duration": 474,
    "start_time": "2022-02-09T16:35:51.824Z"
   },
   {
    "duration": 704,
    "start_time": "2022-02-09T16:35:52.303Z"
   },
   {
    "duration": 618,
    "start_time": "2022-02-09T16:35:53.010Z"
   },
   {
    "duration": 31,
    "start_time": "2022-02-09T16:35:53.630Z"
   },
   {
    "duration": 10,
    "start_time": "2022-02-09T16:35:53.663Z"
   },
   {
    "duration": 764,
    "start_time": "2022-02-09T16:35:53.676Z"
   },
   {
    "duration": 1054,
    "start_time": "2022-02-09T16:35:54.442Z"
   },
   {
    "duration": 828,
    "start_time": "2022-02-09T16:35:54.670Z"
   },
   {
    "duration": 820,
    "start_time": "2022-02-09T16:35:54.680Z"
   },
   {
    "duration": 820,
    "start_time": "2022-02-09T16:35:54.681Z"
   },
   {
    "duration": 820,
    "start_time": "2022-02-09T16:35:54.683Z"
   },
   {
    "duration": 820,
    "start_time": "2022-02-09T16:35:54.684Z"
   },
   {
    "duration": 819,
    "start_time": "2022-02-09T16:35:54.686Z"
   },
   {
    "duration": 452,
    "start_time": "2022-02-09T16:36:48.340Z"
   },
   {
    "duration": 1485,
    "start_time": "2022-02-09T16:36:57.074Z"
   },
   {
    "duration": 69,
    "start_time": "2022-02-09T16:36:58.562Z"
   },
   {
    "duration": 14,
    "start_time": "2022-02-09T16:36:58.634Z"
   },
   {
    "duration": 43,
    "start_time": "2022-02-09T16:36:58.658Z"
   },
   {
    "duration": 2,
    "start_time": "2022-02-09T16:36:58.704Z"
   },
   {
    "duration": 466,
    "start_time": "2022-02-09T16:36:58.709Z"
   },
   {
    "duration": 7,
    "start_time": "2022-02-09T16:36:59.177Z"
   },
   {
    "duration": 29,
    "start_time": "2022-02-09T16:36:59.188Z"
   },
   {
    "duration": 39,
    "start_time": "2022-02-09T16:36:59.221Z"
   },
   {
    "duration": 21,
    "start_time": "2022-02-09T16:36:59.263Z"
   },
   {
    "duration": 19,
    "start_time": "2022-02-09T16:36:59.287Z"
   },
   {
    "duration": 63,
    "start_time": "2022-02-09T16:36:59.309Z"
   },
   {
    "duration": 21,
    "start_time": "2022-02-09T16:36:59.375Z"
   },
   {
    "duration": 15,
    "start_time": "2022-02-09T16:36:59.399Z"
   },
   {
    "duration": 49,
    "start_time": "2022-02-09T16:36:59.417Z"
   },
   {
    "duration": 17,
    "start_time": "2022-02-09T16:36:59.469Z"
   },
   {
    "duration": 72,
    "start_time": "2022-02-09T16:36:59.489Z"
   },
   {
    "duration": 34,
    "start_time": "2022-02-09T16:36:59.563Z"
   },
   {
    "duration": 24,
    "start_time": "2022-02-09T16:36:59.599Z"
   },
   {
    "duration": 8,
    "start_time": "2022-02-09T16:36:59.625Z"
   },
   {
    "duration": 5,
    "start_time": "2022-02-09T16:36:59.660Z"
   },
   {
    "duration": 443,
    "start_time": "2022-02-09T16:36:59.668Z"
   },
   {
    "duration": 694,
    "start_time": "2022-02-09T16:37:00.116Z"
   },
   {
    "duration": 650,
    "start_time": "2022-02-09T16:37:00.813Z"
   },
   {
    "duration": 22,
    "start_time": "2022-02-09T16:37:01.466Z"
   },
   {
    "duration": 14,
    "start_time": "2022-02-09T16:37:01.490Z"
   },
   {
    "duration": 744,
    "start_time": "2022-02-09T16:37:01.506Z"
   },
   {
    "duration": 57,
    "start_time": "2022-02-09T16:37:02.260Z"
   },
   {
    "duration": 14,
    "start_time": "2022-02-09T16:37:02.320Z"
   },
   {
    "duration": 5,
    "start_time": "2022-02-09T16:37:02.358Z"
   },
   {
    "duration": 97,
    "start_time": "2022-02-09T16:37:02.366Z"
   },
   {
    "duration": 712,
    "start_time": "2022-02-09T16:37:02.466Z"
   },
   {
    "duration": 10,
    "start_time": "2022-02-09T16:37:03.181Z"
   },
   {
    "duration": 5,
    "start_time": "2022-02-09T16:37:03.193Z"
   },
   {
    "duration": 6,
    "start_time": "2022-02-09T16:38:34.275Z"
   },
   {
    "duration": 505,
    "start_time": "2022-02-09T16:39:50.571Z"
   },
   {
    "duration": 660,
    "start_time": "2022-02-09T16:40:17.402Z"
   },
   {
    "duration": 657,
    "start_time": "2022-02-09T16:43:10.815Z"
   },
   {
    "duration": 467,
    "start_time": "2022-02-09T16:44:39.910Z"
   },
   {
    "duration": 538,
    "start_time": "2022-02-09T16:49:46.592Z"
   },
   {
    "duration": 11,
    "start_time": "2022-02-09T16:50:24.783Z"
   },
   {
    "duration": 5507,
    "start_time": "2022-02-09T16:50:50.428Z"
   },
   {
    "duration": 1544,
    "start_time": "2022-02-09T16:51:05.061Z"
   },
   {
    "duration": 71,
    "start_time": "2022-02-09T16:51:06.608Z"
   },
   {
    "duration": 14,
    "start_time": "2022-02-09T16:51:06.685Z"
   },
   {
    "duration": 72,
    "start_time": "2022-02-09T16:51:06.701Z"
   },
   {
    "duration": 4,
    "start_time": "2022-02-09T16:51:06.775Z"
   },
   {
    "duration": 452,
    "start_time": "2022-02-09T16:51:06.781Z"
   },
   {
    "duration": 5,
    "start_time": "2022-02-09T16:51:07.237Z"
   },
   {
    "duration": 44,
    "start_time": "2022-02-09T16:51:07.244Z"
   },
   {
    "duration": 14,
    "start_time": "2022-02-09T16:51:07.291Z"
   },
   {
    "duration": 18,
    "start_time": "2022-02-09T16:51:07.307Z"
   },
   {
    "duration": 19,
    "start_time": "2022-02-09T16:51:07.360Z"
   },
   {
    "duration": 22,
    "start_time": "2022-02-09T16:51:07.381Z"
   },
   {
    "duration": 68,
    "start_time": "2022-02-09T16:51:07.406Z"
   },
   {
    "duration": 21,
    "start_time": "2022-02-09T16:51:07.477Z"
   },
   {
    "duration": 14,
    "start_time": "2022-02-09T16:51:07.501Z"
   },
   {
    "duration": 58,
    "start_time": "2022-02-09T16:51:07.517Z"
   },
   {
    "duration": 62,
    "start_time": "2022-02-09T16:51:07.578Z"
   },
   {
    "duration": 46,
    "start_time": "2022-02-09T16:51:07.658Z"
   },
   {
    "duration": 32,
    "start_time": "2022-02-09T16:51:07.707Z"
   },
   {
    "duration": 13,
    "start_time": "2022-02-09T16:51:07.758Z"
   },
   {
    "duration": 6,
    "start_time": "2022-02-09T16:51:07.774Z"
   },
   {
    "duration": 678,
    "start_time": "2022-02-09T16:51:07.787Z"
   },
   {
    "duration": 715,
    "start_time": "2022-02-09T16:51:08.469Z"
   },
   {
    "duration": 623,
    "start_time": "2022-02-09T16:51:09.187Z"
   },
   {
    "duration": 21,
    "start_time": "2022-02-09T16:51:09.813Z"
   },
   {
    "duration": 10,
    "start_time": "2022-02-09T16:51:09.859Z"
   },
   {
    "duration": 719,
    "start_time": "2022-02-09T16:51:09.871Z"
   },
   {
    "duration": 74,
    "start_time": "2022-02-09T16:51:10.592Z"
   },
   {
    "duration": 16,
    "start_time": "2022-02-09T16:51:10.669Z"
   },
   {
    "duration": 6,
    "start_time": "2022-02-09T16:51:10.687Z"
   },
   {
    "duration": 119,
    "start_time": "2022-02-09T16:51:10.696Z"
   },
   {
    "duration": 727,
    "start_time": "2022-02-09T16:51:10.818Z"
   },
   {
    "duration": 486,
    "start_time": "2022-02-09T16:51:11.548Z"
   },
   {
    "duration": 9346,
    "start_time": "2022-02-09T16:51:12.037Z"
   },
   {
    "duration": 5540,
    "start_time": "2022-02-09T16:51:41.261Z"
   },
   {
    "duration": 5216,
    "start_time": "2022-02-09T16:52:19.948Z"
   },
   {
    "duration": 5644,
    "start_time": "2022-02-09T16:52:37.461Z"
   },
   {
    "duration": 5313,
    "start_time": "2022-02-09T16:52:59.795Z"
   },
   {
    "duration": 5176,
    "start_time": "2022-02-09T16:53:28.515Z"
   },
   {
    "duration": 466,
    "start_time": "2022-02-09T16:55:06.289Z"
   },
   {
    "duration": 789,
    "start_time": "2022-02-09T16:55:52.945Z"
   },
   {
    "duration": 664,
    "start_time": "2022-02-09T16:57:35.127Z"
   },
   {
    "duration": 5492,
    "start_time": "2022-02-09T16:57:40.119Z"
   },
   {
    "duration": 5679,
    "start_time": "2022-02-09T16:59:07.296Z"
   },
   {
    "duration": 6127,
    "start_time": "2022-02-09T16:59:53.254Z"
   },
   {
    "duration": 5614,
    "start_time": "2022-02-09T17:00:10.029Z"
   },
   {
    "duration": 9,
    "start_time": "2022-02-09T17:05:39.879Z"
   },
   {
    "duration": 91,
    "start_time": "2022-02-09T17:22:02.309Z"
   },
   {
    "duration": 22,
    "start_time": "2022-02-09T17:22:26.294Z"
   },
   {
    "duration": 25,
    "start_time": "2022-02-09T17:22:43.997Z"
   },
   {
    "duration": 12,
    "start_time": "2022-02-09T17:26:37.090Z"
   },
   {
    "duration": 12,
    "start_time": "2022-02-09T18:00:24.661Z"
   },
   {
    "duration": 13,
    "start_time": "2022-02-09T18:00:31.414Z"
   },
   {
    "duration": 12,
    "start_time": "2022-02-09T18:00:42.919Z"
   },
   {
    "duration": 8,
    "start_time": "2022-02-09T18:01:36.180Z"
   },
   {
    "duration": 12,
    "start_time": "2022-02-09T18:01:50.403Z"
   },
   {
    "duration": 13,
    "start_time": "2022-02-09T18:04:06.305Z"
   },
   {
    "duration": 1464,
    "start_time": "2022-02-09T18:04:19.350Z"
   },
   {
    "duration": 74,
    "start_time": "2022-02-09T18:04:20.816Z"
   },
   {
    "duration": 17,
    "start_time": "2022-02-09T18:04:20.893Z"
   },
   {
    "duration": 57,
    "start_time": "2022-02-09T18:04:20.913Z"
   },
   {
    "duration": 3,
    "start_time": "2022-02-09T18:04:20.972Z"
   },
   {
    "duration": 449,
    "start_time": "2022-02-09T18:04:20.978Z"
   },
   {
    "duration": 5,
    "start_time": "2022-02-09T18:04:21.429Z"
   },
   {
    "duration": 45,
    "start_time": "2022-02-09T18:04:21.437Z"
   },
   {
    "duration": 12,
    "start_time": "2022-02-09T18:04:21.485Z"
   },
   {
    "duration": 18,
    "start_time": "2022-02-09T18:04:21.499Z"
   },
   {
    "duration": 52,
    "start_time": "2022-02-09T18:04:21.520Z"
   },
   {
    "duration": 22,
    "start_time": "2022-02-09T18:04:21.574Z"
   },
   {
    "duration": 17,
    "start_time": "2022-02-09T18:04:21.598Z"
   },
   {
    "duration": 46,
    "start_time": "2022-02-09T18:04:21.618Z"
   },
   {
    "duration": 13,
    "start_time": "2022-02-09T18:04:21.666Z"
   },
   {
    "duration": 15,
    "start_time": "2022-02-09T18:04:21.682Z"
   },
   {
    "duration": 10,
    "start_time": "2022-02-09T18:04:21.699Z"
   },
   {
    "duration": 59,
    "start_time": "2022-02-09T18:04:21.711Z"
   },
   {
    "duration": 38,
    "start_time": "2022-02-09T18:04:21.773Z"
   },
   {
    "duration": 51,
    "start_time": "2022-02-09T18:04:21.813Z"
   },
   {
    "duration": 21,
    "start_time": "2022-02-09T18:04:21.867Z"
   },
   {
    "duration": 8,
    "start_time": "2022-02-09T18:04:21.890Z"
   },
   {
    "duration": 5,
    "start_time": "2022-02-09T18:04:21.902Z"
   },
   {
    "duration": 454,
    "start_time": "2022-02-09T18:04:21.909Z"
   },
   {
    "duration": 1025,
    "start_time": "2022-02-09T18:04:22.365Z"
   },
   {
    "duration": 633,
    "start_time": "2022-02-09T18:04:23.392Z"
   },
   {
    "duration": 33,
    "start_time": "2022-02-09T18:04:24.027Z"
   },
   {
    "duration": 9,
    "start_time": "2022-02-09T18:04:24.063Z"
   },
   {
    "duration": 727,
    "start_time": "2022-02-09T18:04:24.074Z"
   },
   {
    "duration": 69,
    "start_time": "2022-02-09T18:04:24.803Z"
   },
   {
    "duration": 15,
    "start_time": "2022-02-09T18:04:24.874Z"
   },
   {
    "duration": 6,
    "start_time": "2022-02-09T18:04:24.891Z"
   },
   {
    "duration": 112,
    "start_time": "2022-02-09T18:04:24.900Z"
   },
   {
    "duration": 729,
    "start_time": "2022-02-09T18:04:25.014Z"
   },
   {
    "duration": 5413,
    "start_time": "2022-02-09T18:04:25.746Z"
   },
   {
    "duration": 10,
    "start_time": "2022-02-09T18:05:11.718Z"
   },
   {
    "duration": 9,
    "start_time": "2022-02-09T18:05:13.871Z"
   },
   {
    "duration": 743,
    "start_time": "2022-02-09T20:31:58.989Z"
   },
   {
    "duration": 640,
    "start_time": "2022-02-09T20:33:29.450Z"
   },
   {
    "duration": 96,
    "start_time": "2022-02-09T20:49:16.082Z"
   },
   {
    "duration": 630,
    "start_time": "2022-02-09T20:49:19.025Z"
   },
   {
    "duration": 620,
    "start_time": "2022-02-09T20:49:22.898Z"
   },
   {
    "duration": 1540,
    "start_time": "2022-02-09T20:49:49.604Z"
   },
   {
    "duration": 72,
    "start_time": "2022-02-09T20:49:51.146Z"
   },
   {
    "duration": 15,
    "start_time": "2022-02-09T20:49:51.221Z"
   },
   {
    "duration": 60,
    "start_time": "2022-02-09T20:49:51.239Z"
   },
   {
    "duration": 3,
    "start_time": "2022-02-09T20:49:51.302Z"
   },
   {
    "duration": 462,
    "start_time": "2022-02-09T20:49:51.308Z"
   },
   {
    "duration": 5,
    "start_time": "2022-02-09T20:49:51.773Z"
   },
   {
    "duration": 33,
    "start_time": "2022-02-09T20:49:51.784Z"
   },
   {
    "duration": 54,
    "start_time": "2022-02-09T20:49:51.821Z"
   },
   {
    "duration": 25,
    "start_time": "2022-02-09T20:49:51.879Z"
   },
   {
    "duration": 18,
    "start_time": "2022-02-09T20:49:51.906Z"
   },
   {
    "duration": 22,
    "start_time": "2022-02-09T20:49:51.958Z"
   },
   {
    "duration": 18,
    "start_time": "2022-02-09T20:49:51.982Z"
   },
   {
    "duration": 9,
    "start_time": "2022-02-09T20:49:52.002Z"
   },
   {
    "duration": 51,
    "start_time": "2022-02-09T20:49:52.013Z"
   },
   {
    "duration": 12,
    "start_time": "2022-02-09T20:49:52.066Z"
   },
   {
    "duration": 14,
    "start_time": "2022-02-09T20:49:52.080Z"
   },
   {
    "duration": 10,
    "start_time": "2022-02-09T20:49:52.096Z"
   },
   {
    "duration": 51,
    "start_time": "2022-02-09T20:49:52.108Z"
   },
   {
    "duration": 41,
    "start_time": "2022-02-09T20:49:52.161Z"
   },
   {
    "duration": 30,
    "start_time": "2022-02-09T20:49:52.204Z"
   },
   {
    "duration": 38,
    "start_time": "2022-02-09T20:49:52.236Z"
   },
   {
    "duration": 9,
    "start_time": "2022-02-09T20:49:52.278Z"
   },
   {
    "duration": 5,
    "start_time": "2022-02-09T20:49:52.290Z"
   },
   {
    "duration": 475,
    "start_time": "2022-02-09T20:49:52.297Z"
   },
   {
    "duration": 702,
    "start_time": "2022-02-09T20:49:52.775Z"
   },
   {
    "duration": 648,
    "start_time": "2022-02-09T20:49:53.480Z"
   },
   {
    "duration": 30,
    "start_time": "2022-02-09T20:49:54.131Z"
   },
   {
    "duration": 11,
    "start_time": "2022-02-09T20:49:54.164Z"
   },
   {
    "duration": 743,
    "start_time": "2022-02-09T20:49:54.178Z"
   },
   {
    "duration": 88,
    "start_time": "2022-02-09T20:49:54.924Z"
   },
   {
    "duration": 16,
    "start_time": "2022-02-09T20:49:55.015Z"
   },
   {
    "duration": 28,
    "start_time": "2022-02-09T20:49:55.033Z"
   },
   {
    "duration": 102,
    "start_time": "2022-02-09T20:49:55.063Z"
   },
   {
    "duration": 728,
    "start_time": "2022-02-09T20:49:55.168Z"
   },
   {
    "duration": 623,
    "start_time": "2022-02-09T20:49:55.898Z"
   },
   {
    "duration": 6213,
    "start_time": "2022-02-09T20:49:56.523Z"
   },
   {
    "duration": 90,
    "start_time": "2022-02-09T20:50:28.108Z"
   },
   {
    "duration": 649,
    "start_time": "2022-02-09T20:50:30.765Z"
   },
   {
    "duration": 626,
    "start_time": "2022-02-09T20:50:33.452Z"
   },
   {
    "duration": 564,
    "start_time": "2022-02-09T20:53:22.398Z"
   },
   {
    "duration": 37,
    "start_time": "2022-02-09T20:53:33.883Z"
   },
   {
    "duration": 36,
    "start_time": "2022-02-09T20:54:47.216Z"
   },
   {
    "duration": 34,
    "start_time": "2022-02-09T20:54:53.784Z"
   },
   {
    "duration": 91,
    "start_time": "2022-02-09T20:56:32.526Z"
   },
   {
    "duration": 687,
    "start_time": "2022-02-09T20:56:35.350Z"
   },
   {
    "duration": 700,
    "start_time": "2022-02-09T20:56:42.398Z"
   },
   {
    "duration": 5729,
    "start_time": "2022-02-09T20:58:36.452Z"
   },
   {
    "duration": 972,
    "start_time": "2022-02-09T21:01:26.402Z"
   },
   {
    "duration": 676,
    "start_time": "2022-02-09T21:01:55.089Z"
   },
   {
    "duration": 961,
    "start_time": "2022-02-09T21:03:41.759Z"
   },
   {
    "duration": 123,
    "start_time": "2022-02-09T21:04:10.187Z"
   },
   {
    "duration": 1152,
    "start_time": "2022-02-09T21:04:19.766Z"
   },
   {
    "duration": 720,
    "start_time": "2022-02-09T21:06:27.148Z"
   },
   {
    "duration": 1004,
    "start_time": "2022-02-09T21:07:39.523Z"
   },
   {
    "duration": 5877,
    "start_time": "2022-02-09T21:10:15.129Z"
   },
   {
    "duration": 629,
    "start_time": "2022-02-09T21:10:24.688Z"
   },
   {
    "duration": 6053,
    "start_time": "2022-02-09T21:11:42.376Z"
   },
   {
    "duration": 8634,
    "start_time": "2022-02-09T21:12:20.814Z"
   },
   {
    "duration": 3,
    "start_time": "2022-02-09T21:13:08.237Z"
   },
   {
    "duration": 3,
    "start_time": "2022-02-09T21:13:12.516Z"
   },
   {
    "duration": 96,
    "start_time": "2022-02-09T21:13:56.070Z"
   },
   {
    "duration": 823,
    "start_time": "2022-02-09T21:14:02.380Z"
   },
   {
    "duration": 680,
    "start_time": "2022-02-09T21:14:07.332Z"
   },
   {
    "duration": 40,
    "start_time": "2022-02-09T21:14:11.964Z"
   },
   {
    "duration": 7420,
    "start_time": "2022-02-09T21:14:20.156Z"
   },
   {
    "duration": 7070,
    "start_time": "2022-02-09T21:14:38.316Z"
   },
   {
    "duration": 8,
    "start_time": "2022-02-09T21:19:17.895Z"
   },
   {
    "duration": 91,
    "start_time": "2022-02-09T21:19:25.870Z"
   },
   {
    "duration": 773,
    "start_time": "2022-02-09T21:29:29.724Z"
   },
   {
    "duration": 747,
    "start_time": "2022-02-09T21:29:40.369Z"
   },
   {
    "duration": 684,
    "start_time": "2022-02-09T21:36:33.150Z"
   },
   {
    "duration": 869,
    "start_time": "2022-02-09T21:45:46.228Z"
   },
   {
    "duration": 851,
    "start_time": "2022-02-09T21:46:04.259Z"
   },
   {
    "duration": 888,
    "start_time": "2022-02-09T21:47:00.499Z"
   },
   {
    "duration": 837,
    "start_time": "2022-02-09T21:48:01.578Z"
   },
   {
    "duration": 122,
    "start_time": "2022-02-09T21:48:39.680Z"
   },
   {
    "duration": 853,
    "start_time": "2022-02-09T21:48:44.633Z"
   },
   {
    "duration": 842,
    "start_time": "2022-02-09T21:48:54.792Z"
   },
   {
    "duration": 842,
    "start_time": "2022-02-09T21:51:51.686Z"
   },
   {
    "duration": 1158,
    "start_time": "2022-02-09T21:53:10.189Z"
   },
   {
    "duration": 885,
    "start_time": "2022-02-09T21:55:32.203Z"
   },
   {
    "duration": 436,
    "start_time": "2022-02-09T21:56:28.387Z"
   },
   {
    "duration": 1375,
    "start_time": "2022-02-09T21:56:57.249Z"
   },
   {
    "duration": 933,
    "start_time": "2022-02-09T22:01:23.483Z"
   },
   {
    "duration": 878,
    "start_time": "2022-02-09T22:02:01.666Z"
   },
   {
    "duration": 850,
    "start_time": "2022-02-09T22:03:03.114Z"
   },
   {
    "duration": 895,
    "start_time": "2022-02-09T22:05:07.775Z"
   },
   {
    "duration": 3694,
    "start_time": "2022-02-09T22:10:49.978Z"
   },
   {
    "duration": 3732,
    "start_time": "2022-02-09T22:12:29.216Z"
   },
   {
    "duration": 3540,
    "start_time": "2022-02-09T22:14:48.277Z"
   },
   {
    "duration": 1065,
    "start_time": "2022-02-09T22:16:31.310Z"
   },
   {
    "duration": 352,
    "start_time": "2022-02-09T22:17:30.203Z"
   },
   {
    "duration": 866,
    "start_time": "2022-02-09T22:17:55.217Z"
   },
   {
    "duration": 130,
    "start_time": "2022-02-09T22:18:29.161Z"
   },
   {
    "duration": 971,
    "start_time": "2022-02-09T22:18:33.905Z"
   },
   {
    "duration": 869,
    "start_time": "2022-02-09T22:18:46.770Z"
   },
   {
    "duration": 1159,
    "start_time": "2022-02-09T22:19:01.081Z"
   },
   {
    "duration": 914,
    "start_time": "2022-02-09T22:19:12.857Z"
   },
   {
    "duration": 899,
    "start_time": "2022-02-09T22:19:21.336Z"
   },
   {
    "duration": 852,
    "start_time": "2022-02-09T22:19:32.025Z"
   },
   {
    "duration": 1013,
    "start_time": "2022-02-09T22:19:39.848Z"
   },
   {
    "duration": 1180,
    "start_time": "2022-02-09T22:20:08.216Z"
   },
   {
    "duration": 427,
    "start_time": "2022-02-09T22:20:42.239Z"
   },
   {
    "duration": 1023,
    "start_time": "2022-02-09T22:20:54.431Z"
   },
   {
    "duration": 990,
    "start_time": "2022-02-09T22:21:01.455Z"
   },
   {
    "duration": 1285,
    "start_time": "2022-02-09T22:21:12.770Z"
   },
   {
    "duration": 1101,
    "start_time": "2022-02-09T22:21:18.030Z"
   },
   {
    "duration": 1115,
    "start_time": "2022-02-09T22:21:25.446Z"
   },
   {
    "duration": 1041,
    "start_time": "2022-02-09T22:21:33.823Z"
   },
   {
    "duration": 1026,
    "start_time": "2022-02-09T22:21:39.925Z"
   },
   {
    "duration": 1238,
    "start_time": "2022-02-09T22:22:38.254Z"
   },
   {
    "duration": 984,
    "start_time": "2022-02-09T22:23:17.301Z"
   },
   {
    "duration": 1168,
    "start_time": "2022-02-09T22:23:24.764Z"
   },
   {
    "duration": 1017,
    "start_time": "2022-02-09T22:23:30.364Z"
   },
   {
    "duration": 9,
    "start_time": "2022-02-09T22:24:27.515Z"
   },
   {
    "duration": 9,
    "start_time": "2022-02-09T22:24:38.179Z"
   },
   {
    "duration": 12,
    "start_time": "2022-02-09T22:25:33.763Z"
   },
   {
    "duration": 370,
    "start_time": "2022-02-09T22:25:51.546Z"
   },
   {
    "duration": 123,
    "start_time": "2022-02-09T22:26:01.841Z"
   },
   {
    "duration": 12,
    "start_time": "2022-02-09T22:26:09.226Z"
   },
   {
    "duration": 90,
    "start_time": "2022-02-09T22:28:37.688Z"
   },
   {
    "duration": 946,
    "start_time": "2022-02-09T22:29:02.919Z"
   },
   {
    "duration": 943,
    "start_time": "2022-02-09T22:29:23.031Z"
   },
   {
    "duration": 1084,
    "start_time": "2022-02-09T22:30:07.623Z"
   },
   {
    "duration": 12,
    "start_time": "2022-02-09T22:30:16.861Z"
   },
   {
    "duration": 366,
    "start_time": "2022-02-09T22:34:49.065Z"
   },
   {
    "duration": 1469,
    "start_time": "2022-02-09T22:34:55.543Z"
   },
   {
    "duration": 70,
    "start_time": "2022-02-09T22:34:57.015Z"
   },
   {
    "duration": 14,
    "start_time": "2022-02-09T22:34:57.088Z"
   },
   {
    "duration": 59,
    "start_time": "2022-02-09T22:34:57.104Z"
   },
   {
    "duration": 3,
    "start_time": "2022-02-09T22:34:57.166Z"
   },
   {
    "duration": 431,
    "start_time": "2022-02-09T22:34:57.172Z"
   },
   {
    "duration": 5,
    "start_time": "2022-02-09T22:34:57.605Z"
   },
   {
    "duration": 49,
    "start_time": "2022-02-09T22:34:57.614Z"
   },
   {
    "duration": 11,
    "start_time": "2022-02-09T22:34:57.666Z"
   },
   {
    "duration": 19,
    "start_time": "2022-02-09T22:34:57.680Z"
   },
   {
    "duration": 18,
    "start_time": "2022-02-09T22:34:57.701Z"
   },
   {
    "duration": 59,
    "start_time": "2022-02-09T22:34:57.722Z"
   },
   {
    "duration": 19,
    "start_time": "2022-02-09T22:34:57.783Z"
   },
   {
    "duration": 12,
    "start_time": "2022-02-09T22:34:57.805Z"
   },
   {
    "duration": 48,
    "start_time": "2022-02-09T22:34:57.820Z"
   },
   {
    "duration": 15,
    "start_time": "2022-02-09T22:34:57.871Z"
   },
   {
    "duration": 16,
    "start_time": "2022-02-09T22:34:57.889Z"
   },
   {
    "duration": 11,
    "start_time": "2022-02-09T22:34:57.908Z"
   },
   {
    "duration": 21,
    "start_time": "2022-02-09T22:34:57.959Z"
   },
   {
    "duration": 40,
    "start_time": "2022-02-09T22:34:57.982Z"
   },
   {
    "duration": 57,
    "start_time": "2022-02-09T22:34:58.024Z"
   },
   {
    "duration": 21,
    "start_time": "2022-02-09T22:34:58.084Z"
   },
   {
    "duration": 8,
    "start_time": "2022-02-09T22:34:58.110Z"
   },
   {
    "duration": 38,
    "start_time": "2022-02-09T22:34:58.121Z"
   },
   {
    "duration": 4,
    "start_time": "2022-02-09T22:34:58.162Z"
   },
   {
    "duration": 691,
    "start_time": "2022-02-09T22:34:58.168Z"
   },
   {
    "duration": 621,
    "start_time": "2022-02-09T22:34:58.861Z"
   },
   {
    "duration": 27,
    "start_time": "2022-02-09T22:34:59.485Z"
   },
   {
    "duration": 11,
    "start_time": "2022-02-09T22:34:59.514Z"
   },
   {
    "duration": 721,
    "start_time": "2022-02-09T22:34:59.528Z"
   },
   {
    "duration": 62,
    "start_time": "2022-02-09T22:35:00.251Z"
   },
   {
    "duration": 14,
    "start_time": "2022-02-09T22:35:00.316Z"
   },
   {
    "duration": 7,
    "start_time": "2022-02-09T22:35:00.360Z"
   },
   {
    "duration": 107,
    "start_time": "2022-02-09T22:35:00.369Z"
   },
   {
    "duration": 651,
    "start_time": "2022-02-09T22:35:00.479Z"
   },
   {
    "duration": 739,
    "start_time": "2022-02-09T22:35:01.133Z"
   },
   {
    "duration": 36,
    "start_time": "2022-02-09T22:35:01.874Z"
   },
   {
    "duration": 5437,
    "start_time": "2022-02-09T22:35:01.913Z"
   },
   {
    "duration": 5381,
    "start_time": "2022-02-09T22:35:07.352Z"
   },
   {
    "duration": 105,
    "start_time": "2022-02-09T22:35:12.736Z"
   },
   {
    "duration": 911,
    "start_time": "2022-02-09T22:35:12.844Z"
   },
   {
    "duration": 10,
    "start_time": "2022-02-09T22:35:13.760Z"
   },
   {
    "duration": 111,
    "start_time": "2022-02-09T22:35:13.773Z"
   },
   {
    "duration": 979,
    "start_time": "2022-02-09T22:35:13.887Z"
   },
   {
    "duration": 9,
    "start_time": "2022-02-09T22:35:14.869Z"
   },
   {
    "duration": 504,
    "start_time": "2022-02-09T22:35:14.880Z"
   },
   {
    "duration": 725,
    "start_time": "2022-02-09T22:36:51.996Z"
   },
   {
    "duration": 716,
    "start_time": "2022-02-09T22:38:26.243Z"
   },
   {
    "duration": 1438,
    "start_time": "2022-02-09T22:38:36.084Z"
   },
   {
    "duration": 90,
    "start_time": "2022-02-09T22:38:37.525Z"
   },
   {
    "duration": 32,
    "start_time": "2022-02-09T22:38:37.619Z"
   },
   {
    "duration": 202,
    "start_time": "2022-02-09T22:38:37.655Z"
   },
   {
    "duration": 42,
    "start_time": "2022-02-09T22:38:37.861Z"
   },
   {
    "duration": 622,
    "start_time": "2022-02-09T22:38:37.906Z"
   },
   {
    "duration": 6,
    "start_time": "2022-02-09T22:38:38.530Z"
   },
   {
    "duration": 45,
    "start_time": "2022-02-09T22:38:38.540Z"
   },
   {
    "duration": 12,
    "start_time": "2022-02-09T22:38:38.588Z"
   },
   {
    "duration": 18,
    "start_time": "2022-02-09T22:38:38.602Z"
   },
   {
    "duration": 50,
    "start_time": "2022-02-09T22:38:38.622Z"
   },
   {
    "duration": 22,
    "start_time": "2022-02-09T22:38:38.674Z"
   },
   {
    "duration": 17,
    "start_time": "2022-02-09T22:38:38.698Z"
   },
   {
    "duration": 8,
    "start_time": "2022-02-09T22:38:38.717Z"
   },
   {
    "duration": 12,
    "start_time": "2022-02-09T22:38:38.760Z"
   },
   {
    "duration": 11,
    "start_time": "2022-02-09T22:38:38.774Z"
   },
   {
    "duration": 11,
    "start_time": "2022-02-09T22:38:38.787Z"
   },
   {
    "duration": 9,
    "start_time": "2022-02-09T22:38:38.801Z"
   },
   {
    "duration": 64,
    "start_time": "2022-02-09T22:38:38.812Z"
   },
   {
    "duration": 41,
    "start_time": "2022-02-09T22:38:38.878Z"
   },
   {
    "duration": 51,
    "start_time": "2022-02-09T22:38:38.921Z"
   },
   {
    "duration": 23,
    "start_time": "2022-02-09T22:38:38.974Z"
   },
   {
    "duration": 8,
    "start_time": "2022-02-09T22:38:39.002Z"
   },
   {
    "duration": 3,
    "start_time": "2022-02-09T22:38:39.013Z"
   },
   {
    "duration": 41,
    "start_time": "2022-02-09T22:38:39.018Z"
   },
   {
    "duration": 666,
    "start_time": "2022-02-09T22:38:39.061Z"
   },
   {
    "duration": 614,
    "start_time": "2022-02-09T22:38:39.730Z"
   },
   {
    "duration": 29,
    "start_time": "2022-02-09T22:38:40.347Z"
   },
   {
    "duration": 11,
    "start_time": "2022-02-09T22:38:40.379Z"
   },
   {
    "duration": 926,
    "start_time": "2022-02-09T22:38:40.393Z"
   },
   {
    "duration": 71,
    "start_time": "2022-02-09T22:38:41.321Z"
   },
   {
    "duration": 14,
    "start_time": "2022-02-09T22:38:41.395Z"
   },
   {
    "duration": 6,
    "start_time": "2022-02-09T22:38:41.411Z"
   },
   {
    "duration": 110,
    "start_time": "2022-02-09T22:38:41.419Z"
   },
   {
    "duration": 630,
    "start_time": "2022-02-09T22:38:41.532Z"
   },
   {
    "duration": 1403,
    "start_time": "2022-02-09T22:38:42.164Z"
   },
   {
    "duration": 38,
    "start_time": "2022-02-09T22:38:43.570Z"
   },
   {
    "duration": 6068,
    "start_time": "2022-02-09T22:38:43.611Z"
   },
   {
    "duration": 5360,
    "start_time": "2022-02-09T22:38:49.682Z"
   },
   {
    "duration": 97,
    "start_time": "2022-02-09T22:38:55.045Z"
   },
   {
    "duration": 900,
    "start_time": "2022-02-09T22:38:55.145Z"
   },
   {
    "duration": 18,
    "start_time": "2022-02-09T22:38:56.049Z"
   },
   {
    "duration": 103,
    "start_time": "2022-02-09T22:38:56.070Z"
   },
   {
    "duration": 974,
    "start_time": "2022-02-09T22:38:56.175Z"
   },
   {
    "duration": 13,
    "start_time": "2022-02-09T22:38:57.151Z"
   },
   {
    "duration": 486,
    "start_time": "2022-02-09T22:38:57.166Z"
   },
   {
    "duration": 466,
    "start_time": "2022-02-09T22:42:19.822Z"
   },
   {
    "duration": 536,
    "start_time": "2022-02-09T22:42:26.519Z"
   },
   {
    "duration": 358,
    "start_time": "2022-02-10T07:15:30.631Z"
   },
   {
    "duration": 1067,
    "start_time": "2022-02-10T07:15:48.671Z"
   },
   {
    "duration": 46,
    "start_time": "2022-02-10T07:15:49.740Z"
   },
   {
    "duration": 9,
    "start_time": "2022-02-10T07:15:49.790Z"
   },
   {
    "duration": 35,
    "start_time": "2022-02-10T07:15:49.800Z"
   },
   {
    "duration": 2,
    "start_time": "2022-02-10T07:15:49.836Z"
   },
   {
    "duration": 247,
    "start_time": "2022-02-10T07:15:49.839Z"
   },
   {
    "duration": 3,
    "start_time": "2022-02-10T07:15:50.088Z"
   },
   {
    "duration": 19,
    "start_time": "2022-02-10T07:15:50.092Z"
   },
   {
    "duration": 19,
    "start_time": "2022-02-10T07:15:50.112Z"
   },
   {
    "duration": 11,
    "start_time": "2022-02-10T07:15:50.132Z"
   },
   {
    "duration": 14,
    "start_time": "2022-02-10T07:15:50.145Z"
   },
   {
    "duration": 11,
    "start_time": "2022-02-10T07:15:50.160Z"
   },
   {
    "duration": 13,
    "start_time": "2022-02-10T07:15:50.172Z"
   },
   {
    "duration": 6,
    "start_time": "2022-02-10T07:15:50.186Z"
   },
   {
    "duration": 11,
    "start_time": "2022-02-10T07:15:50.193Z"
   },
   {
    "duration": 27,
    "start_time": "2022-02-10T07:15:50.205Z"
   },
   {
    "duration": 10,
    "start_time": "2022-02-10T07:15:50.233Z"
   },
   {
    "duration": 6,
    "start_time": "2022-02-10T07:15:50.244Z"
   },
   {
    "duration": 11,
    "start_time": "2022-02-10T07:15:50.251Z"
   },
   {
    "duration": 23,
    "start_time": "2022-02-10T07:15:50.263Z"
   },
   {
    "duration": 40,
    "start_time": "2022-02-10T07:15:50.288Z"
   },
   {
    "duration": 12,
    "start_time": "2022-02-10T07:15:50.331Z"
   },
   {
    "duration": 4,
    "start_time": "2022-02-10T07:15:50.345Z"
   },
   {
    "duration": 2,
    "start_time": "2022-02-10T07:15:50.351Z"
   },
   {
    "duration": 5,
    "start_time": "2022-02-10T07:15:50.354Z"
   },
   {
    "duration": 384,
    "start_time": "2022-02-10T07:15:50.360Z"
   },
   {
    "duration": 339,
    "start_time": "2022-02-10T07:15:50.746Z"
   },
   {
    "duration": 13,
    "start_time": "2022-02-10T07:15:51.087Z"
   },
   {
    "duration": 7,
    "start_time": "2022-02-10T07:15:51.102Z"
   },
   {
    "duration": 387,
    "start_time": "2022-02-10T07:15:51.127Z"
   },
   {
    "duration": 41,
    "start_time": "2022-02-10T07:15:51.516Z"
   },
   {
    "duration": 9,
    "start_time": "2022-02-10T07:15:51.558Z"
   },
   {
    "duration": 5,
    "start_time": "2022-02-10T07:15:51.569Z"
   },
   {
    "duration": 69,
    "start_time": "2022-02-10T07:15:51.575Z"
   },
   {
    "duration": 347,
    "start_time": "2022-02-10T07:15:51.646Z"
   },
   {
    "duration": 405,
    "start_time": "2022-02-10T07:15:51.994Z"
   },
   {
    "duration": 36,
    "start_time": "2022-02-10T07:15:52.401Z"
   },
   {
    "duration": 3259,
    "start_time": "2022-02-10T07:15:52.439Z"
   },
   {
    "duration": 3417,
    "start_time": "2022-02-10T07:15:55.700Z"
   },
   {
    "duration": 58,
    "start_time": "2022-02-10T07:15:59.119Z"
   },
   {
    "duration": 540,
    "start_time": "2022-02-10T07:15:59.179Z"
   },
   {
    "duration": 7,
    "start_time": "2022-02-10T07:15:59.721Z"
   },
   {
    "duration": 53,
    "start_time": "2022-02-10T07:15:59.729Z"
   },
   {
    "duration": 565,
    "start_time": "2022-02-10T07:15:59.784Z"
   },
   {
    "duration": 7,
    "start_time": "2022-02-10T07:16:00.351Z"
   },
   {
    "duration": 280,
    "start_time": "2022-02-10T07:16:00.359Z"
   },
   {
    "duration": 2,
    "start_time": "2022-02-10T07:16:00.641Z"
   },
   {
    "duration": 33,
    "start_time": "2022-02-10T07:16:00.644Z"
   },
   {
    "duration": 24,
    "start_time": "2022-02-10T07:16:00.679Z"
   },
   {
    "duration": 18,
    "start_time": "2022-02-10T07:18:14.223Z"
   },
   {
    "duration": 410,
    "start_time": "2022-02-10T07:18:29.733Z"
   },
   {
    "duration": 510,
    "start_time": "2022-02-10T07:18:38.014Z"
   },
   {
    "duration": 566,
    "start_time": "2022-02-10T07:18:56.525Z"
   },
   {
    "duration": 447,
    "start_time": "2022-02-10T07:19:03.900Z"
   },
   {
    "duration": 450,
    "start_time": "2022-02-10T07:19:08.973Z"
   },
   {
    "duration": 144,
    "start_time": "2022-02-10T07:24:54.182Z"
   },
   {
    "duration": 696,
    "start_time": "2022-02-10T07:25:31.342Z"
   },
   {
    "duration": 140,
    "start_time": "2022-02-10T07:25:40.272Z"
   },
   {
    "duration": 140,
    "start_time": "2022-02-10T07:26:10.293Z"
   },
   {
    "duration": 233,
    "start_time": "2022-02-10T07:26:21.349Z"
   },
   {
    "duration": 141,
    "start_time": "2022-02-10T07:26:32.708Z"
   },
   {
    "duration": 111,
    "start_time": "2022-02-10T07:31:17.945Z"
   },
   {
    "duration": 333,
    "start_time": "2022-02-10T07:31:30.313Z"
   },
   {
    "duration": 588,
    "start_time": "2022-02-10T07:31:43.775Z"
   },
   {
    "duration": 105,
    "start_time": "2022-02-10T07:31:49.177Z"
   },
   {
    "duration": 356,
    "start_time": "2022-02-10T07:31:53.575Z"
   },
   {
    "duration": 332,
    "start_time": "2022-02-10T07:32:16.350Z"
   },
   {
    "duration": 357,
    "start_time": "2022-02-10T07:33:21.815Z"
   },
   {
    "duration": 700,
    "start_time": "2022-02-10T07:34:21.133Z"
   },
   {
    "duration": 664,
    "start_time": "2022-02-10T07:34:27.133Z"
   },
   {
    "duration": 656,
    "start_time": "2022-02-10T07:34:41.256Z"
   },
   {
    "duration": 870,
    "start_time": "2022-02-10T07:35:47.221Z"
   },
   {
    "duration": 652,
    "start_time": "2022-02-10T07:37:37.458Z"
   },
   {
    "duration": 523,
    "start_time": "2022-02-10T07:38:38.193Z"
   },
   {
    "duration": 655,
    "start_time": "2022-02-10T07:38:46.344Z"
   },
   {
    "duration": 685,
    "start_time": "2022-02-10T07:43:27.428Z"
   },
   {
    "duration": 765,
    "start_time": "2022-02-10T07:44:35.066Z"
   },
   {
    "duration": 577,
    "start_time": "2022-02-10T07:44:56.682Z"
   },
   {
    "duration": 602,
    "start_time": "2022-02-10T07:45:05.666Z"
   },
   {
    "duration": 1119,
    "start_time": "2022-02-10T07:45:48.528Z"
   },
   {
    "duration": 45,
    "start_time": "2022-02-10T07:45:49.648Z"
   },
   {
    "duration": 8,
    "start_time": "2022-02-10T07:45:49.695Z"
   },
   {
    "duration": 33,
    "start_time": "2022-02-10T07:45:49.705Z"
   },
   {
    "duration": 2,
    "start_time": "2022-02-10T07:45:49.740Z"
   },
   {
    "duration": 260,
    "start_time": "2022-02-10T07:45:49.743Z"
   },
   {
    "duration": 4,
    "start_time": "2022-02-10T07:45:50.005Z"
   },
   {
    "duration": 28,
    "start_time": "2022-02-10T07:45:50.011Z"
   },
   {
    "duration": 7,
    "start_time": "2022-02-10T07:45:50.041Z"
   },
   {
    "duration": 11,
    "start_time": "2022-02-10T07:45:50.050Z"
   },
   {
    "duration": 14,
    "start_time": "2022-02-10T07:45:50.062Z"
   },
   {
    "duration": 12,
    "start_time": "2022-02-10T07:45:50.077Z"
   },
   {
    "duration": 36,
    "start_time": "2022-02-10T07:45:50.091Z"
   },
   {
    "duration": 6,
    "start_time": "2022-02-10T07:45:50.128Z"
   },
   {
    "duration": 9,
    "start_time": "2022-02-10T07:45:50.135Z"
   },
   {
    "duration": 10,
    "start_time": "2022-02-10T07:45:50.145Z"
   },
   {
    "duration": 15,
    "start_time": "2022-02-10T07:45:50.156Z"
   },
   {
    "duration": 8,
    "start_time": "2022-02-10T07:45:50.172Z"
   },
   {
    "duration": 11,
    "start_time": "2022-02-10T07:45:50.181Z"
   },
   {
    "duration": 44,
    "start_time": "2022-02-10T07:45:50.194Z"
   },
   {
    "duration": 14,
    "start_time": "2022-02-10T07:45:50.239Z"
   },
   {
    "duration": 17,
    "start_time": "2022-02-10T07:45:50.255Z"
   },
   {
    "duration": 16,
    "start_time": "2022-02-10T07:45:50.275Z"
   },
   {
    "duration": 15,
    "start_time": "2022-02-10T07:45:50.293Z"
   },
   {
    "duration": 26,
    "start_time": "2022-02-10T07:45:50.309Z"
   },
   {
    "duration": 384,
    "start_time": "2022-02-10T07:45:50.337Z"
   },
   {
    "duration": 339,
    "start_time": "2022-02-10T07:45:50.723Z"
   },
   {
    "duration": 13,
    "start_time": "2022-02-10T07:45:51.063Z"
   },
   {
    "duration": 11,
    "start_time": "2022-02-10T07:45:51.077Z"
   },
   {
    "duration": 415,
    "start_time": "2022-02-10T07:45:51.089Z"
   },
   {
    "duration": 39,
    "start_time": "2022-02-10T07:45:51.505Z"
   },
   {
    "duration": 9,
    "start_time": "2022-02-10T07:45:51.545Z"
   },
   {
    "duration": 5,
    "start_time": "2022-02-10T07:45:51.555Z"
   },
   {
    "duration": 70,
    "start_time": "2022-02-10T07:45:51.561Z"
   },
   {
    "duration": 344,
    "start_time": "2022-02-10T07:45:51.632Z"
   },
   {
    "duration": 417,
    "start_time": "2022-02-10T07:45:51.977Z"
   },
   {
    "duration": 33,
    "start_time": "2022-02-10T07:45:52.395Z"
   },
   {
    "duration": 4123,
    "start_time": "2022-02-10T07:45:52.429Z"
   },
   {
    "duration": 3578,
    "start_time": "2022-02-10T07:45:56.554Z"
   },
   {
    "duration": 52,
    "start_time": "2022-02-10T07:46:00.133Z"
   },
   {
    "duration": 549,
    "start_time": "2022-02-10T07:46:00.186Z"
   },
   {
    "duration": 6,
    "start_time": "2022-02-10T07:46:00.737Z"
   },
   {
    "duration": 66,
    "start_time": "2022-02-10T07:46:00.744Z"
   },
   {
    "duration": 624,
    "start_time": "2022-02-10T07:46:00.812Z"
   },
   {
    "duration": 6,
    "start_time": "2022-02-10T07:46:01.438Z"
   },
   {
    "duration": 289,
    "start_time": "2022-02-10T07:46:01.446Z"
   },
   {
    "duration": 19,
    "start_time": "2022-02-10T07:46:01.736Z"
   },
   {
    "duration": 533,
    "start_time": "2022-02-10T07:46:01.756Z"
   },
   {
    "duration": 158,
    "start_time": "2022-02-10T07:46:02.291Z"
   },
   {
    "duration": 735,
    "start_time": "2022-02-10T07:46:02.451Z"
   },
   {
    "duration": 140,
    "start_time": "2022-02-10T07:47:25.335Z"
   },
   {
    "duration": 157,
    "start_time": "2022-02-10T07:47:33.919Z"
   },
   {
    "duration": 149,
    "start_time": "2022-02-10T07:47:36.015Z"
   },
   {
    "duration": 135,
    "start_time": "2022-02-10T07:47:53.154Z"
   },
   {
    "duration": 569,
    "start_time": "2022-02-10T07:48:25.135Z"
   },
   {
    "duration": 586,
    "start_time": "2022-02-10T07:49:13.878Z"
   },
   {
    "duration": 546,
    "start_time": "2022-02-10T07:50:10.109Z"
   },
   {
    "duration": 606,
    "start_time": "2022-02-10T07:55:20.089Z"
   },
   {
    "duration": 1071,
    "start_time": "2022-02-10T07:55:34.487Z"
   },
   {
    "duration": 48,
    "start_time": "2022-02-10T07:55:35.560Z"
   },
   {
    "duration": 9,
    "start_time": "2022-02-10T07:55:35.609Z"
   },
   {
    "duration": 26,
    "start_time": "2022-02-10T07:55:35.620Z"
   },
   {
    "duration": 2,
    "start_time": "2022-02-10T07:55:35.648Z"
   },
   {
    "duration": 248,
    "start_time": "2022-02-10T07:55:35.651Z"
   },
   {
    "duration": 3,
    "start_time": "2022-02-10T07:55:35.901Z"
   },
   {
    "duration": 25,
    "start_time": "2022-02-10T07:55:35.906Z"
   },
   {
    "duration": 8,
    "start_time": "2022-02-10T07:55:35.933Z"
   },
   {
    "duration": 13,
    "start_time": "2022-02-10T07:55:35.942Z"
   },
   {
    "duration": 13,
    "start_time": "2022-02-10T07:55:35.956Z"
   },
   {
    "duration": 12,
    "start_time": "2022-02-10T07:55:35.970Z"
   },
   {
    "duration": 12,
    "start_time": "2022-02-10T07:55:35.984Z"
   },
   {
    "duration": 31,
    "start_time": "2022-02-10T07:55:35.997Z"
   },
   {
    "duration": 9,
    "start_time": "2022-02-10T07:55:36.029Z"
   },
   {
    "duration": 9,
    "start_time": "2022-02-10T07:55:36.039Z"
   },
   {
    "duration": 7,
    "start_time": "2022-02-10T07:55:36.050Z"
   },
   {
    "duration": 8,
    "start_time": "2022-02-10T07:55:36.058Z"
   },
   {
    "duration": 11,
    "start_time": "2022-02-10T07:55:36.068Z"
   },
   {
    "duration": 59,
    "start_time": "2022-02-10T07:55:36.081Z"
   },
   {
    "duration": 16,
    "start_time": "2022-02-10T07:55:36.141Z"
   },
   {
    "duration": 16,
    "start_time": "2022-02-10T07:55:36.159Z"
   },
   {
    "duration": 5,
    "start_time": "2022-02-10T07:55:36.179Z"
   },
   {
    "duration": 3,
    "start_time": "2022-02-10T07:55:36.186Z"
   },
   {
    "duration": 6,
    "start_time": "2022-02-10T07:55:36.191Z"
   },
   {
    "duration": 397,
    "start_time": "2022-02-10T07:55:36.199Z"
   },
   {
    "duration": 346,
    "start_time": "2022-02-10T07:55:36.598Z"
   },
   {
    "duration": 13,
    "start_time": "2022-02-10T07:55:36.946Z"
   },
   {
    "duration": 8,
    "start_time": "2022-02-10T07:55:36.961Z"
   },
   {
    "duration": 413,
    "start_time": "2022-02-10T07:55:36.970Z"
   },
   {
    "duration": 47,
    "start_time": "2022-02-10T07:55:37.384Z"
   },
   {
    "duration": 8,
    "start_time": "2022-02-10T07:55:37.433Z"
   },
   {
    "duration": 7,
    "start_time": "2022-02-10T07:55:37.443Z"
   },
   {
    "duration": 53,
    "start_time": "2022-02-10T07:55:37.452Z"
   },
   {
    "duration": 354,
    "start_time": "2022-02-10T07:55:37.506Z"
   },
   {
    "duration": 416,
    "start_time": "2022-02-10T07:55:37.861Z"
   },
   {
    "duration": 21,
    "start_time": "2022-02-10T07:55:38.278Z"
   },
   {
    "duration": 3786,
    "start_time": "2022-02-10T07:55:38.301Z"
   },
   {
    "duration": 4178,
    "start_time": "2022-02-10T07:55:42.089Z"
   },
   {
    "duration": 86,
    "start_time": "2022-02-10T07:55:46.268Z"
   },
   {
    "duration": 751,
    "start_time": "2022-02-10T07:55:46.356Z"
   },
   {
    "duration": 6,
    "start_time": "2022-02-10T07:55:47.109Z"
   },
   {
    "duration": 56,
    "start_time": "2022-02-10T07:55:47.116Z"
   },
   {
    "duration": 570,
    "start_time": "2022-02-10T07:55:47.173Z"
   },
   {
    "duration": 6,
    "start_time": "2022-02-10T07:55:47.745Z"
   },
   {
    "duration": 280,
    "start_time": "2022-02-10T07:55:47.753Z"
   },
   {
    "duration": 19,
    "start_time": "2022-02-10T07:55:48.035Z"
   },
   {
    "duration": 532,
    "start_time": "2022-02-10T07:55:48.056Z"
   },
   {
    "duration": 157,
    "start_time": "2022-02-10T07:55:48.589Z"
   },
   {
    "duration": 149,
    "start_time": "2022-02-10T07:55:48.748Z"
   },
   {
    "duration": 631,
    "start_time": "2022-02-10T07:55:48.898Z"
   },
   {
    "duration": -672,
    "start_time": "2022-02-10T07:55:50.202Z"
   },
   {
    "duration": 547,
    "start_time": "2022-02-10T07:56:13.097Z"
   },
   {
    "duration": 349,
    "start_time": "2022-02-10T07:57:40.017Z"
   },
   {
    "duration": 134,
    "start_time": "2022-02-10T07:57:48.839Z"
   },
   {
    "duration": 634,
    "start_time": "2022-02-10T07:59:06.975Z"
   },
   {
    "duration": 681,
    "start_time": "2022-02-10T07:59:39.470Z"
   },
   {
    "duration": 6,
    "start_time": "2022-02-10T08:00:16.165Z"
   },
   {
    "duration": 877,
    "start_time": "2022-02-10T08:10:33.923Z"
   },
   {
    "duration": 777,
    "start_time": "2022-02-10T08:11:23.890Z"
   },
   {
    "duration": 747,
    "start_time": "2022-02-10T08:15:05.750Z"
   },
   {
    "duration": 748,
    "start_time": "2022-02-10T08:15:43.030Z"
   },
   {
    "duration": 787,
    "start_time": "2022-02-10T08:16:42.108Z"
   },
   {
    "duration": 753,
    "start_time": "2022-02-10T08:17:21.388Z"
   },
   {
    "duration": 534,
    "start_time": "2022-02-10T08:25:44.858Z"
   },
   {
    "duration": 167,
    "start_time": "2022-02-10T08:25:52.026Z"
   },
   {
    "duration": 89,
    "start_time": "2022-02-10T08:25:53.955Z"
   },
   {
    "duration": 145,
    "start_time": "2022-02-10T08:27:44.600Z"
   },
   {
    "duration": 750,
    "start_time": "2022-02-10T08:27:48.697Z"
   },
   {
    "duration": 118,
    "start_time": "2022-02-10T08:31:19.912Z"
   },
   {
    "duration": 105,
    "start_time": "2022-02-10T08:32:28.700Z"
   },
   {
    "duration": 119,
    "start_time": "2022-02-10T08:33:44.762Z"
   },
   {
    "duration": 114,
    "start_time": "2022-02-10T08:34:04.091Z"
   },
   {
    "duration": 158,
    "start_time": "2022-02-10T08:34:40.498Z"
   },
   {
    "duration": 107,
    "start_time": "2022-02-10T08:34:45.801Z"
   },
   {
    "duration": 113,
    "start_time": "2022-02-10T08:34:55.369Z"
   },
   {
    "duration": 973,
    "start_time": "2022-02-10T08:35:15.561Z"
   },
   {
    "duration": 198,
    "start_time": "2022-02-10T08:36:50.775Z"
   },
   {
    "duration": 216,
    "start_time": "2022-02-10T08:36:57.311Z"
   },
   {
    "duration": 217,
    "start_time": "2022-02-10T08:37:34.847Z"
   },
   {
    "duration": 343,
    "start_time": "2022-02-10T08:37:49.064Z"
   },
   {
    "duration": 302,
    "start_time": "2022-02-10T08:37:56.878Z"
   },
   {
    "duration": 442,
    "start_time": "2022-02-10T08:39:09.485Z"
   },
   {
    "duration": 376,
    "start_time": "2022-02-10T08:39:30.293Z"
   },
   {
    "duration": 423,
    "start_time": "2022-02-10T08:39:40.789Z"
   },
   {
    "duration": 429,
    "start_time": "2022-02-10T08:40:14.062Z"
   },
   {
    "duration": 432,
    "start_time": "2022-02-10T08:40:32.028Z"
   },
   {
    "duration": 433,
    "start_time": "2022-02-10T08:40:38.085Z"
   },
   {
    "duration": 528,
    "start_time": "2022-02-10T08:42:15.650Z"
   },
   {
    "duration": 435,
    "start_time": "2022-02-10T08:42:38.616Z"
   },
   {
    "duration": 479,
    "start_time": "2022-02-10T08:42:48.650Z"
   },
   {
    "duration": 494,
    "start_time": "2022-02-10T08:44:23.080Z"
   },
   {
    "duration": 489,
    "start_time": "2022-02-10T08:46:21.438Z"
   },
   {
    "duration": 1104,
    "start_time": "2022-02-10T08:46:46.495Z"
   },
   {
    "duration": 47,
    "start_time": "2022-02-10T08:46:47.601Z"
   },
   {
    "duration": 9,
    "start_time": "2022-02-10T08:46:47.652Z"
   },
   {
    "duration": 35,
    "start_time": "2022-02-10T08:46:47.663Z"
   },
   {
    "duration": 3,
    "start_time": "2022-02-10T08:46:47.699Z"
   },
   {
    "duration": 281,
    "start_time": "2022-02-10T08:46:47.703Z"
   },
   {
    "duration": 5,
    "start_time": "2022-02-10T08:46:47.988Z"
   },
   {
    "duration": 33,
    "start_time": "2022-02-10T08:46:47.995Z"
   },
   {
    "duration": 8,
    "start_time": "2022-02-10T08:46:48.030Z"
   },
   {
    "duration": 16,
    "start_time": "2022-02-10T08:46:48.040Z"
   },
   {
    "duration": 18,
    "start_time": "2022-02-10T08:46:48.057Z"
   },
   {
    "duration": 18,
    "start_time": "2022-02-10T08:46:48.076Z"
   },
   {
    "duration": 12,
    "start_time": "2022-02-10T08:46:48.095Z"
   },
   {
    "duration": 7,
    "start_time": "2022-02-10T08:46:48.127Z"
   },
   {
    "duration": 11,
    "start_time": "2022-02-10T08:46:48.136Z"
   },
   {
    "duration": 9,
    "start_time": "2022-02-10T08:46:48.148Z"
   },
   {
    "duration": 14,
    "start_time": "2022-02-10T08:46:48.158Z"
   },
   {
    "duration": 6,
    "start_time": "2022-02-10T08:46:48.173Z"
   },
   {
    "duration": 12,
    "start_time": "2022-02-10T08:46:48.181Z"
   },
   {
    "duration": 58,
    "start_time": "2022-02-10T08:46:48.194Z"
   },
   {
    "duration": 18,
    "start_time": "2022-02-10T08:46:48.253Z"
   },
   {
    "duration": 15,
    "start_time": "2022-02-10T08:46:48.275Z"
   },
   {
    "duration": 6,
    "start_time": "2022-02-10T08:46:48.292Z"
   },
   {
    "duration": 32,
    "start_time": "2022-02-10T08:46:48.300Z"
   },
   {
    "duration": 6,
    "start_time": "2022-02-10T08:46:48.334Z"
   },
   {
    "duration": 391,
    "start_time": "2022-02-10T08:46:48.342Z"
   },
   {
    "duration": 356,
    "start_time": "2022-02-10T08:46:48.734Z"
   },
   {
    "duration": 13,
    "start_time": "2022-02-10T08:46:49.091Z"
   },
   {
    "duration": 22,
    "start_time": "2022-02-10T08:46:49.106Z"
   },
   {
    "duration": 408,
    "start_time": "2022-02-10T08:46:49.129Z"
   },
   {
    "duration": 33,
    "start_time": "2022-02-10T08:46:49.539Z"
   },
   {
    "duration": 10,
    "start_time": "2022-02-10T08:46:49.573Z"
   },
   {
    "duration": 6,
    "start_time": "2022-02-10T08:46:49.584Z"
   },
   {
    "duration": 78,
    "start_time": "2022-02-10T08:46:49.592Z"
   },
   {
    "duration": 356,
    "start_time": "2022-02-10T08:46:49.671Z"
   },
   {
    "duration": 412,
    "start_time": "2022-02-10T08:46:50.028Z"
   },
   {
    "duration": 23,
    "start_time": "2022-02-10T08:46:50.441Z"
   },
   {
    "duration": 4269,
    "start_time": "2022-02-10T08:46:50.465Z"
   },
   {
    "duration": 5848,
    "start_time": "2022-02-10T08:46:54.736Z"
   },
   {
    "duration": 98,
    "start_time": "2022-02-10T08:47:00.586Z"
   },
   {
    "duration": 542,
    "start_time": "2022-02-10T08:47:00.685Z"
   },
   {
    "duration": 6,
    "start_time": "2022-02-10T08:47:01.228Z"
   },
   {
    "duration": 68,
    "start_time": "2022-02-10T08:47:01.236Z"
   },
   {
    "duration": 758,
    "start_time": "2022-02-10T08:47:01.305Z"
   },
   {
    "duration": 7,
    "start_time": "2022-02-10T08:47:02.065Z"
   },
   {
    "duration": 291,
    "start_time": "2022-02-10T08:47:02.074Z"
   },
   {
    "duration": 18,
    "start_time": "2022-02-10T08:47:02.367Z"
   },
   {
    "duration": 884,
    "start_time": "2022-02-10T08:47:02.387Z"
   },
   {
    "duration": 254,
    "start_time": "2022-02-10T08:47:03.273Z"
   },
   {
    "duration": 238,
    "start_time": "2022-02-10T08:47:03.529Z"
   },
   {
    "duration": 160,
    "start_time": "2022-02-10T08:47:03.769Z"
   },
   {
    "duration": 907,
    "start_time": "2022-02-10T08:47:03.930Z"
   },
   {
    "duration": 828,
    "start_time": "2022-02-10T08:47:21.228Z"
   },
   {
    "duration": 1188,
    "start_time": "2022-02-10T08:48:25.596Z"
   },
   {
    "duration": 574,
    "start_time": "2022-02-10T08:49:51.259Z"
   },
   {
    "duration": 500,
    "start_time": "2022-02-10T08:50:06.827Z"
   },
   {
    "duration": 451,
    "start_time": "2022-02-10T08:50:17.050Z"
   },
   {
    "duration": 470,
    "start_time": "2022-02-10T08:50:29.569Z"
   },
   {
    "duration": 458,
    "start_time": "2022-02-10T08:50:34.737Z"
   },
   {
    "duration": 463,
    "start_time": "2022-02-10T08:50:39.816Z"
   },
   {
    "duration": 628,
    "start_time": "2022-02-10T08:50:52.457Z"
   },
   {
    "duration": 700,
    "start_time": "2022-02-10T08:52:05.832Z"
   },
   {
    "duration": 494,
    "start_time": "2022-02-10T08:52:15.600Z"
   },
   {
    "duration": 492,
    "start_time": "2022-02-10T08:52:38.200Z"
   },
   {
    "duration": 410,
    "start_time": "2022-02-10T08:52:50.279Z"
   },
   {
    "duration": 494,
    "start_time": "2022-02-10T08:53:22.294Z"
   },
   {
    "duration": 1083,
    "start_time": "2022-02-10T08:53:37.570Z"
   },
   {
    "duration": 46,
    "start_time": "2022-02-10T08:53:38.657Z"
   },
   {
    "duration": 10,
    "start_time": "2022-02-10T08:53:38.707Z"
   },
   {
    "duration": 29,
    "start_time": "2022-02-10T08:53:38.718Z"
   },
   {
    "duration": 2,
    "start_time": "2022-02-10T08:53:38.749Z"
   },
   {
    "duration": 250,
    "start_time": "2022-02-10T08:53:38.753Z"
   },
   {
    "duration": 4,
    "start_time": "2022-02-10T08:53:39.006Z"
   },
   {
    "duration": 26,
    "start_time": "2022-02-10T08:53:39.012Z"
   },
   {
    "duration": 10,
    "start_time": "2022-02-10T08:53:39.039Z"
   },
   {
    "duration": 18,
    "start_time": "2022-02-10T08:53:39.051Z"
   },
   {
    "duration": 18,
    "start_time": "2022-02-10T08:53:39.071Z"
   },
   {
    "duration": 50,
    "start_time": "2022-02-10T08:53:39.091Z"
   },
   {
    "duration": 18,
    "start_time": "2022-02-10T08:53:39.143Z"
   },
   {
    "duration": 8,
    "start_time": "2022-02-10T08:53:39.163Z"
   },
   {
    "duration": 10,
    "start_time": "2022-02-10T08:53:39.173Z"
   },
   {
    "duration": 12,
    "start_time": "2022-02-10T08:53:39.185Z"
   },
   {
    "duration": 36,
    "start_time": "2022-02-10T08:53:39.199Z"
   },
   {
    "duration": 11,
    "start_time": "2022-02-10T08:53:39.237Z"
   },
   {
    "duration": 14,
    "start_time": "2022-02-10T08:53:39.250Z"
   },
   {
    "duration": 25,
    "start_time": "2022-02-10T08:53:39.266Z"
   },
   {
    "duration": 43,
    "start_time": "2022-02-10T08:53:39.293Z"
   },
   {
    "duration": 14,
    "start_time": "2022-02-10T08:53:39.339Z"
   },
   {
    "duration": 5,
    "start_time": "2022-02-10T08:53:39.355Z"
   },
   {
    "duration": 4,
    "start_time": "2022-02-10T08:53:39.361Z"
   },
   {
    "duration": 6,
    "start_time": "2022-02-10T08:53:39.366Z"
   },
   {
    "duration": 405,
    "start_time": "2022-02-10T08:53:39.373Z"
   },
   {
    "duration": 348,
    "start_time": "2022-02-10T08:53:39.779Z"
   },
   {
    "duration": 13,
    "start_time": "2022-02-10T08:53:40.129Z"
   },
   {
    "duration": 7,
    "start_time": "2022-02-10T08:53:40.144Z"
   },
   {
    "duration": 414,
    "start_time": "2022-02-10T08:53:40.153Z"
   },
   {
    "duration": 61,
    "start_time": "2022-02-10T08:53:40.569Z"
   },
   {
    "duration": 8,
    "start_time": "2022-02-10T08:53:40.632Z"
   },
   {
    "duration": 8,
    "start_time": "2022-02-10T08:53:40.641Z"
   },
   {
    "duration": 54,
    "start_time": "2022-02-10T08:53:40.650Z"
   },
   {
    "duration": 363,
    "start_time": "2022-02-10T08:53:40.706Z"
   },
   {
    "duration": 420,
    "start_time": "2022-02-10T08:53:41.070Z"
   },
   {
    "duration": 35,
    "start_time": "2022-02-10T08:53:41.492Z"
   },
   {
    "duration": 3785,
    "start_time": "2022-02-10T08:53:41.529Z"
   },
   {
    "duration": 3501,
    "start_time": "2022-02-10T08:53:45.316Z"
   },
   {
    "duration": 53,
    "start_time": "2022-02-10T08:53:48.818Z"
   },
   {
    "duration": 545,
    "start_time": "2022-02-10T08:53:48.873Z"
   },
   {
    "duration": 11,
    "start_time": "2022-02-10T08:53:49.420Z"
   },
   {
    "duration": 55,
    "start_time": "2022-02-10T08:53:49.433Z"
   },
   {
    "duration": 573,
    "start_time": "2022-02-10T08:53:49.489Z"
   },
   {
    "duration": 6,
    "start_time": "2022-02-10T08:53:50.064Z"
   },
   {
    "duration": 275,
    "start_time": "2022-02-10T08:53:50.072Z"
   },
   {
    "duration": 17,
    "start_time": "2022-02-10T08:53:50.349Z"
   },
   {
    "duration": 523,
    "start_time": "2022-02-10T08:53:50.367Z"
   },
   {
    "duration": 159,
    "start_time": "2022-02-10T08:53:50.892Z"
   },
   {
    "duration": 185,
    "start_time": "2022-02-10T08:53:51.053Z"
   },
   {
    "duration": 176,
    "start_time": "2022-02-10T08:53:51.240Z"
   },
   {
    "duration": 423,
    "start_time": "2022-02-10T08:53:51.417Z"
   },
   {
    "duration": 410,
    "start_time": "2022-02-10T08:55:54.661Z"
   },
   {
    "duration": 432,
    "start_time": "2022-02-10T08:58:58.114Z"
   },
   {
    "duration": 508,
    "start_time": "2022-02-10T09:00:21.040Z"
   },
   {
    "duration": 711,
    "start_time": "2022-02-10T09:01:22.760Z"
   },
   {
    "duration": 536,
    "start_time": "2022-02-10T09:02:58.942Z"
   },
   {
    "duration": 429,
    "start_time": "2022-02-10T09:03:06.926Z"
   },
   {
    "duration": 421,
    "start_time": "2022-02-10T09:03:12.374Z"
   },
   {
    "duration": 432,
    "start_time": "2022-02-10T09:03:20.014Z"
   },
   {
    "duration": 522,
    "start_time": "2022-02-10T09:03:30.973Z"
   },
   {
    "duration": 415,
    "start_time": "2022-02-10T09:03:38.253Z"
   },
   {
    "duration": 427,
    "start_time": "2022-02-10T09:03:45.813Z"
   },
   {
    "duration": 425,
    "start_time": "2022-02-10T09:03:55.960Z"
   },
   {
    "duration": 550,
    "start_time": "2022-02-10T09:04:01.029Z"
   },
   {
    "duration": 507,
    "start_time": "2022-02-10T09:04:08.973Z"
   },
   {
    "duration": 419,
    "start_time": "2022-02-10T09:05:41.844Z"
   },
   {
    "duration": 299,
    "start_time": "2022-02-10T09:06:14.171Z"
   },
   {
    "duration": 425,
    "start_time": "2022-02-10T09:06:37.339Z"
   },
   {
    "duration": 1027,
    "start_time": "2022-02-10T09:09:11.258Z"
   },
   {
    "duration": 716,
    "start_time": "2022-02-10T09:09:22.736Z"
   },
   {
    "duration": 498,
    "start_time": "2022-02-10T09:10:20.246Z"
   },
   {
    "duration": 530,
    "start_time": "2022-02-10T09:10:43.038Z"
   },
   {
    "duration": 446,
    "start_time": "2022-02-10T09:11:30.342Z"
   },
   {
    "duration": 427,
    "start_time": "2022-02-10T09:12:24.468Z"
   },
   {
    "duration": 458,
    "start_time": "2022-02-10T09:13:21.930Z"
   },
   {
    "duration": 553,
    "start_time": "2022-02-10T09:13:38.419Z"
   },
   {
    "duration": 781,
    "start_time": "2022-02-10T09:14:08.435Z"
   },
   {
    "duration": 479,
    "start_time": "2022-02-10T09:14:36.370Z"
   },
   {
    "duration": 552,
    "start_time": "2022-02-10T09:15:25.049Z"
   },
   {
    "duration": 444,
    "start_time": "2022-02-10T09:15:51.753Z"
   },
   {
    "duration": 452,
    "start_time": "2022-02-10T09:15:59.105Z"
   },
   {
    "duration": 551,
    "start_time": "2022-02-10T09:16:10.856Z"
   },
   {
    "duration": 1091,
    "start_time": "2022-02-10T09:16:20.336Z"
   },
   {
    "duration": 47,
    "start_time": "2022-02-10T09:16:21.429Z"
   },
   {
    "duration": 10,
    "start_time": "2022-02-10T09:16:21.481Z"
   },
   {
    "duration": 36,
    "start_time": "2022-02-10T09:16:21.492Z"
   },
   {
    "duration": 3,
    "start_time": "2022-02-10T09:16:21.529Z"
   },
   {
    "duration": 249,
    "start_time": "2022-02-10T09:16:21.533Z"
   },
   {
    "duration": 4,
    "start_time": "2022-02-10T09:16:21.785Z"
   },
   {
    "duration": 17,
    "start_time": "2022-02-10T09:16:21.791Z"
   },
   {
    "duration": 25,
    "start_time": "2022-02-10T09:16:21.810Z"
   },
   {
    "duration": 18,
    "start_time": "2022-02-10T09:16:21.836Z"
   },
   {
    "duration": 17,
    "start_time": "2022-02-10T09:16:21.855Z"
   },
   {
    "duration": 12,
    "start_time": "2022-02-10T09:16:21.874Z"
   },
   {
    "duration": 42,
    "start_time": "2022-02-10T09:16:21.888Z"
   },
   {
    "duration": 6,
    "start_time": "2022-02-10T09:16:21.931Z"
   },
   {
    "duration": 9,
    "start_time": "2022-02-10T09:16:21.939Z"
   },
   {
    "duration": 7,
    "start_time": "2022-02-10T09:16:21.949Z"
   },
   {
    "duration": 9,
    "start_time": "2022-02-10T09:16:21.957Z"
   },
   {
    "duration": 6,
    "start_time": "2022-02-10T09:16:21.968Z"
   },
   {
    "duration": 12,
    "start_time": "2022-02-10T09:16:21.976Z"
   },
   {
    "duration": 60,
    "start_time": "2022-02-10T09:16:21.990Z"
   },
   {
    "duration": 16,
    "start_time": "2022-02-10T09:16:22.052Z"
   },
   {
    "duration": 14,
    "start_time": "2022-02-10T09:16:22.072Z"
   },
   {
    "duration": 5,
    "start_time": "2022-02-10T09:16:22.089Z"
   },
   {
    "duration": 31,
    "start_time": "2022-02-10T09:16:22.096Z"
   },
   {
    "duration": 4,
    "start_time": "2022-02-10T09:16:22.129Z"
   },
   {
    "duration": 377,
    "start_time": "2022-02-10T09:16:22.135Z"
   },
   {
    "duration": 348,
    "start_time": "2022-02-10T09:16:22.514Z"
   },
   {
    "duration": 13,
    "start_time": "2022-02-10T09:16:22.864Z"
   },
   {
    "duration": 8,
    "start_time": "2022-02-10T09:16:22.879Z"
   },
   {
    "duration": 414,
    "start_time": "2022-02-10T09:16:22.888Z"
   },
   {
    "duration": 45,
    "start_time": "2022-02-10T09:16:23.304Z"
   },
   {
    "duration": 8,
    "start_time": "2022-02-10T09:16:23.350Z"
   },
   {
    "duration": 5,
    "start_time": "2022-02-10T09:16:23.360Z"
   },
   {
    "duration": 65,
    "start_time": "2022-02-10T09:16:23.367Z"
   },
   {
    "duration": 351,
    "start_time": "2022-02-10T09:16:23.434Z"
   },
   {
    "duration": 417,
    "start_time": "2022-02-10T09:16:23.787Z"
   },
   {
    "duration": 30,
    "start_time": "2022-02-10T09:16:24.206Z"
   },
   {
    "duration": 3414,
    "start_time": "2022-02-10T09:16:24.237Z"
   },
   {
    "duration": 3323,
    "start_time": "2022-02-10T09:16:27.654Z"
   },
   {
    "duration": 64,
    "start_time": "2022-02-10T09:16:30.979Z"
   },
   {
    "duration": 620,
    "start_time": "2022-02-10T09:16:31.045Z"
   },
   {
    "duration": 6,
    "start_time": "2022-02-10T09:16:31.666Z"
   },
   {
    "duration": 62,
    "start_time": "2022-02-10T09:16:31.674Z"
   },
   {
    "duration": 709,
    "start_time": "2022-02-10T09:16:31.738Z"
   },
   {
    "duration": 6,
    "start_time": "2022-02-10T09:16:32.449Z"
   },
   {
    "duration": 275,
    "start_time": "2022-02-10T09:16:32.457Z"
   },
   {
    "duration": 160,
    "start_time": "2022-02-10T09:16:32.734Z"
   },
   {
    "duration": 216,
    "start_time": "2022-02-10T09:16:32.895Z"
   },
   {
    "duration": 143,
    "start_time": "2022-02-10T09:16:33.113Z"
   },
   {
    "duration": 422,
    "start_time": "2022-02-10T09:16:33.258Z"
   },
   {
    "duration": 609,
    "start_time": "2022-02-10T09:16:33.682Z"
   },
   {
    "duration": 303,
    "start_time": "2022-02-10T09:16:34.292Z"
   },
   {
    "duration": 496,
    "start_time": "2022-02-10T09:16:34.596Z"
   },
   {
    "duration": 524,
    "start_time": "2022-02-10T09:17:00.799Z"
   },
   {
    "duration": 469,
    "start_time": "2022-02-10T09:19:27.122Z"
   },
   {
    "duration": 510,
    "start_time": "2022-02-10T09:19:35.170Z"
   },
   {
    "duration": 525,
    "start_time": "2022-02-10T09:19:46.066Z"
   },
   {
    "duration": 821,
    "start_time": "2022-02-10T09:21:06.768Z"
   },
   {
    "duration": 770,
    "start_time": "2022-02-10T09:21:16.120Z"
   },
   {
    "duration": 531,
    "start_time": "2022-02-10T09:21:22.096Z"
   },
   {
    "duration": 456,
    "start_time": "2022-02-10T09:21:30.953Z"
   },
   {
    "duration": 483,
    "start_time": "2022-02-10T09:22:47.734Z"
   },
   {
    "duration": 559,
    "start_time": "2022-02-10T09:22:54.127Z"
   },
   {
    "duration": 463,
    "start_time": "2022-02-10T09:23:03.057Z"
   },
   {
    "duration": 664,
    "start_time": "2022-02-10T09:23:10.494Z"
   },
   {
    "duration": 7,
    "start_time": "2022-02-10T09:36:47.615Z"
   },
   {
    "duration": 443,
    "start_time": "2022-02-10T09:42:35.305Z"
   },
   {
    "duration": 6,
    "start_time": "2022-02-10T09:42:44.097Z"
   },
   {
    "duration": 8895,
    "start_time": "2022-02-10T09:49:09.530Z"
   },
   {
    "duration": 307,
    "start_time": "2022-02-10T09:49:48.498Z"
   },
   {
    "duration": 2987,
    "start_time": "2022-02-10T09:50:20.708Z"
   },
   {
    "duration": 65,
    "start_time": "2022-02-10T09:50:23.699Z"
   },
   {
    "duration": 13,
    "start_time": "2022-02-10T09:50:23.767Z"
   },
   {
    "duration": 50,
    "start_time": "2022-02-10T09:50:23.782Z"
   },
   {
    "duration": 3,
    "start_time": "2022-02-10T09:50:23.834Z"
   },
   {
    "duration": 259,
    "start_time": "2022-02-10T09:50:23.838Z"
   },
   {
    "duration": 4,
    "start_time": "2022-02-10T09:50:24.098Z"
   },
   {
    "duration": 28,
    "start_time": "2022-02-10T09:50:24.104Z"
   },
   {
    "duration": 10,
    "start_time": "2022-02-10T09:50:24.135Z"
   },
   {
    "duration": 11,
    "start_time": "2022-02-10T09:50:24.147Z"
   },
   {
    "duration": 12,
    "start_time": "2022-02-10T09:50:24.160Z"
   },
   {
    "duration": 14,
    "start_time": "2022-02-10T09:50:24.173Z"
   },
   {
    "duration": 42,
    "start_time": "2022-02-10T09:50:24.189Z"
   },
   {
    "duration": 7,
    "start_time": "2022-02-10T09:50:24.233Z"
   },
   {
    "duration": 8,
    "start_time": "2022-02-10T09:50:24.241Z"
   },
   {
    "duration": 9,
    "start_time": "2022-02-10T09:50:24.251Z"
   },
   {
    "duration": 10,
    "start_time": "2022-02-10T09:50:24.262Z"
   },
   {
    "duration": 10,
    "start_time": "2022-02-10T09:50:24.274Z"
   },
   {
    "duration": 51,
    "start_time": "2022-02-10T09:50:24.286Z"
   },
   {
    "duration": 40,
    "start_time": "2022-02-10T09:50:24.339Z"
   },
   {
    "duration": 29,
    "start_time": "2022-02-10T09:50:24.381Z"
   },
   {
    "duration": 14,
    "start_time": "2022-02-10T09:50:24.428Z"
   },
   {
    "duration": 10,
    "start_time": "2022-02-10T09:50:24.445Z"
   },
   {
    "duration": 5,
    "start_time": "2022-02-10T09:50:24.457Z"
   },
   {
    "duration": 5,
    "start_time": "2022-02-10T09:50:24.464Z"
   },
   {
    "duration": 391,
    "start_time": "2022-02-10T09:50:24.471Z"
   },
   {
    "duration": 354,
    "start_time": "2022-02-10T09:50:24.864Z"
   },
   {
    "duration": 16,
    "start_time": "2022-02-10T09:50:25.220Z"
   },
   {
    "duration": 9,
    "start_time": "2022-02-10T09:50:25.238Z"
   },
   {
    "duration": 411,
    "start_time": "2022-02-10T09:50:25.249Z"
   },
   {
    "duration": 35,
    "start_time": "2022-02-10T09:50:25.662Z"
   },
   {
    "duration": 28,
    "start_time": "2022-02-10T09:50:25.699Z"
   },
   {
    "duration": 5,
    "start_time": "2022-02-10T09:50:25.729Z"
   },
   {
    "duration": 55,
    "start_time": "2022-02-10T09:50:25.736Z"
   },
   {
    "duration": 372,
    "start_time": "2022-02-10T09:50:25.792Z"
   },
   {
    "duration": 518,
    "start_time": "2022-02-10T09:50:26.166Z"
   },
   {
    "duration": 22,
    "start_time": "2022-02-10T09:50:26.685Z"
   },
   {
    "duration": 3659,
    "start_time": "2022-02-10T09:50:26.708Z"
   },
   {
    "duration": 3729,
    "start_time": "2022-02-10T09:50:30.369Z"
   },
   {
    "duration": 65,
    "start_time": "2022-02-10T09:50:34.100Z"
   },
   {
    "duration": 557,
    "start_time": "2022-02-10T09:50:34.167Z"
   },
   {
    "duration": 8,
    "start_time": "2022-02-10T09:50:34.727Z"
   },
   {
    "duration": 79,
    "start_time": "2022-02-10T09:50:34.736Z"
   },
   {
    "duration": 734,
    "start_time": "2022-02-10T09:50:34.817Z"
   },
   {
    "duration": 6,
    "start_time": "2022-02-10T09:50:35.552Z"
   },
   {
    "duration": 278,
    "start_time": "2022-02-10T09:50:35.560Z"
   },
   {
    "duration": 157,
    "start_time": "2022-02-10T09:50:35.840Z"
   },
   {
    "duration": 224,
    "start_time": "2022-02-10T09:50:35.999Z"
   },
   {
    "duration": 138,
    "start_time": "2022-02-10T09:50:36.224Z"
   },
   {
    "duration": 419,
    "start_time": "2022-02-10T09:50:36.364Z"
   },
   {
    "duration": 436,
    "start_time": "2022-02-10T09:50:36.785Z"
   },
   {
    "duration": 480,
    "start_time": "2022-02-10T09:50:37.227Z"
   },
   {
    "duration": 22,
    "start_time": "2022-02-10T09:50:37.709Z"
   },
   {
    "duration": 10,
    "start_time": "2022-02-10T09:51:31.731Z"
   },
   {
    "duration": 10,
    "start_time": "2022-02-10T09:51:33.946Z"
   },
   {
    "duration": 1113,
    "start_time": "2022-02-10T09:51:39.119Z"
   },
   {
    "duration": 46,
    "start_time": "2022-02-10T09:51:40.234Z"
   },
   {
    "duration": 10,
    "start_time": "2022-02-10T09:51:40.285Z"
   },
   {
    "duration": 38,
    "start_time": "2022-02-10T09:51:40.296Z"
   },
   {
    "duration": 3,
    "start_time": "2022-02-10T09:51:40.336Z"
   },
   {
    "duration": 280,
    "start_time": "2022-02-10T09:51:40.340Z"
   },
   {
    "duration": 7,
    "start_time": "2022-02-10T09:51:40.622Z"
   },
   {
    "duration": 18,
    "start_time": "2022-02-10T09:51:40.631Z"
   },
   {
    "duration": 8,
    "start_time": "2022-02-10T09:51:40.651Z"
   },
   {
    "duration": 14,
    "start_time": "2022-02-10T09:51:40.661Z"
   },
   {
    "duration": 11,
    "start_time": "2022-02-10T09:51:40.677Z"
   },
   {
    "duration": 44,
    "start_time": "2022-02-10T09:51:40.690Z"
   },
   {
    "duration": 22,
    "start_time": "2022-02-10T09:51:40.736Z"
   },
   {
    "duration": 7,
    "start_time": "2022-02-10T09:51:40.760Z"
   },
   {
    "duration": 10,
    "start_time": "2022-02-10T09:51:40.769Z"
   },
   {
    "duration": 7,
    "start_time": "2022-02-10T09:51:40.780Z"
   },
   {
    "duration": 8,
    "start_time": "2022-02-10T09:51:40.789Z"
   },
   {
    "duration": 29,
    "start_time": "2022-02-10T09:51:40.799Z"
   },
   {
    "duration": 11,
    "start_time": "2022-02-10T09:51:40.829Z"
   },
   {
    "duration": 25,
    "start_time": "2022-02-10T09:51:40.842Z"
   },
   {
    "duration": 15,
    "start_time": "2022-02-10T09:51:40.869Z"
   },
   {
    "duration": 50,
    "start_time": "2022-02-10T09:51:40.888Z"
   },
   {
    "duration": 6,
    "start_time": "2022-02-10T09:51:40.940Z"
   },
   {
    "duration": 5,
    "start_time": "2022-02-10T09:51:40.948Z"
   },
   {
    "duration": 6,
    "start_time": "2022-02-10T09:51:40.955Z"
   },
   {
    "duration": 381,
    "start_time": "2022-02-10T09:51:40.963Z"
   },
   {
    "duration": 345,
    "start_time": "2022-02-10T09:51:41.346Z"
   },
   {
    "duration": 13,
    "start_time": "2022-02-10T09:51:41.693Z"
   },
   {
    "duration": 22,
    "start_time": "2022-02-10T09:51:41.707Z"
   },
   {
    "duration": 407,
    "start_time": "2022-02-10T09:51:41.730Z"
   },
   {
    "duration": 33,
    "start_time": "2022-02-10T09:51:42.138Z"
   },
   {
    "duration": 9,
    "start_time": "2022-02-10T09:51:42.172Z"
   },
   {
    "duration": 7,
    "start_time": "2022-02-10T09:51:42.183Z"
   },
   {
    "duration": 77,
    "start_time": "2022-02-10T09:51:42.191Z"
   },
   {
    "duration": 364,
    "start_time": "2022-02-10T09:51:42.270Z"
   },
   {
    "duration": 419,
    "start_time": "2022-02-10T09:51:42.636Z"
   },
   {
    "duration": 22,
    "start_time": "2022-02-10T09:51:43.057Z"
   },
   {
    "duration": 3370,
    "start_time": "2022-02-10T09:51:43.081Z"
   },
   {
    "duration": 3517,
    "start_time": "2022-02-10T09:51:46.452Z"
   },
   {
    "duration": 62,
    "start_time": "2022-02-10T09:51:49.971Z"
   },
   {
    "duration": 575,
    "start_time": "2022-02-10T09:51:50.035Z"
   },
   {
    "duration": 6,
    "start_time": "2022-02-10T09:51:50.612Z"
   },
   {
    "duration": 51,
    "start_time": "2022-02-10T09:51:50.627Z"
   },
   {
    "duration": 914,
    "start_time": "2022-02-10T09:51:50.680Z"
   },
   {
    "duration": 9,
    "start_time": "2022-02-10T09:51:51.596Z"
   },
   {
    "duration": 439,
    "start_time": "2022-02-10T09:51:51.607Z"
   },
   {
    "duration": 156,
    "start_time": "2022-02-10T09:51:52.047Z"
   },
   {
    "duration": 205,
    "start_time": "2022-02-10T09:51:52.204Z"
   },
   {
    "duration": 147,
    "start_time": "2022-02-10T09:51:52.411Z"
   },
   {
    "duration": 409,
    "start_time": "2022-02-10T09:51:52.559Z"
   },
   {
    "duration": 428,
    "start_time": "2022-02-10T09:51:52.969Z"
   },
   {
    "duration": 477,
    "start_time": "2022-02-10T09:51:53.399Z"
   },
   {
    "duration": 12,
    "start_time": "2022-02-10T09:51:53.878Z"
   },
   {
    "duration": 10,
    "start_time": "2022-02-10T09:52:33.229Z"
   },
   {
    "duration": 11,
    "start_time": "2022-02-10T09:52:34.828Z"
   },
   {
    "duration": 10,
    "start_time": "2022-02-10T09:52:43.029Z"
   },
   {
    "duration": 15,
    "start_time": "2022-02-10T09:53:00.220Z"
   },
   {
    "duration": 9,
    "start_time": "2022-02-10T09:54:07.844Z"
   },
   {
    "duration": 6,
    "start_time": "2022-02-10T09:56:21.744Z"
   },
   {
    "duration": 6,
    "start_time": "2022-02-10T09:56:37.984Z"
   },
   {
    "duration": 6,
    "start_time": "2022-02-10T09:56:56.073Z"
   },
   {
    "duration": 599,
    "start_time": "2022-02-10T09:57:24.416Z"
   },
   {
    "duration": 410,
    "start_time": "2022-02-10T11:18:37.684Z"
   },
   {
    "duration": 495,
    "start_time": "2022-02-10T11:18:49.612Z"
   },
   {
    "duration": 1092,
    "start_time": "2022-02-10T11:20:52.864Z"
   },
   {
    "duration": 48,
    "start_time": "2022-02-10T11:20:53.958Z"
   },
   {
    "duration": 10,
    "start_time": "2022-02-10T11:20:54.008Z"
   },
   {
    "duration": 32,
    "start_time": "2022-02-10T11:20:54.020Z"
   },
   {
    "duration": 8532,
    "start_time": "2022-02-10T11:20:54.053Z"
   },
   {
    "duration": -862,
    "start_time": "2022-02-10T11:21:03.450Z"
   },
   {
    "duration": -863,
    "start_time": "2022-02-10T11:21:03.452Z"
   },
   {
    "duration": -864,
    "start_time": "2022-02-10T11:21:03.454Z"
   },
   {
    "duration": -866,
    "start_time": "2022-02-10T11:21:03.456Z"
   },
   {
    "duration": -866,
    "start_time": "2022-02-10T11:21:03.457Z"
   },
   {
    "duration": -867,
    "start_time": "2022-02-10T11:21:03.459Z"
   },
   {
    "duration": -868,
    "start_time": "2022-02-10T11:21:03.460Z"
   },
   {
    "duration": -870,
    "start_time": "2022-02-10T11:21:03.463Z"
   },
   {
    "duration": -871,
    "start_time": "2022-02-10T11:21:03.465Z"
   },
   {
    "duration": -872,
    "start_time": "2022-02-10T11:21:03.467Z"
   },
   {
    "duration": -873,
    "start_time": "2022-02-10T11:21:03.469Z"
   },
   {
    "duration": -880,
    "start_time": "2022-02-10T11:21:03.476Z"
   },
   {
    "duration": -881,
    "start_time": "2022-02-10T11:21:03.478Z"
   },
   {
    "duration": -883,
    "start_time": "2022-02-10T11:21:03.481Z"
   },
   {
    "duration": -885,
    "start_time": "2022-02-10T11:21:03.483Z"
   },
   {
    "duration": -886,
    "start_time": "2022-02-10T11:21:03.485Z"
   },
   {
    "duration": -887,
    "start_time": "2022-02-10T11:21:03.487Z"
   },
   {
    "duration": -888,
    "start_time": "2022-02-10T11:21:03.489Z"
   },
   {
    "duration": -890,
    "start_time": "2022-02-10T11:21:03.491Z"
   },
   {
    "duration": -891,
    "start_time": "2022-02-10T11:21:03.493Z"
   },
   {
    "duration": -869,
    "start_time": "2022-02-10T11:21:03.495Z"
   },
   {
    "duration": -870,
    "start_time": "2022-02-10T11:21:03.497Z"
   },
   {
    "duration": -870,
    "start_time": "2022-02-10T11:21:03.498Z"
   },
   {
    "duration": -871,
    "start_time": "2022-02-10T11:21:03.500Z"
   },
   {
    "duration": -872,
    "start_time": "2022-02-10T11:21:03.502Z"
   },
   {
    "duration": -873,
    "start_time": "2022-02-10T11:21:03.504Z"
   },
   {
    "duration": -879,
    "start_time": "2022-02-10T11:21:03.511Z"
   },
   {
    "duration": -880,
    "start_time": "2022-02-10T11:21:03.513Z"
   },
   {
    "duration": -881,
    "start_time": "2022-02-10T11:21:03.515Z"
   },
   {
    "duration": -882,
    "start_time": "2022-02-10T11:21:03.517Z"
   },
   {
    "duration": -882,
    "start_time": "2022-02-10T11:21:03.518Z"
   },
   {
    "duration": -883,
    "start_time": "2022-02-10T11:21:03.520Z"
   },
   {
    "duration": -885,
    "start_time": "2022-02-10T11:21:03.522Z"
   },
   {
    "duration": -885,
    "start_time": "2022-02-10T11:21:03.523Z"
   },
   {
    "duration": -886,
    "start_time": "2022-02-10T11:21:03.525Z"
   },
   {
    "duration": -887,
    "start_time": "2022-02-10T11:21:03.527Z"
   },
   {
    "duration": -888,
    "start_time": "2022-02-10T11:21:03.529Z"
   },
   {
    "duration": -889,
    "start_time": "2022-02-10T11:21:03.531Z"
   },
   {
    "duration": -889,
    "start_time": "2022-02-10T11:21:03.532Z"
   },
   {
    "duration": -890,
    "start_time": "2022-02-10T11:21:03.534Z"
   },
   {
    "duration": -891,
    "start_time": "2022-02-10T11:21:03.536Z"
   },
   {
    "duration": -892,
    "start_time": "2022-02-10T11:21:03.538Z"
   },
   {
    "duration": -892,
    "start_time": "2022-02-10T11:21:03.539Z"
   },
   {
    "duration": -892,
    "start_time": "2022-02-10T11:21:03.541Z"
   },
   {
    "duration": -893,
    "start_time": "2022-02-10T11:21:03.543Z"
   },
   {
    "duration": -894,
    "start_time": "2022-02-10T11:21:03.545Z"
   },
   {
    "duration": -896,
    "start_time": "2022-02-10T11:21:03.547Z"
   },
   {
    "duration": -897,
    "start_time": "2022-02-10T11:21:03.549Z"
   },
   {
    "duration": -898,
    "start_time": "2022-02-10T11:21:03.551Z"
   },
   {
    "duration": 497,
    "start_time": "2022-02-10T11:22:16.515Z"
   },
   {
    "duration": 485,
    "start_time": "2022-02-10T11:22:29.035Z"
   },
   {
    "duration": 506,
    "start_time": "2022-02-10T11:22:33.457Z"
   },
   {
    "duration": 492,
    "start_time": "2022-02-10T11:22:37.337Z"
   },
   {
    "duration": 1110,
    "start_time": "2022-02-10T11:24:19.846Z"
   },
   {
    "duration": 47,
    "start_time": "2022-02-10T11:24:20.958Z"
   },
   {
    "duration": 17,
    "start_time": "2022-02-10T11:24:21.010Z"
   },
   {
    "duration": 25,
    "start_time": "2022-02-10T11:24:21.029Z"
   },
   {
    "duration": 255,
    "start_time": "2022-02-10T11:24:21.055Z"
   },
   {
    "duration": 4,
    "start_time": "2022-02-10T11:24:21.312Z"
   },
   {
    "duration": 17,
    "start_time": "2022-02-10T11:24:21.327Z"
   },
   {
    "duration": 12,
    "start_time": "2022-02-10T11:24:21.346Z"
   },
   {
    "duration": 18,
    "start_time": "2022-02-10T11:24:21.360Z"
   },
   {
    "duration": 15,
    "start_time": "2022-02-10T11:24:21.380Z"
   },
   {
    "duration": 42,
    "start_time": "2022-02-10T11:24:21.397Z"
   },
   {
    "duration": 13,
    "start_time": "2022-02-10T11:24:21.440Z"
   },
   {
    "duration": 6,
    "start_time": "2022-02-10T11:24:21.454Z"
   },
   {
    "duration": 9,
    "start_time": "2022-02-10T11:24:21.461Z"
   },
   {
    "duration": 7,
    "start_time": "2022-02-10T11:24:21.471Z"
   },
   {
    "duration": 9,
    "start_time": "2022-02-10T11:24:21.479Z"
   },
   {
    "duration": 7,
    "start_time": "2022-02-10T11:24:21.489Z"
   },
   {
    "duration": 44,
    "start_time": "2022-02-10T11:24:21.498Z"
   },
   {
    "duration": 38,
    "start_time": "2022-02-10T11:24:21.544Z"
   },
   {
    "duration": 18,
    "start_time": "2022-02-10T11:24:21.584Z"
   },
   {
    "duration": 30,
    "start_time": "2022-02-10T11:24:21.604Z"
   },
   {
    "duration": 6,
    "start_time": "2022-02-10T11:24:21.638Z"
   },
   {
    "duration": 6,
    "start_time": "2022-02-10T11:24:21.646Z"
   },
   {
    "duration": 4,
    "start_time": "2022-02-10T11:24:21.653Z"
   },
   {
    "duration": 387,
    "start_time": "2022-02-10T11:24:21.658Z"
   },
   {
    "duration": 350,
    "start_time": "2022-02-10T11:24:22.046Z"
   },
   {
    "duration": 13,
    "start_time": "2022-02-10T11:24:22.397Z"
   },
   {
    "duration": 6,
    "start_time": "2022-02-10T11:24:22.427Z"
   },
   {
    "duration": 399,
    "start_time": "2022-02-10T11:24:22.434Z"
   },
   {
    "duration": 34,
    "start_time": "2022-02-10T11:24:22.834Z"
   },
   {
    "duration": 8,
    "start_time": "2022-02-10T11:24:22.869Z"
   },
   {
    "duration": 6,
    "start_time": "2022-02-10T11:24:22.878Z"
   },
   {
    "duration": 75,
    "start_time": "2022-02-10T11:24:22.885Z"
   },
   {
    "duration": 375,
    "start_time": "2022-02-10T11:24:22.962Z"
   },
   {
    "duration": 415,
    "start_time": "2022-02-10T11:24:23.340Z"
   },
   {
    "duration": 21,
    "start_time": "2022-02-10T11:24:23.757Z"
   },
   {
    "duration": 3597,
    "start_time": "2022-02-10T11:24:23.780Z"
   },
   {
    "duration": 3645,
    "start_time": "2022-02-10T11:24:27.379Z"
   },
   {
    "duration": 57,
    "start_time": "2022-02-10T11:24:31.027Z"
   },
   {
    "duration": 667,
    "start_time": "2022-02-10T11:24:31.086Z"
   },
   {
    "duration": 7,
    "start_time": "2022-02-10T11:24:31.755Z"
   },
   {
    "duration": 64,
    "start_time": "2022-02-10T11:24:31.764Z"
   },
   {
    "duration": 719,
    "start_time": "2022-02-10T11:24:31.830Z"
   },
   {
    "duration": 7,
    "start_time": "2022-02-10T11:24:32.550Z"
   },
   {
    "duration": 274,
    "start_time": "2022-02-10T11:24:32.558Z"
   },
   {
    "duration": 153,
    "start_time": "2022-02-10T11:24:32.834Z"
   },
   {
    "duration": 210,
    "start_time": "2022-02-10T11:24:32.989Z"
   },
   {
    "duration": 145,
    "start_time": "2022-02-10T11:24:33.201Z"
   },
   {
    "duration": 420,
    "start_time": "2022-02-10T11:24:33.348Z"
   },
   {
    "duration": 435,
    "start_time": "2022-02-10T11:24:33.769Z"
   },
   {
    "duration": 597,
    "start_time": "2022-02-10T11:24:34.205Z"
   },
   {
    "duration": 11,
    "start_time": "2022-02-10T11:24:34.803Z"
   },
   {
    "duration": 105,
    "start_time": "2022-02-10T11:24:34.815Z"
   },
   {
    "duration": 10,
    "start_time": "2022-02-10T11:24:56.616Z"
   },
   {
    "duration": 1172,
    "start_time": "2022-02-10T11:29:12.126Z"
   },
   {
    "duration": 48,
    "start_time": "2022-02-10T11:29:13.300Z"
   },
   {
    "duration": 10,
    "start_time": "2022-02-10T11:29:13.350Z"
   },
   {
    "duration": 26,
    "start_time": "2022-02-10T11:29:13.361Z"
   },
   {
    "duration": 4,
    "start_time": "2022-02-10T11:29:13.388Z"
   },
   {
    "duration": 41,
    "start_time": "2022-02-10T11:29:13.394Z"
   },
   {
    "duration": 7,
    "start_time": "2022-02-10T11:29:13.436Z"
   },
   {
    "duration": 11,
    "start_time": "2022-02-10T11:29:13.445Z"
   },
   {
    "duration": 12,
    "start_time": "2022-02-10T11:29:13.457Z"
   },
   {
    "duration": 12,
    "start_time": "2022-02-10T11:29:13.470Z"
   },
   {
    "duration": 45,
    "start_time": "2022-02-10T11:29:13.484Z"
   },
   {
    "duration": 5,
    "start_time": "2022-02-10T11:29:13.530Z"
   },
   {
    "duration": 9,
    "start_time": "2022-02-10T11:29:13.537Z"
   },
   {
    "duration": 8,
    "start_time": "2022-02-10T11:29:13.548Z"
   },
   {
    "duration": 8,
    "start_time": "2022-02-10T11:29:13.558Z"
   },
   {
    "duration": 7,
    "start_time": "2022-02-10T11:29:13.568Z"
   },
   {
    "duration": 11,
    "start_time": "2022-02-10T11:29:13.576Z"
   },
   {
    "duration": 56,
    "start_time": "2022-02-10T11:29:13.589Z"
   },
   {
    "duration": 17,
    "start_time": "2022-02-10T11:29:13.647Z"
   },
   {
    "duration": 13,
    "start_time": "2022-02-10T11:29:13.666Z"
   },
   {
    "duration": 5,
    "start_time": "2022-02-10T11:29:13.680Z"
   },
   {
    "duration": 6,
    "start_time": "2022-02-10T11:29:13.686Z"
   },
   {
    "duration": 3,
    "start_time": "2022-02-10T11:29:13.695Z"
   },
   {
    "duration": 402,
    "start_time": "2022-02-10T11:29:13.700Z"
   },
   {
    "duration": 346,
    "start_time": "2022-02-10T11:29:14.103Z"
   },
   {
    "duration": 13,
    "start_time": "2022-02-10T11:29:14.450Z"
   },
   {
    "duration": 26,
    "start_time": "2022-02-10T11:29:14.464Z"
   },
   {
    "duration": 605,
    "start_time": "2022-02-10T11:29:14.492Z"
   },
   {
    "duration": 41,
    "start_time": "2022-02-10T11:29:15.098Z"
   },
   {
    "duration": 9,
    "start_time": "2022-02-10T11:29:15.141Z"
   },
   {
    "duration": 6,
    "start_time": "2022-02-10T11:29:15.151Z"
   },
   {
    "duration": 50,
    "start_time": "2022-02-10T11:29:15.158Z"
   },
   {
    "duration": 344,
    "start_time": "2022-02-10T11:29:15.226Z"
   },
   {
    "duration": 351,
    "start_time": "2022-02-10T11:29:15.572Z"
   },
   {
    "duration": 21,
    "start_time": "2022-02-10T11:29:15.927Z"
   },
   {
    "duration": 3558,
    "start_time": "2022-02-10T11:29:15.950Z"
   },
   {
    "duration": 3561,
    "start_time": "2022-02-10T11:29:19.510Z"
   },
   {
    "duration": 62,
    "start_time": "2022-02-10T11:29:23.073Z"
   },
   {
    "duration": 570,
    "start_time": "2022-02-10T11:29:23.136Z"
   },
   {
    "duration": 7,
    "start_time": "2022-02-10T11:29:23.708Z"
   },
   {
    "duration": 59,
    "start_time": "2022-02-10T11:29:23.716Z"
   },
   {
    "duration": 777,
    "start_time": "2022-02-10T11:29:23.776Z"
   },
   {
    "duration": 5,
    "start_time": "2022-02-10T11:29:24.555Z"
   },
   {
    "duration": 276,
    "start_time": "2022-02-10T11:29:24.562Z"
   },
   {
    "duration": 154,
    "start_time": "2022-02-10T11:29:24.839Z"
   },
   {
    "duration": 154,
    "start_time": "2022-02-10T11:29:24.994Z"
   },
   {
    "duration": 145,
    "start_time": "2022-02-10T11:29:25.149Z"
   },
   {
    "duration": 415,
    "start_time": "2022-02-10T11:29:25.296Z"
   },
   {
    "duration": 431,
    "start_time": "2022-02-10T11:29:25.713Z"
   },
   {
    "duration": 558,
    "start_time": "2022-02-10T11:29:26.146Z"
   },
   {
    "duration": 21,
    "start_time": "2022-02-10T11:29:26.706Z"
   },
   {
    "duration": 10,
    "start_time": "2022-02-10T11:29:26.728Z"
   },
   {
    "duration": 10,
    "start_time": "2022-02-10T11:43:43.038Z"
   },
   {
    "duration": 1023,
    "start_time": "2022-02-10T11:43:47.225Z"
   },
   {
    "duration": 45,
    "start_time": "2022-02-10T11:43:48.249Z"
   },
   {
    "duration": 9,
    "start_time": "2022-02-10T11:43:48.298Z"
   },
   {
    "duration": 31,
    "start_time": "2022-02-10T11:43:48.309Z"
   },
   {
    "duration": 3,
    "start_time": "2022-02-10T11:43:48.342Z"
   },
   {
    "duration": 17,
    "start_time": "2022-02-10T11:43:48.347Z"
   },
   {
    "duration": 6,
    "start_time": "2022-02-10T11:43:48.367Z"
   },
   {
    "duration": 12,
    "start_time": "2022-02-10T11:43:48.375Z"
   },
   {
    "duration": 14,
    "start_time": "2022-02-10T11:43:48.388Z"
   },
   {
    "duration": 13,
    "start_time": "2022-02-10T11:43:48.427Z"
   },
   {
    "duration": 13,
    "start_time": "2022-02-10T11:43:48.442Z"
   },
   {
    "duration": 5,
    "start_time": "2022-02-10T11:43:48.456Z"
   },
   {
    "duration": 8,
    "start_time": "2022-02-10T11:43:48.463Z"
   },
   {
    "duration": 7,
    "start_time": "2022-02-10T11:43:48.473Z"
   },
   {
    "duration": 9,
    "start_time": "2022-02-10T11:43:48.481Z"
   },
   {
    "duration": 36,
    "start_time": "2022-02-10T11:43:48.492Z"
   },
   {
    "duration": 11,
    "start_time": "2022-02-10T11:43:48.529Z"
   },
   {
    "duration": 24,
    "start_time": "2022-02-10T11:43:48.541Z"
   },
   {
    "duration": 16,
    "start_time": "2022-02-10T11:43:48.567Z"
   },
   {
    "duration": 13,
    "start_time": "2022-02-10T11:43:48.584Z"
   },
   {
    "duration": 30,
    "start_time": "2022-02-10T11:43:48.598Z"
   },
   {
    "duration": 2,
    "start_time": "2022-02-10T11:43:48.631Z"
   },
   {
    "duration": 6,
    "start_time": "2022-02-10T11:43:48.635Z"
   },
   {
    "duration": 380,
    "start_time": "2022-02-10T11:43:48.642Z"
   },
   {
    "duration": 342,
    "start_time": "2022-02-10T11:43:49.023Z"
   },
   {
    "duration": 12,
    "start_time": "2022-02-10T11:43:49.366Z"
   },
   {
    "duration": 11,
    "start_time": "2022-02-10T11:43:49.380Z"
   },
   {
    "duration": 439,
    "start_time": "2022-02-10T11:43:49.392Z"
   },
   {
    "duration": 33,
    "start_time": "2022-02-10T11:43:49.832Z"
   },
   {
    "duration": 8,
    "start_time": "2022-02-10T11:43:49.866Z"
   },
   {
    "duration": 10,
    "start_time": "2022-02-10T11:43:49.876Z"
   },
   {
    "duration": 75,
    "start_time": "2022-02-10T11:43:49.887Z"
   },
   {
    "duration": 353,
    "start_time": "2022-02-10T11:43:49.963Z"
   },
   {
    "duration": 561,
    "start_time": "2022-02-10T11:43:50.318Z"
   },
   {
    "duration": 24,
    "start_time": "2022-02-10T11:43:50.881Z"
   },
   {
    "duration": 3351,
    "start_time": "2022-02-10T11:43:50.906Z"
   },
   {
    "duration": 3539,
    "start_time": "2022-02-10T11:43:54.259Z"
   },
   {
    "duration": 61,
    "start_time": "2022-02-10T11:43:57.800Z"
   },
   {
    "duration": 680,
    "start_time": "2022-02-10T11:43:57.862Z"
   },
   {
    "duration": 7,
    "start_time": "2022-02-10T11:43:58.544Z"
   },
   {
    "duration": 51,
    "start_time": "2022-02-10T11:43:58.553Z"
   },
   {
    "duration": 739,
    "start_time": "2022-02-10T11:43:58.606Z"
   },
   {
    "duration": 7,
    "start_time": "2022-02-10T11:43:59.347Z"
   },
   {
    "duration": 278,
    "start_time": "2022-02-10T11:43:59.356Z"
   },
   {
    "duration": 163,
    "start_time": "2022-02-10T11:43:59.636Z"
   },
   {
    "duration": 146,
    "start_time": "2022-02-10T11:43:59.800Z"
   },
   {
    "duration": 142,
    "start_time": "2022-02-10T11:43:59.948Z"
   },
   {
    "duration": 411,
    "start_time": "2022-02-10T11:44:00.092Z"
   },
   {
    "duration": 444,
    "start_time": "2022-02-10T11:44:00.505Z"
   },
   {
    "duration": 690,
    "start_time": "2022-02-10T11:44:00.951Z"
   },
   {
    "duration": 12,
    "start_time": "2022-02-10T11:44:01.644Z"
   },
   {
    "duration": 10,
    "start_time": "2022-02-10T11:44:01.658Z"
   },
   {
    "duration": 7,
    "start_time": "2022-02-10T11:45:51.382Z"
   },
   {
    "duration": 2,
    "start_time": "2022-02-10T11:53:33.061Z"
   },
   {
    "duration": 1101,
    "start_time": "2022-02-10T11:53:37.952Z"
   },
   {
    "duration": 47,
    "start_time": "2022-02-10T11:53:39.055Z"
   },
   {
    "duration": 9,
    "start_time": "2022-02-10T11:53:39.106Z"
   },
   {
    "duration": 29,
    "start_time": "2022-02-10T11:53:39.117Z"
   },
   {
    "duration": 3,
    "start_time": "2022-02-10T11:53:39.148Z"
   },
   {
    "duration": 18,
    "start_time": "2022-02-10T11:53:39.153Z"
   },
   {
    "duration": 11,
    "start_time": "2022-02-10T11:53:39.173Z"
   },
   {
    "duration": 44,
    "start_time": "2022-02-10T11:53:39.186Z"
   },
   {
    "duration": 16,
    "start_time": "2022-02-10T11:53:39.232Z"
   },
   {
    "duration": 17,
    "start_time": "2022-02-10T11:53:39.250Z"
   },
   {
    "duration": 2,
    "start_time": "2022-02-10T11:53:39.269Z"
   },
   {
    "duration": 16,
    "start_time": "2022-02-10T11:53:39.273Z"
   },
   {
    "duration": 7,
    "start_time": "2022-02-10T11:53:39.291Z"
   },
   {
    "duration": 9,
    "start_time": "2022-02-10T11:53:39.327Z"
   },
   {
    "duration": 8,
    "start_time": "2022-02-10T11:53:39.337Z"
   },
   {
    "duration": 7,
    "start_time": "2022-02-10T11:53:39.347Z"
   },
   {
    "duration": 9,
    "start_time": "2022-02-10T11:53:39.355Z"
   },
   {
    "duration": 20,
    "start_time": "2022-02-10T11:53:39.365Z"
   },
   {
    "duration": 448,
    "start_time": "2022-02-10T11:53:39.387Z"
   },
   {
    "duration": -889,
    "start_time": "2022-02-10T11:53:40.726Z"
   },
   {
    "duration": -890,
    "start_time": "2022-02-10T11:53:40.728Z"
   },
   {
    "duration": -891,
    "start_time": "2022-02-10T11:53:40.730Z"
   },
   {
    "duration": -892,
    "start_time": "2022-02-10T11:53:40.732Z"
   },
   {
    "duration": -891,
    "start_time": "2022-02-10T11:53:40.733Z"
   },
   {
    "duration": -892,
    "start_time": "2022-02-10T11:53:40.735Z"
   },
   {
    "duration": -894,
    "start_time": "2022-02-10T11:53:40.738Z"
   },
   {
    "duration": -895,
    "start_time": "2022-02-10T11:53:40.740Z"
   },
   {
    "duration": -896,
    "start_time": "2022-02-10T11:53:40.742Z"
   },
   {
    "duration": -896,
    "start_time": "2022-02-10T11:53:40.743Z"
   },
   {
    "duration": -898,
    "start_time": "2022-02-10T11:53:40.745Z"
   },
   {
    "duration": -899,
    "start_time": "2022-02-10T11:53:40.747Z"
   },
   {
    "duration": -900,
    "start_time": "2022-02-10T11:53:40.749Z"
   },
   {
    "duration": -900,
    "start_time": "2022-02-10T11:53:40.750Z"
   },
   {
    "duration": -901,
    "start_time": "2022-02-10T11:53:40.752Z"
   },
   {
    "duration": -902,
    "start_time": "2022-02-10T11:53:40.754Z"
   },
   {
    "duration": -903,
    "start_time": "2022-02-10T11:53:40.756Z"
   },
   {
    "duration": -904,
    "start_time": "2022-02-10T11:53:40.758Z"
   },
   {
    "duration": -905,
    "start_time": "2022-02-10T11:53:40.759Z"
   },
   {
    "duration": -906,
    "start_time": "2022-02-10T11:53:40.761Z"
   },
   {
    "duration": -907,
    "start_time": "2022-02-10T11:53:40.763Z"
   },
   {
    "duration": -908,
    "start_time": "2022-02-10T11:53:40.765Z"
   },
   {
    "duration": -908,
    "start_time": "2022-02-10T11:53:40.766Z"
   },
   {
    "duration": -909,
    "start_time": "2022-02-10T11:53:40.768Z"
   },
   {
    "duration": -910,
    "start_time": "2022-02-10T11:53:40.770Z"
   },
   {
    "duration": -911,
    "start_time": "2022-02-10T11:53:40.771Z"
   },
   {
    "duration": -912,
    "start_time": "2022-02-10T11:53:40.773Z"
   },
   {
    "duration": -913,
    "start_time": "2022-02-10T11:53:40.775Z"
   },
   {
    "duration": -914,
    "start_time": "2022-02-10T11:53:40.777Z"
   },
   {
    "duration": -914,
    "start_time": "2022-02-10T11:53:40.778Z"
   },
   {
    "duration": -915,
    "start_time": "2022-02-10T11:53:40.780Z"
   },
   {
    "duration": -916,
    "start_time": "2022-02-10T11:53:40.782Z"
   },
   {
    "duration": -917,
    "start_time": "2022-02-10T11:53:40.784Z"
   },
   {
    "duration": -917,
    "start_time": "2022-02-10T11:53:40.785Z"
   },
   {
    "duration": 1098,
    "start_time": "2022-02-10T11:55:12.008Z"
   },
   {
    "duration": 45,
    "start_time": "2022-02-10T11:55:13.108Z"
   },
   {
    "duration": 9,
    "start_time": "2022-02-10T11:55:13.155Z"
   },
   {
    "duration": 27,
    "start_time": "2022-02-10T11:55:13.165Z"
   },
   {
    "duration": 4,
    "start_time": "2022-02-10T11:55:13.193Z"
   },
   {
    "duration": 34,
    "start_time": "2022-02-10T11:55:13.198Z"
   },
   {
    "duration": 7,
    "start_time": "2022-02-10T11:55:13.234Z"
   },
   {
    "duration": 11,
    "start_time": "2022-02-10T11:55:13.243Z"
   },
   {
    "duration": 13,
    "start_time": "2022-02-10T11:55:13.256Z"
   },
   {
    "duration": 12,
    "start_time": "2022-02-10T11:55:13.270Z"
   },
   {
    "duration": 12,
    "start_time": "2022-02-10T11:55:13.284Z"
   },
   {
    "duration": 38,
    "start_time": "2022-02-10T11:55:13.298Z"
   },
   {
    "duration": 6,
    "start_time": "2022-02-10T11:55:13.338Z"
   },
   {
    "duration": 10,
    "start_time": "2022-02-10T11:55:13.345Z"
   },
   {
    "duration": 7,
    "start_time": "2022-02-10T11:55:13.357Z"
   },
   {
    "duration": 9,
    "start_time": "2022-02-10T11:55:13.365Z"
   },
   {
    "duration": 7,
    "start_time": "2022-02-10T11:55:13.376Z"
   },
   {
    "duration": 46,
    "start_time": "2022-02-10T11:55:13.384Z"
   },
   {
    "duration": 25,
    "start_time": "2022-02-10T11:55:13.431Z"
   },
   {
    "duration": 17,
    "start_time": "2022-02-10T11:55:13.457Z"
   },
   {
    "duration": 13,
    "start_time": "2022-02-10T11:55:13.475Z"
   },
   {
    "duration": 5,
    "start_time": "2022-02-10T11:55:13.489Z"
   },
   {
    "duration": 2,
    "start_time": "2022-02-10T11:55:13.497Z"
   },
   {
    "duration": 28,
    "start_time": "2022-02-10T11:55:13.500Z"
   },
   {
    "duration": 385,
    "start_time": "2022-02-10T11:55:13.530Z"
   },
   {
    "duration": 353,
    "start_time": "2022-02-10T11:55:13.917Z"
   },
   {
    "duration": 14,
    "start_time": "2022-02-10T11:55:14.272Z"
   },
   {
    "duration": 7,
    "start_time": "2022-02-10T11:55:14.288Z"
   },
   {
    "duration": 412,
    "start_time": "2022-02-10T11:55:14.297Z"
   },
   {
    "duration": 41,
    "start_time": "2022-02-10T11:55:14.710Z"
   },
   {
    "duration": 8,
    "start_time": "2022-02-10T11:55:14.753Z"
   },
   {
    "duration": 17,
    "start_time": "2022-02-10T11:55:14.763Z"
   },
   {
    "duration": 56,
    "start_time": "2022-02-10T11:55:14.781Z"
   },
   {
    "duration": 349,
    "start_time": "2022-02-10T11:55:14.838Z"
   },
   {
    "duration": 355,
    "start_time": "2022-02-10T11:55:15.189Z"
   },
   {
    "duration": 23,
    "start_time": "2022-02-10T11:55:15.545Z"
   },
   {
    "duration": 3716,
    "start_time": "2022-02-10T11:55:15.570Z"
   },
   {
    "duration": 3627,
    "start_time": "2022-02-10T11:55:19.287Z"
   },
   {
    "duration": 57,
    "start_time": "2022-02-10T11:55:22.916Z"
   },
   {
    "duration": 659,
    "start_time": "2022-02-10T11:55:22.975Z"
   },
   {
    "duration": 6,
    "start_time": "2022-02-10T11:55:23.635Z"
   },
   {
    "duration": 51,
    "start_time": "2022-02-10T11:55:23.643Z"
   },
   {
    "duration": 761,
    "start_time": "2022-02-10T11:55:23.696Z"
   },
   {
    "duration": 6,
    "start_time": "2022-02-10T11:55:24.459Z"
   },
   {
    "duration": 351,
    "start_time": "2022-02-10T11:55:24.466Z"
   },
   {
    "duration": 185,
    "start_time": "2022-02-10T11:55:24.819Z"
   },
   {
    "duration": 141,
    "start_time": "2022-02-10T11:55:25.005Z"
   },
   {
    "duration": 143,
    "start_time": "2022-02-10T11:55:25.148Z"
   },
   {
    "duration": 422,
    "start_time": "2022-02-10T11:55:25.293Z"
   },
   {
    "duration": 433,
    "start_time": "2022-02-10T11:55:25.717Z"
   },
   {
    "duration": 575,
    "start_time": "2022-02-10T11:55:26.152Z"
   },
   {
    "duration": 11,
    "start_time": "2022-02-10T11:55:26.729Z"
   },
   {
    "duration": 10,
    "start_time": "2022-02-10T11:55:26.742Z"
   },
   {
    "duration": 27,
    "start_time": "2022-02-10T12:44:45.037Z"
   },
   {
    "duration": 7,
    "start_time": "2022-02-10T12:46:27.996Z"
   },
   {
    "duration": 7,
    "start_time": "2022-02-10T12:49:00.408Z"
   },
   {
    "duration": 6,
    "start_time": "2022-02-10T12:49:19.497Z"
   },
   {
    "duration": 7,
    "start_time": "2022-02-10T12:49:24.879Z"
   },
   {
    "duration": 7,
    "start_time": "2022-02-10T12:50:46.382Z"
   },
   {
    "duration": 362,
    "start_time": "2022-02-10T12:54:33.604Z"
   },
   {
    "duration": 1005,
    "start_time": "2022-02-10T12:54:38.258Z"
   },
   {
    "duration": 47,
    "start_time": "2022-02-10T12:54:39.265Z"
   },
   {
    "duration": 9,
    "start_time": "2022-02-10T12:54:39.313Z"
   },
   {
    "duration": 24,
    "start_time": "2022-02-10T12:54:39.324Z"
   },
   {
    "duration": 4,
    "start_time": "2022-02-10T12:54:39.349Z"
   },
   {
    "duration": 17,
    "start_time": "2022-02-10T12:54:39.354Z"
   },
   {
    "duration": 8,
    "start_time": "2022-02-10T12:54:39.373Z"
   },
   {
    "duration": 10,
    "start_time": "2022-02-10T12:54:39.383Z"
   },
   {
    "duration": 41,
    "start_time": "2022-02-10T12:54:39.395Z"
   },
   {
    "duration": 14,
    "start_time": "2022-02-10T12:54:39.437Z"
   },
   {
    "duration": 13,
    "start_time": "2022-02-10T12:54:39.452Z"
   },
   {
    "duration": 6,
    "start_time": "2022-02-10T12:54:39.467Z"
   },
   {
    "duration": 10,
    "start_time": "2022-02-10T12:54:39.474Z"
   },
   {
    "duration": 7,
    "start_time": "2022-02-10T12:54:39.486Z"
   },
   {
    "duration": 7,
    "start_time": "2022-02-10T12:54:39.527Z"
   },
   {
    "duration": 12,
    "start_time": "2022-02-10T12:54:39.535Z"
   },
   {
    "duration": 26,
    "start_time": "2022-02-10T12:54:39.548Z"
   },
   {
    "duration": 19,
    "start_time": "2022-02-10T12:54:39.576Z"
   },
   {
    "duration": 38,
    "start_time": "2022-02-10T12:54:39.596Z"
   },
   {
    "duration": 5,
    "start_time": "2022-02-10T12:54:39.636Z"
   },
   {
    "duration": 7,
    "start_time": "2022-02-10T12:54:39.643Z"
   },
   {
    "duration": 392,
    "start_time": "2022-02-10T12:54:39.651Z"
   },
   {
    "duration": 348,
    "start_time": "2022-02-10T12:54:40.046Z"
   },
   {
    "duration": 14,
    "start_time": "2022-02-10T12:54:40.396Z"
   },
   {
    "duration": 20,
    "start_time": "2022-02-10T12:54:40.411Z"
   },
   {
    "duration": 500,
    "start_time": "2022-02-10T12:54:40.433Z"
   },
   {
    "duration": 34,
    "start_time": "2022-02-10T12:54:40.935Z"
   },
   {
    "duration": 9,
    "start_time": "2022-02-10T12:54:40.971Z"
   },
   {
    "duration": 6,
    "start_time": "2022-02-10T12:54:40.981Z"
   },
   {
    "duration": 82,
    "start_time": "2022-02-10T12:54:40.988Z"
   },
   {
    "duration": 610,
    "start_time": "2022-02-10T12:54:41.072Z"
   },
   {
    "duration": 352,
    "start_time": "2022-02-10T12:54:41.683Z"
   },
   {
    "duration": 20,
    "start_time": "2022-02-10T12:54:42.037Z"
   },
   {
    "duration": 3648,
    "start_time": "2022-02-10T12:54:42.059Z"
   },
   {
    "duration": 3528,
    "start_time": "2022-02-10T12:54:45.709Z"
   },
   {
    "duration": 56,
    "start_time": "2022-02-10T12:54:49.239Z"
   },
   {
    "duration": 575,
    "start_time": "2022-02-10T12:54:49.297Z"
   },
   {
    "duration": 7,
    "start_time": "2022-02-10T12:54:49.874Z"
   },
   {
    "duration": 66,
    "start_time": "2022-02-10T12:54:49.882Z"
   },
   {
    "duration": 604,
    "start_time": "2022-02-10T12:54:49.950Z"
   },
   {
    "duration": 8,
    "start_time": "2022-02-10T12:54:50.556Z"
   },
   {
    "duration": 284,
    "start_time": "2022-02-10T12:54:50.565Z"
   },
   {
    "duration": 160,
    "start_time": "2022-02-10T12:54:50.851Z"
   },
   {
    "duration": 159,
    "start_time": "2022-02-10T12:54:51.013Z"
   },
   {
    "duration": 157,
    "start_time": "2022-02-10T12:54:51.174Z"
   },
   {
    "duration": 453,
    "start_time": "2022-02-10T12:54:51.333Z"
   },
   {
    "duration": 452,
    "start_time": "2022-02-10T12:54:51.787Z"
   },
   {
    "duration": 570,
    "start_time": "2022-02-10T12:54:52.241Z"
   },
   {
    "duration": 20,
    "start_time": "2022-02-10T12:54:52.813Z"
   },
   {
    "duration": 11,
    "start_time": "2022-02-10T12:54:52.834Z"
   },
   {
    "duration": 367,
    "start_time": "2022-02-10T12:56:20.843Z"
   },
   {
    "duration": 1041,
    "start_time": "2022-02-10T12:56:27.818Z"
   },
   {
    "duration": 47,
    "start_time": "2022-02-10T12:56:28.861Z"
   },
   {
    "duration": 9,
    "start_time": "2022-02-10T12:56:28.910Z"
   },
   {
    "duration": 29,
    "start_time": "2022-02-10T12:56:28.920Z"
   },
   {
    "duration": 4,
    "start_time": "2022-02-10T12:56:28.950Z"
   },
   {
    "duration": 16,
    "start_time": "2022-02-10T12:56:28.955Z"
   },
   {
    "duration": 10,
    "start_time": "2022-02-10T12:56:28.972Z"
   },
   {
    "duration": 13,
    "start_time": "2022-02-10T12:56:28.984Z"
   },
   {
    "duration": 29,
    "start_time": "2022-02-10T12:56:28.999Z"
   },
   {
    "duration": 12,
    "start_time": "2022-02-10T12:56:29.030Z"
   },
   {
    "duration": 13,
    "start_time": "2022-02-10T12:56:29.043Z"
   },
   {
    "duration": 6,
    "start_time": "2022-02-10T12:56:29.057Z"
   },
   {
    "duration": 13,
    "start_time": "2022-02-10T12:56:29.064Z"
   },
   {
    "duration": 8,
    "start_time": "2022-02-10T12:56:29.079Z"
   },
   {
    "duration": 8,
    "start_time": "2022-02-10T12:56:29.088Z"
   },
   {
    "duration": 11,
    "start_time": "2022-02-10T12:56:29.127Z"
   },
   {
    "duration": 24,
    "start_time": "2022-02-10T12:56:29.139Z"
   },
   {
    "duration": 18,
    "start_time": "2022-02-10T12:56:29.165Z"
   },
   {
    "duration": 13,
    "start_time": "2022-02-10T12:56:29.185Z"
   },
   {
    "duration": 30,
    "start_time": "2022-02-10T12:56:29.200Z"
   },
   {
    "duration": 7,
    "start_time": "2022-02-10T12:56:29.231Z"
   },
   {
    "duration": 387,
    "start_time": "2022-02-10T12:56:29.240Z"
   },
   {
    "duration": 348,
    "start_time": "2022-02-10T12:56:29.630Z"
   },
   {
    "duration": 13,
    "start_time": "2022-02-10T12:56:29.980Z"
   },
   {
    "duration": 7,
    "start_time": "2022-02-10T12:56:29.994Z"
   },
   {
    "duration": 557,
    "start_time": "2022-02-10T12:56:30.003Z"
   },
   {
    "duration": 87,
    "start_time": "2022-02-10T12:56:30.561Z"
   },
   {
    "duration": 9,
    "start_time": "2022-02-10T12:56:30.650Z"
   },
   {
    "duration": 24,
    "start_time": "2022-02-10T12:56:30.660Z"
   },
   {
    "duration": 100,
    "start_time": "2022-02-10T12:56:30.685Z"
   },
   {
    "duration": 375,
    "start_time": "2022-02-10T12:56:30.787Z"
   },
   {
    "duration": 366,
    "start_time": "2022-02-10T12:56:31.164Z"
   },
   {
    "duration": 21,
    "start_time": "2022-02-10T12:56:31.532Z"
   },
   {
    "duration": 3535,
    "start_time": "2022-02-10T12:56:31.554Z"
   },
   {
    "duration": 3850,
    "start_time": "2022-02-10T12:56:35.090Z"
   },
   {
    "duration": 52,
    "start_time": "2022-02-10T12:56:38.942Z"
   },
   {
    "duration": 539,
    "start_time": "2022-02-10T12:56:38.995Z"
   },
   {
    "duration": 6,
    "start_time": "2022-02-10T12:56:39.535Z"
   },
   {
    "duration": 51,
    "start_time": "2022-02-10T12:56:39.543Z"
   },
   {
    "duration": 633,
    "start_time": "2022-02-10T12:56:39.596Z"
   },
   {
    "duration": 6,
    "start_time": "2022-02-10T12:56:40.231Z"
   },
   {
    "duration": 284,
    "start_time": "2022-02-10T12:56:40.238Z"
   },
   {
    "duration": 157,
    "start_time": "2022-02-10T12:56:40.523Z"
   },
   {
    "duration": 155,
    "start_time": "2022-02-10T12:56:40.681Z"
   },
   {
    "duration": 144,
    "start_time": "2022-02-10T12:56:40.838Z"
   },
   {
    "duration": 426,
    "start_time": "2022-02-10T12:56:40.984Z"
   },
   {
    "duration": 434,
    "start_time": "2022-02-10T12:56:41.411Z"
   },
   {
    "duration": 547,
    "start_time": "2022-02-10T12:56:41.847Z"
   },
   {
    "duration": 9,
    "start_time": "2022-02-10T12:56:42.396Z"
   },
   {
    "duration": 24,
    "start_time": "2022-02-10T12:56:42.406Z"
   },
   {
    "duration": 382,
    "start_time": "2022-02-10T12:58:05.412Z"
   },
   {
    "duration": 410,
    "start_time": "2022-02-10T12:58:20.403Z"
   },
   {
    "duration": 696,
    "start_time": "2022-02-10T12:58:34.468Z"
   },
   {
    "duration": 644,
    "start_time": "2022-02-10T12:58:41.387Z"
   },
   {
    "duration": 453,
    "start_time": "2022-02-10T13:05:34.044Z"
   },
   {
    "duration": 606,
    "start_time": "2022-02-10T13:06:56.403Z"
   },
   {
    "duration": 358,
    "start_time": "2022-02-10T13:08:23.714Z"
   },
   {
    "duration": 328,
    "start_time": "2022-02-10T13:10:48.118Z"
   },
   {
    "duration": 1096,
    "start_time": "2022-02-10T13:14:33.325Z"
   },
   {
    "duration": 47,
    "start_time": "2022-02-10T13:14:34.423Z"
   },
   {
    "duration": 8,
    "start_time": "2022-02-10T13:14:34.472Z"
   },
   {
    "duration": 29,
    "start_time": "2022-02-10T13:14:34.482Z"
   },
   {
    "duration": 4,
    "start_time": "2022-02-10T13:14:34.512Z"
   },
   {
    "duration": 30,
    "start_time": "2022-02-10T13:14:34.517Z"
   },
   {
    "duration": 10,
    "start_time": "2022-02-10T13:14:34.548Z"
   },
   {
    "duration": 20,
    "start_time": "2022-02-10T13:14:34.561Z"
   },
   {
    "duration": 20,
    "start_time": "2022-02-10T13:14:34.582Z"
   },
   {
    "duration": 13,
    "start_time": "2022-02-10T13:14:34.603Z"
   },
   {
    "duration": 31,
    "start_time": "2022-02-10T13:14:34.617Z"
   },
   {
    "duration": 10,
    "start_time": "2022-02-10T13:14:34.649Z"
   },
   {
    "duration": 20,
    "start_time": "2022-02-10T13:14:34.661Z"
   },
   {
    "duration": 9,
    "start_time": "2022-02-10T13:14:34.683Z"
   },
   {
    "duration": 6,
    "start_time": "2022-02-10T13:14:34.694Z"
   },
   {
    "duration": 12,
    "start_time": "2022-02-10T13:14:34.702Z"
   },
   {
    "duration": 35,
    "start_time": "2022-02-10T13:14:34.715Z"
   },
   {
    "duration": 24,
    "start_time": "2022-02-10T13:14:34.751Z"
   },
   {
    "duration": 14,
    "start_time": "2022-02-10T13:14:34.776Z"
   },
   {
    "duration": 6,
    "start_time": "2022-02-10T13:14:34.791Z"
   },
   {
    "duration": 31,
    "start_time": "2022-02-10T13:14:34.799Z"
   },
   {
    "duration": 398,
    "start_time": "2022-02-10T13:14:34.831Z"
   },
   {
    "duration": 357,
    "start_time": "2022-02-10T13:14:35.232Z"
   },
   {
    "duration": 12,
    "start_time": "2022-02-10T13:14:35.591Z"
   },
   {
    "duration": 11,
    "start_time": "2022-02-10T13:14:35.604Z"
   },
   {
    "duration": 348,
    "start_time": "2022-02-10T13:14:35.616Z"
   },
   {
    "duration": 35,
    "start_time": "2022-02-10T13:14:35.965Z"
   },
   {
    "duration": 26,
    "start_time": "2022-02-10T13:14:36.001Z"
   },
   {
    "duration": 3,
    "start_time": "2022-02-10T13:14:36.029Z"
   },
   {
    "duration": 55,
    "start_time": "2022-02-10T13:14:36.034Z"
   },
   {
    "duration": 387,
    "start_time": "2022-02-10T13:14:36.090Z"
   },
   {
    "duration": 367,
    "start_time": "2022-02-10T13:14:36.479Z"
   },
   {
    "duration": 20,
    "start_time": "2022-02-10T13:14:36.848Z"
   },
   {
    "duration": 3614,
    "start_time": "2022-02-10T13:14:36.870Z"
   },
   {
    "duration": 3481,
    "start_time": "2022-02-10T13:14:40.486Z"
   },
   {
    "duration": 50,
    "start_time": "2022-02-10T13:14:43.968Z"
   },
   {
    "duration": 617,
    "start_time": "2022-02-10T13:14:44.027Z"
   },
   {
    "duration": 6,
    "start_time": "2022-02-10T13:14:44.645Z"
   },
   {
    "duration": 49,
    "start_time": "2022-02-10T13:14:44.652Z"
   },
   {
    "duration": 752,
    "start_time": "2022-02-10T13:14:44.702Z"
   },
   {
    "duration": 6,
    "start_time": "2022-02-10T13:14:45.456Z"
   },
   {
    "duration": 269,
    "start_time": "2022-02-10T13:14:45.463Z"
   },
   {
    "duration": 152,
    "start_time": "2022-02-10T13:14:45.733Z"
   },
   {
    "duration": 149,
    "start_time": "2022-02-10T13:14:45.887Z"
   },
   {
    "duration": 139,
    "start_time": "2022-02-10T13:14:46.038Z"
   },
   {
    "duration": 414,
    "start_time": "2022-02-10T13:14:46.178Z"
   },
   {
    "duration": 431,
    "start_time": "2022-02-10T13:14:46.593Z"
   },
   {
    "duration": 540,
    "start_time": "2022-02-10T13:14:47.027Z"
   },
   {
    "duration": 9,
    "start_time": "2022-02-10T13:14:47.569Z"
   },
   {
    "duration": 9,
    "start_time": "2022-02-10T13:14:47.579Z"
   },
   {
    "duration": 34,
    "start_time": "2022-02-10T13:25:38.622Z"
   },
   {
    "duration": 1166,
    "start_time": "2022-02-10T13:25:43.830Z"
   },
   {
    "duration": 61,
    "start_time": "2022-02-10T13:25:44.997Z"
   },
   {
    "duration": 9,
    "start_time": "2022-02-10T13:25:45.060Z"
   },
   {
    "duration": 27,
    "start_time": "2022-02-10T13:25:45.071Z"
   },
   {
    "duration": 3,
    "start_time": "2022-02-10T13:25:45.100Z"
   },
   {
    "duration": 34,
    "start_time": "2022-02-10T13:25:45.105Z"
   },
   {
    "duration": 13,
    "start_time": "2022-02-10T13:25:45.141Z"
   },
   {
    "duration": 11,
    "start_time": "2022-02-10T13:25:45.157Z"
   },
   {
    "duration": 12,
    "start_time": "2022-02-10T13:25:45.170Z"
   },
   {
    "duration": 44,
    "start_time": "2022-02-10T13:25:45.183Z"
   },
   {
    "duration": 13,
    "start_time": "2022-02-10T13:25:45.229Z"
   },
   {
    "duration": 6,
    "start_time": "2022-02-10T13:25:45.244Z"
   },
   {
    "duration": 11,
    "start_time": "2022-02-10T13:25:45.252Z"
   },
   {
    "duration": 10,
    "start_time": "2022-02-10T13:25:45.264Z"
   },
   {
    "duration": 6,
    "start_time": "2022-02-10T13:25:45.275Z"
   },
   {
    "duration": 51,
    "start_time": "2022-02-10T13:25:45.283Z"
   },
   {
    "duration": 25,
    "start_time": "2022-02-10T13:25:45.336Z"
   },
   {
    "duration": 18,
    "start_time": "2022-02-10T13:25:45.362Z"
   },
   {
    "duration": 13,
    "start_time": "2022-02-10T13:25:45.382Z"
   },
   {
    "duration": 31,
    "start_time": "2022-02-10T13:25:45.397Z"
   },
   {
    "duration": 5,
    "start_time": "2022-02-10T13:25:45.429Z"
   },
   {
    "duration": 593,
    "start_time": "2022-02-10T13:25:45.436Z"
   },
   {
    "duration": 561,
    "start_time": "2022-02-10T13:25:46.034Z"
   },
   {
    "duration": 19,
    "start_time": "2022-02-10T13:25:46.598Z"
   },
   {
    "duration": 405,
    "start_time": "2022-02-10T13:25:46.628Z"
   },
   {
    "duration": 34,
    "start_time": "2022-02-10T13:25:47.034Z"
   },
   {
    "duration": 9,
    "start_time": "2022-02-10T13:25:47.069Z"
   },
   {
    "duration": 6,
    "start_time": "2022-02-10T13:25:47.080Z"
   },
   {
    "duration": 78,
    "start_time": "2022-02-10T13:25:47.087Z"
   },
   {
    "duration": 347,
    "start_time": "2022-02-10T13:25:47.167Z"
   },
   {
    "duration": 357,
    "start_time": "2022-02-10T13:25:47.515Z"
   },
   {
    "duration": 22,
    "start_time": "2022-02-10T13:25:47.873Z"
   },
   {
    "duration": 3540,
    "start_time": "2022-02-10T13:25:47.896Z"
   },
   {
    "duration": 4413,
    "start_time": "2022-02-10T13:25:51.438Z"
   },
   {
    "duration": 50,
    "start_time": "2022-02-10T13:25:55.853Z"
   },
   {
    "duration": 528,
    "start_time": "2022-02-10T13:25:55.904Z"
   },
   {
    "duration": 6,
    "start_time": "2022-02-10T13:25:56.433Z"
   },
   {
    "duration": 67,
    "start_time": "2022-02-10T13:25:56.441Z"
   },
   {
    "duration": 621,
    "start_time": "2022-02-10T13:25:56.509Z"
   },
   {
    "duration": 6,
    "start_time": "2022-02-10T13:25:57.131Z"
   },
   {
    "duration": 267,
    "start_time": "2022-02-10T13:25:57.139Z"
   },
   {
    "duration": 148,
    "start_time": "2022-02-10T13:25:57.408Z"
   },
   {
    "duration": 155,
    "start_time": "2022-02-10T13:25:57.557Z"
   },
   {
    "duration": 135,
    "start_time": "2022-02-10T13:25:57.713Z"
   },
   {
    "duration": 417,
    "start_time": "2022-02-10T13:25:57.850Z"
   },
   {
    "duration": 542,
    "start_time": "2022-02-10T13:25:58.270Z"
   },
   {
    "duration": 559,
    "start_time": "2022-02-10T13:25:58.814Z"
   },
   {
    "duration": 11,
    "start_time": "2022-02-10T13:25:59.375Z"
   },
   {
    "duration": 11,
    "start_time": "2022-02-10T13:25:59.388Z"
   },
   {
    "duration": 356,
    "start_time": "2022-02-10T13:34:05.776Z"
   },
   {
    "duration": 1112,
    "start_time": "2022-02-10T13:34:10.640Z"
   },
   {
    "duration": 47,
    "start_time": "2022-02-10T13:34:11.753Z"
   },
   {
    "duration": 9,
    "start_time": "2022-02-10T13:34:11.802Z"
   },
   {
    "duration": 30,
    "start_time": "2022-02-10T13:34:11.813Z"
   },
   {
    "duration": 4,
    "start_time": "2022-02-10T13:34:11.844Z"
   },
   {
    "duration": 18,
    "start_time": "2022-02-10T13:34:11.849Z"
   },
   {
    "duration": 12,
    "start_time": "2022-02-10T13:34:11.868Z"
   },
   {
    "duration": 11,
    "start_time": "2022-02-10T13:34:11.882Z"
   },
   {
    "duration": 33,
    "start_time": "2022-02-10T13:34:11.895Z"
   },
   {
    "duration": 13,
    "start_time": "2022-02-10T13:34:11.929Z"
   },
   {
    "duration": 14,
    "start_time": "2022-02-10T13:34:11.943Z"
   },
   {
    "duration": 6,
    "start_time": "2022-02-10T13:34:11.958Z"
   },
   {
    "duration": 13,
    "start_time": "2022-02-10T13:34:11.965Z"
   },
   {
    "duration": 9,
    "start_time": "2022-02-10T13:34:11.979Z"
   },
   {
    "duration": 6,
    "start_time": "2022-02-10T13:34:11.990Z"
   },
   {
    "duration": 38,
    "start_time": "2022-02-10T13:34:11.997Z"
   },
   {
    "duration": 25,
    "start_time": "2022-02-10T13:34:12.036Z"
   },
   {
    "duration": 18,
    "start_time": "2022-02-10T13:34:12.063Z"
   },
   {
    "duration": 13,
    "start_time": "2022-02-10T13:34:12.082Z"
   },
   {
    "duration": 6,
    "start_time": "2022-02-10T13:34:12.097Z"
   },
   {
    "duration": 6,
    "start_time": "2022-02-10T13:34:12.127Z"
   },
   {
    "duration": 386,
    "start_time": "2022-02-10T13:34:12.134Z"
   },
   {
    "duration": 354,
    "start_time": "2022-02-10T13:34:12.523Z"
   },
   {
    "duration": 12,
    "start_time": "2022-02-10T13:34:12.879Z"
   },
   {
    "duration": 445,
    "start_time": "2022-02-10T13:34:12.893Z"
   },
   {
    "duration": 32,
    "start_time": "2022-02-10T13:34:13.339Z"
   },
   {
    "duration": 8,
    "start_time": "2022-02-10T13:34:13.373Z"
   },
   {
    "duration": 6,
    "start_time": "2022-02-10T13:34:13.382Z"
   },
   {
    "duration": 71,
    "start_time": "2022-02-10T13:34:13.389Z"
   },
   {
    "duration": 356,
    "start_time": "2022-02-10T13:34:13.462Z"
   },
   {
    "duration": 28,
    "start_time": "2022-02-10T13:34:13.820Z"
   },
   {
    "duration": 3983,
    "start_time": "2022-02-10T13:34:13.850Z"
   },
   {
    "duration": 3392,
    "start_time": "2022-02-10T13:34:17.835Z"
   },
   {
    "duration": 51,
    "start_time": "2022-02-10T13:34:21.229Z"
   },
   {
    "duration": 651,
    "start_time": "2022-02-10T13:34:21.281Z"
   },
   {
    "duration": 7,
    "start_time": "2022-02-10T13:34:21.933Z"
   },
   {
    "duration": 49,
    "start_time": "2022-02-10T13:34:21.942Z"
   },
   {
    "duration": 757,
    "start_time": "2022-02-10T13:34:21.993Z"
   },
   {
    "duration": 8,
    "start_time": "2022-02-10T13:34:22.752Z"
   },
   {
    "duration": 278,
    "start_time": "2022-02-10T13:34:22.761Z"
   },
   {
    "duration": 163,
    "start_time": "2022-02-10T13:34:23.041Z"
   },
   {
    "duration": 146,
    "start_time": "2022-02-10T13:34:23.205Z"
   },
   {
    "duration": 141,
    "start_time": "2022-02-10T13:34:23.353Z"
   },
   {
    "duration": 427,
    "start_time": "2022-02-10T13:34:23.495Z"
   },
   {
    "duration": 474,
    "start_time": "2022-02-10T13:34:23.927Z"
   },
   {
    "duration": 575,
    "start_time": "2022-02-10T13:34:24.402Z"
   },
   {
    "duration": 10,
    "start_time": "2022-02-10T13:34:24.979Z"
   },
   {
    "duration": 8,
    "start_time": "2022-02-10T13:34:24.990Z"
   },
   {
    "duration": 353,
    "start_time": "2022-02-10T13:35:27.560Z"
   },
   {
    "duration": 1197,
    "start_time": "2022-02-10T13:35:35.252Z"
   },
   {
    "duration": 45,
    "start_time": "2022-02-10T13:35:36.451Z"
   },
   {
    "duration": 8,
    "start_time": "2022-02-10T13:35:36.498Z"
   },
   {
    "duration": 29,
    "start_time": "2022-02-10T13:35:36.508Z"
   },
   {
    "duration": 3,
    "start_time": "2022-02-10T13:35:36.539Z"
   },
   {
    "duration": 18,
    "start_time": "2022-02-10T13:35:36.543Z"
   },
   {
    "duration": 12,
    "start_time": "2022-02-10T13:35:36.563Z"
   },
   {
    "duration": 11,
    "start_time": "2022-02-10T13:35:36.577Z"
   },
   {
    "duration": 11,
    "start_time": "2022-02-10T13:35:36.590Z"
   },
   {
    "duration": 34,
    "start_time": "2022-02-10T13:35:36.603Z"
   },
   {
    "duration": 13,
    "start_time": "2022-02-10T13:35:36.639Z"
   },
   {
    "duration": 7,
    "start_time": "2022-02-10T13:35:36.653Z"
   },
   {
    "duration": 12,
    "start_time": "2022-02-10T13:35:36.662Z"
   },
   {
    "duration": 8,
    "start_time": "2022-02-10T13:35:36.675Z"
   },
   {
    "duration": 7,
    "start_time": "2022-02-10T13:35:36.684Z"
   },
   {
    "duration": 39,
    "start_time": "2022-02-10T13:35:36.692Z"
   },
   {
    "duration": 24,
    "start_time": "2022-02-10T13:35:36.733Z"
   },
   {
    "duration": 15,
    "start_time": "2022-02-10T13:35:36.758Z"
   },
   {
    "duration": 12,
    "start_time": "2022-02-10T13:35:36.775Z"
   },
   {
    "duration": 5,
    "start_time": "2022-02-10T13:35:36.789Z"
   },
   {
    "duration": 33,
    "start_time": "2022-02-10T13:35:36.796Z"
   },
   {
    "duration": 369,
    "start_time": "2022-02-10T13:35:36.830Z"
   },
   {
    "duration": 343,
    "start_time": "2022-02-10T13:35:37.202Z"
   },
   {
    "duration": 12,
    "start_time": "2022-02-10T13:35:37.547Z"
   },
   {
    "duration": 346,
    "start_time": "2022-02-10T13:35:37.560Z"
   },
   {
    "duration": 45,
    "start_time": "2022-02-10T13:35:37.908Z"
   },
   {
    "duration": 9,
    "start_time": "2022-02-10T13:35:37.954Z"
   },
   {
    "duration": 6,
    "start_time": "2022-02-10T13:35:37.964Z"
   },
   {
    "duration": 63,
    "start_time": "2022-02-10T13:35:37.971Z"
   },
   {
    "duration": 351,
    "start_time": "2022-02-10T13:35:38.036Z"
   },
   {
    "duration": 21,
    "start_time": "2022-02-10T13:35:38.388Z"
   },
   {
    "duration": 3934,
    "start_time": "2022-02-10T13:35:38.411Z"
   },
   {
    "duration": 3253,
    "start_time": "2022-02-10T13:35:42.346Z"
   },
   {
    "duration": 62,
    "start_time": "2022-02-10T13:35:45.600Z"
   },
   {
    "duration": 580,
    "start_time": "2022-02-10T13:35:45.664Z"
   },
   {
    "duration": 6,
    "start_time": "2022-02-10T13:35:46.245Z"
   },
   {
    "duration": 50,
    "start_time": "2022-02-10T13:35:46.253Z"
   },
   {
    "duration": 626,
    "start_time": "2022-02-10T13:35:46.304Z"
   },
   {
    "duration": 6,
    "start_time": "2022-02-10T13:35:46.931Z"
   },
   {
    "duration": 270,
    "start_time": "2022-02-10T13:35:46.939Z"
   },
   {
    "duration": 151,
    "start_time": "2022-02-10T13:35:47.210Z"
   },
   {
    "duration": 141,
    "start_time": "2022-02-10T13:35:47.362Z"
   },
   {
    "duration": 143,
    "start_time": "2022-02-10T13:35:47.505Z"
   },
   {
    "duration": 421,
    "start_time": "2022-02-10T13:35:47.650Z"
   },
   {
    "duration": 426,
    "start_time": "2022-02-10T13:35:48.073Z"
   },
   {
    "duration": 543,
    "start_time": "2022-02-10T13:35:48.500Z"
   },
   {
    "duration": 9,
    "start_time": "2022-02-10T13:35:49.045Z"
   },
   {
    "duration": 11,
    "start_time": "2022-02-10T13:35:49.056Z"
   },
   {
    "duration": 22,
    "start_time": "2022-02-10T13:39:21.492Z"
   },
   {
    "duration": 1206,
    "start_time": "2022-02-10T13:41:07.342Z"
   },
   {
    "duration": 46,
    "start_time": "2022-02-10T13:41:08.550Z"
   },
   {
    "duration": 10,
    "start_time": "2022-02-10T13:41:08.598Z"
   },
   {
    "duration": 31,
    "start_time": "2022-02-10T13:41:08.610Z"
   },
   {
    "duration": 4,
    "start_time": "2022-02-10T13:41:08.643Z"
   },
   {
    "duration": 19,
    "start_time": "2022-02-10T13:41:08.649Z"
   },
   {
    "duration": 9,
    "start_time": "2022-02-10T13:41:08.670Z"
   },
   {
    "duration": 12,
    "start_time": "2022-02-10T13:41:08.681Z"
   },
   {
    "duration": 38,
    "start_time": "2022-02-10T13:41:08.694Z"
   },
   {
    "duration": 14,
    "start_time": "2022-02-10T13:41:08.734Z"
   },
   {
    "duration": 12,
    "start_time": "2022-02-10T13:41:08.749Z"
   },
   {
    "duration": 6,
    "start_time": "2022-02-10T13:41:08.762Z"
   },
   {
    "duration": 9,
    "start_time": "2022-02-10T13:41:08.770Z"
   },
   {
    "duration": 7,
    "start_time": "2022-02-10T13:41:08.781Z"
   },
   {
    "duration": 40,
    "start_time": "2022-02-10T13:41:08.789Z"
   },
   {
    "duration": 12,
    "start_time": "2022-02-10T13:41:08.830Z"
   },
   {
    "duration": 25,
    "start_time": "2022-02-10T13:41:08.844Z"
   },
   {
    "duration": 18,
    "start_time": "2022-02-10T13:41:08.870Z"
   },
   {
    "duration": 40,
    "start_time": "2022-02-10T13:41:08.889Z"
   },
   {
    "duration": 8,
    "start_time": "2022-02-10T13:41:08.931Z"
   },
   {
    "duration": 7,
    "start_time": "2022-02-10T13:41:08.940Z"
   },
   {
    "duration": 391,
    "start_time": "2022-02-10T13:41:08.948Z"
   },
   {
    "duration": 340,
    "start_time": "2022-02-10T13:41:09.342Z"
   },
   {
    "duration": 12,
    "start_time": "2022-02-10T13:41:09.684Z"
   },
   {
    "duration": 351,
    "start_time": "2022-02-10T13:41:09.697Z"
   },
   {
    "duration": 33,
    "start_time": "2022-02-10T13:41:10.049Z"
   },
   {
    "duration": 8,
    "start_time": "2022-02-10T13:41:10.084Z"
   },
   {
    "duration": 10,
    "start_time": "2022-02-10T13:41:10.094Z"
   },
   {
    "duration": 68,
    "start_time": "2022-02-10T13:41:10.105Z"
   },
   {
    "duration": 356,
    "start_time": "2022-02-10T13:41:10.174Z"
   },
   {
    "duration": 3813,
    "start_time": "2022-02-10T13:41:10.531Z"
   },
   {
    "duration": 3376,
    "start_time": "2022-02-10T13:41:14.346Z"
   },
   {
    "duration": 52,
    "start_time": "2022-02-10T13:41:17.724Z"
   },
   {
    "duration": 751,
    "start_time": "2022-02-10T13:41:17.778Z"
   },
   {
    "duration": 6,
    "start_time": "2022-02-10T13:41:18.531Z"
   },
   {
    "duration": 54,
    "start_time": "2022-02-10T13:41:18.538Z"
   },
   {
    "duration": 567,
    "start_time": "2022-02-10T13:41:18.594Z"
   },
   {
    "duration": 6,
    "start_time": "2022-02-10T13:41:19.163Z"
   },
   {
    "duration": 284,
    "start_time": "2022-02-10T13:41:19.170Z"
   },
   {
    "duration": 148,
    "start_time": "2022-02-10T13:41:19.455Z"
   },
   {
    "duration": 137,
    "start_time": "2022-02-10T13:41:19.604Z"
   },
   {
    "duration": 238,
    "start_time": "2022-02-10T13:41:19.743Z"
   },
   {
    "duration": 493,
    "start_time": "2022-02-10T13:41:19.982Z"
   },
   {
    "duration": 430,
    "start_time": "2022-02-10T13:41:20.477Z"
   },
   {
    "duration": 562,
    "start_time": "2022-02-10T13:41:20.909Z"
   },
   {
    "duration": 10,
    "start_time": "2022-02-10T13:41:21.473Z"
   },
   {
    "duration": 8,
    "start_time": "2022-02-10T13:41:21.485Z"
   },
   {
    "duration": 3736,
    "start_time": "2022-02-10T13:42:20.945Z"
   },
   {
    "duration": 1095,
    "start_time": "2022-02-10T13:42:29.550Z"
   },
   {
    "duration": 49,
    "start_time": "2022-02-10T13:42:30.646Z"
   },
   {
    "duration": 9,
    "start_time": "2022-02-10T13:42:30.699Z"
   },
   {
    "duration": 29,
    "start_time": "2022-02-10T13:42:30.709Z"
   },
   {
    "duration": 3,
    "start_time": "2022-02-10T13:42:30.739Z"
   },
   {
    "duration": 25,
    "start_time": "2022-02-10T13:42:30.744Z"
   },
   {
    "duration": 10,
    "start_time": "2022-02-10T13:42:30.771Z"
   },
   {
    "duration": 11,
    "start_time": "2022-02-10T13:42:30.783Z"
   },
   {
    "duration": 34,
    "start_time": "2022-02-10T13:42:30.796Z"
   },
   {
    "duration": 17,
    "start_time": "2022-02-10T13:42:30.831Z"
   },
   {
    "duration": 13,
    "start_time": "2022-02-10T13:42:30.849Z"
   },
   {
    "duration": 5,
    "start_time": "2022-02-10T13:42:30.864Z"
   },
   {
    "duration": 10,
    "start_time": "2022-02-10T13:42:30.871Z"
   },
   {
    "duration": 11,
    "start_time": "2022-02-10T13:42:30.882Z"
   },
   {
    "duration": 8,
    "start_time": "2022-02-10T13:42:30.894Z"
   },
   {
    "duration": 11,
    "start_time": "2022-02-10T13:42:30.927Z"
   },
   {
    "duration": 27,
    "start_time": "2022-02-10T13:42:30.939Z"
   },
   {
    "duration": 24,
    "start_time": "2022-02-10T13:42:30.967Z"
   },
   {
    "duration": 13,
    "start_time": "2022-02-10T13:42:30.993Z"
   },
   {
    "duration": 22,
    "start_time": "2022-02-10T13:42:31.008Z"
   },
   {
    "duration": 7,
    "start_time": "2022-02-10T13:42:31.031Z"
   },
   {
    "duration": 388,
    "start_time": "2022-02-10T13:42:31.041Z"
   },
   {
    "duration": 375,
    "start_time": "2022-02-10T13:42:31.431Z"
   },
   {
    "duration": 24,
    "start_time": "2022-02-10T13:42:31.808Z"
   },
   {
    "duration": 352,
    "start_time": "2022-02-10T13:42:31.833Z"
   },
   {
    "duration": 41,
    "start_time": "2022-02-10T13:42:32.187Z"
   },
   {
    "duration": 8,
    "start_time": "2022-02-10T13:42:32.230Z"
   },
   {
    "duration": 4,
    "start_time": "2022-02-10T13:42:32.240Z"
   },
   {
    "duration": 54,
    "start_time": "2022-02-10T13:42:32.246Z"
   },
   {
    "duration": 376,
    "start_time": "2022-02-10T13:42:32.302Z"
   },
   {
    "duration": 3737,
    "start_time": "2022-02-10T13:42:32.680Z"
   },
   {
    "duration": 3312,
    "start_time": "2022-02-10T13:42:36.418Z"
   },
   {
    "duration": 52,
    "start_time": "2022-02-10T13:42:39.732Z"
   },
   {
    "duration": 542,
    "start_time": "2022-02-10T13:42:39.785Z"
   },
   {
    "duration": 7,
    "start_time": "2022-02-10T13:42:40.329Z"
   },
   {
    "duration": 53,
    "start_time": "2022-02-10T13:42:40.337Z"
   },
   {
    "duration": 562,
    "start_time": "2022-02-10T13:42:40.391Z"
   },
   {
    "duration": 6,
    "start_time": "2022-02-10T13:42:40.955Z"
   },
   {
    "duration": 275,
    "start_time": "2022-02-10T13:42:40.963Z"
   },
   {
    "duration": 154,
    "start_time": "2022-02-10T13:42:41.240Z"
   },
   {
    "duration": 141,
    "start_time": "2022-02-10T13:42:41.396Z"
   },
   {
    "duration": 144,
    "start_time": "2022-02-10T13:42:41.538Z"
   },
   {
    "duration": 410,
    "start_time": "2022-02-10T13:42:41.683Z"
   },
   {
    "duration": 578,
    "start_time": "2022-02-10T13:42:42.095Z"
   },
   {
    "duration": 557,
    "start_time": "2022-02-10T13:42:42.727Z"
   },
   {
    "duration": 10,
    "start_time": "2022-02-10T13:42:43.285Z"
   },
   {
    "duration": 9,
    "start_time": "2022-02-10T13:42:43.297Z"
   },
   {
    "duration": 1065,
    "start_time": "2022-02-10T13:43:09.581Z"
   },
   {
    "duration": 47,
    "start_time": "2022-02-10T13:43:10.648Z"
   },
   {
    "duration": 9,
    "start_time": "2022-02-10T13:43:10.696Z"
   },
   {
    "duration": 29,
    "start_time": "2022-02-10T13:43:10.706Z"
   },
   {
    "duration": 4,
    "start_time": "2022-02-10T13:43:10.736Z"
   },
   {
    "duration": 17,
    "start_time": "2022-02-10T13:43:10.741Z"
   },
   {
    "duration": 8,
    "start_time": "2022-02-10T13:43:10.760Z"
   },
   {
    "duration": 10,
    "start_time": "2022-02-10T13:43:10.770Z"
   },
   {
    "duration": 12,
    "start_time": "2022-02-10T13:43:10.782Z"
   },
   {
    "duration": 38,
    "start_time": "2022-02-10T13:43:10.795Z"
   },
   {
    "duration": 13,
    "start_time": "2022-02-10T13:43:10.834Z"
   },
   {
    "duration": 6,
    "start_time": "2022-02-10T13:43:10.848Z"
   },
   {
    "duration": 10,
    "start_time": "2022-02-10T13:43:10.855Z"
   },
   {
    "duration": 8,
    "start_time": "2022-02-10T13:43:10.867Z"
   },
   {
    "duration": 8,
    "start_time": "2022-02-10T13:43:10.876Z"
   },
   {
    "duration": 11,
    "start_time": "2022-02-10T13:43:10.885Z"
   },
   {
    "duration": 50,
    "start_time": "2022-02-10T13:43:10.898Z"
   },
   {
    "duration": 14,
    "start_time": "2022-02-10T13:43:10.950Z"
   },
   {
    "duration": 13,
    "start_time": "2022-02-10T13:43:10.966Z"
   },
   {
    "duration": 5,
    "start_time": "2022-02-10T13:43:10.981Z"
   },
   {
    "duration": 6,
    "start_time": "2022-02-10T13:43:10.987Z"
   },
   {
    "duration": 393,
    "start_time": "2022-02-10T13:43:10.995Z"
   },
   {
    "duration": 347,
    "start_time": "2022-02-10T13:43:11.391Z"
   },
   {
    "duration": 16,
    "start_time": "2022-02-10T13:43:11.740Z"
   },
   {
    "duration": 564,
    "start_time": "2022-02-10T13:43:11.757Z"
   },
   {
    "duration": 33,
    "start_time": "2022-02-10T13:43:12.327Z"
   },
   {
    "duration": 8,
    "start_time": "2022-02-10T13:43:12.362Z"
   },
   {
    "duration": 8,
    "start_time": "2022-02-10T13:43:12.371Z"
   },
   {
    "duration": 70,
    "start_time": "2022-02-10T13:43:12.380Z"
   },
   {
    "duration": 356,
    "start_time": "2022-02-10T13:43:12.451Z"
   },
   {
    "duration": 3605,
    "start_time": "2022-02-10T13:43:12.809Z"
   },
   {
    "duration": 3715,
    "start_time": "2022-02-10T13:43:16.415Z"
   },
   {
    "duration": 54,
    "start_time": "2022-02-10T13:43:20.132Z"
   },
   {
    "duration": 559,
    "start_time": "2022-02-10T13:43:20.188Z"
   },
   {
    "duration": 6,
    "start_time": "2022-02-10T13:43:20.749Z"
   },
   {
    "duration": 51,
    "start_time": "2022-02-10T13:43:20.757Z"
   },
   {
    "duration": 626,
    "start_time": "2022-02-10T13:43:20.809Z"
   },
   {
    "duration": 10,
    "start_time": "2022-02-10T13:43:21.437Z"
   },
   {
    "duration": 291,
    "start_time": "2022-02-10T13:43:21.449Z"
   },
   {
    "duration": 161,
    "start_time": "2022-02-10T13:43:21.741Z"
   },
   {
    "duration": 150,
    "start_time": "2022-02-10T13:43:21.903Z"
   },
   {
    "duration": 147,
    "start_time": "2022-02-10T13:43:22.054Z"
   },
   {
    "duration": 562,
    "start_time": "2022-02-10T13:43:22.202Z"
   },
   {
    "duration": 439,
    "start_time": "2022-02-10T13:43:22.766Z"
   },
   {
    "duration": 548,
    "start_time": "2022-02-10T13:43:23.207Z"
   },
   {
    "duration": 9,
    "start_time": "2022-02-10T13:43:23.756Z"
   },
   {
    "duration": 10,
    "start_time": "2022-02-10T13:43:23.767Z"
   },
   {
    "duration": 3521,
    "start_time": "2022-02-10T13:43:46.920Z"
   },
   {
    "duration": 3564,
    "start_time": "2022-02-10T13:49:15.906Z"
   },
   {
    "duration": 1083,
    "start_time": "2022-02-10T13:49:52.911Z"
   },
   {
    "duration": 46,
    "start_time": "2022-02-10T13:49:53.996Z"
   },
   {
    "duration": 8,
    "start_time": "2022-02-10T13:49:54.044Z"
   },
   {
    "duration": 28,
    "start_time": "2022-02-10T13:49:54.053Z"
   },
   {
    "duration": 3,
    "start_time": "2022-02-10T13:49:54.083Z"
   },
   {
    "duration": 17,
    "start_time": "2022-02-10T13:49:54.087Z"
   },
   {
    "duration": 31,
    "start_time": "2022-02-10T13:49:54.106Z"
   },
   {
    "duration": 11,
    "start_time": "2022-02-10T13:49:54.139Z"
   },
   {
    "duration": 14,
    "start_time": "2022-02-10T13:49:54.152Z"
   },
   {
    "duration": 12,
    "start_time": "2022-02-10T13:49:54.168Z"
   },
   {
    "duration": 14,
    "start_time": "2022-02-10T13:49:54.181Z"
   },
   {
    "duration": 35,
    "start_time": "2022-02-10T13:49:54.196Z"
   },
   {
    "duration": 13,
    "start_time": "2022-02-10T13:49:54.232Z"
   },
   {
    "duration": 12,
    "start_time": "2022-02-10T13:49:54.246Z"
   },
   {
    "duration": 9,
    "start_time": "2022-02-10T13:49:54.259Z"
   },
   {
    "duration": 13,
    "start_time": "2022-02-10T13:49:54.270Z"
   },
   {
    "duration": 45,
    "start_time": "2022-02-10T13:49:54.285Z"
   },
   {
    "duration": 23,
    "start_time": "2022-02-10T13:49:54.332Z"
   },
   {
    "duration": 15,
    "start_time": "2022-02-10T13:49:54.357Z"
   },
   {
    "duration": 5,
    "start_time": "2022-02-10T13:49:54.373Z"
   },
   {
    "duration": 6,
    "start_time": "2022-02-10T13:49:54.380Z"
   },
   {
    "duration": 391,
    "start_time": "2022-02-10T13:49:54.388Z"
   },
   {
    "duration": 353,
    "start_time": "2022-02-10T13:49:54.782Z"
   },
   {
    "duration": 14,
    "start_time": "2022-02-10T13:49:55.137Z"
   },
   {
    "duration": 364,
    "start_time": "2022-02-10T13:49:55.153Z"
   },
   {
    "duration": 44,
    "start_time": "2022-02-10T13:49:55.518Z"
   },
   {
    "duration": 13,
    "start_time": "2022-02-10T13:49:55.563Z"
   },
   {
    "duration": 13,
    "start_time": "2022-02-10T13:49:55.577Z"
   },
   {
    "duration": 76,
    "start_time": "2022-02-10T13:49:55.592Z"
   },
   {
    "duration": 366,
    "start_time": "2022-02-10T13:49:55.670Z"
   },
   {
    "duration": 5895,
    "start_time": "2022-02-10T13:49:56.037Z"
   },
   {
    "duration": 5772,
    "start_time": "2022-02-10T13:50:01.934Z"
   },
   {
    "duration": 86,
    "start_time": "2022-02-10T13:50:07.708Z"
   },
   {
    "duration": 772,
    "start_time": "2022-02-10T13:50:07.796Z"
   },
   {
    "duration": 7,
    "start_time": "2022-02-10T13:50:08.570Z"
   },
   {
    "duration": 61,
    "start_time": "2022-02-10T13:50:08.579Z"
   },
   {
    "duration": 715,
    "start_time": "2022-02-10T13:50:08.642Z"
   },
   {
    "duration": 7,
    "start_time": "2022-02-10T13:50:09.358Z"
   },
   {
    "duration": 281,
    "start_time": "2022-02-10T13:50:09.366Z"
   },
   {
    "duration": 246,
    "start_time": "2022-02-10T13:50:09.649Z"
   },
   {
    "duration": 146,
    "start_time": "2022-02-10T13:50:09.896Z"
   },
   {
    "duration": 148,
    "start_time": "2022-02-10T13:50:10.044Z"
   },
   {
    "duration": 416,
    "start_time": "2022-02-10T13:50:10.194Z"
   },
   {
    "duration": 430,
    "start_time": "2022-02-10T13:50:10.611Z"
   },
   {
    "duration": 556,
    "start_time": "2022-02-10T13:50:11.043Z"
   },
   {
    "duration": 11,
    "start_time": "2022-02-10T13:50:11.601Z"
   },
   {
    "duration": 19,
    "start_time": "2022-02-10T13:50:11.614Z"
   },
   {
    "duration": 1111,
    "start_time": "2022-02-10T13:53:46.448Z"
   },
   {
    "duration": 47,
    "start_time": "2022-02-10T13:53:47.560Z"
   },
   {
    "duration": 9,
    "start_time": "2022-02-10T13:53:47.610Z"
   },
   {
    "duration": 27,
    "start_time": "2022-02-10T13:53:47.620Z"
   },
   {
    "duration": 3,
    "start_time": "2022-02-10T13:53:47.649Z"
   },
   {
    "duration": 17,
    "start_time": "2022-02-10T13:53:47.653Z"
   },
   {
    "duration": 7,
    "start_time": "2022-02-10T13:53:47.671Z"
   },
   {
    "duration": 11,
    "start_time": "2022-02-10T13:53:47.680Z"
   },
   {
    "duration": 37,
    "start_time": "2022-02-10T13:53:47.693Z"
   },
   {
    "duration": 14,
    "start_time": "2022-02-10T13:53:47.732Z"
   },
   {
    "duration": 12,
    "start_time": "2022-02-10T13:53:47.748Z"
   },
   {
    "duration": 6,
    "start_time": "2022-02-10T13:53:47.762Z"
   },
   {
    "duration": 8,
    "start_time": "2022-02-10T13:53:47.770Z"
   },
   {
    "duration": 8,
    "start_time": "2022-02-10T13:53:47.780Z"
   },
   {
    "duration": 41,
    "start_time": "2022-02-10T13:53:47.789Z"
   },
   {
    "duration": 12,
    "start_time": "2022-02-10T13:53:47.831Z"
   },
   {
    "duration": 24,
    "start_time": "2022-02-10T13:53:47.845Z"
   },
   {
    "duration": 16,
    "start_time": "2022-02-10T13:53:47.870Z"
   },
   {
    "duration": 41,
    "start_time": "2022-02-10T13:53:47.887Z"
   },
   {
    "duration": 5,
    "start_time": "2022-02-10T13:53:47.929Z"
   },
   {
    "duration": 10,
    "start_time": "2022-02-10T13:53:47.935Z"
   },
   {
    "duration": 371,
    "start_time": "2022-02-10T13:53:47.946Z"
   },
   {
    "duration": 339,
    "start_time": "2022-02-10T13:53:48.320Z"
   },
   {
    "duration": 13,
    "start_time": "2022-02-10T13:53:48.661Z"
   },
   {
    "duration": 557,
    "start_time": "2022-02-10T13:53:48.675Z"
   },
   {
    "duration": 35,
    "start_time": "2022-02-10T13:53:49.233Z"
   },
   {
    "duration": 10,
    "start_time": "2022-02-10T13:53:49.270Z"
   },
   {
    "duration": 6,
    "start_time": "2022-02-10T13:53:49.282Z"
   },
   {
    "duration": 93,
    "start_time": "2022-02-10T13:53:49.289Z"
   },
   {
    "duration": 383,
    "start_time": "2022-02-10T13:53:49.384Z"
   },
   {
    "duration": 3398,
    "start_time": "2022-02-10T13:53:49.769Z"
   },
   {
    "duration": 3932,
    "start_time": "2022-02-10T13:53:53.169Z"
   },
   {
    "duration": 60,
    "start_time": "2022-02-10T13:53:57.103Z"
   },
   {
    "duration": 582,
    "start_time": "2022-02-10T13:53:57.164Z"
   },
   {
    "duration": 7,
    "start_time": "2022-02-10T13:53:57.748Z"
   },
   {
    "duration": 86,
    "start_time": "2022-02-10T13:53:57.757Z"
   },
   {
    "duration": 725,
    "start_time": "2022-02-10T13:53:57.845Z"
   },
   {
    "duration": 7,
    "start_time": "2022-02-10T13:53:58.572Z"
   },
   {
    "duration": 308,
    "start_time": "2022-02-10T13:53:58.581Z"
   },
   {
    "duration": 169,
    "start_time": "2022-02-10T13:53:58.891Z"
   },
   {
    "duration": 167,
    "start_time": "2022-02-10T13:53:59.062Z"
   },
   {
    "duration": 157,
    "start_time": "2022-02-10T13:53:59.230Z"
   },
   {
    "duration": 461,
    "start_time": "2022-02-10T13:53:59.389Z"
   },
   {
    "duration": 450,
    "start_time": "2022-02-10T13:53:59.852Z"
   },
   {
    "duration": 582,
    "start_time": "2022-02-10T13:54:00.303Z"
   },
   {
    "duration": 12,
    "start_time": "2022-02-10T13:54:00.887Z"
   },
   {
    "duration": 10,
    "start_time": "2022-02-10T13:54:00.900Z"
   },
   {
    "duration": 907,
    "start_time": "2022-02-10T15:19:48.484Z"
   },
   {
    "duration": 542,
    "start_time": "2022-02-10T15:19:56.781Z"
   },
   {
    "duration": 601,
    "start_time": "2022-02-10T15:21:21.938Z"
   },
   {
    "duration": 577,
    "start_time": "2022-02-10T15:21:44.666Z"
   },
   {
    "duration": 638,
    "start_time": "2022-02-10T15:27:03.300Z"
   },
   {
    "duration": 1056,
    "start_time": "2022-02-10T17:25:23.790Z"
   },
   {
    "duration": 47,
    "start_time": "2022-02-10T17:25:24.848Z"
   },
   {
    "duration": 8,
    "start_time": "2022-02-10T17:25:24.897Z"
   },
   {
    "duration": 28,
    "start_time": "2022-02-10T17:25:24.907Z"
   },
   {
    "duration": 3,
    "start_time": "2022-02-10T17:25:24.936Z"
   },
   {
    "duration": 23,
    "start_time": "2022-02-10T17:25:24.941Z"
   },
   {
    "duration": 7,
    "start_time": "2022-02-10T17:25:24.966Z"
   },
   {
    "duration": 10,
    "start_time": "2022-02-10T17:25:24.976Z"
   },
   {
    "duration": 40,
    "start_time": "2022-02-10T17:25:24.988Z"
   },
   {
    "duration": 13,
    "start_time": "2022-02-10T17:25:25.029Z"
   },
   {
    "duration": 12,
    "start_time": "2022-02-10T17:25:25.043Z"
   },
   {
    "duration": 6,
    "start_time": "2022-02-10T17:25:25.056Z"
   },
   {
    "duration": 8,
    "start_time": "2022-02-10T17:25:25.063Z"
   },
   {
    "duration": 8,
    "start_time": "2022-02-10T17:25:25.073Z"
   },
   {
    "duration": 6,
    "start_time": "2022-02-10T17:25:25.082Z"
   },
   {
    "duration": 44,
    "start_time": "2022-02-10T17:25:25.089Z"
   },
   {
    "duration": 24,
    "start_time": "2022-02-10T17:25:25.135Z"
   },
   {
    "duration": 18,
    "start_time": "2022-02-10T17:25:25.160Z"
   },
   {
    "duration": 13,
    "start_time": "2022-02-10T17:25:25.179Z"
   },
   {
    "duration": 5,
    "start_time": "2022-02-10T17:25:25.193Z"
   },
   {
    "duration": 28,
    "start_time": "2022-02-10T17:25:25.200Z"
   },
   {
    "duration": 371,
    "start_time": "2022-02-10T17:25:25.229Z"
   },
   {
    "duration": 347,
    "start_time": "2022-02-10T17:25:25.603Z"
   },
   {
    "duration": 13,
    "start_time": "2022-02-10T17:25:25.952Z"
   },
   {
    "duration": 348,
    "start_time": "2022-02-10T17:25:25.966Z"
   },
   {
    "duration": 36,
    "start_time": "2022-02-10T17:25:26.316Z"
   },
   {
    "duration": 9,
    "start_time": "2022-02-10T17:25:26.354Z"
   },
   {
    "duration": 5,
    "start_time": "2022-02-10T17:25:26.364Z"
   },
   {
    "duration": 69,
    "start_time": "2022-02-10T17:25:26.370Z"
   },
   {
    "duration": 361,
    "start_time": "2022-02-10T17:25:26.440Z"
   },
   {
    "duration": 3634,
    "start_time": "2022-02-10T17:25:26.802Z"
   },
   {
    "duration": 3454,
    "start_time": "2022-02-10T17:25:30.437Z"
   },
   {
    "duration": 55,
    "start_time": "2022-02-10T17:25:33.892Z"
   },
   {
    "duration": 568,
    "start_time": "2022-02-10T17:25:33.949Z"
   },
   {
    "duration": 9,
    "start_time": "2022-02-10T17:25:34.519Z"
   },
   {
    "duration": 49,
    "start_time": "2022-02-10T17:25:34.530Z"
   },
   {
    "duration": 647,
    "start_time": "2022-02-10T17:25:34.580Z"
   },
   {
    "duration": 6,
    "start_time": "2022-02-10T17:25:35.229Z"
   },
   {
    "duration": 275,
    "start_time": "2022-02-10T17:25:35.236Z"
   },
   {
    "duration": 416,
    "start_time": "2022-02-10T17:25:35.512Z"
   },
   {
    "duration": 435,
    "start_time": "2022-02-10T17:25:35.930Z"
   },
   {
    "duration": 483,
    "start_time": "2022-02-10T17:25:36.367Z"
   },
   {
    "duration": 9,
    "start_time": "2022-02-10T17:25:36.852Z"
   },
   {
    "duration": 13,
    "start_time": "2022-02-10T17:25:36.863Z"
   },
   {
    "duration": 496,
    "start_time": "2022-02-10T17:28:41.701Z"
   },
   {
    "duration": 429,
    "start_time": "2022-02-10T17:31:49.457Z"
   },
   {
    "duration": 1139,
    "start_time": "2022-02-10T18:51:04.515Z"
   },
   {
    "duration": 47,
    "start_time": "2022-02-10T18:51:05.655Z"
   },
   {
    "duration": 11,
    "start_time": "2022-02-10T18:51:05.706Z"
   },
   {
    "duration": 31,
    "start_time": "2022-02-10T18:51:05.718Z"
   },
   {
    "duration": 4,
    "start_time": "2022-02-10T18:51:05.750Z"
   },
   {
    "duration": 17,
    "start_time": "2022-02-10T18:51:05.755Z"
   },
   {
    "duration": 8,
    "start_time": "2022-02-10T18:51:05.775Z"
   },
   {
    "duration": 11,
    "start_time": "2022-02-10T18:51:05.786Z"
   },
   {
    "duration": 39,
    "start_time": "2022-02-10T18:51:05.799Z"
   },
   {
    "duration": 12,
    "start_time": "2022-02-10T18:51:05.840Z"
   },
   {
    "duration": 17,
    "start_time": "2022-02-10T18:51:05.854Z"
   },
   {
    "duration": 5,
    "start_time": "2022-02-10T18:51:05.873Z"
   },
   {
    "duration": 10,
    "start_time": "2022-02-10T18:51:05.879Z"
   },
   {
    "duration": 7,
    "start_time": "2022-02-10T18:51:05.890Z"
   },
   {
    "duration": 35,
    "start_time": "2022-02-10T18:51:05.899Z"
   },
   {
    "duration": 13,
    "start_time": "2022-02-10T18:51:05.936Z"
   },
   {
    "duration": 24,
    "start_time": "2022-02-10T18:51:05.950Z"
   },
   {
    "duration": 12,
    "start_time": "2022-02-10T18:51:05.975Z"
   },
   {
    "duration": 5,
    "start_time": "2022-02-10T18:51:05.989Z"
   },
   {
    "duration": 32,
    "start_time": "2022-02-10T18:51:05.995Z"
   },
   {
    "duration": 23,
    "start_time": "2022-02-10T18:51:06.029Z"
   },
   {
    "duration": 476,
    "start_time": "2022-02-10T18:51:06.056Z"
   },
   {
    "duration": 355,
    "start_time": "2022-02-10T18:51:06.535Z"
   },
   {
    "duration": 13,
    "start_time": "2022-02-10T18:51:06.891Z"
   },
   {
    "duration": 345,
    "start_time": "2022-02-10T18:51:06.905Z"
   },
   {
    "duration": 33,
    "start_time": "2022-02-10T18:51:07.252Z"
   },
   {
    "duration": 9,
    "start_time": "2022-02-10T18:51:07.287Z"
   },
   {
    "duration": 17,
    "start_time": "2022-02-10T18:51:07.297Z"
   },
   {
    "duration": 65,
    "start_time": "2022-02-10T18:51:07.315Z"
   },
   {
    "duration": 462,
    "start_time": "2022-02-10T18:51:07.382Z"
   },
   {
    "duration": 3514,
    "start_time": "2022-02-10T18:51:07.846Z"
   },
   {
    "duration": 4701,
    "start_time": "2022-02-10T18:51:11.361Z"
   },
   {
    "duration": 51,
    "start_time": "2022-02-10T18:51:16.064Z"
   },
   {
    "duration": 624,
    "start_time": "2022-02-10T18:51:16.127Z"
   },
   {
    "duration": 7,
    "start_time": "2022-02-10T18:51:16.753Z"
   },
   {
    "duration": 51,
    "start_time": "2022-02-10T18:51:16.762Z"
   },
   {
    "duration": 601,
    "start_time": "2022-02-10T18:51:16.827Z"
   },
   {
    "duration": 6,
    "start_time": "2022-02-10T18:51:17.429Z"
   },
   {
    "duration": 273,
    "start_time": "2022-02-10T18:51:17.436Z"
   },
   {
    "duration": 438,
    "start_time": "2022-02-10T18:51:17.711Z"
   },
   {
    "duration": 490,
    "start_time": "2022-02-10T18:51:18.151Z"
   },
   {
    "duration": 476,
    "start_time": "2022-02-10T18:51:18.642Z"
   },
   {
    "duration": 13,
    "start_time": "2022-02-10T18:51:19.120Z"
   },
   {
    "duration": 12,
    "start_time": "2022-02-10T18:51:19.135Z"
   },
   {
    "duration": 1088,
    "start_time": "2022-02-16T16:29:24.775Z"
   },
   {
    "duration": 50,
    "start_time": "2022-02-16T16:29:25.865Z"
   },
   {
    "duration": 10,
    "start_time": "2022-02-16T16:29:25.920Z"
   },
   {
    "duration": 27,
    "start_time": "2022-02-16T16:29:25.931Z"
   },
   {
    "duration": 3,
    "start_time": "2022-02-16T16:29:25.960Z"
   },
   {
    "duration": 21,
    "start_time": "2022-02-16T16:29:25.964Z"
   },
   {
    "duration": 10,
    "start_time": "2022-02-16T16:29:25.987Z"
   },
   {
    "duration": 40,
    "start_time": "2022-02-16T16:29:26.000Z"
   },
   {
    "duration": 14,
    "start_time": "2022-02-16T16:29:26.042Z"
   },
   {
    "duration": 15,
    "start_time": "2022-02-16T16:29:26.058Z"
   },
   {
    "duration": 14,
    "start_time": "2022-02-16T16:29:26.074Z"
   },
   {
    "duration": 6,
    "start_time": "2022-02-16T16:29:26.089Z"
   },
   {
    "duration": 39,
    "start_time": "2022-02-16T16:29:26.096Z"
   },
   {
    "duration": 9,
    "start_time": "2022-02-16T16:29:26.137Z"
   },
   {
    "duration": 15,
    "start_time": "2022-02-16T16:29:26.147Z"
   },
   {
    "duration": 13,
    "start_time": "2022-02-16T16:29:26.163Z"
   },
   {
    "duration": 27,
    "start_time": "2022-02-16T16:29:26.178Z"
   },
   {
    "duration": 34,
    "start_time": "2022-02-16T16:29:26.207Z"
   },
   {
    "duration": 7,
    "start_time": "2022-02-16T16:29:26.243Z"
   },
   {
    "duration": 14,
    "start_time": "2022-02-16T16:29:26.252Z"
   },
   {
    "duration": 23,
    "start_time": "2022-02-16T16:29:26.268Z"
   },
   {
    "duration": 457,
    "start_time": "2022-02-16T16:29:26.293Z"
   },
   {
    "duration": 385,
    "start_time": "2022-02-16T16:29:26.752Z"
   },
   {
    "duration": 15,
    "start_time": "2022-02-16T16:29:27.140Z"
   },
   {
    "duration": 538,
    "start_time": "2022-02-16T16:29:27.157Z"
   },
   {
    "duration": 44,
    "start_time": "2022-02-16T16:29:27.698Z"
   },
   {
    "duration": 11,
    "start_time": "2022-02-16T16:29:27.744Z"
   },
   {
    "duration": 6,
    "start_time": "2022-02-16T16:29:27.757Z"
   },
   {
    "duration": 72,
    "start_time": "2022-02-16T16:29:27.765Z"
   },
   {
    "duration": 399,
    "start_time": "2022-02-16T16:29:27.839Z"
   },
   {
    "duration": 3791,
    "start_time": "2022-02-16T16:29:28.240Z"
   },
   {
    "duration": 3661,
    "start_time": "2022-02-16T16:29:32.034Z"
   },
   {
    "duration": 68,
    "start_time": "2022-02-16T16:29:35.697Z"
   },
   {
    "duration": 700,
    "start_time": "2022-02-16T16:29:35.767Z"
   },
   {
    "duration": 7,
    "start_time": "2022-02-16T16:29:36.469Z"
   },
   {
    "duration": 70,
    "start_time": "2022-02-16T16:29:36.477Z"
   },
   {
    "duration": 622,
    "start_time": "2022-02-16T16:29:36.548Z"
   },
   {
    "duration": 8,
    "start_time": "2022-02-16T16:29:37.172Z"
   },
   {
    "duration": 306,
    "start_time": "2022-02-16T16:29:37.182Z"
   },
   {
    "duration": 495,
    "start_time": "2022-02-16T16:29:37.490Z"
   },
   {
    "duration": 471,
    "start_time": "2022-02-16T16:29:37.987Z"
   },
   {
    "duration": 578,
    "start_time": "2022-02-16T16:29:38.460Z"
   },
   {
    "duration": 11,
    "start_time": "2022-02-16T16:29:39.040Z"
   },
   {
    "duration": 9,
    "start_time": "2022-02-16T16:29:39.052Z"
   },
   {
    "duration": 397,
    "start_time": "2022-02-16T18:20:56.779Z"
   },
   {
    "duration": 1136,
    "start_time": "2022-02-16T18:21:11.247Z"
   },
   {
    "duration": 56,
    "start_time": "2022-02-16T18:21:12.385Z"
   },
   {
    "duration": 9,
    "start_time": "2022-02-16T18:21:12.443Z"
   },
   {
    "duration": 24,
    "start_time": "2022-02-16T18:21:12.454Z"
   },
   {
    "duration": 4,
    "start_time": "2022-02-16T18:21:12.479Z"
   },
   {
    "duration": 22,
    "start_time": "2022-02-16T18:21:12.484Z"
   },
   {
    "duration": 7,
    "start_time": "2022-02-16T18:21:12.508Z"
   },
   {
    "duration": 31,
    "start_time": "2022-02-16T18:21:12.517Z"
   },
   {
    "duration": 23,
    "start_time": "2022-02-16T18:21:12.550Z"
   },
   {
    "duration": 15,
    "start_time": "2022-02-16T18:21:12.575Z"
   },
   {
    "duration": 12,
    "start_time": "2022-02-16T18:21:12.592Z"
   },
   {
    "duration": 6,
    "start_time": "2022-02-16T18:21:12.605Z"
   },
   {
    "duration": 20,
    "start_time": "2022-02-16T18:21:12.612Z"
   },
   {
    "duration": 16,
    "start_time": "2022-02-16T18:21:12.633Z"
   },
   {
    "duration": 21,
    "start_time": "2022-02-16T18:21:12.651Z"
   },
   {
    "duration": 18,
    "start_time": "2022-02-16T18:21:12.674Z"
   },
   {
    "duration": 33,
    "start_time": "2022-02-16T18:21:12.694Z"
   },
   {
    "duration": 12,
    "start_time": "2022-02-16T18:21:12.728Z"
   },
   {
    "duration": 5,
    "start_time": "2022-02-16T18:21:12.742Z"
   },
   {
    "duration": 22,
    "start_time": "2022-02-16T18:21:12.748Z"
   },
   {
    "duration": 21,
    "start_time": "2022-02-16T18:21:12.772Z"
   },
   {
    "duration": 381,
    "start_time": "2022-02-16T18:21:12.795Z"
   },
   {
    "duration": 366,
    "start_time": "2022-02-16T18:21:13.181Z"
   },
   {
    "duration": 14,
    "start_time": "2022-02-16T18:21:13.550Z"
   },
   {
    "duration": 357,
    "start_time": "2022-02-16T18:21:13.567Z"
   },
   {
    "duration": 48,
    "start_time": "2022-02-16T18:21:13.926Z"
   },
   {
    "duration": 9,
    "start_time": "2022-02-16T18:21:13.976Z"
   },
   {
    "duration": 6,
    "start_time": "2022-02-16T18:21:13.987Z"
   },
   {
    "duration": 68,
    "start_time": "2022-02-16T18:21:13.995Z"
   },
   {
    "duration": 373,
    "start_time": "2022-02-16T18:21:14.065Z"
   },
   {
    "duration": 3743,
    "start_time": "2022-02-16T18:21:14.439Z"
   },
   {
    "duration": 3549,
    "start_time": "2022-02-16T18:21:18.183Z"
   },
   {
    "duration": 60,
    "start_time": "2022-02-16T18:21:21.734Z"
   },
   {
    "duration": 559,
    "start_time": "2022-02-16T18:21:21.796Z"
   },
   {
    "duration": 7,
    "start_time": "2022-02-16T18:21:22.357Z"
   },
   {
    "duration": 53,
    "start_time": "2022-02-16T18:21:22.366Z"
   },
   {
    "duration": 639,
    "start_time": "2022-02-16T18:21:22.420Z"
   },
   {
    "duration": 7,
    "start_time": "2022-02-16T18:21:23.060Z"
   },
   {
    "duration": 281,
    "start_time": "2022-02-16T18:21:23.068Z"
   },
   {
    "duration": 450,
    "start_time": "2022-02-16T18:21:23.351Z"
   },
   {
    "duration": 445,
    "start_time": "2022-02-16T18:21:23.803Z"
   },
   {
    "duration": 498,
    "start_time": "2022-02-16T18:21:24.250Z"
   },
   {
    "duration": 11,
    "start_time": "2022-02-16T18:21:24.750Z"
   },
   {
    "duration": 8,
    "start_time": "2022-02-16T18:21:24.763Z"
   },
   {
    "duration": 57,
    "start_time": "2022-02-16T18:27:07.488Z"
   },
   {
    "duration": 365,
    "start_time": "2022-02-16T18:27:16.196Z"
   },
   {
    "duration": 350,
    "start_time": "2022-02-16T18:27:26.388Z"
   },
   {
    "duration": 364,
    "start_time": "2022-02-16T18:27:36.412Z"
   },
   {
    "duration": 2205,
    "start_time": "2022-02-16T18:40:16.053Z"
   },
   {
    "duration": 1470,
    "start_time": "2022-02-16T18:40:28.014Z"
   },
   {
    "duration": 686,
    "start_time": "2022-02-16T18:40:51.920Z"
   },
   {
    "duration": 367,
    "start_time": "2022-02-16T18:42:09.717Z"
   },
   {
    "duration": 669,
    "start_time": "2022-02-16T18:42:36.842Z"
   },
   {
    "duration": 663,
    "start_time": "2022-02-16T18:43:31.043Z"
   },
   {
    "duration": 709,
    "start_time": "2022-02-16T18:43:51.787Z"
   },
   {
    "duration": 308,
    "start_time": "2022-02-16T18:44:04.226Z"
   },
   {
    "duration": 307,
    "start_time": "2022-02-16T18:44:13.609Z"
   },
   {
    "duration": 313,
    "start_time": "2022-02-16T18:44:19.017Z"
   },
   {
    "duration": 3,
    "start_time": "2022-02-16T18:53:37.008Z"
   },
   {
    "duration": 1067,
    "start_time": "2022-02-16T18:53:43.108Z"
   },
   {
    "duration": 46,
    "start_time": "2022-02-16T18:53:44.176Z"
   },
   {
    "duration": 10,
    "start_time": "2022-02-16T18:53:44.225Z"
   },
   {
    "duration": 29,
    "start_time": "2022-02-16T18:53:44.236Z"
   },
   {
    "duration": 3,
    "start_time": "2022-02-16T18:53:44.267Z"
   },
   {
    "duration": 18,
    "start_time": "2022-02-16T18:53:44.271Z"
   },
   {
    "duration": 7,
    "start_time": "2022-02-16T18:53:44.292Z"
   },
   {
    "duration": 11,
    "start_time": "2022-02-16T18:53:44.300Z"
   },
   {
    "duration": 37,
    "start_time": "2022-02-16T18:53:44.312Z"
   },
   {
    "duration": 12,
    "start_time": "2022-02-16T18:53:44.350Z"
   },
   {
    "duration": 11,
    "start_time": "2022-02-16T18:53:44.364Z"
   },
   {
    "duration": 5,
    "start_time": "2022-02-16T18:53:44.376Z"
   },
   {
    "duration": 8,
    "start_time": "2022-02-16T18:53:44.383Z"
   },
   {
    "duration": 7,
    "start_time": "2022-02-16T18:53:44.393Z"
   },
   {
    "duration": 8,
    "start_time": "2022-02-16T18:53:44.401Z"
   },
   {
    "duration": 43,
    "start_time": "2022-02-16T18:53:44.410Z"
   },
   {
    "duration": 24,
    "start_time": "2022-02-16T18:53:44.454Z"
   },
   {
    "duration": 12,
    "start_time": "2022-02-16T18:53:44.479Z"
   },
   {
    "duration": 5,
    "start_time": "2022-02-16T18:53:44.493Z"
   },
   {
    "duration": 6,
    "start_time": "2022-02-16T18:53:44.499Z"
   },
   {
    "duration": 43,
    "start_time": "2022-02-16T18:53:44.506Z"
   },
   {
    "duration": 372,
    "start_time": "2022-02-16T18:53:44.552Z"
   },
   {
    "duration": 351,
    "start_time": "2022-02-16T18:53:44.926Z"
   },
   {
    "duration": 13,
    "start_time": "2022-02-16T18:53:45.279Z"
   },
   {
    "duration": 335,
    "start_time": "2022-02-16T18:53:45.293Z"
   },
   {
    "duration": 40,
    "start_time": "2022-02-16T18:53:45.630Z"
   },
   {
    "duration": 8,
    "start_time": "2022-02-16T18:53:45.672Z"
   },
   {
    "duration": 5,
    "start_time": "2022-02-16T18:53:45.682Z"
   },
   {
    "duration": 64,
    "start_time": "2022-02-16T18:53:45.689Z"
   },
   {
    "duration": 319,
    "start_time": "2022-02-16T18:53:45.755Z"
   },
   {
    "duration": 3435,
    "start_time": "2022-02-16T18:53:46.075Z"
   },
   {
    "duration": 3422,
    "start_time": "2022-02-16T18:53:49.512Z"
   },
   {
    "duration": 55,
    "start_time": "2022-02-16T18:53:52.935Z"
   },
   {
    "duration": 588,
    "start_time": "2022-02-16T18:53:52.992Z"
   },
   {
    "duration": 7,
    "start_time": "2022-02-16T18:53:53.581Z"
   },
   {
    "duration": 65,
    "start_time": "2022-02-16T18:53:53.589Z"
   },
   {
    "duration": 593,
    "start_time": "2022-02-16T18:53:53.656Z"
   },
   {
    "duration": 6,
    "start_time": "2022-02-16T18:53:54.250Z"
   },
   {
    "duration": 278,
    "start_time": "2022-02-16T18:53:54.258Z"
   },
   {
    "duration": 481,
    "start_time": "2022-02-16T18:53:54.538Z"
   },
   {
    "duration": 439,
    "start_time": "2022-02-16T18:53:55.020Z"
   },
   {
    "duration": 498,
    "start_time": "2022-02-16T18:53:55.460Z"
   },
   {
    "duration": 10,
    "start_time": "2022-02-16T18:53:55.959Z"
   },
   {
    "duration": 8,
    "start_time": "2022-02-16T18:53:55.970Z"
   },
   {
    "duration": 3478,
    "start_time": "2022-02-16T18:54:04.357Z"
   },
   {
    "duration": 3322,
    "start_time": "2022-02-16T18:54:17.532Z"
   },
   {
    "duration": 270,
    "start_time": "2022-02-16T18:59:10.599Z"
   },
   {
    "duration": 1081,
    "start_time": "2022-02-16T18:59:25.742Z"
   },
   {
    "duration": 56,
    "start_time": "2022-02-16T18:59:26.825Z"
   },
   {
    "duration": 9,
    "start_time": "2022-02-16T18:59:26.883Z"
   },
   {
    "duration": 25,
    "start_time": "2022-02-16T18:59:26.894Z"
   },
   {
    "duration": 4,
    "start_time": "2022-02-16T18:59:26.920Z"
   },
   {
    "duration": 35,
    "start_time": "2022-02-16T18:59:26.925Z"
   },
   {
    "duration": 10,
    "start_time": "2022-02-16T18:59:26.961Z"
   },
   {
    "duration": 11,
    "start_time": "2022-02-16T18:59:26.973Z"
   },
   {
    "duration": 13,
    "start_time": "2022-02-16T18:59:26.986Z"
   },
   {
    "duration": 14,
    "start_time": "2022-02-16T18:59:27.000Z"
   },
   {
    "duration": 39,
    "start_time": "2022-02-16T18:59:27.016Z"
   },
   {
    "duration": 6,
    "start_time": "2022-02-16T18:59:27.057Z"
   },
   {
    "duration": 15,
    "start_time": "2022-02-16T18:59:27.064Z"
   },
   {
    "duration": 9,
    "start_time": "2022-02-16T18:59:27.080Z"
   },
   {
    "duration": 8,
    "start_time": "2022-02-16T18:59:27.090Z"
   },
   {
    "duration": 13,
    "start_time": "2022-02-16T18:59:27.099Z"
   },
   {
    "duration": 54,
    "start_time": "2022-02-16T18:59:27.113Z"
   },
   {
    "duration": 12,
    "start_time": "2022-02-16T18:59:27.168Z"
   },
   {
    "duration": 5,
    "start_time": "2022-02-16T18:59:27.182Z"
   },
   {
    "duration": 6,
    "start_time": "2022-02-16T18:59:27.189Z"
   },
   {
    "duration": 18,
    "start_time": "2022-02-16T18:59:27.196Z"
   },
   {
    "duration": 398,
    "start_time": "2022-02-16T18:59:27.215Z"
   },
   {
    "duration": 463,
    "start_time": "2022-02-16T18:59:27.615Z"
   },
   {
    "duration": 13,
    "start_time": "2022-02-16T18:59:28.079Z"
   },
   {
    "duration": 348,
    "start_time": "2022-02-16T18:59:28.094Z"
   },
   {
    "duration": 36,
    "start_time": "2022-02-16T18:59:28.446Z"
   },
   {
    "duration": 9,
    "start_time": "2022-02-16T18:59:28.484Z"
   },
   {
    "duration": 5,
    "start_time": "2022-02-16T18:59:28.495Z"
   },
   {
    "duration": 82,
    "start_time": "2022-02-16T18:59:28.502Z"
   },
   {
    "duration": 329,
    "start_time": "2022-02-16T18:59:28.586Z"
   },
   {
    "duration": 3289,
    "start_time": "2022-02-16T18:59:28.917Z"
   },
   {
    "duration": 3204,
    "start_time": "2022-02-16T18:59:32.208Z"
   },
   {
    "duration": 68,
    "start_time": "2022-02-16T18:59:35.414Z"
   },
   {
    "duration": 693,
    "start_time": "2022-02-16T18:59:35.483Z"
   },
   {
    "duration": 6,
    "start_time": "2022-02-16T18:59:36.178Z"
   },
   {
    "duration": 66,
    "start_time": "2022-02-16T18:59:36.185Z"
   },
   {
    "duration": 577,
    "start_time": "2022-02-16T18:59:36.252Z"
   },
   {
    "duration": 6,
    "start_time": "2022-02-16T18:59:36.830Z"
   },
   {
    "duration": 271,
    "start_time": "2022-02-16T18:59:36.838Z"
   },
   {
    "duration": 418,
    "start_time": "2022-02-16T18:59:37.111Z"
   },
   {
    "duration": 489,
    "start_time": "2022-02-16T18:59:37.531Z"
   },
   {
    "duration": 680,
    "start_time": "2022-02-16T18:59:38.022Z"
   },
   {
    "duration": 10,
    "start_time": "2022-02-16T18:59:38.704Z"
   },
   {
    "duration": 13,
    "start_time": "2022-02-16T18:59:38.715Z"
   },
   {
    "duration": 56,
    "start_time": "2022-02-16T19:06:12.837Z"
   },
   {
    "duration": 311,
    "start_time": "2022-02-16T19:06:15.909Z"
   },
   {
    "duration": 58,
    "start_time": "2022-02-16T19:06:23.004Z"
   },
   {
    "duration": 313,
    "start_time": "2022-02-16T19:06:34.485Z"
   },
   {
    "duration": 3310,
    "start_time": "2022-02-16T19:09:07.450Z"
   },
   {
    "duration": 3334,
    "start_time": "2022-02-16T19:09:30.977Z"
   },
   {
    "duration": 271,
    "start_time": "2022-02-16T19:10:27.599Z"
   },
   {
    "duration": 420,
    "start_time": "2022-02-16T19:10:36.713Z"
   },
   {
    "duration": 419,
    "start_time": "2022-02-16T19:10:41.928Z"
   },
   {
    "duration": 1201,
    "start_time": "2022-02-16T19:15:16.672Z"
   },
   {
    "duration": 55,
    "start_time": "2022-02-16T19:15:17.875Z"
   },
   {
    "duration": 9,
    "start_time": "2022-02-16T19:15:17.932Z"
   },
   {
    "duration": 27,
    "start_time": "2022-02-16T19:15:17.943Z"
   },
   {
    "duration": 4,
    "start_time": "2022-02-16T19:15:17.971Z"
   },
   {
    "duration": 23,
    "start_time": "2022-02-16T19:15:17.976Z"
   },
   {
    "duration": 7,
    "start_time": "2022-02-16T19:15:18.000Z"
   },
   {
    "duration": 12,
    "start_time": "2022-02-16T19:15:18.010Z"
   },
   {
    "duration": 28,
    "start_time": "2022-02-16T19:15:18.023Z"
   },
   {
    "duration": 13,
    "start_time": "2022-02-16T19:15:18.052Z"
   },
   {
    "duration": 12,
    "start_time": "2022-02-16T19:15:18.066Z"
   },
   {
    "duration": 5,
    "start_time": "2022-02-16T19:15:18.079Z"
   },
   {
    "duration": 7,
    "start_time": "2022-02-16T19:15:18.086Z"
   },
   {
    "duration": 7,
    "start_time": "2022-02-16T19:15:18.095Z"
   },
   {
    "duration": 9,
    "start_time": "2022-02-16T19:15:18.103Z"
   },
   {
    "duration": 43,
    "start_time": "2022-02-16T19:15:18.113Z"
   },
   {
    "duration": 24,
    "start_time": "2022-02-16T19:15:18.157Z"
   },
   {
    "duration": 12,
    "start_time": "2022-02-16T19:15:18.183Z"
   },
   {
    "duration": 6,
    "start_time": "2022-02-16T19:15:18.196Z"
   },
   {
    "duration": 5,
    "start_time": "2022-02-16T19:15:18.203Z"
   },
   {
    "duration": 44,
    "start_time": "2022-02-16T19:15:18.209Z"
   },
   {
    "duration": 366,
    "start_time": "2022-02-16T19:15:18.254Z"
   },
   {
    "duration": 468,
    "start_time": "2022-02-16T19:15:18.624Z"
   },
   {
    "duration": 62,
    "start_time": "2022-02-16T19:15:19.094Z"
   },
   {
    "duration": 429,
    "start_time": "2022-02-16T19:15:19.157Z"
   },
   {
    "duration": 33,
    "start_time": "2022-02-16T19:15:19.588Z"
   },
   {
    "duration": 24,
    "start_time": "2022-02-16T19:15:19.622Z"
   },
   {
    "duration": 4,
    "start_time": "2022-02-16T19:15:19.647Z"
   },
   {
    "duration": 55,
    "start_time": "2022-02-16T19:15:19.652Z"
   },
   {
    "duration": 340,
    "start_time": "2022-02-16T19:15:19.708Z"
   },
   {
    "duration": 3614,
    "start_time": "2022-02-16T19:15:20.050Z"
   },
   {
    "duration": 3436,
    "start_time": "2022-02-16T19:15:23.666Z"
   },
   {
    "duration": 59,
    "start_time": "2022-02-16T19:15:27.104Z"
   },
   {
    "duration": 576,
    "start_time": "2022-02-16T19:15:27.165Z"
   },
   {
    "duration": 7,
    "start_time": "2022-02-16T19:15:27.743Z"
   },
   {
    "duration": 55,
    "start_time": "2022-02-16T19:15:27.751Z"
   },
   {
    "duration": 535,
    "start_time": "2022-02-16T19:15:27.808Z"
   },
   {
    "duration": 6,
    "start_time": "2022-02-16T19:15:28.345Z"
   },
   {
    "duration": 274,
    "start_time": "2022-02-16T19:15:28.353Z"
   },
   {
    "duration": 442,
    "start_time": "2022-02-16T19:15:28.628Z"
   },
   {
    "duration": 497,
    "start_time": "2022-02-16T19:15:29.071Z"
   },
   {
    "duration": 514,
    "start_time": "2022-02-16T19:15:29.569Z"
   },
   {
    "duration": 11,
    "start_time": "2022-02-16T19:15:30.085Z"
   },
   {
    "duration": 11,
    "start_time": "2022-02-16T19:15:30.097Z"
   },
   {
    "duration": 9,
    "start_time": "2022-02-16T19:17:00.549Z"
   },
   {
    "duration": 27,
    "start_time": "2022-02-16T19:17:29.380Z"
   },
   {
    "duration": 103,
    "start_time": "2022-02-16T19:17:56.815Z"
   },
   {
    "duration": 27,
    "start_time": "2022-02-16T19:18:08.724Z"
   },
   {
    "duration": 289,
    "start_time": "2022-02-16T19:27:41.819Z"
   },
   {
    "duration": 1140,
    "start_time": "2022-02-16T19:31:32.841Z"
   },
   {
    "duration": 58,
    "start_time": "2022-02-16T19:31:33.983Z"
   },
   {
    "duration": 10,
    "start_time": "2022-02-16T19:31:34.043Z"
   },
   {
    "duration": 25,
    "start_time": "2022-02-16T19:31:34.055Z"
   },
   {
    "duration": 4,
    "start_time": "2022-02-16T19:31:34.082Z"
   },
   {
    "duration": 17,
    "start_time": "2022-02-16T19:31:34.088Z"
   },
   {
    "duration": 9,
    "start_time": "2022-02-16T19:31:34.107Z"
   },
   {
    "duration": 13,
    "start_time": "2022-02-16T19:31:34.147Z"
   },
   {
    "duration": 12,
    "start_time": "2022-02-16T19:31:34.162Z"
   },
   {
    "duration": 13,
    "start_time": "2022-02-16T19:31:34.175Z"
   },
   {
    "duration": 12,
    "start_time": "2022-02-16T19:31:34.189Z"
   },
   {
    "duration": 5,
    "start_time": "2022-02-16T19:31:34.203Z"
   },
   {
    "duration": 42,
    "start_time": "2022-02-16T19:31:34.209Z"
   },
   {
    "duration": 8,
    "start_time": "2022-02-16T19:31:34.253Z"
   },
   {
    "duration": 9,
    "start_time": "2022-02-16T19:31:34.262Z"
   },
   {
    "duration": 15,
    "start_time": "2022-02-16T19:31:34.272Z"
   },
   {
    "duration": 26,
    "start_time": "2022-02-16T19:31:34.289Z"
   },
   {
    "duration": 12,
    "start_time": "2022-02-16T19:31:34.316Z"
   },
   {
    "duration": 6,
    "start_time": "2022-02-16T19:31:34.346Z"
   },
   {
    "duration": 6,
    "start_time": "2022-02-16T19:31:34.353Z"
   },
   {
    "duration": 24,
    "start_time": "2022-02-16T19:31:34.361Z"
   },
   {
    "duration": 373,
    "start_time": "2022-02-16T19:31:34.386Z"
   },
   {
    "duration": 351,
    "start_time": "2022-02-16T19:31:34.763Z"
   },
   {
    "duration": 13,
    "start_time": "2022-02-16T19:31:35.116Z"
   },
   {
    "duration": 543,
    "start_time": "2022-02-16T19:31:35.131Z"
   },
   {
    "duration": 34,
    "start_time": "2022-02-16T19:31:35.675Z"
   },
   {
    "duration": 36,
    "start_time": "2022-02-16T19:31:35.710Z"
   },
   {
    "duration": 5,
    "start_time": "2022-02-16T19:31:35.748Z"
   },
   {
    "duration": 69,
    "start_time": "2022-02-16T19:31:35.754Z"
   },
   {
    "duration": 354,
    "start_time": "2022-02-16T19:31:35.825Z"
   },
   {
    "duration": 3913,
    "start_time": "2022-02-16T19:31:36.180Z"
   },
   {
    "duration": 3890,
    "start_time": "2022-02-16T19:31:40.095Z"
   },
   {
    "duration": 65,
    "start_time": "2022-02-16T19:31:43.986Z"
   },
   {
    "duration": 649,
    "start_time": "2022-02-16T19:31:44.053Z"
   },
   {
    "duration": 7,
    "start_time": "2022-02-16T19:31:44.703Z"
   },
   {
    "duration": 67,
    "start_time": "2022-02-16T19:31:44.712Z"
   },
   {
    "duration": 550,
    "start_time": "2022-02-16T19:31:44.780Z"
   },
   {
    "duration": 15,
    "start_time": "2022-02-16T19:31:45.332Z"
   },
   {
    "duration": 270,
    "start_time": "2022-02-16T19:31:45.348Z"
   },
   {
    "duration": 435,
    "start_time": "2022-02-16T19:31:45.620Z"
   },
   {
    "duration": 507,
    "start_time": "2022-02-16T19:31:46.057Z"
   },
   {
    "duration": 473,
    "start_time": "2022-02-16T19:31:46.566Z"
   },
   {
    "duration": 12,
    "start_time": "2022-02-16T19:31:47.041Z"
   },
   {
    "duration": 10,
    "start_time": "2022-02-16T19:31:47.054Z"
   },
   {
    "duration": 449,
    "start_time": "2022-02-16T19:35:30.485Z"
   },
   {
    "duration": 431,
    "start_time": "2022-02-16T20:10:24.246Z"
   },
   {
    "duration": 438,
    "start_time": "2022-02-16T20:12:34.324Z"
   },
   {
    "duration": 118,
    "start_time": "2022-02-16T20:31:17.737Z"
   },
   {
    "duration": 107,
    "start_time": "2022-02-16T20:31:23.937Z"
   },
   {
    "duration": 109,
    "start_time": "2022-02-16T20:31:43.665Z"
   },
   {
    "duration": 131,
    "start_time": "2022-02-16T20:32:41.904Z"
   },
   {
    "duration": 108,
    "start_time": "2022-02-16T20:32:51.584Z"
   },
   {
    "duration": 121,
    "start_time": "2022-02-16T20:32:55.098Z"
   },
   {
    "duration": 454,
    "start_time": "2022-02-16T20:48:19.224Z"
   },
   {
    "duration": 532,
    "start_time": "2022-02-16T20:48:28.081Z"
   },
   {
    "duration": 468,
    "start_time": "2022-02-16T20:48:57.043Z"
   },
   {
    "duration": 1080,
    "start_time": "2022-02-16T20:51:08.888Z"
   },
   {
    "duration": 48,
    "start_time": "2022-02-16T20:51:09.970Z"
   },
   {
    "duration": 8,
    "start_time": "2022-02-16T20:51:10.020Z"
   },
   {
    "duration": 35,
    "start_time": "2022-02-16T20:51:10.030Z"
   },
   {
    "duration": 3,
    "start_time": "2022-02-16T20:51:10.067Z"
   },
   {
    "duration": 17,
    "start_time": "2022-02-16T20:51:10.072Z"
   },
   {
    "duration": 8,
    "start_time": "2022-02-16T20:51:10.090Z"
   },
   {
    "duration": 11,
    "start_time": "2022-02-16T20:51:10.099Z"
   },
   {
    "duration": 39,
    "start_time": "2022-02-16T20:51:10.111Z"
   },
   {
    "duration": 13,
    "start_time": "2022-02-16T20:51:10.152Z"
   },
   {
    "duration": 13,
    "start_time": "2022-02-16T20:51:10.166Z"
   },
   {
    "duration": 5,
    "start_time": "2022-02-16T20:51:10.181Z"
   },
   {
    "duration": 9,
    "start_time": "2022-02-16T20:51:10.188Z"
   },
   {
    "duration": 7,
    "start_time": "2022-02-16T20:51:10.198Z"
   },
   {
    "duration": 6,
    "start_time": "2022-02-16T20:51:10.207Z"
   },
   {
    "duration": 40,
    "start_time": "2022-02-16T20:51:10.215Z"
   },
   {
    "duration": 25,
    "start_time": "2022-02-16T20:51:10.256Z"
   },
   {
    "duration": 12,
    "start_time": "2022-02-16T20:51:10.284Z"
   },
   {
    "duration": 6,
    "start_time": "2022-02-16T20:51:10.297Z"
   },
   {
    "duration": 10,
    "start_time": "2022-02-16T20:51:10.304Z"
   },
   {
    "duration": 42,
    "start_time": "2022-02-16T20:51:10.315Z"
   },
   {
    "duration": 374,
    "start_time": "2022-02-16T20:51:10.358Z"
   },
   {
    "duration": 457,
    "start_time": "2022-02-16T20:51:10.734Z"
   },
   {
    "duration": 12,
    "start_time": "2022-02-16T20:51:11.193Z"
   },
   {
    "duration": 546,
    "start_time": "2022-02-16T20:51:11.207Z"
   },
   {
    "duration": 34,
    "start_time": "2022-02-16T20:51:11.755Z"
   },
   {
    "duration": 8,
    "start_time": "2022-02-16T20:51:11.791Z"
   },
   {
    "duration": 6,
    "start_time": "2022-02-16T20:51:11.800Z"
   },
   {
    "duration": 78,
    "start_time": "2022-02-16T20:51:11.808Z"
   },
   {
    "duration": 312,
    "start_time": "2022-02-16T20:51:11.887Z"
   },
   {
    "duration": 3928,
    "start_time": "2022-02-16T20:51:12.201Z"
   },
   {
    "duration": 3476,
    "start_time": "2022-02-16T20:51:16.130Z"
   },
   {
    "duration": 61,
    "start_time": "2022-02-16T20:51:19.607Z"
   },
   {
    "duration": 608,
    "start_time": "2022-02-16T20:51:19.670Z"
   },
   {
    "duration": 6,
    "start_time": "2022-02-16T20:51:20.279Z"
   },
   {
    "duration": 63,
    "start_time": "2022-02-16T20:51:20.287Z"
   },
   {
    "duration": 595,
    "start_time": "2022-02-16T20:51:20.351Z"
   },
   {
    "duration": 7,
    "start_time": "2022-02-16T20:51:20.948Z"
   },
   {
    "duration": 319,
    "start_time": "2022-02-16T20:51:20.957Z"
   },
   {
    "duration": 446,
    "start_time": "2022-02-16T20:51:21.277Z"
   },
   {
    "duration": 498,
    "start_time": "2022-02-16T20:51:21.725Z"
   },
   {
    "duration": 479,
    "start_time": "2022-02-16T20:51:22.224Z"
   },
   {
    "duration": 482,
    "start_time": "2022-02-16T20:51:22.704Z"
   },
   {
    "duration": 9,
    "start_time": "2022-02-16T20:51:23.187Z"
   },
   {
    "duration": 8,
    "start_time": "2022-02-16T20:51:23.198Z"
   },
   {
    "duration": 13,
    "start_time": "2022-02-16T21:11:58.490Z"
   },
   {
    "duration": 8,
    "start_time": "2022-02-16T21:12:55.674Z"
   },
   {
    "duration": 11,
    "start_time": "2022-02-16T21:13:59.041Z"
   },
   {
    "duration": 1134,
    "start_time": "2022-02-16T21:27:19.851Z"
   },
   {
    "duration": 55,
    "start_time": "2022-02-16T21:27:20.987Z"
   },
   {
    "duration": 12,
    "start_time": "2022-02-16T21:27:21.046Z"
   },
   {
    "duration": 38,
    "start_time": "2022-02-16T21:27:21.060Z"
   },
   {
    "duration": 5,
    "start_time": "2022-02-16T21:27:21.099Z"
   },
   {
    "duration": 21,
    "start_time": "2022-02-16T21:27:21.106Z"
   },
   {
    "duration": 20,
    "start_time": "2022-02-16T21:27:21.130Z"
   },
   {
    "duration": 13,
    "start_time": "2022-02-16T21:27:21.152Z"
   },
   {
    "duration": 15,
    "start_time": "2022-02-16T21:27:21.167Z"
   },
   {
    "duration": 14,
    "start_time": "2022-02-16T21:27:21.183Z"
   },
   {
    "duration": 16,
    "start_time": "2022-02-16T21:27:21.198Z"
   },
   {
    "duration": 6,
    "start_time": "2022-02-16T21:27:21.215Z"
   },
   {
    "duration": 28,
    "start_time": "2022-02-16T21:27:21.222Z"
   },
   {
    "duration": 10,
    "start_time": "2022-02-16T21:27:21.251Z"
   },
   {
    "duration": 7,
    "start_time": "2022-02-16T21:27:21.262Z"
   },
   {
    "duration": 13,
    "start_time": "2022-02-16T21:27:21.270Z"
   },
   {
    "duration": 25,
    "start_time": "2022-02-16T21:27:21.285Z"
   },
   {
    "duration": 36,
    "start_time": "2022-02-16T21:27:21.311Z"
   },
   {
    "duration": 5,
    "start_time": "2022-02-16T21:27:21.349Z"
   },
   {
    "duration": 9,
    "start_time": "2022-02-16T21:27:21.356Z"
   },
   {
    "duration": 23,
    "start_time": "2022-02-16T21:27:21.366Z"
   },
   {
    "duration": 377,
    "start_time": "2022-02-16T21:27:21.392Z"
   },
   {
    "duration": 454,
    "start_time": "2022-02-16T21:27:21.772Z"
   },
   {
    "duration": 22,
    "start_time": "2022-02-16T21:27:22.228Z"
   },
   {
    "duration": 341,
    "start_time": "2022-02-16T21:27:22.251Z"
   },
   {
    "duration": 34,
    "start_time": "2022-02-16T21:27:22.594Z"
   },
   {
    "duration": 22,
    "start_time": "2022-02-16T21:27:22.629Z"
   },
   {
    "duration": 5,
    "start_time": "2022-02-16T21:27:22.653Z"
   },
   {
    "duration": 53,
    "start_time": "2022-02-16T21:27:22.659Z"
   },
   {
    "duration": 333,
    "start_time": "2022-02-16T21:27:22.714Z"
   },
   {
    "duration": 3383,
    "start_time": "2022-02-16T21:27:23.049Z"
   },
   {
    "duration": 3519,
    "start_time": "2022-02-16T21:27:26.434Z"
   },
   {
    "duration": 59,
    "start_time": "2022-02-16T21:27:29.955Z"
   },
   {
    "duration": 690,
    "start_time": "2022-02-16T21:27:30.015Z"
   },
   {
    "duration": 8,
    "start_time": "2022-02-16T21:27:30.707Z"
   },
   {
    "duration": 97,
    "start_time": "2022-02-16T21:27:30.717Z"
   },
   {
    "duration": 634,
    "start_time": "2022-02-16T21:27:30.816Z"
   },
   {
    "duration": 8,
    "start_time": "2022-02-16T21:27:31.452Z"
   },
   {
    "duration": 411,
    "start_time": "2022-02-16T21:27:31.462Z"
   },
   {
    "duration": 447,
    "start_time": "2022-02-16T21:27:31.875Z"
   },
   {
    "duration": 436,
    "start_time": "2022-02-16T21:27:32.323Z"
   },
   {
    "duration": 473,
    "start_time": "2022-02-16T21:27:32.761Z"
   },
   {
    "duration": 17,
    "start_time": "2022-02-16T21:27:33.236Z"
   },
   {
    "duration": 9,
    "start_time": "2022-02-16T21:27:33.255Z"
   },
   {
    "duration": 1085,
    "start_time": "2022-02-16T21:44:23.286Z"
   },
   {
    "duration": 58,
    "start_time": "2022-02-16T21:44:24.375Z"
   },
   {
    "duration": 10,
    "start_time": "2022-02-16T21:44:24.435Z"
   },
   {
    "duration": 25,
    "start_time": "2022-02-16T21:44:24.446Z"
   },
   {
    "duration": 4,
    "start_time": "2022-02-16T21:44:24.473Z"
   },
   {
    "duration": 17,
    "start_time": "2022-02-16T21:44:24.478Z"
   },
   {
    "duration": 9,
    "start_time": "2022-02-16T21:44:24.497Z"
   },
   {
    "duration": 40,
    "start_time": "2022-02-16T21:44:24.508Z"
   },
   {
    "duration": 13,
    "start_time": "2022-02-16T21:44:24.549Z"
   },
   {
    "duration": 11,
    "start_time": "2022-02-16T21:44:24.564Z"
   },
   {
    "duration": 14,
    "start_time": "2022-02-16T21:44:24.576Z"
   },
   {
    "duration": 5,
    "start_time": "2022-02-16T21:44:24.591Z"
   },
   {
    "duration": 8,
    "start_time": "2022-02-16T21:44:24.598Z"
   },
   {
    "duration": 7,
    "start_time": "2022-02-16T21:44:24.607Z"
   },
   {
    "duration": 36,
    "start_time": "2022-02-16T21:44:24.615Z"
   },
   {
    "duration": 11,
    "start_time": "2022-02-16T21:44:24.653Z"
   },
   {
    "duration": 24,
    "start_time": "2022-02-16T21:44:24.665Z"
   },
   {
    "duration": 12,
    "start_time": "2022-02-16T21:44:24.690Z"
   },
   {
    "duration": 5,
    "start_time": "2022-02-16T21:44:24.703Z"
   },
   {
    "duration": 6,
    "start_time": "2022-02-16T21:44:24.709Z"
   },
   {
    "duration": 16,
    "start_time": "2022-02-16T21:44:24.745Z"
   },
   {
    "duration": 472,
    "start_time": "2022-02-16T21:44:24.764Z"
   },
   {
    "duration": 350,
    "start_time": "2022-02-16T21:44:25.238Z"
   },
   {
    "duration": 14,
    "start_time": "2022-02-16T21:44:25.590Z"
   },
   {
    "duration": 340,
    "start_time": "2022-02-16T21:44:25.606Z"
   },
   {
    "duration": 34,
    "start_time": "2022-02-16T21:44:25.948Z"
   },
   {
    "duration": 9,
    "start_time": "2022-02-16T21:44:25.983Z"
   },
   {
    "duration": 5,
    "start_time": "2022-02-16T21:44:25.994Z"
   },
   {
    "duration": 75,
    "start_time": "2022-02-16T21:44:26.001Z"
   },
   {
    "duration": 313,
    "start_time": "2022-02-16T21:44:26.077Z"
   },
   {
    "duration": 3418,
    "start_time": "2022-02-16T21:44:26.392Z"
   },
   {
    "duration": 3377,
    "start_time": "2022-02-16T21:44:29.812Z"
   },
   {
    "duration": 59,
    "start_time": "2022-02-16T21:44:33.191Z"
   },
   {
    "duration": 587,
    "start_time": "2022-02-16T21:44:33.252Z"
   },
   {
    "duration": 8,
    "start_time": "2022-02-16T21:44:33.841Z"
   },
   {
    "duration": 53,
    "start_time": "2022-02-16T21:44:33.850Z"
   },
   {
    "duration": 527,
    "start_time": "2022-02-16T21:44:33.905Z"
   },
   {
    "duration": 12,
    "start_time": "2022-02-16T21:44:34.434Z"
   },
   {
    "duration": 278,
    "start_time": "2022-02-16T21:44:34.448Z"
   },
   {
    "duration": 435,
    "start_time": "2022-02-16T21:44:34.728Z"
   },
   {
    "duration": 449,
    "start_time": "2022-02-16T21:44:35.165Z"
   },
   {
    "duration": 491,
    "start_time": "2022-02-16T21:44:35.616Z"
   },
   {
    "duration": 10,
    "start_time": "2022-02-16T21:44:36.109Z"
   },
   {
    "duration": 9,
    "start_time": "2022-02-16T21:44:36.120Z"
   }
  ],
  "kernelspec": {
   "display_name": "Python 3 (ipykernel)",
   "language": "python",
   "name": "python3"
  },
  "language_info": {
   "codemirror_mode": {
    "name": "ipython",
    "version": 3
   },
   "file_extension": ".py",
   "mimetype": "text/x-python",
   "name": "python",
   "nbconvert_exporter": "python",
   "pygments_lexer": "ipython3",
   "version": "3.9.12"
  },
  "toc": {
   "base_numbering": 1,
   "nav_menu": {
    "height": "94px",
    "width": "163px"
   },
   "number_sections": false,
   "sideBar": true,
   "skip_h1_title": false,
   "title_cell": "Table of Contents",
   "title_sidebar": "Contents",
   "toc_cell": false,
   "toc_position": {
    "height": "calc(100% - 180px)",
    "left": "10px",
    "top": "150px",
    "width": "366.391px"
   },
   "toc_section_display": true,
   "toc_window_display": true
  }
 },
 "nbformat": 4,
 "nbformat_minor": 2
}
