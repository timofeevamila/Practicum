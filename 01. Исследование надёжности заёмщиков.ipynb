{
 "cells": [
  {
   "cell_type": "markdown",
   "metadata": {},
   "source": [
    "# Исследование надёжности заёмщиков\n",
    "\n",
    "Заказчик — кредитный отдел банка. Нужно разобраться, влияет ли семейное положение и количество детей клиента на факт погашения кредита в срок. Входные данные от банка — статистика о платёжеспособности клиентов.\n",
    "\n",
    "Результаты исследования будут учтены при построении модели **кредитного скоринга** — специальной системы, которая оценивает способность потенциального заёмщика вернуть кредит банку."
   ]
  },
  {
   "cell_type": "markdown",
   "metadata": {},
   "source": [
    "## Обзор данных"
   ]
  },
  {
   "cell_type": "code",
   "execution_count": 1,
   "metadata": {
    "scrolled": false
   },
   "outputs": [
    {
     "data": {
      "text/html": [
       "<div>\n",
       "<style scoped>\n",
       "    .dataframe tbody tr th:only-of-type {\n",
       "        vertical-align: middle;\n",
       "    }\n",
       "\n",
       "    .dataframe tbody tr th {\n",
       "        vertical-align: top;\n",
       "    }\n",
       "\n",
       "    .dataframe thead th {\n",
       "        text-align: right;\n",
       "    }\n",
       "</style>\n",
       "<table border=\"1\" class=\"dataframe\">\n",
       "  <thead>\n",
       "    <tr style=\"text-align: right;\">\n",
       "      <th></th>\n",
       "      <th>children</th>\n",
       "      <th>days_employed</th>\n",
       "      <th>dob_years</th>\n",
       "      <th>education</th>\n",
       "      <th>education_id</th>\n",
       "      <th>family_status</th>\n",
       "      <th>family_status_id</th>\n",
       "      <th>gender</th>\n",
       "      <th>income_type</th>\n",
       "      <th>debt</th>\n",
       "      <th>total_income</th>\n",
       "      <th>purpose</th>\n",
       "    </tr>\n",
       "  </thead>\n",
       "  <tbody>\n",
       "    <tr>\n",
       "      <td>0</td>\n",
       "      <td>1</td>\n",
       "      <td>-8437.673028</td>\n",
       "      <td>42</td>\n",
       "      <td>высшее</td>\n",
       "      <td>0</td>\n",
       "      <td>женат / замужем</td>\n",
       "      <td>0</td>\n",
       "      <td>F</td>\n",
       "      <td>сотрудник</td>\n",
       "      <td>0</td>\n",
       "      <td>253875.639453</td>\n",
       "      <td>покупка жилья</td>\n",
       "    </tr>\n",
       "    <tr>\n",
       "      <td>1</td>\n",
       "      <td>1</td>\n",
       "      <td>-4024.803754</td>\n",
       "      <td>36</td>\n",
       "      <td>среднее</td>\n",
       "      <td>1</td>\n",
       "      <td>женат / замужем</td>\n",
       "      <td>0</td>\n",
       "      <td>F</td>\n",
       "      <td>сотрудник</td>\n",
       "      <td>0</td>\n",
       "      <td>112080.014102</td>\n",
       "      <td>приобретение автомобиля</td>\n",
       "    </tr>\n",
       "    <tr>\n",
       "      <td>2</td>\n",
       "      <td>0</td>\n",
       "      <td>-5623.422610</td>\n",
       "      <td>33</td>\n",
       "      <td>Среднее</td>\n",
       "      <td>1</td>\n",
       "      <td>женат / замужем</td>\n",
       "      <td>0</td>\n",
       "      <td>M</td>\n",
       "      <td>сотрудник</td>\n",
       "      <td>0</td>\n",
       "      <td>145885.952297</td>\n",
       "      <td>покупка жилья</td>\n",
       "    </tr>\n",
       "    <tr>\n",
       "      <td>3</td>\n",
       "      <td>3</td>\n",
       "      <td>-4124.747207</td>\n",
       "      <td>32</td>\n",
       "      <td>среднее</td>\n",
       "      <td>1</td>\n",
       "      <td>женат / замужем</td>\n",
       "      <td>0</td>\n",
       "      <td>M</td>\n",
       "      <td>сотрудник</td>\n",
       "      <td>0</td>\n",
       "      <td>267628.550329</td>\n",
       "      <td>дополнительное образование</td>\n",
       "    </tr>\n",
       "    <tr>\n",
       "      <td>4</td>\n",
       "      <td>0</td>\n",
       "      <td>340266.072047</td>\n",
       "      <td>53</td>\n",
       "      <td>среднее</td>\n",
       "      <td>1</td>\n",
       "      <td>гражданский брак</td>\n",
       "      <td>1</td>\n",
       "      <td>F</td>\n",
       "      <td>пенсионер</td>\n",
       "      <td>0</td>\n",
       "      <td>158616.077870</td>\n",
       "      <td>сыграть свадьбу</td>\n",
       "    </tr>\n",
       "  </tbody>\n",
       "</table>\n",
       "</div>"
      ],
      "text/plain": [
       "   children  days_employed  dob_years education  education_id  \\\n",
       "0         1   -8437.673028         42    высшее             0   \n",
       "1         1   -4024.803754         36   среднее             1   \n",
       "2         0   -5623.422610         33   Среднее             1   \n",
       "3         3   -4124.747207         32   среднее             1   \n",
       "4         0  340266.072047         53   среднее             1   \n",
       "\n",
       "      family_status  family_status_id gender income_type  debt   total_income  \\\n",
       "0   женат / замужем                 0      F   сотрудник     0  253875.639453   \n",
       "1   женат / замужем                 0      F   сотрудник     0  112080.014102   \n",
       "2   женат / замужем                 0      M   сотрудник     0  145885.952297   \n",
       "3   женат / замужем                 0      M   сотрудник     0  267628.550329   \n",
       "4  гражданский брак                 1      F   пенсионер     0  158616.077870   \n",
       "\n",
       "                      purpose  \n",
       "0               покупка жилья  \n",
       "1     приобретение автомобиля  \n",
       "2               покупка жилья  \n",
       "3  дополнительное образование  \n",
       "4             сыграть свадьбу  "
      ]
     },
     "metadata": {},
     "output_type": "display_data"
    }
   ],
   "source": [
    "# импорт библиотеки pandas, чтение файла с данными, сохранение в credits, \n",
    "# вывод на экран первых 10 строк таблицы credits и получение общей информации о данных в таблице credits\n",
    "import pandas as pd\n",
    "credits = pd.read_csv('/datasets/data.csv')\n",
    "display(credits.head())"
   ]
  },
  {
   "cell_type": "code",
   "execution_count": 2,
   "metadata": {},
   "outputs": [
    {
     "name": "stdout",
     "output_type": "stream",
     "text": [
      "<class 'pandas.core.frame.DataFrame'>\n",
      "RangeIndex: 21525 entries, 0 to 21524\n",
      "Data columns (total 12 columns):\n",
      "children            21525 non-null int64\n",
      "days_employed       19351 non-null float64\n",
      "dob_years           21525 non-null int64\n",
      "education           21525 non-null object\n",
      "education_id        21525 non-null int64\n",
      "family_status       21525 non-null object\n",
      "family_status_id    21525 non-null int64\n",
      "gender              21525 non-null object\n",
      "income_type         21525 non-null object\n",
      "debt                21525 non-null int64\n",
      "total_income        19351 non-null float64\n",
      "purpose             21525 non-null object\n",
      "dtypes: float64(2), int64(5), object(5)\n",
      "memory usage: 2.0+ MB\n"
     ]
    }
   ],
   "source": [
    "# получение общей информации о данных в таблице credits\n",
    "credits.info()"
   ]
  },
  {
   "cell_type": "code",
   "execution_count": 3,
   "metadata": {},
   "outputs": [
    {
     "data": {
      "text/html": [
       "<div>\n",
       "<style scoped>\n",
       "    .dataframe tbody tr th:only-of-type {\n",
       "        vertical-align: middle;\n",
       "    }\n",
       "\n",
       "    .dataframe tbody tr th {\n",
       "        vertical-align: top;\n",
       "    }\n",
       "\n",
       "    .dataframe thead th {\n",
       "        text-align: right;\n",
       "    }\n",
       "</style>\n",
       "<table border=\"1\" class=\"dataframe\">\n",
       "  <thead>\n",
       "    <tr style=\"text-align: right;\">\n",
       "      <th></th>\n",
       "      <th>children</th>\n",
       "      <th>days_employed</th>\n",
       "      <th>dob_years</th>\n",
       "      <th>education</th>\n",
       "      <th>education_id</th>\n",
       "      <th>family_status</th>\n",
       "      <th>family_status_id</th>\n",
       "      <th>gender</th>\n",
       "      <th>income_type</th>\n",
       "      <th>debt</th>\n",
       "      <th>total_income</th>\n",
       "      <th>purpose</th>\n",
       "    </tr>\n",
       "  </thead>\n",
       "  <tbody>\n",
       "    <tr>\n",
       "      <td>0</td>\n",
       "      <td>1</td>\n",
       "      <td>8437.673028</td>\n",
       "      <td>42</td>\n",
       "      <td>высшее</td>\n",
       "      <td>0</td>\n",
       "      <td>женат / замужем</td>\n",
       "      <td>0</td>\n",
       "      <td>F</td>\n",
       "      <td>сотрудник</td>\n",
       "      <td>0</td>\n",
       "      <td>253875.639453</td>\n",
       "      <td>покупка жилья</td>\n",
       "    </tr>\n",
       "    <tr>\n",
       "      <td>1</td>\n",
       "      <td>1</td>\n",
       "      <td>4024.803754</td>\n",
       "      <td>36</td>\n",
       "      <td>среднее</td>\n",
       "      <td>1</td>\n",
       "      <td>женат / замужем</td>\n",
       "      <td>0</td>\n",
       "      <td>F</td>\n",
       "      <td>сотрудник</td>\n",
       "      <td>0</td>\n",
       "      <td>112080.014102</td>\n",
       "      <td>приобретение автомобиля</td>\n",
       "    </tr>\n",
       "    <tr>\n",
       "      <td>2</td>\n",
       "      <td>0</td>\n",
       "      <td>5623.422610</td>\n",
       "      <td>33</td>\n",
       "      <td>Среднее</td>\n",
       "      <td>1</td>\n",
       "      <td>женат / замужем</td>\n",
       "      <td>0</td>\n",
       "      <td>M</td>\n",
       "      <td>сотрудник</td>\n",
       "      <td>0</td>\n",
       "      <td>145885.952297</td>\n",
       "      <td>покупка жилья</td>\n",
       "    </tr>\n",
       "    <tr>\n",
       "      <td>3</td>\n",
       "      <td>3</td>\n",
       "      <td>4124.747207</td>\n",
       "      <td>32</td>\n",
       "      <td>среднее</td>\n",
       "      <td>1</td>\n",
       "      <td>женат / замужем</td>\n",
       "      <td>0</td>\n",
       "      <td>M</td>\n",
       "      <td>сотрудник</td>\n",
       "      <td>0</td>\n",
       "      <td>267628.550329</td>\n",
       "      <td>дополнительное образование</td>\n",
       "    </tr>\n",
       "    <tr>\n",
       "      <td>4</td>\n",
       "      <td>0</td>\n",
       "      <td>340266.072047</td>\n",
       "      <td>53</td>\n",
       "      <td>среднее</td>\n",
       "      <td>1</td>\n",
       "      <td>гражданский брак</td>\n",
       "      <td>1</td>\n",
       "      <td>F</td>\n",
       "      <td>пенсионер</td>\n",
       "      <td>0</td>\n",
       "      <td>158616.077870</td>\n",
       "      <td>сыграть свадьбу</td>\n",
       "    </tr>\n",
       "  </tbody>\n",
       "</table>\n",
       "</div>"
      ],
      "text/plain": [
       "   children  days_employed  dob_years education  education_id  \\\n",
       "0         1    8437.673028         42    высшее             0   \n",
       "1         1    4024.803754         36   среднее             1   \n",
       "2         0    5623.422610         33   Среднее             1   \n",
       "3         3    4124.747207         32   среднее             1   \n",
       "4         0  340266.072047         53   среднее             1   \n",
       "\n",
       "      family_status  family_status_id gender income_type  debt   total_income  \\\n",
       "0   женат / замужем                 0      F   сотрудник     0  253875.639453   \n",
       "1   женат / замужем                 0      F   сотрудник     0  112080.014102   \n",
       "2   женат / замужем                 0      M   сотрудник     0  145885.952297   \n",
       "3   женат / замужем                 0      M   сотрудник     0  267628.550329   \n",
       "4  гражданский брак                 1      F   пенсионер     0  158616.077870   \n",
       "\n",
       "                      purpose  \n",
       "0               покупка жилья  \n",
       "1     приобретение автомобиля  \n",
       "2               покупка жилья  \n",
       "3  дополнительное образование  \n",
       "4             сыграть свадьбу  "
      ]
     },
     "metadata": {},
     "output_type": "display_data"
    }
   ],
   "source": [
    "# замена отрицательных значений в колонке \"Общий трудовой стаж в днях\" с помощью метода .abs(), \n",
    "# вывод первых 10 строк на экран\n",
    "credits['days_employed'] = credits['days_employed'].abs() \n",
    "display(credits.head())"
   ]
  },
  {
   "cell_type": "markdown",
   "metadata": {},
   "source": [
    "**Вывод**"
   ]
  },
  {
   "cell_type": "markdown",
   "metadata": {},
   "source": [
    "В таблице \"Статистика о платежеспособности клиентов\" 21525 строк и 12 столбцов. Тип данных в двух столбцах - float64, в 5 столбцах - int64 и ещё в пяти - object.  \n",
    "В столбце \"Общий трудовой стаж\" есть отрицательные значения, что противоречит логике, т.к. данные в этом столбце измеряются в днях и могут быть только положительными. Возможно такая ошибка возникла при копировании, считывании или смене формата данных, т.е. носит технологический характер. Мы привели данные в порядок - взяли значения в столбце \"Общий трудовой стаж\" по модулю, чтобы можно было с ними работать.  \n",
    "Количество значений в столбцах различается. Значит, в данных есть пропущенные значения."
   ]
  },
  {
   "cell_type": "markdown",
   "metadata": {},
   "source": [
    "## Предобработка данных"
   ]
  },
  {
   "cell_type": "markdown",
   "metadata": {},
   "source": [
    "### Пропуски значений"
   ]
  },
  {
   "cell_type": "code",
   "execution_count": 4,
   "metadata": {
    "scrolled": false
   },
   "outputs": [
    {
     "data": {
      "text/plain": [
       "children               0\n",
       "days_employed       2174\n",
       "dob_years              0\n",
       "education              0\n",
       "education_id           0\n",
       "family_status          0\n",
       "family_status_id       0\n",
       "gender                 0\n",
       "income_type            0\n",
       "debt                   0\n",
       "total_income        2174\n",
       "purpose                0\n",
       "dtype: int64"
      ]
     },
     "execution_count": 4,
     "metadata": {},
     "output_type": "execute_result"
    }
   ],
   "source": [
    "# подсчёт пропусков\n",
    "credits.isna().sum()"
   ]
  },
  {
   "cell_type": "markdown",
   "metadata": {},
   "source": [
    "Пропущенные значения в столбцах \"Общий трудовой стаж\" и \"Ежемесячный доход\" составляют около 10%, это значительно может повлиять на результаты исследований. Данные из колонки \"Ежемесячный доход\" напрямую влияют на способность погашать кредит, поэтому проанализируем тех клиентов, которые не указали данные о своих доходах."
   ]
  },
  {
   "cell_type": "code",
   "execution_count": 5,
   "metadata": {},
   "outputs": [
    {
     "data": {
      "text/html": [
       "<div>\n",
       "<style scoped>\n",
       "    .dataframe tbody tr th:only-of-type {\n",
       "        vertical-align: middle;\n",
       "    }\n",
       "\n",
       "    .dataframe tbody tr th {\n",
       "        vertical-align: top;\n",
       "    }\n",
       "\n",
       "    .dataframe thead th {\n",
       "        text-align: right;\n",
       "    }\n",
       "</style>\n",
       "<table border=\"1\" class=\"dataframe\">\n",
       "  <thead>\n",
       "    <tr style=\"text-align: right;\">\n",
       "      <th></th>\n",
       "      <th>children</th>\n",
       "      <th>days_employed</th>\n",
       "      <th>dob_years</th>\n",
       "      <th>education</th>\n",
       "      <th>education_id</th>\n",
       "      <th>family_status</th>\n",
       "      <th>family_status_id</th>\n",
       "      <th>gender</th>\n",
       "      <th>income_type</th>\n",
       "      <th>debt</th>\n",
       "      <th>total_income</th>\n",
       "      <th>purpose</th>\n",
       "    </tr>\n",
       "  </thead>\n",
       "  <tbody>\n",
       "    <tr>\n",
       "      <td>12</td>\n",
       "      <td>0</td>\n",
       "      <td>NaN</td>\n",
       "      <td>65</td>\n",
       "      <td>среднее</td>\n",
       "      <td>1</td>\n",
       "      <td>гражданский брак</td>\n",
       "      <td>1</td>\n",
       "      <td>M</td>\n",
       "      <td>пенсионер</td>\n",
       "      <td>0</td>\n",
       "      <td>NaN</td>\n",
       "      <td>сыграть свадьбу</td>\n",
       "    </tr>\n",
       "    <tr>\n",
       "      <td>26</td>\n",
       "      <td>0</td>\n",
       "      <td>NaN</td>\n",
       "      <td>41</td>\n",
       "      <td>среднее</td>\n",
       "      <td>1</td>\n",
       "      <td>женат / замужем</td>\n",
       "      <td>0</td>\n",
       "      <td>M</td>\n",
       "      <td>госслужащий</td>\n",
       "      <td>0</td>\n",
       "      <td>NaN</td>\n",
       "      <td>образование</td>\n",
       "    </tr>\n",
       "    <tr>\n",
       "      <td>29</td>\n",
       "      <td>0</td>\n",
       "      <td>NaN</td>\n",
       "      <td>63</td>\n",
       "      <td>среднее</td>\n",
       "      <td>1</td>\n",
       "      <td>Не женат / не замужем</td>\n",
       "      <td>4</td>\n",
       "      <td>F</td>\n",
       "      <td>пенсионер</td>\n",
       "      <td>0</td>\n",
       "      <td>NaN</td>\n",
       "      <td>строительство жилой недвижимости</td>\n",
       "    </tr>\n",
       "    <tr>\n",
       "      <td>41</td>\n",
       "      <td>0</td>\n",
       "      <td>NaN</td>\n",
       "      <td>50</td>\n",
       "      <td>среднее</td>\n",
       "      <td>1</td>\n",
       "      <td>женат / замужем</td>\n",
       "      <td>0</td>\n",
       "      <td>F</td>\n",
       "      <td>госслужащий</td>\n",
       "      <td>0</td>\n",
       "      <td>NaN</td>\n",
       "      <td>сделка с подержанным автомобилем</td>\n",
       "    </tr>\n",
       "    <tr>\n",
       "      <td>55</td>\n",
       "      <td>0</td>\n",
       "      <td>NaN</td>\n",
       "      <td>54</td>\n",
       "      <td>среднее</td>\n",
       "      <td>1</td>\n",
       "      <td>гражданский брак</td>\n",
       "      <td>1</td>\n",
       "      <td>F</td>\n",
       "      <td>пенсионер</td>\n",
       "      <td>1</td>\n",
       "      <td>NaN</td>\n",
       "      <td>сыграть свадьбу</td>\n",
       "    </tr>\n",
       "  </tbody>\n",
       "</table>\n",
       "</div>"
      ],
      "text/plain": [
       "    children  days_employed  dob_years education  education_id  \\\n",
       "12         0            NaN         65   среднее             1   \n",
       "26         0            NaN         41   среднее             1   \n",
       "29         0            NaN         63   среднее             1   \n",
       "41         0            NaN         50   среднее             1   \n",
       "55         0            NaN         54   среднее             1   \n",
       "\n",
       "            family_status  family_status_id gender  income_type  debt  \\\n",
       "12       гражданский брак                 1      M    пенсионер     0   \n",
       "26        женат / замужем                 0      M  госслужащий     0   \n",
       "29  Не женат / не замужем                 4      F    пенсионер     0   \n",
       "41        женат / замужем                 0      F  госслужащий     0   \n",
       "55       гражданский брак                 1      F    пенсионер     1   \n",
       "\n",
       "    total_income                           purpose  \n",
       "12           NaN                   сыграть свадьбу  \n",
       "26           NaN                       образование  \n",
       "29           NaN  строительство жилой недвижимости  \n",
       "41           NaN  сделка с подержанным автомобилем  \n",
       "55           NaN                   сыграть свадьбу  "
      ]
     },
     "execution_count": 5,
     "metadata": {},
     "output_type": "execute_result"
    }
   ],
   "source": [
    "# поиск строк с пропусками в столбце total_income и вывод на экран первых десяти\n",
    "credits_filtered = credits[credits['total_income'].isna()]\n",
    "credits_filtered.head()"
   ]
  },
  {
   "cell_type": "markdown",
   "metadata": {},
   "source": [
    "В столбцах \"Общий трудовой стаж\" и \"Ежемесячный доход\" обнаружены пропущенные значения Nan. Предположим, что пропущенные значения вызваны человеческим фактором - возможно некоторые клиенты имеют неподтвержденные доходы или безработные. Посмотрим, клиентов с каким типом занятости больше всего среди тех, кто не указал доход."
   ]
  },
  {
   "cell_type": "code",
   "execution_count": 6,
   "metadata": {},
   "outputs": [
    {
     "data": {
      "text/plain": [
       "income_type\n",
       "сотрудник          1105\n",
       "компаньон           508\n",
       "пенсионер           413\n",
       "госслужащий         147\n",
       "предприниматель       1\n",
       "Name: income_type, dtype: int64"
      ]
     },
     "execution_count": 6,
     "metadata": {},
     "output_type": "execute_result"
    }
   ],
   "source": [
    "# группировка строк с пропущенными значениями по типу занятости и подсчет количества клиентов для каждого типа \n",
    "credits_filtered.groupby('income_type')['income_type'].count().sort_values(ascending=False)"
   ]
  },
  {
   "cell_type": "markdown",
   "metadata": {},
   "source": [
    "Большинство клиентов без дохода и стажа оказались сотрудниками банка. Безработными их назвать сложно, поэтому возьмем медианную зарплату сотрудников и заменим пропущенные значения в столбце \"Ежемесячный доход\" для тех, кто работает в банке и точно делает это не бесплатно"
   ]
  },
  {
   "cell_type": "code",
   "execution_count": 7,
   "metadata": {},
   "outputs": [
    {
     "name": "stdout",
     "output_type": "stream",
     "text": [
      "161380.26048788553\n"
     ]
    }
   ],
   "source": [
    "# подсчёт медианной зарплаты для сотрудников\n",
    "employee_income_avg = credits[credits['income_type'] == 'сотрудник']['total_income'].mean()\n",
    "print(employee_income_avg)"
   ]
  },
  {
   "cell_type": "code",
   "execution_count": 8,
   "metadata": {},
   "outputs": [
    {
     "data": {
      "text/plain": [
       "income_type\n",
       "компаньон          508\n",
       "пенсионер          413\n",
       "госслужащий        147\n",
       "предприниматель      1\n",
       "Name: income_type, dtype: int64"
      ]
     },
     "execution_count": 8,
     "metadata": {},
     "output_type": "execute_result"
    }
   ],
   "source": [
    "# замена пропущенных значений для сотрудников в столбце \"Ежемесячный доход\" на медианную зарплату сотрудника\n",
    "credits.loc[(credits['income_type'] == 'сотрудник')&(credits['total_income'].isna()), 'total_income'] = employee_income_avg\n",
    "\n",
    "# проверка корректности замены пропущенных значений\n",
    "credits[credits['total_income'].isna()].groupby('income_type')['income_type'].count().sort_values(ascending=False)"
   ]
  },
  {
   "cell_type": "code",
   "execution_count": 9,
   "metadata": {},
   "outputs": [
    {
     "name": "stdout",
     "output_type": "stream",
     "text": [
      "137127.4656901654\n"
     ]
    }
   ],
   "source": [
    "# подсчёт медианной пенсии\n",
    "pension_avg = credits[credits['income_type'] == 'пенсионер']['total_income'].mean()\n",
    "print(pension_avg)"
   ]
  },
  {
   "cell_type": "code",
   "execution_count": 10,
   "metadata": {},
   "outputs": [
    {
     "data": {
      "text/plain": [
       "income_type\n",
       "компаньон          508\n",
       "госслужащий        147\n",
       "предприниматель      1\n",
       "Name: income_type, dtype: int64"
      ]
     },
     "execution_count": 10,
     "metadata": {},
     "output_type": "execute_result"
    }
   ],
   "source": [
    "# замена пропущенных значений для пенсионеров в колонке \"Ежемесячный доход\" на медианный размер пенсии\n",
    "credits.loc[(credits['income_type'] == 'пенсионер')&(credits['total_income'].isna()), 'total_income'] = pension_avg\n",
    "\n",
    "# проверка корректности замены пропущенных значений\n",
    "credits[credits['total_income'].isna()].groupby('income_type')['income_type'].count().sort_values(ascending=False)"
   ]
  },
  {
   "cell_type": "code",
   "execution_count": 11,
   "metadata": {},
   "outputs": [
    {
     "name": "stdout",
     "output_type": "stream",
     "text": [
      "202417.4614617771\n"
     ]
    }
   ],
   "source": [
    "# подсчёт медианного дохода компаньона\n",
    "companion_income_avg = credits[credits['income_type'] == 'компаньон']['total_income'].mean()\n",
    "print(companion_income_avg)"
   ]
  },
  {
   "cell_type": "code",
   "execution_count": 12,
   "metadata": {},
   "outputs": [
    {
     "data": {
      "text/plain": [
       "income_type\n",
       "госслужащий        147\n",
       "предприниматель      1\n",
       "Name: income_type, dtype: int64"
      ]
     },
     "execution_count": 12,
     "metadata": {},
     "output_type": "execute_result"
    }
   ],
   "source": [
    "# замена пропущенных значений для компаньонов в колонке \"Ежемесячный доход\" на медианный доход компаньона\n",
    "credits.loc[(credits['income_type'] == 'компаньон')&(credits['total_income'].isna()), 'total_income'] = companion_income_avg\n",
    "\n",
    "# проверка корректности замены пропущенных значений\n",
    "credits[credits['total_income'].isna()].groupby('income_type')['income_type'].count().sort_values(ascending=False)"
   ]
  },
  {
   "cell_type": "code",
   "execution_count": 13,
   "metadata": {},
   "outputs": [
    {
     "name": "stdout",
     "output_type": "stream",
     "text": [
      "170898.30992266268\n"
     ]
    }
   ],
   "source": [
    "# подсчёт медианного дохода госслужащего\n",
    "state_employee_income_avg = credits[credits['income_type'] == 'госслужащий']['total_income'].mean()\n",
    "print(state_employee_income_avg)"
   ]
  },
  {
   "cell_type": "code",
   "execution_count": 14,
   "metadata": {},
   "outputs": [
    {
     "data": {
      "text/plain": [
       "income_type\n",
       "предприниматель    1\n",
       "Name: income_type, dtype: int64"
      ]
     },
     "execution_count": 14,
     "metadata": {},
     "output_type": "execute_result"
    }
   ],
   "source": [
    "# замена пропущенных значений для компаньонов в колонке \"Ежемесячный доход\" на медианный доход компаньона\n",
    "credits.loc[(credits['income_type'] == 'госслужащий')&(credits['total_income'].isna()), 'total_income'] = state_employee_income_avg\n",
    "\n",
    "# проверка корректности замены пропущенных значений\n",
    "credits[credits['total_income'].isna()].groupby('income_type')['income_type'].count().sort_values(ascending=False)"
   ]
  },
  {
   "cell_type": "code",
   "execution_count": 15,
   "metadata": {},
   "outputs": [
    {
     "name": "stdout",
     "output_type": "stream",
     "text": [
      "499163.1449470857\n"
     ]
    }
   ],
   "source": [
    "# подсчёт медианного дохода предпринимателя\n",
    "businessman_employee_income_avg = credits[credits['income_type'] == 'предприниматель']['total_income'].mean()\n",
    "print(businessman_employee_income_avg)"
   ]
  },
  {
   "cell_type": "code",
   "execution_count": 16,
   "metadata": {},
   "outputs": [
    {
     "data": {
      "text/plain": [
       "Series([], Name: income_type, dtype: int64)"
      ]
     },
     "execution_count": 16,
     "metadata": {},
     "output_type": "execute_result"
    }
   ],
   "source": [
    "# замена пропущенного значения для предпринимателя в колонке \"Ежемесячный доход\" на медианный доход предпринимателя\n",
    "credits.loc[(credits['income_type'] == 'предприниматель')&(credits['total_income'].isna()), 'total_income'] = businessman_employee_income_avg\n",
    "\n",
    "# проверка корректности замены пропущенных значений\n",
    "credits[credits['total_income'].isna()].groupby('income_type')['income_type'].count().sort_values(ascending=False)"
   ]
  },
  {
   "cell_type": "markdown",
   "metadata": {},
   "source": [
    "С пропущенными значениями разобрались, теперь изучим остальные столбцы"
   ]
  },
  {
   "cell_type": "code",
   "execution_count": 17,
   "metadata": {
    "scrolled": false
   },
   "outputs": [
    {
     "data": {
      "text/plain": [
       " 20       76\n",
       " 5         9\n",
       " 4        41\n",
       " 3       330\n",
       " 2      2055\n",
       " 1      4818\n",
       " 0     14149\n",
       "-1        47\n",
       "Name: children, dtype: int64"
      ]
     },
     "metadata": {},
     "output_type": "display_data"
    },
    {
     "data": {
      "text/plain": [
       "401755.400475    1\n",
       "401715.811749    1\n",
       "401675.093434    1\n",
       "401674.466633    1\n",
       "401663.850046    1\n",
       "                ..\n",
       "34.701045        1\n",
       "33.520665        1\n",
       "30.195337        1\n",
       "24.240695        1\n",
       "24.141633        1\n",
       "Name: days_employed, Length: 19351, dtype: int64"
      ]
     },
     "metadata": {},
     "output_type": "display_data"
    },
    {
     "data": {
      "text/plain": [
       "75      1\n",
       "74      6\n",
       "73      8\n",
       "72     33\n",
       "71     58\n",
       "70     65\n",
       "69     85\n",
       "68     99\n",
       "67    167\n",
       "66    183\n",
       "65    194\n",
       "64    265\n",
       "63    269\n",
       "62    352\n",
       "61    355\n",
       "60    377\n",
       "59    444\n",
       "58    461\n",
       "57    460\n",
       "56    487\n",
       "55    443\n",
       "54    479\n",
       "53    459\n",
       "52    484\n",
       "51    448\n",
       "50    514\n",
       "49    508\n",
       "48    538\n",
       "47    480\n",
       "46    475\n",
       "45    497\n",
       "44    547\n",
       "43    513\n",
       "42    597\n",
       "41    607\n",
       "40    609\n",
       "39    573\n",
       "38    598\n",
       "37    537\n",
       "36    555\n",
       "35    617\n",
       "34    603\n",
       "33    581\n",
       "32    510\n",
       "31    560\n",
       "30    540\n",
       "29    545\n",
       "28    503\n",
       "27    493\n",
       "26    408\n",
       "25    357\n",
       "24    264\n",
       "23    254\n",
       "22    183\n",
       "21    111\n",
       "20     51\n",
       "19     14\n",
       "0     101\n",
       "Name: dob_years, dtype: int64"
      ]
     },
     "metadata": {},
     "output_type": "display_data"
    },
    {
     "data": {
      "text/plain": [
       "ученая степень             4\n",
       "среднее                13750\n",
       "неоконченное высшее      668\n",
       "начальное                250\n",
       "высшее                  4718\n",
       "Ученая степень             1\n",
       "УЧЕНАЯ СТЕПЕНЬ             1\n",
       "Среднее                  711\n",
       "СРЕДНЕЕ                  772\n",
       "Неоконченное высшее       47\n",
       "Начальное                 15\n",
       "НЕОКОНЧЕННОЕ ВЫСШЕЕ       29\n",
       "НАЧАЛЬНОЕ                 17\n",
       "Высшее                   268\n",
       "ВЫСШЕЕ                   274\n",
       "Name: education, dtype: int64"
      ]
     },
     "metadata": {},
     "output_type": "display_data"
    },
    {
     "data": {
      "text/plain": [
       "4        6\n",
       "3      282\n",
       "2      744\n",
       "1    15233\n",
       "0     5260\n",
       "Name: education_id, dtype: int64"
      ]
     },
     "metadata": {},
     "output_type": "display_data"
    },
    {
     "data": {
      "text/plain": [
       "женат / замужем          12380\n",
       "гражданский брак          4177\n",
       "вдовец / вдова             960\n",
       "в разводе                 1195\n",
       "Не женат / не замужем     2813\n",
       "Name: family_status, dtype: int64"
      ]
     },
     "metadata": {},
     "output_type": "display_data"
    },
    {
     "data": {
      "text/plain": [
       "4     2813\n",
       "3     1195\n",
       "2      960\n",
       "1     4177\n",
       "0    12380\n",
       "Name: family_status_id, dtype: int64"
      ]
     },
     "metadata": {},
     "output_type": "display_data"
    },
    {
     "data": {
      "text/plain": [
       "XNA        1\n",
       "M       7288\n",
       "F      14236\n",
       "Name: gender, dtype: int64"
      ]
     },
     "metadata": {},
     "output_type": "display_data"
    },
    {
     "data": {
      "text/plain": [
       "студент                1\n",
       "сотрудник          11119\n",
       "предприниматель        2\n",
       "пенсионер           3856\n",
       "компаньон           5085\n",
       "госслужащий         1459\n",
       "в декрете              1\n",
       "безработный            2\n",
       "Name: income_type, dtype: int64"
      ]
     },
     "metadata": {},
     "output_type": "display_data"
    },
    {
     "data": {
      "text/plain": [
       "1     1741\n",
       "0    19784\n",
       "Name: debt, dtype: int64"
      ]
     },
     "metadata": {},
     "output_type": "display_data"
    },
    {
     "data": {
      "text/plain": [
       "2.265604e+06    1\n",
       "2.200852e+06    1\n",
       "1.726276e+06    1\n",
       "1.715018e+06    1\n",
       "1.711309e+06    1\n",
       "               ..\n",
       "2.189561e+04    1\n",
       "2.169510e+04    1\n",
       "2.136765e+04    1\n",
       "2.120528e+04    1\n",
       "2.066726e+04    1\n",
       "Name: total_income, Length: 19355, dtype: int64"
      ]
     },
     "metadata": {},
     "output_type": "display_data"
    },
    {
     "data": {
      "text/plain": [
       "сыграть свадьбу                           774\n",
       "строительство собственной недвижимости    635\n",
       "строительство недвижимости                620\n",
       "строительство жилой недвижимости          626\n",
       "сделка с подержанным автомобилем          489\n",
       "сделка с автомобилем                      455\n",
       "свой автомобиль                           480\n",
       "свадьба                                   797\n",
       "ремонт жилью                              612\n",
       "профильное образование                    436\n",
       "приобретение автомобиля                   462\n",
       "получение образования                     443\n",
       "получение дополнительного образования     447\n",
       "получение высшего образования             426\n",
       "покупка своего жилья                      620\n",
       "покупка недвижимости                      624\n",
       "покупка коммерческой недвижимости         664\n",
       "покупка жилья для семьи                   641\n",
       "покупка жилья для сдачи                   653\n",
       "покупка жилья                             647\n",
       "покупка жилой недвижимости                607\n",
       "операции со своей недвижимостью           630\n",
       "операции с недвижимостью                  676\n",
       "операции с коммерческой недвижимостью     651\n",
       "операции с жильем                         653\n",
       "образование                               447\n",
       "недвижимость                              634\n",
       "на проведение свадьбы                     777\n",
       "на покупку своего автомобиля              505\n",
       "на покупку подержанного автомобиля        479\n",
       "на покупку автомобиля                     472\n",
       "заняться образованием                     412\n",
       "заняться высшим образованием              496\n",
       "жилье                                     647\n",
       "дополнительное образование                462\n",
       "высшее образование                        453\n",
       "автомобиль                                495\n",
       "автомобили                                478\n",
       "Name: purpose, dtype: int64"
      ]
     },
     "metadata": {},
     "output_type": "display_data"
    }
   ],
   "source": [
    "# подсчет уникальных значений в каждом столбце датафрейма и вывод на экран для выявления возможных аномальных значений\n",
    "for index in credits:\n",
    "    display(credits[index].value_counts().sort_index(ascending=False))"
   ]
  },
  {
   "cell_type": "markdown",
   "metadata": {},
   "source": [
    "В столбце \"Количество детей в семье\" обнаружены два артефакта: 76 семей с 20-ю детьми и 47 семей с отрицательным количеством детей, т.е. всего 0,57% ошибочных данных по детям от общего количества клиентов.  \n",
    "Предположим, что такие ошибки обусловлены человеческим фактором. Вероятно это опечатки, и в тех ячейках, где указано 20 детей, 0 лишний, а где -1 имели ввиду 1.  \n",
    "Поскольку ошибки составляют менее 1%, можно было их проигнорировать, но данные из этого столбца нам понадобятся для исследования, поэтому сделаем замену, исходя из предположения, что ошибки были опечатками. Заменим 20 на 2, а -1 на 1."
   ]
  },
  {
   "cell_type": "code",
   "execution_count": 18,
   "metadata": {},
   "outputs": [
    {
     "data": {
      "text/plain": [
       "0    14149\n",
       "1     4865\n",
       "2     2131\n",
       "3      330\n",
       "4       41\n",
       "5        9\n",
       "Name: children, dtype: int64"
      ]
     },
     "execution_count": 18,
     "metadata": {},
     "output_type": "execute_result"
    }
   ],
   "source": [
    "# замена аномальных значений в стоблце \"Количество детей в семье\"\n",
    "credits.loc[credits['children'] == 20, 'children'] = 2\n",
    "credits.loc[credits['children'] == -1, 'children'] = 1\n",
    "\n",
    "# проверка выполненной замены и вывод уникальных значений столбца \"Количество детей в семье\"\n",
    "credits['children'].value_counts().sort_index()"
   ]
  },
  {
   "cell_type": "markdown",
   "metadata": {},
   "source": [
    "Теперь данные в столбце \"Количество детей в семье\" можно использовать для дальнейшего исследования."
   ]
  },
  {
   "cell_type": "markdown",
   "metadata": {},
   "source": [
    "**Вывод**"
   ]
  },
  {
   "cell_type": "markdown",
   "metadata": {},
   "source": [
    "Предобработка данных обнаружила несколько проблем в данных:\n",
    "1. В столбце \"Общий трудовой стаж в днях\" много ошибочных значений, например, стаж 401 674,85 дней, т.е. около 1100 лет. Вероятнее всего, это техническая ошибка, которая возникла при переносе или копировании данных.  \n",
    "2. В колонке \"Возраст клиента в годах\" есть значения, равные нулю. Таких значений меньше 1%, поэтому оставим их без изменений. \n",
    "3. В столбце \"Пол клиента\" одно значение неопределено.\n",
    "Данные из этих трех столбцов нам не понадобятся для исследования, поэтому менять ничего не будем.\n",
    "\n",
    "А вот данные из колонки \"Ежемесячный доход\" будем использовать при проверке гипотезы о зависимости между уровнем дохода и возвратом кредита в срок, поэтому нам очень важно правильно их обработать. Средний доход отличается по группам занятости, поэтому мы посчитали медианные значения для каждого типа занятости в таблице с пропусками. Затем заменили пропуски на медианные значения в каждой группе, это поможет сделать более точные расчеты при категоризации клиентов по уровню дохода.  \n",
    "\n",
    "В столбце \"Уровень образования клиента\" мы выявили множество дубликатов значений, которые исправим по ходу исследования.\n",
    "\n",
    "В колонке \"Ежемесячный доход\" есть аномально большие значения, поменяем тип данных в этом столбце с вещественного на целочисленный, так данные будут занимать меньше места."
   ]
  },
  {
   "cell_type": "markdown",
   "metadata": {},
   "source": [
    "### Тип данных"
   ]
  },
  {
   "cell_type": "code",
   "execution_count": 19,
   "metadata": {
    "scrolled": false
   },
   "outputs": [
    {
     "name": "stdout",
     "output_type": "stream",
     "text": [
      "<class 'pandas.core.frame.DataFrame'>\n",
      "RangeIndex: 21525 entries, 0 to 21524\n",
      "Data columns (total 12 columns):\n",
      "children            21525 non-null int64\n",
      "days_employed       19351 non-null float64\n",
      "dob_years           21525 non-null int64\n",
      "education           21525 non-null object\n",
      "education_id        21525 non-null int64\n",
      "family_status       21525 non-null object\n",
      "family_status_id    21525 non-null int64\n",
      "gender              21525 non-null object\n",
      "income_type         21525 non-null object\n",
      "debt                21525 non-null int64\n",
      "total_income        21525 non-null int64\n",
      "purpose             21525 non-null object\n",
      "dtypes: float64(1), int64(6), object(5)\n",
      "memory usage: 2.0+ MB\n"
     ]
    },
    {
     "data": {
      "text/html": [
       "<div>\n",
       "<style scoped>\n",
       "    .dataframe tbody tr th:only-of-type {\n",
       "        vertical-align: middle;\n",
       "    }\n",
       "\n",
       "    .dataframe tbody tr th {\n",
       "        vertical-align: top;\n",
       "    }\n",
       "\n",
       "    .dataframe thead th {\n",
       "        text-align: right;\n",
       "    }\n",
       "</style>\n",
       "<table border=\"1\" class=\"dataframe\">\n",
       "  <thead>\n",
       "    <tr style=\"text-align: right;\">\n",
       "      <th></th>\n",
       "      <th>children</th>\n",
       "      <th>days_employed</th>\n",
       "      <th>dob_years</th>\n",
       "      <th>education</th>\n",
       "      <th>education_id</th>\n",
       "      <th>family_status</th>\n",
       "      <th>family_status_id</th>\n",
       "      <th>gender</th>\n",
       "      <th>income_type</th>\n",
       "      <th>debt</th>\n",
       "      <th>total_income</th>\n",
       "      <th>purpose</th>\n",
       "    </tr>\n",
       "  </thead>\n",
       "  <tbody>\n",
       "    <tr>\n",
       "      <td>0</td>\n",
       "      <td>1</td>\n",
       "      <td>8437.673028</td>\n",
       "      <td>42</td>\n",
       "      <td>высшее</td>\n",
       "      <td>0</td>\n",
       "      <td>женат / замужем</td>\n",
       "      <td>0</td>\n",
       "      <td>F</td>\n",
       "      <td>сотрудник</td>\n",
       "      <td>0</td>\n",
       "      <td>253875</td>\n",
       "      <td>покупка жилья</td>\n",
       "    </tr>\n",
       "    <tr>\n",
       "      <td>1</td>\n",
       "      <td>1</td>\n",
       "      <td>4024.803754</td>\n",
       "      <td>36</td>\n",
       "      <td>среднее</td>\n",
       "      <td>1</td>\n",
       "      <td>женат / замужем</td>\n",
       "      <td>0</td>\n",
       "      <td>F</td>\n",
       "      <td>сотрудник</td>\n",
       "      <td>0</td>\n",
       "      <td>112080</td>\n",
       "      <td>приобретение автомобиля</td>\n",
       "    </tr>\n",
       "    <tr>\n",
       "      <td>2</td>\n",
       "      <td>0</td>\n",
       "      <td>5623.422610</td>\n",
       "      <td>33</td>\n",
       "      <td>Среднее</td>\n",
       "      <td>1</td>\n",
       "      <td>женат / замужем</td>\n",
       "      <td>0</td>\n",
       "      <td>M</td>\n",
       "      <td>сотрудник</td>\n",
       "      <td>0</td>\n",
       "      <td>145885</td>\n",
       "      <td>покупка жилья</td>\n",
       "    </tr>\n",
       "    <tr>\n",
       "      <td>3</td>\n",
       "      <td>3</td>\n",
       "      <td>4124.747207</td>\n",
       "      <td>32</td>\n",
       "      <td>среднее</td>\n",
       "      <td>1</td>\n",
       "      <td>женат / замужем</td>\n",
       "      <td>0</td>\n",
       "      <td>M</td>\n",
       "      <td>сотрудник</td>\n",
       "      <td>0</td>\n",
       "      <td>267628</td>\n",
       "      <td>дополнительное образование</td>\n",
       "    </tr>\n",
       "    <tr>\n",
       "      <td>4</td>\n",
       "      <td>0</td>\n",
       "      <td>340266.072047</td>\n",
       "      <td>53</td>\n",
       "      <td>среднее</td>\n",
       "      <td>1</td>\n",
       "      <td>гражданский брак</td>\n",
       "      <td>1</td>\n",
       "      <td>F</td>\n",
       "      <td>пенсионер</td>\n",
       "      <td>0</td>\n",
       "      <td>158616</td>\n",
       "      <td>сыграть свадьбу</td>\n",
       "    </tr>\n",
       "  </tbody>\n",
       "</table>\n",
       "</div>"
      ],
      "text/plain": [
       "   children  days_employed  dob_years education  education_id  \\\n",
       "0         1    8437.673028         42    высшее             0   \n",
       "1         1    4024.803754         36   среднее             1   \n",
       "2         0    5623.422610         33   Среднее             1   \n",
       "3         3    4124.747207         32   среднее             1   \n",
       "4         0  340266.072047         53   среднее             1   \n",
       "\n",
       "      family_status  family_status_id gender income_type  debt  total_income  \\\n",
       "0   женат / замужем                 0      F   сотрудник     0        253875   \n",
       "1   женат / замужем                 0      F   сотрудник     0        112080   \n",
       "2   женат / замужем                 0      M   сотрудник     0        145885   \n",
       "3   женат / замужем                 0      M   сотрудник     0        267628   \n",
       "4  гражданский брак                 1      F   пенсионер     0        158616   \n",
       "\n",
       "                      purpose  \n",
       "0               покупка жилья  \n",
       "1     приобретение автомобиля  \n",
       "2               покупка жилья  \n",
       "3  дополнительное образование  \n",
       "4             сыграть свадьбу  "
      ]
     },
     "metadata": {},
     "output_type": "display_data"
    }
   ],
   "source": [
    "# замена вещественного типа данных в столбце \"Ежемесячный доход\" на целочисленный тип данных\n",
    "credits['total_income'] = credits['total_income'].astype('int')\n",
    "credits.info()\n",
    "display(credits.head())"
   ]
  },
  {
   "cell_type": "markdown",
   "metadata": {},
   "source": [
    "**Вывод**"
   ]
  },
  {
   "cell_type": "markdown",
   "metadata": {},
   "source": [
    "Для замены вещественного типа данных на целочисленный в столбце \"Ежемесячный доход\" выбрали метод `astype('int')`. Это универсальный метод, с помощью которого можно пробовать перейти от одного типа данных к другому."
   ]
  },
  {
   "cell_type": "markdown",
   "metadata": {},
   "source": [
    "### Дубликаты"
   ]
  },
  {
   "cell_type": "code",
   "execution_count": 20,
   "metadata": {},
   "outputs": [
    {
     "data": {
      "text/plain": [
       "среднее                13750\n",
       "высшее                  4718\n",
       "СРЕДНЕЕ                  772\n",
       "Среднее                  711\n",
       "неоконченное высшее      668\n",
       "ВЫСШЕЕ                   274\n",
       "Высшее                   268\n",
       "начальное                250\n",
       "Неоконченное высшее       47\n",
       "НЕОКОНЧЕННОЕ ВЫСШЕЕ       29\n",
       "НАЧАЛЬНОЕ                 17\n",
       "Начальное                 15\n",
       "ученая степень             4\n",
       "УЧЕНАЯ СТЕПЕНЬ             1\n",
       "Ученая степень             1\n",
       "Name: education, dtype: int64"
      ]
     },
     "execution_count": 20,
     "metadata": {},
     "output_type": "execute_result"
    }
   ],
   "source": [
    "# подсчёт уникальных значений в столбце \"Уровень образования клиента\"\n",
    "credits['education'].value_counts()"
   ]
  },
  {
   "cell_type": "code",
   "execution_count": 21,
   "metadata": {},
   "outputs": [
    {
     "data": {
      "text/plain": [
       "среднее                15233\n",
       "высшее                  5260\n",
       "неоконченное высшее      744\n",
       "начальное                282\n",
       "ученая степень             6\n",
       "Name: education_lowercase, dtype: int64"
      ]
     },
     "execution_count": 21,
     "metadata": {},
     "output_type": "execute_result"
    }
   ],
   "source": [
    "# перевод символов к нижнему регистру в столбце \"Уровень образования клиента\"\n",
    "credits['education_lowercase'] = credits['education'].str.lower()\n",
    "\n",
    "# подсчёт уникальных значений после перевода символов в нижний регистр в столбце \"Уровень образования клиента\"\n",
    "credits['education_lowercase'].value_counts()"
   ]
  },
  {
   "cell_type": "markdown",
   "metadata": {},
   "source": [
    "**Вывод**"
   ]
  },
  {
   "cell_type": "markdown",
   "metadata": {},
   "source": [
    "В столбце \"Уровень образования клиента\" мы обнаружили неявные дубликаты - некоторые значения записаны с разным регистром букв. Скорее всего такие дубликаты вызваны человеческим фактором - одни клиенты заполняли анкеты строчными буквами, другие - прописными.\n",
    "\n",
    "С помощью метода `.value_counts()` мы выяснили количество дубликатов. \n",
    "\n",
    "Методом `.str.lower()` - привели все символы в столбце к нижнему регистру и таким образом избавились от неявных дубликатов, чтобы сделать исследование более точным. \n",
    "\n",
    "Из полученных данных мы видим, что большинство людей, которые берут кредиты - это клиенты со средним образованием."
   ]
  },
  {
   "cell_type": "markdown",
   "metadata": {},
   "source": [
    "### Лемматизация"
   ]
  },
  {
   "cell_type": "code",
   "execution_count": 22,
   "metadata": {
    "scrolled": false
   },
   "outputs": [
    {
     "data": {
      "text/plain": [
       "Counter({'покупка жилье': 1,\n",
       "         'приобретение автомобиль': 1,\n",
       "         'дополнительный образование': 1,\n",
       "         'сыграть свадьба': 1,\n",
       "         'операция с жилье': 1,\n",
       "         'образование': 1,\n",
       "         'на проведение свадьба': 1,\n",
       "         'покупка жилье для семья': 1,\n",
       "         'покупка недвижимость': 1,\n",
       "         'покупка коммерческий недвижимость': 1,\n",
       "         'покупка жилой недвижимость': 1,\n",
       "         'строительство собственный недвижимость': 1,\n",
       "         'недвижимость': 1,\n",
       "         'строительство недвижимость': 1,\n",
       "         'на покупка подержать автомобиль': 1,\n",
       "         'на покупка свой автомобиль': 1,\n",
       "         'операция с коммерческий недвижимость': 1,\n",
       "         'строительство жилой недвижимость': 1,\n",
       "         'жилье': 1,\n",
       "         'операция со свой недвижимость': 1,\n",
       "         'автомобиль': 2,\n",
       "         'заниматься образование': 1,\n",
       "         'сделка с подержанный автомобиль': 1,\n",
       "         'получение образование': 1,\n",
       "         'свадьба': 1,\n",
       "         'получение дополнительный образование': 1,\n",
       "         'покупка свой жилье': 1,\n",
       "         'операция с недвижимость': 1,\n",
       "         'получение высокий образование': 1,\n",
       "         'свой автомобиль': 1,\n",
       "         'сделка с автомобиль': 1,\n",
       "         'профильный образование': 1,\n",
       "         'высокий образование': 1,\n",
       "         'покупка жилье для сдача': 1,\n",
       "         'на покупка автомобиль': 1,\n",
       "         'ремонт жилье': 1,\n",
       "         'заниматься высокий образование': 1})"
      ]
     },
     "metadata": {},
     "output_type": "display_data"
    }
   ],
   "source": [
    "# выделение лемм в значениях столбца \"Цель получения кредита\"\n",
    "from pymystem3 import Mystem\n",
    "from collections import Counter\n",
    "\n",
    "unique_purpose = credits['purpose'].unique()\n",
    "lemmas_list = []\n",
    "m = Mystem()\n",
    "\n",
    "for purpose in unique_purpose:\n",
    "    lemmas = ''.join(m.lemmatize(purpose)).strip()\n",
    "    lemmas_list.append(lemmas)\n",
    "display(Counter(lemmas_list))"
   ]
  },
  {
   "cell_type": "markdown",
   "metadata": {},
   "source": [
    "**Вывод**"
   ]
  },
  {
   "cell_type": "markdown",
   "metadata": {},
   "source": [
    "Для лемматизации целей кредита мы составили список уникальных значений в столбце \"Цель получения кредита\". Затем привели все слова в списке к базовой форме с учетом контекста.  \n",
    "На основе полученных данных разделим цели кредита на 4 категории: \n",
    "-  автомобиль, \n",
    "- недвижимость, \n",
    "- образование, \n",
    "- свадьба."
   ]
  },
  {
   "cell_type": "markdown",
   "metadata": {},
   "source": [
    "### Категоризация данных"
   ]
  },
  {
   "cell_type": "code",
   "execution_count": 23,
   "metadata": {},
   "outputs": [
    {
     "data": {
      "text/html": [
       "<div>\n",
       "<style scoped>\n",
       "    .dataframe tbody tr th:only-of-type {\n",
       "        vertical-align: middle;\n",
       "    }\n",
       "\n",
       "    .dataframe tbody tr th {\n",
       "        vertical-align: top;\n",
       "    }\n",
       "\n",
       "    .dataframe thead th {\n",
       "        text-align: right;\n",
       "    }\n",
       "</style>\n",
       "<table border=\"1\" class=\"dataframe\">\n",
       "  <thead>\n",
       "    <tr style=\"text-align: right;\">\n",
       "      <th></th>\n",
       "      <th>children</th>\n",
       "      <th>days_employed</th>\n",
       "      <th>dob_years</th>\n",
       "      <th>education</th>\n",
       "      <th>education_id</th>\n",
       "      <th>family_status</th>\n",
       "      <th>family_status_id</th>\n",
       "      <th>gender</th>\n",
       "      <th>income_type</th>\n",
       "      <th>debt</th>\n",
       "      <th>total_income</th>\n",
       "      <th>purpose</th>\n",
       "      <th>education_lowercase</th>\n",
       "      <th>purpose_category</th>\n",
       "    </tr>\n",
       "  </thead>\n",
       "  <tbody>\n",
       "    <tr>\n",
       "      <td>0</td>\n",
       "      <td>1</td>\n",
       "      <td>8437.673028</td>\n",
       "      <td>42</td>\n",
       "      <td>высшее</td>\n",
       "      <td>0</td>\n",
       "      <td>женат / замужем</td>\n",
       "      <td>0</td>\n",
       "      <td>F</td>\n",
       "      <td>сотрудник</td>\n",
       "      <td>0</td>\n",
       "      <td>253875</td>\n",
       "      <td>покупка жилья</td>\n",
       "      <td>высшее</td>\n",
       "      <td>недвижимость</td>\n",
       "    </tr>\n",
       "    <tr>\n",
       "      <td>1</td>\n",
       "      <td>1</td>\n",
       "      <td>4024.803754</td>\n",
       "      <td>36</td>\n",
       "      <td>среднее</td>\n",
       "      <td>1</td>\n",
       "      <td>женат / замужем</td>\n",
       "      <td>0</td>\n",
       "      <td>F</td>\n",
       "      <td>сотрудник</td>\n",
       "      <td>0</td>\n",
       "      <td>112080</td>\n",
       "      <td>приобретение автомобиля</td>\n",
       "      <td>среднее</td>\n",
       "      <td>автомобиль</td>\n",
       "    </tr>\n",
       "    <tr>\n",
       "      <td>2</td>\n",
       "      <td>0</td>\n",
       "      <td>5623.422610</td>\n",
       "      <td>33</td>\n",
       "      <td>Среднее</td>\n",
       "      <td>1</td>\n",
       "      <td>женат / замужем</td>\n",
       "      <td>0</td>\n",
       "      <td>M</td>\n",
       "      <td>сотрудник</td>\n",
       "      <td>0</td>\n",
       "      <td>145885</td>\n",
       "      <td>покупка жилья</td>\n",
       "      <td>среднее</td>\n",
       "      <td>недвижимость</td>\n",
       "    </tr>\n",
       "    <tr>\n",
       "      <td>3</td>\n",
       "      <td>3</td>\n",
       "      <td>4124.747207</td>\n",
       "      <td>32</td>\n",
       "      <td>среднее</td>\n",
       "      <td>1</td>\n",
       "      <td>женат / замужем</td>\n",
       "      <td>0</td>\n",
       "      <td>M</td>\n",
       "      <td>сотрудник</td>\n",
       "      <td>0</td>\n",
       "      <td>267628</td>\n",
       "      <td>дополнительное образование</td>\n",
       "      <td>среднее</td>\n",
       "      <td>образование</td>\n",
       "    </tr>\n",
       "    <tr>\n",
       "      <td>4</td>\n",
       "      <td>0</td>\n",
       "      <td>340266.072047</td>\n",
       "      <td>53</td>\n",
       "      <td>среднее</td>\n",
       "      <td>1</td>\n",
       "      <td>гражданский брак</td>\n",
       "      <td>1</td>\n",
       "      <td>F</td>\n",
       "      <td>пенсионер</td>\n",
       "      <td>0</td>\n",
       "      <td>158616</td>\n",
       "      <td>сыграть свадьбу</td>\n",
       "      <td>среднее</td>\n",
       "      <td>свадьба</td>\n",
       "    </tr>\n",
       "  </tbody>\n",
       "</table>\n",
       "</div>"
      ],
      "text/plain": [
       "   children  days_employed  dob_years education  education_id  \\\n",
       "0         1    8437.673028         42    высшее             0   \n",
       "1         1    4024.803754         36   среднее             1   \n",
       "2         0    5623.422610         33   Среднее             1   \n",
       "3         3    4124.747207         32   среднее             1   \n",
       "4         0  340266.072047         53   среднее             1   \n",
       "\n",
       "      family_status  family_status_id gender income_type  debt  total_income  \\\n",
       "0   женат / замужем                 0      F   сотрудник     0        253875   \n",
       "1   женат / замужем                 0      F   сотрудник     0        112080   \n",
       "2   женат / замужем                 0      M   сотрудник     0        145885   \n",
       "3   женат / замужем                 0      M   сотрудник     0        267628   \n",
       "4  гражданский брак                 1      F   пенсионер     0        158616   \n",
       "\n",
       "                      purpose education_lowercase purpose_category  \n",
       "0               покупка жилья              высшее     недвижимость  \n",
       "1     приобретение автомобиля             среднее       автомобиль  \n",
       "2               покупка жилья             среднее     недвижимость  \n",
       "3  дополнительное образование             среднее      образование  \n",
       "4             сыграть свадьбу             среднее          свадьба  "
      ]
     },
     "metadata": {},
     "output_type": "display_data"
    }
   ],
   "source": [
    "# создание категорий для столбца с целями получения кредита\n",
    "def create_category_purpose(row):\n",
    "    lem_purpose = m.lemmatize(row['purpose'])\n",
    "    if 'автомобиль' in lem_purpose:\n",
    "        return 'автомобиль'\n",
    "    if ('жилье' in lem_purpose) or ('недвижимость' in lem_purpose ):\n",
    "        return 'недвижимость'\n",
    "    if 'образование' in lem_purpose:\n",
    "        return 'образование'\n",
    "    return 'свадьба'\n",
    "credits['purpose_category'] = credits.apply(create_category_purpose, axis=1)\n",
    "display(credits.head())"
   ]
  },
  {
   "cell_type": "code",
   "execution_count": 24,
   "metadata": {},
   "outputs": [
    {
     "name": "stdout",
     "output_type": "stream",
     "text": [
      "Первый квартиль: 107798.0\n",
      "Второй квартиль: 151931.0\n",
      "Третий квартиль: 202417.0\n"
     ]
    }
   ],
   "source": [
    "# подсчёт квартилей для ежемесячного дохода \n",
    "first_quartile = credits['total_income'].quantile(.25)\n",
    "second_quartile = credits['total_income'].quantile(.5)\n",
    "third_quartile = credits['total_income'].quantile(.75)\n",
    "print('Первый квартиль:', first_quartile)\n",
    "print('Второй квартиль:', second_quartile)\n",
    "print('Третий квартиль:', third_quartile)"
   ]
  },
  {
   "cell_type": "markdown",
   "metadata": {},
   "source": [
    "Расчёт квартилей поможет нам более точно определить категории клиентов по уровню дохода."
   ]
  },
  {
   "cell_type": "code",
   "execution_count": 25,
   "metadata": {},
   "outputs": [
    {
     "data": {
      "text/html": [
       "<div>\n",
       "<style scoped>\n",
       "    .dataframe tbody tr th:only-of-type {\n",
       "        vertical-align: middle;\n",
       "    }\n",
       "\n",
       "    .dataframe tbody tr th {\n",
       "        vertical-align: top;\n",
       "    }\n",
       "\n",
       "    .dataframe thead th {\n",
       "        text-align: right;\n",
       "    }\n",
       "</style>\n",
       "<table border=\"1\" class=\"dataframe\">\n",
       "  <thead>\n",
       "    <tr style=\"text-align: right;\">\n",
       "      <th></th>\n",
       "      <th>children</th>\n",
       "      <th>days_employed</th>\n",
       "      <th>dob_years</th>\n",
       "      <th>education</th>\n",
       "      <th>education_id</th>\n",
       "      <th>family_status</th>\n",
       "      <th>family_status_id</th>\n",
       "      <th>gender</th>\n",
       "      <th>income_type</th>\n",
       "      <th>debt</th>\n",
       "      <th>total_income</th>\n",
       "      <th>purpose</th>\n",
       "      <th>education_lowercase</th>\n",
       "      <th>purpose_category</th>\n",
       "      <th>income_category</th>\n",
       "    </tr>\n",
       "  </thead>\n",
       "  <tbody>\n",
       "    <tr>\n",
       "      <td>0</td>\n",
       "      <td>1</td>\n",
       "      <td>8437.673028</td>\n",
       "      <td>42</td>\n",
       "      <td>высшее</td>\n",
       "      <td>0</td>\n",
       "      <td>женат / замужем</td>\n",
       "      <td>0</td>\n",
       "      <td>F</td>\n",
       "      <td>сотрудник</td>\n",
       "      <td>0</td>\n",
       "      <td>253875</td>\n",
       "      <td>покупка жилья</td>\n",
       "      <td>высшее</td>\n",
       "      <td>недвижимость</td>\n",
       "      <td>богатые и сверхбогатые</td>\n",
       "    </tr>\n",
       "    <tr>\n",
       "      <td>1</td>\n",
       "      <td>1</td>\n",
       "      <td>4024.803754</td>\n",
       "      <td>36</td>\n",
       "      <td>среднее</td>\n",
       "      <td>1</td>\n",
       "      <td>женат / замужем</td>\n",
       "      <td>0</td>\n",
       "      <td>F</td>\n",
       "      <td>сотрудник</td>\n",
       "      <td>0</td>\n",
       "      <td>112080</td>\n",
       "      <td>приобретение автомобиля</td>\n",
       "      <td>среднее</td>\n",
       "      <td>автомобиль</td>\n",
       "      <td>выше бедности</td>\n",
       "    </tr>\n",
       "    <tr>\n",
       "      <td>2</td>\n",
       "      <td>0</td>\n",
       "      <td>5623.422610</td>\n",
       "      <td>33</td>\n",
       "      <td>Среднее</td>\n",
       "      <td>1</td>\n",
       "      <td>женат / замужем</td>\n",
       "      <td>0</td>\n",
       "      <td>M</td>\n",
       "      <td>сотрудник</td>\n",
       "      <td>0</td>\n",
       "      <td>145885</td>\n",
       "      <td>покупка жилья</td>\n",
       "      <td>среднее</td>\n",
       "      <td>недвижимость</td>\n",
       "      <td>выше бедности</td>\n",
       "    </tr>\n",
       "    <tr>\n",
       "      <td>3</td>\n",
       "      <td>3</td>\n",
       "      <td>4124.747207</td>\n",
       "      <td>32</td>\n",
       "      <td>среднее</td>\n",
       "      <td>1</td>\n",
       "      <td>женат / замужем</td>\n",
       "      <td>0</td>\n",
       "      <td>M</td>\n",
       "      <td>сотрудник</td>\n",
       "      <td>0</td>\n",
       "      <td>267628</td>\n",
       "      <td>дополнительное образование</td>\n",
       "      <td>среднее</td>\n",
       "      <td>образование</td>\n",
       "      <td>богатые и сверхбогатые</td>\n",
       "    </tr>\n",
       "    <tr>\n",
       "      <td>4</td>\n",
       "      <td>0</td>\n",
       "      <td>340266.072047</td>\n",
       "      <td>53</td>\n",
       "      <td>среднее</td>\n",
       "      <td>1</td>\n",
       "      <td>гражданский брак</td>\n",
       "      <td>1</td>\n",
       "      <td>F</td>\n",
       "      <td>пенсионер</td>\n",
       "      <td>0</td>\n",
       "      <td>158616</td>\n",
       "      <td>сыграть свадьбу</td>\n",
       "      <td>среднее</td>\n",
       "      <td>свадьба</td>\n",
       "      <td>средний класс</td>\n",
       "    </tr>\n",
       "  </tbody>\n",
       "</table>\n",
       "</div>"
      ],
      "text/plain": [
       "   children  days_employed  dob_years education  education_id  \\\n",
       "0         1    8437.673028         42    высшее             0   \n",
       "1         1    4024.803754         36   среднее             1   \n",
       "2         0    5623.422610         33   Среднее             1   \n",
       "3         3    4124.747207         32   среднее             1   \n",
       "4         0  340266.072047         53   среднее             1   \n",
       "\n",
       "      family_status  family_status_id gender income_type  debt  total_income  \\\n",
       "0   женат / замужем                 0      F   сотрудник     0        253875   \n",
       "1   женат / замужем                 0      F   сотрудник     0        112080   \n",
       "2   женат / замужем                 0      M   сотрудник     0        145885   \n",
       "3   женат / замужем                 0      M   сотрудник     0        267628   \n",
       "4  гражданский брак                 1      F   пенсионер     0        158616   \n",
       "\n",
       "                      purpose education_lowercase purpose_category  \\\n",
       "0               покупка жилья              высшее     недвижимость   \n",
       "1     приобретение автомобиля             среднее       автомобиль   \n",
       "2               покупка жилья             среднее     недвижимость   \n",
       "3  дополнительное образование             среднее      образование   \n",
       "4             сыграть свадьбу             среднее          свадьба   \n",
       "\n",
       "          income_category  \n",
       "0  богатые и сверхбогатые  \n",
       "1           выше бедности  \n",
       "2           выше бедности  \n",
       "3  богатые и сверхбогатые  \n",
       "4           средний класс  "
      ]
     },
     "metadata": {},
     "output_type": "display_data"
    }
   ],
   "source": [
    "# создание категорий для столбца \"Ежемесячный доход\" на основе рассчитанных квартилей\n",
    "def create_category_income(income):\n",
    "    if income <= first_quartile:\n",
    "        return 'бедные'\n",
    "    if income <= second_quartile:\n",
    "        return 'выше бедности'\n",
    "    if income <= third_quartile:\n",
    "        return 'средний класс'\n",
    "    return 'богатые и сверхбогатые'\n",
    "credits['income_category'] = credits['total_income'].apply(create_category_income)\n",
    "display(credits.head())"
   ]
  },
  {
   "cell_type": "code",
   "execution_count": 26,
   "metadata": {},
   "outputs": [
    {
     "data": {
      "text/html": [
       "<div>\n",
       "<style scoped>\n",
       "    .dataframe tbody tr th:only-of-type {\n",
       "        vertical-align: middle;\n",
       "    }\n",
       "\n",
       "    .dataframe tbody tr th {\n",
       "        vertical-align: top;\n",
       "    }\n",
       "\n",
       "    .dataframe thead th {\n",
       "        text-align: right;\n",
       "    }\n",
       "</style>\n",
       "<table border=\"1\" class=\"dataframe\">\n",
       "  <thead>\n",
       "    <tr style=\"text-align: right;\">\n",
       "      <th></th>\n",
       "      <th>children</th>\n",
       "      <th>days_employed</th>\n",
       "      <th>dob_years</th>\n",
       "      <th>education</th>\n",
       "      <th>education_id</th>\n",
       "      <th>family_status</th>\n",
       "      <th>family_status_id</th>\n",
       "      <th>gender</th>\n",
       "      <th>income_type</th>\n",
       "      <th>debt</th>\n",
       "      <th>total_income</th>\n",
       "      <th>purpose</th>\n",
       "      <th>education_lowercase</th>\n",
       "      <th>purpose_category</th>\n",
       "      <th>income_category</th>\n",
       "      <th>family_status_category</th>\n",
       "    </tr>\n",
       "  </thead>\n",
       "  <tbody>\n",
       "    <tr>\n",
       "      <td>0</td>\n",
       "      <td>1</td>\n",
       "      <td>8437.673028</td>\n",
       "      <td>42</td>\n",
       "      <td>высшее</td>\n",
       "      <td>0</td>\n",
       "      <td>женат / замужем</td>\n",
       "      <td>0</td>\n",
       "      <td>F</td>\n",
       "      <td>сотрудник</td>\n",
       "      <td>0</td>\n",
       "      <td>253875</td>\n",
       "      <td>покупка жилья</td>\n",
       "      <td>высшее</td>\n",
       "      <td>недвижимость</td>\n",
       "      <td>богатые и сверхбогатые</td>\n",
       "      <td>семейные</td>\n",
       "    </tr>\n",
       "    <tr>\n",
       "      <td>1</td>\n",
       "      <td>1</td>\n",
       "      <td>4024.803754</td>\n",
       "      <td>36</td>\n",
       "      <td>среднее</td>\n",
       "      <td>1</td>\n",
       "      <td>женат / замужем</td>\n",
       "      <td>0</td>\n",
       "      <td>F</td>\n",
       "      <td>сотрудник</td>\n",
       "      <td>0</td>\n",
       "      <td>112080</td>\n",
       "      <td>приобретение автомобиля</td>\n",
       "      <td>среднее</td>\n",
       "      <td>автомобиль</td>\n",
       "      <td>выше бедности</td>\n",
       "      <td>семейные</td>\n",
       "    </tr>\n",
       "    <tr>\n",
       "      <td>2</td>\n",
       "      <td>0</td>\n",
       "      <td>5623.422610</td>\n",
       "      <td>33</td>\n",
       "      <td>Среднее</td>\n",
       "      <td>1</td>\n",
       "      <td>женат / замужем</td>\n",
       "      <td>0</td>\n",
       "      <td>M</td>\n",
       "      <td>сотрудник</td>\n",
       "      <td>0</td>\n",
       "      <td>145885</td>\n",
       "      <td>покупка жилья</td>\n",
       "      <td>среднее</td>\n",
       "      <td>недвижимость</td>\n",
       "      <td>выше бедности</td>\n",
       "      <td>семейные</td>\n",
       "    </tr>\n",
       "    <tr>\n",
       "      <td>3</td>\n",
       "      <td>3</td>\n",
       "      <td>4124.747207</td>\n",
       "      <td>32</td>\n",
       "      <td>среднее</td>\n",
       "      <td>1</td>\n",
       "      <td>женат / замужем</td>\n",
       "      <td>0</td>\n",
       "      <td>M</td>\n",
       "      <td>сотрудник</td>\n",
       "      <td>0</td>\n",
       "      <td>267628</td>\n",
       "      <td>дополнительное образование</td>\n",
       "      <td>среднее</td>\n",
       "      <td>образование</td>\n",
       "      <td>богатые и сверхбогатые</td>\n",
       "      <td>семейные</td>\n",
       "    </tr>\n",
       "    <tr>\n",
       "      <td>4</td>\n",
       "      <td>0</td>\n",
       "      <td>340266.072047</td>\n",
       "      <td>53</td>\n",
       "      <td>среднее</td>\n",
       "      <td>1</td>\n",
       "      <td>гражданский брак</td>\n",
       "      <td>1</td>\n",
       "      <td>F</td>\n",
       "      <td>пенсионер</td>\n",
       "      <td>0</td>\n",
       "      <td>158616</td>\n",
       "      <td>сыграть свадьбу</td>\n",
       "      <td>среднее</td>\n",
       "      <td>свадьба</td>\n",
       "      <td>средний класс</td>\n",
       "      <td>семейные</td>\n",
       "    </tr>\n",
       "    <tr>\n",
       "      <td>5</td>\n",
       "      <td>0</td>\n",
       "      <td>926.185831</td>\n",
       "      <td>27</td>\n",
       "      <td>высшее</td>\n",
       "      <td>0</td>\n",
       "      <td>гражданский брак</td>\n",
       "      <td>1</td>\n",
       "      <td>M</td>\n",
       "      <td>компаньон</td>\n",
       "      <td>0</td>\n",
       "      <td>255763</td>\n",
       "      <td>покупка жилья</td>\n",
       "      <td>высшее</td>\n",
       "      <td>недвижимость</td>\n",
       "      <td>богатые и сверхбогатые</td>\n",
       "      <td>семейные</td>\n",
       "    </tr>\n",
       "    <tr>\n",
       "      <td>6</td>\n",
       "      <td>0</td>\n",
       "      <td>2879.202052</td>\n",
       "      <td>43</td>\n",
       "      <td>высшее</td>\n",
       "      <td>0</td>\n",
       "      <td>женат / замужем</td>\n",
       "      <td>0</td>\n",
       "      <td>F</td>\n",
       "      <td>компаньон</td>\n",
       "      <td>0</td>\n",
       "      <td>240525</td>\n",
       "      <td>операции с жильем</td>\n",
       "      <td>высшее</td>\n",
       "      <td>недвижимость</td>\n",
       "      <td>богатые и сверхбогатые</td>\n",
       "      <td>семейные</td>\n",
       "    </tr>\n",
       "    <tr>\n",
       "      <td>7</td>\n",
       "      <td>0</td>\n",
       "      <td>152.779569</td>\n",
       "      <td>50</td>\n",
       "      <td>СРЕДНЕЕ</td>\n",
       "      <td>1</td>\n",
       "      <td>женат / замужем</td>\n",
       "      <td>0</td>\n",
       "      <td>M</td>\n",
       "      <td>сотрудник</td>\n",
       "      <td>0</td>\n",
       "      <td>135823</td>\n",
       "      <td>образование</td>\n",
       "      <td>среднее</td>\n",
       "      <td>образование</td>\n",
       "      <td>выше бедности</td>\n",
       "      <td>семейные</td>\n",
       "    </tr>\n",
       "    <tr>\n",
       "      <td>8</td>\n",
       "      <td>2</td>\n",
       "      <td>6929.865299</td>\n",
       "      <td>35</td>\n",
       "      <td>ВЫСШЕЕ</td>\n",
       "      <td>0</td>\n",
       "      <td>гражданский брак</td>\n",
       "      <td>1</td>\n",
       "      <td>F</td>\n",
       "      <td>сотрудник</td>\n",
       "      <td>0</td>\n",
       "      <td>95856</td>\n",
       "      <td>на проведение свадьбы</td>\n",
       "      <td>высшее</td>\n",
       "      <td>свадьба</td>\n",
       "      <td>бедные</td>\n",
       "      <td>семейные</td>\n",
       "    </tr>\n",
       "    <tr>\n",
       "      <td>9</td>\n",
       "      <td>0</td>\n",
       "      <td>2188.756445</td>\n",
       "      <td>41</td>\n",
       "      <td>среднее</td>\n",
       "      <td>1</td>\n",
       "      <td>женат / замужем</td>\n",
       "      <td>0</td>\n",
       "      <td>M</td>\n",
       "      <td>сотрудник</td>\n",
       "      <td>0</td>\n",
       "      <td>144425</td>\n",
       "      <td>покупка жилья для семьи</td>\n",
       "      <td>среднее</td>\n",
       "      <td>недвижимость</td>\n",
       "      <td>выше бедности</td>\n",
       "      <td>семейные</td>\n",
       "    </tr>\n",
       "  </tbody>\n",
       "</table>\n",
       "</div>"
      ],
      "text/plain": [
       "   children  days_employed  dob_years education  education_id  \\\n",
       "0         1    8437.673028         42    высшее             0   \n",
       "1         1    4024.803754         36   среднее             1   \n",
       "2         0    5623.422610         33   Среднее             1   \n",
       "3         3    4124.747207         32   среднее             1   \n",
       "4         0  340266.072047         53   среднее             1   \n",
       "5         0     926.185831         27    высшее             0   \n",
       "6         0    2879.202052         43    высшее             0   \n",
       "7         0     152.779569         50   СРЕДНЕЕ             1   \n",
       "8         2    6929.865299         35    ВЫСШЕЕ             0   \n",
       "9         0    2188.756445         41   среднее             1   \n",
       "\n",
       "      family_status  family_status_id gender income_type  debt  total_income  \\\n",
       "0   женат / замужем                 0      F   сотрудник     0        253875   \n",
       "1   женат / замужем                 0      F   сотрудник     0        112080   \n",
       "2   женат / замужем                 0      M   сотрудник     0        145885   \n",
       "3   женат / замужем                 0      M   сотрудник     0        267628   \n",
       "4  гражданский брак                 1      F   пенсионер     0        158616   \n",
       "5  гражданский брак                 1      M   компаньон     0        255763   \n",
       "6   женат / замужем                 0      F   компаньон     0        240525   \n",
       "7   женат / замужем                 0      M   сотрудник     0        135823   \n",
       "8  гражданский брак                 1      F   сотрудник     0         95856   \n",
       "9   женат / замужем                 0      M   сотрудник     0        144425   \n",
       "\n",
       "                      purpose education_lowercase purpose_category  \\\n",
       "0               покупка жилья              высшее     недвижимость   \n",
       "1     приобретение автомобиля             среднее       автомобиль   \n",
       "2               покупка жилья             среднее     недвижимость   \n",
       "3  дополнительное образование             среднее      образование   \n",
       "4             сыграть свадьбу             среднее          свадьба   \n",
       "5               покупка жилья              высшее     недвижимость   \n",
       "6           операции с жильем              высшее     недвижимость   \n",
       "7                 образование             среднее      образование   \n",
       "8       на проведение свадьбы              высшее          свадьба   \n",
       "9     покупка жилья для семьи             среднее     недвижимость   \n",
       "\n",
       "          income_category family_status_category  \n",
       "0  богатые и сверхбогатые               семейные  \n",
       "1           выше бедности               семейные  \n",
       "2           выше бедности               семейные  \n",
       "3  богатые и сверхбогатые               семейные  \n",
       "4           средний класс               семейные  \n",
       "5  богатые и сверхбогатые               семейные  \n",
       "6  богатые и сверхбогатые               семейные  \n",
       "7           выше бедности               семейные  \n",
       "8                  бедные               семейные  \n",
       "9           выше бедности               семейные  "
      ]
     },
     "metadata": {},
     "output_type": "display_data"
    }
   ],
   "source": [
    "# создание категорий для семейного статуса: \n",
    "def create_category_family(family_status_id):\n",
    "    if (family_status_id == 0) or (family_status_id == 1):\n",
    "        return 'семейные'\n",
    "    return 'одинокие'\n",
    "credits['family_status_category'] = credits['family_status_id'].apply(create_category_family)\n",
    "display(credits.head(10))"
   ]
  },
  {
   "cell_type": "code",
   "execution_count": 27,
   "metadata": {},
   "outputs": [
    {
     "data": {
      "text/html": [
       "<div>\n",
       "<style scoped>\n",
       "    .dataframe tbody tr th:only-of-type {\n",
       "        vertical-align: middle;\n",
       "    }\n",
       "\n",
       "    .dataframe tbody tr th {\n",
       "        vertical-align: top;\n",
       "    }\n",
       "\n",
       "    .dataframe thead th {\n",
       "        text-align: right;\n",
       "    }\n",
       "</style>\n",
       "<table border=\"1\" class=\"dataframe\">\n",
       "  <thead>\n",
       "    <tr style=\"text-align: right;\">\n",
       "      <th></th>\n",
       "      <th>children</th>\n",
       "      <th>days_employed</th>\n",
       "      <th>dob_years</th>\n",
       "      <th>education</th>\n",
       "      <th>education_id</th>\n",
       "      <th>family_status</th>\n",
       "      <th>family_status_id</th>\n",
       "      <th>gender</th>\n",
       "      <th>income_type</th>\n",
       "      <th>debt</th>\n",
       "      <th>total_income</th>\n",
       "      <th>purpose</th>\n",
       "      <th>education_lowercase</th>\n",
       "      <th>purpose_category</th>\n",
       "      <th>income_category</th>\n",
       "      <th>family_status_category</th>\n",
       "      <th>children_category</th>\n",
       "    </tr>\n",
       "  </thead>\n",
       "  <tbody>\n",
       "    <tr>\n",
       "      <td>0</td>\n",
       "      <td>1</td>\n",
       "      <td>8437.673028</td>\n",
       "      <td>42</td>\n",
       "      <td>высшее</td>\n",
       "      <td>0</td>\n",
       "      <td>женат / замужем</td>\n",
       "      <td>0</td>\n",
       "      <td>F</td>\n",
       "      <td>сотрудник</td>\n",
       "      <td>0</td>\n",
       "      <td>253875</td>\n",
       "      <td>покупка жилья</td>\n",
       "      <td>высшее</td>\n",
       "      <td>недвижимость</td>\n",
       "      <td>богатые и сверхбогатые</td>\n",
       "      <td>семейные</td>\n",
       "      <td>семья с одним ребёнком</td>\n",
       "    </tr>\n",
       "    <tr>\n",
       "      <td>1</td>\n",
       "      <td>1</td>\n",
       "      <td>4024.803754</td>\n",
       "      <td>36</td>\n",
       "      <td>среднее</td>\n",
       "      <td>1</td>\n",
       "      <td>женат / замужем</td>\n",
       "      <td>0</td>\n",
       "      <td>F</td>\n",
       "      <td>сотрудник</td>\n",
       "      <td>0</td>\n",
       "      <td>112080</td>\n",
       "      <td>приобретение автомобиля</td>\n",
       "      <td>среднее</td>\n",
       "      <td>автомобиль</td>\n",
       "      <td>выше бедности</td>\n",
       "      <td>семейные</td>\n",
       "      <td>семья с одним ребёнком</td>\n",
       "    </tr>\n",
       "    <tr>\n",
       "      <td>2</td>\n",
       "      <td>0</td>\n",
       "      <td>5623.422610</td>\n",
       "      <td>33</td>\n",
       "      <td>Среднее</td>\n",
       "      <td>1</td>\n",
       "      <td>женат / замужем</td>\n",
       "      <td>0</td>\n",
       "      <td>M</td>\n",
       "      <td>сотрудник</td>\n",
       "      <td>0</td>\n",
       "      <td>145885</td>\n",
       "      <td>покупка жилья</td>\n",
       "      <td>среднее</td>\n",
       "      <td>недвижимость</td>\n",
       "      <td>выше бедности</td>\n",
       "      <td>семейные</td>\n",
       "      <td>детей нет</td>\n",
       "    </tr>\n",
       "    <tr>\n",
       "      <td>3</td>\n",
       "      <td>3</td>\n",
       "      <td>4124.747207</td>\n",
       "      <td>32</td>\n",
       "      <td>среднее</td>\n",
       "      <td>1</td>\n",
       "      <td>женат / замужем</td>\n",
       "      <td>0</td>\n",
       "      <td>M</td>\n",
       "      <td>сотрудник</td>\n",
       "      <td>0</td>\n",
       "      <td>267628</td>\n",
       "      <td>дополнительное образование</td>\n",
       "      <td>среднее</td>\n",
       "      <td>образование</td>\n",
       "      <td>богатые и сверхбогатые</td>\n",
       "      <td>семейные</td>\n",
       "      <td>многодетная семья</td>\n",
       "    </tr>\n",
       "    <tr>\n",
       "      <td>4</td>\n",
       "      <td>0</td>\n",
       "      <td>340266.072047</td>\n",
       "      <td>53</td>\n",
       "      <td>среднее</td>\n",
       "      <td>1</td>\n",
       "      <td>гражданский брак</td>\n",
       "      <td>1</td>\n",
       "      <td>F</td>\n",
       "      <td>пенсионер</td>\n",
       "      <td>0</td>\n",
       "      <td>158616</td>\n",
       "      <td>сыграть свадьбу</td>\n",
       "      <td>среднее</td>\n",
       "      <td>свадьба</td>\n",
       "      <td>средний класс</td>\n",
       "      <td>семейные</td>\n",
       "      <td>детей нет</td>\n",
       "    </tr>\n",
       "  </tbody>\n",
       "</table>\n",
       "</div>"
      ],
      "text/plain": [
       "   children  days_employed  dob_years education  education_id  \\\n",
       "0         1    8437.673028         42    высшее             0   \n",
       "1         1    4024.803754         36   среднее             1   \n",
       "2         0    5623.422610         33   Среднее             1   \n",
       "3         3    4124.747207         32   среднее             1   \n",
       "4         0  340266.072047         53   среднее             1   \n",
       "\n",
       "      family_status  family_status_id gender income_type  debt  total_income  \\\n",
       "0   женат / замужем                 0      F   сотрудник     0        253875   \n",
       "1   женат / замужем                 0      F   сотрудник     0        112080   \n",
       "2   женат / замужем                 0      M   сотрудник     0        145885   \n",
       "3   женат / замужем                 0      M   сотрудник     0        267628   \n",
       "4  гражданский брак                 1      F   пенсионер     0        158616   \n",
       "\n",
       "                      purpose education_lowercase purpose_category  \\\n",
       "0               покупка жилья              высшее     недвижимость   \n",
       "1     приобретение автомобиля             среднее       автомобиль   \n",
       "2               покупка жилья             среднее     недвижимость   \n",
       "3  дополнительное образование             среднее      образование   \n",
       "4             сыграть свадьбу             среднее          свадьба   \n",
       "\n",
       "          income_category family_status_category       children_category  \n",
       "0  богатые и сверхбогатые               семейные  семья с одним ребёнком  \n",
       "1           выше бедности               семейные  семья с одним ребёнком  \n",
       "2           выше бедности               семейные               детей нет  \n",
       "3  богатые и сверхбогатые               семейные       многодетная семья  \n",
       "4           средний класс               семейные               детей нет  "
      ]
     },
     "metadata": {},
     "output_type": "display_data"
    }
   ],
   "source": [
    "# создание категорий по наличию или отсутствию детей \n",
    "def create_category_children(children):\n",
    "    if children == 0:\n",
    "        return 'детей нет'\n",
    "    if children == 1:\n",
    "        return 'семья с одним ребёнком'\n",
    "    if children == 2:\n",
    "        return 'семья с двумя детьми'\n",
    "    return 'многодетная семья'\n",
    "credits['children_category'] = credits['children'].apply(create_category_children)\n",
    "display(credits.head())"
   ]
  },
  {
   "cell_type": "code",
   "execution_count": 28,
   "metadata": {},
   "outputs": [
    {
     "data": {
      "text/html": [
       "<div>\n",
       "<style scoped>\n",
       "    .dataframe tbody tr th:only-of-type {\n",
       "        vertical-align: middle;\n",
       "    }\n",
       "\n",
       "    .dataframe tbody tr th {\n",
       "        vertical-align: top;\n",
       "    }\n",
       "\n",
       "    .dataframe thead th {\n",
       "        text-align: right;\n",
       "    }\n",
       "</style>\n",
       "<table border=\"1\" class=\"dataframe\">\n",
       "  <thead>\n",
       "    <tr style=\"text-align: right;\">\n",
       "      <th></th>\n",
       "      <th>children</th>\n",
       "      <th>days_employed</th>\n",
       "      <th>dob_years</th>\n",
       "      <th>education</th>\n",
       "      <th>education_id</th>\n",
       "      <th>family_status</th>\n",
       "      <th>family_status_id</th>\n",
       "      <th>gender</th>\n",
       "      <th>income_type</th>\n",
       "      <th>debt</th>\n",
       "      <th>total_income</th>\n",
       "      <th>purpose</th>\n",
       "      <th>education_lowercase</th>\n",
       "      <th>purpose_category</th>\n",
       "      <th>income_category</th>\n",
       "      <th>family_status_category</th>\n",
       "      <th>children_category</th>\n",
       "      <th>debt_category</th>\n",
       "    </tr>\n",
       "  </thead>\n",
       "  <tbody>\n",
       "    <tr>\n",
       "      <td>0</td>\n",
       "      <td>1</td>\n",
       "      <td>8437.673028</td>\n",
       "      <td>42</td>\n",
       "      <td>высшее</td>\n",
       "      <td>0</td>\n",
       "      <td>женат / замужем</td>\n",
       "      <td>0</td>\n",
       "      <td>F</td>\n",
       "      <td>сотрудник</td>\n",
       "      <td>0</td>\n",
       "      <td>253875</td>\n",
       "      <td>покупка жилья</td>\n",
       "      <td>высшее</td>\n",
       "      <td>недвижимость</td>\n",
       "      <td>богатые и сверхбогатые</td>\n",
       "      <td>семейные</td>\n",
       "      <td>семья с одним ребёнком</td>\n",
       "      <td>не имел задолженность</td>\n",
       "    </tr>\n",
       "    <tr>\n",
       "      <td>1</td>\n",
       "      <td>1</td>\n",
       "      <td>4024.803754</td>\n",
       "      <td>36</td>\n",
       "      <td>среднее</td>\n",
       "      <td>1</td>\n",
       "      <td>женат / замужем</td>\n",
       "      <td>0</td>\n",
       "      <td>F</td>\n",
       "      <td>сотрудник</td>\n",
       "      <td>0</td>\n",
       "      <td>112080</td>\n",
       "      <td>приобретение автомобиля</td>\n",
       "      <td>среднее</td>\n",
       "      <td>автомобиль</td>\n",
       "      <td>выше бедности</td>\n",
       "      <td>семейные</td>\n",
       "      <td>семья с одним ребёнком</td>\n",
       "      <td>не имел задолженность</td>\n",
       "    </tr>\n",
       "    <tr>\n",
       "      <td>2</td>\n",
       "      <td>0</td>\n",
       "      <td>5623.422610</td>\n",
       "      <td>33</td>\n",
       "      <td>Среднее</td>\n",
       "      <td>1</td>\n",
       "      <td>женат / замужем</td>\n",
       "      <td>0</td>\n",
       "      <td>M</td>\n",
       "      <td>сотрудник</td>\n",
       "      <td>0</td>\n",
       "      <td>145885</td>\n",
       "      <td>покупка жилья</td>\n",
       "      <td>среднее</td>\n",
       "      <td>недвижимость</td>\n",
       "      <td>выше бедности</td>\n",
       "      <td>семейные</td>\n",
       "      <td>детей нет</td>\n",
       "      <td>не имел задолженность</td>\n",
       "    </tr>\n",
       "    <tr>\n",
       "      <td>3</td>\n",
       "      <td>3</td>\n",
       "      <td>4124.747207</td>\n",
       "      <td>32</td>\n",
       "      <td>среднее</td>\n",
       "      <td>1</td>\n",
       "      <td>женат / замужем</td>\n",
       "      <td>0</td>\n",
       "      <td>M</td>\n",
       "      <td>сотрудник</td>\n",
       "      <td>0</td>\n",
       "      <td>267628</td>\n",
       "      <td>дополнительное образование</td>\n",
       "      <td>среднее</td>\n",
       "      <td>образование</td>\n",
       "      <td>богатые и сверхбогатые</td>\n",
       "      <td>семейные</td>\n",
       "      <td>многодетная семья</td>\n",
       "      <td>не имел задолженность</td>\n",
       "    </tr>\n",
       "    <tr>\n",
       "      <td>4</td>\n",
       "      <td>0</td>\n",
       "      <td>340266.072047</td>\n",
       "      <td>53</td>\n",
       "      <td>среднее</td>\n",
       "      <td>1</td>\n",
       "      <td>гражданский брак</td>\n",
       "      <td>1</td>\n",
       "      <td>F</td>\n",
       "      <td>пенсионер</td>\n",
       "      <td>0</td>\n",
       "      <td>158616</td>\n",
       "      <td>сыграть свадьбу</td>\n",
       "      <td>среднее</td>\n",
       "      <td>свадьба</td>\n",
       "      <td>средний класс</td>\n",
       "      <td>семейные</td>\n",
       "      <td>детей нет</td>\n",
       "      <td>не имел задолженность</td>\n",
       "    </tr>\n",
       "    <tr>\n",
       "      <td>5</td>\n",
       "      <td>0</td>\n",
       "      <td>926.185831</td>\n",
       "      <td>27</td>\n",
       "      <td>высшее</td>\n",
       "      <td>0</td>\n",
       "      <td>гражданский брак</td>\n",
       "      <td>1</td>\n",
       "      <td>M</td>\n",
       "      <td>компаньон</td>\n",
       "      <td>0</td>\n",
       "      <td>255763</td>\n",
       "      <td>покупка жилья</td>\n",
       "      <td>высшее</td>\n",
       "      <td>недвижимость</td>\n",
       "      <td>богатые и сверхбогатые</td>\n",
       "      <td>семейные</td>\n",
       "      <td>детей нет</td>\n",
       "      <td>не имел задолженность</td>\n",
       "    </tr>\n",
       "    <tr>\n",
       "      <td>6</td>\n",
       "      <td>0</td>\n",
       "      <td>2879.202052</td>\n",
       "      <td>43</td>\n",
       "      <td>высшее</td>\n",
       "      <td>0</td>\n",
       "      <td>женат / замужем</td>\n",
       "      <td>0</td>\n",
       "      <td>F</td>\n",
       "      <td>компаньон</td>\n",
       "      <td>0</td>\n",
       "      <td>240525</td>\n",
       "      <td>операции с жильем</td>\n",
       "      <td>высшее</td>\n",
       "      <td>недвижимость</td>\n",
       "      <td>богатые и сверхбогатые</td>\n",
       "      <td>семейные</td>\n",
       "      <td>детей нет</td>\n",
       "      <td>не имел задолженность</td>\n",
       "    </tr>\n",
       "    <tr>\n",
       "      <td>7</td>\n",
       "      <td>0</td>\n",
       "      <td>152.779569</td>\n",
       "      <td>50</td>\n",
       "      <td>СРЕДНЕЕ</td>\n",
       "      <td>1</td>\n",
       "      <td>женат / замужем</td>\n",
       "      <td>0</td>\n",
       "      <td>M</td>\n",
       "      <td>сотрудник</td>\n",
       "      <td>0</td>\n",
       "      <td>135823</td>\n",
       "      <td>образование</td>\n",
       "      <td>среднее</td>\n",
       "      <td>образование</td>\n",
       "      <td>выше бедности</td>\n",
       "      <td>семейные</td>\n",
       "      <td>детей нет</td>\n",
       "      <td>не имел задолженность</td>\n",
       "    </tr>\n",
       "    <tr>\n",
       "      <td>8</td>\n",
       "      <td>2</td>\n",
       "      <td>6929.865299</td>\n",
       "      <td>35</td>\n",
       "      <td>ВЫСШЕЕ</td>\n",
       "      <td>0</td>\n",
       "      <td>гражданский брак</td>\n",
       "      <td>1</td>\n",
       "      <td>F</td>\n",
       "      <td>сотрудник</td>\n",
       "      <td>0</td>\n",
       "      <td>95856</td>\n",
       "      <td>на проведение свадьбы</td>\n",
       "      <td>высшее</td>\n",
       "      <td>свадьба</td>\n",
       "      <td>бедные</td>\n",
       "      <td>семейные</td>\n",
       "      <td>семья с двумя детьми</td>\n",
       "      <td>не имел задолженность</td>\n",
       "    </tr>\n",
       "    <tr>\n",
       "      <td>9</td>\n",
       "      <td>0</td>\n",
       "      <td>2188.756445</td>\n",
       "      <td>41</td>\n",
       "      <td>среднее</td>\n",
       "      <td>1</td>\n",
       "      <td>женат / замужем</td>\n",
       "      <td>0</td>\n",
       "      <td>M</td>\n",
       "      <td>сотрудник</td>\n",
       "      <td>0</td>\n",
       "      <td>144425</td>\n",
       "      <td>покупка жилья для семьи</td>\n",
       "      <td>среднее</td>\n",
       "      <td>недвижимость</td>\n",
       "      <td>выше бедности</td>\n",
       "      <td>семейные</td>\n",
       "      <td>детей нет</td>\n",
       "      <td>не имел задолженность</td>\n",
       "    </tr>\n",
       "  </tbody>\n",
       "</table>\n",
       "</div>"
      ],
      "text/plain": [
       "   children  days_employed  dob_years education  education_id  \\\n",
       "0         1    8437.673028         42    высшее             0   \n",
       "1         1    4024.803754         36   среднее             1   \n",
       "2         0    5623.422610         33   Среднее             1   \n",
       "3         3    4124.747207         32   среднее             1   \n",
       "4         0  340266.072047         53   среднее             1   \n",
       "5         0     926.185831         27    высшее             0   \n",
       "6         0    2879.202052         43    высшее             0   \n",
       "7         0     152.779569         50   СРЕДНЕЕ             1   \n",
       "8         2    6929.865299         35    ВЫСШЕЕ             0   \n",
       "9         0    2188.756445         41   среднее             1   \n",
       "\n",
       "      family_status  family_status_id gender income_type  debt  total_income  \\\n",
       "0   женат / замужем                 0      F   сотрудник     0        253875   \n",
       "1   женат / замужем                 0      F   сотрудник     0        112080   \n",
       "2   женат / замужем                 0      M   сотрудник     0        145885   \n",
       "3   женат / замужем                 0      M   сотрудник     0        267628   \n",
       "4  гражданский брак                 1      F   пенсионер     0        158616   \n",
       "5  гражданский брак                 1      M   компаньон     0        255763   \n",
       "6   женат / замужем                 0      F   компаньон     0        240525   \n",
       "7   женат / замужем                 0      M   сотрудник     0        135823   \n",
       "8  гражданский брак                 1      F   сотрудник     0         95856   \n",
       "9   женат / замужем                 0      M   сотрудник     0        144425   \n",
       "\n",
       "                      purpose education_lowercase purpose_category  \\\n",
       "0               покупка жилья              высшее     недвижимость   \n",
       "1     приобретение автомобиля             среднее       автомобиль   \n",
       "2               покупка жилья             среднее     недвижимость   \n",
       "3  дополнительное образование             среднее      образование   \n",
       "4             сыграть свадьбу             среднее          свадьба   \n",
       "5               покупка жилья              высшее     недвижимость   \n",
       "6           операции с жильем              высшее     недвижимость   \n",
       "7                 образование             среднее      образование   \n",
       "8       на проведение свадьбы              высшее          свадьба   \n",
       "9     покупка жилья для семьи             среднее     недвижимость   \n",
       "\n",
       "          income_category family_status_category       children_category  \\\n",
       "0  богатые и сверхбогатые               семейные  семья с одним ребёнком   \n",
       "1           выше бедности               семейные  семья с одним ребёнком   \n",
       "2           выше бедности               семейные               детей нет   \n",
       "3  богатые и сверхбогатые               семейные       многодетная семья   \n",
       "4           средний класс               семейные               детей нет   \n",
       "5  богатые и сверхбогатые               семейные               детей нет   \n",
       "6  богатые и сверхбогатые               семейные               детей нет   \n",
       "7           выше бедности               семейные               детей нет   \n",
       "8                  бедные               семейные    семья с двумя детьми   \n",
       "9           выше бедности               семейные               детей нет   \n",
       "\n",
       "           debt_category  \n",
       "0  не имел задолженность  \n",
       "1  не имел задолженность  \n",
       "2  не имел задолженность  \n",
       "3  не имел задолженность  \n",
       "4  не имел задолженность  \n",
       "5  не имел задолженность  \n",
       "6  не имел задолженность  \n",
       "7  не имел задолженность  \n",
       "8  не имел задолженность  \n",
       "9  не имел задолженность  "
      ]
     },
     "metadata": {},
     "output_type": "display_data"
    }
   ],
   "source": [
    "# создание категорий по наличию задолженности по возврату кредитов\n",
    "def create_category_debt(debt):\n",
    "    if debt != 0:\n",
    "        return 'имел задолженность'\n",
    "    return 'не имел задолженность'\n",
    "credits['debt_category'] = credits['debt'].apply(create_category_debt)\n",
    "display(credits.head(10))"
   ]
  },
  {
   "cell_type": "markdown",
   "metadata": {},
   "source": [
    "**Вывод**"
   ]
  },
  {
   "cell_type": "markdown",
   "metadata": {},
   "source": [
    "Для столбца с целями кредита выделили 4 категории: \n",
    "- автомобиль, \n",
    "- недвижимость,\n",
    "- образование, \n",
    "- свадьба.\n",
    "\n",
    "Для столбца \"Уровень дохода\" мы рассчитали квартили, по которым выделили 4 категории экономического состояния клиентов:\n",
    "- бедные (если уровень дохода меньше первого квартиля), \n",
    "- выше бедности (если уровень дохода меньше второго квартиля),\n",
    "- средний класс (если уровень дохода меньше третьего квартиля), \n",
    "- богатые и сверхбогатые для всех остальных случаев.\n",
    "\n",
    "Клиентов с разным семейным статусом объединили в две группы:\n",
    "- семейные (клиенты со статусом \"гражданский брак\" и \"женат/замужем\"),\n",
    "- одинокие (клиенты со статусом \"не женат/не замужем\", \"в разводе\", \"вдова/вдовец\").\n",
    "\n",
    "По наличию детей получилось 4 категории: \n",
    "- детей нет, \n",
    "- семья с одним ребёнком, \n",
    "- семья с двумя детьми, \n",
    "- многодетная семья.\n",
    "\n",
    "По наличию задолженности также получили две категории:\n",
    "- имел задолженность, \n",
    "- не имел задолженность."
   ]
  },
  {
   "cell_type": "markdown",
   "metadata": {},
   "source": [
    "## Ответы на вопросы"
   ]
  },
  {
   "cell_type": "markdown",
   "metadata": {},
   "source": [
    "- Есть ли зависимость между наличием детей и возвратом кредита в срок?"
   ]
  },
  {
   "cell_type": "code",
   "execution_count": 29,
   "metadata": {},
   "outputs": [
    {
     "data": {
      "text/html": [
       "<div>\n",
       "<style scoped>\n",
       "    .dataframe tbody tr th:only-of-type {\n",
       "        vertical-align: middle;\n",
       "    }\n",
       "\n",
       "    .dataframe tbody tr th {\n",
       "        vertical-align: top;\n",
       "    }\n",
       "\n",
       "    .dataframe thead th {\n",
       "        text-align: right;\n",
       "    }\n",
       "</style>\n",
       "<table border=\"1\" class=\"dataframe\">\n",
       "  <thead>\n",
       "    <tr style=\"text-align: right;\">\n",
       "      <th>children_category</th>\n",
       "      <th>детей нет</th>\n",
       "      <th>многодетная семья</th>\n",
       "      <th>семья с двумя детьми</th>\n",
       "      <th>семья с одним ребёнком</th>\n",
       "    </tr>\n",
       "    <tr>\n",
       "      <th>debt_category</th>\n",
       "      <th></th>\n",
       "      <th></th>\n",
       "      <th></th>\n",
       "      <th></th>\n",
       "    </tr>\n",
       "  </thead>\n",
       "  <tbody>\n",
       "    <tr>\n",
       "      <td>имел задолженность</td>\n",
       "      <td>1063</td>\n",
       "      <td>31</td>\n",
       "      <td>202</td>\n",
       "      <td>445</td>\n",
       "    </tr>\n",
       "    <tr>\n",
       "      <td>не имел задолженность</td>\n",
       "      <td>13086</td>\n",
       "      <td>349</td>\n",
       "      <td>1929</td>\n",
       "      <td>4420</td>\n",
       "    </tr>\n",
       "  </tbody>\n",
       "</table>\n",
       "</div>"
      ],
      "text/plain": [
       "children_category      детей нет  многодетная семья  семья с двумя детьми  \\\n",
       "debt_category                                                               \n",
       "имел задолженность          1063                 31                   202   \n",
       "не имел задолженность      13086                349                  1929   \n",
       "\n",
       "children_category      семья с одним ребёнком  \n",
       "debt_category                                  \n",
       "имел задолженность                        445  \n",
       "не имел задолженность                    4420  "
      ]
     },
     "metadata": {},
     "output_type": "display_data"
    }
   ],
   "source": [
    "# сводная таблица по наличию детей и задолженности по возврату кредита\n",
    "data_pivot_children = credits.pivot_table(\n",
    "    index = 'debt_category', \n",
    "    columns = 'children_category', \n",
    "    values = 'debt', \n",
    "    aggfunc = 'count')\n",
    "display(data_pivot_children.sort_values(by='debt_category', ascending=True))"
   ]
  },
  {
   "cell_type": "markdown",
   "metadata": {},
   "source": [
    "**Вывод**"
   ]
  },
  {
   "cell_type": "markdown",
   "metadata": {},
   "source": [
    "Если сравнивать клиентов с детьми и без детей, можно сделать такие выводы:\n",
    "- клиенты без детей чаще берут кредиты и чаще задерживают выплаты,\n",
    "- многодетные семьи стараются избежать кредитных зависимостей и крайне редко задерживают выплаты по имеющимся кредитам.\n",
    "\n",
    "Значит данные говорят, что зависимость между наличием детей и возвратом кредита в срок имеется - клиенты с детьми склонны не иметь задолженности в виде кредита и по выплате текущих кредитов тоже."
   ]
  },
  {
   "cell_type": "markdown",
   "metadata": {},
   "source": [
    "- Есть ли зависимость между семейным положением и возвратом кредита в срок?"
   ]
  },
  {
   "cell_type": "code",
   "execution_count": 30,
   "metadata": {},
   "outputs": [
    {
     "data": {
      "text/html": [
       "<div>\n",
       "<style scoped>\n",
       "    .dataframe tbody tr th:only-of-type {\n",
       "        vertical-align: middle;\n",
       "    }\n",
       "\n",
       "    .dataframe tbody tr th {\n",
       "        vertical-align: top;\n",
       "    }\n",
       "\n",
       "    .dataframe thead th {\n",
       "        text-align: right;\n",
       "    }\n",
       "</style>\n",
       "<table border=\"1\" class=\"dataframe\">\n",
       "  <thead>\n",
       "    <tr style=\"text-align: right;\">\n",
       "      <th>family_status_category</th>\n",
       "      <th>одинокие</th>\n",
       "      <th>семейные</th>\n",
       "    </tr>\n",
       "    <tr>\n",
       "      <th>debt_category</th>\n",
       "      <th></th>\n",
       "      <th></th>\n",
       "    </tr>\n",
       "  </thead>\n",
       "  <tbody>\n",
       "    <tr>\n",
       "      <td>имел задолженность</td>\n",
       "      <td>422</td>\n",
       "      <td>1319</td>\n",
       "    </tr>\n",
       "    <tr>\n",
       "      <td>не имел задолженность</td>\n",
       "      <td>4546</td>\n",
       "      <td>15238</td>\n",
       "    </tr>\n",
       "  </tbody>\n",
       "</table>\n",
       "</div>"
      ],
      "text/plain": [
       "family_status_category  одинокие  семейные\n",
       "debt_category                             \n",
       "имел задолженность           422      1319\n",
       "не имел задолженность       4546     15238"
      ]
     },
     "metadata": {},
     "output_type": "display_data"
    }
   ],
   "source": [
    "# сводная таблица по семейному положению и наличию задолженности по возврату кредита\n",
    "data_pivot_family = credits.pivot_table(\n",
    "    index = 'debt_category', \n",
    "    columns = 'family_status_category', \n",
    "    values = 'debt', \n",
    "    aggfunc = 'count')\n",
    "display(data_pivot_family.sort_values(by='debt_category', ascending=True))"
   ]
  },
  {
   "cell_type": "markdown",
   "metadata": {},
   "source": [
    "**Вывод**"
   ]
  },
  {
   "cell_type": "markdown",
   "metadata": {},
   "source": [
    "Данные показывают как семейное положение влияет на возврат кредита в срок:\n",
    "- одинокие клиенты реже берут кредиты, чем пары,\n",
    "- семейные пары чаще выплачивают кредиты в срок.\n",
    "\n",
    "Таким образом, получается, что среди должников меньше всего одиноких клиентов."
   ]
  },
  {
   "cell_type": "markdown",
   "metadata": {},
   "source": [
    "- Есть ли зависимость между уровнем дохода и возвратом кредита в срок?"
   ]
  },
  {
   "cell_type": "code",
   "execution_count": 31,
   "metadata": {},
   "outputs": [
    {
     "data": {
      "text/html": [
       "<div>\n",
       "<style scoped>\n",
       "    .dataframe tbody tr th:only-of-type {\n",
       "        vertical-align: middle;\n",
       "    }\n",
       "\n",
       "    .dataframe tbody tr th {\n",
       "        vertical-align: top;\n",
       "    }\n",
       "\n",
       "    .dataframe thead th {\n",
       "        text-align: right;\n",
       "    }\n",
       "</style>\n",
       "<table border=\"1\" class=\"dataframe\">\n",
       "  <thead>\n",
       "    <tr style=\"text-align: right;\">\n",
       "      <th>income_category</th>\n",
       "      <th>бедные</th>\n",
       "      <th>богатые и сверхбогатые</th>\n",
       "      <th>выше бедности</th>\n",
       "      <th>средний класс</th>\n",
       "    </tr>\n",
       "    <tr>\n",
       "      <th>debt_category</th>\n",
       "      <th></th>\n",
       "      <th></th>\n",
       "      <th></th>\n",
       "      <th></th>\n",
       "    </tr>\n",
       "  </thead>\n",
       "  <tbody>\n",
       "    <tr>\n",
       "      <td>имел задолженность</td>\n",
       "      <td>427</td>\n",
       "      <td>345</td>\n",
       "      <td>475</td>\n",
       "      <td>494</td>\n",
       "    </tr>\n",
       "    <tr>\n",
       "      <td>не имел задолженность</td>\n",
       "      <td>4955</td>\n",
       "      <td>4564</td>\n",
       "      <td>4906</td>\n",
       "      <td>5359</td>\n",
       "    </tr>\n",
       "  </tbody>\n",
       "</table>\n",
       "</div>"
      ],
      "text/plain": [
       "income_category        бедные  богатые и сверхбогатые  выше бедности  \\\n",
       "debt_category                                                          \n",
       "имел задолженность        427                     345            475   \n",
       "не имел задолженность    4955                    4564           4906   \n",
       "\n",
       "income_category        средний класс  \n",
       "debt_category                         \n",
       "имел задолженность               494  \n",
       "не имел задолженность           5359  "
      ]
     },
     "metadata": {},
     "output_type": "display_data"
    }
   ],
   "source": [
    "# сводная таблица по уровню дохода и наличию задолженности по возврату кредита\n",
    "data_pivot_income = credits.pivot_table(\n",
    "    index = 'debt_category', \n",
    "    columns = 'income_category', \n",
    "    values = 'debt', \n",
    "    aggfunc = 'count')\n",
    "display(data_pivot_income.sort_values(by='debt_category', ascending=True))"
   ]
  },
  {
   "cell_type": "markdown",
   "metadata": {},
   "source": [
    "**Вывод**"
   ]
  },
  {
   "cell_type": "markdown",
   "metadata": {},
   "source": [
    "Данные показывают, что кредиты берут клиенты с разным уровнем дохода, в т.ч. \"богатые и сверхбогатые\", но при этом клиенты из категории \"средний класс\" чаще задерживают выплаты по обязательствам перед банком."
   ]
  },
  {
   "cell_type": "markdown",
   "metadata": {},
   "source": [
    "- Как разные цели кредита влияют на его возврат в срок?"
   ]
  },
  {
   "cell_type": "code",
   "execution_count": 32,
   "metadata": {},
   "outputs": [
    {
     "data": {
      "text/html": [
       "<div>\n",
       "<style scoped>\n",
       "    .dataframe tbody tr th:only-of-type {\n",
       "        vertical-align: middle;\n",
       "    }\n",
       "\n",
       "    .dataframe tbody tr th {\n",
       "        vertical-align: top;\n",
       "    }\n",
       "\n",
       "    .dataframe thead th {\n",
       "        text-align: right;\n",
       "    }\n",
       "</style>\n",
       "<table border=\"1\" class=\"dataframe\">\n",
       "  <thead>\n",
       "    <tr style=\"text-align: right;\">\n",
       "      <th>purpose_category</th>\n",
       "      <th>автомобиль</th>\n",
       "      <th>недвижимость</th>\n",
       "      <th>образование</th>\n",
       "      <th>свадьба</th>\n",
       "    </tr>\n",
       "    <tr>\n",
       "      <th>debt_category</th>\n",
       "      <th></th>\n",
       "      <th></th>\n",
       "      <th></th>\n",
       "      <th></th>\n",
       "    </tr>\n",
       "  </thead>\n",
       "  <tbody>\n",
       "    <tr>\n",
       "      <td>имел задолженность</td>\n",
       "      <td>403</td>\n",
       "      <td>782</td>\n",
       "      <td>370</td>\n",
       "      <td>186</td>\n",
       "    </tr>\n",
       "    <tr>\n",
       "      <td>не имел задолженность</td>\n",
       "      <td>3912</td>\n",
       "      <td>10058</td>\n",
       "      <td>3652</td>\n",
       "      <td>2162</td>\n",
       "    </tr>\n",
       "  </tbody>\n",
       "</table>\n",
       "</div>"
      ],
      "text/plain": [
       "purpose_category       автомобиль  недвижимость  образование  свадьба\n",
       "debt_category                                                        \n",
       "имел задолженность            403           782          370      186\n",
       "не имел задолженность        3912         10058         3652     2162"
      ]
     },
     "metadata": {},
     "output_type": "display_data"
    }
   ],
   "source": [
    "# сводная таблица по целям кредита и наличию задолженности по возврату кредита\n",
    "data_pivot_purpose = credits.pivot_table(\n",
    "    index = 'debt_category', \n",
    "    columns = 'purpose_category', \n",
    "    values = 'debt', \n",
    "    aggfunc = 'count')\n",
    "display(data_pivot_purpose.sort_values(by='debt_category', ascending=True))"
   ]
  },
  {
   "cell_type": "markdown",
   "metadata": {},
   "source": [
    "**Вывод**"
   ]
  },
  {
   "cell_type": "markdown",
   "metadata": {},
   "source": [
    "Если сравнивать разные цели кредитов, можно сделать такие выводы:\n",
    "1. Кредиты на недвижимость берут чаще, чем для других целей, но и задерживают выплаты по таким кредитам чаще, чем по остальным, \n",
    "2. Меньше всего кредиты берут для проведения свадеб и при этом стараются вернуть в срок.\n",
    "\n",
    "Таким образом, получается, что для приобретения материальных ценностей (автомобили и недвижимость) кредиты берут чаще, но выплачивают без задержек кредиты, нацеленные на нематериальные потребности (образование и свадьбы)."
   ]
  },
  {
   "cell_type": "markdown",
   "metadata": {},
   "source": [
    "## Итоги исследования"
   ]
  },
  {
   "cell_type": "markdown",
   "metadata": {},
   "source": [
    "Данные статистики о платёжеспособности клиентов мы получили от кредитного отдела банка. Поскольку о качестве данных ничего не было известно, мы провели обзор данных, чтобы выделить явные неточности.\n",
    "\n",
    "Мы проверили данные на ошибки и оценили их влияние на исследование. Предобработка обнаружила 5 проблем в данных:\n",
    "1. пропуски значений,\n",
    "2. некорректный тип данных,\n",
    "3. аномальные значения, которые не отражают действительность,\n",
    "4. опечатки, вызванные человеческим фактором,\n",
    "5. неявные дубликаты.\n",
    "\n",
    "Самые критичные ошибки данных мы исправили:\n",
    "* заполнили пропущенные значения в столбце \"Ежемесячный доход\" медианным значением для каждого типа занятости клиента, чтобы точнее разделить клиентов на категории и уровню дохода;\n",
    "* поменяли тип данных с вещественного на целочисленный для столбца \"Ежемесячный доход\"; \n",
    "* заменили опечатки на наиболее подходящие значения для каждого случая в столбце \"Количество детей в семье\" для более точного исследования;\n",
    "* удалили неявные дубликаты в столбце \"Уровень образования\".\n",
    "\n",
    "Таким образом, исследование проводили в три этапа:\n",
    " 1. Обзор данных.\n",
    " 2. Предобработка данных.\n",
    " 3. Ответы на вопросы.\n",
    "\n",
    "По результатам исследования статистики о платёжеспособности клиентов банка мы установили, что:\n",
    "* при наличии детей клиенты стремятся не влезать в долги и вовремя возвращать заемные средства,\n",
    "* потребности клиентов, имеющих семью, растут и им чаще приходится прибегать к помощи банка, чем одиноким людям,\n",
    "* кредитными средствами пользуются клиенты с разным уровнем доходов - от бедных до богатых,\n",
    "* для решения жилищных вопросов чаще всего не обойтись без кредита.\n",
    "\n",
    "Подведём итоги нашей работы - несколько рекомендаций для кредитного отдела банка:\n",
    "* Обратить внимание на сбор данных о клиентах, потому что при наличии ошибок во входных данных даже правильный алгоритм работы может привести к неверным результатам. Например, большинство пропущенных значений в столбце \"Ежемесячный доход\" были среди сотрудников банка. Аномальные данные в столбце \"Общий трудовой стаж в днях\" невозможно скорректировать. Для исследования с другими целями, в котором бы учитывался стаж клиента, не удалось бы использовать такие данные.\n",
    "* Сделать акцент на получение подтверждающих документов о доходах клиентов. Возможно некоторые из клиентов вовсе не имеют постоянного дохода и могут задерживать выплаты по кредиту. "
   ]
  }
 ],
 "metadata": {
  "ExecuteTimeLog": [
   {
    "duration": 833,
    "start_time": "2021-12-21T15:41:39.578Z"
   },
   {
    "duration": 82,
    "start_time": "2021-12-21T15:41:51.267Z"
   },
   {
    "duration": 108,
    "start_time": "2021-12-21T15:45:28.329Z"
   },
   {
    "duration": 129,
    "start_time": "2021-12-21T15:45:48.112Z"
   },
   {
    "duration": 87,
    "start_time": "2021-12-21T15:46:07.432Z"
   },
   {
    "duration": 107,
    "start_time": "2021-12-21T15:52:19.282Z"
   },
   {
    "duration": 12,
    "start_time": "2021-12-21T15:54:32.846Z"
   },
   {
    "duration": 9,
    "start_time": "2021-12-21T15:56:30.037Z"
   },
   {
    "duration": 7,
    "start_time": "2021-12-21T15:58:18.699Z"
   },
   {
    "duration": 6,
    "start_time": "2021-12-21T15:58:41.555Z"
   },
   {
    "duration": 6,
    "start_time": "2021-12-21T16:01:02.960Z"
   },
   {
    "duration": 122,
    "start_time": "2021-12-21T16:01:16.960Z"
   },
   {
    "duration": 7,
    "start_time": "2021-12-21T16:01:41.054Z"
   },
   {
    "duration": 10,
    "start_time": "2021-12-21T16:10:49.262Z"
   },
   {
    "duration": 5,
    "start_time": "2021-12-21T16:43:10.531Z"
   },
   {
    "duration": 4,
    "start_time": "2021-12-21T16:43:32.596Z"
   },
   {
    "duration": 17,
    "start_time": "2021-12-21T16:43:48.867Z"
   },
   {
    "duration": 21,
    "start_time": "2021-12-21T16:44:05.603Z"
   },
   {
    "duration": 11,
    "start_time": "2021-12-21T16:56:14.879Z"
   },
   {
    "duration": 135,
    "start_time": "2021-12-21T17:00:28.738Z"
   },
   {
    "duration": 88,
    "start_time": "2021-12-21T17:22:19.189Z"
   },
   {
    "duration": 373,
    "start_time": "2021-12-21T17:36:21.867Z"
   },
   {
    "duration": 28,
    "start_time": "2021-12-21T17:36:42.917Z"
   },
   {
    "duration": 827,
    "start_time": "2021-12-21T17:37:01.899Z"
   },
   {
    "duration": 19,
    "start_time": "2021-12-21T17:37:02.729Z"
   },
   {
    "duration": 592,
    "start_time": "2021-12-21T20:35:45.958Z"
   },
   {
    "duration": 871,
    "start_time": "2021-12-21T20:40:03.755Z"
   },
   {
    "duration": 9,
    "start_time": "2021-12-21T20:40:04.628Z"
   },
   {
    "duration": 7,
    "start_time": "2021-12-21T20:40:48.793Z"
   },
   {
    "duration": 6,
    "start_time": "2021-12-21T20:45:57.660Z"
   },
   {
    "duration": 316,
    "start_time": "2021-12-21T20:46:25.532Z"
   },
   {
    "duration": 5,
    "start_time": "2021-12-21T20:46:32.372Z"
   },
   {
    "duration": 304,
    "start_time": "2021-12-22T06:06:57.990Z"
   },
   {
    "duration": 641,
    "start_time": "2021-12-22T06:07:17.534Z"
   },
   {
    "duration": 3,
    "start_time": "2021-12-22T06:07:21.669Z"
   },
   {
    "duration": 5,
    "start_time": "2021-12-22T06:07:45.012Z"
   },
   {
    "duration": 5,
    "start_time": "2021-12-22T06:12:12.865Z"
   },
   {
    "duration": 8,
    "start_time": "2021-12-22T06:23:03.691Z"
   },
   {
    "duration": 13,
    "start_time": "2021-12-22T06:23:14.460Z"
   },
   {
    "duration": 60,
    "start_time": "2021-12-22T06:54:36.698Z"
   },
   {
    "duration": 13,
    "start_time": "2021-12-22T06:54:39.700Z"
   },
   {
    "duration": 14,
    "start_time": "2021-12-22T06:55:26.683Z"
   },
   {
    "duration": 4,
    "start_time": "2021-12-22T06:55:35.268Z"
   },
   {
    "duration": 711,
    "start_time": "2021-12-22T07:18:40.129Z"
   },
   {
    "duration": 11,
    "start_time": "2021-12-22T07:18:40.842Z"
   },
   {
    "duration": 15,
    "start_time": "2021-12-22T07:18:40.855Z"
   },
   {
    "duration": 22,
    "start_time": "2021-12-22T07:18:40.872Z"
   },
   {
    "duration": 24,
    "start_time": "2021-12-22T07:20:27.429Z"
   },
   {
    "duration": 15,
    "start_time": "2021-12-22T07:24:06.082Z"
   },
   {
    "duration": 12,
    "start_time": "2021-12-22T07:26:20.704Z"
   },
   {
    "duration": 18,
    "start_time": "2021-12-22T07:28:11.742Z"
   },
   {
    "duration": 15,
    "start_time": "2021-12-22T07:28:32.822Z"
   },
   {
    "duration": 21,
    "start_time": "2021-12-22T07:33:28.023Z"
   },
   {
    "duration": 18,
    "start_time": "2021-12-22T07:41:49.408Z"
   },
   {
    "duration": 15,
    "start_time": "2021-12-22T07:42:13.144Z"
   },
   {
    "duration": 359,
    "start_time": "2021-12-22T08:37:23.830Z"
   },
   {
    "duration": 61,
    "start_time": "2021-12-22T08:37:40.855Z"
   },
   {
    "duration": 12,
    "start_time": "2021-12-22T08:37:44.240Z"
   },
   {
    "duration": 13,
    "start_time": "2021-12-22T08:37:44.873Z"
   },
   {
    "duration": 11,
    "start_time": "2021-12-22T08:37:48.984Z"
   },
   {
    "duration": 15,
    "start_time": "2021-12-22T08:37:51.505Z"
   },
   {
    "duration": 267,
    "start_time": "2021-12-22T08:37:54.648Z"
   },
   {
    "duration": 9,
    "start_time": "2021-12-22T08:38:03.701Z"
   },
   {
    "duration": 1058,
    "start_time": "2021-12-22T08:38:30.004Z"
   },
   {
    "duration": 16,
    "start_time": "2021-12-22T08:38:49.724Z"
   },
   {
    "duration": 9,
    "start_time": "2021-12-22T08:38:58.652Z"
   },
   {
    "duration": 269,
    "start_time": "2021-12-22T08:43:03.943Z"
   },
   {
    "duration": 9,
    "start_time": "2021-12-22T08:43:17.855Z"
   },
   {
    "duration": 10,
    "start_time": "2021-12-22T08:51:41.472Z"
   },
   {
    "duration": 746,
    "start_time": "2021-12-22T08:51:47.158Z"
   },
   {
    "duration": 14,
    "start_time": "2021-12-22T08:51:47.906Z"
   },
   {
    "duration": 27,
    "start_time": "2021-12-22T08:51:47.922Z"
   },
   {
    "duration": 27,
    "start_time": "2021-12-22T08:51:47.951Z"
   },
   {
    "duration": 22,
    "start_time": "2021-12-22T08:51:47.980Z"
   },
   {
    "duration": 18,
    "start_time": "2021-12-22T08:51:48.003Z"
   },
   {
    "duration": 64,
    "start_time": "2021-12-22T10:38:48.586Z"
   },
   {
    "duration": 12,
    "start_time": "2021-12-22T10:38:50.626Z"
   },
   {
    "duration": 13,
    "start_time": "2021-12-22T10:38:51.683Z"
   },
   {
    "duration": 10,
    "start_time": "2021-12-22T10:38:54.459Z"
   },
   {
    "duration": 16,
    "start_time": "2021-12-22T10:38:56.971Z"
   },
   {
    "duration": 10,
    "start_time": "2021-12-22T10:40:01.771Z"
   },
   {
    "duration": 1345,
    "start_time": "2021-12-22T10:51:18.941Z"
   },
   {
    "duration": 7,
    "start_time": "2021-12-22T10:51:50.493Z"
   },
   {
    "duration": 63,
    "start_time": "2021-12-22T10:52:06.935Z"
   },
   {
    "duration": 12,
    "start_time": "2021-12-22T10:52:09.061Z"
   },
   {
    "duration": 693,
    "start_time": "2021-12-22T10:52:12.729Z"
   },
   {
    "duration": 11,
    "start_time": "2021-12-22T10:52:13.424Z"
   },
   {
    "duration": 15,
    "start_time": "2021-12-22T10:52:13.440Z"
   },
   {
    "duration": 9,
    "start_time": "2021-12-22T10:52:13.457Z"
   },
   {
    "duration": 19,
    "start_time": "2021-12-22T10:52:13.468Z"
   },
   {
    "duration": 16,
    "start_time": "2021-12-22T10:52:13.490Z"
   },
   {
    "duration": 7,
    "start_time": "2021-12-22T10:52:13.508Z"
   },
   {
    "duration": 9,
    "start_time": "2021-12-22T10:52:38.147Z"
   },
   {
    "duration": 20,
    "start_time": "2021-12-22T11:16:57.944Z"
   },
   {
    "duration": 20,
    "start_time": "2021-12-22T11:18:06.440Z"
   },
   {
    "duration": 622,
    "start_time": "2021-12-22T11:18:28.785Z"
   },
   {
    "duration": 10,
    "start_time": "2021-12-22T11:18:29.409Z"
   },
   {
    "duration": 18,
    "start_time": "2021-12-22T11:18:29.424Z"
   },
   {
    "duration": 9,
    "start_time": "2021-12-22T11:18:29.444Z"
   },
   {
    "duration": 17,
    "start_time": "2021-12-22T11:18:29.455Z"
   },
   {
    "duration": 8,
    "start_time": "2021-12-22T11:18:29.474Z"
   },
   {
    "duration": 6,
    "start_time": "2021-12-22T11:18:29.483Z"
   },
   {
    "duration": 22,
    "start_time": "2021-12-22T11:18:29.491Z"
   },
   {
    "duration": 20,
    "start_time": "2021-12-22T11:19:08.652Z"
   },
   {
    "duration": 6,
    "start_time": "2021-12-22T11:19:44.915Z"
   },
   {
    "duration": 3673,
    "start_time": "2021-12-22T11:20:00.929Z"
   },
   {
    "duration": 5428,
    "start_time": "2021-12-22T11:20:17.034Z"
   },
   {
    "duration": 18,
    "start_time": "2021-12-22T11:21:21.688Z"
   },
   {
    "duration": 7,
    "start_time": "2021-12-22T11:21:45.633Z"
   },
   {
    "duration": 26,
    "start_time": "2021-12-22T11:23:49.263Z"
   },
   {
    "duration": 38,
    "start_time": "2021-12-22T11:32:37.445Z"
   },
   {
    "duration": 345,
    "start_time": "2021-12-22T11:35:36.098Z"
   },
   {
    "duration": 34,
    "start_time": "2021-12-22T11:36:01.609Z"
   },
   {
    "duration": 33,
    "start_time": "2021-12-22T11:37:09.648Z"
   },
   {
    "duration": 54,
    "start_time": "2021-12-22T11:37:39.112Z"
   },
   {
    "duration": 2,
    "start_time": "2021-12-22T11:37:57.544Z"
   },
   {
    "duration": 646,
    "start_time": "2021-12-22T15:38:33.782Z"
   },
   {
    "duration": 13,
    "start_time": "2021-12-22T15:38:34.429Z"
   },
   {
    "duration": 15,
    "start_time": "2021-12-22T15:38:34.444Z"
   },
   {
    "duration": 12,
    "start_time": "2021-12-22T15:38:34.462Z"
   },
   {
    "duration": 16,
    "start_time": "2021-12-22T15:38:34.476Z"
   },
   {
    "duration": 8,
    "start_time": "2021-12-22T15:38:34.495Z"
   },
   {
    "duration": 39,
    "start_time": "2021-12-22T15:38:34.505Z"
   },
   {
    "duration": 16,
    "start_time": "2021-12-22T15:38:34.545Z"
   },
   {
    "duration": 63,
    "start_time": "2021-12-22T15:39:26.563Z"
   },
   {
    "duration": 63,
    "start_time": "2021-12-22T15:39:37.082Z"
   },
   {
    "duration": 4,
    "start_time": "2021-12-22T15:41:17.552Z"
   },
   {
    "duration": 14,
    "start_time": "2021-12-22T15:41:59.568Z"
   },
   {
    "duration": 628,
    "start_time": "2021-12-22T15:42:49.057Z"
   },
   {
    "duration": 10,
    "start_time": "2021-12-22T15:42:49.687Z"
   },
   {
    "duration": 12,
    "start_time": "2021-12-22T15:42:49.700Z"
   },
   {
    "duration": 12,
    "start_time": "2021-12-22T15:42:49.714Z"
   },
   {
    "duration": 14,
    "start_time": "2021-12-22T15:42:49.741Z"
   },
   {
    "duration": 7,
    "start_time": "2021-12-22T15:42:49.757Z"
   },
   {
    "duration": 6,
    "start_time": "2021-12-22T15:42:49.766Z"
   },
   {
    "duration": 16,
    "start_time": "2021-12-22T15:42:49.773Z"
   },
   {
    "duration": 6,
    "start_time": "2021-12-22T15:46:23.798Z"
   },
   {
    "duration": 17,
    "start_time": "2021-12-22T15:49:49.643Z"
   },
   {
    "duration": 17,
    "start_time": "2021-12-22T15:50:06.682Z"
   },
   {
    "duration": 321,
    "start_time": "2021-12-22T15:51:15.457Z"
   },
   {
    "duration": 6,
    "start_time": "2021-12-22T15:51:30.561Z"
   },
   {
    "duration": 273,
    "start_time": "2021-12-22T15:51:50.584Z"
   },
   {
    "duration": 256,
    "start_time": "2021-12-22T15:55:41.189Z"
   },
   {
    "duration": 7893,
    "start_time": "2021-12-22T15:55:53.157Z"
   },
   {
    "duration": 6,
    "start_time": "2021-12-22T15:56:12.924Z"
   },
   {
    "duration": 3453,
    "start_time": "2021-12-22T15:56:59.107Z"
   },
   {
    "duration": 3650,
    "start_time": "2021-12-22T15:58:38.138Z"
   },
   {
    "duration": 714,
    "start_time": "2021-12-22T15:59:05.894Z"
   },
   {
    "duration": 10,
    "start_time": "2021-12-22T15:59:06.610Z"
   },
   {
    "duration": 28,
    "start_time": "2021-12-22T15:59:06.624Z"
   },
   {
    "duration": 24,
    "start_time": "2021-12-22T15:59:06.654Z"
   },
   {
    "duration": 41,
    "start_time": "2021-12-22T15:59:06.680Z"
   },
   {
    "duration": 13,
    "start_time": "2021-12-22T15:59:06.723Z"
   },
   {
    "duration": 35,
    "start_time": "2021-12-22T15:59:06.739Z"
   },
   {
    "duration": 24,
    "start_time": "2021-12-22T15:59:06.777Z"
   },
   {
    "duration": 12,
    "start_time": "2021-12-22T17:24:24.890Z"
   },
   {
    "duration": 17,
    "start_time": "2021-12-22T17:24:57.106Z"
   },
   {
    "duration": 14,
    "start_time": "2021-12-22T17:29:22.100Z"
   },
   {
    "duration": 8,
    "start_time": "2021-12-22T17:29:32.836Z"
   },
   {
    "duration": 16,
    "start_time": "2021-12-22T17:31:53.930Z"
   },
   {
    "duration": 7,
    "start_time": "2021-12-22T17:35:16.088Z"
   },
   {
    "duration": 20,
    "start_time": "2021-12-22T17:37:27.044Z"
   },
   {
    "duration": 20,
    "start_time": "2021-12-22T17:38:11.957Z"
   },
   {
    "duration": 21,
    "start_time": "2021-12-22T17:38:32.444Z"
   },
   {
    "duration": 19,
    "start_time": "2021-12-22T17:39:15.098Z"
   },
   {
    "duration": 669,
    "start_time": "2021-12-22T17:39:28.218Z"
   },
   {
    "duration": 12,
    "start_time": "2021-12-22T17:39:28.889Z"
   },
   {
    "duration": 13,
    "start_time": "2021-12-22T17:39:28.903Z"
   },
   {
    "duration": 26,
    "start_time": "2021-12-22T17:39:28.918Z"
   },
   {
    "duration": 13,
    "start_time": "2021-12-22T17:39:28.945Z"
   },
   {
    "duration": 6,
    "start_time": "2021-12-22T17:39:28.960Z"
   },
   {
    "duration": 6,
    "start_time": "2021-12-22T17:39:28.967Z"
   },
   {
    "duration": 18,
    "start_time": "2021-12-22T17:39:28.975Z"
   },
   {
    "duration": 23,
    "start_time": "2021-12-22T17:39:45.129Z"
   },
   {
    "duration": 636,
    "start_time": "2021-12-22T17:39:51.853Z"
   },
   {
    "duration": 9,
    "start_time": "2021-12-22T17:39:52.491Z"
   },
   {
    "duration": 21,
    "start_time": "2021-12-22T17:39:52.502Z"
   },
   {
    "duration": 8,
    "start_time": "2021-12-22T17:39:52.525Z"
   },
   {
    "duration": 16,
    "start_time": "2021-12-22T17:39:52.535Z"
   },
   {
    "duration": 9,
    "start_time": "2021-12-22T17:39:52.552Z"
   },
   {
    "duration": 9,
    "start_time": "2021-12-22T17:39:52.563Z"
   },
   {
    "duration": 23,
    "start_time": "2021-12-22T17:39:52.574Z"
   },
   {
    "duration": 19,
    "start_time": "2021-12-22T17:40:25.946Z"
   },
   {
    "duration": 11,
    "start_time": "2021-12-22T17:40:43.816Z"
   },
   {
    "duration": 637,
    "start_time": "2021-12-22T17:40:49.646Z"
   },
   {
    "duration": 11,
    "start_time": "2021-12-22T17:40:50.285Z"
   },
   {
    "duration": 16,
    "start_time": "2021-12-22T17:40:50.298Z"
   },
   {
    "duration": 10,
    "start_time": "2021-12-22T17:40:50.316Z"
   },
   {
    "duration": 13,
    "start_time": "2021-12-22T17:40:50.341Z"
   },
   {
    "duration": 6,
    "start_time": "2021-12-22T17:40:50.356Z"
   },
   {
    "duration": 9,
    "start_time": "2021-12-22T17:40:50.363Z"
   },
   {
    "duration": 15,
    "start_time": "2021-12-22T17:40:50.373Z"
   },
   {
    "duration": 13,
    "start_time": "2021-12-22T17:41:13.456Z"
   },
   {
    "duration": 14,
    "start_time": "2021-12-22T17:42:27.326Z"
   },
   {
    "duration": 12,
    "start_time": "2021-12-22T17:44:36.021Z"
   },
   {
    "duration": 647,
    "start_time": "2021-12-22T17:44:44.312Z"
   },
   {
    "duration": 9,
    "start_time": "2021-12-22T17:44:44.961Z"
   },
   {
    "duration": 12,
    "start_time": "2021-12-22T17:44:44.972Z"
   },
   {
    "duration": 13,
    "start_time": "2021-12-22T17:44:44.985Z"
   },
   {
    "duration": 18,
    "start_time": "2021-12-22T17:44:45.000Z"
   },
   {
    "duration": 6,
    "start_time": "2021-12-22T17:44:45.019Z"
   },
   {
    "duration": 26,
    "start_time": "2021-12-22T17:44:45.026Z"
   },
   {
    "duration": 16,
    "start_time": "2021-12-22T17:44:45.054Z"
   },
   {
    "duration": 13,
    "start_time": "2021-12-22T17:45:05.072Z"
   },
   {
    "duration": 596,
    "start_time": "2021-12-22T17:45:10.470Z"
   },
   {
    "duration": 9,
    "start_time": "2021-12-22T17:45:11.068Z"
   },
   {
    "duration": 13,
    "start_time": "2021-12-22T17:45:11.079Z"
   },
   {
    "duration": 20,
    "start_time": "2021-12-22T17:45:11.094Z"
   },
   {
    "duration": 17,
    "start_time": "2021-12-22T17:45:11.115Z"
   },
   {
    "duration": 10,
    "start_time": "2021-12-22T17:45:11.133Z"
   },
   {
    "duration": 6,
    "start_time": "2021-12-22T17:45:11.144Z"
   },
   {
    "duration": 12,
    "start_time": "2021-12-22T17:45:11.152Z"
   },
   {
    "duration": 7,
    "start_time": "2021-12-22T17:45:28.024Z"
   },
   {
    "duration": 663,
    "start_time": "2021-12-22T17:50:39.725Z"
   },
   {
    "duration": 11,
    "start_time": "2021-12-22T17:50:40.390Z"
   },
   {
    "duration": 16,
    "start_time": "2021-12-22T17:50:40.405Z"
   },
   {
    "duration": 22,
    "start_time": "2021-12-22T17:50:40.422Z"
   },
   {
    "duration": 13,
    "start_time": "2021-12-22T17:50:40.446Z"
   },
   {
    "duration": 7,
    "start_time": "2021-12-22T17:50:40.461Z"
   },
   {
    "duration": 9,
    "start_time": "2021-12-22T17:50:40.470Z"
   },
   {
    "duration": 12,
    "start_time": "2021-12-22T17:50:40.481Z"
   },
   {
    "duration": 7,
    "start_time": "2021-12-22T17:54:05.435Z"
   },
   {
    "duration": 7,
    "start_time": "2021-12-22T17:54:24.170Z"
   },
   {
    "duration": 677,
    "start_time": "2021-12-22T17:54:33.334Z"
   },
   {
    "duration": 10,
    "start_time": "2021-12-22T17:54:34.013Z"
   },
   {
    "duration": 26,
    "start_time": "2021-12-22T17:54:34.025Z"
   },
   {
    "duration": 21,
    "start_time": "2021-12-22T17:54:34.052Z"
   },
   {
    "duration": 29,
    "start_time": "2021-12-22T17:54:34.075Z"
   },
   {
    "duration": 21,
    "start_time": "2021-12-22T17:54:34.105Z"
   },
   {
    "duration": 21,
    "start_time": "2021-12-22T17:54:34.128Z"
   },
   {
    "duration": 35,
    "start_time": "2021-12-22T17:54:34.151Z"
   },
   {
    "duration": 7,
    "start_time": "2021-12-22T17:54:48.403Z"
   },
   {
    "duration": 14,
    "start_time": "2021-12-22T17:55:13.562Z"
   },
   {
    "duration": 16,
    "start_time": "2021-12-22T17:55:22.723Z"
   },
   {
    "duration": 646,
    "start_time": "2021-12-22T17:55:36.406Z"
   },
   {
    "duration": 10,
    "start_time": "2021-12-22T17:55:37.053Z"
   },
   {
    "duration": 34,
    "start_time": "2021-12-22T17:55:37.065Z"
   },
   {
    "duration": 12,
    "start_time": "2021-12-22T17:55:37.101Z"
   },
   {
    "duration": 31,
    "start_time": "2021-12-22T17:55:37.114Z"
   },
   {
    "duration": 6,
    "start_time": "2021-12-22T17:55:37.147Z"
   },
   {
    "duration": 34,
    "start_time": "2021-12-22T17:55:37.155Z"
   },
   {
    "duration": 37,
    "start_time": "2021-12-22T17:55:37.191Z"
   },
   {
    "duration": 8,
    "start_time": "2021-12-22T17:57:30.444Z"
   },
   {
    "duration": 466,
    "start_time": "2021-12-23T09:08:18.982Z"
   },
   {
    "duration": 399,
    "start_time": "2021-12-23T09:08:32.604Z"
   },
   {
    "duration": 859,
    "start_time": "2021-12-23T09:08:39.985Z"
   },
   {
    "duration": 15,
    "start_time": "2021-12-23T09:08:40.847Z"
   },
   {
    "duration": 20,
    "start_time": "2021-12-23T09:08:40.868Z"
   },
   {
    "duration": 12,
    "start_time": "2021-12-23T09:08:40.891Z"
   },
   {
    "duration": 61,
    "start_time": "2021-12-23T09:08:40.906Z"
   },
   {
    "duration": 10,
    "start_time": "2021-12-23T09:08:40.969Z"
   },
   {
    "duration": 10,
    "start_time": "2021-12-23T09:08:40.981Z"
   },
   {
    "duration": 11,
    "start_time": "2021-12-23T09:08:40.994Z"
   },
   {
    "duration": 19,
    "start_time": "2021-12-23T09:09:28.500Z"
   },
   {
    "duration": 17,
    "start_time": "2021-12-23T09:09:40.405Z"
   },
   {
    "duration": 16,
    "start_time": "2021-12-23T09:10:53.733Z"
   },
   {
    "duration": 512,
    "start_time": "2021-12-23T09:13:09.774Z"
   },
   {
    "duration": 3084,
    "start_time": "2021-12-23T09:13:18.353Z"
   },
   {
    "duration": 16,
    "start_time": "2021-12-23T09:13:46.265Z"
   },
   {
    "duration": 15,
    "start_time": "2021-12-23T09:15:36.727Z"
   },
   {
    "duration": 1324,
    "start_time": "2021-12-23T09:16:32.646Z"
   },
   {
    "duration": 21,
    "start_time": "2021-12-23T09:16:33.973Z"
   },
   {
    "duration": 25,
    "start_time": "2021-12-23T09:16:33.996Z"
   },
   {
    "duration": 43,
    "start_time": "2021-12-23T09:16:34.024Z"
   },
   {
    "duration": 29,
    "start_time": "2021-12-23T09:16:34.070Z"
   },
   {
    "duration": 12,
    "start_time": "2021-12-23T09:16:34.102Z"
   },
   {
    "duration": 48,
    "start_time": "2021-12-23T09:16:34.117Z"
   },
   {
    "duration": 22,
    "start_time": "2021-12-23T09:16:34.169Z"
   },
   {
    "duration": 19,
    "start_time": "2021-12-23T09:19:12.505Z"
   },
   {
    "duration": 13,
    "start_time": "2021-12-23T09:19:35.057Z"
   },
   {
    "duration": 1069,
    "start_time": "2021-12-23T09:19:40.857Z"
   },
   {
    "duration": 16,
    "start_time": "2021-12-23T09:19:41.929Z"
   },
   {
    "duration": 33,
    "start_time": "2021-12-23T09:19:41.948Z"
   },
   {
    "duration": 12,
    "start_time": "2021-12-23T09:19:41.984Z"
   },
   {
    "duration": 22,
    "start_time": "2021-12-23T09:19:41.999Z"
   },
   {
    "duration": 11,
    "start_time": "2021-12-23T09:19:42.060Z"
   },
   {
    "duration": 10,
    "start_time": "2021-12-23T09:19:42.073Z"
   },
   {
    "duration": 10,
    "start_time": "2021-12-23T09:19:42.086Z"
   },
   {
    "duration": 19,
    "start_time": "2021-12-23T09:20:22.439Z"
   },
   {
    "duration": 19,
    "start_time": "2021-12-23T09:21:09.341Z"
   },
   {
    "duration": 20,
    "start_time": "2021-12-23T09:40:36.782Z"
   },
   {
    "duration": 860,
    "start_time": "2021-12-23T09:41:26.658Z"
   },
   {
    "duration": 13,
    "start_time": "2021-12-23T09:41:27.521Z"
   },
   {
    "duration": 35,
    "start_time": "2021-12-23T09:41:27.541Z"
   },
   {
    "duration": 12,
    "start_time": "2021-12-23T09:41:27.579Z"
   },
   {
    "duration": 22,
    "start_time": "2021-12-23T09:41:27.593Z"
   },
   {
    "duration": 46,
    "start_time": "2021-12-23T09:41:27.618Z"
   },
   {
    "duration": 9,
    "start_time": "2021-12-23T09:41:27.667Z"
   },
   {
    "duration": 19,
    "start_time": "2021-12-23T09:41:27.678Z"
   },
   {
    "duration": 26,
    "start_time": "2021-12-23T09:42:56.215Z"
   },
   {
    "duration": 30,
    "start_time": "2021-12-23T09:43:54.022Z"
   },
   {
    "duration": 19,
    "start_time": "2021-12-23T09:44:18.846Z"
   },
   {
    "duration": 18,
    "start_time": "2021-12-23T09:52:20.021Z"
   },
   {
    "duration": 843,
    "start_time": "2021-12-23T09:52:34.485Z"
   },
   {
    "duration": 14,
    "start_time": "2021-12-23T09:52:35.331Z"
   },
   {
    "duration": 29,
    "start_time": "2021-12-23T09:52:35.348Z"
   },
   {
    "duration": 14,
    "start_time": "2021-12-23T09:52:35.380Z"
   },
   {
    "duration": 21,
    "start_time": "2021-12-23T09:52:35.396Z"
   },
   {
    "duration": 46,
    "start_time": "2021-12-23T09:52:35.420Z"
   },
   {
    "duration": 10,
    "start_time": "2021-12-23T09:52:35.468Z"
   },
   {
    "duration": 16,
    "start_time": "2021-12-23T09:52:35.481Z"
   },
   {
    "duration": 33,
    "start_time": "2021-12-23T09:53:30.537Z"
   },
   {
    "duration": 29,
    "start_time": "2021-12-23T09:54:14.104Z"
   },
   {
    "duration": 885,
    "start_time": "2021-12-23T09:54:22.067Z"
   },
   {
    "duration": 15,
    "start_time": "2021-12-23T09:54:22.955Z"
   },
   {
    "duration": 22,
    "start_time": "2021-12-23T09:54:22.976Z"
   },
   {
    "duration": 14,
    "start_time": "2021-12-23T09:54:23.001Z"
   },
   {
    "duration": 55,
    "start_time": "2021-12-23T09:54:23.018Z"
   },
   {
    "duration": 9,
    "start_time": "2021-12-23T09:54:23.075Z"
   },
   {
    "duration": 11,
    "start_time": "2021-12-23T09:54:23.087Z"
   },
   {
    "duration": 29,
    "start_time": "2021-12-23T09:54:23.100Z"
   },
   {
    "duration": 28,
    "start_time": "2021-12-23T09:55:34.630Z"
   },
   {
    "duration": 530,
    "start_time": "2021-12-23T09:56:30.422Z"
   },
   {
    "duration": 29,
    "start_time": "2021-12-23T09:56:35.885Z"
   },
   {
    "duration": 39,
    "start_time": "2021-12-23T09:57:03.214Z"
   },
   {
    "duration": 14,
    "start_time": "2021-12-23T09:57:21.740Z"
   },
   {
    "duration": 886,
    "start_time": "2021-12-23T09:57:32.039Z"
   },
   {
    "duration": 14,
    "start_time": "2021-12-23T09:57:32.928Z"
   },
   {
    "duration": 21,
    "start_time": "2021-12-23T09:57:32.960Z"
   },
   {
    "duration": 13,
    "start_time": "2021-12-23T09:57:32.983Z"
   },
   {
    "duration": 23,
    "start_time": "2021-12-23T09:57:32.998Z"
   },
   {
    "duration": 11,
    "start_time": "2021-12-23T09:57:33.059Z"
   },
   {
    "duration": 14,
    "start_time": "2021-12-23T09:57:33.073Z"
   },
   {
    "duration": 14,
    "start_time": "2021-12-23T09:57:33.090Z"
   },
   {
    "duration": 8,
    "start_time": "2021-12-23T10:03:31.328Z"
   },
   {
    "duration": 873,
    "start_time": "2021-12-23T10:03:39.787Z"
   },
   {
    "duration": 14,
    "start_time": "2021-12-23T10:03:40.663Z"
   },
   {
    "duration": 24,
    "start_time": "2021-12-23T10:03:40.680Z"
   },
   {
    "duration": 15,
    "start_time": "2021-12-23T10:03:40.707Z"
   },
   {
    "duration": 25,
    "start_time": "2021-12-23T10:03:40.761Z"
   },
   {
    "duration": 11,
    "start_time": "2021-12-23T10:03:40.788Z"
   },
   {
    "duration": 11,
    "start_time": "2021-12-23T10:03:40.801Z"
   },
   {
    "duration": 51,
    "start_time": "2021-12-23T10:03:40.816Z"
   },
   {
    "duration": 9919,
    "start_time": "2021-12-23T10:05:16.916Z"
   },
   {
    "duration": 7,
    "start_time": "2021-12-23T10:06:04.164Z"
   },
   {
    "duration": 858,
    "start_time": "2021-12-23T10:06:24.488Z"
   },
   {
    "duration": 15,
    "start_time": "2021-12-23T10:06:25.349Z"
   },
   {
    "duration": 21,
    "start_time": "2021-12-23T10:06:25.367Z"
   },
   {
    "duration": 14,
    "start_time": "2021-12-23T10:06:25.390Z"
   },
   {
    "duration": 22,
    "start_time": "2021-12-23T10:06:25.406Z"
   },
   {
    "duration": 12,
    "start_time": "2021-12-23T10:06:25.460Z"
   },
   {
    "duration": 12,
    "start_time": "2021-12-23T10:06:25.475Z"
   },
   {
    "duration": 18,
    "start_time": "2021-12-23T10:06:25.490Z"
   },
   {
    "duration": 489,
    "start_time": "2021-12-23T10:24:43.294Z"
   },
   {
    "duration": 18,
    "start_time": "2021-12-23T10:24:51.629Z"
   },
   {
    "duration": 933,
    "start_time": "2021-12-23T10:25:03.574Z"
   },
   {
    "duration": 15,
    "start_time": "2021-12-23T10:25:04.510Z"
   },
   {
    "duration": 37,
    "start_time": "2021-12-23T10:25:04.528Z"
   },
   {
    "duration": 14,
    "start_time": "2021-12-23T10:25:04.568Z"
   },
   {
    "duration": 23,
    "start_time": "2021-12-23T10:25:04.585Z"
   },
   {
    "duration": 10,
    "start_time": "2021-12-23T10:25:04.610Z"
   },
   {
    "duration": 11,
    "start_time": "2021-12-23T10:25:04.660Z"
   },
   {
    "duration": 18,
    "start_time": "2021-12-23T10:25:04.675Z"
   },
   {
    "duration": 19,
    "start_time": "2021-12-23T10:26:33.377Z"
   },
   {
    "duration": 856,
    "start_time": "2021-12-23T10:27:16.677Z"
   },
   {
    "duration": 14,
    "start_time": "2021-12-23T10:27:17.536Z"
   },
   {
    "duration": 31,
    "start_time": "2021-12-23T10:27:17.553Z"
   },
   {
    "duration": 13,
    "start_time": "2021-12-23T10:27:17.587Z"
   },
   {
    "duration": 23,
    "start_time": "2021-12-23T10:27:17.603Z"
   },
   {
    "duration": 41,
    "start_time": "2021-12-23T10:27:17.630Z"
   },
   {
    "duration": 12,
    "start_time": "2021-12-23T10:27:17.674Z"
   },
   {
    "duration": 16,
    "start_time": "2021-12-23T10:27:17.689Z"
   },
   {
    "duration": 28,
    "start_time": "2021-12-23T10:54:30.100Z"
   },
   {
    "duration": 15,
    "start_time": "2021-12-23T10:55:09.234Z"
   },
   {
    "duration": 841,
    "start_time": "2021-12-23T10:55:26.874Z"
   },
   {
    "duration": 17,
    "start_time": "2021-12-23T10:55:27.717Z"
   },
   {
    "duration": 42,
    "start_time": "2021-12-23T10:55:27.737Z"
   },
   {
    "duration": 14,
    "start_time": "2021-12-23T10:55:27.782Z"
   },
   {
    "duration": 32,
    "start_time": "2021-12-23T10:55:27.799Z"
   },
   {
    "duration": 13,
    "start_time": "2021-12-23T10:55:27.861Z"
   },
   {
    "duration": 20,
    "start_time": "2021-12-23T10:55:27.877Z"
   },
   {
    "duration": 26,
    "start_time": "2021-12-23T10:55:27.902Z"
   },
   {
    "duration": 29,
    "start_time": "2021-12-23T10:56:08.343Z"
   },
   {
    "duration": 669,
    "start_time": "2021-12-23T11:02:37.233Z"
   },
   {
    "duration": 14,
    "start_time": "2021-12-23T11:02:44.416Z"
   },
   {
    "duration": 916,
    "start_time": "2021-12-23T11:02:58.296Z"
   },
   {
    "duration": 15,
    "start_time": "2021-12-23T11:02:59.215Z"
   },
   {
    "duration": 42,
    "start_time": "2021-12-23T11:02:59.235Z"
   },
   {
    "duration": 13,
    "start_time": "2021-12-23T11:02:59.280Z"
   },
   {
    "duration": 26,
    "start_time": "2021-12-23T11:02:59.295Z"
   },
   {
    "duration": 42,
    "start_time": "2021-12-23T11:02:59.324Z"
   },
   {
    "duration": 21,
    "start_time": "2021-12-23T11:02:59.369Z"
   },
   {
    "duration": 22,
    "start_time": "2021-12-23T11:02:59.392Z"
   },
   {
    "duration": 18,
    "start_time": "2021-12-23T11:14:02.273Z"
   },
   {
    "duration": 864,
    "start_time": "2021-12-23T11:14:12.871Z"
   },
   {
    "duration": 24,
    "start_time": "2021-12-23T11:14:13.737Z"
   },
   {
    "duration": 21,
    "start_time": "2021-12-23T11:14:13.765Z"
   },
   {
    "duration": 16,
    "start_time": "2021-12-23T11:14:13.789Z"
   },
   {
    "duration": 58,
    "start_time": "2021-12-23T11:14:13.807Z"
   },
   {
    "duration": 9,
    "start_time": "2021-12-23T11:14:13.867Z"
   },
   {
    "duration": 9,
    "start_time": "2021-12-23T11:14:13.879Z"
   },
   {
    "duration": 20,
    "start_time": "2021-12-23T11:14:13.891Z"
   },
   {
    "duration": 10,
    "start_time": "2021-12-23T11:15:28.811Z"
   },
   {
    "duration": 17,
    "start_time": "2021-12-23T11:18:24.718Z"
   },
   {
    "duration": 931,
    "start_time": "2021-12-23T11:18:29.491Z"
   },
   {
    "duration": 18,
    "start_time": "2021-12-23T11:18:30.425Z"
   },
   {
    "duration": 39,
    "start_time": "2021-12-23T11:18:30.446Z"
   },
   {
    "duration": 15,
    "start_time": "2021-12-23T11:18:30.488Z"
   },
   {
    "duration": 53,
    "start_time": "2021-12-23T11:18:30.506Z"
   },
   {
    "duration": 10,
    "start_time": "2021-12-23T11:18:30.562Z"
   },
   {
    "duration": 28,
    "start_time": "2021-12-23T11:18:30.574Z"
   },
   {
    "duration": 37,
    "start_time": "2021-12-23T11:18:30.606Z"
   },
   {
    "duration": 14,
    "start_time": "2021-12-23T11:18:30.645Z"
   },
   {
    "duration": 10,
    "start_time": "2021-12-23T11:18:30.663Z"
   },
   {
    "duration": 18,
    "start_time": "2021-12-23T11:19:01.355Z"
   },
   {
    "duration": 18,
    "start_time": "2021-12-23T11:19:13.411Z"
   },
   {
    "duration": 884,
    "start_time": "2021-12-23T11:19:30.674Z"
   },
   {
    "duration": 14,
    "start_time": "2021-12-23T11:19:31.560Z"
   },
   {
    "duration": 19,
    "start_time": "2021-12-23T11:19:31.577Z"
   },
   {
    "duration": 12,
    "start_time": "2021-12-23T11:19:31.599Z"
   },
   {
    "duration": 57,
    "start_time": "2021-12-23T11:19:31.613Z"
   },
   {
    "duration": 10,
    "start_time": "2021-12-23T11:19:31.672Z"
   },
   {
    "duration": 12,
    "start_time": "2021-12-23T11:19:31.684Z"
   },
   {
    "duration": 17,
    "start_time": "2021-12-23T11:19:31.699Z"
   },
   {
    "duration": 44,
    "start_time": "2021-12-23T11:19:31.719Z"
   },
   {
    "duration": 4,
    "start_time": "2021-12-23T11:19:31.765Z"
   },
   {
    "duration": 17,
    "start_time": "2021-12-23T11:26:44.747Z"
   },
   {
    "duration": 955,
    "start_time": "2021-12-23T11:26:52.173Z"
   },
   {
    "duration": 32,
    "start_time": "2021-12-23T11:26:53.132Z"
   },
   {
    "duration": 32,
    "start_time": "2021-12-23T11:26:53.168Z"
   },
   {
    "duration": 19,
    "start_time": "2021-12-23T11:26:53.204Z"
   },
   {
    "duration": 63,
    "start_time": "2021-12-23T11:26:53.226Z"
   },
   {
    "duration": 12,
    "start_time": "2021-12-23T11:26:53.292Z"
   },
   {
    "duration": 24,
    "start_time": "2021-12-23T11:26:53.306Z"
   },
   {
    "duration": 36,
    "start_time": "2021-12-23T11:26:53.334Z"
   },
   {
    "duration": 8,
    "start_time": "2021-12-23T11:26:53.372Z"
   },
   {
    "duration": 10428,
    "start_time": "2021-12-23T11:26:53.383Z"
   },
   {
    "duration": 366,
    "start_time": "2021-12-23T11:27:12.327Z"
   },
   {
    "duration": 17,
    "start_time": "2021-12-23T11:27:19.703Z"
   },
   {
    "duration": 134,
    "start_time": "2021-12-23T11:29:30.397Z"
   },
   {
    "duration": 148,
    "start_time": "2021-12-23T11:29:55.812Z"
   },
   {
    "duration": 138,
    "start_time": "2021-12-23T11:30:47.124Z"
   },
   {
    "duration": 1170,
    "start_time": "2021-12-23T11:31:40.488Z"
   },
   {
    "duration": 23,
    "start_time": "2021-12-23T11:31:41.662Z"
   },
   {
    "duration": 31,
    "start_time": "2021-12-23T11:31:41.689Z"
   },
   {
    "duration": 43,
    "start_time": "2021-12-23T11:31:41.724Z"
   },
   {
    "duration": 24,
    "start_time": "2021-12-23T11:31:41.769Z"
   },
   {
    "duration": 9,
    "start_time": "2021-12-23T11:31:41.796Z"
   },
   {
    "duration": 11,
    "start_time": "2021-12-23T11:31:41.808Z"
   },
   {
    "duration": 148,
    "start_time": "2021-12-23T11:31:41.859Z"
   },
   {
    "duration": -250,
    "start_time": "2021-12-23T11:31:42.261Z"
   },
   {
    "duration": -250,
    "start_time": "2021-12-23T11:31:42.263Z"
   },
   {
    "duration": 166,
    "start_time": "2021-12-23T11:33:33.432Z"
   },
   {
    "duration": 1892,
    "start_time": "2021-12-23T11:34:27.183Z"
   },
   {
    "duration": 144,
    "start_time": "2021-12-23T11:34:37.144Z"
   },
   {
    "duration": 18,
    "start_time": "2021-12-23T11:35:21.280Z"
   },
   {
    "duration": 883,
    "start_time": "2021-12-23T11:35:27.469Z"
   },
   {
    "duration": 18,
    "start_time": "2021-12-23T11:35:28.354Z"
   },
   {
    "duration": 30,
    "start_time": "2021-12-23T11:35:28.377Z"
   },
   {
    "duration": 13,
    "start_time": "2021-12-23T11:35:28.410Z"
   },
   {
    "duration": 55,
    "start_time": "2021-12-23T11:35:28.426Z"
   },
   {
    "duration": 11,
    "start_time": "2021-12-23T11:35:28.484Z"
   },
   {
    "duration": 12,
    "start_time": "2021-12-23T11:35:28.498Z"
   },
   {
    "duration": 60,
    "start_time": "2021-12-23T11:35:28.514Z"
   },
   {
    "duration": 13,
    "start_time": "2021-12-23T11:35:28.577Z"
   },
   {
    "duration": 11364,
    "start_time": "2021-12-23T11:35:28.592Z"
   },
   {
    "duration": 883,
    "start_time": "2021-12-23T11:35:50.711Z"
   },
   {
    "duration": 14,
    "start_time": "2021-12-23T11:35:51.596Z"
   },
   {
    "duration": 20,
    "start_time": "2021-12-23T11:35:51.613Z"
   },
   {
    "duration": 15,
    "start_time": "2021-12-23T11:35:51.661Z"
   },
   {
    "duration": 21,
    "start_time": "2021-12-23T11:35:51.678Z"
   },
   {
    "duration": 9,
    "start_time": "2021-12-23T11:35:51.702Z"
   },
   {
    "duration": 47,
    "start_time": "2021-12-23T11:35:51.714Z"
   },
   {
    "duration": 17,
    "start_time": "2021-12-23T11:35:51.764Z"
   },
   {
    "duration": 8,
    "start_time": "2021-12-23T11:35:51.784Z"
   },
   {
    "duration": 4,
    "start_time": "2021-12-23T11:35:51.795Z"
   },
   {
    "duration": 553,
    "start_time": "2021-12-23T11:39:16.070Z"
   },
   {
    "duration": 17,
    "start_time": "2021-12-23T11:40:20.628Z"
   },
   {
    "duration": 19,
    "start_time": "2021-12-23T11:43:10.233Z"
   },
   {
    "duration": 866,
    "start_time": "2021-12-23T11:43:16.182Z"
   },
   {
    "duration": 15,
    "start_time": "2021-12-23T11:43:17.051Z"
   },
   {
    "duration": 20,
    "start_time": "2021-12-23T11:43:17.069Z"
   },
   {
    "duration": 13,
    "start_time": "2021-12-23T11:43:17.092Z"
   },
   {
    "duration": 53,
    "start_time": "2021-12-23T11:43:17.108Z"
   },
   {
    "duration": 9,
    "start_time": "2021-12-23T11:43:17.163Z"
   },
   {
    "duration": 10,
    "start_time": "2021-12-23T11:43:17.175Z"
   },
   {
    "duration": 19,
    "start_time": "2021-12-23T11:43:17.188Z"
   },
   {
    "duration": 54,
    "start_time": "2021-12-23T11:43:17.211Z"
   },
   {
    "duration": 5,
    "start_time": "2021-12-23T11:43:17.269Z"
   },
   {
    "duration": 20,
    "start_time": "2021-12-23T11:43:46.696Z"
   },
   {
    "duration": 132,
    "start_time": "2021-12-23T11:48:24.941Z"
   },
   {
    "duration": 17,
    "start_time": "2021-12-23T11:51:27.017Z"
   },
   {
    "duration": 19,
    "start_time": "2021-12-23T11:52:28.888Z"
   },
   {
    "duration": 812,
    "start_time": "2021-12-23T11:52:37.607Z"
   },
   {
    "duration": 14,
    "start_time": "2021-12-23T11:52:38.422Z"
   },
   {
    "duration": 21,
    "start_time": "2021-12-23T11:52:38.458Z"
   },
   {
    "duration": 12,
    "start_time": "2021-12-23T11:52:38.482Z"
   },
   {
    "duration": 21,
    "start_time": "2021-12-23T11:52:38.496Z"
   },
   {
    "duration": 46,
    "start_time": "2021-12-23T11:52:38.520Z"
   },
   {
    "duration": 10,
    "start_time": "2021-12-23T11:52:38.569Z"
   },
   {
    "duration": 20,
    "start_time": "2021-12-23T11:52:38.581Z"
   },
   {
    "duration": 8,
    "start_time": "2021-12-23T11:52:38.603Z"
   },
   {
    "duration": 46,
    "start_time": "2021-12-23T11:52:38.613Z"
   },
   {
    "duration": 900,
    "start_time": "2021-12-23T12:00:55.892Z"
   },
   {
    "duration": 398,
    "start_time": "2021-12-23T12:01:05.436Z"
   },
   {
    "duration": 25,
    "start_time": "2021-12-23T12:01:14.869Z"
   },
   {
    "duration": 19,
    "start_time": "2021-12-23T12:04:16.600Z"
   },
   {
    "duration": 891,
    "start_time": "2021-12-23T12:11:20.747Z"
   },
   {
    "duration": 24,
    "start_time": "2021-12-23T12:11:21.642Z"
   },
   {
    "duration": 21,
    "start_time": "2021-12-23T12:11:21.670Z"
   },
   {
    "duration": 14,
    "start_time": "2021-12-23T12:11:21.693Z"
   },
   {
    "duration": 52,
    "start_time": "2021-12-23T12:11:21.709Z"
   },
   {
    "duration": 11,
    "start_time": "2021-12-23T12:11:21.764Z"
   },
   {
    "duration": 10,
    "start_time": "2021-12-23T12:11:21.777Z"
   },
   {
    "duration": 17,
    "start_time": "2021-12-23T12:11:21.789Z"
   },
   {
    "duration": 8,
    "start_time": "2021-12-23T12:11:21.809Z"
   },
   {
    "duration": 451,
    "start_time": "2021-12-23T12:11:21.860Z"
   },
   {
    "duration": 456,
    "start_time": "2021-12-23T12:11:52.978Z"
   },
   {
    "duration": 20,
    "start_time": "2021-12-23T12:12:00.704Z"
   },
   {
    "duration": 871,
    "start_time": "2021-12-23T12:15:53.136Z"
   },
   {
    "duration": 18,
    "start_time": "2021-12-23T12:15:54.010Z"
   },
   {
    "duration": 33,
    "start_time": "2021-12-23T12:15:54.032Z"
   },
   {
    "duration": 23,
    "start_time": "2021-12-23T12:15:54.069Z"
   },
   {
    "duration": 22,
    "start_time": "2021-12-23T12:15:54.094Z"
   },
   {
    "duration": 20,
    "start_time": "2021-12-23T12:15:54.118Z"
   },
   {
    "duration": 26,
    "start_time": "2021-12-23T12:15:54.140Z"
   },
   {
    "duration": 22,
    "start_time": "2021-12-23T12:15:54.168Z"
   },
   {
    "duration": 8,
    "start_time": "2021-12-23T12:15:54.193Z"
   },
   {
    "duration": 16,
    "start_time": "2021-12-23T12:15:54.204Z"
   },
   {
    "duration": 529,
    "start_time": "2021-12-23T12:36:24.380Z"
   },
   {
    "duration": 18,
    "start_time": "2021-12-23T12:36:30.796Z"
   },
   {
    "duration": 846,
    "start_time": "2021-12-23T12:36:39.421Z"
   },
   {
    "duration": 17,
    "start_time": "2021-12-23T12:36:40.270Z"
   },
   {
    "duration": 28,
    "start_time": "2021-12-23T12:36:40.290Z"
   },
   {
    "duration": 39,
    "start_time": "2021-12-23T12:36:40.321Z"
   },
   {
    "duration": 22,
    "start_time": "2021-12-23T12:36:40.362Z"
   },
   {
    "duration": 14,
    "start_time": "2021-12-23T12:36:40.386Z"
   },
   {
    "duration": 10,
    "start_time": "2021-12-23T12:36:40.402Z"
   },
   {
    "duration": 55,
    "start_time": "2021-12-23T12:36:40.414Z"
   },
   {
    "duration": 17,
    "start_time": "2021-12-23T12:36:40.472Z"
   },
   {
    "duration": 28,
    "start_time": "2021-12-23T12:36:40.493Z"
   },
   {
    "duration": 20,
    "start_time": "2021-12-23T12:37:01.991Z"
   },
   {
    "duration": 17,
    "start_time": "2021-12-23T12:37:18.606Z"
   },
   {
    "duration": 877,
    "start_time": "2021-12-23T12:37:46.870Z"
   },
   {
    "duration": 16,
    "start_time": "2021-12-23T12:37:47.749Z"
   },
   {
    "duration": 22,
    "start_time": "2021-12-23T12:37:47.773Z"
   },
   {
    "duration": 13,
    "start_time": "2021-12-23T12:37:47.798Z"
   },
   {
    "duration": 66,
    "start_time": "2021-12-23T12:37:47.814Z"
   },
   {
    "duration": 11,
    "start_time": "2021-12-23T12:37:47.882Z"
   },
   {
    "duration": 9,
    "start_time": "2021-12-23T12:37:47.897Z"
   },
   {
    "duration": 18,
    "start_time": "2021-12-23T12:37:47.909Z"
   },
   {
    "duration": 10,
    "start_time": "2021-12-23T12:37:47.961Z"
   },
   {
    "duration": 20,
    "start_time": "2021-12-23T12:37:47.973Z"
   },
   {
    "duration": 12,
    "start_time": "2021-12-23T12:41:47.458Z"
   },
   {
    "duration": 18,
    "start_time": "2021-12-23T12:42:54.816Z"
   },
   {
    "duration": 18,
    "start_time": "2021-12-23T12:43:04.448Z"
   },
   {
    "duration": 11,
    "start_time": "2021-12-23T12:44:10.648Z"
   },
   {
    "duration": 16,
    "start_time": "2021-12-23T12:45:10.527Z"
   },
   {
    "duration": 438,
    "start_time": "2021-12-23T12:47:26.348Z"
   },
   {
    "duration": 9,
    "start_time": "2021-12-23T12:47:50.196Z"
   },
   {
    "duration": 8,
    "start_time": "2021-12-23T12:48:19.188Z"
   },
   {
    "duration": 1006,
    "start_time": "2021-12-23T12:48:54.813Z"
   },
   {
    "duration": 15,
    "start_time": "2021-12-23T12:48:55.823Z"
   },
   {
    "duration": 37,
    "start_time": "2021-12-23T12:48:55.841Z"
   },
   {
    "duration": 14,
    "start_time": "2021-12-23T12:48:55.881Z"
   },
   {
    "duration": 24,
    "start_time": "2021-12-23T12:48:55.898Z"
   },
   {
    "duration": 13,
    "start_time": "2021-12-23T12:48:55.960Z"
   },
   {
    "duration": 18,
    "start_time": "2021-12-23T12:48:55.976Z"
   },
   {
    "duration": 29,
    "start_time": "2021-12-23T12:48:55.999Z"
   },
   {
    "duration": 10,
    "start_time": "2021-12-23T12:48:56.058Z"
   },
   {
    "duration": 32,
    "start_time": "2021-12-23T12:48:56.071Z"
   },
   {
    "duration": 13,
    "start_time": "2021-12-23T12:48:56.106Z"
   },
   {
    "duration": 41,
    "start_time": "2021-12-23T12:48:56.121Z"
   },
   {
    "duration": 11,
    "start_time": "2021-12-23T12:48:56.164Z"
   },
   {
    "duration": 26,
    "start_time": "2021-12-23T12:48:56.178Z"
   },
   {
    "duration": 8,
    "start_time": "2021-12-23T12:48:56.207Z"
   },
   {
    "duration": 17,
    "start_time": "2021-12-23T12:56:59.039Z"
   },
   {
    "duration": 486,
    "start_time": "2021-12-23T12:58:22.013Z"
   },
   {
    "duration": 381,
    "start_time": "2021-12-23T12:58:29.676Z"
   },
   {
    "duration": 8,
    "start_time": "2021-12-23T12:59:01.908Z"
   },
   {
    "duration": 10,
    "start_time": "2021-12-23T12:59:09.956Z"
   },
   {
    "duration": 406,
    "start_time": "2021-12-23T16:46:12.378Z"
   },
   {
    "duration": 897,
    "start_time": "2021-12-23T16:46:19.910Z"
   },
   {
    "duration": 18,
    "start_time": "2021-12-23T16:46:20.810Z"
   },
   {
    "duration": 44,
    "start_time": "2021-12-23T16:46:20.832Z"
   },
   {
    "duration": 14,
    "start_time": "2021-12-23T16:46:20.879Z"
   },
   {
    "duration": 29,
    "start_time": "2021-12-23T16:46:20.896Z"
   },
   {
    "duration": 44,
    "start_time": "2021-12-23T16:46:20.929Z"
   },
   {
    "duration": 15,
    "start_time": "2021-12-23T16:46:20.976Z"
   },
   {
    "duration": 30,
    "start_time": "2021-12-23T16:46:20.994Z"
   },
   {
    "duration": 41,
    "start_time": "2021-12-23T16:46:21.027Z"
   },
   {
    "duration": 25,
    "start_time": "2021-12-23T16:46:21.071Z"
   },
   {
    "duration": 16,
    "start_time": "2021-12-23T16:46:21.099Z"
   },
   {
    "duration": 57,
    "start_time": "2021-12-23T16:46:21.118Z"
   },
   {
    "duration": 12,
    "start_time": "2021-12-23T16:46:21.178Z"
   },
   {
    "duration": 20,
    "start_time": "2021-12-23T16:46:21.193Z"
   },
   {
    "duration": 17,
    "start_time": "2021-12-23T16:46:21.216Z"
   },
   {
    "duration": 362,
    "start_time": "2021-12-23T16:46:21.267Z"
   },
   {
    "duration": 21,
    "start_time": "2021-12-23T16:49:27.476Z"
   },
   {
    "duration": 25,
    "start_time": "2021-12-23T16:49:33.476Z"
   },
   {
    "duration": 17,
    "start_time": "2021-12-23T16:57:15.800Z"
   },
   {
    "duration": 49,
    "start_time": "2021-12-23T16:58:04.620Z"
   },
   {
    "duration": 6,
    "start_time": "2021-12-23T17:03:41.430Z"
   },
   {
    "duration": 6,
    "start_time": "2021-12-23T17:36:59.193Z"
   },
   {
    "duration": 9,
    "start_time": "2021-12-23T17:39:29.999Z"
   },
   {
    "duration": 9,
    "start_time": "2021-12-23T17:39:51.209Z"
   },
   {
    "duration": 9,
    "start_time": "2021-12-23T17:40:01.248Z"
   },
   {
    "duration": 17,
    "start_time": "2021-12-23T17:41:31.100Z"
   },
   {
    "duration": 35,
    "start_time": "2021-12-23T17:42:15.742Z"
   },
   {
    "duration": 29,
    "start_time": "2021-12-23T17:45:48.268Z"
   },
   {
    "duration": 36,
    "start_time": "2021-12-23T17:46:36.418Z"
   },
   {
    "duration": 303,
    "start_time": "2021-12-23T17:51:09.988Z"
   },
   {
    "duration": 9,
    "start_time": "2021-12-23T17:54:27.172Z"
   },
   {
    "duration": 10,
    "start_time": "2021-12-23T19:27:32.352Z"
   },
   {
    "duration": 10,
    "start_time": "2021-12-23T19:27:56.809Z"
   },
   {
    "duration": 35,
    "start_time": "2021-12-23T19:27:58.928Z"
   },
   {
    "duration": 10,
    "start_time": "2021-12-23T19:34:16.747Z"
   },
   {
    "duration": 23,
    "start_time": "2021-12-23T19:37:59.248Z"
   },
   {
    "duration": 23,
    "start_time": "2021-12-23T19:38:20.424Z"
   },
   {
    "duration": 35,
    "start_time": "2021-12-23T19:38:33.718Z"
   },
   {
    "duration": 25,
    "start_time": "2021-12-23T19:38:54.919Z"
   },
   {
    "duration": 9,
    "start_time": "2021-12-23T19:41:26.971Z"
   },
   {
    "duration": 349,
    "start_time": "2021-12-23T19:41:53.282Z"
   },
   {
    "duration": 275,
    "start_time": "2021-12-23T19:43:06.154Z"
   },
   {
    "duration": 8,
    "start_time": "2021-12-23T19:43:17.369Z"
   },
   {
    "duration": 932,
    "start_time": "2021-12-23T19:49:32.595Z"
   },
   {
    "duration": 871,
    "start_time": "2021-12-23T19:49:56.083Z"
   },
   {
    "duration": 18,
    "start_time": "2021-12-23T19:49:56.957Z"
   },
   {
    "duration": 23,
    "start_time": "2021-12-23T19:49:56.985Z"
   },
   {
    "duration": 16,
    "start_time": "2021-12-23T19:49:57.010Z"
   },
   {
    "duration": 66,
    "start_time": "2021-12-23T19:49:57.029Z"
   },
   {
    "duration": 10,
    "start_time": "2021-12-23T19:49:57.097Z"
   },
   {
    "duration": 10,
    "start_time": "2021-12-23T19:49:57.110Z"
   },
   {
    "duration": 65,
    "start_time": "2021-12-23T19:49:57.123Z"
   },
   {
    "duration": 9,
    "start_time": "2021-12-23T19:49:57.191Z"
   },
   {
    "duration": 20,
    "start_time": "2021-12-23T19:49:57.203Z"
   },
   {
    "duration": 9,
    "start_time": "2021-12-23T19:49:57.225Z"
   },
   {
    "duration": 23,
    "start_time": "2021-12-23T19:49:57.268Z"
   },
   {
    "duration": 9,
    "start_time": "2021-12-23T19:49:57.293Z"
   },
   {
    "duration": 16,
    "start_time": "2021-12-23T19:49:57.305Z"
   },
   {
    "duration": 58,
    "start_time": "2021-12-23T19:49:57.323Z"
   },
   {
    "duration": 33,
    "start_time": "2021-12-23T19:49:57.385Z"
   },
   {
    "duration": 10,
    "start_time": "2021-12-23T19:49:57.421Z"
   },
   {
    "duration": 31,
    "start_time": "2021-12-23T19:49:57.470Z"
   },
   {
    "duration": 7,
    "start_time": "2021-12-23T19:49:57.503Z"
   },
   {
    "duration": 837,
    "start_time": "2021-12-23T19:49:57.512Z"
   },
   {
    "duration": 357,
    "start_time": "2021-12-24T09:45:36.633Z"
   },
   {
    "duration": 266,
    "start_time": "2021-12-24T09:45:41.963Z"
   },
   {
    "duration": 877,
    "start_time": "2021-12-24T09:45:49.211Z"
   },
   {
    "duration": 15,
    "start_time": "2021-12-24T09:45:50.090Z"
   },
   {
    "duration": 22,
    "start_time": "2021-12-24T09:45:50.108Z"
   },
   {
    "duration": 41,
    "start_time": "2021-12-24T09:45:50.133Z"
   },
   {
    "duration": 23,
    "start_time": "2021-12-24T09:45:50.176Z"
   },
   {
    "duration": 10,
    "start_time": "2021-12-24T09:45:50.201Z"
   },
   {
    "duration": 23,
    "start_time": "2021-12-24T09:45:50.214Z"
   },
   {
    "duration": 44,
    "start_time": "2021-12-24T09:45:50.240Z"
   },
   {
    "duration": 22,
    "start_time": "2021-12-24T09:45:50.287Z"
   },
   {
    "duration": 27,
    "start_time": "2021-12-24T09:45:50.312Z"
   },
   {
    "duration": 9,
    "start_time": "2021-12-24T09:45:50.341Z"
   },
   {
    "duration": 29,
    "start_time": "2021-12-24T09:45:50.352Z"
   },
   {
    "duration": 9,
    "start_time": "2021-12-24T09:45:50.384Z"
   },
   {
    "duration": 27,
    "start_time": "2021-12-24T09:45:50.395Z"
   },
   {
    "duration": 54,
    "start_time": "2021-12-24T09:45:50.425Z"
   },
   {
    "duration": 35,
    "start_time": "2021-12-24T09:45:50.482Z"
   },
   {
    "duration": 49,
    "start_time": "2021-12-24T09:45:50.520Z"
   },
   {
    "duration": 28,
    "start_time": "2021-12-24T09:45:50.573Z"
   },
   {
    "duration": 12,
    "start_time": "2021-12-24T09:45:50.604Z"
   },
   {
    "duration": 28,
    "start_time": "2021-12-24T09:46:04.954Z"
   },
   {
    "duration": 96,
    "start_time": "2021-12-24T09:46:12.491Z"
   },
   {
    "duration": 26,
    "start_time": "2021-12-24T09:46:18.595Z"
   },
   {
    "duration": 10,
    "start_time": "2021-12-24T09:50:35.831Z"
   },
   {
    "duration": 8,
    "start_time": "2021-12-24T09:55:11.017Z"
   },
   {
    "duration": 833,
    "start_time": "2021-12-24T09:55:34.120Z"
   },
   {
    "duration": 450,
    "start_time": "2021-12-24T10:23:53.196Z"
   },
   {
    "duration": 283,
    "start_time": "2021-12-24T10:25:29.191Z"
   },
   {
    "duration": 11,
    "start_time": "2021-12-24T10:38:51.917Z"
   },
   {
    "duration": 11,
    "start_time": "2021-12-24T10:40:09.004Z"
   },
   {
    "duration": 10,
    "start_time": "2021-12-24T10:44:00.154Z"
   },
   {
    "duration": 92,
    "start_time": "2021-12-24T10:59:07.888Z"
   },
   {
    "duration": 16,
    "start_time": "2021-12-24T10:59:22.401Z"
   },
   {
    "duration": 355,
    "start_time": "2021-12-24T11:09:01.606Z"
   },
   {
    "duration": 1233,
    "start_time": "2021-12-24T11:13:35.634Z"
   },
   {
    "duration": 973,
    "start_time": "2021-12-24T11:16:52.694Z"
   },
   {
    "duration": 961,
    "start_time": "2021-12-24T11:18:06.933Z"
   },
   {
    "duration": 1238,
    "start_time": "2021-12-24T11:20:10.828Z"
   },
   {
    "duration": 1045,
    "start_time": "2021-12-24T11:20:38.535Z"
   },
   {
    "duration": 1353,
    "start_time": "2021-12-24T11:21:07.963Z"
   },
   {
    "duration": 973,
    "start_time": "2021-12-24T11:21:15.402Z"
   },
   {
    "duration": 981,
    "start_time": "2021-12-24T11:46:24.072Z"
   },
   {
    "duration": 976,
    "start_time": "2021-12-24T11:48:12.471Z"
   },
   {
    "duration": 103,
    "start_time": "2021-12-24T12:15:47.868Z"
   },
   {
    "duration": 4952,
    "start_time": "2021-12-24T12:16:01.515Z"
   },
   {
    "duration": 298,
    "start_time": "2021-12-24T13:03:16.147Z"
   },
   {
    "duration": 283,
    "start_time": "2021-12-24T13:03:40.209Z"
   },
   {
    "duration": 10,
    "start_time": "2021-12-24T13:03:48.570Z"
   },
   {
    "duration": 88,
    "start_time": "2021-12-24T13:10:49.729Z"
   },
   {
    "duration": 13,
    "start_time": "2021-12-24T13:11:03.313Z"
   },
   {
    "duration": 921,
    "start_time": "2021-12-24T13:11:31.545Z"
   },
   {
    "duration": 15,
    "start_time": "2021-12-24T13:11:32.469Z"
   },
   {
    "duration": 22,
    "start_time": "2021-12-24T13:11:32.487Z"
   },
   {
    "duration": 15,
    "start_time": "2021-12-24T13:11:32.513Z"
   },
   {
    "duration": 23,
    "start_time": "2021-12-24T13:11:32.568Z"
   },
   {
    "duration": 9,
    "start_time": "2021-12-24T13:11:32.594Z"
   },
   {
    "duration": 18,
    "start_time": "2021-12-24T13:11:32.605Z"
   },
   {
    "duration": 52,
    "start_time": "2021-12-24T13:11:32.627Z"
   },
   {
    "duration": 12,
    "start_time": "2021-12-24T13:11:32.682Z"
   },
   {
    "duration": 25,
    "start_time": "2021-12-24T13:11:32.696Z"
   },
   {
    "duration": 21,
    "start_time": "2021-12-24T13:11:32.723Z"
   },
   {
    "duration": 37,
    "start_time": "2021-12-24T13:11:32.747Z"
   },
   {
    "duration": 12,
    "start_time": "2021-12-24T13:11:32.787Z"
   },
   {
    "duration": 19,
    "start_time": "2021-12-24T13:11:32.802Z"
   },
   {
    "duration": 52,
    "start_time": "2021-12-24T13:11:32.824Z"
   },
   {
    "duration": 32,
    "start_time": "2021-12-24T13:11:32.878Z"
   },
   {
    "duration": 12,
    "start_time": "2021-12-24T13:11:32.913Z"
   },
   {
    "duration": 65,
    "start_time": "2021-12-24T13:11:32.928Z"
   },
   {
    "duration": 384,
    "start_time": "2021-12-24T13:11:32.997Z"
   },
   {
    "duration": -156,
    "start_time": "2021-12-24T13:11:33.539Z"
   },
   {
    "duration": -155,
    "start_time": "2021-12-24T13:11:33.540Z"
   },
   {
    "duration": -155,
    "start_time": "2021-12-24T13:11:33.541Z"
   },
   {
    "duration": 944,
    "start_time": "2021-12-24T13:12:44.834Z"
   },
   {
    "duration": 851,
    "start_time": "2021-12-24T13:13:03.227Z"
   },
   {
    "duration": 15,
    "start_time": "2021-12-24T13:13:04.080Z"
   },
   {
    "duration": 20,
    "start_time": "2021-12-24T13:13:04.099Z"
   },
   {
    "duration": 45,
    "start_time": "2021-12-24T13:13:04.122Z"
   },
   {
    "duration": 24,
    "start_time": "2021-12-24T13:13:04.171Z"
   },
   {
    "duration": 9,
    "start_time": "2021-12-24T13:13:04.198Z"
   },
   {
    "duration": 12,
    "start_time": "2021-12-24T13:13:04.210Z"
   },
   {
    "duration": 53,
    "start_time": "2021-12-24T13:13:04.224Z"
   },
   {
    "duration": 9,
    "start_time": "2021-12-24T13:13:04.282Z"
   },
   {
    "duration": 20,
    "start_time": "2021-12-24T13:13:04.294Z"
   },
   {
    "duration": 52,
    "start_time": "2021-12-24T13:13:04.317Z"
   },
   {
    "duration": 19,
    "start_time": "2021-12-24T13:13:04.372Z"
   },
   {
    "duration": 10,
    "start_time": "2021-12-24T13:13:04.394Z"
   },
   {
    "duration": 63,
    "start_time": "2021-12-24T13:13:04.407Z"
   },
   {
    "duration": 20,
    "start_time": "2021-12-24T13:13:04.473Z"
   },
   {
    "duration": 32,
    "start_time": "2021-12-24T13:13:04.496Z"
   },
   {
    "duration": 44,
    "start_time": "2021-12-24T13:13:04.530Z"
   },
   {
    "duration": 35,
    "start_time": "2021-12-24T13:13:04.576Z"
   },
   {
    "duration": 973,
    "start_time": "2021-12-24T13:13:04.614Z"
   },
   {
    "duration": 5481,
    "start_time": "2021-12-24T13:13:05.590Z"
   },
   {
    "duration": 12,
    "start_time": "2021-12-24T13:13:11.073Z"
   },
   {
    "duration": 10,
    "start_time": "2021-12-24T13:13:11.088Z"
   },
   {
    "duration": 14,
    "start_time": "2021-12-24T13:14:41.343Z"
   },
   {
    "duration": 19,
    "start_time": "2021-12-24T13:14:43.863Z"
   },
   {
    "duration": 1030,
    "start_time": "2021-12-24T13:14:54.619Z"
   },
   {
    "duration": 17,
    "start_time": "2021-12-24T13:14:55.652Z"
   },
   {
    "duration": 21,
    "start_time": "2021-12-24T13:14:55.672Z"
   },
   {
    "duration": 15,
    "start_time": "2021-12-24T13:14:55.696Z"
   },
   {
    "duration": 54,
    "start_time": "2021-12-24T13:14:55.714Z"
   },
   {
    "duration": 10,
    "start_time": "2021-12-24T13:14:55.771Z"
   },
   {
    "duration": 10,
    "start_time": "2021-12-24T13:14:55.784Z"
   },
   {
    "duration": 17,
    "start_time": "2021-12-24T13:14:55.798Z"
   },
   {
    "duration": 54,
    "start_time": "2021-12-24T13:14:55.819Z"
   },
   {
    "duration": 19,
    "start_time": "2021-12-24T13:14:55.875Z"
   },
   {
    "duration": 9,
    "start_time": "2021-12-24T13:14:55.896Z"
   },
   {
    "duration": 17,
    "start_time": "2021-12-24T13:14:55.907Z"
   },
   {
    "duration": 9,
    "start_time": "2021-12-24T13:14:55.967Z"
   },
   {
    "duration": 15,
    "start_time": "2021-12-24T13:14:55.979Z"
   },
   {
    "duration": 6,
    "start_time": "2021-12-24T13:14:55.996Z"
   },
   {
    "duration": 14,
    "start_time": "2021-12-24T13:14:56.005Z"
   },
   {
    "duration": 75,
    "start_time": "2021-12-24T13:14:56.022Z"
   },
   {
    "duration": 11,
    "start_time": "2021-12-24T13:14:56.099Z"
   },
   {
    "duration": 60,
    "start_time": "2021-12-24T13:14:56.113Z"
   },
   {
    "duration": 998,
    "start_time": "2021-12-24T13:14:56.176Z"
   },
   {
    "duration": 5389,
    "start_time": "2021-12-24T13:14:57.179Z"
   },
   {
    "duration": 10,
    "start_time": "2021-12-24T13:15:02.571Z"
   },
   {
    "duration": 16,
    "start_time": "2021-12-24T13:15:02.586Z"
   },
   {
    "duration": 1589,
    "start_time": "2021-12-24T13:24:54.184Z"
   },
   {
    "duration": 1441,
    "start_time": "2021-12-24T13:25:28.657Z"
   },
   {
    "duration": 329,
    "start_time": "2021-12-24T13:27:53.519Z"
   },
   {
    "duration": 22,
    "start_time": "2021-12-24T13:28:05.941Z"
   },
   {
    "duration": 22,
    "start_time": "2021-12-24T13:28:16.397Z"
   },
   {
    "duration": 14,
    "start_time": "2021-12-24T13:28:27.470Z"
   },
   {
    "duration": 1302,
    "start_time": "2021-12-24T13:29:15.653Z"
   },
   {
    "duration": 915,
    "start_time": "2021-12-24T19:38:47.700Z"
   },
   {
    "duration": 24,
    "start_time": "2021-12-24T19:38:48.619Z"
   },
   {
    "duration": 21,
    "start_time": "2021-12-24T19:38:48.645Z"
   },
   {
    "duration": 14,
    "start_time": "2021-12-24T19:38:48.668Z"
   },
   {
    "duration": 30,
    "start_time": "2021-12-24T19:38:48.717Z"
   },
   {
    "duration": 8,
    "start_time": "2021-12-24T19:38:48.749Z"
   },
   {
    "duration": 13,
    "start_time": "2021-12-24T19:38:48.760Z"
   },
   {
    "duration": 62,
    "start_time": "2021-12-24T19:38:48.777Z"
   },
   {
    "duration": 9,
    "start_time": "2021-12-24T19:38:48.842Z"
   },
   {
    "duration": 18,
    "start_time": "2021-12-24T19:38:48.854Z"
   },
   {
    "duration": 44,
    "start_time": "2021-12-24T19:38:48.874Z"
   },
   {
    "duration": 20,
    "start_time": "2021-12-24T19:38:48.922Z"
   },
   {
    "duration": 8,
    "start_time": "2021-12-24T19:38:48.944Z"
   },
   {
    "duration": 19,
    "start_time": "2021-12-24T19:38:48.955Z"
   },
   {
    "duration": 51,
    "start_time": "2021-12-24T19:38:48.977Z"
   },
   {
    "duration": 20,
    "start_time": "2021-12-24T19:38:49.031Z"
   },
   {
    "duration": 81,
    "start_time": "2021-12-24T19:38:49.054Z"
   },
   {
    "duration": 11,
    "start_time": "2021-12-24T19:38:49.137Z"
   },
   {
    "duration": 34,
    "start_time": "2021-12-24T19:38:49.150Z"
   },
   {
    "duration": 1022,
    "start_time": "2021-12-24T19:38:49.187Z"
   },
   {
    "duration": 5046,
    "start_time": "2021-12-24T19:38:50.211Z"
   },
   {
    "duration": 13,
    "start_time": "2021-12-24T19:38:55.259Z"
   },
   {
    "duration": 12,
    "start_time": "2021-12-24T19:38:55.276Z"
   },
   {
    "duration": 1362,
    "start_time": "2021-12-24T19:38:55.318Z"
   },
   {
    "duration": 262,
    "start_time": "2021-12-24T19:43:42.548Z"
   },
   {
    "duration": 1142,
    "start_time": "2021-12-24T19:43:52.184Z"
   },
   {
    "duration": 54,
    "start_time": "2021-12-24T19:44:17.894Z"
   },
   {
    "duration": 51,
    "start_time": "2021-12-24T19:44:59.950Z"
   },
   {
    "duration": 52,
    "start_time": "2021-12-24T19:53:47.366Z"
   },
   {
    "duration": 41,
    "start_time": "2021-12-24T20:01:03.077Z"
   },
   {
    "duration": 37,
    "start_time": "2021-12-24T20:03:08.362Z"
   },
   {
    "duration": 32,
    "start_time": "2021-12-24T20:06:04.939Z"
   },
   {
    "duration": 36,
    "start_time": "2021-12-24T20:08:23.566Z"
   },
   {
    "duration": 273,
    "start_time": "2021-12-24T20:08:39.390Z"
   },
   {
    "duration": 32,
    "start_time": "2021-12-24T20:08:50.232Z"
   },
   {
    "duration": 31,
    "start_time": "2021-12-24T20:09:20.066Z"
   },
   {
    "duration": 27,
    "start_time": "2021-12-24T20:09:52.582Z"
   },
   {
    "duration": 283,
    "start_time": "2021-12-24T20:13:31.057Z"
   },
   {
    "duration": 268,
    "start_time": "2021-12-24T20:14:57.312Z"
   },
   {
    "duration": 27,
    "start_time": "2021-12-24T20:15:18.390Z"
   },
   {
    "duration": 30,
    "start_time": "2021-12-24T20:15:37.230Z"
   },
   {
    "duration": 92,
    "start_time": "2021-12-24T20:15:45.669Z"
   },
   {
    "duration": 27,
    "start_time": "2021-12-24T20:15:54.990Z"
   },
   {
    "duration": 280,
    "start_time": "2021-12-24T20:16:07.125Z"
   },
   {
    "duration": 28,
    "start_time": "2021-12-24T20:16:12.276Z"
   },
   {
    "duration": 28,
    "start_time": "2021-12-24T20:16:35.965Z"
   },
   {
    "duration": 28,
    "start_time": "2021-12-24T20:16:57.196Z"
   },
   {
    "duration": 32,
    "start_time": "2021-12-24T20:17:12.284Z"
   },
   {
    "duration": 297,
    "start_time": "2021-12-24T20:17:40.772Z"
   },
   {
    "duration": 31,
    "start_time": "2021-12-24T20:17:43.788Z"
   },
   {
    "duration": 282,
    "start_time": "2021-12-24T20:17:54.812Z"
   },
   {
    "duration": 32,
    "start_time": "2021-12-24T20:17:58.035Z"
   },
   {
    "duration": 29,
    "start_time": "2021-12-24T20:19:09.170Z"
   },
   {
    "duration": 28,
    "start_time": "2021-12-24T20:19:42.426Z"
   },
   {
    "duration": 28,
    "start_time": "2021-12-24T20:20:46.601Z"
   },
   {
    "duration": 75,
    "start_time": "2021-12-24T20:21:40.840Z"
   },
   {
    "duration": 78,
    "start_time": "2021-12-24T20:21:46.289Z"
   },
   {
    "duration": 75,
    "start_time": "2021-12-24T20:21:55.200Z"
   },
   {
    "duration": 18,
    "start_time": "2021-12-24T20:22:06.159Z"
   },
   {
    "duration": 273,
    "start_time": "2021-12-24T20:24:37.190Z"
   },
   {
    "duration": 292,
    "start_time": "2021-12-24T20:24:46.088Z"
   },
   {
    "duration": 848,
    "start_time": "2021-12-24T20:24:53.787Z"
   },
   {
    "duration": 16,
    "start_time": "2021-12-24T20:24:54.639Z"
   },
   {
    "duration": 20,
    "start_time": "2021-12-24T20:24:54.659Z"
   },
   {
    "duration": 43,
    "start_time": "2021-12-24T20:24:54.683Z"
   },
   {
    "duration": 23,
    "start_time": "2021-12-24T20:24:54.729Z"
   },
   {
    "duration": 11,
    "start_time": "2021-12-24T20:24:54.755Z"
   },
   {
    "duration": 53,
    "start_time": "2021-12-24T20:24:54.769Z"
   },
   {
    "duration": 18,
    "start_time": "2021-12-24T20:24:54.826Z"
   },
   {
    "duration": 9,
    "start_time": "2021-12-24T20:24:54.847Z"
   },
   {
    "duration": 16,
    "start_time": "2021-12-24T20:24:54.858Z"
   },
   {
    "duration": 10,
    "start_time": "2021-12-24T20:24:54.917Z"
   },
   {
    "duration": 22,
    "start_time": "2021-12-24T20:24:54.930Z"
   },
   {
    "duration": 11,
    "start_time": "2021-12-24T20:24:54.954Z"
   },
   {
    "duration": 58,
    "start_time": "2021-12-24T20:24:54.968Z"
   },
   {
    "duration": 11,
    "start_time": "2021-12-24T20:24:55.029Z"
   },
   {
    "duration": 21,
    "start_time": "2021-12-24T20:24:55.043Z"
   },
   {
    "duration": 80,
    "start_time": "2021-12-24T20:24:55.066Z"
   },
   {
    "duration": 12,
    "start_time": "2021-12-24T20:24:55.148Z"
   },
   {
    "duration": 54,
    "start_time": "2021-12-24T20:24:55.162Z"
   },
   {
    "duration": 1046,
    "start_time": "2021-12-24T20:24:55.219Z"
   },
   {
    "duration": 4906,
    "start_time": "2021-12-24T20:24:56.268Z"
   },
   {
    "duration": 13,
    "start_time": "2021-12-24T20:25:01.176Z"
   },
   {
    "duration": 31,
    "start_time": "2021-12-24T20:25:01.194Z"
   },
   {
    "duration": 92,
    "start_time": "2021-12-24T20:25:01.228Z"
   },
   {
    "duration": 37,
    "start_time": "2021-12-24T20:25:01.322Z"
   },
   {
    "duration": 85,
    "start_time": "2021-12-24T20:25:01.361Z"
   },
   {
    "duration": 42,
    "start_time": "2021-12-24T20:25:01.449Z"
   },
   {
    "duration": 39,
    "start_time": "2021-12-24T20:25:01.493Z"
   },
   {
    "duration": 35,
    "start_time": "2021-12-24T20:25:01.535Z"
   },
   {
    "duration": 35,
    "start_time": "2021-12-24T20:25:01.573Z"
   },
   {
    "duration": 38,
    "start_time": "2021-12-24T20:25:10.577Z"
   },
   {
    "duration": 4986,
    "start_time": "2021-12-24T20:27:10.096Z"
   },
   {
    "duration": 73,
    "start_time": "2021-12-24T20:27:41.890Z"
   },
   {
    "duration": 40,
    "start_time": "2021-12-24T20:27:46.295Z"
   },
   {
    "duration": 28,
    "start_time": "2021-12-24T20:27:53.879Z"
   },
   {
    "duration": 48,
    "start_time": "2021-12-24T20:28:21.893Z"
   },
   {
    "duration": 30,
    "start_time": "2021-12-24T20:29:23.907Z"
   },
   {
    "duration": 34,
    "start_time": "2021-12-24T20:30:09.380Z"
   },
   {
    "duration": 29,
    "start_time": "2021-12-24T20:30:52.530Z"
   },
   {
    "duration": 33,
    "start_time": "2021-12-24T20:31:02.562Z"
   },
   {
    "duration": 28,
    "start_time": "2021-12-24T20:31:10.085Z"
   },
   {
    "duration": 823,
    "start_time": "2021-12-25T15:11:03.606Z"
   },
   {
    "duration": 1033,
    "start_time": "2021-12-25T15:11:11.304Z"
   },
   {
    "duration": 14,
    "start_time": "2021-12-25T15:11:12.339Z"
   },
   {
    "duration": 21,
    "start_time": "2021-12-25T15:11:12.356Z"
   },
   {
    "duration": 11,
    "start_time": "2021-12-25T15:11:12.380Z"
   },
   {
    "duration": 22,
    "start_time": "2021-12-25T15:11:12.393Z"
   },
   {
    "duration": 50,
    "start_time": "2021-12-25T15:11:12.417Z"
   },
   {
    "duration": 10,
    "start_time": "2021-12-25T15:11:12.470Z"
   },
   {
    "duration": 18,
    "start_time": "2021-12-25T15:11:12.484Z"
   },
   {
    "duration": 10,
    "start_time": "2021-12-25T15:11:12.504Z"
   },
   {
    "duration": 57,
    "start_time": "2021-12-25T15:11:12.517Z"
   },
   {
    "duration": 9,
    "start_time": "2021-12-25T15:11:12.577Z"
   },
   {
    "duration": 18,
    "start_time": "2021-12-25T15:11:12.589Z"
   },
   {
    "duration": 9,
    "start_time": "2021-12-25T15:11:12.609Z"
   },
   {
    "duration": 57,
    "start_time": "2021-12-25T15:11:12.620Z"
   },
   {
    "duration": 11,
    "start_time": "2021-12-25T15:11:12.679Z"
   },
   {
    "duration": 16,
    "start_time": "2021-12-25T15:11:12.692Z"
   },
   {
    "duration": 72,
    "start_time": "2021-12-25T15:11:12.710Z"
   },
   {
    "duration": 11,
    "start_time": "2021-12-25T15:11:12.784Z"
   },
   {
    "duration": 29,
    "start_time": "2021-12-25T15:11:12.799Z"
   },
   {
    "duration": 973,
    "start_time": "2021-12-25T15:11:12.864Z"
   },
   {
    "duration": 5252,
    "start_time": "2021-12-25T15:11:13.840Z"
   },
   {
    "duration": 17,
    "start_time": "2021-12-25T15:11:19.096Z"
   },
   {
    "duration": 74,
    "start_time": "2021-12-25T15:11:19.120Z"
   },
   {
    "duration": 33,
    "start_time": "2021-12-25T15:11:19.197Z"
   },
   {
    "duration": 55,
    "start_time": "2021-12-25T15:11:19.232Z"
   },
   {
    "duration": 39,
    "start_time": "2021-12-25T15:11:19.289Z"
   },
   {
    "duration": 62,
    "start_time": "2021-12-25T15:11:19.331Z"
   },
   {
    "duration": 40,
    "start_time": "2021-12-25T15:11:19.395Z"
   },
   {
    "duration": 62,
    "start_time": "2021-12-25T15:11:19.438Z"
   },
   {
    "duration": 15,
    "start_time": "2021-12-25T15:11:40.882Z"
   },
   {
    "duration": 13,
    "start_time": "2021-12-25T15:13:52.753Z"
   },
   {
    "duration": 34,
    "start_time": "2021-12-25T15:47:21.018Z"
   },
   {
    "duration": 1009,
    "start_time": "2021-12-25T15:47:36.203Z"
   },
   {
    "duration": 15,
    "start_time": "2021-12-25T15:47:37.216Z"
   },
   {
    "duration": 40,
    "start_time": "2021-12-25T15:47:37.234Z"
   },
   {
    "duration": 13,
    "start_time": "2021-12-25T15:47:37.277Z"
   },
   {
    "duration": 23,
    "start_time": "2021-12-25T15:47:37.293Z"
   },
   {
    "duration": 44,
    "start_time": "2021-12-25T15:47:37.319Z"
   },
   {
    "duration": 12,
    "start_time": "2021-12-25T15:47:37.366Z"
   },
   {
    "duration": 18,
    "start_time": "2021-12-25T15:47:37.382Z"
   },
   {
    "duration": 9,
    "start_time": "2021-12-25T15:47:37.403Z"
   },
   {
    "duration": 64,
    "start_time": "2021-12-25T15:47:37.414Z"
   },
   {
    "duration": 11,
    "start_time": "2021-12-25T15:47:37.481Z"
   },
   {
    "duration": 20,
    "start_time": "2021-12-25T15:47:37.495Z"
   },
   {
    "duration": 7,
    "start_time": "2021-12-25T15:47:37.518Z"
   },
   {
    "duration": 52,
    "start_time": "2021-12-25T15:47:37.528Z"
   },
   {
    "duration": 8,
    "start_time": "2021-12-25T15:47:37.582Z"
   },
   {
    "duration": 18,
    "start_time": "2021-12-25T15:47:37.593Z"
   },
   {
    "duration": 74,
    "start_time": "2021-12-25T15:47:37.614Z"
   },
   {
    "duration": 13,
    "start_time": "2021-12-25T15:47:37.691Z"
   },
   {
    "duration": 57,
    "start_time": "2021-12-25T15:47:37.706Z"
   },
   {
    "duration": 1004,
    "start_time": "2021-12-25T15:47:37.766Z"
   },
   {
    "duration": 5300,
    "start_time": "2021-12-25T15:47:38.773Z"
   },
   {
    "duration": 707,
    "start_time": "2021-12-25T15:47:44.076Z"
   },
   {
    "duration": -220,
    "start_time": "2021-12-25T15:47:45.007Z"
   },
   {
    "duration": -220,
    "start_time": "2021-12-25T15:47:45.008Z"
   },
   {
    "duration": -220,
    "start_time": "2021-12-25T15:47:45.010Z"
   },
   {
    "duration": -220,
    "start_time": "2021-12-25T15:47:45.011Z"
   },
   {
    "duration": -220,
    "start_time": "2021-12-25T15:47:45.012Z"
   },
   {
    "duration": -223,
    "start_time": "2021-12-25T15:47:45.017Z"
   },
   {
    "duration": -223,
    "start_time": "2021-12-25T15:47:45.018Z"
   },
   {
    "duration": 15,
    "start_time": "2021-12-25T15:48:12.374Z"
   },
   {
    "duration": 975,
    "start_time": "2021-12-25T15:48:18.395Z"
   },
   {
    "duration": 15,
    "start_time": "2021-12-25T15:48:19.374Z"
   },
   {
    "duration": 21,
    "start_time": "2021-12-25T15:48:19.398Z"
   },
   {
    "duration": 52,
    "start_time": "2021-12-25T15:48:19.423Z"
   },
   {
    "duration": 25,
    "start_time": "2021-12-25T15:48:19.478Z"
   },
   {
    "duration": 10,
    "start_time": "2021-12-25T15:48:19.507Z"
   },
   {
    "duration": 46,
    "start_time": "2021-12-25T15:48:19.519Z"
   },
   {
    "duration": 18,
    "start_time": "2021-12-25T15:48:19.569Z"
   },
   {
    "duration": 10,
    "start_time": "2021-12-25T15:48:19.590Z"
   },
   {
    "duration": 18,
    "start_time": "2021-12-25T15:48:19.602Z"
   },
   {
    "duration": 45,
    "start_time": "2021-12-25T15:48:19.623Z"
   },
   {
    "duration": 21,
    "start_time": "2021-12-25T15:48:19.671Z"
   },
   {
    "duration": 11,
    "start_time": "2021-12-25T15:48:19.695Z"
   },
   {
    "duration": 60,
    "start_time": "2021-12-25T15:48:19.709Z"
   },
   {
    "duration": 8,
    "start_time": "2021-12-25T15:48:19.772Z"
   },
   {
    "duration": 16,
    "start_time": "2021-12-25T15:48:19.782Z"
   },
   {
    "duration": 66,
    "start_time": "2021-12-25T15:48:19.800Z"
   },
   {
    "duration": 12,
    "start_time": "2021-12-25T15:48:19.869Z"
   },
   {
    "duration": 28,
    "start_time": "2021-12-25T15:48:19.884Z"
   },
   {
    "duration": 1365,
    "start_time": "2021-12-25T15:48:19.914Z"
   },
   {
    "duration": 5504,
    "start_time": "2021-12-25T15:48:21.283Z"
   },
   {
    "duration": 12,
    "start_time": "2021-12-25T15:48:26.790Z"
   },
   {
    "duration": 4051,
    "start_time": "2021-12-25T15:48:26.805Z"
   },
   {
    "duration": -229,
    "start_time": "2021-12-25T15:48:31.089Z"
   },
   {
    "duration": -237,
    "start_time": "2021-12-25T15:48:31.099Z"
   },
   {
    "duration": -237,
    "start_time": "2021-12-25T15:48:31.101Z"
   },
   {
    "duration": -237,
    "start_time": "2021-12-25T15:48:31.103Z"
   },
   {
    "duration": -237,
    "start_time": "2021-12-25T15:48:31.105Z"
   },
   {
    "duration": -237,
    "start_time": "2021-12-25T15:48:31.107Z"
   },
   {
    "duration": 48,
    "start_time": "2021-12-25T15:49:25.750Z"
   },
   {
    "duration": 855,
    "start_time": "2021-12-25T15:49:33.566Z"
   },
   {
    "duration": 15,
    "start_time": "2021-12-25T15:49:34.425Z"
   },
   {
    "duration": 35,
    "start_time": "2021-12-25T15:49:34.442Z"
   },
   {
    "duration": 12,
    "start_time": "2021-12-25T15:49:34.480Z"
   },
   {
    "duration": 22,
    "start_time": "2021-12-25T15:49:34.495Z"
   },
   {
    "duration": 46,
    "start_time": "2021-12-25T15:49:34.520Z"
   },
   {
    "duration": 9,
    "start_time": "2021-12-25T15:49:34.569Z"
   },
   {
    "duration": 16,
    "start_time": "2021-12-25T15:49:34.581Z"
   },
   {
    "duration": 7,
    "start_time": "2021-12-25T15:49:34.602Z"
   },
   {
    "duration": 62,
    "start_time": "2021-12-25T15:49:34.612Z"
   },
   {
    "duration": 9,
    "start_time": "2021-12-25T15:49:34.676Z"
   },
   {
    "duration": 17,
    "start_time": "2021-12-25T15:49:34.687Z"
   },
   {
    "duration": 7,
    "start_time": "2021-12-25T15:49:34.707Z"
   },
   {
    "duration": 57,
    "start_time": "2021-12-25T15:49:34.717Z"
   },
   {
    "duration": 9,
    "start_time": "2021-12-25T15:49:34.777Z"
   },
   {
    "duration": 15,
    "start_time": "2021-12-25T15:49:34.789Z"
   },
   {
    "duration": 69,
    "start_time": "2021-12-25T15:49:34.807Z"
   },
   {
    "duration": 11,
    "start_time": "2021-12-25T15:49:34.878Z"
   },
   {
    "duration": 25,
    "start_time": "2021-12-25T15:49:34.892Z"
   },
   {
    "duration": 1024,
    "start_time": "2021-12-25T15:49:34.920Z"
   },
   {
    "duration": 5484,
    "start_time": "2021-12-25T15:49:35.947Z"
   },
   {
    "duration": 33,
    "start_time": "2021-12-25T15:49:41.434Z"
   },
   {
    "duration": 48,
    "start_time": "2021-12-25T15:49:41.470Z"
   },
   {
    "duration": 52,
    "start_time": "2021-12-25T15:49:41.520Z"
   },
   {
    "duration": 35,
    "start_time": "2021-12-25T15:49:41.575Z"
   },
   {
    "duration": 72,
    "start_time": "2021-12-25T15:49:41.613Z"
   },
   {
    "duration": 29,
    "start_time": "2021-12-25T15:49:41.690Z"
   },
   {
    "duration": 57,
    "start_time": "2021-12-25T15:49:41.722Z"
   },
   {
    "duration": 32,
    "start_time": "2021-12-25T15:49:41.782Z"
   },
   {
    "duration": 47,
    "start_time": "2021-12-25T15:50:13.327Z"
   },
   {
    "duration": 28,
    "start_time": "2021-12-25T15:50:17.615Z"
   },
   {
    "duration": 28,
    "start_time": "2021-12-25T15:50:22.087Z"
   },
   {
    "duration": 32,
    "start_time": "2021-12-25T15:50:31.869Z"
   },
   {
    "duration": 638,
    "start_time": "2021-12-25T15:56:55.783Z"
   },
   {
    "duration": 19,
    "start_time": "2021-12-25T15:57:08.759Z"
   },
   {
    "duration": 848,
    "start_time": "2021-12-25T15:57:19.065Z"
   },
   {
    "duration": 16,
    "start_time": "2021-12-25T15:57:19.915Z"
   },
   {
    "duration": 39,
    "start_time": "2021-12-25T15:57:19.936Z"
   },
   {
    "duration": 12,
    "start_time": "2021-12-25T15:57:19.977Z"
   },
   {
    "duration": 21,
    "start_time": "2021-12-25T15:57:19.991Z"
   },
   {
    "duration": 13,
    "start_time": "2021-12-25T15:57:20.014Z"
   },
   {
    "duration": 10,
    "start_time": "2021-12-25T15:57:20.065Z"
   },
   {
    "duration": 17,
    "start_time": "2021-12-25T15:57:20.078Z"
   },
   {
    "duration": 9,
    "start_time": "2021-12-25T15:57:20.097Z"
   },
   {
    "duration": 56,
    "start_time": "2021-12-25T15:57:20.108Z"
   },
   {
    "duration": 8,
    "start_time": "2021-12-25T15:57:20.166Z"
   },
   {
    "duration": 16,
    "start_time": "2021-12-25T15:57:20.177Z"
   },
   {
    "duration": 8,
    "start_time": "2021-12-25T15:57:20.196Z"
   },
   {
    "duration": 16,
    "start_time": "2021-12-25T15:57:20.206Z"
   },
   {
    "duration": 8,
    "start_time": "2021-12-25T15:57:20.264Z"
   },
   {
    "duration": 18,
    "start_time": "2021-12-25T15:57:20.274Z"
   },
   {
    "duration": 30,
    "start_time": "2021-12-25T15:57:20.294Z"
   },
   {
    "duration": 44,
    "start_time": "2021-12-25T15:57:20.327Z"
   },
   {
    "duration": 26,
    "start_time": "2021-12-25T15:57:20.373Z"
   },
   {
    "duration": 982,
    "start_time": "2021-12-25T15:57:20.402Z"
   },
   {
    "duration": 4907,
    "start_time": "2021-12-25T15:57:21.387Z"
   },
   {
    "duration": 12,
    "start_time": "2021-12-25T15:57:26.298Z"
   },
   {
    "duration": 68,
    "start_time": "2021-12-25T15:57:26.313Z"
   },
   {
    "duration": 30,
    "start_time": "2021-12-25T15:57:26.383Z"
   },
   {
    "duration": 56,
    "start_time": "2021-12-25T15:57:26.415Z"
   },
   {
    "duration": 38,
    "start_time": "2021-12-25T15:57:26.474Z"
   },
   {
    "duration": 53,
    "start_time": "2021-12-25T15:57:26.514Z"
   },
   {
    "duration": 29,
    "start_time": "2021-12-25T15:57:26.569Z"
   },
   {
    "duration": 28,
    "start_time": "2021-12-25T15:57:26.600Z"
   },
   {
    "duration": 498,
    "start_time": "2021-12-25T16:02:04.763Z"
   },
   {
    "duration": 100,
    "start_time": "2021-12-25T16:42:31.429Z"
   },
   {
    "duration": 21,
    "start_time": "2021-12-25T17:29:38.232Z"
   },
   {
    "duration": 1088,
    "start_time": "2021-12-25T17:29:49.493Z"
   },
   {
    "duration": 23,
    "start_time": "2021-12-25T17:29:50.585Z"
   },
   {
    "duration": 19,
    "start_time": "2021-12-25T17:29:50.611Z"
   },
   {
    "duration": 41,
    "start_time": "2021-12-25T17:29:50.632Z"
   },
   {
    "duration": 19,
    "start_time": "2021-12-25T17:29:50.676Z"
   },
   {
    "duration": 8,
    "start_time": "2021-12-25T17:29:50.698Z"
   },
   {
    "duration": 13,
    "start_time": "2021-12-25T17:29:50.708Z"
   },
   {
    "duration": 53,
    "start_time": "2021-12-25T17:29:50.724Z"
   },
   {
    "duration": 16,
    "start_time": "2021-12-25T17:29:50.781Z"
   },
   {
    "duration": 17,
    "start_time": "2021-12-25T17:29:50.800Z"
   },
   {
    "duration": 8,
    "start_time": "2021-12-25T17:29:50.820Z"
   },
   {
    "duration": 16,
    "start_time": "2021-12-25T17:29:50.863Z"
   },
   {
    "duration": 9,
    "start_time": "2021-12-25T17:29:50.881Z"
   },
   {
    "duration": 16,
    "start_time": "2021-12-25T17:29:50.893Z"
   },
   {
    "duration": 52,
    "start_time": "2021-12-25T17:29:50.912Z"
   },
   {
    "duration": 24,
    "start_time": "2021-12-25T17:29:50.968Z"
   },
   {
    "duration": 36,
    "start_time": "2021-12-25T17:29:50.994Z"
   },
   {
    "duration": 36,
    "start_time": "2021-12-25T17:29:51.033Z"
   },
   {
    "duration": 27,
    "start_time": "2021-12-25T17:29:51.072Z"
   },
   {
    "duration": 994,
    "start_time": "2021-12-25T17:29:51.102Z"
   },
   {
    "duration": 6113,
    "start_time": "2021-12-25T17:29:52.099Z"
   },
   {
    "duration": 17,
    "start_time": "2021-12-25T17:29:58.215Z"
   },
   {
    "duration": 96,
    "start_time": "2021-12-25T17:29:58.235Z"
   },
   {
    "duration": 50,
    "start_time": "2021-12-25T17:29:58.334Z"
   },
   {
    "duration": 32,
    "start_time": "2021-12-25T17:29:58.386Z"
   },
   {
    "duration": 73,
    "start_time": "2021-12-25T17:29:58.421Z"
   },
   {
    "duration": 35,
    "start_time": "2021-12-25T17:29:58.501Z"
   },
   {
    "duration": 49,
    "start_time": "2021-12-25T17:29:58.539Z"
   },
   {
    "duration": 29,
    "start_time": "2021-12-25T17:29:58.591Z"
   },
   {
    "duration": 968,
    "start_time": "2021-12-25T18:29:30.254Z"
   },
   {
    "duration": 951,
    "start_time": "2021-12-25T18:33:41.714Z"
   },
   {
    "duration": 955,
    "start_time": "2021-12-25T18:33:51.952Z"
   },
   {
    "duration": 1109,
    "start_time": "2021-12-25T18:50:08.864Z"
   },
   {
    "duration": 1017,
    "start_time": "2021-12-25T18:50:18.991Z"
   },
   {
    "duration": 452,
    "start_time": "2021-12-25T19:22:25.287Z"
   },
   {
    "duration": 884,
    "start_time": "2021-12-25T19:22:36.633Z"
   },
   {
    "duration": 16,
    "start_time": "2021-12-25T19:22:37.521Z"
   },
   {
    "duration": 35,
    "start_time": "2021-12-25T19:22:37.540Z"
   },
   {
    "duration": 14,
    "start_time": "2021-12-25T19:22:37.578Z"
   },
   {
    "duration": 24,
    "start_time": "2021-12-25T19:22:37.595Z"
   },
   {
    "duration": 43,
    "start_time": "2021-12-25T19:22:37.622Z"
   },
   {
    "duration": 13,
    "start_time": "2021-12-25T19:22:37.667Z"
   },
   {
    "duration": 17,
    "start_time": "2021-12-25T19:22:37.683Z"
   },
   {
    "duration": 9,
    "start_time": "2021-12-25T19:22:37.704Z"
   },
   {
    "duration": 51,
    "start_time": "2021-12-25T19:22:37.715Z"
   },
   {
    "duration": 9,
    "start_time": "2021-12-25T19:22:37.769Z"
   },
   {
    "duration": 17,
    "start_time": "2021-12-25T19:22:37.780Z"
   },
   {
    "duration": 8,
    "start_time": "2021-12-25T19:22:37.799Z"
   },
   {
    "duration": 60,
    "start_time": "2021-12-25T19:22:37.809Z"
   },
   {
    "duration": 8,
    "start_time": "2021-12-25T19:22:37.872Z"
   },
   {
    "duration": 16,
    "start_time": "2021-12-25T19:22:37.882Z"
   },
   {
    "duration": 29,
    "start_time": "2021-12-25T19:22:37.900Z"
   },
   {
    "duration": 13,
    "start_time": "2021-12-25T19:22:37.963Z"
   },
   {
    "duration": 25,
    "start_time": "2021-12-25T19:22:37.978Z"
   },
   {
    "duration": 995,
    "start_time": "2021-12-25T19:22:38.005Z"
   },
   {
    "duration": 5614,
    "start_time": "2021-12-25T19:22:39.002Z"
   },
   {
    "duration": 11,
    "start_time": "2021-12-25T19:22:44.619Z"
   },
   {
    "duration": 65,
    "start_time": "2021-12-25T19:22:44.633Z"
   },
   {
    "duration": 28,
    "start_time": "2021-12-25T19:22:44.700Z"
   },
   {
    "duration": 57,
    "start_time": "2021-12-25T19:22:44.730Z"
   },
   {
    "duration": 38,
    "start_time": "2021-12-25T19:22:44.790Z"
   },
   {
    "duration": 59,
    "start_time": "2021-12-25T19:22:44.832Z"
   },
   {
    "duration": 478,
    "start_time": "2021-12-25T19:22:44.893Z"
   },
   {
    "duration": 17,
    "start_time": "2021-12-25T19:22:45.358Z"
   },
   {
    "duration": 28,
    "start_time": "2021-12-25T19:23:08.159Z"
   },
   {
    "duration": 317,
    "start_time": "2021-12-25T19:23:38.318Z"
   },
   {
    "duration": 31,
    "start_time": "2021-12-25T19:23:50.882Z"
   },
   {
    "duration": 30,
    "start_time": "2021-12-25T19:24:07.078Z"
   },
   {
    "duration": 30,
    "start_time": "2021-12-25T19:24:38.197Z"
   },
   {
    "duration": 91,
    "start_time": "2021-12-25T20:35:24.350Z"
   },
   {
    "duration": 87,
    "start_time": "2021-12-25T20:35:54.118Z"
   },
   {
    "duration": 27,
    "start_time": "2021-12-25T20:40:54.751Z"
   },
   {
    "duration": 36,
    "start_time": "2021-12-25T21:00:13.803Z"
   },
   {
    "duration": 929,
    "start_time": "2021-12-25T21:00:37.483Z"
   },
   {
    "duration": 15,
    "start_time": "2021-12-25T21:00:38.415Z"
   },
   {
    "duration": 34,
    "start_time": "2021-12-25T21:00:38.434Z"
   },
   {
    "duration": 12,
    "start_time": "2021-12-25T21:00:38.471Z"
   },
   {
    "duration": 19,
    "start_time": "2021-12-25T21:00:38.486Z"
   },
   {
    "duration": 8,
    "start_time": "2021-12-25T21:00:38.508Z"
   },
   {
    "duration": 50,
    "start_time": "2021-12-25T21:00:38.519Z"
   },
   {
    "duration": 17,
    "start_time": "2021-12-25T21:00:38.572Z"
   },
   {
    "duration": 9,
    "start_time": "2021-12-25T21:00:38.593Z"
   },
   {
    "duration": 59,
    "start_time": "2021-12-25T21:00:38.605Z"
   },
   {
    "duration": 10,
    "start_time": "2021-12-25T21:00:38.666Z"
   },
   {
    "duration": 25,
    "start_time": "2021-12-25T21:00:38.679Z"
   },
   {
    "duration": 12,
    "start_time": "2021-12-25T21:00:38.707Z"
   },
   {
    "duration": 52,
    "start_time": "2021-12-25T21:00:38.721Z"
   },
   {
    "duration": 8,
    "start_time": "2021-12-25T21:00:38.776Z"
   },
   {
    "duration": 17,
    "start_time": "2021-12-25T21:00:38.787Z"
   },
   {
    "duration": 66,
    "start_time": "2021-12-25T21:00:38.807Z"
   },
   {
    "duration": 12,
    "start_time": "2021-12-25T21:00:38.875Z"
   },
   {
    "duration": 26,
    "start_time": "2021-12-25T21:00:38.889Z"
   },
   {
    "duration": 1510,
    "start_time": "2021-12-25T21:00:38.917Z"
   },
   {
    "duration": 5645,
    "start_time": "2021-12-25T21:00:40.430Z"
   },
   {
    "duration": 11,
    "start_time": "2021-12-25T21:00:46.077Z"
   },
   {
    "duration": 50,
    "start_time": "2021-12-25T21:00:46.090Z"
   },
   {
    "duration": 60,
    "start_time": "2021-12-25T21:00:46.143Z"
   },
   {
    "duration": 69,
    "start_time": "2021-12-25T21:00:46.206Z"
   },
   {
    "duration": 53,
    "start_time": "2021-12-25T21:00:46.278Z"
   },
   {
    "duration": 75,
    "start_time": "2021-12-25T21:00:46.337Z"
   },
   {
    "duration": 60,
    "start_time": "2021-12-25T21:00:46.415Z"
   },
   {
    "duration": 42,
    "start_time": "2021-12-25T21:00:46.479Z"
   },
   {
    "duration": 68,
    "start_time": "2021-12-25T21:00:46.524Z"
   },
   {
    "duration": 66,
    "start_time": "2021-12-25T21:01:39.282Z"
   },
   {
    "duration": 44,
    "start_time": "2021-12-25T21:02:38.314Z"
   },
   {
    "duration": 1593,
    "start_time": "2021-12-25T21:04:59.230Z"
   },
   {
    "duration": 46,
    "start_time": "2021-12-25T21:05:20.197Z"
   },
   {
    "duration": 35,
    "start_time": "2021-12-25T21:05:40.750Z"
   },
   {
    "duration": 30,
    "start_time": "2021-12-25T21:05:49.349Z"
   },
   {
    "duration": 35,
    "start_time": "2021-12-25T21:05:58.463Z"
   },
   {
    "duration": 29,
    "start_time": "2021-12-25T21:14:07.125Z"
   },
   {
    "duration": 931,
    "start_time": "2021-12-25T22:08:18.749Z"
   },
   {
    "duration": 15,
    "start_time": "2021-12-25T22:08:19.683Z"
   },
   {
    "duration": 18,
    "start_time": "2021-12-25T22:08:19.701Z"
   },
   {
    "duration": 38,
    "start_time": "2021-12-25T22:08:19.723Z"
   },
   {
    "duration": 21,
    "start_time": "2021-12-25T22:08:19.765Z"
   },
   {
    "duration": 12,
    "start_time": "2021-12-25T22:08:19.789Z"
   },
   {
    "duration": 11,
    "start_time": "2021-12-25T22:08:19.804Z"
   },
   {
    "duration": 21,
    "start_time": "2021-12-25T22:08:19.864Z"
   },
   {
    "duration": 10,
    "start_time": "2021-12-25T22:08:19.889Z"
   },
   {
    "duration": 19,
    "start_time": "2021-12-25T22:08:19.902Z"
   },
   {
    "duration": 47,
    "start_time": "2021-12-25T22:08:19.923Z"
   },
   {
    "duration": 17,
    "start_time": "2021-12-25T22:08:19.974Z"
   },
   {
    "duration": 10,
    "start_time": "2021-12-25T22:08:19.994Z"
   },
   {
    "duration": 67,
    "start_time": "2021-12-25T22:08:20.007Z"
   },
   {
    "duration": 9,
    "start_time": "2021-12-25T22:08:20.077Z"
   },
   {
    "duration": 19,
    "start_time": "2021-12-25T22:08:20.089Z"
   },
   {
    "duration": 69,
    "start_time": "2021-12-25T22:08:20.111Z"
   },
   {
    "duration": 12,
    "start_time": "2021-12-25T22:08:20.182Z"
   },
   {
    "duration": 69,
    "start_time": "2021-12-25T22:08:20.197Z"
   },
   {
    "duration": 981,
    "start_time": "2021-12-25T22:08:20.269Z"
   },
   {
    "duration": 5458,
    "start_time": "2021-12-25T22:08:21.254Z"
   },
   {
    "duration": 13,
    "start_time": "2021-12-25T22:08:26.715Z"
   },
   {
    "duration": 62,
    "start_time": "2021-12-25T22:08:26.733Z"
   },
   {
    "duration": 33,
    "start_time": "2021-12-25T22:08:26.798Z"
   },
   {
    "duration": 58,
    "start_time": "2021-12-25T22:08:26.834Z"
   },
   {
    "duration": 35,
    "start_time": "2021-12-25T22:08:26.895Z"
   },
   {
    "duration": 68,
    "start_time": "2021-12-25T22:08:26.934Z"
   },
   {
    "duration": 59,
    "start_time": "2021-12-25T22:08:27.005Z"
   },
   {
    "duration": 31,
    "start_time": "2021-12-25T22:08:27.068Z"
   },
   {
    "duration": 60,
    "start_time": "2021-12-25T22:08:27.102Z"
   },
   {
    "duration": 907,
    "start_time": "2021-12-25T22:54:05.725Z"
   },
   {
    "duration": 35,
    "start_time": "2021-12-25T22:54:06.635Z"
   },
   {
    "duration": 26,
    "start_time": "2021-12-25T22:54:06.678Z"
   },
   {
    "duration": 18,
    "start_time": "2021-12-25T22:54:06.707Z"
   },
   {
    "duration": 53,
    "start_time": "2021-12-25T22:54:06.728Z"
   },
   {
    "duration": 10,
    "start_time": "2021-12-25T22:54:06.783Z"
   },
   {
    "duration": 10,
    "start_time": "2021-12-25T22:54:06.797Z"
   },
   {
    "duration": 62,
    "start_time": "2021-12-25T22:54:06.810Z"
   },
   {
    "duration": 10,
    "start_time": "2021-12-25T22:54:06.875Z"
   },
   {
    "duration": 18,
    "start_time": "2021-12-25T22:54:06.888Z"
   },
   {
    "duration": 54,
    "start_time": "2021-12-25T22:54:06.909Z"
   },
   {
    "duration": 21,
    "start_time": "2021-12-25T22:54:06.966Z"
   },
   {
    "duration": 8,
    "start_time": "2021-12-25T22:54:06.990Z"
   },
   {
    "duration": 19,
    "start_time": "2021-12-25T22:54:07.000Z"
   },
   {
    "duration": 43,
    "start_time": "2021-12-25T22:54:07.021Z"
   },
   {
    "duration": 22,
    "start_time": "2021-12-25T22:54:07.067Z"
   },
   {
    "duration": 31,
    "start_time": "2021-12-25T22:54:07.091Z"
   },
   {
    "duration": 48,
    "start_time": "2021-12-25T22:54:07.124Z"
   },
   {
    "duration": 27,
    "start_time": "2021-12-25T22:54:07.175Z"
   },
   {
    "duration": 1043,
    "start_time": "2021-12-25T22:54:07.205Z"
   },
   {
    "duration": 5059,
    "start_time": "2021-12-25T22:54:08.250Z"
   },
   {
    "duration": 12,
    "start_time": "2021-12-25T22:54:13.314Z"
   },
   {
    "duration": 74,
    "start_time": "2021-12-25T22:54:13.328Z"
   },
   {
    "duration": 31,
    "start_time": "2021-12-25T22:54:13.404Z"
   },
   {
    "duration": 56,
    "start_time": "2021-12-25T22:54:13.438Z"
   },
   {
    "duration": 33,
    "start_time": "2021-12-25T22:54:13.497Z"
   },
   {
    "duration": 67,
    "start_time": "2021-12-25T22:54:13.533Z"
   },
   {
    "duration": 27,
    "start_time": "2021-12-25T22:54:13.602Z"
   },
   {
    "duration": 60,
    "start_time": "2021-12-25T22:54:13.631Z"
   },
   {
    "duration": 28,
    "start_time": "2021-12-25T22:54:13.693Z"
   },
   {
    "duration": 64,
    "start_time": "2021-12-27T06:49:48.752Z"
   },
   {
    "duration": 62,
    "start_time": "2021-12-27T06:49:53.936Z"
   },
   {
    "duration": 234,
    "start_time": "2021-12-27T06:56:53.496Z"
   },
   {
    "duration": 197,
    "start_time": "2021-12-27T06:57:14.355Z"
   },
   {
    "duration": 219,
    "start_time": "2021-12-27T07:06:29.608Z"
   },
   {
    "duration": 246,
    "start_time": "2021-12-27T07:06:42.224Z"
   },
   {
    "duration": 203,
    "start_time": "2021-12-27T07:07:08.686Z"
   },
   {
    "duration": 199,
    "start_time": "2021-12-27T07:42:15.982Z"
   },
   {
    "duration": 335,
    "start_time": "2021-12-27T07:43:04.784Z"
   },
   {
    "duration": 667,
    "start_time": "2021-12-27T07:43:14.469Z"
   },
   {
    "duration": 10,
    "start_time": "2021-12-27T07:43:15.138Z"
   },
   {
    "duration": 12,
    "start_time": "2021-12-27T07:43:15.152Z"
   },
   {
    "duration": 29,
    "start_time": "2021-12-27T07:43:15.166Z"
   },
   {
    "duration": 14,
    "start_time": "2021-12-27T07:43:15.197Z"
   },
   {
    "duration": 12,
    "start_time": "2021-12-27T07:43:15.213Z"
   },
   {
    "duration": 10,
    "start_time": "2021-12-27T07:43:15.228Z"
   },
   {
    "duration": 19,
    "start_time": "2021-12-27T07:43:15.240Z"
   },
   {
    "duration": 34,
    "start_time": "2021-12-27T07:43:15.261Z"
   },
   {
    "duration": 15,
    "start_time": "2021-12-27T07:43:15.297Z"
   },
   {
    "duration": 8,
    "start_time": "2021-12-27T07:43:15.314Z"
   },
   {
    "duration": 16,
    "start_time": "2021-12-27T07:43:15.324Z"
   },
   {
    "duration": 8,
    "start_time": "2021-12-27T07:43:15.342Z"
   },
   {
    "duration": 48,
    "start_time": "2021-12-27T07:43:15.352Z"
   },
   {
    "duration": 7,
    "start_time": "2021-12-27T07:43:15.402Z"
   },
   {
    "duration": 13,
    "start_time": "2021-12-27T07:43:15.411Z"
   },
   {
    "duration": 250,
    "start_time": "2021-12-27T07:43:15.426Z"
   },
   {
    "duration": -104,
    "start_time": "2021-12-27T07:43:15.783Z"
   },
   {
    "duration": -104,
    "start_time": "2021-12-27T07:43:15.785Z"
   },
   {
    "duration": -105,
    "start_time": "2021-12-27T07:43:15.787Z"
   },
   {
    "duration": -110,
    "start_time": "2021-12-27T07:43:15.794Z"
   },
   {
    "duration": -112,
    "start_time": "2021-12-27T07:43:15.797Z"
   },
   {
    "duration": -113,
    "start_time": "2021-12-27T07:43:15.799Z"
   },
   {
    "duration": -112,
    "start_time": "2021-12-27T07:43:15.800Z"
   },
   {
    "duration": -114,
    "start_time": "2021-12-27T07:43:15.803Z"
   },
   {
    "duration": -118,
    "start_time": "2021-12-27T07:43:15.808Z"
   },
   {
    "duration": -118,
    "start_time": "2021-12-27T07:43:15.810Z"
   },
   {
    "duration": -119,
    "start_time": "2021-12-27T07:43:15.812Z"
   },
   {
    "duration": -119,
    "start_time": "2021-12-27T07:43:15.814Z"
   },
   {
    "duration": -119,
    "start_time": "2021-12-27T07:43:15.815Z"
   },
   {
    "duration": -119,
    "start_time": "2021-12-27T07:43:15.817Z"
   },
   {
    "duration": 264,
    "start_time": "2021-12-27T08:11:30.044Z"
   },
   {
    "duration": 208,
    "start_time": "2021-12-27T08:13:30.012Z"
   },
   {
    "duration": 196,
    "start_time": "2021-12-27T08:13:58.810Z"
   },
   {
    "duration": 197,
    "start_time": "2021-12-27T08:14:13.626Z"
   },
   {
    "duration": 191,
    "start_time": "2021-12-27T08:15:44.065Z"
   },
   {
    "duration": 208,
    "start_time": "2021-12-27T08:15:45.609Z"
   },
   {
    "duration": 665,
    "start_time": "2021-12-27T08:16:04.867Z"
   },
   {
    "duration": 12,
    "start_time": "2021-12-27T08:16:05.534Z"
   },
   {
    "duration": 13,
    "start_time": "2021-12-27T08:16:05.548Z"
   },
   {
    "duration": 34,
    "start_time": "2021-12-27T08:16:05.563Z"
   },
   {
    "duration": 17,
    "start_time": "2021-12-27T08:16:05.599Z"
   },
   {
    "duration": 8,
    "start_time": "2021-12-27T08:16:05.619Z"
   },
   {
    "duration": 8,
    "start_time": "2021-12-27T08:16:05.629Z"
   },
   {
    "duration": 11,
    "start_time": "2021-12-27T08:16:05.639Z"
   },
   {
    "duration": 42,
    "start_time": "2021-12-27T08:16:05.653Z"
   },
   {
    "duration": 19,
    "start_time": "2021-12-27T08:16:05.698Z"
   },
   {
    "duration": 19,
    "start_time": "2021-12-27T08:16:05.719Z"
   },
   {
    "duration": 15,
    "start_time": "2021-12-27T08:16:05.740Z"
   },
   {
    "duration": 15,
    "start_time": "2021-12-27T08:16:05.756Z"
   },
   {
    "duration": 23,
    "start_time": "2021-12-27T08:16:05.773Z"
   },
   {
    "duration": 9,
    "start_time": "2021-12-27T08:16:05.801Z"
   },
   {
    "duration": 18,
    "start_time": "2021-12-27T08:16:05.811Z"
   },
   {
    "duration": 393,
    "start_time": "2021-12-27T08:16:05.830Z"
   },
   {
    "duration": -116,
    "start_time": "2021-12-27T08:16:06.341Z"
   },
   {
    "duration": -118,
    "start_time": "2021-12-27T08:16:06.344Z"
   },
   {
    "duration": -120,
    "start_time": "2021-12-27T08:16:06.346Z"
   },
   {
    "duration": -119,
    "start_time": "2021-12-27T08:16:06.347Z"
   },
   {
    "duration": -121,
    "start_time": "2021-12-27T08:16:06.349Z"
   },
   {
    "duration": -121,
    "start_time": "2021-12-27T08:16:06.350Z"
   },
   {
    "duration": -122,
    "start_time": "2021-12-27T08:16:06.352Z"
   },
   {
    "duration": -126,
    "start_time": "2021-12-27T08:16:06.357Z"
   },
   {
    "duration": -128,
    "start_time": "2021-12-27T08:16:06.360Z"
   },
   {
    "duration": -128,
    "start_time": "2021-12-27T08:16:06.361Z"
   },
   {
    "duration": -129,
    "start_time": "2021-12-27T08:16:06.363Z"
   },
   {
    "duration": -129,
    "start_time": "2021-12-27T08:16:06.364Z"
   },
   {
    "duration": -130,
    "start_time": "2021-12-27T08:16:06.366Z"
   },
   {
    "duration": -130,
    "start_time": "2021-12-27T08:16:06.367Z"
   },
   {
    "duration": 188,
    "start_time": "2021-12-27T08:16:53.502Z"
   },
   {
    "duration": 3,
    "start_time": "2021-12-27T08:18:23.665Z"
   },
   {
    "duration": 3,
    "start_time": "2021-12-27T08:18:26.262Z"
   },
   {
    "duration": 5,
    "start_time": "2021-12-27T08:18:30.044Z"
   },
   {
    "duration": 2,
    "start_time": "2021-12-27T08:19:15.227Z"
   },
   {
    "duration": 3,
    "start_time": "2021-12-27T08:19:28.417Z"
   },
   {
    "duration": 230,
    "start_time": "2021-12-27T08:20:03.033Z"
   },
   {
    "duration": 201,
    "start_time": "2021-12-27T08:20:45.202Z"
   },
   {
    "duration": 195,
    "start_time": "2021-12-27T08:21:14.402Z"
   },
   {
    "duration": -116,
    "start_time": "2021-12-27T08:21:30.272Z"
   },
   {
    "duration": 747,
    "start_time": "2021-12-27T08:22:02.504Z"
   },
   {
    "duration": 12,
    "start_time": "2021-12-27T08:22:03.253Z"
   },
   {
    "duration": 26,
    "start_time": "2021-12-27T08:22:03.267Z"
   },
   {
    "duration": 15,
    "start_time": "2021-12-27T08:22:03.298Z"
   },
   {
    "duration": 14,
    "start_time": "2021-12-27T08:22:03.315Z"
   },
   {
    "duration": 7,
    "start_time": "2021-12-27T08:22:03.330Z"
   },
   {
    "duration": 13,
    "start_time": "2021-12-27T08:22:03.338Z"
   },
   {
    "duration": 51,
    "start_time": "2021-12-27T08:22:03.354Z"
   },
   {
    "duration": 10,
    "start_time": "2021-12-27T08:22:03.408Z"
   },
   {
    "duration": 23,
    "start_time": "2021-12-27T08:22:03.420Z"
   },
   {
    "duration": 7,
    "start_time": "2021-12-27T08:22:03.445Z"
   },
   {
    "duration": 39,
    "start_time": "2021-12-27T08:22:03.454Z"
   },
   {
    "duration": 11,
    "start_time": "2021-12-27T08:22:03.497Z"
   },
   {
    "duration": 13,
    "start_time": "2021-12-27T08:22:03.511Z"
   },
   {
    "duration": 8,
    "start_time": "2021-12-27T08:22:03.526Z"
   },
   {
    "duration": 18,
    "start_time": "2021-12-27T08:22:03.536Z"
   },
   {
    "duration": 4714,
    "start_time": "2021-12-27T08:22:03.556Z"
   },
   {
    "duration": -127,
    "start_time": "2021-12-27T08:22:08.399Z"
   },
   {
    "duration": -129,
    "start_time": "2021-12-27T08:22:08.402Z"
   },
   {
    "duration": -130,
    "start_time": "2021-12-27T08:22:08.404Z"
   },
   {
    "duration": -132,
    "start_time": "2021-12-27T08:22:08.407Z"
   },
   {
    "duration": -133,
    "start_time": "2021-12-27T08:22:08.409Z"
   },
   {
    "duration": -134,
    "start_time": "2021-12-27T08:22:08.411Z"
   },
   {
    "duration": -135,
    "start_time": "2021-12-27T08:22:08.413Z"
   },
   {
    "duration": -136,
    "start_time": "2021-12-27T08:22:08.415Z"
   },
   {
    "duration": -137,
    "start_time": "2021-12-27T08:22:08.417Z"
   },
   {
    "duration": -137,
    "start_time": "2021-12-27T08:22:08.418Z"
   },
   {
    "duration": -143,
    "start_time": "2021-12-27T08:22:08.425Z"
   },
   {
    "duration": -143,
    "start_time": "2021-12-27T08:22:08.426Z"
   },
   {
    "duration": -144,
    "start_time": "2021-12-27T08:22:08.428Z"
   },
   {
    "duration": -145,
    "start_time": "2021-12-27T08:22:08.430Z"
   },
   {
    "duration": 5706,
    "start_time": "2021-12-27T08:22:29.758Z"
   },
   {
    "duration": 4763,
    "start_time": "2021-12-27T08:22:54.950Z"
   },
   {
    "duration": 25,
    "start_time": "2021-12-27T08:23:08.229Z"
   },
   {
    "duration": 28,
    "start_time": "2021-12-27T08:23:11.102Z"
   },
   {
    "duration": 47,
    "start_time": "2021-12-27T08:23:36.702Z"
   },
   {
    "duration": 50,
    "start_time": "2021-12-27T08:23:58.869Z"
   },
   {
    "duration": 51,
    "start_time": "2021-12-27T08:27:17.321Z"
   },
   {
    "duration": 58,
    "start_time": "2021-12-27T08:29:57.214Z"
   },
   {
    "duration": 59,
    "start_time": "2021-12-27T08:46:24.940Z"
   },
   {
    "duration": 17,
    "start_time": "2021-12-27T09:02:13.996Z"
   },
   {
    "duration": 14,
    "start_time": "2021-12-27T09:02:41.003Z"
   },
   {
    "duration": 11,
    "start_time": "2021-12-27T09:02:51.931Z"
   },
   {
    "duration": 202,
    "start_time": "2021-12-27T09:21:10.131Z"
   },
   {
    "duration": 203,
    "start_time": "2021-12-27T09:21:28.032Z"
   },
   {
    "duration": 4,
    "start_time": "2021-12-27T09:22:18.407Z"
   },
   {
    "duration": 7,
    "start_time": "2021-12-27T09:24:29.006Z"
   },
   {
    "duration": 9,
    "start_time": "2021-12-27T09:24:49.573Z"
   },
   {
    "duration": 14,
    "start_time": "2021-12-27T09:27:07.948Z"
   },
   {
    "duration": 13,
    "start_time": "2021-12-27T09:27:22.667Z"
   },
   {
    "duration": 11,
    "start_time": "2021-12-27T09:27:30.266Z"
   },
   {
    "duration": 656,
    "start_time": "2021-12-27T09:27:43.371Z"
   },
   {
    "duration": 12,
    "start_time": "2021-12-27T09:27:44.029Z"
   },
   {
    "duration": 12,
    "start_time": "2021-12-27T09:27:44.043Z"
   },
   {
    "duration": 11,
    "start_time": "2021-12-27T09:27:44.057Z"
   },
   {
    "duration": 18,
    "start_time": "2021-12-27T09:27:44.092Z"
   },
   {
    "duration": 7,
    "start_time": "2021-12-27T09:27:44.112Z"
   },
   {
    "duration": 9,
    "start_time": "2021-12-27T09:27:44.121Z"
   },
   {
    "duration": 12,
    "start_time": "2021-12-27T09:27:44.133Z"
   },
   {
    "duration": 6,
    "start_time": "2021-12-27T09:27:44.147Z"
   },
   {
    "duration": 18,
    "start_time": "2021-12-27T09:27:44.194Z"
   },
   {
    "duration": 6,
    "start_time": "2021-12-27T09:27:44.214Z"
   },
   {
    "duration": 10,
    "start_time": "2021-12-27T09:27:44.222Z"
   },
   {
    "duration": 7,
    "start_time": "2021-12-27T09:27:44.233Z"
   },
   {
    "duration": 13,
    "start_time": "2021-12-27T09:27:44.241Z"
   },
   {
    "duration": 9,
    "start_time": "2021-12-27T09:27:44.292Z"
   },
   {
    "duration": 14,
    "start_time": "2021-12-27T09:27:44.304Z"
   },
   {
    "duration": 101,
    "start_time": "2021-12-27T09:27:44.320Z"
   },
   {
    "duration": 11,
    "start_time": "2021-12-27T09:27:44.422Z"
   },
   {
    "duration": 7,
    "start_time": "2021-12-27T09:27:44.435Z"
   },
   {
    "duration": 8,
    "start_time": "2021-12-27T09:27:44.444Z"
   },
   {
    "duration": 56,
    "start_time": "2021-12-27T09:27:44.454Z"
   },
   {
    "duration": 9,
    "start_time": "2021-12-27T09:27:44.511Z"
   },
   {
    "duration": 23,
    "start_time": "2021-12-27T09:27:44.523Z"
   },
   {
    "duration": 731,
    "start_time": "2021-12-27T09:27:44.548Z"
   },
   {
    "duration": 3894,
    "start_time": "2021-12-27T09:27:45.280Z"
   },
   {
    "duration": 17,
    "start_time": "2021-12-27T09:27:49.176Z"
   },
   {
    "duration": 35,
    "start_time": "2021-12-27T09:27:49.195Z"
   },
   {
    "duration": 20,
    "start_time": "2021-12-27T09:27:49.231Z"
   },
   {
    "duration": 47,
    "start_time": "2021-12-27T09:27:49.253Z"
   },
   {
    "duration": 33,
    "start_time": "2021-12-27T09:27:49.302Z"
   },
   {
    "duration": 30,
    "start_time": "2021-12-27T09:27:49.337Z"
   },
   {
    "duration": 45,
    "start_time": "2021-12-27T09:27:49.369Z"
   },
   {
    "duration": 20,
    "start_time": "2021-12-27T09:27:49.416Z"
   },
   {
    "duration": 20,
    "start_time": "2021-12-27T09:27:49.437Z"
   },
   {
    "duration": 11,
    "start_time": "2021-12-27T09:28:36.373Z"
   },
   {
    "duration": 10,
    "start_time": "2021-12-27T09:29:11.948Z"
   },
   {
    "duration": 7,
    "start_time": "2021-12-27T09:59:13.534Z"
   },
   {
    "duration": 18,
    "start_time": "2021-12-27T10:00:01.910Z"
   },
   {
    "duration": 19,
    "start_time": "2021-12-27T10:03:34.401Z"
   },
   {
    "duration": 258,
    "start_time": "2021-12-27T10:13:49.991Z"
   },
   {
    "duration": 18,
    "start_time": "2021-12-27T10:13:58.143Z"
   },
   {
    "duration": 57,
    "start_time": "2021-12-27T10:22:43.923Z"
   },
   {
    "duration": 21,
    "start_time": "2021-12-27T10:22:51.829Z"
   },
   {
    "duration": 582,
    "start_time": "2021-12-27T10:24:09.135Z"
   },
   {
    "duration": 10,
    "start_time": "2021-12-27T10:24:09.719Z"
   },
   {
    "duration": 15,
    "start_time": "2021-12-27T10:24:09.731Z"
   },
   {
    "duration": 13,
    "start_time": "2021-12-27T10:24:09.747Z"
   },
   {
    "duration": 32,
    "start_time": "2021-12-27T10:24:09.761Z"
   },
   {
    "duration": 6,
    "start_time": "2021-12-27T10:24:09.795Z"
   },
   {
    "duration": 8,
    "start_time": "2021-12-27T10:24:09.803Z"
   },
   {
    "duration": 12,
    "start_time": "2021-12-27T10:24:09.813Z"
   },
   {
    "duration": 6,
    "start_time": "2021-12-27T10:24:09.826Z"
   },
   {
    "duration": 12,
    "start_time": "2021-12-27T10:24:09.833Z"
   },
   {
    "duration": 7,
    "start_time": "2021-12-27T10:24:09.847Z"
   },
   {
    "duration": 42,
    "start_time": "2021-12-27T10:24:09.856Z"
   },
   {
    "duration": 6,
    "start_time": "2021-12-27T10:24:09.899Z"
   },
   {
    "duration": 10,
    "start_time": "2021-12-27T10:24:09.906Z"
   },
   {
    "duration": 7,
    "start_time": "2021-12-27T10:24:09.918Z"
   },
   {
    "duration": 12,
    "start_time": "2021-12-27T10:24:09.926Z"
   },
   {
    "duration": 85,
    "start_time": "2021-12-27T10:24:09.939Z"
   },
   {
    "duration": 13,
    "start_time": "2021-12-27T10:24:10.026Z"
   },
   {
    "duration": 54,
    "start_time": "2021-12-27T10:24:10.041Z"
   },
   {
    "duration": 9,
    "start_time": "2021-12-27T10:24:10.097Z"
   },
   {
    "duration": 19,
    "start_time": "2021-12-27T10:24:10.108Z"
   },
   {
    "duration": 670,
    "start_time": "2021-12-27T10:24:10.129Z"
   },
   {
    "duration": 3372,
    "start_time": "2021-12-27T10:24:10.803Z"
   },
   {
    "duration": 20,
    "start_time": "2021-12-27T10:24:14.177Z"
   },
   {
    "duration": 28,
    "start_time": "2021-12-27T10:24:14.198Z"
   },
   {
    "duration": 21,
    "start_time": "2021-12-27T10:24:14.228Z"
   },
   {
    "duration": 18,
    "start_time": "2021-12-27T10:24:14.250Z"
   },
   {
    "duration": 20,
    "start_time": "2021-12-27T10:24:14.292Z"
   },
   {
    "duration": 28,
    "start_time": "2021-12-27T10:24:14.313Z"
   },
   {
    "duration": 17,
    "start_time": "2021-12-27T10:24:14.342Z"
   },
   {
    "duration": 44,
    "start_time": "2021-12-27T10:24:14.360Z"
   },
   {
    "duration": 19,
    "start_time": "2021-12-27T10:24:14.405Z"
   },
   {
    "duration": 878,
    "start_time": "2021-12-27T15:42:59.893Z"
   },
   {
    "duration": 15,
    "start_time": "2021-12-27T15:43:00.774Z"
   },
   {
    "duration": 18,
    "start_time": "2021-12-27T15:43:00.792Z"
   },
   {
    "duration": 12,
    "start_time": "2021-12-27T15:43:00.813Z"
   },
   {
    "duration": 49,
    "start_time": "2021-12-27T15:43:00.828Z"
   },
   {
    "duration": 8,
    "start_time": "2021-12-27T15:43:00.880Z"
   },
   {
    "duration": 9,
    "start_time": "2021-12-27T15:43:00.890Z"
   },
   {
    "duration": 56,
    "start_time": "2021-12-27T15:43:00.903Z"
   },
   {
    "duration": 10,
    "start_time": "2021-12-27T15:43:00.962Z"
   },
   {
    "duration": 21,
    "start_time": "2021-12-27T15:43:00.974Z"
   },
   {
    "duration": 9,
    "start_time": "2021-12-27T15:43:00.998Z"
   },
   {
    "duration": 56,
    "start_time": "2021-12-27T15:43:01.010Z"
   },
   {
    "duration": 22,
    "start_time": "2021-12-27T15:43:01.069Z"
   },
   {
    "duration": 36,
    "start_time": "2021-12-27T15:43:01.094Z"
   },
   {
    "duration": 11,
    "start_time": "2021-12-27T15:43:01.133Z"
   },
   {
    "duration": 27,
    "start_time": "2021-12-27T15:43:01.147Z"
   },
   {
    "duration": 116,
    "start_time": "2021-12-27T15:43:01.177Z"
   },
   {
    "duration": 17,
    "start_time": "2021-12-27T15:43:01.295Z"
   },
   {
    "duration": 64,
    "start_time": "2021-12-27T15:43:01.315Z"
   },
   {
    "duration": 10,
    "start_time": "2021-12-27T15:43:01.381Z"
   },
   {
    "duration": 27,
    "start_time": "2021-12-27T15:43:01.393Z"
   },
   {
    "duration": 992,
    "start_time": "2021-12-27T15:43:01.423Z"
   },
   {
    "duration": 5227,
    "start_time": "2021-12-27T15:43:02.422Z"
   },
   {
    "duration": 16,
    "start_time": "2021-12-27T15:43:07.652Z"
   },
   {
    "duration": 44,
    "start_time": "2021-12-27T15:43:07.670Z"
   },
   {
    "duration": 60,
    "start_time": "2021-12-27T15:43:07.716Z"
   },
   {
    "duration": 30,
    "start_time": "2021-12-27T15:43:07.779Z"
   },
   {
    "duration": 60,
    "start_time": "2021-12-27T15:43:07.811Z"
   },
   {
    "duration": 40,
    "start_time": "2021-12-27T15:43:07.873Z"
   },
   {
    "duration": 49,
    "start_time": "2021-12-27T15:43:07.916Z"
   },
   {
    "duration": 30,
    "start_time": "2021-12-27T15:43:07.968Z"
   },
   {
    "duration": 28,
    "start_time": "2021-12-27T15:43:08.001Z"
   },
   {
    "duration": 6,
    "start_time": "2021-12-27T18:27:07.834Z"
   },
   {
    "duration": 540,
    "start_time": "2022-01-14T16:23:39.518Z"
   },
   {
    "duration": 365,
    "start_time": "2022-01-15T16:33:51.591Z"
   },
   {
    "duration": 791,
    "start_time": "2022-01-15T16:34:06.029Z"
   },
   {
    "duration": 12,
    "start_time": "2022-01-15T16:34:06.822Z"
   },
   {
    "duration": 12,
    "start_time": "2022-01-15T16:34:06.837Z"
   },
   {
    "duration": 20,
    "start_time": "2022-01-15T16:34:06.852Z"
   },
   {
    "duration": 15,
    "start_time": "2022-01-15T16:34:06.874Z"
   },
   {
    "duration": 7,
    "start_time": "2022-01-15T16:34:06.890Z"
   },
   {
    "duration": 10,
    "start_time": "2022-01-15T16:34:06.898Z"
   },
   {
    "duration": 51,
    "start_time": "2022-01-15T16:34:06.909Z"
   },
   {
    "duration": 7,
    "start_time": "2022-01-15T16:34:06.963Z"
   },
   {
    "duration": 11,
    "start_time": "2022-01-15T16:34:06.972Z"
   },
   {
    "duration": 16,
    "start_time": "2022-01-15T16:34:06.985Z"
   },
   {
    "duration": 15,
    "start_time": "2022-01-15T16:34:07.002Z"
   },
   {
    "duration": 6,
    "start_time": "2022-01-15T16:34:07.019Z"
   },
   {
    "duration": 39,
    "start_time": "2022-01-15T16:34:07.027Z"
   },
   {
    "duration": 6,
    "start_time": "2022-01-15T16:34:07.068Z"
   },
   {
    "duration": 16,
    "start_time": "2022-01-15T16:34:07.077Z"
   },
   {
    "duration": 86,
    "start_time": "2022-01-15T16:34:07.095Z"
   },
   {
    "duration": 11,
    "start_time": "2022-01-15T16:34:07.183Z"
   },
   {
    "duration": 24,
    "start_time": "2022-01-15T16:34:07.195Z"
   },
   {
    "duration": 8,
    "start_time": "2022-01-15T16:34:07.221Z"
   },
   {
    "duration": 47,
    "start_time": "2022-01-15T16:34:07.231Z"
   },
   {
    "duration": 673,
    "start_time": "2022-01-15T16:34:07.280Z"
   },
   {
    "duration": 4213,
    "start_time": "2022-01-15T16:34:07.955Z"
   },
   {
    "duration": 9,
    "start_time": "2022-01-15T16:34:12.170Z"
   },
   {
    "duration": 29,
    "start_time": "2022-01-15T16:34:12.181Z"
   },
   {
    "duration": 48,
    "start_time": "2022-01-15T16:34:12.212Z"
   },
   {
    "duration": 19,
    "start_time": "2022-01-15T16:34:12.264Z"
   },
   {
    "duration": 21,
    "start_time": "2022-01-15T16:34:12.285Z"
   },
   {
    "duration": 54,
    "start_time": "2022-01-15T16:34:12.308Z"
   },
   {
    "duration": 20,
    "start_time": "2022-01-15T16:34:12.363Z"
   },
   {
    "duration": 20,
    "start_time": "2022-01-15T16:34:12.385Z"
   },
   {
    "duration": 19,
    "start_time": "2022-01-15T16:34:12.407Z"
   },
   {
    "duration": 32,
    "start_time": "2022-01-15T16:34:12.428Z"
   }
  ],
  "kernelspec": {
   "display_name": "Python 3 (ipykernel)",
   "language": "python",
   "name": "python3"
  },
  "language_info": {
   "codemirror_mode": {
    "name": "ipython",
    "version": 3
   },
   "file_extension": ".py",
   "mimetype": "text/x-python",
   "name": "python",
   "nbconvert_exporter": "python",
   "pygments_lexer": "ipython3",
   "version": "3.9.12"
  },
  "toc": {
   "base_numbering": 1,
   "nav_menu": {
    "height": "225px",
    "width": "301px"
   },
   "number_sections": true,
   "sideBar": true,
   "skip_h1_title": true,
   "title_cell": "Table of Contents",
   "title_sidebar": "Contents",
   "toc_cell": false,
   "toc_position": {
    "height": "calc(100% - 180px)",
    "left": "10px",
    "top": "150px",
    "width": "366.391px"
   },
   "toc_section_display": true,
   "toc_window_display": false
  }
 },
 "nbformat": 4,
 "nbformat_minor": 2
}
