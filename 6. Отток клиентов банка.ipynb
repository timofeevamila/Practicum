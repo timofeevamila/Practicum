{
 "cells": [
  {
   "cell_type": "markdown",
   "metadata": {},
   "source": [
    "# Отток клиентов"
   ]
  },
  {
   "cell_type": "markdown",
   "metadata": {},
   "source": [
    "Из «Бета-Банка» стали уходить клиенты. Каждый месяц. Немного, но заметно. Банковские маркетологи посчитали: сохранять текущих клиентов дешевле, чем привлекать новых.\n",
    "\n",
    "Нужно спрогнозировать, уйдёт клиент из банка в ближайшее время или нет. Вам предоставлены исторические данные о поведении клиентов и расторжении договоров с банком. \n",
    "\n",
    "Постройте модель с предельно большим значением *F1*-меры. Чтобы сдать проект успешно, нужно довести метрику до 0.59. Проверьте *F1*-меру на тестовой выборке самостоятельно.\n",
    "\n",
    "Дополнительно измеряйте *AUC-ROC*, сравнивайте её значение с *F1*-мерой.\n",
    "\n",
    "Источник данных: [https://www.kaggle.com/barelydedicated/bank-customer-churn-modeling](https://www.kaggle.com/barelydedicated/bank-customer-churn-modeling)"
   ]
  },
  {
   "cell_type": "markdown",
   "metadata": {},
   "source": [
    "## Подготовка данных"
   ]
  },
  {
   "cell_type": "markdown",
   "metadata": {},
   "source": [
    "### Изучение данных из файла\n",
    "Импортируем библиотеки, с которыми будем работать"
   ]
  },
  {
   "cell_type": "code",
   "execution_count": 1,
   "metadata": {},
   "outputs": [],
   "source": [
    "import pandas as pd\n",
    "\n",
    "from sklearn.model_selection import train_test_split\n",
    "from sklearn.preprocessing import StandardScaler\n",
    "from sklearn.tree import DecisionTreeClassifier\n",
    "from sklearn.ensemble import RandomForestClassifier\n",
    "from sklearn.linear_model import LogisticRegression\n",
    "from sklearn.dummy import DummyClassifier\n",
    "from sklearn.metrics import f1_score\n",
    "from sklearn.metrics import roc_auc_score \n",
    "from sklearn.metrics import roc_curve\n",
    "from sklearn.utils import shuffle\n",
    "\n",
    "import seaborn as sbn\n",
    "import matplotlib.pyplot as plt\n",
    "\n",
    "import warnings\n",
    "warnings.filterwarnings('ignore')"
   ]
  },
  {
   "cell_type": "markdown",
   "metadata": {},
   "source": [
    "Сохраняем данные в переменную `df`"
   ]
  },
  {
   "cell_type": "code",
   "execution_count": 2,
   "metadata": {
    "scrolled": false
   },
   "outputs": [
    {
     "data": {
      "text/html": [
       "<div>\n",
       "<style scoped>\n",
       "    .dataframe tbody tr th:only-of-type {\n",
       "        vertical-align: middle;\n",
       "    }\n",
       "\n",
       "    .dataframe tbody tr th {\n",
       "        vertical-align: top;\n",
       "    }\n",
       "\n",
       "    .dataframe thead th {\n",
       "        text-align: right;\n",
       "    }\n",
       "</style>\n",
       "<table border=\"1\" class=\"dataframe\">\n",
       "  <thead>\n",
       "    <tr style=\"text-align: right;\">\n",
       "      <th></th>\n",
       "      <th>RowNumber</th>\n",
       "      <th>CustomerId</th>\n",
       "      <th>Surname</th>\n",
       "      <th>CreditScore</th>\n",
       "      <th>Geography</th>\n",
       "      <th>Gender</th>\n",
       "      <th>Age</th>\n",
       "      <th>Tenure</th>\n",
       "      <th>Balance</th>\n",
       "      <th>NumOfProducts</th>\n",
       "      <th>HasCrCard</th>\n",
       "      <th>IsActiveMember</th>\n",
       "      <th>EstimatedSalary</th>\n",
       "      <th>Exited</th>\n",
       "    </tr>\n",
       "  </thead>\n",
       "  <tbody>\n",
       "    <tr>\n",
       "      <td>0</td>\n",
       "      <td>1</td>\n",
       "      <td>15634602</td>\n",
       "      <td>Hargrave</td>\n",
       "      <td>619</td>\n",
       "      <td>France</td>\n",
       "      <td>Female</td>\n",
       "      <td>42</td>\n",
       "      <td>2.0</td>\n",
       "      <td>0.00</td>\n",
       "      <td>1</td>\n",
       "      <td>1</td>\n",
       "      <td>1</td>\n",
       "      <td>101348.88</td>\n",
       "      <td>1</td>\n",
       "    </tr>\n",
       "    <tr>\n",
       "      <td>1</td>\n",
       "      <td>2</td>\n",
       "      <td>15647311</td>\n",
       "      <td>Hill</td>\n",
       "      <td>608</td>\n",
       "      <td>Spain</td>\n",
       "      <td>Female</td>\n",
       "      <td>41</td>\n",
       "      <td>1.0</td>\n",
       "      <td>83807.86</td>\n",
       "      <td>1</td>\n",
       "      <td>0</td>\n",
       "      <td>1</td>\n",
       "      <td>112542.58</td>\n",
       "      <td>0</td>\n",
       "    </tr>\n",
       "    <tr>\n",
       "      <td>2</td>\n",
       "      <td>3</td>\n",
       "      <td>15619304</td>\n",
       "      <td>Onio</td>\n",
       "      <td>502</td>\n",
       "      <td>France</td>\n",
       "      <td>Female</td>\n",
       "      <td>42</td>\n",
       "      <td>8.0</td>\n",
       "      <td>159660.80</td>\n",
       "      <td>3</td>\n",
       "      <td>1</td>\n",
       "      <td>0</td>\n",
       "      <td>113931.57</td>\n",
       "      <td>1</td>\n",
       "    </tr>\n",
       "    <tr>\n",
       "      <td>3</td>\n",
       "      <td>4</td>\n",
       "      <td>15701354</td>\n",
       "      <td>Boni</td>\n",
       "      <td>699</td>\n",
       "      <td>France</td>\n",
       "      <td>Female</td>\n",
       "      <td>39</td>\n",
       "      <td>1.0</td>\n",
       "      <td>0.00</td>\n",
       "      <td>2</td>\n",
       "      <td>0</td>\n",
       "      <td>0</td>\n",
       "      <td>93826.63</td>\n",
       "      <td>0</td>\n",
       "    </tr>\n",
       "    <tr>\n",
       "      <td>4</td>\n",
       "      <td>5</td>\n",
       "      <td>15737888</td>\n",
       "      <td>Mitchell</td>\n",
       "      <td>850</td>\n",
       "      <td>Spain</td>\n",
       "      <td>Female</td>\n",
       "      <td>43</td>\n",
       "      <td>2.0</td>\n",
       "      <td>125510.82</td>\n",
       "      <td>1</td>\n",
       "      <td>1</td>\n",
       "      <td>1</td>\n",
       "      <td>79084.10</td>\n",
       "      <td>0</td>\n",
       "    </tr>\n",
       "    <tr>\n",
       "      <td>...</td>\n",
       "      <td>...</td>\n",
       "      <td>...</td>\n",
       "      <td>...</td>\n",
       "      <td>...</td>\n",
       "      <td>...</td>\n",
       "      <td>...</td>\n",
       "      <td>...</td>\n",
       "      <td>...</td>\n",
       "      <td>...</td>\n",
       "      <td>...</td>\n",
       "      <td>...</td>\n",
       "      <td>...</td>\n",
       "      <td>...</td>\n",
       "      <td>...</td>\n",
       "    </tr>\n",
       "    <tr>\n",
       "      <td>9995</td>\n",
       "      <td>9996</td>\n",
       "      <td>15606229</td>\n",
       "      <td>Obijiaku</td>\n",
       "      <td>771</td>\n",
       "      <td>France</td>\n",
       "      <td>Male</td>\n",
       "      <td>39</td>\n",
       "      <td>5.0</td>\n",
       "      <td>0.00</td>\n",
       "      <td>2</td>\n",
       "      <td>1</td>\n",
       "      <td>0</td>\n",
       "      <td>96270.64</td>\n",
       "      <td>0</td>\n",
       "    </tr>\n",
       "    <tr>\n",
       "      <td>9996</td>\n",
       "      <td>9997</td>\n",
       "      <td>15569892</td>\n",
       "      <td>Johnstone</td>\n",
       "      <td>516</td>\n",
       "      <td>France</td>\n",
       "      <td>Male</td>\n",
       "      <td>35</td>\n",
       "      <td>10.0</td>\n",
       "      <td>57369.61</td>\n",
       "      <td>1</td>\n",
       "      <td>1</td>\n",
       "      <td>1</td>\n",
       "      <td>101699.77</td>\n",
       "      <td>0</td>\n",
       "    </tr>\n",
       "    <tr>\n",
       "      <td>9997</td>\n",
       "      <td>9998</td>\n",
       "      <td>15584532</td>\n",
       "      <td>Liu</td>\n",
       "      <td>709</td>\n",
       "      <td>France</td>\n",
       "      <td>Female</td>\n",
       "      <td>36</td>\n",
       "      <td>7.0</td>\n",
       "      <td>0.00</td>\n",
       "      <td>1</td>\n",
       "      <td>0</td>\n",
       "      <td>1</td>\n",
       "      <td>42085.58</td>\n",
       "      <td>1</td>\n",
       "    </tr>\n",
       "    <tr>\n",
       "      <td>9998</td>\n",
       "      <td>9999</td>\n",
       "      <td>15682355</td>\n",
       "      <td>Sabbatini</td>\n",
       "      <td>772</td>\n",
       "      <td>Germany</td>\n",
       "      <td>Male</td>\n",
       "      <td>42</td>\n",
       "      <td>3.0</td>\n",
       "      <td>75075.31</td>\n",
       "      <td>2</td>\n",
       "      <td>1</td>\n",
       "      <td>0</td>\n",
       "      <td>92888.52</td>\n",
       "      <td>1</td>\n",
       "    </tr>\n",
       "    <tr>\n",
       "      <td>9999</td>\n",
       "      <td>10000</td>\n",
       "      <td>15628319</td>\n",
       "      <td>Walker</td>\n",
       "      <td>792</td>\n",
       "      <td>France</td>\n",
       "      <td>Female</td>\n",
       "      <td>28</td>\n",
       "      <td>NaN</td>\n",
       "      <td>130142.79</td>\n",
       "      <td>1</td>\n",
       "      <td>1</td>\n",
       "      <td>0</td>\n",
       "      <td>38190.78</td>\n",
       "      <td>0</td>\n",
       "    </tr>\n",
       "  </tbody>\n",
       "</table>\n",
       "<p>10000 rows × 14 columns</p>\n",
       "</div>"
      ],
      "text/plain": [
       "      RowNumber  CustomerId    Surname  CreditScore Geography  Gender  Age  \\\n",
       "0             1    15634602   Hargrave          619    France  Female   42   \n",
       "1             2    15647311       Hill          608     Spain  Female   41   \n",
       "2             3    15619304       Onio          502    France  Female   42   \n",
       "3             4    15701354       Boni          699    France  Female   39   \n",
       "4             5    15737888   Mitchell          850     Spain  Female   43   \n",
       "...         ...         ...        ...          ...       ...     ...  ...   \n",
       "9995       9996    15606229   Obijiaku          771    France    Male   39   \n",
       "9996       9997    15569892  Johnstone          516    France    Male   35   \n",
       "9997       9998    15584532        Liu          709    France  Female   36   \n",
       "9998       9999    15682355  Sabbatini          772   Germany    Male   42   \n",
       "9999      10000    15628319     Walker          792    France  Female   28   \n",
       "\n",
       "      Tenure    Balance  NumOfProducts  HasCrCard  IsActiveMember  \\\n",
       "0        2.0       0.00              1          1               1   \n",
       "1        1.0   83807.86              1          0               1   \n",
       "2        8.0  159660.80              3          1               0   \n",
       "3        1.0       0.00              2          0               0   \n",
       "4        2.0  125510.82              1          1               1   \n",
       "...      ...        ...            ...        ...             ...   \n",
       "9995     5.0       0.00              2          1               0   \n",
       "9996    10.0   57369.61              1          1               1   \n",
       "9997     7.0       0.00              1          0               1   \n",
       "9998     3.0   75075.31              2          1               0   \n",
       "9999     NaN  130142.79              1          1               0   \n",
       "\n",
       "      EstimatedSalary  Exited  \n",
       "0           101348.88       1  \n",
       "1           112542.58       0  \n",
       "2           113931.57       1  \n",
       "3            93826.63       0  \n",
       "4            79084.10       0  \n",
       "...               ...     ...  \n",
       "9995         96270.64       0  \n",
       "9996        101699.77       0  \n",
       "9997         42085.58       1  \n",
       "9998         92888.52       1  \n",
       "9999         38190.78       0  \n",
       "\n",
       "[10000 rows x 14 columns]"
      ]
     },
     "execution_count": 2,
     "metadata": {},
     "output_type": "execute_result"
    }
   ],
   "source": [
    "df = pd.read_csv('/datasets/Churn.csv')\n",
    "df"
   ]
  },
  {
   "cell_type": "markdown",
   "metadata": {},
   "source": [
    "Признаки:\n",
    "* RowNumber — индекс строки в данных\n",
    "* CustomerId — уникальный идентификатор клиента\n",
    "* Surname — фамилия\n",
    "* CreditScore — кредитный рейтинг\n",
    "* Geography — страна проживания\n",
    "* Gender — пол\n",
    "* Age — возраст\n",
    "* Tenure — сколько лет человек является клиентом банка\n",
    "* Balance — баланс на счёте\n",
    "* NumOfProducts — количество продуктов банка, используемых клиентом\n",
    "* HasCrCard — наличие кредитной карты\n",
    "* IsActiveMember — активность клиента\n",
    "* EstimatedSalary — предполагаемая зарплата\n",
    "\n",
    "Целевой признак:\n",
    "* Exited — факт ухода клиента\n",
    " \n",
    "Посмотрим общую информацию о данных и описательную статистику по каждому столбцу датафрейма."
   ]
  },
  {
   "cell_type": "code",
   "execution_count": 3,
   "metadata": {
    "scrolled": true
   },
   "outputs": [
    {
     "name": "stdout",
     "output_type": "stream",
     "text": [
      "<class 'pandas.core.frame.DataFrame'>\n",
      "RangeIndex: 10000 entries, 0 to 9999\n",
      "Data columns (total 14 columns):\n",
      "RowNumber          10000 non-null int64\n",
      "CustomerId         10000 non-null int64\n",
      "Surname            10000 non-null object\n",
      "CreditScore        10000 non-null int64\n",
      "Geography          10000 non-null object\n",
      "Gender             10000 non-null object\n",
      "Age                10000 non-null int64\n",
      "Tenure             9091 non-null float64\n",
      "Balance            10000 non-null float64\n",
      "NumOfProducts      10000 non-null int64\n",
      "HasCrCard          10000 non-null int64\n",
      "IsActiveMember     10000 non-null int64\n",
      "EstimatedSalary    10000 non-null float64\n",
      "Exited             10000 non-null int64\n",
      "dtypes: float64(3), int64(8), object(3)\n",
      "memory usage: 1.1+ MB\n"
     ]
    }
   ],
   "source": [
    "df.info()"
   ]
  },
  {
   "cell_type": "code",
   "execution_count": 4,
   "metadata": {},
   "outputs": [
    {
     "data": {
      "text/html": [
       "<div>\n",
       "<style scoped>\n",
       "    .dataframe tbody tr th:only-of-type {\n",
       "        vertical-align: middle;\n",
       "    }\n",
       "\n",
       "    .dataframe tbody tr th {\n",
       "        vertical-align: top;\n",
       "    }\n",
       "\n",
       "    .dataframe thead th {\n",
       "        text-align: right;\n",
       "    }\n",
       "</style>\n",
       "<table border=\"1\" class=\"dataframe\">\n",
       "  <thead>\n",
       "    <tr style=\"text-align: right;\">\n",
       "      <th></th>\n",
       "      <th>count</th>\n",
       "      <th>mean</th>\n",
       "      <th>std</th>\n",
       "      <th>min</th>\n",
       "      <th>25%</th>\n",
       "      <th>50%</th>\n",
       "      <th>75%</th>\n",
       "      <th>max</th>\n",
       "    </tr>\n",
       "  </thead>\n",
       "  <tbody>\n",
       "    <tr>\n",
       "      <td>RowNumber</td>\n",
       "      <td>10000.0</td>\n",
       "      <td>5.000500e+03</td>\n",
       "      <td>2886.895680</td>\n",
       "      <td>1.00</td>\n",
       "      <td>2500.75</td>\n",
       "      <td>5.000500e+03</td>\n",
       "      <td>7.500250e+03</td>\n",
       "      <td>10000.00</td>\n",
       "    </tr>\n",
       "    <tr>\n",
       "      <td>CustomerId</td>\n",
       "      <td>10000.0</td>\n",
       "      <td>1.569094e+07</td>\n",
       "      <td>71936.186123</td>\n",
       "      <td>15565701.00</td>\n",
       "      <td>15628528.25</td>\n",
       "      <td>1.569074e+07</td>\n",
       "      <td>1.575323e+07</td>\n",
       "      <td>15815690.00</td>\n",
       "    </tr>\n",
       "    <tr>\n",
       "      <td>CreditScore</td>\n",
       "      <td>10000.0</td>\n",
       "      <td>6.505288e+02</td>\n",
       "      <td>96.653299</td>\n",
       "      <td>350.00</td>\n",
       "      <td>584.00</td>\n",
       "      <td>6.520000e+02</td>\n",
       "      <td>7.180000e+02</td>\n",
       "      <td>850.00</td>\n",
       "    </tr>\n",
       "    <tr>\n",
       "      <td>Age</td>\n",
       "      <td>10000.0</td>\n",
       "      <td>3.892180e+01</td>\n",
       "      <td>10.487806</td>\n",
       "      <td>18.00</td>\n",
       "      <td>32.00</td>\n",
       "      <td>3.700000e+01</td>\n",
       "      <td>4.400000e+01</td>\n",
       "      <td>92.00</td>\n",
       "    </tr>\n",
       "    <tr>\n",
       "      <td>Tenure</td>\n",
       "      <td>9091.0</td>\n",
       "      <td>4.997690e+00</td>\n",
       "      <td>2.894723</td>\n",
       "      <td>0.00</td>\n",
       "      <td>2.00</td>\n",
       "      <td>5.000000e+00</td>\n",
       "      <td>7.000000e+00</td>\n",
       "      <td>10.00</td>\n",
       "    </tr>\n",
       "    <tr>\n",
       "      <td>Balance</td>\n",
       "      <td>10000.0</td>\n",
       "      <td>7.648589e+04</td>\n",
       "      <td>62397.405202</td>\n",
       "      <td>0.00</td>\n",
       "      <td>0.00</td>\n",
       "      <td>9.719854e+04</td>\n",
       "      <td>1.276442e+05</td>\n",
       "      <td>250898.09</td>\n",
       "    </tr>\n",
       "    <tr>\n",
       "      <td>NumOfProducts</td>\n",
       "      <td>10000.0</td>\n",
       "      <td>1.530200e+00</td>\n",
       "      <td>0.581654</td>\n",
       "      <td>1.00</td>\n",
       "      <td>1.00</td>\n",
       "      <td>1.000000e+00</td>\n",
       "      <td>2.000000e+00</td>\n",
       "      <td>4.00</td>\n",
       "    </tr>\n",
       "    <tr>\n",
       "      <td>HasCrCard</td>\n",
       "      <td>10000.0</td>\n",
       "      <td>7.055000e-01</td>\n",
       "      <td>0.455840</td>\n",
       "      <td>0.00</td>\n",
       "      <td>0.00</td>\n",
       "      <td>1.000000e+00</td>\n",
       "      <td>1.000000e+00</td>\n",
       "      <td>1.00</td>\n",
       "    </tr>\n",
       "    <tr>\n",
       "      <td>IsActiveMember</td>\n",
       "      <td>10000.0</td>\n",
       "      <td>5.151000e-01</td>\n",
       "      <td>0.499797</td>\n",
       "      <td>0.00</td>\n",
       "      <td>0.00</td>\n",
       "      <td>1.000000e+00</td>\n",
       "      <td>1.000000e+00</td>\n",
       "      <td>1.00</td>\n",
       "    </tr>\n",
       "    <tr>\n",
       "      <td>EstimatedSalary</td>\n",
       "      <td>10000.0</td>\n",
       "      <td>1.000902e+05</td>\n",
       "      <td>57510.492818</td>\n",
       "      <td>11.58</td>\n",
       "      <td>51002.11</td>\n",
       "      <td>1.001939e+05</td>\n",
       "      <td>1.493882e+05</td>\n",
       "      <td>199992.48</td>\n",
       "    </tr>\n",
       "    <tr>\n",
       "      <td>Exited</td>\n",
       "      <td>10000.0</td>\n",
       "      <td>2.037000e-01</td>\n",
       "      <td>0.402769</td>\n",
       "      <td>0.00</td>\n",
       "      <td>0.00</td>\n",
       "      <td>0.000000e+00</td>\n",
       "      <td>0.000000e+00</td>\n",
       "      <td>1.00</td>\n",
       "    </tr>\n",
       "  </tbody>\n",
       "</table>\n",
       "</div>"
      ],
      "text/plain": [
       "                   count          mean           std          min  \\\n",
       "RowNumber        10000.0  5.000500e+03   2886.895680         1.00   \n",
       "CustomerId       10000.0  1.569094e+07  71936.186123  15565701.00   \n",
       "CreditScore      10000.0  6.505288e+02     96.653299       350.00   \n",
       "Age              10000.0  3.892180e+01     10.487806        18.00   \n",
       "Tenure            9091.0  4.997690e+00      2.894723         0.00   \n",
       "Balance          10000.0  7.648589e+04  62397.405202         0.00   \n",
       "NumOfProducts    10000.0  1.530200e+00      0.581654         1.00   \n",
       "HasCrCard        10000.0  7.055000e-01      0.455840         0.00   \n",
       "IsActiveMember   10000.0  5.151000e-01      0.499797         0.00   \n",
       "EstimatedSalary  10000.0  1.000902e+05  57510.492818        11.58   \n",
       "Exited           10000.0  2.037000e-01      0.402769         0.00   \n",
       "\n",
       "                         25%           50%           75%          max  \n",
       "RowNumber            2500.75  5.000500e+03  7.500250e+03     10000.00  \n",
       "CustomerId       15628528.25  1.569074e+07  1.575323e+07  15815690.00  \n",
       "CreditScore           584.00  6.520000e+02  7.180000e+02       850.00  \n",
       "Age                    32.00  3.700000e+01  4.400000e+01        92.00  \n",
       "Tenure                  2.00  5.000000e+00  7.000000e+00        10.00  \n",
       "Balance                 0.00  9.719854e+04  1.276442e+05    250898.09  \n",
       "NumOfProducts           1.00  1.000000e+00  2.000000e+00         4.00  \n",
       "HasCrCard               0.00  1.000000e+00  1.000000e+00         1.00  \n",
       "IsActiveMember          0.00  1.000000e+00  1.000000e+00         1.00  \n",
       "EstimatedSalary     51002.11  1.001939e+05  1.493882e+05    199992.48  \n",
       "Exited                  0.00  0.000000e+00  0.000000e+00         1.00  "
      ]
     },
     "execution_count": 4,
     "metadata": {},
     "output_type": "execute_result"
    }
   ],
   "source": [
    "df.describe().T"
   ]
  },
  {
   "cell_type": "markdown",
   "metadata": {},
   "source": [
    "В таблице с данными о поведении клиентов и расторжении договоров с банком 10 000 строк и 14 столбцов. Заголовки не соответствуют правилу хорошего стиля. В столбце \"Сколько лет человек является клиентом банка\" есть пропущенные значения."
   ]
  },
  {
   "cell_type": "markdown",
   "metadata": {},
   "source": [
    "### Стиль заголовков"
   ]
  },
  {
   "cell_type": "markdown",
   "metadata": {},
   "source": [
    "Приведем заголовки к написанию в нижнем регистре"
   ]
  },
  {
   "cell_type": "code",
   "execution_count": 5,
   "metadata": {
    "scrolled": false
   },
   "outputs": [
    {
     "data": {
      "text/html": [
       "<div>\n",
       "<style scoped>\n",
       "    .dataframe tbody tr th:only-of-type {\n",
       "        vertical-align: middle;\n",
       "    }\n",
       "\n",
       "    .dataframe tbody tr th {\n",
       "        vertical-align: top;\n",
       "    }\n",
       "\n",
       "    .dataframe thead th {\n",
       "        text-align: right;\n",
       "    }\n",
       "</style>\n",
       "<table border=\"1\" class=\"dataframe\">\n",
       "  <thead>\n",
       "    <tr style=\"text-align: right;\">\n",
       "      <th></th>\n",
       "      <th>rownumber</th>\n",
       "      <th>customerid</th>\n",
       "      <th>surname</th>\n",
       "      <th>creditscore</th>\n",
       "      <th>geography</th>\n",
       "      <th>gender</th>\n",
       "      <th>age</th>\n",
       "      <th>tenure</th>\n",
       "      <th>balance</th>\n",
       "      <th>numofproducts</th>\n",
       "      <th>hascrcard</th>\n",
       "      <th>isactivemember</th>\n",
       "      <th>estimatedsalary</th>\n",
       "      <th>exited</th>\n",
       "    </tr>\n",
       "  </thead>\n",
       "  <tbody>\n",
       "    <tr>\n",
       "      <td>0</td>\n",
       "      <td>1</td>\n",
       "      <td>15634602</td>\n",
       "      <td>Hargrave</td>\n",
       "      <td>619</td>\n",
       "      <td>France</td>\n",
       "      <td>Female</td>\n",
       "      <td>42</td>\n",
       "      <td>2.0</td>\n",
       "      <td>0.00</td>\n",
       "      <td>1</td>\n",
       "      <td>1</td>\n",
       "      <td>1</td>\n",
       "      <td>101348.88</td>\n",
       "      <td>1</td>\n",
       "    </tr>\n",
       "    <tr>\n",
       "      <td>1</td>\n",
       "      <td>2</td>\n",
       "      <td>15647311</td>\n",
       "      <td>Hill</td>\n",
       "      <td>608</td>\n",
       "      <td>Spain</td>\n",
       "      <td>Female</td>\n",
       "      <td>41</td>\n",
       "      <td>1.0</td>\n",
       "      <td>83807.86</td>\n",
       "      <td>1</td>\n",
       "      <td>0</td>\n",
       "      <td>1</td>\n",
       "      <td>112542.58</td>\n",
       "      <td>0</td>\n",
       "    </tr>\n",
       "    <tr>\n",
       "      <td>2</td>\n",
       "      <td>3</td>\n",
       "      <td>15619304</td>\n",
       "      <td>Onio</td>\n",
       "      <td>502</td>\n",
       "      <td>France</td>\n",
       "      <td>Female</td>\n",
       "      <td>42</td>\n",
       "      <td>8.0</td>\n",
       "      <td>159660.80</td>\n",
       "      <td>3</td>\n",
       "      <td>1</td>\n",
       "      <td>0</td>\n",
       "      <td>113931.57</td>\n",
       "      <td>1</td>\n",
       "    </tr>\n",
       "    <tr>\n",
       "      <td>3</td>\n",
       "      <td>4</td>\n",
       "      <td>15701354</td>\n",
       "      <td>Boni</td>\n",
       "      <td>699</td>\n",
       "      <td>France</td>\n",
       "      <td>Female</td>\n",
       "      <td>39</td>\n",
       "      <td>1.0</td>\n",
       "      <td>0.00</td>\n",
       "      <td>2</td>\n",
       "      <td>0</td>\n",
       "      <td>0</td>\n",
       "      <td>93826.63</td>\n",
       "      <td>0</td>\n",
       "    </tr>\n",
       "    <tr>\n",
       "      <td>4</td>\n",
       "      <td>5</td>\n",
       "      <td>15737888</td>\n",
       "      <td>Mitchell</td>\n",
       "      <td>850</td>\n",
       "      <td>Spain</td>\n",
       "      <td>Female</td>\n",
       "      <td>43</td>\n",
       "      <td>2.0</td>\n",
       "      <td>125510.82</td>\n",
       "      <td>1</td>\n",
       "      <td>1</td>\n",
       "      <td>1</td>\n",
       "      <td>79084.10</td>\n",
       "      <td>0</td>\n",
       "    </tr>\n",
       "    <tr>\n",
       "      <td>...</td>\n",
       "      <td>...</td>\n",
       "      <td>...</td>\n",
       "      <td>...</td>\n",
       "      <td>...</td>\n",
       "      <td>...</td>\n",
       "      <td>...</td>\n",
       "      <td>...</td>\n",
       "      <td>...</td>\n",
       "      <td>...</td>\n",
       "      <td>...</td>\n",
       "      <td>...</td>\n",
       "      <td>...</td>\n",
       "      <td>...</td>\n",
       "      <td>...</td>\n",
       "    </tr>\n",
       "    <tr>\n",
       "      <td>9995</td>\n",
       "      <td>9996</td>\n",
       "      <td>15606229</td>\n",
       "      <td>Obijiaku</td>\n",
       "      <td>771</td>\n",
       "      <td>France</td>\n",
       "      <td>Male</td>\n",
       "      <td>39</td>\n",
       "      <td>5.0</td>\n",
       "      <td>0.00</td>\n",
       "      <td>2</td>\n",
       "      <td>1</td>\n",
       "      <td>0</td>\n",
       "      <td>96270.64</td>\n",
       "      <td>0</td>\n",
       "    </tr>\n",
       "    <tr>\n",
       "      <td>9996</td>\n",
       "      <td>9997</td>\n",
       "      <td>15569892</td>\n",
       "      <td>Johnstone</td>\n",
       "      <td>516</td>\n",
       "      <td>France</td>\n",
       "      <td>Male</td>\n",
       "      <td>35</td>\n",
       "      <td>10.0</td>\n",
       "      <td>57369.61</td>\n",
       "      <td>1</td>\n",
       "      <td>1</td>\n",
       "      <td>1</td>\n",
       "      <td>101699.77</td>\n",
       "      <td>0</td>\n",
       "    </tr>\n",
       "    <tr>\n",
       "      <td>9997</td>\n",
       "      <td>9998</td>\n",
       "      <td>15584532</td>\n",
       "      <td>Liu</td>\n",
       "      <td>709</td>\n",
       "      <td>France</td>\n",
       "      <td>Female</td>\n",
       "      <td>36</td>\n",
       "      <td>7.0</td>\n",
       "      <td>0.00</td>\n",
       "      <td>1</td>\n",
       "      <td>0</td>\n",
       "      <td>1</td>\n",
       "      <td>42085.58</td>\n",
       "      <td>1</td>\n",
       "    </tr>\n",
       "    <tr>\n",
       "      <td>9998</td>\n",
       "      <td>9999</td>\n",
       "      <td>15682355</td>\n",
       "      <td>Sabbatini</td>\n",
       "      <td>772</td>\n",
       "      <td>Germany</td>\n",
       "      <td>Male</td>\n",
       "      <td>42</td>\n",
       "      <td>3.0</td>\n",
       "      <td>75075.31</td>\n",
       "      <td>2</td>\n",
       "      <td>1</td>\n",
       "      <td>0</td>\n",
       "      <td>92888.52</td>\n",
       "      <td>1</td>\n",
       "    </tr>\n",
       "    <tr>\n",
       "      <td>9999</td>\n",
       "      <td>10000</td>\n",
       "      <td>15628319</td>\n",
       "      <td>Walker</td>\n",
       "      <td>792</td>\n",
       "      <td>France</td>\n",
       "      <td>Female</td>\n",
       "      <td>28</td>\n",
       "      <td>NaN</td>\n",
       "      <td>130142.79</td>\n",
       "      <td>1</td>\n",
       "      <td>1</td>\n",
       "      <td>0</td>\n",
       "      <td>38190.78</td>\n",
       "      <td>0</td>\n",
       "    </tr>\n",
       "  </tbody>\n",
       "</table>\n",
       "<p>10000 rows × 14 columns</p>\n",
       "</div>"
      ],
      "text/plain": [
       "      rownumber  customerid    surname  creditscore geography  gender  age  \\\n",
       "0             1    15634602   Hargrave          619    France  Female   42   \n",
       "1             2    15647311       Hill          608     Spain  Female   41   \n",
       "2             3    15619304       Onio          502    France  Female   42   \n",
       "3             4    15701354       Boni          699    France  Female   39   \n",
       "4             5    15737888   Mitchell          850     Spain  Female   43   \n",
       "...         ...         ...        ...          ...       ...     ...  ...   \n",
       "9995       9996    15606229   Obijiaku          771    France    Male   39   \n",
       "9996       9997    15569892  Johnstone          516    France    Male   35   \n",
       "9997       9998    15584532        Liu          709    France  Female   36   \n",
       "9998       9999    15682355  Sabbatini          772   Germany    Male   42   \n",
       "9999      10000    15628319     Walker          792    France  Female   28   \n",
       "\n",
       "      tenure    balance  numofproducts  hascrcard  isactivemember  \\\n",
       "0        2.0       0.00              1          1               1   \n",
       "1        1.0   83807.86              1          0               1   \n",
       "2        8.0  159660.80              3          1               0   \n",
       "3        1.0       0.00              2          0               0   \n",
       "4        2.0  125510.82              1          1               1   \n",
       "...      ...        ...            ...        ...             ...   \n",
       "9995     5.0       0.00              2          1               0   \n",
       "9996    10.0   57369.61              1          1               1   \n",
       "9997     7.0       0.00              1          0               1   \n",
       "9998     3.0   75075.31              2          1               0   \n",
       "9999     NaN  130142.79              1          1               0   \n",
       "\n",
       "      estimatedsalary  exited  \n",
       "0           101348.88       1  \n",
       "1           112542.58       0  \n",
       "2           113931.57       1  \n",
       "3            93826.63       0  \n",
       "4            79084.10       0  \n",
       "...               ...     ...  \n",
       "9995         96270.64       0  \n",
       "9996        101699.77       0  \n",
       "9997         42085.58       1  \n",
       "9998         92888.52       1  \n",
       "9999         38190.78       0  \n",
       "\n",
       "[10000 rows x 14 columns]"
      ]
     },
     "execution_count": 5,
     "metadata": {},
     "output_type": "execute_result"
    }
   ],
   "source": [
    "df.columns = df.columns.str.lower()\n",
    "df"
   ]
  },
  {
   "cell_type": "markdown",
   "metadata": {},
   "source": [
    "Переименуем в соответствии со змеиным стилем."
   ]
  },
  {
   "cell_type": "code",
   "execution_count": 6,
   "metadata": {
    "scrolled": true
   },
   "outputs": [
    {
     "data": {
      "text/html": [
       "<div>\n",
       "<style scoped>\n",
       "    .dataframe tbody tr th:only-of-type {\n",
       "        vertical-align: middle;\n",
       "    }\n",
       "\n",
       "    .dataframe tbody tr th {\n",
       "        vertical-align: top;\n",
       "    }\n",
       "\n",
       "    .dataframe thead th {\n",
       "        text-align: right;\n",
       "    }\n",
       "</style>\n",
       "<table border=\"1\" class=\"dataframe\">\n",
       "  <thead>\n",
       "    <tr style=\"text-align: right;\">\n",
       "      <th></th>\n",
       "      <th>row_number</th>\n",
       "      <th>customer_id</th>\n",
       "      <th>surname</th>\n",
       "      <th>credit_score</th>\n",
       "      <th>geography</th>\n",
       "      <th>gender</th>\n",
       "      <th>age</th>\n",
       "      <th>tenure</th>\n",
       "      <th>balance</th>\n",
       "      <th>num_of_products</th>\n",
       "      <th>has_cr_card</th>\n",
       "      <th>is_active_member</th>\n",
       "      <th>estimated_salary</th>\n",
       "      <th>exited</th>\n",
       "    </tr>\n",
       "  </thead>\n",
       "  <tbody>\n",
       "    <tr>\n",
       "      <td>0</td>\n",
       "      <td>1</td>\n",
       "      <td>15634602</td>\n",
       "      <td>Hargrave</td>\n",
       "      <td>619</td>\n",
       "      <td>France</td>\n",
       "      <td>Female</td>\n",
       "      <td>42</td>\n",
       "      <td>2.0</td>\n",
       "      <td>0.00</td>\n",
       "      <td>1</td>\n",
       "      <td>1</td>\n",
       "      <td>1</td>\n",
       "      <td>101348.88</td>\n",
       "      <td>1</td>\n",
       "    </tr>\n",
       "    <tr>\n",
       "      <td>1</td>\n",
       "      <td>2</td>\n",
       "      <td>15647311</td>\n",
       "      <td>Hill</td>\n",
       "      <td>608</td>\n",
       "      <td>Spain</td>\n",
       "      <td>Female</td>\n",
       "      <td>41</td>\n",
       "      <td>1.0</td>\n",
       "      <td>83807.86</td>\n",
       "      <td>1</td>\n",
       "      <td>0</td>\n",
       "      <td>1</td>\n",
       "      <td>112542.58</td>\n",
       "      <td>0</td>\n",
       "    </tr>\n",
       "    <tr>\n",
       "      <td>2</td>\n",
       "      <td>3</td>\n",
       "      <td>15619304</td>\n",
       "      <td>Onio</td>\n",
       "      <td>502</td>\n",
       "      <td>France</td>\n",
       "      <td>Female</td>\n",
       "      <td>42</td>\n",
       "      <td>8.0</td>\n",
       "      <td>159660.80</td>\n",
       "      <td>3</td>\n",
       "      <td>1</td>\n",
       "      <td>0</td>\n",
       "      <td>113931.57</td>\n",
       "      <td>1</td>\n",
       "    </tr>\n",
       "    <tr>\n",
       "      <td>3</td>\n",
       "      <td>4</td>\n",
       "      <td>15701354</td>\n",
       "      <td>Boni</td>\n",
       "      <td>699</td>\n",
       "      <td>France</td>\n",
       "      <td>Female</td>\n",
       "      <td>39</td>\n",
       "      <td>1.0</td>\n",
       "      <td>0.00</td>\n",
       "      <td>2</td>\n",
       "      <td>0</td>\n",
       "      <td>0</td>\n",
       "      <td>93826.63</td>\n",
       "      <td>0</td>\n",
       "    </tr>\n",
       "    <tr>\n",
       "      <td>4</td>\n",
       "      <td>5</td>\n",
       "      <td>15737888</td>\n",
       "      <td>Mitchell</td>\n",
       "      <td>850</td>\n",
       "      <td>Spain</td>\n",
       "      <td>Female</td>\n",
       "      <td>43</td>\n",
       "      <td>2.0</td>\n",
       "      <td>125510.82</td>\n",
       "      <td>1</td>\n",
       "      <td>1</td>\n",
       "      <td>1</td>\n",
       "      <td>79084.10</td>\n",
       "      <td>0</td>\n",
       "    </tr>\n",
       "  </tbody>\n",
       "</table>\n",
       "</div>"
      ],
      "text/plain": [
       "   row_number  customer_id   surname  credit_score geography  gender  age  \\\n",
       "0           1     15634602  Hargrave           619    France  Female   42   \n",
       "1           2     15647311      Hill           608     Spain  Female   41   \n",
       "2           3     15619304      Onio           502    France  Female   42   \n",
       "3           4     15701354      Boni           699    France  Female   39   \n",
       "4           5     15737888  Mitchell           850     Spain  Female   43   \n",
       "\n",
       "   tenure    balance  num_of_products  has_cr_card  is_active_member  \\\n",
       "0     2.0       0.00                1            1                 1   \n",
       "1     1.0   83807.86                1            0                 1   \n",
       "2     8.0  159660.80                3            1                 0   \n",
       "3     1.0       0.00                2            0                 0   \n",
       "4     2.0  125510.82                1            1                 1   \n",
       "\n",
       "   estimated_salary  exited  \n",
       "0         101348.88       1  \n",
       "1         112542.58       0  \n",
       "2         113931.57       1  \n",
       "3          93826.63       0  \n",
       "4          79084.10       0  "
      ]
     },
     "execution_count": 6,
     "metadata": {},
     "output_type": "execute_result"
    }
   ],
   "source": [
    "df = df.rename(columns={'rownumber': 'row_number', \n",
    "                        'customerid': 'customer_id',\n",
    "                        'creditscore': 'credit_score',\n",
    "                        'numofproducts': 'num_of_products',\n",
    "                        'hascrcard': 'has_cr_card',\n",
    "                        'isactivemember': 'is_active_member',\n",
    "                        'estimatedsalary': 'estimated_salary'})\n",
    "df.head()"
   ]
  },
  {
   "cell_type": "markdown",
   "metadata": {},
   "source": [
    "Привели названия столбцов в  соответствие с хорошим стилем."
   ]
  },
  {
   "cell_type": "markdown",
   "metadata": {},
   "source": [
    "### Дубликаты и пропущенные значения"
   ]
  },
  {
   "cell_type": "markdown",
   "metadata": {},
   "source": [
    "Первые три столбца таблицы не имеют существенного значения для нашего исследования, поэтому удалим их."
   ]
  },
  {
   "cell_type": "code",
   "execution_count": 7,
   "metadata": {},
   "outputs": [
    {
     "data": {
      "text/html": [
       "<div>\n",
       "<style scoped>\n",
       "    .dataframe tbody tr th:only-of-type {\n",
       "        vertical-align: middle;\n",
       "    }\n",
       "\n",
       "    .dataframe tbody tr th {\n",
       "        vertical-align: top;\n",
       "    }\n",
       "\n",
       "    .dataframe thead th {\n",
       "        text-align: right;\n",
       "    }\n",
       "</style>\n",
       "<table border=\"1\" class=\"dataframe\">\n",
       "  <thead>\n",
       "    <tr style=\"text-align: right;\">\n",
       "      <th></th>\n",
       "      <th>credit_score</th>\n",
       "      <th>geography</th>\n",
       "      <th>gender</th>\n",
       "      <th>age</th>\n",
       "      <th>tenure</th>\n",
       "      <th>balance</th>\n",
       "      <th>num_of_products</th>\n",
       "      <th>has_cr_card</th>\n",
       "      <th>is_active_member</th>\n",
       "      <th>estimated_salary</th>\n",
       "      <th>exited</th>\n",
       "    </tr>\n",
       "  </thead>\n",
       "  <tbody>\n",
       "    <tr>\n",
       "      <td>0</td>\n",
       "      <td>619</td>\n",
       "      <td>France</td>\n",
       "      <td>Female</td>\n",
       "      <td>42</td>\n",
       "      <td>2.0</td>\n",
       "      <td>0.00</td>\n",
       "      <td>1</td>\n",
       "      <td>1</td>\n",
       "      <td>1</td>\n",
       "      <td>101348.88</td>\n",
       "      <td>1</td>\n",
       "    </tr>\n",
       "    <tr>\n",
       "      <td>1</td>\n",
       "      <td>608</td>\n",
       "      <td>Spain</td>\n",
       "      <td>Female</td>\n",
       "      <td>41</td>\n",
       "      <td>1.0</td>\n",
       "      <td>83807.86</td>\n",
       "      <td>1</td>\n",
       "      <td>0</td>\n",
       "      <td>1</td>\n",
       "      <td>112542.58</td>\n",
       "      <td>0</td>\n",
       "    </tr>\n",
       "    <tr>\n",
       "      <td>2</td>\n",
       "      <td>502</td>\n",
       "      <td>France</td>\n",
       "      <td>Female</td>\n",
       "      <td>42</td>\n",
       "      <td>8.0</td>\n",
       "      <td>159660.80</td>\n",
       "      <td>3</td>\n",
       "      <td>1</td>\n",
       "      <td>0</td>\n",
       "      <td>113931.57</td>\n",
       "      <td>1</td>\n",
       "    </tr>\n",
       "    <tr>\n",
       "      <td>3</td>\n",
       "      <td>699</td>\n",
       "      <td>France</td>\n",
       "      <td>Female</td>\n",
       "      <td>39</td>\n",
       "      <td>1.0</td>\n",
       "      <td>0.00</td>\n",
       "      <td>2</td>\n",
       "      <td>0</td>\n",
       "      <td>0</td>\n",
       "      <td>93826.63</td>\n",
       "      <td>0</td>\n",
       "    </tr>\n",
       "    <tr>\n",
       "      <td>4</td>\n",
       "      <td>850</td>\n",
       "      <td>Spain</td>\n",
       "      <td>Female</td>\n",
       "      <td>43</td>\n",
       "      <td>2.0</td>\n",
       "      <td>125510.82</td>\n",
       "      <td>1</td>\n",
       "      <td>1</td>\n",
       "      <td>1</td>\n",
       "      <td>79084.10</td>\n",
       "      <td>0</td>\n",
       "    </tr>\n",
       "  </tbody>\n",
       "</table>\n",
       "</div>"
      ],
      "text/plain": [
       "   credit_score geography  gender  age  tenure    balance  num_of_products  \\\n",
       "0           619    France  Female   42     2.0       0.00                1   \n",
       "1           608     Spain  Female   41     1.0   83807.86                1   \n",
       "2           502    France  Female   42     8.0  159660.80                3   \n",
       "3           699    France  Female   39     1.0       0.00                2   \n",
       "4           850     Spain  Female   43     2.0  125510.82                1   \n",
       "\n",
       "   has_cr_card  is_active_member  estimated_salary  exited  \n",
       "0            1                 1         101348.88       1  \n",
       "1            0                 1         112542.58       0  \n",
       "2            1                 0         113931.57       1  \n",
       "3            0                 0          93826.63       0  \n",
       "4            1                 1          79084.10       0  "
      ]
     },
     "execution_count": 7,
     "metadata": {},
     "output_type": "execute_result"
    }
   ],
   "source": [
    "df = df.drop(['row_number','customer_id','surname'], axis=1)\n",
    "df.head()"
   ]
  },
  {
   "cell_type": "markdown",
   "metadata": {},
   "source": [
    "Проверим датасет на наличие дубликатов."
   ]
  },
  {
   "cell_type": "code",
   "execution_count": 8,
   "metadata": {
    "scrolled": true
   },
   "outputs": [
    {
     "data": {
      "text/plain": [
       "0"
      ]
     },
     "execution_count": 8,
     "metadata": {},
     "output_type": "execute_result"
    }
   ],
   "source": [
    "df.duplicated().sum()"
   ]
  },
  {
   "cell_type": "markdown",
   "metadata": {},
   "source": [
    "Дубликатов в таблице нет, теперь посмотрим на пропуски."
   ]
  },
  {
   "cell_type": "code",
   "execution_count": 9,
   "metadata": {},
   "outputs": [
    {
     "data": {
      "text/plain": [
       "credit_score          0\n",
       "geography             0\n",
       "gender                0\n",
       "age                   0\n",
       "tenure              909\n",
       "balance               0\n",
       "num_of_products       0\n",
       "has_cr_card           0\n",
       "is_active_member      0\n",
       "estimated_salary      0\n",
       "exited                0\n",
       "dtype: int64"
      ]
     },
     "execution_count": 9,
     "metadata": {},
     "output_type": "execute_result"
    }
   ],
   "source": [
    "df.isna().sum()"
   ]
  },
  {
   "cell_type": "markdown",
   "metadata": {},
   "source": [
    "Пропущенные значения есть только в столбце \"Сколько лет человек является клиентом банка\", посмотрим уникальные значения этого столбца."
   ]
  },
  {
   "cell_type": "code",
   "execution_count": 10,
   "metadata": {
    "scrolled": true
   },
   "outputs": [
    {
     "data": {
      "text/plain": [
       "0.0     382\n",
       "10.0    446\n",
       "6.0     881\n",
       "9.0     882\n",
       "4.0     885\n",
       "7.0     925\n",
       "5.0     927\n",
       "3.0     928\n",
       "8.0     933\n",
       "2.0     950\n",
       "1.0     952\n",
       "Name: tenure, dtype: int64"
      ]
     },
     "execution_count": 10,
     "metadata": {},
     "output_type": "execute_result"
    }
   ],
   "source": [
    "df['tenure'].value_counts().sort_values()"
   ]
  },
  {
   "cell_type": "markdown",
   "metadata": {},
   "source": [
    "Клиенты банка пользуются услугами разное количество лет - максимум 10.\n",
    "Пропущенные значения в столбце \"Сколько лет человек является клиентом банка\" могут быть следствием ошибок сбора или хранения данных. У нас нет инструментов, чтобы достоверно восстановить пропущенные значения и пропуски составляют всего 9%, поэтому исключим эти строки из анализа."
   ]
  },
  {
   "cell_type": "code",
   "execution_count": 11,
   "metadata": {
    "scrolled": false
   },
   "outputs": [
    {
     "data": {
      "text/plain": [
       "credit_score        0\n",
       "geography           0\n",
       "gender              0\n",
       "age                 0\n",
       "tenure              0\n",
       "balance             0\n",
       "num_of_products     0\n",
       "has_cr_card         0\n",
       "is_active_member    0\n",
       "estimated_salary    0\n",
       "exited              0\n",
       "dtype: int64"
      ]
     },
     "execution_count": 11,
     "metadata": {},
     "output_type": "execute_result"
    }
   ],
   "source": [
    "df = df.dropna(subset=['tenure'])\n",
    "df.isna().sum()"
   ]
  },
  {
   "cell_type": "markdown",
   "metadata": {},
   "source": [
    "### Мультиколлинеарность"
   ]
  },
  {
   "cell_type": "markdown",
   "metadata": {},
   "source": [
    "Проведем корреляционный анализ факторов, для этого посчитаем коэффициент корреляции Пирсона."
   ]
  },
  {
   "cell_type": "code",
   "execution_count": 12,
   "metadata": {
    "scrolled": false
   },
   "outputs": [
    {
     "data": {
      "text/html": [
       "<div>\n",
       "<style scoped>\n",
       "    .dataframe tbody tr th:only-of-type {\n",
       "        vertical-align: middle;\n",
       "    }\n",
       "\n",
       "    .dataframe tbody tr th {\n",
       "        vertical-align: top;\n",
       "    }\n",
       "\n",
       "    .dataframe thead th {\n",
       "        text-align: right;\n",
       "    }\n",
       "</style>\n",
       "<table border=\"1\" class=\"dataframe\">\n",
       "  <thead>\n",
       "    <tr style=\"text-align: right;\">\n",
       "      <th></th>\n",
       "      <th>credit_score</th>\n",
       "      <th>age</th>\n",
       "      <th>tenure</th>\n",
       "      <th>balance</th>\n",
       "      <th>num_of_products</th>\n",
       "      <th>has_cr_card</th>\n",
       "      <th>is_active_member</th>\n",
       "      <th>estimated_salary</th>\n",
       "      <th>exited</th>\n",
       "    </tr>\n",
       "  </thead>\n",
       "  <tbody>\n",
       "    <tr>\n",
       "      <td>credit_score</td>\n",
       "      <td>1.00</td>\n",
       "      <td>-0.00</td>\n",
       "      <td>-0.00</td>\n",
       "      <td>0.00</td>\n",
       "      <td>0.01</td>\n",
       "      <td>-0.00</td>\n",
       "      <td>0.03</td>\n",
       "      <td>0.01</td>\n",
       "      <td>-0.02</td>\n",
       "    </tr>\n",
       "    <tr>\n",
       "      <td>age</td>\n",
       "      <td>-0.00</td>\n",
       "      <td>1.00</td>\n",
       "      <td>-0.01</td>\n",
       "      <td>0.03</td>\n",
       "      <td>-0.03</td>\n",
       "      <td>-0.01</td>\n",
       "      <td>0.08</td>\n",
       "      <td>-0.01</td>\n",
       "      <td>0.28</td>\n",
       "    </tr>\n",
       "    <tr>\n",
       "      <td>tenure</td>\n",
       "      <td>-0.00</td>\n",
       "      <td>-0.01</td>\n",
       "      <td>1.00</td>\n",
       "      <td>-0.01</td>\n",
       "      <td>0.01</td>\n",
       "      <td>0.03</td>\n",
       "      <td>-0.03</td>\n",
       "      <td>0.01</td>\n",
       "      <td>-0.02</td>\n",
       "    </tr>\n",
       "    <tr>\n",
       "      <td>balance</td>\n",
       "      <td>0.00</td>\n",
       "      <td>0.03</td>\n",
       "      <td>-0.01</td>\n",
       "      <td>1.00</td>\n",
       "      <td>-0.30</td>\n",
       "      <td>-0.02</td>\n",
       "      <td>-0.00</td>\n",
       "      <td>0.01</td>\n",
       "      <td>0.12</td>\n",
       "    </tr>\n",
       "    <tr>\n",
       "      <td>num_of_products</td>\n",
       "      <td>0.01</td>\n",
       "      <td>-0.03</td>\n",
       "      <td>0.01</td>\n",
       "      <td>-0.30</td>\n",
       "      <td>1.00</td>\n",
       "      <td>0.01</td>\n",
       "      <td>0.01</td>\n",
       "      <td>0.01</td>\n",
       "      <td>-0.05</td>\n",
       "    </tr>\n",
       "    <tr>\n",
       "      <td>has_cr_card</td>\n",
       "      <td>-0.00</td>\n",
       "      <td>-0.01</td>\n",
       "      <td>0.03</td>\n",
       "      <td>-0.02</td>\n",
       "      <td>0.01</td>\n",
       "      <td>1.00</td>\n",
       "      <td>-0.01</td>\n",
       "      <td>-0.01</td>\n",
       "      <td>-0.01</td>\n",
       "    </tr>\n",
       "    <tr>\n",
       "      <td>is_active_member</td>\n",
       "      <td>0.03</td>\n",
       "      <td>0.08</td>\n",
       "      <td>-0.03</td>\n",
       "      <td>-0.00</td>\n",
       "      <td>0.01</td>\n",
       "      <td>-0.01</td>\n",
       "      <td>1.00</td>\n",
       "      <td>-0.02</td>\n",
       "      <td>-0.16</td>\n",
       "    </tr>\n",
       "    <tr>\n",
       "      <td>estimated_salary</td>\n",
       "      <td>0.01</td>\n",
       "      <td>-0.01</td>\n",
       "      <td>0.01</td>\n",
       "      <td>0.01</td>\n",
       "      <td>0.01</td>\n",
       "      <td>-0.01</td>\n",
       "      <td>-0.02</td>\n",
       "      <td>1.00</td>\n",
       "      <td>0.02</td>\n",
       "    </tr>\n",
       "    <tr>\n",
       "      <td>exited</td>\n",
       "      <td>-0.02</td>\n",
       "      <td>0.28</td>\n",
       "      <td>-0.02</td>\n",
       "      <td>0.12</td>\n",
       "      <td>-0.05</td>\n",
       "      <td>-0.01</td>\n",
       "      <td>-0.16</td>\n",
       "      <td>0.02</td>\n",
       "      <td>1.00</td>\n",
       "    </tr>\n",
       "  </tbody>\n",
       "</table>\n",
       "</div>"
      ],
      "text/plain": [
       "                  credit_score   age  tenure  balance  num_of_products  \\\n",
       "credit_score              1.00 -0.00   -0.00     0.00             0.01   \n",
       "age                      -0.00  1.00   -0.01     0.03            -0.03   \n",
       "tenure                   -0.00 -0.01    1.00    -0.01             0.01   \n",
       "balance                   0.00  0.03   -0.01     1.00            -0.30   \n",
       "num_of_products           0.01 -0.03    0.01    -0.30             1.00   \n",
       "has_cr_card              -0.00 -0.01    0.03    -0.02             0.01   \n",
       "is_active_member          0.03  0.08   -0.03    -0.00             0.01   \n",
       "estimated_salary          0.01 -0.01    0.01     0.01             0.01   \n",
       "exited                   -0.02  0.28   -0.02     0.12            -0.05   \n",
       "\n",
       "                  has_cr_card  is_active_member  estimated_salary  exited  \n",
       "credit_score            -0.00              0.03              0.01   -0.02  \n",
       "age                     -0.01              0.08             -0.01    0.28  \n",
       "tenure                   0.03             -0.03              0.01   -0.02  \n",
       "balance                 -0.02             -0.00              0.01    0.12  \n",
       "num_of_products          0.01              0.01              0.01   -0.05  \n",
       "has_cr_card              1.00             -0.01             -0.01   -0.01  \n",
       "is_active_member        -0.01              1.00             -0.02   -0.16  \n",
       "estimated_salary        -0.01             -0.02              1.00    0.02  \n",
       "exited                  -0.01             -0.16              0.02    1.00  "
      ]
     },
     "execution_count": 12,
     "metadata": {},
     "output_type": "execute_result"
    }
   ],
   "source": [
    "corr_matrix = df.corr().round(2)\n",
    "corr_matrix"
   ]
  },
  {
   "cell_type": "code",
   "execution_count": 13,
   "metadata": {
    "scrolled": true
   },
   "outputs": [
    {
     "data": {
      "image/png": "[encoded data removed]",
      "text/plain": [
       "<Figure size 432x288 with 2 Axes>"
      ]
     },
     "metadata": {
      "needs_background": "light"
     },
     "output_type": "display_data"
    }
   ],
   "source": [
    "sbn.heatmap(corr_matrix, \n",
    "            annot=True, \n",
    "            cmap='Blues')\n",
    "plt.show()"
   ]
  },
  {
   "cell_type": "markdown",
   "metadata": {},
   "source": [
    "Наблюдаем слабую положительную корреляцию возраста и баланса на счёте с фактом ухода клиента из банка. Оставляем все признаки в работе."
   ]
  },
  {
   "cell_type": "markdown",
   "metadata": {},
   "source": [
    "### Вывод"
   ]
  },
  {
   "cell_type": "markdown",
   "metadata": {},
   "source": [
    "В ходе подготовки данных мы обнаружили несколько проблем:\n",
    "\n",
    "- столбцы с бесполезной информацией,\n",
    "- нарушения в стиле заголовков,\n",
    "- пропущенные значения.\n",
    "\n",
    "\n",
    "Мы исправили заголовки, чтобы упростить работу с таблицей, удалили лишние столбцы. \n",
    "\n",
    "Удалили пропущенные значения в столбце \"Сколько лет человек является клиентом банка\", поскольку восстановить их достоверно невозможно.\n",
    "\n",
    "Теперь данные готовы к дальнейшему анализу."
   ]
  },
  {
   "cell_type": "markdown",
   "metadata": {},
   "source": [
    "## Исследование задачи"
   ]
  },
  {
   "cell_type": "markdown",
   "metadata": {},
   "source": [
    "### Дамми-ловушка"
   ]
  },
  {
   "cell_type": "markdown",
   "metadata": {},
   "source": [
    "Признаки `'geography'` и `'gender'` - категориальные. Чтобы избежать дамми-ловушки, преобразуем их в числовые."
   ]
  },
  {
   "cell_type": "code",
   "execution_count": 14,
   "metadata": {
    "scrolled": true
   },
   "outputs": [
    {
     "data": {
      "text/plain": [
       "France     4550\n",
       "Germany    2293\n",
       "Spain      2248\n",
       "Name: geography, dtype: int64"
      ]
     },
     "execution_count": 14,
     "metadata": {},
     "output_type": "execute_result"
    }
   ],
   "source": [
    "df['geography'].value_counts()"
   ]
  },
  {
   "cell_type": "code",
   "execution_count": 15,
   "metadata": {
    "scrolled": true
   },
   "outputs": [
    {
     "data": {
      "text/plain": [
       "Male      4974\n",
       "Female    4117\n",
       "Name: gender, dtype: int64"
      ]
     },
     "execution_count": 15,
     "metadata": {},
     "output_type": "execute_result"
    }
   ],
   "source": [
    "df['gender'].value_counts()"
   ]
  },
  {
   "cell_type": "code",
   "execution_count": 16,
   "metadata": {
    "scrolled": false
   },
   "outputs": [
    {
     "data": {
      "text/html": [
       "<div>\n",
       "<style scoped>\n",
       "    .dataframe tbody tr th:only-of-type {\n",
       "        vertical-align: middle;\n",
       "    }\n",
       "\n",
       "    .dataframe tbody tr th {\n",
       "        vertical-align: top;\n",
       "    }\n",
       "\n",
       "    .dataframe thead th {\n",
       "        text-align: right;\n",
       "    }\n",
       "</style>\n",
       "<table border=\"1\" class=\"dataframe\">\n",
       "  <thead>\n",
       "    <tr style=\"text-align: right;\">\n",
       "      <th></th>\n",
       "      <th>0</th>\n",
       "      <th>1</th>\n",
       "      <th>2</th>\n",
       "      <th>3</th>\n",
       "      <th>4</th>\n",
       "    </tr>\n",
       "  </thead>\n",
       "  <tbody>\n",
       "    <tr>\n",
       "      <td>credit_score</td>\n",
       "      <td>619.00</td>\n",
       "      <td>608.00</td>\n",
       "      <td>502.00</td>\n",
       "      <td>699.00</td>\n",
       "      <td>850.00</td>\n",
       "    </tr>\n",
       "    <tr>\n",
       "      <td>age</td>\n",
       "      <td>42.00</td>\n",
       "      <td>41.00</td>\n",
       "      <td>42.00</td>\n",
       "      <td>39.00</td>\n",
       "      <td>43.00</td>\n",
       "    </tr>\n",
       "    <tr>\n",
       "      <td>tenure</td>\n",
       "      <td>2.00</td>\n",
       "      <td>1.00</td>\n",
       "      <td>8.00</td>\n",
       "      <td>1.00</td>\n",
       "      <td>2.00</td>\n",
       "    </tr>\n",
       "    <tr>\n",
       "      <td>balance</td>\n",
       "      <td>0.00</td>\n",
       "      <td>83807.86</td>\n",
       "      <td>159660.80</td>\n",
       "      <td>0.00</td>\n",
       "      <td>125510.82</td>\n",
       "    </tr>\n",
       "    <tr>\n",
       "      <td>num_of_products</td>\n",
       "      <td>1.00</td>\n",
       "      <td>1.00</td>\n",
       "      <td>3.00</td>\n",
       "      <td>2.00</td>\n",
       "      <td>1.00</td>\n",
       "    </tr>\n",
       "    <tr>\n",
       "      <td>has_cr_card</td>\n",
       "      <td>1.00</td>\n",
       "      <td>0.00</td>\n",
       "      <td>1.00</td>\n",
       "      <td>0.00</td>\n",
       "      <td>1.00</td>\n",
       "    </tr>\n",
       "    <tr>\n",
       "      <td>is_active_member</td>\n",
       "      <td>1.00</td>\n",
       "      <td>1.00</td>\n",
       "      <td>0.00</td>\n",
       "      <td>0.00</td>\n",
       "      <td>1.00</td>\n",
       "    </tr>\n",
       "    <tr>\n",
       "      <td>estimated_salary</td>\n",
       "      <td>101348.88</td>\n",
       "      <td>112542.58</td>\n",
       "      <td>113931.57</td>\n",
       "      <td>93826.63</td>\n",
       "      <td>79084.10</td>\n",
       "    </tr>\n",
       "    <tr>\n",
       "      <td>exited</td>\n",
       "      <td>1.00</td>\n",
       "      <td>0.00</td>\n",
       "      <td>1.00</td>\n",
       "      <td>0.00</td>\n",
       "      <td>0.00</td>\n",
       "    </tr>\n",
       "    <tr>\n",
       "      <td>geography_Germany</td>\n",
       "      <td>0.00</td>\n",
       "      <td>0.00</td>\n",
       "      <td>0.00</td>\n",
       "      <td>0.00</td>\n",
       "      <td>0.00</td>\n",
       "    </tr>\n",
       "    <tr>\n",
       "      <td>geography_Spain</td>\n",
       "      <td>0.00</td>\n",
       "      <td>1.00</td>\n",
       "      <td>0.00</td>\n",
       "      <td>0.00</td>\n",
       "      <td>1.00</td>\n",
       "    </tr>\n",
       "    <tr>\n",
       "      <td>gender_Male</td>\n",
       "      <td>0.00</td>\n",
       "      <td>0.00</td>\n",
       "      <td>0.00</td>\n",
       "      <td>0.00</td>\n",
       "      <td>0.00</td>\n",
       "    </tr>\n",
       "  </tbody>\n",
       "</table>\n",
       "</div>"
      ],
      "text/plain": [
       "                           0          1          2         3          4\n",
       "credit_score          619.00     608.00     502.00    699.00     850.00\n",
       "age                    42.00      41.00      42.00     39.00      43.00\n",
       "tenure                  2.00       1.00       8.00      1.00       2.00\n",
       "balance                 0.00   83807.86  159660.80      0.00  125510.82\n",
       "num_of_products         1.00       1.00       3.00      2.00       1.00\n",
       "has_cr_card             1.00       0.00       1.00      0.00       1.00\n",
       "is_active_member        1.00       1.00       0.00      0.00       1.00\n",
       "estimated_salary   101348.88  112542.58  113931.57  93826.63   79084.10\n",
       "exited                  1.00       0.00       1.00      0.00       0.00\n",
       "geography_Germany       0.00       0.00       0.00      0.00       0.00\n",
       "geography_Spain         0.00       1.00       0.00      0.00       1.00\n",
       "gender_Male             0.00       0.00       0.00      0.00       0.00"
      ]
     },
     "execution_count": 16,
     "metadata": {},
     "output_type": "execute_result"
    }
   ],
   "source": [
    "df=pd.get_dummies(df, drop_first=True)\n",
    "df.head().T"
   ]
  },
  {
   "cell_type": "markdown",
   "metadata": {},
   "source": [
    "После преобразования в таблице добавились 3 столбца."
   ]
  },
  {
   "cell_type": "markdown",
   "metadata": {},
   "source": [
    "### Разделение исходных данных на выборки\n",
    "Нам нужно построить модель для задачи классификации. Для этого разделим исходные данные на выборки."
   ]
  },
  {
   "cell_type": "markdown",
   "metadata": {},
   "source": [
    "Для начала выделим в исходных данных:\n",
    "* **признаки**: credit_score, age, tenure, balance, num_of_products, has_cr_card, is_active_member, estimated_salary, geography_Germany, geography_Spain, gender_Male \t \n",
    "* **целевой признак**: exited"
   ]
  },
  {
   "cell_type": "code",
   "execution_count": 17,
   "metadata": {},
   "outputs": [],
   "source": [
    "features = df.drop(['exited'], axis=1)\n",
    "target = df['exited']"
   ]
  },
  {
   "cell_type": "markdown",
   "metadata": {},
   "source": [
    "Разделим данные на обучающую, валидационную и тестовую выборки в пропорции 3:1:1 соответственно (60% на обучающию и по 20% данных на валидационную и тестовую выборки)"
   ]
  },
  {
   "cell_type": "code",
   "execution_count": 18,
   "metadata": {},
   "outputs": [
    {
     "name": "stdout",
     "output_type": "stream",
     "text": [
      "Размер обучающей выборки (5454, 12)\n",
      "Размер валидационной выборки (1818, 12)\n",
      "Размер тестовой выборки (1819, 12)\n"
     ]
    }
   ],
   "source": [
    "df_train, df_valid = train_test_split(df, train_size=0.6, test_size=0.4, random_state=12345)\n",
    "df_valid, df_test = train_test_split(df_valid, test_size=0.5, random_state=12345)\n",
    "\n",
    "print('Размер обучающей выборки', df_train.shape)\n",
    "print('Размер валидационной выборки', df_valid.shape)\n",
    "print('Размер тестовой выборки', df_test.shape)"
   ]
  },
  {
   "cell_type": "markdown",
   "metadata": {},
   "source": [
    "Составим таблицы признаков и целевого признака для каждой выборки."
   ]
  },
  {
   "cell_type": "code",
   "execution_count": 19,
   "metadata": {},
   "outputs": [],
   "source": [
    "features_train = df_train.drop(['exited'], axis=1)\n",
    "target_train = df_train['exited']\n",
    "features_valid = df_valid.drop(['exited'], axis=1)\n",
    "target_valid = df_valid['exited']\n",
    "features_test = df_test.drop(['exited'], axis=1)\n",
    "target_test = df_test['exited']"
   ]
  },
  {
   "cell_type": "markdown",
   "metadata": {},
   "source": [
    "Мы разделили данные по принципу 60/20/20:\n",
    "\n",
    "1. обучение проведем на данных `df_train`;\n",
    "2. проверку модели - на данных `df_valid`;\n",
    "3. лучшую модель по результатам проверки применим на данных `df_test`.\n",
    "\n",
    "Приведём численные признаки к одному масштабу."
   ]
  },
  {
   "cell_type": "code",
   "execution_count": 20,
   "metadata": {
    "scrolled": true
   },
   "outputs": [
    {
     "name": "stdout",
     "output_type": "stream",
     "text": [
      "(5454, 11)\n",
      "(1818, 11)\n",
      "(1819, 11)\n"
     ]
    }
   ],
   "source": [
    "numeric = ['credit_score', 'age', 'tenure',\n",
    "       'balance', 'num_of_products', 'has_cr_card',\n",
    "       'is_active_member', 'estimated_salary']\n",
    "\n",
    "scaler = StandardScaler()\n",
    "scaler.fit(features_train[numeric])\n",
    "features_train[numeric] = scaler.transform(features_train[numeric])\n",
    "features_valid[numeric] = scaler.transform(features_valid[numeric])\n",
    "features_test[numeric] = scaler.transform(features_test[numeric])\n",
    "\n",
    "print(features_train.shape)\n",
    "print(features_valid.shape)\n",
    "print(features_test.shape)"
   ]
  },
  {
   "cell_type": "markdown",
   "metadata": {},
   "source": [
    "### Баланс классов\n"
   ]
  },
  {
   "cell_type": "markdown",
   "metadata": {},
   "source": [
    "Проверим насколько сбалансированны данные."
   ]
  },
  {
   "cell_type": "code",
   "execution_count": 21,
   "metadata": {
    "scrolled": true
   },
   "outputs": [
    {
     "name": "stdout",
     "output_type": "stream",
     "text": [
      "0    0.796062\n",
      "1    0.203938\n",
      "Name: exited, dtype: float64\n"
     ]
    },
    {
     "data": {
      "image/png": "[encoded data removed]",
      "text/plain": [
       "<Figure size 432x288 with 1 Axes>"
      ]
     },
     "metadata": {
      "needs_background": "light"
     },
     "output_type": "display_data"
    }
   ],
   "source": [
    "class_frequency = target.value_counts(normalize=True)\n",
    "print(class_frequency)\n",
    "class_frequency.plot(kind='bar');"
   ]
  },
  {
   "cell_type": "code",
   "execution_count": 22,
   "metadata": {},
   "outputs": [
    {
     "data": {
      "text/plain": [
       "0    7237\n",
       "1    1854\n",
       "Name: exited, dtype: int64"
      ]
     },
     "execution_count": 22,
     "metadata": {},
     "output_type": "execute_result"
    }
   ],
   "source": [
    "target.value_counts()"
   ]
  },
  {
   "cell_type": "markdown",
   "metadata": {},
   "source": [
    "Мы наблюдаем дисбаланс классов - клиенты уходят в 20% случаев (отрицательный класс больше положительного в 4 раза)."
   ]
  },
  {
   "cell_type": "markdown",
   "metadata": {},
   "source": [
    "### Модель решающего дерева\n",
    "\n",
    "Изучим модели без на несбалансированных данных. Начнем с модели решающего дерева DecisionTreeClassifier. Изменим в цикле гиперпараметр `max_depth`. Критерием проверки качества модели будет `F1` и `AUC-ROC`."
   ]
  },
  {
   "cell_type": "code",
   "execution_count": 23,
   "metadata": {},
   "outputs": [
    {
     "name": "stdout",
     "output_type": "stream",
     "text": [
      "Лучшая глубина дерева 7\n",
      "Лучшая метрика F1 0.5764331210191083\n",
      "Лучшая метрика AUC-ROC 0.8346049843812412\n",
      "\n",
      "CPU times: user 204 ms, sys: 7.04 ms, total: 212 ms\n",
      "Wall time: 226 ms\n"
     ]
    }
   ],
   "source": [
    "%%time\n",
    "\n",
    "best_depth = 0\n",
    "best_f1 = 0\n",
    "best_auc_roc = 0\n",
    "\n",
    "for depth in range(1, 10):\n",
    "    # инициализируем модель решающего дерева\n",
    "    model = DecisionTreeClassifier(random_state=12345, max_depth=depth)\n",
    "    \n",
    "    # обучаем модель\n",
    "    model.fit(features_train, target_train)\n",
    "    \n",
    "    # находим предсказания на валидационной выборке\n",
    "    predictions_valid = model.predict(features_valid)\n",
    "    # находим метрику f1\n",
    "    f1 = f1_score(target_valid, predictions_valid)\n",
    "    \n",
    "    if f1 > best_f1:\n",
    "        best_depth = depth\n",
    "        best_f1 = f1\n",
    "        # находим вероятности класса \"1\"\n",
    "        probabilities_valid = model.predict_proba(features_valid)\n",
    "        probabilities_one_valid = probabilities_valid[:, 1]\n",
    "        # находим метрику auc_roc\n",
    "        best_auc_roc = roc_auc_score(target_valid, probabilities_one_valid)\n",
    "                          \n",
    "fpr_tree, tpr_tree, thresholds = roc_curve(target_valid, probabilities_one_valid)\n",
    "\n",
    "print('Лучшая глубина дерева', best_depth)\n",
    "print('Лучшая метрика F1', best_f1)\n",
    "print('Лучшая метрика AUC-ROC', best_auc_roc)\n",
    "print()"
   ]
  },
  {
   "cell_type": "markdown",
   "metadata": {},
   "source": [
    "Модель решающего дерева на несбалансированных данных с метрикой F1 = 0,5764 не удовлетворяет условиям задачи. Посмотрим на модель случайного леса."
   ]
  },
  {
   "cell_type": "markdown",
   "metadata": {},
   "source": [
    "### Модель случайного леса \n",
    "\n",
    "1. Инициируем модель случайного леса RandomForestClassifier\n",
    "\n",
    "2. Выделим гиперпараметры для настройки модели:\n",
    " * `n_estimators` - число «деревьев» в «случайном лесу»;\n",
    " * `max_depth` - максимальная глубина деревьев;\n",
    " * `min_samples_leaf` - минимальное количество объектов в листьях;\n",
    "\n",
    "\n",
    "3. Критерием проверки качества модели будет точность `F1` и `AUC-ROC`."
   ]
  },
  {
   "cell_type": "code",
   "execution_count": 24,
   "metadata": {
    "scrolled": true
   },
   "outputs": [
    {
     "name": "stdout",
     "output_type": "stream",
     "text": [
      "Лучшая метрика F1 0.5945945945945946\n",
      "Лучшая метрика AUC-ROC 0.8652286118724655\n",
      "Количество деревьев: 10\n",
      "Максимальная глубина: 8\n",
      "Минимальное число объектов в листьях: 10\n",
      "\n",
      "CPU times: user 1min, sys: 185 ms, total: 1min 1s\n",
      "Wall time: 1min 1s\n"
     ]
    }
   ],
   "source": [
    "%%time\n",
    "\n",
    "best_model = None\n",
    "best_f1 = 0\n",
    "best_est = 0\n",
    "best_depth = 0\n",
    "best_min_samples_leaf = 0\n",
    "best_auc_roc = 0\n",
    "\n",
    "# количество деревьев: от 10 до 50 с шагом 10\n",
    "for est in range(10, 51, 10):\n",
    "    # максимальная глубина от 1 до 10\n",
    "    for depth in range (1, 11):\n",
    "        # минимальное число объектов в листьях от 1 до 10\n",
    "        for min_samples_leaf in range (1, 11):\n",
    "            # инициализируем модель случайного леса\n",
    "            model = RandomForestClassifier(random_state=12345, \n",
    "                                           n_estimators=est, \n",
    "                                           max_depth=depth, \n",
    "                                           min_samples_leaf= min_samples_leaf) \n",
    "            \n",
    "            # обучаем модель на тренировочной выборке\n",
    "            model.fit(features_train, target_train) \n",
    "            \n",
    "            # находим предсказания на валидационной выборке\n",
    "            predictions_valid = model.predict(features_valid) \n",
    "            \n",
    "            # проверяем качество модели на валидационной выборке\n",
    "            f1 = f1_score(target_valid, predictions_valid)\n",
    "                      \n",
    "            if f1 > best_f1:\n",
    "                best_model = model \n",
    "                best_f1 = f1\n",
    "                best_est = est\n",
    "                best_depth = depth\n",
    "                best_min_samples_leaf = min_samples_leaf\n",
    "                # находим вероятности класса \"1\"\n",
    "                probabilities_valid = model.predict_proba(features_valid)\n",
    "                probabilities_one_valid = probabilities_valid[:, 1]\n",
    "                # находим метрику auc_roc\n",
    "                best_auc_roc = roc_auc_score(target_valid, probabilities_one_valid)\n",
    "                                               \n",
    "fpr_forest, tpr_forest, thresholds = roc_curve(target_valid, probabilities_one_valid)\n",
    "\n",
    "print('Лучшая метрика F1', best_f1)\n",
    "print('Лучшая метрика AUC-ROC', best_auc_roc)\n",
    "print('Количество деревьев:', best_est) \n",
    "print('Максимальная глубина:', best_depth)\n",
    "print('Минимальное число объектов в листьях:', best_min_samples_leaf)\n",
    "print()"
   ]
  },
  {
   "cell_type": "markdown",
   "metadata": {},
   "source": [
    "Метрика F1 модели случайного леса выше на 1,82% по сравнению с моделью решающего дерева. "
   ]
  },
  {
   "cell_type": "markdown",
   "metadata": {},
   "source": [
    "### Модель логистической регрессии\n",
    "Инициализируем модель логистической регрессии с параметром `random_state=12345`"
   ]
  },
  {
   "cell_type": "code",
   "execution_count": 25,
   "metadata": {
    "scrolled": false
   },
   "outputs": [
    {
     "name": "stdout",
     "output_type": "stream",
     "text": [
      "F1 модели логистической регрессии на валидационной выборке: 0.5609756097560976\n",
      "AUC-ROC модели логистической регрессии на валидационной выборке: 0.7735767785780947\n",
      "\n",
      "CPU times: user 30.7 ms, sys: 16 ms, total: 46.6 ms\n",
      "Wall time: 19.6 ms\n"
     ]
    }
   ],
   "source": [
    "%%time\n",
    "\n",
    "model = LogisticRegression(random_state=12345, solver='liblinear') \n",
    "\n",
    "# обучим модель на тренировочной выборке\n",
    "model.fit(features_train, target_train) \n",
    "\n",
    "# получим метрику качества модели на валидационной выборке\n",
    "f1 = f1_score(target_valid, predictions_valid)\n",
    "\n",
    "# находим вероятности класса \"1\"\n",
    "probabilities_valid = model.predict_proba(features_valid)\n",
    "probabilities_one_valid = probabilities_valid[:, 1]\n",
    "# находим метрику auc_roc\n",
    "auc_roc = roc_auc_score(target_valid, probabilities_one_valid)\n",
    "\n",
    "fpr_regr, tpr_regr, thresholds = roc_curve(target_valid, probabilities_one_valid)\n",
    "\n",
    "print(\"F1 модели логистической регрессии на валидационной выборке:\", f1)\n",
    "print(\"AUC-ROC модели логистической регрессии на валидационной выборке:\", auc_roc)\n",
    "print()"
   ]
  },
  {
   "cell_type": "markdown",
   "metadata": {},
   "source": [
    "Самая низкая метрика F1 у модели логистической регрессии.\n",
    "\n",
    "Построим ROC-кривую для моделей по несбалансированным данным. По оси Х - доля ложных предсказываний, по оси У - для верных предсказаний."
   ]
  },
  {
   "cell_type": "code",
   "execution_count": 26,
   "metadata": {
    "scrolled": false
   },
   "outputs": [
    {
     "data": {
      "image/png": "[encoded data removed]",
      "text/plain": [
       "<Figure size 720x504 with 1 Axes>"
      ]
     },
     "metadata": {
      "needs_background": "light"
     },
     "output_type": "display_data"
    }
   ],
   "source": [
    "plt.figure(figsize=[10,7])\n",
    "plt.plot(fpr_tree, tpr_tree, label = 'Дерево решений')\n",
    "plt.plot(fpr_forest, tpr_forest, label = 'Случайный лес')\n",
    "plt.plot(fpr_regr, tpr_regr, label = 'Логистическая регрессия')\n",
    "plt.plot([0, 1], [0, 1], linestyle='--', label = 'Случайная модель')\n",
    "\n",
    "plt.xlabel('False Positive Rate')\n",
    "plt.ylabel('True Positive Rate')\n",
    "\n",
    "plt.ylim([0.0, 1.0])\n",
    "plt.xlim([0.0, 1.0])\n",
    "\n",
    "plt.title('ROC-кривая по несбалансированным данным')\n",
    "plt.legend()\n",
    "\n",
    "plt.show()"
   ]
  },
  {
   "cell_type": "markdown",
   "metadata": {},
   "source": [
    "Полученные результаты говорят о том, что лучшая метрика F1=0,5946 и AUC-ROC=0,8652 у модели случайного леса."
   ]
  },
  {
   "cell_type": "markdown",
   "metadata": {},
   "source": [
    "### Вывод"
   ]
  },
  {
   "cell_type": "markdown",
   "metadata": {},
   "source": [
    "Проведенный анализ показывает дисбаланс классов в соотношении 4:1, что сказывается на качестве моделей. Наименее устойчива к дисбалансу модель логистической регресси. Посмотрим как изменятся метрики, учитывая дисбаланс классов."
   ]
  },
  {
   "cell_type": "markdown",
   "metadata": {},
   "source": [
    "## Борьба с дисбалансом"
   ]
  },
  {
   "cell_type": "markdown",
   "metadata": {},
   "source": [
    "Первый метод борьбы с дисбалансом - взвешивание классов, применим его на моделях, посмотрим результаты."
   ]
  },
  {
   "cell_type": "markdown",
   "metadata": {},
   "source": [
    "### Взвешивание классов"
   ]
  },
  {
   "cell_type": "code",
   "execution_count": 27,
   "metadata": {
    "scrolled": true
   },
   "outputs": [
    {
     "name": "stdout",
     "output_type": "stream",
     "text": [
      "Лучшая глубина дерева 5\n",
      "Лучшая метрика F1 0.5735449735449736\n",
      "Лучшая метрика AUC-ROC 0.8396523192522141\n",
      "\n",
      "CPU times: user 154 ms, sys: 3.98 ms, total: 158 ms\n",
      "Wall time: 165 ms\n"
     ]
    }
   ],
   "source": [
    "%%time\n",
    "\n",
    "best_depth = 0\n",
    "best_f1 = 0\n",
    "best_auc_roc = 0\n",
    "\n",
    "for depth in range(1, 10):\n",
    "    # инициализируем модель решающего дерева\n",
    "    model = DecisionTreeClassifier(random_state=12345, max_depth=depth, class_weight='balanced')\n",
    "    \n",
    "    # обучаем модель\n",
    "    model.fit(features_train, target_train)\n",
    "    \n",
    "    # находим предсказания на валидационной выборке\n",
    "    predictions_valid = model.predict(features_valid)\n",
    "    # находим метрику f1\n",
    "    f1 = f1_score(target_valid, predictions_valid)\n",
    "    \n",
    "    if f1 > best_f1:\n",
    "        best_depth = depth\n",
    "        best_f1 = f1\n",
    "        # находим вероятности класса \"1\"\n",
    "        probabilities_valid = model.predict_proba(features_valid)\n",
    "        probabilities_one_valid = probabilities_valid[:, 1]\n",
    "        # находим метрику auc_roc\n",
    "        best_auc_roc = roc_auc_score(target_valid, probabilities_one_valid)\n",
    "                          \n",
    "fpr_tree_cw, tpr_tree_cw, thresholds = roc_curve(target_valid, probabilities_one_valid)\n",
    "\n",
    "print('Лучшая глубина дерева', best_depth)\n",
    "print('Лучшая метрика F1', best_f1)\n",
    "print('Лучшая метрика AUC-ROC', best_auc_roc)\n",
    "print()"
   ]
  },
  {
   "cell_type": "code",
   "execution_count": 28,
   "metadata": {},
   "outputs": [
    {
     "name": "stdout",
     "output_type": "stream",
     "text": [
      "Лучшая метрика F1 0.6488372093023255\n",
      "Лучшая метрика AUC-ROC 0.8709579443983236\n",
      "Количество деревьев: 30\n",
      "Максимальная глубина: 8\n",
      "Минимальное число объектов в листьях: 3\n",
      "\n",
      "CPU times: user 1min, sys: 271 ms, total: 1min\n",
      "Wall time: 1min 1s\n"
     ]
    }
   ],
   "source": [
    "%%time\n",
    "\n",
    "best_model = None\n",
    "best_f1 = 0\n",
    "best_est = 0\n",
    "best_depth = 0\n",
    "best_min_samples_leaf = 0\n",
    "best_auc_roc = 0\n",
    "\n",
    "# количество деревьев: от 10 до 50 с шагом 10\n",
    "for est in range(10, 51, 10):\n",
    "    # максимальная глубина от 1 до 10\n",
    "    for depth in range (1, 11):\n",
    "        # минимальное число объектов в листьях от 1 до 10\n",
    "        for min_samples_leaf in range (1, 11):\n",
    "            # инициализируем модель случайного леса\n",
    "            model = RandomForestClassifier(random_state=12345, \n",
    "                                           n_estimators=est, \n",
    "                                           max_depth=depth, \n",
    "                                           min_samples_leaf= min_samples_leaf,\n",
    "                                           class_weight='balanced') \n",
    "            \n",
    "            # обучаем модель на тренировочной выборке\n",
    "            model.fit(features_train, target_train) \n",
    "            \n",
    "            # находим предсказания на валидационной выборке\n",
    "            predictions_valid = model.predict(features_valid)\n",
    "    \n",
    "            # проверяем качество модели на валидационной выборке\n",
    "            f1 = f1_score(target_valid, predictions_valid)\n",
    "                      \n",
    "            if f1 > best_f1:\n",
    "                best_model = model \n",
    "                best_f1 = f1\n",
    "                best_est = est\n",
    "                best_depth = depth\n",
    "                best_min_samples_leaf = min_samples_leaf\n",
    "                # находим вероятности класса \"1\"\n",
    "                probabilities_valid = model.predict_proba(features_valid)\n",
    "                probabilities_one_valid = probabilities_valid[:, 1]\n",
    "                # находим метрику auc_roc\n",
    "                best_auc_roc = roc_auc_score(target_valid, probabilities_one_valid)\n",
    "                                               \n",
    "fpr_forest_cw, tpr_forest_cw, thresholds = roc_curve(target_valid, probabilities_one_valid)\n",
    "\n",
    "print('Лучшая метрика F1', best_f1)\n",
    "print('Лучшая метрика AUC-ROC', best_auc_roc)\n",
    "print('Количество деревьев:', best_est) \n",
    "print('Максимальная глубина:', best_depth)\n",
    "print('Минимальное число объектов в листьях:', best_min_samples_leaf)\n",
    "print()"
   ]
  },
  {
   "cell_type": "code",
   "execution_count": 29,
   "metadata": {
    "scrolled": false
   },
   "outputs": [
    {
     "name": "stdout",
     "output_type": "stream",
     "text": [
      "F1 модели логистической регрессии на валидационной выборке: 0.5092592592592593\n",
      "AUC-ROC модели логистической регрессии на валидационной выборке: 0.7777681649753247\n",
      "\n",
      "CPU times: user 119 ms, sys: 148 ms, total: 267 ms\n",
      "Wall time: 288 ms\n"
     ]
    }
   ],
   "source": [
    "%%time\n",
    "\n",
    "model = LogisticRegression(random_state=12345, solver='liblinear', class_weight='balanced') \n",
    "\n",
    "# обучим модель на тренировочной выборке\n",
    "model.fit(features_train, target_train) \n",
    "\n",
    "predictions_valid = model.predict(features_valid)\n",
    "\n",
    "# получим метрику качества модели на валидационной выборке\n",
    "f1 = f1_score(target_valid, predictions_valid)\n",
    "\n",
    "# находим вероятности класса \"1\"\n",
    "probabilities_valid = model.predict_proba(features_valid)\n",
    "probabilities_one_valid = probabilities_valid[:, 1]\n",
    "# находим метрику auc_roc\n",
    "auc_roc = roc_auc_score(target_valid, probabilities_one_valid)\n",
    "\n",
    "fpr_regr_cw, tpr_regr_cw, thresholds = roc_curve(target_valid, probabilities_one_valid)\n",
    "\n",
    "print(\"F1 модели логистической регрессии на валидационной выборке:\", f1)\n",
    "print(\"AUC-ROC модели логистической регрессии на валидационной выборке:\", auc_roc)\n",
    "print()"
   ]
  },
  {
   "cell_type": "code",
   "execution_count": 30,
   "metadata": {
    "scrolled": false
   },
   "outputs": [
    {
     "data": {
      "image/png": "[encoded data removed]",
      "text/plain": [
       "<Figure size 720x504 with 1 Axes>"
      ]
     },
     "metadata": {
      "needs_background": "light"
     },
     "output_type": "display_data"
    }
   ],
   "source": [
    "plt.figure(figsize=[10,7])\n",
    "plt.plot(fpr_tree_cw, tpr_tree_cw, label = 'Дерево решений')\n",
    "plt.plot(fpr_forest_cw, tpr_forest_cw, label = 'Случайный лес')\n",
    "plt.plot(fpr_regr_cw, tpr_regr_cw, label = 'Логистическая регрессия')\n",
    "plt.plot([0, 1], [0, 1], linestyle='--', label = 'Случайная модель')\n",
    "\n",
    "plt.xlabel('False Positive Rate')\n",
    "plt.ylabel('True Positive Rate')\n",
    "\n",
    "plt.ylim([0.0, 1.0])\n",
    "plt.xlim([0.0, 1.0])\n",
    "\n",
    "plt.title('ROC-кривая по сбалансированным данным методом взвешивания классов')\n",
    "plt.legend()\n",
    "\n",
    "plt.show()"
   ]
  },
  {
   "cell_type": "markdown",
   "metadata": {},
   "source": [
    "По результатам взвешивания классов улучшилась мера F1 для модели случайного леса, а для моделей решающего дерева и логистической регерссии - ухудшилась. У модели случайного леса метрики F1 = 0,6488 и AUC-ROC = 0,871 при количестве деревьев = 30, максимальной глубине = 10 и минимальном числе объектов в листьях = 3."
   ]
  },
  {
   "cell_type": "markdown",
   "metadata": {},
   "source": [
    "### Увеличение выборки"
   ]
  },
  {
   "cell_type": "markdown",
   "metadata": {},
   "source": [
    "Увеличим в 4 раза объекты редкого класса методом \"upsampling\"."
   ]
  },
  {
   "cell_type": "code",
   "execution_count": 31,
   "metadata": {
    "scrolled": true
   },
   "outputs": [
    {
     "data": {
      "text/plain": [
       "1    4504\n",
       "0    4328\n",
       "Name: exited, dtype: int64"
      ]
     },
     "execution_count": 31,
     "metadata": {},
     "output_type": "execute_result"
    }
   ],
   "source": [
    "def upsample(features, target, repeat):\n",
    "    features_zeros = features[target == 0]\n",
    "    features_ones = features[target == 1]\n",
    "    target_zeros = target[target == 0]\n",
    "    target_ones = target[target == 1]\n",
    "\n",
    "    features_upsampled = pd.concat([features_zeros] + [features_ones] * repeat)\n",
    "    target_upsampled = pd.concat([target_zeros] + [target_ones] * repeat)\n",
    "    \n",
    "    features_upsampled, target_upsampled = shuffle(\n",
    "        features_upsampled, target_upsampled, random_state=12345)\n",
    "    \n",
    "    return features_upsampled, target_upsampled\n",
    "\n",
    "features_upsampled, target_upsampled = upsample(features_train, target_train, 4)\n",
    "target_upsampled.value_counts()"
   ]
  },
  {
   "cell_type": "code",
   "execution_count": 32,
   "metadata": {
    "scrolled": false
   },
   "outputs": [
    {
     "name": "stdout",
     "output_type": "stream",
     "text": [
      "Лучшая глубина дерева 5\n",
      "Лучшая метрика F1 0.5735449735449736\n",
      "Лучшая метрика AUC-ROC 0.8396523192522141\n",
      "\n",
      "CPU times: user 186 ms, sys: 8.03 ms, total: 194 ms\n",
      "Wall time: 195 ms\n"
     ]
    }
   ],
   "source": [
    "%%time\n",
    "\n",
    "best_depth = 0\n",
    "best_f1 = 0\n",
    "best_auc_roc = 0\n",
    "\n",
    "for depth in range(1, 10):\n",
    "    # инициализируем модель решающего дерева\n",
    "    model = DecisionTreeClassifier(random_state=12345, max_depth=depth)\n",
    "    \n",
    "    # обучаем модель\n",
    "    model.fit(features_upsampled, target_upsampled) \n",
    "\n",
    "    # находим предсказания на валидационной выборке\n",
    "    predictions_valid = model.predict(features_valid)\n",
    "    \n",
    "    # находим метрику f1\n",
    "    f1 = f1_score(target_valid, predictions_valid)\n",
    "    \n",
    "    if f1 > best_f1:\n",
    "        best_depth = depth\n",
    "        best_f1 = f1\n",
    "        # находим вероятности класса \"1\"\n",
    "        probabilities_valid = model.predict_proba(features_valid)\n",
    "        probabilities_one_valid = probabilities_valid[:, 1]\n",
    "        # находим метрику auc_roc\n",
    "        best_auc_roc = roc_auc_score(target_valid, probabilities_one_valid)\n",
    "                          \n",
    "fpr_tree_us, tpr_tree_us, thresholds = roc_curve(target_valid, probabilities_one_valid)\n",
    "\n",
    "print('Лучшая глубина дерева', best_depth)\n",
    "print('Лучшая метрика F1', best_f1)\n",
    "print('Лучшая метрика AUC-ROC', best_auc_roc)\n",
    "print()"
   ]
  },
  {
   "cell_type": "code",
   "execution_count": 34,
   "metadata": {
    "scrolled": true
   },
   "outputs": [
    {
     "name": "stdout",
     "output_type": "stream",
     "text": [
      "Лучшая метрика F1 0.6445714285714287\n",
      "Лучшая метрика AUC-ROC 0.8714788764801926\n",
      "Количество деревьев: 50\n",
      "Максимальная глубина: 10\n",
      "Минимальное число объектов в листьях: 5\n",
      "\n",
      "CPU times: user 1min 31s, sys: 363 ms, total: 1min 31s\n",
      "Wall time: 1min 32s\n"
     ]
    }
   ],
   "source": [
    "%%time\n",
    "\n",
    "best_model = None\n",
    "best_f1 = 0\n",
    "best_est = 0\n",
    "best_depth = 0\n",
    "best_min_samples_leaf = 0\n",
    "best_auc_roc = 0\n",
    "\n",
    "# количество деревьев: от 10 до 50 с шагом 10\n",
    "for est in range(10, 51, 10):\n",
    "    # максимальная глубина от 1 до 10\n",
    "    for depth in range (1, 11):\n",
    "        # минимальное число объектов в листьях от 1 до 10\n",
    "        for min_samples_leaf in range (1, 11):\n",
    "            # инициализируем модель случайного леса\n",
    "            model = RandomForestClassifier(random_state=12345, \n",
    "                                           n_estimators=est, \n",
    "                                           max_depth=depth, \n",
    "                                           min_samples_leaf= min_samples_leaf) \n",
    "            \n",
    "            # обучаем модель на тренировочной выборке\n",
    "            model.fit(features_upsampled, target_upsampled) \n",
    "            \n",
    "            # находим предсказания на валидационной выборке\n",
    "            predictions_valid = model.predict(features_valid)\n",
    "            \n",
    "            # проверяем качество модели на валидационной выборке\n",
    "            f1 = f1_score(target_valid, predictions_valid)\n",
    "                      \n",
    "            if f1 > best_f1:\n",
    "                best_model = model \n",
    "                best_f1 = f1\n",
    "                best_est = est\n",
    "                best_depth = depth\n",
    "                best_min_samples_leaf = min_samples_leaf\n",
    "                # находим вероятности класса \"1\"\n",
    "                probabilities_valid = model.predict_proba(features_valid)\n",
    "                probabilities_one_valid = probabilities_valid[:, 1]\n",
    "                # находим метрику auc_roc\n",
    "                best_auc_roc = roc_auc_score(target_valid, probabilities_one_valid)\n",
    "                                               \n",
    "fpr_forest_us, tpr_forest_us, thresholds = roc_curve(target_valid, probabilities_one_valid)\n",
    "\n",
    "print('Лучшая метрика F1', best_f1)\n",
    "print('Лучшая метрика AUC-ROC', best_auc_roc)\n",
    "print('Количество деревьев:', best_est) \n",
    "print('Максимальная глубина:', best_depth)\n",
    "print('Минимальное число объектов в листьях:', best_min_samples_leaf)\n",
    "print()"
   ]
  },
  {
   "cell_type": "code",
   "execution_count": 35,
   "metadata": {
    "scrolled": false
   },
   "outputs": [
    {
     "name": "stdout",
     "output_type": "stream",
     "text": [
      "F1 модели логистической регрессии на валидационной выборке: 0.5072463768115941\n",
      "AUC-ROC модели логистической регрессии на валидационной выборке: 0.7778252282069076\n",
      "\n",
      "CPU times: user 54.5 ms, sys: 28.2 ms, total: 82.6 ms\n",
      "Wall time: 56.8 ms\n"
     ]
    }
   ],
   "source": [
    "%%time\n",
    "\n",
    "model = LogisticRegression(random_state=12345, solver='liblinear') \n",
    "\n",
    "# обучим модель на тренировочной выборке\n",
    "model.fit(features_upsampled, target_upsampled) \n",
    "\n",
    "# находим предсказания на валидационной выборке\n",
    "predictions_valid = model.predict(features_valid)\n",
    "\n",
    "# получим метрику качества модели на валидационной выборке\n",
    "f1 = f1_score(target_valid, predictions_valid)\n",
    "\n",
    "# находим вероятности класса \"1\"\n",
    "probabilities_valid = model.predict_proba(features_valid)\n",
    "probabilities_one_valid = probabilities_valid[:, 1]\n",
    "# находим метрику auc_roc\n",
    "auc_roc = roc_auc_score(target_valid, probabilities_one_valid)\n",
    "\n",
    "fpr_regr_us, tpr_regr_us, thresholds = roc_curve(target_valid, probabilities_one_valid)\n",
    "\n",
    "print(\"F1 модели логистической регрессии на валидационной выборке:\", f1)\n",
    "print(\"AUC-ROC модели логистической регрессии на валидационной выборке:\", auc_roc)\n",
    "print()"
   ]
  },
  {
   "cell_type": "code",
   "execution_count": 36,
   "metadata": {
    "scrolled": false
   },
   "outputs": [
    {
     "data": {
      "image/png": "[encoded data removed]",
      "text/plain": [
       "<Figure size 720x504 with 1 Axes>"
      ]
     },
     "metadata": {
      "needs_background": "light"
     },
     "output_type": "display_data"
    }
   ],
   "source": [
    "plt.figure(figsize=[10,7])\n",
    "plt.plot(fpr_tree_us, tpr_tree_us, label = 'Дерево решений')\n",
    "plt.plot(fpr_forest_us, tpr_forest_us, label = 'Случайный лес')\n",
    "plt.plot(fpr_regr_us, tpr_regr_us, label = 'Логистическая регрессия')\n",
    "plt.plot([0, 1], [0, 1], linestyle='--', label = 'Случайная модель')\n",
    "\n",
    "plt.xlabel('False Positive Rate')\n",
    "plt.ylabel('True Positive Rate')\n",
    "\n",
    "plt.ylim([0.0, 1.0])\n",
    "plt.xlim([0.0, 1.0])\n",
    "\n",
    "plt.title('ROC-кривая по сбалансированным данным методом увеличения выборки \"upsampling\"')\n",
    "plt.legend()\n",
    "\n",
    "plt.show()"
   ]
  },
  {
   "cell_type": "markdown",
   "metadata": {},
   "source": [
    "По результатам метода \"upsampling\" улучшилась мера F1 для модели случайного леса, а для моделей решающего дерева и логистической регерссии - ухудшилась по сравнению с несбалансированными данными. У модели случайного леса метрики F1 = 0,6446 и AUC-ROC = 0,8715, что почти не отличается от результатов метода \"взвешивание классов\"."
   ]
  },
  {
   "cell_type": "markdown",
   "metadata": {},
   "source": [
    "### Уменьшение выборки"
   ]
  },
  {
   "cell_type": "markdown",
   "metadata": {},
   "source": [
    "Уменьшим в 4 раза объекты отрицательного класса методом \"downsampling\"."
   ]
  },
  {
   "cell_type": "code",
   "execution_count": 37,
   "metadata": {
    "scrolled": true
   },
   "outputs": [
    {
     "data": {
      "text/plain": [
       "1    1126\n",
       "0    1082\n",
       "Name: exited, dtype: int64"
      ]
     },
     "execution_count": 37,
     "metadata": {},
     "output_type": "execute_result"
    }
   ],
   "source": [
    "def downsample(features, target, fraction):\n",
    "    features_zeros = features[target == 0]\n",
    "    features_ones = features[target == 1]\n",
    "    target_zeros = target[target == 0]\n",
    "    target_ones = target[target == 1]\n",
    "\n",
    "    features_downsampled = pd.concat([features_zeros.sample(frac=fraction, random_state=12345), features_ones])\n",
    "    target_downsampled = pd.concat([target_zeros.sample(frac=fraction, random_state=12345), target_ones])\n",
    "    \n",
    "    features_downsampled, target_downsampled = shuffle(\n",
    "        features_downsampled, target_downsampled, random_state=12345)\n",
    "    \n",
    "    return features_downsampled, target_downsampled\n",
    "\n",
    "features_downsampled, target_downsampled = downsample(features_train, target_train, 0.25)\n",
    "\n",
    "target_downsampled.value_counts()"
   ]
  },
  {
   "cell_type": "code",
   "execution_count": 38,
   "metadata": {
    "scrolled": true
   },
   "outputs": [
    {
     "name": "stdout",
     "output_type": "stream",
     "text": [
      "Лучшая глубина дерева 6\n",
      "Лучшая метрика F1 0.5636704119850188\n",
      "Лучшая метрика AUC-ROC 0.8343500405885245\n",
      "\n",
      "CPU times: user 118 ms, sys: 12 µs, total: 118 ms\n",
      "Wall time: 124 ms\n"
     ]
    }
   ],
   "source": [
    "%%time\n",
    "\n",
    "best_depth = 0\n",
    "best_f1 = 0\n",
    "best_auc_roc = 0\n",
    "\n",
    "for depth in range(1, 10):\n",
    "    # инициализируем модель решающего дерева\n",
    "    model = DecisionTreeClassifier(random_state=12345, max_depth=depth)\n",
    "    \n",
    "    # обучаем модель\n",
    "    model.fit(features_downsampled, target_downsampled) \n",
    "\n",
    "    # находим предсказания на валидационной выборке\n",
    "    predictions_valid = model.predict(features_valid)\n",
    "    \n",
    "    # находим метрику f1\n",
    "    f1 = f1_score(target_valid, predictions_valid)\n",
    "    \n",
    "    if f1 > best_f1:\n",
    "        best_depth = depth\n",
    "        best_f1 = f1\n",
    "        # находим вероятности класса \"1\"\n",
    "        probabilities_valid = model.predict_proba(features_valid)\n",
    "        probabilities_one_valid = probabilities_valid[:, 1]\n",
    "        # находим метрику auc_roc\n",
    "        best_auc_roc = roc_auc_score(target_valid, probabilities_one_valid)\n",
    "                          \n",
    "fpr_tree_ds, tpr_tree_ds, thresholds = roc_curve(target_valid, probabilities_one_valid)\n",
    "\n",
    "print('Лучшая глубина дерева', best_depth)\n",
    "print('Лучшая метрика F1', best_f1)\n",
    "print('Лучшая метрика AUC-ROC', best_auc_roc)\n",
    "print()"
   ]
  },
  {
   "cell_type": "code",
   "execution_count": 39,
   "metadata": {
    "scrolled": false
   },
   "outputs": [
    {
     "name": "stdout",
     "output_type": "stream",
     "text": [
      "Лучшая метрика F1 0.6072874493927125\n",
      "Лучшая метрика AUC-ROC 0.8653234104668692\n",
      "Количество деревьев: 40\n",
      "Максимальная глубина: 8\n",
      "Минимальное число объектов в листьях: 1\n",
      "\n",
      "CPU times: user 38.4 s, sys: 248 ms, total: 38.7 s\n",
      "Wall time: 38.9 s\n"
     ]
    }
   ],
   "source": [
    "%%time\n",
    "\n",
    "best_model = None\n",
    "best_f1 = 0\n",
    "best_est = 0\n",
    "best_depth = 0\n",
    "best_min_samples_leaf = 0\n",
    "best_auc_roc = 0\n",
    "\n",
    "# количество деревьев: от 10 до 50 с шагом 10\n",
    "for est in range(10, 51, 10):\n",
    "    # максимальная глубина от 1 до 10\n",
    "    for depth in range (1, 11):\n",
    "        # минимальное число объектов в листьях от 1 до 10\n",
    "        for min_samples_leaf in range (1, 11):\n",
    "            # инициализируем модель случайного леса\n",
    "            model = RandomForestClassifier(random_state=12345, \n",
    "                                           n_estimators=est, \n",
    "                                           max_depth=depth, \n",
    "                                           min_samples_leaf= min_samples_leaf) \n",
    "            \n",
    "            # обучаем модель на тренировочной выборке\n",
    "            model.fit(features_downsampled, target_downsampled) \n",
    "            \n",
    "            # находим предсказания на валидационной выборке\n",
    "            predictions_valid = model.predict(features_valid)\n",
    "            \n",
    "            # проверяем качество модели на валидационной выборке\n",
    "            f1 = f1_score(target_valid, predictions_valid)\n",
    "                      \n",
    "            if f1 > best_f1:\n",
    "                best_model = model \n",
    "                best_f1 = f1\n",
    "                best_est = est\n",
    "                best_depth = depth\n",
    "                best_min_samples_leaf = min_samples_leaf\n",
    "                # находим вероятности класса \"1\"\n",
    "                probabilities_valid = model.predict_proba(features_valid)\n",
    "                probabilities_one_valid = probabilities_valid[:, 1]\n",
    "                # находим метрику auc_roc\n",
    "                best_auc_roc = roc_auc_score(target_valid, probabilities_one_valid)\n",
    "                                               \n",
    "fpr_forest_ds, tpr_forest_ds, thresholds = roc_curve(target_valid, probabilities_one_valid)\n",
    "\n",
    "print('Лучшая метрика F1', best_f1)\n",
    "print('Лучшая метрика AUC-ROC', best_auc_roc)\n",
    "print('Количество деревьев:', best_est) \n",
    "print('Максимальная глубина:', best_depth)\n",
    "print('Минимальное число объектов в листьях:', best_min_samples_leaf)\n",
    "print()"
   ]
  },
  {
   "cell_type": "code",
   "execution_count": 40,
   "metadata": {
    "scrolled": true
   },
   "outputs": [
    {
     "name": "stdout",
     "output_type": "stream",
     "text": [
      "F1 модели логистической регрессии на валидационной выборке: 0.5044883303411131\n",
      "AUC-ROC модели логистической регрессии на валидационной выборке: 0.7770152984683124\n",
      "\n",
      "CPU times: user 18.9 ms, sys: 51.8 ms, total: 70.7 ms\n",
      "Wall time: 15.9 ms\n"
     ]
    }
   ],
   "source": [
    "%%time\n",
    "\n",
    "model = LogisticRegression(random_state=12345, solver='liblinear') \n",
    "\n",
    "# обучим модель на тренировочной выборке\n",
    "model.fit(features_downsampled, target_downsampled) \n",
    "\n",
    "# находим предсказания на валидационной выборке\n",
    "predictions_valid = model.predict(features_valid)\n",
    "\n",
    "# получим метрику качества модели на валидационной выборке\n",
    "f1 = f1_score(target_valid, predictions_valid)\n",
    "\n",
    "# находим вероятности класса \"1\"\n",
    "probabilities_valid = model.predict_proba(features_valid)\n",
    "probabilities_one_valid = probabilities_valid[:, 1]\n",
    "# находим метрику auc_roc\n",
    "auc_roc = roc_auc_score(target_valid, probabilities_one_valid)\n",
    "\n",
    "fpr_regr_ds, tpr_regr_ds, thresholds = roc_curve(target_valid, probabilities_one_valid)\n",
    "\n",
    "print(\"F1 модели логистической регрессии на валидационной выборке:\", f1)\n",
    "print(\"AUC-ROC модели логистической регрессии на валидационной выборке:\", auc_roc)\n",
    "print()"
   ]
  },
  {
   "cell_type": "code",
   "execution_count": 41,
   "metadata": {
    "scrolled": false
   },
   "outputs": [
    {
     "data": {
      "image/png": "[encoded data removed]",
      "text/plain": [
       "<Figure size 720x504 with 1 Axes>"
      ]
     },
     "metadata": {
      "needs_background": "light"
     },
     "output_type": "display_data"
    }
   ],
   "source": [
    "plt.figure(figsize=[10,7])\n",
    "plt.plot(fpr_tree_ds, tpr_tree_ds, label = 'Дерево решений')\n",
    "plt.plot(fpr_forest_ds, tpr_forest_ds, label = 'Случайный лес')\n",
    "plt.plot(fpr_regr_ds, tpr_regr_ds, label = 'Логистическая регрессия')\n",
    "plt.plot([0, 1], [0, 1], linestyle='--', label = 'Случайная модель')\n",
    "\n",
    "plt.xlabel('False Positive Rate')\n",
    "plt.ylabel('True Positive Rate')\n",
    "\n",
    "plt.ylim([0.0, 1.0])\n",
    "plt.xlim([0.0, 1.0])\n",
    "\n",
    "plt.title('ROC-кривая по сбалансированным данным методом взвешивания классов')\n",
    "plt.legend()\n",
    "\n",
    "plt.show()"
   ]
  },
  {
   "cell_type": "markdown",
   "metadata": {},
   "source": [
    "По результатам метода \"downsampling\" улучшилась мера F1 для модели случайного леса, а для моделей решающего дерева и логистической регерссии - ухудшилась по сравнению с несбалансированными данными. У модели случайного леса метрики F1 = 0,6073 и AUC-ROC = 0,8653."
   ]
  },
  {
   "cell_type": "markdown",
   "metadata": {},
   "source": [
    "### Вывод\n",
    "Значительное увеличение метрик F1 и AUC-ROC дают методы взвешивания классов и \"upsampling\" положительного класса. Наилучший результат для модели решающего дерева получается при взвешивании классов, при этом метрика F1 = 0,6488 удовлетворяет условиям задачи."
   ]
  },
  {
   "cell_type": "markdown",
   "metadata": {},
   "source": [
    "## Тестирование модели"
   ]
  },
  {
   "cell_type": "markdown",
   "metadata": {},
   "source": [
    "Протестируем модель случайного леса со следующими параметрами:\n",
    "* n_estimators = 30\n",
    "* max_depth = 8\n",
    "* min_samples_leaf = 3\n",
    "\n",
    "Для учета дисбаланса применим метод взвешивания классов."
   ]
  },
  {
   "cell_type": "code",
   "execution_count": 42,
   "metadata": {
    "scrolled": false
   },
   "outputs": [
    {
     "name": "stdout",
     "output_type": "stream",
     "text": [
      "Метрика F1 0.6084788029925187\n",
      "Метрика AUC-ROC 0.8568201401988867\n",
      "\n",
      "CPU times: user 168 ms, sys: 4 ms, total: 172 ms\n",
      "Wall time: 178 ms\n"
     ]
    }
   ],
   "source": [
    "%%time\n",
    "model = RandomForestClassifier(random_state=12345, n_estimators=30, max_depth=8, min_samples_leaf=3, class_weight='balanced') \n",
    "            \n",
    "# обучаем модель на тренировочной выборке\n",
    "model.fit(features_train, target_train) \n",
    "            \n",
    "# находим предсказания на тестовой выборке\n",
    "predictions_test = model.predict(features_test)\n",
    "    \n",
    "# проверяем качество модели на тестовой выборке\n",
    "f1 = f1_score(target_test, predictions_test)\n",
    "# находим вероятности класса \"1\"\n",
    "probabilities_test = model.predict_proba(features_test)\n",
    "probabilities_one_test = probabilities_test[:, 1]\n",
    "# находим метрику auc_roc\n",
    "auc_roc = roc_auc_score(target_test, probabilities_one_test)\n",
    "\n",
    "fpr_forest_test, tpr_forest_test, thresholds = roc_curve(target_test, probabilities_one_test)\n",
    "                                               \n",
    "print('Метрика F1', f1)\n",
    "print('Метрика AUC-ROC', auc_roc)\n",
    "\n",
    "print()"
   ]
  },
  {
   "cell_type": "code",
   "execution_count": 43,
   "metadata": {
    "scrolled": false
   },
   "outputs": [
    {
     "data": {
      "image/png": "[encoded data removed]",
      "text/plain": [
       "<Figure size 720x504 with 1 Axes>"
      ]
     },
     "metadata": {
      "needs_background": "light"
     },
     "output_type": "display_data"
    }
   ],
   "source": [
    "plt.figure(figsize=[10,7])\n",
    "plt.plot(fpr_forest_test, tpr_forest_test, label = 'Случайный лес')\n",
    "plt.plot([0, 1], [0, 1], linestyle='--', label = 'Случайная модель')\n",
    "\n",
    "plt.xlabel('False Positive Rate')\n",
    "plt.ylabel('True Positive Rate')\n",
    "\n",
    "plt.ylim([0.0, 1.0])\n",
    "plt.xlim([0.0, 1.0])\n",
    "\n",
    "plt.title('ROC-кривая по сбалансированным данным методом взвешивания классов на тестовой выборке')\n",
    "plt.legend()\n",
    "\n",
    "plt.show()"
   ]
  },
  {
   "cell_type": "markdown",
   "metadata": {},
   "source": [
    "Метрика F1 модели случайного леса на сбалансированных данных на тестовой выборке составляет 0,6085. По условиям задачи необходмая метрика F1 должна быть не меньше 0,59. При этом полученная метрика на тестовой выборке меньше на 4%."
   ]
  },
  {
   "cell_type": "markdown",
   "metadata": {},
   "source": [
    "## Общий вывод"
   ]
  },
  {
   "cell_type": "markdown",
   "metadata": {},
   "source": [
    "Объект нашего исследования - исторические данные о поведении клиентов и расторжении договоров с банком.\n",
    "\n",
    "Предобработка данных обнаружила 3 проблемы:\n",
    "1. столбцы с бесполезной информацией,\n",
    "2. нарушения в стиле заголовков,\n",
    "3. пропущенные значения.\n",
    "\n",
    "Самые критичные ошибки данных мы исправили:\n",
    "* привели названия столбцов к нижнему регистру и написанию в змеином стиле, \n",
    "* удалили пропущенные значения и ненужные столбцы.\n",
    "\n",
    "Сильной взаимосвязи между признаками не выявили.\n",
    "\n",
    "Для решения поставленной задачи мы разделили исходные данные на три выборки:\n",
    "1. обучающую,\n",
    "2. валидационную,\n",
    "3. тестовую.\n",
    "\n",
    "Исследовали три модели классификации сначала на несбалансированных данных, затем на сбалансированных:\n",
    "* Дерево решений,\n",
    "* Случайный лес,\n",
    "* Логистическая регрессия.\n",
    "\n",
    "Дисбаланс классов исправили тремя методами:\n",
    "1. Взвешивание классов,\n",
    "2. Upsampling,\n",
    "3. Downsampling\n",
    "\n",
    "Наилучшие результаты получили для модели случайного леса со взвешенными классами, проверили модель на тестовой выборке и получили необходимые метрики F1 = 0.6085 и AUC-ROC = 0,8568."
   ]
  }
 ],
 "metadata": {
  "ExecuteTimeLog": [
   {
    "duration": 1489,
    "start_time": "2022-03-08T14:50:58.157Z"
   },
   {
    "duration": 65,
    "start_time": "2022-03-08T14:51:37.771Z"
   },
   {
    "duration": 52,
    "start_time": "2022-03-08T14:52:22.801Z"
   },
   {
    "duration": 12,
    "start_time": "2022-03-08T15:19:26.351Z"
   },
   {
    "duration": 59,
    "start_time": "2022-03-08T15:19:48.038Z"
   },
   {
    "duration": 58,
    "start_time": "2022-03-08T15:25:50.145Z"
   },
   {
    "duration": 31,
    "start_time": "2022-03-08T15:52:56.709Z"
   },
   {
    "duration": 323,
    "start_time": "2022-03-09T07:24:56.871Z"
   },
   {
    "duration": 1140,
    "start_time": "2022-03-09T07:25:07.285Z"
   },
   {
    "duration": 44,
    "start_time": "2022-03-09T07:25:08.427Z"
   },
   {
    "duration": 8,
    "start_time": "2022-03-09T07:25:08.473Z"
   },
   {
    "duration": 43,
    "start_time": "2022-03-09T07:25:08.482Z"
   },
   {
    "duration": 421,
    "start_time": "2022-03-09T07:25:08.527Z"
   },
   {
    "duration": 2,
    "start_time": "2022-03-09T07:25:08.950Z"
   },
   {
    "duration": 18,
    "start_time": "2022-03-09T07:25:17.180Z"
   },
   {
    "duration": 13,
    "start_time": "2022-03-09T07:28:46.065Z"
   },
   {
    "duration": 14,
    "start_time": "2022-03-09T07:30:16.631Z"
   },
   {
    "duration": 5,
    "start_time": "2022-03-09T07:32:23.918Z"
   },
   {
    "duration": 487,
    "start_time": "2022-03-09T07:32:32.861Z"
   },
   {
    "duration": 1109,
    "start_time": "2022-03-09T07:32:47.621Z"
   },
   {
    "duration": 44,
    "start_time": "2022-03-09T07:32:48.731Z"
   },
   {
    "duration": 7,
    "start_time": "2022-03-09T07:32:48.777Z"
   },
   {
    "duration": 38,
    "start_time": "2022-03-09T07:32:48.786Z"
   },
   {
    "duration": 18,
    "start_time": "2022-03-09T07:32:48.826Z"
   },
   {
    "duration": 14,
    "start_time": "2022-03-09T07:32:48.846Z"
   },
   {
    "duration": 11,
    "start_time": "2022-03-09T07:32:48.862Z"
   },
   {
    "duration": 10,
    "start_time": "2022-03-09T07:33:42.314Z"
   },
   {
    "duration": 7,
    "start_time": "2022-03-09T07:36:35.949Z"
   },
   {
    "duration": 8,
    "start_time": "2022-03-09T07:40:49.113Z"
   },
   {
    "duration": 393,
    "start_time": "2022-03-09T07:44:49.965Z"
   },
   {
    "duration": 1103,
    "start_time": "2022-03-09T07:45:06.206Z"
   },
   {
    "duration": 43,
    "start_time": "2022-03-09T07:45:07.311Z"
   },
   {
    "duration": 7,
    "start_time": "2022-03-09T07:45:07.358Z"
   },
   {
    "duration": 39,
    "start_time": "2022-03-09T07:45:07.366Z"
   },
   {
    "duration": 17,
    "start_time": "2022-03-09T07:45:07.407Z"
   },
   {
    "duration": 14,
    "start_time": "2022-03-09T07:45:07.426Z"
   },
   {
    "duration": 9,
    "start_time": "2022-03-09T07:45:07.442Z"
   },
   {
    "duration": 9,
    "start_time": "2022-03-09T07:45:07.453Z"
   },
   {
    "duration": 5,
    "start_time": "2022-03-09T07:45:07.463Z"
   },
   {
    "duration": 397,
    "start_time": "2022-03-09T07:45:07.469Z"
   },
   {
    "duration": -141,
    "start_time": "2022-03-09T07:45:08.008Z"
   },
   {
    "duration": 9,
    "start_time": "2022-03-09T07:45:18.653Z"
   },
   {
    "duration": 6,
    "start_time": "2022-03-09T07:45:25.725Z"
   },
   {
    "duration": 7,
    "start_time": "2022-03-09T08:12:57.104Z"
   },
   {
    "duration": 7,
    "start_time": "2022-03-09T08:13:14.586Z"
   },
   {
    "duration": 14,
    "start_time": "2022-03-09T08:13:48.361Z"
   },
   {
    "duration": 17,
    "start_time": "2022-03-09T08:14:00.697Z"
   },
   {
    "duration": 8697,
    "start_time": "2022-03-09T08:14:21.921Z"
   },
   {
    "duration": 6,
    "start_time": "2022-03-09T08:14:43.634Z"
   },
   {
    "duration": 16,
    "start_time": "2022-03-09T08:14:51.849Z"
   },
   {
    "duration": 16,
    "start_time": "2022-03-09T08:20:09.282Z"
   },
   {
    "duration": 1189,
    "start_time": "2022-03-09T08:20:44.561Z"
   },
   {
    "duration": 55,
    "start_time": "2022-03-09T08:20:45.752Z"
   },
   {
    "duration": 8,
    "start_time": "2022-03-09T08:20:45.808Z"
   },
   {
    "duration": 36,
    "start_time": "2022-03-09T08:20:45.818Z"
   },
   {
    "duration": 18,
    "start_time": "2022-03-09T08:20:45.855Z"
   },
   {
    "duration": 12,
    "start_time": "2022-03-09T08:20:45.874Z"
   },
   {
    "duration": 10,
    "start_time": "2022-03-09T08:20:45.887Z"
   },
   {
    "duration": 10,
    "start_time": "2022-03-09T08:20:45.899Z"
   },
   {
    "duration": 5,
    "start_time": "2022-03-09T08:20:45.910Z"
   },
   {
    "duration": 6,
    "start_time": "2022-03-09T08:20:45.916Z"
   },
   {
    "duration": 11,
    "start_time": "2022-03-09T08:20:45.923Z"
   },
   {
    "duration": 8,
    "start_time": "2022-03-09T08:20:45.935Z"
   },
   {
    "duration": 10,
    "start_time": "2022-03-09T08:20:45.944Z"
   },
   {
    "duration": 23,
    "start_time": "2022-03-09T08:20:45.956Z"
   },
   {
    "duration": 22,
    "start_time": "2022-03-09T08:25:30.393Z"
   },
   {
    "duration": 1129,
    "start_time": "2022-03-09T08:25:38.381Z"
   },
   {
    "duration": 48,
    "start_time": "2022-03-09T08:25:39.512Z"
   },
   {
    "duration": 7,
    "start_time": "2022-03-09T08:25:39.563Z"
   },
   {
    "duration": 43,
    "start_time": "2022-03-09T08:25:39.571Z"
   },
   {
    "duration": 17,
    "start_time": "2022-03-09T08:25:39.615Z"
   },
   {
    "duration": 15,
    "start_time": "2022-03-09T08:25:39.634Z"
   },
   {
    "duration": 10,
    "start_time": "2022-03-09T08:25:39.651Z"
   },
   {
    "duration": 9,
    "start_time": "2022-03-09T08:25:39.663Z"
   },
   {
    "duration": 31,
    "start_time": "2022-03-09T08:25:39.674Z"
   },
   {
    "duration": 5,
    "start_time": "2022-03-09T08:25:39.706Z"
   },
   {
    "duration": 7,
    "start_time": "2022-03-09T08:25:39.713Z"
   },
   {
    "duration": 13,
    "start_time": "2022-03-09T08:25:39.722Z"
   },
   {
    "duration": 5,
    "start_time": "2022-03-09T08:25:39.737Z"
   },
   {
    "duration": 8,
    "start_time": "2022-03-09T08:25:39.744Z"
   },
   {
    "duration": 50,
    "start_time": "2022-03-09T08:25:39.753Z"
   },
   {
    "duration": 1992,
    "start_time": "2022-03-09T08:28:12.035Z"
   },
   {
    "duration": 254,
    "start_time": "2022-03-09T08:28:14.029Z"
   },
   {
    "duration": 7,
    "start_time": "2022-03-09T08:28:14.285Z"
   },
   {
    "duration": 35,
    "start_time": "2022-03-09T08:28:14.293Z"
   },
   {
    "duration": 19,
    "start_time": "2022-03-09T08:28:14.329Z"
   },
   {
    "duration": 11,
    "start_time": "2022-03-09T08:28:14.350Z"
   },
   {
    "duration": 10,
    "start_time": "2022-03-09T08:28:14.363Z"
   },
   {
    "duration": 29,
    "start_time": "2022-03-09T08:28:14.375Z"
   },
   {
    "duration": 6,
    "start_time": "2022-03-09T08:28:14.406Z"
   },
   {
    "duration": 9,
    "start_time": "2022-03-09T08:28:14.414Z"
   },
   {
    "duration": 9,
    "start_time": "2022-03-09T08:28:14.425Z"
   },
   {
    "duration": 16,
    "start_time": "2022-03-09T08:28:14.435Z"
   },
   {
    "duration": 27388,
    "start_time": "2022-03-09T08:28:14.452Z"
   },
   {
    "duration": 8,
    "start_time": "2022-03-09T08:28:41.842Z"
   },
   {
    "duration": 9,
    "start_time": "2022-03-09T08:28:41.852Z"
   },
   {
    "duration": 54,
    "start_time": "2022-03-09T08:28:41.863Z"
   },
   {
    "duration": 3562,
    "start_time": "2022-03-09T08:30:14.019Z"
   },
   {
    "duration": 5,
    "start_time": "2022-03-09T08:30:37.421Z"
   },
   {
    "duration": 56,
    "start_time": "2022-03-09T08:30:37.428Z"
   },
   {
    "duration": 7,
    "start_time": "2022-03-09T08:30:37.486Z"
   },
   {
    "duration": 37,
    "start_time": "2022-03-09T08:30:37.495Z"
   },
   {
    "duration": 18,
    "start_time": "2022-03-09T08:30:37.534Z"
   },
   {
    "duration": 14,
    "start_time": "2022-03-09T08:30:37.555Z"
   },
   {
    "duration": 36,
    "start_time": "2022-03-09T08:30:37.571Z"
   },
   {
    "duration": 13,
    "start_time": "2022-03-09T08:30:37.610Z"
   },
   {
    "duration": 6,
    "start_time": "2022-03-09T08:30:37.625Z"
   },
   {
    "duration": 6,
    "start_time": "2022-03-09T08:30:37.632Z"
   },
   {
    "duration": 9,
    "start_time": "2022-03-09T08:30:37.639Z"
   },
   {
    "duration": 52,
    "start_time": "2022-03-09T08:30:37.649Z"
   },
   {
    "duration": 4541,
    "start_time": "2022-03-09T08:30:37.703Z"
   },
   {
    "duration": 3,
    "start_time": "2022-03-09T08:32:06.906Z"
   },
   {
    "duration": 46,
    "start_time": "2022-03-09T08:32:06.911Z"
   },
   {
    "duration": 7,
    "start_time": "2022-03-09T08:32:06.959Z"
   },
   {
    "duration": 34,
    "start_time": "2022-03-09T08:32:06.968Z"
   },
   {
    "duration": 19,
    "start_time": "2022-03-09T08:32:07.004Z"
   },
   {
    "duration": 12,
    "start_time": "2022-03-09T08:32:07.025Z"
   },
   {
    "duration": 11,
    "start_time": "2022-03-09T08:32:07.038Z"
   },
   {
    "duration": 8,
    "start_time": "2022-03-09T08:32:07.051Z"
   },
   {
    "duration": 5,
    "start_time": "2022-03-09T08:32:07.061Z"
   },
   {
    "duration": 7,
    "start_time": "2022-03-09T08:32:07.101Z"
   },
   {
    "duration": 8,
    "start_time": "2022-03-09T08:32:07.110Z"
   },
   {
    "duration": 13,
    "start_time": "2022-03-09T08:32:07.120Z"
   },
   {
    "duration": 26777,
    "start_time": "2022-03-09T08:32:07.134Z"
   },
   {
    "duration": 324,
    "start_time": "2022-03-09T08:33:04.298Z"
   },
   {
    "duration": 1132,
    "start_time": "2022-03-09T08:33:47.091Z"
   },
   {
    "duration": 46,
    "start_time": "2022-03-09T08:33:48.225Z"
   },
   {
    "duration": 7,
    "start_time": "2022-03-09T08:33:48.276Z"
   },
   {
    "duration": 42,
    "start_time": "2022-03-09T08:33:48.284Z"
   },
   {
    "duration": 17,
    "start_time": "2022-03-09T08:33:48.328Z"
   },
   {
    "duration": 14,
    "start_time": "2022-03-09T08:33:48.346Z"
   },
   {
    "duration": 10,
    "start_time": "2022-03-09T08:33:48.361Z"
   },
   {
    "duration": 33,
    "start_time": "2022-03-09T08:33:48.374Z"
   },
   {
    "duration": 5,
    "start_time": "2022-03-09T08:33:48.409Z"
   },
   {
    "duration": 6,
    "start_time": "2022-03-09T08:33:48.416Z"
   },
   {
    "duration": 8,
    "start_time": "2022-03-09T08:33:48.424Z"
   },
   {
    "duration": 15,
    "start_time": "2022-03-09T08:33:48.433Z"
   },
   {
    "duration": 29353,
    "start_time": "2022-03-09T08:33:48.450Z"
   },
   {
    "duration": 401,
    "start_time": "2022-03-09T08:34:17.804Z"
   },
   {
    "duration": -154,
    "start_time": "2022-03-09T08:34:18.361Z"
   },
   {
    "duration": -155,
    "start_time": "2022-03-09T08:34:18.364Z"
   },
   {
    "duration": -155,
    "start_time": "2022-03-09T08:34:18.365Z"
   },
   {
    "duration": 549,
    "start_time": "2022-03-09T08:34:28.112Z"
   },
   {
    "duration": 555,
    "start_time": "2022-03-09T08:49:18.963Z"
   },
   {
    "duration": 7,
    "start_time": "2022-03-09T08:51:07.608Z"
   },
   {
    "duration": 6,
    "start_time": "2022-03-09T08:51:09.151Z"
   },
   {
    "duration": 20,
    "start_time": "2022-03-09T08:51:10.239Z"
   },
   {
    "duration": 18,
    "start_time": "2022-03-09T08:59:41.263Z"
   },
   {
    "duration": 6,
    "start_time": "2022-03-09T09:02:56.908Z"
   },
   {
    "duration": 9,
    "start_time": "2022-03-09T09:03:33.164Z"
   },
   {
    "duration": 6,
    "start_time": "2022-03-09T09:04:38.561Z"
   },
   {
    "duration": 345,
    "start_time": "2022-03-09T09:27:51.707Z"
   },
   {
    "duration": 1128,
    "start_time": "2022-03-09T09:28:13.307Z"
   },
   {
    "duration": 69,
    "start_time": "2022-03-09T09:28:14.437Z"
   },
   {
    "duration": 9,
    "start_time": "2022-03-09T09:28:14.511Z"
   },
   {
    "duration": 37,
    "start_time": "2022-03-09T09:28:14.521Z"
   },
   {
    "duration": 18,
    "start_time": "2022-03-09T09:28:14.560Z"
   },
   {
    "duration": 29,
    "start_time": "2022-03-09T09:28:14.579Z"
   },
   {
    "duration": 10,
    "start_time": "2022-03-09T09:28:14.611Z"
   },
   {
    "duration": 11,
    "start_time": "2022-03-09T09:28:14.622Z"
   },
   {
    "duration": 7,
    "start_time": "2022-03-09T09:28:14.635Z"
   },
   {
    "duration": 11,
    "start_time": "2022-03-09T09:28:14.643Z"
   },
   {
    "duration": 9,
    "start_time": "2022-03-09T09:28:14.656Z"
   },
   {
    "duration": 48,
    "start_time": "2022-03-09T09:28:14.666Z"
   },
   {
    "duration": 28229,
    "start_time": "2022-03-09T09:28:14.716Z"
   },
   {
    "duration": 544,
    "start_time": "2022-03-09T09:28:42.947Z"
   },
   {
    "duration": 11,
    "start_time": "2022-03-09T09:28:43.493Z"
   },
   {
    "duration": 11,
    "start_time": "2022-03-09T09:28:43.506Z"
   },
   {
    "duration": 33,
    "start_time": "2022-03-09T09:28:43.519Z"
   },
   {
    "duration": 7,
    "start_time": "2022-03-09T09:28:43.554Z"
   },
   {
    "duration": 16,
    "start_time": "2022-03-09T09:28:43.563Z"
   },
   {
    "duration": 13,
    "start_time": "2022-03-09T09:28:43.580Z"
   },
   {
    "duration": 29,
    "start_time": "2022-03-09T09:28:43.594Z"
   },
   {
    "duration": 7,
    "start_time": "2022-03-09T11:10:31.497Z"
   },
   {
    "duration": 124,
    "start_time": "2022-03-09T11:14:52.996Z"
   },
   {
    "duration": 125,
    "start_time": "2022-03-09T11:15:48.403Z"
   },
   {
    "duration": 289,
    "start_time": "2022-03-09T12:16:31.214Z"
   },
   {
    "duration": 1149,
    "start_time": "2022-03-09T12:16:44.087Z"
   },
   {
    "duration": 43,
    "start_time": "2022-03-09T12:16:45.238Z"
   },
   {
    "duration": 7,
    "start_time": "2022-03-09T12:16:45.282Z"
   },
   {
    "duration": 33,
    "start_time": "2022-03-09T12:16:45.291Z"
   },
   {
    "duration": 16,
    "start_time": "2022-03-09T12:16:45.325Z"
   },
   {
    "duration": 11,
    "start_time": "2022-03-09T12:16:45.342Z"
   },
   {
    "duration": 10,
    "start_time": "2022-03-09T12:16:45.355Z"
   },
   {
    "duration": 7,
    "start_time": "2022-03-09T12:16:45.367Z"
   },
   {
    "duration": 5,
    "start_time": "2022-03-09T12:16:45.376Z"
   },
   {
    "duration": 6,
    "start_time": "2022-03-09T12:16:45.382Z"
   },
   {
    "duration": 18,
    "start_time": "2022-03-09T12:16:45.389Z"
   },
   {
    "duration": 18,
    "start_time": "2022-03-09T12:16:45.409Z"
   },
   {
    "duration": 26798,
    "start_time": "2022-03-09T12:16:45.429Z"
   },
   {
    "duration": 532,
    "start_time": "2022-03-09T12:17:12.229Z"
   },
   {
    "duration": 6,
    "start_time": "2022-03-09T12:17:12.763Z"
   },
   {
    "duration": 7,
    "start_time": "2022-03-09T12:17:12.770Z"
   },
   {
    "duration": 35,
    "start_time": "2022-03-09T12:17:12.779Z"
   },
   {
    "duration": 5,
    "start_time": "2022-03-09T12:17:12.815Z"
   },
   {
    "duration": 7,
    "start_time": "2022-03-09T12:17:12.822Z"
   },
   {
    "duration": 6,
    "start_time": "2022-03-09T12:17:12.831Z"
   },
   {
    "duration": 29,
    "start_time": "2022-03-09T12:17:12.839Z"
   },
   {
    "duration": 154,
    "start_time": "2022-03-09T12:17:12.870Z"
   },
   {
    "duration": 322,
    "start_time": "2022-03-09T12:17:13.026Z"
   },
   {
    "duration": 135,
    "start_time": "2022-03-09T12:17:56.077Z"
   },
   {
    "duration": 126,
    "start_time": "2022-03-09T12:18:47.205Z"
   },
   {
    "duration": 51026,
    "start_time": "2022-03-09T12:39:30.011Z"
   },
   {
    "duration": 43,
    "start_time": "2022-03-09T12:55:55.558Z"
   },
   {
    "duration": 19,
    "start_time": "2022-03-09T12:57:29.877Z"
   },
   {
    "duration": 1690,
    "start_time": "2022-03-09T15:45:08.850Z"
   },
   {
    "duration": 67,
    "start_time": "2022-03-09T15:45:10.543Z"
   },
   {
    "duration": 12,
    "start_time": "2022-03-09T15:45:10.613Z"
   },
   {
    "duration": 83,
    "start_time": "2022-03-09T15:45:10.628Z"
   },
   {
    "duration": 34,
    "start_time": "2022-03-09T15:45:10.713Z"
   },
   {
    "duration": 44,
    "start_time": "2022-03-09T15:45:10.749Z"
   },
   {
    "duration": 19,
    "start_time": "2022-03-09T15:45:10.795Z"
   },
   {
    "duration": 15,
    "start_time": "2022-03-09T15:45:10.818Z"
   },
   {
    "duration": 43,
    "start_time": "2022-03-09T15:45:10.836Z"
   },
   {
    "duration": 13,
    "start_time": "2022-03-09T15:45:10.881Z"
   },
   {
    "duration": 16,
    "start_time": "2022-03-09T15:45:10.896Z"
   },
   {
    "duration": 60,
    "start_time": "2022-03-09T15:45:10.915Z"
   },
   {
    "duration": 51066,
    "start_time": "2022-03-09T15:45:10.977Z"
   },
   {
    "duration": 924,
    "start_time": "2022-03-09T15:46:02.045Z"
   },
   {
    "duration": 9,
    "start_time": "2022-03-09T15:46:02.972Z"
   },
   {
    "duration": 30,
    "start_time": "2022-03-09T15:46:02.983Z"
   },
   {
    "duration": 48,
    "start_time": "2022-03-09T15:46:03.016Z"
   },
   {
    "duration": 12,
    "start_time": "2022-03-09T15:46:03.067Z"
   },
   {
    "duration": 13,
    "start_time": "2022-03-09T15:46:03.082Z"
   },
   {
    "duration": 12,
    "start_time": "2022-03-09T15:46:03.098Z"
   },
   {
    "duration": 76,
    "start_time": "2022-03-09T15:46:03.113Z"
   },
   {
    "duration": 265,
    "start_time": "2022-03-09T15:46:03.191Z"
   },
   {
    "duration": 1759,
    "start_time": "2022-03-09T15:46:03.461Z"
   },
   {
    "duration": 235,
    "start_time": "2022-03-09T15:46:40.061Z"
   },
   {
    "duration": 236,
    "start_time": "2022-03-09T15:46:47.237Z"
   },
   {
    "duration": 114,
    "start_time": "2022-03-09T15:52:01.265Z"
   },
   {
    "duration": 99,
    "start_time": "2022-03-09T15:52:13.939Z"
   },
   {
    "duration": 198,
    "start_time": "2022-03-09T15:52:33.968Z"
   },
   {
    "duration": 85854,
    "start_time": "2022-03-09T16:00:43.110Z"
   },
   {
    "duration": 90005,
    "start_time": "2022-03-09T16:02:31.541Z"
   },
   {
    "duration": 110,
    "start_time": "2022-03-09T16:07:23.742Z"
   },
   {
    "duration": 79840,
    "start_time": "2022-03-09T16:07:33.136Z"
   },
   {
    "duration": 145,
    "start_time": "2022-03-09T16:09:30.030Z"
   },
   {
    "duration": 80537,
    "start_time": "2022-03-09T16:10:42.789Z"
   },
   {
    "duration": 81706,
    "start_time": "2022-03-09T16:15:20.809Z"
   },
   {
    "duration": 79819,
    "start_time": "2022-03-09T16:20:25.731Z"
   },
   {
    "duration": 191,
    "start_time": "2022-03-09T16:57:31.756Z"
   },
   {
    "duration": 1710,
    "start_time": "2022-03-09T16:57:38.447Z"
   },
   {
    "duration": 67,
    "start_time": "2022-03-09T16:57:40.161Z"
   },
   {
    "duration": 12,
    "start_time": "2022-03-09T16:57:40.232Z"
   },
   {
    "duration": 83,
    "start_time": "2022-03-09T16:57:40.248Z"
   },
   {
    "duration": 39,
    "start_time": "2022-03-09T16:57:40.334Z"
   },
   {
    "duration": 59,
    "start_time": "2022-03-09T16:57:40.375Z"
   },
   {
    "duration": 39,
    "start_time": "2022-03-09T16:57:40.438Z"
   },
   {
    "duration": 35,
    "start_time": "2022-03-09T16:57:40.482Z"
   },
   {
    "duration": 22,
    "start_time": "2022-03-09T16:57:40.521Z"
   },
   {
    "duration": 24,
    "start_time": "2022-03-09T16:57:40.546Z"
   },
   {
    "duration": 39,
    "start_time": "2022-03-09T16:57:40.572Z"
   },
   {
    "duration": 48,
    "start_time": "2022-03-09T16:57:40.614Z"
   },
   {
    "duration": 908,
    "start_time": "2022-03-09T16:57:40.665Z"
   },
   {
    "duration": 50818,
    "start_time": "2022-03-09T16:57:41.575Z"
   },
   {
    "duration": 10,
    "start_time": "2022-03-09T16:58:32.395Z"
   },
   {
    "duration": 16,
    "start_time": "2022-03-09T16:58:32.408Z"
   },
   {
    "duration": 72,
    "start_time": "2022-03-09T16:58:32.426Z"
   },
   {
    "duration": 8,
    "start_time": "2022-03-09T16:58:32.501Z"
   },
   {
    "duration": 41,
    "start_time": "2022-03-09T16:58:32.511Z"
   },
   {
    "duration": 10,
    "start_time": "2022-03-09T16:58:32.555Z"
   },
   {
    "duration": 44,
    "start_time": "2022-03-09T16:58:32.575Z"
   },
   {
    "duration": 261,
    "start_time": "2022-03-09T16:58:32.621Z"
   },
   {
    "duration": 207,
    "start_time": "2022-03-09T16:58:32.886Z"
   },
   {
    "duration": 81784,
    "start_time": "2022-03-09T16:58:33.095Z"
   },
   {
    "duration": 96,
    "start_time": "2022-03-09T16:59:54.882Z"
   },
   {
    "duration": 48,
    "start_time": "2022-03-09T17:02:27.432Z"
   },
   {
    "duration": 206,
    "start_time": "2022-03-09T17:02:31.271Z"
   },
   {
    "duration": 56,
    "start_time": "2022-03-09T17:02:54.119Z"
   },
   {
    "duration": 383,
    "start_time": "2022-03-10T09:30:31.129Z"
   },
   {
    "duration": 1473,
    "start_time": "2022-03-10T09:30:35.516Z"
   },
   {
    "duration": 61,
    "start_time": "2022-03-10T09:30:36.992Z"
   },
   {
    "duration": 26,
    "start_time": "2022-03-10T09:30:37.056Z"
   },
   {
    "duration": 60,
    "start_time": "2022-03-10T09:30:37.086Z"
   },
   {
    "duration": 54,
    "start_time": "2022-03-10T09:30:37.149Z"
   },
   {
    "duration": 23,
    "start_time": "2022-03-10T09:30:37.205Z"
   },
   {
    "duration": 17,
    "start_time": "2022-03-10T09:30:37.230Z"
   },
   {
    "duration": 43,
    "start_time": "2022-03-10T09:30:37.251Z"
   },
   {
    "duration": 8,
    "start_time": "2022-03-10T09:30:37.298Z"
   },
   {
    "duration": 8,
    "start_time": "2022-03-10T09:30:37.308Z"
   },
   {
    "duration": 2,
    "start_time": "2022-03-10T09:30:37.319Z"
   },
   {
    "duration": 12,
    "start_time": "2022-03-10T09:30:37.323Z"
   },
   {
    "duration": 63,
    "start_time": "2022-03-10T09:30:37.337Z"
   },
   {
    "duration": 954,
    "start_time": "2022-03-10T09:30:37.403Z"
   },
   {
    "duration": 47624,
    "start_time": "2022-03-10T09:30:38.359Z"
   },
   {
    "duration": 9,
    "start_time": "2022-03-10T09:31:25.985Z"
   },
   {
    "duration": 15,
    "start_time": "2022-03-10T09:31:25.996Z"
   },
   {
    "duration": 71,
    "start_time": "2022-03-10T09:31:26.013Z"
   },
   {
    "duration": 6,
    "start_time": "2022-03-10T09:31:26.087Z"
   },
   {
    "duration": 21,
    "start_time": "2022-03-10T09:31:26.096Z"
   },
   {
    "duration": 10,
    "start_time": "2022-03-10T09:31:26.119Z"
   },
   {
    "duration": 63,
    "start_time": "2022-03-10T09:31:26.131Z"
   },
   {
    "duration": 229,
    "start_time": "2022-03-10T09:31:26.198Z"
   },
   {
    "duration": 214,
    "start_time": "2022-03-10T09:31:26.429Z"
   },
   {
    "duration": 80012,
    "start_time": "2022-03-10T09:31:26.645Z"
   },
   {
    "duration": 121,
    "start_time": "2022-03-10T09:32:46.660Z"
   },
   {
    "duration": 442,
    "start_time": "2022-03-10T11:57:45.054Z"
   },
   {
    "duration": 1572,
    "start_time": "2022-03-10T11:57:51.258Z"
   },
   {
    "duration": 63,
    "start_time": "2022-03-10T11:57:52.832Z"
   },
   {
    "duration": 274,
    "start_time": "2022-03-10T11:57:52.898Z"
   },
   {
    "duration": 391,
    "start_time": "2022-03-10T11:57:53.175Z"
   },
   {
    "duration": 487,
    "start_time": "2022-03-10T11:57:53.569Z"
   },
   {
    "duration": 355,
    "start_time": "2022-03-10T11:57:54.059Z"
   },
   {
    "duration": 329,
    "start_time": "2022-03-10T11:57:54.417Z"
   },
   {
    "duration": 241,
    "start_time": "2022-03-10T11:57:54.750Z"
   },
   {
    "duration": 624,
    "start_time": "2022-03-10T11:57:54.995Z"
   },
   {
    "duration": 414,
    "start_time": "2022-03-10T11:57:55.622Z"
   },
   {
    "duration": 316,
    "start_time": "2022-03-10T11:57:56.039Z"
   },
   {
    "duration": 335,
    "start_time": "2022-03-10T11:57:56.359Z"
   },
   {
    "duration": 426,
    "start_time": "2022-03-10T11:57:56.696Z"
   },
   {
    "duration": 1444,
    "start_time": "2022-03-10T11:57:57.124Z"
   },
   {
    "duration": 51344,
    "start_time": "2022-03-10T11:57:58.571Z"
   },
   {
    "duration": 9,
    "start_time": "2022-03-10T11:58:49.918Z"
   },
   {
    "duration": 478,
    "start_time": "2022-03-10T11:58:49.930Z"
   },
   {
    "duration": 466,
    "start_time": "2022-03-10T11:58:50.411Z"
   },
   {
    "duration": 322,
    "start_time": "2022-03-10T11:58:50.880Z"
   },
   {
    "duration": 276,
    "start_time": "2022-03-10T11:58:51.205Z"
   },
   {
    "duration": 437,
    "start_time": "2022-03-10T11:58:51.484Z"
   },
   {
    "duration": 391,
    "start_time": "2022-03-10T11:58:51.924Z"
   },
   {
    "duration": 618,
    "start_time": "2022-03-10T11:58:52.320Z"
   },
   {
    "duration": 470,
    "start_time": "2022-03-10T11:58:52.941Z"
   },
   {
    "duration": 83592,
    "start_time": "2022-03-10T11:58:53.415Z"
   },
   {
    "duration": 34,
    "start_time": "2022-03-10T12:00:17.010Z"
   },
   {
    "duration": 1978,
    "start_time": "2022-03-10T12:00:17.084Z"
   },
   {
    "duration": 1807,
    "start_time": "2022-03-10T12:21:06.947Z"
   },
   {
    "duration": 69,
    "start_time": "2022-03-10T12:21:08.757Z"
   },
   {
    "duration": 287,
    "start_time": "2022-03-10T12:21:08.830Z"
   },
   {
    "duration": 340,
    "start_time": "2022-03-10T12:21:09.120Z"
   },
   {
    "duration": 229,
    "start_time": "2022-03-10T12:21:09.463Z"
   },
   {
    "duration": 256,
    "start_time": "2022-03-10T12:21:09.695Z"
   },
   {
    "duration": 209,
    "start_time": "2022-03-10T12:21:09.953Z"
   },
   {
    "duration": 213,
    "start_time": "2022-03-10T12:21:10.168Z"
   },
   {
    "duration": 288,
    "start_time": "2022-03-10T12:21:10.384Z"
   },
   {
    "duration": 280,
    "start_time": "2022-03-10T12:21:10.674Z"
   },
   {
    "duration": 283,
    "start_time": "2022-03-10T12:21:10.957Z"
   },
   {
    "duration": 254,
    "start_time": "2022-03-10T12:21:11.243Z"
   },
   {
    "duration": 327,
    "start_time": "2022-03-10T12:21:11.500Z"
   },
   {
    "duration": 1451,
    "start_time": "2022-03-10T12:21:11.831Z"
   },
   {
    "duration": 54241,
    "start_time": "2022-03-10T12:21:13.285Z"
   },
   {
    "duration": 355,
    "start_time": "2022-03-10T12:22:07.176Z"
   },
   {
    "duration": 354,
    "start_time": "2022-03-10T12:22:07.179Z"
   },
   {
    "duration": 355,
    "start_time": "2022-03-10T12:22:07.180Z"
   },
   {
    "duration": 355,
    "start_time": "2022-03-10T12:22:07.182Z"
   },
   {
    "duration": 356,
    "start_time": "2022-03-10T12:22:07.183Z"
   },
   {
    "duration": 356,
    "start_time": "2022-03-10T12:22:07.185Z"
   },
   {
    "duration": 356,
    "start_time": "2022-03-10T12:22:07.187Z"
   },
   {
    "duration": 356,
    "start_time": "2022-03-10T12:22:07.189Z"
   },
   {
    "duration": 356,
    "start_time": "2022-03-10T12:22:07.191Z"
   },
   {
    "duration": 354,
    "start_time": "2022-03-10T12:22:07.195Z"
   },
   {
    "duration": 365,
    "start_time": "2022-03-10T12:22:07.217Z"
   },
   {
    "duration": 366,
    "start_time": "2022-03-10T12:22:07.219Z"
   },
   {
    "duration": 1995,
    "start_time": "2022-03-10T12:22:16.648Z"
   },
   {
    "duration": 89,
    "start_time": "2022-03-10T12:22:18.646Z"
   },
   {
    "duration": 125,
    "start_time": "2022-03-10T12:22:18.738Z"
   },
   {
    "duration": 342,
    "start_time": "2022-03-10T12:22:18.867Z"
   },
   {
    "duration": 226,
    "start_time": "2022-03-10T12:22:19.213Z"
   },
   {
    "duration": 248,
    "start_time": "2022-03-10T12:22:19.442Z"
   },
   {
    "duration": 445,
    "start_time": "2022-03-10T12:22:19.692Z"
   },
   {
    "duration": 350,
    "start_time": "2022-03-10T12:22:20.141Z"
   },
   {
    "duration": 452,
    "start_time": "2022-03-10T12:22:20.495Z"
   },
   {
    "duration": 497,
    "start_time": "2022-03-10T12:22:20.950Z"
   },
   {
    "duration": 453,
    "start_time": "2022-03-10T12:22:21.449Z"
   },
   {
    "duration": 356,
    "start_time": "2022-03-10T12:22:21.905Z"
   },
   {
    "duration": 475,
    "start_time": "2022-03-10T12:22:22.264Z"
   },
   {
    "duration": 1547,
    "start_time": "2022-03-10T12:22:22.742Z"
   },
   {
    "duration": 4,
    "start_time": "2022-03-10T12:22:24.292Z"
   },
   {
    "duration": 245,
    "start_time": "2022-03-10T12:22:24.299Z"
   },
   {
    "duration": 268,
    "start_time": "2022-03-10T12:22:24.547Z"
   },
   {
    "duration": 470,
    "start_time": "2022-03-10T12:22:24.818Z"
   },
   {
    "duration": 866,
    "start_time": "2022-03-10T12:22:25.291Z"
   },
   {
    "duration": 984,
    "start_time": "2022-03-10T12:22:26.159Z"
   },
   {
    "duration": 949,
    "start_time": "2022-03-10T12:22:27.146Z"
   },
   {
    "duration": 918,
    "start_time": "2022-03-10T12:22:28.098Z"
   },
   {
    "duration": 909,
    "start_time": "2022-03-10T12:22:29.022Z"
   },
   {
    "duration": 820,
    "start_time": "2022-03-10T12:22:29.934Z"
   },
   {
    "duration": 86714,
    "start_time": "2022-03-10T12:22:30.757Z"
   },
   {
    "duration": 108,
    "start_time": "2022-03-10T12:23:57.473Z"
   },
   {
    "duration": 592,
    "start_time": "2022-03-10T12:23:57.585Z"
   },
   {
    "duration": 448,
    "start_time": "2022-03-10T12:33:48.662Z"
   },
   {
    "duration": 449,
    "start_time": "2022-03-10T12:33:55.103Z"
   },
   {
    "duration": 524,
    "start_time": "2022-03-10T12:34:04.209Z"
   },
   {
    "duration": 373,
    "start_time": "2022-03-10T12:36:19.619Z"
   },
   {
    "duration": 410,
    "start_time": "2022-03-10T12:53:43.568Z"
   },
   {
    "duration": 1558,
    "start_time": "2022-03-10T17:16:21.294Z"
   },
   {
    "duration": 64,
    "start_time": "2022-03-10T17:16:22.855Z"
   },
   {
    "duration": 14,
    "start_time": "2022-03-10T17:16:22.926Z"
   },
   {
    "duration": 84,
    "start_time": "2022-03-10T17:16:22.943Z"
   },
   {
    "duration": 31,
    "start_time": "2022-03-10T17:16:23.030Z"
   },
   {
    "duration": 22,
    "start_time": "2022-03-10T17:16:23.082Z"
   },
   {
    "duration": 16,
    "start_time": "2022-03-10T17:16:23.108Z"
   },
   {
    "duration": 23,
    "start_time": "2022-03-10T17:16:23.128Z"
   },
   {
    "duration": 11,
    "start_time": "2022-03-10T17:16:23.183Z"
   },
   {
    "duration": 10,
    "start_time": "2022-03-10T17:16:23.196Z"
   },
   {
    "duration": 4,
    "start_time": "2022-03-10T17:16:23.209Z"
   },
   {
    "duration": 10,
    "start_time": "2022-03-10T17:16:23.216Z"
   },
   {
    "duration": 64,
    "start_time": "2022-03-10T17:16:23.230Z"
   },
   {
    "duration": 852,
    "start_time": "2022-03-10T17:16:23.297Z"
   },
   {
    "duration": 4,
    "start_time": "2022-03-10T17:16:24.152Z"
   },
   {
    "duration": 28,
    "start_time": "2022-03-10T17:16:24.159Z"
   },
   {
    "duration": 12,
    "start_time": "2022-03-10T17:16:24.190Z"
   },
   {
    "duration": 34,
    "start_time": "2022-03-10T17:16:24.205Z"
   },
   {
    "duration": 40,
    "start_time": "2022-03-10T17:16:24.242Z"
   },
   {
    "duration": 15,
    "start_time": "2022-03-10T17:16:24.284Z"
   },
   {
    "duration": 10,
    "start_time": "2022-03-10T17:16:24.301Z"
   },
   {
    "duration": 70,
    "start_time": "2022-03-10T17:16:24.315Z"
   },
   {
    "duration": 241,
    "start_time": "2022-03-10T17:16:24.387Z"
   },
   {
    "duration": 207,
    "start_time": "2022-03-10T17:16:24.630Z"
   },
   {
    "duration": 85344,
    "start_time": "2022-03-10T17:16:24.840Z"
   },
   {
    "duration": 99,
    "start_time": "2022-03-10T17:17:50.187Z"
   },
   {
    "duration": 744,
    "start_time": "2022-03-10T17:17:50.290Z"
   },
   {
    "duration": 412,
    "start_time": "2022-03-10T17:18:05.453Z"
   },
   {
    "duration": 126,
    "start_time": "2022-03-10T17:25:11.156Z"
   },
   {
    "duration": 205,
    "start_time": "2022-03-10T17:25:57.940Z"
   },
   {
    "duration": 1541,
    "start_time": "2022-03-10T17:26:40.905Z"
   },
   {
    "duration": 69,
    "start_time": "2022-03-10T17:26:42.449Z"
   },
   {
    "duration": 13,
    "start_time": "2022-03-10T17:26:42.521Z"
   },
   {
    "duration": 77,
    "start_time": "2022-03-10T17:26:42.537Z"
   },
   {
    "duration": 32,
    "start_time": "2022-03-10T17:26:42.617Z"
   },
   {
    "duration": 45,
    "start_time": "2022-03-10T17:26:42.651Z"
   },
   {
    "duration": 21,
    "start_time": "2022-03-10T17:26:42.698Z"
   },
   {
    "duration": 16,
    "start_time": "2022-03-10T17:26:42.723Z"
   },
   {
    "duration": 41,
    "start_time": "2022-03-10T17:26:42.743Z"
   },
   {
    "duration": 12,
    "start_time": "2022-03-10T17:26:42.787Z"
   },
   {
    "duration": 17,
    "start_time": "2022-03-10T17:26:42.803Z"
   },
   {
    "duration": 62,
    "start_time": "2022-03-10T17:26:42.822Z"
   },
   {
    "duration": 865,
    "start_time": "2022-03-10T17:26:42.887Z"
   },
   {
    "duration": 3,
    "start_time": "2022-03-10T17:26:43.755Z"
   },
   {
    "duration": 24,
    "start_time": "2022-03-10T17:26:43.760Z"
   },
   {
    "duration": 10,
    "start_time": "2022-03-10T17:26:43.787Z"
   },
   {
    "duration": 34,
    "start_time": "2022-03-10T17:26:43.799Z"
   },
   {
    "duration": 7,
    "start_time": "2022-03-10T17:26:43.835Z"
   },
   {
    "duration": 51,
    "start_time": "2022-03-10T17:26:43.845Z"
   },
   {
    "duration": 11,
    "start_time": "2022-03-10T17:26:43.899Z"
   },
   {
    "duration": 72,
    "start_time": "2022-03-10T17:26:43.913Z"
   },
   {
    "duration": 245,
    "start_time": "2022-03-10T17:26:43.988Z"
   },
   {
    "duration": 196,
    "start_time": "2022-03-10T17:26:44.237Z"
   },
   {
    "duration": 76989,
    "start_time": "2022-03-10T17:26:44.436Z"
   },
   {
    "duration": 65,
    "start_time": "2022-03-10T17:28:01.428Z"
   },
   {
    "duration": 740,
    "start_time": "2022-03-10T17:28:01.497Z"
   },
   {
    "duration": 213,
    "start_time": "2022-03-10T17:28:02.240Z"
   },
   {
    "duration": 46,
    "start_time": "2022-03-10T17:28:02.456Z"
   },
   {
    "duration": 81029,
    "start_time": "2022-03-10T17:30:12.079Z"
   },
   {
    "duration": 51,
    "start_time": "2022-03-10T17:33:59.548Z"
   },
   {
    "duration": 68,
    "start_time": "2022-03-10T17:35:12.418Z"
   },
   {
    "duration": 82976,
    "start_time": "2022-03-10T17:36:09.882Z"
   },
   {
    "duration": 1642,
    "start_time": "2022-03-10T17:38:41.534Z"
   },
   {
    "duration": 62,
    "start_time": "2022-03-10T17:38:43.179Z"
   },
   {
    "duration": 11,
    "start_time": "2022-03-10T17:38:43.244Z"
   },
   {
    "duration": 75,
    "start_time": "2022-03-10T17:38:43.282Z"
   },
   {
    "duration": 52,
    "start_time": "2022-03-10T17:38:43.360Z"
   },
   {
    "duration": 31,
    "start_time": "2022-03-10T17:38:43.415Z"
   },
   {
    "duration": 38,
    "start_time": "2022-03-10T17:38:43.449Z"
   },
   {
    "duration": 20,
    "start_time": "2022-03-10T17:38:43.492Z"
   },
   {
    "duration": 11,
    "start_time": "2022-03-10T17:38:43.516Z"
   },
   {
    "duration": 52,
    "start_time": "2022-03-10T17:38:43.530Z"
   },
   {
    "duration": 18,
    "start_time": "2022-03-10T17:38:43.585Z"
   },
   {
    "duration": 36,
    "start_time": "2022-03-10T17:38:43.606Z"
   },
   {
    "duration": 1228,
    "start_time": "2022-03-10T17:38:43.645Z"
   },
   {
    "duration": 4,
    "start_time": "2022-03-10T17:38:44.883Z"
   },
   {
    "duration": 17,
    "start_time": "2022-03-10T17:38:44.890Z"
   },
   {
    "duration": 17,
    "start_time": "2022-03-10T17:38:44.910Z"
   },
   {
    "duration": 63,
    "start_time": "2022-03-10T17:38:44.930Z"
   },
   {
    "duration": 8,
    "start_time": "2022-03-10T17:38:44.995Z"
   },
   {
    "duration": 39,
    "start_time": "2022-03-10T17:38:45.005Z"
   },
   {
    "duration": 42,
    "start_time": "2022-03-10T17:38:45.047Z"
   },
   {
    "duration": 52,
    "start_time": "2022-03-10T17:38:45.092Z"
   },
   {
    "duration": 252,
    "start_time": "2022-03-10T17:38:45.147Z"
   },
   {
    "duration": 382,
    "start_time": "2022-03-10T17:38:45.403Z"
   },
   {
    "duration": 88016,
    "start_time": "2022-03-10T17:38:45.789Z"
   },
   {
    "duration": 80,
    "start_time": "2022-03-10T17:40:13.807Z"
   },
   {
    "duration": 531,
    "start_time": "2022-03-10T17:40:13.890Z"
   },
   {
    "duration": 219,
    "start_time": "2022-03-10T17:40:14.424Z"
   },
   {
    "duration": 76679,
    "start_time": "2022-03-10T17:40:14.645Z"
   },
   {
    "duration": 167,
    "start_time": "2022-03-10T17:41:31.327Z"
   },
   {
    "duration": 298,
    "start_time": "2022-03-11T07:04:59.491Z"
   },
   {
    "duration": 1567,
    "start_time": "2022-03-11T07:05:03.846Z"
   },
   {
    "duration": 59,
    "start_time": "2022-03-11T07:05:05.416Z"
   },
   {
    "duration": 17,
    "start_time": "2022-03-11T07:05:05.478Z"
   },
   {
    "duration": 61,
    "start_time": "2022-03-11T07:05:05.498Z"
   },
   {
    "duration": 53,
    "start_time": "2022-03-11T07:05:05.561Z"
   },
   {
    "duration": 23,
    "start_time": "2022-03-11T07:05:05.616Z"
   },
   {
    "duration": 46,
    "start_time": "2022-03-11T07:05:05.641Z"
   },
   {
    "duration": 15,
    "start_time": "2022-03-11T07:05:05.692Z"
   },
   {
    "duration": 10,
    "start_time": "2022-03-11T07:05:05.711Z"
   },
   {
    "duration": 15,
    "start_time": "2022-03-11T07:05:05.724Z"
   },
   {
    "duration": 56,
    "start_time": "2022-03-11T07:05:05.742Z"
   },
   {
    "duration": 26,
    "start_time": "2022-03-11T07:05:05.801Z"
   },
   {
    "duration": 923,
    "start_time": "2022-03-11T07:05:05.830Z"
   },
   {
    "duration": 3,
    "start_time": "2022-03-11T07:05:06.755Z"
   },
   {
    "duration": 28,
    "start_time": "2022-03-11T07:05:06.760Z"
   },
   {
    "duration": 11,
    "start_time": "2022-03-11T07:05:06.791Z"
   },
   {
    "duration": 33,
    "start_time": "2022-03-11T07:05:06.804Z"
   },
   {
    "duration": 6,
    "start_time": "2022-03-11T07:05:06.839Z"
   },
   {
    "duration": 47,
    "start_time": "2022-03-11T07:05:06.847Z"
   },
   {
    "duration": 9,
    "start_time": "2022-03-11T07:05:06.896Z"
   },
   {
    "duration": 41,
    "start_time": "2022-03-11T07:05:06.907Z"
   },
   {
    "duration": 256,
    "start_time": "2022-03-11T07:05:06.951Z"
   },
   {
    "duration": 196,
    "start_time": "2022-03-11T07:05:07.211Z"
   },
   {
    "duration": 83348,
    "start_time": "2022-03-11T07:05:07.410Z"
   },
   {
    "duration": 131,
    "start_time": "2022-03-11T07:06:30.761Z"
   },
   {
    "duration": 518,
    "start_time": "2022-03-11T07:06:30.896Z"
   },
   {
    "duration": 217,
    "start_time": "2022-03-11T07:06:31.416Z"
   },
   {
    "duration": 78781,
    "start_time": "2022-03-11T07:06:31.636Z"
   },
   {
    "duration": 267,
    "start_time": "2022-03-11T07:07:50.420Z"
   },
   {
    "duration": 525,
    "start_time": "2022-03-11T07:07:50.690Z"
   },
   {
    "duration": 1550,
    "start_time": "2022-03-11T07:10:26.982Z"
   },
   {
    "duration": 68,
    "start_time": "2022-03-11T07:10:28.535Z"
   },
   {
    "duration": 12,
    "start_time": "2022-03-11T07:10:28.610Z"
   },
   {
    "duration": 85,
    "start_time": "2022-03-11T07:10:28.625Z"
   },
   {
    "duration": 34,
    "start_time": "2022-03-11T07:10:28.712Z"
   },
   {
    "duration": 46,
    "start_time": "2022-03-11T07:10:28.748Z"
   },
   {
    "duration": 18,
    "start_time": "2022-03-11T07:10:28.797Z"
   },
   {
    "duration": 28,
    "start_time": "2022-03-11T07:10:28.818Z"
   },
   {
    "duration": 8,
    "start_time": "2022-03-11T07:10:28.849Z"
   },
   {
    "duration": 31,
    "start_time": "2022-03-11T07:10:28.859Z"
   },
   {
    "duration": 14,
    "start_time": "2022-03-11T07:10:28.892Z"
   },
   {
    "duration": 35,
    "start_time": "2022-03-11T07:10:28.908Z"
   },
   {
    "duration": 893,
    "start_time": "2022-03-11T07:10:28.946Z"
   },
   {
    "duration": 3,
    "start_time": "2022-03-11T07:10:29.842Z"
   },
   {
    "duration": 26,
    "start_time": "2022-03-11T07:10:29.847Z"
   },
   {
    "duration": 17,
    "start_time": "2022-03-11T07:10:29.876Z"
   },
   {
    "duration": 39,
    "start_time": "2022-03-11T07:10:29.896Z"
   },
   {
    "duration": 6,
    "start_time": "2022-03-11T07:10:29.938Z"
   },
   {
    "duration": 22,
    "start_time": "2022-03-11T07:10:29.946Z"
   },
   {
    "duration": 24,
    "start_time": "2022-03-11T07:10:29.971Z"
   },
   {
    "duration": 62,
    "start_time": "2022-03-11T07:10:29.998Z"
   },
   {
    "duration": 258,
    "start_time": "2022-03-11T07:10:30.064Z"
   },
   {
    "duration": 211,
    "start_time": "2022-03-11T07:10:30.325Z"
   },
   {
    "duration": 83416,
    "start_time": "2022-03-11T07:10:30.538Z"
   },
   {
    "duration": 50,
    "start_time": "2022-03-11T07:11:53.957Z"
   },
   {
    "duration": 519,
    "start_time": "2022-03-11T07:11:54.089Z"
   },
   {
    "duration": 220,
    "start_time": "2022-03-11T07:11:54.611Z"
   },
   {
    "duration": 79611,
    "start_time": "2022-03-11T07:11:54.835Z"
   },
   {
    "duration": 239,
    "start_time": "2022-03-11T07:13:14.448Z"
   },
   {
    "duration": 20,
    "start_time": "2022-03-11T07:13:14.690Z"
   },
   {
    "duration": 1484,
    "start_time": "2022-03-11T07:15:53.624Z"
   },
   {
    "duration": 68,
    "start_time": "2022-03-11T07:15:55.110Z"
   },
   {
    "duration": 14,
    "start_time": "2022-03-11T07:15:55.186Z"
   },
   {
    "duration": 61,
    "start_time": "2022-03-11T07:15:55.202Z"
   },
   {
    "duration": 33,
    "start_time": "2022-03-11T07:15:55.287Z"
   },
   {
    "duration": 22,
    "start_time": "2022-03-11T07:15:55.323Z"
   },
   {
    "duration": 49,
    "start_time": "2022-03-11T07:15:55.347Z"
   },
   {
    "duration": 15,
    "start_time": "2022-03-11T07:15:55.399Z"
   },
   {
    "duration": 9,
    "start_time": "2022-03-11T07:15:55.417Z"
   },
   {
    "duration": 10,
    "start_time": "2022-03-11T07:15:55.428Z"
   },
   {
    "duration": 54,
    "start_time": "2022-03-11T07:15:55.440Z"
   },
   {
    "duration": 25,
    "start_time": "2022-03-11T07:15:55.496Z"
   },
   {
    "duration": 920,
    "start_time": "2022-03-11T07:15:55.524Z"
   },
   {
    "duration": 3,
    "start_time": "2022-03-11T07:15:56.446Z"
   },
   {
    "duration": 14,
    "start_time": "2022-03-11T07:15:56.451Z"
   },
   {
    "duration": 28,
    "start_time": "2022-03-11T07:15:56.467Z"
   },
   {
    "duration": 37,
    "start_time": "2022-03-11T07:15:56.497Z"
   },
   {
    "duration": 7,
    "start_time": "2022-03-11T07:15:56.536Z"
   },
   {
    "duration": 46,
    "start_time": "2022-03-11T07:15:56.545Z"
   },
   {
    "duration": 9,
    "start_time": "2022-03-11T07:15:56.593Z"
   },
   {
    "duration": 49,
    "start_time": "2022-03-11T07:15:56.605Z"
   },
   {
    "duration": 242,
    "start_time": "2022-03-11T07:15:56.657Z"
   },
   {
    "duration": 200,
    "start_time": "2022-03-11T07:15:56.904Z"
   },
   {
    "duration": 106904,
    "start_time": "2022-03-11T07:15:57.107Z"
   },
   {
    "duration": 79,
    "start_time": "2022-03-11T07:17:44.013Z"
   },
   {
    "duration": 709,
    "start_time": "2022-03-11T07:17:44.095Z"
   },
   {
    "duration": 222,
    "start_time": "2022-03-11T07:17:44.806Z"
   },
   {
    "duration": 81548,
    "start_time": "2022-03-11T07:17:45.031Z"
   },
   {
    "duration": 115,
    "start_time": "2022-03-11T07:19:06.581Z"
   },
   {
    "duration": 91,
    "start_time": "2022-03-11T07:19:06.699Z"
   },
   {
    "duration": 22,
    "start_time": "2022-03-11T07:19:06.794Z"
   },
   {
    "duration": 17,
    "start_time": "2022-03-11T07:19:32.083Z"
   },
   {
    "duration": 29,
    "start_time": "2022-03-11T07:20:07.339Z"
   },
   {
    "duration": 196,
    "start_time": "2022-03-11T07:22:43.456Z"
   },
   {
    "duration": 250,
    "start_time": "2022-03-11T07:25:39.763Z"
   },
   {
    "duration": 1496,
    "start_time": "2022-03-11T07:27:55.442Z"
   },
   {
    "duration": 64,
    "start_time": "2022-03-11T07:27:56.941Z"
   },
   {
    "duration": 11,
    "start_time": "2022-03-11T07:27:57.011Z"
   },
   {
    "duration": 84,
    "start_time": "2022-03-11T07:27:57.025Z"
   },
   {
    "duration": 33,
    "start_time": "2022-03-11T07:27:57.112Z"
   },
   {
    "duration": 43,
    "start_time": "2022-03-11T07:27:57.148Z"
   },
   {
    "duration": 20,
    "start_time": "2022-03-11T07:27:57.195Z"
   },
   {
    "duration": 15,
    "start_time": "2022-03-11T07:27:57.218Z"
   },
   {
    "duration": 9,
    "start_time": "2022-03-11T07:27:57.236Z"
   },
   {
    "duration": 43,
    "start_time": "2022-03-11T07:27:57.247Z"
   },
   {
    "duration": 14,
    "start_time": "2022-03-11T07:27:57.292Z"
   },
   {
    "duration": 25,
    "start_time": "2022-03-11T07:27:57.309Z"
   },
   {
    "duration": 973,
    "start_time": "2022-03-11T07:27:57.337Z"
   },
   {
    "duration": 3,
    "start_time": "2022-03-11T07:27:58.313Z"
   },
   {
    "duration": 12,
    "start_time": "2022-03-11T07:27:58.319Z"
   },
   {
    "duration": 12,
    "start_time": "2022-03-11T07:27:58.333Z"
   },
   {
    "duration": 63,
    "start_time": "2022-03-11T07:27:58.347Z"
   },
   {
    "duration": 7,
    "start_time": "2022-03-11T07:27:58.412Z"
   },
   {
    "duration": 14,
    "start_time": "2022-03-11T07:27:58.421Z"
   },
   {
    "duration": 10,
    "start_time": "2022-03-11T07:27:58.437Z"
   },
   {
    "duration": 69,
    "start_time": "2022-03-11T07:27:58.449Z"
   },
   {
    "duration": 252,
    "start_time": "2022-03-11T07:27:58.522Z"
   },
   {
    "duration": 199,
    "start_time": "2022-03-11T07:27:58.777Z"
   },
   {
    "duration": 83884,
    "start_time": "2022-03-11T07:27:58.986Z"
   },
   {
    "duration": 118,
    "start_time": "2022-03-11T07:29:22.872Z"
   },
   {
    "duration": 521,
    "start_time": "2022-03-11T07:29:22.993Z"
   },
   {
    "duration": 215,
    "start_time": "2022-03-11T07:29:23.516Z"
   },
   {
    "duration": 85234,
    "start_time": "2022-03-11T07:29:23.733Z"
   },
   {
    "duration": 122,
    "start_time": "2022-03-11T07:30:48.969Z"
   },
   {
    "duration": 110,
    "start_time": "2022-03-11T07:30:49.094Z"
   },
   {
    "duration": 273,
    "start_time": "2022-03-11T07:30:49.206Z"
   },
   {
    "duration": 117540,
    "start_time": "2022-03-11T07:30:49.481Z"
   },
   {
    "duration": 72,
    "start_time": "2022-03-11T07:36:22.819Z"
   },
   {
    "duration": 21,
    "start_time": "2022-03-11T07:38:32.560Z"
   },
   {
    "duration": 20,
    "start_time": "2022-03-11T07:39:20.473Z"
   },
   {
    "duration": 22,
    "start_time": "2022-03-11T07:39:24.776Z"
   },
   {
    "duration": 21,
    "start_time": "2022-03-11T07:39:51.025Z"
   },
   {
    "duration": 20,
    "start_time": "2022-03-11T07:40:02.937Z"
   },
   {
    "duration": 23,
    "start_time": "2022-03-11T07:40:21.008Z"
   },
   {
    "duration": 115,
    "start_time": "2022-03-11T07:40:43.649Z"
   },
   {
    "duration": 52790,
    "start_time": "2022-03-11T07:41:10.081Z"
   },
   {
    "duration": 449,
    "start_time": "2022-03-11T07:42:02.874Z"
   },
   {
    "duration": 32,
    "start_time": "2022-03-11T07:43:12.758Z"
   },
   {
    "duration": 263,
    "start_time": "2022-03-11T08:03:45.344Z"
   },
   {
    "duration": 203,
    "start_time": "2022-03-11T08:03:58.576Z"
   },
   {
    "duration": 84989,
    "start_time": "2022-03-11T08:04:00.687Z"
   },
   {
    "duration": 84,
    "start_time": "2022-03-11T08:05:34.206Z"
   },
   {
    "duration": 401,
    "start_time": "2022-03-11T08:05:37.574Z"
   },
   {
    "duration": 1599,
    "start_time": "2022-03-11T08:07:32.437Z"
   },
   {
    "duration": 67,
    "start_time": "2022-03-11T08:07:34.039Z"
   },
   {
    "duration": 12,
    "start_time": "2022-03-11T08:07:34.113Z"
   },
   {
    "duration": 90,
    "start_time": "2022-03-11T08:07:34.127Z"
   },
   {
    "duration": 35,
    "start_time": "2022-03-11T08:07:34.220Z"
   },
   {
    "duration": 46,
    "start_time": "2022-03-11T08:07:34.257Z"
   },
   {
    "duration": 19,
    "start_time": "2022-03-11T08:07:34.307Z"
   },
   {
    "duration": 18,
    "start_time": "2022-03-11T08:07:34.329Z"
   },
   {
    "duration": 38,
    "start_time": "2022-03-11T08:07:34.350Z"
   },
   {
    "duration": 11,
    "start_time": "2022-03-11T08:07:34.390Z"
   },
   {
    "duration": 14,
    "start_time": "2022-03-11T08:07:34.403Z"
   },
   {
    "duration": 24,
    "start_time": "2022-03-11T08:07:34.420Z"
   },
   {
    "duration": 1305,
    "start_time": "2022-03-11T08:07:34.447Z"
   },
   {
    "duration": 4,
    "start_time": "2022-03-11T08:07:35.755Z"
   },
   {
    "duration": 30,
    "start_time": "2022-03-11T08:07:35.762Z"
   },
   {
    "duration": 12,
    "start_time": "2022-03-11T08:07:35.795Z"
   },
   {
    "duration": 37,
    "start_time": "2022-03-11T08:07:35.810Z"
   },
   {
    "duration": 9,
    "start_time": "2022-03-11T08:07:35.850Z"
   },
   {
    "duration": 19,
    "start_time": "2022-03-11T08:07:35.888Z"
   },
   {
    "duration": 13,
    "start_time": "2022-03-11T08:07:35.910Z"
   },
   {
    "duration": 96,
    "start_time": "2022-03-11T08:07:35.926Z"
   },
   {
    "duration": 351,
    "start_time": "2022-03-11T08:07:36.030Z"
   },
   {
    "duration": 284,
    "start_time": "2022-03-11T08:07:36.389Z"
   },
   {
    "duration": 112200,
    "start_time": "2022-03-11T08:07:36.676Z"
   },
   {
    "duration": 122,
    "start_time": "2022-03-11T08:09:28.879Z"
   },
   {
    "duration": 703,
    "start_time": "2022-03-11T08:09:29.004Z"
   },
   {
    "duration": 317,
    "start_time": "2022-03-11T08:09:29.710Z"
   },
   {
    "duration": 125056,
    "start_time": "2022-03-11T08:09:30.030Z"
   },
   {
    "duration": 199,
    "start_time": "2022-03-11T08:11:35.090Z"
   },
   {
    "duration": 698,
    "start_time": "2022-03-11T08:11:35.294Z"
   },
   {
    "duration": 22,
    "start_time": "2022-03-11T08:11:35.995Z"
   },
   {
    "duration": 279,
    "start_time": "2022-03-11T08:11:36.019Z"
   },
   {
    "duration": 119864,
    "start_time": "2022-03-11T08:11:36.300Z"
   },
   {
    "duration": 124,
    "start_time": "2022-03-11T08:13:36.167Z"
   },
   {
    "duration": 509,
    "start_time": "2022-03-11T08:13:36.297Z"
   },
   {
    "duration": 24,
    "start_time": "2022-03-11T08:13:36.809Z"
   },
   {
    "duration": 198,
    "start_time": "2022-03-11T08:13:36.835Z"
   },
   {
    "duration": 53827,
    "start_time": "2022-03-11T08:13:37.036Z"
   },
   {
    "duration": 126,
    "start_time": "2022-03-11T08:14:30.865Z"
   },
   {
    "duration": 520,
    "start_time": "2022-03-11T08:14:30.994Z"
   },
   {
    "duration": 423,
    "start_time": "2022-03-11T08:17:49.073Z"
   },
   {
    "duration": 8,
    "start_time": "2022-03-11T08:30:08.261Z"
   },
   {
    "duration": 431,
    "start_time": "2022-03-11T08:35:18.377Z"
   },
   {
    "duration": 24,
    "start_time": "2022-03-11T08:35:48.199Z"
   },
   {
    "duration": 20,
    "start_time": "2022-03-11T08:36:02.631Z"
   },
   {
    "duration": 21,
    "start_time": "2022-03-11T08:37:20.965Z"
   },
   {
    "duration": 83,
    "start_time": "2022-03-11T08:47:25.547Z"
   },
   {
    "duration": 228,
    "start_time": "2022-03-11T08:50:37.161Z"
   },
   {
    "duration": 227,
    "start_time": "2022-03-11T08:50:48.263Z"
   },
   {
    "duration": 236,
    "start_time": "2022-03-11T08:52:12.414Z"
   },
   {
    "duration": 391,
    "start_time": "2022-03-11T08:52:40.741Z"
   },
   {
    "duration": 1651,
    "start_time": "2022-03-11T08:55:53.376Z"
   },
   {
    "duration": 63,
    "start_time": "2022-03-11T08:55:55.030Z"
   },
   {
    "duration": 11,
    "start_time": "2022-03-11T08:55:55.096Z"
   },
   {
    "duration": 112,
    "start_time": "2022-03-11T08:55:55.110Z"
   },
   {
    "duration": 64,
    "start_time": "2022-03-11T08:55:55.225Z"
   },
   {
    "duration": 31,
    "start_time": "2022-03-11T08:55:55.291Z"
   },
   {
    "duration": 26,
    "start_time": "2022-03-11T08:55:55.325Z"
   },
   {
    "duration": 41,
    "start_time": "2022-03-11T08:55:55.354Z"
   },
   {
    "duration": 9,
    "start_time": "2022-03-11T08:55:55.398Z"
   },
   {
    "duration": 10,
    "start_time": "2022-03-11T08:55:55.410Z"
   },
   {
    "duration": 14,
    "start_time": "2022-03-11T08:55:55.422Z"
   },
   {
    "duration": 23,
    "start_time": "2022-03-11T08:55:55.488Z"
   },
   {
    "duration": 873,
    "start_time": "2022-03-11T08:55:55.514Z"
   },
   {
    "duration": 2,
    "start_time": "2022-03-11T08:55:56.389Z"
   },
   {
    "duration": 15,
    "start_time": "2022-03-11T08:55:56.394Z"
   },
   {
    "duration": 12,
    "start_time": "2022-03-11T08:55:56.412Z"
   },
   {
    "duration": 38,
    "start_time": "2022-03-11T08:55:56.426Z"
   },
   {
    "duration": 9,
    "start_time": "2022-03-11T08:55:56.487Z"
   },
   {
    "duration": 15,
    "start_time": "2022-03-11T08:55:56.498Z"
   },
   {
    "duration": 10,
    "start_time": "2022-03-11T08:55:56.516Z"
   },
   {
    "duration": 70,
    "start_time": "2022-03-11T08:55:56.529Z"
   },
   {
    "duration": 235,
    "start_time": "2022-03-11T08:55:56.602Z"
   },
   {
    "duration": 10,
    "start_time": "2022-03-11T08:55:56.844Z"
   },
   {
    "duration": 295,
    "start_time": "2022-03-11T08:55:56.857Z"
   },
   {
    "duration": 101494,
    "start_time": "2022-03-11T08:55:57.154Z"
   },
   {
    "duration": 141,
    "start_time": "2022-03-11T08:57:38.651Z"
   },
   {
    "duration": 522,
    "start_time": "2022-03-11T08:57:38.796Z"
   },
   {
    "duration": 218,
    "start_time": "2022-03-11T08:57:39.321Z"
   },
   {
    "duration": 100490,
    "start_time": "2022-03-11T08:57:39.541Z"
   },
   {
    "duration": 155,
    "start_time": "2022-03-11T08:59:20.034Z"
   },
   {
    "duration": 536,
    "start_time": "2022-03-11T08:59:20.193Z"
   },
   {
    "duration": 19,
    "start_time": "2022-03-11T08:59:20.732Z"
   },
   {
    "duration": 281,
    "start_time": "2022-03-11T08:59:20.753Z"
   },
   {
    "duration": 121836,
    "start_time": "2022-03-11T08:59:21.036Z"
   },
   {
    "duration": 115,
    "start_time": "2022-03-11T09:01:22.874Z"
   },
   {
    "duration": 547,
    "start_time": "2022-03-11T09:01:22.992Z"
   },
   {
    "duration": 20,
    "start_time": "2022-03-11T09:01:23.541Z"
   },
   {
    "duration": 135,
    "start_time": "2022-03-11T09:01:23.564Z"
   },
   {
    "duration": 52804,
    "start_time": "2022-03-11T09:01:23.701Z"
   },
   {
    "duration": 88,
    "start_time": "2022-03-11T09:02:16.508Z"
   },
   {
    "duration": 775,
    "start_time": "2022-03-11T09:02:16.600Z"
   },
   {
    "duration": 253,
    "start_time": "2022-03-11T09:02:17.378Z"
   },
   {
    "duration": 405,
    "start_time": "2022-03-11T09:02:17.633Z"
   },
   {
    "duration": 226,
    "start_time": "2022-03-11T09:03:04.706Z"
   },
   {
    "duration": 1679,
    "start_time": "2022-03-11T09:03:17.087Z"
   },
   {
    "duration": 93,
    "start_time": "2022-03-11T09:03:18.769Z"
   },
   {
    "duration": 28,
    "start_time": "2022-03-11T09:03:18.866Z"
   },
   {
    "duration": 69,
    "start_time": "2022-03-11T09:03:18.897Z"
   },
   {
    "duration": 45,
    "start_time": "2022-03-11T09:03:18.969Z"
   },
   {
    "duration": 24,
    "start_time": "2022-03-11T09:03:19.017Z"
   },
   {
    "duration": 45,
    "start_time": "2022-03-11T09:03:19.043Z"
   },
   {
    "duration": 22,
    "start_time": "2022-03-11T09:03:19.092Z"
   },
   {
    "duration": 8,
    "start_time": "2022-03-11T09:03:19.117Z"
   },
   {
    "duration": 10,
    "start_time": "2022-03-11T09:03:19.128Z"
   },
   {
    "duration": 49,
    "start_time": "2022-03-11T09:03:19.141Z"
   },
   {
    "duration": 25,
    "start_time": "2022-03-11T09:03:19.193Z"
   },
   {
    "duration": 951,
    "start_time": "2022-03-11T09:03:19.220Z"
   },
   {
    "duration": 13,
    "start_time": "2022-03-11T09:03:20.174Z"
   },
   {
    "duration": 17,
    "start_time": "2022-03-11T09:03:20.189Z"
   },
   {
    "duration": 14,
    "start_time": "2022-03-11T09:03:20.209Z"
   },
   {
    "duration": 35,
    "start_time": "2022-03-11T09:03:20.225Z"
   },
   {
    "duration": 30,
    "start_time": "2022-03-11T09:03:20.262Z"
   },
   {
    "duration": 18,
    "start_time": "2022-03-11T09:03:20.294Z"
   },
   {
    "duration": 9,
    "start_time": "2022-03-11T09:03:20.314Z"
   },
   {
    "duration": 74,
    "start_time": "2022-03-11T09:03:20.325Z"
   },
   {
    "duration": 237,
    "start_time": "2022-03-11T09:03:20.401Z"
   },
   {
    "duration": 9,
    "start_time": "2022-03-11T09:03:20.643Z"
   },
   {
    "duration": 218,
    "start_time": "2022-03-11T09:03:20.655Z"
   },
   {
    "duration": 86326,
    "start_time": "2022-03-11T09:03:20.876Z"
   },
   {
    "duration": 101,
    "start_time": "2022-03-11T09:04:47.204Z"
   },
   {
    "duration": 427,
    "start_time": "2022-03-11T09:04:47.388Z"
   },
   {
    "duration": 215,
    "start_time": "2022-03-11T09:04:47.818Z"
   },
   {
    "duration": 84693,
    "start_time": "2022-03-11T09:04:48.035Z"
   },
   {
    "duration": 158,
    "start_time": "2022-03-11T09:06:12.730Z"
   },
   {
    "duration": 506,
    "start_time": "2022-03-11T09:06:12.893Z"
   },
   {
    "duration": 26,
    "start_time": "2022-03-11T09:06:13.402Z"
   },
   {
    "duration": 374,
    "start_time": "2022-03-11T09:06:13.431Z"
   },
   {
    "duration": 119871,
    "start_time": "2022-03-11T09:06:13.807Z"
   },
   {
    "duration": 109,
    "start_time": "2022-03-11T09:08:13.687Z"
   },
   {
    "duration": 463,
    "start_time": "2022-03-11T09:08:13.888Z"
   },
   {
    "duration": 40,
    "start_time": "2022-03-11T09:08:14.354Z"
   },
   {
    "duration": 174,
    "start_time": "2022-03-11T09:08:14.397Z"
   },
   {
    "duration": 61507,
    "start_time": "2022-03-11T09:08:14.574Z"
   },
   {
    "duration": 107,
    "start_time": "2022-03-11T09:09:16.083Z"
   },
   {
    "duration": 495,
    "start_time": "2022-03-11T09:09:16.194Z"
   },
   {
    "duration": 246,
    "start_time": "2022-03-11T09:09:16.692Z"
   },
   {
    "duration": 405,
    "start_time": "2022-03-11T09:09:16.941Z"
   },
   {
    "duration": 2097,
    "start_time": "2022-03-11T09:21:07.751Z"
   },
   {
    "duration": 84,
    "start_time": "2022-03-11T09:21:09.852Z"
   },
   {
    "duration": 16,
    "start_time": "2022-03-11T09:21:09.940Z"
   },
   {
    "duration": 104,
    "start_time": "2022-03-11T09:21:09.959Z"
   },
   {
    "duration": 54,
    "start_time": "2022-03-11T09:21:10.066Z"
   },
   {
    "duration": 30,
    "start_time": "2022-03-11T09:21:10.123Z"
   },
   {
    "duration": 52,
    "start_time": "2022-03-11T09:21:10.156Z"
   },
   {
    "duration": 19,
    "start_time": "2022-03-11T09:21:10.211Z"
   },
   {
    "duration": 9,
    "start_time": "2022-03-11T09:21:10.233Z"
   },
   {
    "duration": 9,
    "start_time": "2022-03-11T09:21:10.244Z"
   },
   {
    "duration": 13,
    "start_time": "2022-03-11T09:21:10.288Z"
   },
   {
    "duration": 23,
    "start_time": "2022-03-11T09:21:10.304Z"
   },
   {
    "duration": 909,
    "start_time": "2022-03-11T09:21:10.330Z"
   },
   {
    "duration": 4,
    "start_time": "2022-03-11T09:21:11.242Z"
   },
   {
    "duration": 13,
    "start_time": "2022-03-11T09:21:11.249Z"
   },
   {
    "duration": 31,
    "start_time": "2022-03-11T09:21:11.265Z"
   },
   {
    "duration": 34,
    "start_time": "2022-03-11T09:21:11.299Z"
   },
   {
    "duration": 8,
    "start_time": "2022-03-11T09:21:11.336Z"
   },
   {
    "duration": 49,
    "start_time": "2022-03-11T09:21:11.346Z"
   },
   {
    "duration": 9,
    "start_time": "2022-03-11T09:21:11.397Z"
   },
   {
    "duration": 43,
    "start_time": "2022-03-11T09:21:11.408Z"
   },
   {
    "duration": 248,
    "start_time": "2022-03-11T09:21:11.454Z"
   },
   {
    "duration": 10,
    "start_time": "2022-03-11T09:21:11.707Z"
   },
   {
    "duration": 298,
    "start_time": "2022-03-11T09:21:11.720Z"
   },
   {
    "duration": 118006,
    "start_time": "2022-03-11T09:21:12.021Z"
   },
   {
    "duration": 76,
    "start_time": "2022-03-11T09:23:10.029Z"
   },
   {
    "duration": 557,
    "start_time": "2022-03-11T09:23:10.188Z"
   },
   {
    "duration": 259,
    "start_time": "2022-03-11T09:23:10.748Z"
   },
   {
    "duration": 86704,
    "start_time": "2022-03-11T09:23:11.009Z"
   },
   {
    "duration": 271,
    "start_time": "2022-03-11T09:24:37.716Z"
   },
   {
    "duration": 434,
    "start_time": "2022-03-11T09:24:37.990Z"
   },
   {
    "duration": 19,
    "start_time": "2022-03-11T09:24:38.426Z"
   },
   {
    "duration": 273,
    "start_time": "2022-03-11T09:24:38.447Z"
   },
   {
    "duration": 118543,
    "start_time": "2022-03-11T09:24:38.723Z"
   },
   {
    "duration": 129,
    "start_time": "2022-03-11T09:26:37.268Z"
   },
   {
    "duration": 565,
    "start_time": "2022-03-11T09:26:37.401Z"
   },
   {
    "duration": 33,
    "start_time": "2022-03-11T09:26:37.968Z"
   },
   {
    "duration": 124,
    "start_time": "2022-03-11T09:26:38.004Z"
   },
   {
    "duration": 52073,
    "start_time": "2022-03-11T09:26:38.131Z"
   },
   {
    "duration": 85,
    "start_time": "2022-03-11T09:27:30.207Z"
   },
   {
    "duration": 515,
    "start_time": "2022-03-11T09:27:30.295Z"
   },
   {
    "duration": 245,
    "start_time": "2022-03-11T09:27:30.813Z"
   },
   {
    "duration": 398,
    "start_time": "2022-03-11T09:27:31.060Z"
   },
   {
    "duration": 7,
    "start_time": "2022-03-11T10:24:49.318Z"
   },
   {
    "duration": 398,
    "start_time": "2022-03-11T10:25:08.852Z"
   },
   {
    "duration": 5,
    "start_time": "2022-03-11T10:25:30.988Z"
   },
   {
    "duration": 10,
    "start_time": "2022-03-11T11:16:41.088Z"
   },
   {
    "duration": 9,
    "start_time": "2022-03-11T11:16:47.009Z"
   },
   {
    "duration": 1642,
    "start_time": "2022-03-11T12:46:05.681Z"
   },
   {
    "duration": 68,
    "start_time": "2022-03-11T12:46:07.325Z"
   },
   {
    "duration": 12,
    "start_time": "2022-03-11T12:46:07.396Z"
   },
   {
    "duration": 83,
    "start_time": "2022-03-11T12:46:07.411Z"
   },
   {
    "duration": 36,
    "start_time": "2022-03-11T12:46:07.497Z"
   },
   {
    "duration": 52,
    "start_time": "2022-03-11T12:46:07.535Z"
   },
   {
    "duration": 19,
    "start_time": "2022-03-11T12:46:07.590Z"
   },
   {
    "duration": 31,
    "start_time": "2022-03-11T12:46:07.613Z"
   },
   {
    "duration": 9,
    "start_time": "2022-03-11T12:46:07.647Z"
   },
   {
    "duration": 33,
    "start_time": "2022-03-11T12:46:07.658Z"
   },
   {
    "duration": 13,
    "start_time": "2022-03-11T12:46:07.693Z"
   },
   {
    "duration": 25,
    "start_time": "2022-03-11T12:46:07.709Z"
   },
   {
    "duration": 900,
    "start_time": "2022-03-11T12:46:07.736Z"
   },
   {
    "duration": 10,
    "start_time": "2022-03-11T12:46:08.639Z"
   },
   {
    "duration": 12,
    "start_time": "2022-03-11T12:46:08.652Z"
   },
   {
    "duration": 51,
    "start_time": "2022-03-11T12:46:08.666Z"
   },
   {
    "duration": 8,
    "start_time": "2022-03-11T12:46:08.720Z"
   },
   {
    "duration": 14,
    "start_time": "2022-03-11T12:46:08.731Z"
   },
   {
    "duration": 10,
    "start_time": "2022-03-11T12:46:08.786Z"
   },
   {
    "duration": 52,
    "start_time": "2022-03-11T12:46:08.799Z"
   },
   {
    "duration": 242,
    "start_time": "2022-03-11T12:46:08.854Z"
   },
   {
    "duration": 10,
    "start_time": "2022-03-11T12:46:09.099Z"
   },
   {
    "duration": 295,
    "start_time": "2022-03-11T12:46:09.116Z"
   },
   {
    "duration": 86374,
    "start_time": "2022-03-11T12:46:09.415Z"
   },
   {
    "duration": 97,
    "start_time": "2022-03-11T12:47:35.792Z"
   },
   {
    "duration": 516,
    "start_time": "2022-03-11T12:47:35.892Z"
   },
   {
    "duration": 307,
    "start_time": "2022-03-11T12:47:36.412Z"
   },
   {
    "duration": 86247,
    "start_time": "2022-03-11T12:47:36.722Z"
   },
   {
    "duration": 227,
    "start_time": "2022-03-11T12:49:02.971Z"
   },
   {
    "duration": 524,
    "start_time": "2022-03-11T12:49:03.203Z"
   },
   {
    "duration": 25,
    "start_time": "2022-03-11T12:49:03.730Z"
   },
   {
    "duration": 309,
    "start_time": "2022-03-11T12:49:03.758Z"
   },
   {
    "duration": 123782,
    "start_time": "2022-03-11T12:49:04.070Z"
   },
   {
    "duration": 60,
    "start_time": "2022-03-11T12:51:07.855Z"
   },
   {
    "duration": 530,
    "start_time": "2022-03-11T12:51:07.987Z"
   },
   {
    "duration": 21,
    "start_time": "2022-03-11T12:51:08.520Z"
   },
   {
    "duration": 153,
    "start_time": "2022-03-11T12:51:08.544Z"
   },
   {
    "duration": 52577,
    "start_time": "2022-03-11T12:51:08.700Z"
   },
   {
    "duration": 101,
    "start_time": "2022-03-11T12:52:01.289Z"
   },
   {
    "duration": 696,
    "start_time": "2022-03-11T12:52:01.394Z"
   },
   {
    "duration": 251,
    "start_time": "2022-03-11T12:52:02.094Z"
   },
   {
    "duration": 406,
    "start_time": "2022-03-11T12:52:02.348Z"
   },
   {
    "duration": 3020,
    "start_time": "2022-03-11T19:25:12.684Z"
   },
   {
    "duration": 179,
    "start_time": "2022-03-11T19:25:15.708Z"
   },
   {
    "duration": 15,
    "start_time": "2022-03-11T19:25:15.891Z"
   },
   {
    "duration": 195,
    "start_time": "2022-03-11T19:25:15.910Z"
   },
   {
    "duration": 107,
    "start_time": "2022-03-11T19:25:16.108Z"
   },
   {
    "duration": 82,
    "start_time": "2022-03-11T19:25:16.218Z"
   },
   {
    "duration": 88,
    "start_time": "2022-03-11T19:25:16.303Z"
   },
   {
    "duration": 16,
    "start_time": "2022-03-11T19:25:16.394Z"
   },
   {
    "duration": 68,
    "start_time": "2022-03-11T19:25:16.414Z"
   },
   {
    "duration": 13,
    "start_time": "2022-03-11T19:25:16.486Z"
   },
   {
    "duration": 80,
    "start_time": "2022-03-11T19:25:16.502Z"
   },
   {
    "duration": 27,
    "start_time": "2022-03-11T19:25:16.585Z"
   },
   {
    "duration": 1580,
    "start_time": "2022-03-11T19:25:16.615Z"
   },
   {
    "duration": 8,
    "start_time": "2022-03-11T19:25:18.198Z"
   },
   {
    "duration": 75,
    "start_time": "2022-03-11T19:25:18.209Z"
   },
   {
    "duration": 37,
    "start_time": "2022-03-11T19:25:18.287Z"
   },
   {
    "duration": 62,
    "start_time": "2022-03-11T19:25:18.326Z"
   },
   {
    "duration": 16,
    "start_time": "2022-03-11T19:25:18.391Z"
   },
   {
    "duration": 73,
    "start_time": "2022-03-11T19:25:18.409Z"
   },
   {
    "duration": 98,
    "start_time": "2022-03-11T19:25:18.485Z"
   },
   {
    "duration": 627,
    "start_time": "2022-03-11T19:25:18.586Z"
   },
   {
    "duration": 69,
    "start_time": "2022-03-11T19:25:19.216Z"
   },
   {
    "duration": 401,
    "start_time": "2022-03-11T19:25:19.287Z"
   },
   {
    "duration": 3117,
    "start_time": "2022-03-11T19:26:56.197Z"
   },
   {
    "duration": 165,
    "start_time": "2022-03-11T19:26:59.317Z"
   },
   {
    "duration": 17,
    "start_time": "2022-03-11T19:26:59.486Z"
   },
   {
    "duration": 200,
    "start_time": "2022-03-11T19:26:59.507Z"
   },
   {
    "duration": 104,
    "start_time": "2022-03-11T19:26:59.710Z"
   },
   {
    "duration": 79,
    "start_time": "2022-03-11T19:26:59.817Z"
   },
   {
    "duration": 18,
    "start_time": "2022-03-11T19:26:59.899Z"
   },
   {
    "duration": 16,
    "start_time": "2022-03-11T19:26:59.984Z"
   },
   {
    "duration": 68,
    "start_time": "2022-03-11T19:27:00.015Z"
   },
   {
    "duration": 11,
    "start_time": "2022-03-11T19:27:00.087Z"
   },
   {
    "duration": 17,
    "start_time": "2022-03-11T19:27:00.100Z"
   },
   {
    "duration": 83,
    "start_time": "2022-03-11T19:27:00.119Z"
   },
   {
    "duration": 1805,
    "start_time": "2022-03-11T19:27:00.205Z"
   },
   {
    "duration": 70,
    "start_time": "2022-03-11T19:27:02.013Z"
   },
   {
    "duration": 10,
    "start_time": "2022-03-11T19:27:02.085Z"
   },
   {
    "duration": 98,
    "start_time": "2022-03-11T19:27:02.098Z"
   },
   {
    "duration": 25,
    "start_time": "2022-03-11T19:27:02.199Z"
   },
   {
    "duration": 66,
    "start_time": "2022-03-11T19:27:02.226Z"
   },
   {
    "duration": 27,
    "start_time": "2022-03-11T19:27:02.294Z"
   },
   {
    "duration": 92,
    "start_time": "2022-03-11T19:27:02.323Z"
   },
   {
    "duration": 477,
    "start_time": "2022-03-11T19:27:02.417Z"
   },
   {
    "duration": 8,
    "start_time": "2022-03-11T19:27:02.896Z"
   },
   {
    "duration": 412,
    "start_time": "2022-03-11T19:27:02.911Z"
   },
   {
    "duration": 173260,
    "start_time": "2022-03-11T19:27:03.327Z"
   },
   {
    "duration": 194,
    "start_time": "2022-03-11T19:29:56.589Z"
   },
   {
    "duration": 1007,
    "start_time": "2022-03-11T19:29:56.787Z"
   },
   {
    "duration": 416,
    "start_time": "2022-03-11T19:29:57.797Z"
   },
   {
    "duration": 158626,
    "start_time": "2022-03-11T19:29:58.215Z"
   },
   {
    "duration": 58,
    "start_time": "2022-03-11T19:32:36.843Z"
   },
   {
    "duration": 520,
    "start_time": "2022-03-11T19:32:36.984Z"
   },
   {
    "duration": 21,
    "start_time": "2022-03-11T19:32:37.506Z"
   },
   {
    "duration": 266,
    "start_time": "2022-03-11T19:32:37.530Z"
   },
   {
    "duration": 112667,
    "start_time": "2022-03-11T19:32:37.799Z"
   },
   {
    "duration": 113,
    "start_time": "2022-03-11T19:34:30.469Z"
   },
   {
    "duration": 509,
    "start_time": "2022-03-11T19:34:30.585Z"
   },
   {
    "duration": 21,
    "start_time": "2022-03-11T19:34:31.096Z"
   },
   {
    "duration": 134,
    "start_time": "2022-03-11T19:34:31.120Z"
   },
   {
    "duration": 52708,
    "start_time": "2022-03-11T19:34:31.257Z"
   },
   {
    "duration": 33,
    "start_time": "2022-03-11T19:35:23.968Z"
   },
   {
    "duration": 503,
    "start_time": "2022-03-11T19:35:24.083Z"
   },
   {
    "duration": 234,
    "start_time": "2022-03-11T19:35:24.588Z"
   },
   {
    "duration": 389,
    "start_time": "2022-03-11T19:35:24.824Z"
   },
   {
    "duration": 21,
    "start_time": "2022-03-11T19:41:10.269Z"
   },
   {
    "duration": 21,
    "start_time": "2022-03-11T19:41:19.903Z"
   },
   {
    "duration": 21,
    "start_time": "2022-03-11T19:41:22.871Z"
   },
   {
    "duration": 290,
    "start_time": "2022-03-11T20:15:01.110Z"
   },
   {
    "duration": 1287,
    "start_time": "2022-03-11T20:15:10.134Z"
   },
   {
    "duration": 53,
    "start_time": "2022-03-11T20:15:11.423Z"
   },
   {
    "duration": 10,
    "start_time": "2022-03-11T20:15:11.478Z"
   },
   {
    "duration": 51,
    "start_time": "2022-03-11T20:15:11.491Z"
   },
   {
    "duration": 37,
    "start_time": "2022-03-11T20:15:11.544Z"
   },
   {
    "duration": 36,
    "start_time": "2022-03-11T20:15:11.584Z"
   },
   {
    "duration": 14,
    "start_time": "2022-03-11T20:15:11.622Z"
   },
   {
    "duration": 12,
    "start_time": "2022-03-11T20:15:11.639Z"
   },
   {
    "duration": 6,
    "start_time": "2022-03-11T20:15:11.654Z"
   },
   {
    "duration": 40,
    "start_time": "2022-03-11T20:15:11.662Z"
   },
   {
    "duration": 10,
    "start_time": "2022-03-11T20:15:11.704Z"
   },
   {
    "duration": 23,
    "start_time": "2022-03-11T20:15:11.716Z"
   },
   {
    "duration": 638,
    "start_time": "2022-03-11T20:15:11.741Z"
   },
   {
    "duration": 7,
    "start_time": "2022-03-11T20:15:12.381Z"
   },
   {
    "duration": 7,
    "start_time": "2022-03-11T20:15:12.402Z"
   },
   {
    "duration": 29,
    "start_time": "2022-03-11T20:15:12.410Z"
   },
   {
    "duration": 6,
    "start_time": "2022-03-11T20:15:12.441Z"
   },
   {
    "duration": 11,
    "start_time": "2022-03-11T20:15:12.449Z"
   },
   {
    "duration": 8,
    "start_time": "2022-03-11T20:15:12.462Z"
   },
   {
    "duration": 32,
    "start_time": "2022-03-11T20:15:12.502Z"
   },
   {
    "duration": 178,
    "start_time": "2022-03-11T20:15:12.536Z"
   },
   {
    "duration": 7,
    "start_time": "2022-03-11T20:15:12.717Z"
   },
   {
    "duration": 408,
    "start_time": "2022-03-11T20:15:12.730Z"
   },
   {
    "duration": 60298,
    "start_time": "2022-03-11T20:15:13.141Z"
   },
   {
    "duration": 62,
    "start_time": "2022-03-11T20:16:13.441Z"
   },
   {
    "duration": 378,
    "start_time": "2022-03-11T20:16:13.506Z"
   },
   {
    "duration": 160,
    "start_time": "2022-03-11T20:16:13.885Z"
   },
   {
    "duration": 59441,
    "start_time": "2022-03-11T20:16:14.047Z"
   },
   {
    "duration": 111,
    "start_time": "2022-03-11T20:17:13.490Z"
   },
   {
    "duration": 375,
    "start_time": "2022-03-11T20:17:13.603Z"
   },
   {
    "duration": 23,
    "start_time": "2022-03-11T20:17:13.980Z"
   },
   {
    "duration": 196,
    "start_time": "2022-03-11T20:17:14.005Z"
   },
   {
    "duration": 83260,
    "start_time": "2022-03-11T20:17:14.203Z"
   },
   {
    "duration": 136,
    "start_time": "2022-03-11T20:18:37.465Z"
   },
   {
    "duration": 382,
    "start_time": "2022-03-11T20:18:37.604Z"
   },
   {
    "duration": 488,
    "start_time": "2022-03-11T20:18:37.987Z"
   },
   {
    "duration": -132,
    "start_time": "2022-03-11T20:18:38.609Z"
   },
   {
    "duration": -135,
    "start_time": "2022-03-11T20:18:38.613Z"
   },
   {
    "duration": -137,
    "start_time": "2022-03-11T20:18:38.616Z"
   },
   {
    "duration": -138,
    "start_time": "2022-03-11T20:18:38.618Z"
   },
   {
    "duration": -140,
    "start_time": "2022-03-11T20:18:38.621Z"
   },
   {
    "duration": -142,
    "start_time": "2022-03-11T20:18:38.623Z"
   },
   {
    "duration": 370,
    "start_time": "2022-03-11T20:19:16.015Z"
   },
   {
    "duration": 15,
    "start_time": "2022-03-11T20:19:48.632Z"
   },
   {
    "duration": 1325,
    "start_time": "2022-03-11T20:48:30.614Z"
   },
   {
    "duration": 48,
    "start_time": "2022-03-11T20:48:31.942Z"
   },
   {
    "duration": 16,
    "start_time": "2022-03-11T20:48:31.992Z"
   },
   {
    "duration": 57,
    "start_time": "2022-03-11T20:48:32.011Z"
   },
   {
    "duration": 33,
    "start_time": "2022-03-11T20:48:32.070Z"
   },
   {
    "duration": 33,
    "start_time": "2022-03-11T20:48:32.105Z"
   },
   {
    "duration": 13,
    "start_time": "2022-03-11T20:48:32.140Z"
   },
   {
    "duration": 19,
    "start_time": "2022-03-11T20:48:32.156Z"
   },
   {
    "duration": 7,
    "start_time": "2022-03-11T20:48:32.177Z"
   },
   {
    "duration": 19,
    "start_time": "2022-03-11T20:48:32.186Z"
   },
   {
    "duration": 25,
    "start_time": "2022-03-11T20:48:32.206Z"
   },
   {
    "duration": 22,
    "start_time": "2022-03-11T20:48:32.233Z"
   },
   {
    "duration": 667,
    "start_time": "2022-03-11T20:48:32.257Z"
   },
   {
    "duration": 7,
    "start_time": "2022-03-11T20:48:32.926Z"
   },
   {
    "duration": 11,
    "start_time": "2022-03-11T20:48:32.935Z"
   },
   {
    "duration": 30,
    "start_time": "2022-03-11T20:48:32.947Z"
   },
   {
    "duration": 22,
    "start_time": "2022-03-11T20:48:32.979Z"
   },
   {
    "duration": 10,
    "start_time": "2022-03-11T20:48:33.004Z"
   },
   {
    "duration": 8,
    "start_time": "2022-03-11T20:48:33.016Z"
   },
   {
    "duration": 32,
    "start_time": "2022-03-11T20:48:33.026Z"
   },
   {
    "duration": 176,
    "start_time": "2022-03-11T20:48:33.060Z"
   },
   {
    "duration": 6,
    "start_time": "2022-03-11T20:48:33.237Z"
   },
   {
    "duration": 169,
    "start_time": "2022-03-11T20:48:33.247Z"
   },
   {
    "duration": 59661,
    "start_time": "2022-03-11T20:48:33.418Z"
   },
   {
    "duration": 129,
    "start_time": "2022-03-11T20:49:33.082Z"
   },
   {
    "duration": 385,
    "start_time": "2022-03-11T20:49:33.213Z"
   },
   {
    "duration": 174,
    "start_time": "2022-03-11T20:49:33.601Z"
   },
   {
    "duration": 61926,
    "start_time": "2022-03-11T20:49:33.777Z"
   },
   {
    "duration": 105,
    "start_time": "2022-03-11T20:50:35.705Z"
   },
   {
    "duration": 380,
    "start_time": "2022-03-11T20:50:35.902Z"
   },
   {
    "duration": 25,
    "start_time": "2022-03-11T20:50:36.285Z"
   },
   {
    "duration": 196,
    "start_time": "2022-03-11T20:50:36.311Z"
   },
   {
    "duration": 2,
    "start_time": "2022-03-11T20:50:36.509Z"
   },
   {
    "duration": 84548,
    "start_time": "2022-03-11T20:50:36.513Z"
   },
   {
    "duration": 46,
    "start_time": "2022-03-11T20:52:01.063Z"
   },
   {
    "duration": 481,
    "start_time": "2022-03-11T20:52:01.111Z"
   },
   {
    "duration": 21,
    "start_time": "2022-03-11T20:52:01.594Z"
   },
   {
    "duration": 102,
    "start_time": "2022-03-11T20:52:01.617Z"
   },
   {
    "duration": 37002,
    "start_time": "2022-03-11T20:52:01.720Z"
   },
   {
    "duration": 79,
    "start_time": "2022-03-11T20:52:38.724Z"
   },
   {
    "duration": 368,
    "start_time": "2022-03-11T20:52:38.806Z"
   },
   {
    "duration": 180,
    "start_time": "2022-03-11T20:52:39.176Z"
   },
   {
    "duration": 256,
    "start_time": "2022-03-11T20:52:39.358Z"
   },
   {
    "duration": 486,
    "start_time": "2022-03-11T20:55:58.354Z"
   },
   {
    "duration": 1313,
    "start_time": "2022-03-11T20:56:11.478Z"
   },
   {
    "duration": 45,
    "start_time": "2022-03-11T20:56:12.793Z"
   },
   {
    "duration": 10,
    "start_time": "2022-03-11T20:56:12.840Z"
   },
   {
    "duration": 61,
    "start_time": "2022-03-11T20:56:12.852Z"
   },
   {
    "duration": 22,
    "start_time": "2022-03-11T20:56:12.915Z"
   },
   {
    "duration": 22,
    "start_time": "2022-03-11T20:56:12.939Z"
   },
   {
    "duration": 40,
    "start_time": "2022-03-11T20:56:12.963Z"
   },
   {
    "duration": 10,
    "start_time": "2022-03-11T20:56:13.006Z"
   },
   {
    "duration": 7,
    "start_time": "2022-03-11T20:56:13.018Z"
   },
   {
    "duration": 8,
    "start_time": "2022-03-11T20:56:13.026Z"
   },
   {
    "duration": 12,
    "start_time": "2022-03-11T20:56:13.036Z"
   },
   {
    "duration": 58,
    "start_time": "2022-03-11T20:56:13.050Z"
   },
   {
    "duration": 827,
    "start_time": "2022-03-11T20:56:13.110Z"
   },
   {
    "duration": 9,
    "start_time": "2022-03-11T20:56:13.939Z"
   },
   {
    "duration": 12,
    "start_time": "2022-03-11T20:56:13.950Z"
   },
   {
    "duration": 53,
    "start_time": "2022-03-11T20:56:13.964Z"
   },
   {
    "duration": 8,
    "start_time": "2022-03-11T20:56:14.019Z"
   },
   {
    "duration": 14,
    "start_time": "2022-03-11T20:56:14.029Z"
   },
   {
    "duration": 9,
    "start_time": "2022-03-11T20:56:14.045Z"
   },
   {
    "duration": 72,
    "start_time": "2022-03-11T20:56:14.057Z"
   },
   {
    "duration": 216,
    "start_time": "2022-03-11T20:56:14.131Z"
   },
   {
    "duration": 7,
    "start_time": "2022-03-11T20:56:14.349Z"
   },
   {
    "duration": 234,
    "start_time": "2022-03-11T20:56:14.360Z"
   },
   {
    "duration": 61193,
    "start_time": "2022-03-11T20:56:14.600Z"
   },
   {
    "duration": 26,
    "start_time": "2022-03-11T20:57:15.801Z"
   },
   {
    "duration": 442,
    "start_time": "2022-03-11T20:57:15.829Z"
   },
   {
    "duration": 171,
    "start_time": "2022-03-11T20:57:16.273Z"
   },
   {
    "duration": 61070,
    "start_time": "2022-03-11T20:57:16.446Z"
   },
   {
    "duration": 297,
    "start_time": "2022-03-11T20:58:17.518Z"
   },
   {
    "duration": 455,
    "start_time": "2022-03-11T20:58:17.902Z"
   },
   {
    "duration": 21,
    "start_time": "2022-03-11T20:58:18.359Z"
   },
   {
    "duration": 219,
    "start_time": "2022-03-11T20:58:18.382Z"
   },
   {
    "duration": 3,
    "start_time": "2022-03-11T20:58:18.604Z"
   },
   {
    "duration": 92035,
    "start_time": "2022-03-11T20:58:18.609Z"
   },
   {
    "duration": 63,
    "start_time": "2022-03-11T20:59:50.646Z"
   },
   {
    "duration": 467,
    "start_time": "2022-03-11T20:59:50.712Z"
   },
   {
    "duration": 30,
    "start_time": "2022-03-11T20:59:51.182Z"
   },
   {
    "duration": 130,
    "start_time": "2022-03-11T20:59:51.214Z"
   },
   {
    "duration": 38945,
    "start_time": "2022-03-11T20:59:51.346Z"
   },
   {
    "duration": 100,
    "start_time": "2022-03-11T21:00:30.302Z"
   },
   {
    "duration": 385,
    "start_time": "2022-03-11T21:00:30.405Z"
   },
   {
    "duration": 184,
    "start_time": "2022-03-11T21:00:30.792Z"
   },
   {
    "duration": 275,
    "start_time": "2022-03-11T21:00:30.978Z"
   }
  ],
  "kernelspec": {
   "display_name": "Python 3 (ipykernel)",
   "language": "python",
   "name": "python3"
  },
  "language_info": {
   "codemirror_mode": {
    "name": "ipython",
    "version": 3
   },
   "file_extension": ".py",
   "mimetype": "text/x-python",
   "name": "python",
   "nbconvert_exporter": "python",
   "pygments_lexer": "ipython3",
   "version": "3.9.12"
  },
  "toc": {
   "base_numbering": 1,
   "nav_menu": {},
   "number_sections": true,
   "sideBar": true,
   "skip_h1_title": true,
   "title_cell": "Содержание",
   "title_sidebar": "Contents",
   "toc_cell": true,
   "toc_position": {
    "height": "calc(100% - 180px)",
    "left": "10px",
    "top": "150px",
    "width": "366.391px"
   },
   "toc_section_display": true,
   "toc_window_display": true
  }
 },
 "nbformat": 4,
 "nbformat_minor": 2
}
