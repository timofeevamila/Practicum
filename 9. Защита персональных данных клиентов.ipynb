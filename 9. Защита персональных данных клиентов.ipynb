{
 "cells": [
  {
   "cell_type": "markdown",
   "metadata": {},
   "source": [
    "# Защита персональных данных клиентов"
   ]
  },
  {
   "cell_type": "markdown",
   "metadata": {},
   "source": [
    "Вам нужно защитить данные клиентов страховой компании «Хоть потоп». Разработайте такой метод преобразования данных, чтобы по ним было сложно восстановить персональную информацию. Обоснуйте корректность его работы.\n",
    "\n",
    "Нужно защитить данные, чтобы при преобразовании качество моделей машинного обучения не ухудшилось. Подбирать наилучшую модель не требуется."
   ]
  },
  {
   "cell_type": "markdown",
   "metadata": {},
   "source": [
    "## Загрузка данных"
   ]
  },
  {
   "cell_type": "markdown",
   "metadata": {},
   "source": [
    "Импортируем библиотеки, с которыми будем работать"
   ]
  },
  {
   "cell_type": "code",
   "execution_count": 1,
   "metadata": {},
   "outputs": [],
   "source": [
    "import pandas as pd\n",
    "import numpy as np\n",
    "\n",
    "import seaborn as sbn\n",
    "import matplotlib.pyplot as plt\n",
    "\n",
    "from sklearn.model_selection import train_test_split\n",
    "from sklearn.linear_model import LinearRegression\n",
    "from sklearn.metrics import r2_score\n",
    "\n",
    "import warnings\n",
    "warnings.filterwarnings('ignore')"
   ]
  },
  {
   "cell_type": "markdown",
   "metadata": {},
   "source": [
    "Сохраним данные в переменную `df` и посмотрим первые 5 строк датасета:"
   ]
  },
  {
   "cell_type": "code",
   "execution_count": 2,
   "metadata": {
    "scrolled": true
   },
   "outputs": [
    {
     "data": {
      "text/html": [
       "<div>\n",
       "<style scoped>\n",
       "    .dataframe tbody tr th:only-of-type {\n",
       "        vertical-align: middle;\n",
       "    }\n",
       "\n",
       "    .dataframe tbody tr th {\n",
       "        vertical-align: top;\n",
       "    }\n",
       "\n",
       "    .dataframe thead th {\n",
       "        text-align: right;\n",
       "    }\n",
       "</style>\n",
       "<table border=\"1\" class=\"dataframe\">\n",
       "  <thead>\n",
       "    <tr style=\"text-align: right;\">\n",
       "      <th></th>\n",
       "      <th>Пол</th>\n",
       "      <th>Возраст</th>\n",
       "      <th>Зарплата</th>\n",
       "      <th>Члены семьи</th>\n",
       "      <th>Страховые выплаты</th>\n",
       "    </tr>\n",
       "  </thead>\n",
       "  <tbody>\n",
       "    <tr>\n",
       "      <th>0</th>\n",
       "      <td>1</td>\n",
       "      <td>41.0</td>\n",
       "      <td>49600.0</td>\n",
       "      <td>1</td>\n",
       "      <td>0</td>\n",
       "    </tr>\n",
       "    <tr>\n",
       "      <th>1</th>\n",
       "      <td>0</td>\n",
       "      <td>46.0</td>\n",
       "      <td>38000.0</td>\n",
       "      <td>1</td>\n",
       "      <td>1</td>\n",
       "    </tr>\n",
       "    <tr>\n",
       "      <th>2</th>\n",
       "      <td>0</td>\n",
       "      <td>29.0</td>\n",
       "      <td>21000.0</td>\n",
       "      <td>0</td>\n",
       "      <td>0</td>\n",
       "    </tr>\n",
       "    <tr>\n",
       "      <th>3</th>\n",
       "      <td>0</td>\n",
       "      <td>21.0</td>\n",
       "      <td>41700.0</td>\n",
       "      <td>2</td>\n",
       "      <td>0</td>\n",
       "    </tr>\n",
       "    <tr>\n",
       "      <th>4</th>\n",
       "      <td>1</td>\n",
       "      <td>28.0</td>\n",
       "      <td>26100.0</td>\n",
       "      <td>0</td>\n",
       "      <td>0</td>\n",
       "    </tr>\n",
       "  </tbody>\n",
       "</table>\n",
       "</div>"
      ],
      "text/plain": [
       "   Пол  Возраст  Зарплата  Члены семьи  Страховые выплаты\n",
       "0    1     41.0   49600.0            1                  0\n",
       "1    0     46.0   38000.0            1                  1\n",
       "2    0     29.0   21000.0            0                  0\n",
       "3    0     21.0   41700.0            2                  0\n",
       "4    1     28.0   26100.0            0                  0"
      ]
     },
     "execution_count": 2,
     "metadata": {},
     "output_type": "execute_result"
    }
   ],
   "source": [
    "try:\n",
    "    df = pd.read_csv('insurance.csv')\n",
    "except:\n",
    "    df = pd.read_csv('/datasets/insurance.csv')\n",
    "df.head()"
   ]
  },
  {
   "cell_type": "markdown",
   "metadata": {},
   "source": [
    "Посмотрим общую информацию о данных:"
   ]
  },
  {
   "cell_type": "code",
   "execution_count": 3,
   "metadata": {
    "scrolled": false
   },
   "outputs": [
    {
     "name": "stdout",
     "output_type": "stream",
     "text": [
      "<class 'pandas.core.frame.DataFrame'>\n",
      "RangeIndex: 5000 entries, 0 to 4999\n",
      "Data columns (total 5 columns):\n",
      " #   Column             Non-Null Count  Dtype  \n",
      "---  ------             --------------  -----  \n",
      " 0   Пол                5000 non-null   int64  \n",
      " 1   Возраст            5000 non-null   float64\n",
      " 2   Зарплата           5000 non-null   float64\n",
      " 3   Члены семьи        5000 non-null   int64  \n",
      " 4   Страховые выплаты  5000 non-null   int64  \n",
      "dtypes: float64(2), int64(3)\n",
      "memory usage: 195.4 KB\n"
     ]
    }
   ],
   "source": [
    "df.info()"
   ]
  },
  {
   "cell_type": "markdown",
   "metadata": {},
   "source": [
    "Посмотрим описательную статистику по каждому столбцу датафрейма:"
   ]
  },
  {
   "cell_type": "code",
   "execution_count": 4,
   "metadata": {},
   "outputs": [
    {
     "data": {
      "text/html": [
       "<div>\n",
       "<style scoped>\n",
       "    .dataframe tbody tr th:only-of-type {\n",
       "        vertical-align: middle;\n",
       "    }\n",
       "\n",
       "    .dataframe tbody tr th {\n",
       "        vertical-align: top;\n",
       "    }\n",
       "\n",
       "    .dataframe thead th {\n",
       "        text-align: right;\n",
       "    }\n",
       "</style>\n",
       "<table border=\"1\" class=\"dataframe\">\n",
       "  <thead>\n",
       "    <tr style=\"text-align: right;\">\n",
       "      <th></th>\n",
       "      <th>Пол</th>\n",
       "      <th>Возраст</th>\n",
       "      <th>Зарплата</th>\n",
       "      <th>Члены семьи</th>\n",
       "      <th>Страховые выплаты</th>\n",
       "    </tr>\n",
       "  </thead>\n",
       "  <tbody>\n",
       "    <tr>\n",
       "      <th>count</th>\n",
       "      <td>5000.000000</td>\n",
       "      <td>5000.000000</td>\n",
       "      <td>5000.000000</td>\n",
       "      <td>5000.000000</td>\n",
       "      <td>5000.000000</td>\n",
       "    </tr>\n",
       "    <tr>\n",
       "      <th>mean</th>\n",
       "      <td>0.499000</td>\n",
       "      <td>30.952800</td>\n",
       "      <td>39916.360000</td>\n",
       "      <td>1.194200</td>\n",
       "      <td>0.148000</td>\n",
       "    </tr>\n",
       "    <tr>\n",
       "      <th>std</th>\n",
       "      <td>0.500049</td>\n",
       "      <td>8.440807</td>\n",
       "      <td>9900.083569</td>\n",
       "      <td>1.091387</td>\n",
       "      <td>0.463183</td>\n",
       "    </tr>\n",
       "    <tr>\n",
       "      <th>min</th>\n",
       "      <td>0.000000</td>\n",
       "      <td>18.000000</td>\n",
       "      <td>5300.000000</td>\n",
       "      <td>0.000000</td>\n",
       "      <td>0.000000</td>\n",
       "    </tr>\n",
       "    <tr>\n",
       "      <th>25%</th>\n",
       "      <td>0.000000</td>\n",
       "      <td>24.000000</td>\n",
       "      <td>33300.000000</td>\n",
       "      <td>0.000000</td>\n",
       "      <td>0.000000</td>\n",
       "    </tr>\n",
       "    <tr>\n",
       "      <th>50%</th>\n",
       "      <td>0.000000</td>\n",
       "      <td>30.000000</td>\n",
       "      <td>40200.000000</td>\n",
       "      <td>1.000000</td>\n",
       "      <td>0.000000</td>\n",
       "    </tr>\n",
       "    <tr>\n",
       "      <th>75%</th>\n",
       "      <td>1.000000</td>\n",
       "      <td>37.000000</td>\n",
       "      <td>46600.000000</td>\n",
       "      <td>2.000000</td>\n",
       "      <td>0.000000</td>\n",
       "    </tr>\n",
       "    <tr>\n",
       "      <th>max</th>\n",
       "      <td>1.000000</td>\n",
       "      <td>65.000000</td>\n",
       "      <td>79000.000000</td>\n",
       "      <td>6.000000</td>\n",
       "      <td>5.000000</td>\n",
       "    </tr>\n",
       "  </tbody>\n",
       "</table>\n",
       "</div>"
      ],
      "text/plain": [
       "               Пол      Возраст      Зарплата  Члены семьи  Страховые выплаты\n",
       "count  5000.000000  5000.000000   5000.000000  5000.000000        5000.000000\n",
       "mean      0.499000    30.952800  39916.360000     1.194200           0.148000\n",
       "std       0.500049     8.440807   9900.083569     1.091387           0.463183\n",
       "min       0.000000    18.000000   5300.000000     0.000000           0.000000\n",
       "25%       0.000000    24.000000  33300.000000     0.000000           0.000000\n",
       "50%       0.000000    30.000000  40200.000000     1.000000           0.000000\n",
       "75%       1.000000    37.000000  46600.000000     2.000000           0.000000\n",
       "max       1.000000    65.000000  79000.000000     6.000000           5.000000"
      ]
     },
     "execution_count": 4,
     "metadata": {},
     "output_type": "execute_result"
    }
   ],
   "source": [
    "df.describe()"
   ]
  },
  {
   "cell_type": "markdown",
   "metadata": {},
   "source": [
    "В таблице данные клиентов страховой компании \"Хоть потоп\" 5000 объектов. Пропущенных значений нет. Проверим наличие дубликатов данных."
   ]
  },
  {
   "cell_type": "code",
   "execution_count": 5,
   "metadata": {},
   "outputs": [
    {
     "data": {
      "text/plain": [
       "153"
      ]
     },
     "execution_count": 5,
     "metadata": {},
     "output_type": "execute_result"
    }
   ],
   "source": [
    "df.duplicated().sum()"
   ]
  },
  {
   "cell_type": "markdown",
   "metadata": {},
   "source": [
    "В 5000 наблюдений содержится 153 дубликата. Поскольку точно идентифицировать каждого клиента мы не можем по имеющимся данным, дубликаты удалять не будем - существенного влияния на модель эти данные не окажут.  \n",
    "Выделим в исходных данных:\n",
    "* **признаки**: пол, возраст и зарплата застрахованного, количество членов его семьи. \n",
    "* **целевой признак**: количество страховых выплат клиенту за последние 5 лет."
   ]
  },
  {
   "cell_type": "code",
   "execution_count": 6,
   "metadata": {},
   "outputs": [
    {
     "name": "stdout",
     "output_type": "stream",
     "text": [
      "(5000, 4)\n",
      "(5000,)\n"
     ]
    }
   ],
   "source": [
    "features = df.drop(['Страховые выплаты'], axis=1)\n",
    "target = df['Страховые выплаты']\n",
    "\n",
    "print(features.shape)\n",
    "print(target.shape)"
   ]
  },
  {
   "cell_type": "markdown",
   "metadata": {},
   "source": [
    "Разделим данные на обучающую и тестовую выборки в пропорции 3:1 соответственно (75% на обучающию и 25% данных тестовую выборку)"
   ]
  },
  {
   "cell_type": "code",
   "execution_count": 7,
   "metadata": {},
   "outputs": [
    {
     "name": "stdout",
     "output_type": "stream",
     "text": [
      "Размер обучающей выборки (3750, 5)\n",
      "Размер тестовой выборки (1250, 5)\n"
     ]
    }
   ],
   "source": [
    "df_train, df_test = train_test_split(df, test_size=0.25, random_state=12345)\n",
    "print('Размер обучающей выборки', df_train.shape)\n",
    "print('Размер тестовой выборки', df_test.shape)"
   ]
  },
  {
   "cell_type": "markdown",
   "metadata": {},
   "source": [
    "Составим таблицы признаков и целевого признака для каждой выборки."
   ]
  },
  {
   "cell_type": "code",
   "execution_count": 8,
   "metadata": {},
   "outputs": [],
   "source": [
    "features_train = df_train.drop(['Страховые выплаты'], axis=1)\n",
    "target_train = df_train['Страховые выплаты']\n",
    "features_test = df_test.drop(['Страховые выплаты'], axis=1)\n",
    "target_test = df_test['Страховые выплаты']"
   ]
  },
  {
   "cell_type": "markdown",
   "metadata": {},
   "source": [
    "### Вывод\n",
    "В ходе предобработки данных не выявили аномалий и пропущенных значений. Обнаруженные дубликаты данных оставили без изменений, поскольку значительного влияния на модель эти данные не окажут."
   ]
  },
  {
   "cell_type": "markdown",
   "metadata": {},
   "source": [
    "## Умножение матриц"
   ]
  },
  {
   "cell_type": "markdown",
   "metadata": {},
   "source": [
    "В этом задании вы можете записывать формулы в *Jupyter Notebook.*\n",
    "\n",
    "Чтобы записать формулу внутри текста, окружите её символами доллара \\\\$; если снаружи —  двойными символами \\\\$\\\\$. Эти формулы записываются на языке вёрстки *LaTeX.* \n",
    "\n",
    "Для примера мы записали формулы линейной регрессии. Можете их скопировать и отредактировать, чтобы решить задачу.\n",
    "\n",
    "Работать в *LaTeX* необязательно.\n",
    "\n",
    "\n",
    "\n",
    "\n",
    "\n"
   ]
  },
  {
   "cell_type": "markdown",
   "metadata": {},
   "source": [
    "Обозначения:\n",
    "\n",
    "- $X$ — матрица признаков (нулевой столбец состоит из единиц)\n",
    "\n",
    "- $y$ — вектор целевого признака\n",
    "\n",
    "- $P$ — матрица, на которую умножаются признаки\n",
    "\n",
    "- $w$ — вектор весов линейной регрессии (нулевой элемент равен сдвигу)"
   ]
  },
  {
   "cell_type": "markdown",
   "metadata": {},
   "source": [
    "Предсказания:\n",
    "\n",
    "$$\n",
    "a = Xw\n",
    "$$\n",
    "\n",
    "Задача обучения:\n",
    "\n",
    "$$\n",
    "w = \\arg\\min_w MSE(Xw, y)\n",
    "$$\n",
    "\n",
    "Формула обучения:\n",
    "\n",
    "$$\n",
    "w = (X^T X)^{-1} X^T y\n",
    "$$"
   ]
  },
  {
   "cell_type": "markdown",
   "metadata": {},
   "source": [
    "**Вопрос:** Признаки умножают на обратимую матрицу. Изменится ли качество линейной регрессии?\n",
    "\n",
    "**Ответ:** При умножении признаков на обратимую матрицу, качество линейной регрессии не меняется.\n",
    "\n",
    "**Обоснование:** Умножим матрицу признаков на обратимую матрицу $Р$ и полученную матрицу назовем $М$:\n",
    "$$\n",
    "M = XP\n",
    "$$\n",
    "\n",
    "Подставим в формулу обучения новую матрицу:\n",
    "$$\n",
    "w_1 = (M^T M) ^{-1} M^T y\n",
    "$$\n",
    "\n",
    "$$\n",
    "w_1 = ((XP)^T XP) ^{-1} (XP)^T y\n",
    "$$\n",
    "\n",
    "Преобразуем, используя свойства матриц:\n",
    "$$\n",
    "w_1 = (P^T X^T X P)^{-1} P^T X^T y\n",
    "$$\n",
    "\n",
    "Используем правило для квадратных матриц $(AB)^{-1} = B^{-1} A^{-1}$\n",
    "получаем:\n",
    "\n",
    "$$\n",
    "w_1 = P^{-1}(X^T X)^{-1}(P^T)^{-1} P^T X^T y\n",
    "$$\n",
    "\n",
    "При умножении матрицы на обратную матрицу, получаем единичную матрицу:\n",
    "$$\n",
    "w_1 = P^{-1}(X^T X)^{-1} E X^T y\n",
    "$$\n",
    "\n",
    "$$\n",
    "w_1 = P^{-1}(X^T X)^{-1} X^T y\n",
    "$$\n",
    "\n",
    "$$\n",
    "w_1 = P^{-1} w\n",
    "$$\n",
    "\n",
    "Подставим в формулу предсказаний новую матрицу $M$ и $w_1$, вычислим предсказания $a_1$:\n",
    "$$\n",
    "a_1 = M w_1 = XP P^{-1} w\n",
    "$$\n",
    "\n",
    "При умножении матрицы на обратную матрицу снова получаем единичную матрицу: \n",
    "$$\n",
    "a_1 = X w\n",
    "$$\n",
    "\n",
    "Таким образом, предсказания $a_1$ для матрицы признаков, умноженной на обратимую матрицу $P$ равны предсказаниям $a$:\n",
    "$$\n",
    "a_1 = a\n",
    "$$"
   ]
  },
  {
   "cell_type": "markdown",
   "metadata": {},
   "source": [
    "## Алгоритм преобразования"
   ]
  },
  {
   "cell_type": "markdown",
   "metadata": {},
   "source": [
    "**Алгоритм**\n",
    "1. Создать случайную обратимую матрицу $P$ с помощью `numpy.random.normal()` размером `4*4` по количеству признаков основной матрицы, которую будем преобразовывать.\n",
    "2. Проверить сгенерированную матрицу на обратимость.\n",
    "3. Преобразовать исходные выборки в матрицы атрибутом `values`.\n",
    "4. Зашифровать данные - умножить матрицу признаков $X$ на матрицу $P$.\n",
    "5. Для расшифровки данных умножить полученную матрицу на матрицу $P^ {-1}$, обратную случайной.\n",
    "6. Преобразовать полученную матрицу в датафрейм и убедиться, что данные не изменились.\n",
    "7. Инициировать и обучить модель линейной регрессии на исходных данных.\n",
    "8. Получить предсказания и оценить качество модели метрикой R2 на исходных данных.\n",
    "9. Инициировать и обучить модель линейной регрессии на зашифрованных данных.\n",
    "10. Получить предсказания и оценить качество модели метрикой R2 на зашифрованных данных.\n",
    "11. Сравнить полученные метрики и сделать вывод."
   ]
  },
  {
   "cell_type": "markdown",
   "metadata": {},
   "source": [
    "**Обоснование**\n",
    "$$\n",
    "XP P^{-1} = X\n",
    "$$\n",
    "\n",
    "При умножении матрицы на обратную матрицу получается единичная матрица."
   ]
  },
  {
   "cell_type": "markdown",
   "metadata": {},
   "source": [
    "## Проверка алгоритма"
   ]
  },
  {
   "cell_type": "markdown",
   "metadata": {},
   "source": [
    "Запрограммируем предложенный алгоритм - для начала создадим случайную квадратную матрицу P размерности `4*4` по количеству признаков:"
   ]
  },
  {
   "cell_type": "code",
   "execution_count": 9,
   "metadata": {
    "scrolled": true
   },
   "outputs": [
    {
     "data": {
      "text/plain": [
       "array([[ 1.42942767,  0.38918985, -0.69361109,  0.95124111],\n",
       "       [ 0.8125933 , -0.20193221,  0.00679561, -0.45310964],\n",
       "       [-0.35462442,  1.63188015, -1.16682621,  1.53817192],\n",
       "       [ 0.29835684, -0.68307704,  0.3756828 , -1.425255  ]])"
      ]
     },
     "execution_count": 9,
     "metadata": {},
     "output_type": "execute_result"
    }
   ],
   "source": [
    "p = np.random.normal(size = (4,4))\n",
    "p"
   ]
  },
  {
   "cell_type": "markdown",
   "metadata": {},
   "source": [
    "Проверим матрицу P на обратимость - умножим её на обратную матрицу:"
   ]
  },
  {
   "cell_type": "code",
   "execution_count": 10,
   "metadata": {
    "scrolled": true
   },
   "outputs": [
    {
     "data": {
      "text/plain": [
       "array([[ 1.,  0., -0., -0.],\n",
       "       [-0.,  1.,  0., -0.],\n",
       "       [ 0., -0.,  1.,  0.],\n",
       "       [-0.,  0., -0.,  1.]])"
      ]
     },
     "execution_count": 10,
     "metadata": {},
     "output_type": "execute_result"
    }
   ],
   "source": [
    "np.round(p @ np.linalg.inv(p))"
   ]
  },
  {
   "cell_type": "markdown",
   "metadata": {},
   "source": [
    "Получили единичную матрицу, значит матрица Р - обратима, можем использовать её для проверки нашего алгоритма. Создадим матрицы из исходных выборок атрибутом `values`."
   ]
  },
  {
   "cell_type": "code",
   "execution_count": 11,
   "metadata": {},
   "outputs": [
    {
     "name": "stdout",
     "output_type": "stream",
     "text": [
      "(3750, 4)\n",
      "(1250, 4)\n"
     ]
    }
   ],
   "source": [
    "features_train_x = features_train.values\n",
    "features_test_x = features_test.values\n",
    "\n",
    "print(features_train_x.shape)\n",
    "print(features_test_x.shape)"
   ]
  },
  {
   "cell_type": "markdown",
   "metadata": {},
   "source": [
    "Зашифруем данные - умножим матрицу признаков на случайную матрицу :"
   ]
  },
  {
   "cell_type": "code",
   "execution_count": 12,
   "metadata": {},
   "outputs": [],
   "source": [
    "features_train_m = features_train_x @ p\n",
    "features_test_m = features_test_x @ p"
   ]
  },
  {
   "cell_type": "markdown",
   "metadata": {},
   "source": [
    "Для расшифровки данных умножним новую матрицу признаков на обратную случайной:"
   ]
  },
  {
   "cell_type": "code",
   "execution_count": 13,
   "metadata": {},
   "outputs": [],
   "source": [
    "features_train_new_x = features_train_m @ (np.linalg.inv(p))\n",
    "features_test_new_x = features_test_m @ (np.linalg.inv(p))"
   ]
  },
  {
   "cell_type": "markdown",
   "metadata": {},
   "source": [
    "Преобразуем полученную матрицу в датафрейм:"
   ]
  },
  {
   "cell_type": "code",
   "execution_count": 14,
   "metadata": {},
   "outputs": [
    {
     "data": {
      "text/html": [
       "<div>\n",
       "<style scoped>\n",
       "    .dataframe tbody tr th:only-of-type {\n",
       "        vertical-align: middle;\n",
       "    }\n",
       "\n",
       "    .dataframe tbody tr th {\n",
       "        vertical-align: top;\n",
       "    }\n",
       "\n",
       "    .dataframe thead th {\n",
       "        text-align: right;\n",
       "    }\n",
       "</style>\n",
       "<table border=\"1\" class=\"dataframe\">\n",
       "  <thead>\n",
       "    <tr style=\"text-align: right;\">\n",
       "      <th></th>\n",
       "      <th>Пол</th>\n",
       "      <th>Возраст</th>\n",
       "      <th>Зарплата</th>\n",
       "      <th>Члены семьи</th>\n",
       "    </tr>\n",
       "  </thead>\n",
       "  <tbody>\n",
       "    <tr>\n",
       "      <th>0</th>\n",
       "      <td>1.0</td>\n",
       "      <td>43.0</td>\n",
       "      <td>36200.0</td>\n",
       "      <td>1.0</td>\n",
       "    </tr>\n",
       "    <tr>\n",
       "      <th>1</th>\n",
       "      <td>1.0</td>\n",
       "      <td>34.0</td>\n",
       "      <td>57600.0</td>\n",
       "      <td>0.0</td>\n",
       "    </tr>\n",
       "    <tr>\n",
       "      <th>2</th>\n",
       "      <td>0.0</td>\n",
       "      <td>32.0</td>\n",
       "      <td>41100.0</td>\n",
       "      <td>1.0</td>\n",
       "    </tr>\n",
       "    <tr>\n",
       "      <th>3</th>\n",
       "      <td>0.0</td>\n",
       "      <td>36.0</td>\n",
       "      <td>45100.0</td>\n",
       "      <td>1.0</td>\n",
       "    </tr>\n",
       "    <tr>\n",
       "      <th>4</th>\n",
       "      <td>0.0</td>\n",
       "      <td>33.0</td>\n",
       "      <td>50600.0</td>\n",
       "      <td>2.0</td>\n",
       "    </tr>\n",
       "    <tr>\n",
       "      <th>...</th>\n",
       "      <td>...</td>\n",
       "      <td>...</td>\n",
       "      <td>...</td>\n",
       "      <td>...</td>\n",
       "    </tr>\n",
       "    <tr>\n",
       "      <th>3745</th>\n",
       "      <td>0.0</td>\n",
       "      <td>42.0</td>\n",
       "      <td>32100.0</td>\n",
       "      <td>0.0</td>\n",
       "    </tr>\n",
       "    <tr>\n",
       "      <th>3746</th>\n",
       "      <td>0.0</td>\n",
       "      <td>28.0</td>\n",
       "      <td>22700.0</td>\n",
       "      <td>4.0</td>\n",
       "    </tr>\n",
       "    <tr>\n",
       "      <th>3747</th>\n",
       "      <td>1.0</td>\n",
       "      <td>41.0</td>\n",
       "      <td>44700.0</td>\n",
       "      <td>1.0</td>\n",
       "    </tr>\n",
       "    <tr>\n",
       "      <th>3748</th>\n",
       "      <td>0.0</td>\n",
       "      <td>22.0</td>\n",
       "      <td>50100.0</td>\n",
       "      <td>4.0</td>\n",
       "    </tr>\n",
       "    <tr>\n",
       "      <th>3749</th>\n",
       "      <td>0.0</td>\n",
       "      <td>19.0</td>\n",
       "      <td>40800.0</td>\n",
       "      <td>-0.0</td>\n",
       "    </tr>\n",
       "  </tbody>\n",
       "</table>\n",
       "<p>3750 rows × 4 columns</p>\n",
       "</div>"
      ],
      "text/plain": [
       "      Пол  Возраст  Зарплата  Члены семьи\n",
       "0     1.0     43.0   36200.0          1.0\n",
       "1     1.0     34.0   57600.0          0.0\n",
       "2     0.0     32.0   41100.0          1.0\n",
       "3     0.0     36.0   45100.0          1.0\n",
       "4     0.0     33.0   50600.0          2.0\n",
       "...   ...      ...       ...          ...\n",
       "3745  0.0     42.0   32100.0          0.0\n",
       "3746  0.0     28.0   22700.0          4.0\n",
       "3747  1.0     41.0   44700.0          1.0\n",
       "3748  0.0     22.0   50100.0          4.0\n",
       "3749  0.0     19.0   40800.0         -0.0\n",
       "\n",
       "[3750 rows x 4 columns]"
      ]
     },
     "execution_count": 14,
     "metadata": {},
     "output_type": "execute_result"
    }
   ],
   "source": [
    "new_x = pd.DataFrame(features_train_new_x, columns=features_train.columns)\n",
    "np.round(new_x)"
   ]
  },
  {
   "cell_type": "markdown",
   "metadata": {},
   "source": [
    "После применения предложенного алгоритма получили исходную таблицу с данными. Алгоритм работает. Проверим, что качество линейной регрессии не отличается до и после преобразования, применим метрику R2 сначала на исходных данных, затем на зашифрованных."
   ]
  },
  {
   "cell_type": "code",
   "execution_count": 15,
   "metadata": {},
   "outputs": [
    {
     "name": "stdout",
     "output_type": "stream",
     "text": [
      "Качество линейной регресси до преобразования: 0.43522757127026546\n"
     ]
    }
   ],
   "source": [
    "model = LinearRegression()\n",
    "model.fit(features_train_x, target_train)\n",
    "predictions_x = model.predict(features_test_x)\n",
    "r2_score_x = r2_score(target_test, predictions_x)\n",
    "print('Качество линейной регресси до преобразования:', r2_score_x)"
   ]
  },
  {
   "cell_type": "code",
   "execution_count": 16,
   "metadata": {},
   "outputs": [
    {
     "name": "stdout",
     "output_type": "stream",
     "text": [
      "Качество линейной регресси после преобразования: 0.4352275712713949\n"
     ]
    }
   ],
   "source": [
    "model = LinearRegression()\n",
    "model.fit(features_train_m, target_train)\n",
    "predictions_m = model.predict(features_test_m)\n",
    "r2_score_m = r2_score(target_test, predictions_m)\n",
    "print('Качество линейной регресси после преобразования:', r2_score_m)"
   ]
  },
  {
   "cell_type": "markdown",
   "metadata": {},
   "source": [
    "Как видим, качество линейной регрессии до и после преобразования данных не изменилось. "
   ]
  },
  {
   "cell_type": "markdown",
   "metadata": {},
   "source": [
    "## Общий вывод"
   ]
  },
  {
   "cell_type": "markdown",
   "metadata": {},
   "source": [
    "Объект нашей работы - данные клиентов страховой компании \"Хоть потоп\".\n",
    "\n",
    "В ходе предобработки мы не обнаружили серьезных проблем, пропущенных значений и ошибок в данных. Разделили данные на обучающую и тестовую выборку.\n",
    "\n",
    "Мы дали ответ на вопрос об умножении матриц, обосновали ответ формулами.\n",
    "\n",
    "Для решения поставленной задачи мы предложили и обосновали алгоритм шифрования данных. Проверили работу алгоритма - зашифровали и расшифровали данные после преобразования случайной матрицей. Сравнили качество моделей до и после преобразования с помощью метрики R2, качество моделей не изменилось - предложенный алгоритм работает корректно.\n",
    "\n",
    "Подведём итог нашей работы - рекомендация для страховой компании \"Хоть потоп\":\n",
    "* обратить внимание и возможно использовать предложенный в ходе работы алгоритм преобразования для защиты данных клиентов."
   ]
  }
 ],
 "metadata": {
  "ExecuteTimeLog": [
   {
    "duration": 2230,
    "start_time": "2022-04-19T12:42:07.580Z"
   },
   {
    "duration": 87,
    "start_time": "2022-04-19T12:43:14.281Z"
   },
   {
    "duration": 17,
    "start_time": "2022-04-19T12:43:46.342Z"
   },
   {
    "duration": 9,
    "start_time": "2022-04-19T12:44:42.757Z"
   },
   {
    "duration": 11,
    "start_time": "2022-04-19T12:45:31.247Z"
   },
   {
    "duration": 1650,
    "start_time": "2022-04-20T08:06:33.800Z"
   },
   {
    "duration": 110,
    "start_time": "2022-04-20T08:06:35.452Z"
   },
   {
    "duration": 12,
    "start_time": "2022-04-20T08:06:35.563Z"
   },
   {
    "duration": 6,
    "start_time": "2022-04-20T08:06:35.577Z"
   },
   {
    "duration": 5,
    "start_time": "2022-04-20T08:06:35.585Z"
   },
   {
    "duration": 117,
    "start_time": "2022-04-21T20:35:44.312Z"
   },
   {
    "duration": 1519,
    "start_time": "2022-04-21T20:35:49.696Z"
   },
   {
    "duration": 73,
    "start_time": "2022-04-21T20:35:51.217Z"
   },
   {
    "duration": 12,
    "start_time": "2022-04-21T20:35:51.292Z"
   },
   {
    "duration": 7,
    "start_time": "2022-04-21T20:35:51.305Z"
   },
   {
    "duration": 4,
    "start_time": "2022-04-21T20:35:51.314Z"
   },
   {
    "duration": 108,
    "start_time": "2022-04-21T20:35:51.320Z"
   },
   {
    "duration": 3,
    "start_time": "2022-04-21T20:35:56.930Z"
   },
   {
    "duration": 5,
    "start_time": "2022-04-21T20:36:02.107Z"
   },
   {
    "duration": 11,
    "start_time": "2022-04-21T20:38:58.681Z"
   },
   {
    "duration": 6,
    "start_time": "2022-04-21T20:39:30.352Z"
   },
   {
    "duration": 1374,
    "start_time": "2022-04-21T20:58:33.778Z"
   },
   {
    "duration": 77,
    "start_time": "2022-04-21T20:58:35.154Z"
   },
   {
    "duration": 11,
    "start_time": "2022-04-21T20:58:35.233Z"
   },
   {
    "duration": 7,
    "start_time": "2022-04-21T20:58:35.246Z"
   },
   {
    "duration": 4,
    "start_time": "2022-04-21T20:58:35.255Z"
   },
   {
    "duration": 6,
    "start_time": "2022-04-21T20:58:35.261Z"
   },
   {
    "duration": 5,
    "start_time": "2022-04-21T20:58:35.269Z"
   },
   {
    "duration": 8,
    "start_time": "2022-04-21T20:58:35.275Z"
   },
   {
    "duration": 109,
    "start_time": "2022-04-21T21:01:00.785Z"
   },
   {
    "duration": 5,
    "start_time": "2022-04-21T21:01:11.836Z"
   },
   {
    "duration": 5,
    "start_time": "2022-04-21T21:02:52.431Z"
   },
   {
    "duration": 6,
    "start_time": "2022-04-21T21:03:21.477Z"
   },
   {
    "duration": 13,
    "start_time": "2022-04-21T21:04:19.813Z"
   },
   {
    "duration": 6,
    "start_time": "2022-04-21T21:04:28.797Z"
   },
   {
    "duration": 3,
    "start_time": "2022-04-21T21:06:11.003Z"
   },
   {
    "duration": 4,
    "start_time": "2022-04-21T21:06:37.684Z"
   },
   {
    "duration": 14,
    "start_time": "2022-04-21T21:09:03.294Z"
   },
   {
    "duration": 5,
    "start_time": "2022-04-21T21:09:05.456Z"
   },
   {
    "duration": 5,
    "start_time": "2022-04-21T21:09:06.807Z"
   },
   {
    "duration": 3,
    "start_time": "2022-04-21T21:13:40.336Z"
   },
   {
    "duration": 3,
    "start_time": "2022-04-21T21:18:04.117Z"
   },
   {
    "duration": 6,
    "start_time": "2022-04-21T21:19:33.149Z"
   },
   {
    "duration": 7,
    "start_time": "2022-04-21T21:19:50.236Z"
   },
   {
    "duration": 7,
    "start_time": "2022-04-21T21:20:34.619Z"
   },
   {
    "duration": 6,
    "start_time": "2022-04-21T21:21:09.083Z"
   },
   {
    "duration": 5,
    "start_time": "2022-04-21T21:23:47.321Z"
   },
   {
    "duration": 6,
    "start_time": "2022-04-21T21:24:03.903Z"
   },
   {
    "duration": 4,
    "start_time": "2022-04-21T21:24:55.262Z"
   },
   {
    "duration": 5,
    "start_time": "2022-04-21T21:24:57.807Z"
   },
   {
    "duration": 1466,
    "start_time": "2022-04-21T21:25:08.530Z"
   },
   {
    "duration": 93,
    "start_time": "2022-04-21T21:25:09.998Z"
   },
   {
    "duration": 14,
    "start_time": "2022-04-21T21:25:10.092Z"
   },
   {
    "duration": 5,
    "start_time": "2022-04-21T21:25:10.108Z"
   },
   {
    "duration": 9,
    "start_time": "2022-04-21T21:25:10.115Z"
   },
   {
    "duration": 12,
    "start_time": "2022-04-21T21:25:10.126Z"
   },
   {
    "duration": 35,
    "start_time": "2022-04-21T21:25:10.140Z"
   },
   {
    "duration": 6,
    "start_time": "2022-04-21T21:25:10.177Z"
   },
   {
    "duration": 6,
    "start_time": "2022-04-21T21:25:10.185Z"
   },
   {
    "duration": 5,
    "start_time": "2022-04-21T21:25:10.193Z"
   },
   {
    "duration": 74,
    "start_time": "2022-04-21T21:25:10.200Z"
   },
   {
    "duration": 11,
    "start_time": "2022-04-21T21:25:10.276Z"
   },
   {
    "duration": 93,
    "start_time": "2022-04-21T21:25:10.289Z"
   },
   {
    "duration": 91,
    "start_time": "2022-04-21T21:25:10.385Z"
   },
   {
    "duration": 9,
    "start_time": "2022-04-21T21:25:10.478Z"
   },
   {
    "duration": 4,
    "start_time": "2022-04-21T21:26:37.749Z"
   },
   {
    "duration": 5,
    "start_time": "2022-04-21T21:26:50.341Z"
   },
   {
    "duration": 13,
    "start_time": "2022-04-21T21:27:07.884Z"
   },
   {
    "duration": 1542,
    "start_time": "2022-04-21T21:27:27.161Z"
   },
   {
    "duration": 77,
    "start_time": "2022-04-21T21:27:28.705Z"
   },
   {
    "duration": 12,
    "start_time": "2022-04-21T21:27:28.784Z"
   },
   {
    "duration": 9,
    "start_time": "2022-04-21T21:27:28.798Z"
   },
   {
    "duration": 4,
    "start_time": "2022-04-21T21:27:28.809Z"
   },
   {
    "duration": 10,
    "start_time": "2022-04-21T21:27:28.815Z"
   },
   {
    "duration": 13,
    "start_time": "2022-04-21T21:27:28.827Z"
   },
   {
    "duration": 34,
    "start_time": "2022-04-21T21:27:28.841Z"
   },
   {
    "duration": 8,
    "start_time": "2022-04-21T21:27:28.877Z"
   },
   {
    "duration": 6,
    "start_time": "2022-04-21T21:27:28.888Z"
   },
   {
    "duration": 78,
    "start_time": "2022-04-21T21:27:28.896Z"
   },
   {
    "duration": 14,
    "start_time": "2022-04-21T21:27:28.977Z"
   },
   {
    "duration": 180,
    "start_time": "2022-04-21T21:27:28.993Z"
   },
   {
    "duration": 5,
    "start_time": "2022-04-21T21:27:29.176Z"
   },
   {
    "duration": 6,
    "start_time": "2022-04-21T21:27:29.184Z"
   },
   {
    "duration": 20,
    "start_time": "2022-04-21T21:27:29.193Z"
   },
   {
    "duration": 10,
    "start_time": "2022-04-21T21:27:29.214Z"
   },
   {
    "duration": 8,
    "start_time": "2022-04-21T21:27:29.226Z"
   },
   {
    "duration": 7,
    "start_time": "2022-04-21T21:27:44.994Z"
   },
   {
    "duration": 1502,
    "start_time": "2022-04-21T21:27:48.482Z"
   },
   {
    "duration": 75,
    "start_time": "2022-04-21T21:27:49.986Z"
   },
   {
    "duration": 11,
    "start_time": "2022-04-21T21:27:50.063Z"
   },
   {
    "duration": 5,
    "start_time": "2022-04-21T21:27:50.076Z"
   },
   {
    "duration": 4,
    "start_time": "2022-04-21T21:27:50.084Z"
   },
   {
    "duration": 7,
    "start_time": "2022-04-21T21:27:50.090Z"
   },
   {
    "duration": 7,
    "start_time": "2022-04-21T21:27:50.099Z"
   },
   {
    "duration": 7,
    "start_time": "2022-04-21T21:27:50.107Z"
   },
   {
    "duration": 7,
    "start_time": "2022-04-21T21:27:50.116Z"
   },
   {
    "duration": 51,
    "start_time": "2022-04-21T21:27:50.125Z"
   },
   {
    "duration": 6,
    "start_time": "2022-04-21T21:27:50.178Z"
   },
   {
    "duration": 88,
    "start_time": "2022-04-21T21:27:50.187Z"
   },
   {
    "duration": 15,
    "start_time": "2022-04-21T21:27:50.278Z"
   },
   {
    "duration": 4,
    "start_time": "2022-04-21T21:27:50.374Z"
   },
   {
    "duration": 93,
    "start_time": "2022-04-21T21:27:50.381Z"
   },
   {
    "duration": 13,
    "start_time": "2022-04-21T21:27:50.476Z"
   },
   {
    "duration": 9,
    "start_time": "2022-04-21T21:27:50.491Z"
   },
   {
    "duration": 9,
    "start_time": "2022-04-21T21:27:50.502Z"
   },
   {
    "duration": 111,
    "start_time": "2022-04-21T21:28:57.156Z"
   },
   {
    "duration": 7,
    "start_time": "2022-04-21T21:29:20.690Z"
   },
   {
    "duration": 7,
    "start_time": "2022-04-21T21:29:22.164Z"
   },
   {
    "duration": 17,
    "start_time": "2022-04-21T21:30:04.626Z"
   },
   {
    "duration": 6,
    "start_time": "2022-04-21T21:30:45.602Z"
   },
   {
    "duration": 7,
    "start_time": "2022-04-21T21:30:56.833Z"
   },
   {
    "duration": 2243,
    "start_time": "2022-04-22T05:49:25.097Z"
   },
   {
    "duration": 90,
    "start_time": "2022-04-22T05:49:27.343Z"
   },
   {
    "duration": 16,
    "start_time": "2022-04-22T05:49:27.435Z"
   },
   {
    "duration": 18,
    "start_time": "2022-04-22T05:49:27.453Z"
   },
   {
    "duration": 12,
    "start_time": "2022-04-22T05:49:27.474Z"
   },
   {
    "duration": 13,
    "start_time": "2022-04-22T05:49:27.489Z"
   },
   {
    "duration": 20,
    "start_time": "2022-04-22T05:49:27.504Z"
   },
   {
    "duration": 13,
    "start_time": "2022-04-22T05:49:27.526Z"
   },
   {
    "duration": 46,
    "start_time": "2022-04-22T05:49:27.541Z"
   },
   {
    "duration": 104,
    "start_time": "2022-04-22T05:49:27.592Z"
   },
   {
    "duration": 10,
    "start_time": "2022-04-22T05:49:27.699Z"
   },
   {
    "duration": 76,
    "start_time": "2022-04-22T05:49:27.711Z"
   },
   {
    "duration": 351,
    "start_time": "2022-04-22T05:49:27.791Z"
   },
   {
    "duration": 0,
    "start_time": "2022-04-22T05:49:28.145Z"
   },
   {
    "duration": 7,
    "start_time": "2022-04-22T05:50:00.956Z"
   },
   {
    "duration": 8,
    "start_time": "2022-04-22T05:51:36.673Z"
   },
   {
    "duration": 8,
    "start_time": "2022-04-22T05:51:39.137Z"
   },
   {
    "duration": 8,
    "start_time": "2022-04-22T05:54:07.823Z"
   },
   {
    "duration": 7,
    "start_time": "2022-04-22T05:54:09.103Z"
   },
   {
    "duration": 8,
    "start_time": "2022-04-22T05:54:13.726Z"
   },
   {
    "duration": 8,
    "start_time": "2022-04-22T05:54:14.727Z"
   },
   {
    "duration": 8,
    "start_time": "2022-04-22T05:54:22.822Z"
   },
   {
    "duration": 8,
    "start_time": "2022-04-22T05:54:23.671Z"
   },
   {
    "duration": 2000,
    "start_time": "2022-04-22T05:55:11.959Z"
   },
   {
    "duration": 78,
    "start_time": "2022-04-22T05:55:13.962Z"
   },
   {
    "duration": 17,
    "start_time": "2022-04-22T05:55:14.042Z"
   },
   {
    "duration": 12,
    "start_time": "2022-04-22T05:55:14.062Z"
   },
   {
    "duration": 7,
    "start_time": "2022-04-22T05:55:14.076Z"
   },
   {
    "duration": 7,
    "start_time": "2022-04-22T05:55:14.085Z"
   },
   {
    "duration": 9,
    "start_time": "2022-04-22T05:55:14.094Z"
   },
   {
    "duration": 8,
    "start_time": "2022-04-22T05:55:14.105Z"
   },
   {
    "duration": 8,
    "start_time": "2022-04-22T05:55:14.115Z"
   },
   {
    "duration": 59,
    "start_time": "2022-04-22T05:55:14.128Z"
   },
   {
    "duration": 93,
    "start_time": "2022-04-22T05:55:14.190Z"
   },
   {
    "duration": 10,
    "start_time": "2022-04-22T05:55:14.285Z"
   },
   {
    "duration": 9,
    "start_time": "2022-04-22T05:55:14.298Z"
   },
   {
    "duration": 3,
    "start_time": "2022-04-22T05:55:14.310Z"
   },
   {
    "duration": 8,
    "start_time": "2022-04-22T05:58:09.099Z"
   },
   {
    "duration": 4,
    "start_time": "2022-04-22T05:59:00.635Z"
   },
   {
    "duration": 18,
    "start_time": "2022-04-22T05:59:11.538Z"
   },
   {
    "duration": 20,
    "start_time": "2022-04-22T05:59:23.617Z"
   },
   {
    "duration": 19,
    "start_time": "2022-04-22T05:59:35.786Z"
   },
   {
    "duration": 20,
    "start_time": "2022-04-22T05:59:49.058Z"
   },
   {
    "duration": 2093,
    "start_time": "2022-04-22T07:00:24.723Z"
   },
   {
    "duration": 81,
    "start_time": "2022-04-22T07:00:26.819Z"
   },
   {
    "duration": 18,
    "start_time": "2022-04-22T07:00:26.903Z"
   },
   {
    "duration": 10,
    "start_time": "2022-04-22T07:00:26.925Z"
   },
   {
    "duration": 7,
    "start_time": "2022-04-22T07:00:26.938Z"
   },
   {
    "duration": 10,
    "start_time": "2022-04-22T07:00:26.985Z"
   },
   {
    "duration": 17,
    "start_time": "2022-04-22T07:00:26.998Z"
   },
   {
    "duration": 15,
    "start_time": "2022-04-22T07:00:27.017Z"
   },
   {
    "duration": 18,
    "start_time": "2022-04-22T07:00:27.034Z"
   },
   {
    "duration": 11,
    "start_time": "2022-04-22T07:00:27.093Z"
   },
   {
    "duration": 6,
    "start_time": "2022-04-22T07:00:27.106Z"
   },
   {
    "duration": 87,
    "start_time": "2022-04-22T07:00:27.113Z"
   },
   {
    "duration": 182,
    "start_time": "2022-04-22T07:00:27.202Z"
   },
   {
    "duration": 15,
    "start_time": "2022-04-22T07:00:27.389Z"
   },
   {
    "duration": 8,
    "start_time": "2022-04-22T07:00:27.406Z"
   },
   {
    "duration": 3,
    "start_time": "2022-04-22T07:00:27.417Z"
   },
   {
    "duration": 8,
    "start_time": "2022-04-22T07:01:00.956Z"
   },
   {
    "duration": 4,
    "start_time": "2022-04-22T07:02:04.395Z"
   },
   {
    "duration": 4,
    "start_time": "2022-04-22T07:02:08.396Z"
   },
   {
    "duration": 4,
    "start_time": "2022-04-22T07:02:25.433Z"
   },
   {
    "duration": 4,
    "start_time": "2022-04-22T07:02:26.305Z"
   },
   {
    "duration": 5,
    "start_time": "2022-04-22T07:02:51.328Z"
   },
   {
    "duration": 5,
    "start_time": "2022-04-22T07:03:17.119Z"
   },
   {
    "duration": 19,
    "start_time": "2022-04-22T07:03:23.815Z"
   },
   {
    "duration": 27,
    "start_time": "2022-04-22T07:03:43.770Z"
   },
   {
    "duration": 23,
    "start_time": "2022-04-22T07:03:52.064Z"
   },
   {
    "duration": 19,
    "start_time": "2022-04-22T07:03:53.424Z"
   },
   {
    "duration": 2003,
    "start_time": "2022-04-22T07:04:21.768Z"
   },
   {
    "duration": 89,
    "start_time": "2022-04-22T07:04:23.775Z"
   },
   {
    "duration": 16,
    "start_time": "2022-04-22T07:04:23.867Z"
   },
   {
    "duration": 13,
    "start_time": "2022-04-22T07:04:23.886Z"
   },
   {
    "duration": 16,
    "start_time": "2022-04-22T07:04:23.903Z"
   },
   {
    "duration": 8,
    "start_time": "2022-04-22T07:04:23.922Z"
   },
   {
    "duration": 9,
    "start_time": "2022-04-22T07:04:23.933Z"
   },
   {
    "duration": 8,
    "start_time": "2022-04-22T07:04:23.944Z"
   },
   {
    "duration": 13,
    "start_time": "2022-04-22T07:04:23.983Z"
   },
   {
    "duration": 8,
    "start_time": "2022-04-22T07:04:24.000Z"
   },
   {
    "duration": 89,
    "start_time": "2022-04-22T07:04:24.011Z"
   },
   {
    "duration": 80,
    "start_time": "2022-04-22T07:04:24.103Z"
   },
   {
    "duration": 112,
    "start_time": "2022-04-22T07:04:24.185Z"
   },
   {
    "duration": 99,
    "start_time": "2022-04-22T07:04:24.300Z"
   },
   {
    "duration": 9,
    "start_time": "2022-04-22T07:04:24.402Z"
   },
   {
    "duration": 3,
    "start_time": "2022-04-22T07:04:24.414Z"
   },
   {
    "duration": 21,
    "start_time": "2022-04-22T10:25:36.414Z"
   },
   {
    "duration": 34,
    "start_time": "2022-04-22T10:28:52.714Z"
   },
   {
    "duration": 8,
    "start_time": "2022-04-22T10:37:10.337Z"
   },
   {
    "duration": 7,
    "start_time": "2022-04-22T10:37:17.600Z"
   },
   {
    "duration": 1957,
    "start_time": "2022-04-22T10:55:20.939Z"
   },
   {
    "duration": 78,
    "start_time": "2022-04-22T10:55:22.899Z"
   },
   {
    "duration": 26,
    "start_time": "2022-04-22T10:55:22.979Z"
   },
   {
    "duration": 34,
    "start_time": "2022-04-22T10:55:23.009Z"
   },
   {
    "duration": 8,
    "start_time": "2022-04-22T10:55:23.045Z"
   },
   {
    "duration": 34,
    "start_time": "2022-04-22T10:55:23.055Z"
   },
   {
    "duration": 26,
    "start_time": "2022-04-22T10:55:23.092Z"
   },
   {
    "duration": 7,
    "start_time": "2022-04-22T10:55:23.120Z"
   },
   {
    "duration": 11,
    "start_time": "2022-04-22T10:55:23.129Z"
   },
   {
    "duration": 9,
    "start_time": "2022-04-22T10:55:23.144Z"
   },
   {
    "duration": 57,
    "start_time": "2022-04-22T10:55:23.155Z"
   },
   {
    "duration": 14,
    "start_time": "2022-04-22T10:55:23.283Z"
   },
   {
    "duration": 6,
    "start_time": "2022-04-22T10:55:23.303Z"
   },
   {
    "duration": 95,
    "start_time": "2022-04-22T10:55:23.313Z"
   },
   {
    "duration": 11,
    "start_time": "2022-04-22T10:55:23.485Z"
   },
   {
    "duration": 12,
    "start_time": "2022-04-22T10:55:23.499Z"
   },
   {
    "duration": 1677,
    "start_time": "2022-04-22T11:28:03.418Z"
   },
   {
    "duration": 88,
    "start_time": "2022-04-22T11:28:05.097Z"
   },
   {
    "duration": 13,
    "start_time": "2022-04-22T11:28:05.186Z"
   },
   {
    "duration": 26,
    "start_time": "2022-04-22T11:28:05.201Z"
   },
   {
    "duration": 7,
    "start_time": "2022-04-22T11:28:05.229Z"
   },
   {
    "duration": 6,
    "start_time": "2022-04-22T11:28:05.238Z"
   },
   {
    "duration": 30,
    "start_time": "2022-04-22T11:28:05.245Z"
   },
   {
    "duration": 11,
    "start_time": "2022-04-22T11:28:05.276Z"
   },
   {
    "duration": 13,
    "start_time": "2022-04-22T11:28:05.289Z"
   },
   {
    "duration": 9,
    "start_time": "2022-04-22T11:28:05.305Z"
   },
   {
    "duration": 105,
    "start_time": "2022-04-22T11:28:05.374Z"
   },
   {
    "duration": 8,
    "start_time": "2022-04-22T11:28:05.481Z"
   },
   {
    "duration": 7,
    "start_time": "2022-04-22T11:28:05.490Z"
   },
   {
    "duration": 95,
    "start_time": "2022-04-22T11:28:05.500Z"
   },
   {
    "duration": 8,
    "start_time": "2022-04-22T11:28:05.674Z"
   },
   {
    "duration": 196,
    "start_time": "2022-04-22T11:28:05.685Z"
   },
   {
    "duration": 2150,
    "start_time": "2022-04-22T14:06:20.665Z"
   },
   {
    "duration": 104,
    "start_time": "2022-04-22T14:06:22.817Z"
   },
   {
    "duration": 16,
    "start_time": "2022-04-22T14:06:22.923Z"
   },
   {
    "duration": 35,
    "start_time": "2022-04-22T14:06:22.942Z"
   },
   {
    "duration": 7,
    "start_time": "2022-04-22T14:06:22.979Z"
   },
   {
    "duration": 9,
    "start_time": "2022-04-22T14:06:22.988Z"
   },
   {
    "duration": 11,
    "start_time": "2022-04-22T14:06:22.999Z"
   },
   {
    "duration": 7,
    "start_time": "2022-04-22T14:06:23.012Z"
   },
   {
    "duration": 8,
    "start_time": "2022-04-22T14:06:23.021Z"
   },
   {
    "duration": 57,
    "start_time": "2022-04-22T14:06:23.032Z"
   },
   {
    "duration": 92,
    "start_time": "2022-04-22T14:06:23.092Z"
   },
   {
    "duration": 4,
    "start_time": "2022-04-22T14:06:23.186Z"
   },
   {
    "duration": 11,
    "start_time": "2022-04-22T14:06:23.193Z"
   },
   {
    "duration": 88,
    "start_time": "2022-04-22T14:06:23.207Z"
   },
   {
    "duration": 86,
    "start_time": "2022-04-22T14:06:23.297Z"
   },
   {
    "duration": 11,
    "start_time": "2022-04-22T14:06:23.385Z"
   },
   {
    "duration": 55,
    "start_time": "2022-05-05T06:31:21.577Z"
   },
   {
    "duration": 1578,
    "start_time": "2022-05-05T06:31:29.224Z"
   },
   {
    "duration": 196,
    "start_time": "2022-05-05T06:31:30.804Z"
   },
   {
    "duration": 14,
    "start_time": "2022-05-05T06:31:31.003Z"
   },
   {
    "duration": 30,
    "start_time": "2022-05-05T06:31:31.020Z"
   },
   {
    "duration": 8,
    "start_time": "2022-05-05T06:31:31.052Z"
   },
   {
    "duration": 15,
    "start_time": "2022-05-05T06:31:31.062Z"
   },
   {
    "duration": 22,
    "start_time": "2022-05-05T06:31:31.079Z"
   },
   {
    "duration": 10,
    "start_time": "2022-05-05T06:31:31.103Z"
   },
   {
    "duration": 14,
    "start_time": "2022-05-05T06:31:31.114Z"
   },
   {
    "duration": 9,
    "start_time": "2022-05-05T06:31:31.132Z"
   },
   {
    "duration": 14,
    "start_time": "2022-05-05T06:31:31.143Z"
   },
   {
    "duration": 90,
    "start_time": "2022-05-05T06:31:31.159Z"
   },
   {
    "duration": 83,
    "start_time": "2022-05-05T06:31:31.251Z"
   },
   {
    "duration": 99,
    "start_time": "2022-05-05T06:31:31.336Z"
   },
   {
    "duration": 17,
    "start_time": "2022-05-05T06:31:31.436Z"
   },
   {
    "duration": 7,
    "start_time": "2022-05-05T06:31:31.454Z"
   }
  ],
  "kernelspec": {
   "display_name": "Python 3 (ipykernel)",
   "language": "python",
   "name": "python3"
  },
  "language_info": {
   "codemirror_mode": {
    "name": "ipython",
    "version": 3
   },
   "file_extension": ".py",
   "mimetype": "text/x-python",
   "name": "python",
   "nbconvert_exporter": "python",
   "pygments_lexer": "ipython3",
   "version": "3.9.12"
  },
  "toc": {
   "base_numbering": 1,
   "nav_menu": {},
   "number_sections": true,
   "sideBar": true,
   "skip_h1_title": true,
   "title_cell": "Содержание",
   "title_sidebar": "Contents",
   "toc_cell": true,
   "toc_position": {
    "height": "calc(100% - 180px)",
    "left": "10px",
    "top": "150px",
    "width": "366.391px"
   },
   "toc_section_display": true,
   "toc_window_display": true
  }
 },
 "nbformat": 4,
 "nbformat_minor": 2
}
