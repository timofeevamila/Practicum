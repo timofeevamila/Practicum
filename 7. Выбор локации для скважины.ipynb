{
 "cells": [
  {
   "cell_type": "markdown",
   "metadata": {},
   "source": [
    "# Выбор локации для скважины"
   ]
  },
  {
   "cell_type": "markdown",
   "metadata": {},
   "source": [
    "Допустим, вы работаете в добывающей компании «ГлавРосГосНефть». Нужно решить, где бурить новую скважину.\n",
    "\n",
    "Шаги для выбора локации обычно такие:\n",
    "\n",
    "* В избранном регионе собирают характеристики для скважин: качество нефти и объём её запасов;\n",
    "* Строят модель для предсказания объёма запасов в новых скважинах;\n",
    "* Выбирают скважины с самыми высокими оценками значений;\n",
    "* Определяют регион с максимальной суммарной прибылью отобранных скважин.\n",
    "\n",
    "Вам предоставлены пробы нефти в трёх регионах. Характеристики для каждой скважины в регионе уже известны. Постройте модель для определения региона, где добыча принесёт наибольшую прибыль. Проанализируйте возможную прибыль и риски техникой *Bootstrap*."
   ]
  },
  {
   "cell_type": "markdown",
   "metadata": {},
   "source": [
    "## Загрузка и подготовка данных"
   ]
  },
  {
   "cell_type": "markdown",
   "metadata": {},
   "source": [
    "### Изучение данных из файла\n",
    "Импортируем библиотеки, с которыми будем работать"
   ]
  },
  {
   "cell_type": "code",
   "execution_count": 1,
   "metadata": {},
   "outputs": [],
   "source": [
    "import pandas as pd\n",
    "import numpy as np\n",
    "\n",
    "from sklearn.model_selection import train_test_split\n",
    "from sklearn.preprocessing import StandardScaler\n",
    "from sklearn.linear_model import LinearRegression\n",
    "from sklearn.metrics import mean_squared_error\n",
    "\n",
    "from sklearn.dummy import DummyClassifier\n",
    "from sklearn.utils import shuffle\n",
    "\n",
    "import seaborn as sbn\n",
    "import matplotlib.pyplot as plt\n",
    "\n",
    "import warnings\n",
    "warnings.filterwarnings('ignore')"
   ]
  },
  {
   "cell_type": "markdown",
   "metadata": {},
   "source": [
    "Сохраним данные по каждому региону в отдельные переменные:\n",
    "* `df_0`\n",
    "* `df_1`\n",
    "* `df_2`"
   ]
  },
  {
   "cell_type": "code",
   "execution_count": 2,
   "metadata": {},
   "outputs": [
    {
     "data": {
      "text/html": [
       "<div>\n",
       "<style scoped>\n",
       "    .dataframe tbody tr th:only-of-type {\n",
       "        vertical-align: middle;\n",
       "    }\n",
       "\n",
       "    .dataframe tbody tr th {\n",
       "        vertical-align: top;\n",
       "    }\n",
       "\n",
       "    .dataframe thead th {\n",
       "        text-align: right;\n",
       "    }\n",
       "</style>\n",
       "<table border=\"1\" class=\"dataframe\">\n",
       "  <thead>\n",
       "    <tr style=\"text-align: right;\">\n",
       "      <th></th>\n",
       "      <th>id</th>\n",
       "      <th>f0</th>\n",
       "      <th>f1</th>\n",
       "      <th>f2</th>\n",
       "      <th>product</th>\n",
       "    </tr>\n",
       "  </thead>\n",
       "  <tbody>\n",
       "    <tr>\n",
       "      <th>0</th>\n",
       "      <td>txEyH</td>\n",
       "      <td>0.705745</td>\n",
       "      <td>-0.497823</td>\n",
       "      <td>1.221170</td>\n",
       "      <td>105.280062</td>\n",
       "    </tr>\n",
       "    <tr>\n",
       "      <th>1</th>\n",
       "      <td>2acmU</td>\n",
       "      <td>1.334711</td>\n",
       "      <td>-0.340164</td>\n",
       "      <td>4.365080</td>\n",
       "      <td>73.037750</td>\n",
       "    </tr>\n",
       "    <tr>\n",
       "      <th>2</th>\n",
       "      <td>409Wp</td>\n",
       "      <td>1.022732</td>\n",
       "      <td>0.151990</td>\n",
       "      <td>1.419926</td>\n",
       "      <td>85.265647</td>\n",
       "    </tr>\n",
       "    <tr>\n",
       "      <th>3</th>\n",
       "      <td>iJLyR</td>\n",
       "      <td>-0.032172</td>\n",
       "      <td>0.139033</td>\n",
       "      <td>2.978566</td>\n",
       "      <td>168.620776</td>\n",
       "    </tr>\n",
       "    <tr>\n",
       "      <th>4</th>\n",
       "      <td>Xdl7t</td>\n",
       "      <td>1.988431</td>\n",
       "      <td>0.155413</td>\n",
       "      <td>4.751769</td>\n",
       "      <td>154.036647</td>\n",
       "    </tr>\n",
       "    <tr>\n",
       "      <th>...</th>\n",
       "      <td>...</td>\n",
       "      <td>...</td>\n",
       "      <td>...</td>\n",
       "      <td>...</td>\n",
       "      <td>...</td>\n",
       "    </tr>\n",
       "    <tr>\n",
       "      <th>99995</th>\n",
       "      <td>DLsed</td>\n",
       "      <td>0.971957</td>\n",
       "      <td>0.370953</td>\n",
       "      <td>6.075346</td>\n",
       "      <td>110.744026</td>\n",
       "    </tr>\n",
       "    <tr>\n",
       "      <th>99996</th>\n",
       "      <td>QKivN</td>\n",
       "      <td>1.392429</td>\n",
       "      <td>-0.382606</td>\n",
       "      <td>1.273912</td>\n",
       "      <td>122.346843</td>\n",
       "    </tr>\n",
       "    <tr>\n",
       "      <th>99997</th>\n",
       "      <td>3rnvd</td>\n",
       "      <td>1.029585</td>\n",
       "      <td>0.018787</td>\n",
       "      <td>-1.348308</td>\n",
       "      <td>64.375443</td>\n",
       "    </tr>\n",
       "    <tr>\n",
       "      <th>99998</th>\n",
       "      <td>7kl59</td>\n",
       "      <td>0.998163</td>\n",
       "      <td>-0.528582</td>\n",
       "      <td>1.583869</td>\n",
       "      <td>74.040764</td>\n",
       "    </tr>\n",
       "    <tr>\n",
       "      <th>99999</th>\n",
       "      <td>1CWhH</td>\n",
       "      <td>1.764754</td>\n",
       "      <td>-0.266417</td>\n",
       "      <td>5.722849</td>\n",
       "      <td>149.633246</td>\n",
       "    </tr>\n",
       "  </tbody>\n",
       "</table>\n",
       "<p>100000 rows × 5 columns</p>\n",
       "</div>"
      ],
      "text/plain": [
       "          id        f0        f1        f2     product\n",
       "0      txEyH  0.705745 -0.497823  1.221170  105.280062\n",
       "1      2acmU  1.334711 -0.340164  4.365080   73.037750\n",
       "2      409Wp  1.022732  0.151990  1.419926   85.265647\n",
       "3      iJLyR -0.032172  0.139033  2.978566  168.620776\n",
       "4      Xdl7t  1.988431  0.155413  4.751769  154.036647\n",
       "...      ...       ...       ...       ...         ...\n",
       "99995  DLsed  0.971957  0.370953  6.075346  110.744026\n",
       "99996  QKivN  1.392429 -0.382606  1.273912  122.346843\n",
       "99997  3rnvd  1.029585  0.018787 -1.348308   64.375443\n",
       "99998  7kl59  0.998163 -0.528582  1.583869   74.040764\n",
       "99999  1CWhH  1.764754 -0.266417  5.722849  149.633246\n",
       "\n",
       "[100000 rows x 5 columns]"
      ]
     },
     "execution_count": 2,
     "metadata": {},
     "output_type": "execute_result"
    }
   ],
   "source": [
    "df_0 = pd.read_csv('/datasets/geo_data_0.csv')\n",
    "df_0"
   ]
  },
  {
   "cell_type": "code",
   "execution_count": 3,
   "metadata": {},
   "outputs": [
    {
     "data": {
      "text/html": [
       "<div>\n",
       "<style scoped>\n",
       "    .dataframe tbody tr th:only-of-type {\n",
       "        vertical-align: middle;\n",
       "    }\n",
       "\n",
       "    .dataframe tbody tr th {\n",
       "        vertical-align: top;\n",
       "    }\n",
       "\n",
       "    .dataframe thead th {\n",
       "        text-align: right;\n",
       "    }\n",
       "</style>\n",
       "<table border=\"1\" class=\"dataframe\">\n",
       "  <thead>\n",
       "    <tr style=\"text-align: right;\">\n",
       "      <th></th>\n",
       "      <th>id</th>\n",
       "      <th>f0</th>\n",
       "      <th>f1</th>\n",
       "      <th>f2</th>\n",
       "      <th>product</th>\n",
       "    </tr>\n",
       "  </thead>\n",
       "  <tbody>\n",
       "    <tr>\n",
       "      <th>0</th>\n",
       "      <td>kBEdx</td>\n",
       "      <td>-15.001348</td>\n",
       "      <td>-8.276000</td>\n",
       "      <td>-0.005876</td>\n",
       "      <td>3.179103</td>\n",
       "    </tr>\n",
       "    <tr>\n",
       "      <th>1</th>\n",
       "      <td>62mP7</td>\n",
       "      <td>14.272088</td>\n",
       "      <td>-3.475083</td>\n",
       "      <td>0.999183</td>\n",
       "      <td>26.953261</td>\n",
       "    </tr>\n",
       "    <tr>\n",
       "      <th>2</th>\n",
       "      <td>vyE1P</td>\n",
       "      <td>6.263187</td>\n",
       "      <td>-5.948386</td>\n",
       "      <td>5.001160</td>\n",
       "      <td>134.766305</td>\n",
       "    </tr>\n",
       "    <tr>\n",
       "      <th>3</th>\n",
       "      <td>KcrkZ</td>\n",
       "      <td>-13.081196</td>\n",
       "      <td>-11.506057</td>\n",
       "      <td>4.999415</td>\n",
       "      <td>137.945408</td>\n",
       "    </tr>\n",
       "    <tr>\n",
       "      <th>4</th>\n",
       "      <td>AHL4O</td>\n",
       "      <td>12.702195</td>\n",
       "      <td>-8.147433</td>\n",
       "      <td>5.004363</td>\n",
       "      <td>134.766305</td>\n",
       "    </tr>\n",
       "    <tr>\n",
       "      <th>...</th>\n",
       "      <td>...</td>\n",
       "      <td>...</td>\n",
       "      <td>...</td>\n",
       "      <td>...</td>\n",
       "      <td>...</td>\n",
       "    </tr>\n",
       "    <tr>\n",
       "      <th>99995</th>\n",
       "      <td>QywKC</td>\n",
       "      <td>9.535637</td>\n",
       "      <td>-6.878139</td>\n",
       "      <td>1.998296</td>\n",
       "      <td>53.906522</td>\n",
       "    </tr>\n",
       "    <tr>\n",
       "      <th>99996</th>\n",
       "      <td>ptvty</td>\n",
       "      <td>-10.160631</td>\n",
       "      <td>-12.558096</td>\n",
       "      <td>5.005581</td>\n",
       "      <td>137.945408</td>\n",
       "    </tr>\n",
       "    <tr>\n",
       "      <th>99997</th>\n",
       "      <td>09gWa</td>\n",
       "      <td>-7.378891</td>\n",
       "      <td>-3.084104</td>\n",
       "      <td>4.998651</td>\n",
       "      <td>137.945408</td>\n",
       "    </tr>\n",
       "    <tr>\n",
       "      <th>99998</th>\n",
       "      <td>rqwUm</td>\n",
       "      <td>0.665714</td>\n",
       "      <td>-6.152593</td>\n",
       "      <td>1.000146</td>\n",
       "      <td>30.132364</td>\n",
       "    </tr>\n",
       "    <tr>\n",
       "      <th>99999</th>\n",
       "      <td>relB0</td>\n",
       "      <td>-3.426139</td>\n",
       "      <td>-7.794274</td>\n",
       "      <td>-0.003299</td>\n",
       "      <td>3.179103</td>\n",
       "    </tr>\n",
       "  </tbody>\n",
       "</table>\n",
       "<p>100000 rows × 5 columns</p>\n",
       "</div>"
      ],
      "text/plain": [
       "          id         f0         f1        f2     product\n",
       "0      kBEdx -15.001348  -8.276000 -0.005876    3.179103\n",
       "1      62mP7  14.272088  -3.475083  0.999183   26.953261\n",
       "2      vyE1P   6.263187  -5.948386  5.001160  134.766305\n",
       "3      KcrkZ -13.081196 -11.506057  4.999415  137.945408\n",
       "4      AHL4O  12.702195  -8.147433  5.004363  134.766305\n",
       "...      ...        ...        ...       ...         ...\n",
       "99995  QywKC   9.535637  -6.878139  1.998296   53.906522\n",
       "99996  ptvty -10.160631 -12.558096  5.005581  137.945408\n",
       "99997  09gWa  -7.378891  -3.084104  4.998651  137.945408\n",
       "99998  rqwUm   0.665714  -6.152593  1.000146   30.132364\n",
       "99999  relB0  -3.426139  -7.794274 -0.003299    3.179103\n",
       "\n",
       "[100000 rows x 5 columns]"
      ]
     },
     "execution_count": 3,
     "metadata": {},
     "output_type": "execute_result"
    }
   ],
   "source": [
    "df_1 = pd.read_csv('/datasets/geo_data_1.csv')\n",
    "df_1"
   ]
  },
  {
   "cell_type": "code",
   "execution_count": 4,
   "metadata": {
    "scrolled": false
   },
   "outputs": [
    {
     "data": {
      "text/html": [
       "<div>\n",
       "<style scoped>\n",
       "    .dataframe tbody tr th:only-of-type {\n",
       "        vertical-align: middle;\n",
       "    }\n",
       "\n",
       "    .dataframe tbody tr th {\n",
       "        vertical-align: top;\n",
       "    }\n",
       "\n",
       "    .dataframe thead th {\n",
       "        text-align: right;\n",
       "    }\n",
       "</style>\n",
       "<table border=\"1\" class=\"dataframe\">\n",
       "  <thead>\n",
       "    <tr style=\"text-align: right;\">\n",
       "      <th></th>\n",
       "      <th>id</th>\n",
       "      <th>f0</th>\n",
       "      <th>f1</th>\n",
       "      <th>f2</th>\n",
       "      <th>product</th>\n",
       "    </tr>\n",
       "  </thead>\n",
       "  <tbody>\n",
       "    <tr>\n",
       "      <th>0</th>\n",
       "      <td>fwXo0</td>\n",
       "      <td>-1.146987</td>\n",
       "      <td>0.963328</td>\n",
       "      <td>-0.828965</td>\n",
       "      <td>27.758673</td>\n",
       "    </tr>\n",
       "    <tr>\n",
       "      <th>1</th>\n",
       "      <td>WJtFt</td>\n",
       "      <td>0.262778</td>\n",
       "      <td>0.269839</td>\n",
       "      <td>-2.530187</td>\n",
       "      <td>56.069697</td>\n",
       "    </tr>\n",
       "    <tr>\n",
       "      <th>2</th>\n",
       "      <td>ovLUW</td>\n",
       "      <td>0.194587</td>\n",
       "      <td>0.289035</td>\n",
       "      <td>-5.586433</td>\n",
       "      <td>62.871910</td>\n",
       "    </tr>\n",
       "    <tr>\n",
       "      <th>3</th>\n",
       "      <td>q6cA6</td>\n",
       "      <td>2.236060</td>\n",
       "      <td>-0.553760</td>\n",
       "      <td>0.930038</td>\n",
       "      <td>114.572842</td>\n",
       "    </tr>\n",
       "    <tr>\n",
       "      <th>4</th>\n",
       "      <td>WPMUX</td>\n",
       "      <td>-0.515993</td>\n",
       "      <td>1.716266</td>\n",
       "      <td>5.899011</td>\n",
       "      <td>149.600746</td>\n",
       "    </tr>\n",
       "    <tr>\n",
       "      <th>...</th>\n",
       "      <td>...</td>\n",
       "      <td>...</td>\n",
       "      <td>...</td>\n",
       "      <td>...</td>\n",
       "      <td>...</td>\n",
       "    </tr>\n",
       "    <tr>\n",
       "      <th>99995</th>\n",
       "      <td>4GxBu</td>\n",
       "      <td>-1.777037</td>\n",
       "      <td>1.125220</td>\n",
       "      <td>6.263374</td>\n",
       "      <td>172.327046</td>\n",
       "    </tr>\n",
       "    <tr>\n",
       "      <th>99996</th>\n",
       "      <td>YKFjq</td>\n",
       "      <td>-1.261523</td>\n",
       "      <td>-0.894828</td>\n",
       "      <td>2.524545</td>\n",
       "      <td>138.748846</td>\n",
       "    </tr>\n",
       "    <tr>\n",
       "      <th>99997</th>\n",
       "      <td>tKPY3</td>\n",
       "      <td>-1.199934</td>\n",
       "      <td>-2.957637</td>\n",
       "      <td>5.219411</td>\n",
       "      <td>157.080080</td>\n",
       "    </tr>\n",
       "    <tr>\n",
       "      <th>99998</th>\n",
       "      <td>nmxp2</td>\n",
       "      <td>-2.419896</td>\n",
       "      <td>2.417221</td>\n",
       "      <td>-5.548444</td>\n",
       "      <td>51.795253</td>\n",
       "    </tr>\n",
       "    <tr>\n",
       "      <th>99999</th>\n",
       "      <td>V9kWn</td>\n",
       "      <td>-2.551421</td>\n",
       "      <td>-2.025625</td>\n",
       "      <td>6.090891</td>\n",
       "      <td>102.775767</td>\n",
       "    </tr>\n",
       "  </tbody>\n",
       "</table>\n",
       "<p>100000 rows × 5 columns</p>\n",
       "</div>"
      ],
      "text/plain": [
       "          id        f0        f1        f2     product\n",
       "0      fwXo0 -1.146987  0.963328 -0.828965   27.758673\n",
       "1      WJtFt  0.262778  0.269839 -2.530187   56.069697\n",
       "2      ovLUW  0.194587  0.289035 -5.586433   62.871910\n",
       "3      q6cA6  2.236060 -0.553760  0.930038  114.572842\n",
       "4      WPMUX -0.515993  1.716266  5.899011  149.600746\n",
       "...      ...       ...       ...       ...         ...\n",
       "99995  4GxBu -1.777037  1.125220  6.263374  172.327046\n",
       "99996  YKFjq -1.261523 -0.894828  2.524545  138.748846\n",
       "99997  tKPY3 -1.199934 -2.957637  5.219411  157.080080\n",
       "99998  nmxp2 -2.419896  2.417221 -5.548444   51.795253\n",
       "99999  V9kWn -2.551421 -2.025625  6.090891  102.775767\n",
       "\n",
       "[100000 rows x 5 columns]"
      ]
     },
     "execution_count": 4,
     "metadata": {},
     "output_type": "execute_result"
    }
   ],
   "source": [
    "df_2 = pd.read_csv('/datasets/geo_data_2.csv')\n",
    "df_2"
   ]
  },
  {
   "cell_type": "markdown",
   "metadata": {},
   "source": [
    "Посмотрим общую информацию о данных и описательную статистику по столбцам каждого датафрейма."
   ]
  },
  {
   "cell_type": "code",
   "execution_count": 5,
   "metadata": {
    "scrolled": true
   },
   "outputs": [
    {
     "name": "stdout",
     "output_type": "stream",
     "text": [
      "<class 'pandas.core.frame.DataFrame'>\n",
      "RangeIndex: 100000 entries, 0 to 99999\n",
      "Data columns (total 5 columns):\n",
      " #   Column   Non-Null Count   Dtype  \n",
      "---  ------   --------------   -----  \n",
      " 0   id       100000 non-null  object \n",
      " 1   f0       100000 non-null  float64\n",
      " 2   f1       100000 non-null  float64\n",
      " 3   f2       100000 non-null  float64\n",
      " 4   product  100000 non-null  float64\n",
      "dtypes: float64(4), object(1)\n",
      "memory usage: 3.8+ MB\n"
     ]
    }
   ],
   "source": [
    "df_0.info()"
   ]
  },
  {
   "cell_type": "code",
   "execution_count": 6,
   "metadata": {
    "scrolled": true
   },
   "outputs": [
    {
     "data": {
      "text/html": [
       "<div>\n",
       "<style scoped>\n",
       "    .dataframe tbody tr th:only-of-type {\n",
       "        vertical-align: middle;\n",
       "    }\n",
       "\n",
       "    .dataframe tbody tr th {\n",
       "        vertical-align: top;\n",
       "    }\n",
       "\n",
       "    .dataframe thead th {\n",
       "        text-align: right;\n",
       "    }\n",
       "</style>\n",
       "<table border=\"1\" class=\"dataframe\">\n",
       "  <thead>\n",
       "    <tr style=\"text-align: right;\">\n",
       "      <th></th>\n",
       "      <th>f0</th>\n",
       "      <th>f1</th>\n",
       "      <th>f2</th>\n",
       "      <th>product</th>\n",
       "    </tr>\n",
       "  </thead>\n",
       "  <tbody>\n",
       "    <tr>\n",
       "      <th>count</th>\n",
       "      <td>100000.000000</td>\n",
       "      <td>100000.000000</td>\n",
       "      <td>100000.000000</td>\n",
       "      <td>100000.000000</td>\n",
       "    </tr>\n",
       "    <tr>\n",
       "      <th>mean</th>\n",
       "      <td>0.500419</td>\n",
       "      <td>0.250143</td>\n",
       "      <td>2.502647</td>\n",
       "      <td>92.500000</td>\n",
       "    </tr>\n",
       "    <tr>\n",
       "      <th>std</th>\n",
       "      <td>0.871832</td>\n",
       "      <td>0.504433</td>\n",
       "      <td>3.248248</td>\n",
       "      <td>44.288691</td>\n",
       "    </tr>\n",
       "    <tr>\n",
       "      <th>min</th>\n",
       "      <td>-1.408605</td>\n",
       "      <td>-0.848218</td>\n",
       "      <td>-12.088328</td>\n",
       "      <td>0.000000</td>\n",
       "    </tr>\n",
       "    <tr>\n",
       "      <th>25%</th>\n",
       "      <td>-0.072580</td>\n",
       "      <td>-0.200881</td>\n",
       "      <td>0.287748</td>\n",
       "      <td>56.497507</td>\n",
       "    </tr>\n",
       "    <tr>\n",
       "      <th>50%</th>\n",
       "      <td>0.502360</td>\n",
       "      <td>0.250252</td>\n",
       "      <td>2.515969</td>\n",
       "      <td>91.849972</td>\n",
       "    </tr>\n",
       "    <tr>\n",
       "      <th>75%</th>\n",
       "      <td>1.073581</td>\n",
       "      <td>0.700646</td>\n",
       "      <td>4.715088</td>\n",
       "      <td>128.564089</td>\n",
       "    </tr>\n",
       "    <tr>\n",
       "      <th>max</th>\n",
       "      <td>2.362331</td>\n",
       "      <td>1.343769</td>\n",
       "      <td>16.003790</td>\n",
       "      <td>185.364347</td>\n",
       "    </tr>\n",
       "  </tbody>\n",
       "</table>\n",
       "</div>"
      ],
      "text/plain": [
       "                  f0             f1             f2        product\n",
       "count  100000.000000  100000.000000  100000.000000  100000.000000\n",
       "mean        0.500419       0.250143       2.502647      92.500000\n",
       "std         0.871832       0.504433       3.248248      44.288691\n",
       "min        -1.408605      -0.848218     -12.088328       0.000000\n",
       "25%        -0.072580      -0.200881       0.287748      56.497507\n",
       "50%         0.502360       0.250252       2.515969      91.849972\n",
       "75%         1.073581       0.700646       4.715088     128.564089\n",
       "max         2.362331       1.343769      16.003790     185.364347"
      ]
     },
     "execution_count": 6,
     "metadata": {},
     "output_type": "execute_result"
    }
   ],
   "source": [
    "df_0.describe()"
   ]
  },
  {
   "cell_type": "code",
   "execution_count": 7,
   "metadata": {
    "scrolled": false
   },
   "outputs": [
    {
     "name": "stdout",
     "output_type": "stream",
     "text": [
      "<class 'pandas.core.frame.DataFrame'>\n",
      "RangeIndex: 100000 entries, 0 to 99999\n",
      "Data columns (total 5 columns):\n",
      " #   Column   Non-Null Count   Dtype  \n",
      "---  ------   --------------   -----  \n",
      " 0   id       100000 non-null  object \n",
      " 1   f0       100000 non-null  float64\n",
      " 2   f1       100000 non-null  float64\n",
      " 3   f2       100000 non-null  float64\n",
      " 4   product  100000 non-null  float64\n",
      "dtypes: float64(4), object(1)\n",
      "memory usage: 3.8+ MB\n"
     ]
    }
   ],
   "source": [
    "df_1.info()"
   ]
  },
  {
   "cell_type": "code",
   "execution_count": 8,
   "metadata": {
    "scrolled": true
   },
   "outputs": [
    {
     "data": {
      "text/html": [
       "<div>\n",
       "<style scoped>\n",
       "    .dataframe tbody tr th:only-of-type {\n",
       "        vertical-align: middle;\n",
       "    }\n",
       "\n",
       "    .dataframe tbody tr th {\n",
       "        vertical-align: top;\n",
       "    }\n",
       "\n",
       "    .dataframe thead th {\n",
       "        text-align: right;\n",
       "    }\n",
       "</style>\n",
       "<table border=\"1\" class=\"dataframe\">\n",
       "  <thead>\n",
       "    <tr style=\"text-align: right;\">\n",
       "      <th></th>\n",
       "      <th>f0</th>\n",
       "      <th>f1</th>\n",
       "      <th>f2</th>\n",
       "      <th>product</th>\n",
       "    </tr>\n",
       "  </thead>\n",
       "  <tbody>\n",
       "    <tr>\n",
       "      <th>count</th>\n",
       "      <td>100000.000000</td>\n",
       "      <td>100000.000000</td>\n",
       "      <td>100000.000000</td>\n",
       "      <td>100000.000000</td>\n",
       "    </tr>\n",
       "    <tr>\n",
       "      <th>mean</th>\n",
       "      <td>1.141296</td>\n",
       "      <td>-4.796579</td>\n",
       "      <td>2.494541</td>\n",
       "      <td>68.825000</td>\n",
       "    </tr>\n",
       "    <tr>\n",
       "      <th>std</th>\n",
       "      <td>8.965932</td>\n",
       "      <td>5.119872</td>\n",
       "      <td>1.703572</td>\n",
       "      <td>45.944423</td>\n",
       "    </tr>\n",
       "    <tr>\n",
       "      <th>min</th>\n",
       "      <td>-31.609576</td>\n",
       "      <td>-26.358598</td>\n",
       "      <td>-0.018144</td>\n",
       "      <td>0.000000</td>\n",
       "    </tr>\n",
       "    <tr>\n",
       "      <th>25%</th>\n",
       "      <td>-6.298551</td>\n",
       "      <td>-8.267985</td>\n",
       "      <td>1.000021</td>\n",
       "      <td>26.953261</td>\n",
       "    </tr>\n",
       "    <tr>\n",
       "      <th>50%</th>\n",
       "      <td>1.153055</td>\n",
       "      <td>-4.813172</td>\n",
       "      <td>2.011479</td>\n",
       "      <td>57.085625</td>\n",
       "    </tr>\n",
       "    <tr>\n",
       "      <th>75%</th>\n",
       "      <td>8.621015</td>\n",
       "      <td>-1.332816</td>\n",
       "      <td>3.999904</td>\n",
       "      <td>107.813044</td>\n",
       "    </tr>\n",
       "    <tr>\n",
       "      <th>max</th>\n",
       "      <td>29.421755</td>\n",
       "      <td>18.734063</td>\n",
       "      <td>5.019721</td>\n",
       "      <td>137.945408</td>\n",
       "    </tr>\n",
       "  </tbody>\n",
       "</table>\n",
       "</div>"
      ],
      "text/plain": [
       "                  f0             f1             f2        product\n",
       "count  100000.000000  100000.000000  100000.000000  100000.000000\n",
       "mean        1.141296      -4.796579       2.494541      68.825000\n",
       "std         8.965932       5.119872       1.703572      45.944423\n",
       "min       -31.609576     -26.358598      -0.018144       0.000000\n",
       "25%        -6.298551      -8.267985       1.000021      26.953261\n",
       "50%         1.153055      -4.813172       2.011479      57.085625\n",
       "75%         8.621015      -1.332816       3.999904     107.813044\n",
       "max        29.421755      18.734063       5.019721     137.945408"
      ]
     },
     "execution_count": 8,
     "metadata": {},
     "output_type": "execute_result"
    }
   ],
   "source": [
    "df_1.describe()"
   ]
  },
  {
   "cell_type": "code",
   "execution_count": 9,
   "metadata": {
    "scrolled": true
   },
   "outputs": [
    {
     "name": "stdout",
     "output_type": "stream",
     "text": [
      "<class 'pandas.core.frame.DataFrame'>\n",
      "RangeIndex: 100000 entries, 0 to 99999\n",
      "Data columns (total 5 columns):\n",
      " #   Column   Non-Null Count   Dtype  \n",
      "---  ------   --------------   -----  \n",
      " 0   id       100000 non-null  object \n",
      " 1   f0       100000 non-null  float64\n",
      " 2   f1       100000 non-null  float64\n",
      " 3   f2       100000 non-null  float64\n",
      " 4   product  100000 non-null  float64\n",
      "dtypes: float64(4), object(1)\n",
      "memory usage: 3.8+ MB\n"
     ]
    }
   ],
   "source": [
    "df_2.info()"
   ]
  },
  {
   "cell_type": "code",
   "execution_count": 10,
   "metadata": {
    "scrolled": true
   },
   "outputs": [
    {
     "data": {
      "text/html": [
       "<div>\n",
       "<style scoped>\n",
       "    .dataframe tbody tr th:only-of-type {\n",
       "        vertical-align: middle;\n",
       "    }\n",
       "\n",
       "    .dataframe tbody tr th {\n",
       "        vertical-align: top;\n",
       "    }\n",
       "\n",
       "    .dataframe thead th {\n",
       "        text-align: right;\n",
       "    }\n",
       "</style>\n",
       "<table border=\"1\" class=\"dataframe\">\n",
       "  <thead>\n",
       "    <tr style=\"text-align: right;\">\n",
       "      <th></th>\n",
       "      <th>f0</th>\n",
       "      <th>f1</th>\n",
       "      <th>f2</th>\n",
       "      <th>product</th>\n",
       "    </tr>\n",
       "  </thead>\n",
       "  <tbody>\n",
       "    <tr>\n",
       "      <th>count</th>\n",
       "      <td>100000.000000</td>\n",
       "      <td>100000.000000</td>\n",
       "      <td>100000.000000</td>\n",
       "      <td>100000.000000</td>\n",
       "    </tr>\n",
       "    <tr>\n",
       "      <th>mean</th>\n",
       "      <td>0.002023</td>\n",
       "      <td>-0.002081</td>\n",
       "      <td>2.495128</td>\n",
       "      <td>95.000000</td>\n",
       "    </tr>\n",
       "    <tr>\n",
       "      <th>std</th>\n",
       "      <td>1.732045</td>\n",
       "      <td>1.730417</td>\n",
       "      <td>3.473445</td>\n",
       "      <td>44.749921</td>\n",
       "    </tr>\n",
       "    <tr>\n",
       "      <th>min</th>\n",
       "      <td>-8.760004</td>\n",
       "      <td>-7.084020</td>\n",
       "      <td>-11.970335</td>\n",
       "      <td>0.000000</td>\n",
       "    </tr>\n",
       "    <tr>\n",
       "      <th>25%</th>\n",
       "      <td>-1.162288</td>\n",
       "      <td>-1.174820</td>\n",
       "      <td>0.130359</td>\n",
       "      <td>59.450441</td>\n",
       "    </tr>\n",
       "    <tr>\n",
       "      <th>50%</th>\n",
       "      <td>0.009424</td>\n",
       "      <td>-0.009482</td>\n",
       "      <td>2.484236</td>\n",
       "      <td>94.925613</td>\n",
       "    </tr>\n",
       "    <tr>\n",
       "      <th>75%</th>\n",
       "      <td>1.158535</td>\n",
       "      <td>1.163678</td>\n",
       "      <td>4.858794</td>\n",
       "      <td>130.595027</td>\n",
       "    </tr>\n",
       "    <tr>\n",
       "      <th>max</th>\n",
       "      <td>7.238262</td>\n",
       "      <td>7.844801</td>\n",
       "      <td>16.739402</td>\n",
       "      <td>190.029838</td>\n",
       "    </tr>\n",
       "  </tbody>\n",
       "</table>\n",
       "</div>"
      ],
      "text/plain": [
       "                  f0             f1             f2        product\n",
       "count  100000.000000  100000.000000  100000.000000  100000.000000\n",
       "mean        0.002023      -0.002081       2.495128      95.000000\n",
       "std         1.732045       1.730417       3.473445      44.749921\n",
       "min        -8.760004      -7.084020     -11.970335       0.000000\n",
       "25%        -1.162288      -1.174820       0.130359      59.450441\n",
       "50%         0.009424      -0.009482       2.484236      94.925613\n",
       "75%         1.158535       1.163678       4.858794     130.595027\n",
       "max         7.238262       7.844801      16.739402     190.029838"
      ]
     },
     "execution_count": 10,
     "metadata": {},
     "output_type": "execute_result"
    }
   ],
   "source": [
    "df_2.describe()"
   ]
  },
  {
   "cell_type": "markdown",
   "metadata": {},
   "source": [
    "В каждой таблице с данными геологоразведки трёх регионов по 100 000 строк и 4 столбца. Пропущенные значения отсутствуют. Удалим из каждой таблицы столбец \"Уникальный идентификатор скважины\", поскольку он не имеет существенного значения для нашего исследования и для модели."
   ]
  },
  {
   "cell_type": "code",
   "execution_count": 11,
   "metadata": {},
   "outputs": [],
   "source": [
    "df_0 = df_0.drop(['id'], axis=1)\n",
    "df_1 = df_1.drop(['id'], axis=1)\n",
    "df_2 = df_2.drop(['id'], axis=1)"
   ]
  },
  {
   "cell_type": "markdown",
   "metadata": {},
   "source": [
    "### Дубликаты\n",
    "\n",
    "Проверим датасеты на наличие дубликатов."
   ]
  },
  {
   "cell_type": "code",
   "execution_count": 12,
   "metadata": {},
   "outputs": [
    {
     "data": {
      "text/plain": [
       "0"
      ]
     },
     "execution_count": 12,
     "metadata": {},
     "output_type": "execute_result"
    }
   ],
   "source": [
    "df_0.duplicated().sum()"
   ]
  },
  {
   "cell_type": "code",
   "execution_count": 13,
   "metadata": {},
   "outputs": [
    {
     "data": {
      "text/plain": [
       "0"
      ]
     },
     "execution_count": 13,
     "metadata": {},
     "output_type": "execute_result"
    }
   ],
   "source": [
    "df_1.duplicated().sum()"
   ]
  },
  {
   "cell_type": "code",
   "execution_count": 14,
   "metadata": {
    "scrolled": true
   },
   "outputs": [
    {
     "data": {
      "text/plain": [
       "0"
      ]
     },
     "execution_count": 14,
     "metadata": {},
     "output_type": "execute_result"
    }
   ],
   "source": [
    "df_2.duplicated().sum()"
   ]
  },
  {
   "cell_type": "markdown",
   "metadata": {},
   "source": [
    "Дубликаты не обнаружены."
   ]
  },
  {
   "cell_type": "markdown",
   "metadata": {},
   "source": [
    "### Мультиколлинеарность признаков"
   ]
  },
  {
   "cell_type": "markdown",
   "metadata": {},
   "source": [
    "Проведем корреляционный анализ факторов, для этого посчитаем коэффициент корреляции Пирсона."
   ]
  },
  {
   "cell_type": "code",
   "execution_count": 15,
   "metadata": {
    "scrolled": false
   },
   "outputs": [
    {
     "data": {
      "text/html": [
       "<div>\n",
       "<style scoped>\n",
       "    .dataframe tbody tr th:only-of-type {\n",
       "        vertical-align: middle;\n",
       "    }\n",
       "\n",
       "    .dataframe tbody tr th {\n",
       "        vertical-align: top;\n",
       "    }\n",
       "\n",
       "    .dataframe thead th {\n",
       "        text-align: right;\n",
       "    }\n",
       "</style>\n",
       "<table border=\"1\" class=\"dataframe\">\n",
       "  <thead>\n",
       "    <tr style=\"text-align: right;\">\n",
       "      <th></th>\n",
       "      <th>f0</th>\n",
       "      <th>f1</th>\n",
       "      <th>f2</th>\n",
       "      <th>product</th>\n",
       "    </tr>\n",
       "  </thead>\n",
       "  <tbody>\n",
       "    <tr>\n",
       "      <th>f0</th>\n",
       "      <td>1.00</td>\n",
       "      <td>-0.44</td>\n",
       "      <td>-0.00</td>\n",
       "      <td>0.14</td>\n",
       "    </tr>\n",
       "    <tr>\n",
       "      <th>f1</th>\n",
       "      <td>-0.44</td>\n",
       "      <td>1.00</td>\n",
       "      <td>0.00</td>\n",
       "      <td>-0.19</td>\n",
       "    </tr>\n",
       "    <tr>\n",
       "      <th>f2</th>\n",
       "      <td>-0.00</td>\n",
       "      <td>0.00</td>\n",
       "      <td>1.00</td>\n",
       "      <td>0.48</td>\n",
       "    </tr>\n",
       "    <tr>\n",
       "      <th>product</th>\n",
       "      <td>0.14</td>\n",
       "      <td>-0.19</td>\n",
       "      <td>0.48</td>\n",
       "      <td>1.00</td>\n",
       "    </tr>\n",
       "  </tbody>\n",
       "</table>\n",
       "</div>"
      ],
      "text/plain": [
       "           f0    f1    f2  product\n",
       "f0       1.00 -0.44 -0.00     0.14\n",
       "f1      -0.44  1.00  0.00    -0.19\n",
       "f2      -0.00  0.00  1.00     0.48\n",
       "product  0.14 -0.19  0.48     1.00"
      ]
     },
     "execution_count": 15,
     "metadata": {},
     "output_type": "execute_result"
    }
   ],
   "source": [
    "corr_matrix_0 = df_0.corr().round(2)\n",
    "corr_matrix_0"
   ]
  },
  {
   "cell_type": "code",
   "execution_count": 16,
   "metadata": {},
   "outputs": [
    {
     "data": {
      "text/html": [
       "<div>\n",
       "<style scoped>\n",
       "    .dataframe tbody tr th:only-of-type {\n",
       "        vertical-align: middle;\n",
       "    }\n",
       "\n",
       "    .dataframe tbody tr th {\n",
       "        vertical-align: top;\n",
       "    }\n",
       "\n",
       "    .dataframe thead th {\n",
       "        text-align: right;\n",
       "    }\n",
       "</style>\n",
       "<table border=\"1\" class=\"dataframe\">\n",
       "  <thead>\n",
       "    <tr style=\"text-align: right;\">\n",
       "      <th></th>\n",
       "      <th>f0</th>\n",
       "      <th>f1</th>\n",
       "      <th>f2</th>\n",
       "      <th>product</th>\n",
       "    </tr>\n",
       "  </thead>\n",
       "  <tbody>\n",
       "    <tr>\n",
       "      <th>f0</th>\n",
       "      <td>1.00</td>\n",
       "      <td>0.18</td>\n",
       "      <td>-0.0</td>\n",
       "      <td>-0.03</td>\n",
       "    </tr>\n",
       "    <tr>\n",
       "      <th>f1</th>\n",
       "      <td>0.18</td>\n",
       "      <td>1.00</td>\n",
       "      <td>-0.0</td>\n",
       "      <td>-0.01</td>\n",
       "    </tr>\n",
       "    <tr>\n",
       "      <th>f2</th>\n",
       "      <td>-0.00</td>\n",
       "      <td>-0.00</td>\n",
       "      <td>1.0</td>\n",
       "      <td>1.00</td>\n",
       "    </tr>\n",
       "    <tr>\n",
       "      <th>product</th>\n",
       "      <td>-0.03</td>\n",
       "      <td>-0.01</td>\n",
       "      <td>1.0</td>\n",
       "      <td>1.00</td>\n",
       "    </tr>\n",
       "  </tbody>\n",
       "</table>\n",
       "</div>"
      ],
      "text/plain": [
       "           f0    f1   f2  product\n",
       "f0       1.00  0.18 -0.0    -0.03\n",
       "f1       0.18  1.00 -0.0    -0.01\n",
       "f2      -0.00 -0.00  1.0     1.00\n",
       "product -0.03 -0.01  1.0     1.00"
      ]
     },
     "execution_count": 16,
     "metadata": {},
     "output_type": "execute_result"
    }
   ],
   "source": [
    "corr_matrix_1 = df_1.corr().round(2)\n",
    "corr_matrix_1"
   ]
  },
  {
   "cell_type": "code",
   "execution_count": 17,
   "metadata": {},
   "outputs": [
    {
     "data": {
      "text/html": [
       "<div>\n",
       "<style scoped>\n",
       "    .dataframe tbody tr th:only-of-type {\n",
       "        vertical-align: middle;\n",
       "    }\n",
       "\n",
       "    .dataframe tbody tr th {\n",
       "        vertical-align: top;\n",
       "    }\n",
       "\n",
       "    .dataframe thead th {\n",
       "        text-align: right;\n",
       "    }\n",
       "</style>\n",
       "<table border=\"1\" class=\"dataframe\">\n",
       "  <thead>\n",
       "    <tr style=\"text-align: right;\">\n",
       "      <th></th>\n",
       "      <th>f0</th>\n",
       "      <th>f1</th>\n",
       "      <th>f2</th>\n",
       "      <th>product</th>\n",
       "    </tr>\n",
       "  </thead>\n",
       "  <tbody>\n",
       "    <tr>\n",
       "      <th>f0</th>\n",
       "      <td>1.0</td>\n",
       "      <td>0.0</td>\n",
       "      <td>-0.00</td>\n",
       "      <td>-0.00</td>\n",
       "    </tr>\n",
       "    <tr>\n",
       "      <th>f1</th>\n",
       "      <td>0.0</td>\n",
       "      <td>1.0</td>\n",
       "      <td>0.00</td>\n",
       "      <td>-0.00</td>\n",
       "    </tr>\n",
       "    <tr>\n",
       "      <th>f2</th>\n",
       "      <td>-0.0</td>\n",
       "      <td>0.0</td>\n",
       "      <td>1.00</td>\n",
       "      <td>0.45</td>\n",
       "    </tr>\n",
       "    <tr>\n",
       "      <th>product</th>\n",
       "      <td>-0.0</td>\n",
       "      <td>-0.0</td>\n",
       "      <td>0.45</td>\n",
       "      <td>1.00</td>\n",
       "    </tr>\n",
       "  </tbody>\n",
       "</table>\n",
       "</div>"
      ],
      "text/plain": [
       "          f0   f1    f2  product\n",
       "f0       1.0  0.0 -0.00    -0.00\n",
       "f1       0.0  1.0  0.00    -0.00\n",
       "f2      -0.0  0.0  1.00     0.45\n",
       "product -0.0 -0.0  0.45     1.00"
      ]
     },
     "execution_count": 17,
     "metadata": {},
     "output_type": "execute_result"
    }
   ],
   "source": [
    "corr_matrix_2 = df_2.corr().round(2)\n",
    "corr_matrix_2"
   ]
  },
  {
   "cell_type": "code",
   "execution_count": 18,
   "metadata": {
    "scrolled": false
   },
   "outputs": [
    {
     "data": {
      "image/png": "[encoded data removed]",
      "text/plain": [
       "<Figure size 1224x360 with 6 Axes>"
      ]
     },
     "metadata": {
      "needs_background": "light"
     },
     "output_type": "display_data"
    }
   ],
   "source": [
    "fig = plt.figure(figsize = (17, 5))\n",
    "fig.suptitle('Матрица корреляции признаков', fontsize=15, y=1)\n",
    "\n",
    "ax_1 = fig.add_subplot(1, 3, 1)\n",
    "ax_2 = fig.add_subplot(1, 3, 2)\n",
    "ax_3 = fig.add_subplot(1, 3, 3)\n",
    "\n",
    "ax_1.set(title = 'Регион 0')\n",
    "ax_2.set(title = 'Регион 1')\n",
    "ax_3.set(title = 'Регион 2')\n",
    "\n",
    "sbn.heatmap(corr_matrix_0, annot=True, cmap='Blues', ax=ax_1)\n",
    "sbn.heatmap(corr_matrix_1, annot=True, cmap='Blues', ax=ax_2)\n",
    "sbn.heatmap(corr_matrix_2, annot=True, cmap='Blues', ax=ax_3)\n",
    "\n",
    "plt.show()"
   ]
  },
  {
   "cell_type": "markdown",
   "metadata": {},
   "source": [
    "Наблюдаем:\n",
    "\n",
    "1. в нулевом регионе:\n",
    "    * среднюю отрицательную корреляцию между признаками `f0` и `f1`,\n",
    "    * среднюю положительную корреляцию между признаком `f2` и объёмом запасов в скважине.\n",
    "2. в первом регионе:\n",
    "    * прямую зависимость объёма запасов в скважине от признака `f2`,\n",
    "    * слабую положительную корреляцию между признаками `f0` и `f1`.\n",
    "3. во втором регионе:\n",
    "    * среднюю положительную корреляцию между признаком `f2` и объёмом запасов в скважине.\n",
    "    \n",
    "Поскольку сильной корреляции между признаками нет (только с целевым признаком), оставляем все признаки в работе."
   ]
  },
  {
   "cell_type": "markdown",
   "metadata": {},
   "source": [
    "### Объём запасов в скважине\n",
    "Посмотрим на объёмы запасов в скважине по каждому региону. Для этого построим гистограмму \"Объём запасов в скважине\" (тыс.баррелей)"
   ]
  },
  {
   "cell_type": "code",
   "execution_count": 19,
   "metadata": {
    "scrolled": false
   },
   "outputs": [
    {
     "data": {
      "image/png": "[encoded data removed]",
      "text/plain": [
       "<Figure size 1224x360 with 3 Axes>"
      ]
     },
     "metadata": {
      "needs_background": "light"
     },
     "output_type": "display_data"
    }
   ],
   "source": [
    "fig = plt.figure(figsize = (17, 5))\n",
    "fig.suptitle('Объём запасов в скважине, тыс.баррелей', fontsize=14, y=1)\n",
    "\n",
    "ax_1 = fig.add_subplot(1, 3, 1)\n",
    "ax_2 = fig.add_subplot(1, 3, 2)\n",
    "ax_3 = fig.add_subplot(1, 3, 3)\n",
    "\n",
    "ax_1.set(xlabel = 'Объём запасов в скважине, тыс.баррелей')\n",
    "ax_1.set(title = 'Регион 0')\n",
    "ax_2.set(xlabel = 'Объём запасов в скважине, тыс.баррелей')\n",
    "ax_2.set(title = 'Регион 1')\n",
    "ax_3.set(xlabel = 'Объём запасов в скважине, тыс.баррелей')\n",
    "ax_3.set(title = 'Регион 2')\n",
    "\n",
    "df_0['product'].plot(kind='hist', grid=True, bins=50, color=\"skyblue\", edgecolor=\"black\", fontsize=12, ax=ax_1)\n",
    "df_1['product'].plot(kind='hist', grid=True, bins=50, color=\"skyblue\", edgecolor=\"black\", fontsize=12, ax=ax_2)\n",
    "df_2['product'].plot(kind='hist', grid=True, bins=50, color=\"skyblue\", edgecolor=\"black\", fontsize=12, ax=ax_3)\n",
    "\n",
    "plt.show()"
   ]
  },
  {
   "cell_type": "markdown",
   "metadata": {},
   "source": [
    "Как мы видим на графиках, в нулевом и втором регионах распределение близко к нормальному. В первом регионе данные распределены очень своеобразно и с практически равными интервалами. Также заметим, что в первом регионе больше скважин с нулевым запасом, по сравнению с нулевым и первым регионами."
   ]
  },
  {
   "cell_type": "markdown",
   "metadata": {},
   "source": [
    "### Вывод"
   ]
  },
  {
   "cell_type": "markdown",
   "metadata": {},
   "source": [
    "В ходе подготовки данных мы удалили столбец с бесполезной информацией. Проверили данные на дубликаты и мультиколлинеарность факторов, оценили объёмы запасов в скважине в каждом регионе. Теперь данные готовы к дальнейшему анализу."
   ]
  },
  {
   "cell_type": "markdown",
   "metadata": {},
   "source": [
    "## Обучение и проверка модели"
   ]
  },
  {
   "cell_type": "markdown",
   "metadata": {},
   "source": [
    "### Разделение исходных данных на выборки\n",
    "Нам нужно построить модель для задачи регрессии. Для этого разделим исходные данные на выборки."
   ]
  },
  {
   "cell_type": "markdown",
   "metadata": {},
   "source": [
    "Для начала выделим в исходных данных:\n",
    "* **признаки**: f0, f1, f2\t \n",
    "* **целевой признак**: product"
   ]
  },
  {
   "cell_type": "code",
   "execution_count": 20,
   "metadata": {},
   "outputs": [],
   "source": [
    "features_0 = df_0.drop(['product'], axis=1)\n",
    "target_0 = df_0['product']"
   ]
  },
  {
   "cell_type": "code",
   "execution_count": 21,
   "metadata": {},
   "outputs": [],
   "source": [
    "features_1 = df_1.drop(['product'], axis=1)\n",
    "target_1 = df_1['product']"
   ]
  },
  {
   "cell_type": "code",
   "execution_count": 22,
   "metadata": {},
   "outputs": [],
   "source": [
    "features_2 = df_2.drop(['product'], axis=1)\n",
    "target_2 = df_2['product']"
   ]
  },
  {
   "cell_type": "markdown",
   "metadata": {},
   "source": [
    "Разделим данные на обучающую и валидационную выборки в соотношении 75:25."
   ]
  },
  {
   "cell_type": "code",
   "execution_count": 23,
   "metadata": {},
   "outputs": [
    {
     "name": "stdout",
     "output_type": "stream",
     "text": [
      "Размер обучающей выборки для нулевого региона (75000, 4)\n",
      "Размер валидационной выборки для нулевого региона (25000, 4)\n"
     ]
    }
   ],
   "source": [
    "df_train_0, df_valid_0 = train_test_split(df_0, test_size=0.25, random_state=12345)\n",
    "print('Размер обучающей выборки для нулевого региона', df_train_0.shape)\n",
    "print('Размер валидационной выборки для нулевого региона', df_valid_0.shape)"
   ]
  },
  {
   "cell_type": "code",
   "execution_count": 24,
   "metadata": {},
   "outputs": [
    {
     "name": "stdout",
     "output_type": "stream",
     "text": [
      "Размер обучающей выборки для первого региона (75000, 4)\n",
      "Размер валидационной выборки для первого региона (25000, 4)\n"
     ]
    }
   ],
   "source": [
    "df_train_1, df_valid_1 = train_test_split(df_1, test_size=0.25, random_state=12345)\n",
    "print('Размер обучающей выборки для первого региона', df_train_1.shape)\n",
    "print('Размер валидационной выборки для первого региона', df_valid_1.shape)"
   ]
  },
  {
   "cell_type": "code",
   "execution_count": 25,
   "metadata": {},
   "outputs": [
    {
     "name": "stdout",
     "output_type": "stream",
     "text": [
      "Размер обучающей выборки для второго региона (75000, 4)\n",
      "Размер валидационной выборки для второго региона (25000, 4)\n"
     ]
    }
   ],
   "source": [
    "df_train_2, df_valid_2 = train_test_split(df_2, test_size=0.25, random_state=12345)\n",
    "print('Размер обучающей выборки для второго региона', df_train_2.shape)\n",
    "print('Размер валидационной выборки для второго региона', df_valid_2.shape)"
   ]
  },
  {
   "cell_type": "markdown",
   "metadata": {},
   "source": [
    "Составим таблицы признаков и целевого признака для каждой выборки."
   ]
  },
  {
   "cell_type": "code",
   "execution_count": 26,
   "metadata": {},
   "outputs": [],
   "source": [
    "features_train_0 = df_train_0.drop(['product'], axis=1)\n",
    "target_train_0 = df_train_0['product']\n",
    "features_valid_0 = df_valid_0.drop(['product'], axis=1)\n",
    "target_valid_0 = df_valid_0['product']"
   ]
  },
  {
   "cell_type": "code",
   "execution_count": 27,
   "metadata": {},
   "outputs": [],
   "source": [
    "features_train_1 = df_train_1.drop(['product'], axis=1)\n",
    "target_train_1 = df_train_1['product']\n",
    "features_valid_1 = df_valid_1.drop(['product'], axis=1)\n",
    "target_valid_1 = df_valid_1['product']"
   ]
  },
  {
   "cell_type": "code",
   "execution_count": 28,
   "metadata": {},
   "outputs": [],
   "source": [
    "features_train_2 = df_train_2.drop(['product'], axis=1)\n",
    "target_train_2 = df_train_2['product']\n",
    "features_valid_2 = df_valid_2.drop(['product'], axis=1)\n",
    "target_valid_2 = df_valid_2['product']"
   ]
  },
  {
   "cell_type": "markdown",
   "metadata": {},
   "source": [
    "Мы разделили данные в каждом регионе по принципу 75/25:\n",
    "\n",
    "1. обучение проведем на данных `df_train_0`, `df_train_1`, `df_train_2`;\n",
    "2. проверку модели - на данных `df_valid_0`, `df_valid_1`, `df_valid_2`.\n",
    "\n",
    "Напишем функцию для построения модели линейной регрессии (по условию задачи необходимо использовать именно эту модель, поскольку остальные недостаточно предсказуемые). Оценивать качество модели будем метрикой RMSE - квадратный корень из средней квадратичной ошибки."
   ]
  },
  {
   "cell_type": "code",
   "execution_count": 29,
   "metadata": {},
   "outputs": [],
   "source": [
    "def linreg (features_train, features_valid, target_train, target_valid):\n",
    "    # инициализируем модель\n",
    "    model_linreg = LinearRegression()\n",
    "    # обучаем модель\n",
    "    model_linreg.fit(features_train, target_train)\n",
    "    # находим предсказания\n",
    "    predictions = model_linreg.predict(features_valid)\n",
    "    # находим средний запас предсказанного сырья\n",
    "    predict_mean = predictions.mean()\n",
    "    # находим значение MSE для линейной регрессии\n",
    "    mse = mean_squared_error(target_valid, predictions) \n",
    "    \n",
    "    print(f'Средний запас сырья по региону: {target_valid.mean():.3f} тыс.баррелей')\n",
    "    print(f'Средний запас предсказанного сырья по региону: {predict_mean:.3f} тыс.баррелей')\n",
    "    print(f'RMSE модели линейной регрессии: {mse ** 0.5:.3f} тыс.баррелей') \n",
    "    \n",
    "    return predictions  "
   ]
  },
  {
   "cell_type": "markdown",
   "metadata": {},
   "source": [
    "Сохраним предсказания на валидационной выборке в переменные `predictions_0`, `predictions_1`, `predictions_2`. Выведем на экран для каждого региона данные по среднему запасу сырья, среднему запасу предсказанного сырья и *RMSE* модели."
   ]
  },
  {
   "cell_type": "markdown",
   "metadata": {},
   "source": [
    "**Нулевой регион**"
   ]
  },
  {
   "cell_type": "code",
   "execution_count": 30,
   "metadata": {
    "scrolled": false
   },
   "outputs": [
    {
     "name": "stdout",
     "output_type": "stream",
     "text": [
      "Средний запас сырья по региону: 92.079 тыс.баррелей\n",
      "Средний запас предсказанного сырья по региону: 92.593 тыс.баррелей\n",
      "RMSE модели линейной регрессии: 37.579 тыс.баррелей\n"
     ]
    }
   ],
   "source": [
    "predictions_0 = linreg (features_train_0, features_valid_0, target_train_0, target_valid_0)"
   ]
  },
  {
   "cell_type": "markdown",
   "metadata": {},
   "source": [
    "**Первый регион**"
   ]
  },
  {
   "cell_type": "code",
   "execution_count": 31,
   "metadata": {
    "scrolled": false
   },
   "outputs": [
    {
     "name": "stdout",
     "output_type": "stream",
     "text": [
      "Средний запас сырья по региону: 68.723 тыс.баррелей\n",
      "Средний запас предсказанного сырья по региону: 68.729 тыс.баррелей\n",
      "RMSE модели линейной регрессии: 0.893 тыс.баррелей\n"
     ]
    }
   ],
   "source": [
    "predictions_1 = linreg (features_train_1, features_valid_1, target_train_1, target_valid_1)"
   ]
  },
  {
   "cell_type": "markdown",
   "metadata": {},
   "source": [
    "**Второй регион**"
   ]
  },
  {
   "cell_type": "code",
   "execution_count": 32,
   "metadata": {},
   "outputs": [
    {
     "name": "stdout",
     "output_type": "stream",
     "text": [
      "Средний запас сырья по региону: 94.884 тыс.баррелей\n",
      "Средний запас предсказанного сырья по региону: 94.965 тыс.баррелей\n",
      "RMSE модели линейной регрессии: 40.030 тыс.баррелей\n"
     ]
    }
   ],
   "source": [
    "predictions_2 = linreg (features_train_2, features_valid_2, target_train_2, target_valid_2)"
   ]
  },
  {
   "cell_type": "markdown",
   "metadata": {},
   "source": [
    "### Вывод"
   ]
  },
  {
   "cell_type": "markdown",
   "metadata": {},
   "source": [
    "По нулевому региону средний объём запасов предсказанного сырья почти совпадает с фактическим средним объёмом запасов сырья, модель ошибается почти на 38 тыс.баррелей.\n",
    "\n",
    "Для первого региона предсказания модели получились самые точные - модель ошибается на ~890 баррелей.\n",
    "\n",
    "Самая низкая точность модели на данных второго региона - ошибка в 40 тыс.баррелей."
   ]
  },
  {
   "cell_type": "markdown",
   "metadata": {},
   "source": [
    "## Подготовка к расчёту прибыли"
   ]
  },
  {
   "cell_type": "markdown",
   "metadata": {},
   "source": [
    "При разведке региона исследуют 500 точек (сохраним в переменную `total_points`), из которых с помощью машинного обучения выбирают  \n",
    "200 лучших для разработки (сохраним в переменную `best_points`).\n",
    "Бюджет на разработку скважин в регионе — 10 млрд рублей (сохраним  \n",
    "в переменную `budget`).\n",
    "При нынешних ценах один баррель сырья приносит 450 рублей дохода. Доход с каждой единицы продукта составляет  \n",
    "450 тыс. рублей (сохраним в переменную `income`), поскольку объём указан в тысячах баррелей."
   ]
  },
  {
   "cell_type": "code",
   "execution_count": 33,
   "metadata": {},
   "outputs": [],
   "source": [
    "TOTAL_POINTS = 500\n",
    "BEST_POINTS = 200\n",
    "BUDGET = 10000000000\n",
    "INCOME = 450000"
   ]
  },
  {
   "cell_type": "markdown",
   "metadata": {},
   "source": [
    "Рассчитаем достаточный объём сырья для безубыточной разработки новой скважины. Для этого сначала посчитаем необходимый бюджет для разработки одной скважины:"
   ]
  },
  {
   "cell_type": "code",
   "execution_count": 34,
   "metadata": {
    "scrolled": true
   },
   "outputs": [
    {
     "name": "stdout",
     "output_type": "stream",
     "text": [
      "Бюджет для разработки новой скважины составляет 50000000.0 руб.\n"
     ]
    }
   ],
   "source": [
    "one_point_budget = BUDGET/BEST_POINTS\n",
    "print('Бюджет для разработки новой скважины составляет', one_point_budget, 'руб.')"
   ]
  },
  {
   "cell_type": "markdown",
   "metadata": {},
   "source": [
    "Теперь разделим полученный бюджет, необходимый для разразобтки одной скважины, на доход с каждой единицы продукта."
   ]
  },
  {
   "cell_type": "code",
   "execution_count": 35,
   "metadata": {},
   "outputs": [
    {
     "name": "stdout",
     "output_type": "stream",
     "text": [
      "Минимальный объём сырья для безубыточной разработки новой скважины составляет 111.111 тыс.баррелей\n"
     ]
    }
   ],
   "source": [
    "min_product_quantity = one_point_budget/INCOME\n",
    "print(f'Минимальный объём сырья для безубыточной разработки новой скважины составляет {min_product_quantity:.3f} тыс.баррелей')"
   ]
  },
  {
   "cell_type": "markdown",
   "metadata": {},
   "source": [
    "Средние запасы во всех трёх регионах меньше необходимого минимального объёма сырья для безубыточной разработки новой скважины."
   ]
  },
  {
   "cell_type": "markdown",
   "metadata": {},
   "source": [
    "### Вывод\n",
    "\n",
    "На этапе подготовки к расчёту прибыли мы:\n",
    "* рассчитали необходимый бюджет для разработки одной скважины: 50 млн.руб.\n",
    "* посчитали, что для безубыточной разработки новой скважины, минимальный объём сырья составляет ~111 тыс. баррелей.\n",
    "* сравнили средние запасы сырья в каждом регионе с полученным минимальным объёмом. Получается, что для безубыточной разработки новой скважины средних запасов сырья в регионах не хватает, необходимо исследовать наиболее перспективные скважины."
   ]
  },
  {
   "cell_type": "markdown",
   "metadata": {},
   "source": [
    "## Расчёт прибыли и рисков "
   ]
  },
  {
   "cell_type": "markdown",
   "metadata": {},
   "source": [
    "### Функция для расчета прибыли по выбранным скважинам и предсказаниям модели\n",
    "\n",
    "Напишем функцию для расчёта прибыли по выбранным скважинам и предсказаниям модели:\n",
    "\n",
    "Выберем скважины с максимальными значениями предсказаний.  \n",
    "Просуммируем целевое значение объёма сырья, соответствующее этим предсказаниям.  \n",
    "Рассчитаем прибыль для полученного объёма сырья."
   ]
  },
  {
   "cell_type": "code",
   "execution_count": 36,
   "metadata": {
    "scrolled": true
   },
   "outputs": [],
   "source": [
    "target_valid_0 = target_valid_0.reset_index(drop=True)\n",
    "target_valid_1 = target_valid_1.reset_index(drop=True)\n",
    "target_valid_2 = target_valid_2.reset_index(drop=True)\n",
    "predictions_0 = pd.Series(predictions_0)\n",
    "predictions_1 = pd.Series(predictions_1)\n",
    "predictions_2 = pd.Series(predictions_2)"
   ]
  },
  {
   "cell_type": "code",
   "execution_count": 37,
   "metadata": {},
   "outputs": [],
   "source": [
    "def profit_calculation (target, predictions, count):\n",
    "    preds_sorted = predictions.sort_values(ascending=False)\n",
    "    selected = target[preds_sorted.index][:count]\n",
    "    return ((INCOME * selected.sum()) - BUDGET)/10**6"
   ]
  },
  {
   "cell_type": "code",
   "execution_count": 38,
   "metadata": {
    "scrolled": true
   },
   "outputs": [
    {
     "name": "stdout",
     "output_type": "stream",
     "text": [
      "Прибыль для полученного объёма сырья нулевого региона: 3320.83 млн.руб.\n"
     ]
    }
   ],
   "source": [
    "revenue_0 = profit_calculation (target_valid_0, predictions_0, BEST_POINTS)\n",
    "print('Прибыль для полученного объёма сырья нулевого региона:', revenue_0.round(2), 'млн.руб.')"
   ]
  },
  {
   "cell_type": "code",
   "execution_count": 39,
   "metadata": {},
   "outputs": [
    {
     "name": "stdout",
     "output_type": "stream",
     "text": [
      "Прибыль для полученного объёма сырья первого региона: 2415.09 млн.руб.\n"
     ]
    }
   ],
   "source": [
    "revenue_1 = profit_calculation (target_valid_1, predictions_1, BEST_POINTS)\n",
    "print('Прибыль для полученного объёма сырья первого региона:', revenue_1.round(2), 'млн.руб.')"
   ]
  },
  {
   "cell_type": "code",
   "execution_count": 40,
   "metadata": {
    "scrolled": true
   },
   "outputs": [
    {
     "name": "stdout",
     "output_type": "stream",
     "text": [
      "Прибыль для полученного объёма сырья второго региона: 2710.35 млн.руб.\n"
     ]
    }
   ],
   "source": [
    "revenue_2 = profit_calculation (target_valid_2, predictions_2, BEST_POINTS)\n",
    "print('Прибыль для полученного объёма сырья второго региона:', revenue_2.round(2), 'млн.руб.')"
   ]
  },
  {
   "cell_type": "markdown",
   "metadata": {},
   "source": [
    "### Bootstrap\n",
    "\n",
    "Применим технику *Bootstrap* с 1000 выборок, чтобы найти распределение прибыли.  \n",
    "Найдём среднюю прибыль, 95%-й доверительный интервал и риск убытков. Убыток — это отрицательная прибыль."
   ]
  },
  {
   "cell_type": "code",
   "execution_count": 41,
   "metadata": {
    "scrolled": false
   },
   "outputs": [],
   "source": [
    "def risk_and_revenue (target, predictions):\n",
    "    state = np.random.RandomState(12345)\n",
    "    profit_values = []\n",
    "    for i in range(1000):\n",
    "        target_sample = target.sample(n=500, replace=True, random_state=state)\n",
    "        predictions_sample = predictions[target_sample.index]\n",
    "        profit_values.append(profit_calculation(target_sample,  predictions_sample, 200))\n",
    "    profit_values = pd.Series(profit_values)\n",
    "    mean = profit_values.mean()\n",
    "    lower = profit_values.quantile(0.025)\n",
    "    upper = profit_values.quantile(0.975)\n",
    "    risk_of_loss = (profit_values < 0).mean()\n",
    "    print('Средняя прибыль составляет', mean.round(2), 'млн.руб.')\n",
    "    print('95%-й доверительный интервал от', lower.round(2), 'до', upper.round(2), 'млн.руб.')\n",
    "    print(f'Риск убытков: {risk_of_loss:.2%}')\n",
    "    return profit_values, lower, upper"
   ]
  },
  {
   "cell_type": "markdown",
   "metadata": {},
   "source": [
    "**Нулевой регион**"
   ]
  },
  {
   "cell_type": "code",
   "execution_count": 42,
   "metadata": {
    "scrolled": false
   },
   "outputs": [
    {
     "name": "stdout",
     "output_type": "stream",
     "text": [
      "Средняя прибыль составляет 425.94 млн.руб.\n",
      "95%-й доверительный интервал от -102.09 до 947.98 млн.руб.\n",
      "Риск убытков: 6.00%\n"
     ]
    }
   ],
   "source": [
    "profit_values_0, lower_0, upper_0 = risk_and_revenue (target_valid_0, predictions_0)"
   ]
  },
  {
   "cell_type": "markdown",
   "metadata": {},
   "source": [
    "Построим гистограмму \"Распределение прибыли для нулевого региона\", для наглядности отметим границы доверительного интервала."
   ]
  },
  {
   "cell_type": "code",
   "execution_count": 43,
   "metadata": {},
   "outputs": [
    {
     "data": {
      "image/png": "[encoded data removed]",
      "text/plain": [
       "<Figure size 864x504 with 1 Axes>"
      ]
     },
     "metadata": {
      "needs_background": "light"
     },
     "output_type": "display_data"
    }
   ],
   "source": [
    "profit_values_0.plot(kind='hist', \n",
    "                     title='Распределение прибыли для нулевого региона, млн.руб.', \n",
    "                     alpha=.5, \n",
    "                     grid=True, \n",
    "                     bins=50, \n",
    "                     color=\"skyblue\", \n",
    "                     figsize=(12,7), \n",
    "                     edgecolor=\"black\", \n",
    "                     fontsize=12)\n",
    "\n",
    "plt.xlabel('Прибыль, млн.руб.')\n",
    "plt.ylabel('Количество наблюдений')\n",
    "plt.axvline(x=lower_0, color='r')\n",
    "plt.axvline(x=upper_0, color='b')\n",
    "plt.legend(['2,5%-квантиль', '97,5%-квантиль'], loc=1)\n",
    "plt.show()"
   ]
  },
  {
   "cell_type": "markdown",
   "metadata": {},
   "source": [
    "**Первый регион**"
   ]
  },
  {
   "cell_type": "code",
   "execution_count": 44,
   "metadata": {
    "scrolled": false
   },
   "outputs": [
    {
     "name": "stdout",
     "output_type": "stream",
     "text": [
      "Средняя прибыль составляет 515.22 млн.руб.\n",
      "95%-й доверительный интервал от 68.87 до 931.55 млн.руб.\n",
      "Риск убытков: 1.00%\n"
     ]
    }
   ],
   "source": [
    "profit_values_1, lower_1, upper_1 = risk_and_revenue (target_valid_1, predictions_1)"
   ]
  },
  {
   "cell_type": "markdown",
   "metadata": {},
   "source": [
    "Построим гистограмму \"Распределение прибыли для первого региона\", для наглядности отметим границы доверительного интервала."
   ]
  },
  {
   "cell_type": "code",
   "execution_count": 45,
   "metadata": {},
   "outputs": [
    {
     "data": {
      "image/png": "[encoded data removed]",
      "text/plain": [
       "<Figure size 864x504 with 1 Axes>"
      ]
     },
     "metadata": {
      "needs_background": "light"
     },
     "output_type": "display_data"
    }
   ],
   "source": [
    "profit_values_1.plot(kind='hist', \n",
    "                     title='Распределение прибыли для первого региона, млн.руб.', \n",
    "                     alpha=.5, \n",
    "                     grid=True, \n",
    "                     bins=50, \n",
    "                     color=\"skyblue\", \n",
    "                     figsize=(12,7), \n",
    "                     edgecolor=\"black\", \n",
    "                     fontsize=12)\n",
    "\n",
    "plt.xlabel('Прибыль, млн.руб.')\n",
    "plt.ylabel('Количество наблюдений')\n",
    "plt.axvline(x=lower_1, color='r')\n",
    "plt.axvline(x=upper_1, color='b')\n",
    "plt.legend(['2,5%-квантиль', '97,5%-квантиль'], loc=1)\n",
    "plt.show()"
   ]
  },
  {
   "cell_type": "markdown",
   "metadata": {},
   "source": [
    "**Второй регион**"
   ]
  },
  {
   "cell_type": "code",
   "execution_count": 46,
   "metadata": {
    "scrolled": true
   },
   "outputs": [
    {
     "name": "stdout",
     "output_type": "stream",
     "text": [
      "Средняя прибыль составляет 435.01 млн.руб.\n",
      "95%-й доверительный интервал от -128.88 до 969.71 млн.руб.\n",
      "Риск убытков: 6.40%\n"
     ]
    }
   ],
   "source": [
    "profit_values_2, lower_2, upper_2 = risk_and_revenue (target_valid_2, predictions_2)"
   ]
  },
  {
   "cell_type": "markdown",
   "metadata": {},
   "source": [
    "Построим гистограмму \"Распределение прибыли для второго региона\", для наглядности отметим границы доверительного интервала."
   ]
  },
  {
   "cell_type": "code",
   "execution_count": 47,
   "metadata": {},
   "outputs": [
    {
     "data": {
      "image/png": "[encoded data removed]",
      "text/plain": [
       "<Figure size 864x504 with 1 Axes>"
      ]
     },
     "metadata": {
      "needs_background": "light"
     },
     "output_type": "display_data"
    }
   ],
   "source": [
    "profit_values_2.plot(kind='hist', \n",
    "                     title='Распределение прибыли для второго региона, млн.руб.', \n",
    "                     alpha=.5, \n",
    "                     grid=True, \n",
    "                     bins=50, \n",
    "                     color=\"skyblue\", \n",
    "                     figsize=(12,7), \n",
    "                     edgecolor=\"black\", \n",
    "                     fontsize=12)\n",
    "\n",
    "plt.xlabel('Прибыль, млн.руб.')\n",
    "plt.ylabel('Количество наблюдений')\n",
    "plt.axvline(x=lower_2, color='r')\n",
    "plt.axvline(x=upper_2, color='b')\n",
    "plt.legend(['2,5%-квантиль', '97,5%-квантиль'], loc=1)\n",
    "plt.show()"
   ]
  },
  {
   "cell_type": "markdown",
   "metadata": {},
   "source": [
    "По условию задачи, мы оставляем регионы, в которых вероятность убытков меньше 2,5%. Только первый регион, в котором риск убытков составляет 1%, соответствует поставленной задаче. Максимальную среднюю прибыль (~515 млн.руб.) прогнозируем также в первом регионе.\n",
    "\n",
    "Также на графиках видим подтверждение, что только один регион с положительной левой границей 95%-го доверительного интервала соответствует условию задачи о минимальной вероятности убытков. В нулевом и втором регионах левые границы доверительных интервалов - отрицательные."
   ]
  },
  {
   "cell_type": "markdown",
   "metadata": {},
   "source": [
    "### Вывод"
   ]
  },
  {
   "cell_type": "markdown",
   "metadata": {},
   "source": [
    "Все три региона можем назвать прибыльными по рассчитанной средней прибыли:\n",
    "* в нулевом регионе ~426 млн.руб.\n",
    "* в первом регионе ~ 515 млн.руб.\n",
    "* во втором регионе ~ 435 млн.руб.\n",
    "\n",
    "Вероятность убытков по условию задачи должна быть меньше 2,5%. Из-за высокого риска убытков (более 6%) мы отсеиваем нулевой и второй регионы, поэтому остается только первый регион с риском убытков всего 1%.  \n",
    "\n",
    "Кроме того, первый регион соответствует 95%-му доверительному с положительными границами."
   ]
  },
  {
   "cell_type": "markdown",
   "metadata": {},
   "source": [
    "## Общий вывод"
   ]
  },
  {
   "cell_type": "markdown",
   "metadata": {},
   "source": [
    "Объект нашего исследования - геологоразведки трёх регионов.\n",
    "\n",
    "В ходе предобработки мы подготовили данные к моделированию:\n",
    "* удалили в каждом датафрейме столбцы с бесполезной информацией,\n",
    "* проверили данные на дубликаты,\n",
    "* провели корреляционный анализ факторов - сильной взаимосвязи между признаками не выявили,\n",
    "* оценили объёмы запасов в скважине в каждом регионе. \n",
    "\n",
    "Для решения поставленной задачи мы разделили исходные данные на три выборки:\n",
    "1. обучающую,\n",
    "2. валидационную.\n",
    "\n",
    "Обучили и проверили модель линейной регрессии для каждого регионе. Средний запас предсказанного сырья почти совпадает с фактическим по каждому региону. Самые точные предсказания объёмов сырья получили для первого региона.\n",
    " \n",
    "На этапе подготовки к расчёту прибыли мы:\n",
    "* посчитали необходимый бюджет для разработки одной скважины: 50 млн.руб.,\n",
    "* вычислили минимальный объём сырья для безубыточной разработки новой скважины: 111.111 тыс.баррелей,\n",
    "* сравнили полученный объём сырья со средним запасом в каждом регионе - для безубыточной разработки новой скважины средних запасов сырья в регионах не хватает, необходимо исследовать наиболее перспективные скважины.\n",
    "\n",
    "Мы написали функцию для расчёта прибыли по скважинам с максимальными значениями предсказаний. С применением техники *Bootstrap* мы посмотрели на распределение прибыли, вычислили среднюю прибыль, 95%-й доверительный интервал и риск убытков. На основе полученных результатов все три региона можем называть прибыльными по средней прибыли.\n",
    "\n",
    "Подведём итог нашей работы - рекомендация для добывающей компании \"ГлавРосГосНефть\":\n",
    "* для разработки скважин выбрать первый регион, в котором самая большая средняя прибыль (~515 млн.руб.) и минимальный риск убытков - всего 1%. "
   ]
  }
 ],
 "metadata": {
  "ExecuteTimeLog": [
   {
    "duration": 1608,
    "start_time": "2022-03-22T19:05:57.236Z"
   },
   {
    "duration": 1059,
    "start_time": "2022-03-22T19:17:36.816Z"
   },
   {
    "duration": 145,
    "start_time": "2022-03-22T19:18:05.802Z"
   },
   {
    "duration": 132,
    "start_time": "2022-03-22T19:18:14.532Z"
   },
   {
    "duration": 137,
    "start_time": "2022-03-22T19:18:27.117Z"
   },
   {
    "duration": 17,
    "start_time": "2022-03-22T19:38:39.849Z"
   },
   {
    "duration": 117,
    "start_time": "2022-03-22T19:38:53.878Z"
   },
   {
    "duration": 37,
    "start_time": "2022-03-22T19:38:57.663Z"
   },
   {
    "duration": 14,
    "start_time": "2022-03-22T19:39:10.839Z"
   },
   {
    "duration": 37,
    "start_time": "2022-03-22T19:39:17.814Z"
   },
   {
    "duration": 14,
    "start_time": "2022-03-22T19:39:27.134Z"
   },
   {
    "duration": 17,
    "start_time": "2022-03-22T19:39:29.902Z"
   },
   {
    "duration": 36,
    "start_time": "2022-03-22T19:39:41.167Z"
   },
   {
    "duration": 50,
    "start_time": "2022-03-22T19:41:58.884Z"
   },
   {
    "duration": 39,
    "start_time": "2022-03-22T19:42:04.427Z"
   },
   {
    "duration": 44,
    "start_time": "2022-03-22T19:42:14.421Z"
   },
   {
    "duration": 11,
    "start_time": "2022-03-22T19:47:02.352Z"
   },
   {
    "duration": 10,
    "start_time": "2022-03-22T19:47:09.223Z"
   },
   {
    "duration": 10,
    "start_time": "2022-03-22T19:47:13.319Z"
   },
   {
    "duration": 1371,
    "start_time": "2022-03-22T19:47:30.559Z"
   },
   {
    "duration": 135,
    "start_time": "2022-03-22T19:47:31.932Z"
   },
   {
    "duration": 125,
    "start_time": "2022-03-22T19:47:32.069Z"
   },
   {
    "duration": 133,
    "start_time": "2022-03-22T19:47:32.195Z"
   },
   {
    "duration": 15,
    "start_time": "2022-03-22T19:47:32.330Z"
   },
   {
    "duration": 35,
    "start_time": "2022-03-22T19:47:32.346Z"
   },
   {
    "duration": 31,
    "start_time": "2022-03-22T19:47:32.382Z"
   },
   {
    "duration": 33,
    "start_time": "2022-03-22T19:47:32.415Z"
   },
   {
    "duration": 14,
    "start_time": "2022-03-22T19:47:32.450Z"
   },
   {
    "duration": 64,
    "start_time": "2022-03-22T19:47:32.465Z"
   },
   {
    "duration": 45,
    "start_time": "2022-03-22T19:47:32.530Z"
   },
   {
    "duration": 67,
    "start_time": "2022-03-22T19:47:32.577Z"
   },
   {
    "duration": 63,
    "start_time": "2022-03-22T19:47:32.646Z"
   },
   {
    "duration": 10,
    "start_time": "2022-03-22T19:47:32.712Z"
   },
   {
    "duration": 9,
    "start_time": "2022-03-22T19:47:32.723Z"
   },
   {
    "duration": 9,
    "start_time": "2022-03-22T19:47:32.734Z"
   },
   {
    "duration": 64,
    "start_time": "2022-03-23T06:16:56.461Z"
   },
   {
    "duration": 2120,
    "start_time": "2022-03-23T06:17:02.336Z"
   },
   {
    "duration": 160,
    "start_time": "2022-03-23T06:17:04.459Z"
   },
   {
    "duration": 148,
    "start_time": "2022-03-23T06:17:04.622Z"
   },
   {
    "duration": 152,
    "start_time": "2022-03-23T06:17:04.775Z"
   },
   {
    "duration": 39,
    "start_time": "2022-03-23T06:17:04.930Z"
   },
   {
    "duration": 47,
    "start_time": "2022-03-23T06:17:04.972Z"
   },
   {
    "duration": 45,
    "start_time": "2022-03-23T06:17:05.022Z"
   },
   {
    "duration": 45,
    "start_time": "2022-03-23T06:17:05.070Z"
   },
   {
    "duration": 22,
    "start_time": "2022-03-23T06:17:05.118Z"
   },
   {
    "duration": 42,
    "start_time": "2022-03-23T06:17:05.168Z"
   },
   {
    "duration": 92,
    "start_time": "2022-03-23T06:17:05.213Z"
   },
   {
    "duration": 70,
    "start_time": "2022-03-23T06:17:05.307Z"
   },
   {
    "duration": 71,
    "start_time": "2022-03-23T06:17:05.379Z"
   },
   {
    "duration": 27,
    "start_time": "2022-03-23T06:17:05.452Z"
   },
   {
    "duration": 13,
    "start_time": "2022-03-23T06:17:05.481Z"
   },
   {
    "duration": 13,
    "start_time": "2022-03-23T06:17:05.496Z"
   },
   {
    "duration": 61,
    "start_time": "2022-03-23T06:17:05.511Z"
   },
   {
    "duration": 22,
    "start_time": "2022-03-23T06:17:54.265Z"
   },
   {
    "duration": 22,
    "start_time": "2022-03-23T06:18:07.202Z"
   },
   {
    "duration": 462,
    "start_time": "2022-03-23T06:25:34.954Z"
   },
   {
    "duration": 1128,
    "start_time": "2022-03-23T06:28:21.351Z"
   },
   {
    "duration": 1199,
    "start_time": "2022-03-23T06:29:02.855Z"
   },
   {
    "duration": 1108,
    "start_time": "2022-03-23T06:30:06.524Z"
   },
   {
    "duration": 13,
    "start_time": "2022-03-23T06:36:14.872Z"
   },
   {
    "duration": 168,
    "start_time": "2022-03-23T06:36:18.383Z"
   },
   {
    "duration": 1838,
    "start_time": "2022-03-23T06:37:13.803Z"
   },
   {
    "duration": 161,
    "start_time": "2022-03-23T06:37:15.644Z"
   },
   {
    "duration": 155,
    "start_time": "2022-03-23T06:37:15.808Z"
   },
   {
    "duration": 149,
    "start_time": "2022-03-23T06:37:15.967Z"
   },
   {
    "duration": 21,
    "start_time": "2022-03-23T06:37:16.120Z"
   },
   {
    "duration": 62,
    "start_time": "2022-03-23T06:37:16.143Z"
   },
   {
    "duration": 18,
    "start_time": "2022-03-23T06:37:16.207Z"
   },
   {
    "duration": 68,
    "start_time": "2022-03-23T06:37:16.228Z"
   },
   {
    "duration": 19,
    "start_time": "2022-03-23T06:37:16.298Z"
   },
   {
    "duration": 64,
    "start_time": "2022-03-23T06:37:16.319Z"
   },
   {
    "duration": 14,
    "start_time": "2022-03-23T06:37:16.385Z"
   },
   {
    "duration": 71,
    "start_time": "2022-03-23T06:37:16.401Z"
   },
   {
    "duration": 37,
    "start_time": "2022-03-23T06:37:16.474Z"
   },
   {
    "duration": 73,
    "start_time": "2022-03-23T06:37:16.517Z"
   },
   {
    "duration": 8,
    "start_time": "2022-03-23T06:37:16.592Z"
   },
   {
    "duration": 14,
    "start_time": "2022-03-23T06:37:16.602Z"
   },
   {
    "duration": 8,
    "start_time": "2022-03-23T06:37:16.618Z"
   },
   {
    "duration": 51,
    "start_time": "2022-03-23T06:37:16.629Z"
   },
   {
    "duration": 23,
    "start_time": "2022-03-23T06:37:16.682Z"
   },
   {
    "duration": 22,
    "start_time": "2022-03-23T06:37:16.707Z"
   },
   {
    "duration": 1182,
    "start_time": "2022-03-23T06:37:16.732Z"
   },
   {
    "duration": 16,
    "start_time": "2022-03-23T06:37:38.033Z"
   },
   {
    "duration": 1393,
    "start_time": "2022-03-23T06:47:57.297Z"
   },
   {
    "duration": 1297,
    "start_time": "2022-03-23T06:48:26.920Z"
   },
   {
    "duration": 1238,
    "start_time": "2022-03-23T06:48:41.400Z"
   },
   {
    "duration": 1439,
    "start_time": "2022-03-23T06:48:57.751Z"
   },
   {
    "duration": 1006,
    "start_time": "2022-03-23T06:49:06.457Z"
   },
   {
    "duration": 1404,
    "start_time": "2022-03-23T06:49:28.151Z"
   },
   {
    "duration": 819,
    "start_time": "2022-03-23T06:49:37.495Z"
   },
   {
    "duration": 842,
    "start_time": "2022-03-23T06:49:49.943Z"
   },
   {
    "duration": 987,
    "start_time": "2022-03-23T06:50:59.662Z"
   },
   {
    "duration": 842,
    "start_time": "2022-03-23T06:51:08.858Z"
   },
   {
    "duration": 853,
    "start_time": "2022-03-23T06:53:56.219Z"
   },
   {
    "duration": 881,
    "start_time": "2022-03-23T06:54:09.211Z"
   },
   {
    "duration": 859,
    "start_time": "2022-03-23T06:54:16.899Z"
   },
   {
    "duration": 899,
    "start_time": "2022-03-23T06:54:20.969Z"
   },
   {
    "duration": 939,
    "start_time": "2022-03-23T06:54:29.298Z"
   },
   {
    "duration": 1007,
    "start_time": "2022-03-23T06:54:33.641Z"
   },
   {
    "duration": 845,
    "start_time": "2022-03-23T06:54:38.634Z"
   },
   {
    "duration": 832,
    "start_time": "2022-03-23T06:54:45.849Z"
   },
   {
    "duration": 890,
    "start_time": "2022-03-23T06:54:54.459Z"
   },
   {
    "duration": 1047,
    "start_time": "2022-03-23T06:55:13.193Z"
   },
   {
    "duration": 1026,
    "start_time": "2022-03-23T06:55:17.402Z"
   },
   {
    "duration": 884,
    "start_time": "2022-03-23T06:56:28.720Z"
   },
   {
    "duration": 14,
    "start_time": "2022-03-23T07:01:00.499Z"
   },
   {
    "duration": 1038,
    "start_time": "2022-03-23T07:02:28.753Z"
   },
   {
    "duration": 985,
    "start_time": "2022-03-23T07:02:33.897Z"
   },
   {
    "duration": 888,
    "start_time": "2022-03-23T07:03:17.650Z"
   },
   {
    "duration": 1345,
    "start_time": "2022-03-23T07:03:56.160Z"
   },
   {
    "duration": 1017,
    "start_time": "2022-03-23T07:04:04.720Z"
   },
   {
    "duration": 1009,
    "start_time": "2022-03-23T07:04:13.728Z"
   },
   {
    "duration": 988,
    "start_time": "2022-03-23T07:04:38.689Z"
   },
   {
    "duration": 1091,
    "start_time": "2022-03-23T07:04:50.681Z"
   },
   {
    "duration": 1133,
    "start_time": "2022-03-23T07:04:56.119Z"
   },
   {
    "duration": 961,
    "start_time": "2022-03-23T07:05:00.943Z"
   },
   {
    "duration": 921,
    "start_time": "2022-03-23T07:05:04.335Z"
   },
   {
    "duration": 1023,
    "start_time": "2022-03-23T07:05:11.543Z"
   },
   {
    "duration": 1192,
    "start_time": "2022-03-23T07:05:25.719Z"
   },
   {
    "duration": 937,
    "start_time": "2022-03-23T07:05:30.675Z"
   },
   {
    "duration": 1069,
    "start_time": "2022-03-23T07:06:54.149Z"
   },
   {
    "duration": 6,
    "start_time": "2022-03-23T13:22:35.458Z"
   },
   {
    "duration": 15,
    "start_time": "2022-03-23T13:22:37.102Z"
   },
   {
    "duration": 8,
    "start_time": "2022-03-23T13:23:00.230Z"
   },
   {
    "duration": 24,
    "start_time": "2022-03-23T13:48:12.040Z"
   },
   {
    "duration": 18,
    "start_time": "2022-03-23T13:54:24.239Z"
   },
   {
    "duration": 20,
    "start_time": "2022-03-23T14:19:01.873Z"
   },
   {
    "duration": 6,
    "start_time": "2022-03-23T14:27:36.295Z"
   },
   {
    "duration": 153,
    "start_time": "2022-03-23T14:28:08.987Z"
   },
   {
    "duration": 6,
    "start_time": "2022-03-23T14:28:53.169Z"
   },
   {
    "duration": 11,
    "start_time": "2022-03-23T14:28:56.571Z"
   },
   {
    "duration": 181,
    "start_time": "2022-03-23T14:29:09.587Z"
   },
   {
    "duration": 6,
    "start_time": "2022-03-23T14:29:40.265Z"
   },
   {
    "duration": 17,
    "start_time": "2022-03-23T14:29:42.908Z"
   },
   {
    "duration": 5,
    "start_time": "2022-03-23T14:39:08.497Z"
   },
   {
    "duration": 71,
    "start_time": "2022-03-23T14:39:14.897Z"
   },
   {
    "duration": 4,
    "start_time": "2022-03-23T16:19:01.851Z"
   },
   {
    "duration": 5,
    "start_time": "2022-03-23T16:31:17.967Z"
   },
   {
    "duration": 17,
    "start_time": "2022-03-23T16:33:22.662Z"
   },
   {
    "duration": 15,
    "start_time": "2022-03-23T16:34:17.741Z"
   },
   {
    "duration": 2022,
    "start_time": "2022-03-23T16:35:09.922Z"
   },
   {
    "duration": 251,
    "start_time": "2022-03-23T16:35:11.948Z"
   },
   {
    "duration": 233,
    "start_time": "2022-03-23T16:35:12.202Z"
   },
   {
    "duration": 237,
    "start_time": "2022-03-23T16:35:12.440Z"
   },
   {
    "duration": 32,
    "start_time": "2022-03-23T16:35:12.680Z"
   },
   {
    "duration": 93,
    "start_time": "2022-03-23T16:35:12.715Z"
   },
   {
    "duration": 30,
    "start_time": "2022-03-23T16:35:12.811Z"
   },
   {
    "duration": 70,
    "start_time": "2022-03-23T16:35:12.843Z"
   },
   {
    "duration": 18,
    "start_time": "2022-03-23T16:35:12.916Z"
   },
   {
    "duration": 62,
    "start_time": "2022-03-23T16:35:12.937Z"
   },
   {
    "duration": 14,
    "start_time": "2022-03-23T16:35:13.002Z"
   },
   {
    "duration": 77,
    "start_time": "2022-03-23T16:35:13.019Z"
   },
   {
    "duration": 37,
    "start_time": "2022-03-23T16:35:13.099Z"
   },
   {
    "duration": 73,
    "start_time": "2022-03-23T16:35:13.139Z"
   },
   {
    "duration": 7,
    "start_time": "2022-03-23T16:35:13.214Z"
   },
   {
    "duration": 8,
    "start_time": "2022-03-23T16:35:13.224Z"
   },
   {
    "duration": 41,
    "start_time": "2022-03-23T16:35:13.234Z"
   },
   {
    "duration": 21,
    "start_time": "2022-03-23T16:35:13.277Z"
   },
   {
    "duration": 22,
    "start_time": "2022-03-23T16:35:13.301Z"
   },
   {
    "duration": 62,
    "start_time": "2022-03-23T16:35:13.325Z"
   },
   {
    "duration": 1106,
    "start_time": "2022-03-23T16:35:13.389Z"
   },
   {
    "duration": 1083,
    "start_time": "2022-03-23T16:35:14.497Z"
   },
   {
    "duration": 7,
    "start_time": "2022-03-23T16:35:15.582Z"
   },
   {
    "duration": 9,
    "start_time": "2022-03-23T16:35:15.591Z"
   },
   {
    "duration": 9,
    "start_time": "2022-03-23T16:35:15.602Z"
   },
   {
    "duration": 17,
    "start_time": "2022-03-23T16:35:15.613Z"
   },
   {
    "duration": 48,
    "start_time": "2022-03-23T16:35:15.633Z"
   },
   {
    "duration": 17,
    "start_time": "2022-03-23T16:35:15.687Z"
   },
   {
    "duration": 8,
    "start_time": "2022-03-23T16:35:15.706Z"
   },
   {
    "duration": 13,
    "start_time": "2022-03-23T16:35:15.716Z"
   },
   {
    "duration": 9,
    "start_time": "2022-03-23T16:35:15.767Z"
   },
   {
    "duration": 7,
    "start_time": "2022-03-23T16:35:15.778Z"
   },
   {
    "duration": 6,
    "start_time": "2022-03-23T16:35:15.787Z"
   },
   {
    "duration": 72,
    "start_time": "2022-03-23T16:35:15.796Z"
   },
   {
    "duration": 19,
    "start_time": "2022-03-23T16:35:15.967Z"
   },
   {
    "duration": 183,
    "start_time": "2022-03-23T16:35:15.990Z"
   },
   {
    "duration": 6,
    "start_time": "2022-03-23T16:38:42.102Z"
   },
   {
    "duration": 21,
    "start_time": "2022-03-23T16:38:45.335Z"
   },
   {
    "duration": 19,
    "start_time": "2022-03-23T16:38:47.432Z"
   },
   {
    "duration": 18,
    "start_time": "2022-03-23T16:38:50.382Z"
   },
   {
    "duration": 4,
    "start_time": "2022-03-23T17:04:44.862Z"
   },
   {
    "duration": 4,
    "start_time": "2022-03-23T17:06:14.299Z"
   },
   {
    "duration": 6,
    "start_time": "2022-03-23T18:55:58.404Z"
   },
   {
    "duration": 5,
    "start_time": "2022-03-23T18:56:45.398Z"
   },
   {
    "duration": 5,
    "start_time": "2022-03-23T18:58:16.729Z"
   },
   {
    "duration": 5,
    "start_time": "2022-03-23T18:59:17.879Z"
   },
   {
    "duration": 87,
    "start_time": "2022-03-23T18:59:20.079Z"
   },
   {
    "duration": 19,
    "start_time": "2022-03-23T18:59:22.337Z"
   },
   {
    "duration": 18,
    "start_time": "2022-03-23T18:59:23.408Z"
   },
   {
    "duration": 6,
    "start_time": "2022-03-23T19:00:39.310Z"
   },
   {
    "duration": 6,
    "start_time": "2022-03-23T19:00:56.152Z"
   },
   {
    "duration": 104,
    "start_time": "2022-03-23T19:06:31.994Z"
   },
   {
    "duration": 6,
    "start_time": "2022-03-23T19:06:37.201Z"
   },
   {
    "duration": 19,
    "start_time": "2022-03-23T19:06:38.712Z"
   },
   {
    "duration": 48,
    "start_time": "2022-03-23T19:06:42.819Z"
   },
   {
    "duration": 18,
    "start_time": "2022-03-23T19:06:44.465Z"
   },
   {
    "duration": 90,
    "start_time": "2022-03-23T19:07:39.249Z"
   },
   {
    "duration": 6,
    "start_time": "2022-03-23T19:07:49.049Z"
   },
   {
    "duration": 78,
    "start_time": "2022-03-23T19:07:50.690Z"
   },
   {
    "duration": 20,
    "start_time": "2022-03-23T19:07:52.057Z"
   },
   {
    "duration": 94,
    "start_time": "2022-03-23T19:07:53.272Z"
   },
   {
    "duration": 158,
    "start_time": "2022-03-23T19:09:04.647Z"
   },
   {
    "duration": 2080,
    "start_time": "2022-03-23T19:24:56.320Z"
   },
   {
    "duration": 256,
    "start_time": "2022-03-23T19:24:58.404Z"
   },
   {
    "duration": 164,
    "start_time": "2022-03-23T19:24:58.667Z"
   },
   {
    "duration": 168,
    "start_time": "2022-03-23T19:24:58.834Z"
   },
   {
    "duration": 45,
    "start_time": "2022-03-23T19:24:59.004Z"
   },
   {
    "duration": 76,
    "start_time": "2022-03-23T19:24:59.051Z"
   },
   {
    "duration": 53,
    "start_time": "2022-03-23T19:24:59.129Z"
   },
   {
    "duration": 54,
    "start_time": "2022-03-23T19:24:59.184Z"
   },
   {
    "duration": 48,
    "start_time": "2022-03-23T19:24:59.240Z"
   },
   {
    "duration": 51,
    "start_time": "2022-03-23T19:24:59.293Z"
   },
   {
    "duration": 17,
    "start_time": "2022-03-23T19:24:59.366Z"
   },
   {
    "duration": 81,
    "start_time": "2022-03-23T19:24:59.386Z"
   },
   {
    "duration": 47,
    "start_time": "2022-03-23T19:24:59.470Z"
   },
   {
    "duration": 93,
    "start_time": "2022-03-23T19:24:59.520Z"
   },
   {
    "duration": 11,
    "start_time": "2022-03-23T19:24:59.616Z"
   },
   {
    "duration": 11,
    "start_time": "2022-03-23T19:24:59.630Z"
   },
   {
    "duration": 13,
    "start_time": "2022-03-23T19:24:59.671Z"
   },
   {
    "duration": 51,
    "start_time": "2022-03-23T19:24:59.687Z"
   },
   {
    "duration": 35,
    "start_time": "2022-03-23T19:24:59.740Z"
   },
   {
    "duration": 33,
    "start_time": "2022-03-23T19:24:59.777Z"
   },
   {
    "duration": 1601,
    "start_time": "2022-03-23T19:24:59.813Z"
   },
   {
    "duration": 1675,
    "start_time": "2022-03-23T19:25:01.417Z"
   },
   {
    "duration": 8,
    "start_time": "2022-03-23T19:25:03.095Z"
   },
   {
    "duration": 15,
    "start_time": "2022-03-23T19:25:03.107Z"
   },
   {
    "duration": 10,
    "start_time": "2022-03-23T19:25:03.125Z"
   },
   {
    "duration": 41,
    "start_time": "2022-03-23T19:25:03.139Z"
   },
   {
    "duration": 22,
    "start_time": "2022-03-23T19:25:03.183Z"
   },
   {
    "duration": 19,
    "start_time": "2022-03-23T19:25:03.210Z"
   },
   {
    "duration": 9,
    "start_time": "2022-03-23T19:25:03.268Z"
   },
   {
    "duration": 11,
    "start_time": "2022-03-23T19:25:03.280Z"
   },
   {
    "duration": 11,
    "start_time": "2022-03-23T19:25:03.294Z"
   },
   {
    "duration": 6,
    "start_time": "2022-03-23T19:25:03.308Z"
   },
   {
    "duration": 12,
    "start_time": "2022-03-23T19:25:03.317Z"
   },
   {
    "duration": 136,
    "start_time": "2022-03-23T19:25:03.332Z"
   },
   {
    "duration": 196,
    "start_time": "2022-03-23T19:25:03.471Z"
   },
   {
    "duration": 109,
    "start_time": "2022-03-23T19:25:03.671Z"
   },
   {
    "duration": 85,
    "start_time": "2022-03-23T19:25:03.783Z"
   },
   {
    "duration": 102,
    "start_time": "2022-03-23T19:25:03.872Z"
   },
   {
    "duration": 132,
    "start_time": "2022-03-23T19:25:03.976Z"
   },
   {
    "duration": 5,
    "start_time": "2022-03-23T19:26:44.048Z"
   },
   {
    "duration": 9,
    "start_time": "2022-03-23T19:41:51.986Z"
   },
   {
    "duration": 16,
    "start_time": "2022-03-23T19:42:01.601Z"
   },
   {
    "duration": 6,
    "start_time": "2022-03-23T19:45:24.150Z"
   },
   {
    "duration": 18,
    "start_time": "2022-03-23T19:45:25.845Z"
   },
   {
    "duration": 17,
    "start_time": "2022-03-23T19:45:41.749Z"
   },
   {
    "duration": 17,
    "start_time": "2022-03-23T19:45:51.925Z"
   },
   {
    "duration": 4,
    "start_time": "2022-03-23T19:54:57.264Z"
   },
   {
    "duration": 17,
    "start_time": "2022-03-23T19:58:03.523Z"
   },
   {
    "duration": 17,
    "start_time": "2022-03-23T20:00:00.977Z"
   },
   {
    "duration": 18,
    "start_time": "2022-03-23T20:00:05.641Z"
   },
   {
    "duration": 98,
    "start_time": "2022-03-23T20:03:07.049Z"
   },
   {
    "duration": 6,
    "start_time": "2022-03-23T20:03:19.024Z"
   },
   {
    "duration": 17,
    "start_time": "2022-03-23T20:03:45.983Z"
   },
   {
    "duration": 18,
    "start_time": "2022-03-23T20:03:58.182Z"
   },
   {
    "duration": 19,
    "start_time": "2022-03-23T20:04:06.390Z"
   },
   {
    "duration": 53,
    "start_time": "2022-03-23T20:04:11.807Z"
   },
   {
    "duration": 86,
    "start_time": "2022-03-23T20:04:27.206Z"
   },
   {
    "duration": 4,
    "start_time": "2022-03-23T20:05:37.478Z"
   },
   {
    "duration": 90,
    "start_time": "2022-03-23T20:05:38.693Z"
   },
   {
    "duration": 4,
    "start_time": "2022-03-23T20:05:46.989Z"
   },
   {
    "duration": 85,
    "start_time": "2022-03-23T20:05:52.181Z"
   },
   {
    "duration": 5,
    "start_time": "2022-03-23T20:07:07.324Z"
   },
   {
    "duration": 11,
    "start_time": "2022-03-23T20:07:09.291Z"
   },
   {
    "duration": 88,
    "start_time": "2022-03-23T20:07:14.037Z"
   },
   {
    "duration": 5,
    "start_time": "2022-03-23T20:08:22.412Z"
   },
   {
    "duration": 22,
    "start_time": "2022-03-23T20:08:23.514Z"
   },
   {
    "duration": 5,
    "start_time": "2022-03-23T20:08:40.105Z"
   },
   {
    "duration": 13,
    "start_time": "2022-03-23T20:08:42.721Z"
   },
   {
    "duration": 5,
    "start_time": "2022-03-23T20:11:01.368Z"
   },
   {
    "duration": 11,
    "start_time": "2022-03-23T20:11:03.576Z"
   },
   {
    "duration": 4,
    "start_time": "2022-03-23T20:11:38.719Z"
   },
   {
    "duration": 12,
    "start_time": "2022-03-23T20:11:40.759Z"
   },
   {
    "duration": 47,
    "start_time": "2022-03-24T06:31:38.146Z"
   },
   {
    "duration": 1614,
    "start_time": "2022-03-24T06:31:45.371Z"
   },
   {
    "duration": 146,
    "start_time": "2022-03-24T06:31:46.988Z"
   },
   {
    "duration": 128,
    "start_time": "2022-03-24T06:31:47.136Z"
   },
   {
    "duration": 135,
    "start_time": "2022-03-24T06:31:47.267Z"
   },
   {
    "duration": 17,
    "start_time": "2022-03-24T06:31:47.404Z"
   },
   {
    "duration": 52,
    "start_time": "2022-03-24T06:31:47.423Z"
   },
   {
    "duration": 14,
    "start_time": "2022-03-24T06:31:47.477Z"
   },
   {
    "duration": 55,
    "start_time": "2022-03-24T06:31:47.493Z"
   },
   {
    "duration": 15,
    "start_time": "2022-03-24T06:31:47.550Z"
   },
   {
    "duration": 33,
    "start_time": "2022-03-24T06:31:47.569Z"
   },
   {
    "duration": 42,
    "start_time": "2022-03-24T06:31:47.603Z"
   },
   {
    "duration": 37,
    "start_time": "2022-03-24T06:31:47.647Z"
   },
   {
    "duration": 23,
    "start_time": "2022-03-24T06:31:47.686Z"
   },
   {
    "duration": 46,
    "start_time": "2022-03-24T06:31:47.711Z"
   },
   {
    "duration": 6,
    "start_time": "2022-03-24T06:31:47.759Z"
   },
   {
    "duration": 9,
    "start_time": "2022-03-24T06:31:47.767Z"
   },
   {
    "duration": 8,
    "start_time": "2022-03-24T06:31:47.778Z"
   },
   {
    "duration": 16,
    "start_time": "2022-03-24T06:31:47.787Z"
   },
   {
    "duration": 44,
    "start_time": "2022-03-24T06:31:47.805Z"
   },
   {
    "duration": 15,
    "start_time": "2022-03-24T06:31:47.851Z"
   },
   {
    "duration": 819,
    "start_time": "2022-03-24T06:31:47.867Z"
   },
   {
    "duration": 1159,
    "start_time": "2022-03-24T06:31:48.688Z"
   },
   {
    "duration": 4,
    "start_time": "2022-03-24T06:31:49.849Z"
   },
   {
    "duration": 11,
    "start_time": "2022-03-24T06:31:49.854Z"
   },
   {
    "duration": 8,
    "start_time": "2022-03-24T06:31:49.867Z"
   },
   {
    "duration": 70,
    "start_time": "2022-03-24T06:31:49.877Z"
   },
   {
    "duration": 14,
    "start_time": "2022-03-24T06:31:49.949Z"
   },
   {
    "duration": 12,
    "start_time": "2022-03-24T06:31:49.966Z"
   },
   {
    "duration": 60,
    "start_time": "2022-03-24T06:31:49.980Z"
   },
   {
    "duration": 15,
    "start_time": "2022-03-24T06:31:50.044Z"
   },
   {
    "duration": 12,
    "start_time": "2022-03-24T06:31:50.061Z"
   },
   {
    "duration": 6,
    "start_time": "2022-03-24T06:31:50.075Z"
   },
   {
    "duration": 55,
    "start_time": "2022-03-24T06:31:50.082Z"
   },
   {
    "duration": 190,
    "start_time": "2022-03-24T06:31:50.145Z"
   },
   {
    "duration": 197,
    "start_time": "2022-03-24T06:31:50.337Z"
   },
   {
    "duration": 102,
    "start_time": "2022-03-24T06:31:50.536Z"
   },
   {
    "duration": 95,
    "start_time": "2022-03-24T06:31:50.641Z"
   },
   {
    "duration": 25,
    "start_time": "2022-03-24T06:31:50.738Z"
   },
   {
    "duration": 15,
    "start_time": "2022-03-24T06:31:50.765Z"
   },
   {
    "duration": 10,
    "start_time": "2022-03-24T06:31:50.781Z"
   },
   {
    "duration": 19,
    "start_time": "2022-03-24T06:31:50.841Z"
   },
   {
    "duration": 9,
    "start_time": "2022-03-24T06:33:31.850Z"
   },
   {
    "duration": 8,
    "start_time": "2022-03-24T06:34:12.194Z"
   },
   {
    "duration": 8,
    "start_time": "2022-03-24T06:52:59.958Z"
   },
   {
    "duration": 9,
    "start_time": "2022-03-24T06:53:01.030Z"
   },
   {
    "duration": 8,
    "start_time": "2022-03-24T06:53:01.998Z"
   },
   {
    "duration": 9,
    "start_time": "2022-03-24T06:54:43.084Z"
   },
   {
    "duration": 8,
    "start_time": "2022-03-24T06:54:44.134Z"
   },
   {
    "duration": 11,
    "start_time": "2022-03-24T06:54:46.063Z"
   },
   {
    "duration": 9,
    "start_time": "2022-03-24T06:58:08.249Z"
   },
   {
    "duration": 9,
    "start_time": "2022-03-24T06:58:14.955Z"
   },
   {
    "duration": 9,
    "start_time": "2022-03-24T06:58:19.322Z"
   },
   {
    "duration": 9,
    "start_time": "2022-03-24T06:58:27.296Z"
   },
   {
    "duration": 10,
    "start_time": "2022-03-24T06:58:30.928Z"
   },
   {
    "duration": 4,
    "start_time": "2022-03-24T07:42:36.475Z"
   },
   {
    "duration": 9,
    "start_time": "2022-03-24T07:42:37.828Z"
   },
   {
    "duration": 10,
    "start_time": "2022-03-24T07:42:39.292Z"
   },
   {
    "duration": 9,
    "start_time": "2022-03-24T07:42:40.396Z"
   },
   {
    "duration": 4,
    "start_time": "2022-03-24T07:46:33.256Z"
   },
   {
    "duration": 8,
    "start_time": "2022-03-24T07:46:34.576Z"
   },
   {
    "duration": 4,
    "start_time": "2022-03-24T07:47:21.463Z"
   },
   {
    "duration": 8,
    "start_time": "2022-03-24T07:47:22.953Z"
   },
   {
    "duration": 3,
    "start_time": "2022-03-24T07:47:34.999Z"
   },
   {
    "duration": 8,
    "start_time": "2022-03-24T07:47:35.928Z"
   },
   {
    "duration": 9,
    "start_time": "2022-03-24T07:47:36.999Z"
   },
   {
    "duration": 9,
    "start_time": "2022-03-24T07:47:37.992Z"
   },
   {
    "duration": 3,
    "start_time": "2022-03-24T07:52:21.257Z"
   },
   {
    "duration": 8,
    "start_time": "2022-03-24T07:52:23.090Z"
   },
   {
    "duration": 8,
    "start_time": "2022-03-24T07:52:24.403Z"
   },
   {
    "duration": 9,
    "start_time": "2022-03-24T07:52:25.339Z"
   },
   {
    "duration": 141,
    "start_time": "2022-03-24T08:17:33.656Z"
   },
   {
    "duration": 10,
    "start_time": "2022-03-24T08:17:45.320Z"
   },
   {
    "duration": 9,
    "start_time": "2022-03-24T08:18:05.719Z"
   },
   {
    "duration": 9,
    "start_time": "2022-03-24T08:18:06.510Z"
   },
   {
    "duration": 9,
    "start_time": "2022-03-24T08:18:07.502Z"
   },
   {
    "duration": 21,
    "start_time": "2022-03-24T08:18:47.679Z"
   },
   {
    "duration": 13,
    "start_time": "2022-03-24T08:19:03.262Z"
   },
   {
    "duration": 13,
    "start_time": "2022-03-24T08:19:22.981Z"
   },
   {
    "duration": 4,
    "start_time": "2022-03-24T08:19:54.884Z"
   },
   {
    "duration": 22,
    "start_time": "2022-03-24T08:19:57.564Z"
   },
   {
    "duration": 3,
    "start_time": "2022-03-24T08:20:46.084Z"
   },
   {
    "duration": 1715,
    "start_time": "2022-03-24T08:20:50.546Z"
   },
   {
    "duration": 134,
    "start_time": "2022-03-24T08:20:52.263Z"
   },
   {
    "duration": 125,
    "start_time": "2022-03-24T08:20:52.399Z"
   },
   {
    "duration": 134,
    "start_time": "2022-03-24T08:20:52.526Z"
   },
   {
    "duration": 15,
    "start_time": "2022-03-24T08:20:52.663Z"
   },
   {
    "duration": 54,
    "start_time": "2022-03-24T08:20:52.680Z"
   },
   {
    "duration": 14,
    "start_time": "2022-03-24T08:20:52.736Z"
   },
   {
    "duration": 34,
    "start_time": "2022-03-24T08:20:52.752Z"
   },
   {
    "duration": 14,
    "start_time": "2022-03-24T08:20:52.788Z"
   },
   {
    "duration": 59,
    "start_time": "2022-03-24T08:20:52.804Z"
   },
   {
    "duration": 10,
    "start_time": "2022-03-24T08:20:52.865Z"
   },
   {
    "duration": 40,
    "start_time": "2022-03-24T08:20:52.876Z"
   },
   {
    "duration": 35,
    "start_time": "2022-03-24T08:20:52.918Z"
   },
   {
    "duration": 29,
    "start_time": "2022-03-24T08:20:52.956Z"
   },
   {
    "duration": 6,
    "start_time": "2022-03-24T08:20:52.986Z"
   },
   {
    "duration": 7,
    "start_time": "2022-03-24T08:20:52.993Z"
   },
   {
    "duration": 6,
    "start_time": "2022-03-24T08:20:53.033Z"
   },
   {
    "duration": 16,
    "start_time": "2022-03-24T08:20:53.040Z"
   },
   {
    "duration": 16,
    "start_time": "2022-03-24T08:20:53.057Z"
   },
   {
    "duration": 15,
    "start_time": "2022-03-24T08:20:53.075Z"
   },
   {
    "duration": 773,
    "start_time": "2022-03-24T08:20:53.091Z"
   },
   {
    "duration": 638,
    "start_time": "2022-03-24T08:20:53.866Z"
   },
   {
    "duration": 5,
    "start_time": "2022-03-24T08:20:54.506Z"
   },
   {
    "duration": 22,
    "start_time": "2022-03-24T08:20:54.513Z"
   },
   {
    "duration": 7,
    "start_time": "2022-03-24T08:20:54.537Z"
   },
   {
    "duration": 16,
    "start_time": "2022-03-24T08:20:54.546Z"
   },
   {
    "duration": 14,
    "start_time": "2022-03-24T08:20:54.564Z"
   },
   {
    "duration": 13,
    "start_time": "2022-03-24T08:20:54.580Z"
   },
   {
    "duration": 6,
    "start_time": "2022-03-24T08:20:54.595Z"
   },
   {
    "duration": 37,
    "start_time": "2022-03-24T08:20:54.602Z"
   },
   {
    "duration": 10,
    "start_time": "2022-03-24T08:20:54.640Z"
   },
   {
    "duration": 5,
    "start_time": "2022-03-24T08:20:54.652Z"
   },
   {
    "duration": 6,
    "start_time": "2022-03-24T08:20:54.660Z"
   },
   {
    "duration": 70,
    "start_time": "2022-03-24T08:20:54.667Z"
   },
   {
    "duration": 110,
    "start_time": "2022-03-24T08:20:54.739Z"
   },
   {
    "duration": 106,
    "start_time": "2022-03-24T08:20:54.934Z"
   },
   {
    "duration": 91,
    "start_time": "2022-03-24T08:20:55.042Z"
   },
   {
    "duration": 96,
    "start_time": "2022-03-24T08:20:55.139Z"
   },
   {
    "duration": 5,
    "start_time": "2022-03-24T08:20:55.237Z"
   },
   {
    "duration": 7,
    "start_time": "2022-03-24T08:20:55.244Z"
   },
   {
    "duration": 9,
    "start_time": "2022-03-24T08:20:55.255Z"
   },
   {
    "duration": 131,
    "start_time": "2022-03-24T08:20:55.266Z"
   },
   {
    "duration": 0,
    "start_time": "2022-03-24T08:20:55.399Z"
   },
   {
    "duration": 0,
    "start_time": "2022-03-24T08:20:55.400Z"
   },
   {
    "duration": 3,
    "start_time": "2022-03-24T08:24:47.731Z"
   },
   {
    "duration": 23,
    "start_time": "2022-03-24T08:24:49.052Z"
   },
   {
    "duration": 4,
    "start_time": "2022-03-24T08:26:49.985Z"
   },
   {
    "duration": 21,
    "start_time": "2022-03-24T08:27:49.561Z"
   },
   {
    "duration": 23,
    "start_time": "2022-03-24T08:28:06.736Z"
   },
   {
    "duration": 1318,
    "start_time": "2022-03-24T08:28:57.015Z"
   },
   {
    "duration": 2433,
    "start_time": "2022-03-24T08:29:01.023Z"
   },
   {
    "duration": 22,
    "start_time": "2022-03-24T08:29:07.303Z"
   },
   {
    "duration": 7,
    "start_time": "2022-03-24T08:35:33.087Z"
   },
   {
    "duration": 4,
    "start_time": "2022-03-24T08:35:42.376Z"
   },
   {
    "duration": 4,
    "start_time": "2022-03-24T08:36:02.398Z"
   },
   {
    "duration": 141,
    "start_time": "2022-03-24T08:36:02.404Z"
   },
   {
    "duration": 129,
    "start_time": "2022-03-24T08:36:02.547Z"
   },
   {
    "duration": 122,
    "start_time": "2022-03-24T08:36:02.678Z"
   },
   {
    "duration": 15,
    "start_time": "2022-03-24T08:36:02.802Z"
   },
   {
    "duration": 49,
    "start_time": "2022-03-24T08:36:02.819Z"
   },
   {
    "duration": 13,
    "start_time": "2022-03-24T08:36:02.869Z"
   },
   {
    "duration": 56,
    "start_time": "2022-03-24T08:36:02.884Z"
   },
   {
    "duration": 15,
    "start_time": "2022-03-24T08:36:02.941Z"
   },
   {
    "duration": 32,
    "start_time": "2022-03-24T08:36:02.959Z"
   },
   {
    "duration": 9,
    "start_time": "2022-03-24T08:36:02.993Z"
   },
   {
    "duration": 58,
    "start_time": "2022-03-24T08:36:03.004Z"
   },
   {
    "duration": 23,
    "start_time": "2022-03-24T08:36:03.064Z"
   },
   {
    "duration": 53,
    "start_time": "2022-03-24T08:36:03.089Z"
   },
   {
    "duration": 7,
    "start_time": "2022-03-24T08:36:03.143Z"
   },
   {
    "duration": 7,
    "start_time": "2022-03-24T08:36:03.151Z"
   },
   {
    "duration": 6,
    "start_time": "2022-03-24T08:36:03.160Z"
   },
   {
    "duration": 17,
    "start_time": "2022-03-24T08:36:03.167Z"
   },
   {
    "duration": 60,
    "start_time": "2022-03-24T08:36:03.186Z"
   },
   {
    "duration": 24,
    "start_time": "2022-03-24T08:36:03.248Z"
   },
   {
    "duration": 922,
    "start_time": "2022-03-24T08:36:03.274Z"
   },
   {
    "duration": 792,
    "start_time": "2022-03-24T08:36:04.198Z"
   },
   {
    "duration": 5,
    "start_time": "2022-03-24T08:36:04.992Z"
   },
   {
    "duration": 12,
    "start_time": "2022-03-24T08:36:04.998Z"
   },
   {
    "duration": 7,
    "start_time": "2022-03-24T08:36:05.012Z"
   },
   {
    "duration": 22,
    "start_time": "2022-03-24T08:36:05.021Z"
   },
   {
    "duration": 13,
    "start_time": "2022-03-24T08:36:05.045Z"
   },
   {
    "duration": 13,
    "start_time": "2022-03-24T08:36:05.061Z"
   },
   {
    "duration": 7,
    "start_time": "2022-03-24T08:36:05.075Z"
   },
   {
    "duration": 12,
    "start_time": "2022-03-24T08:36:05.083Z"
   },
   {
    "duration": 37,
    "start_time": "2022-03-24T08:36:05.096Z"
   },
   {
    "duration": 10,
    "start_time": "2022-03-24T08:36:05.135Z"
   },
   {
    "duration": 5,
    "start_time": "2022-03-24T08:36:05.148Z"
   },
   {
    "duration": 20,
    "start_time": "2022-03-24T08:36:05.155Z"
   },
   {
    "duration": 165,
    "start_time": "2022-03-24T08:36:05.177Z"
   },
   {
    "duration": 187,
    "start_time": "2022-03-24T08:36:05.347Z"
   },
   {
    "duration": 100,
    "start_time": "2022-03-24T08:36:05.536Z"
   },
   {
    "duration": 4,
    "start_time": "2022-03-24T08:36:05.638Z"
   },
   {
    "duration": 4,
    "start_time": "2022-03-24T08:36:34.078Z"
   },
   {
    "duration": 4,
    "start_time": "2022-03-24T08:36:40.030Z"
   },
   {
    "duration": 5,
    "start_time": "2022-03-24T08:37:12.389Z"
   },
   {
    "duration": 4,
    "start_time": "2022-03-24T08:37:21.198Z"
   },
   {
    "duration": 4,
    "start_time": "2022-03-24T08:37:25.741Z"
   },
   {
    "duration": 6,
    "start_time": "2022-03-24T08:37:27.469Z"
   },
   {
    "duration": 6,
    "start_time": "2022-03-24T08:38:26.829Z"
   },
   {
    "duration": 22,
    "start_time": "2022-03-24T08:38:34.828Z"
   },
   {
    "duration": 1431,
    "start_time": "2022-03-24T08:38:50.046Z"
   },
   {
    "duration": 132,
    "start_time": "2022-03-24T08:38:51.479Z"
   },
   {
    "duration": 126,
    "start_time": "2022-03-24T08:38:51.613Z"
   },
   {
    "duration": 128,
    "start_time": "2022-03-24T08:38:51.742Z"
   },
   {
    "duration": 15,
    "start_time": "2022-03-24T08:38:51.872Z"
   },
   {
    "duration": 53,
    "start_time": "2022-03-24T08:38:51.889Z"
   },
   {
    "duration": 14,
    "start_time": "2022-03-24T08:38:51.944Z"
   },
   {
    "duration": 39,
    "start_time": "2022-03-24T08:38:51.959Z"
   },
   {
    "duration": 34,
    "start_time": "2022-03-24T08:38:52.000Z"
   },
   {
    "duration": 33,
    "start_time": "2022-03-24T08:38:52.037Z"
   },
   {
    "duration": 10,
    "start_time": "2022-03-24T08:38:52.072Z"
   },
   {
    "duration": 53,
    "start_time": "2022-03-24T08:38:52.083Z"
   },
   {
    "duration": 24,
    "start_time": "2022-03-24T08:38:52.138Z"
   },
   {
    "duration": 28,
    "start_time": "2022-03-24T08:38:52.164Z"
   },
   {
    "duration": 5,
    "start_time": "2022-03-24T08:38:52.194Z"
   },
   {
    "duration": 34,
    "start_time": "2022-03-24T08:38:52.201Z"
   },
   {
    "duration": 6,
    "start_time": "2022-03-24T08:38:52.236Z"
   },
   {
    "duration": 23,
    "start_time": "2022-03-24T08:38:52.244Z"
   },
   {
    "duration": 16,
    "start_time": "2022-03-24T08:38:52.269Z"
   },
   {
    "duration": 16,
    "start_time": "2022-03-24T08:38:52.287Z"
   },
   {
    "duration": 750,
    "start_time": "2022-03-24T08:38:52.305Z"
   },
   {
    "duration": 642,
    "start_time": "2022-03-24T08:38:53.057Z"
   },
   {
    "duration": 5,
    "start_time": "2022-03-24T08:38:53.701Z"
   },
   {
    "duration": 24,
    "start_time": "2022-03-24T08:38:53.707Z"
   },
   {
    "duration": 16,
    "start_time": "2022-03-24T08:38:53.733Z"
   },
   {
    "duration": 16,
    "start_time": "2022-03-24T08:38:53.751Z"
   },
   {
    "duration": 13,
    "start_time": "2022-03-24T08:38:53.769Z"
   },
   {
    "duration": 27,
    "start_time": "2022-03-24T08:38:53.787Z"
   },
   {
    "duration": 7,
    "start_time": "2022-03-24T08:38:53.816Z"
   },
   {
    "duration": 15,
    "start_time": "2022-03-24T08:38:53.825Z"
   },
   {
    "duration": 14,
    "start_time": "2022-03-24T08:38:53.842Z"
   },
   {
    "duration": 8,
    "start_time": "2022-03-24T08:38:53.858Z"
   },
   {
    "duration": 9,
    "start_time": "2022-03-24T08:38:53.868Z"
   },
   {
    "duration": 57,
    "start_time": "2022-03-24T08:38:53.878Z"
   },
   {
    "duration": 106,
    "start_time": "2022-03-24T08:38:53.937Z"
   },
   {
    "duration": 193,
    "start_time": "2022-03-24T08:38:54.045Z"
   },
   {
    "duration": 98,
    "start_time": "2022-03-24T08:38:54.241Z"
   },
   {
    "duration": 97,
    "start_time": "2022-03-24T08:38:54.344Z"
   },
   {
    "duration": 10,
    "start_time": "2022-03-24T08:38:54.443Z"
   },
   {
    "duration": 26,
    "start_time": "2022-03-24T08:38:54.454Z"
   },
   {
    "duration": 16,
    "start_time": "2022-03-24T08:38:54.482Z"
   },
   {
    "duration": 16,
    "start_time": "2022-03-24T08:38:54.499Z"
   },
   {
    "duration": 21,
    "start_time": "2022-03-24T08:38:54.516Z"
   },
   {
    "duration": 118,
    "start_time": "2022-03-24T08:38:54.539Z"
   },
   {
    "duration": 0,
    "start_time": "2022-03-24T08:38:54.659Z"
   },
   {
    "duration": 0,
    "start_time": "2022-03-24T08:38:54.660Z"
   },
   {
    "duration": 21,
    "start_time": "2022-03-24T08:41:30.169Z"
   },
   {
    "duration": 9,
    "start_time": "2022-03-24T08:42:06.464Z"
   },
   {
    "duration": 1561,
    "start_time": "2022-03-24T08:42:39.873Z"
   },
   {
    "duration": 192,
    "start_time": "2022-03-24T08:42:41.436Z"
   },
   {
    "duration": 166,
    "start_time": "2022-03-24T08:42:41.632Z"
   },
   {
    "duration": 173,
    "start_time": "2022-03-24T08:42:41.801Z"
   },
   {
    "duration": 15,
    "start_time": "2022-03-24T08:42:41.976Z"
   },
   {
    "duration": 55,
    "start_time": "2022-03-24T08:42:41.993Z"
   },
   {
    "duration": 24,
    "start_time": "2022-03-24T08:42:42.050Z"
   },
   {
    "duration": 34,
    "start_time": "2022-03-24T08:42:42.076Z"
   },
   {
    "duration": 27,
    "start_time": "2022-03-24T08:42:42.111Z"
   },
   {
    "duration": 32,
    "start_time": "2022-03-24T08:42:42.141Z"
   },
   {
    "duration": 11,
    "start_time": "2022-03-24T08:42:42.174Z"
   },
   {
    "duration": 56,
    "start_time": "2022-03-24T08:42:42.186Z"
   },
   {
    "duration": 23,
    "start_time": "2022-03-24T08:42:42.244Z"
   },
   {
    "duration": 29,
    "start_time": "2022-03-24T08:42:42.269Z"
   },
   {
    "duration": 7,
    "start_time": "2022-03-24T08:42:42.300Z"
   },
   {
    "duration": 8,
    "start_time": "2022-03-24T08:42:42.333Z"
   },
   {
    "duration": 9,
    "start_time": "2022-03-24T08:42:42.342Z"
   },
   {
    "duration": 17,
    "start_time": "2022-03-24T08:42:42.353Z"
   },
   {
    "duration": 17,
    "start_time": "2022-03-24T08:42:42.372Z"
   },
   {
    "duration": 52,
    "start_time": "2022-03-24T08:42:42.391Z"
   },
   {
    "duration": 750,
    "start_time": "2022-03-24T08:42:42.445Z"
   },
   {
    "duration": 900,
    "start_time": "2022-03-24T08:42:43.198Z"
   },
   {
    "duration": 6,
    "start_time": "2022-03-24T08:42:44.100Z"
   },
   {
    "duration": 11,
    "start_time": "2022-03-24T08:42:44.108Z"
   },
   {
    "duration": 6,
    "start_time": "2022-03-24T08:42:44.132Z"
   },
   {
    "duration": 18,
    "start_time": "2022-03-24T08:42:44.140Z"
   },
   {
    "duration": 27,
    "start_time": "2022-03-24T08:42:44.160Z"
   },
   {
    "duration": 17,
    "start_time": "2022-03-24T08:42:44.192Z"
   },
   {
    "duration": 22,
    "start_time": "2022-03-24T08:42:44.211Z"
   },
   {
    "duration": 15,
    "start_time": "2022-03-24T08:42:44.236Z"
   },
   {
    "duration": 15,
    "start_time": "2022-03-24T08:42:44.254Z"
   },
   {
    "duration": 11,
    "start_time": "2022-03-24T08:42:44.271Z"
   },
   {
    "duration": 12,
    "start_time": "2022-03-24T08:42:44.284Z"
   },
   {
    "duration": 46,
    "start_time": "2022-03-24T08:42:44.298Z"
   },
   {
    "duration": 195,
    "start_time": "2022-03-24T08:42:44.347Z"
   },
   {
    "duration": 122,
    "start_time": "2022-03-24T08:42:44.544Z"
   },
   {
    "duration": 103,
    "start_time": "2022-03-24T08:42:44.734Z"
   },
   {
    "duration": 13,
    "start_time": "2022-03-24T08:42:44.839Z"
   },
   {
    "duration": 16,
    "start_time": "2022-03-24T08:42:44.853Z"
   },
   {
    "duration": 11,
    "start_time": "2022-03-24T08:42:44.871Z"
   },
   {
    "duration": 10,
    "start_time": "2022-03-24T08:42:44.884Z"
   },
   {
    "duration": 6,
    "start_time": "2022-03-24T08:42:44.896Z"
   },
   {
    "duration": 7,
    "start_time": "2022-03-24T08:42:44.904Z"
   },
   {
    "duration": 11,
    "start_time": "2022-03-24T08:42:44.913Z"
   },
   {
    "duration": 148,
    "start_time": "2022-03-24T08:42:44.926Z"
   },
   {
    "duration": 0,
    "start_time": "2022-03-24T08:42:45.076Z"
   },
   {
    "duration": 0,
    "start_time": "2022-03-24T08:42:45.078Z"
   },
   {
    "duration": 3,
    "start_time": "2022-03-24T08:43:27.367Z"
   },
   {
    "duration": 4,
    "start_time": "2022-03-24T08:43:28.167Z"
   },
   {
    "duration": 5,
    "start_time": "2022-03-24T08:43:29.223Z"
   },
   {
    "duration": 5,
    "start_time": "2022-03-24T08:43:31.054Z"
   },
   {
    "duration": 30,
    "start_time": "2022-03-24T08:43:33.646Z"
   },
   {
    "duration": 23,
    "start_time": "2022-03-24T08:44:19.901Z"
   },
   {
    "duration": 12,
    "start_time": "2022-03-24T08:45:01.509Z"
   },
   {
    "duration": 10,
    "start_time": "2022-03-24T08:45:38.843Z"
   },
   {
    "duration": 5,
    "start_time": "2022-03-24T08:45:49.524Z"
   },
   {
    "duration": 21,
    "start_time": "2022-03-24T08:45:56.356Z"
   },
   {
    "duration": 6,
    "start_time": "2022-03-24T08:46:02.477Z"
   },
   {
    "duration": 5,
    "start_time": "2022-03-24T08:46:23.619Z"
   },
   {
    "duration": 11,
    "start_time": "2022-03-24T08:46:27.019Z"
   },
   {
    "duration": 6,
    "start_time": "2022-03-24T08:46:34.434Z"
   },
   {
    "duration": 10,
    "start_time": "2022-03-24T08:46:52.483Z"
   },
   {
    "duration": 9,
    "start_time": "2022-03-24T08:47:02.010Z"
   },
   {
    "duration": 26,
    "start_time": "2022-03-24T08:47:41.857Z"
   },
   {
    "duration": 9,
    "start_time": "2022-03-24T08:53:48.805Z"
   },
   {
    "duration": 3,
    "start_time": "2022-03-24T08:54:07.187Z"
   },
   {
    "duration": 4,
    "start_time": "2022-03-24T08:54:08.746Z"
   },
   {
    "duration": 8,
    "start_time": "2022-03-24T08:54:10.034Z"
   },
   {
    "duration": 8,
    "start_time": "2022-03-24T08:54:11.218Z"
   },
   {
    "duration": 20,
    "start_time": "2022-03-24T08:54:12.627Z"
   },
   {
    "duration": 9,
    "start_time": "2022-03-24T08:55:04.730Z"
   },
   {
    "duration": 18,
    "start_time": "2022-03-24T08:55:11.993Z"
   },
   {
    "duration": 3,
    "start_time": "2022-03-24T08:58:15.735Z"
   },
   {
    "duration": 3,
    "start_time": "2022-03-24T08:58:16.686Z"
   },
   {
    "duration": 6,
    "start_time": "2022-03-24T08:58:17.447Z"
   },
   {
    "duration": 24,
    "start_time": "2022-03-24T08:58:18.919Z"
   },
   {
    "duration": 4,
    "start_time": "2022-03-24T09:16:50.177Z"
   },
   {
    "duration": 7,
    "start_time": "2022-03-24T09:16:51.593Z"
   },
   {
    "duration": 22,
    "start_time": "2022-03-24T09:16:52.840Z"
   },
   {
    "duration": 6,
    "start_time": "2022-03-24T10:04:33.649Z"
   },
   {
    "duration": 1461,
    "start_time": "2022-03-24T10:14:42.496Z"
   },
   {
    "duration": 137,
    "start_time": "2022-03-24T10:14:43.959Z"
   },
   {
    "duration": 131,
    "start_time": "2022-03-24T10:14:44.097Z"
   },
   {
    "duration": 133,
    "start_time": "2022-03-24T10:14:44.232Z"
   },
   {
    "duration": 15,
    "start_time": "2022-03-24T10:14:44.366Z"
   },
   {
    "duration": 51,
    "start_time": "2022-03-24T10:14:44.383Z"
   },
   {
    "duration": 15,
    "start_time": "2022-03-24T10:14:44.436Z"
   },
   {
    "duration": 94,
    "start_time": "2022-03-24T10:14:44.452Z"
   },
   {
    "duration": 16,
    "start_time": "2022-03-24T10:14:44.551Z"
   },
   {
    "duration": 92,
    "start_time": "2022-03-24T10:14:44.570Z"
   },
   {
    "duration": 11,
    "start_time": "2022-03-24T10:14:44.664Z"
   },
   {
    "duration": 93,
    "start_time": "2022-03-24T10:14:44.676Z"
   },
   {
    "duration": 80,
    "start_time": "2022-03-24T10:14:44.771Z"
   },
   {
    "duration": 89,
    "start_time": "2022-03-24T10:14:44.854Z"
   },
   {
    "duration": 17,
    "start_time": "2022-03-24T10:14:44.945Z"
   },
   {
    "duration": 13,
    "start_time": "2022-03-24T10:14:44.964Z"
   },
   {
    "duration": 63,
    "start_time": "2022-03-24T10:14:44.979Z"
   },
   {
    "duration": 26,
    "start_time": "2022-03-24T10:14:45.046Z"
   },
   {
    "duration": 67,
    "start_time": "2022-03-24T10:14:45.074Z"
   },
   {
    "duration": 19,
    "start_time": "2022-03-24T10:14:45.143Z"
   },
   {
    "duration": 1307,
    "start_time": "2022-03-24T10:14:45.163Z"
   },
   {
    "duration": 690,
    "start_time": "2022-03-24T10:14:46.472Z"
   },
   {
    "duration": 5,
    "start_time": "2022-03-24T10:14:47.165Z"
   },
   {
    "duration": 9,
    "start_time": "2022-03-24T10:14:47.172Z"
   },
   {
    "duration": 7,
    "start_time": "2022-03-24T10:14:47.183Z"
   },
   {
    "duration": 26,
    "start_time": "2022-03-24T10:14:47.192Z"
   },
   {
    "duration": 16,
    "start_time": "2022-03-24T10:14:47.220Z"
   },
   {
    "duration": 23,
    "start_time": "2022-03-24T10:14:47.241Z"
   },
   {
    "duration": 7,
    "start_time": "2022-03-24T10:14:47.266Z"
   },
   {
    "duration": 20,
    "start_time": "2022-03-24T10:14:47.274Z"
   },
   {
    "duration": 27,
    "start_time": "2022-03-24T10:14:47.296Z"
   },
   {
    "duration": 9,
    "start_time": "2022-03-24T10:14:47.325Z"
   },
   {
    "duration": 7,
    "start_time": "2022-03-24T10:14:47.352Z"
   },
   {
    "duration": 88,
    "start_time": "2022-03-24T10:14:47.361Z"
   },
   {
    "duration": 102,
    "start_time": "2022-03-24T10:14:47.453Z"
   },
   {
    "duration": 180,
    "start_time": "2022-03-24T10:14:47.558Z"
   },
   {
    "duration": 108,
    "start_time": "2022-03-24T10:14:47.740Z"
   },
   {
    "duration": 7,
    "start_time": "2022-03-24T10:14:47.850Z"
   },
   {
    "duration": 8,
    "start_time": "2022-03-24T10:14:47.859Z"
   },
   {
    "duration": 24,
    "start_time": "2022-03-24T10:14:47.869Z"
   },
   {
    "duration": 41,
    "start_time": "2022-03-24T10:14:47.895Z"
   },
   {
    "duration": 18,
    "start_time": "2022-03-24T10:14:47.943Z"
   },
   {
    "duration": 8,
    "start_time": "2022-03-24T10:14:47.962Z"
   },
   {
    "duration": 137,
    "start_time": "2022-03-24T10:14:47.971Z"
   },
   {
    "duration": 0,
    "start_time": "2022-03-24T10:14:48.110Z"
   },
   {
    "duration": 0,
    "start_time": "2022-03-24T10:14:48.111Z"
   },
   {
    "duration": 3,
    "start_time": "2022-03-24T10:15:43.783Z"
   },
   {
    "duration": 7,
    "start_time": "2022-03-24T10:15:47.647Z"
   },
   {
    "duration": 3,
    "start_time": "2022-03-24T10:15:49.605Z"
   },
   {
    "duration": 6,
    "start_time": "2022-03-24T10:15:50.670Z"
   },
   {
    "duration": 3,
    "start_time": "2022-03-24T10:15:51.854Z"
   },
   {
    "duration": 9,
    "start_time": "2022-03-24T10:15:53.630Z"
   },
   {
    "duration": 5,
    "start_time": "2022-03-24T10:28:40.160Z"
   },
   {
    "duration": 4,
    "start_time": "2022-03-24T10:28:44.857Z"
   },
   {
    "duration": 9,
    "start_time": "2022-03-24T10:28:46.016Z"
   },
   {
    "duration": 9,
    "start_time": "2022-03-24T10:28:47.567Z"
   },
   {
    "duration": 9,
    "start_time": "2022-03-24T10:28:49.480Z"
   },
   {
    "duration": 1598,
    "start_time": "2022-03-24T10:42:50.547Z"
   },
   {
    "duration": 138,
    "start_time": "2022-03-24T10:42:52.149Z"
   },
   {
    "duration": 135,
    "start_time": "2022-03-24T10:42:52.289Z"
   },
   {
    "duration": 147,
    "start_time": "2022-03-24T10:42:52.425Z"
   },
   {
    "duration": 16,
    "start_time": "2022-03-24T10:42:52.574Z"
   },
   {
    "duration": 57,
    "start_time": "2022-03-24T10:42:52.592Z"
   },
   {
    "duration": 16,
    "start_time": "2022-03-24T10:42:52.651Z"
   },
   {
    "duration": 34,
    "start_time": "2022-03-24T10:42:52.669Z"
   },
   {
    "duration": 47,
    "start_time": "2022-03-24T10:42:52.705Z"
   },
   {
    "duration": 32,
    "start_time": "2022-03-24T10:42:52.754Z"
   },
   {
    "duration": 10,
    "start_time": "2022-03-24T10:42:52.789Z"
   },
   {
    "duration": 60,
    "start_time": "2022-03-24T10:42:52.801Z"
   },
   {
    "duration": 23,
    "start_time": "2022-03-24T10:42:52.863Z"
   },
   {
    "duration": 49,
    "start_time": "2022-03-24T10:42:52.889Z"
   },
   {
    "duration": 7,
    "start_time": "2022-03-24T10:42:52.939Z"
   },
   {
    "duration": 19,
    "start_time": "2022-03-24T10:42:52.947Z"
   },
   {
    "duration": 13,
    "start_time": "2022-03-24T10:42:52.967Z"
   },
   {
    "duration": 20,
    "start_time": "2022-03-24T10:42:52.982Z"
   },
   {
    "duration": 17,
    "start_time": "2022-03-24T10:42:53.004Z"
   },
   {
    "duration": 22,
    "start_time": "2022-03-24T10:42:53.033Z"
   },
   {
    "duration": 1822,
    "start_time": "2022-03-24T10:42:53.057Z"
   },
   {
    "duration": 823,
    "start_time": "2022-03-24T10:42:54.933Z"
   },
   {
    "duration": 5,
    "start_time": "2022-03-24T10:42:55.759Z"
   },
   {
    "duration": 11,
    "start_time": "2022-03-24T10:42:55.766Z"
   },
   {
    "duration": 11,
    "start_time": "2022-03-24T10:42:55.779Z"
   },
   {
    "duration": 18,
    "start_time": "2022-03-24T10:42:55.791Z"
   },
   {
    "duration": 36,
    "start_time": "2022-03-24T10:42:55.810Z"
   },
   {
    "duration": 16,
    "start_time": "2022-03-24T10:42:55.848Z"
   },
   {
    "duration": 8,
    "start_time": "2022-03-24T10:42:55.866Z"
   },
   {
    "duration": 10,
    "start_time": "2022-03-24T10:42:55.875Z"
   },
   {
    "duration": 10,
    "start_time": "2022-03-24T10:42:55.886Z"
   },
   {
    "duration": 10,
    "start_time": "2022-03-24T10:42:55.897Z"
   },
   {
    "duration": 31,
    "start_time": "2022-03-24T10:42:55.909Z"
   },
   {
    "duration": 38,
    "start_time": "2022-03-24T10:42:55.942Z"
   },
   {
    "duration": 111,
    "start_time": "2022-03-24T10:42:56.033Z"
   },
   {
    "duration": 122,
    "start_time": "2022-03-24T10:42:56.148Z"
   },
   {
    "duration": 170,
    "start_time": "2022-03-24T10:42:56.275Z"
   },
   {
    "duration": 12,
    "start_time": "2022-03-24T10:42:56.447Z"
   },
   {
    "duration": 22,
    "start_time": "2022-03-24T10:42:56.460Z"
   },
   {
    "duration": 10,
    "start_time": "2022-03-24T10:42:56.484Z"
   },
   {
    "duration": 9,
    "start_time": "2022-03-24T10:42:56.498Z"
   },
   {
    "duration": 13,
    "start_time": "2022-03-24T10:42:56.508Z"
   },
   {
    "duration": 10,
    "start_time": "2022-03-24T10:42:56.523Z"
   },
   {
    "duration": 11,
    "start_time": "2022-03-24T10:42:56.534Z"
   },
   {
    "duration": 9,
    "start_time": "2022-03-24T11:16:40.917Z"
   },
   {
    "duration": 10,
    "start_time": "2022-03-24T11:18:12.626Z"
   },
   {
    "duration": 8,
    "start_time": "2022-03-24T11:18:13.849Z"
   },
   {
    "duration": 9,
    "start_time": "2022-03-24T11:18:14.954Z"
   },
   {
    "duration": 122,
    "start_time": "2022-03-24T12:03:57.152Z"
   },
   {
    "duration": 137,
    "start_time": "2022-03-24T12:04:41.975Z"
   },
   {
    "duration": 2426,
    "start_time": "2022-03-24T12:05:31.029Z"
   },
   {
    "duration": 305,
    "start_time": "2022-03-24T12:05:33.458Z"
   },
   {
    "duration": 132,
    "start_time": "2022-03-24T12:05:33.767Z"
   },
   {
    "duration": 146,
    "start_time": "2022-03-24T12:05:33.901Z"
   },
   {
    "duration": 21,
    "start_time": "2022-03-24T12:05:34.049Z"
   },
   {
    "duration": 47,
    "start_time": "2022-03-24T12:05:34.072Z"
   },
   {
    "duration": 23,
    "start_time": "2022-03-24T12:05:34.135Z"
   },
   {
    "duration": 32,
    "start_time": "2022-03-24T12:05:34.160Z"
   },
   {
    "duration": 15,
    "start_time": "2022-03-24T12:05:34.193Z"
   },
   {
    "duration": 63,
    "start_time": "2022-03-24T12:05:34.210Z"
   },
   {
    "duration": 10,
    "start_time": "2022-03-24T12:05:34.275Z"
   },
   {
    "duration": 49,
    "start_time": "2022-03-24T12:05:34.288Z"
   },
   {
    "duration": 35,
    "start_time": "2022-03-24T12:05:34.339Z"
   },
   {
    "duration": 30,
    "start_time": "2022-03-24T12:05:34.375Z"
   },
   {
    "duration": 11,
    "start_time": "2022-03-24T12:05:34.407Z"
   },
   {
    "duration": 11,
    "start_time": "2022-03-24T12:05:34.435Z"
   },
   {
    "duration": 21,
    "start_time": "2022-03-24T12:05:34.449Z"
   },
   {
    "duration": 36,
    "start_time": "2022-03-24T12:05:34.472Z"
   },
   {
    "duration": 17,
    "start_time": "2022-03-24T12:05:34.510Z"
   },
   {
    "duration": 49,
    "start_time": "2022-03-24T12:05:34.528Z"
   },
   {
    "duration": 905,
    "start_time": "2022-03-24T12:05:34.579Z"
   },
   {
    "duration": 736,
    "start_time": "2022-03-24T12:05:35.487Z"
   },
   {
    "duration": 13,
    "start_time": "2022-03-24T12:05:36.225Z"
   },
   {
    "duration": 22,
    "start_time": "2022-03-24T12:05:36.241Z"
   },
   {
    "duration": 13,
    "start_time": "2022-03-24T12:05:36.264Z"
   },
   {
    "duration": 19,
    "start_time": "2022-03-24T12:05:36.279Z"
   },
   {
    "duration": 13,
    "start_time": "2022-03-24T12:05:36.299Z"
   },
   {
    "duration": 17,
    "start_time": "2022-03-24T12:05:36.315Z"
   },
   {
    "duration": 16,
    "start_time": "2022-03-24T12:05:36.334Z"
   },
   {
    "duration": 14,
    "start_time": "2022-03-24T12:05:36.352Z"
   },
   {
    "duration": 12,
    "start_time": "2022-03-24T12:05:36.368Z"
   },
   {
    "duration": 12,
    "start_time": "2022-03-24T12:05:36.382Z"
   },
   {
    "duration": 13,
    "start_time": "2022-03-24T12:05:36.396Z"
   },
   {
    "duration": 45,
    "start_time": "2022-03-24T12:05:36.411Z"
   },
   {
    "duration": 174,
    "start_time": "2022-03-24T12:05:36.459Z"
   },
   {
    "duration": 116,
    "start_time": "2022-03-24T12:05:36.635Z"
   },
   {
    "duration": 196,
    "start_time": "2022-03-24T12:05:36.754Z"
   },
   {
    "duration": 56,
    "start_time": "2022-03-24T12:05:36.952Z"
   },
   {
    "duration": 27,
    "start_time": "2022-03-24T12:05:37.010Z"
   },
   {
    "duration": 20,
    "start_time": "2022-03-24T12:05:37.039Z"
   },
   {
    "duration": 13,
    "start_time": "2022-03-24T12:05:37.061Z"
   },
   {
    "duration": 11,
    "start_time": "2022-03-24T12:05:37.076Z"
   },
   {
    "duration": 8,
    "start_time": "2022-03-24T12:05:37.089Z"
   },
   {
    "duration": 9,
    "start_time": "2022-03-24T12:05:37.099Z"
   },
   {
    "duration": 161,
    "start_time": "2022-03-24T12:05:37.109Z"
   },
   {
    "duration": 21,
    "start_time": "2022-03-24T12:10:20.936Z"
   },
   {
    "duration": 13,
    "start_time": "2022-03-24T12:10:32.765Z"
   },
   {
    "duration": 13,
    "start_time": "2022-03-24T12:11:48.181Z"
   },
   {
    "duration": 1243,
    "start_time": "2022-03-24T12:12:01.950Z"
   },
   {
    "duration": 1236,
    "start_time": "2022-03-24T12:15:49.035Z"
   },
   {
    "duration": 1658,
    "start_time": "2022-03-24T12:17:07.287Z"
   },
   {
    "duration": 12,
    "start_time": "2022-03-24T13:20:37.306Z"
   },
   {
    "duration": 5,
    "start_time": "2022-03-24T13:21:38.503Z"
   },
   {
    "duration": 7,
    "start_time": "2022-03-24T13:22:07.230Z"
   },
   {
    "duration": 17,
    "start_time": "2022-03-24T13:22:23.247Z"
   },
   {
    "duration": 4,
    "start_time": "2022-03-24T13:22:45.052Z"
   },
   {
    "duration": 1338,
    "start_time": "2022-03-24T13:22:47.341Z"
   },
   {
    "duration": 1266,
    "start_time": "2022-03-24T13:23:07.429Z"
   },
   {
    "duration": 1507,
    "start_time": "2022-03-24T13:23:09.356Z"
   },
   {
    "duration": 7,
    "start_time": "2022-03-24T13:23:25.069Z"
   },
   {
    "duration": 1410,
    "start_time": "2022-03-24T13:23:27.268Z"
   },
   {
    "duration": 131,
    "start_time": "2022-03-24T13:24:44.739Z"
   },
   {
    "duration": 5,
    "start_time": "2022-03-24T13:25:00.874Z"
   },
   {
    "duration": 5,
    "start_time": "2022-03-24T13:25:28.818Z"
   },
   {
    "duration": 1731,
    "start_time": "2022-03-24T13:25:31.089Z"
   },
   {
    "duration": 5,
    "start_time": "2022-03-24T13:26:25.754Z"
   },
   {
    "duration": 1210,
    "start_time": "2022-03-24T13:26:27.985Z"
   },
   {
    "duration": 1238,
    "start_time": "2022-03-24T13:26:31.625Z"
   },
   {
    "duration": 1205,
    "start_time": "2022-03-24T13:26:35.632Z"
   },
   {
    "duration": 117,
    "start_time": "2022-03-24T13:27:41.961Z"
   },
   {
    "duration": 5,
    "start_time": "2022-03-24T13:27:49.784Z"
   },
   {
    "duration": 1251,
    "start_time": "2022-03-24T13:27:51.551Z"
   },
   {
    "duration": 130,
    "start_time": "2022-03-24T13:28:29.881Z"
   },
   {
    "duration": 162,
    "start_time": "2022-03-24T13:28:35.999Z"
   },
   {
    "duration": 5,
    "start_time": "2022-03-24T13:29:06.678Z"
   },
   {
    "duration": 6,
    "start_time": "2022-03-24T13:29:44.374Z"
   },
   {
    "duration": 4,
    "start_time": "2022-03-24T13:32:28.660Z"
   },
   {
    "duration": 1612,
    "start_time": "2022-03-24T13:32:33.207Z"
   },
   {
    "duration": 203,
    "start_time": "2022-03-24T13:32:34.821Z"
   },
   {
    "duration": 142,
    "start_time": "2022-03-24T13:32:35.026Z"
   },
   {
    "duration": 145,
    "start_time": "2022-03-24T13:32:35.170Z"
   },
   {
    "duration": 27,
    "start_time": "2022-03-24T13:32:35.317Z"
   },
   {
    "duration": 37,
    "start_time": "2022-03-24T13:32:35.346Z"
   },
   {
    "duration": 19,
    "start_time": "2022-03-24T13:32:35.385Z"
   },
   {
    "duration": 60,
    "start_time": "2022-03-24T13:32:35.406Z"
   },
   {
    "duration": 14,
    "start_time": "2022-03-24T13:32:35.468Z"
   },
   {
    "duration": 56,
    "start_time": "2022-03-24T13:32:35.486Z"
   },
   {
    "duration": 13,
    "start_time": "2022-03-24T13:32:35.544Z"
   },
   {
    "duration": 38,
    "start_time": "2022-03-24T13:32:35.558Z"
   },
   {
    "duration": 51,
    "start_time": "2022-03-24T13:32:35.598Z"
   },
   {
    "duration": 32,
    "start_time": "2022-03-24T13:32:35.650Z"
   },
   {
    "duration": 6,
    "start_time": "2022-03-24T13:32:35.683Z"
   },
   {
    "duration": 10,
    "start_time": "2022-03-24T13:32:35.691Z"
   },
   {
    "duration": 33,
    "start_time": "2022-03-24T13:32:35.703Z"
   },
   {
    "duration": 18,
    "start_time": "2022-03-24T13:32:35.738Z"
   },
   {
    "duration": 24,
    "start_time": "2022-03-24T13:32:35.758Z"
   },
   {
    "duration": 15,
    "start_time": "2022-03-24T13:32:35.784Z"
   },
   {
    "duration": 1099,
    "start_time": "2022-03-24T13:32:35.801Z"
   },
   {
    "duration": 943,
    "start_time": "2022-03-24T13:32:36.902Z"
   },
   {
    "duration": 7,
    "start_time": "2022-03-24T13:32:37.847Z"
   },
   {
    "duration": 11,
    "start_time": "2022-03-24T13:32:37.855Z"
   },
   {
    "duration": 11,
    "start_time": "2022-03-24T13:32:37.868Z"
   },
   {
    "duration": 19,
    "start_time": "2022-03-24T13:32:37.881Z"
   },
   {
    "duration": 34,
    "start_time": "2022-03-24T13:32:37.901Z"
   },
   {
    "duration": 16,
    "start_time": "2022-03-24T13:32:37.939Z"
   },
   {
    "duration": 16,
    "start_time": "2022-03-24T13:32:37.957Z"
   },
   {
    "duration": 11,
    "start_time": "2022-03-24T13:32:37.975Z"
   },
   {
    "duration": 11,
    "start_time": "2022-03-24T13:32:37.988Z"
   },
   {
    "duration": 6,
    "start_time": "2022-03-24T13:32:38.000Z"
   },
   {
    "duration": 30,
    "start_time": "2022-03-24T13:32:38.007Z"
   },
   {
    "duration": 114,
    "start_time": "2022-03-24T13:32:38.039Z"
   },
   {
    "duration": 99,
    "start_time": "2022-03-24T13:32:38.158Z"
   },
   {
    "duration": 175,
    "start_time": "2022-03-24T13:32:38.259Z"
   },
   {
    "duration": 113,
    "start_time": "2022-03-24T13:32:38.436Z"
   },
   {
    "duration": 10,
    "start_time": "2022-03-24T13:32:38.551Z"
   },
   {
    "duration": 6,
    "start_time": "2022-03-24T13:32:38.564Z"
   },
   {
    "duration": 8,
    "start_time": "2022-03-24T13:32:38.573Z"
   },
   {
    "duration": 5,
    "start_time": "2022-03-24T13:32:38.583Z"
   },
   {
    "duration": 12,
    "start_time": "2022-03-24T13:32:38.590Z"
   },
   {
    "duration": 8,
    "start_time": "2022-03-24T13:32:38.605Z"
   },
   {
    "duration": 27,
    "start_time": "2022-03-24T13:32:38.615Z"
   },
   {
    "duration": 17,
    "start_time": "2022-03-24T13:32:38.644Z"
   },
   {
    "duration": 1411,
    "start_time": "2022-03-24T13:32:38.663Z"
   },
   {
    "duration": 0,
    "start_time": "2022-03-24T13:32:40.076Z"
   },
   {
    "duration": 0,
    "start_time": "2022-03-24T13:32:40.077Z"
   },
   {
    "duration": 0,
    "start_time": "2022-03-24T13:32:40.078Z"
   },
   {
    "duration": 5,
    "start_time": "2022-03-24T13:33:43.227Z"
   },
   {
    "duration": 1266,
    "start_time": "2022-03-24T13:33:47.266Z"
   },
   {
    "duration": 6,
    "start_time": "2022-03-24T13:34:13.538Z"
   },
   {
    "duration": 1235,
    "start_time": "2022-03-24T13:34:15.088Z"
   },
   {
    "duration": 1261,
    "start_time": "2022-03-24T13:34:17.960Z"
   },
   {
    "duration": 1393,
    "start_time": "2022-03-24T13:34:20.570Z"
   },
   {
    "duration": 5,
    "start_time": "2022-03-24T13:35:13.264Z"
   },
   {
    "duration": 1525,
    "start_time": "2022-03-24T13:35:14.800Z"
   },
   {
    "duration": 1508,
    "start_time": "2022-03-24T13:35:18.479Z"
   },
   {
    "duration": 1213,
    "start_time": "2022-03-24T13:35:21.752Z"
   },
   {
    "duration": 1510,
    "start_time": "2022-03-24T13:35:30.946Z"
   },
   {
    "duration": 149,
    "start_time": "2022-03-24T13:35:32.458Z"
   },
   {
    "duration": 133,
    "start_time": "2022-03-24T13:35:32.609Z"
   },
   {
    "duration": 135,
    "start_time": "2022-03-24T13:35:32.746Z"
   },
   {
    "duration": 15,
    "start_time": "2022-03-24T13:35:32.882Z"
   },
   {
    "duration": 51,
    "start_time": "2022-03-24T13:35:32.899Z"
   },
   {
    "duration": 13,
    "start_time": "2022-03-24T13:35:32.952Z"
   },
   {
    "duration": 38,
    "start_time": "2022-03-24T13:35:32.967Z"
   },
   {
    "duration": 32,
    "start_time": "2022-03-24T13:35:33.007Z"
   },
   {
    "duration": 34,
    "start_time": "2022-03-24T13:35:33.043Z"
   },
   {
    "duration": 11,
    "start_time": "2022-03-24T13:35:33.079Z"
   },
   {
    "duration": 77,
    "start_time": "2022-03-24T13:35:33.093Z"
   },
   {
    "duration": 33,
    "start_time": "2022-03-24T13:35:33.172Z"
   },
   {
    "duration": 56,
    "start_time": "2022-03-24T13:35:33.206Z"
   },
   {
    "duration": 7,
    "start_time": "2022-03-24T13:35:33.264Z"
   },
   {
    "duration": 7,
    "start_time": "2022-03-24T13:35:33.273Z"
   },
   {
    "duration": 8,
    "start_time": "2022-03-24T13:35:33.282Z"
   },
   {
    "duration": 42,
    "start_time": "2022-03-24T13:35:33.292Z"
   },
   {
    "duration": 23,
    "start_time": "2022-03-24T13:35:33.339Z"
   },
   {
    "duration": 25,
    "start_time": "2022-03-24T13:35:33.364Z"
   },
   {
    "duration": 1163,
    "start_time": "2022-03-24T13:35:33.391Z"
   },
   {
    "duration": 695,
    "start_time": "2022-03-24T13:35:34.556Z"
   },
   {
    "duration": 6,
    "start_time": "2022-03-24T13:35:35.252Z"
   },
   {
    "duration": 14,
    "start_time": "2022-03-24T13:35:35.260Z"
   },
   {
    "duration": 38,
    "start_time": "2022-03-24T13:35:35.276Z"
   },
   {
    "duration": 42,
    "start_time": "2022-03-24T13:35:35.316Z"
   },
   {
    "duration": 20,
    "start_time": "2022-03-24T13:35:35.359Z"
   },
   {
    "duration": 29,
    "start_time": "2022-03-24T13:35:35.383Z"
   },
   {
    "duration": 7,
    "start_time": "2022-03-24T13:35:35.414Z"
   },
   {
    "duration": 23,
    "start_time": "2022-03-24T13:35:35.422Z"
   },
   {
    "duration": 11,
    "start_time": "2022-03-24T13:35:35.448Z"
   },
   {
    "duration": 20,
    "start_time": "2022-03-24T13:35:35.461Z"
   },
   {
    "duration": 11,
    "start_time": "2022-03-24T13:35:35.483Z"
   },
   {
    "duration": 48,
    "start_time": "2022-03-24T13:35:35.495Z"
   },
   {
    "duration": 114,
    "start_time": "2022-03-24T13:35:35.545Z"
   },
   {
    "duration": 178,
    "start_time": "2022-03-24T13:35:35.661Z"
   },
   {
    "duration": 7,
    "start_time": "2022-03-24T13:35:35.842Z"
   },
   {
    "duration": 115,
    "start_time": "2022-03-24T13:35:35.850Z"
   },
   {
    "duration": 19,
    "start_time": "2022-03-24T13:35:35.967Z"
   },
   {
    "duration": 10,
    "start_time": "2022-03-24T13:35:35.988Z"
   },
   {
    "duration": 12,
    "start_time": "2022-03-24T13:35:36.001Z"
   },
   {
    "duration": 14,
    "start_time": "2022-03-24T13:35:36.015Z"
   },
   {
    "duration": 23,
    "start_time": "2022-03-24T13:35:36.031Z"
   },
   {
    "duration": 10,
    "start_time": "2022-03-24T13:35:36.056Z"
   },
   {
    "duration": 5,
    "start_time": "2022-03-24T13:35:36.068Z"
   },
   {
    "duration": 1366,
    "start_time": "2022-03-24T13:35:36.075Z"
   },
   {
    "duration": 1732,
    "start_time": "2022-03-24T13:35:37.443Z"
   },
   {
    "duration": 1225,
    "start_time": "2022-03-24T13:35:39.177Z"
   },
   {
    "duration": 3,
    "start_time": "2022-03-24T13:35:40.404Z"
   },
   {
    "duration": 6,
    "start_time": "2022-03-24T13:38:42.558Z"
   },
   {
    "duration": 1253,
    "start_time": "2022-03-24T13:38:43.853Z"
   },
   {
    "duration": 1249,
    "start_time": "2022-03-24T13:38:47.853Z"
   },
   {
    "duration": 1232,
    "start_time": "2022-03-24T13:38:50.485Z"
   },
   {
    "duration": 3,
    "start_time": "2022-03-24T13:40:21.909Z"
   },
   {
    "duration": 1512,
    "start_time": "2022-03-24T13:40:26.248Z"
   },
   {
    "duration": 156,
    "start_time": "2022-03-24T13:40:27.761Z"
   },
   {
    "duration": 140,
    "start_time": "2022-03-24T13:40:27.918Z"
   },
   {
    "duration": 134,
    "start_time": "2022-03-24T13:40:28.059Z"
   },
   {
    "duration": 16,
    "start_time": "2022-03-24T13:40:28.196Z"
   },
   {
    "duration": 52,
    "start_time": "2022-03-24T13:40:28.214Z"
   },
   {
    "duration": 13,
    "start_time": "2022-03-24T13:40:28.268Z"
   },
   {
    "duration": 64,
    "start_time": "2022-03-24T13:40:28.284Z"
   },
   {
    "duration": 13,
    "start_time": "2022-03-24T13:40:28.350Z"
   },
   {
    "duration": 32,
    "start_time": "2022-03-24T13:40:28.365Z"
   },
   {
    "duration": 12,
    "start_time": "2022-03-24T13:40:28.399Z"
   },
   {
    "duration": 58,
    "start_time": "2022-03-24T13:40:28.413Z"
   },
   {
    "duration": 22,
    "start_time": "2022-03-24T13:40:28.473Z"
   },
   {
    "duration": 55,
    "start_time": "2022-03-24T13:40:28.498Z"
   },
   {
    "duration": 6,
    "start_time": "2022-03-24T13:40:28.555Z"
   },
   {
    "duration": 9,
    "start_time": "2022-03-24T13:40:28.562Z"
   },
   {
    "duration": 6,
    "start_time": "2022-03-24T13:40:28.572Z"
   },
   {
    "duration": 16,
    "start_time": "2022-03-24T13:40:28.580Z"
   },
   {
    "duration": 49,
    "start_time": "2022-03-24T13:40:28.597Z"
   },
   {
    "duration": 18,
    "start_time": "2022-03-24T13:40:28.647Z"
   },
   {
    "duration": 1017,
    "start_time": "2022-03-24T13:40:28.667Z"
   },
   {
    "duration": 695,
    "start_time": "2022-03-24T13:40:29.685Z"
   },
   {
    "duration": 5,
    "start_time": "2022-03-24T13:40:30.382Z"
   },
   {
    "duration": 41,
    "start_time": "2022-03-24T13:40:30.388Z"
   },
   {
    "duration": 49,
    "start_time": "2022-03-24T13:40:30.430Z"
   },
   {
    "duration": 85,
    "start_time": "2022-03-24T13:40:30.481Z"
   },
   {
    "duration": 27,
    "start_time": "2022-03-24T13:40:30.568Z"
   },
   {
    "duration": 47,
    "start_time": "2022-03-24T13:40:30.597Z"
   },
   {
    "duration": 19,
    "start_time": "2022-03-24T13:40:30.645Z"
   },
   {
    "duration": 21,
    "start_time": "2022-03-24T13:40:30.666Z"
   },
   {
    "duration": 25,
    "start_time": "2022-03-24T13:40:30.689Z"
   },
   {
    "duration": 24,
    "start_time": "2022-03-24T13:40:30.716Z"
   },
   {
    "duration": 55,
    "start_time": "2022-03-24T13:40:30.742Z"
   },
   {
    "duration": 64,
    "start_time": "2022-03-24T13:40:30.799Z"
   },
   {
    "duration": 169,
    "start_time": "2022-03-24T13:40:30.865Z"
   },
   {
    "duration": 125,
    "start_time": "2022-03-24T13:40:31.036Z"
   },
   {
    "duration": 188,
    "start_time": "2022-03-24T13:40:31.163Z"
   },
   {
    "duration": 23,
    "start_time": "2022-03-24T13:40:31.352Z"
   },
   {
    "duration": 23,
    "start_time": "2022-03-24T13:40:31.377Z"
   },
   {
    "duration": 15,
    "start_time": "2022-03-24T13:40:31.401Z"
   },
   {
    "duration": 12,
    "start_time": "2022-03-24T13:40:31.419Z"
   },
   {
    "duration": 23,
    "start_time": "2022-03-24T13:40:31.443Z"
   },
   {
    "duration": 11,
    "start_time": "2022-03-24T13:40:31.467Z"
   },
   {
    "duration": 32,
    "start_time": "2022-03-24T13:40:31.479Z"
   },
   {
    "duration": 10,
    "start_time": "2022-03-24T13:40:31.513Z"
   },
   {
    "duration": 1262,
    "start_time": "2022-03-24T13:40:31.525Z"
   },
   {
    "duration": 1248,
    "start_time": "2022-03-24T13:40:32.789Z"
   },
   {
    "duration": 1229,
    "start_time": "2022-03-24T13:40:34.039Z"
   },
   {
    "duration": 3,
    "start_time": "2022-03-24T13:40:35.270Z"
   },
   {
    "duration": 5,
    "start_time": "2022-03-24T13:45:38.061Z"
   },
   {
    "duration": 1225,
    "start_time": "2022-03-24T13:45:39.277Z"
   },
   {
    "duration": 1250,
    "start_time": "2022-03-24T13:45:43.851Z"
   },
   {
    "duration": 1221,
    "start_time": "2022-03-24T13:45:46.491Z"
   },
   {
    "duration": 7,
    "start_time": "2022-03-24T13:46:36.571Z"
   },
   {
    "duration": 1298,
    "start_time": "2022-03-24T13:46:40.646Z"
   },
   {
    "duration": 1367,
    "start_time": "2022-03-24T13:46:43.562Z"
   },
   {
    "duration": 1772,
    "start_time": "2022-03-24T13:46:48.594Z"
   },
   {
    "duration": 8,
    "start_time": "2022-03-24T13:47:15.714Z"
   },
   {
    "duration": 1844,
    "start_time": "2022-03-24T13:47:18.562Z"
   },
   {
    "duration": 7,
    "start_time": "2022-03-24T13:48:16.754Z"
   },
   {
    "duration": 1420,
    "start_time": "2022-03-24T13:48:18.546Z"
   },
   {
    "duration": 1247,
    "start_time": "2022-03-24T13:48:22.642Z"
   },
   {
    "duration": 1489,
    "start_time": "2022-03-24T13:48:24.961Z"
   },
   {
    "duration": 6,
    "start_time": "2022-03-24T13:49:07.952Z"
   },
   {
    "duration": 1248,
    "start_time": "2022-03-24T13:49:10.416Z"
   },
   {
    "duration": 1184,
    "start_time": "2022-03-24T13:49:13.816Z"
   },
   {
    "duration": 1235,
    "start_time": "2022-03-24T13:49:16.736Z"
   },
   {
    "duration": 6,
    "start_time": "2022-03-24T14:22:17.369Z"
   },
   {
    "duration": 1374,
    "start_time": "2022-03-24T14:22:47.297Z"
   },
   {
    "duration": 1177,
    "start_time": "2022-03-24T14:23:19.200Z"
   },
   {
    "duration": 1207,
    "start_time": "2022-03-24T14:23:40.729Z"
   },
   {
    "duration": 1326,
    "start_time": "2022-03-24T14:23:42.953Z"
   },
   {
    "duration": 6,
    "start_time": "2022-03-24T14:33:20.454Z"
   },
   {
    "duration": 6,
    "start_time": "2022-03-24T14:33:41.790Z"
   },
   {
    "duration": 1687,
    "start_time": "2022-03-24T14:33:44.673Z"
   },
   {
    "duration": 6,
    "start_time": "2022-03-24T14:34:02.807Z"
   },
   {
    "duration": 8,
    "start_time": "2022-03-24T14:34:08.758Z"
   },
   {
    "duration": 1194,
    "start_time": "2022-03-24T14:34:09.966Z"
   },
   {
    "duration": 1191,
    "start_time": "2022-03-24T14:34:12.502Z"
   },
   {
    "duration": 1160,
    "start_time": "2022-03-24T14:34:15.309Z"
   },
   {
    "duration": 5,
    "start_time": "2022-03-24T14:34:26.285Z"
   },
   {
    "duration": 1157,
    "start_time": "2022-03-24T14:34:27.982Z"
   },
   {
    "duration": 1205,
    "start_time": "2022-03-24T14:34:30.269Z"
   },
   {
    "duration": 1192,
    "start_time": "2022-03-24T14:34:32.565Z"
   },
   {
    "duration": 6,
    "start_time": "2022-03-24T14:34:34.701Z"
   },
   {
    "duration": 476,
    "start_time": "2022-03-24T14:34:43.694Z"
   },
   {
    "duration": 6,
    "start_time": "2022-03-24T14:35:01.909Z"
   },
   {
    "duration": 1199,
    "start_time": "2022-03-24T14:35:06.728Z"
   },
   {
    "duration": 1300,
    "start_time": "2022-03-24T14:35:09.445Z"
   },
   {
    "duration": 1230,
    "start_time": "2022-03-24T14:35:11.973Z"
   },
   {
    "duration": 498,
    "start_time": "2022-03-24T14:35:15.934Z"
   },
   {
    "duration": 595,
    "start_time": "2022-03-24T14:39:42.137Z"
   },
   {
    "duration": 740,
    "start_time": "2022-03-24T14:39:57.025Z"
   },
   {
    "duration": 550,
    "start_time": "2022-03-24T15:09:55.682Z"
   },
   {
    "duration": 1554,
    "start_time": "2022-03-24T15:10:02.043Z"
   },
   {
    "duration": 162,
    "start_time": "2022-03-24T15:10:03.598Z"
   },
   {
    "duration": 187,
    "start_time": "2022-03-24T15:10:03.762Z"
   },
   {
    "duration": 126,
    "start_time": "2022-03-24T15:10:03.951Z"
   },
   {
    "duration": 17,
    "start_time": "2022-03-24T15:10:04.078Z"
   },
   {
    "duration": 57,
    "start_time": "2022-03-24T15:10:04.097Z"
   },
   {
    "duration": 14,
    "start_time": "2022-03-24T15:10:04.156Z"
   },
   {
    "duration": 34,
    "start_time": "2022-03-24T15:10:04.171Z"
   },
   {
    "duration": 37,
    "start_time": "2022-03-24T15:10:04.206Z"
   },
   {
    "duration": 32,
    "start_time": "2022-03-24T15:10:04.246Z"
   },
   {
    "duration": 10,
    "start_time": "2022-03-24T15:10:04.279Z"
   },
   {
    "duration": 60,
    "start_time": "2022-03-24T15:10:04.291Z"
   },
   {
    "duration": 24,
    "start_time": "2022-03-24T15:10:04.353Z"
   },
   {
    "duration": 29,
    "start_time": "2022-03-24T15:10:04.378Z"
   },
   {
    "duration": 37,
    "start_time": "2022-03-24T15:10:04.408Z"
   },
   {
    "duration": 16,
    "start_time": "2022-03-24T15:10:04.447Z"
   },
   {
    "duration": 16,
    "start_time": "2022-03-24T15:10:04.465Z"
   },
   {
    "duration": 924,
    "start_time": "2022-03-24T15:10:04.483Z"
   },
   {
    "duration": 656,
    "start_time": "2022-03-24T15:10:05.409Z"
   },
   {
    "duration": 5,
    "start_time": "2022-03-24T15:10:06.067Z"
   },
   {
    "duration": 20,
    "start_time": "2022-03-24T15:10:06.074Z"
   },
   {
    "duration": 13,
    "start_time": "2022-03-24T15:10:06.095Z"
   },
   {
    "duration": 17,
    "start_time": "2022-03-24T15:10:06.109Z"
   },
   {
    "duration": 14,
    "start_time": "2022-03-24T15:10:06.133Z"
   },
   {
    "duration": 16,
    "start_time": "2022-03-24T15:10:06.149Z"
   },
   {
    "duration": 7,
    "start_time": "2022-03-24T15:10:06.167Z"
   },
   {
    "duration": 13,
    "start_time": "2022-03-24T15:10:06.177Z"
   },
   {
    "duration": 11,
    "start_time": "2022-03-24T15:10:06.195Z"
   },
   {
    "duration": 28,
    "start_time": "2022-03-24T15:10:06.208Z"
   },
   {
    "duration": 15,
    "start_time": "2022-03-24T15:10:06.239Z"
   },
   {
    "duration": 81,
    "start_time": "2022-03-24T15:10:06.256Z"
   },
   {
    "duration": 102,
    "start_time": "2022-03-24T15:10:06.339Z"
   },
   {
    "duration": 93,
    "start_time": "2022-03-24T15:10:06.443Z"
   },
   {
    "duration": 97,
    "start_time": "2022-03-24T15:10:06.538Z"
   },
   {
    "duration": 9,
    "start_time": "2022-03-24T15:10:06.637Z"
   },
   {
    "duration": 95,
    "start_time": "2022-03-24T15:10:06.647Z"
   },
   {
    "duration": 15,
    "start_time": "2022-03-24T15:10:06.744Z"
   },
   {
    "duration": 5,
    "start_time": "2022-03-24T15:10:06.760Z"
   },
   {
    "duration": 17,
    "start_time": "2022-03-24T15:10:06.767Z"
   },
   {
    "duration": 10,
    "start_time": "2022-03-24T15:10:06.786Z"
   },
   {
    "duration": 11,
    "start_time": "2022-03-24T15:10:06.797Z"
   },
   {
    "duration": 26,
    "start_time": "2022-03-24T15:10:06.810Z"
   },
   {
    "duration": 1196,
    "start_time": "2022-03-24T15:10:06.837Z"
   },
   {
    "duration": 1161,
    "start_time": "2022-03-24T15:10:08.034Z"
   },
   {
    "duration": 1155,
    "start_time": "2022-03-24T15:10:09.197Z"
   },
   {
    "duration": 487,
    "start_time": "2022-03-24T15:10:10.355Z"
   },
   {
    "duration": 576,
    "start_time": "2022-03-24T15:11:26.965Z"
   },
   {
    "duration": 4,
    "start_time": "2022-03-24T15:35:27.912Z"
   },
   {
    "duration": 17,
    "start_time": "2022-03-24T15:35:31.550Z"
   },
   {
    "duration": 15,
    "start_time": "2022-03-24T15:35:33.693Z"
   },
   {
    "duration": 15,
    "start_time": "2022-03-24T15:35:35.814Z"
   },
   {
    "duration": 5,
    "start_time": "2022-03-24T15:57:13.914Z"
   },
   {
    "duration": 118,
    "start_time": "2022-03-24T15:57:15.138Z"
   },
   {
    "duration": 6,
    "start_time": "2022-03-24T15:57:28.082Z"
   },
   {
    "duration": 17,
    "start_time": "2022-03-24T15:57:30.498Z"
   },
   {
    "duration": 1450,
    "start_time": "2022-03-24T15:57:41.715Z"
   },
   {
    "duration": 133,
    "start_time": "2022-03-24T15:57:43.167Z"
   },
   {
    "duration": 124,
    "start_time": "2022-03-24T15:57:43.302Z"
   },
   {
    "duration": 125,
    "start_time": "2022-03-24T15:57:43.429Z"
   },
   {
    "duration": 16,
    "start_time": "2022-03-24T15:57:43.556Z"
   },
   {
    "duration": 35,
    "start_time": "2022-03-24T15:57:43.573Z"
   },
   {
    "duration": 35,
    "start_time": "2022-03-24T15:57:43.610Z"
   },
   {
    "duration": 34,
    "start_time": "2022-03-24T15:57:43.646Z"
   },
   {
    "duration": 14,
    "start_time": "2022-03-24T15:57:43.681Z"
   },
   {
    "duration": 62,
    "start_time": "2022-03-24T15:57:43.697Z"
   },
   {
    "duration": 11,
    "start_time": "2022-03-24T15:57:43.761Z"
   },
   {
    "duration": 36,
    "start_time": "2022-03-24T15:57:43.774Z"
   },
   {
    "duration": 40,
    "start_time": "2022-03-24T15:57:43.812Z"
   },
   {
    "duration": 29,
    "start_time": "2022-03-24T15:57:43.853Z"
   },
   {
    "duration": 15,
    "start_time": "2022-03-24T15:57:43.883Z"
   },
   {
    "duration": 35,
    "start_time": "2022-03-24T15:57:43.900Z"
   },
   {
    "duration": 15,
    "start_time": "2022-03-24T15:57:43.937Z"
   },
   {
    "duration": 851,
    "start_time": "2022-03-24T15:57:43.954Z"
   },
   {
    "duration": 656,
    "start_time": "2022-03-24T15:57:44.807Z"
   },
   {
    "duration": 4,
    "start_time": "2022-03-24T15:57:45.465Z"
   },
   {
    "duration": 12,
    "start_time": "2022-03-24T15:57:45.470Z"
   },
   {
    "duration": 12,
    "start_time": "2022-03-24T15:57:45.483Z"
   },
   {
    "duration": 16,
    "start_time": "2022-03-24T15:57:45.496Z"
   },
   {
    "duration": 27,
    "start_time": "2022-03-24T15:57:45.514Z"
   },
   {
    "duration": 13,
    "start_time": "2022-03-24T15:57:45.543Z"
   },
   {
    "duration": 7,
    "start_time": "2022-03-24T15:57:45.558Z"
   },
   {
    "duration": 21,
    "start_time": "2022-03-24T15:57:45.566Z"
   },
   {
    "duration": 8,
    "start_time": "2022-03-24T15:57:45.590Z"
   },
   {
    "duration": 6,
    "start_time": "2022-03-24T15:57:45.600Z"
   },
   {
    "duration": 37,
    "start_time": "2022-03-24T15:57:45.608Z"
   },
   {
    "duration": 188,
    "start_time": "2022-03-24T15:57:45.648Z"
   },
   {
    "duration": 196,
    "start_time": "2022-03-24T15:57:45.838Z"
   },
   {
    "duration": 97,
    "start_time": "2022-03-24T15:57:46.037Z"
   },
   {
    "duration": 8,
    "start_time": "2022-03-24T15:57:46.136Z"
   },
   {
    "duration": 10,
    "start_time": "2022-03-24T15:57:46.145Z"
   },
   {
    "duration": 5,
    "start_time": "2022-03-24T15:57:46.156Z"
   },
   {
    "duration": 9,
    "start_time": "2022-03-24T15:57:46.162Z"
   },
   {
    "duration": 16,
    "start_time": "2022-03-24T15:57:46.173Z"
   },
   {
    "duration": 8,
    "start_time": "2022-03-24T15:57:46.190Z"
   },
   {
    "duration": 7,
    "start_time": "2022-03-24T15:57:46.200Z"
   },
   {
    "duration": 24,
    "start_time": "2022-03-24T15:57:46.209Z"
   },
   {
    "duration": 1201,
    "start_time": "2022-03-24T15:57:46.235Z"
   },
   {
    "duration": 1158,
    "start_time": "2022-03-24T15:57:47.438Z"
   },
   {
    "duration": 1273,
    "start_time": "2022-03-24T15:57:48.598Z"
   },
   {
    "duration": 516,
    "start_time": "2022-03-24T15:57:49.873Z"
   },
   {
    "duration": 3,
    "start_time": "2022-03-24T15:58:14.086Z"
   },
   {
    "duration": 4,
    "start_time": "2022-03-24T16:21:51.967Z"
   },
   {
    "duration": 9,
    "start_time": "2022-03-24T16:21:54.912Z"
   },
   {
    "duration": 8,
    "start_time": "2022-03-24T16:21:56.705Z"
   },
   {
    "duration": 8,
    "start_time": "2022-03-24T16:21:57.849Z"
   },
   {
    "duration": 8,
    "start_time": "2022-03-24T16:22:12.769Z"
   },
   {
    "duration": 10,
    "start_time": "2022-03-24T16:22:25.721Z"
   },
   {
    "duration": 8,
    "start_time": "2022-03-24T16:22:36.648Z"
   },
   {
    "duration": 4,
    "start_time": "2022-03-24T16:31:08.761Z"
   },
   {
    "duration": 9,
    "start_time": "2022-03-24T16:31:09.994Z"
   },
   {
    "duration": 9,
    "start_time": "2022-03-24T16:31:11.337Z"
   },
   {
    "duration": 8,
    "start_time": "2022-03-24T16:31:12.361Z"
   },
   {
    "duration": 5,
    "start_time": "2022-03-24T18:51:37.463Z"
   },
   {
    "duration": 1240,
    "start_time": "2022-03-24T18:51:53.470Z"
   },
   {
    "duration": 5,
    "start_time": "2022-03-24T18:52:04.126Z"
   },
   {
    "duration": 1202,
    "start_time": "2022-03-24T18:52:06.077Z"
   },
   {
    "duration": 1548,
    "start_time": "2022-03-24T18:52:21.533Z"
   },
   {
    "duration": 421,
    "start_time": "2022-03-24T18:52:23.084Z"
   },
   {
    "duration": 126,
    "start_time": "2022-03-24T18:52:23.507Z"
   },
   {
    "duration": 161,
    "start_time": "2022-03-24T18:52:23.635Z"
   },
   {
    "duration": 15,
    "start_time": "2022-03-24T18:52:23.798Z"
   },
   {
    "duration": 53,
    "start_time": "2022-03-24T18:52:23.815Z"
   },
   {
    "duration": 13,
    "start_time": "2022-03-24T18:52:23.870Z"
   },
   {
    "duration": 49,
    "start_time": "2022-03-24T18:52:23.885Z"
   },
   {
    "duration": 13,
    "start_time": "2022-03-24T18:52:23.935Z"
   },
   {
    "duration": 31,
    "start_time": "2022-03-24T18:52:23.950Z"
   },
   {
    "duration": 11,
    "start_time": "2022-03-24T18:52:23.983Z"
   },
   {
    "duration": 71,
    "start_time": "2022-03-24T18:52:23.995Z"
   },
   {
    "duration": 32,
    "start_time": "2022-03-24T18:52:24.069Z"
   },
   {
    "duration": 64,
    "start_time": "2022-03-24T18:52:24.105Z"
   },
   {
    "duration": 23,
    "start_time": "2022-03-24T18:52:24.171Z"
   },
   {
    "duration": 17,
    "start_time": "2022-03-24T18:52:24.196Z"
   },
   {
    "duration": 40,
    "start_time": "2022-03-24T18:52:24.214Z"
   },
   {
    "duration": 899,
    "start_time": "2022-03-24T18:52:24.256Z"
   },
   {
    "duration": 622,
    "start_time": "2022-03-24T18:52:25.156Z"
   },
   {
    "duration": 5,
    "start_time": "2022-03-24T18:52:25.779Z"
   },
   {
    "duration": 8,
    "start_time": "2022-03-24T18:52:25.786Z"
   },
   {
    "duration": 7,
    "start_time": "2022-03-24T18:52:25.795Z"
   },
   {
    "duration": 29,
    "start_time": "2022-03-24T18:52:25.804Z"
   },
   {
    "duration": 12,
    "start_time": "2022-03-24T18:52:25.835Z"
   },
   {
    "duration": 12,
    "start_time": "2022-03-24T18:52:25.849Z"
   },
   {
    "duration": 6,
    "start_time": "2022-03-24T18:52:25.863Z"
   },
   {
    "duration": 9,
    "start_time": "2022-03-24T18:52:25.870Z"
   },
   {
    "duration": 9,
    "start_time": "2022-03-24T18:52:25.881Z"
   },
   {
    "duration": 8,
    "start_time": "2022-03-24T18:52:25.892Z"
   },
   {
    "duration": 48,
    "start_time": "2022-03-24T18:52:25.902Z"
   },
   {
    "duration": 106,
    "start_time": "2022-03-24T18:52:26.034Z"
   },
   {
    "duration": 193,
    "start_time": "2022-03-24T18:52:26.143Z"
   },
   {
    "duration": 96,
    "start_time": "2022-03-24T18:52:26.338Z"
   },
   {
    "duration": 7,
    "start_time": "2022-03-24T18:52:26.435Z"
   },
   {
    "duration": 5,
    "start_time": "2022-03-24T18:52:26.444Z"
   },
   {
    "duration": 7,
    "start_time": "2022-03-24T18:52:26.451Z"
   },
   {
    "duration": 6,
    "start_time": "2022-03-24T18:52:26.460Z"
   },
   {
    "duration": 11,
    "start_time": "2022-03-24T18:52:26.468Z"
   },
   {
    "duration": 9,
    "start_time": "2022-03-24T18:52:26.480Z"
   },
   {
    "duration": 7,
    "start_time": "2022-03-24T18:52:26.491Z"
   },
   {
    "duration": 5,
    "start_time": "2022-03-24T18:52:26.534Z"
   },
   {
    "duration": 1193,
    "start_time": "2022-03-24T18:52:26.541Z"
   },
   {
    "duration": 1198,
    "start_time": "2022-03-24T18:52:27.735Z"
   },
   {
    "duration": 1268,
    "start_time": "2022-03-24T18:52:28.935Z"
   },
   {
    "duration": 430,
    "start_time": "2022-03-24T18:52:30.205Z"
   },
   {
    "duration": 5,
    "start_time": "2022-03-24T18:53:21.971Z"
   },
   {
    "duration": 1146,
    "start_time": "2022-03-24T18:53:23.992Z"
   },
   {
    "duration": 1406,
    "start_time": "2022-03-24T18:53:40.861Z"
   },
   {
    "duration": 143,
    "start_time": "2022-03-24T18:53:42.269Z"
   },
   {
    "duration": 126,
    "start_time": "2022-03-24T18:53:42.413Z"
   },
   {
    "duration": 124,
    "start_time": "2022-03-24T18:53:42.541Z"
   },
   {
    "duration": 14,
    "start_time": "2022-03-24T18:53:42.667Z"
   },
   {
    "duration": 53,
    "start_time": "2022-03-24T18:53:42.683Z"
   },
   {
    "duration": 13,
    "start_time": "2022-03-24T18:53:42.738Z"
   },
   {
    "duration": 33,
    "start_time": "2022-03-24T18:53:42.753Z"
   },
   {
    "duration": 14,
    "start_time": "2022-03-24T18:53:42.788Z"
   },
   {
    "duration": 58,
    "start_time": "2022-03-24T18:53:42.805Z"
   },
   {
    "duration": 10,
    "start_time": "2022-03-24T18:53:42.865Z"
   },
   {
    "duration": 36,
    "start_time": "2022-03-24T18:53:42.877Z"
   },
   {
    "duration": 40,
    "start_time": "2022-03-24T18:53:42.914Z"
   },
   {
    "duration": 29,
    "start_time": "2022-03-24T18:53:42.956Z"
   },
   {
    "duration": 15,
    "start_time": "2022-03-24T18:53:42.987Z"
   },
   {
    "duration": 38,
    "start_time": "2022-03-24T18:53:43.004Z"
   },
   {
    "duration": 16,
    "start_time": "2022-03-24T18:53:43.044Z"
   },
   {
    "duration": 834,
    "start_time": "2022-03-24T18:53:43.062Z"
   },
   {
    "duration": 627,
    "start_time": "2022-03-24T18:53:43.898Z"
   },
   {
    "duration": 9,
    "start_time": "2022-03-24T18:53:44.526Z"
   },
   {
    "duration": 12,
    "start_time": "2022-03-24T18:53:44.536Z"
   },
   {
    "duration": 10,
    "start_time": "2022-03-24T18:53:44.549Z"
   },
   {
    "duration": 15,
    "start_time": "2022-03-24T18:53:44.561Z"
   },
   {
    "duration": 13,
    "start_time": "2022-03-24T18:53:44.578Z"
   },
   {
    "duration": 13,
    "start_time": "2022-03-24T18:53:44.592Z"
   },
   {
    "duration": 27,
    "start_time": "2022-03-24T18:53:44.607Z"
   },
   {
    "duration": 9,
    "start_time": "2022-03-24T18:53:44.635Z"
   },
   {
    "duration": 7,
    "start_time": "2022-03-24T18:53:44.647Z"
   },
   {
    "duration": 7,
    "start_time": "2022-03-24T18:53:44.655Z"
   },
   {
    "duration": 73,
    "start_time": "2022-03-24T18:53:44.664Z"
   },
   {
    "duration": 105,
    "start_time": "2022-03-24T18:53:44.739Z"
   },
   {
    "duration": 191,
    "start_time": "2022-03-24T18:53:44.846Z"
   },
   {
    "duration": 104,
    "start_time": "2022-03-24T18:53:45.039Z"
   },
   {
    "duration": 11,
    "start_time": "2022-03-24T18:53:45.145Z"
   },
   {
    "duration": 3,
    "start_time": "2022-03-24T18:53:45.233Z"
   },
   {
    "duration": 6,
    "start_time": "2022-03-24T18:53:45.238Z"
   },
   {
    "duration": 4,
    "start_time": "2022-03-24T18:53:45.245Z"
   },
   {
    "duration": 14,
    "start_time": "2022-03-24T18:53:45.251Z"
   },
   {
    "duration": 8,
    "start_time": "2022-03-24T18:53:45.267Z"
   },
   {
    "duration": 8,
    "start_time": "2022-03-24T18:53:45.276Z"
   },
   {
    "duration": 4,
    "start_time": "2022-03-24T18:53:45.286Z"
   },
   {
    "duration": 1179,
    "start_time": "2022-03-24T18:53:45.292Z"
   },
   {
    "duration": 1190,
    "start_time": "2022-03-24T18:53:46.473Z"
   },
   {
    "duration": 1213,
    "start_time": "2022-03-24T18:53:47.664Z"
   },
   {
    "duration": 357,
    "start_time": "2022-03-24T18:53:48.878Z"
   },
   {
    "duration": 6,
    "start_time": "2022-03-24T18:54:18.552Z"
   },
   {
    "duration": 1189,
    "start_time": "2022-03-24T18:54:19.937Z"
   },
   {
    "duration": 1151,
    "start_time": "2022-03-24T18:54:23.506Z"
   },
   {
    "duration": 1176,
    "start_time": "2022-03-24T18:54:26.016Z"
   },
   {
    "duration": 6,
    "start_time": "2022-03-24T18:54:28.305Z"
   },
   {
    "duration": 1155,
    "start_time": "2022-03-24T18:54:29.753Z"
   },
   {
    "duration": 1133,
    "start_time": "2022-03-24T18:54:32.367Z"
   },
   {
    "duration": 1169,
    "start_time": "2022-03-24T18:56:25.382Z"
   },
   {
    "duration": 5,
    "start_time": "2022-03-24T18:56:29.694Z"
   },
   {
    "duration": 1919,
    "start_time": "2022-03-24T18:56:31.166Z"
   },
   {
    "duration": 1162,
    "start_time": "2022-03-24T18:56:34.414Z"
   },
   {
    "duration": 1158,
    "start_time": "2022-03-24T18:56:36.806Z"
   },
   {
    "duration": 260,
    "start_time": "2022-03-24T18:57:09.774Z"
   },
   {
    "duration": 272,
    "start_time": "2022-03-24T18:57:20.990Z"
   },
   {
    "duration": 246,
    "start_time": "2022-03-24T18:58:28.541Z"
   },
   {
    "duration": 731,
    "start_time": "2022-03-24T18:58:47.605Z"
   },
   {
    "duration": 586,
    "start_time": "2022-03-24T18:59:09.156Z"
   },
   {
    "duration": 477,
    "start_time": "2022-03-24T18:59:19.516Z"
   },
   {
    "duration": 4,
    "start_time": "2022-03-24T19:03:46.695Z"
   },
   {
    "duration": 66,
    "start_time": "2022-03-24T19:03:58.271Z"
   },
   {
    "duration": 4,
    "start_time": "2022-03-24T19:04:43.886Z"
   },
   {
    "duration": 46,
    "start_time": "2022-03-24T19:04:45.796Z"
   },
   {
    "duration": 13,
    "start_time": "2022-03-24T19:04:54.029Z"
   },
   {
    "duration": 1499,
    "start_time": "2022-03-24T19:04:58.838Z"
   },
   {
    "duration": 138,
    "start_time": "2022-03-24T19:05:00.339Z"
   },
   {
    "duration": 126,
    "start_time": "2022-03-24T19:05:00.479Z"
   },
   {
    "duration": 133,
    "start_time": "2022-03-24T19:05:00.606Z"
   },
   {
    "duration": 14,
    "start_time": "2022-03-24T19:05:00.741Z"
   },
   {
    "duration": 57,
    "start_time": "2022-03-24T19:05:00.757Z"
   },
   {
    "duration": 23,
    "start_time": "2022-03-24T19:05:00.816Z"
   },
   {
    "duration": 59,
    "start_time": "2022-03-24T19:05:00.840Z"
   },
   {
    "duration": 15,
    "start_time": "2022-03-24T19:05:00.900Z"
   },
   {
    "duration": 73,
    "start_time": "2022-03-24T19:05:00.916Z"
   },
   {
    "duration": 11,
    "start_time": "2022-03-24T19:05:00.991Z"
   },
   {
    "duration": 66,
    "start_time": "2022-03-24T19:05:01.004Z"
   },
   {
    "duration": 24,
    "start_time": "2022-03-24T19:05:01.072Z"
   },
   {
    "duration": 43,
    "start_time": "2022-03-24T19:05:01.099Z"
   },
   {
    "duration": 17,
    "start_time": "2022-03-24T19:05:01.143Z"
   },
   {
    "duration": 25,
    "start_time": "2022-03-24T19:05:01.161Z"
   },
   {
    "duration": 16,
    "start_time": "2022-03-24T19:05:01.188Z"
   },
   {
    "duration": 831,
    "start_time": "2022-03-24T19:05:01.206Z"
   },
   {
    "duration": 634,
    "start_time": "2022-03-24T19:05:02.039Z"
   },
   {
    "duration": 5,
    "start_time": "2022-03-24T19:05:02.675Z"
   },
   {
    "duration": 18,
    "start_time": "2022-03-24T19:05:02.681Z"
   },
   {
    "duration": 15,
    "start_time": "2022-03-24T19:05:02.702Z"
   },
   {
    "duration": 29,
    "start_time": "2022-03-24T19:05:02.718Z"
   },
   {
    "duration": 13,
    "start_time": "2022-03-24T19:05:02.748Z"
   },
   {
    "duration": 12,
    "start_time": "2022-03-24T19:05:02.763Z"
   },
   {
    "duration": 13,
    "start_time": "2022-03-24T19:05:02.776Z"
   },
   {
    "duration": 19,
    "start_time": "2022-03-24T19:05:02.790Z"
   },
   {
    "duration": 23,
    "start_time": "2022-03-24T19:05:02.811Z"
   },
   {
    "duration": 15,
    "start_time": "2022-03-24T19:05:02.836Z"
   },
   {
    "duration": 82,
    "start_time": "2022-03-24T19:05:02.852Z"
   },
   {
    "duration": 109,
    "start_time": "2022-03-24T19:05:02.935Z"
   },
   {
    "duration": 191,
    "start_time": "2022-03-24T19:05:03.047Z"
   },
   {
    "duration": 93,
    "start_time": "2022-03-24T19:05:03.241Z"
   },
   {
    "duration": 106,
    "start_time": "2022-03-24T19:05:03.336Z"
   },
   {
    "duration": 27,
    "start_time": "2022-03-24T19:05:03.444Z"
   },
   {
    "duration": 15,
    "start_time": "2022-03-24T19:05:03.473Z"
   },
   {
    "duration": 57,
    "start_time": "2022-03-24T19:05:03.489Z"
   },
   {
    "duration": 22,
    "start_time": "2022-03-24T19:05:03.548Z"
   },
   {
    "duration": 10,
    "start_time": "2022-03-24T19:05:03.572Z"
   },
   {
    "duration": 19,
    "start_time": "2022-03-24T19:05:03.583Z"
   },
   {
    "duration": 6,
    "start_time": "2022-03-24T19:05:03.606Z"
   },
   {
    "duration": 1363,
    "start_time": "2022-03-24T19:05:03.614Z"
   },
   {
    "duration": 1170,
    "start_time": "2022-03-24T19:05:04.979Z"
   },
   {
    "duration": 1242,
    "start_time": "2022-03-24T19:05:06.151Z"
   },
   {
    "duration": 541,
    "start_time": "2022-03-24T19:05:07.394Z"
   },
   {
    "duration": 5,
    "start_time": "2022-03-24T19:07:30.272Z"
   },
   {
    "duration": 1197,
    "start_time": "2022-03-24T19:07:31.736Z"
   },
   {
    "duration": 1203,
    "start_time": "2022-03-24T19:07:34.462Z"
   },
   {
    "duration": 1213,
    "start_time": "2022-03-24T19:07:36.926Z"
   },
   {
    "duration": 152,
    "start_time": "2022-03-24T19:17:37.559Z"
   },
   {
    "duration": 471,
    "start_time": "2022-03-24T19:17:52.566Z"
   },
   {
    "duration": 266,
    "start_time": "2022-03-24T19:19:19.092Z"
   },
   {
    "duration": 260,
    "start_time": "2022-03-24T19:19:30.948Z"
   },
   {
    "duration": 413,
    "start_time": "2022-03-24T19:20:17.196Z"
   },
   {
    "duration": 302,
    "start_time": "2022-03-24T19:20:21.970Z"
   },
   {
    "duration": 383,
    "start_time": "2022-03-24T19:22:00.024Z"
   },
   {
    "duration": 372,
    "start_time": "2022-03-24T19:22:08.930Z"
   },
   {
    "duration": 366,
    "start_time": "2022-03-24T19:22:38.625Z"
   },
   {
    "duration": 386,
    "start_time": "2022-03-24T19:26:01.477Z"
   },
   {
    "duration": 470,
    "start_time": "2022-03-24T19:26:52.300Z"
   },
   {
    "duration": 356,
    "start_time": "2022-03-24T19:27:26.772Z"
   },
   {
    "duration": 370,
    "start_time": "2022-03-24T19:28:11.269Z"
   },
   {
    "duration": 448,
    "start_time": "2022-03-24T19:28:36.948Z"
   },
   {
    "duration": 510,
    "start_time": "2022-03-24T19:29:00.530Z"
   },
   {
    "duration": 383,
    "start_time": "2022-03-24T19:29:50.098Z"
   },
   {
    "duration": 459,
    "start_time": "2022-03-24T19:29:56.226Z"
   },
   {
    "duration": 2002,
    "start_time": "2022-03-24T20:50:09.649Z"
   },
   {
    "duration": 200,
    "start_time": "2022-03-24T20:50:11.654Z"
   },
   {
    "duration": 126,
    "start_time": "2022-03-24T20:50:11.856Z"
   },
   {
    "duration": 197,
    "start_time": "2022-03-24T20:50:11.985Z"
   },
   {
    "duration": 23,
    "start_time": "2022-03-24T20:50:12.185Z"
   },
   {
    "duration": 63,
    "start_time": "2022-03-24T20:50:12.211Z"
   },
   {
    "duration": 22,
    "start_time": "2022-03-24T20:50:12.276Z"
   },
   {
    "duration": 58,
    "start_time": "2022-03-24T20:50:12.300Z"
   },
   {
    "duration": 14,
    "start_time": "2022-03-24T20:50:12.360Z"
   },
   {
    "duration": 33,
    "start_time": "2022-03-24T20:50:12.377Z"
   },
   {
    "duration": 32,
    "start_time": "2022-03-24T20:50:12.411Z"
   },
   {
    "duration": 36,
    "start_time": "2022-03-24T20:50:12.445Z"
   },
   {
    "duration": 25,
    "start_time": "2022-03-24T20:50:12.482Z"
   },
   {
    "duration": 31,
    "start_time": "2022-03-24T20:50:12.533Z"
   },
   {
    "duration": 17,
    "start_time": "2022-03-24T20:50:12.566Z"
   },
   {
    "duration": 16,
    "start_time": "2022-03-24T20:50:12.585Z"
   },
   {
    "duration": 18,
    "start_time": "2022-03-24T20:50:12.633Z"
   },
   {
    "duration": 918,
    "start_time": "2022-03-24T20:50:12.653Z"
   },
   {
    "duration": 664,
    "start_time": "2022-03-24T20:50:13.572Z"
   },
   {
    "duration": 6,
    "start_time": "2022-03-24T20:50:14.238Z"
   },
   {
    "duration": 9,
    "start_time": "2022-03-24T20:50:14.246Z"
   },
   {
    "duration": 8,
    "start_time": "2022-03-24T20:50:14.256Z"
   },
   {
    "duration": 17,
    "start_time": "2022-03-24T20:50:14.266Z"
   },
   {
    "duration": 47,
    "start_time": "2022-03-24T20:50:14.286Z"
   },
   {
    "duration": 17,
    "start_time": "2022-03-24T20:50:14.336Z"
   },
   {
    "duration": 8,
    "start_time": "2022-03-24T20:50:14.356Z"
   },
   {
    "duration": 12,
    "start_time": "2022-03-24T20:50:14.365Z"
   },
   {
    "duration": 9,
    "start_time": "2022-03-24T20:50:14.382Z"
   },
   {
    "duration": 6,
    "start_time": "2022-03-24T20:50:14.394Z"
   },
   {
    "duration": 108,
    "start_time": "2022-03-24T20:50:14.433Z"
   },
   {
    "duration": 96,
    "start_time": "2022-03-24T20:50:14.544Z"
   },
   {
    "duration": 96,
    "start_time": "2022-03-24T20:50:14.642Z"
   },
   {
    "duration": 9,
    "start_time": "2022-03-24T20:50:14.740Z"
   },
   {
    "duration": 185,
    "start_time": "2022-03-24T20:50:14.752Z"
   },
   {
    "duration": 4,
    "start_time": "2022-03-24T20:50:14.954Z"
   },
   {
    "duration": 12,
    "start_time": "2022-03-24T20:50:14.960Z"
   },
   {
    "duration": 7,
    "start_time": "2022-03-24T20:50:14.975Z"
   },
   {
    "duration": 10,
    "start_time": "2022-03-24T20:50:14.984Z"
   },
   {
    "duration": 16,
    "start_time": "2022-03-24T20:50:14.997Z"
   },
   {
    "duration": 25,
    "start_time": "2022-03-24T20:50:15.016Z"
   },
   {
    "duration": 8,
    "start_time": "2022-03-24T20:50:15.044Z"
   },
   {
    "duration": 2052,
    "start_time": "2022-03-24T20:50:15.054Z"
   },
   {
    "duration": 503,
    "start_time": "2022-03-24T20:50:17.108Z"
   },
   {
    "duration": 1942,
    "start_time": "2022-03-24T20:50:17.613Z"
   },
   {
    "duration": 501,
    "start_time": "2022-03-24T20:50:19.558Z"
   },
   {
    "duration": 2018,
    "start_time": "2022-03-24T20:50:20.061Z"
   },
   {
    "duration": 490,
    "start_time": "2022-03-24T20:50:22.082Z"
   },
   {
    "duration": 1504,
    "start_time": "2022-03-24T20:55:26.598Z"
   },
   {
    "duration": 143,
    "start_time": "2022-03-24T20:55:28.104Z"
   },
   {
    "duration": 137,
    "start_time": "2022-03-24T20:55:28.252Z"
   },
   {
    "duration": 132,
    "start_time": "2022-03-24T20:55:28.390Z"
   },
   {
    "duration": 21,
    "start_time": "2022-03-24T20:55:28.524Z"
   },
   {
    "duration": 47,
    "start_time": "2022-03-24T20:55:28.547Z"
   },
   {
    "duration": 39,
    "start_time": "2022-03-24T20:55:28.596Z"
   },
   {
    "duration": 37,
    "start_time": "2022-03-24T20:55:28.636Z"
   },
   {
    "duration": 15,
    "start_time": "2022-03-24T20:55:28.675Z"
   },
   {
    "duration": 55,
    "start_time": "2022-03-24T20:55:28.691Z"
   },
   {
    "duration": 12,
    "start_time": "2022-03-24T20:55:28.748Z"
   },
   {
    "duration": 38,
    "start_time": "2022-03-24T20:55:28.762Z"
   },
   {
    "duration": 47,
    "start_time": "2022-03-24T20:55:28.802Z"
   },
   {
    "duration": 30,
    "start_time": "2022-03-24T20:55:28.851Z"
   },
   {
    "duration": 17,
    "start_time": "2022-03-24T20:55:28.883Z"
   },
   {
    "duration": 40,
    "start_time": "2022-03-24T20:55:28.902Z"
   },
   {
    "duration": 16,
    "start_time": "2022-03-24T20:55:28.944Z"
   },
   {
    "duration": 892,
    "start_time": "2022-03-24T20:55:28.962Z"
   },
   {
    "duration": 666,
    "start_time": "2022-03-24T20:55:29.856Z"
   },
   {
    "duration": 10,
    "start_time": "2022-03-24T20:55:30.524Z"
   },
   {
    "duration": 17,
    "start_time": "2022-03-24T20:55:30.536Z"
   },
   {
    "duration": 24,
    "start_time": "2022-03-24T20:55:30.555Z"
   },
   {
    "duration": 27,
    "start_time": "2022-03-24T20:55:30.581Z"
   },
   {
    "duration": 15,
    "start_time": "2022-03-24T20:55:30.609Z"
   },
   {
    "duration": 14,
    "start_time": "2022-03-24T20:55:30.625Z"
   },
   {
    "duration": 8,
    "start_time": "2022-03-24T20:55:30.641Z"
   },
   {
    "duration": 20,
    "start_time": "2022-03-24T20:55:30.653Z"
   },
   {
    "duration": 17,
    "start_time": "2022-03-24T20:55:30.675Z"
   },
   {
    "duration": 11,
    "start_time": "2022-03-24T20:55:30.694Z"
   },
   {
    "duration": 35,
    "start_time": "2022-03-24T20:55:30.707Z"
   },
   {
    "duration": 110,
    "start_time": "2022-03-24T20:55:30.832Z"
   },
   {
    "duration": 197,
    "start_time": "2022-03-24T20:55:30.947Z"
   },
   {
    "duration": 98,
    "start_time": "2022-03-24T20:55:31.147Z"
   },
   {
    "duration": 88,
    "start_time": "2022-03-24T20:55:31.249Z"
   },
   {
    "duration": 10,
    "start_time": "2022-03-24T20:55:31.338Z"
   },
   {
    "duration": 9,
    "start_time": "2022-03-24T20:55:31.350Z"
   },
   {
    "duration": 10,
    "start_time": "2022-03-24T20:55:31.361Z"
   },
   {
    "duration": 17,
    "start_time": "2022-03-24T20:55:31.373Z"
   },
   {
    "duration": 11,
    "start_time": "2022-03-24T20:55:31.391Z"
   },
   {
    "duration": 9,
    "start_time": "2022-03-24T20:55:31.403Z"
   },
   {
    "duration": 6,
    "start_time": "2022-03-24T20:55:31.432Z"
   },
   {
    "duration": 1202,
    "start_time": "2022-03-24T20:55:31.440Z"
   },
   {
    "duration": 327,
    "start_time": "2022-03-24T20:55:32.644Z"
   },
   {
    "duration": 1246,
    "start_time": "2022-03-24T20:55:32.973Z"
   },
   {
    "duration": 346,
    "start_time": "2022-03-24T20:55:34.220Z"
   },
   {
    "duration": 1223,
    "start_time": "2022-03-24T20:55:34.567Z"
   },
   {
    "duration": 357,
    "start_time": "2022-03-24T20:55:35.792Z"
   },
   {
    "duration": 10,
    "start_time": "2022-03-25T05:03:15.120Z"
   },
   {
    "duration": 2519,
    "start_time": "2022-03-25T05:05:46.754Z"
   },
   {
    "duration": 168,
    "start_time": "2022-03-25T05:05:49.276Z"
   },
   {
    "duration": 156,
    "start_time": "2022-03-25T05:05:49.446Z"
   },
   {
    "duration": 162,
    "start_time": "2022-03-25T05:05:49.606Z"
   },
   {
    "duration": 21,
    "start_time": "2022-03-25T05:05:49.771Z"
   },
   {
    "duration": 73,
    "start_time": "2022-03-25T05:05:49.794Z"
   },
   {
    "duration": 19,
    "start_time": "2022-03-25T05:05:49.870Z"
   },
   {
    "duration": 45,
    "start_time": "2022-03-25T05:05:49.892Z"
   },
   {
    "duration": 20,
    "start_time": "2022-03-25T05:05:49.968Z"
   },
   {
    "duration": 41,
    "start_time": "2022-03-25T05:05:49.993Z"
   },
   {
    "duration": 32,
    "start_time": "2022-03-25T05:05:50.036Z"
   },
   {
    "duration": 57,
    "start_time": "2022-03-25T05:05:50.071Z"
   },
   {
    "duration": 65,
    "start_time": "2022-03-25T05:05:50.130Z"
   },
   {
    "duration": 50,
    "start_time": "2022-03-25T05:05:50.197Z"
   },
   {
    "duration": 38,
    "start_time": "2022-03-25T05:05:50.249Z"
   },
   {
    "duration": 22,
    "start_time": "2022-03-25T05:05:50.290Z"
   },
   {
    "duration": 54,
    "start_time": "2022-03-25T05:05:50.314Z"
   },
   {
    "duration": 1366,
    "start_time": "2022-03-25T05:05:50.371Z"
   },
   {
    "duration": 1081,
    "start_time": "2022-03-25T05:05:51.740Z"
   },
   {
    "duration": 6,
    "start_time": "2022-03-25T05:05:52.823Z"
   },
   {
    "duration": 10,
    "start_time": "2022-03-25T05:05:52.832Z"
   },
   {
    "duration": 25,
    "start_time": "2022-03-25T05:05:52.844Z"
   },
   {
    "duration": 19,
    "start_time": "2022-03-25T05:05:52.871Z"
   },
   {
    "duration": 15,
    "start_time": "2022-03-25T05:05:52.892Z"
   },
   {
    "duration": 18,
    "start_time": "2022-03-25T05:05:52.909Z"
   },
   {
    "duration": 46,
    "start_time": "2022-03-25T05:05:52.929Z"
   },
   {
    "duration": 18,
    "start_time": "2022-03-25T05:05:52.977Z"
   },
   {
    "duration": 14,
    "start_time": "2022-03-25T05:05:53.002Z"
   },
   {
    "duration": 16,
    "start_time": "2022-03-25T05:05:53.018Z"
   },
   {
    "duration": 42,
    "start_time": "2022-03-25T05:05:53.036Z"
   },
   {
    "duration": 117,
    "start_time": "2022-03-25T05:05:53.169Z"
   },
   {
    "duration": 193,
    "start_time": "2022-03-25T05:05:53.290Z"
   },
   {
    "duration": 80,
    "start_time": "2022-03-25T05:05:53.490Z"
   },
   {
    "duration": 96,
    "start_time": "2022-03-25T05:05:53.573Z"
   },
   {
    "duration": 14,
    "start_time": "2022-03-25T05:05:53.672Z"
   },
   {
    "duration": 26,
    "start_time": "2022-03-25T05:05:53.688Z"
   },
   {
    "duration": 14,
    "start_time": "2022-03-25T05:05:53.717Z"
   },
   {
    "duration": 26,
    "start_time": "2022-03-25T05:05:53.733Z"
   },
   {
    "duration": 10,
    "start_time": "2022-03-25T05:05:53.762Z"
   },
   {
    "duration": 12,
    "start_time": "2022-03-25T05:05:53.774Z"
   },
   {
    "duration": 7,
    "start_time": "2022-03-25T05:05:53.789Z"
   },
   {
    "duration": 2013,
    "start_time": "2022-03-25T05:05:53.798Z"
   },
   {
    "duration": 551,
    "start_time": "2022-03-25T05:05:55.813Z"
   },
   {
    "duration": 2001,
    "start_time": "2022-03-25T05:05:56.368Z"
   },
   {
    "duration": 560,
    "start_time": "2022-03-25T05:05:58.372Z"
   },
   {
    "duration": 3662,
    "start_time": "2022-03-25T05:05:58.934Z"
   },
   {
    "duration": 1290,
    "start_time": "2022-03-25T05:06:02.600Z"
   },
   {
    "duration": 1978,
    "start_time": "2022-03-25T05:07:08.138Z"
   },
   {
    "duration": 175,
    "start_time": "2022-03-25T05:07:10.120Z"
   },
   {
    "duration": 158,
    "start_time": "2022-03-25T05:07:10.298Z"
   },
   {
    "duration": 161,
    "start_time": "2022-03-25T05:07:10.459Z"
   },
   {
    "duration": 22,
    "start_time": "2022-03-25T05:07:10.624Z"
   },
   {
    "duration": 66,
    "start_time": "2022-03-25T05:07:10.647Z"
   },
   {
    "duration": 19,
    "start_time": "2022-03-25T05:07:10.715Z"
   },
   {
    "duration": 70,
    "start_time": "2022-03-25T05:07:10.736Z"
   },
   {
    "duration": 20,
    "start_time": "2022-03-25T05:07:10.808Z"
   },
   {
    "duration": 73,
    "start_time": "2022-03-25T05:07:10.831Z"
   },
   {
    "duration": 14,
    "start_time": "2022-03-25T05:07:10.906Z"
   },
   {
    "duration": 88,
    "start_time": "2022-03-25T05:07:10.922Z"
   },
   {
    "duration": 40,
    "start_time": "2022-03-25T05:07:11.012Z"
   },
   {
    "duration": 54,
    "start_time": "2022-03-25T05:07:11.071Z"
   },
   {
    "duration": 42,
    "start_time": "2022-03-25T05:07:11.127Z"
   },
   {
    "duration": 21,
    "start_time": "2022-03-25T05:07:11.171Z"
   },
   {
    "duration": 22,
    "start_time": "2022-03-25T05:07:11.194Z"
   },
   {
    "duration": 1327,
    "start_time": "2022-03-25T05:07:11.218Z"
   },
   {
    "duration": 1040,
    "start_time": "2022-03-25T05:07:12.547Z"
   },
   {
    "duration": 8,
    "start_time": "2022-03-25T05:07:13.589Z"
   },
   {
    "duration": 9,
    "start_time": "2022-03-25T05:07:13.599Z"
   },
   {
    "duration": 10,
    "start_time": "2022-03-25T05:07:13.610Z"
   },
   {
    "duration": 47,
    "start_time": "2022-03-25T05:07:13.623Z"
   },
   {
    "duration": 18,
    "start_time": "2022-03-25T05:07:13.672Z"
   },
   {
    "duration": 17,
    "start_time": "2022-03-25T05:07:13.692Z"
   },
   {
    "duration": 9,
    "start_time": "2022-03-25T05:07:13.712Z"
   },
   {
    "duration": 47,
    "start_time": "2022-03-25T05:07:13.723Z"
   },
   {
    "duration": 19,
    "start_time": "2022-03-25T05:07:13.773Z"
   },
   {
    "duration": 6,
    "start_time": "2022-03-25T05:07:13.795Z"
   },
   {
    "duration": 73,
    "start_time": "2022-03-25T05:07:13.804Z"
   },
   {
    "duration": 103,
    "start_time": "2022-03-25T05:07:13.881Z"
   },
   {
    "duration": 282,
    "start_time": "2022-03-25T05:07:13.987Z"
   },
   {
    "duration": 5,
    "start_time": "2022-03-25T05:07:14.272Z"
   },
   {
    "duration": 7,
    "start_time": "2022-03-25T05:07:14.368Z"
   },
   {
    "duration": 5,
    "start_time": "2022-03-25T05:07:14.377Z"
   },
   {
    "duration": 7,
    "start_time": "2022-03-25T05:07:14.384Z"
   },
   {
    "duration": 7,
    "start_time": "2022-03-25T05:07:14.393Z"
   },
   {
    "duration": 12,
    "start_time": "2022-03-25T05:07:14.402Z"
   },
   {
    "duration": 11,
    "start_time": "2022-03-25T05:07:14.467Z"
   },
   {
    "duration": 12,
    "start_time": "2022-03-25T05:07:14.480Z"
   },
   {
    "duration": 8,
    "start_time": "2022-03-25T05:07:14.497Z"
   },
   {
    "duration": 1950,
    "start_time": "2022-03-25T05:07:14.507Z"
   },
   {
    "duration": 542,
    "start_time": "2022-03-25T05:07:16.459Z"
   },
   {
    "duration": 3213,
    "start_time": "2022-03-25T05:07:17.003Z"
   },
   {
    "duration": 512,
    "start_time": "2022-03-25T05:07:20.218Z"
   },
   {
    "duration": 1874,
    "start_time": "2022-03-25T05:07:20.732Z"
   },
   {
    "duration": 533,
    "start_time": "2022-03-25T05:07:22.608Z"
   },
   {
    "duration": 2093,
    "start_time": "2022-03-25T05:10:41.768Z"
   },
   {
    "duration": 165,
    "start_time": "2022-03-25T05:10:43.864Z"
   },
   {
    "duration": 158,
    "start_time": "2022-03-25T05:10:44.032Z"
   },
   {
    "duration": 162,
    "start_time": "2022-03-25T05:10:44.195Z"
   },
   {
    "duration": 25,
    "start_time": "2022-03-25T05:10:44.359Z"
   },
   {
    "duration": 47,
    "start_time": "2022-03-25T05:10:44.386Z"
   },
   {
    "duration": 44,
    "start_time": "2022-03-25T05:10:44.435Z"
   },
   {
    "duration": 44,
    "start_time": "2022-03-25T05:10:44.481Z"
   },
   {
    "duration": 47,
    "start_time": "2022-03-25T05:10:44.527Z"
   },
   {
    "duration": 44,
    "start_time": "2022-03-25T05:10:44.578Z"
   },
   {
    "duration": 13,
    "start_time": "2022-03-25T05:10:44.624Z"
   },
   {
    "duration": 84,
    "start_time": "2022-03-25T05:10:44.640Z"
   },
   {
    "duration": 50,
    "start_time": "2022-03-25T05:10:44.727Z"
   },
   {
    "duration": 61,
    "start_time": "2022-03-25T05:10:44.780Z"
   },
   {
    "duration": 45,
    "start_time": "2022-03-25T05:10:44.844Z"
   },
   {
    "duration": 22,
    "start_time": "2022-03-25T05:10:44.891Z"
   },
   {
    "duration": 24,
    "start_time": "2022-03-25T05:10:44.916Z"
   },
   {
    "duration": 1864,
    "start_time": "2022-03-25T05:10:44.968Z"
   },
   {
    "duration": 1538,
    "start_time": "2022-03-25T05:10:46.835Z"
   },
   {
    "duration": 7,
    "start_time": "2022-03-25T05:10:48.376Z"
   },
   {
    "duration": 12,
    "start_time": "2022-03-25T05:10:48.386Z"
   },
   {
    "duration": 13,
    "start_time": "2022-03-25T05:10:48.401Z"
   },
   {
    "duration": 20,
    "start_time": "2022-03-25T05:10:48.417Z"
   },
   {
    "duration": 46,
    "start_time": "2022-03-25T05:10:48.439Z"
   },
   {
    "duration": 19,
    "start_time": "2022-03-25T05:10:48.488Z"
   },
   {
    "duration": 9,
    "start_time": "2022-03-25T05:10:48.509Z"
   },
   {
    "duration": 47,
    "start_time": "2022-03-25T05:10:48.520Z"
   },
   {
    "duration": 9,
    "start_time": "2022-03-25T05:10:48.573Z"
   },
   {
    "duration": 7,
    "start_time": "2022-03-25T05:10:48.584Z"
   },
   {
    "duration": 79,
    "start_time": "2022-03-25T05:10:48.594Z"
   },
   {
    "duration": 102,
    "start_time": "2022-03-25T05:10:48.677Z"
   },
   {
    "duration": 290,
    "start_time": "2022-03-25T05:10:48.782Z"
   },
   {
    "duration": 94,
    "start_time": "2022-03-25T05:10:49.076Z"
   },
   {
    "duration": 5,
    "start_time": "2022-03-25T05:10:49.173Z"
   },
   {
    "duration": 6,
    "start_time": "2022-03-25T05:10:49.180Z"
   },
   {
    "duration": 9,
    "start_time": "2022-03-25T05:10:49.188Z"
   },
   {
    "duration": 9,
    "start_time": "2022-03-25T05:10:49.199Z"
   },
   {
    "duration": 60,
    "start_time": "2022-03-25T05:10:49.211Z"
   },
   {
    "duration": 10,
    "start_time": "2022-03-25T05:10:49.274Z"
   },
   {
    "duration": 11,
    "start_time": "2022-03-25T05:10:49.286Z"
   },
   {
    "duration": 7,
    "start_time": "2022-03-25T05:10:49.299Z"
   },
   {
    "duration": 1874,
    "start_time": "2022-03-25T05:10:49.309Z"
   },
   {
    "duration": 514,
    "start_time": "2022-03-25T05:10:51.185Z"
   },
   {
    "duration": 1829,
    "start_time": "2022-03-25T05:10:51.703Z"
   },
   {
    "duration": 513,
    "start_time": "2022-03-25T05:10:53.535Z"
   },
   {
    "duration": 1932,
    "start_time": "2022-03-25T05:10:54.051Z"
   },
   {
    "duration": 513,
    "start_time": "2022-03-25T05:10:55.985Z"
   }
  ],
  "kernelspec": {
   "display_name": "Python 3 (ipykernel)",
   "language": "python",
   "name": "python3"
  },
  "language_info": {
   "codemirror_mode": {
    "name": "ipython",
    "version": 3
   },
   "file_extension": ".py",
   "mimetype": "text/x-python",
   "name": "python",
   "nbconvert_exporter": "python",
   "pygments_lexer": "ipython3",
   "version": "3.9.12"
  },
  "toc": {
   "base_numbering": 1,
   "nav_menu": {},
   "number_sections": true,
   "sideBar": true,
   "skip_h1_title": true,
   "title_cell": "Table of Contents",
   "title_sidebar": "Contents",
   "toc_cell": false,
   "toc_position": {
    "height": "calc(100% - 180px)",
    "left": "10px",
    "top": "150px",
    "width": "366.391px"
   },
   "toc_section_display": true,
   "toc_window_display": true
  }
 },
 "nbformat": 4,
 "nbformat_minor": 2
}
